{
 "cells": [
  {
   "cell_type": "code",
   "execution_count": 1,
   "id": "136a0079",
   "metadata": {},
   "outputs": [],
   "source": [
    "import struct\n",
    "import numpy as np\n",
    "import umap\n",
    "import plotly.graph_objects as go\n",
    "import plotly as px"
   ]
  },
  {
   "cell_type": "code",
   "execution_count": 2,
   "id": "0db8952f",
   "metadata": {},
   "outputs": [],
   "source": [
    "def read_clustered_data(filename):\n",
    "    with open(filename, \"rb\") as f:\n",
    "        n_clusters = struct.unpack(\"I\", f.read(4))[0]\n",
    "        n_points = struct.unpack(\"I\", f.read(4))[0]\n",
    "        n_dim = struct.unpack(\"I\", f.read(4))[0]\n",
    "\n",
    "        # --- Read centroids ---\n",
    "        centroid_data = np.zeros((n_clusters, n_dim), dtype=np.float32)\n",
    "        centroid_ids = np.zeros(n_clusters, dtype=np.int32)\n",
    "        for i in range(n_clusters):\n",
    "            centroid_data[i] = np.frombuffer(f.read(4 * n_dim), dtype=np.float32)\n",
    "            centroid_ids[i] = struct.unpack(\"i\", f.read(4))[0]\n",
    "\n",
    "        # --- Read points ---\n",
    "        point_data = np.zeros((n_points, n_dim), dtype=np.float32)\n",
    "        point_cluster_ids = np.zeros(n_points, dtype=np.int32)\n",
    "        for i in range(n_points):\n",
    "            point_data[i] = np.frombuffer(f.read(4 * n_dim), dtype=np.float32)\n",
    "            point_cluster_ids[i] = struct.unpack(\"i\", f.read(4))[0]\n",
    "\n",
    "        # DEBUG\n",
    "        print(\"n_clusters:\", n_clusters)\n",
    "        print(\"n_points:\", n_points)\n",
    "        print(\"n_dim:\", n_dim)\n",
    "        print(\"point_data shape:\", point_data.shape)\n",
    "        print(\"centroid_data shape:\", centroid_data.shape)\n",
    "\n",
    "    return point_data, point_cluster_ids, centroid_data, centroid_ids, n_dim"
   ]
  },
  {
   "cell_type": "code",
   "execution_count": 3,
   "id": "4d29fe23",
   "metadata": {},
   "outputs": [
    {
     "name": "stdout",
     "output_type": "stream",
     "text": [
      "n_clusters: 4\n",
      "n_points: 200\n",
      "n_dim: 3\n",
      "point_data shape: (200, 3)\n",
      "centroid_data shape: (4, 3)\n"
     ]
    }
   ],
   "source": [
    "filename = \"clustered_data\"\n",
    "point_data, point_cluster_ids, centroids, centroid_ids, n_dim = read_clustered_data(filename)"
   ]
  },
  {
   "cell_type": "code",
   "execution_count": 4,
   "id": "666168cf",
   "metadata": {},
   "outputs": [
    {
     "name": "stderr",
     "output_type": "stream",
     "text": [
      "/home/bernat/Documents/CAP_Practica1/CAP-prac1/.venv/lib/python3.11/site-packages/sklearn/utils/deprecation.py:151: FutureWarning: 'force_all_finite' was renamed to 'ensure_all_finite' in 1.6 and will be removed in 1.8.\n",
      "  warnings.warn(\n",
      "/home/bernat/Documents/CAP_Practica1/CAP-prac1/.venv/lib/python3.11/site-packages/sklearn/utils/deprecation.py:151: FutureWarning: 'force_all_finite' was renamed to 'ensure_all_finite' in 1.6 and will be removed in 1.8.\n",
      "  warnings.warn(\n"
     ]
    }
   ],
   "source": [
    "reducer = umap.UMAP(n_components=3)\n",
    "points_3d = reducer.fit_transform(point_data)\n",
    "centroids_3d = reducer.transform(centroids)"
   ]
  },
  {
   "cell_type": "code",
   "execution_count": 5,
   "id": "4ede4c8e",
   "metadata": {},
   "outputs": [
    {
     "data": {
      "application/vnd.plotly.v1+json": {
       "config": {
        "plotlyServerURL": "https://plot.ly"
       },
       "data": [
        {
         "marker": {
          "color": "#636EFA",
          "opacity": 0.5,
          "size": 3
         },
         "mode": "markers",
         "name": "p - C0",
         "showlegend": false,
         "type": "scatter3d",
         "x": {
          "bdata": "sqCeQeyankGuQJ1BRB2aQZTknEFYBaBBt3OaQWOeoEERnp5BV8CbQRPYnkEdS5xBfeubQVsenUGHpplBueqdQZXmnUGLXaRBJFaeQWwzmkEULJ1BepidQX9ao0HhcZhBMmGcQS2CnEFh+JxBp9SjQRINnUHSDJ1B5gmbQfcPnEF706NBTMueQZX6nUEtT5tBM+KgQdFcnkGmi5lBMIycQRzMl0EXBJxBrB2hQSaCokG3g5hBOAOgQTB4mUFNsJtBMEeZQUPmoEE=",
          "dtype": "f4"
         },
         "y": {
          "bdata": "GdnCP5C2pj8/F6g+mDooP7TR2z7u1Kc/f56IP4fBoj/FUL8/QNyfPwmSZD8l588/1xR5Pnfnvz9oOFU/9Q+9P6nTrj+ZhpE/kOm2P9/RjT8vxcs+jCORP7A0mD9Wd3o/+RnqPrlWsT5ME5A/JpCGPzb6iz5Q85s+3INtPtz5lT+Mf4k/XlPOP/P/+T6kQQA/yWWAP0ebiT/36G4/NSG0P6D8gD+54Wo+LcmHP8DRkD+jrYg/EIyvP+A9sT+afos/HLYcP38FrD8=",
          "dtype": "f4"
         },
         "z": {
          "bdata": "AUDdQBeH2kAf3/FA9MXtQPJn3kCrJexAImn4QMiV8kDX1O1AdcnYQIhd3kD48OVAvTjtQLlf20AbiOZAcIrsQAiP+kADefNAhRvxQIUw7UAZ/AJBbkfXQHsC7EBAkOlAN/ACQb0/AEGifvVAy4T3QDQ0AkFcX+FAibLxQLCt20CCTe5AYlHfQNqN3EAYbwJBCWPxQJbA/UB/D/dA4kTzQOpx6kDN7/1Aq4r7QDIg+ECy4/hA1BHmQMKJ8UAPz/9AfCvoQCYG3UA=",
          "dtype": "f4"
         }
        },
        {
         "marker": {
          "color": "#636EFA",
          "line": {
           "color": "#636EFA",
           "width": 5
          },
          "size": 6,
          "symbol": "diamond"
         },
         "mode": "markers+text",
         "name": "Cluster 0",
         "text": "C0",
         "textposition": "top center",
         "type": "scatter3d",
         "x": {
          "bdata": "zm6dQQ==",
          "dtype": "f4"
         },
         "y": {
          "bdata": "hM7TPw==",
          "dtype": "f4"
         },
         "z": {
          "bdata": "Aaz5QA==",
          "dtype": "f4"
         }
        },
        {
         "marker": {
          "color": "#EF553B",
          "opacity": 0.5,
          "size": 3
         },
         "mode": "markers",
         "name": "p - C1",
         "showlegend": false,
         "type": "scatter3d",
         "x": {
          "bdata": "AbGBQFgLhUAJEYBAKxxnQMs3kEBmiIVADDZ8QOYOhEBp+YJAnmpWQPAnTUCskopAFqZFQI6qi0DdHY5AfyCPQLh/akBO2j5AwYKOQDioa0C91XlARkCQQCm6Y0CNSUxA/QiLQA4RkUB0dmlA0jNJQESxhkCs415AoXtpQO1XbEDpHotAf3NSQLZjlEAfEFBABnxvQDwDR0D4qIZAShFPQI7wi0AnQG5A/22IQHwHjEAh6kFAMMCRQN0+jEDemW9AQn6HQDWGh0A=",
          "dtype": "f4"
         },
         "y": {
          "bdata": "jPldQf3iY0G9OV5BjM1gQdcXVEGuTFxBshViQfRqV0GeZ2FBRO1nQUA+Y0FpU2BB8r5rQedcU0HZalVBwZpUQcmZakHjF2hB9zBgQQK6YEG20GJB/ftfQYyMXUHnLWlBy8tcQbrmXUG1dV1BDYJkQeawZUEvFGRB4qRcQfc6ZEH/k1xBvHNlQYvRWEEqBmhB0RxeQemAakFT0lxBzgRmQYNWY0E5OmNBN7djQeA+VUGGg2lBTfFfQU5VU0Fs1lxBfABYQSCRZEE=",
          "dtype": "f4"
         },
         "z": {
          "bdata": "q0+qvlIWnr90nBy/QKQYvyzvir9G7yG/ckFUPLLebL/JwWy/H4edv3YWnb+PPaC/3Vmhvz7Hpr/lv5q/zS2hv1bdlb++Koa/BwOPvmzWf7/k7ly+BQt/vsVPSL6Ay56/vqiMvzO7K7+tkDG+lC2Iv/Jahb8+E1+//JLTvQCTsb/3ykO+oPOqvwJrNr/VGba/DNuGPNmBob/HYvS+zAq1v+SXOr7qNvS+cU1SvsUgjr9A66y/GZYtv92Im7/fVVe//rB6v1WNk78=",
          "dtype": "f4"
         }
        },
        {
         "marker": {
          "color": "#EF553B",
          "line": {
           "color": "#EF553B",
           "width": 5
          },
          "size": 6,
          "symbol": "diamond"
         },
         "mode": "markers+text",
         "name": "Cluster 1",
         "text": "C1",
         "textposition": "top center",
         "type": "scatter3d",
         "x": {
          "bdata": "SnxwQA==",
          "dtype": "f4"
         },
         "y": {
          "bdata": "GGlYQQ==",
          "dtype": "f4"
         },
         "z": {
          "bdata": "M0sdvw==",
          "dtype": "f4"
         }
        },
        {
         "marker": {
          "color": "#00CC96",
          "opacity": 0.5,
          "size": 3
         },
         "mode": "markers",
         "name": "p - C2",
         "showlegend": false,
         "type": "scatter3d",
         "x": {
          "bdata": "gnVqwACHKMAtw13ArXF2wNWqIMAZICnAKUdSwObcgcByYGLAgQmCwIZ7O8BoumPAuvM5wF0+S8B88HvA3WM9wJCvVcAJ+GTApeoqwNBQesAaPE3AstlBwIy4KcCUZlnAhpBCwM0tYsDgGkrAKZd8wHTAQcAXL3nAeWI3wOduecAJr0vAfJoxwNwtgcBa9E7Az4tQwC2jO8B6m1HAa+9twFH3V8DbM2DAtwVDwCxDasCAQR/AVexEwCQDUsBjaDzA8U5DwOqNdsA=",
          "dtype": "f4"
         },
         "y": {
          "bdata": "FLViQNJ0H0DNOxpAuSBeQK8mNECgei1A0uBpQFOAU0CUfCpAP3o6QIcUJ0DlyDpAJIgYQJAcSkCiXUFASP5nQMUnGEA+j21Au6MwQBPaX0DoJzFAULxWQJhrH0CTHhtAIWFQQIa8WUBX7DxAtk5EQOQXLEA0eD1Ay1ZQQOaMSEC8YmxAJ6tSQJ9SQUB0ySZAigc1QOBqa0AaPmlAGao9QKTmREBPVjBA3XJLQADWPUCDpDxAZ3wWQKS8F0A6F05Aa8xmQFqUNEA=",
          "dtype": "f4"
         },
         "z": {
          "bdata": "Xq1WQdOlXUEU72ZBCEtVQYfQX0HE1WJByfpYQQv1V0FI+VpBGr1dQfK/ZEHLK2NB/otgQdftakHIoV5BIEJeQd0lXkFzUVVBD2pdQQYhVUFROGpBQSxnQRK9XkHFgmZBhyRpQcdsW0EpRGRBvkReQaYZZUGhxGJBEvBiQdkoV0ExhFlBybJeQZ2zW0Ho6WhBgDFmQdFhW0Hj31hBythmQQHVYUEZ5WtBNgxgQRqKY0GzLV5BSS9dQb8tX0EJpWpBJLtYQa60X0E=",
          "dtype": "f4"
         }
        },
        {
         "marker": {
          "color": "#00CC96",
          "line": {
           "color": "#00CC96",
           "width": 5
          },
          "size": 6,
          "symbol": "diamond"
         },
         "mode": "markers+text",
         "name": "Cluster 2",
         "text": "C2",
         "textposition": "top center",
         "type": "scatter3d",
         "x": {
          "bdata": "qqtqwA==",
          "dtype": "f4"
         },
         "y": {
          "bdata": "sgwpQA==",
          "dtype": "f4"
         },
         "z": {
          "bdata": "pZVnQQ==",
          "dtype": "f4"
         }
        },
        {
         "marker": {
          "color": "#AB63FA",
          "opacity": 0.5,
          "size": 3
         },
         "mode": "markers",
         "name": "p - C3",
         "showlegend": false,
         "type": "scatter3d",
         "x": {
          "bdata": "V9AHQd4TBUH9CPZAM2MEQXPt9kDuUwdBlmv/QBVNBUE56AhBGJQPQcwuBkHVHgVBEoUCQXxRBUH6HAFBhwkDQfpbBkEb9v1Ar20EQS2MBEFtQghBsn75QEnvAUETZ/9AgfcGQbDJA0H/lPRAncUDQaWSAEHnzg1B/S4LQdmb80BO9gNB33oKQXfMAkEh/QRB2d0JQUnpDkGZlwhBD/QCQYVzCEHymwhBp2MBQXSrBkF8FgFBa4QGQYFQB0HJ+/VAAJsOQf0V/kA=",
          "dtype": "f4"
         },
         "y": {
          "bdata": "+b/fvSHdUL/qT3S/Hdp/vrGBhL+1x06/nREavyaKdL8t6uq+r8UlvxoP6b83HJW/WQsOv41Ptb8k3Za/i3ufv9rspr+++Zy+wRDcv9wVg7+9L3q+hDZ9v+smu78+Ri2/S9vtv5ENz72tgWK/4MhOv4PMCr+qKWq/e6Wnvz1hWL9cDg+/VFKlv99B0b9XHYG/oQFnvwUtHL/ueNu/4mOKvh5i5r/O9pG9g8kYv1LGsL9+3uS+S6y9v17owr8Juj6/MU8qv613bb8=",
          "dtype": "f4"
         },
         "z": {
          "bdata": "JQqOQOmfnEDIp4tAXsmMQLChmUAmIZtAAFeTQNn6pUAjnJVAI3ibQJLgjEDBkqRAjruWQFLJpkClSoRA94WAQA1UnUCfNIpAR0eGQCouekBsiYpAMcyDQBrmoUCKT6NAQeeGQD//ikCxvI1AOFahQAn9gUCNnJlA/kSTQKJZkUAuJqJAaxeYQOStlUD/SoBAuMubQJLqm0BHypFAbTmJQEXJiUBLMZFAMNSMQGp8gUBL0ZRAMV6iQJXloEAal5FADdKYQHKjg0A=",
          "dtype": "f4"
         }
        },
        {
         "marker": {
          "color": "#AB63FA",
          "line": {
           "color": "#AB63FA",
           "width": 5
          },
          "size": 6,
          "symbol": "diamond"
         },
         "mode": "markers+text",
         "name": "Cluster 3",
         "text": "C3",
         "textposition": "top center",
         "type": "scatter3d",
         "x": {
          "bdata": "bzEDQQ==",
          "dtype": "f4"
         },
         "y": {
          "bdata": "4fgFvw==",
          "dtype": "f4"
         },
         "z": {
          "bdata": "dmepQA==",
          "dtype": "f4"
         }
        }
       ],
       "layout": {
        "legend": {
         "x": 0.02,
         "y": 0.98
        },
        "margin": {
         "b": 0,
         "l": 0,
         "r": 0,
         "t": 40
        },
        "scene": {
         "bgcolor": "white",
         "xaxis": {
          "title": {
           "text": "UMAP-1"
          }
         },
         "yaxis": {
          "title": {
           "text": "UMAP-2"
          }
         },
         "zaxis": {
          "title": {
           "text": "UMAP-3"
          }
         }
        },
        "showlegend": true,
        "template": {
         "data": {
          "bar": [
           {
            "error_x": {
             "color": "#2a3f5f"
            },
            "error_y": {
             "color": "#2a3f5f"
            },
            "marker": {
             "line": {
              "color": "#E5ECF6",
              "width": 0.5
             },
             "pattern": {
              "fillmode": "overlay",
              "size": 10,
              "solidity": 0.2
             }
            },
            "type": "bar"
           }
          ],
          "barpolar": [
           {
            "marker": {
             "line": {
              "color": "#E5ECF6",
              "width": 0.5
             },
             "pattern": {
              "fillmode": "overlay",
              "size": 10,
              "solidity": 0.2
             }
            },
            "type": "barpolar"
           }
          ],
          "carpet": [
           {
            "aaxis": {
             "endlinecolor": "#2a3f5f",
             "gridcolor": "white",
             "linecolor": "white",
             "minorgridcolor": "white",
             "startlinecolor": "#2a3f5f"
            },
            "baxis": {
             "endlinecolor": "#2a3f5f",
             "gridcolor": "white",
             "linecolor": "white",
             "minorgridcolor": "white",
             "startlinecolor": "#2a3f5f"
            },
            "type": "carpet"
           }
          ],
          "choropleth": [
           {
            "colorbar": {
             "outlinewidth": 0,
             "ticks": ""
            },
            "type": "choropleth"
           }
          ],
          "contour": [
           {
            "colorbar": {
             "outlinewidth": 0,
             "ticks": ""
            },
            "colorscale": [
             [
              0,
              "#0d0887"
             ],
             [
              0.1111111111111111,
              "#46039f"
             ],
             [
              0.2222222222222222,
              "#7201a8"
             ],
             [
              0.3333333333333333,
              "#9c179e"
             ],
             [
              0.4444444444444444,
              "#bd3786"
             ],
             [
              0.5555555555555556,
              "#d8576b"
             ],
             [
              0.6666666666666666,
              "#ed7953"
             ],
             [
              0.7777777777777778,
              "#fb9f3a"
             ],
             [
              0.8888888888888888,
              "#fdca26"
             ],
             [
              1,
              "#f0f921"
             ]
            ],
            "type": "contour"
           }
          ],
          "contourcarpet": [
           {
            "colorbar": {
             "outlinewidth": 0,
             "ticks": ""
            },
            "type": "contourcarpet"
           }
          ],
          "heatmap": [
           {
            "colorbar": {
             "outlinewidth": 0,
             "ticks": ""
            },
            "colorscale": [
             [
              0,
              "#0d0887"
             ],
             [
              0.1111111111111111,
              "#46039f"
             ],
             [
              0.2222222222222222,
              "#7201a8"
             ],
             [
              0.3333333333333333,
              "#9c179e"
             ],
             [
              0.4444444444444444,
              "#bd3786"
             ],
             [
              0.5555555555555556,
              "#d8576b"
             ],
             [
              0.6666666666666666,
              "#ed7953"
             ],
             [
              0.7777777777777778,
              "#fb9f3a"
             ],
             [
              0.8888888888888888,
              "#fdca26"
             ],
             [
              1,
              "#f0f921"
             ]
            ],
            "type": "heatmap"
           }
          ],
          "histogram": [
           {
            "marker": {
             "pattern": {
              "fillmode": "overlay",
              "size": 10,
              "solidity": 0.2
             }
            },
            "type": "histogram"
           }
          ],
          "histogram2d": [
           {
            "colorbar": {
             "outlinewidth": 0,
             "ticks": ""
            },
            "colorscale": [
             [
              0,
              "#0d0887"
             ],
             [
              0.1111111111111111,
              "#46039f"
             ],
             [
              0.2222222222222222,
              "#7201a8"
             ],
             [
              0.3333333333333333,
              "#9c179e"
             ],
             [
              0.4444444444444444,
              "#bd3786"
             ],
             [
              0.5555555555555556,
              "#d8576b"
             ],
             [
              0.6666666666666666,
              "#ed7953"
             ],
             [
              0.7777777777777778,
              "#fb9f3a"
             ],
             [
              0.8888888888888888,
              "#fdca26"
             ],
             [
              1,
              "#f0f921"
             ]
            ],
            "type": "histogram2d"
           }
          ],
          "histogram2dcontour": [
           {
            "colorbar": {
             "outlinewidth": 0,
             "ticks": ""
            },
            "colorscale": [
             [
              0,
              "#0d0887"
             ],
             [
              0.1111111111111111,
              "#46039f"
             ],
             [
              0.2222222222222222,
              "#7201a8"
             ],
             [
              0.3333333333333333,
              "#9c179e"
             ],
             [
              0.4444444444444444,
              "#bd3786"
             ],
             [
              0.5555555555555556,
              "#d8576b"
             ],
             [
              0.6666666666666666,
              "#ed7953"
             ],
             [
              0.7777777777777778,
              "#fb9f3a"
             ],
             [
              0.8888888888888888,
              "#fdca26"
             ],
             [
              1,
              "#f0f921"
             ]
            ],
            "type": "histogram2dcontour"
           }
          ],
          "mesh3d": [
           {
            "colorbar": {
             "outlinewidth": 0,
             "ticks": ""
            },
            "type": "mesh3d"
           }
          ],
          "parcoords": [
           {
            "line": {
             "colorbar": {
              "outlinewidth": 0,
              "ticks": ""
             }
            },
            "type": "parcoords"
           }
          ],
          "pie": [
           {
            "automargin": true,
            "type": "pie"
           }
          ],
          "scatter": [
           {
            "fillpattern": {
             "fillmode": "overlay",
             "size": 10,
             "solidity": 0.2
            },
            "type": "scatter"
           }
          ],
          "scatter3d": [
           {
            "line": {
             "colorbar": {
              "outlinewidth": 0,
              "ticks": ""
             }
            },
            "marker": {
             "colorbar": {
              "outlinewidth": 0,
              "ticks": ""
             }
            },
            "type": "scatter3d"
           }
          ],
          "scattercarpet": [
           {
            "marker": {
             "colorbar": {
              "outlinewidth": 0,
              "ticks": ""
             }
            },
            "type": "scattercarpet"
           }
          ],
          "scattergeo": [
           {
            "marker": {
             "colorbar": {
              "outlinewidth": 0,
              "ticks": ""
             }
            },
            "type": "scattergeo"
           }
          ],
          "scattergl": [
           {
            "marker": {
             "colorbar": {
              "outlinewidth": 0,
              "ticks": ""
             }
            },
            "type": "scattergl"
           }
          ],
          "scattermap": [
           {
            "marker": {
             "colorbar": {
              "outlinewidth": 0,
              "ticks": ""
             }
            },
            "type": "scattermap"
           }
          ],
          "scattermapbox": [
           {
            "marker": {
             "colorbar": {
              "outlinewidth": 0,
              "ticks": ""
             }
            },
            "type": "scattermapbox"
           }
          ],
          "scatterpolar": [
           {
            "marker": {
             "colorbar": {
              "outlinewidth": 0,
              "ticks": ""
             }
            },
            "type": "scatterpolar"
           }
          ],
          "scatterpolargl": [
           {
            "marker": {
             "colorbar": {
              "outlinewidth": 0,
              "ticks": ""
             }
            },
            "type": "scatterpolargl"
           }
          ],
          "scatterternary": [
           {
            "marker": {
             "colorbar": {
              "outlinewidth": 0,
              "ticks": ""
             }
            },
            "type": "scatterternary"
           }
          ],
          "surface": [
           {
            "colorbar": {
             "outlinewidth": 0,
             "ticks": ""
            },
            "colorscale": [
             [
              0,
              "#0d0887"
             ],
             [
              0.1111111111111111,
              "#46039f"
             ],
             [
              0.2222222222222222,
              "#7201a8"
             ],
             [
              0.3333333333333333,
              "#9c179e"
             ],
             [
              0.4444444444444444,
              "#bd3786"
             ],
             [
              0.5555555555555556,
              "#d8576b"
             ],
             [
              0.6666666666666666,
              "#ed7953"
             ],
             [
              0.7777777777777778,
              "#fb9f3a"
             ],
             [
              0.8888888888888888,
              "#fdca26"
             ],
             [
              1,
              "#f0f921"
             ]
            ],
            "type": "surface"
           }
          ],
          "table": [
           {
            "cells": {
             "fill": {
              "color": "#EBF0F8"
             },
             "line": {
              "color": "white"
             }
            },
            "header": {
             "fill": {
              "color": "#C8D4E3"
             },
             "line": {
              "color": "white"
             }
            },
            "type": "table"
           }
          ]
         },
         "layout": {
          "annotationdefaults": {
           "arrowcolor": "#2a3f5f",
           "arrowhead": 0,
           "arrowwidth": 1
          },
          "autotypenumbers": "strict",
          "coloraxis": {
           "colorbar": {
            "outlinewidth": 0,
            "ticks": ""
           }
          },
          "colorscale": {
           "diverging": [
            [
             0,
             "#8e0152"
            ],
            [
             0.1,
             "#c51b7d"
            ],
            [
             0.2,
             "#de77ae"
            ],
            [
             0.3,
             "#f1b6da"
            ],
            [
             0.4,
             "#fde0ef"
            ],
            [
             0.5,
             "#f7f7f7"
            ],
            [
             0.6,
             "#e6f5d0"
            ],
            [
             0.7,
             "#b8e186"
            ],
            [
             0.8,
             "#7fbc41"
            ],
            [
             0.9,
             "#4d9221"
            ],
            [
             1,
             "#276419"
            ]
           ],
           "sequential": [
            [
             0,
             "#0d0887"
            ],
            [
             0.1111111111111111,
             "#46039f"
            ],
            [
             0.2222222222222222,
             "#7201a8"
            ],
            [
             0.3333333333333333,
             "#9c179e"
            ],
            [
             0.4444444444444444,
             "#bd3786"
            ],
            [
             0.5555555555555556,
             "#d8576b"
            ],
            [
             0.6666666666666666,
             "#ed7953"
            ],
            [
             0.7777777777777778,
             "#fb9f3a"
            ],
            [
             0.8888888888888888,
             "#fdca26"
            ],
            [
             1,
             "#f0f921"
            ]
           ],
           "sequentialminus": [
            [
             0,
             "#0d0887"
            ],
            [
             0.1111111111111111,
             "#46039f"
            ],
            [
             0.2222222222222222,
             "#7201a8"
            ],
            [
             0.3333333333333333,
             "#9c179e"
            ],
            [
             0.4444444444444444,
             "#bd3786"
            ],
            [
             0.5555555555555556,
             "#d8576b"
            ],
            [
             0.6666666666666666,
             "#ed7953"
            ],
            [
             0.7777777777777778,
             "#fb9f3a"
            ],
            [
             0.8888888888888888,
             "#fdca26"
            ],
            [
             1,
             "#f0f921"
            ]
           ]
          },
          "colorway": [
           "#636efa",
           "#EF553B",
           "#00cc96",
           "#ab63fa",
           "#FFA15A",
           "#19d3f3",
           "#FF6692",
           "#B6E880",
           "#FF97FF",
           "#FECB52"
          ],
          "font": {
           "color": "#2a3f5f"
          },
          "geo": {
           "bgcolor": "white",
           "lakecolor": "white",
           "landcolor": "#E5ECF6",
           "showlakes": true,
           "showland": true,
           "subunitcolor": "white"
          },
          "hoverlabel": {
           "align": "left"
          },
          "hovermode": "closest",
          "mapbox": {
           "style": "light"
          },
          "paper_bgcolor": "white",
          "plot_bgcolor": "#E5ECF6",
          "polar": {
           "angularaxis": {
            "gridcolor": "white",
            "linecolor": "white",
            "ticks": ""
           },
           "bgcolor": "#E5ECF6",
           "radialaxis": {
            "gridcolor": "white",
            "linecolor": "white",
            "ticks": ""
           }
          },
          "scene": {
           "xaxis": {
            "backgroundcolor": "#E5ECF6",
            "gridcolor": "white",
            "gridwidth": 2,
            "linecolor": "white",
            "showbackground": true,
            "ticks": "",
            "zerolinecolor": "white"
           },
           "yaxis": {
            "backgroundcolor": "#E5ECF6",
            "gridcolor": "white",
            "gridwidth": 2,
            "linecolor": "white",
            "showbackground": true,
            "ticks": "",
            "zerolinecolor": "white"
           },
           "zaxis": {
            "backgroundcolor": "#E5ECF6",
            "gridcolor": "white",
            "gridwidth": 2,
            "linecolor": "white",
            "showbackground": true,
            "ticks": "",
            "zerolinecolor": "white"
           }
          },
          "shapedefaults": {
           "line": {
            "color": "#2a3f5f"
           }
          },
          "ternary": {
           "aaxis": {
            "gridcolor": "white",
            "linecolor": "white",
            "ticks": ""
           },
           "baxis": {
            "gridcolor": "white",
            "linecolor": "white",
            "ticks": ""
           },
           "bgcolor": "#E5ECF6",
           "caxis": {
            "gridcolor": "white",
            "linecolor": "white",
            "ticks": ""
           }
          },
          "title": {
           "x": 0.05
          },
          "xaxis": {
           "automargin": true,
           "gridcolor": "white",
           "linecolor": "white",
           "ticks": "",
           "title": {
            "standoff": 15
           },
           "zerolinecolor": "white",
           "zerolinewidth": 2
          },
          "yaxis": {
           "automargin": true,
           "gridcolor": "white",
           "linecolor": "white",
           "ticks": "",
           "title": {
            "standoff": 15
           },
           "zerolinecolor": "white",
           "zerolinewidth": 2
          }
         }
        },
        "title": {
         "text": "🌌 UMAP 3D Projection of Clustered Data"
        }
       }
      }
     },
     "metadata": {},
     "output_type": "display_data"
    }
   ],
   "source": [
    "fig = go.Figure()\n",
    "\n",
    "unique_clusters = centroid_ids.copy()\n",
    "colors = px.colors.qualitative.Plotly\n",
    "cluster_color_map = {cluster_id: colors[i % len(colors)] for i, cluster_id in enumerate(unique_clusters)}\n",
    "\n",
    "for cluster_id in unique_clusters:\n",
    "    # Add points\n",
    "    mask = point_cluster_ids == cluster_id\n",
    "    fig.add_trace(go.Scatter3d(\n",
    "        x=points_3d[mask, 0],\n",
    "        y=points_3d[mask, 1],\n",
    "        z=points_3d[mask, 2],\n",
    "        mode='markers',\n",
    "        marker=dict(\n",
    "            size=3,\n",
    "            color=cluster_color_map[cluster_id],\n",
    "            opacity=0.5\n",
    "        ),\n",
    "        name=f'p - C{cluster_id}',\n",
    "        showlegend=False\n",
    "    ))\n",
    "\n",
    "\n",
    "    # Add centroids\n",
    "    mask = centroid_ids == cluster_id\n",
    "    fig.add_trace(go.Scatter3d(\n",
    "        x=centroids_3d[mask, 0],\n",
    "        y=centroids_3d[mask, 1],\n",
    "        z=centroids_3d[mask, 2],\n",
    "        mode='markers+text',\n",
    "        marker=dict(\n",
    "            size=6,\n",
    "            symbol='diamond',\n",
    "            color=cluster_color_map[cluster_id],\n",
    "            line=dict(\n",
    "                color=cluster_color_map[cluster_id],\n",
    "                width=5\n",
    "            )\n",
    "        ),\n",
    "        name=f'Cluster {cluster_id}',\n",
    "        text=f\"C{cluster_id}\",\n",
    "        textposition=\"top center\"\n",
    "    ))\n",
    "\n",
    "fig.update_layout(\n",
    "    title=\"🌌 UMAP 3D Projection of Clustered Data\",\n",
    "    margin=dict(l=0, r=0, b=0, t=40),\n",
    "    scene=dict(\n",
    "        xaxis_title='UMAP-1',\n",
    "        yaxis_title='UMAP-2',\n",
    "        zaxis_title='UMAP-3',\n",
    "        bgcolor='white'\n",
    "    ),\n",
    "    legend=dict(x=0.02, y=0.98),\n",
    "    showlegend=True\n",
    ")\n",
    "\n",
    "fig.show()"
   ]
  }
 ],
 "metadata": {
  "kernelspec": {
   "display_name": ".venv",
   "language": "python",
   "name": "python3"
  },
  "language_info": {
   "codemirror_mode": {
    "name": "ipython",
    "version": 3
   },
   "file_extension": ".py",
   "mimetype": "text/x-python",
   "name": "python",
   "nbconvert_exporter": "python",
   "pygments_lexer": "ipython3",
   "version": "3.11.2"
  }
 },
 "nbformat": 4,
 "nbformat_minor": 5
}
