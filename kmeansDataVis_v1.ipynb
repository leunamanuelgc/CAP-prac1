{
 "cells": [
  {
   "cell_type": "code",
   "execution_count": null,
   "id": "136a0079",
   "metadata": {},
   "outputs": [],
   "source": [
    "import struct\n",
    "import numpy as np\n",
    "import umap\n",
    "import plotly.graph_objects as go\n",
    "import plotly as px\n",
    "import ipywidgets as widgets\n",
    "from IPython.display import display"
   ]
  },
  {
   "cell_type": "code",
   "execution_count": null,
   "id": "0db8952f",
   "metadata": {},
   "outputs": [],
   "source": [
    "def read_all_iterations(filename):\n",
    "    with open(filename, \"rb\") as f:\n",
    "        n_clusters = struct.unpack(\"I\", f.read(4))[0]\n",
    "        n_points = struct.unpack(\"I\", f.read(4))[0]\n",
    "        n_dim = struct.unpack(\"I\", f.read(4))[0]\n",
    "\n",
    "        centroid_block_size = (n_dim * 4 + 4) * n_clusters  # floats + int32 ID\n",
    "        point_block_size = (n_dim * 4 + 4) * n_points       # floats + int32 ID\n",
    "        iteration_size = centroid_block_size + point_block_size\n",
    "\n",
    "        all_iterations = []\n",
    "\n",
    "        while True:\n",
    "            iter_data = f.read(iteration_size)\n",
    "            if len(iter_data) < iteration_size:\n",
    "                break  # done reading all iterations\n",
    "\n",
    "            offset = 0\n",
    "            centroids = np.frombuffer(iter_data[offset:offset + n_clusters * n_dim * 4], dtype=np.float32).reshape((n_clusters, n_dim))\n",
    "            offset += n_clusters * n_dim * 4\n",
    "            centroid_ids = np.frombuffer(iter_data[offset:offset + n_clusters * 4], dtype=np.int32)\n",
    "            offset += n_clusters * 4\n",
    "\n",
    "            points = np.frombuffer(iter_data[offset:offset + n_points * n_dim * 4], dtype=np.float32).reshape((n_points, n_dim))\n",
    "            offset += n_points * n_dim * 4\n",
    "            point_cluster_ids = np.frombuffer(iter_data[offset:offset + n_points * 4], dtype=np.int32)\n",
    "\n",
    "            all_iterations.append({\n",
    "                'centroids': centroids,\n",
    "                'centroid_ids': centroid_ids,\n",
    "                'points': points,\n",
    "                'point_cluster_ids': point_cluster_ids\n",
    "            })\n",
    "\n",
    "    return n_clusters, n_points, n_dim, all_iterations"
   ]
  },
  {
   "cell_type": "code",
   "execution_count": 6,
   "id": "4d29fe23",
   "metadata": {},
   "outputs": [
    {
     "name": "stdout",
     "output_type": "stream",
     "text": [
      "n_clusters: 4\n",
      "n_points: 50\n",
      "n_dim: 3\n",
      "point_data shape: (50, 3)\n",
      "centroid_data shape: (4, 3)\n"
     ]
    }
   ],
   "source": [
    "filename = \"clustered_data\"\n",
    "point_data, point_cluster_ids, centroids, centroid_ids, n_dim = read_clustered_data(filename)"
   ]
  },
  {
   "cell_type": "code",
   "execution_count": 7,
   "id": "666168cf",
   "metadata": {},
   "outputs": [
    {
     "name": "stderr",
     "output_type": "stream",
     "text": [
      "/home/bernat/Documents/CAP_Practica1/CAP-prac1/.venv/lib/python3.11/site-packages/sklearn/utils/deprecation.py:151: FutureWarning: 'force_all_finite' was renamed to 'ensure_all_finite' in 1.6 and will be removed in 1.8.\n",
      "  warnings.warn(\n",
      "/home/bernat/Documents/CAP_Practica1/CAP-prac1/.venv/lib/python3.11/site-packages/sklearn/utils/deprecation.py:151: FutureWarning: 'force_all_finite' was renamed to 'ensure_all_finite' in 1.6 and will be removed in 1.8.\n",
      "  warnings.warn(\n"
     ]
    }
   ],
   "source": [
    "reducer = umap.UMAP(n_components=3)\n",
    "points_3d = reducer.fit_transform(point_data)\n",
    "centroids_3d = reducer.transform(centroids)"
   ]
  },
  {
   "cell_type": "code",
   "execution_count": 8,
   "id": "4ede4c8e",
   "metadata": {},
   "outputs": [
    {
     "data": {
      "application/vnd.plotly.v1+json": {
       "config": {
        "plotlyServerURL": "https://plot.ly"
       },
       "data": [
        {
         "marker": {
          "color": "#636EFA",
          "opacity": 0.5,
          "size": 3
         },
         "mode": "markers",
         "name": "p - C0",
         "showlegend": false,
         "type": "scatter3d",
         "x": {
          "bdata": "NiHSv1Tah78RQ7G/yYLiv31mFcD69b+/2HOIvw4eq7/knCDAfrCZvw3Q97+8gxXAqCz4v6/Fm78=",
          "dtype": "f4"
         },
         "y": {
          "bdata": "G/3NQNmV2kD23chAIO/mQGkpykBMNNlAOb7mQDIczUC/Us5AwPbVQHSwxkAyYdFAlKzpQOz5zEA=",
          "dtype": "f4"
         },
         "z": {
          "bdata": "G6rTQDvtvEB6ib5AzcrNQIMhykCH6M5AbZPBQKz5ykBL7sFA4ciTQNrYyEDCO9BArKDUQNsIrkA=",
          "dtype": "f4"
         }
        },
        {
         "marker": {
          "color": "#636EFA",
          "line": {
           "color": "#636EFA",
           "width": 5
          },
          "size": 6,
          "symbol": "diamond"
         },
         "mode": "markers+text",
         "name": "Cluster 0",
         "text": "C0",
         "textposition": "top center",
         "type": "scatter3d",
         "x": {
          "bdata": "HqjOvw==",
          "dtype": "f4"
         },
         "y": {
          "bdata": "Ot66QA==",
          "dtype": "f4"
         },
         "z": {
          "bdata": "tmTfQA==",
          "dtype": "f4"
         }
        },
        {
         "marker": {
          "color": "#EF553B",
          "opacity": 0.5,
          "size": 3
         },
         "mode": "markers",
         "name": "p - C1",
         "showlegend": false,
         "type": "scatter3d",
         "x": {
          "bdata": "sLDNvqJ6YL/XuUS/imhJvxm2D79YUV+/",
          "dtype": "f4"
         },
         "y": {
          "bdata": "juIBQYzmEkHFzQ9BHL4IQekMA0EoZ/pA",
          "dtype": "f4"
         },
         "z": {
          "bdata": "2q+iQJx3uEB3rbFADtm6QPWNq0A1xrtA",
          "dtype": "f4"
         }
        },
        {
         "marker": {
          "color": "#EF553B",
          "line": {
           "color": "#EF553B",
           "width": 5
          },
          "size": 6,
          "symbol": "diamond"
         },
         "mode": "markers+text",
         "name": "Cluster 1",
         "text": "C1",
         "textposition": "top center",
         "type": "scatter3d",
         "x": {
          "bdata": "Sj0Vvg==",
          "dtype": "f4"
         },
         "y": {
          "bdata": "CFAJQQ==",
          "dtype": "f4"
         },
         "z": {
          "bdata": "ZcnGQA==",
          "dtype": "f4"
         }
        },
        {
         "marker": {
          "color": "#00CC96",
          "opacity": 0.5,
          "size": 3
         },
         "mode": "markers",
         "name": "p - C2",
         "showlegend": false,
         "type": "scatter3d",
         "x": {
          "bdata": "BO3ivsDQsb7kCSy/uykMvowrgr/6iZG+qfDjvdUB576656++Dc8cvyDkHL/oqGG+",
          "dtype": "f4"
         },
         "y": {
          "bdata": "ioYFQaboEkG6TxZBXKcGQUuq/0AfZ/9ANzwCQT1xAEHtuBZBA8X1QLGaEkHUYw5B",
          "dtype": "f4"
         },
         "z": {
          "bdata": "3ZxtQHfEZ0DPFYNAlZ5YQH8vZEArnIRAnO1zQDYJUEAaPm9AxMVrQE5Yi0Av41lA",
          "dtype": "f4"
         }
        },
        {
         "marker": {
          "color": "#00CC96",
          "line": {
           "color": "#00CC96",
           "width": 5
          },
          "size": 6,
          "symbol": "diamond"
         },
         "mode": "markers+text",
         "name": "Cluster 2",
         "text": "C2",
         "textposition": "top center",
         "type": "scatter3d",
         "x": {
          "bdata": "XES4Pg==",
          "dtype": "f4"
         },
         "y": {
          "bdata": "9GYIQQ==",
          "dtype": "f4"
         },
         "z": {
          "bdata": "aAJDQA==",
          "dtype": "f4"
         }
        },
        {
         "marker": {
          "color": "#AB63FA",
          "opacity": 0.5,
          "size": 3
         },
         "mode": "markers",
         "name": "p - C3",
         "showlegend": false,
         "type": "scatter3d",
         "x": {
          "bdata": "pDoEwAIXJsAJKV/A1kVBv0tqx795CWzABV6tv3vspr+twAbAoKdBwKt+hb8LSnm/AKVhwLOaTcA7DHTAQuJVv8c2a7+2xGfA",
          "dtype": "f4"
         },
         "y": {
          "bdata": "erLRQFj03EBMleBAxl3qQGDe4UDiXOdAIxDhQCda20A73tNABNjhQLImD0HZrOlAfEzvQESp20B1Ye9ADB8XQamSFkEe+OFA",
          "dtype": "f4"
         },
         "z": {
          "bdata": "PW6xQAH2k0AWXZlALPyDQCs6fUAJgpZASDh5QB9hhUCx0sBAVbGRQBrFukAkoW1AnQWWQKVxpEBIhp1ATk2SQMCEpEACkoxA",
          "dtype": "f4"
         }
        },
        {
         "marker": {
          "color": "#AB63FA",
          "line": {
           "color": "#AB63FA",
           "width": 5
          },
          "size": 6,
          "symbol": "diamond"
         },
         "mode": "markers+text",
         "name": "Cluster 3",
         "text": "C3",
         "textposition": "top center",
         "type": "scatter3d",
         "x": {
          "bdata": "v7ZEwA==",
          "dtype": "f4"
         },
         "y": {
          "bdata": "uJnEQA==",
          "dtype": "f4"
         },
         "z": {
          "bdata": "wO2aQA==",
          "dtype": "f4"
         }
        }
       ],
       "layout": {
        "legend": {
         "x": 0.02,
         "y": 0.98
        },
        "margin": {
         "b": 0,
         "l": 0,
         "r": 0,
         "t": 40
        },
        "scene": {
         "bgcolor": "white",
         "xaxis": {
          "title": {
           "text": "UMAP-1"
          }
         },
         "yaxis": {
          "title": {
           "text": "UMAP-2"
          }
         },
         "zaxis": {
          "title": {
           "text": "UMAP-3"
          }
         }
        },
        "showlegend": true,
        "template": {
         "data": {
          "bar": [
           {
            "error_x": {
             "color": "#2a3f5f"
            },
            "error_y": {
             "color": "#2a3f5f"
            },
            "marker": {
             "line": {
              "color": "#E5ECF6",
              "width": 0.5
             },
             "pattern": {
              "fillmode": "overlay",
              "size": 10,
              "solidity": 0.2
             }
            },
            "type": "bar"
           }
          ],
          "barpolar": [
           {
            "marker": {
             "line": {
              "color": "#E5ECF6",
              "width": 0.5
             },
             "pattern": {
              "fillmode": "overlay",
              "size": 10,
              "solidity": 0.2
             }
            },
            "type": "barpolar"
           }
          ],
          "carpet": [
           {
            "aaxis": {
             "endlinecolor": "#2a3f5f",
             "gridcolor": "white",
             "linecolor": "white",
             "minorgridcolor": "white",
             "startlinecolor": "#2a3f5f"
            },
            "baxis": {
             "endlinecolor": "#2a3f5f",
             "gridcolor": "white",
             "linecolor": "white",
             "minorgridcolor": "white",
             "startlinecolor": "#2a3f5f"
            },
            "type": "carpet"
           }
          ],
          "choropleth": [
           {
            "colorbar": {
             "outlinewidth": 0,
             "ticks": ""
            },
            "type": "choropleth"
           }
          ],
          "contour": [
           {
            "colorbar": {
             "outlinewidth": 0,
             "ticks": ""
            },
            "colorscale": [
             [
              0,
              "#0d0887"
             ],
             [
              0.1111111111111111,
              "#46039f"
             ],
             [
              0.2222222222222222,
              "#7201a8"
             ],
             [
              0.3333333333333333,
              "#9c179e"
             ],
             [
              0.4444444444444444,
              "#bd3786"
             ],
             [
              0.5555555555555556,
              "#d8576b"
             ],
             [
              0.6666666666666666,
              "#ed7953"
             ],
             [
              0.7777777777777778,
              "#fb9f3a"
             ],
             [
              0.8888888888888888,
              "#fdca26"
             ],
             [
              1,
              "#f0f921"
             ]
            ],
            "type": "contour"
           }
          ],
          "contourcarpet": [
           {
            "colorbar": {
             "outlinewidth": 0,
             "ticks": ""
            },
            "type": "contourcarpet"
           }
          ],
          "heatmap": [
           {
            "colorbar": {
             "outlinewidth": 0,
             "ticks": ""
            },
            "colorscale": [
             [
              0,
              "#0d0887"
             ],
             [
              0.1111111111111111,
              "#46039f"
             ],
             [
              0.2222222222222222,
              "#7201a8"
             ],
             [
              0.3333333333333333,
              "#9c179e"
             ],
             [
              0.4444444444444444,
              "#bd3786"
             ],
             [
              0.5555555555555556,
              "#d8576b"
             ],
             [
              0.6666666666666666,
              "#ed7953"
             ],
             [
              0.7777777777777778,
              "#fb9f3a"
             ],
             [
              0.8888888888888888,
              "#fdca26"
             ],
             [
              1,
              "#f0f921"
             ]
            ],
            "type": "heatmap"
           }
          ],
          "histogram": [
           {
            "marker": {
             "pattern": {
              "fillmode": "overlay",
              "size": 10,
              "solidity": 0.2
             }
            },
            "type": "histogram"
           }
          ],
          "histogram2d": [
           {
            "colorbar": {
             "outlinewidth": 0,
             "ticks": ""
            },
            "colorscale": [
             [
              0,
              "#0d0887"
             ],
             [
              0.1111111111111111,
              "#46039f"
             ],
             [
              0.2222222222222222,
              "#7201a8"
             ],
             [
              0.3333333333333333,
              "#9c179e"
             ],
             [
              0.4444444444444444,
              "#bd3786"
             ],
             [
              0.5555555555555556,
              "#d8576b"
             ],
             [
              0.6666666666666666,
              "#ed7953"
             ],
             [
              0.7777777777777778,
              "#fb9f3a"
             ],
             [
              0.8888888888888888,
              "#fdca26"
             ],
             [
              1,
              "#f0f921"
             ]
            ],
            "type": "histogram2d"
           }
          ],
          "histogram2dcontour": [
           {
            "colorbar": {
             "outlinewidth": 0,
             "ticks": ""
            },
            "colorscale": [
             [
              0,
              "#0d0887"
             ],
             [
              0.1111111111111111,
              "#46039f"
             ],
             [
              0.2222222222222222,
              "#7201a8"
             ],
             [
              0.3333333333333333,
              "#9c179e"
             ],
             [
              0.4444444444444444,
              "#bd3786"
             ],
             [
              0.5555555555555556,
              "#d8576b"
             ],
             [
              0.6666666666666666,
              "#ed7953"
             ],
             [
              0.7777777777777778,
              "#fb9f3a"
             ],
             [
              0.8888888888888888,
              "#fdca26"
             ],
             [
              1,
              "#f0f921"
             ]
            ],
            "type": "histogram2dcontour"
           }
          ],
          "mesh3d": [
           {
            "colorbar": {
             "outlinewidth": 0,
             "ticks": ""
            },
            "type": "mesh3d"
           }
          ],
          "parcoords": [
           {
            "line": {
             "colorbar": {
              "outlinewidth": 0,
              "ticks": ""
             }
            },
            "type": "parcoords"
           }
          ],
          "pie": [
           {
            "automargin": true,
            "type": "pie"
           }
          ],
          "scatter": [
           {
            "fillpattern": {
             "fillmode": "overlay",
             "size": 10,
             "solidity": 0.2
            },
            "type": "scatter"
           }
          ],
          "scatter3d": [
           {
            "line": {
             "colorbar": {
              "outlinewidth": 0,
              "ticks": ""
             }
            },
            "marker": {
             "colorbar": {
              "outlinewidth": 0,
              "ticks": ""
             }
            },
            "type": "scatter3d"
           }
          ],
          "scattercarpet": [
           {
            "marker": {
             "colorbar": {
              "outlinewidth": 0,
              "ticks": ""
             }
            },
            "type": "scattercarpet"
           }
          ],
          "scattergeo": [
           {
            "marker": {
             "colorbar": {
              "outlinewidth": 0,
              "ticks": ""
             }
            },
            "type": "scattergeo"
           }
          ],
          "scattergl": [
           {
            "marker": {
             "colorbar": {
              "outlinewidth": 0,
              "ticks": ""
             }
            },
            "type": "scattergl"
           }
          ],
          "scattermap": [
           {
            "marker": {
             "colorbar": {
              "outlinewidth": 0,
              "ticks": ""
             }
            },
            "type": "scattermap"
           }
          ],
          "scattermapbox": [
           {
            "marker": {
             "colorbar": {
              "outlinewidth": 0,
              "ticks": ""
             }
            },
            "type": "scattermapbox"
           }
          ],
          "scatterpolar": [
           {
            "marker": {
             "colorbar": {
              "outlinewidth": 0,
              "ticks": ""
             }
            },
            "type": "scatterpolar"
           }
          ],
          "scatterpolargl": [
           {
            "marker": {
             "colorbar": {
              "outlinewidth": 0,
              "ticks": ""
             }
            },
            "type": "scatterpolargl"
           }
          ],
          "scatterternary": [
           {
            "marker": {
             "colorbar": {
              "outlinewidth": 0,
              "ticks": ""
             }
            },
            "type": "scatterternary"
           }
          ],
          "surface": [
           {
            "colorbar": {
             "outlinewidth": 0,
             "ticks": ""
            },
            "colorscale": [
             [
              0,
              "#0d0887"
             ],
             [
              0.1111111111111111,
              "#46039f"
             ],
             [
              0.2222222222222222,
              "#7201a8"
             ],
             [
              0.3333333333333333,
              "#9c179e"
             ],
             [
              0.4444444444444444,
              "#bd3786"
             ],
             [
              0.5555555555555556,
              "#d8576b"
             ],
             [
              0.6666666666666666,
              "#ed7953"
             ],
             [
              0.7777777777777778,
              "#fb9f3a"
             ],
             [
              0.8888888888888888,
              "#fdca26"
             ],
             [
              1,
              "#f0f921"
             ]
            ],
            "type": "surface"
           }
          ],
          "table": [
           {
            "cells": {
             "fill": {
              "color": "#EBF0F8"
             },
             "line": {
              "color": "white"
             }
            },
            "header": {
             "fill": {
              "color": "#C8D4E3"
             },
             "line": {
              "color": "white"
             }
            },
            "type": "table"
           }
          ]
         },
         "layout": {
          "annotationdefaults": {
           "arrowcolor": "#2a3f5f",
           "arrowhead": 0,
           "arrowwidth": 1
          },
          "autotypenumbers": "strict",
          "coloraxis": {
           "colorbar": {
            "outlinewidth": 0,
            "ticks": ""
           }
          },
          "colorscale": {
           "diverging": [
            [
             0,
             "#8e0152"
            ],
            [
             0.1,
             "#c51b7d"
            ],
            [
             0.2,
             "#de77ae"
            ],
            [
             0.3,
             "#f1b6da"
            ],
            [
             0.4,
             "#fde0ef"
            ],
            [
             0.5,
             "#f7f7f7"
            ],
            [
             0.6,
             "#e6f5d0"
            ],
            [
             0.7,
             "#b8e186"
            ],
            [
             0.8,
             "#7fbc41"
            ],
            [
             0.9,
             "#4d9221"
            ],
            [
             1,
             "#276419"
            ]
           ],
           "sequential": [
            [
             0,
             "#0d0887"
            ],
            [
             0.1111111111111111,
             "#46039f"
            ],
            [
             0.2222222222222222,
             "#7201a8"
            ],
            [
             0.3333333333333333,
             "#9c179e"
            ],
            [
             0.4444444444444444,
             "#bd3786"
            ],
            [
             0.5555555555555556,
             "#d8576b"
            ],
            [
             0.6666666666666666,
             "#ed7953"
            ],
            [
             0.7777777777777778,
             "#fb9f3a"
            ],
            [
             0.8888888888888888,
             "#fdca26"
            ],
            [
             1,
             "#f0f921"
            ]
           ],
           "sequentialminus": [
            [
             0,
             "#0d0887"
            ],
            [
             0.1111111111111111,
             "#46039f"
            ],
            [
             0.2222222222222222,
             "#7201a8"
            ],
            [
             0.3333333333333333,
             "#9c179e"
            ],
            [
             0.4444444444444444,
             "#bd3786"
            ],
            [
             0.5555555555555556,
             "#d8576b"
            ],
            [
             0.6666666666666666,
             "#ed7953"
            ],
            [
             0.7777777777777778,
             "#fb9f3a"
            ],
            [
             0.8888888888888888,
             "#fdca26"
            ],
            [
             1,
             "#f0f921"
            ]
           ]
          },
          "colorway": [
           "#636efa",
           "#EF553B",
           "#00cc96",
           "#ab63fa",
           "#FFA15A",
           "#19d3f3",
           "#FF6692",
           "#B6E880",
           "#FF97FF",
           "#FECB52"
          ],
          "font": {
           "color": "#2a3f5f"
          },
          "geo": {
           "bgcolor": "white",
           "lakecolor": "white",
           "landcolor": "#E5ECF6",
           "showlakes": true,
           "showland": true,
           "subunitcolor": "white"
          },
          "hoverlabel": {
           "align": "left"
          },
          "hovermode": "closest",
          "mapbox": {
           "style": "light"
          },
          "paper_bgcolor": "white",
          "plot_bgcolor": "#E5ECF6",
          "polar": {
           "angularaxis": {
            "gridcolor": "white",
            "linecolor": "white",
            "ticks": ""
           },
           "bgcolor": "#E5ECF6",
           "radialaxis": {
            "gridcolor": "white",
            "linecolor": "white",
            "ticks": ""
           }
          },
          "scene": {
           "xaxis": {
            "backgroundcolor": "#E5ECF6",
            "gridcolor": "white",
            "gridwidth": 2,
            "linecolor": "white",
            "showbackground": true,
            "ticks": "",
            "zerolinecolor": "white"
           },
           "yaxis": {
            "backgroundcolor": "#E5ECF6",
            "gridcolor": "white",
            "gridwidth": 2,
            "linecolor": "white",
            "showbackground": true,
            "ticks": "",
            "zerolinecolor": "white"
           },
           "zaxis": {
            "backgroundcolor": "#E5ECF6",
            "gridcolor": "white",
            "gridwidth": 2,
            "linecolor": "white",
            "showbackground": true,
            "ticks": "",
            "zerolinecolor": "white"
           }
          },
          "shapedefaults": {
           "line": {
            "color": "#2a3f5f"
           }
          },
          "ternary": {
           "aaxis": {
            "gridcolor": "white",
            "linecolor": "white",
            "ticks": ""
           },
           "baxis": {
            "gridcolor": "white",
            "linecolor": "white",
            "ticks": ""
           },
           "bgcolor": "#E5ECF6",
           "caxis": {
            "gridcolor": "white",
            "linecolor": "white",
            "ticks": ""
           }
          },
          "title": {
           "x": 0.05
          },
          "xaxis": {
           "automargin": true,
           "gridcolor": "white",
           "linecolor": "white",
           "ticks": "",
           "title": {
            "standoff": 15
           },
           "zerolinecolor": "white",
           "zerolinewidth": 2
          },
          "yaxis": {
           "automargin": true,
           "gridcolor": "white",
           "linecolor": "white",
           "ticks": "",
           "title": {
            "standoff": 15
           },
           "zerolinecolor": "white",
           "zerolinewidth": 2
          }
         }
        },
        "title": {
         "text": "UMAP 3D Projection of K-Means Clustered Data"
        }
       }
      }
     },
     "metadata": {},
     "output_type": "display_data"
    }
   ],
   "source": [
    "fig = go.Figure()\n",
    "\n",
    "unique_clusters = centroid_ids.copy()\n",
    "colors = px.colors.qualitative.Plotly\n",
    "cluster_color_map = {cluster_id: colors[i % len(colors)] for i, cluster_id in enumerate(unique_clusters)}\n",
    "\n",
    "for cluster_id in unique_clusters:\n",
    "    # Add points\n",
    "    mask = point_cluster_ids == cluster_id\n",
    "    fig.add_trace(go.Scatter3d(\n",
    "        x=points_3d[mask, 0],\n",
    "        y=points_3d[mask, 1],\n",
    "        z=points_3d[mask, 2],\n",
    "        mode='markers',\n",
    "        marker=dict(\n",
    "            size=3,\n",
    "            color=cluster_color_map[cluster_id],\n",
    "            opacity=0.5\n",
    "        ),\n",
    "        name=f'p - C{cluster_id}',\n",
    "        showlegend=False\n",
    "    ))\n",
    "\n",
    "\n",
    "    # Add centroids\n",
    "    mask = centroid_ids == cluster_id\n",
    "    fig.add_trace(go.Scatter3d(\n",
    "        x=centroids_3d[mask, 0],\n",
    "        y=centroids_3d[mask, 1],\n",
    "        z=centroids_3d[mask, 2],\n",
    "        mode='markers+text',\n",
    "        marker=dict(\n",
    "            size=6,\n",
    "            symbol='diamond',\n",
    "            color=cluster_color_map[cluster_id],\n",
    "            line=dict(\n",
    "                color=cluster_color_map[cluster_id],\n",
    "                width=5\n",
    "            )\n",
    "        ),\n",
    "        name=f'Cluster {cluster_id}',\n",
    "        text=f\"C{cluster_id}\",\n",
    "        textposition=\"top center\"\n",
    "    ))\n",
    "\n",
    "fig.update_layout(\n",
    "    title=\"UMAP 3D Projection of K-Means Clustered Data\",\n",
    "    margin=dict(l=0, r=0, b=0, t=40),\n",
    "    scene=dict(\n",
    "        xaxis_title='UMAP-1',\n",
    "        yaxis_title='UMAP-2',\n",
    "        zaxis_title='UMAP-3',\n",
    "        bgcolor='white'\n",
    "    ),\n",
    "    legend=dict(x=0.02, y=0.98),\n",
    "    showlegend=True\n",
    ")\n",
    "\n",
    "fig.show()"
   ]
  }
 ],
 "metadata": {
  "kernelspec": {
   "display_name": ".venv",
   "language": "python",
   "name": "python3"
  },
  "language_info": {
   "codemirror_mode": {
    "name": "ipython",
    "version": 3
   },
   "file_extension": ".py",
   "mimetype": "text/x-python",
   "name": "python",
   "nbconvert_exporter": "python",
   "pygments_lexer": "ipython3",
   "version": "3.11.2"
  }
 },
 "nbformat": 4,
 "nbformat_minor": 5
}
