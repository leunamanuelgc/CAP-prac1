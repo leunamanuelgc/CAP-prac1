{
 "cells": [
  {
   "cell_type": "code",
   "execution_count": 24,
   "id": "136a0079",
   "metadata": {},
   "outputs": [],
   "source": [
    "import struct\n",
    "import numpy as np\n",
    "import umap\n",
    "import plotly.graph_objects as go\n",
    "import plotly.express as px"
   ]
  },
  {
   "cell_type": "code",
   "execution_count": 25,
   "id": "0db8952f",
   "metadata": {},
   "outputs": [],
   "source": [
    "def read_all_iterations(filename):\n",
    "    iterations = []\n",
    "\n",
    "    with open(filename, \"rb\") as f:\n",
    "        # Read header once\n",
    "        n_clusters = struct.unpack(\"I\", f.read(4))[0]\n",
    "        n_points = struct.unpack(\"I\", f.read(4))[0]\n",
    "        n_dim = struct.unpack(\"I\", f.read(4))[0]\n",
    "\n",
    "        # Determine how many bytes one iteration takes\n",
    "        bytes_per_centroid = (4 * n_dim) + 4  # centroid values + id\n",
    "        bytes_per_point = (4 * n_dim) + 4     # point values + cluster_id\n",
    "        bytes_per_iteration = n_clusters * bytes_per_centroid + n_points * bytes_per_point\n",
    "\n",
    "        file_data = f.read()\n",
    "        total_bytes = len(file_data)\n",
    "        n_iterations = total_bytes // bytes_per_iteration\n",
    "\n",
    "        print(f\"📦 Detected {n_iterations} iterations\")\n",
    "\n",
    "        offset = 0\n",
    "        for iter_idx in range(n_iterations):\n",
    "            # --- Read centroids ---\n",
    "            centroid_data = np.zeros((n_clusters, n_dim), dtype=np.float32)\n",
    "            centroid_ids = np.zeros(n_clusters, dtype=np.int32)\n",
    "            for i in range(n_clusters):\n",
    "                start = offset\n",
    "                centroid_data[i] = np.frombuffer(file_data[start:start + 4 * n_dim], dtype=np.float32)\n",
    "                offset += 4 * n_dim\n",
    "                centroid_ids[i] = struct.unpack(\"i\", file_data[offset:offset + 4])[0]\n",
    "                offset += 4\n",
    "\n",
    "            # --- Read points ---\n",
    "            point_data = np.zeros((n_points, n_dim), dtype=np.float32)\n",
    "            point_cluster_ids = np.zeros(n_points, dtype=np.int32)\n",
    "            for i in range(n_points):\n",
    "                start = offset\n",
    "                point_data[i] = np.frombuffer(file_data[start:start + 4 * n_dim], dtype=np.float32)\n",
    "                offset += 4 * n_dim\n",
    "                point_cluster_ids[i] = struct.unpack(\"i\", file_data[offset:offset + 4])[0]\n",
    "                offset += 4\n",
    "\n",
    "            iterations.append({\n",
    "                'points': point_data,\n",
    "                'point_cluster_ids': point_cluster_ids,\n",
    "                'centroids': centroid_data,\n",
    "                'centroid_ids': centroid_ids,\n",
    "                'n_points': n_points,\n",
    "                'n_centroids': n_clusters\n",
    "            })\n",
    "\n",
    "    return n_clusters, n_points, n_dim, iterations"
   ]
  },
  {
   "cell_type": "code",
   "execution_count": 26,
   "id": "4d29fe23",
   "metadata": {},
   "outputs": [
    {
     "name": "stdout",
     "output_type": "stream",
     "text": [
      "📦 Detected 3 iterations\n"
     ]
    }
   ],
   "source": [
    "filename = \"./build/data/cluster_data\"\n",
    "n_clusters, n_points, n_dim, iterations = read_all_iterations(filename)"
   ]
  },
  {
   "cell_type": "code",
   "execution_count": 27,
   "id": "a9035409",
   "metadata": {},
   "outputs": [
    {
     "name": "stdout",
     "output_type": "stream",
     "text": [
      "✅ First iteration summary:\n",
      "Centroids:\n",
      " [[ 38.232704  42.508205 -23.204569]\n",
      " [ 50.54115  -45.641552  36.859154]\n",
      " [-38.447807 -53.61091  -35.255276]\n",
      " [-58.358795  22.131063  34.32306 ]]\n",
      "Points shape: (2000000, 3)\n",
      "Unique cluster IDs: [0 1 2 3]\n"
     ]
    }
   ],
   "source": [
    "print(\"✅ First iteration summary:\")\n",
    "print(\"Centroids:\\n\", iterations[0]['centroids'])\n",
    "print(\"Points shape:\", iterations[0]['points'].shape)\n",
    "print(\"Unique cluster IDs:\", np.unique(iterations[0]['centroid_ids']))\n"
   ]
  },
  {
   "cell_type": "code",
   "execution_count": 28,
   "id": "666168cf",
   "metadata": {},
   "outputs": [],
   "source": [
    "all_points = []\n",
    "all_centroids = []\n",
    "all_point_ids = []\n",
    "iteration_meta = []\n",
    "\n",
    "for i, it in enumerate(iterations):\n",
    "    all_points.append(it['points'])\n",
    "    all_centroids.append(it['centroids'])\n",
    "    all_point_ids.append(it['point_cluster_ids'])\n",
    "\n",
    "    iteration_meta.append({\n",
    "        'n_points': len(it['points']),\n",
    "        'n_centroids': len(it['centroids']),\n",
    "        'point_cluster_ids': it['point_cluster_ids'],\n",
    "        'centroid_ids': it['centroid_ids'],\n",
    "    })\n",
    "\n",
    "# Stack all points for reduction\n",
    "points_concat = np.vstack(all_points)\n",
    "centroids_concat = np.vstack(all_centroids)\n",
    "\n",
    "if points_concat.shape[1] > 3:\n",
    "    reducer = umap.UMAP(\n",
    "        n_components=3,\n",
    "        n_neighbors=50,\n",
    "        min_dist=1,\n",
    "        metric='euclidean',\n",
    "        low_memory=True,\n",
    "    )\n",
    "    points_umap = reducer.fit_transform(points_concat)\n",
    "    centroids_umap = reducer.transform(centroids_concat)\n",
    "elif points_concat.shape[1] < 3:\n",
    "    padding = ((0, 0), (0, 3 - points_concat.shape[1]))\n",
    "    points_umap = np.pad(points_concat, padding, mode='constant', constant_values=0)\n",
    "    centroids_umap = np.pad(centroids_concat, padding, mode='constant', constant_values=0)\n",
    "else:\n",
    "    points_umap = points_concat\n",
    "    centroids_umap = centroids_concat\n"
   ]
  },
  {
   "cell_type": "code",
   "execution_count": 29,
   "id": "ceb7bc70",
   "metadata": {},
   "outputs": [],
   "source": [
    "points_3d_per_iter = []\n",
    "centroids_3d_per_iter = []\n",
    "\n",
    "p_idx, c_idx = 0, 0\n",
    "for meta in iteration_meta:\n",
    "    np_ = meta['n_points']\n",
    "    nc_ = meta['n_centroids']\n",
    "    points_3d_per_iter.append(points_umap[p_idx:p_idx+np_])\n",
    "    centroids_3d_per_iter.append(centroids_umap[c_idx:c_idx+nc_])\n",
    "    p_idx += np_\n",
    "    c_idx += nc_\n"
   ]
  },
  {
   "cell_type": "code",
   "execution_count": 30,
   "id": "2994bde6",
   "metadata": {},
   "outputs": [],
   "source": [
    "def voxel_downsample(points, cluster_ids, voxel_size=0.1, max_points=10_000):\n",
    "    max_points = int(max_points)\n",
    "    down_points, down_ids = [], []\n",
    "    for cid in np.unique(cluster_ids):\n",
    "        pts = points[cluster_ids == cid]\n",
    "        if len(pts) == 0:\n",
    "            continue\n",
    "        vox = np.floor(pts / voxel_size).astype(int)\n",
    "        _, idx = np.unique(vox, axis=0, return_index=True)\n",
    "        reduced = pts[idx]\n",
    "        if len(reduced) > max_points:\n",
    "            reduced = reduced[np.random.choice(len(reduced), max_points, replace=False)]\n",
    "        down_points.append(reduced)\n",
    "        down_ids.append(np.full(len(reduced), cid, dtype=np.int32))\n",
    "    return np.vstack(down_points), np.concatenate(down_ids)\n",
    "\n",
    "reduced_points_3d_per_iter = []\n",
    "reduced_cluster_ids_per_iter = []\n",
    "max_points_per_iter = 3500\n",
    "\n",
    "for i, (pts3d, meta) in enumerate(zip(points_3d_per_iter, iteration_meta)):\n",
    "    if len(pts3d) > max_points_per_iter:\n",
    "        reduced_pts, reduced_ids = voxel_downsample(pts3d, meta['point_cluster_ids'], max_points=max_points_per_iter/n_clusters)\n",
    "        reduced_points_3d_per_iter.append(reduced_pts)\n",
    "        reduced_cluster_ids_per_iter.append(reduced_ids)\n",
    "    else:\n",
    "        reduced_points_3d_per_iter.append(pts3d)\n",
    "        reduced_cluster_ids_per_iter.append(meta['point_cluster_ids'])\n",
    "\n",
    "# Replace old lists with reduced versions\n",
    "points_3d_per_iter = reduced_points_3d_per_iter\n",
    "for i in range(len(iteration_meta)):\n",
    "    iteration_meta[i]['point_cluster_ids'] = reduced_cluster_ids_per_iter[i]\n"
   ]
  },
  {
   "cell_type": "code",
   "execution_count": 31,
   "id": "e1e0f2ae",
   "metadata": {},
   "outputs": [
    {
     "data": {
      "application/vnd.plotly.v1+json": {
       "config": {
        "plotlyServerURL": "https://plot.ly"
       },
       "data": [
        {
         "marker": {
          "color": "#636EFA",
          "opacity": 1,
          "size": 4
         },
         "mode": "markers",
         "name": "C0",
         "showlegend": false,
         "type": "scatter3d",
         "x": {
          "bdata": "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",
          "dtype": "f4"
         },
         "y": {
          "bdata": "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",
          "dtype": "f4"
         },
         "z": {
          "bdata": "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",
          "dtype": "f4"
         }
        },
        {
         "marker": {
          "color": "#636EFA",
          "line": {
           "color": "black",
           "width": 0.5
          },
          "size": 6,
          "symbol": "diamond"
         },
         "mode": "markers+text",
         "name": "Cluster 0",
         "text": [
          "C0"
         ],
         "textposition": "top center",
         "type": "scatter3d",
         "x": {
          "bdata": "Su4YQg==",
          "dtype": "f4"
         },
         "y": {
          "bdata": "ZwgqQg==",
          "dtype": "f4"
         },
         "z": {
          "bdata": "9aK5wQ==",
          "dtype": "f4"
         }
        },
        {
         "marker": {
          "color": "#EF553B",
          "opacity": 1,
          "size": 4
         },
         "mode": "markers",
         "name": "C1",
         "showlegend": false,
         "type": "scatter3d",
         "x": {
          "bdata": "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",
          "dtype": "f4"
         },
         "y": {
          "bdata": "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",
          "dtype": "f4"
         },
         "z": {
          "bdata": "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",
          "dtype": "f4"
         }
        },
        {
         "marker": {
          "color": "#EF553B",
          "line": {
           "color": "black",
           "width": 0.5
          },
          "size": 6,
          "symbol": "diamond"
         },
         "mode": "markers+text",
         "name": "Cluster 1",
         "text": [
          "C1"
         ],
         "textposition": "top center",
         "type": "scatter3d",
         "x": {
          "bdata": "IypKQg==",
          "dtype": "f4"
         },
         "y": {
          "bdata": "85A2wg==",
          "dtype": "f4"
         },
         "z": {
          "bdata": "xm8TQg==",
          "dtype": "f4"
         }
        },
        {
         "marker": {
          "color": "#00CC96",
          "opacity": 1,
          "size": 4
         },
         "mode": "markers",
         "name": "C2",
         "showlegend": false,
         "type": "scatter3d",
         "x": {
          "bdata": "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",
          "dtype": "f4"
         },
         "y": {
          "bdata": "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",
          "dtype": "f4"
         },
         "z": {
          "bdata": "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",
          "dtype": "f4"
         }
        },
        {
         "marker": {
          "color": "#00CC96",
          "line": {
           "color": "black",
           "width": 0.5
          },
          "size": 6,
          "symbol": "diamond"
         },
         "mode": "markers+text",
         "name": "Cluster 2",
         "text": [
          "C2"
         ],
         "textposition": "top center",
         "type": "scatter3d",
         "x": {
          "bdata": "jsoZwg==",
          "dtype": "f4"
         },
         "y": {
          "bdata": "knFWwg==",
          "dtype": "f4"
         },
         "z": {
          "bdata": "ZwUNwg==",
          "dtype": "f4"
         }
        },
        {
         "marker": {
          "color": "#AB63FA",
          "opacity": 1,
          "size": 4
         },
         "mode": "markers",
         "name": "C3",
         "showlegend": false,
         "type": "scatter3d",
         "x": {
          "bdata": "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",
          "dtype": "f4"
         },
         "y": {
          "bdata": "nEQcQqOXW8JqWLxCuKMfQfJwTcIASoRCOCtiQeA9JkIMN6tC+H87wsxsm0LAJhpBuIVHwQArdEJ4ybNBtt26QtDlzkHsdDNCwAi6wL7ut8KAsJdCziCLwjS9IEJUzclB4EzGwXgaTEIIMnpCkGEwQVC7pEDCO51CmsGiQuA9E0IAZetBVGdwQui5EcEEjsdCwIfxPzVytsKgRDRCzuDEQsahh0KW5AvCYEiLQlDS1sC034dCZJ56woiCXEJ6K4hCJLOBwT6VvUKUtj5CFp5Vwl3JW8JAbsvB/JGoQe5Hm0JsI7NBaPy5QVDdyUHsBGFCQNCCQrIEhULAu5k/eM1zQuDin8Do985B7N5dQjAL/sEonTrBoAHEQpDamEKYT2TBxO19QgyCkMIUuYVCGzFwwrA9gEIkEbzBIA90QsREwUK4kCxCQA1FwP6BpUKAyLO/0BnOwRTGOEJwHlJC2JkFQfA6LcJAG9NAMKLeQWh7uUFowCnB/DhJQli8/kGjJ33CoIJAQiCjHsDMdJBCqDNwQnDNgkIziCvCe0GowvBu0cFAz7HCnlTCQvyqPUIAZu1AsD6UQEDU9kDmmFPC3FgPQsqFuUI2GqNC/EvEQXBuZkJ0TrTBRI/EQUISvULoE7lBOD9bwQhYfkJVCGTCeLwpQoRUp8Ho/6xCFplJwjBZkUE0iy1CKCZKQax9VELY7lVCwHwVQuoimUKybpJC9JuUQuJjr0IgZ2RC8FGsQSBtk0AkPINC7DeRQqBuHUJoE55CCPqWQlptl0KszRNCNIpfQg7SlkJKZ7hCpDmjQgAO3sB4EolCgO65wXAc60FgP4jAeOWbwjBF80Gg3TxCNICPQeAr8cDsBxdCAGqqQeABtUL4AD3BvOQcwpBU6kHeJD3CIM7FQsCuL0E4O4BBJIGQwdBqkUFYJQvBwqasQhSCBcKGlqhClHBgwkhLDUKaX6NCEALoQWb4hkIMAo9C1840wvSo0MFfMmzC8AknQqY+jUJKFGPC5Ag+wiSsY0L+wIRCyvegQl5uncJiUcBC8G2FwGY/nEJ+VJJC4DUhQdQb0EFwjtPAUOPHQsgyEkIQ82fBqKouwZzfwUGMMgbCSDNhQQBD8D8KlbhCmMxPwXDse0Kcp0hCcFs8QTD+TMGgYjBCpHMGQiyaoUGQ8FdChO2nwSi1NUJg8mfAPBtmQiAc2kDAhFVC3J1bQt2qt8LI1o9CcO03wcAAY0KgFXFAwK9LQkhygsIsTZvBMOWhQq4uNsLKvKFCnHUdQtBJckJscwBC+MMPQqgpo8HgWBjBMppKwjB/+kEEGG9C2BqIQZRfUcLADlBCuiSaQmiUukF8OWPCfBLJQRDKp8IUFnBCWJkowbjon0J8l3xCgEufQcCbjD+z91LCuP8Hwgw0OkIcvJBCsJf8QTRo5cHUf4bCluehQqQTdELMWLxC6BwkQhjx50Fwy1VB6AXJwUyBzEG/Gn7CbGOPQcCV/D9meKJC9gyrwnyqhkKsQQFCQXyBwjA+hsBUogRCJD66QuJnUsIEsLnBZATDQthsdEI4r7tBYDabQgAf5z6wDQfCtF3aQbq1jUIeJcRC6CB1Qoocq0KI+bdCeNFBQfCSqMHIjlNCbCW9wWzla0LOyJRCCE4OQVhqncFE0TBCIKILwlwgCkKY8qBBUGG6QSglCkJmIArCitGSQuAXV0GsOJ1CZDB/QsaOoEKKuojCAOgPPrKMjkJkZZDCOIKPQtQAIsKg+XvBiECKwUB0kcEAY+FBXIWWQsoCN8JyUUzC1JGHQYD1B0Bq/8VCUL29QfhHkEGyEQPCcMWvQNz+mcLsh97BCINWQpCt90GQsb9Ahqe5QtCoQEIiyQfCMCn2wbjxlkIMXn9CDNLowVT2ncFA1ttB7D6LwSdUqMKiTcNC0CgoQXAHCULeB6VC0OkIQviXZ0KcI6rBoFw8wRrDgEIwek/BlGebQigJqkIoU01CXM4IQhCajkLAmNxAsNHZQdBLl8LgJqZCMGRfQWjyFUI8XKvBt8dPwqAEuMEkP7BCkIAtQRCItEKUOnJCcLztQHBfM0FINiFCPVxEwhzPk0EMIsVCYELOQSDBeULw0btAqFtGQi5kjMLiKLNCQF66Qs35EcLAk+lBaluDQmTQkEL2Qb5CbbG6woh/O8JcCbBBBkmMwrAwjELmVZhCjCSdwfqio0IY4V1CyEB5QsUeicIa7rBCDoawQmCBz8DDsinCWNodQTJ6mMKgSuPBoIT+QX+2W8JUKARCWM3vQWBpM8JMlVNCuBTtwTgLZkFgKVlB5IwQQpl8ZcKgwYRA/BOAQUzOk8HoiupByPzkQZmhXsImU5dC4JBhwADYg8AMQT5C2CljQjBLqEI83zVCUEEwwiT9NUJeu1TCGEx2QUjQxUFA8KlBQCwAQpzIm0GgM0zBABDQwdBFm0GWh7lCeA93Qqq/n8LY7HfBuIqCQhT4K0LIUJHBVLSkQXWJr8IoMDxC0IdaQXhOD0KYHpFC0pylwqTqpsH0M0xCOpMywvCgq0AK+F3CaGsbQegFOUJA3gRCvMKUwprakkIEHnjCNAJdQqgsF0JYMnlCCNuuQgi0ckK8BdXB3WmdwqwYXkKgaNZB9miAwngUkEKo+fJBHmMkwsj+e0HMTrxCAFhQPRS4EkLIFJRCSCAxQhisd0KAUtU/aEUpQhi6TUIA6KBA1v8DwhDfbkJWnIdC/Dm3QkJCYsJgCkdCAJuMQQyKnMGgll/AMMdSwrEJNsLIlwhC4LhQwYYeukI4P25BmFQpQdA9AsJYSrxBrMQUQojsA8EQnH9CjJhKQh8yNMK5j1fCKRtswgCVoEBAWJ+/qGzXQYi6YUL0K3JC+LoqwviHFUGoU4hBlN13wug2dELQvyVCr1lUwrwM28FggsVBwKV3QaLvxUKe2cdCrPBhQty1pEKYMoBC6Mt7QngqYUJdUEnCqLxlQawnKUIogZZC6NHpQUjbJ0JwndRBZOBFQhiez0FQVQhCIPwswDANIEG2ULtC9JBuQpjokUGBPnfCsO3oQYgUU0GwazVCwCPGQZiwMUIAK9TAQBLIwADSwr5xJCbC5HMDwsTnikKE1VZCOJluQjhkpkHkHb5Bthm1QvgZSkJQobRC1J0kQliYcEIIXRjC4CmvwE75g0KQ5/fALJ4EQis9qcK0/6RBIE5aQlBxLEHQ559CBFQPQrhdlUHABy3CIINPQiS4aEK0e9PBvCsXQqCjpkLQiqXAAKHhP5SchsKe27xCMM/LwX7/xUIgQvFB6E0MwmiEHsEgwHxCBNJ9QoCuicJUCzHCKMtWQZgX/kEQHDpCfMOrQqjy9cEKtsdCHCEiQry+sEKgUSzAS7RUwngLD8GAzl2/aMWOwRzir8LEd7tBYDQAQsgqL0JYTu9BJE32wUCD4cAsRn9CIdh9wigoLsEG/bFCuLb0QTS2b0L0R3pCfI63wpB7JEEA9PU+dIjGwuQds0LMayHC0iBHwjQWmUKYApfCEDEEQdTSoMFcjarBYL3twOhH9UGAzus/ICCAQUCBU0FCFm7C0KavwLouwEIwRK5BwPMQQFD2ukLI/rhB0BiTQPQNM0LIzA/BXFaIwdgUzsGLOUbCvJa9QcjnmME0zEFCHMTYwfyEb0JgQsTB4DImwP6JmUKGrJxCmPhPQlw1S8II3S5BUJr4QbwrmEKEYC1CcGDIQVDNl8Ks+XBCAFBCQnjxN0JlKH3C6A93QoBIC0B69AXCsHq7QqSLFkL0WnBCvDy8wWx9nEJo+kbBUHBkQZbaG8KQ+NFBgJW7QCBV8MAIk3ZC8FBMQmxiXEI+cYNC6LdNQg61gkLAxfxBWnqNQsjHEsGLxGPCiIFjwQgq3sGiZINC2GJVwWSzi8EoAoNCE9cgwhDOo0FmA5VC/Lp9QhDaxMCAJD1CYM7lQXARk8KASz4/8L6EQWEXJcKwkW5COIYtQtyQxEJQXYtCOOOyQSgXIELETzlC1ypvwlDESsHEj1xCC0QQwiTrI0LqAFzCXKGjQcATasLieqlCjB3FQvCCfULohplC2JxaQUjGucFAdeS/MlcBwtQKSUI4IEpCRATIQUS9aELIdZTB0IvFwe7YjULo0lBCaqeEQgiSBELQxrRAeBG3wdalrkKocyPBwA1pQqCsZkHd3UTCNJaxQgB0nj2glR9BmHpRwuINxMKYKjNCACigQXyXbcKYJsNCUHLdwdQjK0JgmILAVvWzQnYVpkJwmObAQMxwQcA5oj8AdJ9CdmuOQoROHkIETnlCA18jwsTQPkJAighCFqKHQnhkSkKYBTZC/G06QrjBuEKMYVRCxGYDQpgYg0JknYpCJrOoQsiykkGyephCDA0SQthpwMGXznrCdFirwSxODkJA08dCczdlwizspUJWJbxCbKmfQjBelMA2QKdCANkBwVIkq0JmIb5CbjeXQnifF8Hgt05BwiqrQsClq0G4sofC8I2QQBDhq8DwY2DB1/NywplnkMLu7XbCtHB2Qjs9oMIQn/TAAzlewpZtiUIY3IFBLtulQuCPdcEQRR1CWKBkQhjLfkKQ63xBSJeXQSguQUJA0qZBbIU8QjBfSEI02K1BrPEcQlx2WULCwK1CQPGXwfS200FIyKpCoHHwQKzzgULW1bFCQFsKQhw1GkLYp0BCMF4oQix4DUKQ7R1C5M+RQqjLE0I=",
          "dtype": "f4"
         },
         "z": {
          "bdata": "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",
          "dtype": "f4"
         }
        },
        {
         "marker": {
          "color": "#AB63FA",
          "line": {
           "color": "black",
           "width": 0.5
          },
          "size": 6,
          "symbol": "diamond"
         },
         "mode": "markers+text",
         "name": "Cluster 3",
         "text": [
          "C3"
         ],
         "textposition": "top center",
         "type": "scatter3d",
         "x": {
          "bdata": "aG9pwg==",
          "dtype": "f4"
         },
         "y": {
          "bdata": "awyxQQ==",
          "dtype": "f4"
         },
         "z": {
          "bdata": "0EoJQg==",
          "dtype": "f4"
         }
        }
       ],
       "frames": [
        {
         "data": [
          {
           "marker": {
            "color": "#636EFA",
            "opacity": 1,
            "size": 4
           },
           "mode": "markers",
           "showlegend": false,
           "type": "scatter3d",
           "x": {
            "bdata": "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",
            "dtype": "f4"
           },
           "y": {
            "bdata": "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",
            "dtype": "f4"
           },
           "z": {
            "bdata": "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",
            "dtype": "f4"
           }
          },
          {
           "marker": {
            "color": "#636EFA",
            "line": {
             "color": "black",
             "width": 0.5
            },
            "size": 6,
            "symbol": "diamond"
           },
           "mode": "markers+text",
           "name": "Cluster 0",
           "text": [
            "C0"
           ],
           "textposition": "top center",
           "type": "scatter3d",
           "x": {
            "bdata": "Su4YQg==",
            "dtype": "f4"
           },
           "y": {
            "bdata": "ZwgqQg==",
            "dtype": "f4"
           },
           "z": {
            "bdata": "9aK5wQ==",
            "dtype": "f4"
           }
          },
          {
           "marker": {
            "color": "#EF553B",
            "opacity": 1,
            "size": 4
           },
           "mode": "markers",
           "showlegend": false,
           "type": "scatter3d",
           "x": {
            "bdata": "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",
            "dtype": "f4"
           },
           "y": {
            "bdata": "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",
            "dtype": "f4"
           },
           "z": {
            "bdata": "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",
            "dtype": "f4"
           }
          },
          {
           "marker": {
            "color": "#EF553B",
            "line": {
             "color": "black",
             "width": 0.5
            },
            "size": 6,
            "symbol": "diamond"
           },
           "mode": "markers+text",
           "name": "Cluster 1",
           "text": [
            "C1"
           ],
           "textposition": "top center",
           "type": "scatter3d",
           "x": {
            "bdata": "IypKQg==",
            "dtype": "f4"
           },
           "y": {
            "bdata": "85A2wg==",
            "dtype": "f4"
           },
           "z": {
            "bdata": "xm8TQg==",
            "dtype": "f4"
           }
          },
          {
           "marker": {
            "color": "#00CC96",
            "opacity": 1,
            "size": 4
           },
           "mode": "markers",
           "showlegend": false,
           "type": "scatter3d",
           "x": {
            "bdata": "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",
            "dtype": "f4"
           },
           "y": {
            "bdata": "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",
            "dtype": "f4"
           },
           "z": {
            "bdata": "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",
            "dtype": "f4"
           }
          },
          {
           "marker": {
            "color": "#00CC96",
            "line": {
             "color": "black",
             "width": 0.5
            },
            "size": 6,
            "symbol": "diamond"
           },
           "mode": "markers+text",
           "name": "Cluster 2",
           "text": [
            "C2"
           ],
           "textposition": "top center",
           "type": "scatter3d",
           "x": {
            "bdata": "jsoZwg==",
            "dtype": "f4"
           },
           "y": {
            "bdata": "knFWwg==",
            "dtype": "f4"
           },
           "z": {
            "bdata": "ZwUNwg==",
            "dtype": "f4"
           }
          },
          {
           "marker": {
            "color": "#AB63FA",
            "opacity": 1,
            "size": 4
           },
           "mode": "markers",
           "showlegend": false,
           "type": "scatter3d",
           "x": {
            "bdata": "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",
            "dtype": "f4"
           },
           "y": {
            "bdata": "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",
            "dtype": "f4"
           },
           "z": {
            "bdata": "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",
            "dtype": "f4"
           }
          },
          {
           "marker": {
            "color": "#AB63FA",
            "line": {
             "color": "black",
             "width": 0.5
            },
            "size": 6,
            "symbol": "diamond"
           },
           "mode": "markers+text",
           "name": "Cluster 3",
           "text": [
            "C3"
           ],
           "textposition": "top center",
           "type": "scatter3d",
           "x": {
            "bdata": "aG9pwg==",
            "dtype": "f4"
           },
           "y": {
            "bdata": "awyxQQ==",
            "dtype": "f4"
           },
           "z": {
            "bdata": "0EoJQg==",
            "dtype": "f4"
           }
          }
         ],
         "name": "frame0"
        },
        {
         "data": [
          {
           "marker": {
            "color": "#636EFA",
            "opacity": 1,
            "size": 4
           },
           "mode": "markers",
           "showlegend": false,
           "type": "scatter3d",
           "x": {
            "bdata": "6OnCQZDC0kEsOYpCEfkrwshue8HYO7tCIFOWQRgZRkKU4ahC1M5OQgDLmELAARpChKTaQfNZg8Iw5MVC4Fm/QoRZFULAKFtBQOqjQkhVgkF36BrC1EUIQqDqqUJEBtzBiFzCQq71gUIULANC4GpqQhThoMEA4wpCqMB3QbRYOUIY6UFC88pDwmAl4kBcr8RCYgWIQlAk5kFoLihBJDCEQjbDnkIIAgFBIpyLQuiygkIQ1hDB8L2+QUCWd8EG74NCLLiswc7LmkJHyWDCsGbnwLD6tMGAjfO/mNqpQRRCi0KoMI9CcIGsQmTQl8H4krdCSCgAQniXDkEeWLdCFOGXwTZ+mELUGrNB0PAvQZq2pEIAH3PAGGPCwdgzzUFsUFtCkLUzwbwmrUE0hKjBsBq/wWRYicEYdtxBzJSXQuhphUFghF3BxMm2QloTdMKQD5jBepelQpCDKsKs4W9CGuCZQjLRTcLAAdZAoIhOQoxB1EFgc/pBYkeIQkx3c0J4zhFCHJa/QnAVFkHuOZZC7hdAwmh3r0IAmxs/oLH7waAdoEF0nKhCFJI4QpSC1kGAUotCWl6XQkDzkEA2eJBCcM6mQhiyy0FGarhCHDGrQnBdZEHYC1hCSDyNQZwwLUK4NKPBPL0OQhqKuULQYqVBbCmOQkSzvUISf0nCev6EQhj6yEFwp/FBjMFeQtAMX0IAsDk/SmuRwsCWw7+AtABADoeDQsjJwEGYjFFCeI5hwTzJLEK0XgBC+MbfwegGMkFu8JxC6DvmQYThkEIYVUhBwHdoQkDvjz+Mv8VCZN+NQio8ukKIiVhC/AeUwdCupUIYu0BCqGkWQtDSdUIA1G8/IKAmQkyoqkI2xEvCRpQHwvjW6kFAi/BBGABEQngMGEJUgMLBgr6AQgT2okF054pCmKcOQrjt3sGzkkbCqLuAQuAlHcBgzhzA6MieQgBOuMHEblJCtMwFQhwjvEF4UePBsoCmQoelZsLwPItAXgiRQi4tgkLcI4TBjALRQQSSBEJWEWrCaKinQthBxkLE9ThC/l2MQsiClsHodZBCWkqyQhQExUJkkJ9B+j2kQuBRt0JAIP/ApIK0QQDpNkDQH4zA0p2dQuB4YkL1/CjCMCcKQqCgYMD4oODBpNRqQsSGGUJYDh5BxGheQoCQlEISzbJCHwZawlSdsEJA7NlBGKv/QZiqSEKsf6RBitnFQrxmLkLoWInBjGS/QgwHXUK6kIRCrPyQQUStSkLmV8dCLA/XQXgatkJQUbZAUG+wQQAoG0IAU5DA4OMAQppDpEKII6TBiAd6QTQBnkIU3NJBfBdbQuw6dEKATqNC3AI0wuD4osFoKW1CqKumwRw5pkLY3mdCaBjjQdTOVkKA+MHBbGxYQrSl7MFID8BCEESlQnCmSsFQ5bpBmg6gQuC3EUIcMmpCAKJmQTB5A0FgVBNC0Fx3QUDMnUJcoypCuE03Qigp0EEM0XtCzLR0Qgy5SUKc5DBCUN9/Qtphu0KDRU7CvKkIQiSeXkIQloBC8FYoQiTcmUHYa0xCyCwRQuxtlELQ3U1CCFTvQci7qsFYvYxBwMXvPyRxTUK4U2NCduuNQmAc58CYTEtChJ8zQpAeKkJwxOXAcCtKwQCzob5sL7tCfPqbQvBN/sEMvJJCDDX2waoDk0Ke/ahCzKMSQtBhmUAQgsFC3lCbQgDyGj4gwwXAhEopQoBAjUHAdP1AdNQnQt53uEJI5ipBNiaeQliXfUJaZbFCMp2oQoDtrUA8WXBCABoYQaGQLcLwDUpBKN9OwaSuC8LgGodCkDAYQbDxxMGYN0tCooXGQoBSZkGkT4RC7rmTQgjcQ0EYXkBCGmaCQmiwcEKQAYtCWD6hQcj9OkLoRrBBJBVtQthK30G8rLJCXqMMwlgWiUHuN7BCoHzeQFKVvEKolcRBxV0mwswPmULYku1BYB5UQCi8kkE4EGPB9JcQQtQbm0LkzwdCPBYzQog2RUKQAjfBgB2mv+xCnEJUpJRC3IAXQrh2oEJWs8ZCQSARwvDgaEJoICzBLK6rQQoctELwGifBYO16Qiy1x0IYurZCXF5lQn4Zb8LgZp5CuHGTQnYQwULYLSdCxISwQigGvkK8LQ9CFCG+QvAm+EAgPARALKwzQtpfskI0S9pBrCpzQoxygkLQqiJBklTEQnTezMFCq7tCYBOLQlhFcEI8a6lC4NIGQiQFqEHhIzfCIJ/hQeAHn8HguqvAAN+lv8z7bEJwu51BvLlAQvhcDEGoz1ZCMC9FQZzIgEIoNh1BUCjsQWg3ZkJQAPlBGIGfwRAXdkIKb4RCFIR9QrhmuUGgTcVBIAFvQnDatEJqyqNCKMfaQViPHUKopWZBAFhjPpCsAULYQHtCYl+NQqSgD0IgC8JCUJn/QcjWkkKQqGpBPBSpQUQWQ0K+/rJCKDuqwQRWpkKwjKlCFNoEQs4tWcInzS/CYlCMQtCtnEHI/wPB1BiqQsCxvsDEP1ZCoH+rQjqCnELmaU7CmIldQvD6oELI2chBeJcLQsDIJMDwTKtCQOW/QiYdj0Iw22/BEKxHQchBT0KA/cm/QLXaQBIOskLISnpCAPlTP3Qs2EFmxJxCHOcRQuKJmUJoZmpB0PspwZw4HEK4/7VBYGVzQE7qhcKYzg5CPgqTQrjnxEJs69hBJFkFwpQ7U0KkEIfB0hmWQlQD10FkKt5BpE6OQnQXIEJUy55CoILpQQBR40FNNB3CUEYnQtgpFUGwnZFB0EmwQXwTQ0KkOSBCkCDXQGjceEKKiKNCJLUFwgDO5T8ACHS9DoawQsAeAMJA9F1CuEtwQtSkRUJ4NPBByvetQgzne0IAM5NBuLAyQTSUgkJE/FBCBIFOQroltkKkjj9CemujQtitIkLYrAbB6Gc3QbZDuELyGJRCwDAlQljUx0EYqEFCineQQsTIKUJsqoBBOPB3QdjeIEIA1T9BKHNOQgD/mEKwQ2JBEGcGQiRpP0KsOI9CcHYUQsyi8cF0lQtCePy+weg9gUHAJ5hA1MRgQhRJXUL8zjtCXn2NQizEFEK8T65BjMVfQsRJDEI2n5pC9MmfQXJckkJ4NSPBTH/UQXx0f0Lk+JnB2D/vQWCA2kHQi8RBiLs8QUjOEsHmf6tC+eMtwjgaP0GssalCgAqaQpgSwkLQrztCIJTsQQggAUIeC59CDGZdwhSDwsH4pk9CjPS/QhCaP8FIS11BFJctQqCYMkI0TCZCxIGOQpZoikIkzgHC+oS9QpTlpUEYmO5BLvGBQowMXUJIuZdB8PfqwfBGh0LyZKhCsmy0QjxKg0HgZbNCCBeuQgxDH0JUoW1CAP/eQADioUKcdy9Cj/98wgQen0I8MFRCiHCFQig3E0JYC6RCvJUjQgJVgkLEmhVCqF7owWzIm0IA4Ge8rryXQiAyVUI4zSVC3NivQhgElUFYSodCbliWQiAagEJkho/BotOwQiiov0LA0g9CwP2+QIik4UHUUxBCgB9iP4B37z9Kvg3CZi2JQng5KEJcRX5C5jOIQsS+dkIQLzVCUDsTQoBSk0GIw5/BKO+8QaBhykHUk2VCyBoLQbDmYkJIMvRB2IGMQnrLiEJYB1pCwDbzQWDkgkIw+YlCPDc6QtymrkLAfKvAoL0rQqgfy0EeFDXC/KOOQtqunkKWfr5C/DlAQn5BtkJgE23AVAAiQpRsPUKAOJtA0lupQh3tSsKMjolCUYMfwlDzi0KQ88VA0pSHQsQDYELQh0rC0ONPwT6esEKYfxFCMPYAQmhFJEHkRhxCqOdFQiSZo0Lw//VBDPAMQmMcHsIYeH9C0M5uQiRAS0KQ7PNBGJnqQSDdLUKM4uHBaCKBQgyNQkJ6rJZCfNTTQYCUTz8IcjrB+JNZQtytykHMz69C8C4HQqC9MkL8KbhCfFhzQjiPK0I2WKZCMGIxQmDVA0KC6oJCCNBvQkjRYUKG8LRCxLQJQvwMv0HEuz5CXLQNwurIoUI0UcFC2PciwaTLgEL0NhdCKKh8QtzkyEFGPb5CcP7CQC6Bm0KAjrpBQDZiQsRP5cFsyZ9CsF0mQoij5kFglyFC2HL9QeAOsUBWPoBCAGtTQWYEo0JcirhCQH/qQVhMGcEMUjFCGJEaQQjPBcKoGTNCfNoBwmiljUL4/epBoB1gQtRasUGABxNCSFdMQmCu5sDgsLZA3M60QQofjkLwBepBsNnVwFyImUJMMB3CmLyrQoCviEFgzRbBLpK7QgDycULGF6dChm2yQs4toEIUJ35CRuejQqqluEIAopG+gKG5wceJNsKe97RCZgycQlxhjEGgPLVBNFLBQoCkZkKU1lRCMAGXQg5LpEKm7hnCFHdBQsgbUULMpZ5C0K7vQGDRV0EAptrA+J1BwYgRWkLgrvhBeH2hQlGjgcK2HI5CKOVfwUJWr0LoRN/B0JYPwVxEFMIAji1CvNWFQkh8uULosrRCeD1ZQfwggULPSGbCEBU3QkBitcC2k6RCpHWIQTzurcGQc0NBgOYiP5yyn0LymzPCdBBHQvATuUEwUnZCyGGfQmTMbkKtwhnCMB8SQRIivEKQoLXAeGxBQQyhmUFUxj9CMF1EQWj8tUJc48NBaD7kQWBWM0IQE6xCOOr6QdgcE8Hozh1CKLPZQXocn0KADx4/5KCrQaSMNkLg+MlB/ku6QrAdFUJskIZCQHc4wNDaFkE=",
            "dtype": "f4"
           },
           "y": {
            "bdata": "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",
            "dtype": "f4"
           },
           "z": {
            "bdata": "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",
            "dtype": "f4"
           }
          },
          {
           "marker": {
            "color": "#636EFA",
            "line": {
             "color": "black",
             "width": 0.5
            },
            "size": 6,
            "symbol": "diamond"
           },
           "mode": "markers+text",
           "name": "Cluster 0",
           "text": [
            "C0"
           ],
           "textposition": "top center",
           "type": "scatter3d",
           "x": {
            "bdata": "ImIZQg==",
            "dtype": "f4"
           },
           "y": {
            "bdata": "buA8Qg==",
            "dtype": "f4"
           },
           "z": {
            "bdata": "PhXbwQ==",
            "dtype": "f4"
           }
          },
          {
           "marker": {
            "color": "#EF553B",
            "opacity": 1,
            "size": 4
           },
           "mode": "markers",
           "showlegend": false,
           "type": "scatter3d",
           "x": {
            "bdata": "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",
            "dtype": "f4"
           },
           "y": {
            "bdata": "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",
            "dtype": "f4"
           },
           "z": {
            "bdata": "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",
            "dtype": "f4"
           }
          },
          {
           "marker": {
            "color": "#EF553B",
            "line": {
             "color": "black",
             "width": 0.5
            },
            "size": 6,
            "symbol": "diamond"
           },
           "mode": "markers+text",
           "name": "Cluster 1",
           "text": [
            "C1"
           ],
           "textposition": "top center",
           "type": "scatter3d",
           "x": {
            "bdata": "EZJAQg==",
            "dtype": "f4"
           },
           "y": {
            "bdata": "lC8wwg==",
            "dtype": "f4"
           },
           "z": {
            "bdata": "4ssWQg==",
            "dtype": "f4"
           }
          },
          {
           "marker": {
            "color": "#00CC96",
            "opacity": 1,
            "size": 4
           },
           "mode": "markers",
           "showlegend": false,
           "type": "scatter3d",
           "x": {
            "bdata": "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",
            "dtype": "f4"
           },
           "y": {
            "bdata": "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",
            "dtype": "f4"
           },
           "z": {
            "bdata": "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",
            "dtype": "f4"
           }
          },
          {
           "marker": {
            "color": "#00CC96",
            "line": {
             "color": "black",
             "width": 0.5
            },
            "size": 6,
            "symbol": "diamond"
           },
           "mode": "markers+text",
           "name": "Cluster 2",
           "text": [
            "C2"
           ],
           "textposition": "top center",
           "type": "scatter3d",
           "x": {
            "bdata": "7M0Qwg==",
            "dtype": "f4"
           },
           "y": {
            "bdata": "yX5Ewg==",
            "dtype": "f4"
           },
           "z": {
            "bdata": "P8srwg==",
            "dtype": "f4"
           }
          },
          {
           "marker": {
            "color": "#AB63FA",
            "opacity": 1,
            "size": 4
           },
           "mode": "markers",
           "showlegend": false,
           "type": "scatter3d",
           "x": {
            "bdata": "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",
            "dtype": "f4"
           },
           "y": {
            "bdata": "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",
            "dtype": "f4"
           },
           "z": {
            "bdata": "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",
            "dtype": "f4"
           }
          },
          {
           "marker": {
            "color": "#AB63FA",
            "line": {
             "color": "black",
             "width": 0.5
            },
            "size": 6,
            "symbol": "diamond"
           },
           "mode": "markers+text",
           "name": "Cluster 3",
           "text": [
            "C3"
           ],
           "textposition": "top center",
           "type": "scatter3d",
           "x": {
            "bdata": "KGpYwg==",
            "dtype": "f4"
           },
           "y": {
            "bdata": "3XzpQQ==",
            "dtype": "f4"
           },
           "z": {
            "bdata": "c5sSQg==",
            "dtype": "f4"
           }
          }
         ],
         "name": "frame1"
        },
        {
         "data": [
          {
           "marker": {
            "color": "#636EFA",
            "opacity": 1,
            "size": 4
           },
           "mode": "markers",
           "showlegend": false,
           "type": "scatter3d",
           "x": {
            "bdata": "KMSHQr60tEKAXLdC2GC1QcBji7/QABzB2Fr8waTTkkKoG69B/HueQiLMh0LMx1BCsIaQQcB0AsAUrwFCoGlNQsRtMkLojPFBIAA1QAyhMkKohj9CtiSdQvC7JUIgIgRCRFdqQlwiLkKwY+JBVtbAQigHxEJwijdBsHO2QQBQc8LYNjrC9H5LQtR6DsK2n4VCENKiwK7CgkJsBFJCvuafQog6LUEQkzLBoD45wA6FrELwPkNC4C/wwDuNg8JMNmpCMnONQnhGU0FcCalB9M5PQtgWVkKIAZlC+CmEQoAqS8G4xX1B/lCNQqSvJEJMgBpC2nGJQsCGTUF0L49CAPwjQhZ1u0Jim8BCyBgyQtwjhMHgLE9BiLTSQUBeiEI8WzJCUD2UwUCsIsC0LpVCXKeLQqi6UEKm87ZCbpyWQrAckECuP4tC4L71QYi/i0EO5YZCPIXhwQgcq8F3fUDC8KevQri/A8KgQNRBsKDfQRKYjUI6SbBCYNw3Qdx6EEIgnW5CcM0mQkB38UEA+GW/8FhDwoD4SUJwZotAVhbCQo6Pv0JwnpVByH9VQsKBq0Iw4nNC0Es+QrQ0gEIcsLdCgFiuwOCJr0JKgsNCdBzCQeAIy8GKzJdCRh2IQoyKkEI88Y9CwFkiQAgawUFIMpxCypGFQtD5vkJAnKhBgNnqQBzWHUKWQaxC4AveQGi/F0IAcA5BaOq1QgwFksK4ZWFBwBBNQvBencEQJDJCFsuQQiSOm0L4xQ5CkAgDwQjkI0JUSnFCuJ0aQpgNGEKUKy1CjJHUQbDfbEHqOwfCxFqXQrB6ckLG6YFC7ujFQlCalsFQ339CTOovQrDOfUKpFBTCYMcNQto/AMKQV/5BJJKMQh4/iEIgNF/AgHAXQRwpw0GUokVCZCYZQtikw8EuSKdCgFh+QqQTgEHKuBbCyFY/wbhdWsHoBGRC0AYkQvgLfkK0u0ZCoPfOQWzGCEIArUbAak6cQupApEI0qJ5CFLUAwjDkUEJA/Y3BfOAIQhCSREG4P5TB0Eubwggc8EHy1IhCmMNoQVgovEIAqj1BkOjUwWAldUIA5NPBgNX4P1wsP0LMKFxC3NmUQdzYckIIjLRC8JCLQeDhR0IEnxFC3jGrQrhM/EEE+AlC9nCsQoJtgkKgCUDAUBa+wHw7qkKQrqrB9mSmQliBPEL31HDCOBO2QpZMuUIY5ANCqLwbQvKPoELAEf+/1NBaQn4NNsIWlrNCnA6sQiAj5kF8RJpCHFqBQowvAkIkDXlCaq1GwrCDOUIdoJPCWCybQuBbCEIknXJCCGdOQnCMv0LgvBvA5MTpwazwOEIcvCBCJHl6QhQiqkKAn8BB2uGbQgAwHD1Uam5CglGkQljRRUH0+GtC8BGWwUzIUUJIi2RBmMzNQRCN/kEgNRDBQPpaQCDJv8GctadC4v6qQqgFwUJaTnfCgCS3QhTo/cGgOB9CXFN8QhgP60EYGk5CWABSQkolPMLQG8BCHDCKQsoLpUI0ccLBwKlvQHQ0mkKETfnB9LIxQrgdpUKkMLVB0j6yQrj6U8JI95VBPN+HQWCdA0JwpK5CNMqKQuqOp0I4Gl9CpyqLwvzOwkIKbJ1CzG0aQhJnnULQtrBBoEaTQKR1XEKo+LJCuD5kQkz8VEIYUAbBwJckwFWbIcJEPMJCCDpWQWBnfEAI6DZCWB1/QtSFg0LYcnLBcMmPQoz1EkJo00JCmluLQkU1SMKw7llCfv+OQsDRkkJG4qlCiqSDQtBKV0JwRSrBJGT8wQCNvz/As81AqBCKQsRKZkLC2pVCgAYvwKaQp0LQKFNCeLHSQdwDpEFAZjhCZKbfwQTSN0LQFsdCoC9kQECKA0K6/7RCyP5wQeBBZEIEQ8BCx6Ucwn7jnEIkuYRC7F3HQeLrh0Lwb2nBFmHHQrTFgkHm2ppC4g2uQo/+ZMLMZ2tCRAOyQrAmI8EMKitCsoqhQrYkn0JYopVCZHotQmIbkkLQvhhCNLeYQpCSXEHcu1NCwKLlwWhpGUIAxfNBAGNev4R/SkLURHRC3KupQeiyj8GUcp9CgKYSQhyyTELodTZCrIqfQUQqaEL8VUtCEtW1Qvi3IEIgFQzAm0UYwtjxBkJgHyRCgC23QaSNW0K0pSZCMCW1wEAX5r/8ByxCAA86wGzebkJUpAZCOFxXQR9UpMK4tERCaBP1QRBpo0IkksNCgEvHwOokiUKMKmFCWOKIwUQJQEJICX5C5KCyQlgHbkKMuydCGB1aQkB4bsE8BsVCgLYSwG58lEIqRLBCitCfQp5xu0LEdS9CEIXaQcBgjkCwWUlC0HwWQlYQwkKSH5FCCErXQcKaCcKckDJCgGWrQvSBiEKQH35B6L9tQYgtREHAg81BsuaiQjRsvUIwATVCeEFoQRwHzUHyCbVCUIEMQlTypEJsroZB/K0MQvA9l8CQUQpCbJTFQmAu9EGUcCFCgAGNwCxtSEJcXF9CRLMqQpAxIkKKfI5CnPlgQoAwsUE4EkhC+hecQnAX08AIdrJBIADJwQgkD0Ig3kZCQMdyQiDrGEE4vX1BCpCdQpSZgkIQ4MNCEc0TwkSorcHI0MLB4IeKwYB7UMFoWl5B0DgvQnDwpEFiCxrCgL2RQmLFu0LU6TJCiD/lwagXSkK0ey9CIAHJQXhWi8I8OM5B1BjHQjCglcDIqyLBwC9vQoAPyz/O94xCkP2QQiCOa0JYy1NCFCyzQhCfm0C0MrJBcEqmQQgWuEHkvGhC7CxLQoyRSEIwAZpBwOIfwVyY/8EI7GRC+QskwtIuokIIdSBC2JJdQcw6rULAj1NB4sG4QtDc5MEYendCAFPPQUycdULILwNC0OHMwJxynsF+vbJC3EwSQvjGjEKoSLpCwPKnQlCYX8HAMbA/kJFIQlDD9EFeA8ZCROSoQmgxC0JoqgBCIMsDweoPsELAXVbBYOygwXAItUGgP8BCCetHwmAEYEGCuJRCTKWZQsiBeUEiTIhCuFuUQkDfoUBA41BCKJGdQkiBx0J4qyNCHk6YQoDB7MAgJRlCHK78wZA6RkKghlbBzJBOQpCJoUF68cdC8J0kQch3UELYLrxCCNBRQvger0Lc75ZCTIGEwRA5O0EEJglCZPNjwtC9sUFwi/LAAL5RweR7oMGI2ABCkCO1QayasEJgLr5CTleIQowinkI4Qn/BmHi+QkRriUGAFMO/qAN+QsACHkDkChRCUHgOQniyTEL4ojTBWAUfQtoUiEKwyuVAIDPnQUi2U0FQ9kFCWHPKQVDYiUJs0MFCpO+dwYhqfkHkNklCwAkEwOxNkUIA9OK/kDTRQPTIkkHY11hCwgevQlhWe0FI8hRCmFxKQeD9+UCIvWtCoGKIQXgPIkKUjb9CVjS3QnjRI0Jw9dVBvBAwQhCQTUEa58RCDXJzwg5PsUIQwbxB4I1wQNDex8BYjjJCAAIZQlBDEUHQKjpCaNk1QpiLLUJEFk5CQCTXPxy9nUIsH4ZCSP/pQZjSkUJsnZhCPGSBQsrvkEIEkl1CQCZ2Qj4Kk0IclLzBYoKfQqA950GuDrZCEJW3Qrans0Iq9I5C9PWBQXhMRkJocPRBeF2RwYSkwUKwo4vBfFfTwTR2T0Iw0JJB5tWVQtQwS0KKWZhCgMRMPwiAPMH08C5CAKkWQCi9JUFac6ZC2N5nQsBtUsCw1SdCHPi3QkBNFEEkoDxCuJ+0QpwZLUKA8QVB0OaawLCsk0GMCZTBmMU1QnDFnkJII/RBaLr1wcz2FEJo6n3BcFUSwWRqfEJol5dCXFocQgAeeEB+eKRCLLRuQoDjlkJ+woJCXJ64QoakkEJIp1lB4N+hQoCFUEEEYURCMPEZQmA9l8BgdwtC8M2iQMxIU0JoVrhBSGDKQe7zokK8spJB0GtPQQDUVEKAw8G/UOGzQvDS7UAUky1CuFhzwcpPw0IYyWdC0k+0QjgAWMEILCpCXGx8QhTcU0Jc9wxC/KpiQkiZV0LceefBLE8PQkCZGEHcbSNCvKJaQgxURULg2kvAYHGDQlh6dUJAHUVCjpueQv68sEJ2AJRCmKptQjBmtUK4hkTBrKVTQrjFtEJ4PLtBvDuqQkip/kHw3KBBgFOMQkixFEJQ2r9C7gi3QvBlAEE4WVfBlKVqQly3kUI6CYtC0LNvQvD4f0JYbilCiOekQjQQuUI02BhCoP+iQlheXMHsF7lCwO5SwRZYksK0G8dCwI+eQjCpvEEKoadC0PqwQrVNIsJsg/nB4AzGQsDwdkEIdV9BcKxaQgw0nkLkoFBCTKq+QoxjJ0L2xo9CHG1fQiDm00AAO4y+GFCxQs/AGcIUY41CdH4DQkCO3j/YrotCcLW5Qo4ZwUICU7xCKBkBwWzVYUIcpMVC454TwkTHVUKQSPlBzhekQuB5dEIAGzu/+AW7Qka/kkI8MSJC2Ao8QqDjV0LMZ4lC9oCcQkY9gELUrRNCcNvJwP5TpELGwbZCWFI8QpAxQ0IA9QVAYMkQQXAMeUF8tNBBhJQ4QijWwUIQ+idCCO0hQvB8skHwt+3BKNZIQd8yMcLQfPDBCAGmQnDwr0JE2tFBsPyVQYAFpEIAYuTBBKQSQkjWp0KwOJ5AgDCkQABggUEUsL5CQn+BQgTZn0F86K5BIFV9QtzJSUKYdr9BpJtYQnDBHsFC3pBCEimsQuJygUIAChbAQFLVQID4GkA=",
            "dtype": "f4"
           },
           "y": {
            "bdata": "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",
            "dtype": "f4"
           },
           "z": {
            "bdata": "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",
            "dtype": "f4"
           }
          },
          {
           "marker": {
            "color": "#636EFA",
            "line": {
             "color": "black",
             "width": 0.5
            },
            "size": 6,
            "symbol": "diamond"
           },
           "mode": "markers+text",
           "name": "Cluster 0",
           "text": [
            "C0"
           ],
           "textposition": "top center",
           "type": "scatter3d",
           "x": {
            "bdata": "BbYcQg==",
            "dtype": "f4"
           },
           "y": {
            "bdata": "9iNDQg==",
            "dtype": "f4"
           },
           "z": {
            "bdata": "UVTwwQ==",
            "dtype": "f4"
           }
          },
          {
           "marker": {
            "color": "#EF553B",
            "opacity": 1,
            "size": 4
           },
           "mode": "markers",
           "showlegend": false,
           "type": "scatter3d",
           "x": {
            "bdata": "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",
            "dtype": "f4"
           },
           "y": {
            "bdata": "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",
            "dtype": "f4"
           },
           "z": {
            "bdata": "XpmlQqwzMkL4JlNCynSWQlhDHUKU/5BB5Fp9QiCsjEJsMDJCvMxSQoDaHEGOTIdC/i4DwgzSdUIMELNCgINVQtCxh0LsBV1CxN4OQkA1WkJcg7FCSG/tQSxnlUKozS5CHChiQthSUULodElCmNmEwvwSKkK0OShCUGL4QDgXj0L4149C6JYFQnhGLMFa0rRCpFiZQQjZeMKIoyhBriMIwutoFsKmb61CWCOHwRz+EUJcEiRCOOIwQpiARUJP8CrCsEpawWrhv0LUOkRCyIAXQmpvJsJaIKhCYNShQgYyg0JKmL5CeDxLwlCftEJQHz1C7Fo2QkwbtkJAY19COhG0QkCGjUHQbmnBlB4pwha1EsJg3o9BfEgYQqykP0KYJOlBp5kjwn5Ot0LUDtfBOm6XQpTGKkKAv1lC/P2nwfLDmUKAvGfB1H4qQkCDisAKZq1CmIYYQpwFjUG+n4VC2ZBnwuAnMECCEpZCkDQ7Qr4MbcJgV0JC1K3AQkTohMEIfAZC1J9WQlA+RkLA+0dC3juQQvzxtULApRtBOiGbQnSCbkIIWF5CYNudQjwLPEK4Je9BcOcywXChWkG8Rp5C2ApAQjCSQ8F6UW/CFiWkQpS+okH0dF1CCJPTQSzRQkIIhARC3EOEQrYIgkIslB1CpumDQnhDzUGM9xFC4NvdQVBGpEBAXeC/ItGJQrB3cUFCYZ1CtoZAwgzAjUL4cMJCPPPAQZgN+0HcLDRCZIJvQgDebz4ga4JAJiObQlAcskLI2MdCsuOUQryKPcJYkR1CPLGswWDo1UG2IppCSAMPQqBTWUIU6sJCSPJRQahhCUIKUKdC/nyRQliNlELIEXdCCsPDQpQdnkIumZlCSAQEQgQ90kH1PU7C+oe4QszUJUJwC+rBwFeHQvSRe0JejMBC2GFmQdZGBsIMLl9CTsSVQti/U8GQFonB/KW0QtSbVUJYHWBCYJqHQbAFF0IEkLBClIRJQgwcfkKwN6FBXNUoQkBgzkEq1JjCyl2gQnSGT0LgZY5CWKXcQXJ4gULYUHBCLAk6QghAEkLcce3BaGa8QiC1LkJyjIpCuM8bQssnWMKEa7pB4CbbQXJ7mkKa1sdCwB4HQtQko8FQgN7AgPEtQjgaokJwUbtCpqSjQvxMG0JWMcJCAJv1QDRdvUJCaKVCWCWTQozJmEFYg8jBDCBSQlgRdEHlM17CJtarQia+tUI+pIFCKPtGQpiQIsFsF0FC0pyuQuC20kEosDhCFcRfwji7wELsCItCjLeuQjapkUKEyo1CiGT7QUA/SsAAFpxCgG2av8DrVMAq3ZdC6MyXwTjQk0Kw6aJBLJ80QuHgL8IYpu1B2pi4Qky0G0IghKhCzGiHQtSGrEHsFVhCoi+NQhbWhcKuA7tCNNdcQtJprEJ8/TdCHM/BQkIho0JqXaxCvfQXwgwJY0LUQblByKYTQn6Ln0LY4zVCcIpAQr5aoUL82VFCaAX5QepUq0LQq7xCYhOoQqiT/0GiVIRCULCiQZRYbUIKDppCTiy/QiJFv0LgHDlANCSWQa7IpkK04D5CwPvMwMy7rEIAMstAwInHQui1wEFAV1lBwC01weAwfEKozIFBGmu2QoBd679AIEZC1haWQvjsXkLNuxPCYmaaQttAhMI8pI5BYPLpQV4HokKCTMdCOLyTQgISl0IWIaJCiJn/QRAOV0IwKoLAPL8KQgY0QcIoxIFCfF5vQjZuoUICva3CsriEwgBkhECoX5RCzOW5QsAB00CAuYxCpN6aQmDHZ0LsuahC/sS9QlQAZUJQxOdBoAUjQnRMUUJYc1JBFpODQgBNxELKyhHCTB+ZQmhcO0LE591B+hO6QmxcNUIgoCZCfMdDQmRHPUIAvKRC/BWwQh6drEKYUhlBwDThQbAELkJZNnnCSA6vQTg6lcI444FCYCz8wfShGkJkO8BCvgGPQlRmikKkJWxC/oi+Qpx7x0LwLKXAWP8gQqSdmUJ8u4lCUMNWQlR6uUIc1yFCgA7+wMAgHcEYrS9BoLN6wax2s0EYJUlCQPLRv2Dee0JG2L1CIEyvQWzlBMIYuLJCQCOWQkg7BsHU47xClDeJQiD6SUJwauVBwNR1wvB7f0LiNMdC+Js2woDXR0J4A29CmKG/QlAcRkJo06dCqIqnQu4Ap0JMt7pCOMaJQkANGcEADppCbn61Qnj2r0KUCpxC9KNKQmg7X0JIaPVBCENyQnDzS0KDSFjCjkqnQtZhskKgvdlBVPY6QrhZzEHEO8BCJJQ6QvSKvkFcTEZCqMW1wQCjxEKEVxZCCPdhQhw+RUL8ZkNC0u+7QlD9eUIop49Cyn6AQoB5c78GsaBCvN1FQvw71UFAwkRA/jyEQmTW10HQnqxCCrGbQtZEq0KbOhnC8CldQq4Mh0JwfsfAxNykQtUmScIQQyVCJOxhQuTnxUIAUCpBzK94QqhXZ0Lq6MRCLJyfQgDyR8A4V/JBsrGnQhbJskJe3pJCgLd1Qgf9msKg2GVB4BPtwBzltkKwkJ9BOExyQQBco0ECLRfC4N5dwdCWEcLgH/XArJYyQtR3tEKA598/4P59wIQxNEIkvgVC2S8jwlLUhsKAMKW/xiK0Qnj63MH4JJdCktuiQshEDEKkOR5CjAe0QtQl8cEcBypC5AZXQi6GkkIQMY1B7Mf1wRgxrsEgQULBNI85QnREWUIEcEVCWHOlQpSkYULyP69CIMoBQHw7G0LgFwRCBO+WQvw/EEJgaXNBkDABQgjLVUI38VvCyC2FQuDyk0Ig+RdC2ORoQsKOokLwKWfBWPs9QvheBELWepNC9EvHQoAmjUFk5mpCEKkBQoCvS0Cee6tCuNZKQRj0+UHEjCzCAOP9QXwBoELcQVhCWKGZQTDLQkJKKL9CLlesQmZerEI4tO9BcgEywrxwlEEUasDBCpU7wqghqULK1aBC9HJzQvCOO0EmgZtC1OwwQnKGsEIoWI5CEBYjwfw8IMIci5xCUkSlQqRgaUI0pqxCOhGCQlhoGcI4iB9CWNYIwdQYRUKg5UNBAO+QQuC7J0K8J6VCiA8iQpLvp0JUW5pBuFlywegVAULmZ7xCWENwQvBIkMGQJ6RCjCfFQvjpE8EonGVCWAGfQZKmQ8KYvfVBdnoKwk6RjUI65L1C/DyCQuBHBEEa2sBCxg2VQhCtFUKw2/5B/LptQuh7+UEJz1vCeMeHQjrTkULcxCdC7qt1wpKFg0LC0oJCujSZQpwrcEKOYS3CROWyQeR0v0KFr4nCIFZ7QQBgGcFMkmVCog+CQkyjqUKYaATBSJ2OQTjyOkLYx1hCAGv/QZToM0L0tSVCKBg+QagonkKI5fpBQDMFwZAGRkI4mI7BWlSzQmZUkEKCpLpCOJiAQZ+WFcJEp65CcCwYQqy1g0HAV1FB1sOOQtCdMkKkAHhCcNCCQsK7q0KQjcXANPkBwmygokE08V9ClNyJQcB5LEIwlaJCqOmHQVwArkKolcRBkUKuwiiEUUIy1ZxCdP2RQuilF0IGvrlCRJeEQTR8D0K4OR9BltiVQhQtKELAPHZC0COFQcxOxkEmxJ5CGAiEQQTww8GQGC/BDpS0QsLlwEJ8z59Crkwswli0wUJo2a1CjrSXQjAzjUIQ/OJBoK2OQlp+h0IYWnlBAOBgQiDfHEBwuElCyMJPQsQ3s8FIaMBCECdKQZx6P0I854BCpCycQtiMXkK4/ltC2LD4QZhzscEtCxvC0M/8QeTeFEJwCxHBlOXBQRQ1XELY1npC6DevQsQbxsFO97FCcLMzQoBqFcDAEorATNfFQWibU8LUgk1CXP88Qsx1dkIA6q3AAFMHP6ruHsJs+FtCJjWFQkCGjUDmDEbCwfs/wnC0YUJGRq9C4IdQQUT2d0JWQQvC7GMIQtDgm0KCiJ5CJG3SQTKYr0Lg2oNCYneQQmLGukLIcCFCQP6ZQiAGukJcbzNCQHMlwFLfwEJICTbB7HefQh5OokL8DKdC8JA9QmybJEJ4whNBsIrrwJgy58FAsyxCoF49wZSCrkIcQ7tCgBKbP9xOcUI8/2BCsGQBQjQdqkLwLJxCbFKjQrq8o0KmUrZCRLK+QWBwDULQS7lAyoSOQvgyekKU039CjhuFQo4omEIUAbFCcPv3wYymZ0LkPzxCwLKqP4RtIUI4oqLBAFt5QQD01r9yLJ5CUBW3QuYcj0I42rJCaMdGQTDJVcIQ8MlBQLt4QIicnEK4kxlBTqaxQn4Dx0JGxaVC7IYcQljhXkJkmFVC1AeuQeABqMHKz7VCGLgCQtTsOkKgZwBAlEQfQlCPY0F0d1VCdI86QvA3g0HctpZBPAK7wkjqjkJMIpXCHMlLQpD2lsAALEJBMDmnQhhEJkKguATAtPWJQjicRkKgodpAKOkvQrCU8kB41K5CqBCKwYSmV0IQ1phC6U0dwkyUxcGAGCvBoEK/wSyTHEIs1M5BjMefQTpWD8LItvjB+BlWQuwfukLI2h1CEMQTQeoch0KOVJdCQKqKQsCRS0JAn21BzlO8Qv25J8IwHvZB0H6+Qnj1/UHk7GJC4DztQSgL60FIJqZBZN0VQlzohUJfcWnCgGyZQuI/wkK4DmFCtD+4QgLmjELUVotB4IRXQMxtJkKYz15CgolTwvb0tkKiqZpCoFlgQu4VwUKYBQtCgCNjwGB4M8CAHERCMOC/QmSFRUI=",
            "dtype": "f4"
           }
          },
          {
           "marker": {
            "color": "#EF553B",
            "line": {
             "color": "black",
             "width": 0.5
            },
            "size": 6,
            "symbol": "diamond"
           },
           "mode": "markers+text",
           "name": "Cluster 1",
           "text": [
            "C1"
           ],
           "textposition": "top center",
           "type": "scatter3d",
           "x": {
            "bdata": "r5I3Qg==",
            "dtype": "f4"
           },
           "y": {
            "bdata": "sx0rwg==",
            "dtype": "f4"
           },
           "z": {
            "bdata": "+n0bQg==",
            "dtype": "f4"
           }
          },
          {
           "marker": {
            "color": "#00CC96",
            "opacity": 1,
            "size": 4
           },
           "mode": "markers",
           "showlegend": false,
           "type": "scatter3d",
           "x": {
            "bdata": "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",
            "dtype": "f4"
           },
           "y": {
            "bdata": "kLSvwr8wrsId+TbCEI4QwRAeHsIgnE/CAG+EQRufhMJWEKPCXnqpwhNJOsKgRJtBOUu4wkwFqMLeAbvCcDY/QUA2S8HwtitBHBvgwVSWsMJs3ajC5CO0woTtqcFRVI/CsGQIwnzPdEI0fpnCkbrHwmyddMIUrL7BReqnwiCMDMAszDJCf68Wwonhx8KUhs/BiAOCwvhtzsFyzQPC1EApQq5AoMJnKKjCKX+5wgjVRcIpIYjCXtcMwijfYsIJ7bDCQwx3whVmpsIAJuHA1AQywqYBUMK+ZmjCBqLGwtMNgMIDiEfC4FhnwUT4N8JYnO3BgN6fwHApqEE3esbCwC8CQWv/OMJcGDXCIVZqwkBxVEExTILCOCo/wu8vvMJdUr/Cwg1Owmo2DMIYcrbC2P4BQfyqlsLvrIvCEJ7gwaBK2kCKtcTCv2utwkCdB8JC5aPCIs3HwnLiisKLrrHCLgCEwm6wqMIv/MPCy0xqwmOQXsLRr7jCVMqawoBEKr8uLZ7C0LSwwtvCucIJUaHCgKkKwACZdb+mcXXCUKxKQazQpcJp2FbCiOqFwrB7IsFJ5x7CUPyMQGD01sFJWqLCnFyfwto2R8JYc0NCQCeHv6YMxcJMPPHBwFYeQSjRsMJOsILCi48ZwkCOSUJPGE7CwI6Awm9to8LC1VfCBDq/wuAXrsICSazCv1CQwlWVcsL+CwPCmP6CwdcWqcIIgK9BZNWfwi+gncJwFGLCE/axwknrvcLIzEDBdPjfQSBxf8Em4gTCby93wvLtC8JYsnPCmI2kwcpJqMLqdYLCQvrEwqhw68E0w/fBMmCewkiTacKFNZrCWjx4wpxgfELsXarCzA6lwlDZbcFvQr/Cb9ouwjAHl8D0WZXBIF/NwQhw08Fg+5tA2AmQwprHgsLomZjBAdSQwkjkwkHtlWLCIHPewYPyqcJoP/PBPu8owvJoC8Ko0npBoFaJwcQdvME33abCoLP1QUyYEcJgWLLCSJCawhV+ncJf31bCcmjFwqUKZMJ8mnLCsDcfwkBIDECJG8TCUKPdwaQZicLAJJTBEBMwwhDnwUBwI6nC4d5LwgB7BMCIrgjCz4iMwjgoM8HuZ1DCroFUwiI2GMKAFarCVtd5wqwDo8FfZozCoEmqwCEZg8LijkbCxzFMwoA+Yb8CBF/CeNBcQQ0fscKJYVrCuzuZwns6v8Iv00LCFgAMwlzeqsIyhq/C0nutwuCrFEJkrOzBMHtXQeU0VsJv6nrC2MmxwpSvhcL8//PBaCQiQTqPDcI5zLHCwNe3wtV7o8I38mjCANe/wlUfxsJ49QnCNkaHwtPFp8JI7zpBqDd8wkRFg8KA9p8/PEGqwSa3t8KSVbfCAEHVQSjGy0FSjw/CYNRmQKzeuMIoYYTCS4F2whZeR8K4RChCUPVDwUAlRMGoxlVBQP6RwJAChsJgLhtBk0GxwsoNisLYStdBmsVCwjwfisEj2L3CZYhMwhqQiMKwtWTBjMwxwgjos8EvQ4TCsqlpwvVJr8LOhpXC7KFfwhY0jcIMVbrCcKD+wYYyrsKAFD1CqGrFwkm9T8LJskrCuK+Ewty0sMEIaa7CROSaQQA3GD+d56fCYGhCwC5htMKIdCXB1pK7whBKCsEQvFJBEMECwuVJiMIAMTxAJ1+XwmFoxMK8fRDC30xNwg6xpsI4SF1CpiyuwsB19EFKXMLC9tx7wrWePMJPMlPCP3BZwsTNu8G73SzCMI1fQSCQXUFp0qXCk1G6wnSdcMKoKZzB3L/ywfgm/sEauV/CbDFCQqxuvMGr3JHCpwhnwmCooUDTnL3CgmigwmZqt8IIH8jBqA++wV1wWsKsp6rCmM2iwp1PhcLJ67nCuPVewoSaqMIQIcLAjPuUwnivccKXjsHCbp+4wggFLkFI8mnB6BQmQkzknsIJdJrC/Hbbwehhk0Er0xjCrSmUwiCoIUFjh0zCuHhMQTBbokF3cIPCAhs3wvgJn0HwNcJB09fHwjn1q8K894zCOAZgQq47EsK8iEzC0CvQQKR1n8Jc0cZB5oVSwvwlhcIGD2fCksqwwk0SXMJ3GBPCtKyawn88ncIId0fCiG6awpr4W8KAnHS/RC7JwdMDUcIauXjCKOuBQeAeqcKwA1fCACTgwWopw8KcAcrBfPalwRyUAkLYiKzCUHRdwqxEC8LoypPCHJ1hwsydTEKliMXC8ZzBwoqtw8IloFvC9jetwkVKpMIENszBcOFCQu7DrcJguBFCHwtLwkSH2cHgE6dAtOLBwsdIrcJjvVzCikiXwtaeHMJS0cDCVNSowjpPEsLwjddAQydPwqzKvcJFmTPCYKKiwIg4csEQlf1AnPiqwgpJv8LoS+zBMMMywTCiacGIKTzB1cWxwol4pcLsdSPCNz0rwvIcssKxYqDCIyt0wgB7eT/otvnBMN1awqslscKMoRzC+BOSwixAx8LtsmHCdEYdwjDsz8AVrbrC4z+0whFwdMJeKqjC3+tGwr8tsMJEZAbCWpOPwkCXfcEKbsbCI9liwrxuGsJEqSJCWHRZQmtJOcJZpWXC/fYowsCqFsDmoIDC9GzRwcAlOcH4JyXCbH/0wdI8ucIfxrbC9XNTwkrQiMKFe5vCeoiJwg6ss8Jd4LzC1niRwsAcA8A6tU7C/XNzwigkJMEY4ErBbM3yweQjk8LAOmXB2R0Qwv9kwcIMlObBAL20woqwxsK+nJbCpp84woXyP8KwKV/CSBuWwuyH/MFmdpvC/3xRwkwFuMKIGAxCSFyWwu3bqMLzh5nChLDnwbQ5ncFsJnrCESk6woDzPMHnDJ/CyeGIwptYbMLogaTClKFQwlTLqcJUWYVBAMAEwe41MMIppDXCLI4iwtTIBMKk0E/C66WswsZMqMK6Rh7CTIaNQagpvcHMLLrBFWSHwtCHhMAk70zC0pWLwh0PmcIQ8JfCL463wuSlwcIYnEDCjAOlwvNbhMKIscHBYOiSwCgssMIA6ZQ/4IGIwSkGEMLwT0XBXxWxwr9gusLIFY1Bz5+ewhSfmMLga0jABEmywjDrocAQH2DCjA+7wTxV68HbnsbCgGyUwjy68cHxC4bCrNyMwtTZL8L0D1PCsHiHwMa6ncJALcVBPnZFwso3iMIImxVBUKq3wqxc9sHkUOLBxJyHQQ75t8JXiHnCSDkqwgRAkcLoyRHC94aewoK9pcLWy7rC0MwlwQxjTcLwqXvBMlhPwjtIxsK734jCkuybwtJRbMKARNrB0DuBwuBrAkGDw1LCQsFiwhC6p8JJDq3C4Kq4wGBbUkImS8DCXDiSwToJqMLkRpPCZq2EwrCoikCn0i3ChJQVQvAqQMEMvg/CuCCaQaB2KUAh9Z7CzNWCwrQhm8H8AKfBWGC9wTBFIEKcIwLCOEnvwShcfcEFNbzCkkK/wnBOlsIgts9AS6E8wuhrtsJDhR3COtJDwqA/7cBqhU3C6Ni2QRCM4cCEs4nCPs+owoD2g8DK0bLCPMq1wmlyYcJjT6XCrEiLQWBvCUDIH13CNqR+wkFce8Lc7txBPEoCwvPjgcJ2iMTCVL6KwUTiu8HUxKDC1k+3wvxJssJcEb/BbEBfwnxotcLd4yjCkMjVwSguEML8IZ/CADLbPlwLbcJsjjjC4KxfwqiFosLs/sPB9OZ9wif8scKAoGLANESUwsCcYELHExPCJIViwij5osEzdhnCgsO0wnMaJMJIyIzCOLhqwZ0/vMJgz3DClCWmwefgHcI441FCzOtxQu8MbMJwcbnAVGu1wRg8gkGUVhbC9ls4wh4Zm8Kw6U3B8tqxwvya78G8u0bCDhWHwm2ZusIrvpHCcAW+QAHGXcJOIpTCYp0gwlVGn8LY/IjBaGUGwaM5XMKPeS3CV5CWwvAobcKocJLClCxvwligPkEea03CWJ1mwdDwmUFwp8BB6ZKMwiDpbsIsVsvBsJDkQEL0ecJA0I3CQGEAQaO5c8Jlhn3Cya0Uwuo6gML2rRTCBuKXwo8AOcLPoZzC6AhswvuZPcIBAUPCcccnwvjGH0J8tYXCCBoDwXmNF8K0NI3BvceowiZxSMI6MnDC7vkBwhwTo8ITW1zCtj56wkSWrcEMYt7BwH1swJKOvsLih7jCINj6QQbuvcJU2K/BcRBhwhydDMLI5ghCcNPDwegYrsJ8mghCcbCxwhz76ME8nAHCFq6uwtXEcsIjOcTC8DCCwfJRhMI9nJrCKsy5wkhk4MH80rLCcLLGwVpQUcLEtM5B/RONwoDutsGk61/Cb1mRwgz8ucJVUT3CHbWxwjI0ccIwblfCbB3cwWbGA8KS6kPCJQ5LwtD/osLCr5XC7Tslwkowm8IWQq3CWBSzwS6/ZMJ2KbPCPyeTwjAvq8F5DVXC04KpwkTyOsIsBp5BsAtDwtpKZMIc5KHBPw6uwsitc8HAKUhAycvGwreGGMKoXJLCg2cUwkLdCMLwXQNBALxqwlVCvcLJiLXCwFapwBT5o8IIxs7BQL/3wYYfTsIuYK/C2Ks4wg7dC8Kpq6PCJDg9QuA6DcAzZZ3C0qQLwplwFcIooAnCsc64wijWkMFOEJrCiK5wweAnGkGHbLbCbcqTwjmewcIgtDLCMPQcQl1YI8Jm1AHCmBqGwSCuUsHjaxHC8au0wrw9NsL0+QXC4G3cwThbmMFY32lBVAXWQXjzycEU/i3CDNJHwrvVZsI=",
            "dtype": "f4"
           },
           "z": {
            "bdata": "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",
            "dtype": "f4"
           }
          },
          {
           "marker": {
            "color": "#00CC96",
            "line": {
             "color": "black",
             "width": 0.5
            },
            "size": 6,
            "symbol": "diamond"
           },
           "mode": "markers+text",
           "name": "Cluster 2",
           "text": [
            "C2"
           ],
           "textposition": "top center",
           "type": "scatter3d",
           "x": {
            "bdata": "KUkLwg==",
            "dtype": "f4"
           },
           "y": {
            "bdata": "C/k3wg==",
            "dtype": "f4"
           },
           "z": {
            "bdata": "XfE2wg==",
            "dtype": "f4"
           }
          },
          {
           "marker": {
            "color": "#AB63FA",
            "opacity": 1,
            "size": 4
           },
           "mode": "markers",
           "showlegend": false,
           "type": "scatter3d",
           "x": {
            "bdata": "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",
            "dtype": "f4"
           },
           "y": {
            "bdata": "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",
            "dtype": "f4"
           },
           "z": {
            "bdata": "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",
            "dtype": "f4"
           }
          },
          {
           "marker": {
            "color": "#AB63FA",
            "line": {
             "color": "black",
             "width": 0.5
            },
            "size": 6,
            "symbol": "diamond"
           },
           "mode": "markers+text",
           "name": "Cluster 3",
           "text": [
            "C3"
           ],
           "textposition": "top center",
           "type": "scatter3d",
           "x": {
            "bdata": "ZQRPwg==",
            "dtype": "f4"
           },
           "y": {
            "bdata": "OLH3QQ==",
            "dtype": "f4"
           },
           "z": {
            "bdata": "OK4aQg==",
            "dtype": "f4"
           }
          }
         ],
         "name": "frame2"
        }
       ],
       "layout": {
        "margin": {
         "b": 0,
         "l": 0,
         "r": 0,
         "t": 40
        },
        "scene": {
         "bgcolor": "white",
         "xaxis": {
          "title": {
           "text": "UMAP-1"
          }
         },
         "yaxis": {
          "title": {
           "text": "UMAP-2"
          }
         },
         "zaxis": {
          "title": {
           "text": "UMAP-3"
          }
         }
        },
        "sliders": [
         {
          "len": 0.6,
          "steps": [
           {
            "args": [
             [
              "frame0"
             ]
            ],
            "label": "0",
            "method": "animate"
           },
           {
            "args": [
             [
              "frame1"
             ]
            ],
            "label": "1",
            "method": "animate"
           },
           {
            "args": [
             [
              "frame2"
             ]
            ],
            "label": "2",
            "method": "animate"
           }
          ],
          "transition": {
           "duration": 0
          },
          "x": 0.156,
          "y": 0
         }
        ],
        "template": {
         "data": {
          "bar": [
           {
            "error_x": {
             "color": "#2a3f5f"
            },
            "error_y": {
             "color": "#2a3f5f"
            },
            "marker": {
             "line": {
              "color": "#E5ECF6",
              "width": 0.5
             },
             "pattern": {
              "fillmode": "overlay",
              "size": 10,
              "solidity": 0.2
             }
            },
            "type": "bar"
           }
          ],
          "barpolar": [
           {
            "marker": {
             "line": {
              "color": "#E5ECF6",
              "width": 0.5
             },
             "pattern": {
              "fillmode": "overlay",
              "size": 10,
              "solidity": 0.2
             }
            },
            "type": "barpolar"
           }
          ],
          "carpet": [
           {
            "aaxis": {
             "endlinecolor": "#2a3f5f",
             "gridcolor": "white",
             "linecolor": "white",
             "minorgridcolor": "white",
             "startlinecolor": "#2a3f5f"
            },
            "baxis": {
             "endlinecolor": "#2a3f5f",
             "gridcolor": "white",
             "linecolor": "white",
             "minorgridcolor": "white",
             "startlinecolor": "#2a3f5f"
            },
            "type": "carpet"
           }
          ],
          "choropleth": [
           {
            "colorbar": {
             "outlinewidth": 0,
             "ticks": ""
            },
            "type": "choropleth"
           }
          ],
          "contour": [
           {
            "colorbar": {
             "outlinewidth": 0,
             "ticks": ""
            },
            "colorscale": [
             [
              0,
              "#0d0887"
             ],
             [
              0.1111111111111111,
              "#46039f"
             ],
             [
              0.2222222222222222,
              "#7201a8"
             ],
             [
              0.3333333333333333,
              "#9c179e"
             ],
             [
              0.4444444444444444,
              "#bd3786"
             ],
             [
              0.5555555555555556,
              "#d8576b"
             ],
             [
              0.6666666666666666,
              "#ed7953"
             ],
             [
              0.7777777777777778,
              "#fb9f3a"
             ],
             [
              0.8888888888888888,
              "#fdca26"
             ],
             [
              1,
              "#f0f921"
             ]
            ],
            "type": "contour"
           }
          ],
          "contourcarpet": [
           {
            "colorbar": {
             "outlinewidth": 0,
             "ticks": ""
            },
            "type": "contourcarpet"
           }
          ],
          "heatmap": [
           {
            "colorbar": {
             "outlinewidth": 0,
             "ticks": ""
            },
            "colorscale": [
             [
              0,
              "#0d0887"
             ],
             [
              0.1111111111111111,
              "#46039f"
             ],
             [
              0.2222222222222222,
              "#7201a8"
             ],
             [
              0.3333333333333333,
              "#9c179e"
             ],
             [
              0.4444444444444444,
              "#bd3786"
             ],
             [
              0.5555555555555556,
              "#d8576b"
             ],
             [
              0.6666666666666666,
              "#ed7953"
             ],
             [
              0.7777777777777778,
              "#fb9f3a"
             ],
             [
              0.8888888888888888,
              "#fdca26"
             ],
             [
              1,
              "#f0f921"
             ]
            ],
            "type": "heatmap"
           }
          ],
          "histogram": [
           {
            "marker": {
             "pattern": {
              "fillmode": "overlay",
              "size": 10,
              "solidity": 0.2
             }
            },
            "type": "histogram"
           }
          ],
          "histogram2d": [
           {
            "colorbar": {
             "outlinewidth": 0,
             "ticks": ""
            },
            "colorscale": [
             [
              0,
              "#0d0887"
             ],
             [
              0.1111111111111111,
              "#46039f"
             ],
             [
              0.2222222222222222,
              "#7201a8"
             ],
             [
              0.3333333333333333,
              "#9c179e"
             ],
             [
              0.4444444444444444,
              "#bd3786"
             ],
             [
              0.5555555555555556,
              "#d8576b"
             ],
             [
              0.6666666666666666,
              "#ed7953"
             ],
             [
              0.7777777777777778,
              "#fb9f3a"
             ],
             [
              0.8888888888888888,
              "#fdca26"
             ],
             [
              1,
              "#f0f921"
             ]
            ],
            "type": "histogram2d"
           }
          ],
          "histogram2dcontour": [
           {
            "colorbar": {
             "outlinewidth": 0,
             "ticks": ""
            },
            "colorscale": [
             [
              0,
              "#0d0887"
             ],
             [
              0.1111111111111111,
              "#46039f"
             ],
             [
              0.2222222222222222,
              "#7201a8"
             ],
             [
              0.3333333333333333,
              "#9c179e"
             ],
             [
              0.4444444444444444,
              "#bd3786"
             ],
             [
              0.5555555555555556,
              "#d8576b"
             ],
             [
              0.6666666666666666,
              "#ed7953"
             ],
             [
              0.7777777777777778,
              "#fb9f3a"
             ],
             [
              0.8888888888888888,
              "#fdca26"
             ],
             [
              1,
              "#f0f921"
             ]
            ],
            "type": "histogram2dcontour"
           }
          ],
          "mesh3d": [
           {
            "colorbar": {
             "outlinewidth": 0,
             "ticks": ""
            },
            "type": "mesh3d"
           }
          ],
          "parcoords": [
           {
            "line": {
             "colorbar": {
              "outlinewidth": 0,
              "ticks": ""
             }
            },
            "type": "parcoords"
           }
          ],
          "pie": [
           {
            "automargin": true,
            "type": "pie"
           }
          ],
          "scatter": [
           {
            "fillpattern": {
             "fillmode": "overlay",
             "size": 10,
             "solidity": 0.2
            },
            "type": "scatter"
           }
          ],
          "scatter3d": [
           {
            "line": {
             "colorbar": {
              "outlinewidth": 0,
              "ticks": ""
             }
            },
            "marker": {
             "colorbar": {
              "outlinewidth": 0,
              "ticks": ""
             }
            },
            "type": "scatter3d"
           }
          ],
          "scattercarpet": [
           {
            "marker": {
             "colorbar": {
              "outlinewidth": 0,
              "ticks": ""
             }
            },
            "type": "scattercarpet"
           }
          ],
          "scattergeo": [
           {
            "marker": {
             "colorbar": {
              "outlinewidth": 0,
              "ticks": ""
             }
            },
            "type": "scattergeo"
           }
          ],
          "scattergl": [
           {
            "marker": {
             "colorbar": {
              "outlinewidth": 0,
              "ticks": ""
             }
            },
            "type": "scattergl"
           }
          ],
          "scattermap": [
           {
            "marker": {
             "colorbar": {
              "outlinewidth": 0,
              "ticks": ""
             }
            },
            "type": "scattermap"
           }
          ],
          "scattermapbox": [
           {
            "marker": {
             "colorbar": {
              "outlinewidth": 0,
              "ticks": ""
             }
            },
            "type": "scattermapbox"
           }
          ],
          "scatterpolar": [
           {
            "marker": {
             "colorbar": {
              "outlinewidth": 0,
              "ticks": ""
             }
            },
            "type": "scatterpolar"
           }
          ],
          "scatterpolargl": [
           {
            "marker": {
             "colorbar": {
              "outlinewidth": 0,
              "ticks": ""
             }
            },
            "type": "scatterpolargl"
           }
          ],
          "scatterternary": [
           {
            "marker": {
             "colorbar": {
              "outlinewidth": 0,
              "ticks": ""
             }
            },
            "type": "scatterternary"
           }
          ],
          "surface": [
           {
            "colorbar": {
             "outlinewidth": 0,
             "ticks": ""
            },
            "colorscale": [
             [
              0,
              "#0d0887"
             ],
             [
              0.1111111111111111,
              "#46039f"
             ],
             [
              0.2222222222222222,
              "#7201a8"
             ],
             [
              0.3333333333333333,
              "#9c179e"
             ],
             [
              0.4444444444444444,
              "#bd3786"
             ],
             [
              0.5555555555555556,
              "#d8576b"
             ],
             [
              0.6666666666666666,
              "#ed7953"
             ],
             [
              0.7777777777777778,
              "#fb9f3a"
             ],
             [
              0.8888888888888888,
              "#fdca26"
             ],
             [
              1,
              "#f0f921"
             ]
            ],
            "type": "surface"
           }
          ],
          "table": [
           {
            "cells": {
             "fill": {
              "color": "#EBF0F8"
             },
             "line": {
              "color": "white"
             }
            },
            "header": {
             "fill": {
              "color": "#C8D4E3"
             },
             "line": {
              "color": "white"
             }
            },
            "type": "table"
           }
          ]
         },
         "layout": {
          "annotationdefaults": {
           "arrowcolor": "#2a3f5f",
           "arrowhead": 0,
           "arrowwidth": 1
          },
          "autotypenumbers": "strict",
          "coloraxis": {
           "colorbar": {
            "outlinewidth": 0,
            "ticks": ""
           }
          },
          "colorscale": {
           "diverging": [
            [
             0,
             "#8e0152"
            ],
            [
             0.1,
             "#c51b7d"
            ],
            [
             0.2,
             "#de77ae"
            ],
            [
             0.3,
             "#f1b6da"
            ],
            [
             0.4,
             "#fde0ef"
            ],
            [
             0.5,
             "#f7f7f7"
            ],
            [
             0.6,
             "#e6f5d0"
            ],
            [
             0.7,
             "#b8e186"
            ],
            [
             0.8,
             "#7fbc41"
            ],
            [
             0.9,
             "#4d9221"
            ],
            [
             1,
             "#276419"
            ]
           ],
           "sequential": [
            [
             0,
             "#0d0887"
            ],
            [
             0.1111111111111111,
             "#46039f"
            ],
            [
             0.2222222222222222,
             "#7201a8"
            ],
            [
             0.3333333333333333,
             "#9c179e"
            ],
            [
             0.4444444444444444,
             "#bd3786"
            ],
            [
             0.5555555555555556,
             "#d8576b"
            ],
            [
             0.6666666666666666,
             "#ed7953"
            ],
            [
             0.7777777777777778,
             "#fb9f3a"
            ],
            [
             0.8888888888888888,
             "#fdca26"
            ],
            [
             1,
             "#f0f921"
            ]
           ],
           "sequentialminus": [
            [
             0,
             "#0d0887"
            ],
            [
             0.1111111111111111,
             "#46039f"
            ],
            [
             0.2222222222222222,
             "#7201a8"
            ],
            [
             0.3333333333333333,
             "#9c179e"
            ],
            [
             0.4444444444444444,
             "#bd3786"
            ],
            [
             0.5555555555555556,
             "#d8576b"
            ],
            [
             0.6666666666666666,
             "#ed7953"
            ],
            [
             0.7777777777777778,
             "#fb9f3a"
            ],
            [
             0.8888888888888888,
             "#fdca26"
            ],
            [
             1,
             "#f0f921"
            ]
           ]
          },
          "colorway": [
           "#636efa",
           "#EF553B",
           "#00cc96",
           "#ab63fa",
           "#FFA15A",
           "#19d3f3",
           "#FF6692",
           "#B6E880",
           "#FF97FF",
           "#FECB52"
          ],
          "font": {
           "color": "#2a3f5f"
          },
          "geo": {
           "bgcolor": "white",
           "lakecolor": "white",
           "landcolor": "#E5ECF6",
           "showlakes": true,
           "showland": true,
           "subunitcolor": "white"
          },
          "hoverlabel": {
           "align": "left"
          },
          "hovermode": "closest",
          "mapbox": {
           "style": "light"
          },
          "paper_bgcolor": "white",
          "plot_bgcolor": "#E5ECF6",
          "polar": {
           "angularaxis": {
            "gridcolor": "white",
            "linecolor": "white",
            "ticks": ""
           },
           "bgcolor": "#E5ECF6",
           "radialaxis": {
            "gridcolor": "white",
            "linecolor": "white",
            "ticks": ""
           }
          },
          "scene": {
           "xaxis": {
            "backgroundcolor": "#E5ECF6",
            "gridcolor": "white",
            "gridwidth": 2,
            "linecolor": "white",
            "showbackground": true,
            "ticks": "",
            "zerolinecolor": "white"
           },
           "yaxis": {
            "backgroundcolor": "#E5ECF6",
            "gridcolor": "white",
            "gridwidth": 2,
            "linecolor": "white",
            "showbackground": true,
            "ticks": "",
            "zerolinecolor": "white"
           },
           "zaxis": {
            "backgroundcolor": "#E5ECF6",
            "gridcolor": "white",
            "gridwidth": 2,
            "linecolor": "white",
            "showbackground": true,
            "ticks": "",
            "zerolinecolor": "white"
           }
          },
          "shapedefaults": {
           "line": {
            "color": "#2a3f5f"
           }
          },
          "ternary": {
           "aaxis": {
            "gridcolor": "white",
            "linecolor": "white",
            "ticks": ""
           },
           "baxis": {
            "gridcolor": "white",
            "linecolor": "white",
            "ticks": ""
           },
           "bgcolor": "#E5ECF6",
           "caxis": {
            "gridcolor": "white",
            "linecolor": "white",
            "ticks": ""
           }
          },
          "title": {
           "x": 0.05
          },
          "xaxis": {
           "automargin": true,
           "gridcolor": "white",
           "linecolor": "white",
           "ticks": "",
           "title": {
            "standoff": 15
           },
           "zerolinecolor": "white",
           "zerolinewidth": 2
          },
          "yaxis": {
           "automargin": true,
           "gridcolor": "white",
           "linecolor": "white",
           "ticks": "",
           "title": {
            "standoff": 15
           },
           "zerolinecolor": "white",
           "zerolinewidth": 2
          }
         }
        },
        "title": {
         "text": "🌌 UMAP 3D K-Means Iterations"
        },
        "updatemenus": [
         {
          "buttons": [
           {
            "args": [
             null
            ],
            "label": "Play",
            "method": "animate"
           }
          ],
          "showactive": false,
          "type": "buttons"
         }
        ]
       }
      }
     },
     "metadata": {},
     "output_type": "display_data"
    }
   ],
   "source": [
    "# Bernat: any setting <1 will cause sorting order artifacts because of\n",
    "# the rendering engine's static sorting order on transparents.\n",
    "point_opacity = 1\n",
    "\n",
    "colors = px.colors.qualitative.Plotly\n",
    "\n",
    "# Static layout\n",
    "layout = go.Layout(\n",
    "    title=\"🌌 UMAP 3D K-Means Iterations\",\n",
    "    margin=dict(l=0, r=0, b=0, t=40),\n",
    "    scene=dict(\n",
    "        xaxis_title='UMAP-1',\n",
    "        yaxis_title='UMAP-2',\n",
    "        zaxis_title='UMAP-3',\n",
    "        bgcolor='white'\n",
    "    ),\n",
    "    updatemenus=[dict(\n",
    "        type='buttons',\n",
    "        showactive=False,\n",
    "        buttons=[dict(label='Play', method='animate', args=[None])]\n",
    "    )],\n",
    "    sliders=[dict(\n",
    "        steps=[dict(method='animate', args=[[f'frame{k}']], label=str(k)) for k in range(len(iterations))],\n",
    "        transition=dict(duration=0),\n",
    "        x=0.156, y=0, len=0.6\n",
    "    )]\n",
    ")\n",
    "\n",
    "# Initial empty figure\n",
    "fig = go.Figure(layout=layout)\n",
    "\n",
    "# Initial data for frame 0\n",
    "iter0 = iteration_meta[0]\n",
    "cmap = {cid: colors[i % len(colors)] for i, cid in enumerate(np.unique(iter0['centroid_ids']))}\n",
    "\n",
    "for cid in cmap:\n",
    "    mask = iter0['point_cluster_ids'] == cid\n",
    "    fig.add_trace(go.Scatter3d(\n",
    "        x=points_3d_per_iter[0][mask, 0],\n",
    "        y=points_3d_per_iter[0][mask, 1],\n",
    "        z=points_3d_per_iter[0][mask, 2],\n",
    "        mode='markers',\n",
    "        marker=dict(size=4, color=cmap[cid], opacity=point_opacity),\n",
    "        showlegend=False,\n",
    "        name = 'C' + str(cid)\n",
    "    ))\n",
    "    mask = iter0['centroid_ids'] == cid\n",
    "    fig.add_trace(go.Scatter3d(\n",
    "        x=centroids_3d_per_iter[0][mask, 0],\n",
    "        y=centroids_3d_per_iter[0][mask, 1],\n",
    "        z=centroids_3d_per_iter[0][mask, 2],\n",
    "        mode='markers+text',\n",
    "        marker=dict(size=6, symbol='diamond', color=cmap[cid], line=dict(width=0.5, color='black')),\n",
    "        name=f'Cluster {cid}',\n",
    "        text=[f\"C{cid}\"] * np.sum(mask),\n",
    "        textposition=\"top center\"\n",
    "    ))\n",
    "\n",
    "# Add frames\n",
    "frames = []\n",
    "for k, meta in enumerate(iteration_meta):\n",
    "    frame_data = []\n",
    "    cmap = {cid: colors[i % len(colors)] for i, cid in enumerate(np.unique(meta['centroid_ids']))}\n",
    "\n",
    "    for cid in cmap:\n",
    "        mask_p = meta['point_cluster_ids'] == cid\n",
    "        mask_c = meta['centroid_ids'] == cid\n",
    "\n",
    "        frame_data.append(go.Scatter3d(\n",
    "            x=points_3d_per_iter[k][mask_p, 0],\n",
    "            y=points_3d_per_iter[k][mask_p, 1],\n",
    "            z=points_3d_per_iter[k][mask_p, 2],\n",
    "            mode='markers',\n",
    "            marker=dict(size=4, color=cmap[cid], opacity=point_opacity),\n",
    "            showlegend=False\n",
    "        ))\n",
    "        frame_data.append(go.Scatter3d(\n",
    "            x=centroids_3d_per_iter[k][mask_c, 0],\n",
    "            y=centroids_3d_per_iter[k][mask_c, 1],\n",
    "            z=centroids_3d_per_iter[k][mask_c, 2],\n",
    "            mode='markers+text',\n",
    "            marker=dict(size=6, symbol='diamond', color=cmap[cid], line=dict(width=0.5, color='black')),\n",
    "            name=f'Cluster {cid}',\n",
    "            text=[f\"C{cid}\"] * np.sum(mask_c),\n",
    "            textposition=\"top center\"\n",
    "        ))\n",
    "\n",
    "    frames.append(go.Frame(data=frame_data, name=f\"frame{k}\"))\n",
    "\n",
    "fig.frames = frames\n",
    "fig.show()\n"
   ]
  }
 ],
 "metadata": {
  "kernelspec": {
   "display_name": ".venv",
   "language": "python",
   "name": "python3"
  },
  "language_info": {
   "codemirror_mode": {
    "name": "ipython",
    "version": 3
   },
   "file_extension": ".py",
   "mimetype": "text/x-python",
   "name": "python",
   "nbconvert_exporter": "python",
   "pygments_lexer": "ipython3",
   "version": "3.11.2"
  }
 },
 "nbformat": 4,
 "nbformat_minor": 5
}
