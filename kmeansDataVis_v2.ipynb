{
 "cells": [
  {
   "cell_type": "code",
   "execution_count": 1,
   "id": "136a0079",
   "metadata": {},
   "outputs": [],
   "source": [
    "import struct\n",
    "import numpy as np\n",
    "import umap\n",
    "import plotly.graph_objects as go\n",
    "import plotly.express as px"
   ]
  },
  {
   "cell_type": "code",
   "execution_count": 2,
   "id": "0db8952f",
   "metadata": {},
   "outputs": [],
   "source": [
    "def read_all_iterations(filename):\n",
    "    iterations = []\n",
    "\n",
    "    with open(filename, \"rb\") as f:\n",
    "        # Read header once\n",
    "        n_clusters = struct.unpack(\"I\", f.read(4))[0]\n",
    "        n_points = struct.unpack(\"I\", f.read(4))[0]\n",
    "        n_dim = struct.unpack(\"I\", f.read(4))[0]\n",
    "\n",
    "        # Determine how many bytes one iteration takes\n",
    "        bytes_per_centroid = (4 * n_dim) + 4  # centroid values + id\n",
    "        bytes_per_point = (4 * n_dim) + 4     # point values + cluster_id\n",
    "        bytes_per_iteration = n_clusters * bytes_per_centroid + n_points * bytes_per_point\n",
    "\n",
    "        file_data = f.read()\n",
    "        total_bytes = len(file_data)\n",
    "        n_iterations = total_bytes // bytes_per_iteration\n",
    "\n",
    "        print(f\"📦 Detected {n_iterations} iterations\")\n",
    "\n",
    "        offset = 0\n",
    "        for iter_idx in range(n_iterations):\n",
    "            # --- Read centroids ---\n",
    "            centroid_data = np.zeros((n_clusters, n_dim), dtype=np.float32)\n",
    "            centroid_ids = np.zeros(n_clusters, dtype=np.int32)\n",
    "            for i in range(n_clusters):\n",
    "                start = offset\n",
    "                centroid_data[i] = np.frombuffer(file_data[start:start + 4 * n_dim], dtype=np.float32)\n",
    "                offset += 4 * n_dim\n",
    "                centroid_ids[i] = struct.unpack(\"i\", file_data[offset:offset + 4])[0]\n",
    "                offset += 4\n",
    "\n",
    "            # --- Read points ---\n",
    "            point_data = np.zeros((n_points, n_dim), dtype=np.float32)\n",
    "            point_cluster_ids = np.zeros(n_points, dtype=np.int32)\n",
    "            for i in range(n_points):\n",
    "                start = offset\n",
    "                point_data[i] = np.frombuffer(file_data[start:start + 4 * n_dim], dtype=np.float32)\n",
    "                offset += 4 * n_dim\n",
    "                point_cluster_ids[i] = struct.unpack(\"i\", file_data[offset:offset + 4])[0]\n",
    "                offset += 4\n",
    "\n",
    "            iterations.append({\n",
    "                'points': point_data,\n",
    "                'point_cluster_ids': point_cluster_ids,\n",
    "                'centroids': centroid_data,\n",
    "                'centroid_ids': centroid_ids,\n",
    "                'n_points': n_points,\n",
    "                'n_centroids': n_clusters\n",
    "            })\n",
    "\n",
    "    return n_clusters, n_points, n_dim, iterations"
   ]
  },
  {
   "cell_type": "code",
   "execution_count": 3,
   "id": "4d29fe23",
   "metadata": {},
   "outputs": [
    {
     "name": "stdout",
     "output_type": "stream",
     "text": [
      "📦 Detected 3 iterations\n"
     ]
    }
   ],
   "source": [
    "filename = \"clustered_data\"\n",
    "n_clusters, n_points, n_dim, iterations = read_all_iterations(filename)"
   ]
  },
  {
   "cell_type": "code",
   "execution_count": 4,
   "id": "a9035409",
   "metadata": {},
   "outputs": [
    {
     "name": "stdout",
     "output_type": "stream",
     "text": [
      "✅ First iteration summary:\n",
      "Centroids:\n",
      " [[ 18.630295 -41.37959   79.42423 ]\n",
      " [ 53.700943  63.4402   -58.71637 ]\n",
      " [-67.50447  -41.674995  36.489223]\n",
      " [-66.32146   60.20879  -69.7133  ]\n",
      " [-32.68804   69.04003   64.15755 ]\n",
      " [-67.383224  31.718067 -15.020914]\n",
      " [ 42.148403 -39.712936  16.527779]\n",
      " [ 60.05154  -18.97237  -53.686   ]\n",
      " [ 13.576735  60.477074   8.988299]\n",
      " [-42.171772 -48.18392  -67.98742 ]]\n",
      "Points shape: (10000, 3)\n",
      "Unique cluster IDs: [0 1 2 3 4 5 6 7 8 9]\n"
     ]
    }
   ],
   "source": [
    "print(\"✅ First iteration summary:\")\n",
    "print(\"Centroids:\\n\", iterations[0]['centroids'])\n",
    "print(\"Points shape:\", iterations[0]['points'].shape)\n",
    "print(\"Unique cluster IDs:\", np.unique(iterations[0]['centroid_ids']))\n"
   ]
  },
  {
   "cell_type": "code",
   "execution_count": 5,
   "id": "666168cf",
   "metadata": {},
   "outputs": [],
   "source": [
    "all_points = []\n",
    "all_centroids = []\n",
    "all_point_ids = []\n",
    "iteration_meta = []\n",
    "\n",
    "for i, it in enumerate(iterations):\n",
    "    all_points.append(it['points'])\n",
    "    all_centroids.append(it['centroids'])\n",
    "    all_point_ids.append(it['point_cluster_ids'])\n",
    "\n",
    "    iteration_meta.append({\n",
    "        'n_points': len(it['points']),\n",
    "        'n_centroids': len(it['centroids']),\n",
    "        'point_cluster_ids': it['point_cluster_ids'],\n",
    "        'centroid_ids': it['centroid_ids'],\n",
    "    })\n",
    "\n",
    "# Stack all points for reduction\n",
    "points_concat = np.vstack(all_points)\n",
    "centroids_concat = np.vstack(all_centroids)\n",
    "\n",
    "if points_concat.shape[1] > 3:\n",
    "    reducer = umap.UMAP(\n",
    "        n_components=3,\n",
    "        n_neighbors=50,\n",
    "        min_dist=1,\n",
    "        metric='euclidean',\n",
    "        low_memory=True,\n",
    "    )\n",
    "    points_umap = reducer.fit_transform(points_concat)\n",
    "    centroids_umap = reducer.transform(centroids_concat)\n",
    "elif points_concat.shape[1] < 3:\n",
    "    padding = ((0, 0), (0, 3 - points_concat.shape[1]))\n",
    "    points_umap = np.pad(points_concat, padding, mode='constant', constant_values=0)\n",
    "    centroids_umap = np.pad(centroids_concat, padding, mode='constant', constant_values=0)\n",
    "else:\n",
    "    points_umap = points_concat\n",
    "    centroids_umap = centroids_concat\n"
   ]
  },
  {
   "cell_type": "code",
   "execution_count": 6,
   "id": "ceb7bc70",
   "metadata": {},
   "outputs": [],
   "source": [
    "points_3d_per_iter = []\n",
    "centroids_3d_per_iter = []\n",
    "\n",
    "p_idx, c_idx = 0, 0\n",
    "for meta in iteration_meta:\n",
    "    np_ = meta['n_points']\n",
    "    nc_ = meta['n_centroids']\n",
    "    points_3d_per_iter.append(points_umap[p_idx:p_idx+np_])\n",
    "    centroids_3d_per_iter.append(centroids_umap[c_idx:c_idx+nc_])\n",
    "    p_idx += np_\n",
    "    c_idx += nc_\n"
   ]
  },
  {
   "cell_type": "code",
   "execution_count": 7,
   "id": "2994bde6",
   "metadata": {},
   "outputs": [],
   "source": [
    "def voxel_downsample(points, cluster_ids, voxel_size=0.1, max_points=10_000):\n",
    "    max_points = int(max_points)\n",
    "    down_points, down_ids = [], []\n",
    "    for cid in np.unique(cluster_ids):\n",
    "        pts = points[cluster_ids == cid]\n",
    "        if len(pts) == 0:\n",
    "            continue\n",
    "        vox = np.floor(pts / voxel_size).astype(int)\n",
    "        _, idx = np.unique(vox, axis=0, return_index=True)\n",
    "        reduced = pts[idx]\n",
    "        if len(reduced) > max_points:\n",
    "            reduced = reduced[np.random.choice(len(reduced), max_points, replace=False)]\n",
    "        down_points.append(reduced)\n",
    "        down_ids.append(np.full(len(reduced), cid, dtype=np.int32))\n",
    "    return np.vstack(down_points), np.concatenate(down_ids)\n",
    "\n",
    "reduced_points_3d_per_iter = []\n",
    "reduced_cluster_ids_per_iter = []\n",
    "max_points_per_iter = 3500\n",
    "\n",
    "for i, (pts3d, meta) in enumerate(zip(points_3d_per_iter, iteration_meta)):\n",
    "    if len(pts3d) > max_points_per_iter:\n",
    "        reduced_pts, reduced_ids = voxel_downsample(pts3d, meta['point_cluster_ids'], max_points=max_points_per_iter/n_clusters)\n",
    "        reduced_points_3d_per_iter.append(reduced_pts)\n",
    "        reduced_cluster_ids_per_iter.append(reduced_ids)\n",
    "    else:\n",
    "        reduced_points_3d_per_iter.append(pts3d)\n",
    "        reduced_cluster_ids_per_iter.append(meta['point_cluster_ids'])\n",
    "\n",
    "# Replace old lists with reduced versions\n",
    "points_3d_per_iter = reduced_points_3d_per_iter\n",
    "for i in range(len(iteration_meta)):\n",
    "    iteration_meta[i]['point_cluster_ids'] = reduced_cluster_ids_per_iter[i]\n"
   ]
  },
  {
   "cell_type": "code",
   "execution_count": 8,
   "id": "e1e0f2ae",
   "metadata": {},
   "outputs": [
    {
     "data": {
      "application/vnd.plotly.v1+json": {
       "config": {
        "plotlyServerURL": "https://plot.ly"
       },
       "data": [
        {
         "marker": {
          "color": "#636EFA",
          "opacity": 1,
          "size": 4
         },
         "mode": "markers",
         "showlegend": false,
         "type": "scatter3d",
         "x": {
          "bdata": "OIdZwYB5WL/4DUvBYAxYQFAi0EDIihpCsBSLweYrIcIo+YBB0N5kwgAwIr5QNldCkCAEwoDNCsHsNwTC0BpqwQRcz8Hw7idCAFGwwICci0A8rSXCoJE2wLwv4MG4ynRCAKDsvShC1EFxwyrCmKUhwTAboUGQJ6HBoLeMQHj6t0Fwt0fB4CQpQRThn0FMHvLBpNeUQqy3eEICmJ5CsHqlwIxzR0JouQNCYOK3QlAMRsFA9M0//ruJQtAA6EF0+wfC7DgBQuRREkLISjlCIJ/+QOA8DcJwgSPBoG8GQPAeaMHApsFCvvuaQpBfq8H479zBiHtkweijJsGor9HBYDSrQcjpd0FUWZlCKBldQnBHP0KOPyHCoGBWQggyEUFgTptAIBeiwSSyskHoCZ5CyJoMQlB7VMGMssNCGKRBwdC9oUF06xtCFGyNQqRc10FOgTnC8MTcwYAi9D8vExPC+EWGQcr5ZMIgHlhA+F8WQnDu6EHQD8HAlPEDwpAGAMHgr5tAFB7ZwYDN5cECaIFC4J2BQsBQtkCYvkfC8Hd3wTA3I8Egmi9AVGK9QVAC2sFwgJ1CGJRXQaQ6k8EAHShCAJsuP3hdJ0JoJ9BBcHRlQjqSiEKsk6TBbp6ZQtDI5UC4RGPBAcBFwpCllMHYX31CCB8nwQoox0K0FadBcBviQXDKbMImlg3CAIDHPjDj/EGk6/bB3BVuQnz8dkLYuzhByIDfwSDNtkEESFpC9CFcQqAMM8GgBb5CFF1oQugZvcHkmiDC5HNVQhhZuUGg6nXBcsGvQsowHsLG3T3CwBlWQij590GEbolBlAPOQQDwjj7QvfJBVF9fQugeyEFu0pZCgH0xwRzdbUIwjwVCiCo/QoxmPUJuTpZCdGG+QcRSdkJQr77B0D/4wCZEg0LYKhBCwPPTQEB4m8Hgy9DBSOf5QcchGMLgIEJAEN/lQTD0ycBwgoxBWGgzQjwAbEIU+AxCkBiuwdjYT0L8ZZRBgJFgwaiLOEKQ/4FAVJAUQj5ji0LYZPPBCFUFwihlSEK451ZBLxVMwqiF0kGgsNbBuCN7QhwkP0Ickb9BMMCzQRRyEMLyx7BC8EI0QkC+lEIAD4y+lHBAQsBbKEIA6mFASKc8wUDQC0A0sblCAmsBwlgAqsG0iS1CqFEJQYBuDEJA3JJCrMXXwczgjEIMhpZC1FcMQhi+HMEAmYLBJtykQjaNHsKc5sPBNmmyQlizOkLgJ/NBAGtqQEpQPcJghxxBiJTXwQkhPcIQgQfB6O7/wQC9kz/o/V5CnAZpQsh3XkLEXXRC1awcwhQ8LkLSzyPCNNJ9QkDRQcGyUAnCdLeOwXzVgMGQKDpCPHqQQTBp38DsNy5C2J9GQXBW9cCAWUzAtFRyQiz5tcGo8UhBEC7QQMp6kUIAJWxCrP6KwcAaUMHYirdC6KRHQsx0HkIA/TpA/9c6wvhM/kE2pzjCiKOkQqA6ZcBAeAJB+BT/wcRyQ0Jk3rhBiM2/QUoBoULQl1dCeA0VQRg4UEI4u0JBQISbwQBtdkDAcMJAGIscQtgtEkLouRhB5PrVwTyDVULA4AvCwPL8v2zaokJIWKdB7I9PQhBstUIWCodCcPHEQRiPl0HEqG1CdOtvQlaSrEJ4hrFCekYswkA0OsJoTUzBKJ0jQnSttcHYLTBBGDsaQhCDaMFahaFCDOwSwkjKHEKMNdXB0II1QdRcN0JgOLVA5F0qwjAPAcIsHFxCrnO0QpDNMUHYwANCANiKvnLdp0JAzmtAiHmPwYCBkb9AajhCQElnQuDKXkKfSkPCyEfoQQDo38C6/alC8J6AwdB5IkEw6ONBsHVDQpA95UA0N7XB8HYIwT61pkJgPrBARjSPQuggoUI=",
          "dtype": "f4"
         },
         "y": {
          "bdata": "nTXHwgBKs0HG8mHC6L6TwXDRnsKIbgbC7vuGwowsHsKA169ABRVRwrpiPMLUeG7C9boQwqAWocLHp67CMMK1QLALgECU8GvCwBKnwgDSCT9FnpLCWBYbwSDKhsC+qbXCyra4wmAkusKSHKHC1x1NwmCzOkGgYVRBEE5DQQT+lUFEMbhBEp2dwoRhvcJsOKXBkLWLwX5dwcK/rnfCLhqRwikwf8KYSjvCQIECwL8ZQcJWa07CraVlwrD9i8LF6q3CkC69QTubm8KouxBCHDjmwUBTA8AQX/DBESy5wiEfRcIApKu+rxi/wiBT+MAwyUzBGHqIwomkqcKxdoXCENCswnTlwkH09b3C7fhtwgRZGEKH42PC1z+awkWNksLc8w7C+drCwlBXwsEvHqLCoFiTwf/LL8Ipa4PCfMaqwmrZAsIIQsbCZrC7wvqEBMKp2GLCgBiGP0htVMIEFzLCzrOZwgi4p8IobffBYFnzwLgv1MGSXIPCyCNWwQ1QPMIjCIrCUM0LQZBnecH5Ly3C5zyIwixuIcJ3DqLCeuUdwqAva0CA7jk/Dz1Jwrq9TMKNqJLCIPCdwiZ4MMLgIcbCWpeawm0rsMKgeLnBeae4wsqaOsJiXIrCWDV3wcCCO0EuhcXCJpKewqgow8KlUiTC+FCVwrzChMHgtbvCz0YSwu40k8J+JoLCgB7SvyD/qsA4IPTBor2WwvOktsJiVnfClCzTwUIua8KAHfpB2GX8wQCCrD4SHSrCKAvZQRq/wcKsdQXCeIMhQSYitsLaebPC0uOMwmjLg8KC77PC0JGMQUd9OsI8DYDC4AiswCh+NkG49PzB2EUOwqt4qcLQdV7BMEiCwiCagUCcGgzCB1HDwgxai8KzrybCpDnnwf/vHMJAxLA/SC1NQe4gW8J68p7CyoZGwlDD98Dbuy/C8I2JwdTWNsJynZvC1qCIwkyXnsFAA+3BROC8wR23r8JG1LrCXASnwue/VcIOeI3C4APvwKhXdMHs9G7CkKDAwiBno0FMC6LBzOQcwrC8ZEFwLJXC1WuqwshkWUEcr1jCBzG3wmDgFkFLqGnCIBsBwKCdh8LWWr7CUHPhQKg8x8Jg1SfB0Ay7wSGlHMKp5JXCB/6iwkvkfcJoxU3C+Zu9wra6j8Lj64HCIEL1wPxIrMIKqKbCAOp8vq7fkML/83/CuJ5LwdzmCsJEk43CCSFZwht0MsLEhaLBiOYgQuJfs8IFcsDC+OiiwolASMIwGojC2OV+wnP3hsLeEJnCE4Kjws0xeMIgr0LBhKVfwphRxMG4XrVBQB9KwNjxkcFCHcfCbJfHwmCMxECEEJXBluUuwphiVMGI5PPB2FmjwsATJcFIyobBDNaCQaSUJ8K5YLLCuE2nQfW+OsLgMrZBHFYVwsizP0Jpcn/CyIX7wWuPs8L4MWFCf4OSwtDQd8KFM7zCRNKqwuDWXMG+5YLC0qpywqAVsUG9WYnCd+lKwlaxlMKoW8XCDD/GQeACVEJOXRDCjCLhwQwNPMJSHALCcqsEwvfSXsJmI6bC8LjvQUbol8KInk7Bsy08wuFyucL4MqvCbQWcwjn6EcJg3YDB+9SJwpQ1mMKayiPCADTSvzOda8KgZl5B3ouvwhLYOMKIKNfBzmDFwu10scI2V7DCZLaywnyrkcH+OoXCHvOCwkC6jD9sZx5CUJV4wriZMUGw5nrB+MZ4QXLoDcLoJvTBo2O9wrMJpML8sgZCwt+IwhIIsMK6ZUnCEGX5wYDOi794P+5B2KxPwaiwlkFYlMDCWIS9wX4BmsIrCG3CbkVBwqU7psLguEnAS48/woDueEEb67jCgoazwgAx8T71eYHCmL/Vwez9vMLN6WDCANz6v/YBqsI=",
          "dtype": "f4"
         },
         "z": {
          "bdata": "MGRvQhAQqELuX4lCxp6BQrAafkLsULVCLG4sQmrPnkK68oBCknvCQvZ5tkKIGaJCvIyOQkrivkL6ZoxCAL7CQjZ7pkJie7ZCvjmxQjjMakJQeaxCFNKBQub+kELQp4FC0NtMQq5ClELaWadC4n2RQpgilUIml6BCoCqyQhJ4vkLa4LdCLLqiQsAav0K2CbxCdPSzQvjjuULK76ZCqgaNQkAJu0IKFaJCkG+sQn4hjULIurpC0KbCQoSjr0L8XoJCknKdQgAswEI4w79C2N2FQiJFqEJyF6BCSOm1QljWukK6sLNCVCCWQlDHdULG/LRCVJ1SQlRGWEI67KNC3M9qQjSrwUKqe45CuinFQlqBskLoSrNCPjquQlpEuEJU2b5COH+oQvqknkKwMpRCDorBQnzqXkIW+aBCnpqFQoQXfELOfZBCynjAQprdjUKwCaFClPuTQhIWrkIyP45CWJbGQjgcs0LA8ntC9h3AQhQIhkI6G6lCZLCjQoAEekLkQa1CdqKVQiqfqkJ6955Caq6oQqyHlkLmJKFCKOg/QqQZTELAGMNCghetQrQJYEK+uatCIBBeQtRwfEKC9Y1CtEOxQjwyr0LCY6RCbuCdQupdsUJsf45CROqhQuAteUIYYGlC+OjHQrCxEkJuRY9CGISqQoT+w0KU57dCJiGuQiSqvkLmXJJCXATEQqJoxEJMM4JCFhO7Qrh+rEIKeKhCGDS1Qt4KhUI6PrdCypaeQqrrx0JS+7VC1O+fQpAqlUL4ZatClojAQjCkkkKC54VCBgemQgzec0Lgg4NCejPAQnB5eUKKepJCtjmRQmDufUK+4IpC3CbBQuq1jEJAIq1CwL4+QgxWtEJ8k45CguTCQhZDskIClK5CMKmqQuAipUJA96xCbsyhQvqVsEKoc6VCzC+kQhbUn0KyuZ1CwHa5Qpx1nEJYfp5CkhGaQkxzb0KeI8NCVPOOQnAPp0KE+5FC4MYRQgBCn0KQOX5CZA5PQrTpqEJ2DJlCRJleQtaZoEIUpKNC6ra/QppDrkIouKdC4MWPQvpdiEIw+YVC5imjQugOuEJ+UrVCUEuiQmrPn0J035tC2COyQtbYu0IkgWxCYg+jQjyugEKUVFtCOhKeQng2tUIodcJCKGStQujaLkLsw5FCTKReQqqGoEJy+KlCzCWpQlxbjkLyS8RCWLmPQhhHs0J+lLxCWq7DQlL0l0Jgoa1C8hC6QmTRnUJQi25CXGicQoY+uELKTbRCBljFQiD1nUKqfopClOqDQjach0JG1cRC5IevQnS0w0JQsqtCOC+xQizjqUJo2K1CNoiOQmRiVELihJBCLP5QQlBYnkL+rsJCTgiTQki2ukKmvaRCdIOrQnC1lEJWYsJCVA+3QgLdkULWmL5CXKBKQiyCsUIqK4pCIueNQoa1xEJUTsZCNNCRQr4IskKUAGNCqAOgQhzrmkI89a1CQnahQgRgoEJ8gHNCEtKoQjCJgUKo6llCGteZQsK1wULkEsFCyG9uQg7kuUI0LZ9CQAlZQoTblEIoCL1CIEGZQlKqqUKcb8JCDPWBQgrLgUKQ/ZRCrpCSQijdr0Imx7pC6JXDQpK1lkJOR5NC4mWMQrKHmEIAS75CkvGYQm7xmkJMVqJCbrCcQnYLvEKWK4tCEM65Qm7+h0Jo731CbDh9QnBclULWmbxCti2VQrwDwULAYbZCNMiyQjCFvELyALpCOmGWQnjgrUK+45lCKF+5QobDlkLO7aJC9OuhQsjqrEIeWK5CemmwQsDMgUJym7NCYFOfQni7oELuqqFCpEuyQlIAv0KgbMBC9EE4QkpIkEJ+ob5CNr6mQhLXsUJUx3NClEuJQqIivUI07qVCVH67QsBOnEI=",
          "dtype": "f4"
         }
        },
        {
         "marker": {
          "color": "#636EFA",
          "line": {
           "color": "black",
           "width": 0.5
          },
          "size": 6,
          "symbol": "diamond"
         },
         "mode": "markers+text",
         "name": "Cluster 0",
         "text": [
          "C0"
         ],
         "textposition": "top center",
         "type": "scatter3d",
         "x": {
          "bdata": "2AqVQQ==",
          "dtype": "f4"
         },
         "y": {
          "bdata": "s4Qlwg==",
          "dtype": "f4"
         },
         "z": {
          "bdata": "NdmeQg==",
          "dtype": "f4"
         }
        },
        {
         "marker": {
          "color": "#EF553B",
          "opacity": 1,
          "size": 4
         },
         "mode": "markers",
         "showlegend": false,
         "type": "scatter3d",
         "x": {
          "bdata": "tNlSQlgf3UHMZUZCwOtvQIAPmkIgBDNBMJdBQkzyT0LMDqdCGD5oQuAHUUB2DohCuuODQqbjjEKOQoZChCbaQcYJukL4KUdCIpiBQrZ6rUIq8KZCoDm1QnBimEAmirBC1NR4QvxVxEIsLzJCwB6SQhSJt0GaEapCqGyqQmBVdkE+aatCAASUPgiz+kGcDZRBmpe1QuyAhEGeobNCkJa1QlJOxUJse5pC6FnCQlSLt0HwUvJAhPMKQna3uULQRa5B9HlxQoRITEI86LVC0uq4Qug/XkGAkRNCcI6+wAZCwEI4TSNBEM2rQLZaskJAQcNAEkmnQoBXtL+KNIdCOKtDQYhqcUIQZmVC0CwLQSLBo0KUe3FCNna/QjCllUAEQ5NCUAASQriRv0LEMC5CdmfBQsBKcUG4DbJBAuuoQijpokJwle5BNgWqQpzyEkJoCZxCoF6tQZhyJkHgARhCMBtZQeDbYUHo9YtC5HOAQnZUvELAg5lBVIqnQYBpMEJgYYNB1IAGQujNt0K48FtCFF48QiAfiUIMp4dCQreFQpwSi0LgLixCeIKlQrCCrkEAuIBBKDnFQrTrNUKcGLZCMFHHQsR7e0LA3KdCXh6vQmDKskIwG6tC9B2mQii4S0G4boxCkFlMQohJnkH0Mg1CvOasQuhIKUI0lzFCOEKFQsAZpkF0j35CZOugQgjErkJIFH5CANJFv/AfP0KOHJZCVNRHQmbmiEIQAXhCzmK4QpTAwkLMe45CcNRFQnaunkL4iItBoDxFQdwEB0Iw1JVCnJeZQpzwIEJgL/VAeIaNQkCE6z/IZ5xCoOSnQpBRekJM2KVBWm2rQhjxH0K2mI5CSMF2QvTxmUJ4Z39CDCwDQspNoELcdFhC6KuzQYyJPUIcM75CiLckQq68s0L0z7JC8O0TQuwYl0IQgrpC+p6VQth5okIYaqVCkP8+Qtj7Q0JE04HBNDxgQkiKtEJMkZ1CXPpIQg7ph0JeE61CmqyHQliWvEIgClHAQoC0Ql6upkJyrZZCuCQpQbib4UHgivVBDFZRQmxqRkK45cRBeH81QdDYmUJAUBhCQI+5QizUN0IovXhCuB+AQrIAuEIMWi1CutibQmT/AkJc7pZCWDZKwYB5H8GsEIhBHBPMQfytP0LC7L9CZGmVQljkVcGwtq9CuHgeQqgNW0KcOL1CpM/FQiT4gEIszDhCcOlUQighnEKsbJlCcBshQta1v0LK+bFCXqypQk4jwEKI555CICcpQchknEIwG6XAUAeGQoD6/EF+6cdCAIB0vkiHOsHguUhCsFHeQCpqx0IAiKu9lCvNQag+T0KIa+RBZIqtQm6Kg0JsQ9dBiB/zQY7rmkLCubBCAsmPQk5WikLgkO5B+Le4QjxUHEJIbLVBwMyLv4ouhkJw2cNCfuWEQoAMl0IQ195BHFJLQtSBXUJAZ4hCHJbSQaRDpEGolDtBdNRnQvBRsUCwXsRChI6/QoSOakLIj3fBqAvtQcA1vr+onJ9CbBmQQZRcxkLCLatC2M0PQgDyBEEqZ7dCBAqAQmj1DsEWDLRCUKFsQu6GpUIG5KJCrA26QnBVi0KARSpAuCy9QQCq5EGwfr1BEKGVQtS+rULk3YtBdNR6QmCh5ECYV5ZC3GNPQqhshkKGHMdCyKWGQqCNiUK8uMJCsLh9QsCWWUL0UZ1ClHlrQqC50UE814lCWHFYQvguJ0JQCZRC8tiwQgpJrEKYGyFBsEEwQsSCkELs0GtCHAEcQgJevELw62pB0BeYQjxyukLIiVbBLCxSQvAyUUEIo7NCKqGRQgy2P0KY2GpCaO6kQWJTn0JAX7ZCgOdoQkCUrULQNnZBWJBtQYhAR0L4LB3BwLhTQvLaqkI=",
          "dtype": "f4"
         },
         "y": {
          "bdata": "sHJEQjiN7UHABlFC8LCQQcw3jUKkHN1BEl6lQkD1wkL47klCHO2JQhgPc0G0PIBCjPlSQkAvEEJkH6NCiOJhQubXq0L4z4ZCUI7GQj4vnkLUXrVCDPYiQrBU+0FSwoBCvBl3QmhQp0LMNbdCpBN8Qrixb0LiIL5CTjnHQqbtx0J0JYdC1Jp6QmgYmUL4HEdCWLyAQpBdYULEjrZCjNqoQkB7IEIeZYZCjItKQhSlykGgrLpBDPu4Qk6Vq0IgWapBigTBQmyvh0JwjYJC9MrDQgAGmUEAPndCUBVZQrhESkIIb3NCsBDXQQBXWEJOZ6ZC5JxVQhhkQkLiGpdCXG6eQvxMJ0IUxCVC+MleQkSBb0JQLtlBJuGGQmjFvkISJ7hC3FGhQpoPw0LIUCxCSCakQpAKZUJIs6tCUIu5QgY1gEII8JFCJlSoQiDE+0FmnsZCTmqdQigmm0ISqrVCmJLSQcwkaUJo2jhCbN5NQoBfVkK0UqRCXOGkQjAVSkIoBV9ChrC4QrwHwkIQzlFCNKodQlYOkUKQ0l1C4AnDQhqLr0K8PDFCFPx3QqTupEKEosJBdDRyQvQGa0IE8IlCFKIlQtC7FEKUpSJCnJnbQeSeakLg0k5C6L2eQuitZkKQjDFCci+aQhqUs0I0+x1C7PfZQVRUJEKKTLxCPoCMQlx0SELc9rRCxEcbQkiBiUIuL5tC0AIFQs4ij0KkGGFCXJ0CQggit0IYBIpCvkmMQkwHhkJQarpCxgKaQmRtq0K0QLRBOHL1QcjdJUIAP4tCmKN6Qmhhu0JYVHZCUiCbQsjeC0KOdrpCPDWPQox7H0Ki8cRCKLQ9QqRvQEIGbohCeDJGQuiyYkJai5FCMkeZQkjD/EGEbwtCgrWDQix/GUKgCmFCoMZtQvYQgkJogpVCkCQ8QoDvYEJkWwhCTMqYQiCutUIEIn5C2lSXQnQjx0IoEBJCdL6HQkQbhULs5q5C6r6OQph8/0HCdZ5CROxPQkAR5UFo4PRBKuC8Qvb8okLA3wpC0JwUQqivBEI0IbpCRAE8QkCXf0KoSPxBeOHkQcQ5bUL4T3JCWkCUQrRCrULQLBVClOabQr43gkLkZ8ZCNJbfQcQGFkJeXbRCLFKHQsoNmUJQsgtCNsCRQiSxBEL4L5tC/KGVQpgxvEEkxrNCOBg6QpqZgkKULcdCDMGVQtiZGkJYqUNCnpWpQhAdREK0WEpCsL25Qliri0L6V5lCrAqSQt74s0LsRCxChNuSQphopkLgaH1CcN0KQpABQ0Kaf4RCkMjJQTDS30H8YB1CPJeRQmiSW0IWhoZCXh+LQuS/NUJg1g1CkM1dQuTSS0KgsCxC0PIvQpCtJkLoNJZCIvG3QhhyeEIMTApC7IlUQs7Eq0IAX0BC+JbCQsxiRkIaE6lC6kmLQjgdnUKIh7tCjobBQmAZx0KotzhCNAU9Qni8ZkLUxBhCiOdAQihwDEJk7yBC4lGpQiAyZ0KItapCsFqsQrg/UELkFk1CTq6BQlwVYUKMfGJCEju5Qn6KrUKIJKZCtN1GQkrUmkJogm9ChO0IQhYzqkJ045hC4IuwQqQ0OkJYXRxCIIZoQqjPCkKEmqlCuMboQVTHYkI08rRCvBxSQiL5skKQwa1CAJ16QlCE2kECfa1CvpqQQrICqEIaba5CJEynQi6qnELqT4lC0D92QgSfhEK0iMFCLOMNQnz5w0F4xsVBXF6VQuRkkEK0X7tCEmSHQopmq0IslJZCUNHkQbImlkIUJCJCJqOfQk7VvUI0hCRCHLxiQjhOwkLgA0xC1GleQviBGkIOXp9CMDuYQgY4iEIAOClCUE2OQuZDhEJMzSdCspKNQqyOmEKgB8ZC7sOJQqA5JEI=",
          "dtype": "f4"
         },
         "z": {
          "bdata": "o1Ohwm58UsILc2XC9n6twsGmS8J/JFrCgprAwriW0cHA9LW/5IaQwjBJxsK3RL7CHDY7wtyXOcJbFCnCbyG4wtQmu8FsiKfBVDyEwhQLysGnILzCfuacwsyUp8KLhZ/CTZtOwl9ixsL1cH/CaJaFwfVNPMJUpbrCmPtlQaPBYsLANJXC6LWfwh45P8KdlILCVdk4whMOkMKgaflAxOK8wQFjUMJzzIHC3JOUwjI3k8IVFsLCHYRAwmYQB8JVW7zCDpuNwlSG3MHsSmLChiuywoe9tMJo9dfBxnSswi7XfcISd2vC40yEwlLHtsIm0nvC8BIMwSwKwMLycRvCsiqcwg/weMIrS5fCTM6kwrQI88EnapHCCC78wWZWhcIkt6jChLuZwtkxpsLonDrCgMvXwU4jfMLu2TTCxru8wpTDr8JipYLCQPPJwYjQd8KQOfPAfLR+whWqqMJNZ7LC9JZ0wrgYZMJokKHBylCswoZWS8J/YK3CbEqpwuvhvsK2tJTC9zhZwvhxMsFs17jC5q8Jwgrzp8Iw42fC9YjBwvJBY8LZ+7PCnIcGwg9epsK7CKnCZ2Y4wt4rRcKjpHHCW5OQwrUGmMJ7qVXCSL7GwvQ3rkFqJ5rCtebBwh2HjcIJGYnC0Gu+weSrVMKQMkXC6QS5wpwCesI5kLnCvI6/wdm9gMLtfBjChpJ2wiuescKLaIHCPzhfwrx9hMGAvek/d7mLwpQGxcJfjsbCoGJQQQhOWUE0v6bBkgWbwv1IicKKYKfCWFCOwoGdsMLACKzBFZy9wn2UtMJJPaDCIuDBwlutqMKAoeq/MKeFwli8iMKy3prCtww/wsiZpMEAozjBNM/BwlRbnkEAIw/A3bKlwpPGmcK1TiPC+vC3whsrOcKsTIbCQ8yvwsm0NcI6fX7CEIelwsieqcLg/1vCAEbsP8S9isIw7bzB9s3Cwsh/sMIcZL7C5DOlwvDJBsF8KIPBEoO9wrvjssKF3cTCqPjhwVIOkMItj4jC0Dj+wbzbuMIaF5/CcT6Nwv6wjcIDTKHCEHwqwVx27MEmSYfCrICKwiqkp8L4C4zCmLfuwfBEo8LN67LCqCcGwaRUHcKYLaLCw9WvwtzR4MGA86y/y+SrwmY3t8K377LCJO1FwiBthsLw0KPA5IC1whint8KEP/7BOjJawuAnGMKMOgzCwhjDwj1OpsJvebHCAeW3wpjKJ8HI0WTB+niMwiPyGMIjSbPC+GjGQbAmi8EDCiDCJDiBwkKVxMKnB5fCu6llwrKkqsKoxOPBqCuywjQ2mcKc6a3Chsqawqd7YsIwmZfCttWPwn59u8KwzVTC6A7fwbhTt8L00bfCwuaVwl6sPsKN7FrC6RpEwthBMsHSUYLC1sOCwr+xrsL5X0rCoOidwrH4O8IQMFNBl/29wrCibsJyx77Cwb+4wvSDQcIOU4XCZHCGwtMGe8IoXl7CVwJ9wil1T8IGmLDC2KSeQUrPpsLFu8PCuR9wwpBEmMLwNLhAriOkwp00v8JArBXAypcbwqPKgcLILIbCSD2Rwdg2wsKIfL9B/CGcwixpiMGZgsbC91rEwt6hvMI/brTCKzqfwu69pcLd7cTCxdGlwhtrtMIT/ZzCH2jFwr2fo8LK2ZvCFDxLwjT+wcLwDW7BIO7LQHWGksIWXb/CtsK5wqChrsLYDcLBbHgJwjXEs8Lct5LBSYZtwn4ouMIWcqPCjaiUwoB/usEoMaXCJeQuwlQbwsJU/oTCuIXCwrxuhEHqy7fCqLELwnyuyEHeOZrCnFCDwUPaqMJAHNq/ULCnQGWnasIEvrnCBJ6awtRigsJn0lLC885swiBDr8HEpL7C59nCwozW4MFwYb/CerK5wvEoS8I=",
          "dtype": "f4"
         }
        },
        {
         "marker": {
          "color": "#EF553B",
          "line": {
           "color": "black",
           "width": 0.5
          },
          "size": 6,
          "symbol": "diamond"
         },
         "mode": "markers+text",
         "name": "Cluster 1",
         "text": [
          "C1"
         ],
         "textposition": "top center",
         "type": "scatter3d",
         "x": {
          "bdata": "xM1WQg==",
          "dtype": "f4"
         },
         "y": {
          "bdata": "xMJ9Qg==",
          "dtype": "f4"
         },
         "z": {
          "bdata": "kN1qwg==",
          "dtype": "f4"
         }
        },
        {
         "marker": {
          "color": "#00CC96",
          "opacity": 1,
          "size": 4
         },
         "mode": "markers",
         "showlegend": false,
         "type": "scatter3d",
         "x": {
          "bdata": "r6wqwneAXcJq+DPC3qUmwniOBcIMscPCJEoZwjiVh8JArF3CxV4vwlm4HMIx+SDCOCqEwlJVnMIrAqbC5qKhwpCqgsKC63vCWGs/wpmZXMLsz57CmWklwtEAvsJULKjC+xURwurJmML/ybXC9IJqwgqyF8L0mQ/CQMmOwlLYt8JnbTXCfG6WwkXNXMLkaJvCiLLxwVsIpMKvsLbCoEHEwjoHmsLc8rzCnznGwrw8scLAfTDC9a5OwlIQiMKmSqPCEgKRwvxfm8JwhpbCSdulwiDU9sHgDlvCoejBwnpwlcKUXIjCRH69wkyj2sHdjE3CeHHXwRXTNcJqo4vCisSswt95PcLocIXC3cg4wrOISMJsyhTCXkcewpsCu8ISMKTCB2QcwnYKm8KL5BHC+ARYwiZ9ocLa0cHCAuaywrmKPcJjRIrCrHqawqC2jcK11z7CyqiCwj7ZlsKgwrXCFe+YwhAnD8LBSFjCkIWqwizc5MHf5ZXC3M8wwpBOCsIeoYzChSyYwgkRTsKgGDfCuEPlwYp1jMIJIpLCY1oewlj9xcI0r6TCne+jws6uuMKVr4TCD8S7wngiwMJQD9LBuDCswpaKi8IhUaDCBaA/wuG5esKWLmHCaG/6wazQgMJsFpfCO3afwombYcKUlJPCO+AywmzzSMLlPMXCMC6Pwm7ZScI+C7/CEssLwvWAtcIYFzHCGNqZwsLmUMKMBobCRAa3wjS6j8K8auvBRN78waBLE8L6abvCHmixwiScEcJuBnjCAqoHwmrVncL4aELCLOXowWyajsJ8+YPCxsvAwspOeMKA7pjCwoO8wkE4xcJcqKPCp0G3wh/TkMJ2aTzC8LXBwgIIocJEzq3Cc22fwldRm8JrzcPCv4qnwg7bu8IlII3C9hKEwmxgMMJK6jDCop0EwtrtC8IN1a7CWDcnwh1GhsIMoJbCgYyrwkvNn8LV7EzCdepWwuYfPsK8S6vCc0guwvgWocKFBoXCOk2VwuDmrcIo46bC/7yewnzGsMK+n8DCjIyjwvb1hsLavRbC4gFdwg58KsJHCqDCfD1mwtgYSsJ7qWrCWJGKwvuct8LcFYnCsuyPwnREz8EEEYvCx83DwtADucES/rPCxdpTwiDHvMIxA0zCLYGTwhd7a8KW+6LCixqzwnMPssLrZ8PCHtrDwkrUQ8JM7sDCIezFwuGxjMKsp2jCDAyowqt7IcI8OHTCzntRwlYTZcJMhqjCu+jDwvCtVcL9tz/CwX/Awq4+aMIr2JbCRp4nwlxa6cHG41zCCbxNwgqdMMKWdLXCIdlawrGVdML+hkHCnAHswSw2c8LBqKvCbPO4wk1Fi8Km/GfCKc23wnwxXMJQ5ALCsBwTwgfCn8LYHcfCJGCpwmVdu8LX3bDCuMzqwUHtu8L2GQjCT1awwrvzqsIJ78PCS0KuwqeDuMKIsB/CGHZwwnYTD8KwqqPBaeCpwqgAQsLW9LDCCCL2wTyem8L77ZzCivmhwhb3r8JsukfCUTWYwoblxcLtcpzClBghwlJhWsI3n7LCwNZIwtKBg8J6IKTCto03wv+GwcKLNZbCJWe7wguRgMLlC7XCAsqowtGKoMKpjH7CLliqwhwXeMKc+5TCjtCUwih+b8Llyb/CtXGMwpgxx8JHiTXCpomnwuoAicL8bK/Cjn2vwvcehsIEi7bC6yeqwoQ8uMKh92HC7Ag2wsKDY8KeTXXCbt0bwthy5MEwcy3Cjr2swijoc8IKHIXCUpiwwsf/P8JobbrCDplVwvxNZ8KJf4/CWWq1wuzlhcLhDjbC838rwkf2vsLV4HXCgH7DwvnTw8L0MR/C3+qbwnTwWsJRDazCHFaRwuFBicKkIVbCxJFkwgk8LcI=",
          "dtype": "f4"
         },
         "y": {
          "bdata": "AWevwscgKcKo8+3BrMK0wfD66MHEX4bCj48awmf5tsLkMOnBhkitwjv5Z8LgW8ZAS/FIwtCkCsHvXqPCuNwZwkD0578AVubASTQnwlgLiMJUWIfCsG4VwnaUq8LAsSLA5X2xwsfOssKoVcHBsJCCwgiVkcEf/kPC5G6CwompjcIggSxAwBkywdp1lMKoRQrCSIhawaCwosGMjdhBeH6ewuBJiMLsPfjBePEAQZZ7vcIIM1jBcMZYwl5GT8Kcs57CsCykwOEGccJICp7Bsu+swg7VWMJMTafBgJS+v0sLxsLA8LG/8GX8wGD6mUAmZbrC2HVkwbj5+sGaPGnCYf1Wwh4KTMLoXYrB2Ee+wmDhT8Do6C/BOK5CQVwk1sHQ4pDAGCpXwZKQvcKpbl/CBe9lwuCxP8JN3WvCN987ws2nlsLGGiTCNmozwiATjMJEuaTCBr+7wjAGdkFgZY7BSFkpwdwJA8JebYfCvFjXQSD5fEAnGyPCOJJgwXPMo8LpYIrCh5hEwtQC7cFEu5TBIAbLwUIyRMLGKr/CwMf1v2BmosFAhug/0Dy6wl5njsLBxbvCHFL7wbB6vECgGK7ASVWkwpAyc8K3LRnCCfIowsLQqcJk1EDC4M0MwhhFB0Hw3bbCQEN1Qaz9k0FIFITCFfnHwlwkhsFldVXCYhlTwgDoAUFt557CxNyNwmCmEMHUWMTCbBetwjkRhsIG2qPC1ww2wswhnsIYwltBIGudwfa4CcIIJJ9BmrynwuBCc8BunYzCylGKwt+Mm8I09rPCMLhcwdD6SsHo2C/BnDSSwmA/KMAgTwpBxt6awjiaVcECmbHCbZGIwpyY3sFA0JJA1tCOwsl3JcL3bbXCMDXhwCdbYsIFFTrCp3ubwioimcJAsBpBfEj3wV72w8JwtDHBlugCwgP3ecLNALjC3A2swew3vsKjLy7CuUcXwqS0vsLRs0PCosJvwrhm7sHCjAnCWPtkQVpQBML8MRPCPTJNwvw+jME4JkjByGuUwpD/n8HDVY7C4ILxQHCeOsJXpLHCPM/gwRibOkFtu5TC8iijwoAXecIAdjbA/NGlwQwVjsKkQotB+hwawh7VC8Kk3IXCzMa3weSai8HmTIzC/FufwlU7QsKuRDTCSaycwnCZ3cFwVgjBbnW1wrNeusKAE0U/gYKdwkmqTML4VHHC8JfSwVDSe8GWi6nCFiQHwojjcMK/iUfC7OxSwiYsA8JPVDPCDtaywif/EcLh1mrCKG4JwfGPg8K801jCRIJKwkKAb8Lk4sDBABAswtalr8IAoozBQGqGwPPxuMK6XsLCuCk5weCatsJCzgvCHF6pwZCmMMFUWnLCPi0GwuAYqcE9cD7CDr5WwnJ+XMJ+YmLC4EnEwmococJ0CnzCAA77wbiTwUEBPIzCIxkpwuIpQsIzuTHCAFabP2U8gMKmm1DCfeu4wtBazsFETe/BEPGwwS6RgcKYj0BBywhMwru8NsLQU5HCmu9nwkORt8J3NYnCwheBwmBnB8JAYSrAOPD4wUAlo8BAaWfBAIFTwRihwcFKL4PCvMLBwYDhZsFetrnCr2FvwqSOzsFcGEbC7ea6wmAUhMF0mxPCAFbMv5r3nsJ0KsnBoQcZwgbFasKIDjvBjOLCwjoSxsK9/FvC0AjCwYJPiMJAb5RAm65SwvlUwcJoGjTBLfC0wsDF/8CarJXC8Fu1QICtUMHQATpBVgukwvzCWcLwWhvBzzc0wnAS6cG4/s/BQKuiv8gGocJEy/rBBKMNwg0dt8I1brrCYPCcQMJ9JcKAOkjBsIE9QTjb28FAAQ7A9GvEQVw938HS07zCEJKywbTuuMElgK7C3G7lwTvyusLYWpvBi66jwmAcFEA=",
          "dtype": "f4"
         },
         "z": {
          "bdata": "iEZeQRTzaUJoeizBIEXbQeCewUCo6rZCQAJAQMjek0IANKu+uH4dQkBKLULQdWBCnF2IQrieJUFwDsTBlLOTwYpVv0IcNilCVMMbQvCTpEFCW7lCXMGNQixsfEJkjoJBGBW7QZjuHEIYhmHBaE1JwTQMY0I0LkRCYAmlQuy8wELkTR5CoGGAQnDuokDQWApCpGREQuAAkkJqlLFCvMGQQTBVh8CAD4rAMGsCQsC+VEFAn5k/1DmdQgiNHcH+NadCqMSJQZAIvcAQ7HNCTP1UQiAUNkEAfHC+pEzAQtzCgsGa8oZCvNCtQVwHg0LY+lBC1LmkQSSWr8EQoM1BcNevQGgceUII6WBCsD4dQfD/VEIsKnBCvDVEQpiHrUJwzHJBmHd1QbC15kGgylJC0q+eQsAzR8AGVAnC7G7BQXhZWELUB4BC1MLMQRB+Z0H493xCZNoIQuxjkEKwLTRBQOsTQkDQ5z/gP0/B3A+zQsQnXUKggClAcE6DQlDmz0Fg1UZAcIANwfhiBEJwQPVB8GvzQDLcmEJUbaRBdOGlQcQfxkI69YtC9iG5QtzOI0IgSV5CqGJfwQQkGkIwiDlB9ISyQUBj4MC4sgbBpLhlQl5IqkI0GaBCtFGNQRifZEKwH3fBbKWNQqwgnkJo72lCeDyaQWjmFsGIAzJC4Jd5Qvi0g0JAv3VCADRJP4iDTEGk4UtCsG/EwSDnYkAALDdCYHQYQGCaP0GmF5FCMO6SwMjsRUIYU4dC3NEiQvTnTUKAf4dAgJYjQrLwrULAdJrAAACCvBgDYMHguhBCpEYdQhwVmUH4MdRBEJKhQebkvkJ8m1dC4D66QOQ5m0EgBElCbI6sQkxhl0KATqk/QN4cwBA5t0IcPwnCsHh6waRvnULUTKdCbIahQcyjkkHSl6dCqONpQlAbfEEKFqZC2OzpQbzDhEJI2GvBMrORQoQ4VUJg22LAANodPvirA0FgHd3BOAgmQnjJDUFgZ6BAAH66wWiR1EFsh7ZCLPEIQihIdkIgnolBxmWXQtiUwsFgoDdCrJzGQgjXmkIAhwzAsJVUQugcZcHcF5dByFBlQnSKd0IQXStCsCH7QbzTP0J244RC8BY3wVz6J0JQAbFCTMqMwUxbSkIAgIA7JEG7wThInkJEW4VCsHVaQcCBYkDwZmRCsPI/QshibcE0g4FC6H2aQuhiRkHoZ7RBSHk4wSBuJEGQwEBC8MNcQmJrmUKwtOPBJk+yQiwsKUKQoWZCmPAcQhLEj0LEfM/BWKwtwaDyiUGQ1nVBIATMwMDMj0EsyZ5BOOR4QmAEzkEw3ONBaHNIQvggEsEg1mDAKJuBwaicYkLwGgpBQH/KwJyijkKEzGNCwC71QfgK18EwYbBC8E1JQehhDUGQzpZBXFRcQvjXg0IQIuBB+ESiQcAti8Dc+VdCcDuQQUCDvUKcjnNCvIhGQoCsB8DEqC5CoKqtQGAlR8DclrpCmMBHQrCQtMFcaJ5COvO0QtSKDELcoAdCvAqNQoAQMj/4RGpCwCjjQZawpkLk079BECiEQaSBgkL8TURCnLlEQtglrMHYh7lB+Oz0QcSnWkJwB29CYAz0wCgKRcGAC9VBABTBQCBgqcDmQ59CkBaqQjyZgUIYDi/BIGl2Qp4KsEKwfEtB4DpbwPhig0Ig1pxCpJHFQgD5V0GURjxCUCjrQUw6wkHsJk9COkeJQkCJSUIs0Z1C8EdUwYzgxkEQuatCUFbeQWSytkF8+bdCYAz1QQBPjEGoecLBAuySQjhnIUKweSNCTNKeQj75wEI0IDFC8OVoQoAJp0CQb/RA5NKaQjDq80D03dVBQP+2QhDfs8EQIS5C0DFKwdgL0ME0bqpBtOMVQihUkEI=",
          "dtype": "f4"
         }
        },
        {
         "marker": {
          "color": "#00CC96",
          "line": {
           "color": "black",
           "width": 0.5
          },
          "size": 6,
          "symbol": "diamond"
         },
         "mode": "markers+text",
         "name": "Cluster 2",
         "text": [
          "C2"
         ],
         "textposition": "top center",
         "type": "scatter3d",
         "x": {
          "bdata": "SgKHwg==",
          "dtype": "f4"
         },
         "y": {
          "bdata": "MrMmwg==",
          "dtype": "f4"
         },
         "z": {
          "bdata": "9/QRQg==",
          "dtype": "f4"
         }
        },
        {
         "marker": {
          "color": "#AB63FA",
          "opacity": 1,
          "size": 4
         },
         "mode": "markers",
         "showlegend": false,
         "type": "scatter3d",
         "x": {
          "bdata": "A3+rwnpitMI++3fCNY5hwjzZYMLqqpfCuxW0wmhs4cE+OVnCmPaRwhzV4cFbFq3C5tcAwsDvi8Lj4cHC0ES1wc5QvMJP0CbCxZiKwotbvMJMJJ/CrJe/wtxSzsHAmIfCahx2wtEmicI6Dq3CNrezwqaAvsLUN+HBQoFXwkk/iMKo+QDCPOAcwnlKtMJqkFnC9E+ZwjNDucKXCL3CgDwHwm3TgcLNiCfCYJmpwoSNxcKkQZnCrqBmwipJgcKk7dvBXNa+wU+SEsLgzLLCXxyXwqgyVcIxIb/CbQq3wk1yKcJr64LCyHr9wZgn58EIZbnCunC+whyixMIwCpjCMhU/wkCEoMLrEojCW46GwozvRMJiYgPCxCKYwq0jwsJQFbvCDpNLwstWUcKEjYXCUPamwsHuw8LhlcLC+IAswjcou8JYh5zB7PLFwnSt+MF1dnXC/lPBwg04U8LuggbCEEf8wbROd8KOszzCo+eowoMqcsKSvKHCYW+XwogArcKmHTTCQ4U7woWipcLyfofC6i9Lwo42JcJAa9HBiFnXwainRcL4DoPC10TEwvVCxcLicJbCcsOXwtjJM8L64hrCfOZywjuYUMKSvpTCXRVmwmcqx8L2D5TC6Tylwva9K8KmiLXC/x5swnRmtMJPPBrC18sUwtR/Z8Lm2AzCQiIOwkeXeMI4ADjCqIPbwfgDq8G8xo7CGodWwj6VrMIINyLCqkSrwuO3h8LFQYLC620Xwq7Oc8LWAUXCL8N6wnDigMJJapPCRBOxwsVQrcIH6GbCAfCNwrI3WcILRrXCwDukwqO5O8KiJ6TCrCmPwkYhrsJipbrCGbZhwlF5XMKDNFLCXBeWws0jrMKeG2fCuGmYwglonMKg87TBHciWwoCcv8GX/qfC5vc3wkovYsJMxJ/C+3e1wkgX5sHDSrTC706CwkT7xcIBdL7CciWfwjsitsJSvIDCJABNwp5lRcJM/JXCNdaZwvxDNsLFnrHCZiIrwtYGQcJ8bJvCRrIiwlaxdcLKWnHCcDmAwkCXgsLS9YPCEFjKwVhlqsLCPQHCkMacwpSUi8LYrbfCv86iwnSXx8JfasfCJNBgwgii1cGQhqnBlxiPwi1LocJ+toXCdFyLwX+NScII3KvCf6qywnbircLbfqrChuGRwtF4w8IAaFDCmvmJwnTtocJde0vClCu0wsbIlsI513LC8FrzwSif4sHS07bCvfG3whjQv8FcH17Cy28wwpAALsJkkr/Cxh/Dwgh8A8ILUkfCmIODwhVcjcI0rZ/CcGO1wuaTH8KPtKrCKTlxwu9Ui8Ksr83Bg72MwhfEd8K28pfCRv6ywqvKi8JQ4nvCAcVXwmOjucKANxbCiI63wWWsl8KKLWPCJOvgwZSP1cGdE73Ck0tkwpySk8LObqzCgiOtwnNppsKGmrLCyO88wiyCp8EuMRrCHaMowlo7qMJokMDB8V0swjjb58GIWrjCegYDwksjt8I1LIjCojHGwnjBw8FSrobCiJsDwsMGvsLyb6LCQamEwj5gvsJJpcHCAuFJwhT8l8JTHJvC81jCwqRRu8Jm7bzCuMmjwnXyocL6PmPCDICCwkfWwcK6upfCNMoowjBNIsLMZSnCBJFtwpxXncFQvp7BRNZZwlhz/8FS2IjCvHtQwqaRscKwb67CdsoowhCI4MEP8a7CBvvDwhJzVsLrESLCTnB1wiPzc8KpMJ/CgfKowkmsZsIhCqbCIRh4whS6wMKQy73C5oeewiCevsLj15PC0D6Rwi4ebsKRrbvCQy2RwoAHncL1xJLClOnXwfShqcJ3cUTCi7+Cwu5jnsJ9R4/CzSKawrhbkcJa/qzCWreWwhWIjMKx44/CywmZwisgT8I=",
          "dtype": "f4"
         },
         "y": {
          "bdata": "wAxLQvDixEKQoW9ChFUDQvSxu0IgpaNCGPtCQZJshELcxYBCjCtjQiyhe0LmeIVCMtq7QpjLvELCRKtCCoS9Qu7cx0KItFRCaODAQuwehEEcHtJBKE6HQgx3l0KcVrJBkG9VQixBG0JYvz1BQOuFQah3lUJIiuNBTB2aQlZAokL8fzFChLIdQnAgw0JeWsNCxD6PQtymgkKUO4BCuKutQZBJmkIml4BC5HCnQlRqtkIctiNCtpKLQoJTtEKkgIpCiLVWQjgMQULYgoNCEEXZQbDT5kFYfLdCgFcJQsADbEKoK+9BSHEuQhKrrkIUR4BCwMupQShWEEL2oJVC/KCIQiw6fEIo3jxBBA0jQoAIlkIM1VdC8EHhQVA3qUIwNctAXoGTQrAeo0Gc6CBC1E/BQrTHEEKmabxCgComQh61m0KKAqRClN6EQqg620FI8DpCnL+FQtAcPELKb6pCYL4tQrCRIkKcsmlCALKyQiwXfEIIMkZCXPwcQnycokKQy8dCsiqdQk4do0I8mQJCfJK/QgRbjEIccXBCdNUqQhR2ukGw1lFCsCQXQZBYKkIEx6hC4G3+QdBAt0FmQIJCwPR+QeoawkLQvGJB0O5RQogErkKCvqVCkER8QeC3SkJE7olCFHK6QX4hjUKYiTBCTgGeQiwNpELM5aRC6GjBQpDlK0I2AZpCTMeOQiwVTkLmd6lCAKWcQcbzlUIKDYZCmMS0QuKil0JkTJdBguu/Qv4EpUIYCgRCOFdaQghBk0J8EZpBiB9uQW6aqUJABWJCPK2/QtAsqEJEWq9CfIY5Qi6DnUK2DJ9CBoG4Qlx9Z0LKLYhCGOwSQmA8DkIwSgJCSAMZQmCPQkJOvL9C4F/QQdgQL0IUsAdCeAMhQfy8L0Jk6SBCMOcIQvQStEKW2qtC/PKxQQr4lkLk6qBCHNmaQr4phkI49cBC6CcUQrIcpELG8IdCvgPEQgypIULYMkZCutGsQhZ8o0LY5nZCFDcxQlD0ukK2g6hCFI67QrpRo0JWEqRCaOXAQkRnp0Jk9KhCyO//QbRVa0LkI6FC5o6yQvxPokLqN7RCkqGJQrapwUI41bBB+PFxQvhhDUJYdyJCrrSaQsQTpUJmabFCvkG6QvjOjkK07yVC5MIeQliMuUEYG/dBvBmxQiRrKEJcvXxCnCAuQtRxuULmJ5lC5MKoQtDc4kHo2VdCqC+WQtqmn0KMlIxCXPRDQhwAsUK4XkRCNiuTQlDqqEKymJhCOmLHQsghP0JY4mhCxGC7QuBrg0EMnEdC/I22Qo6phEJkaWRCfAwsQoCBekIETbpCdGqxQvQHuULIyhBCssCYQkI0wUL4TAdBBF29Qv5Cr0L4ZU9CsgigQpLgsELgb6RClFC5QmpntEL0NR9CNj6bQlSdV0JsZaFCvFJFQkj8wkKwkMZCxJNLQhaJqUIOcMZCXAc2QqhcIkIoF5BCpg6EQn7Ix0J0ylZCGLCzQiSfJ0LsT5VC1DS+Qu5xnUKUQRNCLMiXQjRs0EFKdcJC+FYjQjgkaUFQ5FFCNJa5QYhe/EFEFkdCbCgsQvg8YULk8tdBYGskQliAFUJUBKNCwI6pQnxWGkJQy15CqrSTQoxtLEKEVqVBwkmKQvjnb0JGe7xC5MEgQgCWVkLwcZJBrreCQpBIQUKoOddBcFqZQvzjxEJ+laVCGj6TQsSbukIWK6RCuHeHQgBpvkJARg5C3P9MQrYJo0LM049C2MxuQsCIekDwMeJA7DlYQliwU0IqW4JCQuyEQjALw0JUrA1CoC+vQrSt0UGEUt1BrIAWQtJzn0KgjHtC2PQnQhj9kEKEvpdBcNwgQmiEE0IQ1B5B2oCiQtgBvkFcosBC2CinQu6Ap0I=",
          "dtype": "f4"
         },
         "z": {
          "bdata": "ldRAwjy4+sEC/27CGsKrwuLss8IcFiTCDJ5iwnS/jcLGgH/CW9pdwjIcrcIRkxTCdomwwgpPOMLPpcTCFnewwhzXnsHfd6vCzKv9wfO8jMJZY77CO9yTwogppsLpaqzC7oGBwpu3usKR0b7C1zV0wuhcxcJoSobCMstmwuZ9osJjSp7Ci+Opwkh+qcKjrbPCB0xvwm3XgcKMtxXCMvCNwtK5UMJJAZ/C3ES0wmleQsJDLzzC0pNewn6Sp8IuHITCM1ScwqHyosJIGfHBq9N1whZtksIsUh3CjyeTwhg7aMIZHm/C8JuYwhqfvcK+i4/CqIp/wtdLUMLaxl7C7QfEwp2xocIo05/C2BCQwuZsd8Isd33CRO6fwrQt0sEwBjzC23ahwmQka8K4UpHCM4dSwqcEE8LngIfCje67wkoPj8IS87LCZpRLwkZemMKcekTC70uFwjOzccINdaTCJ6mbwjdPrcLbm8bCkC7AwsMxrMKcNI7CYzSMwuhm5sEeKJnC3XtHwlTThsIq+rDCcCm7wnYNwsJ8AaHCaNqTwvwhi8LYoD7Ct0Y2wh1LOcIS9BLCefdgwoAFrsIJX5nCtlGTwugZdsLrTX7Cs/9uwvBb18EYaK/Cad+qwtwFs8ImdpDCFUV4wrxzM8LvVJnCrT6JwtLYU8KGKXbC6r99wukGl8IQccTCX5KZwlJ0qMI5zZvC/OKIwvQR9cFtX8PCZpQLwnAKbsKdzWPCyqW3wm55nMKatI/CyErCwjLtYcKfFKPCzVSlwuR/ssIDN13Cx7Ggwr0vZsLCTzTCvPx0wlweQcLYHZDCKZWPwpRPjMLYsrDCSImfwnp0icI0gbnC6BR6wtOTUsIJyYvCebdvwgqfucLOZ5bC+QVbwkFUh8IaDkPCiwd5wg0dJcKh0o/CYTJjwnbOrcKk27rCbJqiwhiw4cHucEDCVhvBwlGmr8I3SU/CQgK+wg2oX8LAG2XCIaRjwhWCWsKcCY3CRyK2wkGcWMI78FLCJFjFwh8HWMJr553CsJefwtOqn8IO85nCVli5wspmbMLWrcDCGfsdwvGBp8LnuhrCWmfBwj2dqMKkpD7Cjiqewhz6nMIm+qLClSpSwu7ZjMIZpIzCXPPDwvC7fMJ8raHCMxjEwrV1RcJZeVvCTNwIwkX/vsLbvMLCFlR9wghPecKkWcPCTQlzwi7EwcJVJZ7CP2rAwiZkq8IAgnDCPrqMwl6oucJrQMHC5o+dwgq4o8Luf6jCWP2cwSaie8Kpk7/Cyl81wpUrqcILDY7CxAw4wozzUMJ0infCTmvCwkB9k8IvJMDClhJEwqvKx8LkDpPC8s17wjxzucLwHmvC83N+whxN4cGKboDCvU29wuir/sGRwVPCYBWSwgkDnsLWu0fC6ViMwgxmt8IoJj3CaQu/wniizcHrZ2rCf71Zwm6Ex8KgcJPC8zJ6wvONNMKDspTCiLGUwuhAu8JL+CjCKkDCwn5iosLOZoDCKka1wvijwcJ6FFzCQMWFwjfBpcIYi+bBVbxBwvJlhcKbfmXCjkKpwlK1M8LTF7PCECYawnTnU8IwKC7CkSpNwmIUtcLpe2bCy13Cwq9Pq8J3R7bC9x2uwkVoucJmW4jCfFiuwth1vMJm/cTCtcaUwni0hcIUzIjC82yjwiyuDMLah4/CYyKJwppbscLHA7/CbomGwlCjwsLRHHnCBk3DwhwtrcJAFZ/C7I6cwsOnhcLEhfjB0pmzwiqbk8KT2aLCHt25wq6nNMIUvsDCbgWMwil/HML3pjnCMgAdwsJilcLYg8LCEn6/wnauAsLhyL3CwGiewqyMp8JQsLHC9L6SwiZnisKetKLCtrCIwrvFwMLJHkzCVCy8wmJow8I=",
          "dtype": "f4"
         }
        },
        {
         "marker": {
          "color": "#AB63FA",
          "line": {
           "color": "black",
           "width": 0.5
          },
          "size": 6,
          "symbol": "diamond"
         },
         "mode": "markers+text",
         "name": "Cluster 3",
         "text": [
          "C3"
         ],
         "textposition": "top center",
         "type": "scatter3d",
         "x": {
          "bdata": "lqSEwg==",
          "dtype": "f4"
         },
         "y": {
          "bdata": "zdVwQg==",
          "dtype": "f4"
         },
         "z": {
          "bdata": "Nm2Lwg==",
          "dtype": "f4"
         }
        },
        {
         "marker": {
          "color": "#FFA15A",
          "opacity": 1,
          "size": 4
         },
         "mode": "markers",
         "showlegend": false,
         "type": "scatter3d",
         "x": {
          "bdata": "rttgwh6yNMKsfJ3CgP0qwMwb+8FFWZzCEpSLwnTEnUG2cknC8PpRQpTjL0I1FLjCqKEfwtUUQcI041rC4J1CQMZKRcK5jmTCgJbawCBVY0GXX7nCC+FAwsDFf0BIyrrBoORhwagwY8LAtom/Po8CwpSZRcJAQW/B0NKywnhZocIO/lHC/z5DwtQhnsFQSFrBgC5awIOsj8IgQg7Chj4hwtgKs8H8qAHCROi6QTC2xsEscp1B1PglQqxkK0LbELrCs9SdwjiNWkEKoVbCglARws6GUcIgsRJBWKl0QZKHD8KOAjXCAPIOQYBuUz+ePZdCEJP2QbDBoMHAXuLAAICVu6C1QMBMolHCJC6hweASsMLEmtLB1wmiwlSW5cFRRzzC8gOlQr7iiML+6obC2GjBQQCTf8IEkylC4flDwnBTvcIQ6tTBPlBqwlBWksIzbi7C3SOJwleohMJwju/AOEWFwqTfG0KQLDhCtzihwgAOykDV3qPCnPaHQgIbh8KA86s/kBQKQuR0AcKOyIfCjOB7wtQ2rUEkn8PBRq6NwhSorMJoyTfB3aN1wqD3H8Dl+afCAyKSwhBfRcFEBTHC1MArwmw7ZcJ0rFHCiCglQfByz8DYeEnBqpJewsAto0ASJZbCRr9RwhgqqsJYjDDByAWxQSAZvEDYM8dBQrWnQvAh08FoSS3BYN74wEBg18FlcaLClYXAwkQd/sHkxANCAHpxP7C2WUL0NaNBAPqPwUBH3sGUi7LC3PmgwtFFtsL8MoNC0PLDQTKvUsKnOV7CuOQwwi7LgsKxpkrCeq8RwlD1z0DgQRnBCJfOwXSnaMI0gDNCcneFwmDZZcL08ofCSIcRQcaKP8KAEgfCttYYwpLwp8KwEm/Ch1ZPwtblBcKcxqfCdO+lQpwJ1sFWzAjCur2BwozO18HqNabCsMDDws7FDsIIDQPBTPq8wuATecISTLzCGCgZwWyvlsK2ornCihwZwhzy10FSQ8DCTNG2wue8psIYn+LBQAenQfgcd8EIcczBzOW5wsxpHULLIrbCXC2cwbGfHsKdq4TC7I2ewvSxecLxpsfCwJIYwfktvsJUMaPCYCv+QMdBSMIXRLHCFHmBwtYNL8JkZnvCzTVuwtAINEEg+frBnR6YwmVSWsIwdQxB4f2zwmC4JUDok3FCBNyFwSgF4MGopwHBUMW3wgAGqD+ut5rCjAe7wUDL8sGmeg3CUPy3wMcWxsKMDlPCXA9dwia5q8KnGpnCzOX3wRCo+0EoSnbBwEY+wcCsmcEv9BHCuFI6wXyNAMIwPczBJNhMQgPHMsK2DJ3CUvyjwsbhj8LgvwJBKOjVwbwPiUIw2xBBiHGOwprGvcLhcEfCaGJ/QQ6DW8K1gGTCSAYswXg+QUFYgr7CMB1WwnNYucKwaE3CMf+qwnwcccIYRJrC5IGKQfqbg0KoF1bBs1pRwo9Hg8KAk77CoJtBwGfkXsJqrjXCEjrGwpsIusJoZrLCe+HAwgg1SEHUlafCwCsuwhmvwcIdLbPCCLdYwW5igcJNdk7CwdVwwrDP60FXeMHCW7m7wpPqZsJgvBDB2G0KQqHRusLzQFHCPv0Uwjjn8MH4XjPBiA40QaAZ38BAodlA0C7UwWCWIUCDZpjCKOiowhjbXkLQI9hAaNcFwdh/PMFslwpC9sEzwoMvvMKIGZzCOYOcwsAPUULkR7ZCO358wkcnqsIQfIRCqJ0KwcaPHsJDvTvCzJvCQRzyZ0J41ZPBWEr3QXXUrMKwIQdC4BH/QMCMSMHgjKlATByPwt5Jn8LgxepAPH9FwqDIw8BUf0VC0J00wejVLEF1EUTC49I6wpwPq0JVp7TCEsM6wpTYoMEgs13BWWNSwkDMaUE=",
          "dtype": "f4"
         },
         "y": {
          "bdata": "UH7xQWj6e0KqjYFCbJeMQgwzV0I0VqRCLM+lQrgeQUKgZAhCRrmdQjj0j0LKSKpCcsqoQrw6y0FcgVlCHjq4QlR+mULcNsdC3J/EQoC3xELsm2NC8CS8QVTtwUK46Q9CYDEyQnySo0LMe2xCqDrGQih+uEIox2ZCINeEQpCxmELijY9CcJCaQoD1vULWj7dCit+pQtjTbUL6ib9CgE+cQgyfukKIaaJC0OafQk6jvkIkxSxCpv+VQibAhEJkM59CWIB5QrhKm0IAX5xC4CevQaw/u0Iw67hCrr61QmSqFULQCw5CZuvAQhpEuUIoKoVC8PukQkC7+EEENMdCrO13QnCZCkJozGNCoC5eQmCIA0KSbLVCZDUdQkpimELaH4BCZOC7QhTtekK4M1RC/CF9QiiwwUKE/StCNFqfQty1pUJUwC1CMJSSQnBLakIuAJdCZBIKQoAMSUKa88dCnBdjQkrwo0J+EJFC4DJzQhBqI0IooqdCuG/HQrxCG0LkKktCjA5ZQjDR1UH0j2pChN9MQrKykEKEmsRCKAVtQhICt0IakKZCnAlIQrTtHUIqP7JCMN/TQYqXjUKOErxCNuumQti1nELeXLVCGElnQqbCrUKMsz1CZJY8QhLbuUJoym1CfieBQlR7uULcNy9CfCy6QlzDqkIA0GJCmMOJQsLvjULc6bJC5LKRQpAb6UHgjVRCSDOoQkrtoUIGcYFC8BDHQpr8w0KgpqNC0LflQajiUUIIfndCGEeaQlyrk0Iuz4BCiOFYQjR6pUIe58dCiMH1QThfWULYgrBC8EOlQqqdu0JQPTpCYFiKQbBEdkI6MJ1CMDjpQaDpt0JIY4lC/LPBQqxPBkJu76JCfA1ZQkA+hUIeLsRCppqNQtQho0IUJwlCqE6jQsR7qEIURj1CQvSGQlQCgkIKP8VCTByvQiYAhUJIGGtCFlWlQjSKfkKcVJhC/CDGQp6Aq0LKMJFCVKyoQsCjXULw95ZCRO90QqC+QEKgOttBIL8dQsQ4rkJoQ3NCfFpGQgCJXEL27pFCRIENQjqBmEL8upVCcHzTQVD/W0J0u1hCOP7vQbQEkUKGtZtCqE63QixYkkIQdB1Cbv+uQlA2mUIEfXdCCHkDQrhsiUJ8YT1CiEWAQriHRUIMuGtC4AWoQvSMIUKubIBCACNYQhD1ikIQPW5CxI+MQt6VlUIoonVC3nSOQvDrD0IQHrhCANKyQiyPQkJkSrtC3HLOQRROsEJwGIpCpMBBQozYxUJS4MRCIHZRQriQO0IYzqlCPFm5QiIqx0JgC7dCgHOhQi69m0JcN7tCFOG+QkwfN0KU9MJCsBtoQnJDtUJY3MRCTIhQQjAkoUIAzDpC6CU9QmBxU0LcvVxCIjrBQgSwfkLYP4JCZPHBQcD1mEJ4z/NB0hTAQg6jpUK2wKhC8puMQmwPqUIsPMdCmt6pQjC1wULYpapCOH+bQmhww0K6tMZClNM7QsT1jkLYLHhCKNoBQmTvxEJc3xtCgMlcQpbirUI0CF1C+LnpQcAlA0KK8odCaGb5QZgDX0JG66lCyJ/xQQx6bEIY+I9CUOmMQmTzc0KWYa9CMkamQoBB40EgpnZCCNXGQhwrJUKM0IVCqKqBQtItn0IAwcVCkrGoQv66gUJGfaBCXD65QgKhj0IgVpNC5DunQpABeULwzWJC2CC5QqjwhEKSuLJCKvyjQlSbmUKyN7pCME3sQQCswULMki1CAijHQnriukLgnWBC3BvHQm4Zq0K0ZVxC5PNlQginXULIaZlCPEW6QRbbwkKcr01CgDEaQtr7nEJg2YNCet+hQjZTtkJkvEFCJMJ3QuRzxUKsdypCerGCQuQuqEIAWpVCKCwOQqDNq0I=",
          "dtype": "f4"
         },
         "z": {
          "bdata": "lBcfQoTvHEJQJphCjqO+QoRCpkIQM1hBTGpXQrhhh0JUJHdC1tTDQpaPtkK4iRVCOqW4QgbXiEKE2BVC8DkbQs7fq0I8j0VCSOmhQnAiikL6Pr1ChK6WQqDRJEL6nqlCMtS7QkxPhUEshsRCqj60QoiMUkLE/SBCRD60QgjHKkL8YxBCcEFMQsR2N0KMa1tCHJyxQhyw1kHqfp1CQAs+Qt7xmkKQAIpBlDxQQlSQiEGOepxCcNKFQhaEvEJQLyxCcOvyQeTsXUJcrD5ChIp7Qkg9xkJgBDVC1mWzQtTKRkKgdL1C+DdTQlQ+akIK6K9CyISkQsY/iEKeY5lC8DpiQlzMcUKEXbNCXH6KQh70hkJ47KBCHFV1QsxGYEIOuohCorKXQvgx/EEe345Cor2NQhQ3IULO/aBC5MNpQoqRuEKs5V5CdI6uQgCELkIADmhCnC8mQpRUuEJIzDxCFBE2QvCyoEKUF6BCdM1wQlZqtEIoI+NB5MyfQm5djkKkQmtCZMm5QiruskIM58ZBguyIQnJqtkKs0cdCjDnMQQQ8h0ES8ZFC7M3GQky3jkLWubJCOAKcQjAuC0Jk3LhBcFeDQsCGoEKUS3pCMIm1QtbzkkLmg5hCPM2FQj4bpkKIJc5BQJ67QohMRUKCcaRCpOaRQmh/N0KOgIlCTKy4QvRdnULkn3VCfMQRQiiIikL4NIlC5Eo4QnRwJkJGWcZCPG14QlSni0LggIpCYgydQiC2RkL4NJJCmIxnQvwRrkEO+a1CQMiVQqJhgkJkcIxC1rmUQhjROELEc4FBCDdqQpywxUK41lBCOgWJQmj4ZUI0H7NCtF6pQmSFrUKgPXJBOpGpQuQDsUJ81kBCJEQoQrqLmEJgHTtCKPyhQsA+VUKUzlFCLlG3QiCAFELUQUdCTBs3Qs4lk0KA0pFCnERaQh6fvkIY2WxCpHcGQs6LuULklThCspiLQoh7F0HKK7NCUAduQj5QgkL4HqFC4E8YQtz1TEIoZMVCnjiqQtDYxkHkG5xCgsWDQp6TrEKot/ZBwFHGQmyvikFwNvRB3C+YQiQcG0LCTrhCll2MQsRUxELECwxCqEqQQjTqs0H+E5ZCYHsGwPjT6UFYJQdCQOsnQqw9qUKEXBpCtJORQtIvrEJSKYxCBFi4QgwInEKsmb9CZJh0QmhNcUJoZy5CVGONQoSbPUJwCjBCNDQnQkhHgEL8WBxCMHD7Qf41uUKkVo5CnD6PQuzXXULUphFCmJeNQizAwUKYCn1CGK90QgRurUKeyq1C6DpZQnxoq0LExEZCRoOKQkwWWkKUGtZBsG0xQfg5UUIwWAtC1NBrQjI8ukJ0HKhCHMHdQYzdjEJ867NCwNB9QrLookLEsDBC+CtKQtD9TkLCKrFCqDk5QuaLlEKcMnhCsOcAQmjxSEKQx4JC9NCoQkTPlULO2MdCvGW4QljpNkG26KNC4jOQQvADK0HM88dBYNKVQsKFrkIkSXZCyNeeQqjReUK22KpC4oyrQja8s0KMLxtCQG16QqQIPUIcLQBC4n6hQuzzx0Jo9GtBSqepQtgqjkLIZa1CTA6AQhRiEUL04q9BEAl0QvShSkKEKHNC0PgdQjIXjEIi7MZCpG6cQuIfkUKogHBBOM4UQgZDnkLAt1RCKIrlQYY0t0KQKW9C4mWIQmyhKULQ8hxCAExTvzyUw0Jg07pCEA6SQBLJhUJCM7FCatKZQpDBW0JChq1CbIKRQoigokJw5idCNBNeQjCXfUKGI6hCmOeIQl7CgULufJxCDIZWQuqjwEIiurhCAMaEQlBvaELwgKlC1mSPQuwuQ0IolE9C+u2RQvRcp0I8mJ1CRPApQvxgT0LQWzpCZKlgQiy9eUI=",
          "dtype": "f4"
         }
        },
        {
         "marker": {
          "color": "#FFA15A",
          "line": {
           "color": "black",
           "width": 0.5
          },
          "size": 6,
          "symbol": "diamond"
         },
         "mode": "markers+text",
         "name": "Cluster 4",
         "text": [
          "C4"
         ],
         "textposition": "top center",
         "type": "scatter3d",
         "x": {
          "bdata": "jsACwg==",
          "dtype": "f4"
         },
         "y": {
          "bdata": "fxSKQg==",
          "dtype": "f4"
         },
         "z": {
          "bdata": "qlCAQg==",
          "dtype": "f4"
         }
        },
        {
         "marker": {
          "color": "#19D3F3",
          "opacity": 1,
          "size": 4
         },
         "mode": "markers",
         "showlegend": false,
         "type": "scatter3d",
         "x": {
          "bdata": "sqslwgdko8IsFfTBskEBwlxmvsL2WbLCoXxwwrqTicLAa7PCbshXwgy8NMKFTcPCbDmOwtKmvcIvd27C5GCVwvDRtsLw4JXCpmg+wh/Yv8I+u4rC5ruMwqu9bsKy3pjCBPeUwhmDq8I+ZxDCMWm4wnZZj8IcptvBVs5LwjDUgcLwg7/BVapWwuJuYsIecMHCMvClwt9QasJghoLCyFCXwrXit8JezIHC5TNzwqFRk8KidaHC8xGrwqj0psFSmY3CB5IVwsOVv8KLIqrCVOBZwpmAlMIFaonCUkuDwvtcNcLyeKTCr1NVwoKJtsK6BQ7CNp9MwuIRqcKi0I/C8sZ+woYIH8J/BsHCYpqyws+9Y8IcbGvCeHe+wQt8SML5o5DCz8w4wj5CssKUgNzBkWvAwofRiMLKa3HCzoKuwjkzRsIE0rjChvbGwqaYbsK5pUrCcI+7wteJV8IKgHTCNI2Awuf2csIp+CLCRA2HwjBDs8Kh4sPCBMqbwqlHlMLwQhDCwBWxwmARVsIFx6bCQLzSwZUrbcIlaGzCJDfDwnxKnsJstpfCJIW7wjbOs8Lf7bbCBtsfwq7wD8KE4MfCs0JBwuO8gMKE3ozC6tlmwlbnmMKFR4LCrB2Mwm4+l8JYprvCJ7QvwtzRmcKWApXC5AWdwqCFt8KAPovCcOCEwm8SpMKY5VjCkIXrwUd8t8KOr1TCmYmFwnCEx8J7FoLCwscvwgxqUcKqvHvCzHWowkAeJ8I+RbfC5oCTwuJIssKIj2nC12DAwkexY8JKHqTCRXBEwn/eTML0H0vCiI5gwmELrcJSErrCSihOwpI5icIXJrjC1K/SwcK2wsJPUXzCzL14wiYnccKBe77CEcyownvqt8IsoRHCt6l+woo0M8KZorfC82efwjV8xsKjt3fC6ng9wqYhT8IwsozCQpOLwjsVmcL8w7HCpPFdwjZeGsJIWRrCg9e5wq2mpcIwv6TCz2gyws7QZsIF+cPCBy+2wly9McIE3m7CaTqHwrhdlsL8mTXCZAeEwjAPrcIXbVHC1KJrwvzjk8KArG3CaZJlwuJBPMLb9cXCOTOrwlYPi8IqQKrClXRHwmnqI8Jgt87BFH3DwujCxcL6lcPCNDn4wVhLqMIsIGnC2XC0wqPNqsI0fsfC+NSSwuTXU8K7w17CdxOpwhkgR8Is56jC3nBOwol6fMKMRp7CgqePwvNOvcIoIaTCojqVwgCWw8J2VX3CzZiiwimUssJ4ybTCSTaGwiN5nsIJ6IjCpUJzwqRGosL9Lp/CKGcOwt0RvMJoH4jCnWiXwl7vgcLFmWnCdy+awut5bcLNUGrCXMVCwogItcJRKr3CklmAwm1IPsIO2SzCsoa4whdsWcIy3KjCTl01wlf7SsKw96DBMY6ywr5wvMLxe7LCfICUwhxJtMLAF4HCbG+FwsDwisJ6B0bCXdjHwvPtk8JIXrrCbz+2wvQAmMLUuXvCbIOIwkzJuMIwa53CV6CcwpKaa8K9J4jC2iGmwgOuw8KWHIHCriYWwqs1hcJiu2HCLu6swgV+YsLgLqrBoqiBwurFqMLx41/CJZx4wiHSw8Kj2xTC5a/Awq9zZcJ+D7HCbAqbwrSf0sH9L4nCtgqfwi8Iq8IosZTCbEldwlstvcLuWKjC5sPGwp3VsMJIDwzCKqqAwoI9dMIxyonChGhpwrk7nsJvjSbCpsETwhTmXcKGgG/Cf8pawoEVE8JWR1rCTIiIwrw6rcJMqJLCBBKNwRXwK8JxtHjCgeEawsNCdcJelpnCspGXwnTrGcKw6b7C7zytwqQJesKII4bCa8C4wmlsGMKc04bCk987wqtJwsIG3oLCdcCpwnfalsIyOYPCmNIDwlIarcI=",
          "dtype": "f4"
         },
         "y": {
          "bdata": "8A54QYhV+kFgfg9B6A4WQRROp0FAxkxAwK71v2gwKkF8W8FB/qaAQjA3tkGIgy5CVJ07QlBUIULo34BCaP1GQYSnFULA/PlBoCqlQPDFaEKo6XtCnAlrQpR21EGg0I7AoAhCwJDcGELwQK7ALIEgQqhduUFwIEJBXKDRQcCzyz/I0b1BjgSCQkzfFEL4mJ1BSoOQQoB0LL9497hBgFjsQXgTAkKwJOBB8EaMQuAFrEA8VIVCcHWXQThVCkFA60JCFKegQXDBB0JAxgDAODDDQahjHEIoZ+RBkOW6QXBeCUKcEEpCWmyKQnSO1UEQJCdC/NdKQkClXkHgXtvArke2Qvj0FEGQ+PBACLFtQugeK0Jk5RJCIG/BQBxHz0FsQGlCPMUvQuC1/MAYrZZBvA8sQsj6WkLYzRdCAAxOQXhoG0L0o2RC0N0kQp7bnUIUJBhCbPiQQcB+9j/UwhhCDOpfQrwZKEKAB/tAIEaSQrT8EELYGlNCFN6OQRz4bUIA1w2//GmYQqA7sEFM7lpCABi5vsBXvUAwLPBAcpOHQuDQC0FQlJdA6KFOQlDk/UFwTAlBzD1bQkDuKcCAVmXAAFPaPlS5LEJsuK1C4LR9QQCg8kAAG4S+DDZ+QprtvEJUY0dCxOl9Qhg9h0EYPyFCaEwvQlBQM0E4aCRCADSTPxiohkJIUQ7BJNsDQhhjIcHAjq/A7lCwQorcrUKkn4RCcD6UQegCfkIEoI1ClOYvQvgoT0E4HCtC2DO2QkYRo0II9llCrIGOQsBQEUI8MXVCzPNtQrjF5UHghC1AcFaBQDh9LkIwI6HAgH8FQnTZK0IYDK1BcG9JQUDVc0IggiJAGDOVQeBFLcDIiUpC/Hc5QiBPYEIkKZZBQIfPQKA2cUFc7mhC6EDsQSDSQEC6i7xC8EjjQTxAjUGompRBCJZ+QYApTD/4ObJBDN0oQsCXNEGAOWxAUMm3wFAGNELyhpdCsLDuQUDbl0GCjphCSB56QQhO4EGgfcVBLGhXQvBhAUHwe9nAYASmwJAdM8H0XopB4JQEQgBDmj/IvwZC0AHbQOxQQ0K0TQVC+AanQrQedELocNtB4FyPQMhb60G0KRxCdAgLQsCYj0J4JsJCQCv/QaDLG0K0h11CfEVoQlDfhEFQ/phCsMhrQsTaJkI4IWhCUKQOQsi2g0FI5DRCbE58QnDyrEGwPvdBlHkxQvhxo0HANwZBUG38QYD6078w+gJCAO3TQBg6JkJwwqnAIIWKQQiUJEJof8pBTJXZQfALi0LSGaNC1GzbQVTKLUJw07/AAE3kQIBt90EU0gFCwN1zQQSnp0G8dj5CsDPCwKQJBkLI72BB/GdRQuTBDkIUXbBBQOqkP0xLS0IoRK5CKL17QkDwGUFg5c5BYN60QLDMQEEQFMBBMD04QRju90Eiq4lCIDRlQUxzAEJgw7jATBS5QfR5Z0KYSIRBxN6QQUAxkr+gmIdAKMY3wQT0BELQ/xPBcvSwQgpzsEJg17xAdBiFQnAg8EA4qAlCUNywwKQwOkJQSPdA1C+sQSR4K0JQsKNAVNGCQTCO+UHgpbBAoF4vQoYklEJIS+RBqHlnQsAp+EEolNFB0Lo7QvBZ40FSF41CaNBlQujbCEIkddxB3D0WQpjTE0JEoJhCBHorQnx+ckJsBpNB6ITAQXgfJkJgN4TAnpubQoRySELMmUFCgMY8Qcjz30FOAZBCkHXkQSiMXEEA7Co/xIgIQjBFvkGQnbBCcNwxQQBt+b9AdnxA4HnqQKBjf0FI0x1BFISiQVCl6EGALM1AECNKQZghyUEQ+CXBCNVaQWhtf0FMASNCPAECQsgqVkIEmWlCMEC8QdCNSEGEAIBCQPE8QVTDE0I=",
          "dtype": "f4"
         },
         "z": {
          "bdata": "UElbws72BcJ0lt7BvB6lwQjKKsHCBgnCWGskwUA5IsIAtQw/wKTnwUCwg8GkSIXBiD5gwWjLlEFWryjCPk0HwlhPWkHopRJCfMiCwQiYIUH4/PPB0LQcwYB+a0BI6BnBQAmCwfSWrsGY4kHB0D6RQAgNc0FoFULCsxYYwsneGsIam4HCuAXcwbcuHMKgFMRBcBujwchWfcFI2xPBqIiDQfySTULQ6+1AWMy/wTcXJ8JIhgDCfL6swe5sKsKgh2fAYLRcwfwZQkJAYAnB8AsxwYCPz8EApgFBIIXYwFbRSMIgbXTBoB+rwZCHIkLxa0nCqJdBwYqCHMI9JSzCfMvjwSBs58FixA3CAKroQLhffMEUNj7CdNXUwciylcGAzihAxAcNwpygzMEYGfrBgO2Kv4BQD8BPbzTC+GlsQWw/3cFQ+YLBKHQoQhBrWMGApSZAMPQEQsTPFcLE5LRBaL48QRyTn8G16TTCsDJPwaDJjkDAablA6ErfwQBZ9D+YfhrBRKvBwfQ6YsJsachBONUZwcAx6MEBq1TCsErEQPx9IMJcoEvCcOrUwUC/H0FwivLBnA4awmjqXsGUg53BsFmYwFjlm0Fwl+/BQF+jwMC8DUGG/kHCYIE8weCNnsHIhA5CN9MgwhC6dkF4P7HBAJHrQcBtacBQMYnAUCG4wQxM18EE6/bBsyE/wjSIB8LYQcbBDDu/wRyrjcGITghBhEi1wWAN6MGEQ6PB8EPZwJIiW8JIZf3BcAZpwcBYd8AYQojBIDi3wKjsEkFgkOHAXHSHwQdeN8KQIjhBQHnEQBjhC8GuFQDCQMq5wSQot8EIub3BRvw+wrh1e8Gn4FjC8HnbQIxg58FwluBAeK3iQbiYh0H8sJPBwADFv3C71UDQ2nbBoKfRQZwLrsF8+/7B3lROwmhnOMEkQchBWDvcQYLtOcJoMEbB0MaMQa4cN8LUco/B0DKtwQj9Y8FgDEpBCP8LwQCjTEEgpQrANC4CwkA5BcKdJSHCgHg0vxilhMFIj2bBvgUTwjgKCsJAcrhAKLO4QWC+n8DwWLTAmk4twghlXsEwtwVC2L4FwaA/PEAgeSTBsGHfwZ/NQ8KCX2HCAEArvQBlW8EgjtPAhBtpwoxAvsFZ4zTCgEY/wbBVmEHEf4bBXLCCwUAzecCAP1q/VEHNwTht5kGQkKBBqKRewRD06cDYJZdBEMFWwSNbGMJQgwPBgBiEv3Rpx8GABFc/4Ke0QOBEYEDkfjXCMCL2wZhs+8EAWaxA7BKEwYDskcHUsKDBUMEfwmB2bcCgfyzBDJfZwXJ5HsJZOE3CsHeLwPAVI0IMdIJB4AcKwvBeu8Fobw7CUCGmwGsZTsJCMXDCQCCrvzBlWcEw1xnBVNj+wRghgcERe4jCAIdPwJXkGcIIzgLC0NOvwDyGtEEIFYfBkLpNwXBYk0H4gNHBVD/DwaCS8sGMxBXCoD7DQJwCvMFs98nBaEQIwuC/p0BMVe3BoPLRwDwB48EATMK9HA+jQSAqR0C4rzDB0CX/wfjTyEFAxnfAQG5eQABs/EA0c9DBVCjAwbATckEwauxAyGNKQdDQr8BRLDbCFOzfwfhoR0Fg/QZCflAFwjqGecL8RvnBYDl9QHiQncEQoeBBgLkqwDw2ycGATtvBoDJEQWiYjMHkHIjBL5wrwrDPwEC4jWvBPObbwQA4Tb84YQrCLH3hwYPmL8Lg8cTBcNWgQOCskcBgzWdAv2QtwkAhHcDQj9jAyGJCwqDopsF+OBrC8GOEwZzF7sHY0wDCQGHsQBjNTsJkk5LBzCnhwV+NJMLgQfrB7mIHwlesdMJ4ZvvBgNYRwfBNFkEg6V5Bli0cwhjLg8H89fnBiPQwwjCWmMA=",
          "dtype": "f4"
         }
        },
        {
         "marker": {
          "color": "#19D3F3",
          "line": {
           "color": "black",
           "width": 0.5
          },
          "size": 6,
          "symbol": "diamond"
         },
         "mode": "markers+text",
         "name": "Cluster 5",
         "text": [
          "C5"
         ],
         "textposition": "top center",
         "type": "scatter3d",
         "x": {
          "bdata": "NsSGwg==",
          "dtype": "f4"
         },
         "y": {
          "bdata": "mr79QQ==",
          "dtype": "f4"
         },
         "z": {
          "bdata": "qlVwwQ==",
          "dtype": "f4"
         }
        },
        {
         "marker": {
          "color": "#FF6692",
          "opacity": 1,
          "size": 4
         },
         "mode": "markers",
         "showlegend": false,
         "type": "scatter3d",
         "x": {
          "bdata": "sDoIQkxezUHycqZCjJecQow2RkIqpJxCqAOqQvRSBkIOG49COF0EQYQhfEKKnK9CiPuaQrCCecFA5a+/EHF5QkDFf8DsbKlBuE6MQXinHULQf61C4qiDQvDPMEIAsWNA5A2/QSIbkEL012ZCOPA4QgBp9T8IvnlBYimFQkRLBML096dCVJE6Qqj7NUJ438JB+CO3Qjz1ukGwipZCIP85QqC4UcBYWIFCsGbzQbYThkLA8X/AxnOoQixdm0LY5/1B6KgZwbLsqUICScdC0N0dQdiEsMG0qGBCAMxIQog2Y8FWgZBCaFdMQmSOPEJmlZdCJMoOQhgruUHQM4jB1kejQnqtiUIqOINCrAQBwuAvskEg+rlAvGQgQjKypELEL3VCmEpIQm5JmkI0iD9CyLQKQgBw7ryUbpNB/HTCQgBLMMAahsVCvBdJQthJDEI21rJC7OmzQkyJDUKEdmFC5LGzQryzxkKQFDHBhAN2QuiWCsH+kKdCGJpyQlAUrUKagQvCTkywQsBg20DMwKNCAOdFQR4WgkLC3ahCZl6aQlz/P0IeCLdC6GdHQpSgB0IiialCJKu6wZR3LEIcz7XBcAGsQnQ4REJc8hHCwBuWwGiPWUKwjpzBgIMMwWSRjUKwB6JBkMMWwZhut0KkQKlCsKLmQVbKsULg/mFB/oDBQjCZmEJApG9AyM/fQcR3WkJMEbxCREULQvByn0DEQi5C4OGZQmCeJkIOMaZCsEKeQugDdEI0PLDBdCx2QuCQakG4EqxCblycQjCirEGAKipAZICmQeSQhsGc14pCcOWEQtRelUJIA5dClOMUQgSQZ0LgWqhCqpjGQsCSXUFQwS5ClLi3QmBTp0HQmv5BoHabQPTyZEJ4+YZCjCacQhZJh0LQaNbA8KZCQkSFk8GKeq5CvOGCQlqPtUKgL8JA6oHGQnBcXUJotpJBJDQVQgBCJcBQpf/AVN81QtAKtMG4tY5CFHynQfhJeEKkRClCuAGWQoSOqUK8GatBSPq6QR63vUJAHtU/2HAdwdJWwEJ4oq1CmBaLQrojk0Lgco9AiOAkwWBsZUGM75ZCgKqIQcAhzkGcznJCnvyNQkAwFMBQ5k7BAJJqQJxiwEIymZhCgHYNQOjvR0I4AsRCUHzRQExiwUHUi2hCWEAKQkSlWUKW3YZC6saWQgifU0IMlbBBaEmKQordlUIGjZlCMOsGQqBPeUIAl4BC7BNHQrR4lkEIwOVBuo6xQhDb+UH82cRCuI5EQiTKoUEs7xhCGEq2QkgY2MHg2YJCMGrJwLCsQ0FIvR9CDJ+kQiB/IkLAp/G/gG1IvwDp3EEQkn1CKAsYQciOeUIAHwpALtuXQkxVrcEgjytAOBkZQdSwpUJgdD1CQDaGQWRYo0IgAPZB7Ia1QpimJkL0gJJB7GHAQQxOoEKAv6lB8DiYQQDsUj6gEdBAZOwrQohdGEHkd2dCoKZOQi51gkLcKZZCvIHEQXwvFEKmGLpCqmeEQjgvH0JMKYBCSMClwaQGskG4jR/BkJF6QcC0asGkFlZCsHq5QijKX0Ju26RCnAaIwVAphULEvqbBhHxQQogjGEIeaKtCvGhmQrBCp0Jk+BFCGHyIQiD9MUGgt8BCwq+NQt7yr0Lkbl5C8GiOwOCukECgx3jA2jy+Qth9Q0LwuItCbMo0QrATgsB0qlBCCHK8QujhTkEAzohAIF7BQHD1E0LaaKxCIouDQqBaIEA4BSTBbFC6QgDPy8FMtrpBxoaBQrC1XcEY03RCpAGPwUhB7UGKFrlC+EKbQdDxbsGggaFAAHj2wLTrZUJwArXADluCQvitNkKogVJCAKuSPggUykGAmklAkrHCQhAZiUAg8cVALKiwQWaSw0I=",
          "dtype": "f4"
         },
         "y": {
          "bdata": "5BSHwo6qhMIoIpnCbIUvwihaxcIJoTHC2Bz8QW4lYMJnMMPCeN+4wqBxw8Bw7QRCG1COwt+pVsJ4VYDBPb6pwghh7sEYbtLBi+fGwrw1uMEce6DBSMksQhD4ccGuO1DC5aWqwuy4wUEg85zCOIkvQXScscLAOU9BkFGAwX2OEsKooVHB4xgpwoJRgsJglXtBODtXQlQYtMFaLL3CsDORwRAzqsAJeYvCgM4Fwf44D8K7+YzC8DIgQgfsu8J8qiPCp/3GwnTovMHNxCDCIKk7wXAyL8GySITCmpiKwozMtsFaKorCgxy5wnQpSMJiu4rC/O2FwnhaOMEM+qjBqJjsQT9EnsKIx0NBEv/Awo6JjsKKN7PC6uqewuCaa0BmPWbC/Q9KwiqAT8KgJv1B6N+dwSh2M8F/O5zCQDlSQIdrmMIgaiVCxqqXwvDGVsF4rvxBkDujwJDoh8IY8rPBbA5oQt1fqcLAugVAwJYIQqM9x8KXcqjCgBeUwhipGkJ3DEHCyGQ4QlA4RMGAKLe/AI3IPmlQmMLMPcpBeCxnQcwX58FEc/fBt7AWwjXVRsJMcqDCuNcywSAEsMIeATHChAGewijqMcEVLqnC5j8VwrDfNMF+PqDCuSpfwnjoCsIUDAnCAPr2wZ2Ps8IqnbPCTQVBwox7x8E6Db3CYpmBwqAZLkFgNzdAjZKcwlDwEcHwZhTCLm2GwniddsFH3UDCkEgFQvBrhcHquo7CUMiSwlArxME1WEnCABKwQMjMVsEhg7/CYyPEwraLosIigoHCnbiowkzsDMLTS3PClZ7FwsQBocLRGjLCZqTFwmCeXcEgLvNAMiJ9wgkTXsJH97PChmilwsCrlcJI03xB02QywoByrr8wip9B4JYCQdAskMKq4pHC4CdDwv32wcKAFOVAKJ2Vwp6pp8Li6wbC83oUwk6RxsLc1OnBrExWws0KwMKAMCjAkdh1wiLKVMLUbiVCuNvswUdVZsKAJFu/GHwRQURvAEJgCARB5mNHwha2Z8IcgubBpGQOwgBSyD8gtm3AbKCDweA4kUDw6dTADJsCwjSvhcGYW8bCeUSuwqe9qcJ0YofBMML5QGCaS8Ef1C7CdiowwkgtRsHUMABCdDlDwoqwbcIpGxbCCygbwpA6EUFuio3CMKLVwDuAr8JkjadB3J2YwnBGgkEAWFa+xM27wXTtSMJQbRtCGAdXwajPp8IY3c3BBIgFQnj57sFQMu/BTHvEwQBsEj6wIVJBp8dtwvh+fMJBa4XCVH6+wZ96lMJg3fhAgJliPy59qMJs8otBjET5wSQrxEHQi2HBQBdIwPD4GMHQy5JBAGHCwrs/wsIIKavB0CpqwaXuSsK8QLfCxFUIwoymhsGuW4LCEEuTwtDavUD9bYDCn3e/wkaLjMJIQANBEDkUwfckOcJwgONA4KivQIfRSMKyEIPCkCAjQdNfocKQninBNO4LQgiPCMLQegDBjPh4wlErecIAhZfCwH2KwVjJdMFEcBrCAr6Fwt5eaMIM77HBeN2vwhrOfsJts3DCPKa/wfjrk0Fw8xpBeK6fwQAnBcKBBjLCipSNwqBZG8Hkd7FBFo6uwpUSwsJigJLC/33DwvpsncIjQnjCyB2bwoi7JMLGeQLCTpcBwtNoUMI91sTCK9EvwmAwLEGLJpjCfEbBwfhAW8FUZ9tBTGYpQruLqcJYxIrCMuU7wiggkcLsO09CZH7fwfC4ycB6jKjCZhZ7whBldsFJdb/CqD6xwRCPu8Es0n3CTIi1wc/cEsKQnDTBm34Twm7AkMKADYvCHLV5wtzL9cH40GHC8D4EwQbjqMIVspbCKGr7wUaGiMIWkGHCuBmnwjoqesIkuKXCr1JHwmzu3EE=",
          "dtype": "f4"
         },
         "z": {
          "bdata": "wOG8wXqHQcKheRzCFPZWQoCl9j9EqdZBXA7OQczWKcJUeaBBBAibQZTaVEKmT5BC/B3MQfiVsUGQugHCHnwOwoid6UHULE5COPcjQix1IUKQPtJBHN5hQhR/RkIo5QrCjIL3wYDZaEI4qWNCwPDMv7lRJMK42TjBsHkLwajIfMHAp5o/dK0OQhDiAkIAAZU/AD1rQuBwKULwBwdCcCCNQWziGkJgw+JB1CHLQQCZ9kD8yeXBiDJdQhDnmcEo3/LB2Dr1QUAYaUDARXhAeOweQcz8wMF8iLxBtIf6wbjIG0Lc3b1BUFzmwWT5B0JwhLPBKCFGQmD1LsHg3snAMo2RQiA7gUKIq19BgCZMQGgBCEIqghDCqNA0wZh5U0JY3exB1IfBQcxlAkKkOFtCkJGawDwxQEK42fdBnGGnQUitaMHMPUpCOB4xwrCcXUL0tJlCXGtnQpBv38Ec/4pBsh2kQuA8XsFAi1NA7BNqQohSAkIozizBTFauQegBZUIA7WzB0JIyQhCq20B8JldCUP8TQgiLV0IQZ5BC+j+hQly62MEsJjlC+NxZQiBiucF0J3hCAIc9QaCWccDgEWnA9HqKQeBYO0JY+FzBWBv+QeiKJUKAR4RBiAM7wZBudMGwCb5AROU0QixqkkEMhLPB2NhGwRBS8kAJDBPCeA8iQrSfBEKwbA9BLzoawiSYU0IobwJCeNC+QfhnOUL4rFNB4Ay6QfB0SEJc84JBSDqrQYBvab/UvL7Bmt+UQmiVLcEw0Y5B+KjqQTjTnMHUK+zBiepBwqC6xUFkPcjBCLx3Qni9CkIYuZBCPF9bwohzRkIQvLNBEKVeQSSHK8LvmSbC7LwvQpAGI8Go0hFCoDcvQADJuj6UFkZCbHs9QhabJsJcyh5C9JgFQojq4UGYp/hBtO5aQiAAH8GYDSFC6P6hQogv90EoznLBYEw3wFjkLEG4FvPBKPcDQWDjAEJmhYpC4NhwQMC8KkAos/pB6JwRQSgqSkIgP/BA4E43QsgqdkLcjKJBQG72PwhAfEHsQbRBjCZRQtDCekEY3VhBLJbywbCk3EC2UkjCNKHAwSC7GUEwV9pA2AzEQRCbgcEAuAxAID69wRzze0LYhNJBUOIzwhg9nUGQN5RB1MPSwSATlsA8drxBwNeSwIg8JELEcEpCYOgrQjCl6UGcTnJCQH4tQORTk0EYaWdCFBYyQrjpGkGuqI1CPNCHQihbDsIAFaA+QKcdQkSWEUJGoJhCyPj+QVhBF0L4KsLBjuqVQixElEHoJPdB5PQeQgsJIcKYJUVB0IQcQWAK3EHASay/AHe/wUzTU0K4OaZBpH1GwkhN4sGUVkxCBCkBQpjsAUJAp2LA4P4ZQnxFaUI8VTdCGMOiQSL3hEJ0NCRC5PkJwsSxL0Iw8JnA8O0HQTTbT0JgJ47AABOBPwDd5z/oF35BINxJQuRnysE0CClC/KBzQgBL7j8YyxlCsAc7Qcik1sFk4oFCuKjbQQBmUcEUMAJCOJUSQsBgDcJI3sjBONHqQVDec8HwhvpBIOIcQhjYXkLcLrVBZKGPQQwkS0IwKezB9LPIQQgvVcEOUKBC2IozQv3HEMIMvM3BkIv4Qb5kCsL8+DpC7PXRQZjMzkHEHaBBtI4OwkD6CMCjyi3C8PFpQdilYkIgGcRBnKCkQRxBQELI4ghCIMhcQnkNQcKQHP3B6PfsQe2dYMIokYBC4OVIweg5acFQX8XAVPmawRCeHcFkSt7BwMUlwKgNV8GkMRhCcEFgQVxQG0JIp/RBcKgQQay8u8HQwZhBQD/lv0CqoUDQ/pdAvnqKQiQJm8GIyqBBAJuywbzHQEImWgfC8BAnwbgjB8HAxApC3EoFQvCDcEI=",
          "dtype": "f4"
         }
        },
        {
         "marker": {
          "color": "#FF6692",
          "line": {
           "color": "black",
           "width": 0.5
          },
          "size": 6,
          "symbol": "diamond"
         },
         "mode": "markers+text",
         "name": "Cluster 6",
         "text": [
          "C6"
         ],
         "textposition": "top center",
         "type": "scatter3d",
         "x": {
          "bdata": "95coQg==",
          "dtype": "f4"
         },
         "y": {
          "bdata": "DNoewg==",
          "dtype": "f4"
         },
         "z": {
          "bdata": "5DiEQQ==",
          "dtype": "f4"
         }
        },
        {
         "marker": {
          "color": "#B6E880",
          "opacity": 1,
          "size": 4
         },
         "mode": "markers",
         "showlegend": false,
         "type": "scatter3d",
         "x": {
          "bdata": "WiiBQkgln0HYuWdCsCeXQoRHZ0IELDZCuL9GQuh9BULUnFFCUuu9QnCtuUKSAalCYu2SQnA3GEFE/JxC4Kq+QuoDm0KQv7JCJFywQrIPokIQzLJCaOXJQeCFQ0LisaRCOG76QcR9GkKwPMJCrN87QrBX3EHu9pdCKJ8qQqDgWELUx2RCiIrAQtihvEH8VsFCuL1MQhJQh0Im9YZCDDqdQjzmZkJWGIxCgJKLQSDWjEIQSV5B3k+XQlwiqkIAdnBC4DLZQdbMqEKofIpC7PCuQnzxYEKk9y9CeBrgQZArg0Ks24xCVPNjQsLdmUJWr71CFFXCQTwTbkJY8INCiD9YQlw4d0LAU8NCeM/zQehgRkJExxlCAF1MQkDhe0KgV3NCgPijQvhN50GgCRpCbGiCQjBep0Lc6axCdM91QihXb0IQIsRCAG1UQei6E0JWA7tCqPnNQczEjEKwqY1CCK5VQhYiw0L4xHFCJLqbQWyuPELwE5tCZNfGQgzonUKYlOhBiLpuQgAfcsDAu3VCjMpzQtT4gEKitIpCuPhMQu69h0J6oIxCuBsMQtAArUGEw0JChJGdQhpqm0K46xNBbJ47Qng6bEL8mEpCRNuZQsDkG0CmJJVCrDlgQkbnjUIQ5UNCpBChQqxphELIhq5BGNH2QQAIBD2qebBCFLSBQpCLZEL4AKpCjLOeQtAlz0Aew55Cbq2KQtgUnEEYiFhBRq+MQmz7vUKU3K5CSK9SQtjkD0IWI7hCNOpxQoCtt0L4Qa9B8sqFQuxrqELAo5pCEKBxQhxKrUKgyZ1Czpm7QmC0rULsM8dBIA+3QtTtwUIwiTVC6FVSQlwSqkI2lcFCVlGTQvgyFkJ0MK5CPHlUQi5nikKyZo9CMBLOQCbDxUJ0RHBCEETYQfSsI0Jw5WVC6vGOQnDy70GA/iZCYlGPQnzArEIYM19CTnudQuQCFkL0fFNC0IgLQnDkD0KgywBAlPtLQoy7kkGgr79CVCaCQtZgmEJm1KhCIrWtQrheM0JMM2lCPp6bQoqQg0I00TZCUBmxQMIOp0IkAa5BXtGsQoLVqkKQc2xCkta+QvRVkULIEZpCFH0sQuhZQkKoL3ZCQuiLQngP10F+qpVChCmPQojchkL8r51CyNR2QUwxZUIIebBCnpGiQrTbZkK0BDtC9AZfQtCJHUIyjZFC+O5hQrQ3qEIoZGVCcB1YQmyHg0LysZVCNA5kQnYHuUJI5rhCzv62QihQu0IorEhBDLAeQh63p0Lw86tC6PkUQqC4dkKsAz9CNE4nQjgvf0JIM5lCnsGzQmp/g0KMQBJCmn+GQoxCXkK45FFCjuGdQhgBukFk3pRCDMLEQpQKp0EMua9CCui0QvBJXkKcrTpCOO9hQnRGiEJ4XxtCtOEGQsCxqkLa4ZxCKL2bQgZeukIodz1CRHpRQt5Vp0LoX4ZC4LRMQqz2mUEYBMVC1KEbQjIMrkJcU3NC+Ky5Qg7gtEK8jbdCKCs7Qsias0KsRcZBeDJkQa78xUJkLWNCYOG5QVB6xMCA0ptC4JESQjwwqkLQBxRCgDndP6jqnkK6CMRCcL21QtRLbUI01y1CGsLGQmzObUL0/lpCnNeAQmBs40Hip7xC3AmmQgCeTkKMocRC3FuSQijKZEKu/MZC2BkuQuRuPULMFi1CODCoQTQ+NkLgx31CmIoIQWSXBkJG36hCnhzHQjSAG0IEoIhCaJB+QtCnsULin7ZCeAB/QjDT8UFEk8FClq+7QmRkVkI2gKRCIG6QQkjbQEEmeptCJDCnQhZ4iEK01F1CDCdpQgIxiUJs1CJCQju/QlS6skIyYYhC4ONNQiAqrEKEoiBCWKJnQpg5pEJgVWZCxB2NQkiwuEI=",
          "dtype": "f4"
         },
         "y": {
          "bdata": "KILjwcCTjkHXbFLC/IKbwkBFbsAA9bi+YFpFwSAWCUEA+aA+NO6ywT25WMLUjlDCNHCfwgDFEsE4jTTBYFRZwIn5r8LkrKzCJOkgQl8BlsIAE5DAculzwuTB2EHlp7jCGBERwToeCMLsPSZC6B18wSS5wsEg7EpCWJK1wQBNPj/2pKXC8CkZwmIvF8KMKphBijubwkD96kB08qpBjBGIQSTv5MFm1KjCBP4uwuyJ9sGIAbzBEM9qwRjl6MFsH+jB1LyXQdpUjsLIChNBECcDQcgdc0EIwC5Bx5p+wgzLL8Kge4RBVvqwwiDIwEHXnIzCeOSnwSDgEcEMCZ/BKIJ9QVQj+8Fs3CBCRF0GQgzaM8Lo4iVBQK7ZwCQg6MF6KI3C7moBwhibY8FAQOy/qiFYwmT1FkLu7p3CiGnQwUC5kMISywfCsMSmQEh3tsJwcOFBRBakwWp2TsIQOxLBdpWXwiZROcL4FQHCPe0UwuAkckBlnp/CkK1bwmBFlcKIPG5BNvGGwhDelECifXPCIHv4wfh1EMGAnGpBMK2+QWRinMI9/SXCEBNiwTzIkUHf3RPCttMJwuwo3kGw/o/BwOWXQTh+SEEA0Ci9gJynQHDjd0EM1M5BoHbdQCqhn8LqLY3CTBWgQQTVvUGgGQjAgEK7QPSmm0HtppTC1B6owVRs1MHAMYrC4CsLQTwtncEn8JfCYH75QaBre8AsCODBgRyXwjCW1MERUbPC4N/DQIgqR0EAou8/6GyYwajcZ8FaOQ3CUN4cQmhuecFYz9dBgI+NwMCYzT8oe/TB1E2kwhPmS8IUzpXB7KehwkB5oEHC3gnCgHykwNoWncJ0qE5CPmy2wjRL8cGssSpC4O1BQEiMgcKgS3PBILE2QHtiLsKA15DCyNN9QTApGEFEI6xBqqG8whT2rcHgg2zCmHqjQQzIE0Jo+B3CfKe0wiA3SUA69lrC4GupQQgAY8LwtLjA0IyJwZh2k8FgvdNBkH/TwaUujcIMC6jCoDvuQH2APsII/gNBb3i2wnxyuUGQ7AlCLP6iQRAjIUJA/kBAAOuaQGD0aEFk1RlCWqe3woAAWcGg0zLALYlHwmAtzMBWahnC0H6pwafVi8KQcBjB0EcaQjh9BUIQBvjB/QE2wja0g8IYSiLB3AWwQbxL98HMy4nCQNwiQZyDs8EAVbg+pPucQTAxpkAoxlNByGqTwWin0UG4JArBCPS2QWT4hMIPJbzCLOuVQRukScJIbwnBHKyVwYmBdsLUZ6nCN2J7wkyBUMJoEhpCypG0wrjB/sEUMLzCpJAwQkzSv0Ew4XJB2C5rQbq5B8JQobvBch4XwmB+1kCEtj/CkOpzQZCtkUCo7lvCSy0XwsAt8ECsrIPCqLRiweOhQsJQnIRB2oZYwqjrXEKMFhpCONdpQUbjj8LUlrzBLGGoQUgJtMJ43WXBJH/AwRAmHUFWTDTCAFjlwbz/zEGearjCHeA0wpBxgsFYKXpBtomDwijxF8JwkIbApNf+wUBmHEBEfh9CMFrSQOB8AkEQieJAoBylQOgQl8JEacxB4PFtQeBBi8CzGn/CuqSNwi15rsLYwUhBREyhwUj/MsFQJPxBxKolwmQZq0GgGqRBRMCcwSxQiEGETVBCnMzGQaP2pMLqT6LCjHuGwuoxxcJC1CnC5DbQwTARFUEBgzvCwLU/wTD+aMF4A2bCuAdXwsip/sHEf3/C+U83wjgwfkGEcmBCkJ5dwujrq0EI3iZBgPIqQuDHdUBMExBCIJYVwWCY8EBAElVBEEA9QXDtI0Fw09rBoQyIwkCgDUHUekrCovqOwhneX8LpnRjC7z+Awmiu+0HwKz1BLn2ywvRg0kEQQ8bBsaurwvKDssI=",
          "dtype": "f4"
         },
         "z": {
          "bdata": "tDBYwtt/icII2R/CpISiwhqAisI/iqzCwL09wkSLFMJc+7PCrYa4wl8MhsIJIR7CAcm1wsbxlMKopRDBSMMKQV5ybMK2nYvCAN8UPwNdlMIgbEBAvnKBwlfrR8KYRZ7CYqqtwlgXiMIAdiJB9yJzwpxJkMLY3DRBPeOzwlQ5Y8I0mrLC79NYwmTWncI4oJrBlXOYwgUmocKYzg/B3BeLwRvuRcLEhITCkhGFwqDEvcHj5JnCgAQ7wZCFPcFnymbCSOKjwsjegsLgPA3ALLC7wW9vYcJHpGTCKDaewnBp/cHaMAPC1quiwiKZSMLxJ53CA+OVwi+OjMLqM2XCnqJxwuSSu8H0G7xBqDOQwZv/w8L2xGPCdX+cwoXFWsJRwHnCP+SIwsAgRsJCmxDCk4kVwkSAnsGAxYLCqOJ9wjxuvcI0JSbCapuJwtZukMJgi/DAsgghwre7b8LQly3Cnb6/wu1TT8Ir0cDC3fVLwhyElsISsbXCT5zHworhucISgYTCMdJSwicsj8LqxrbCSa1zwia1KsKcm0LCgKCiwamfsMK4QcXCuFg/woy6o8F/NWfCA68WwtAKYMKUCCDCJoilwgD3cL/pL7zCBKumweBIhsKopGNBSO20wrp/scKYsJrCwztCwi4dkcJCWKzCuxnCwgi5WMJeIorCp/mFwmRyjsK6oZLChU8mwjrkpcL12EfCcM7+weMgt8IBCJXCD1Kcwrl4LsLUO4fCAARewTtCJMIQ5VDBuHI8wnis5MFh0ZjCcCOpwAp2AsJNqCHCfDfQwYhDQMLADR3CkjF1whY6qcJKVyHCuCS5wrpfMcK7qWzC+J1Lwn4nXsIEsAxCNvGGwn09xMIc3q1BiElQwsx1ecJxu7rCU8XDwnf2xsKS3VvCuGmdwt/TlsK8s/rBCAWQwtRGKcLmVZLCwIaNwjhjFUFT9pjCTYmrwjLJG8IeSyrCLFLIwVYvn8LLMEPCbJxDwj00kcIG4GfCOJWhwSA+hsKrVU3CsARNwrfcgcKE1OHBSX6CwoE/XMJozCTBdXtHwrAzVEEssE/Czry3wiDq28Bw6PxA9OGRwqjQ1MGil1XCeRlvwpoBpcLvwxnCGE5jwcnRnMLKjGvCkBOWwUNrGsJcOpTCoJ9pwl+4fMI4WpPCevKmwuYQqcLI48bCNP6AwdjrHMLMM4nBUJqqwACks72CsEHCEAGkwvzIBcKs/iXCzx0hwhW9fMK/aaXCe8tWwlDOqMLU5X7C63gwwhUwuMJXjWfCTZVXwt4Xv8K8Np/B2NqNwryAlsLeZXTCILfCQeBIcsJC5LTCMopzwpf3p8KkaZ7Cdk6Lwi46v8L8c4bCDD69wr5qJ8JslLXC0jciwpaPMsLd5ZzCdlEHwtZnScJ72EvC6q6DwgDookEsZbvBglO0wq30Z8LmlcHC7f9gwupItcJl11zC6uAqwqwXnsHyeGjCD1a2woHZSsKmb6DCiAwpwtv4xMK1zx3Cfbhlwmoox8JPa0DClhx3wj+mUsLQ5L7AfSmVwpRaUcLgjhrB9AUNwt4glsK8FfHBB2yMwjrAiMK4ScfC2a0rwjm+j8LA1A/CcGNSwRRHqcKdGCHCdqKWwvBQK8FQ847CQDiZwmAF08HkHilCtFXewcRGmsIQpnPCzZu5wiBprcJQ5XXCiUeRwljQB8JwOPnBPeV4wqDzjMJ9usPCqhgtwu+SM8J6xiLCJ/2nwq50qcL4vCRCMEyVwhBAVMHY1YLBuKHwQSdRUMIQaBJBCj5WwotntMJgayjBAr4awhhok8Lw7T/CkdhWwryR4MGAg2zCHwF6wnxRjMKZaxzCtP9LwghNGcIs0AjCNSKcwhDn6cAgWorCEIqjwiDKmsI=",
          "dtype": "f4"
         }
        },
        {
         "marker": {
          "color": "#B6E880",
          "line": {
           "color": "black",
           "width": 0.5
          },
          "size": 6,
          "symbol": "diamond"
         },
         "mode": "markers+text",
         "name": "Cluster 7",
         "text": [
          "C7"
         ],
         "textposition": "top center",
         "type": "scatter3d",
         "x": {
          "bdata": "xzRwQg==",
          "dtype": "f4"
         },
         "y": {
          "bdata": "aseXwQ==",
          "dtype": "f4"
         },
         "z": {
          "bdata": "d75Wwg==",
          "dtype": "f4"
         }
        },
        {
         "marker": {
          "color": "#FF97FF",
          "opacity": 1,
          "size": 4
         },
         "mode": "markers",
         "showlegend": false,
         "type": "scatter3d",
         "x": {
          "bdata": "uLg0wUBnt0DQYwDCIHVdwDrhBsIEaQRCPKycQQB1Ez+oGUJCEGDYwFClU0Ge16JCaAkiQQAEvcH0uJlBkIJWQeDvCcCkG6JBoIfQQZjUHUIYCsvBMH+SwKAuxMGgrBxA0Nm3QGDzgUAUZ8jBGNBOQZBynULGoZBCBC6dQlTww0HcMZLBgPUOQlhRccFYaKZCkBWGQPDB3EFYQwhBgHjnwWhA3kGQiBvBapcdwmDaA0I0PobBQFtWwZAg3cFYjOHBuAY8waC0FMEAcy7BlKkrQsCRoMHAAzjB0MCHwGC3KkHokg9CBMdwQgDILr/gE69CcCSewORbI0Ik6wtCDCO9QbCTp0CPBTbCjLGKQuJNjEIAv72/0O7rQM0kEsJQaUdBALHnwRD3+0Ek4CFCzGaMQtD+BsEcjm1ChpiFQoAcuEDCFFHCsAPFwZjOIUEwQgXBwNR7QDiRA8E4aqdCSCk2QmwxCkJAA4u/AJ+oQlAQHkIsyxdCWL95QQiUd8FgAx7CcLRzwdB+uUHgSFpAsCp0QmhmXMHksQlCgH8pQsyw1kFosgvBQCqAQrRKLELIHFFCkHKCQmghRkJyeKZC5q8IwoD5vEKG7IlCsDpwQtTSEsIu4MFCxHfKwTjC2cHAuNJBPG/BQdBP78F47lZBvK3qwVho/8FIIKfBdJvGwfj6RkEQi81BsKOZwQCCBUJAwu9BIFSywTB88kGkBD3C9LYhQoDXx0DQ0EtCmPeDwfAFbEFEyn9CahijQhTwgcFYmZXB6LBuwVCmjEJoR+9B2upDwlhuFEEYwhJCOMdKQsB6WELWQAHCpKOuQbxJHUIoDsZBZM9iQuYrukKOcQfCeDUQQSD0o0GQn7dBIP0ZQMj1gkGkMFNCaL0nQoLZnEIED1pCkOsEQqRcq0JKyaJCgA8kQvjorkKAdi/AokISwgDmjz+gtq9APF3IQfhGgkG6/ZxCKD0DwhAdmEF+IIRCXWgdwqTHm8HQ8ANC1H+QQVB7S0Kg4KTA4I2xwK47Z8L8kCTC4XMjwqSUpcHQMJhBIBD6QKAyw0HHtiPCeOckQVgZOcGA+ca/wG3lv41AG8IofghCVAVjQrARD8Fm9xzCpJJCQkzuZkLg0mVBYCQXQpDTfMHm+oNCoHMjQiDlckI4+MtBMG7zwIAlVL9QA9PA5KHNQdDCOMFo9F1BMmdCwkiu3kFQasPBnLmzQrj+OMG7v1fC4F66QsBn8sGwXhhBUGpCQaxbWUKAwxjBAImQQhD+OkEQptTAxlSAQnA9pcFAAUbAZr6UQuxRjMGwJ9nA4O4rQoizmUIARVs/h643wmBg1kDIQI5CbIakwRCJA0GQtddB6HiQQXiuakFwbahBwNiJP2AQpkAA6vI+cFeTQoSYiUIcRGLCyJuOQbDT+0B8ojbCAACDvyDkssGw/FxCVKEEwmCiSUBQpFNBKBEMQoiOFULALfa/ENXxQAh//8Go9RPBGLBeQcQkj8HE9V5CtNnHQqB+xkFAWJVA3H/gwWT42kGaKgLC6GV3QngtsUHoP65CSMm5QjwGEUIA2PU+iM4CwcAvOEHOVZRCLJjQwfAOeEF4dPzB2ClzwUSNDMKCsgjCNMCiwUDWhj+UIVBCIkzHQvDvusAAzEDC0N3RwWAR68GI0BJCkDPaQL62sUKEKMfBgN4MP2iCrsE4qRxCsIhOQkSZb0IIdQxCOCxgQUCJjULk8qJB2OaowQgcKEHATdrAWOcgwZj930GM/QPC8FSiQXAWpMCMrLpCmFyHQaD/20Dw0sxBcIwCQpPeOMKaHZhC/Pl1QuSLMMIg7qRBmiAQwuDzJUE096xCALj4vxwKS0LscnxC3OOawYAONMCQwlLBwGoKwcDrjMA=",
          "dtype": "f4"
         },
         "y": {
          "bdata": "oPwjQWzHWUKCeLZCeKGSQgx+uULgsqlCtBTMQYAzc0Jsew5CRvifQmAkw0IuHbBC4CQaQmzoxEIANENC1ONNQozEXkLEsidCNMJyQroAuEIqmL5CjMNMQnIUx0LokAhC+MlYQroYm0IkNmFCnJ51QuJwu0JcDGFCEBiAQhbBrkLoU59CFJkGQkwbEEL0eWNCmJKuQXgbc0IYXfRBrJhvQr7DhEIo8qZBpkaUQoSyekLaFIRCrPCIQaD+NELUd2hC8I37QYw2ekLQ9IxCSvOXQpAMFUKIJSJCII7LQM5esEJwaidCPHB1Qm50nEKMtcNCPOOfQkzYRUKAPcdCTF7DQlhOCEIUsqdCyJ2WQjp6k0LCO8BCRBDBQfid9UF49VFCFP1eQjaiw0JY9XZCiPSmQrYLm0Iu+L5ChHW9QnTnREJGI8NC8BpVQvAy4EFksTFC7HVGQrBiZUKs9nhCKK9MQiaZgkJgphJCPO11QkgAIELkC2dCMi62QsJhv0KogaJCUFdrQrCfD0KgXFhCnJNSQmA2qUJgApBCDDcTQlY2rUIMAExCrAC9QtgUQEIUIqVCAM+QQmQUZEIEPr5CaEytQqTuikIw9IhC3BagQqRvhUGao5RCmIq4QujtiUJAYftBcDUtQgA4CUI6eapCREqeQp4CokICz75ChkqOQjQYX0Jo5hVCBkWGQnwfkUIwqXNC+FF8QqzbuUJwul1CMFhSQnBrC0LAUjhCCuetQriMl0LyBodCxMeIQtDkZ0IcXS5CyEs5QZD/dUKM/iVCSh2wQowjjELYLlNCGG1tQux5T0L0Uo1C0DPsQRCaO0IKoppCwAq/QmDUn0IglEtCUJwGQpyppULch7JCBG0hQii2rkI6VLxCpOuaQnQldEJ0RFtC3PUiQojNhEIskF5CpKJzQvBEd0LEPrZC0CT7QXiXcUJSjblCQJqGQvbTkUIMgr5CmHSBQh7VnEI8dIRCQPuaQpApp0FEdppCiOY3Qlx6VUKQCapCCDO8QvC4skIoCaFCui+MQohPVUEwp+hBSruyQr7EgUKwbydCdCZcQniSsUHgGdhBsBDGQmhbqkFUGqFC7H/GQuDll0I8ukdCWBUwQpACpUJ4ps9BUFJwQrz+jEIqH7tCYDtvQuggfkIE/y1CpjqIQhizZkJmappCtLfFQnhKfUHwlvVBGD0zQgyQDEK+gbxC6uulQgjCx0GcWVJCoLeIQrxOW0IMNNlBoDhOQmxmQ0JsM8lBHHCfQv5QkUL464xBrHfDQlAFUkKuUJNCnP5ZQgT9VkIa+5FCwhylQjxmVkLiAolCgAS6QgB0pkIi3MBCKAcwQqC/RkG4TUFCjpfCQkjFtELMFqFCuhm4QnTtekJw/KJBnC+8QsT3WkLqPYdCxC8bQrzAqkLopilCJJWSQtxlcUKA839CwPV/QpD4K0JwhjxCvjW5Qj7mlkK8KZtCUA8IQhjuQEGIO1JBtLnfQYy3FkJsgUxC/kPGQgRmm0Iesr9CGCPGQVQcKkIAC1xCer/DQkxivEJAPoVCQqmZQhzSgULYKF9BSMsvQYirmkJS4ZVCYKI3Qmx8tUJYgrdC6G+6QiDXVEKqL4xCwNmaQaaguEJo06RChK+ZQrDYkUJQTk9CgAqaQATqtkKATrBC4JaFQow9f0JMidhBcFjjQVgxPEIEGU5CLPA/Qui6ekL47BRC8OsIQlI0nEIotCdC7DU7QuT1lEKWAqtCRMRDQriTCUIwPutBhN2WQnQpZ0KUt8ZCqJRRQvZXrkKAEJhCvnSRQmY6iUJ8AYNCGC2UQgDevUFi28ZCQOmuQZJLlkKQX7NCwE4NQpQFV0IQU69CMETDQjC8k0JA59hBjHukQkzcbEI=",
          "dtype": "f4"
         },
         "z": {
          "bdata": "5EHLQQDMtL5QGbvA6AgPQtDlz8AIID9BGBjdQaBeekHQsaZAVEtTwnjMA0HYiuJBIv4owsBKVUA8PzlCyuMIwlBK2kCMma/BoIHRwVB/ysHtLxXCCDwJQgABTL+gHjpBOD4DwQSVkcEAQZK/kENmQYwgjUGsgF5CttCIQjhZiMFrJizCwKbkQSCdhcEMuGZCENTMQQgG4kEw32zBiQUgwoheMkIE4hRCcMZfwdjCIMEktn7ChMs3QlB57MAd/yHCOBgAQujO5cH00SHCYOg7wAx8MkIA/MK/tCCAwTrzXsJghRBC8D7FQHithkHgY8xBKCwDQrDCykG0r77BQm0fwgC8IUGcmOTBvDuGQrQfYUK8OYnBACnsQKgdpUEkiyBCEfwnwshC6UFAOxdA5N4jQoy1/8H8cglCvIACQuzEjkHYfNfBUhgJwjBnFMEAf9DBx+Y7wmh4KkLu66tCKH7yQcCNF0GIgD/CUI+PQjA4WkJslYhCPJoVwsBx2UBOqwDCSPc4QTgx1cFWgTfC+maaQlUsm8LI0TzBvCQ9QoBL7L9g60RA8E6eQACskkHQ/CBC4D0PQjQUMkIsT79BKAkNwkB3SUIM2spBwJUCQWCxEEKOz55C+TRHwnAvjUHASx9AEEmVQKCWLUI8RMhBkmpSwgBXf0Cco5nB/GJ6wkjj88Hgm7/B8D5GwQD2S0KQAJ1AqEp3wkC1f8Acz6NBMPtAwWUgPcJk+2pCl6YywtQlh0EMcdtBqCaiQmB43MA0CxdCoHCVwdB6mEH4plxCUH2YwWB1DcAk7DZCKMQBQrj8eUIAbPk+wLsJwfx1zkF4uzNBiGMEQh4Jq0KYhZ7B6GZzQosoJcJkYCVCLKEmQhjLhcFACkZCJD5LQnwVmUIYCGVBsAaRQqZdnEL8qhdCoOJFQjBzAUIeDTTCwEiLwKQw9MGA9P0/rNjwwWCuucGADhdCGIhbQWiD/EH4pU9CAA1Tv3ySzUFgEVlCQF2WwYiXHUJSFDrCirBvwoj/a8EU8qnBAAhHwOhk2sGMJXZCtqcPwrDj9cHIRGDBMPolQsi8MEItgSvCcGTawahZBUFMO6VBKK2LQSCu8EF4mNFBaCfAQYRtLULkwr9BAANOwJjVCUFwqD1CAJ3mvuhm7kFwKlVCaCriQYi3ncFgrAJAWJ4CQaTX9cHg5oPBGHEgQQBwpr+oiorBMOCOQuMEUsIA6eVAGDtjQoigjMHPbBTCyBXsQRTV0kFk4WdC7NxpQpm7E8KAhStCkIVnQoipSsJiaVLC6JlzQoDjykEtTVrCAJbuvhSZe0LkuhlCSFSzwcBm1MFol2NCDLXNweAuIMBcNpxB9BmRQZw4iEFkf4pBxIeNwaWaVMKA9w/A+N6FQqBSYEHADzvA4MblwHTswUFQd59BbQCAwtP2HcKEqbpBEFqhQIfxOcLY7ldCrMQsQugPl8GdQELCEAEVwlyRtEGQqGhBYBU8wcCq0MGceZxCPqeDQtB4n0HwIClBOAFAQXqBhELACZQ/vN5UQuA6OMDcHmxCuOQnQoB5KUEAkKLBmF04QliICcFgompCs4BFwmDldMHQvJFAYI9uwcQjtMEagTXCmLPnQRh6PcHYUnlBuDyJQnjtcMKAkzxBuK7SQYIjNMIAjUdBivAHwigHhEIQNwRCegFDwpgqv8FABq5BaBNTQrhiU0JgnyfA7AgZQrS8WkL0jaBBOB0UwqzbykGP1YrC0eZHwtAJ7UAYBV1BoPZvwDRWj8GQdiFCUGmKQORELMKEAiRCrPfDwXiHXkEAZXlCAKYyQoCm4EH4G5RBsB2mQNTyEkKoF25C0GE4wYA3iz/QoTdCUONhwT9MLsIIXRhCYD+qQCAdnUA=",
          "dtype": "f4"
         }
        },
        {
         "marker": {
          "color": "#FF97FF",
          "line": {
           "color": "black",
           "width": 0.5
          },
          "size": 6,
          "symbol": "diamond"
         },
         "mode": "markers+text",
         "name": "Cluster 8",
         "text": [
          "C8"
         ],
         "textposition": "top center",
         "type": "scatter3d",
         "x": {
          "bdata": "TjpZQQ==",
          "dtype": "f4"
         },
         "y": {
          "bdata": "huhxQg==",
          "dtype": "f4"
         },
         "z": {
          "bdata": "E9APQQ==",
          "dtype": "f4"
         }
        },
        {
         "marker": {
          "color": "#FECB52",
          "opacity": 1,
          "size": 4
         },
         "mode": "markers",
         "showlegend": false,
         "type": "scatter3d",
         "x": {
          "bdata": "UrSJwv4sc8KU3ohB0MXLweAr98ErVmHCCqg7wnoRx8KZXW3C2L+8wlKal8JkkTnC+bpvwuh6QsGkR6TCgEuZwpOWs8IwpexBsmmwwvS/Y8ImP2vCcx8awsDMhUAkDaLBeIJzwdK+x8KQAE/BJPsJwl7+s8IQZFDBictRwqCEjcIAn8S+lm2qwhQDXcLgrOzBuLkjwrCOgcGKoovChzqnwue2I8IAMY9AUkOTwsH5M8JIi5bCRNj0wegj/MGoPSVBIUAvwgAcUz4wRbLA4PRowRkzwMIMNbXB/rKXwnw/osJEJrXC9ccRwkjcc8EM7OLBQIV8wYS6lEHMcbnBuVscwlAqWsJhIrnCCDWGwsgYIcEkx4LCPLrvwTzNgsKucy7CXHiHwnVuncLw9MPAzT7Fwug7vMHfdTPCbGezwUznF8LIH9PB07KXwviYosLqAj7C2InvwUDod8BQxm3CBv21wgn2wMJNEybClhvDwlBxLUFM+gDCDyKYwi54xcLUI+HB3GwHwnaOBcKgElPBnL1wwvaACcJuicPCQHjNwZ+mcMLwOr3AJntcwiTYf8JpmqrC0HnjwJCgksF1SZ/CFYu7woSRq8EyUsHCxPSIwu09McJkrLBBFEHBwVixQsJgs2dBha18wii1pMFAkrnAcj6WwsioMsK0Q9LBGBKjwpNmXsJEd9DB9luhwmCVosC86YbBErFWwqDdwsDmpbDC+E+zwvw2TcLnzSvCS+KKwlKJQcJgxtrAEFV2wfjagsI0iOrB+BWlQb4hCMKFaJrCYvmfwjQIwsGmZQ/CNAOBwZyorMEQa9BA1UiWwnFjlcIhA2TC4tlkwgD3ib4LpWjCNKzRwQAuH8A4MGzBsnU/wr82PMLYiSHBAIECwrxrbMLYjwzC8CYewT6br8L+lwnCuPBewhjNW8FgC6/CeKabwWfYJsIQJurBcO8Twb4gP8JR9jXCcj9bwls7w8JygjHCEqY2whyE+sG+rTnCgAtwQMqxhsJ6J3vCDFPBwnRbk8LIoTLBxIGbwoBrssLoGmfBeISCwbDnjMFbH5zCu1G3wiZBCcIYAOtBbiGkwj/lp8Lc6Z3BGKhTwT0jZsIAnXDBCGcCwuSj4sEcyQHCQB4UwMA8R8KgFzvCQIQ4waPSNcKQYz3CoKdjwe3tMsLEAj/C+1HAwgAz2r4l6LvCoDYCQDz7jcIws93B4xl6wjAfV0Hls6jCiQRBwng+LMGARJNASSivwpDx88AQ28FAo25zwqwzx8HzuJTCUO0AwbCnssE4M6HCebwlwnTZkcKUPYtBn/NdwiYRBMIsRMrBlB4JwiBGl8KQVVXBnmxiwtwbvcH4L+HBgAyqP6VNl8KkadPB7iY6wsWSNcJQfabC1JSywYu9rMJgG6bB58VRwowUW8KBdIbCRohcwmelwMKwv8PBPUilwm4oacLeugHCgHf7Qeyg/sHPAWXCbceOwinZNML0HA1CpkyQwmSzscIgpr/A4ogAwuBmmsD438DBHFv7wV20j8INfp/CmoCowixKecLA3QnAEK+uwYEOkcJhBZ7C4NY2wSJVJMKIplHBlPy/wrgUDMKdf0fCZFCTwWBaRsGAi5g/3joxwkK3GMIwQk9B3CBnwhD6zMDGBYfCKKIGwgvjNsLwi/LA/LKUwekaUsL0D+bBWryCwi5mi8KQAabBobiJwk6TxMIAVYzAaBPXwa2LNcJQhYPCxTJzwsrkDMIYOQHCvP2RwqDk8MEcHTrCQ+ppwlMQi8KwETxBodWRwoxN18EPY03CpMlPwj7pnMLiXCrC9aBWwvintEHoL2vBeEOAwSYheMIG7LnCSMOtQdCzs0BAt7u/yAdnwRBJasESV4PCVacewqsQicI=",
          "dtype": "f4"
         },
         "y": {
          "bdata": "uJsgwSBzgcAcDZzCeG5PwTCF58CA1W8/fa4qwg/fYsLD22zCjyqqwiBmLcEwgfTBkKAPwjLTkcLUzUbCPEuywqBIYsEkbcPCJA+dwR/qPMJkioHCeT6Iwo0lXMJy5nvCWo8EwqgQGsGIYAvBOgwGwvBc9cAh50vCGkl6wuBVAcCuQHvCPcSmwvyxiMHA7/3AgMhVQJb3DcLRhGbCpB6nweQ0ysExICrCBOEMwtAB88D4EbTCCeRnwrPEGMJmbiPCv8eJwvVMbMJYI0fBoZp1wlCGEcGwLLDBSFUewsAF3MFw1HXBbeBKwvXNvcKYCpLCQFjnP+EYtcKMTw3CnpmiwlDv/8FMOWzCcdUVwlYwEcKXqrrCIlhXwnNHf8KMewjCsoKPwq8cV8KKllbCh0dCwgAHqcDGSATCZKu3QQDu2j9kCpBBMB8iwc0SlcKRyJvCok0DwiAfXMLwLHbBHjexwswwa8IAj8PCuHxGwvwXCMKseLLC8FkfwY57D8KBcHDCgKGJwVi+Y8GwbKpAiMY9wlEHfML6fyHCc3FAwiTetcJgXQjAgKW+wqrhRcIclEfC3SWOwtBNw8AAJfLArTk0wtjBs8KWnHbCWJGtwf6kmcKwRb7Cgz4swoiFbsIhdDzCCaa1wkQgksLSfITC5/OPwqAFc0CgKsHBQB8HwYCOZ8GzvxrChvt6wvCl+cCMEMbBDbGCwjDBTUHAv5vCyhmkwtt7Q8Lw8ErBynmLwq84wMKMew7CwC+QPxyPAMK4vUtBhFiWwiaswcKoU6PCQDKDwgBQOMHef6HCDs+twuRPAcK564TC4b3Hwj28isJ4kinBLByIwRxojsGFEJDCmqWVwlw4tML+KZzC/5q8wpivisH9GJHC5CSrwgGSQsJZYHHCHvpkwj4tlMKq98DCkB5jwQqgosIPUU/CgCxxvwQti8EwtT3B3Vc5wixA/cFIbkDCoOOmwkDEpMDgdgnCRf6wwtksk8JoxLTCnp4hwvZgrMIS4wPC6hylwkh1isHiepDCy60UwowMpsGTxYnCQA3qwKrxw8Lq36PCpM5EwityW8JE073CRkx9wm6LsML0UQ/CUOA3QQACCL/g/4RAr2ddwldns8L43UdBW5THwhQ5TsJoQhDCtHJfwia+RMKkRqDBCVVMwhAss8EYTPzBQhpowqrcosLfvFDCyHMowtDQ7cFQ6PFAhhI4wln7tcJQe87BbI9PwgBolcJrIK/CQ3S0wkBJB8BRbILCbOSdwYS6xMF85s7B+ll9wuaobML8/t/BRADPwUqJosJAtLfCtmsBwkjQYsFeawfCLn8xwtWdV8KoAGLBa+VVwtpsPsIIH3nB21ObwnVCJ8JwtGnCytIGwgBh1T4sGpXCiGW5wgvNp8Kmf0/CExc+wjw5i8Hk6v/ByN5IwcDRaMFt41jCPcYkwq2+xMKs77jBRhWwwmftmsIgbkzBeLy9wmFXn8IPnK7CzDKZwdq1qsIgwLzBH546woywksKwKZNBX18hwsAoHsAA17bBAHoLQMiCu8JTQsDC0DzjwAnWksLOjhbC3JCFwhbbiMLXX1HCdYoUwhDAtsJsKKjB8HoVQWB8YUBwn5TB8JvMwZDIdMFyVkbCxKt4wmxp8cG18MLCuNagwaQGMsKQD33BDHX6wbktVMJ6lKDCwDc9wUK0tMIIjlhBED+NwtvidMLOfILChbCswpg3CsKrSynC4PleQLlcO8JgBLHBtEcLwsCi67/+Y6fCWJAswZbJBMJQGObBQniTwjZgksJ8TKTClPqqwnTPqcIJKYvCoMWbwYsmuMJy6anCmJ8qQZTyoMKKtBrCjWB8wureq8J24IrC7lEVwth5qME/ly7C3ZVdwgMqlMI=",
          "dtype": "f4"
         },
         "z": {
          "bdata": "dnMwwiV7fcIKr77CrrykwqBhj8L0NcbCKEfxwXkanMIbUxjCzbi1wnVXM8Jf8qrCgNUCwm0nI8LwE7TCp+KuwpEZWcJmqaPC1neEwh5/kMLsp6bCUw8hwjmZo8LIzizC+EKZwu5VbsLYg63CmFbAwhqbv8KwP7zCmp8OwkpXT8I3rDXC/nwkwmgHPMLupEHCTcdgwutDq8Kx9HvC1U+8wjpqXsIjF43CdIpjwpJewcIsVPvBhxZHwlBdrcJsx63C0HvDweTjc8IofoPCvzC6wgm7xsLshu7B6jghwmxzdsLc1jbCUPifwsFvj8KASHbC1fXHwjI2isIkhRzC6KvXwZQU7sHib0PCR9KtwuD3psIIggDCKG+zwoR6DMK+QF7CkkVRwvp2kMLG1ILCMpqawkOJM8Lj5afCtCObwqvZb8Jqr7TCw+KJwj54mcJDq6jC+Jm7wQxWMMI25YnCDhCcwhu7dsKiwqjCkBNlwmxvrcLF/43Ch4qJwrJIHcImhgHCGb9IwtpWncL5CLTCqWW4woXBJcJe41XCZJKFwlQJn8JNtxzCdleFwkFbUcI0xVXCftZywh8GSMJcq1fCtIeGwvnFHsJF9XTCLuWlwsCPCsLS5bfCG3qgwhvJR8Kmc5HC5PaLwvqwrcIe82HCUqQxwkLwTsJydWPCUk2BwrZthcJVZifCDuhRwuy9qsJ2OUDC1E3CwZSEv8LLPrvCRIuKwivHZ8Ik/8jBCceFwm2LXcJfc37CVnSXwhCQPsICq6PChyeTwmT3ucKHf5TCaMiYwv33LMLfYcbCFcBMwuyQHMJ0gavCvwqywoGgT8JlbSPCDI+DwlLmhMLF9hjCx6QrwqBpZsIGhozCG/S5wpX6nMK8CajCIjcZwkK5j8KXAKvC2YK0wkrdvsJUkaLChPAHwhwlnsLZ+KfC2+A7wh8wS8KHWXvC4uiCwnf7ZsI4WoXC0DAgwos0vsKAJUXC1HcmwqAQt8J5pqDC2c57wm9dJcK6PbLCyOSdwhI4osJWzKHC6k0DwqJFnsKC3iDCO3e0wgVacsIJrJnCQwGQwmnOEsJGoJTC5YcXws9sEcKTrbLCS3O+wkMMRMKlvbHCtE+bwmIeoMKDvW7CkSNfwjg0gMLGwr3CXuCdws5npcJrQpTCd2CAwkAxfcI50UzCQgGcwkEHO8IzRH/CKNCYwlQYnsIFDFDCxN7qwfgOtMJyjknCFat/wv3iucJknpjCaSqowphugcJs0KfCWA0+wotIncJAzi7CunhUwuphRsL/aYjC4CSRwkzaqsJMp6nCCt2PwoHEpMKCYKzCn1i0wkgjmsJ7yLbCcqIJwtjPh8KDvSTC1O+wwmffcMKEoF3CrqJQwvWJgcKuVFDCoMi+wgCpksIg/7bCzAnAwuBWnMIslV/CFgtbwqNylcLoj7DCPg63wj2hLMKeN5HCKiu2wvXIv8K1TWrCx0QcwtllqsLbfLjCw94swisXv8L+tmHC0Ulkwl54bsLeGaHCZEbpwXy8oMICXQ7CiXLEwnW8xsIBaz3CSWluwmZnwsL8MrfCw2uUwrDUwMEMa5XCtWKkwgCwhcImTcfCm+m/wuF5w8INWzLCgbPBwoZiKMJyjJPCspeMwih4oMLCyLXCVDg0wgyFN8K+YY3Cv79owtRhnMJgipzCOGtiwjQsd8JmeL7CSMG3wjjPLsJYhp3CCGYLwigUA8LQQmvCWPWBwgZkBsLsXVrCZ3OUwt2lFMKHn7jCbdGEwnE5KMKzwcfCkDotwmMEw8IZBcHCgee7wl7Rt8JxLmDC+aZ7wlUlm8JJYVDCJI2Zwu7xGcKlsILCRmaNwm5ZxsL7d7vCMimpwviJR8KtnIHCRLS1wQ4LxMI=",
          "dtype": "f4"
         }
        },
        {
         "marker": {
          "color": "#FECB52",
          "line": {
           "color": "black",
           "width": 0.5
          },
          "size": 6,
          "symbol": "diamond"
         },
         "mode": "markers+text",
         "name": "Cluster 9",
         "text": [
          "C9"
         ],
         "textposition": "top center",
         "type": "scatter3d",
         "x": {
          "bdata": "5a8owg==",
          "dtype": "f4"
         },
         "y": {
          "bdata": "VrxAwg==",
          "dtype": "f4"
         },
         "z": {
          "bdata": "j/mHwg==",
          "dtype": "f4"
         }
        }
       ],
       "frames": [
        {
         "data": [
          {
           "marker": {
            "color": "#636EFA",
            "opacity": 1,
            "size": 4
           },
           "mode": "markers",
           "showlegend": false,
           "type": "scatter3d",
           "x": {
            "bdata": "OIdZwYB5WL/4DUvBYAxYQFAi0EDIihpCsBSLweYrIcIo+YBB0N5kwgAwIr5QNldCkCAEwoDNCsHsNwTC0BpqwQRcz8Hw7idCAFGwwICci0A8rSXCoJE2wLwv4MG4ynRCAKDsvShC1EFxwyrCmKUhwTAboUGQJ6HBoLeMQHj6t0Fwt0fB4CQpQRThn0FMHvLBpNeUQqy3eEICmJ5CsHqlwIxzR0JouQNCYOK3QlAMRsFA9M0//ruJQtAA6EF0+wfC7DgBQuRREkLISjlCIJ/+QOA8DcJwgSPBoG8GQPAeaMHApsFCvvuaQpBfq8H479zBiHtkweijJsGor9HBYDSrQcjpd0FUWZlCKBldQnBHP0KOPyHCoGBWQggyEUFgTptAIBeiwSSyskHoCZ5CyJoMQlB7VMGMssNCGKRBwdC9oUF06xtCFGyNQqRc10FOgTnC8MTcwYAi9D8vExPC+EWGQcr5ZMIgHlhA+F8WQnDu6EHQD8HAlPEDwpAGAMHgr5tAFB7ZwYDN5cECaIFC4J2BQsBQtkCYvkfC8Hd3wTA3I8Egmi9AVGK9QVAC2sFwgJ1CGJRXQaQ6k8EAHShCAJsuP3hdJ0JoJ9BBcHRlQjqSiEKsk6TBbp6ZQtDI5UC4RGPBAcBFwpCllMHYX31CCB8nwQoox0K0FadBcBviQXDKbMImlg3CAIDHPjDj/EGk6/bB3BVuQnz8dkLYuzhByIDfwSDNtkEESFpC9CFcQqAMM8GgBb5CFF1oQugZvcHkmiDC5HNVQhhZuUGg6nXBcsGvQsowHsLG3T3CwBlWQij590GEbolBlAPOQQDwjj7QvfJBVF9fQugeyEFu0pZCgH0xwRzdbUIwjwVCiCo/QoxmPUJuTpZCdGG+QcRSdkJQr77B0D/4wCZEg0LYKhBCwPPTQEB4m8Hgy9DBSOf5QcchGMLgIEJAEN/lQTD0ycBwgoxBWGgzQjwAbEIU+AxCkBiuwdjYT0L8ZZRBgJFgwaiLOEKQ/4FAVJAUQj5ji0LYZPPBCFUFwihlSEK451ZBLxVMwqiF0kGgsNbBuCN7QhwkP0Ickb9BMMCzQRRyEMLyx7BC8EI0QkC+lEIAD4y+lHBAQsBbKEIA6mFASKc8wUDQC0A0sblCAmsBwlgAqsG0iS1CqFEJQYBuDEJA3JJCrMXXwczgjEIMhpZC1FcMQhi+HMEAmYLBJtykQjaNHsKc5sPBNmmyQlizOkLgJ/NBAGtqQEpQPcJghxxBiJTXwQkhPcIQgQfB6O7/wQC9kz/o/V5CnAZpQsh3XkLEXXRC1awcwhQ8LkLSzyPCNNJ9QkDRQcGyUAnCdLeOwXzVgMGQKDpCPHqQQTBp38DsNy5C2J9GQXBW9cCAWUzAtFRyQiz5tcGo8UhBEC7QQMp6kUIAJWxCrP6KwcAaUMHYirdC6KRHQsx0HkIA/TpA/9c6wvhM/kE2pzjCiKOkQqA6ZcBAeAJB+BT/wcRyQ0Jk3rhBiM2/QUoBoULQl1dCeA0VQRg4UEI4u0JBQISbwQBtdkDAcMJAGIscQtgtEkLouRhB5PrVwTyDVULA4AvCwPL8v2zaokJIWKdB7I9PQhBstUIWCodCcPHEQRiPl0HEqG1CdOtvQlaSrEJ4hrFCekYswkA0OsJoTUzBKJ0jQnSttcHYLTBBGDsaQhCDaMFahaFCDOwSwkjKHEKMNdXB0II1QdRcN0JgOLVA5F0qwjAPAcIsHFxCrnO0QpDNMUHYwANCANiKvnLdp0JAzmtAiHmPwYCBkb9AajhCQElnQuDKXkKfSkPCyEfoQQDo38C6/alC8J6AwdB5IkEw6ONBsHVDQpA95UA0N7XB8HYIwT61pkJgPrBARjSPQuggoUI=",
            "dtype": "f4"
           },
           "y": {
            "bdata": "nTXHwgBKs0HG8mHC6L6TwXDRnsKIbgbC7vuGwowsHsKA169ABRVRwrpiPMLUeG7C9boQwqAWocLHp67CMMK1QLALgECU8GvCwBKnwgDSCT9FnpLCWBYbwSDKhsC+qbXCyra4wmAkusKSHKHC1x1NwmCzOkGgYVRBEE5DQQT+lUFEMbhBEp2dwoRhvcJsOKXBkLWLwX5dwcK/rnfCLhqRwikwf8KYSjvCQIECwL8ZQcJWa07CraVlwrD9i8LF6q3CkC69QTubm8KouxBCHDjmwUBTA8AQX/DBESy5wiEfRcIApKu+rxi/wiBT+MAwyUzBGHqIwomkqcKxdoXCENCswnTlwkH09b3C7fhtwgRZGEKH42PC1z+awkWNksLc8w7C+drCwlBXwsEvHqLCoFiTwf/LL8Ipa4PCfMaqwmrZAsIIQsbCZrC7wvqEBMKp2GLCgBiGP0htVMIEFzLCzrOZwgi4p8IobffBYFnzwLgv1MGSXIPCyCNWwQ1QPMIjCIrCUM0LQZBnecH5Ly3C5zyIwixuIcJ3DqLCeuUdwqAva0CA7jk/Dz1Jwrq9TMKNqJLCIPCdwiZ4MMLgIcbCWpeawm0rsMKgeLnBeae4wsqaOsJiXIrCWDV3wcCCO0EuhcXCJpKewqgow8KlUiTC+FCVwrzChMHgtbvCz0YSwu40k8J+JoLCgB7SvyD/qsA4IPTBor2WwvOktsJiVnfClCzTwUIua8KAHfpB2GX8wQCCrD4SHSrCKAvZQRq/wcKsdQXCeIMhQSYitsLaebPC0uOMwmjLg8KC77PC0JGMQUd9OsI8DYDC4AiswCh+NkG49PzB2EUOwqt4qcLQdV7BMEiCwiCagUCcGgzCB1HDwgxai8KzrybCpDnnwf/vHMJAxLA/SC1NQe4gW8J68p7CyoZGwlDD98Dbuy/C8I2JwdTWNsJynZvC1qCIwkyXnsFAA+3BROC8wR23r8JG1LrCXASnwue/VcIOeI3C4APvwKhXdMHs9G7CkKDAwiBno0FMC6LBzOQcwrC8ZEFwLJXC1WuqwshkWUEcr1jCBzG3wmDgFkFLqGnCIBsBwKCdh8LWWr7CUHPhQKg8x8Jg1SfB0Ay7wSGlHMKp5JXCB/6iwkvkfcJoxU3C+Zu9wra6j8Lj64HCIEL1wPxIrMIKqKbCAOp8vq7fkML/83/CuJ5LwdzmCsJEk43CCSFZwht0MsLEhaLBiOYgQuJfs8IFcsDC+OiiwolASMIwGojC2OV+wnP3hsLeEJnCE4Kjws0xeMIgr0LBhKVfwphRxMG4XrVBQB9KwNjxkcFCHcfCbJfHwmCMxECEEJXBluUuwphiVMGI5PPB2FmjwsATJcFIyobBDNaCQaSUJ8K5YLLCuE2nQfW+OsLgMrZBHFYVwsizP0Jpcn/CyIX7wWuPs8L4MWFCf4OSwtDQd8KFM7zCRNKqwuDWXMG+5YLC0qpywqAVsUG9WYnCd+lKwlaxlMKoW8XCDD/GQeACVEJOXRDCjCLhwQwNPMJSHALCcqsEwvfSXsJmI6bC8LjvQUbol8KInk7Bsy08wuFyucL4MqvCbQWcwjn6EcJg3YDB+9SJwpQ1mMKayiPCADTSvzOda8KgZl5B3ouvwhLYOMKIKNfBzmDFwu10scI2V7DCZLaywnyrkcH+OoXCHvOCwkC6jD9sZx5CUJV4wriZMUGw5nrB+MZ4QXLoDcLoJvTBo2O9wrMJpML8sgZCwt+IwhIIsMK6ZUnCEGX5wYDOi794P+5B2KxPwaiwlkFYlMDCWIS9wX4BmsIrCG3CbkVBwqU7psLguEnAS48/woDueEEb67jCgoazwgAx8T71eYHCmL/Vwez9vMLN6WDCANz6v/YBqsI=",
            "dtype": "f4"
           },
           "z": {
            "bdata": "MGRvQhAQqELuX4lCxp6BQrAafkLsULVCLG4sQmrPnkK68oBCknvCQvZ5tkKIGaJCvIyOQkrivkL6ZoxCAL7CQjZ7pkJie7ZCvjmxQjjMakJQeaxCFNKBQub+kELQp4FC0NtMQq5ClELaWadC4n2RQpgilUIml6BCoCqyQhJ4vkLa4LdCLLqiQsAav0K2CbxCdPSzQvjjuULK76ZCqgaNQkAJu0IKFaJCkG+sQn4hjULIurpC0KbCQoSjr0L8XoJCknKdQgAswEI4w79C2N2FQiJFqEJyF6BCSOm1QljWukK6sLNCVCCWQlDHdULG/LRCVJ1SQlRGWEI67KNC3M9qQjSrwUKqe45CuinFQlqBskLoSrNCPjquQlpEuEJU2b5COH+oQvqknkKwMpRCDorBQnzqXkIW+aBCnpqFQoQXfELOfZBCynjAQprdjUKwCaFClPuTQhIWrkIyP45CWJbGQjgcs0LA8ntC9h3AQhQIhkI6G6lCZLCjQoAEekLkQa1CdqKVQiqfqkJ6955Caq6oQqyHlkLmJKFCKOg/QqQZTELAGMNCghetQrQJYEK+uatCIBBeQtRwfEKC9Y1CtEOxQjwyr0LCY6RCbuCdQupdsUJsf45CROqhQuAteUIYYGlC+OjHQrCxEkJuRY9CGISqQoT+w0KU57dCJiGuQiSqvkLmXJJCXATEQqJoxEJMM4JCFhO7Qrh+rEIKeKhCGDS1Qt4KhUI6PrdCypaeQqrrx0JS+7VC1O+fQpAqlUL4ZatClojAQjCkkkKC54VCBgemQgzec0Lgg4NCejPAQnB5eUKKepJCtjmRQmDufUK+4IpC3CbBQuq1jEJAIq1CwL4+QgxWtEJ8k45CguTCQhZDskIClK5CMKmqQuAipUJA96xCbsyhQvqVsEKoc6VCzC+kQhbUn0KyuZ1CwHa5Qpx1nEJYfp5CkhGaQkxzb0KeI8NCVPOOQnAPp0KE+5FC4MYRQgBCn0KQOX5CZA5PQrTpqEJ2DJlCRJleQtaZoEIUpKNC6ra/QppDrkIouKdC4MWPQvpdiEIw+YVC5imjQugOuEJ+UrVCUEuiQmrPn0J035tC2COyQtbYu0IkgWxCYg+jQjyugEKUVFtCOhKeQng2tUIodcJCKGStQujaLkLsw5FCTKReQqqGoEJy+KlCzCWpQlxbjkLyS8RCWLmPQhhHs0J+lLxCWq7DQlL0l0Jgoa1C8hC6QmTRnUJQi25CXGicQoY+uELKTbRCBljFQiD1nUKqfopClOqDQjach0JG1cRC5IevQnS0w0JQsqtCOC+xQizjqUJo2K1CNoiOQmRiVELihJBCLP5QQlBYnkL+rsJCTgiTQki2ukKmvaRCdIOrQnC1lEJWYsJCVA+3QgLdkULWmL5CXKBKQiyCsUIqK4pCIueNQoa1xEJUTsZCNNCRQr4IskKUAGNCqAOgQhzrmkI89a1CQnahQgRgoEJ8gHNCEtKoQjCJgUKo6llCGteZQsK1wULkEsFCyG9uQg7kuUI0LZ9CQAlZQoTblEIoCL1CIEGZQlKqqUKcb8JCDPWBQgrLgUKQ/ZRCrpCSQijdr0Imx7pC6JXDQpK1lkJOR5NC4mWMQrKHmEIAS75CkvGYQm7xmkJMVqJCbrCcQnYLvEKWK4tCEM65Qm7+h0Jo731CbDh9QnBclULWmbxCti2VQrwDwULAYbZCNMiyQjCFvELyALpCOmGWQnjgrUK+45lCKF+5QobDlkLO7aJC9OuhQsjqrEIeWK5CemmwQsDMgUJym7NCYFOfQni7oELuqqFCpEuyQlIAv0KgbMBC9EE4QkpIkEJ+ob5CNr6mQhLXsUJUx3NClEuJQqIivUI07qVCVH67QsBOnEI=",
            "dtype": "f4"
           }
          },
          {
           "marker": {
            "color": "#636EFA",
            "line": {
             "color": "black",
             "width": 0.5
            },
            "size": 6,
            "symbol": "diamond"
           },
           "mode": "markers+text",
           "name": "Cluster 0",
           "text": [
            "C0"
           ],
           "textposition": "top center",
           "type": "scatter3d",
           "x": {
            "bdata": "2AqVQQ==",
            "dtype": "f4"
           },
           "y": {
            "bdata": "s4Qlwg==",
            "dtype": "f4"
           },
           "z": {
            "bdata": "NdmeQg==",
            "dtype": "f4"
           }
          },
          {
           "marker": {
            "color": "#EF553B",
            "opacity": 1,
            "size": 4
           },
           "mode": "markers",
           "showlegend": false,
           "type": "scatter3d",
           "x": {
            "bdata": "tNlSQlgf3UHMZUZCwOtvQIAPmkIgBDNBMJdBQkzyT0LMDqdCGD5oQuAHUUB2DohCuuODQqbjjEKOQoZChCbaQcYJukL4KUdCIpiBQrZ6rUIq8KZCoDm1QnBimEAmirBC1NR4QvxVxEIsLzJCwB6SQhSJt0GaEapCqGyqQmBVdkE+aatCAASUPgiz+kGcDZRBmpe1QuyAhEGeobNCkJa1QlJOxUJse5pC6FnCQlSLt0HwUvJAhPMKQna3uULQRa5B9HlxQoRITEI86LVC0uq4Qug/XkGAkRNCcI6+wAZCwEI4TSNBEM2rQLZaskJAQcNAEkmnQoBXtL+KNIdCOKtDQYhqcUIQZmVC0CwLQSLBo0KUe3FCNna/QjCllUAEQ5NCUAASQriRv0LEMC5CdmfBQsBKcUG4DbJBAuuoQijpokJwle5BNgWqQpzyEkJoCZxCoF6tQZhyJkHgARhCMBtZQeDbYUHo9YtC5HOAQnZUvELAg5lBVIqnQYBpMEJgYYNB1IAGQujNt0K48FtCFF48QiAfiUIMp4dCQreFQpwSi0LgLixCeIKlQrCCrkEAuIBBKDnFQrTrNUKcGLZCMFHHQsR7e0LA3KdCXh6vQmDKskIwG6tC9B2mQii4S0G4boxCkFlMQohJnkH0Mg1CvOasQuhIKUI0lzFCOEKFQsAZpkF0j35CZOugQgjErkJIFH5CANJFv/AfP0KOHJZCVNRHQmbmiEIQAXhCzmK4QpTAwkLMe45CcNRFQnaunkL4iItBoDxFQdwEB0Iw1JVCnJeZQpzwIEJgL/VAeIaNQkCE6z/IZ5xCoOSnQpBRekJM2KVBWm2rQhjxH0K2mI5CSMF2QvTxmUJ4Z39CDCwDQspNoELcdFhC6KuzQYyJPUIcM75CiLckQq68s0L0z7JC8O0TQuwYl0IQgrpC+p6VQth5okIYaqVCkP8+Qtj7Q0JE04HBNDxgQkiKtEJMkZ1CXPpIQg7ph0JeE61CmqyHQliWvEIgClHAQoC0Ql6upkJyrZZCuCQpQbib4UHgivVBDFZRQmxqRkK45cRBeH81QdDYmUJAUBhCQI+5QizUN0IovXhCuB+AQrIAuEIMWi1CutibQmT/AkJc7pZCWDZKwYB5H8GsEIhBHBPMQfytP0LC7L9CZGmVQljkVcGwtq9CuHgeQqgNW0KcOL1CpM/FQiT4gEIszDhCcOlUQighnEKsbJlCcBshQta1v0LK+bFCXqypQk4jwEKI555CICcpQchknEIwG6XAUAeGQoD6/EF+6cdCAIB0vkiHOsHguUhCsFHeQCpqx0IAiKu9lCvNQag+T0KIa+RBZIqtQm6Kg0JsQ9dBiB/zQY7rmkLCubBCAsmPQk5WikLgkO5B+Le4QjxUHEJIbLVBwMyLv4ouhkJw2cNCfuWEQoAMl0IQ195BHFJLQtSBXUJAZ4hCHJbSQaRDpEGolDtBdNRnQvBRsUCwXsRChI6/QoSOakLIj3fBqAvtQcA1vr+onJ9CbBmQQZRcxkLCLatC2M0PQgDyBEEqZ7dCBAqAQmj1DsEWDLRCUKFsQu6GpUIG5KJCrA26QnBVi0KARSpAuCy9QQCq5EGwfr1BEKGVQtS+rULk3YtBdNR6QmCh5ECYV5ZC3GNPQqhshkKGHMdCyKWGQqCNiUK8uMJCsLh9QsCWWUL0UZ1ClHlrQqC50UE814lCWHFYQvguJ0JQCZRC8tiwQgpJrEKYGyFBsEEwQsSCkELs0GtCHAEcQgJevELw62pB0BeYQjxyukLIiVbBLCxSQvAyUUEIo7NCKqGRQgy2P0KY2GpCaO6kQWJTn0JAX7ZCgOdoQkCUrULQNnZBWJBtQYhAR0L4LB3BwLhTQvLaqkI=",
            "dtype": "f4"
           },
           "y": {
            "bdata": "sHJEQjiN7UHABlFC8LCQQcw3jUKkHN1BEl6lQkD1wkL47klCHO2JQhgPc0G0PIBCjPlSQkAvEEJkH6NCiOJhQubXq0L4z4ZCUI7GQj4vnkLUXrVCDPYiQrBU+0FSwoBCvBl3QmhQp0LMNbdCpBN8Qrixb0LiIL5CTjnHQqbtx0J0JYdC1Jp6QmgYmUL4HEdCWLyAQpBdYULEjrZCjNqoQkB7IEIeZYZCjItKQhSlykGgrLpBDPu4Qk6Vq0IgWapBigTBQmyvh0JwjYJC9MrDQgAGmUEAPndCUBVZQrhESkIIb3NCsBDXQQBXWEJOZ6ZC5JxVQhhkQkLiGpdCXG6eQvxMJ0IUxCVC+MleQkSBb0JQLtlBJuGGQmjFvkISJ7hC3FGhQpoPw0LIUCxCSCakQpAKZUJIs6tCUIu5QgY1gEII8JFCJlSoQiDE+0FmnsZCTmqdQigmm0ISqrVCmJLSQcwkaUJo2jhCbN5NQoBfVkK0UqRCXOGkQjAVSkIoBV9ChrC4QrwHwkIQzlFCNKodQlYOkUKQ0l1C4AnDQhqLr0K8PDFCFPx3QqTupEKEosJBdDRyQvQGa0IE8IlCFKIlQtC7FEKUpSJCnJnbQeSeakLg0k5C6L2eQuitZkKQjDFCci+aQhqUs0I0+x1C7PfZQVRUJEKKTLxCPoCMQlx0SELc9rRCxEcbQkiBiUIuL5tC0AIFQs4ij0KkGGFCXJ0CQggit0IYBIpCvkmMQkwHhkJQarpCxgKaQmRtq0K0QLRBOHL1QcjdJUIAP4tCmKN6Qmhhu0JYVHZCUiCbQsjeC0KOdrpCPDWPQox7H0Ki8cRCKLQ9QqRvQEIGbohCeDJGQuiyYkJai5FCMkeZQkjD/EGEbwtCgrWDQix/GUKgCmFCoMZtQvYQgkJogpVCkCQ8QoDvYEJkWwhCTMqYQiCutUIEIn5C2lSXQnQjx0IoEBJCdL6HQkQbhULs5q5C6r6OQph8/0HCdZ5CROxPQkAR5UFo4PRBKuC8Qvb8okLA3wpC0JwUQqivBEI0IbpCRAE8QkCXf0KoSPxBeOHkQcQ5bUL4T3JCWkCUQrRCrULQLBVClOabQr43gkLkZ8ZCNJbfQcQGFkJeXbRCLFKHQsoNmUJQsgtCNsCRQiSxBEL4L5tC/KGVQpgxvEEkxrNCOBg6QpqZgkKULcdCDMGVQtiZGkJYqUNCnpWpQhAdREK0WEpCsL25Qliri0L6V5lCrAqSQt74s0LsRCxChNuSQphopkLgaH1CcN0KQpABQ0Kaf4RCkMjJQTDS30H8YB1CPJeRQmiSW0IWhoZCXh+LQuS/NUJg1g1CkM1dQuTSS0KgsCxC0PIvQpCtJkLoNJZCIvG3QhhyeEIMTApC7IlUQs7Eq0IAX0BC+JbCQsxiRkIaE6lC6kmLQjgdnUKIh7tCjobBQmAZx0KotzhCNAU9Qni8ZkLUxBhCiOdAQihwDEJk7yBC4lGpQiAyZ0KItapCsFqsQrg/UELkFk1CTq6BQlwVYUKMfGJCEju5Qn6KrUKIJKZCtN1GQkrUmkJogm9ChO0IQhYzqkJ045hC4IuwQqQ0OkJYXRxCIIZoQqjPCkKEmqlCuMboQVTHYkI08rRCvBxSQiL5skKQwa1CAJ16QlCE2kECfa1CvpqQQrICqEIaba5CJEynQi6qnELqT4lC0D92QgSfhEK0iMFCLOMNQnz5w0F4xsVBXF6VQuRkkEK0X7tCEmSHQopmq0IslJZCUNHkQbImlkIUJCJCJqOfQk7VvUI0hCRCHLxiQjhOwkLgA0xC1GleQviBGkIOXp9CMDuYQgY4iEIAOClCUE2OQuZDhEJMzSdCspKNQqyOmEKgB8ZC7sOJQqA5JEI=",
            "dtype": "f4"
           },
           "z": {
            "bdata": "o1Ohwm58UsILc2XC9n6twsGmS8J/JFrCgprAwriW0cHA9LW/5IaQwjBJxsK3RL7CHDY7wtyXOcJbFCnCbyG4wtQmu8FsiKfBVDyEwhQLysGnILzCfuacwsyUp8KLhZ/CTZtOwl9ixsL1cH/CaJaFwfVNPMJUpbrCmPtlQaPBYsLANJXC6LWfwh45P8KdlILCVdk4whMOkMKgaflAxOK8wQFjUMJzzIHC3JOUwjI3k8IVFsLCHYRAwmYQB8JVW7zCDpuNwlSG3MHsSmLChiuywoe9tMJo9dfBxnSswi7XfcISd2vC40yEwlLHtsIm0nvC8BIMwSwKwMLycRvCsiqcwg/weMIrS5fCTM6kwrQI88EnapHCCC78wWZWhcIkt6jChLuZwtkxpsLonDrCgMvXwU4jfMLu2TTCxru8wpTDr8JipYLCQPPJwYjQd8KQOfPAfLR+whWqqMJNZ7LC9JZ0wrgYZMJokKHBylCswoZWS8J/YK3CbEqpwuvhvsK2tJTC9zhZwvhxMsFs17jC5q8Jwgrzp8Iw42fC9YjBwvJBY8LZ+7PCnIcGwg9epsK7CKnCZ2Y4wt4rRcKjpHHCW5OQwrUGmMJ7qVXCSL7GwvQ3rkFqJ5rCtebBwh2HjcIJGYnC0Gu+weSrVMKQMkXC6QS5wpwCesI5kLnCvI6/wdm9gMLtfBjChpJ2wiuescKLaIHCPzhfwrx9hMGAvek/d7mLwpQGxcJfjsbCoGJQQQhOWUE0v6bBkgWbwv1IicKKYKfCWFCOwoGdsMLACKzBFZy9wn2UtMJJPaDCIuDBwlutqMKAoeq/MKeFwli8iMKy3prCtww/wsiZpMEAozjBNM/BwlRbnkEAIw/A3bKlwpPGmcK1TiPC+vC3whsrOcKsTIbCQ8yvwsm0NcI6fX7CEIelwsieqcLg/1vCAEbsP8S9isIw7bzB9s3Cwsh/sMIcZL7C5DOlwvDJBsF8KIPBEoO9wrvjssKF3cTCqPjhwVIOkMItj4jC0Dj+wbzbuMIaF5/CcT6Nwv6wjcIDTKHCEHwqwVx27MEmSYfCrICKwiqkp8L4C4zCmLfuwfBEo8LN67LCqCcGwaRUHcKYLaLCw9WvwtzR4MGA86y/y+SrwmY3t8K377LCJO1FwiBthsLw0KPA5IC1whint8KEP/7BOjJawuAnGMKMOgzCwhjDwj1OpsJvebHCAeW3wpjKJ8HI0WTB+niMwiPyGMIjSbPC+GjGQbAmi8EDCiDCJDiBwkKVxMKnB5fCu6llwrKkqsKoxOPBqCuywjQ2mcKc6a3Chsqawqd7YsIwmZfCttWPwn59u8KwzVTC6A7fwbhTt8L00bfCwuaVwl6sPsKN7FrC6RpEwthBMsHSUYLC1sOCwr+xrsL5X0rCoOidwrH4O8IQMFNBl/29wrCibsJyx77Cwb+4wvSDQcIOU4XCZHCGwtMGe8IoXl7CVwJ9wil1T8IGmLDC2KSeQUrPpsLFu8PCuR9wwpBEmMLwNLhAriOkwp00v8JArBXAypcbwqPKgcLILIbCSD2Rwdg2wsKIfL9B/CGcwixpiMGZgsbC91rEwt6hvMI/brTCKzqfwu69pcLd7cTCxdGlwhtrtMIT/ZzCH2jFwr2fo8LK2ZvCFDxLwjT+wcLwDW7BIO7LQHWGksIWXb/CtsK5wqChrsLYDcLBbHgJwjXEs8Lct5LBSYZtwn4ouMIWcqPCjaiUwoB/usEoMaXCJeQuwlQbwsJU/oTCuIXCwrxuhEHqy7fCqLELwnyuyEHeOZrCnFCDwUPaqMJAHNq/ULCnQGWnasIEvrnCBJ6awtRigsJn0lLC885swiBDr8HEpL7C59nCwozW4MFwYb/CerK5wvEoS8I=",
            "dtype": "f4"
           }
          },
          {
           "marker": {
            "color": "#EF553B",
            "line": {
             "color": "black",
             "width": 0.5
            },
            "size": 6,
            "symbol": "diamond"
           },
           "mode": "markers+text",
           "name": "Cluster 1",
           "text": [
            "C1"
           ],
           "textposition": "top center",
           "type": "scatter3d",
           "x": {
            "bdata": "xM1WQg==",
            "dtype": "f4"
           },
           "y": {
            "bdata": "xMJ9Qg==",
            "dtype": "f4"
           },
           "z": {
            "bdata": "kN1qwg==",
            "dtype": "f4"
           }
          },
          {
           "marker": {
            "color": "#00CC96",
            "opacity": 1,
            "size": 4
           },
           "mode": "markers",
           "showlegend": false,
           "type": "scatter3d",
           "x": {
            "bdata": "r6wqwneAXcJq+DPC3qUmwniOBcIMscPCJEoZwjiVh8JArF3CxV4vwlm4HMIx+SDCOCqEwlJVnMIrAqbC5qKhwpCqgsKC63vCWGs/wpmZXMLsz57CmWklwtEAvsJULKjC+xURwurJmML/ybXC9IJqwgqyF8L0mQ/CQMmOwlLYt8JnbTXCfG6WwkXNXMLkaJvCiLLxwVsIpMKvsLbCoEHEwjoHmsLc8rzCnznGwrw8scLAfTDC9a5OwlIQiMKmSqPCEgKRwvxfm8JwhpbCSdulwiDU9sHgDlvCoejBwnpwlcKUXIjCRH69wkyj2sHdjE3CeHHXwRXTNcJqo4vCisSswt95PcLocIXC3cg4wrOISMJsyhTCXkcewpsCu8ISMKTCB2QcwnYKm8KL5BHC+ARYwiZ9ocLa0cHCAuaywrmKPcJjRIrCrHqawqC2jcK11z7CyqiCwj7ZlsKgwrXCFe+YwhAnD8LBSFjCkIWqwizc5MHf5ZXC3M8wwpBOCsIeoYzChSyYwgkRTsKgGDfCuEPlwYp1jMIJIpLCY1oewlj9xcI0r6TCne+jws6uuMKVr4TCD8S7wngiwMJQD9LBuDCswpaKi8IhUaDCBaA/wuG5esKWLmHCaG/6wazQgMJsFpfCO3afwombYcKUlJPCO+AywmzzSMLlPMXCMC6Pwm7ZScI+C7/CEssLwvWAtcIYFzHCGNqZwsLmUMKMBobCRAa3wjS6j8K8auvBRN78waBLE8L6abvCHmixwiScEcJuBnjCAqoHwmrVncL4aELCLOXowWyajsJ8+YPCxsvAwspOeMKA7pjCwoO8wkE4xcJcqKPCp0G3wh/TkMJ2aTzC8LXBwgIIocJEzq3Cc22fwldRm8JrzcPCv4qnwg7bu8IlII3C9hKEwmxgMMJK6jDCop0EwtrtC8IN1a7CWDcnwh1GhsIMoJbCgYyrwkvNn8LV7EzCdepWwuYfPsK8S6vCc0guwvgWocKFBoXCOk2VwuDmrcIo46bC/7yewnzGsMK+n8DCjIyjwvb1hsLavRbC4gFdwg58KsJHCqDCfD1mwtgYSsJ7qWrCWJGKwvuct8LcFYnCsuyPwnREz8EEEYvCx83DwtADucES/rPCxdpTwiDHvMIxA0zCLYGTwhd7a8KW+6LCixqzwnMPssLrZ8PCHtrDwkrUQ8JM7sDCIezFwuGxjMKsp2jCDAyowqt7IcI8OHTCzntRwlYTZcJMhqjCu+jDwvCtVcL9tz/CwX/Awq4+aMIr2JbCRp4nwlxa6cHG41zCCbxNwgqdMMKWdLXCIdlawrGVdML+hkHCnAHswSw2c8LBqKvCbPO4wk1Fi8Km/GfCKc23wnwxXMJQ5ALCsBwTwgfCn8LYHcfCJGCpwmVdu8LX3bDCuMzqwUHtu8L2GQjCT1awwrvzqsIJ78PCS0KuwqeDuMKIsB/CGHZwwnYTD8KwqqPBaeCpwqgAQsLW9LDCCCL2wTyem8L77ZzCivmhwhb3r8JsukfCUTWYwoblxcLtcpzClBghwlJhWsI3n7LCwNZIwtKBg8J6IKTCto03wv+GwcKLNZbCJWe7wguRgMLlC7XCAsqowtGKoMKpjH7CLliqwhwXeMKc+5TCjtCUwih+b8Llyb/CtXGMwpgxx8JHiTXCpomnwuoAicL8bK/Cjn2vwvcehsIEi7bC6yeqwoQ8uMKh92HC7Ag2wsKDY8KeTXXCbt0bwthy5MEwcy3Cjr2swijoc8IKHIXCUpiwwsf/P8JobbrCDplVwvxNZ8KJf4/CWWq1wuzlhcLhDjbC838rwkf2vsLV4HXCgH7DwvnTw8L0MR/C3+qbwnTwWsJRDazCHFaRwuFBicKkIVbCxJFkwgk8LcI=",
            "dtype": "f4"
           },
           "y": {
            "bdata": "AWevwscgKcKo8+3BrMK0wfD66MHEX4bCj48awmf5tsLkMOnBhkitwjv5Z8LgW8ZAS/FIwtCkCsHvXqPCuNwZwkD0578AVubASTQnwlgLiMJUWIfCsG4VwnaUq8LAsSLA5X2xwsfOssKoVcHBsJCCwgiVkcEf/kPC5G6CwompjcIggSxAwBkywdp1lMKoRQrCSIhawaCwosGMjdhBeH6ewuBJiMLsPfjBePEAQZZ7vcIIM1jBcMZYwl5GT8Kcs57CsCykwOEGccJICp7Bsu+swg7VWMJMTafBgJS+v0sLxsLA8LG/8GX8wGD6mUAmZbrC2HVkwbj5+sGaPGnCYf1Wwh4KTMLoXYrB2Ee+wmDhT8Do6C/BOK5CQVwk1sHQ4pDAGCpXwZKQvcKpbl/CBe9lwuCxP8JN3WvCN987ws2nlsLGGiTCNmozwiATjMJEuaTCBr+7wjAGdkFgZY7BSFkpwdwJA8JebYfCvFjXQSD5fEAnGyPCOJJgwXPMo8LpYIrCh5hEwtQC7cFEu5TBIAbLwUIyRMLGKr/CwMf1v2BmosFAhug/0Dy6wl5njsLBxbvCHFL7wbB6vECgGK7ASVWkwpAyc8K3LRnCCfIowsLQqcJk1EDC4M0MwhhFB0Hw3bbCQEN1Qaz9k0FIFITCFfnHwlwkhsFldVXCYhlTwgDoAUFt557CxNyNwmCmEMHUWMTCbBetwjkRhsIG2qPC1ww2wswhnsIYwltBIGudwfa4CcIIJJ9BmrynwuBCc8BunYzCylGKwt+Mm8I09rPCMLhcwdD6SsHo2C/BnDSSwmA/KMAgTwpBxt6awjiaVcECmbHCbZGIwpyY3sFA0JJA1tCOwsl3JcL3bbXCMDXhwCdbYsIFFTrCp3ubwioimcJAsBpBfEj3wV72w8JwtDHBlugCwgP3ecLNALjC3A2swew3vsKjLy7CuUcXwqS0vsLRs0PCosJvwrhm7sHCjAnCWPtkQVpQBML8MRPCPTJNwvw+jME4JkjByGuUwpD/n8HDVY7C4ILxQHCeOsJXpLHCPM/gwRibOkFtu5TC8iijwoAXecIAdjbA/NGlwQwVjsKkQotB+hwawh7VC8Kk3IXCzMa3weSai8HmTIzC/FufwlU7QsKuRDTCSaycwnCZ3cFwVgjBbnW1wrNeusKAE0U/gYKdwkmqTML4VHHC8JfSwVDSe8GWi6nCFiQHwojjcMK/iUfC7OxSwiYsA8JPVDPCDtaywif/EcLh1mrCKG4JwfGPg8K801jCRIJKwkKAb8Lk4sDBABAswtalr8IAoozBQGqGwPPxuMK6XsLCuCk5weCatsJCzgvCHF6pwZCmMMFUWnLCPi0GwuAYqcE9cD7CDr5WwnJ+XMJ+YmLC4EnEwmococJ0CnzCAA77wbiTwUEBPIzCIxkpwuIpQsIzuTHCAFabP2U8gMKmm1DCfeu4wtBazsFETe/BEPGwwS6RgcKYj0BBywhMwru8NsLQU5HCmu9nwkORt8J3NYnCwheBwmBnB8JAYSrAOPD4wUAlo8BAaWfBAIFTwRihwcFKL4PCvMLBwYDhZsFetrnCr2FvwqSOzsFcGEbC7ea6wmAUhMF0mxPCAFbMv5r3nsJ0KsnBoQcZwgbFasKIDjvBjOLCwjoSxsK9/FvC0AjCwYJPiMJAb5RAm65SwvlUwcJoGjTBLfC0wsDF/8CarJXC8Fu1QICtUMHQATpBVgukwvzCWcLwWhvBzzc0wnAS6cG4/s/BQKuiv8gGocJEy/rBBKMNwg0dt8I1brrCYPCcQMJ9JcKAOkjBsIE9QTjb28FAAQ7A9GvEQVw938HS07zCEJKywbTuuMElgK7C3G7lwTvyusLYWpvBi66jwmAcFEA=",
            "dtype": "f4"
           },
           "z": {
            "bdata": "iEZeQRTzaUJoeizBIEXbQeCewUCo6rZCQAJAQMjek0IANKu+uH4dQkBKLULQdWBCnF2IQrieJUFwDsTBlLOTwYpVv0IcNilCVMMbQvCTpEFCW7lCXMGNQixsfEJkjoJBGBW7QZjuHEIYhmHBaE1JwTQMY0I0LkRCYAmlQuy8wELkTR5CoGGAQnDuokDQWApCpGREQuAAkkJqlLFCvMGQQTBVh8CAD4rAMGsCQsC+VEFAn5k/1DmdQgiNHcH+NadCqMSJQZAIvcAQ7HNCTP1UQiAUNkEAfHC+pEzAQtzCgsGa8oZCvNCtQVwHg0LY+lBC1LmkQSSWr8EQoM1BcNevQGgceUII6WBCsD4dQfD/VEIsKnBCvDVEQpiHrUJwzHJBmHd1QbC15kGgylJC0q+eQsAzR8AGVAnC7G7BQXhZWELUB4BC1MLMQRB+Z0H493xCZNoIQuxjkEKwLTRBQOsTQkDQ5z/gP0/B3A+zQsQnXUKggClAcE6DQlDmz0Fg1UZAcIANwfhiBEJwQPVB8GvzQDLcmEJUbaRBdOGlQcQfxkI69YtC9iG5QtzOI0IgSV5CqGJfwQQkGkIwiDlB9ISyQUBj4MC4sgbBpLhlQl5IqkI0GaBCtFGNQRifZEKwH3fBbKWNQqwgnkJo72lCeDyaQWjmFsGIAzJC4Jd5Qvi0g0JAv3VCADRJP4iDTEGk4UtCsG/EwSDnYkAALDdCYHQYQGCaP0GmF5FCMO6SwMjsRUIYU4dC3NEiQvTnTUKAf4dAgJYjQrLwrULAdJrAAACCvBgDYMHguhBCpEYdQhwVmUH4MdRBEJKhQebkvkJ8m1dC4D66QOQ5m0EgBElCbI6sQkxhl0KATqk/QN4cwBA5t0IcPwnCsHh6waRvnULUTKdCbIahQcyjkkHSl6dCqONpQlAbfEEKFqZC2OzpQbzDhEJI2GvBMrORQoQ4VUJg22LAANodPvirA0FgHd3BOAgmQnjJDUFgZ6BAAH66wWiR1EFsh7ZCLPEIQihIdkIgnolBxmWXQtiUwsFgoDdCrJzGQgjXmkIAhwzAsJVUQugcZcHcF5dByFBlQnSKd0IQXStCsCH7QbzTP0J244RC8BY3wVz6J0JQAbFCTMqMwUxbSkIAgIA7JEG7wThInkJEW4VCsHVaQcCBYkDwZmRCsPI/QshibcE0g4FC6H2aQuhiRkHoZ7RBSHk4wSBuJEGQwEBC8MNcQmJrmUKwtOPBJk+yQiwsKUKQoWZCmPAcQhLEj0LEfM/BWKwtwaDyiUGQ1nVBIATMwMDMj0EsyZ5BOOR4QmAEzkEw3ONBaHNIQvggEsEg1mDAKJuBwaicYkLwGgpBQH/KwJyijkKEzGNCwC71QfgK18EwYbBC8E1JQehhDUGQzpZBXFRcQvjXg0IQIuBB+ESiQcAti8Dc+VdCcDuQQUCDvUKcjnNCvIhGQoCsB8DEqC5CoKqtQGAlR8DclrpCmMBHQrCQtMFcaJ5COvO0QtSKDELcoAdCvAqNQoAQMj/4RGpCwCjjQZawpkLk079BECiEQaSBgkL8TURCnLlEQtglrMHYh7lB+Oz0QcSnWkJwB29CYAz0wCgKRcGAC9VBABTBQCBgqcDmQ59CkBaqQjyZgUIYDi/BIGl2Qp4KsEKwfEtB4DpbwPhig0Ig1pxCpJHFQgD5V0GURjxCUCjrQUw6wkHsJk9COkeJQkCJSUIs0Z1C8EdUwYzgxkEQuatCUFbeQWSytkF8+bdCYAz1QQBPjEGoecLBAuySQjhnIUKweSNCTNKeQj75wEI0IDFC8OVoQoAJp0CQb/RA5NKaQjDq80D03dVBQP+2QhDfs8EQIS5C0DFKwdgL0ME0bqpBtOMVQihUkEI=",
            "dtype": "f4"
           }
          },
          {
           "marker": {
            "color": "#00CC96",
            "line": {
             "color": "black",
             "width": 0.5
            },
            "size": 6,
            "symbol": "diamond"
           },
           "mode": "markers+text",
           "name": "Cluster 2",
           "text": [
            "C2"
           ],
           "textposition": "top center",
           "type": "scatter3d",
           "x": {
            "bdata": "SgKHwg==",
            "dtype": "f4"
           },
           "y": {
            "bdata": "MrMmwg==",
            "dtype": "f4"
           },
           "z": {
            "bdata": "9/QRQg==",
            "dtype": "f4"
           }
          },
          {
           "marker": {
            "color": "#AB63FA",
            "opacity": 1,
            "size": 4
           },
           "mode": "markers",
           "showlegend": false,
           "type": "scatter3d",
           "x": {
            "bdata": "A3+rwnpitMI++3fCNY5hwjzZYMLqqpfCuxW0wmhs4cE+OVnCmPaRwhzV4cFbFq3C5tcAwsDvi8Lj4cHC0ES1wc5QvMJP0CbCxZiKwotbvMJMJJ/CrJe/wtxSzsHAmIfCahx2wtEmicI6Dq3CNrezwqaAvsLUN+HBQoFXwkk/iMKo+QDCPOAcwnlKtMJqkFnC9E+ZwjNDucKXCL3CgDwHwm3TgcLNiCfCYJmpwoSNxcKkQZnCrqBmwipJgcKk7dvBXNa+wU+SEsLgzLLCXxyXwqgyVcIxIb/CbQq3wk1yKcJr64LCyHr9wZgn58EIZbnCunC+whyixMIwCpjCMhU/wkCEoMLrEojCW46GwozvRMJiYgPCxCKYwq0jwsJQFbvCDpNLwstWUcKEjYXCUPamwsHuw8LhlcLC+IAswjcou8JYh5zB7PLFwnSt+MF1dnXC/lPBwg04U8LuggbCEEf8wbROd8KOszzCo+eowoMqcsKSvKHCYW+XwogArcKmHTTCQ4U7woWipcLyfofC6i9Lwo42JcJAa9HBiFnXwainRcL4DoPC10TEwvVCxcLicJbCcsOXwtjJM8L64hrCfOZywjuYUMKSvpTCXRVmwmcqx8L2D5TC6Tylwva9K8KmiLXC/x5swnRmtMJPPBrC18sUwtR/Z8Lm2AzCQiIOwkeXeMI4ADjCqIPbwfgDq8G8xo7CGodWwj6VrMIINyLCqkSrwuO3h8LFQYLC620Xwq7Oc8LWAUXCL8N6wnDigMJJapPCRBOxwsVQrcIH6GbCAfCNwrI3WcILRrXCwDukwqO5O8KiJ6TCrCmPwkYhrsJipbrCGbZhwlF5XMKDNFLCXBeWws0jrMKeG2fCuGmYwglonMKg87TBHciWwoCcv8GX/qfC5vc3wkovYsJMxJ/C+3e1wkgX5sHDSrTC706CwkT7xcIBdL7CciWfwjsitsJSvIDCJABNwp5lRcJM/JXCNdaZwvxDNsLFnrHCZiIrwtYGQcJ8bJvCRrIiwlaxdcLKWnHCcDmAwkCXgsLS9YPCEFjKwVhlqsLCPQHCkMacwpSUi8LYrbfCv86iwnSXx8JfasfCJNBgwgii1cGQhqnBlxiPwi1LocJ+toXCdFyLwX+NScII3KvCf6qywnbircLbfqrChuGRwtF4w8IAaFDCmvmJwnTtocJde0vClCu0wsbIlsI513LC8FrzwSif4sHS07bCvfG3whjQv8FcH17Cy28wwpAALsJkkr/Cxh/Dwgh8A8ILUkfCmIODwhVcjcI0rZ/CcGO1wuaTH8KPtKrCKTlxwu9Ui8Ksr83Bg72MwhfEd8K28pfCRv6ywqvKi8JQ4nvCAcVXwmOjucKANxbCiI63wWWsl8KKLWPCJOvgwZSP1cGdE73Ck0tkwpySk8LObqzCgiOtwnNppsKGmrLCyO88wiyCp8EuMRrCHaMowlo7qMJokMDB8V0swjjb58GIWrjCegYDwksjt8I1LIjCojHGwnjBw8FSrobCiJsDwsMGvsLyb6LCQamEwj5gvsJJpcHCAuFJwhT8l8JTHJvC81jCwqRRu8Jm7bzCuMmjwnXyocL6PmPCDICCwkfWwcK6upfCNMoowjBNIsLMZSnCBJFtwpxXncFQvp7BRNZZwlhz/8FS2IjCvHtQwqaRscKwb67CdsoowhCI4MEP8a7CBvvDwhJzVsLrESLCTnB1wiPzc8KpMJ/CgfKowkmsZsIhCqbCIRh4whS6wMKQy73C5oeewiCevsLj15PC0D6Rwi4ebsKRrbvCQy2RwoAHncL1xJLClOnXwfShqcJ3cUTCi7+Cwu5jnsJ9R4/CzSKawrhbkcJa/qzCWreWwhWIjMKx44/CywmZwisgT8I=",
            "dtype": "f4"
           },
           "y": {
            "bdata": "wAxLQvDixEKQoW9ChFUDQvSxu0IgpaNCGPtCQZJshELcxYBCjCtjQiyhe0LmeIVCMtq7QpjLvELCRKtCCoS9Qu7cx0KItFRCaODAQuwehEEcHtJBKE6HQgx3l0KcVrJBkG9VQixBG0JYvz1BQOuFQah3lUJIiuNBTB2aQlZAokL8fzFChLIdQnAgw0JeWsNCxD6PQtymgkKUO4BCuKutQZBJmkIml4BC5HCnQlRqtkIctiNCtpKLQoJTtEKkgIpCiLVWQjgMQULYgoNCEEXZQbDT5kFYfLdCgFcJQsADbEKoK+9BSHEuQhKrrkIUR4BCwMupQShWEEL2oJVC/KCIQiw6fEIo3jxBBA0jQoAIlkIM1VdC8EHhQVA3qUIwNctAXoGTQrAeo0Gc6CBC1E/BQrTHEEKmabxCgComQh61m0KKAqRClN6EQqg620FI8DpCnL+FQtAcPELKb6pCYL4tQrCRIkKcsmlCALKyQiwXfEIIMkZCXPwcQnycokKQy8dCsiqdQk4do0I8mQJCfJK/QgRbjEIccXBCdNUqQhR2ukGw1lFCsCQXQZBYKkIEx6hC4G3+QdBAt0FmQIJCwPR+QeoawkLQvGJB0O5RQogErkKCvqVCkER8QeC3SkJE7olCFHK6QX4hjUKYiTBCTgGeQiwNpELM5aRC6GjBQpDlK0I2AZpCTMeOQiwVTkLmd6lCAKWcQcbzlUIKDYZCmMS0QuKil0JkTJdBguu/Qv4EpUIYCgRCOFdaQghBk0J8EZpBiB9uQW6aqUJABWJCPK2/QtAsqEJEWq9CfIY5Qi6DnUK2DJ9CBoG4Qlx9Z0LKLYhCGOwSQmA8DkIwSgJCSAMZQmCPQkJOvL9C4F/QQdgQL0IUsAdCeAMhQfy8L0Jk6SBCMOcIQvQStEKW2qtC/PKxQQr4lkLk6qBCHNmaQr4phkI49cBC6CcUQrIcpELG8IdCvgPEQgypIULYMkZCutGsQhZ8o0LY5nZCFDcxQlD0ukK2g6hCFI67QrpRo0JWEqRCaOXAQkRnp0Jk9KhCyO//QbRVa0LkI6FC5o6yQvxPokLqN7RCkqGJQrapwUI41bBB+PFxQvhhDUJYdyJCrrSaQsQTpUJmabFCvkG6QvjOjkK07yVC5MIeQliMuUEYG/dBvBmxQiRrKEJcvXxCnCAuQtRxuULmJ5lC5MKoQtDc4kHo2VdCqC+WQtqmn0KMlIxCXPRDQhwAsUK4XkRCNiuTQlDqqEKymJhCOmLHQsghP0JY4mhCxGC7QuBrg0EMnEdC/I22Qo6phEJkaWRCfAwsQoCBekIETbpCdGqxQvQHuULIyhBCssCYQkI0wUL4TAdBBF29Qv5Cr0L4ZU9CsgigQpLgsELgb6RClFC5QmpntEL0NR9CNj6bQlSdV0JsZaFCvFJFQkj8wkKwkMZCxJNLQhaJqUIOcMZCXAc2QqhcIkIoF5BCpg6EQn7Ix0J0ylZCGLCzQiSfJ0LsT5VC1DS+Qu5xnUKUQRNCLMiXQjRs0EFKdcJC+FYjQjgkaUFQ5FFCNJa5QYhe/EFEFkdCbCgsQvg8YULk8tdBYGskQliAFUJUBKNCwI6pQnxWGkJQy15CqrSTQoxtLEKEVqVBwkmKQvjnb0JGe7xC5MEgQgCWVkLwcZJBrreCQpBIQUKoOddBcFqZQvzjxEJ+laVCGj6TQsSbukIWK6RCuHeHQgBpvkJARg5C3P9MQrYJo0LM049C2MxuQsCIekDwMeJA7DlYQliwU0IqW4JCQuyEQjALw0JUrA1CoC+vQrSt0UGEUt1BrIAWQtJzn0KgjHtC2PQnQhj9kEKEvpdBcNwgQmiEE0IQ1B5B2oCiQtgBvkFcosBC2CinQu6Ap0I=",
            "dtype": "f4"
           },
           "z": {
            "bdata": "ldRAwjy4+sEC/27CGsKrwuLss8IcFiTCDJ5iwnS/jcLGgH/CW9pdwjIcrcIRkxTCdomwwgpPOMLPpcTCFnewwhzXnsHfd6vCzKv9wfO8jMJZY77CO9yTwogppsLpaqzC7oGBwpu3usKR0b7C1zV0wuhcxcJoSobCMstmwuZ9osJjSp7Ci+Opwkh+qcKjrbPCB0xvwm3XgcKMtxXCMvCNwtK5UMJJAZ/C3ES0wmleQsJDLzzC0pNewn6Sp8IuHITCM1ScwqHyosJIGfHBq9N1whZtksIsUh3CjyeTwhg7aMIZHm/C8JuYwhqfvcK+i4/CqIp/wtdLUMLaxl7C7QfEwp2xocIo05/C2BCQwuZsd8Isd33CRO6fwrQt0sEwBjzC23ahwmQka8K4UpHCM4dSwqcEE8LngIfCje67wkoPj8IS87LCZpRLwkZemMKcekTC70uFwjOzccINdaTCJ6mbwjdPrcLbm8bCkC7AwsMxrMKcNI7CYzSMwuhm5sEeKJnC3XtHwlTThsIq+rDCcCm7wnYNwsJ8AaHCaNqTwvwhi8LYoD7Ct0Y2wh1LOcIS9BLCefdgwoAFrsIJX5nCtlGTwugZdsLrTX7Cs/9uwvBb18EYaK/Cad+qwtwFs8ImdpDCFUV4wrxzM8LvVJnCrT6JwtLYU8KGKXbC6r99wukGl8IQccTCX5KZwlJ0qMI5zZvC/OKIwvQR9cFtX8PCZpQLwnAKbsKdzWPCyqW3wm55nMKatI/CyErCwjLtYcKfFKPCzVSlwuR/ssIDN13Cx7Ggwr0vZsLCTzTCvPx0wlweQcLYHZDCKZWPwpRPjMLYsrDCSImfwnp0icI0gbnC6BR6wtOTUsIJyYvCebdvwgqfucLOZ5bC+QVbwkFUh8IaDkPCiwd5wg0dJcKh0o/CYTJjwnbOrcKk27rCbJqiwhiw4cHucEDCVhvBwlGmr8I3SU/CQgK+wg2oX8LAG2XCIaRjwhWCWsKcCY3CRyK2wkGcWMI78FLCJFjFwh8HWMJr553CsJefwtOqn8IO85nCVli5wspmbMLWrcDCGfsdwvGBp8LnuhrCWmfBwj2dqMKkpD7Cjiqewhz6nMIm+qLClSpSwu7ZjMIZpIzCXPPDwvC7fMJ8raHCMxjEwrV1RcJZeVvCTNwIwkX/vsLbvMLCFlR9wghPecKkWcPCTQlzwi7EwcJVJZ7CP2rAwiZkq8IAgnDCPrqMwl6oucJrQMHC5o+dwgq4o8Luf6jCWP2cwSaie8Kpk7/Cyl81wpUrqcILDY7CxAw4wozzUMJ0infCTmvCwkB9k8IvJMDClhJEwqvKx8LkDpPC8s17wjxzucLwHmvC83N+whxN4cGKboDCvU29wuir/sGRwVPCYBWSwgkDnsLWu0fC6ViMwgxmt8IoJj3CaQu/wniizcHrZ2rCf71Zwm6Ex8KgcJPC8zJ6wvONNMKDspTCiLGUwuhAu8JL+CjCKkDCwn5iosLOZoDCKka1wvijwcJ6FFzCQMWFwjfBpcIYi+bBVbxBwvJlhcKbfmXCjkKpwlK1M8LTF7PCECYawnTnU8IwKC7CkSpNwmIUtcLpe2bCy13Cwq9Pq8J3R7bC9x2uwkVoucJmW4jCfFiuwth1vMJm/cTCtcaUwni0hcIUzIjC82yjwiyuDMLah4/CYyKJwppbscLHA7/CbomGwlCjwsLRHHnCBk3DwhwtrcJAFZ/C7I6cwsOnhcLEhfjB0pmzwiqbk8KT2aLCHt25wq6nNMIUvsDCbgWMwil/HML3pjnCMgAdwsJilcLYg8LCEn6/wnauAsLhyL3CwGiewqyMp8JQsLHC9L6SwiZnisKetKLCtrCIwrvFwMLJHkzCVCy8wmJow8I=",
            "dtype": "f4"
           }
          },
          {
           "marker": {
            "color": "#AB63FA",
            "line": {
             "color": "black",
             "width": 0.5
            },
            "size": 6,
            "symbol": "diamond"
           },
           "mode": "markers+text",
           "name": "Cluster 3",
           "text": [
            "C3"
           ],
           "textposition": "top center",
           "type": "scatter3d",
           "x": {
            "bdata": "lqSEwg==",
            "dtype": "f4"
           },
           "y": {
            "bdata": "zdVwQg==",
            "dtype": "f4"
           },
           "z": {
            "bdata": "Nm2Lwg==",
            "dtype": "f4"
           }
          },
          {
           "marker": {
            "color": "#FFA15A",
            "opacity": 1,
            "size": 4
           },
           "mode": "markers",
           "showlegend": false,
           "type": "scatter3d",
           "x": {
            "bdata": "rttgwh6yNMKsfJ3CgP0qwMwb+8FFWZzCEpSLwnTEnUG2cknC8PpRQpTjL0I1FLjCqKEfwtUUQcI041rC4J1CQMZKRcK5jmTCgJbawCBVY0GXX7nCC+FAwsDFf0BIyrrBoORhwagwY8LAtom/Po8CwpSZRcJAQW/B0NKywnhZocIO/lHC/z5DwtQhnsFQSFrBgC5awIOsj8IgQg7Chj4hwtgKs8H8qAHCROi6QTC2xsEscp1B1PglQqxkK0LbELrCs9SdwjiNWkEKoVbCglARws6GUcIgsRJBWKl0QZKHD8KOAjXCAPIOQYBuUz+ePZdCEJP2QbDBoMHAXuLAAICVu6C1QMBMolHCJC6hweASsMLEmtLB1wmiwlSW5cFRRzzC8gOlQr7iiML+6obC2GjBQQCTf8IEkylC4flDwnBTvcIQ6tTBPlBqwlBWksIzbi7C3SOJwleohMJwju/AOEWFwqTfG0KQLDhCtzihwgAOykDV3qPCnPaHQgIbh8KA86s/kBQKQuR0AcKOyIfCjOB7wtQ2rUEkn8PBRq6NwhSorMJoyTfB3aN1wqD3H8Dl+afCAyKSwhBfRcFEBTHC1MArwmw7ZcJ0rFHCiCglQfByz8DYeEnBqpJewsAto0ASJZbCRr9RwhgqqsJYjDDByAWxQSAZvEDYM8dBQrWnQvAh08FoSS3BYN74wEBg18FlcaLClYXAwkQd/sHkxANCAHpxP7C2WUL0NaNBAPqPwUBH3sGUi7LC3PmgwtFFtsL8MoNC0PLDQTKvUsKnOV7CuOQwwi7LgsKxpkrCeq8RwlD1z0DgQRnBCJfOwXSnaMI0gDNCcneFwmDZZcL08ofCSIcRQcaKP8KAEgfCttYYwpLwp8KwEm/Ch1ZPwtblBcKcxqfCdO+lQpwJ1sFWzAjCur2BwozO18HqNabCsMDDws7FDsIIDQPBTPq8wuATecISTLzCGCgZwWyvlsK2ornCihwZwhzy10FSQ8DCTNG2wue8psIYn+LBQAenQfgcd8EIcczBzOW5wsxpHULLIrbCXC2cwbGfHsKdq4TC7I2ewvSxecLxpsfCwJIYwfktvsJUMaPCYCv+QMdBSMIXRLHCFHmBwtYNL8JkZnvCzTVuwtAINEEg+frBnR6YwmVSWsIwdQxB4f2zwmC4JUDok3FCBNyFwSgF4MGopwHBUMW3wgAGqD+ut5rCjAe7wUDL8sGmeg3CUPy3wMcWxsKMDlPCXA9dwia5q8KnGpnCzOX3wRCo+0EoSnbBwEY+wcCsmcEv9BHCuFI6wXyNAMIwPczBJNhMQgPHMsK2DJ3CUvyjwsbhj8LgvwJBKOjVwbwPiUIw2xBBiHGOwprGvcLhcEfCaGJ/QQ6DW8K1gGTCSAYswXg+QUFYgr7CMB1WwnNYucKwaE3CMf+qwnwcccIYRJrC5IGKQfqbg0KoF1bBs1pRwo9Hg8KAk77CoJtBwGfkXsJqrjXCEjrGwpsIusJoZrLCe+HAwgg1SEHUlafCwCsuwhmvwcIdLbPCCLdYwW5igcJNdk7CwdVwwrDP60FXeMHCW7m7wpPqZsJgvBDB2G0KQqHRusLzQFHCPv0Uwjjn8MH4XjPBiA40QaAZ38BAodlA0C7UwWCWIUCDZpjCKOiowhjbXkLQI9hAaNcFwdh/PMFslwpC9sEzwoMvvMKIGZzCOYOcwsAPUULkR7ZCO358wkcnqsIQfIRCqJ0KwcaPHsJDvTvCzJvCQRzyZ0J41ZPBWEr3QXXUrMKwIQdC4BH/QMCMSMHgjKlATByPwt5Jn8LgxepAPH9FwqDIw8BUf0VC0J00wejVLEF1EUTC49I6wpwPq0JVp7TCEsM6wpTYoMEgs13BWWNSwkDMaUE=",
            "dtype": "f4"
           },
           "y": {
            "bdata": "UH7xQWj6e0KqjYFCbJeMQgwzV0I0VqRCLM+lQrgeQUKgZAhCRrmdQjj0j0LKSKpCcsqoQrw6y0FcgVlCHjq4QlR+mULcNsdC3J/EQoC3xELsm2NC8CS8QVTtwUK46Q9CYDEyQnySo0LMe2xCqDrGQih+uEIox2ZCINeEQpCxmELijY9CcJCaQoD1vULWj7dCit+pQtjTbUL6ib9CgE+cQgyfukKIaaJC0OafQk6jvkIkxSxCpv+VQibAhEJkM59CWIB5QrhKm0IAX5xC4CevQaw/u0Iw67hCrr61QmSqFULQCw5CZuvAQhpEuUIoKoVC8PukQkC7+EEENMdCrO13QnCZCkJozGNCoC5eQmCIA0KSbLVCZDUdQkpimELaH4BCZOC7QhTtekK4M1RC/CF9QiiwwUKE/StCNFqfQty1pUJUwC1CMJSSQnBLakIuAJdCZBIKQoAMSUKa88dCnBdjQkrwo0J+EJFC4DJzQhBqI0IooqdCuG/HQrxCG0LkKktCjA5ZQjDR1UH0j2pChN9MQrKykEKEmsRCKAVtQhICt0IakKZCnAlIQrTtHUIqP7JCMN/TQYqXjUKOErxCNuumQti1nELeXLVCGElnQqbCrUKMsz1CZJY8QhLbuUJoym1CfieBQlR7uULcNy9CfCy6QlzDqkIA0GJCmMOJQsLvjULc6bJC5LKRQpAb6UHgjVRCSDOoQkrtoUIGcYFC8BDHQpr8w0KgpqNC0LflQajiUUIIfndCGEeaQlyrk0Iuz4BCiOFYQjR6pUIe58dCiMH1QThfWULYgrBC8EOlQqqdu0JQPTpCYFiKQbBEdkI6MJ1CMDjpQaDpt0JIY4lC/LPBQqxPBkJu76JCfA1ZQkA+hUIeLsRCppqNQtQho0IUJwlCqE6jQsR7qEIURj1CQvSGQlQCgkIKP8VCTByvQiYAhUJIGGtCFlWlQjSKfkKcVJhC/CDGQp6Aq0LKMJFCVKyoQsCjXULw95ZCRO90QqC+QEKgOttBIL8dQsQ4rkJoQ3NCfFpGQgCJXEL27pFCRIENQjqBmEL8upVCcHzTQVD/W0J0u1hCOP7vQbQEkUKGtZtCqE63QixYkkIQdB1Cbv+uQlA2mUIEfXdCCHkDQrhsiUJ8YT1CiEWAQriHRUIMuGtC4AWoQvSMIUKubIBCACNYQhD1ikIQPW5CxI+MQt6VlUIoonVC3nSOQvDrD0IQHrhCANKyQiyPQkJkSrtC3HLOQRROsEJwGIpCpMBBQozYxUJS4MRCIHZRQriQO0IYzqlCPFm5QiIqx0JgC7dCgHOhQi69m0JcN7tCFOG+QkwfN0KU9MJCsBtoQnJDtUJY3MRCTIhQQjAkoUIAzDpC6CU9QmBxU0LcvVxCIjrBQgSwfkLYP4JCZPHBQcD1mEJ4z/NB0hTAQg6jpUK2wKhC8puMQmwPqUIsPMdCmt6pQjC1wULYpapCOH+bQmhww0K6tMZClNM7QsT1jkLYLHhCKNoBQmTvxEJc3xtCgMlcQpbirUI0CF1C+LnpQcAlA0KK8odCaGb5QZgDX0JG66lCyJ/xQQx6bEIY+I9CUOmMQmTzc0KWYa9CMkamQoBB40EgpnZCCNXGQhwrJUKM0IVCqKqBQtItn0IAwcVCkrGoQv66gUJGfaBCXD65QgKhj0IgVpNC5DunQpABeULwzWJC2CC5QqjwhEKSuLJCKvyjQlSbmUKyN7pCME3sQQCswULMki1CAijHQnriukLgnWBC3BvHQm4Zq0K0ZVxC5PNlQginXULIaZlCPEW6QRbbwkKcr01CgDEaQtr7nEJg2YNCet+hQjZTtkJkvEFCJMJ3QuRzxUKsdypCerGCQuQuqEIAWpVCKCwOQqDNq0I=",
            "dtype": "f4"
           },
           "z": {
            "bdata": "lBcfQoTvHEJQJphCjqO+QoRCpkIQM1hBTGpXQrhhh0JUJHdC1tTDQpaPtkK4iRVCOqW4QgbXiEKE2BVC8DkbQs7fq0I8j0VCSOmhQnAiikL6Pr1ChK6WQqDRJEL6nqlCMtS7QkxPhUEshsRCqj60QoiMUkLE/SBCRD60QgjHKkL8YxBCcEFMQsR2N0KMa1tCHJyxQhyw1kHqfp1CQAs+Qt7xmkKQAIpBlDxQQlSQiEGOepxCcNKFQhaEvEJQLyxCcOvyQeTsXUJcrD5ChIp7Qkg9xkJgBDVC1mWzQtTKRkKgdL1C+DdTQlQ+akIK6K9CyISkQsY/iEKeY5lC8DpiQlzMcUKEXbNCXH6KQh70hkJ47KBCHFV1QsxGYEIOuohCorKXQvgx/EEe345Cor2NQhQ3IULO/aBC5MNpQoqRuEKs5V5CdI6uQgCELkIADmhCnC8mQpRUuEJIzDxCFBE2QvCyoEKUF6BCdM1wQlZqtEIoI+NB5MyfQm5djkKkQmtCZMm5QiruskIM58ZBguyIQnJqtkKs0cdCjDnMQQQ8h0ES8ZFC7M3GQky3jkLWubJCOAKcQjAuC0Jk3LhBcFeDQsCGoEKUS3pCMIm1QtbzkkLmg5hCPM2FQj4bpkKIJc5BQJ67QohMRUKCcaRCpOaRQmh/N0KOgIlCTKy4QvRdnULkn3VCfMQRQiiIikL4NIlC5Eo4QnRwJkJGWcZCPG14QlSni0LggIpCYgydQiC2RkL4NJJCmIxnQvwRrkEO+a1CQMiVQqJhgkJkcIxC1rmUQhjROELEc4FBCDdqQpywxUK41lBCOgWJQmj4ZUI0H7NCtF6pQmSFrUKgPXJBOpGpQuQDsUJ81kBCJEQoQrqLmEJgHTtCKPyhQsA+VUKUzlFCLlG3QiCAFELUQUdCTBs3Qs4lk0KA0pFCnERaQh6fvkIY2WxCpHcGQs6LuULklThCspiLQoh7F0HKK7NCUAduQj5QgkL4HqFC4E8YQtz1TEIoZMVCnjiqQtDYxkHkG5xCgsWDQp6TrEKot/ZBwFHGQmyvikFwNvRB3C+YQiQcG0LCTrhCll2MQsRUxELECwxCqEqQQjTqs0H+E5ZCYHsGwPjT6UFYJQdCQOsnQqw9qUKEXBpCtJORQtIvrEJSKYxCBFi4QgwInEKsmb9CZJh0QmhNcUJoZy5CVGONQoSbPUJwCjBCNDQnQkhHgEL8WBxCMHD7Qf41uUKkVo5CnD6PQuzXXULUphFCmJeNQizAwUKYCn1CGK90QgRurUKeyq1C6DpZQnxoq0LExEZCRoOKQkwWWkKUGtZBsG0xQfg5UUIwWAtC1NBrQjI8ukJ0HKhCHMHdQYzdjEJ867NCwNB9QrLookLEsDBC+CtKQtD9TkLCKrFCqDk5QuaLlEKcMnhCsOcAQmjxSEKQx4JC9NCoQkTPlULO2MdCvGW4QljpNkG26KNC4jOQQvADK0HM88dBYNKVQsKFrkIkSXZCyNeeQqjReUK22KpC4oyrQja8s0KMLxtCQG16QqQIPUIcLQBC4n6hQuzzx0Jo9GtBSqepQtgqjkLIZa1CTA6AQhRiEUL04q9BEAl0QvShSkKEKHNC0PgdQjIXjEIi7MZCpG6cQuIfkUKogHBBOM4UQgZDnkLAt1RCKIrlQYY0t0KQKW9C4mWIQmyhKULQ8hxCAExTvzyUw0Jg07pCEA6SQBLJhUJCM7FCatKZQpDBW0JChq1CbIKRQoigokJw5idCNBNeQjCXfUKGI6hCmOeIQl7CgULufJxCDIZWQuqjwEIiurhCAMaEQlBvaELwgKlC1mSPQuwuQ0IolE9C+u2RQvRcp0I8mJ1CRPApQvxgT0LQWzpCZKlgQiy9eUI=",
            "dtype": "f4"
           }
          },
          {
           "marker": {
            "color": "#FFA15A",
            "line": {
             "color": "black",
             "width": 0.5
            },
            "size": 6,
            "symbol": "diamond"
           },
           "mode": "markers+text",
           "name": "Cluster 4",
           "text": [
            "C4"
           ],
           "textposition": "top center",
           "type": "scatter3d",
           "x": {
            "bdata": "jsACwg==",
            "dtype": "f4"
           },
           "y": {
            "bdata": "fxSKQg==",
            "dtype": "f4"
           },
           "z": {
            "bdata": "qlCAQg==",
            "dtype": "f4"
           }
          },
          {
           "marker": {
            "color": "#19D3F3",
            "opacity": 1,
            "size": 4
           },
           "mode": "markers",
           "showlegend": false,
           "type": "scatter3d",
           "x": {
            "bdata": "sqslwgdko8IsFfTBskEBwlxmvsL2WbLCoXxwwrqTicLAa7PCbshXwgy8NMKFTcPCbDmOwtKmvcIvd27C5GCVwvDRtsLw4JXCpmg+wh/Yv8I+u4rC5ruMwqu9bsKy3pjCBPeUwhmDq8I+ZxDCMWm4wnZZj8IcptvBVs5LwjDUgcLwg7/BVapWwuJuYsIecMHCMvClwt9QasJghoLCyFCXwrXit8JezIHC5TNzwqFRk8KidaHC8xGrwqj0psFSmY3CB5IVwsOVv8KLIqrCVOBZwpmAlMIFaonCUkuDwvtcNcLyeKTCr1NVwoKJtsK6BQ7CNp9MwuIRqcKi0I/C8sZ+woYIH8J/BsHCYpqyws+9Y8IcbGvCeHe+wQt8SML5o5DCz8w4wj5CssKUgNzBkWvAwofRiMLKa3HCzoKuwjkzRsIE0rjChvbGwqaYbsK5pUrCcI+7wteJV8IKgHTCNI2Awuf2csIp+CLCRA2HwjBDs8Kh4sPCBMqbwqlHlMLwQhDCwBWxwmARVsIFx6bCQLzSwZUrbcIlaGzCJDfDwnxKnsJstpfCJIW7wjbOs8Lf7bbCBtsfwq7wD8KE4MfCs0JBwuO8gMKE3ozC6tlmwlbnmMKFR4LCrB2Mwm4+l8JYprvCJ7QvwtzRmcKWApXC5AWdwqCFt8KAPovCcOCEwm8SpMKY5VjCkIXrwUd8t8KOr1TCmYmFwnCEx8J7FoLCwscvwgxqUcKqvHvCzHWowkAeJ8I+RbfC5oCTwuJIssKIj2nC12DAwkexY8JKHqTCRXBEwn/eTML0H0vCiI5gwmELrcJSErrCSihOwpI5icIXJrjC1K/SwcK2wsJPUXzCzL14wiYnccKBe77CEcyownvqt8IsoRHCt6l+woo0M8KZorfC82efwjV8xsKjt3fC6ng9wqYhT8IwsozCQpOLwjsVmcL8w7HCpPFdwjZeGsJIWRrCg9e5wq2mpcIwv6TCz2gyws7QZsIF+cPCBy+2wly9McIE3m7CaTqHwrhdlsL8mTXCZAeEwjAPrcIXbVHC1KJrwvzjk8KArG3CaZJlwuJBPMLb9cXCOTOrwlYPi8IqQKrClXRHwmnqI8Jgt87BFH3DwujCxcL6lcPCNDn4wVhLqMIsIGnC2XC0wqPNqsI0fsfC+NSSwuTXU8K7w17CdxOpwhkgR8Is56jC3nBOwol6fMKMRp7CgqePwvNOvcIoIaTCojqVwgCWw8J2VX3CzZiiwimUssJ4ybTCSTaGwiN5nsIJ6IjCpUJzwqRGosL9Lp/CKGcOwt0RvMJoH4jCnWiXwl7vgcLFmWnCdy+awut5bcLNUGrCXMVCwogItcJRKr3CklmAwm1IPsIO2SzCsoa4whdsWcIy3KjCTl01wlf7SsKw96DBMY6ywr5wvMLxe7LCfICUwhxJtMLAF4HCbG+FwsDwisJ6B0bCXdjHwvPtk8JIXrrCbz+2wvQAmMLUuXvCbIOIwkzJuMIwa53CV6CcwpKaa8K9J4jC2iGmwgOuw8KWHIHCriYWwqs1hcJiu2HCLu6swgV+YsLgLqrBoqiBwurFqMLx41/CJZx4wiHSw8Kj2xTC5a/Awq9zZcJ+D7HCbAqbwrSf0sH9L4nCtgqfwi8Iq8IosZTCbEldwlstvcLuWKjC5sPGwp3VsMJIDwzCKqqAwoI9dMIxyonChGhpwrk7nsJvjSbCpsETwhTmXcKGgG/Cf8pawoEVE8JWR1rCTIiIwrw6rcJMqJLCBBKNwRXwK8JxtHjCgeEawsNCdcJelpnCspGXwnTrGcKw6b7C7zytwqQJesKII4bCa8C4wmlsGMKc04bCk987wqtJwsIG3oLCdcCpwnfalsIyOYPCmNIDwlIarcI=",
            "dtype": "f4"
           },
           "y": {
            "bdata": "8A54QYhV+kFgfg9B6A4WQRROp0FAxkxAwK71v2gwKkF8W8FB/qaAQjA3tkGIgy5CVJ07QlBUIULo34BCaP1GQYSnFULA/PlBoCqlQPDFaEKo6XtCnAlrQpR21EGg0I7AoAhCwJDcGELwQK7ALIEgQqhduUFwIEJBXKDRQcCzyz/I0b1BjgSCQkzfFEL4mJ1BSoOQQoB0LL9497hBgFjsQXgTAkKwJOBB8EaMQuAFrEA8VIVCcHWXQThVCkFA60JCFKegQXDBB0JAxgDAODDDQahjHEIoZ+RBkOW6QXBeCUKcEEpCWmyKQnSO1UEQJCdC/NdKQkClXkHgXtvArke2Qvj0FEGQ+PBACLFtQugeK0Jk5RJCIG/BQBxHz0FsQGlCPMUvQuC1/MAYrZZBvA8sQsj6WkLYzRdCAAxOQXhoG0L0o2RC0N0kQp7bnUIUJBhCbPiQQcB+9j/UwhhCDOpfQrwZKEKAB/tAIEaSQrT8EELYGlNCFN6OQRz4bUIA1w2//GmYQqA7sEFM7lpCABi5vsBXvUAwLPBAcpOHQuDQC0FQlJdA6KFOQlDk/UFwTAlBzD1bQkDuKcCAVmXAAFPaPlS5LEJsuK1C4LR9QQCg8kAAG4S+DDZ+QprtvEJUY0dCxOl9Qhg9h0EYPyFCaEwvQlBQM0E4aCRCADSTPxiohkJIUQ7BJNsDQhhjIcHAjq/A7lCwQorcrUKkn4RCcD6UQegCfkIEoI1ClOYvQvgoT0E4HCtC2DO2QkYRo0II9llCrIGOQsBQEUI8MXVCzPNtQrjF5UHghC1AcFaBQDh9LkIwI6HAgH8FQnTZK0IYDK1BcG9JQUDVc0IggiJAGDOVQeBFLcDIiUpC/Hc5QiBPYEIkKZZBQIfPQKA2cUFc7mhC6EDsQSDSQEC6i7xC8EjjQTxAjUGompRBCJZ+QYApTD/4ObJBDN0oQsCXNEGAOWxAUMm3wFAGNELyhpdCsLDuQUDbl0GCjphCSB56QQhO4EGgfcVBLGhXQvBhAUHwe9nAYASmwJAdM8H0XopB4JQEQgBDmj/IvwZC0AHbQOxQQ0K0TQVC+AanQrQedELocNtB4FyPQMhb60G0KRxCdAgLQsCYj0J4JsJCQCv/QaDLG0K0h11CfEVoQlDfhEFQ/phCsMhrQsTaJkI4IWhCUKQOQsi2g0FI5DRCbE58QnDyrEGwPvdBlHkxQvhxo0HANwZBUG38QYD6078w+gJCAO3TQBg6JkJwwqnAIIWKQQiUJEJof8pBTJXZQfALi0LSGaNC1GzbQVTKLUJw07/AAE3kQIBt90EU0gFCwN1zQQSnp0G8dj5CsDPCwKQJBkLI72BB/GdRQuTBDkIUXbBBQOqkP0xLS0IoRK5CKL17QkDwGUFg5c5BYN60QLDMQEEQFMBBMD04QRju90Eiq4lCIDRlQUxzAEJgw7jATBS5QfR5Z0KYSIRBxN6QQUAxkr+gmIdAKMY3wQT0BELQ/xPBcvSwQgpzsEJg17xAdBiFQnAg8EA4qAlCUNywwKQwOkJQSPdA1C+sQSR4K0JQsKNAVNGCQTCO+UHgpbBAoF4vQoYklEJIS+RBqHlnQsAp+EEolNFB0Lo7QvBZ40FSF41CaNBlQujbCEIkddxB3D0WQpjTE0JEoJhCBHorQnx+ckJsBpNB6ITAQXgfJkJgN4TAnpubQoRySELMmUFCgMY8Qcjz30FOAZBCkHXkQSiMXEEA7Co/xIgIQjBFvkGQnbBCcNwxQQBt+b9AdnxA4HnqQKBjf0FI0x1BFISiQVCl6EGALM1AECNKQZghyUEQ+CXBCNVaQWhtf0FMASNCPAECQsgqVkIEmWlCMEC8QdCNSEGEAIBCQPE8QVTDE0I=",
            "dtype": "f4"
           },
           "z": {
            "bdata": "UElbws72BcJ0lt7BvB6lwQjKKsHCBgnCWGskwUA5IsIAtQw/wKTnwUCwg8GkSIXBiD5gwWjLlEFWryjCPk0HwlhPWkHopRJCfMiCwQiYIUH4/PPB0LQcwYB+a0BI6BnBQAmCwfSWrsGY4kHB0D6RQAgNc0FoFULCsxYYwsneGsIam4HCuAXcwbcuHMKgFMRBcBujwchWfcFI2xPBqIiDQfySTULQ6+1AWMy/wTcXJ8JIhgDCfL6swe5sKsKgh2fAYLRcwfwZQkJAYAnB8AsxwYCPz8EApgFBIIXYwFbRSMIgbXTBoB+rwZCHIkLxa0nCqJdBwYqCHMI9JSzCfMvjwSBs58FixA3CAKroQLhffMEUNj7CdNXUwciylcGAzihAxAcNwpygzMEYGfrBgO2Kv4BQD8BPbzTC+GlsQWw/3cFQ+YLBKHQoQhBrWMGApSZAMPQEQsTPFcLE5LRBaL48QRyTn8G16TTCsDJPwaDJjkDAablA6ErfwQBZ9D+YfhrBRKvBwfQ6YsJsachBONUZwcAx6MEBq1TCsErEQPx9IMJcoEvCcOrUwUC/H0FwivLBnA4awmjqXsGUg53BsFmYwFjlm0Fwl+/BQF+jwMC8DUGG/kHCYIE8weCNnsHIhA5CN9MgwhC6dkF4P7HBAJHrQcBtacBQMYnAUCG4wQxM18EE6/bBsyE/wjSIB8LYQcbBDDu/wRyrjcGITghBhEi1wWAN6MGEQ6PB8EPZwJIiW8JIZf3BcAZpwcBYd8AYQojBIDi3wKjsEkFgkOHAXHSHwQdeN8KQIjhBQHnEQBjhC8GuFQDCQMq5wSQot8EIub3BRvw+wrh1e8Gn4FjC8HnbQIxg58FwluBAeK3iQbiYh0H8sJPBwADFv3C71UDQ2nbBoKfRQZwLrsF8+/7B3lROwmhnOMEkQchBWDvcQYLtOcJoMEbB0MaMQa4cN8LUco/B0DKtwQj9Y8FgDEpBCP8LwQCjTEEgpQrANC4CwkA5BcKdJSHCgHg0vxilhMFIj2bBvgUTwjgKCsJAcrhAKLO4QWC+n8DwWLTAmk4twghlXsEwtwVC2L4FwaA/PEAgeSTBsGHfwZ/NQ8KCX2HCAEArvQBlW8EgjtPAhBtpwoxAvsFZ4zTCgEY/wbBVmEHEf4bBXLCCwUAzecCAP1q/VEHNwTht5kGQkKBBqKRewRD06cDYJZdBEMFWwSNbGMJQgwPBgBiEv3Rpx8GABFc/4Ke0QOBEYEDkfjXCMCL2wZhs+8EAWaxA7BKEwYDskcHUsKDBUMEfwmB2bcCgfyzBDJfZwXJ5HsJZOE3CsHeLwPAVI0IMdIJB4AcKwvBeu8Fobw7CUCGmwGsZTsJCMXDCQCCrvzBlWcEw1xnBVNj+wRghgcERe4jCAIdPwJXkGcIIzgLC0NOvwDyGtEEIFYfBkLpNwXBYk0H4gNHBVD/DwaCS8sGMxBXCoD7DQJwCvMFs98nBaEQIwuC/p0BMVe3BoPLRwDwB48EATMK9HA+jQSAqR0C4rzDB0CX/wfjTyEFAxnfAQG5eQABs/EA0c9DBVCjAwbATckEwauxAyGNKQdDQr8BRLDbCFOzfwfhoR0Fg/QZCflAFwjqGecL8RvnBYDl9QHiQncEQoeBBgLkqwDw2ycGATtvBoDJEQWiYjMHkHIjBL5wrwrDPwEC4jWvBPObbwQA4Tb84YQrCLH3hwYPmL8Lg8cTBcNWgQOCskcBgzWdAv2QtwkAhHcDQj9jAyGJCwqDopsF+OBrC8GOEwZzF7sHY0wDCQGHsQBjNTsJkk5LBzCnhwV+NJMLgQfrB7mIHwlesdMJ4ZvvBgNYRwfBNFkEg6V5Bli0cwhjLg8H89fnBiPQwwjCWmMA=",
            "dtype": "f4"
           }
          },
          {
           "marker": {
            "color": "#19D3F3",
            "line": {
             "color": "black",
             "width": 0.5
            },
            "size": 6,
            "symbol": "diamond"
           },
           "mode": "markers+text",
           "name": "Cluster 5",
           "text": [
            "C5"
           ],
           "textposition": "top center",
           "type": "scatter3d",
           "x": {
            "bdata": "NsSGwg==",
            "dtype": "f4"
           },
           "y": {
            "bdata": "mr79QQ==",
            "dtype": "f4"
           },
           "z": {
            "bdata": "qlVwwQ==",
            "dtype": "f4"
           }
          },
          {
           "marker": {
            "color": "#FF6692",
            "opacity": 1,
            "size": 4
           },
           "mode": "markers",
           "showlegend": false,
           "type": "scatter3d",
           "x": {
            "bdata": "sDoIQkxezUHycqZCjJecQow2RkIqpJxCqAOqQvRSBkIOG49COF0EQYQhfEKKnK9CiPuaQrCCecFA5a+/EHF5QkDFf8DsbKlBuE6MQXinHULQf61C4qiDQvDPMEIAsWNA5A2/QSIbkEL012ZCOPA4QgBp9T8IvnlBYimFQkRLBML096dCVJE6Qqj7NUJ438JB+CO3Qjz1ukGwipZCIP85QqC4UcBYWIFCsGbzQbYThkLA8X/AxnOoQixdm0LY5/1B6KgZwbLsqUICScdC0N0dQdiEsMG0qGBCAMxIQog2Y8FWgZBCaFdMQmSOPEJmlZdCJMoOQhgruUHQM4jB1kejQnqtiUIqOINCrAQBwuAvskEg+rlAvGQgQjKypELEL3VCmEpIQm5JmkI0iD9CyLQKQgBw7ryUbpNB/HTCQgBLMMAahsVCvBdJQthJDEI21rJC7OmzQkyJDUKEdmFC5LGzQryzxkKQFDHBhAN2QuiWCsH+kKdCGJpyQlAUrUKagQvCTkywQsBg20DMwKNCAOdFQR4WgkLC3ahCZl6aQlz/P0IeCLdC6GdHQpSgB0IiialCJKu6wZR3LEIcz7XBcAGsQnQ4REJc8hHCwBuWwGiPWUKwjpzBgIMMwWSRjUKwB6JBkMMWwZhut0KkQKlCsKLmQVbKsULg/mFB/oDBQjCZmEJApG9AyM/fQcR3WkJMEbxCREULQvByn0DEQi5C4OGZQmCeJkIOMaZCsEKeQugDdEI0PLDBdCx2QuCQakG4EqxCblycQjCirEGAKipAZICmQeSQhsGc14pCcOWEQtRelUJIA5dClOMUQgSQZ0LgWqhCqpjGQsCSXUFQwS5ClLi3QmBTp0HQmv5BoHabQPTyZEJ4+YZCjCacQhZJh0LQaNbA8KZCQkSFk8GKeq5CvOGCQlqPtUKgL8JA6oHGQnBcXUJotpJBJDQVQgBCJcBQpf/AVN81QtAKtMG4tY5CFHynQfhJeEKkRClCuAGWQoSOqUK8GatBSPq6QR63vUJAHtU/2HAdwdJWwEJ4oq1CmBaLQrojk0Lgco9AiOAkwWBsZUGM75ZCgKqIQcAhzkGcznJCnvyNQkAwFMBQ5k7BAJJqQJxiwEIymZhCgHYNQOjvR0I4AsRCUHzRQExiwUHUi2hCWEAKQkSlWUKW3YZC6saWQgifU0IMlbBBaEmKQordlUIGjZlCMOsGQqBPeUIAl4BC7BNHQrR4lkEIwOVBuo6xQhDb+UH82cRCuI5EQiTKoUEs7xhCGEq2QkgY2MHg2YJCMGrJwLCsQ0FIvR9CDJ+kQiB/IkLAp/G/gG1IvwDp3EEQkn1CKAsYQciOeUIAHwpALtuXQkxVrcEgjytAOBkZQdSwpUJgdD1CQDaGQWRYo0IgAPZB7Ia1QpimJkL0gJJB7GHAQQxOoEKAv6lB8DiYQQDsUj6gEdBAZOwrQohdGEHkd2dCoKZOQi51gkLcKZZCvIHEQXwvFEKmGLpCqmeEQjgvH0JMKYBCSMClwaQGskG4jR/BkJF6QcC0asGkFlZCsHq5QijKX0Ju26RCnAaIwVAphULEvqbBhHxQQogjGEIeaKtCvGhmQrBCp0Jk+BFCGHyIQiD9MUGgt8BCwq+NQt7yr0Lkbl5C8GiOwOCukECgx3jA2jy+Qth9Q0LwuItCbMo0QrATgsB0qlBCCHK8QujhTkEAzohAIF7BQHD1E0LaaKxCIouDQqBaIEA4BSTBbFC6QgDPy8FMtrpBxoaBQrC1XcEY03RCpAGPwUhB7UGKFrlC+EKbQdDxbsGggaFAAHj2wLTrZUJwArXADluCQvitNkKogVJCAKuSPggUykGAmklAkrHCQhAZiUAg8cVALKiwQWaSw0I=",
            "dtype": "f4"
           },
           "y": {
            "bdata": "5BSHwo6qhMIoIpnCbIUvwihaxcIJoTHC2Bz8QW4lYMJnMMPCeN+4wqBxw8Bw7QRCG1COwt+pVsJ4VYDBPb6pwghh7sEYbtLBi+fGwrw1uMEce6DBSMksQhD4ccGuO1DC5aWqwuy4wUEg85zCOIkvQXScscLAOU9BkFGAwX2OEsKooVHB4xgpwoJRgsJglXtBODtXQlQYtMFaLL3CsDORwRAzqsAJeYvCgM4Fwf44D8K7+YzC8DIgQgfsu8J8qiPCp/3GwnTovMHNxCDCIKk7wXAyL8GySITCmpiKwozMtsFaKorCgxy5wnQpSMJiu4rC/O2FwnhaOMEM+qjBqJjsQT9EnsKIx0NBEv/Awo6JjsKKN7PC6uqewuCaa0BmPWbC/Q9KwiqAT8KgJv1B6N+dwSh2M8F/O5zCQDlSQIdrmMIgaiVCxqqXwvDGVsF4rvxBkDujwJDoh8IY8rPBbA5oQt1fqcLAugVAwJYIQqM9x8KXcqjCgBeUwhipGkJ3DEHCyGQ4QlA4RMGAKLe/AI3IPmlQmMLMPcpBeCxnQcwX58FEc/fBt7AWwjXVRsJMcqDCuNcywSAEsMIeATHChAGewijqMcEVLqnC5j8VwrDfNMF+PqDCuSpfwnjoCsIUDAnCAPr2wZ2Ps8IqnbPCTQVBwox7x8E6Db3CYpmBwqAZLkFgNzdAjZKcwlDwEcHwZhTCLm2GwniddsFH3UDCkEgFQvBrhcHquo7CUMiSwlArxME1WEnCABKwQMjMVsEhg7/CYyPEwraLosIigoHCnbiowkzsDMLTS3PClZ7FwsQBocLRGjLCZqTFwmCeXcEgLvNAMiJ9wgkTXsJH97PChmilwsCrlcJI03xB02QywoByrr8wip9B4JYCQdAskMKq4pHC4CdDwv32wcKAFOVAKJ2Vwp6pp8Li6wbC83oUwk6RxsLc1OnBrExWws0KwMKAMCjAkdh1wiLKVMLUbiVCuNvswUdVZsKAJFu/GHwRQURvAEJgCARB5mNHwha2Z8IcgubBpGQOwgBSyD8gtm3AbKCDweA4kUDw6dTADJsCwjSvhcGYW8bCeUSuwqe9qcJ0YofBMML5QGCaS8Ef1C7CdiowwkgtRsHUMABCdDlDwoqwbcIpGxbCCygbwpA6EUFuio3CMKLVwDuAr8JkjadB3J2YwnBGgkEAWFa+xM27wXTtSMJQbRtCGAdXwajPp8IY3c3BBIgFQnj57sFQMu/BTHvEwQBsEj6wIVJBp8dtwvh+fMJBa4XCVH6+wZ96lMJg3fhAgJliPy59qMJs8otBjET5wSQrxEHQi2HBQBdIwPD4GMHQy5JBAGHCwrs/wsIIKavB0CpqwaXuSsK8QLfCxFUIwoymhsGuW4LCEEuTwtDavUD9bYDCn3e/wkaLjMJIQANBEDkUwfckOcJwgONA4KivQIfRSMKyEIPCkCAjQdNfocKQninBNO4LQgiPCMLQegDBjPh4wlErecIAhZfCwH2KwVjJdMFEcBrCAr6Fwt5eaMIM77HBeN2vwhrOfsJts3DCPKa/wfjrk0Fw8xpBeK6fwQAnBcKBBjLCipSNwqBZG8Hkd7FBFo6uwpUSwsJigJLC/33DwvpsncIjQnjCyB2bwoi7JMLGeQLCTpcBwtNoUMI91sTCK9EvwmAwLEGLJpjCfEbBwfhAW8FUZ9tBTGYpQruLqcJYxIrCMuU7wiggkcLsO09CZH7fwfC4ycB6jKjCZhZ7whBldsFJdb/CqD6xwRCPu8Es0n3CTIi1wc/cEsKQnDTBm34Twm7AkMKADYvCHLV5wtzL9cH40GHC8D4EwQbjqMIVspbCKGr7wUaGiMIWkGHCuBmnwjoqesIkuKXCr1JHwmzu3EE=",
            "dtype": "f4"
           },
           "z": {
            "bdata": "wOG8wXqHQcKheRzCFPZWQoCl9j9EqdZBXA7OQczWKcJUeaBBBAibQZTaVEKmT5BC/B3MQfiVsUGQugHCHnwOwoid6UHULE5COPcjQix1IUKQPtJBHN5hQhR/RkIo5QrCjIL3wYDZaEI4qWNCwPDMv7lRJMK42TjBsHkLwajIfMHAp5o/dK0OQhDiAkIAAZU/AD1rQuBwKULwBwdCcCCNQWziGkJgw+JB1CHLQQCZ9kD8yeXBiDJdQhDnmcEo3/LB2Dr1QUAYaUDARXhAeOweQcz8wMF8iLxBtIf6wbjIG0Lc3b1BUFzmwWT5B0JwhLPBKCFGQmD1LsHg3snAMo2RQiA7gUKIq19BgCZMQGgBCEIqghDCqNA0wZh5U0JY3exB1IfBQcxlAkKkOFtCkJGawDwxQEK42fdBnGGnQUitaMHMPUpCOB4xwrCcXUL0tJlCXGtnQpBv38Ec/4pBsh2kQuA8XsFAi1NA7BNqQohSAkIozizBTFauQegBZUIA7WzB0JIyQhCq20B8JldCUP8TQgiLV0IQZ5BC+j+hQly62MEsJjlC+NxZQiBiucF0J3hCAIc9QaCWccDgEWnA9HqKQeBYO0JY+FzBWBv+QeiKJUKAR4RBiAM7wZBudMGwCb5AROU0QixqkkEMhLPB2NhGwRBS8kAJDBPCeA8iQrSfBEKwbA9BLzoawiSYU0IobwJCeNC+QfhnOUL4rFNB4Ay6QfB0SEJc84JBSDqrQYBvab/UvL7Bmt+UQmiVLcEw0Y5B+KjqQTjTnMHUK+zBiepBwqC6xUFkPcjBCLx3Qni9CkIYuZBCPF9bwohzRkIQvLNBEKVeQSSHK8LvmSbC7LwvQpAGI8Go0hFCoDcvQADJuj6UFkZCbHs9QhabJsJcyh5C9JgFQojq4UGYp/hBtO5aQiAAH8GYDSFC6P6hQogv90EoznLBYEw3wFjkLEG4FvPBKPcDQWDjAEJmhYpC4NhwQMC8KkAos/pB6JwRQSgqSkIgP/BA4E43QsgqdkLcjKJBQG72PwhAfEHsQbRBjCZRQtDCekEY3VhBLJbywbCk3EC2UkjCNKHAwSC7GUEwV9pA2AzEQRCbgcEAuAxAID69wRzze0LYhNJBUOIzwhg9nUGQN5RB1MPSwSATlsA8drxBwNeSwIg8JELEcEpCYOgrQjCl6UGcTnJCQH4tQORTk0EYaWdCFBYyQrjpGkGuqI1CPNCHQihbDsIAFaA+QKcdQkSWEUJGoJhCyPj+QVhBF0L4KsLBjuqVQixElEHoJPdB5PQeQgsJIcKYJUVB0IQcQWAK3EHASay/AHe/wUzTU0K4OaZBpH1GwkhN4sGUVkxCBCkBQpjsAUJAp2LA4P4ZQnxFaUI8VTdCGMOiQSL3hEJ0NCRC5PkJwsSxL0Iw8JnA8O0HQTTbT0JgJ47AABOBPwDd5z/oF35BINxJQuRnysE0CClC/KBzQgBL7j8YyxlCsAc7Qcik1sFk4oFCuKjbQQBmUcEUMAJCOJUSQsBgDcJI3sjBONHqQVDec8HwhvpBIOIcQhjYXkLcLrVBZKGPQQwkS0IwKezB9LPIQQgvVcEOUKBC2IozQv3HEMIMvM3BkIv4Qb5kCsL8+DpC7PXRQZjMzkHEHaBBtI4OwkD6CMCjyi3C8PFpQdilYkIgGcRBnKCkQRxBQELI4ghCIMhcQnkNQcKQHP3B6PfsQe2dYMIokYBC4OVIweg5acFQX8XAVPmawRCeHcFkSt7BwMUlwKgNV8GkMRhCcEFgQVxQG0JIp/RBcKgQQay8u8HQwZhBQD/lv0CqoUDQ/pdAvnqKQiQJm8GIyqBBAJuywbzHQEImWgfC8BAnwbgjB8HAxApC3EoFQvCDcEI=",
            "dtype": "f4"
           }
          },
          {
           "marker": {
            "color": "#FF6692",
            "line": {
             "color": "black",
             "width": 0.5
            },
            "size": 6,
            "symbol": "diamond"
           },
           "mode": "markers+text",
           "name": "Cluster 6",
           "text": [
            "C6"
           ],
           "textposition": "top center",
           "type": "scatter3d",
           "x": {
            "bdata": "95coQg==",
            "dtype": "f4"
           },
           "y": {
            "bdata": "DNoewg==",
            "dtype": "f4"
           },
           "z": {
            "bdata": "5DiEQQ==",
            "dtype": "f4"
           }
          },
          {
           "marker": {
            "color": "#B6E880",
            "opacity": 1,
            "size": 4
           },
           "mode": "markers",
           "showlegend": false,
           "type": "scatter3d",
           "x": {
            "bdata": "WiiBQkgln0HYuWdCsCeXQoRHZ0IELDZCuL9GQuh9BULUnFFCUuu9QnCtuUKSAalCYu2SQnA3GEFE/JxC4Kq+QuoDm0KQv7JCJFywQrIPokIQzLJCaOXJQeCFQ0LisaRCOG76QcR9GkKwPMJCrN87QrBX3EHu9pdCKJ8qQqDgWELUx2RCiIrAQtihvEH8VsFCuL1MQhJQh0Im9YZCDDqdQjzmZkJWGIxCgJKLQSDWjEIQSV5B3k+XQlwiqkIAdnBC4DLZQdbMqEKofIpC7PCuQnzxYEKk9y9CeBrgQZArg0Ks24xCVPNjQsLdmUJWr71CFFXCQTwTbkJY8INCiD9YQlw4d0LAU8NCeM/zQehgRkJExxlCAF1MQkDhe0KgV3NCgPijQvhN50GgCRpCbGiCQjBep0Lc6axCdM91QihXb0IQIsRCAG1UQei6E0JWA7tCqPnNQczEjEKwqY1CCK5VQhYiw0L4xHFCJLqbQWyuPELwE5tCZNfGQgzonUKYlOhBiLpuQgAfcsDAu3VCjMpzQtT4gEKitIpCuPhMQu69h0J6oIxCuBsMQtAArUGEw0JChJGdQhpqm0K46xNBbJ47Qng6bEL8mEpCRNuZQsDkG0CmJJVCrDlgQkbnjUIQ5UNCpBChQqxphELIhq5BGNH2QQAIBD2qebBCFLSBQpCLZEL4AKpCjLOeQtAlz0Aew55Cbq2KQtgUnEEYiFhBRq+MQmz7vUKU3K5CSK9SQtjkD0IWI7hCNOpxQoCtt0L4Qa9B8sqFQuxrqELAo5pCEKBxQhxKrUKgyZ1Czpm7QmC0rULsM8dBIA+3QtTtwUIwiTVC6FVSQlwSqkI2lcFCVlGTQvgyFkJ0MK5CPHlUQi5nikKyZo9CMBLOQCbDxUJ0RHBCEETYQfSsI0Jw5WVC6vGOQnDy70GA/iZCYlGPQnzArEIYM19CTnudQuQCFkL0fFNC0IgLQnDkD0KgywBAlPtLQoy7kkGgr79CVCaCQtZgmEJm1KhCIrWtQrheM0JMM2lCPp6bQoqQg0I00TZCUBmxQMIOp0IkAa5BXtGsQoLVqkKQc2xCkta+QvRVkULIEZpCFH0sQuhZQkKoL3ZCQuiLQngP10F+qpVChCmPQojchkL8r51CyNR2QUwxZUIIebBCnpGiQrTbZkK0BDtC9AZfQtCJHUIyjZFC+O5hQrQ3qEIoZGVCcB1YQmyHg0LysZVCNA5kQnYHuUJI5rhCzv62QihQu0IorEhBDLAeQh63p0Lw86tC6PkUQqC4dkKsAz9CNE4nQjgvf0JIM5lCnsGzQmp/g0KMQBJCmn+GQoxCXkK45FFCjuGdQhgBukFk3pRCDMLEQpQKp0EMua9CCui0QvBJXkKcrTpCOO9hQnRGiEJ4XxtCtOEGQsCxqkLa4ZxCKL2bQgZeukIodz1CRHpRQt5Vp0LoX4ZC4LRMQqz2mUEYBMVC1KEbQjIMrkJcU3NC+Ky5Qg7gtEK8jbdCKCs7Qsias0KsRcZBeDJkQa78xUJkLWNCYOG5QVB6xMCA0ptC4JESQjwwqkLQBxRCgDndP6jqnkK6CMRCcL21QtRLbUI01y1CGsLGQmzObUL0/lpCnNeAQmBs40Hip7xC3AmmQgCeTkKMocRC3FuSQijKZEKu/MZC2BkuQuRuPULMFi1CODCoQTQ+NkLgx31CmIoIQWSXBkJG36hCnhzHQjSAG0IEoIhCaJB+QtCnsULin7ZCeAB/QjDT8UFEk8FClq+7QmRkVkI2gKRCIG6QQkjbQEEmeptCJDCnQhZ4iEK01F1CDCdpQgIxiUJs1CJCQju/QlS6skIyYYhC4ONNQiAqrEKEoiBCWKJnQpg5pEJgVWZCxB2NQkiwuEI=",
            "dtype": "f4"
           },
           "y": {
            "bdata": "KILjwcCTjkHXbFLC/IKbwkBFbsAA9bi+YFpFwSAWCUEA+aA+NO6ywT25WMLUjlDCNHCfwgDFEsE4jTTBYFRZwIn5r8LkrKzCJOkgQl8BlsIAE5DAculzwuTB2EHlp7jCGBERwToeCMLsPSZC6B18wSS5wsEg7EpCWJK1wQBNPj/2pKXC8CkZwmIvF8KMKphBijubwkD96kB08qpBjBGIQSTv5MFm1KjCBP4uwuyJ9sGIAbzBEM9qwRjl6MFsH+jB1LyXQdpUjsLIChNBECcDQcgdc0EIwC5Bx5p+wgzLL8Kge4RBVvqwwiDIwEHXnIzCeOSnwSDgEcEMCZ/BKIJ9QVQj+8Fs3CBCRF0GQgzaM8Lo4iVBQK7ZwCQg6MF6KI3C7moBwhibY8FAQOy/qiFYwmT1FkLu7p3CiGnQwUC5kMISywfCsMSmQEh3tsJwcOFBRBakwWp2TsIQOxLBdpWXwiZROcL4FQHCPe0UwuAkckBlnp/CkK1bwmBFlcKIPG5BNvGGwhDelECifXPCIHv4wfh1EMGAnGpBMK2+QWRinMI9/SXCEBNiwTzIkUHf3RPCttMJwuwo3kGw/o/BwOWXQTh+SEEA0Ci9gJynQHDjd0EM1M5BoHbdQCqhn8LqLY3CTBWgQQTVvUGgGQjAgEK7QPSmm0HtppTC1B6owVRs1MHAMYrC4CsLQTwtncEn8JfCYH75QaBre8AsCODBgRyXwjCW1MERUbPC4N/DQIgqR0EAou8/6GyYwajcZ8FaOQ3CUN4cQmhuecFYz9dBgI+NwMCYzT8oe/TB1E2kwhPmS8IUzpXB7KehwkB5oEHC3gnCgHykwNoWncJ0qE5CPmy2wjRL8cGssSpC4O1BQEiMgcKgS3PBILE2QHtiLsKA15DCyNN9QTApGEFEI6xBqqG8whT2rcHgg2zCmHqjQQzIE0Jo+B3CfKe0wiA3SUA69lrC4GupQQgAY8LwtLjA0IyJwZh2k8FgvdNBkH/TwaUujcIMC6jCoDvuQH2APsII/gNBb3i2wnxyuUGQ7AlCLP6iQRAjIUJA/kBAAOuaQGD0aEFk1RlCWqe3woAAWcGg0zLALYlHwmAtzMBWahnC0H6pwafVi8KQcBjB0EcaQjh9BUIQBvjB/QE2wja0g8IYSiLB3AWwQbxL98HMy4nCQNwiQZyDs8EAVbg+pPucQTAxpkAoxlNByGqTwWin0UG4JArBCPS2QWT4hMIPJbzCLOuVQRukScJIbwnBHKyVwYmBdsLUZ6nCN2J7wkyBUMJoEhpCypG0wrjB/sEUMLzCpJAwQkzSv0Ew4XJB2C5rQbq5B8JQobvBch4XwmB+1kCEtj/CkOpzQZCtkUCo7lvCSy0XwsAt8ECsrIPCqLRiweOhQsJQnIRB2oZYwqjrXEKMFhpCONdpQUbjj8LUlrzBLGGoQUgJtMJ43WXBJH/AwRAmHUFWTDTCAFjlwbz/zEGearjCHeA0wpBxgsFYKXpBtomDwijxF8JwkIbApNf+wUBmHEBEfh9CMFrSQOB8AkEQieJAoBylQOgQl8JEacxB4PFtQeBBi8CzGn/CuqSNwi15rsLYwUhBREyhwUj/MsFQJPxBxKolwmQZq0GgGqRBRMCcwSxQiEGETVBCnMzGQaP2pMLqT6LCjHuGwuoxxcJC1CnC5DbQwTARFUEBgzvCwLU/wTD+aMF4A2bCuAdXwsip/sHEf3/C+U83wjgwfkGEcmBCkJ5dwujrq0EI3iZBgPIqQuDHdUBMExBCIJYVwWCY8EBAElVBEEA9QXDtI0Fw09rBoQyIwkCgDUHUekrCovqOwhneX8LpnRjC7z+Awmiu+0HwKz1BLn2ywvRg0kEQQ8bBsaurwvKDssI=",
            "dtype": "f4"
           },
           "z": {
            "bdata": "tDBYwtt/icII2R/CpISiwhqAisI/iqzCwL09wkSLFMJc+7PCrYa4wl8MhsIJIR7CAcm1wsbxlMKopRDBSMMKQV5ybMK2nYvCAN8UPwNdlMIgbEBAvnKBwlfrR8KYRZ7CYqqtwlgXiMIAdiJB9yJzwpxJkMLY3DRBPeOzwlQ5Y8I0mrLC79NYwmTWncI4oJrBlXOYwgUmocKYzg/B3BeLwRvuRcLEhITCkhGFwqDEvcHj5JnCgAQ7wZCFPcFnymbCSOKjwsjegsLgPA3ALLC7wW9vYcJHpGTCKDaewnBp/cHaMAPC1quiwiKZSMLxJ53CA+OVwi+OjMLqM2XCnqJxwuSSu8H0G7xBqDOQwZv/w8L2xGPCdX+cwoXFWsJRwHnCP+SIwsAgRsJCmxDCk4kVwkSAnsGAxYLCqOJ9wjxuvcI0JSbCapuJwtZukMJgi/DAsgghwre7b8LQly3Cnb6/wu1TT8Ir0cDC3fVLwhyElsISsbXCT5zHworhucISgYTCMdJSwicsj8LqxrbCSa1zwia1KsKcm0LCgKCiwamfsMK4QcXCuFg/woy6o8F/NWfCA68WwtAKYMKUCCDCJoilwgD3cL/pL7zCBKumweBIhsKopGNBSO20wrp/scKYsJrCwztCwi4dkcJCWKzCuxnCwgi5WMJeIorCp/mFwmRyjsK6oZLChU8mwjrkpcL12EfCcM7+weMgt8IBCJXCD1Kcwrl4LsLUO4fCAARewTtCJMIQ5VDBuHI8wnis5MFh0ZjCcCOpwAp2AsJNqCHCfDfQwYhDQMLADR3CkjF1whY6qcJKVyHCuCS5wrpfMcK7qWzC+J1Lwn4nXsIEsAxCNvGGwn09xMIc3q1BiElQwsx1ecJxu7rCU8XDwnf2xsKS3VvCuGmdwt/TlsK8s/rBCAWQwtRGKcLmVZLCwIaNwjhjFUFT9pjCTYmrwjLJG8IeSyrCLFLIwVYvn8LLMEPCbJxDwj00kcIG4GfCOJWhwSA+hsKrVU3CsARNwrfcgcKE1OHBSX6CwoE/XMJozCTBdXtHwrAzVEEssE/Czry3wiDq28Bw6PxA9OGRwqjQ1MGil1XCeRlvwpoBpcLvwxnCGE5jwcnRnMLKjGvCkBOWwUNrGsJcOpTCoJ9pwl+4fMI4WpPCevKmwuYQqcLI48bCNP6AwdjrHMLMM4nBUJqqwACks72CsEHCEAGkwvzIBcKs/iXCzx0hwhW9fMK/aaXCe8tWwlDOqMLU5X7C63gwwhUwuMJXjWfCTZVXwt4Xv8K8Np/B2NqNwryAlsLeZXTCILfCQeBIcsJC5LTCMopzwpf3p8KkaZ7Cdk6Lwi46v8L8c4bCDD69wr5qJ8JslLXC0jciwpaPMsLd5ZzCdlEHwtZnScJ72EvC6q6DwgDookEsZbvBglO0wq30Z8LmlcHC7f9gwupItcJl11zC6uAqwqwXnsHyeGjCD1a2woHZSsKmb6DCiAwpwtv4xMK1zx3Cfbhlwmoox8JPa0DClhx3wj+mUsLQ5L7AfSmVwpRaUcLgjhrB9AUNwt4glsK8FfHBB2yMwjrAiMK4ScfC2a0rwjm+j8LA1A/CcGNSwRRHqcKdGCHCdqKWwvBQK8FQ847CQDiZwmAF08HkHilCtFXewcRGmsIQpnPCzZu5wiBprcJQ5XXCiUeRwljQB8JwOPnBPeV4wqDzjMJ9usPCqhgtwu+SM8J6xiLCJ/2nwq50qcL4vCRCMEyVwhBAVMHY1YLBuKHwQSdRUMIQaBJBCj5WwotntMJgayjBAr4awhhok8Lw7T/CkdhWwryR4MGAg2zCHwF6wnxRjMKZaxzCtP9LwghNGcIs0AjCNSKcwhDn6cAgWorCEIqjwiDKmsI=",
            "dtype": "f4"
           }
          },
          {
           "marker": {
            "color": "#B6E880",
            "line": {
             "color": "black",
             "width": 0.5
            },
            "size": 6,
            "symbol": "diamond"
           },
           "mode": "markers+text",
           "name": "Cluster 7",
           "text": [
            "C7"
           ],
           "textposition": "top center",
           "type": "scatter3d",
           "x": {
            "bdata": "xzRwQg==",
            "dtype": "f4"
           },
           "y": {
            "bdata": "aseXwQ==",
            "dtype": "f4"
           },
           "z": {
            "bdata": "d75Wwg==",
            "dtype": "f4"
           }
          },
          {
           "marker": {
            "color": "#FF97FF",
            "opacity": 1,
            "size": 4
           },
           "mode": "markers",
           "showlegend": false,
           "type": "scatter3d",
           "x": {
            "bdata": "uLg0wUBnt0DQYwDCIHVdwDrhBsIEaQRCPKycQQB1Ez+oGUJCEGDYwFClU0Ge16JCaAkiQQAEvcH0uJlBkIJWQeDvCcCkG6JBoIfQQZjUHUIYCsvBMH+SwKAuxMGgrBxA0Nm3QGDzgUAUZ8jBGNBOQZBynULGoZBCBC6dQlTww0HcMZLBgPUOQlhRccFYaKZCkBWGQPDB3EFYQwhBgHjnwWhA3kGQiBvBapcdwmDaA0I0PobBQFtWwZAg3cFYjOHBuAY8waC0FMEAcy7BlKkrQsCRoMHAAzjB0MCHwGC3KkHokg9CBMdwQgDILr/gE69CcCSewORbI0Ik6wtCDCO9QbCTp0CPBTbCjLGKQuJNjEIAv72/0O7rQM0kEsJQaUdBALHnwRD3+0Ek4CFCzGaMQtD+BsEcjm1ChpiFQoAcuEDCFFHCsAPFwZjOIUEwQgXBwNR7QDiRA8E4aqdCSCk2QmwxCkJAA4u/AJ+oQlAQHkIsyxdCWL95QQiUd8FgAx7CcLRzwdB+uUHgSFpAsCp0QmhmXMHksQlCgH8pQsyw1kFosgvBQCqAQrRKLELIHFFCkHKCQmghRkJyeKZC5q8IwoD5vEKG7IlCsDpwQtTSEsIu4MFCxHfKwTjC2cHAuNJBPG/BQdBP78F47lZBvK3qwVho/8FIIKfBdJvGwfj6RkEQi81BsKOZwQCCBUJAwu9BIFSywTB88kGkBD3C9LYhQoDXx0DQ0EtCmPeDwfAFbEFEyn9CahijQhTwgcFYmZXB6LBuwVCmjEJoR+9B2upDwlhuFEEYwhJCOMdKQsB6WELWQAHCpKOuQbxJHUIoDsZBZM9iQuYrukKOcQfCeDUQQSD0o0GQn7dBIP0ZQMj1gkGkMFNCaL0nQoLZnEIED1pCkOsEQqRcq0JKyaJCgA8kQvjorkKAdi/AokISwgDmjz+gtq9APF3IQfhGgkG6/ZxCKD0DwhAdmEF+IIRCXWgdwqTHm8HQ8ANC1H+QQVB7S0Kg4KTA4I2xwK47Z8L8kCTC4XMjwqSUpcHQMJhBIBD6QKAyw0HHtiPCeOckQVgZOcGA+ca/wG3lv41AG8IofghCVAVjQrARD8Fm9xzCpJJCQkzuZkLg0mVBYCQXQpDTfMHm+oNCoHMjQiDlckI4+MtBMG7zwIAlVL9QA9PA5KHNQdDCOMFo9F1BMmdCwkiu3kFQasPBnLmzQrj+OMG7v1fC4F66QsBn8sGwXhhBUGpCQaxbWUKAwxjBAImQQhD+OkEQptTAxlSAQnA9pcFAAUbAZr6UQuxRjMGwJ9nA4O4rQoizmUIARVs/h643wmBg1kDIQI5CbIakwRCJA0GQtddB6HiQQXiuakFwbahBwNiJP2AQpkAA6vI+cFeTQoSYiUIcRGLCyJuOQbDT+0B8ojbCAACDvyDkssGw/FxCVKEEwmCiSUBQpFNBKBEMQoiOFULALfa/ENXxQAh//8Go9RPBGLBeQcQkj8HE9V5CtNnHQqB+xkFAWJVA3H/gwWT42kGaKgLC6GV3QngtsUHoP65CSMm5QjwGEUIA2PU+iM4CwcAvOEHOVZRCLJjQwfAOeEF4dPzB2ClzwUSNDMKCsgjCNMCiwUDWhj+UIVBCIkzHQvDvusAAzEDC0N3RwWAR68GI0BJCkDPaQL62sUKEKMfBgN4MP2iCrsE4qRxCsIhOQkSZb0IIdQxCOCxgQUCJjULk8qJB2OaowQgcKEHATdrAWOcgwZj930GM/QPC8FSiQXAWpMCMrLpCmFyHQaD/20Dw0sxBcIwCQpPeOMKaHZhC/Pl1QuSLMMIg7qRBmiAQwuDzJUE096xCALj4vxwKS0LscnxC3OOawYAONMCQwlLBwGoKwcDrjMA=",
            "dtype": "f4"
           },
           "y": {
            "bdata": "oPwjQWzHWUKCeLZCeKGSQgx+uULgsqlCtBTMQYAzc0Jsew5CRvifQmAkw0IuHbBC4CQaQmzoxEIANENC1ONNQozEXkLEsidCNMJyQroAuEIqmL5CjMNMQnIUx0LokAhC+MlYQroYm0IkNmFCnJ51QuJwu0JcDGFCEBiAQhbBrkLoU59CFJkGQkwbEEL0eWNCmJKuQXgbc0IYXfRBrJhvQr7DhEIo8qZBpkaUQoSyekLaFIRCrPCIQaD+NELUd2hC8I37QYw2ekLQ9IxCSvOXQpAMFUKIJSJCII7LQM5esEJwaidCPHB1Qm50nEKMtcNCPOOfQkzYRUKAPcdCTF7DQlhOCEIUsqdCyJ2WQjp6k0LCO8BCRBDBQfid9UF49VFCFP1eQjaiw0JY9XZCiPSmQrYLm0Iu+L5ChHW9QnTnREJGI8NC8BpVQvAy4EFksTFC7HVGQrBiZUKs9nhCKK9MQiaZgkJgphJCPO11QkgAIELkC2dCMi62QsJhv0KogaJCUFdrQrCfD0KgXFhCnJNSQmA2qUJgApBCDDcTQlY2rUIMAExCrAC9QtgUQEIUIqVCAM+QQmQUZEIEPr5CaEytQqTuikIw9IhC3BagQqRvhUGao5RCmIq4QujtiUJAYftBcDUtQgA4CUI6eapCREqeQp4CokICz75ChkqOQjQYX0Jo5hVCBkWGQnwfkUIwqXNC+FF8QqzbuUJwul1CMFhSQnBrC0LAUjhCCuetQriMl0LyBodCxMeIQtDkZ0IcXS5CyEs5QZD/dUKM/iVCSh2wQowjjELYLlNCGG1tQux5T0L0Uo1C0DPsQRCaO0IKoppCwAq/QmDUn0IglEtCUJwGQpyppULch7JCBG0hQii2rkI6VLxCpOuaQnQldEJ0RFtC3PUiQojNhEIskF5CpKJzQvBEd0LEPrZC0CT7QXiXcUJSjblCQJqGQvbTkUIMgr5CmHSBQh7VnEI8dIRCQPuaQpApp0FEdppCiOY3Qlx6VUKQCapCCDO8QvC4skIoCaFCui+MQohPVUEwp+hBSruyQr7EgUKwbydCdCZcQniSsUHgGdhBsBDGQmhbqkFUGqFC7H/GQuDll0I8ukdCWBUwQpACpUJ4ps9BUFJwQrz+jEIqH7tCYDtvQuggfkIE/y1CpjqIQhizZkJmappCtLfFQnhKfUHwlvVBGD0zQgyQDEK+gbxC6uulQgjCx0GcWVJCoLeIQrxOW0IMNNlBoDhOQmxmQ0JsM8lBHHCfQv5QkUL464xBrHfDQlAFUkKuUJNCnP5ZQgT9VkIa+5FCwhylQjxmVkLiAolCgAS6QgB0pkIi3MBCKAcwQqC/RkG4TUFCjpfCQkjFtELMFqFCuhm4QnTtekJw/KJBnC+8QsT3WkLqPYdCxC8bQrzAqkLopilCJJWSQtxlcUKA839CwPV/QpD4K0JwhjxCvjW5Qj7mlkK8KZtCUA8IQhjuQEGIO1JBtLnfQYy3FkJsgUxC/kPGQgRmm0Iesr9CGCPGQVQcKkIAC1xCer/DQkxivEJAPoVCQqmZQhzSgULYKF9BSMsvQYirmkJS4ZVCYKI3Qmx8tUJYgrdC6G+6QiDXVEKqL4xCwNmaQaaguEJo06RChK+ZQrDYkUJQTk9CgAqaQATqtkKATrBC4JaFQow9f0JMidhBcFjjQVgxPEIEGU5CLPA/Qui6ekL47BRC8OsIQlI0nEIotCdC7DU7QuT1lEKWAqtCRMRDQriTCUIwPutBhN2WQnQpZ0KUt8ZCqJRRQvZXrkKAEJhCvnSRQmY6iUJ8AYNCGC2UQgDevUFi28ZCQOmuQZJLlkKQX7NCwE4NQpQFV0IQU69CMETDQjC8k0JA59hBjHukQkzcbEI=",
            "dtype": "f4"
           },
           "z": {
            "bdata": "5EHLQQDMtL5QGbvA6AgPQtDlz8AIID9BGBjdQaBeekHQsaZAVEtTwnjMA0HYiuJBIv4owsBKVUA8PzlCyuMIwlBK2kCMma/BoIHRwVB/ysHtLxXCCDwJQgABTL+gHjpBOD4DwQSVkcEAQZK/kENmQYwgjUGsgF5CttCIQjhZiMFrJizCwKbkQSCdhcEMuGZCENTMQQgG4kEw32zBiQUgwoheMkIE4hRCcMZfwdjCIMEktn7ChMs3QlB57MAd/yHCOBgAQujO5cH00SHCYOg7wAx8MkIA/MK/tCCAwTrzXsJghRBC8D7FQHithkHgY8xBKCwDQrDCykG0r77BQm0fwgC8IUGcmOTBvDuGQrQfYUK8OYnBACnsQKgdpUEkiyBCEfwnwshC6UFAOxdA5N4jQoy1/8H8cglCvIACQuzEjkHYfNfBUhgJwjBnFMEAf9DBx+Y7wmh4KkLu66tCKH7yQcCNF0GIgD/CUI+PQjA4WkJslYhCPJoVwsBx2UBOqwDCSPc4QTgx1cFWgTfC+maaQlUsm8LI0TzBvCQ9QoBL7L9g60RA8E6eQACskkHQ/CBC4D0PQjQUMkIsT79BKAkNwkB3SUIM2spBwJUCQWCxEEKOz55C+TRHwnAvjUHASx9AEEmVQKCWLUI8RMhBkmpSwgBXf0Cco5nB/GJ6wkjj88Hgm7/B8D5GwQD2S0KQAJ1AqEp3wkC1f8Acz6NBMPtAwWUgPcJk+2pCl6YywtQlh0EMcdtBqCaiQmB43MA0CxdCoHCVwdB6mEH4plxCUH2YwWB1DcAk7DZCKMQBQrj8eUIAbPk+wLsJwfx1zkF4uzNBiGMEQh4Jq0KYhZ7B6GZzQosoJcJkYCVCLKEmQhjLhcFACkZCJD5LQnwVmUIYCGVBsAaRQqZdnEL8qhdCoOJFQjBzAUIeDTTCwEiLwKQw9MGA9P0/rNjwwWCuucGADhdCGIhbQWiD/EH4pU9CAA1Tv3ySzUFgEVlCQF2WwYiXHUJSFDrCirBvwoj/a8EU8qnBAAhHwOhk2sGMJXZCtqcPwrDj9cHIRGDBMPolQsi8MEItgSvCcGTawahZBUFMO6VBKK2LQSCu8EF4mNFBaCfAQYRtLULkwr9BAANOwJjVCUFwqD1CAJ3mvuhm7kFwKlVCaCriQYi3ncFgrAJAWJ4CQaTX9cHg5oPBGHEgQQBwpr+oiorBMOCOQuMEUsIA6eVAGDtjQoigjMHPbBTCyBXsQRTV0kFk4WdC7NxpQpm7E8KAhStCkIVnQoipSsJiaVLC6JlzQoDjykEtTVrCAJbuvhSZe0LkuhlCSFSzwcBm1MFol2NCDLXNweAuIMBcNpxB9BmRQZw4iEFkf4pBxIeNwaWaVMKA9w/A+N6FQqBSYEHADzvA4MblwHTswUFQd59BbQCAwtP2HcKEqbpBEFqhQIfxOcLY7ldCrMQsQugPl8GdQELCEAEVwlyRtEGQqGhBYBU8wcCq0MGceZxCPqeDQtB4n0HwIClBOAFAQXqBhELACZQ/vN5UQuA6OMDcHmxCuOQnQoB5KUEAkKLBmF04QliICcFgompCs4BFwmDldMHQvJFAYI9uwcQjtMEagTXCmLPnQRh6PcHYUnlBuDyJQnjtcMKAkzxBuK7SQYIjNMIAjUdBivAHwigHhEIQNwRCegFDwpgqv8FABq5BaBNTQrhiU0JgnyfA7AgZQrS8WkL0jaBBOB0UwqzbykGP1YrC0eZHwtAJ7UAYBV1BoPZvwDRWj8GQdiFCUGmKQORELMKEAiRCrPfDwXiHXkEAZXlCAKYyQoCm4EH4G5RBsB2mQNTyEkKoF25C0GE4wYA3iz/QoTdCUONhwT9MLsIIXRhCYD+qQCAdnUA=",
            "dtype": "f4"
           }
          },
          {
           "marker": {
            "color": "#FF97FF",
            "line": {
             "color": "black",
             "width": 0.5
            },
            "size": 6,
            "symbol": "diamond"
           },
           "mode": "markers+text",
           "name": "Cluster 8",
           "text": [
            "C8"
           ],
           "textposition": "top center",
           "type": "scatter3d",
           "x": {
            "bdata": "TjpZQQ==",
            "dtype": "f4"
           },
           "y": {
            "bdata": "huhxQg==",
            "dtype": "f4"
           },
           "z": {
            "bdata": "E9APQQ==",
            "dtype": "f4"
           }
          },
          {
           "marker": {
            "color": "#FECB52",
            "opacity": 1,
            "size": 4
           },
           "mode": "markers",
           "showlegend": false,
           "type": "scatter3d",
           "x": {
            "bdata": "UrSJwv4sc8KU3ohB0MXLweAr98ErVmHCCqg7wnoRx8KZXW3C2L+8wlKal8JkkTnC+bpvwuh6QsGkR6TCgEuZwpOWs8IwpexBsmmwwvS/Y8ImP2vCcx8awsDMhUAkDaLBeIJzwdK+x8KQAE/BJPsJwl7+s8IQZFDBictRwqCEjcIAn8S+lm2qwhQDXcLgrOzBuLkjwrCOgcGKoovChzqnwue2I8IAMY9AUkOTwsH5M8JIi5bCRNj0wegj/MGoPSVBIUAvwgAcUz4wRbLA4PRowRkzwMIMNbXB/rKXwnw/osJEJrXC9ccRwkjcc8EM7OLBQIV8wYS6lEHMcbnBuVscwlAqWsJhIrnCCDWGwsgYIcEkx4LCPLrvwTzNgsKucy7CXHiHwnVuncLw9MPAzT7Fwug7vMHfdTPCbGezwUznF8LIH9PB07KXwviYosLqAj7C2InvwUDod8BQxm3CBv21wgn2wMJNEybClhvDwlBxLUFM+gDCDyKYwi54xcLUI+HB3GwHwnaOBcKgElPBnL1wwvaACcJuicPCQHjNwZ+mcMLwOr3AJntcwiTYf8JpmqrC0HnjwJCgksF1SZ/CFYu7woSRq8EyUsHCxPSIwu09McJkrLBBFEHBwVixQsJgs2dBha18wii1pMFAkrnAcj6WwsioMsK0Q9LBGBKjwpNmXsJEd9DB9luhwmCVosC86YbBErFWwqDdwsDmpbDC+E+zwvw2TcLnzSvCS+KKwlKJQcJgxtrAEFV2wfjagsI0iOrB+BWlQb4hCMKFaJrCYvmfwjQIwsGmZQ/CNAOBwZyorMEQa9BA1UiWwnFjlcIhA2TC4tlkwgD3ib4LpWjCNKzRwQAuH8A4MGzBsnU/wr82PMLYiSHBAIECwrxrbMLYjwzC8CYewT6br8L+lwnCuPBewhjNW8FgC6/CeKabwWfYJsIQJurBcO8Twb4gP8JR9jXCcj9bwls7w8JygjHCEqY2whyE+sG+rTnCgAtwQMqxhsJ6J3vCDFPBwnRbk8LIoTLBxIGbwoBrssLoGmfBeISCwbDnjMFbH5zCu1G3wiZBCcIYAOtBbiGkwj/lp8Lc6Z3BGKhTwT0jZsIAnXDBCGcCwuSj4sEcyQHCQB4UwMA8R8KgFzvCQIQ4waPSNcKQYz3CoKdjwe3tMsLEAj/C+1HAwgAz2r4l6LvCoDYCQDz7jcIws93B4xl6wjAfV0Hls6jCiQRBwng+LMGARJNASSivwpDx88AQ28FAo25zwqwzx8HzuJTCUO0AwbCnssE4M6HCebwlwnTZkcKUPYtBn/NdwiYRBMIsRMrBlB4JwiBGl8KQVVXBnmxiwtwbvcH4L+HBgAyqP6VNl8KkadPB7iY6wsWSNcJQfabC1JSywYu9rMJgG6bB58VRwowUW8KBdIbCRohcwmelwMKwv8PBPUilwm4oacLeugHCgHf7Qeyg/sHPAWXCbceOwinZNML0HA1CpkyQwmSzscIgpr/A4ogAwuBmmsD438DBHFv7wV20j8INfp/CmoCowixKecLA3QnAEK+uwYEOkcJhBZ7C4NY2wSJVJMKIplHBlPy/wrgUDMKdf0fCZFCTwWBaRsGAi5g/3joxwkK3GMIwQk9B3CBnwhD6zMDGBYfCKKIGwgvjNsLwi/LA/LKUwekaUsL0D+bBWryCwi5mi8KQAabBobiJwk6TxMIAVYzAaBPXwa2LNcJQhYPCxTJzwsrkDMIYOQHCvP2RwqDk8MEcHTrCQ+ppwlMQi8KwETxBodWRwoxN18EPY03CpMlPwj7pnMLiXCrC9aBWwvintEHoL2vBeEOAwSYheMIG7LnCSMOtQdCzs0BAt7u/yAdnwRBJasESV4PCVacewqsQicI=",
            "dtype": "f4"
           },
           "y": {
            "bdata": "uJsgwSBzgcAcDZzCeG5PwTCF58CA1W8/fa4qwg/fYsLD22zCjyqqwiBmLcEwgfTBkKAPwjLTkcLUzUbCPEuywqBIYsEkbcPCJA+dwR/qPMJkioHCeT6Iwo0lXMJy5nvCWo8EwqgQGsGIYAvBOgwGwvBc9cAh50vCGkl6wuBVAcCuQHvCPcSmwvyxiMHA7/3AgMhVQJb3DcLRhGbCpB6nweQ0ysExICrCBOEMwtAB88D4EbTCCeRnwrPEGMJmbiPCv8eJwvVMbMJYI0fBoZp1wlCGEcGwLLDBSFUewsAF3MFw1HXBbeBKwvXNvcKYCpLCQFjnP+EYtcKMTw3CnpmiwlDv/8FMOWzCcdUVwlYwEcKXqrrCIlhXwnNHf8KMewjCsoKPwq8cV8KKllbCh0dCwgAHqcDGSATCZKu3QQDu2j9kCpBBMB8iwc0SlcKRyJvCok0DwiAfXMLwLHbBHjexwswwa8IAj8PCuHxGwvwXCMKseLLC8FkfwY57D8KBcHDCgKGJwVi+Y8GwbKpAiMY9wlEHfML6fyHCc3FAwiTetcJgXQjAgKW+wqrhRcIclEfC3SWOwtBNw8AAJfLArTk0wtjBs8KWnHbCWJGtwf6kmcKwRb7Cgz4swoiFbsIhdDzCCaa1wkQgksLSfITC5/OPwqAFc0CgKsHBQB8HwYCOZ8GzvxrChvt6wvCl+cCMEMbBDbGCwjDBTUHAv5vCyhmkwtt7Q8Lw8ErBynmLwq84wMKMew7CwC+QPxyPAMK4vUtBhFiWwiaswcKoU6PCQDKDwgBQOMHef6HCDs+twuRPAcK564TC4b3Hwj28isJ4kinBLByIwRxojsGFEJDCmqWVwlw4tML+KZzC/5q8wpivisH9GJHC5CSrwgGSQsJZYHHCHvpkwj4tlMKq98DCkB5jwQqgosIPUU/CgCxxvwQti8EwtT3B3Vc5wixA/cFIbkDCoOOmwkDEpMDgdgnCRf6wwtksk8JoxLTCnp4hwvZgrMIS4wPC6hylwkh1isHiepDCy60UwowMpsGTxYnCQA3qwKrxw8Lq36PCpM5EwityW8JE073CRkx9wm6LsML0UQ/CUOA3QQACCL/g/4RAr2ddwldns8L43UdBW5THwhQ5TsJoQhDCtHJfwia+RMKkRqDBCVVMwhAss8EYTPzBQhpowqrcosLfvFDCyHMowtDQ7cFQ6PFAhhI4wln7tcJQe87BbI9PwgBolcJrIK/CQ3S0wkBJB8BRbILCbOSdwYS6xMF85s7B+ll9wuaobML8/t/BRADPwUqJosJAtLfCtmsBwkjQYsFeawfCLn8xwtWdV8KoAGLBa+VVwtpsPsIIH3nB21ObwnVCJ8JwtGnCytIGwgBh1T4sGpXCiGW5wgvNp8Kmf0/CExc+wjw5i8Hk6v/ByN5IwcDRaMFt41jCPcYkwq2+xMKs77jBRhWwwmftmsIgbkzBeLy9wmFXn8IPnK7CzDKZwdq1qsIgwLzBH546woywksKwKZNBX18hwsAoHsAA17bBAHoLQMiCu8JTQsDC0DzjwAnWksLOjhbC3JCFwhbbiMLXX1HCdYoUwhDAtsJsKKjB8HoVQWB8YUBwn5TB8JvMwZDIdMFyVkbCxKt4wmxp8cG18MLCuNagwaQGMsKQD33BDHX6wbktVMJ6lKDCwDc9wUK0tMIIjlhBED+NwtvidMLOfILChbCswpg3CsKrSynC4PleQLlcO8JgBLHBtEcLwsCi67/+Y6fCWJAswZbJBMJQGObBQniTwjZgksJ8TKTClPqqwnTPqcIJKYvCoMWbwYsmuMJy6anCmJ8qQZTyoMKKtBrCjWB8wureq8J24IrC7lEVwth5qME/ly7C3ZVdwgMqlMI=",
            "dtype": "f4"
           },
           "z": {
            "bdata": "dnMwwiV7fcIKr77CrrykwqBhj8L0NcbCKEfxwXkanMIbUxjCzbi1wnVXM8Jf8qrCgNUCwm0nI8LwE7TCp+KuwpEZWcJmqaPC1neEwh5/kMLsp6bCUw8hwjmZo8LIzizC+EKZwu5VbsLYg63CmFbAwhqbv8KwP7zCmp8OwkpXT8I3rDXC/nwkwmgHPMLupEHCTcdgwutDq8Kx9HvC1U+8wjpqXsIjF43CdIpjwpJewcIsVPvBhxZHwlBdrcJsx63C0HvDweTjc8IofoPCvzC6wgm7xsLshu7B6jghwmxzdsLc1jbCUPifwsFvj8KASHbC1fXHwjI2isIkhRzC6KvXwZQU7sHib0PCR9KtwuD3psIIggDCKG+zwoR6DMK+QF7CkkVRwvp2kMLG1ILCMpqawkOJM8Lj5afCtCObwqvZb8Jqr7TCw+KJwj54mcJDq6jC+Jm7wQxWMMI25YnCDhCcwhu7dsKiwqjCkBNlwmxvrcLF/43Ch4qJwrJIHcImhgHCGb9IwtpWncL5CLTCqWW4woXBJcJe41XCZJKFwlQJn8JNtxzCdleFwkFbUcI0xVXCftZywh8GSMJcq1fCtIeGwvnFHsJF9XTCLuWlwsCPCsLS5bfCG3qgwhvJR8Kmc5HC5PaLwvqwrcIe82HCUqQxwkLwTsJydWPCUk2BwrZthcJVZifCDuhRwuy9qsJ2OUDC1E3CwZSEv8LLPrvCRIuKwivHZ8Ik/8jBCceFwm2LXcJfc37CVnSXwhCQPsICq6PChyeTwmT3ucKHf5TCaMiYwv33LMLfYcbCFcBMwuyQHMJ0gavCvwqywoGgT8JlbSPCDI+DwlLmhMLF9hjCx6QrwqBpZsIGhozCG/S5wpX6nMK8CajCIjcZwkK5j8KXAKvC2YK0wkrdvsJUkaLChPAHwhwlnsLZ+KfC2+A7wh8wS8KHWXvC4uiCwnf7ZsI4WoXC0DAgwos0vsKAJUXC1HcmwqAQt8J5pqDC2c57wm9dJcK6PbLCyOSdwhI4osJWzKHC6k0DwqJFnsKC3iDCO3e0wgVacsIJrJnCQwGQwmnOEsJGoJTC5YcXws9sEcKTrbLCS3O+wkMMRMKlvbHCtE+bwmIeoMKDvW7CkSNfwjg0gMLGwr3CXuCdws5npcJrQpTCd2CAwkAxfcI50UzCQgGcwkEHO8IzRH/CKNCYwlQYnsIFDFDCxN7qwfgOtMJyjknCFat/wv3iucJknpjCaSqowphugcJs0KfCWA0+wotIncJAzi7CunhUwuphRsL/aYjC4CSRwkzaqsJMp6nCCt2PwoHEpMKCYKzCn1i0wkgjmsJ7yLbCcqIJwtjPh8KDvSTC1O+wwmffcMKEoF3CrqJQwvWJgcKuVFDCoMi+wgCpksIg/7bCzAnAwuBWnMIslV/CFgtbwqNylcLoj7DCPg63wj2hLMKeN5HCKiu2wvXIv8K1TWrCx0QcwtllqsLbfLjCw94swisXv8L+tmHC0Ulkwl54bsLeGaHCZEbpwXy8oMICXQ7CiXLEwnW8xsIBaz3CSWluwmZnwsL8MrfCw2uUwrDUwMEMa5XCtWKkwgCwhcImTcfCm+m/wuF5w8INWzLCgbPBwoZiKMJyjJPCspeMwih4oMLCyLXCVDg0wgyFN8K+YY3Cv79owtRhnMJgipzCOGtiwjQsd8JmeL7CSMG3wjjPLsJYhp3CCGYLwigUA8LQQmvCWPWBwgZkBsLsXVrCZ3OUwt2lFMKHn7jCbdGEwnE5KMKzwcfCkDotwmMEw8IZBcHCgee7wl7Rt8JxLmDC+aZ7wlUlm8JJYVDCJI2Zwu7xGcKlsILCRmaNwm5ZxsL7d7vCMimpwviJR8KtnIHCRLS1wQ4LxMI=",
            "dtype": "f4"
           }
          },
          {
           "marker": {
            "color": "#FECB52",
            "line": {
             "color": "black",
             "width": 0.5
            },
            "size": 6,
            "symbol": "diamond"
           },
           "mode": "markers+text",
           "name": "Cluster 9",
           "text": [
            "C9"
           ],
           "textposition": "top center",
           "type": "scatter3d",
           "x": {
            "bdata": "5a8owg==",
            "dtype": "f4"
           },
           "y": {
            "bdata": "VrxAwg==",
            "dtype": "f4"
           },
           "z": {
            "bdata": "j/mHwg==",
            "dtype": "f4"
           }
          }
         ],
         "name": "frame0"
        },
        {
         "data": [
          {
           "marker": {
            "color": "#636EFA",
            "opacity": 1,
            "size": 4
           },
           "mode": "markers",
           "showlegend": false,
           "type": "scatter3d",
           "x": {
            "bdata": "QG+4Qrgje0L4hWhCgP9BQojuCMKUA85BZl6aQkS7IEKEoHpC4IwUQvCW0MA687hCICWWQmA0q0FIPShCKJ0jQkBPJ0IYOxpCdJN5QhQlK0JAYA/A2qabQgDLCb8c5qhC0G2KQDBopEL4FP/BXN5zQsDy/L9IyhxCzAUfQsToKUK4ynRCfOK5Qjh+VkEQ2vXAqIXSQca7gkIAsw5CgJFgwQDYir54SXLB0D/4wFR8I0LA7x3CyB8OQlxBdkJY19NB0ADoQXiF4kGAAVXA0L2hQeziFkIA/TpAcBXlwWweXEKQQsRAduaCQlAZ80FWkqxCQPrBQrhr5EEYdw9C8HKfQLJ0hUIo2ErBAIV6v4zPhcEweMjA6N9iwTqSiEKwNrlCkLh6QixRqMHYZPPBVF9fQliGu0E8cF5C9CFcQkinPMHQGmrB/OY5QjQNiEHoHshBFDwuQsRWOULAKaNAAB8KQGBy10DYSQxCGI+XQXBW9cC0FadBrKLDwdTtmkLgwBvBfNWAwTSxuUIA4yPBVDh6Qji39kFuq69CXF8cQugJnkI88JFC/KNeQpBJSsEknpBBDJc+QgJogUIIeonBgFlMwAhgo8EgF6LB8EI0Qmb3tUI8AGxCsENFQgAlz0AAmYLBYGkUwV5dmEJgDFhA4P26wGpRhEIAoOy9jFk+QuhliUIAowpAoJuMwSA7JkGgN6DAEH0GQkDQC0DS0wDCAPTkP/SUVEL4bqtBgPa8QPYGxEIA6dxBbNIOQjwkTEL8eitCwIM5wSK3pkKYu6NBoLeMQFwXpUEwBnzBsBaAQnhFB8LYuzhBiJYAQkB4AkFQTgDBCBoSQpBofUHgb5lAAHz8vgwCQULwd3fBcNjBQVbWoEJoOlDB1AQfQnZoi0KwVhjBAA+MvqzDKUKQKDpC2F99QqKpo0IIMhFBnObDwQgNQUEQgQfBMKEmwVSQFEIAGflBoKcaQDDJtsB4+rdBLsuvQkASjEF0G7pCYESFwYCricHI7orBUEriQZjE4UEAvZM/GKRBwfgRSEGcaEpCRNkDwrQ2jELw7idCwBpQwT61pkLQUQ9CnAZpQiCf4EEQhb1BK9ojwmyeosGuc7RCQNvsQYBQkr8Et4hCHN1tQnwpQEJo9dXB4K+bQDC1PULqgcZC+O/cwSzlo8Egeu9B7MOBQYg9MEJI2OFBsOSDQuiFIULUtTZC+Ez+QYTEg0E6N4ZCPINVQrgT/0Es+bXBxDimQZDz80HwFjzB6CChQsRSdkK4qjDBJkSDQngNFUEkyg5Cbp6ZQoj4dELAMrNBHCQ/QsDSj8Dikq5CWEPRQaAMM8GQQBhBCE2eQdjzbULouRhBHGKNQnTrb0KYsj/BlEo3QthYNMEcmrjBwASBweijJsEQaDBC8sewQvSnqcHgzFdAvvuaQlBA7MDwdgjBwGMKQSDIGEKYWg1CUHtUwUAbK8HEXXRC7JoBQsLdqEKgyJBAcEm9QuTJJ0IuZZtCwMgkQkCEm8GYDUpCEJaCwOTeIULgNZpBLBmzQZJIhEJw8cRBIh6qQsrFwUKAiQRBuADpwWCFWEKguFHAyF39QTyBs8EeaKtCEIBswUjn+UG8PnNCUDZXQv5TnELAg0NCDDIdQpje20EI+vrBwGxoQjzPgcEYzQNCNDwhQixaNkIMlbBBcsGvQgCbLj+kOpPB6Bm9wdAdi8H0a4DBuovCQlz2AcLkc1VC/AcEQigVasHAULZA7pqIQpilIcH4i29CTFUGwnDlhELAWabBwFsoQrDyjUDopEdCgLn3QVj8HkHsNy5CaJA1weyPT0JMIKFCgCL0P0D1m8A4jaFBgE8RwWhNTMH4XxZCiLPSQShC1EHUXDdCSM2bQlRZmUI=",
            "dtype": "f4"
           },
           "y": {
            "bdata": "cckswgcxt8Kc8qDCwLXMvxzxAcLgCKzAeCxnQXiJTUF0CrrCwEpPQDM8SsKJwx/CLKmLQRDQrMIouRjBZLaywmBgMcEe84LCAPLPwID7C78gK73CIKc9wN61tsLQFzJCZkGUwsDI+sB36UrCgC7QQG0FnMK4mTFBolGswoAkXUC+qbXCrSimwqC5gcGFBK3CyGRZQaEPP8Ik8YlB4APvwBBl+cGIR5/BSC1NQYayfcLqVy/CTqxVwiBJuMFgkFhBsP2LwlTpwcH2J8PCatkCwlCqDkGFM7zC8AuawczcGEKM4IDCYPH+wQAUsMES2DjCuOLIwZRDgsEwaNZBeJ12wS7LksKQEVZB7lGhwliGp8HuBIbCq+49wsqaOsLE/5fCDrIKwnCUpEBMC6LB2EUOwl5mBcKA8LM/2GX8wQf+osIwwrVA9V0Zwt9QpcKreKnC2PGRwYCzdkDTV4PCCCmrwUjF5MHwxlbBM51rwqSUJ8LgtbvCp2QZwnjwnMIlCl3CmGJUwWjFTcJrPqDC/GS4wrW2OcKA2xY/femfwi8eosKggS3CUO0SwvABFcEASD29wFXUwfkvLcLGvLPCuWCywjCEusH52sLCUHPhQCDMIcEdt6/CjdfHwhgTnMFEk43CXp64wuC450HovpPB6JAJwoCi7EDKtrjCDHqqQQhFH8EAWYNAENeVwsAnosEETovBFaA5wkvkfcLgki3Agcc5wpy5DUKCAH3CVF2zwkgRYcHw+BjBWPv5wV65xcK4BGRBPmqkwgSFDkIIcibBEE5DQeYKgMKc7obCFKuYQUHpb8JiVnfC/wRtwr1ZicJQ1LTAYpKYwpiHIMHwvK7AoLNBwaCcHMJ65R3CtQUUwkgrDELkHrzBZPu0wTYuqsJgu+1AYNUnwbdySMKI5PPBpVIkwnA0AMFFjZLCxIWiwcCdScDeEJnC4IURQJCgwMLryJDCXBrLwfqoBsIE/pVBpGQNQpUYYsLE2QbCYO46wQAEt73ozsfBLHbUwVQ/p8HNMXjCfMaqwschrsL0IqXBwxOTwkjypkGU8GvCa4+zwuz9vMI7zzPChKVfwmS7icJVtsTCITyWwl2aucLC34jC4C+FwjD8dcKwb7rCIJqBQEAbgUCwH/bAIwiKwkyPd8LzehTCMMlMwdqUK8L2VpTC72N+wpD9x8AAu6LBNNwYQthuAMIYwM5B4NZcwVRpyMFjxXHC4XK5wqJFVsL1vjrCRi6+wg7qgcJ2YoDC9gGqwv/vHMJvq6LC7iBbwowi4cH87YXCWDV3wdENnsJwfCBBYOAWQTari8K85N/BVA2UwgCCrD6oy33BmJ8YQXC2isCInk7BsH79wd6Lr8IsyaTCSbW1wixrssFwY7jAEKodwYmkqcIionjC1lq+wjD29sBggEjArxi/woC7Mj+Yv9XB1osYwnDf+cGViE3C/8svwqQfF8K4XrVBgBD3v8w9ykFAka8/Fi44wmqYgsKuXWjCyEnzwXKrBMIlSGTC8GNQQUypC0JAZgXCtoGAwhzOVMIANNK/bg16wuDkwkHM5pnCHj6XwtK0P8IQM6rAui+4wqBRbsDkd7FB5pYqwvCNicGRmo7C1Hhuwoo9vcKg0qXCgOJnQRkmwcLEqIzC3i69wtzCnsELnq3CCBQ3QX6Fp8IAWFa+0uOMwlqXmsImeDDCGr/BwllUsML+p8LCsPGywQLohcJ4gyFBOM0GQnCjF8EsbiHCG2NOwtcdTcIfIY/CLO7qwZWexcJALdG/IaUcwniQXcJ/g5LC2CGEwoUJgsJIyobBInh3wvvUicIAEZTASG1Uwr/AOMJQVv9AaITHwjZXsMJgWfPALICZwmAkusJy6A3CGG9dwvT1vcI=",
            "dtype": "f4"
           },
           "z": {
            "bdata": "hBi7QuYpo0LGrYZCKB14QgDPnUK2OZFC+j+hQni6dEKEUrFClDyOQhw6g0IkSpRCHECeQtzPakLQEoRCEM65Qmb+o0JsOH1CmnGbQtTUe0I8lq1ClHeKQsxQMUJGCr1CNJG6QkIUlkIS0qhCVtO6Qq6QkkK8A8FCLr+kQna/ukLQp4FCZFCfQpgIQ0JUv2hC+l2IQvbdn0KIVrZCZA5PQvTroUKerqdCbsyhQrRqc0KiFcVCDpWjQoAuokL65a5ChKOvQtBpe0IkBixChBd8QowigkKUAGNCylLBQlDOskJKzaVCYI2sQmz4VkJu8ZpCYkO4QpDXW0KO2r5C+Gc5Qm6MikK4abNCAueuQv4gokI46DhCYNwyQupdsUL0nrJCVuyZQvCYrkIUpKNC3CbBQiSqVUIMcMZCypaeQjoSnkIAvsJCqKiuQujdiELqtYxCLOOpQiTMdUI+/J5ClFZMQlCJV0KwnF1CsoeYQnC1lEKU57dCkGvEQiAPnUKg9HdCUFieQih1wkJSM4lCyOVtQmQfVkJAYr5CasyHQrAylEJg/pNCDO6/QuSAmkL6z8dCZBSqQnr3nkJ2bbhCVmLCQvSVtkI4f6hC2COyQqoqq0JwD6dC4BWcQuCXRUJ+lLxCVLpHQiqbu0LGnoFCTINmQpgNv0LQ20xCvvaSQtKGl0JyGcZC4iihQsyCbkKI18FCLlq8Qng2tULu3LRC+DBdQvIHwEL0E2lCBkTAQnbelUJM01NCdtyJQrjjg0KaaYtC0BKWQqzInELQem1CoCqyQrAWnEIgysVC8l+sQsYmukIKeKhCHByFQnyAc0J8055CjNJnQhRuTEKckR5CStCpQgQyuUIo6D9CQKXEQsqyqULYPHdC+AG2QsSnj0LunqNCJIFsQnZnvEL+rsJCbkWPQmwelkJaRLhCYKGtQvLUi0KqfopC3oOIQkSZXkLUVr9CWENxQmrVlkISeL5CrurAQqDWtUJEH6ZCSoGOQuAKokKAH05CkPVSQka/rkI2nIdCnpqFQuSzOEJ8sKZCImezQliklEJie7ZChrXEQqIivUIAEmFC5IevQvxglkI+YbtCOJ23QgzqhUIoX7lCfCB9QpI4wkKMf6xCDFa0Qvyeg0K+t7lC5EGtQuIcqULo/qFCxvy0QkTkjkI2hLVCcO+IQpTfekKW8KJC4j+2QsyddEI8DrFCHOuaQnC4pkLWvIdCCsuBQpDCUkIC3ZFCKPSvQnQNaEJ4MSBCwE6cQuAipUI8yDpC+pWwQshvbkIoIUZCROqhQhhwmEKA+VJC6A64QnRsckLMIqBCbES0Qqrrx0LGyMRCNKJcQpodpkKcb8JCrvajQpLxmEJU+ZRCiM5cQroikkLABIRCOJBSQlRGWEJoW31CdN+bQvizUUK87EpCVCCWQh5mt0KUS4lCpFQlQmBUTkK86l5CfOpeQtx5XEJQsqtC1FhRQhBnkEJkslBCose6QlTSgULmRohC3BB5QkAJWUJovLVCPGG7QqyOpUIyp5VCiF5NQvBYwELiZYxCgIiOQtjxq0KG8r5CiAGlQtA7k0Js4hpC8K1sQth2aUIOUKBCwkmcQsB2uUJSbpZCiBmiQi4trELwgGVCWCKjQoztcEK8JZNC4p6VQrTGrULSmKBCyAdcQrS4qEKcTnJCBgemQrRDsULUcHxCkCqVQngDZkI6vJtClrOqQjxtpkKWiMBC4LGuQrgOwkKsh5ZCYPGMQuJ9kULKtoFCvNWyQgi8d0LM/41CPK6AQlBmxUI00JFCHDy0QuATv0KmvaRCZJaWQuiVw0ISiMBCEhauQhycFEKY1rlCbP9cQpYri0L2HcBCKKmVQq5ClEIwhbxCStq6Qqp7jkI=",
            "dtype": "f4"
           }
          },
          {
           "marker": {
            "color": "#636EFA",
            "line": {
             "color": "black",
             "width": 0.5
            },
            "size": 6,
            "symbol": "diamond"
           },
           "mode": "markers+text",
           "name": "Cluster 0",
           "text": [
            "C0"
           ],
           "textposition": "top center",
           "type": "scatter3d",
           "x": {
            "bdata": "DXPmQQ==",
            "dtype": "f4"
           },
           "y": {
            "bdata": "RscYwg==",
            "dtype": "f4"
           },
           "z": {
            "bdata": "JWuYQg==",
            "dtype": "f4"
           }
          },
          {
           "marker": {
            "color": "#EF553B",
            "opacity": 1,
            "size": 4
           },
           "mode": "markers",
           "showlegend": false,
           "type": "scatter3d",
           "x": {
            "bdata": "VMaiQijl4UFOI8BCZAgeQq70hEKAaTBCuPBbQjh0a0IoIZxCcJXuQSAEM0Fo7qRBtBmRQlYDu0JYGjJCXhOtQgLJj0LgzmlAEGDYwLTrNUJQ3V1C3HRYQqxeZUKIanFC6E24QkAvdEIcltJBrKuXQqwQiEHCLatCsLavQlAWE0K8UMtBAGwNPwDMJ77EMC5ChI5qQmbmiEIW0b9ClA94QhDX3kHQBxRC+laWQpyLEUIctmNC8AG8QbhujEIAgHS++g+SQkzyT0KeobNCzBBjQvA/qEI0PGBC+ClHQrRRkEEebY5CLGtZQrB+vUH0z7JCgEHMP3AokkFIinFBSL2gQswQh0KQlrVCgPr8QahJj0LUUJVC3PUtQswOp0Jg4mbA7NBrQjxdyEEoBaZCcNRFQqCNiUIgXAxC0PlJQYypC0LKvrpCjpCSQpA+WkII8wZCxHt7QtZal0J62JBCWEB3QZ4atULwwAtBjnqlQrR5v0ISSadCsIXpQbib4UGgAJNA8tqqQgRmDEKobIZCdI9+QuBZlEHkKhBC6DCiQsBTBsAyBY1CuLeAQnZUvEKwA05CxN08QtgxNUGMCZxCJFywQsiw5kFs8gFCTLloQjh0t0IECoBC6EM0QtBGL0EcE8xBFIm3QdAXmEIgJylBnHDBQq68s0LQJKNBgA+aQmTroEJYq/lBVBSUQow+p0IAgbpBANJFv2xD10Hk3YtBGNkdQag+T0KOQoZCwuy/QlAHhkLUgV1CuOXEQUwJLkKcCVVCGkqMQoTzCkLge21CUL1nQvDkt0LM6StCWHFYQqAyQUIQVJhCuCy9Qe7dvkKkQ6RBrA26QspNoEKmpLpCwOZvQvhI7kEMWi1C2P+MQoDr0UEsLzJCdGdAQkA0L0Ekpj1CuuODQgLrqEIABJQ+CEhxQVJOxUIcA0NCmFEmQrhbSEL0GXtC4LlIQi4PpELGCbpCDKeHQkBv8j90CRxCtnqtQhABeEIAOPe/nPAgQsjlP0I+aatCUBzGQYo0h0JM96ZCvJYoQsQlPEJAcvNBLvuEQixMm0JuioNCCMSuQg6zmUIYaqVCYLcqQejNt0KUEmhC4KtTQoqEqUKM3xFChCmPQiy7TEK4bHJCyGecQii4S0GQ/z5CQAOLv6iO/EG8uMJCMBulwPxAVkI86LVCAH1RQsjzokIYPmhC7oalQtzprELgsr5CIO2WQPguJ0LgbrhCdre5QpCAFkEIo7NCNJcxQkDBoUBo4ptCrAM/QrZaskIM329CuA2yQSLBo0JIirRC6HtGQtr+tkLAuFNCuB+AQgCIq72SHpFCtpiOQtA+tkC0aGNCsCfZwIjvs0FyKZtC8Am3wJR8zkEa7ZFCaAmcQhBmZUIIcGhC8DJRQdLNrkIAq7Y/nH7ZQbzmrEI8tnRCnDi9QvLYsEJCgLRCKmrHQlAJlEKgPEVBqGubQliWvEJ+5YRCGNSQQsSCkEJ4+adCSvC0Qjh7XkIcM75CNAGKQuj1i0Is1DdC1l+WQjTQx0GMiT1CcoG7Qmi18kFc+khC+nylQhayiUJqf4NCJiKOQmSKrUJSUrJCYB6TQfjJmEHohfdBcie5QhB3kUKoT0ZC4Iy7QhwBHEIA8gRBQreFQqBerUGUK81BEKGVQsDNrz94sC9Cmt6YQgB44z+AkRNCnJehQlBOg0L8eQBCwrmwQgi9jEKAV7S/utibQmA/BcBGzYxC2HgQQrgkKUHw62pB5IyNQRApk0BsakZCKF98QmCc/EEoUnpC3GNPQtjND0L4iItB5AUPQkSWsULoP15BQLFSwCi9eEKgVGZAuDcvQYRnK0KIwfdBgOdoQvRRnUJgdPRBOE0jQTZ2v0Jag5lCYC/1QExjY0I=",
            "dtype": "f4"
           },
           "y": {
            "bdata": "BPWoQhQLoUHe+LNCaPiWQsismEIwFUpCEM5RQgTiu0EQHURCCPCRQqQc3UEwO5hCEAp9QnBw4UFMdr9CwnWeQiLxt0Iwu5FCRvifQvQGa0IOR55ChG8LQqia90H8TCdC7h7FQrpzkEI0BT1CtDU9QlCyC0KMfGJCJMazQr5Er0I4fMNBmMjxQfSolULIUCxCIDJnQggit0JgjcBC6F5tQoiHu0JEacxBcINIQiirKEKg6x1CsCzrQZCMMUKQyMlBusGGQkD1wkLEjrZC1PhLQryHREJ0vodC+M+GQqgqv0JgwPJBcEOIQoSaqUJogpVCri6IQrQjnELYMGhCfOWhQqC3aUKM2qhCkAFDQoAap0JSV7hCvFnbQfjuSUJy6oRCLJSWQkCahkI8ZTZCxgKaQrICqEIQnDpCqED7QUbziELg9hZCkCxOQjiUD0Ik8k5C0LsUQjxCSkLUZ6BCVBZ9Qoig+kFAJaJCGDDdQZhpvULknFVCNFeDQqivBEII4zRCoDkkQvpbrkJQhNpB3Pa0QgCrO0LATaxCRGpqQmg9AUIY3m1COCiMQoBfVkLA9NlBxPWhQsS8OkKwOBxCJOkgQqDkbkI86TRCoEC3QgD+6EG03UZCAHGnQvjSykE2wJFCuLFvQiajn0KE25JCBCs/QvYQgkK4BklCzDeNQsRHG0Kg4GFCcGBBQmiBKULgdXpC0AIFQqCwLEI08rRCPvGRQuS/NUJkH6NC+C+bQnDdCkJgGcdCqEj8QYybWkJu5qpCAnSQQgz7uEKEDx5C0F0hQqruwkLg+YFCLOMNQgDOa0IY65RCIIZoQsx9MEJ4vGZC4IuwQkjD/EH4sutBxLc0Qvg66UHkZ8ZCoF7+QcbcikLMNbdCYK6WQjB7GEJAAANCjPlSQlCLuULUmnpCnD/FQkB7IEIkEY5CiOfCQtiK+EHiQ8dC/GAdQtQEPkLm16tCkNJdQphjj0H+AJJCPi+eQhgEikJU+HlCaGG7QhCvxEJ0JYdCmNTvQeIal0LAarlCEBvWQYyzl0K6bqpC7EuFQh5QpELk0ktCSIGJQqieckIEIn5Czl6wQrwHwkKUwL9CTPitQnYDoEIIKn9C0EcaQsg6YkKWw8BCjna6QuitZkLaVJdCYKYSQt5NwUIaba5C4Gh9QsCR/UFwjYJCzOiyQk7iv0Ic7YlCFjOqQqRrUUJsNpRCEMynQnz5w0H4pWhCTpWrQmBTWULgA0xCiky8QoJhxUIMHy9CaBIaQgBXWEIi/odCSLOrQkSBb0JEG4VChMuDQoCW/EHuw4lClOabQhaGhkL8hL9CBm6IQvzlHkIgcu9BGvuRQgDBLULgTLhCuvK9QnRGGEKIk0BCZp7GQhTEJUIgmAtCOE7CQsgAEUJQc4pCNGVcQuz32UHcFGlClC3HQlxelUIq4LxCaJJbQnjGxUE4cvVBsLxLQkAR5UHqSYtChEo7Qopmq0IE7rZCYkO9QuBdU0KgCmFCPrSeQmjaOEK0Qq1CpH6RQmiFiUIsfxlCmPTyQf5WvULqvo5CXG6RQny6NEJM0r9BBm+jQpDNXUKI1FNCCDxCQg6Qm0JOrolC1hSeQryhIEKQr8NBDJLUQVDR5EF+iq1C4AnDQk5qnUJeH4tCuMboQdJBjkJ0Bg5CUCG6QnQYhEIAPndChieAQhRQAUK4+WdC6DSWQnTzxkIYZEJCNJbfQbTXp0Gg8yVCrnilQtCcFEIUJCJCCgjCQvRAgUJAl39CgLbeQXz4YUJYsilCAJ16QhI7uUK0QLRBbBlVQmz23kEABplBoB2nQtAsFUKkGQ9CCpi7Qij8vUIo+cBCUE2OQupPiUKMsAtCCG9zQibhhkKUi0ZCWFR2QghA4kE=",
            "dtype": "f4"
           },
           "z": {
            "bdata": "COKAwgCFgcKwJovB3RytwhC5n8Lr4b7CbNe4wqmVo8KYyifBYqWCwn8kWsIEnprCBZuuwmCL8MA6mTrChd3EwukaRMJrykvCVEtTwt4rRcLwNYfCtU4jwmvaMsIP8HjCcDKjwD+kY8JkcIbC/LSOwbfvssJArBXAhD/+wavyscJ2a1TCSGScwkh9o8LonDrCSs+mwpQGxcKcUQHCUImpwXLHvsK8FfHBvY5jwgHbZcJf56TCwMG9wgkZicKoK7LC0HSPwbiW0cGgaflAWkuowhA3R8HkM6XCbIinwVBACsKciLXC7twwwt3txMI6fX7CQGvGwileYcLlZMTC2tlHwkjEEMHE4rzBsqSqwuIxhcLM5oPCOCiwwcD0tb8IxVnCVP6EwqzY8MGKRirCkgWbwnWGksJGM4/CAMykwuLUFcL++WvCCVd3wrfGHsLEqDbCtQaYwp7BSsIA7gHB6uYXwg4LvcJ+mlvCwNArwaR8mMHwEgzBjMGLwv6wjcLKGsfC8ShLwkqRncI0/sHC7XwYwkr8ncJUyLbBJn+mwmVRx8KEvtfBGL64woZWS8JwQoDCDn1qwtyfrsK4b4DCAN8UP4iml8KoNLLCFEqgwoCEvT9IPZHBQoqywl6bq8Ik7UXC9U08wqixC8IkOIHCurk3wsm0NcIlmpXCwaZLwoaSdsKcteLBTCQOwgD9LUA8dbzCPzhfwvTRt8IT/ZzCPRsawn59u8JbFCnC8NCjwLupZcL0g0HCJkmHwisyWcJ3urvCq92/wh2EQMIzkyjC4aHFwoBg1kDzhKvCSYZtwgVGqcIAMK29KzqfwpEBasLTBnvC91rEwpPGmcIAG9rA/vErwsJykcKYLaLCaetMwvrsmcL1cH/CVSCAwtY5RcIC8LbCHDY7wsa7vMLotZ/CJzsjwgFjUMKn8qfC2JK9wmAwScJyy7LCnOmtws5tnsLUJrvBMONnwqbIiMKlJ5/CFAvKwV+OxsLhBKzCfZS0wmBwpcHANJXC1sqQwvJxG8K8Yb3CnH6MwkHzpcJaIr/CAhKOwiBxVMG4U7fCK56xwrREAcIw7bzBOvNewvhxMsHW8wjC+XUywgUGpsJl46PCkBOWwZxfOMLr18bCgKHqvx2HjcL2zcLCiIA/wva7ZcIWXb/CpweXwrQNf8LsSmLCANLxwanhoMLkhpDCLGmIwcKzw8IA1zhBZg2lwn4ouMJAUjHAZhAHwv3OxsJAHNq/OZC5whcqp8KoEzXBvDafwVLHtsIAlZfB7tk0wrQI88HwyQbBMSadwpgjl8F6srnCqCcGwTCZl8IiY0bCAKM4wTmanMJCV0zCLU1awkf3iMJUeH/C2GKEwqKktcJYiaTBkDnzwCtLl8L46ZDBQ9qowlhhlcEWZjXCZbOjwukEucKkg4HBjDoMwo2olMLQOP7Bp3tiwhZyo8JYUI7CwItbwFIOkMKX/b3CQRbFwlQbwsL5LUDCoNvwwYiyxMKsTIbC2N5iwmiQocHwRKPCXGAqwii+DcIbKznCADcZwYqZNcISg73CtAyNwZAz5cHgSHLCaIB8wugO38E/KqHCSMKZwoA7isJQYwDCojypwpj1dsHk1C3Cth5swriFwsKjyoHC9YjBwny0fsK21Y/CxdGlwiTOcMKIwIfCM/Iqwtm2fsJo9dfB+J5VwS2rgcJo47fCjexawsBGuMIsCsDCw9WvwrI4T8IONpjC+uQcwnE+jcLqy7fCLauQwuh3aMJcduzBYtC4whG5QsKQOWfCFDxLwsqXG8KKYKfCCdQewtaVa8KHvbTCbJLHws3rssLu5onCK7N6wtVVYcIAo+nB885swtgNwsFudGrCEndrwggu/MEzr6zCST2gwix7vsE=",
            "dtype": "f4"
           }
          },
          {
           "marker": {
            "color": "#EF553B",
            "line": {
             "color": "black",
             "width": 0.5
            },
            "size": 6,
            "symbol": "diamond"
           },
           "mode": "markers+text",
           "name": "Cluster 1",
           "text": [
            "C1"
           ],
           "textposition": "top center",
           "type": "scatter3d",
           "x": {
            "bdata": "jzxRQg==",
            "dtype": "f4"
           },
           "y": {
            "bdata": "sxB0Qg==",
            "dtype": "f4"
           },
           "z": {
            "bdata": "LYBpwg==",
            "dtype": "f4"
           }
          },
          {
           "marker": {
            "color": "#00CC96",
            "opacity": 1,
            "size": 4
           },
           "mode": "markers",
           "showlegend": false,
           "type": "scatter3d",
           "x": {
            "bdata": "X2SgwhZQD8IsrJDCJpYNwhzMFcKBjKvC5i4bwkA0OsK6CLDCxsvAwiZ9ocKrcbzC1QRwwvmDQ8KOPyHC2NmdwpZ0tcKzYrXCF9E6woUsmMKQQoTCNG/vwRIeiML9D7fCwqUiwl4TwsImelXCg6+EwrCmiMI0r6TCo6DCwqhlUcJEr7bC7DcEwpltlMLZapTCC62gwgk8LcJEOJjCVjKYwtTeVsJVla7CUOQCwlQsqML4BFjCXcxewrAUi8Eo46bC9JkPwn5eZMKDr5nCbU6gwi0UjMJSfI/CJV6bwjd0IcJ2aTzCvjQ7wv8sGMIwcy3CeB2VwZeRgsKsp2jC+6WMwiyI5cFK6jDCu9yHwrBPXsLDi0nC/9c6wvxsr8J2YKvCa9+rwlCes8JeSpbC/F+bwqTr9sFwymzCL1Gtwl09asL+bIbCLB60wjUwesIh7MXCdETPwQUFs8J5prfCvM/swbMoi8LAi/fBQA4cwpLVg8LKqILCisSswqNVvcKxW5TCrNCAwtQKR8KZtLbC2B3HwiFTLsLNk5DCFeaQwo7UgcKNj5/CNLqPwk7eXsLcBbDBUP9Twd/llcLmmcPC6PiJwWwWl8I5SFjC6GuXwuIBXcJsukfCYIyVwlCIAcJobbrCAIMmwop1jMLs5YXCeCLAwp30asLkaJvC0oGDwgLKqMIrombCW5S9wp9KQ8K4MKzCD/Q0wizc5MFp9zbCMNu8wubOWsJ+xJnCMQNMwh+nbMI2WorCtOldwrwKfMKMM/DB+dPDwiBqlsHlv6bCJJwRwkCsXcJ3gF3CxFWewk4BcMIWcbzCabirwn9musIeoYzCPFqtwliFjcKM17zBBm2Xwjw8vMJq+DPCnORBwuxBq8HV7EzCHBd4wp85xsKMALrBQEwewr+Kp8LEorLCoEHEwr7jMML+X6/CwOALwkvNn8KnW8TCyyBUwkf2vsJ9CsXCuzyewh1GhsLrJ6rC2HLkwVfVucLsz57CTFWtwf3kJ8IJDcHCsom3wvwbrcI2srvCWbgcwu72icKt5W/C2JOdwmxgMML2l8HCkNmfwsKQRsIcVpHCr78jwmngqcIm8rPCTO7AwtnHfsLqJWHClEK9wTyCrsGi36vCZhyRwtDd0cGMr1XCCv4Xwh5oscJibzTCMfkgwk5MAcJ4jgXCCSE9wnZlbML4xOfB1wORwkcKoMI+2ZbCbgVAwkdQecIZjhXCCDmrwXCGlsIo6HPCqND4wbb+NMJitw7CoLaNwkMgsMJQEqzC+/3CwiTOFcK8PLHCfMawwtLPI8LxFE3CZWQkwjiVh8IMDKjCfqRYwt9+jcL0gAHCoEsTwkE4xcKUGCHCBM4gwqQBj8EOApnCZJaBwaqFBMKrtbLCGE30wXw9ZsK+3ULCLdaRwvrkicJ0+wfCUTWYwh9BvcKV9sTCINT2wfC1wcKjPcHCwoNjwkBt0cEEEYvCZ201wldRm8II58fBDplVwpSUk8L4FqHCyywSwoblxcJWepTCEMviwWcBh8LmdW7CRM6twmSDucIsHZrCjkSswnXqVsKgwb7BiH6FwVcMXMKejgXCp0RawnwxXMK4+5LCOC2swjAIYMHgzaLBUXadwlYxJcISqYXCa2+owmREt8ECUYTCP+PEwuSQhsH3klXCNwaYwk3bvMKDvbDCW3d8wnxgk8KNgprCatWdwqmMfsLepSbCnI6+wVqfpsKTn0vCU6+IwgSLtsLUmCHCAgqWwutnw8LH/z/Chtipwtb0QsL+vsLCtdc+wlTU2MGcAezBYY9FwiIwgsIYVPLBCCL2wcskQcLEptHBJQqmwo+0GsJMMuXB4FEGwuhwhcI71rfC4o8ewiVnu8J7qWrCXj0lwjefssI=",
            "dtype": "f4"
           },
           "y": {
            "bdata": "jOXGwgDj3cAA+Za/fiaCwjnuRcK5RxfC9o0Ywu10scLAMC/BnDSSwuCxP8JwbKjAQLDov/yM/MGH42PC8tDFwgCijMGOfh3CSdFawoeYRMK8zMjBYrSnwhSNEMJnLmHCZY7BwnB3lcHbT4rCEJEXQWbvQMJAhug/cnSkwqBUtcFAQXbBx6euwu3smMIUKILCgNXuP2AcFEAwYdBAWJeJwsB8TcKgYV/CPXA+wsCxIsAF72XC4fixwu77hsI4JkjBH/5DwkdQNsJNVy3Cf85Mwt1NisKYnujBwKGOP3Gfp8JA0JJAveeYwrQIl8HwWhvB/iWQwphmPMGWi6nCe/gwwmBlicJwtDHBx8xNwlJDqcJE3zrCRNKqwkBvlEATKh7Ck29UwlBxC0G9HH3C4QZxwjgg9MHuNJPCoXlfwqx/+cGnj7HCoGGRwUYYrsLwl9LBHtULwhRmucL1pxPC/u8rwoxOw8G33sXCaJqgwgBmacEGv7vCYf1Wwrh9asHLArvCGEUHQTVJc8ITMLPCfmJiwqUOvMJ+TDjCCeqxwo6jvMJuwWLCzCGewtHcTMLcRjTCwR2awicbI8KQGY/BZAu6wvDdtsLEF9/BV+KhwjzP4MF3NYnCS85qwnAuj8JEy/rBzQuAwkIyRMLCfSXCsHq8QOm0tcKoRQrCGKHBwe3musLQFdLBZEFmwisIbcJJVaTCz0+xwiD5fECgrkVAwGCSwMBynMCgx+7ArkQ0wvBXiUAzn5LCsG+RwE4CpsLQEErBXD3fwXx3pMLgIv3B4EJzwOQw6cHHICnCxK6twZO6pcL4LojCiC4lQWDfbcLpYIrCKXqLwryt4MGJ/53CiGanwUUwS8Ko8+3BnrSCwtEiJ8LRs0PCmveewnjxAEHAwKXBYL/Swad7m8KAMXDCeH6ewtZuKcKYBKJB+DKrwqS0vsICzl/CoKwfwTjb28HK97vCskyIwuw3vsIt8LTC/MJZwkj9mMFUWIfCpe5KwoURjsL43T7BbdPDwihBG8HCtgLCO/lnwvlOL8LYvFTBvPWWwV72w8J4pI7CYFKcwcgO2sHcbuXBtfKpwhDxsMHl0D3C+FRxwsswscJ4wIDBc0AfwqAzh8IofHHBhKiEwoAKmkCY3QnBYHXtwZq8p8JjF5DC4FvGQCu3PsLw+ujBc/eGwpVqKMJAf4PA9Nn4wW27lMIwBnZBYMiswvj4g8GgVExAyBebwUgKnsFwEunBUWGswiyui8GA/DM/IBOMwuDRTcFYKWPBVOz0wTa8pMKWe73CkP+fwUIdx8LYr23BV0nEwmf5tsIWJAfCkiRywvDz3cBMrJnB9rgJwjiaVcE48PjBpTXGwkyItcHQNbDAefh1wt7JpcKgVDBAYAZpwfIoo8LICunBYJrUwIR/jcHF6q3CwheBwuAB08FA+nFADtVYwtbQjsIQGHJBgK1QwV8Oh8Kk3IXCIIEsQCdbYsKkHQvCBKMNwkgUhMJaUATCUKZcwWBnB8LQLAxBiLsBQaOWmsJixFzC9221wsjhh8JAEtFAIHKTwaLCb8JY3QjBKiOBwo2Br8J6egrCiDS4wuAYqcFq+RPC2tIzwkuKlMIKzDvCBjapwscwtcI8AoXCSFVWwlTgrsGWrivCOyqlwkzsDMLgdDnBIAxYwViA6MH9lRHCMJ46wvjLW0EpgqXC34ybwnSbE8KswrTBjC+IwgaAlcLA0fE/EA2uwWgaNMHkepzBFO3AwoATRT/IBqHCrFKhwVtHt8LiqDXCRLmkwgD50MG4KTnBUvWGwpTKlsIyEwjCywhMwmgzAMLl4ZjC6liuwgPZd8KvrxbCnyGDwuhdisEa6V7CfVF/wq9hb8IAdjbAIynCwkBpZ8E=",
            "dtype": "f4"
           },
           "z": {
            "bdata": "SECuQugpNELcJ21C5lySQiCRk8Ays5FCIPs5QHYLvEIYWsRBpEYdQsAzR8CAfnhBGlKzQqROtULoSrNCMCLhQSzJnkEAShU/mHzmQXCADcGAXn5CAN0Gv5DS+kE+vptCBKonQjzu3EGM5mdCsgSZQoCkZsA69YtCIAEGQtRJvULYwZxC+maMQn6qlkIAfDXB4ru4QihUkEJSd8VCkMUHQQCVqMAA5r5BhMxjQmSOgkHSr55C5vWJQixuLEJsh7ZCNC5EQriMokJQw+FAwMnHQWTzuEJgtvVANg6pQgSosUIgBElCsOFXQdiNSEIQuatCGE43QiRPlkLoZ7RB0F7uQaAeWMDSl6dCEOzJQPbUt0K0dxVCqAOgQiDWnELg/0hCAOhqQPSeX0JMBlxCkAi9wEwzgkIkqr5CNH56QlhyaUKACpu/sG6jQFTYDkLofZpCvNM/QuA2QECUiHFC2p6CQn78lUJ4hAVCuFUcQcAtBMBk2ghCcNevQPpIr0I8mLBCGJ9kQlBkuEJQ0qxCMGGwQgA/W8DsZJbBMMAkQpw1d0K8cdhBYJo/QaAwHEJYmmtB8NfYQaCAKUCAcZa/sKO/QbAfd8FItXdBQKqsQqycxkLcoAdCZK+yQaC3YEGoecLBMDsdQjLcmEI++cBCBCQaQsCKBcDQWApCpIGCQmAM9MBYqnJCYGajQu6qoUL0hLJBWJqQQsQnXULaEYxC6qmBQohuaEIIO9lBAICAO4RvdkJ4SwRC/JeLQgizgUIgGP9BMOrzQCABoEDQvA5B9OdNQgA0q74U82lCUF1tQkCX80BQuHVC1AOFQnRAVkJg1UZAGFBnQjhAccHgv6jA4F5HQCSQnkFoeizBaB2YQRSzH0Jg22LAIGCpwDBrAkKQXbxAgIxYwLB4esFMHBtCvMGQQWYPwUIQQXFCkP2UQoQ4VUI4QWDBgH1UQYAJp0Bs7kRCZNShQrzDhEJQKOtBjODGQa4KjkJCW7lCmOwBQugTlkKAEL8/TEpJQkROkEEgrq9AQEotQhT2pEEwlKdBsKpuQsyjkkEAnD9AqNiHQsTQnkLQMUrBwo22QqCqrUD8xrZBNIOBQqKRlkI8PahCfFweQhxqQEKkXZNB1hi3Qriu0kEYZ0JCUDH3QdzRIkKYyk5C0HVgQkD5zEHgnsFAIPWdQswbw0K8aB5CLP7MQQCHDMDsY5BCOM/CQvDcgEJA1UxCQCT7wBDsc0JksrZBhOccQsz8QULsoYlCEH5nQbSfCEJAQHdBWDSbwfxEcULAvlRBKEh2QmjYrUIEMJ1CuNtSQsjek0JIeTjBVESKQnygK0LAgQ5ByOxFQubkvkLAKONBjIJjQnBBYEEY33dC4OdgQWR+FkLYt3JC3gyFQrCVVEIA1qM+UKGxQmL/o0L8XoJCvAqNQgxRBUKkVSpCIBQ2QWyOrEI8xIxCQIlJQiBJd0F244RC5E0eQhA5t0LQiszAAuySQmjvaUJ4yQ1B2MiRQYAQMj/cMCVC3PcpQgBzpUCIjndCgE6pPxb/vkJIhSJC7FerQQDaHT7ABepBcJShQDgTIkGgZwFB3vuhQpyijkIYdMhB7C4CQlxHt0GoE/VBmnnAQqRgGELA7vFBTj2fQoBYIL/4XTJCkJNrQaC6xUEa47FCTBqHQdarkULY8CzBMH1twZaQm0KSUY5CsvCtQoAL1UEgRdtBIEgIQMC4mT9keJxCYFhFwZRGPEIgLZ1ASMO9QvBmZEIAT4xBOLNhQkgmt0HE8sVC+Pd8QsCrPUFoc0hCvNaFQvA8g0LIhnVBmMBHQkBch0Eob/RBfCBhQjbEgUKkK3VCgFG3QAjpYELKE45C2NKgQfjs9EHcF5dB7EhlQuTTv0E=",
            "dtype": "f4"
           }
          },
          {
           "marker": {
            "color": "#00CC96",
            "line": {
             "color": "black",
             "width": 0.5
            },
            "size": 6,
            "symbol": "diamond"
           },
           "mode": "markers+text",
           "name": "Cluster 2",
           "text": [
            "C2"
           ],
           "textposition": "top center",
           "type": "scatter3d",
           "x": {
            "bdata": "meh5wg==",
            "dtype": "f4"
           },
           "y": {
            "bdata": "v8o/wg==",
            "dtype": "f4"
           },
           "z": {
            "bdata": "sc0iQg==",
            "dtype": "f4"
           }
          },
          {
           "marker": {
            "color": "#AB63FA",
            "opacity": 1,
            "size": 4
           },
           "mode": "markers",
           "showlegend": false,
           "type": "scatter3d",
           "x": {
            "bdata": "lI/VwcNKtMKAeR/B+cKwwnRci8HFUK3CqTCfwhAH4cGsr83BonWhwkCXgsIbIrfC2BFKwXA9pcEyGxnCcDmAwmTFqcHvToLCSIwLwnwDg8LZfBvCUxybwusSiMKnYVPCdGa0wlRLhcHQ0WTBAcVXwkIiDsK0TnfC9KwEwtaptsLmC7zCVFPjwSyCp8FJP4jCUryAwpKaa8J3a4LCg72Mwjt1nsKY0zHBMSG/wryt6sE7IrbCNIjqweqql8LA74vCHaMowqiD28FuGIjCxeJZwgRkj8GDNFLCQsSIwn1Hj8LRJonCM0O5wl0VZsJHZxrCCKLVwYtbvMJHl3jCa1OiwlC+nsHuWKjCTnB1wsIUUcJsZ7PBhMvLwTgAOMJez4DCkryhwsVBgsL2vSvC5tcAwsWZacJa/qzCGCwgwU88GsJgt87BI/NzwobhkcLm9zfCGLU5wUTGqsJH1sHChpqywpzRQML8eoHBmoCowgJsBsJyw5fCuIloweGVwsKSvpTCALHnwU46fcKAeOfB7oIGwmPoV8LLVlHCpoi1wi93bsK6upfCQy2RwvVCxcJiNLbCuP44wQxSqsLKWnHCHNXhwTQ5+MEvlqLCQ75ywmxfLcJo19zBPZtZwsR3ysHqeD3CBtsfwtYBRcIk6+DBSyO3wtA+kcL4LB3BeUq0wjzZYMJYjOHBOddywpDGnMJQF5bCapBZwljkVcFF1C7CYW+Xws0jrMKQOrrCtvKXwgb7w8K+3W7CsGS5wTWOYcIlUsPCTMSfwjcou8KYJ+fBdBIEwj6VrMJgEVbC47eHwi4dv8L4A6vB+1w1wnCelMErIE/CqDJVwmDK/8FwTXjBq8qLwsxlKcIoz6HCzYgnwurQpsLmh57CWreWwvxlkMLYNqjC9cSSwh9NNsI0yijCmIODwhJzVsLJuCfCbQq3wjKtssKk8Z7BpO3bwaRBmcJ+toXCIJ6+wsOLusIY0L/BA3+rwiEYeMKtI8LCojHGwvFdLMKyN1nCEEf8wRgKy8FokMDBRv6ywuttF8IcyQHCb8okwt40qMJADVvCNrezwmvrgsKE3ozCzbe4woHyqMJtSD7C+pUowpySk8JBqYTCjwU2wrnplsLLQFLC2MxMwdRDvcIcINrBZiIrwrcfxMJeRQ3CC0a1wnzmcsJuPpfCy28wwnhGbcGoj4vBsxYqwvjkpsLwWvPBmvmJwgxpi8II3KvCqMogweejGMIOk0vCzlC8wjuYUMIP8a7CxZ6xwjvYwsJC0oTCgDwHwmKlusIsIGnCHV6awrpwvsIntC/CwRpwwgtSR8KmHTTCaGzhwa6gZsKYfsTBeL4LwvLGfsJIhzrBwE3awFiUBMH+Gz3CcYNDwik5ccLExaTB+A6DwtQCucLPS2jCoiekwtcAVMLIiVbBQF6JwoCcv8F2yijCMMKvwOovS8KLv4LCXmWxwiif4sFcH17C+jFRwnwwCcKr1LXC2MkzwtF4w8JS1SnCcqSnwkQTscJU3brBPt2KwhOfJMK32ijCHKLEwr/OosKTS2TCcI6+wJABpsFKmgrCWHP/wfo+Y8KIWrjC0vWDwhTZBMImZUfCegYDwuavCMJWbcTCTXIpwviALMLnZT3CmIxCwWJiA8InbpTCo+eowl8cl8KCI63CLIAGwuScwsEJaJzCeScrwkClS8J06xnCuCP9wWCpUsE88pjCi42BwpPaS8I84BzCHR2ywteRKcLGH8PCYDnBwbx7UMJENrnB9E+Zwo42JcJ1dnXCmPeDweaTH8Lj4cHCqkSrwrhpmMKdE73CDICCwqDEhsKop0XC1gZBwkz8lcIIfAPCsG+uwr58lsIIJj3BMhU/wrHjj8J0m8bBMDmwwQfoZsI=",
            "dtype": "f4"
           },
           "y": {
            "bdata": "ame0QuTqoELKDZlC9mqZQr5BukJumqlCQEYOQjKMiUIETbpCPFSFQkRnp0IoOcFCHFEJQlAFUkIa6YpCaOXAQpgOREIc2ZpCmHD8QRLxwUIs1KZCRBZHQijePEEQA2dCfiGNQlzvPUKIC3FCBF29QuhowUKwkSJCmlWUQnIFqkIMh61CKCWEQhaJqUJWQKJCxvCHQgpzsEJy6YVCdGqxQh7/jkLIsghCWHy3QkRKnkKyHKRCuL1LQSClo0KYy7xCXAc2QkzHjkI8fVJCSA14QaA4xkEwSgJCKDiaQoS+l0EsQRtC3KaCQtDuUUK2QaBC+GENQuwehEGQ5StCKCMdQUZ7vEJEoJhCuHeHQkYjw0Jkq7dB/lqOQjYBmkIgpZFCCDJGQmRMl0Hgt0pCMtq7QhTSAUIQ1B5BuPWsQpiJMEK0KRxCAGm+QrwZsUIw5whCQBr7QbzIfkJ8VhpCsJDGQkQuYkI8Q4JBAHoLQKr4oELgbf5BqDhtQqZpvELQvGJBFP1eQjgqK0GsmG9Cym+qQrYWvEKwHqNBRO6JQujfgEJQy15CoC+vQpBYKkJkiLRCCMLHQeCMjEJWEqRCLKF7QkAr/0EAUxY/aDo+QkL9rUJwYFpCYBKzQpiKuELwSONBzD1bQhgKBEKUULlCJJ8nQkLshEKgB8ZCcCDDQvSxu0LUd2hC6NlXQuaOskIcEZFCXlrDQpgxvEEgzUlBXPwcQmCPQkLItMVCyMoQQho+k0K8gC5CIN0SQoRVA0Koz/BBltqrQh61m0ISq65C4AVwQsbzlUKgO7BB4qKXQrwWlkIsFU5CcF4JQjCdZkLugKdCsNPmQfJan0J4JvpBQjTBQoRWpUEoNzRCJpeAQvCHoULsOVhC2oCiQmh9dkIybZNChFLdQaLqxEKqtJNCxGC7QsSbukLy3YRCgFcJQrx9pULUI7lCpICKQhy2I0JmabFCWLBTQrBLX0IcALFCwAxLQtjMbkJQN6lC1DS+QqYOhELQLKhCYL4tQiqYvkIoF5BCssCYQoLrv0L43UdBmOMdQtS2ykHGuJ1CQOuFQagr70FsuK1CmvOeQtz/TELkwQ5CcIHwQVSdV0L4ViNCFLKnQmCuHULk9qtCYBQGQlA+NELgdY9CFDcxQuCcd0CMiGpCRFqvQsD0fkGa7bxCNiuTQvAEP0JcbwhC+NZmQjSdnUKoL5ZCnCAuQnhJSkK07yVCpNypQuY7wUJegZNC7tzHQuoawkJ+laVC2OZ2QsxCvELMr5dCuKutQcotiEK0h11CWGmmQsDLqUHE6X1CdAp6QljiaEKQy8dCkmyEQraSi0Im18FCCCp2Qq5HtkIw0t9BlgKrQsQEmkLomD1CqLF5QnwMLEL8QnxCsNZRQsiHU0K6a8dCtgyfQkTvgEI0hCRCaNT7Qfy8L0JwWplCsGeeQXySv0LY9CdClDg4Qtqmn0K4XkRCahOMQjTRHUIIyTpC0EC3QSRrKELwAKxCrDhKQogfbkGY171CmPahQkD8OkGslL9CKFYQQpKhiUI2PptCUBVZQgiOWEHoW5RCAJZWQlQEo0J0ylZCZPSoQhB4p0JkpwpCGLCzQmhMrULub7FCwANsQoAqJkKQC/JBHP+HQgzVV0KQV4pCALKyQhBF2UG8UkVCELdhQnb3l0LYEC9CCOQiQngtpEJQpehBgFyWQnpBgkJMgb1C6hmjQgjGnUKEsh1C0tKKQrgomEI6YsdCpAsMQq63gkKgMYRBxD6PQgRbjEJI8DpCCuetQo6phELCRKtCmMS0QuBf0EH0NR9CwI6pQsB/xkIUdrpBUPS6QtgyRkLIIT9CqDnXQbBNIUGgMgVC/KCIQlyiwEKGSo5CqC/BQUAFYkI=",
            "dtype": "f4"
           },
           "z": {
            "bdata": "CQOewqTbusJmN7fCoetwwlzzw8Lkf7LCQBWfwoRJ+sEvJMDCSIYAwtOqn8L87b/BItw/woipSsKGWwnCsJefwpbwi8JsmqLCNCqMwgLjA8LxK57C0xezwijTn8L0pR7CvHMzwodnMsLgUsDC83N+wuq/fcI3T63C2A9Ewi0TY8Iw6IfCRGIiwm6Ex8LmfaLCN0lPwjwB48E/TLzClhJEwnxTFcKqBkzCLFIdwpJqUsJRpq/CAqujwhwWJMIKTzjC8zJ6wl+SmcIxvjPC3rapwoeFVMI0gbnCJjPHwlCwscKbt7rCbdeBwrP/bsIEqLXCHPqcwvO8jMLpBpfCrpyJwmb9xMKATtvBBk3Dwth818G0I5vC5f5UwhBxxMJQoYLCnDSOwp3NY8LcBbPCdomwwlk4TcKetKLCxMJ0wu9UmcKCX2HCHC2twkzcCMKLB3nCy0GQwulKvcKvT6vC62dqwto+P8JDn2nCiXLEwusJsMJ592DCrj+5wueAh8LrTX7CEfwnwpXytsKJBSDCDXWkwnzQasJkJGvCJnaQwlavKMJ3R7bCMgAdwh1LOcIIrvbB4wRSwq3dksJr553CMhytwoQbacJQKZ7CueGCwrk6ssLUAT/C7aeKwvk0R8LeVE7CnA4awpq0j8JgFZLCfmKiwm4FjMJwYb/CSH6pwuLss8Id/yHCVSWewhn7HcIcUXXCo62zwhint8IYiIrCYzSMwtOTUsKnxXjC5A6Twm6JhsK+2oDCGoS6whrCq8LyzJrCodKPwkoPj8Ian73CNpe1wvQR9cH0OmLCcApuwoeGrMJSdKjCVtFIwgh9jcJiaMPCFm2SwlI1D8IdzHrCPHO5wmZbiML3MWfCSQGfwmePGMIe3bnCtrCIwqwDJcJwWQrC2IPCwnjll8H3Ha7Cyl81wlCjwsKWLw/CjyeTwpOmucK+QinCLhyEwkMvPMIZpIzCrqc0wpDDwsJeqLnCldRAwtKZs8K0LdLBKka1woixlMK9L2bCJ6mbwu0vFcKDspTC8s17wsqlt8KDvW7Cet+Pwsq8h8JJN0PC1zV0whkeb8Jwl+/Bqn2IwuyOnMJrGU7CO+DHwgxmt8JVvEHCnJjkweTLmMJkWoDCS0vDwv4BqMKnQDfCRyK2wt6+s8LqrCnCwk80wrZRk8LgjZ7B5o+dwn6nacJk5bnCBlQ6wnG+lcI/asDCFlR9wk/rZsJ8raHCnRHHwn3dPsLbdqHCHNeewegZdsLHA7/CnAmNwmIul8IzlhnCMvCNwtiysMJZ4zTCbrqswqiKf8I30yDC4HW9wqmTv8IeKJnCdL+NwtKTXsIa4YLCv+1PwnzL48E0NpnCj9WKwuXJesL2gLXC2uI9wk5rwsKmfnDC2KA+wmy8s8KWCCHC2B2QwsmaosLeOZrCadiDwkFUh8JjIonCnFCpwnApu8LAaJ7CTbmbwiZkq8JrQMHCUjaWwhm9bsJUODvCgAWuwkX/vsL47sXBw9tTws1UpcJ4MgnCz5ihwsvViMKUO8XB10tQwlpnwcLpWIzCxnSswmZ4vsKQIqLCeLSFwul7ZsJL+CjCDvOZwiBZk8LYXWnCKkDCwigJDcLMsgvCGDtowo3uu8LGWGvCm0qTwix3fcK2k5rCkC7AwqvTdcJpC7/Cjo9Gwqh9NcIKn7nClg+Ows5xicIYzU7C+OB/wlhno8Lw3x/CkwGvwn9JasKL46nCAE1Wwh6VOMJY/ZzBCg9pwvNso8J7mLnCB0xvwnYNwsKcekTCl6YywozzUMLPpcTCZpQLwnm3b8LWu0fCy13Cwm9sncL8IYvCQZxYwsAbZcImonvC2oePwni/pcL9L4PC7QfEwskeTML8YnrCvUqQwgM3XcI=",
            "dtype": "f4"
           }
          },
          {
           "marker": {
            "color": "#AB63FA",
            "line": {
             "color": "black",
             "width": 0.5
            },
            "size": 6,
            "symbol": "diamond"
           },
           "mode": "markers+text",
           "name": "Cluster 3",
           "text": [
            "C3"
           ],
           "textposition": "top center",
           "type": "scatter3d",
           "x": {
            "bdata": "Uytiwg==",
            "dtype": "f4"
           },
           "y": {
            "bdata": "YrhwQg==",
            "dtype": "f4"
           },
           "z": {
            "bdata": "ghWHwg==",
            "dtype": "f4"
           }
          },
          {
           "marker": {
            "color": "#FFA15A",
            "opacity": 1,
            "size": 4
           },
           "mode": "markers",
           "showlegend": false,
           "type": "scatter3d",
           "x": {
            "bdata": "FB7ZwaKvhsLAXuLANRS4wusMdMLwvANBQGDXwUElscJn5F7C4DHAwhgoGcGF2pnCHdqVwixbtkE0o+7B4BN5wka/UcI4BQxBmXYowpdfucJchd/BVNDBwRzO3cFoZrLCsZ8ewjgV1cHG4Y/CdOjMweYxecJm9xzCgDHPvxI6xsKDL7zCANhXQFz2ssGRIaTCADibPVljUsJORJbCsCiqwTmwX8JgliFAC+FAwv/bQcKAgZG/KEp2waZYlcKAltrAqNBqQoq/McKAk77CYCv+QMAPUULM5ffBJJ/DwcdBSMKhw7jCzBv7wXrHCsJ8f8DBpnoNwkzFhkGAp54/EF9FweRcScJsO2XCUKVCwR6yNMLgxepAv/dUwoAwUUJoVqLBjFO2wuSBikEcM9jBtnJJwvEFtMLJqVfCJvRrwvwQD8LQ+onCG2eFwsgQDcJzWLnCGs46wgAGqD90p2jC59BLwm3ZTMIwznBBeGFKweFwR8J00JbBfCEPwnC3R8FVp7TCyVaDwqidCsHMGrrC9XZ1wsAR1EC3oaHCsgg9woCDfcE+jwLCGIr3wYzPNMKggEDAgKsjQXBo3cGlW7bCk/WwwrG0tMIgdkFAnAnWwWRme8KwIQdC+JIOQjSwqMJPdZHCgG5TPxdEscLYC1VBnauEwu96gcKg5GHBtJQpwgCTf8LQ5LhBTfB4wh4PFsJ4RC3CMHUMQePSOsLYhPLBIG0mwAPtkcK4ymdBlBRBwrASb8JSwFHCOkArwtgKs8FAdsXB8byQwrhSOsGIzgLBsMGgwZRqyUFYuZnB1JWnwucGFcIUvQzC5dWjwoJQEcJz+nbCxkpFwky1y8GakgLCwJ1PwXwkBsK6vYHCeDUQQXqvEcLwWt/APDgNwsWPFcK45DDC0A9BQWCHhMGlH6LCaFFbwrhVL8IY8IJBDnwqwmgFucIjkovC4lAIwgAR+T/c+aDCAOeDQBgqqsKlCMTCaLyQwugjicFoAy/C1g0vwr6bpsKtsLbCk+pmwv7vLMKMe4TBMcu+wqCJY0DQvuXBQ707wj/5ssK7JavCEHuuQUyiUcKJt1TCgKLEwGC8EMHl+afCpN8bQk5PhMIsRxrCBEqDQdjABcKwd7xBkNK9wWhif0GsAIHCTHQMwvbBM8KP7jrCQOV8wgDgBr/AZ6HAgC5awHs/rsLYeEnBCJfOwRyATsKQpQ3BJJILwqh1lEHs88HBkBQKQt5Jn8IKZ7vCjCfOwcaPHsIA8g5B4fUxwsAUFECLr8PCAA7KQOo1psI4RYXCtEAQwonbTMJtiEfCpFSTwgzKd0J5jK3CkA+uQBxqL8IK/3LCSFMZwUyj2sGAP93BGuowwqAS6MBUEZ7CgPOrP7k3NMLXCaLCEB9MQqBjocDMwbrBtMr9wQDYT8CMDlPCs9Spwj6gg8IQ05dACpAjwtAu1MGgOmXAUPXPQNDVD8GopcHByEopQbaiucJ0DLzCENLSwWgoIkF8jQDC8dSpwggtbMJ4WZFB7YNswtXeo8LAjEjBIPn6wXn/gMJCdnXCIJQFQCeutML4CLDCLyxywpRWpcLk6urBQL8awNDSssKU4y9C6JOzQYAePkHg/55A/KgBwntWZ8IQ4nhB/uqGwszUtcFYqXRBqDBjwnSsUcKfvbjC1uUFwvQ1o0HB1XDC8KSLQLnIiMIsRMjBZcgzwh5cDMJ74cDCfLSYQSLuiMJI7cXBADCJwMPjpcK1gGTCLLFHwjDbEEFQk/bAwCF9wqPztsLOLILCkIWqwnCO78Bo+ZjBVC+/wpTizcGIiD3BiCglQcYAtsKqkl7CPLhMQoKYdcKQFAFCGNErwmlXlsKoLJXCUAiUwqhKaUF/mRzC5f6XwprGvcI=",
            "dtype": "f4"
           },
           "y": {
            "bdata": "UM0LQQRtgkIENMdCykiqQpgkfUGELrpCkBvpQaR8okJocMNCpG3YQfwgxkKolZFC3EePQsCKvkJkfi5CNIp+Qn4ngUIUuUZCMlC+QuybY0JsomxCHOCLQvRF0kHYLHhCOoGYQkxCxUJMHzdCAAZxQchL6UE8ukdCaOvaQZTTO0KQAXlCsgSqQsgAokLIRphCgs67QigsDkKiHq5CmNSKQrDPdEHSLZ9C8CS8QRBwIUKosJZBUuDEQiJpsELcn8RC+vK7QtzmCULYpapCqE63QqjwhEKkwEFChJrEQixYkkKY8nRCDDNXQvAL80CwXE9CEB64Qryop0Ic/B9CipeNQsg/ZELYtZxC8B2ZQmj6e0Kcr01C2KJ6QlKtwkIYq+NBjiewQvKbjEIISa9CoGQIQlBw9UG+m4tCmNOIQahn90FcTxFC+P1JQRgiXkLA9ZhCzLI3Qt6VlUKwRHZCGK5RQgSVB0JcMRJCZE0UQgDMOkKK7LBCYHIIQUQxuEGsdypCepSaQjBN7EH00X5CwLymQigGKkJgbxdClHVmQv4jsEKoOsZCeJyjQQzjq0FY/IZCEEF0QiTYl0FEERFCZMR7QshLNEKgWVBCxHuoQgR9d0K0ZVxCZvChQkxki0IgD51CGkS5QhB0HUJCZr5C/LqVQgz7NUJgMTJCIkKaQiiwwUL+aolC6Cp4QTCVAkEwF1xCDLhrQiTCd0KGArBCVGmuQogfpEJ4mXVCtOQYQh4uxEIigptCiIrGQgyfukKqXppCtIpjQjxZuUJIyy9BQLv4QaRdZUJgyXZCXN8bQmJml0JINkpCHIiNQuAnr0EU5RdCVH6ZQoizIkKEEgpCVGa5Qqjf70FC9IZCUJwGQvBDpULwP/xBTFB9QjA7ZEKIwfVBtj+mQlCMBULQH5lBWOBBQu4MvkKUiihCGJs6QYI3mUJwt35CcP0wQgpqlkIYR5pCnAWyQVR7uULWpo5CaK2AQmTbtkIQ95BAUDaZQtTbUEJuDLFCDHpsQthzBEIghIVCIFmgQphQD0KurLVCzJItQoLUj0LQwKFB2NLGQmjMY0IcMZdCZGVVQhj4j0IqP7JCSvCjQnB19EFgx55ALDjGQsj8TkKYgcJCXga3QuglPUJSz5xCrPzAQuQ7p0KMr8ZCLLppQl5nw0LIEBdCit+pQvxKfEKMsz1CYFiKQaBFY0JWTppC5L8hQvgvnULktjtCjA5ZQhbbwkJEPblCYhbBQgCswUJm68BCWP7dQXQ0ZUJggb1CEGojQgo/xUKcF2NCZDrCQiwLC0LkII9COBp9Qix0r0J8R5dBoMWVQuxBL0IwD3NBBHCvQmD6mUC6mpNC9K05QnyeBUI41KdC5CpLQrR23UFkNR1CCsajQorFhULIW1NCKE5DQRyU3EFkSrtCtOELQsC9okIAiLNCVqTCQqiqgUKgFbFBqp27Qkw1m0KIJGlCCnOBQsowkUKUoShCELguQozDn0IiKsdCYHQ/QrTpV0LYzgVCIiOPQiiip0IIp11CfGE9QgAnwkG4w4pC9vCRQqgIDEImFLtCIAsrQZJFmEKsbitCOFGmQiDXhEI49I9CoNrEQkRLTULKcadCiGmiQrBgYkK4UuFBuDNUQsImr0KuvrVCfJKjQt5ctUJUgCVC1CGjQqCmo0JoZvlB0sWMQvJSgUKYvwdChsOpQgSdBUIo2gFCkoaoQqqJtkKeD8NCoCKmQoCzaEHcvVxCcjqDQljcxEKugppCEDXDQgT8w0GkOXdCvFjXQZrzx0LcNhVCcBLEQkD0REHUdX5CGElnQvyW2UFkljxCELOrQiAgnELufpFCaPWcQrxmwkJ+g49CSJ5BQohS50EwusJCHBvVQTAkoUI=",
            "dtype": "f4"
           },
           "z": {
            "bdata": "dqKVQlyNEkKeY5lCuIkVQtiHxkIQIsNCKIiKQmhErULwAytByk+/QrKYi0KapJ1CoOYdQgy6cEII6yJCzou5QkCeu0J4BVtCjJVuQvo+vUJ09X9CCA3EQtiXR0IkSXZCbK+KQRJRoEL4OVFCUry7QqK8g0J4mNFBXoXFQmDSlUJsoSlCpk+XQiiStELcSzdC6L8xQmSpYEIU64hC2M6PQuaIrULiH5FChK6WQsCfqkLAzIFCmAp9QjLzuUJI6aFC6IC6QrhPfkK26KNCqEqQQjyUw0KYl41CrNHHQjTqs0HcXCVChEKmQugKb0JEy5hC/FgcQi4vwEKuhZxCMC4LQrhrVELAhqBCzLJiQoTvHEIiurhCPJyFQpZ9rUJOgYBCTsiNQvTQqEJMIMVCVCR3QrDKrEKARIlC7OOOQtALnUIUUrBC1qCqQsCC8kHmi5RC+ACoQoSbPUJo+GVC1CKqQpg5IkKUAIJC6PQtQnzrs0JgTzVCPoegQtrgt0I8mJ1CRNFeQmrSmUIArUxCzGi+QpYvoUI4xbhCXr6KQrhtOUKqPrRCmPEzQvIrtUIUQj5CVDXDQkj5nEIk7sVCLl+bQhpsuUJwtMRCIIAUQlglB0KGI6hCSELGQvZgoULYC1xCVD5qQv4TlkJe2oRCcDb0QbyqZ0Iy1LtCllqIQhQ3IUKoLolCkEWcQtCdtUIol6xBUimMQvrtkUJ0FTBCGAKPQsCCAELwW6BCSBwYQmAdO0LEG0lCMCgGQd7xmkL4YJdCsqO/Qug6WUKYXThCxj+IQnrsk0LklRNCttiqQrDQCkIqjMFCHDJ2QoSKe0LUs0pCzt+rQjICjUKgDalCwIsmQghbmEJMGzdC6GZzQgg3akJ+kItCaHt9QY6HmULWuZRCEtCVQjjwGEKaBsRCPEylQhinWkGCzL9CCNeaQvwZJUIYQqtCRF0TQlB9nUKYjGdCGMSgQohMRUIoQbpCQLsxQnwS1kHSRsJC+NPpQarTkUIy3alC2CqOQuzsxkKKtLtCrCywQmx7iUK4HmVCQoatQkBmHULYSLZCjG+kQoRds0IorHRCQvC9QshlrULWubJC8LKgQg4chkKMx7ZC+KNxQsiJmUKAEYJCNtGeQsDQfUKsv0BCiPu4QuJliEJWv5FCoAxqQiA2r0Lm2I5CHJyxQl5lu0Lmg5hCOgWJQjipqUKMScBC+lCwQtpsg0Isja1CZMm5QuqjwELEyklCABE2QpDBW0L4N1NCNEkVQpaBqUJEpYlCVmq0QoDSkUIUETZC+EU+QoiOO0IIu4RCFIB4QtD5vkK8pMNCRpaQQvSBZkJupcNCamufQlwHg0Kc265CvBIpQtgBWUKQDa5BpEJrQjy+H0IcVXVChHyuQkQsqULmCZlCap2qQpDHXEKkVo5CtPdMQiLEgEJIPWdCVn6/QqRunEIEYKBCnLDFQmh8DEIclpFCqt+qQsors0JaVIBCKFkjQuA2kEJ8aKtC5JKLQuSFF0LMJLlCTH1+Qigj40FewoFChFwaQgaUvEJ6HbBCagSYQtj7R0IMLZRCEE6sQr7TjUKoxOpBmM2XQkQ+tEKWj7ZCqK6DQtjUpULwVoNCkACKQVj3jUJyCJlCHt+OQuyio0LWZbNCTE+FQZRLekKYI4dCwD5VQuCAikLifqFCfKTHQsjmDULALh1Csii3QnaAkELI155C7IxyQjxui0IYBuFBXBKsQj4RvELEsDBCRFo8QnQcqEKM9CRCjijAQuoakUJEtExC3A+zQkjMPEJEsRBCTJfFQXw5S0KQwnhCMIm1QmS8vUI8zYVCTOa+QnSDj0I+5ZNCXA2eQdzVqUGwpDFCaIC7QiCLe0Iw9jVBipqfQozdjEI=",
            "dtype": "f4"
           }
          },
          {
           "marker": {
            "color": "#FFA15A",
            "line": {
             "color": "black",
             "width": 0.5
            },
            "size": 6,
            "symbol": "diamond"
           },
           "mode": "markers+text",
           "name": "Cluster 4",
           "text": [
            "C4"
           ],
           "textposition": "top center",
           "type": "scatter3d",
           "x": {
            "bdata": "g50awg==",
            "dtype": "f4"
           },
           "y": {
            "bdata": "5vJyQg==",
            "dtype": "f4"
           },
           "z": {
            "bdata": "SpeFQg==",
            "dtype": "f4"
           }
          },
          {
           "marker": {
            "color": "#19D3F3",
            "opacity": 1,
            "size": 4
           },
           "mode": "markers",
           "showlegend": false,
           "type": "scatter3d",
           "x": {
            "bdata": "sL7mwZxtt8FkB4TCKCGkwjHKicJvjSbC0r7HwrUhqMKpR5TCdlmPwhrMv8LlM3PCCoB0wgzDqcL8kCTC2FsDwj0jZsJzbZ/CCgadwob2xsKh0brCDvgGwhxKy8ESJZbCULI5wuFzI8K6k4nCJKp7wsDoq8KpiYfCzoKuwvQfS8LSpr3C69Blwgh//8F3KZbCmNIDwrJBAcI5M0bC0MI4wV3Yx8L8mTXCdHOUwvPtk8LGwEDC/x6kwlISusIXbFnCOIemwVKZjcJ7FoLC7ZW8wq47Z8ISGl/CwrbCwpSA3MGQaS7CgeEawptrJ8L8w7HCouOtwpWtp8Lcf+DBFPyXwqwjo8KiOpXCGYOrwvPinMI3KRzCXMVCwoz9A8IlDlrCkIaxwc7QZsLiSLLCHky+wuDMssL41JLCSA8MwmwKm8J6B0bCoISNwqhq0sGFR4LC3NGZwhSorMLE+MTC44u4ws7uDsKu8A/CFHmBwjg0tsF1SZ/Cx7YjwkKTi8JYS6jCmioCwlL5h8KmuaXClgKVwgDPy8FVqlbCSH7mwW5om8KNQBvCkWSIwhdtUcKihgjC/jhlwtLbtcIZfzPCABTNwc1sGMIZjGbCUpqXwvMRq8J4u/bBDLw0wlY5AcL0yObBX2rHwncvmsJYprvCf95MwjsVmcL0prjClhyBwhXGYcJWD4vCMY6ywiD51MGGgG/CFXF6wmyvlsL/hsHC/OOTwiWceMJD73jCjsiHwimUssK7FbTCdxOpwp36QsKwP4vCMLPdwf0un8LEJI/ByKgywvDyIcK4XZbCzSQSwmxvhcKklKXBnWiXwnwsv8J4ybTCuL/mwdUbR8Ksk6LBZA+dwvPBZ8LfUGrC2/XFwli6hsLazHfCDHdiwkdRZ8LQLs3B3Er3wfNnn8J8gJTCBPeUwutddsLwKP3BlXRHwiMbLMLCW4rCX3+XwlyI2MEAlsPCotCPwoF7vsJe74HCRVmcwjNUw8LrY7fCqidQwuf2csLY5qjBhAWrwYiOYMJ445HC2XC0wh93xsJc0pjCrHCpwUgSr8EecMHCNH7HwlL8o8LreW3ChU3Dws2YosJO8D3CJDfDwp3VsMI+u4rC5IswwlgYfcJS16nCs0JBwsQ0psJuV3bCuKWFwlRRF8IE3m7C7BSswRXwK8ICZgTCWHSMwYsiqsKqCJvCmBF4wUAeJ8JpOofCLn3DwrPUncJLQq7Cz2gywqiyYMJcZr7CuLrcwbkAQMLIUJfCrAyVwkSPfML9nXLCBMUawiqqgMIxebTCpAl6wuyy7MGyhrjCvDqtwoz/5sFsmo7CSyoVwh0ts8LM9DvCjq9UwjK2lMKZ8DnCB5IVwsDwisJW55jCBMqbwgt8SMKy3pjCAMxAwn8HwML6lcPCWy29wkzJuMK1y5XCzHWowgxqUcJaO6jCYrthwo0Ma8LTRLrCRWNtwhqTCcLmw8bCLBX0wYDSyMFvP7bCOYOcwtSU2sFqncXC3nBOwgmpWcImJ3HC+q6HwtH5r8Ksn9fBrB2MwuQFncJ32pbCMH82wqRGosKmFBTC580rwjCyjMI+RbfCV/tKwmCGgsJu5EPCO358wug7DsIGWSbCGDzPwRIck8JvEqTCJYKuwjFpG8L5+LzCbIakwfO9sMLyRBzCwRuKwsxoN8KM8sbB9lmywqoWqMKCPXTCg9e5wqu9bsJ76rfCLKERwsi6isFw4ITCklmAwpfCxsKGCB/CH9i/wkVwRMLCMw7C8rM/wrmXtcIuWKrCHEm0wtDLtcI0jYDCSihOwrKRl8Lw4JXCoqiBwiuDU8LoS0PCzVBqwrepfsKh/0HCgO6YwmclsMI+G77CJIW7wsprccIvCKvC91U/wpz6bMI=",
            "dtype": "f4"
           },
           "y": {
            "bdata": "fJJfQphwDEJgBKbAwDcGQWA3hMDMmUFCqBAawQAYm0Ic+G1CqF25QWjVpMHwRoxC1MIYQtDkJkEoCaFC6HguQQACCL8wNeHA9Kg4QtDdJEJk83NCGJkRQtB5ocBoym1CYv/CQrovjEJoMCpBoJayQqLVj0LwC61CAAxOQeCELUBQVCFCcKCUQhjuQEHkLb/BQPE8QegOFkF4aBtCeEp9QUwUuUHwe9nAnFQvQvR5Z0KQz9dBgNvTPzAjocBMS0tCqMe+QUDrQkKkn4RCMNG8QvC4skK4NQZCQNVzQhitlkGggOtB4HnqQGJfhkL4ObJB2Ny3QpyYt0IYI8ZBiF78QQCaAT9QbfxBkNwYQijNk0GQOUVBsDPCwDA+60GMtT9CABJCwUDbl0FGEaNCEFzdQdiCg0KwyGtCbAaTQdC6O0Jgw7jA4FUBwIRclEEAG4S+GD2HQRICt0JgZTNBxA6HwVjXX0JA7inAbv+uQsDHekEAJfLAsG8nQgiWfkGgyxtCAAtcQoBwD79YXwxBGD8hQhBldsGOBIJCGOjjQQ5ykkJoW6pBgEcSP/ReikEgUO1ALO3KQTAYu0BQcYXA0G3XQYQNkUEg6r/BIGYtwXB1l0Gwj01BMDe2QfQKIULUsaFBONWwQcDdc0FUY0dCuMXlQYApTD/gpWtCOKgJQjDFJMG0HnRCYN60QFThtUFOAZBCwIdkQp6Aq0KA4WbBAEOaP6BeL0Lsxr9B9I9qQhg6JkIY+0JBUKQOQlKfgEIYzifBUOjxQNIZo0KMtxZCoAVzQMj4K0LwYQFB+J31QSA0ZUGIT1VBAE3kQNSHb0JwwqnAxKllQiCYCUK8cbVBwGqdv9g8LkKAdCy/tE0FQuhydUISFrtCuEFFQZZHi0LoKS5CgLP0QehA7EEwPThBoAhCwMDaZ8BMS3FC4FyPQIBpYUJ4JhfBoBQZwNTAJkKA+tO/4F7bwMiJSkKAbfdBNFakQphitEE+AcFCPDA4QrwZKELsNTtCfNUUQnBWgUCAwKPAfEVoQhi54UGghnRBQK4wQGRKEUL4mJ1BUP6YQhThvkIEp6dBiIMuQgDt00DMBX1CcpOHQnx+ckKo6XtCAN69QXCC+sAg/03AAFPaPlBvO0GwZvJAUNUcQtQCgEGgfcVBmOmKQQBt+b9IcfBBQH95QEDGAMAkr89BpMkFQvgoT0EsaFdCPHohQliAeUIAVps/sLDuQWiNTUIUTqdB4IOlQeCiL8GAWOxB3iekQrDdhUJA9s5BgP95v+iEwEHQSrZAmCHJQXSuuUFA6qQ/MEW+QbTwHELQ+krBXCCxQTQIXULE/4JBwI6vwIKzkUJAxj/BFKegQUxzAEIAoPJAFN6OQRxHz0Gg0I7AUE5PQlDReUJ4JsJCmNMTQgT0BEKGe4xClOYvQugCfkKoXCJCUEj3QLj4ckFwgDTBpIKHQrjxfkEEeitCYH4PQRBtLkLE3pBB2CC5QhCKpkAg4zTBbE58QujizUHgRS3AOrKuQiACr8AAyFI/DDZ+QmhML0LQjUhBAN5ZP/ALi0Kce5VC8PBKwaialEE4HCtCQPAZQXj3uEFCcYNCKvyjQjA4eUKY2iVCzBWlQZiKeUIYqIZCEE88Qn4FlEKAuG9CKAcwQizHDUKYrwnBzD29QgD9AcCU4qJBQMZMQJi6qUF4HyZCUMm3wJR21EEgT2BCJCmWQZzZvEEANJM//GdRQlAQp0H49BRB8MVoQszzbUKYuV9C3OXeQWzcTEIAVsy/GO73QUQnWEIM6l9CgH8FQhSEokHA/PlBVNGCQeCV/0C4WIdCvHY+QkCHz0B4py5BIE8KQXBfCEJQL/tA6KFOQtjNF0Lo2whC8g+XQgAuikE=",
            "dtype": "f4"
           },
           "z": {
            "bdata": "2HQ3wSB588C+BRPCUIMDwbiNa8E4YQrC7lVuwoDnwUEAWfQ/CA1zQYwWBcJYzL/BxOS0QQCxC8EU8qnBwNYqwUMMRMJA3hzAQArWwCh0KEIUYhFCKP1ewcCm5r+IJc5BQNW8vwAIR8BAOSLCWCoZQQDle8DQv7VA+GlsQZAiOEFoy5RBQIm8wFyRtEFQ/KbBiPQwwrwepcFsP93BpNf1wVQ/w8FIj2bBbASTwaCS8sEAQYW/AAbVQK4VAMIwZVnBuKCDwaCHZ8CITghB4DsUwYj/a8FAGBrCuHV7wRgZ+sGol4RB8GOEwYD1KMFoMEbB7IKdQRCIhkA4AUBBUrUzwrpeLsKAGIS/9JauwVTI08HsTLdB4AcKwhgFXUHArXtAAHgavwCjTEHAWHfAxHv9wUgZ8cFcsILB5ByIwX5QBcL4gNHBSldPwhxxjUGG/kHCELp2QQQ8h0FHkHPCGLouwRhjI0Fo6l7BYHsGwNSDFcJcq1fCyERgwVg73EGMQL7BwAmUPzBEScHg8V7CeD+xwRCeHcG4BdzBgGKlQMBLhEGoWQVBSAxhwUByuECgJejBIE2WQYAmeD9jgyvCCEwPQdT6hEFM4pDBdVczwny+rMHLwEvCQLCDwRhMAcJQRv7ApKQ+wrB3i8DIhA5CB143woLtOcI4vUBBuK8wwYCK7T+gPzxAAIdPwMCoUEHg8cTBJGuyQYh7F0HYJazBYL6fwMhjSkEUzeHBDOfGQeBEYEAMnmLCVEHNwbz69MGAEqA/BQxQwtSwoMHAqtDBQvBOwrQCr8EYpYTBqB2lQZC6TcHoZNrBDJfZwfzxGkLkfjXCLNDSwb8HKcIgWhhAsNaDQLD3S0HIVn3BMLcFQpztsMGYQDvBlJEJwlDR+0BUyf3BEEeJwaCn0UHQ06/AQAmCwSDbWUDoKyzBsGHfwWCjJ0EueCLCQDlEQIgSE8F0acfBPSUswnCW4EByeR7CEDNYQXgJ3MGYC4pBjGDSQRyTn8E4HRTCZNzDwUB5xED44DTCgEY/wdiC/cGwNozBYUIkwl6/NMKgFMRBxH+GwbBtMUHwFSNCpEiFweCntEBAWFnBsErEQGiYjMH4/PPBgKbgQQAFOcEMZc7BsFmYwFhK6EF4UM1BRAaBwRCwwcGdJSHCWMWlwaDopsGAzJjAsIPxwUBgCcHAjuW//LTdwZIiW8KAeDS/mNOAQXDr8kFwO5BBCP8LwTDnjEAIyirByC2DQQDMM8GoiINB4GlqQdg+rcEmGjHCkD5SQS+cK8IIr3lBX40kwkBu10FAIKu/QCEdwA7JIsIYA2DBOHPrQYwvG0II507B2EHGwQDZzL70ULvBYLRcwXBYk0HAvA1B6ErfwciylcFI6BnBgJM8QQDstL0gjtPAPDbJweC/p0BA4FLA8EPZwGAN6MHzjTTCQMZ3wLBtUsFJBhbCIG6iQfAipkGgMkRBdJbewZApZsGgPsNAAExTvyT1skEED6rBqKRewYhJycGMYOfB8JscQYg9ecEg3pBAYIE8wQCR60EYy4PBXJ2ewYDskcHgSejAJP/IwSRByEFIZf3BGCGBwUjbE8EoKSfBEA6SQAgzT8G45l3B0O+twXgXZUEMTNfB7FAkQsBsE8AAV/C+DLXNwegtusEAJSVAYL8LQYAit0AIRq/BwgYJwlCk4kCwz8BA0DKtwYB+a0C4mIdB/LCTwaASGMFQIbjBUCGmwOQREUIgbOfBCJghQVx0h8GI56bBkPvIQPQeHkIAFMFAPIa0QeX+GcJovjxBQMq5wUBh7EDopRJCVCjAwai/0MFgzAJBDHSCQcAAxb9gB1rA+DHUQZRZpEEPpHbCcOrUwU9vNMJ4kJ3BIAp7wADtAj8=",
            "dtype": "f4"
           }
          },
          {
           "marker": {
            "color": "#19D3F3",
            "line": {
             "color": "black",
             "width": 0.5
            },
            "size": 6,
            "symbol": "diamond"
           },
           "mode": "markers+text",
           "name": "Cluster 5",
           "text": [
            "C5"
           ],
           "textposition": "top center",
           "type": "scatter3d",
           "x": {
            "bdata": "o4OAwg==",
            "dtype": "f4"
           },
           "y": {
            "bdata": "Kzz5QQ==",
            "dtype": "f4"
           },
           "z": {
            "bdata": "WgApwQ==",
            "dtype": "f4"
           }
          },
          {
           "marker": {
            "color": "#FF6692",
            "opacity": 1,
            "size": 4
           },
           "mode": "markers",
           "showlegend": false,
           "type": "scatter3d",
           "x": {
            "bdata": "QA8owLA6CEKMkqBCOBM5weB7hMDwx4NAoKxgwNzFKEKgMdxBcC/6QTxUGUIo1tdBULGnQjS0gUJclwdCzDAKQpgNn0LIHy1C3vSYQjTXeELCr41CuqSsQjjwPUI2yMVCkgijQpAMH0L4Eg5CKmyWQow2RkIk7HlCJBk4QhxamEK430VCQDaGQdhwHcFMwpBBANEovyAoLsBApOg/zFYbQvhCm0GE1DtCaJ0hQuCS3cACScdCKjiDQgxOaEJ0YaZC1FuoQqjaLUKwtV3BjLSbQug/UUHgxmzB/pCnQmRfzkEIEu9BjNgoQogfmELAvn1AEE0gQih3PkLUXpVCeDpsQrhOjEFEY6hCSJ19QmDLtMB2LLNC+El4QmhXTEKgrbtBNLloQsjrIEJsgrpCGHyIQtged0JQ6hNB8HsHwZhut0Iy6ZRC+KfPQRQQXkIYwnpCcAGsQuJCuEJkjjxCvCwAQuSGcUJacodCEt6RQkBvpEJAhIlBUOOIQix1TEIiialC2jy+QlQqJULgDFVArKuMQerKlUKARfJBlNCPQezps0LKwKVCOC8fQuwTlUIUfKdBgG1IvyyosEFs1q1BRF6xQiAxqkKiF7JCrLibQszAo0KcznJC0lbAQhCU80GQyS5BAKGIP+CpfUFqca9CTFU9QgyoBUJs10ZCzIjAQvC2a0IASvk/yOGQQoQirkKqZ4RCgCAJv4CDDMEqtaRCGNN0QmTsK0Ks/CBCGHBEQvZ8xkJy0pdCpBZWQnj5AMGMqYBBuo6xQgCPCEGoi5tCjJecQiRjSEI4ZUVCVJE6QsC79kEgMnxCVGHBQXDmOEHgQC9CXA64QmCcnkGwJBFCjmSKQtwplkI28YFCqM5aQsi0CkLoJzrBeKKtQuim0kHgrvxBDgSvQsAf0D+UaTZC3LZxQgbikEKI+5pCyN+AQvD5jEIMur1BGB+YQXAOpMBIiXVBaHL6QWpto0ICXpxCCM2fQahB/UFctVNCkJF6QWA1ikKslbdCYFOnQSDIk0CW55FCJDWOQsAblsBwArXA/uOTQjzEe0KUoAdCmLstQfrSlkJgdD1CcCtvQSg1X0IA0KQ9gCoKQKjADcHsMhRC6O9HQjSg0UGYSkhChFspQgixWUJAXYhBTJWRQvwIpkK8ZCBCJP42QsAJtEJsn4JCpHqEQjj8T0IOG49CasSlQqAeF0GA/6BCGBu5QtzMokKo+zVCJCG+QQiwBkJ8LxRCTLa6QcATS0BApG9AaJUzQjhecEGoftBBJMqhQQ4xpkKGxLRCVsqxQlDRCMHMfqlCHre9QkJBwEJmU4lCMK6HQfwMY0LUfp5COAUkwZBXEUIgQZ9ASA+8QojaIkHAM2lBrELEQcgPckKSS4hCrgy3Qp5UrEK0X2RCkHBUQYAcUj+cuKZCnBGjQlCvtkDI9k5C4MyoQpa+iULeQolCWK7wQaAY8UGyjKJCYEF+Qmr1xEL4X3JC3IOfQph7UkHMEp5CDl60QlCUJ8H2mKZCLM5rQvA0J0LIX81BKH8vQpbdhkLYKGJCvFytQsAhzkG4AZZCiKloQsCHdEJAHtU/eKcdQqAR0ECsIYxCEBmJQEifDUGkRClCALQ6PmgAkUI49xVCUCXGQNB9Z0Jkc61CqCwRQsI+o0KYYGNCUOSPQgRdNkKAWdFBguijQnyHl0EOj5lCpIGMQrA3BULMRMJCxBLHQni1U0Lw32VBsAzHQhS4tkJwqX1B9NdmQiCCIUIYe/BBZmLBQiiKSsFgDNRBQpKpQqIvsEIgjytAbvyhQkAccEIofM5BsGbzQTQbBEIeT7FCIHKZQmA+2UBcTcRCNMtdQhBxVUKgoq9CsIqWQuiE3UEQ53ZCAIckQsy3Y0I=",
            "dtype": "f4"
           },
           "y": {
            "bdata": "YGyZwuQUh8L04PHBY9SBwkCcx7/g3BrABHGawgK8BMJ/E3bCkNkeQal7JcLp2q7CdvMYwpDKVUHFTHbCLf2jwtImisIWLWDCnXqLwmNCkcLIHZvCP9QjwiTgMsKJ8LTCjFspwrAnicGzpRLCEAP1QChaxcL4av3BINmswuQaiMKjqafCEEuTwqRkDsKkhILCzNEXwsQzisFo/U3CmNVdQZt+E8Jl7JvCHJIgwqp7T8LNxCDCiMdDQVystsHAtebATcbGwj8qtMIQj7vBN9MlwpiSkMLAUabBl3KowhjbnsLtyafCgI42P1CyR0FV9MTCLyK/wstilcLEAaHCOH5IQYvnxsIQQe5AoCW+QC7elsJ4frfBR1VmwoMcucIA0yPBaKFOQWD340Bgao7A/33DwoWibcIU/KTCEfU0wp2Ps8JuDKrC5pOXwgACg8I1YafChAGewsWdS8J0KUjCN9hKwpXAcMK8OSLC7GEjwsx848GY3iTCcHyiwHiEKEFMcqDCK9Evwuis18EGfA/Crj2QwsBncsCDU5rCfFudwpA7o8BApohAWMl0wVBef8G42+zBQBdIwK9SR8JU2vvBzGiBwgA4qD9DMJjCrJZxwoAot790YofBAFLIPwDizr6BeIfCx4RiwhqrgMI4guXBDz+Zwo6gn8K9maHCaikAwjw/qMGMYo/CwKQXQchFecHAfYrBbO2LwbkqX8IY/mXCLNJ9wpAgI0E1a0jCh1Czwsnyw8LYO/PBbbNwwlCvLsHAQ6jBTHvEwTRb18HQnS/CbIUvwk+gFcJZeMXC4xgpwiVRVMLgT1jBy09zwsBmH8Ddvn7CAupIwi4owcJEeNjBuANjQdB6AMEID6DBnYd6wujfncFyzhzCILZtwCmwYMKo9i3Bcv4/wia8p8LocaTCYE52wtRJWsIbUI7Cpma7wlU+p8Jg+qHB4oC6wnULusJUHHHCEHUtwSSctcLAy53AYKUxQPCTO0Hh2oTCeN2vwhiBh0EuQm7CwKuVwvZmncJYVD3BoFOzweY/FcL40GHCMtC7wsLNosI11UbCwqquwsBLy0CuW4LCquOGwnyo08Gz4TTCvv2+wiyAmcGFmq3CirBtwiwHwML9D0rCpQiYwlDZ/cFIfZHB5skUwttmusLq6p7C2fW/wtBY/kCrvrbCFX/AwqAxa0BnMMPCQI24wryEs8LgwefBjMZiwhjqEUGCUYLCb4u4wrdZhMJRK3nCSXW/wgpGm8JgNzdAaGWtwVgAWsGoZcbB+H58wuq6jsKRtL3CjHvHwQB9Yb+UY7FBFrZnwix9m8LAPus/xpAmwogF9MHAg8PAeoyowtaOwMLYgLXBS0m4woXKqcLwu9HArdubwnYAvMKBOD3C4x86wkjWcMGgeHNBKOlNwhRllMF2LpTCVnGBwnrSxsL0Q6vC6AiMwsyxmMKdjcHC/3hawsNHaML4KCDBFAqZQf4VIsIADYPA7+G+wp0RTMIZdxfCpv1swlXeUMLARMC/oBaXwJCq1MGVMnrCRQ8gwmSNp0FYBi5BWfWPwqe9qcIYfBFBRkVtwuRO08EcgubBvDW4wbIQg8L0vZjCOip6wmCUT0CAJFu/hyh0wlxi0MEk3KrCgHcEQCEEQsKjA5HCv6FswphVUUHAFpfBHDnOQZDPWEHgu0tALP6HwbAy3sFg2HlA8CiKQaTaZsLgT77CJOCQwcQp4sFM/YXBtOIFQjftPcJwmAPBIPOcwqLxrMK4FQbB5mTEwuONi8KCTQrCzG+KQeZ6p8K8QLfCsp2hwvhhiEEAdj5AgM4FwXENPMIUOubBaQjGwr92EcLAT/u/IC1Fwm4UisKAyB7CWiy9wjMwo8LwsjbBw4K0wnJvLMI=",
            "dtype": "f4"
           },
           "z": {
            "bdata": "kNmKQcDhvME41f5BwMKBv/CZgsEYoVhBkCxJwZD7RsHw/mbBQA8PQswNEEJE8RHCDLiAQoBTuL8MWuLBZBfdQYDMoEEUSRNCwApLQSDMuEDs9dFBkOw9QpTCBEJiZIJCzPCFQQz72UEk9C1CQLCCP4Cl9j/QfRpBVOhMQlC4hUAUhqvBGMOiQUBu9j+AaT8/6K8GwXxDt8Fgh57AsLzUQXCoEEFY0zFCgEAdQWxgh0HARXhAiKtfQfgkuEHQS4dABD1vQmjvOEGoDVfBrJU0QtDujkFATcxAKM4swdB3ycAoc7bBUC/UwMgWzEFQ7MRBsEGPwQCYJr54vQpCAPdwvzj3I0JQwAFBxAyuQagmhEF4lntCwLwqQFBc5sHI3LVBMJiFQHC4vMAAnq1AkIv4QWivg0FIH9/BoJt2wCxqkkGQ4h5C/Gb6wVi5jEH0dVZC9HqKQWx2E0Jk+QdCgLihQJh5FkJIQbNBIItlQnhPdkIQa4bAyI7WQQDIBb90J3hC8PFpQehc60FULbFBIJcJQkjUckK4C03BMBTjQVxrZ0JQbVZBAGZRwVAe/kHg2HBAAHe/wdxKBUK40iRC8KAkQUBaL0BSvIBCGCyCQXwmV0IwV9pACEB8QcBP8UBwOdfAlH6lwSAswEFAP4dCsCBtQaS+AMLw6m/B4Jf5QaAFc0FAN6lAyAVTQrB0WUK4qNtBsMQawYgDO8GknYRBpDEYQiDcSUIg38BBcPEQwvwgwsF4gU5B8Ib6QVABI0Hw6MjAQKcdQmTvg0E8PYFCFPZWQlAKikFglCtAdK0OQvTEi0Hw8t9A7KSbQYCOYMA0FqRBkNwqQYB1RsG4RQpBrKkbQhjLGUKQrjfB+KFGwZCRmsAYJgjB7EG0QUCPL0GYzElBgHTvv4BI5cDgxzDBCKv0QeQ9P0L8HcxBoPNRQpyrQUJY+H/B4EwAQWDf1UFgoCNBNL+yQcStAkKUcwpC4B6cwDTjOkK8gJJBONHqQcgGiUGgNWTAkAYjwRBepcBMbV5CJD0xQlgb/kHQ/pdABFEpQnz2psEgYrnBAJrjQUgl7EE8VTdC2E+GQbCAlkBwaAZC8BJ7wfDYE8Gkx7BBGD2dQb4nAsLUh8FBAGF9QezRCELIRaRBgOtiQUBuTkKo0DTBAJ38PjgtT0GIbvFBSPG4QcBwKsBUeaBBADzyv1yLGkKgV3xBKOHfQfQt0kEQ4gJCmBrfwUC9oMDIpNbBZErewfA1nEGwbA9B7AQKQuA8NEAgB71AWEEXQlzzgkGQAShBEFLyQCgx70GkwgBCyCp2Qtwz0kF0P3dCIFv1QAzbg0F8AYBBUF/FwMBPY0AQD59A3IiqQZjz90F88YvBSC9qQdh6C0Kg3zXAcLLtwOw1tUHAuC1BuOk2wfjLY0EwlHFCIGmRQfBezkH44hvB/AkVQlx2MEJIi+bBwHHJQbiDO0FYUMJBABC1PIgAaEJ8tzpCcOCFQIC2yj9c9ChCYGtrQsDEjsBgb3NBZFUeQtBqhMFs0stBnJyYwcRwSkIQlPZBwIt9QiC7GUHonBFBoG0tQJCFNkLcjKJBLHUhQugXfkFc1UpCuCMHwQDeQkAos/pBnHC5QZgbHkFADgpAAG0MPwB0DkCgIRZCwA8bQcjdHUEAY4E+/MVgQjC+u8CALv5AwNNxQJwUIkLQg09CUDt/QhhcgkFAJzdC2imGQoD41r8kiLBBmDqLQgwwS0Ko3udBOKljQrWaEMJ8SYBBGIsqQlQyi0Fs1cvBdOEpQsBf6UBAp2LAKFfZQaw4uUEAjSNB1CHLQXgNOMGc10BCfPGXQWggcUGQuTFBINAmQIA54T/w6mtC8AcHQgB4Q8AAsLA8iHYKwdhR0UE=",
            "dtype": "f4"
           }
          },
          {
           "marker": {
            "color": "#FF6692",
            "line": {
             "color": "black",
             "width": 0.5
            },
            "size": 6,
            "symbol": "diamond"
           },
           "mode": "markers+text",
           "name": "Cluster 6",
           "text": [
            "C6"
           ],
           "textposition": "top center",
           "type": "scatter3d",
           "x": {
            "bdata": "rbRDQg==",
            "dtype": "f4"
           },
           "y": {
            "bdata": "8lMrwg==",
            "dtype": "f4"
           },
           "z": {
            "bdata": "8wiKQQ==",
            "dtype": "f4"
           }
          },
          {
           "marker": {
            "color": "#B6E880",
            "opacity": 1,
            "size": 4
           },
           "mode": "markers",
           "showlegend": false,
           "type": "scatter3d",
           "x": {
            "bdata": "smaPQtS1g0FMyCJCouusQlANLUIkAa5BeIrEQuyPBkLwSV5CQI2MQciupkFY7qVCyN+eQnhfG0KO6o9CCDfAQVhvZEJoLgxCRNkaQloogUJo661CgP4mQpzvB0IqFIxCyDUMQqDJnUJYPYNCJnqbQi7FjEI4OrVBjLuSQfAUGkLKeqpCfGAIQj6em0KchB1CiLpuQkyrBEK0N6hCtBpYQngyZEEEoIhCfAkQQgDV6UGc14BCSOa4QpSfuELg66lCcLWsQkwIs0GEUQtCGO6fQehVUkLwOQ9CrJCxQXwHlUKEkZ1CVPtwQnCeSEEwGfxAKK7nQdC59EGQ/LVCCAkZQihkZUJwDqFBNDozQpqol0LwE5tCXP8/QjwTbkJgfxhCdqiZQhhqd0LMmLxCtHiWQZ5OoELUq6RCuCCNQkbnjULeVadCFAo+Ql5FhUI4EVJC5EkJQqyxGUKK8ZdCEDe8QcB4QUH4AKpC/JhKQuKnvEJsKMJB8Ix+QYA53T/glkpBrDlgQjgmZEKALPdBiHaJQrp6oULwY41CEGK7QXiQkUIwmp5CgJeAPwyLgkI0Z0hC6KeMQrjkUUIuZ4pCBl66QpCYrkIgEJFCbK48QtjkD0L8IKZBOMPBQcgRmkIAdnBCoDDLQSRfgkE6CL9CbJ47Qrj4TEJUwXhCGGgFQnjNIEL8VsFCEDyqQLIfp0Igv3FCyDceQiYKjUI4KDZCEAN5Qmjr4EEANn1CYFVmQui6E0K2JMNCpPMrQsJIqkKeHMdCzpm7QtiiikLA9nZC9AZfQgqzkUIAoZdBMtbBQiBukEKu/MZCft6UQojQcELkbj1C4CstQmz7vUJQC1BCKBTLQYCtt0JUESFCuFWEQih3PUIuc5pCfDAKQvQcDUIAGBVCyPN+QozvlkKMQl5CuL1MQhhJm0L2ZrZCcqqjQhCgcUKE9aNBmJToQRiJmkKQi2RC0M3nQeh9BUL06alCuPRVQmC0rUIUVcJBVv7CQiCmt0Kg+f1BYOG5QXx9KUIyYYhCVlGTQrQgXUIchbNC1JJIQgDMSEKMQBJCWAZlQkxIX0J4SRRBEOPCQYhuq0L8r51ClKIWQvQ8jEEIjINC2LlnQrTbZkLe86ZC/FKFQh4hskIyg6NCyCZzQdScUULY6KBCSOo+QjyJcEL4rLlCKJ8VQszqtUJ428JByN18QmhEtkLE7gVCYJWzQlrRwUJQwS5CBFiNQh7DnkLmb5FCsGZSQmrtpEKIP1hCjMqoQcx/XEIAXUxCPMmMQSbDxUJA4XtC/CCvQhJ3l0Im9YZCOEeKQRgExUIawsZCrCi5Qvy8g0L0o49CIEiUQRBxeUJU82NCGADrQTpIjkLWYJhCYu2SQmKhk0JShptCYFJ6QsAGx0E0YChCpA5jQkie/0HY3Q5CZGRWQrBX3EH04zZCJl+3QjSAG0L0ZCxCUAOUQiQwp0KyLYlC7r2HQpTcrkLImrNCTMCnQt5Pl0KgPGZClH2nQgywHkIQGVZC9KexQg4FoEIUtIFC9FWRQgwnaUIKTb9CUFs6Qeyxf0KER2dCDGCRQhqvw0KsRYVCwja9QmaEjEIa4ptCDNYHQiDeA0IMrVhCVq+9QnCqr0JS671CrvzFQjZutUI0j3VCeMg5QlD0x0HEHY1CuJVdQXTPdULisaRCCHOAQmTelEJkTpFCsN2pQVA6AEL83V5C3L5GQrANOUK4nyFC1DizQmzrSEIO4LRCOPtwQgSlt0GkEl5C5JtPQkRAhkJ0cUFCXDh3QowlKkKs3ztCgANjP54QxULAkl1B0PbCQtCJHUIkMY5C+PkMQpbRx0KQUeBBFCe4QozKc0Jwf+NBIMWTQrTUXUIK6LRCiJvPQajsCkI=",
            "dtype": "f4"
           },
           "y": {
            "bdata": "oEtzwaDPykCEH5/CeBEKwhT8ecJA/kBAANB7wb93UsLALfBAVWFowgBt1sEUjmrC5KriwVCchEF0BkLCdk4xwgAIZ74NrJTCMMFfwSiC48HeacDC4INswlAdfUEMWr3BAMGOQCh79MHIf+HBQBJVQQCyLcBA+bW/mHaTwZk0MsJRI5nCDDedwW94tsIoisfBNvGGwtBz5EAwMaZALjeXwqTX/sHEf3/Cv+zHwpqhicLEqiXCDyW8wjD7OsJovubB2NUYwQCRIT+ArzXBsJHdQIB8pMCtKXTC2F73wXDlsEC20wnCFq2fwqha78HAtdG/AISpvx0nOsIIGjdBMsi1wijGU0GEG9PBLAWVQSiNaUFlnp/CzBfnwSDgEcFiHanC8lQTwuDzGcHA0GbAePnuwZiK9MG+rRLCwKtKQCqhn8JICbTC8A2RwMjcx8Jo+h9BiLKiwXAc5UBnQYzCNGEWwsgKpsHAMYrCANAovaAapEHgcf5AYNrhwODxbUFgY7dAoHbdQFDXQ0G8bofCUlE5whjJmMEgXIJBYFP/wbBn/cHQrgXBEKhtwfc8JsLQo63BvDG6wVChu8FIjIHCRuOPwnlBc8JgJRzC4CRyQIgqR0GkGwbCqEgMQaDTMsBsH+jBAM2NwABwCr2y1aLCwOWXQTCtvkEsifnBzmm9wk6drsKMKphBuJt1wW6Xi8IA/1vA7GaqwShWqsLmt4LCBmEfwuCzAUCwNIvCEEPGwUh3tsIEdfLBQJy0wVISIMK4B1fC1E2kwvERmcJhulLCQNwiQVBxysGo+iDBSI6IwSCWFcHqT6LCSHPZwZz958HqMcXC9nR4wjCW1MH6X3jCZFHlwajcZ8FXxJzCQAgPQNSWvME4egVBVE6UwQ+crsKUxJbCoGUpwJhbxsK6uQfCijubwtYWo8KAYr/AOPOSwYCPjcDgS05AiDxuQUhDxsJUbNTBos2jwiAWCUGQHKpAiLdFQRPmS8J45KfB6+dWwhqsLsJUY8PBMFrSQO+oKsLpnRjCPmy2woJQkMJBFDvC5FCMwpqYisIw4XJBkVAQwpfcUcKw6m5BIL/YQMQfZcIQBvjB7J6twUyA4sHYgMDB12xSwrxL98FYFt7BJwtVwiBnDEGAcw0/tNHiwQD5oD5gUY/CNy2AwkhBgUEd4DTCkvOnwkD9p0Fp+1DC4HQjwRDq/sDUMgHCNXF9woAnd0BH97PC0LGZwifwl8IIDmLBwKjBv9DMJMEogn1BoJNpwDmTE8JArtnA4AVewHtiLsIkIOjB9HmEwXK/t8J08qpBILiqwVZMNMJETKHBikiDwgCsCL/whk7BQH3aPz2+qcJW+rDCRNO9wgDcsT+lLo3CNHCfwrqdEsLYm8TCrvyEwpHVXMIATLXB9G/MwQArmb90cunB4Md1QCS5wsGSE53C/B62wcip/sH4DRrChZWfwhBAPUEA9QDBZGKcwhFRs8Io8RfCeNLLQRDPasFw6aDC8KuAwhyslcEwo8vAHvSOwgMaxcLUHqjBgABZwaEMiMLg/fjAcLC8waKesMJARW7A/DSPQQiVDMKwWtBA1D3UwfjudsFgvD9ADDj4wSgBCcFgxwLB15yMwjwLhUE07rLBQGYcQPomtcIoYi/B8Cb0QC3GT8Kxq6vCMOhkwYhp0MHlp7jCbuu4woS2P8J0e5/CMAl7QWAFMEEG7zjCnvspwohJHEHwjQ7BI4yIwtCLh0GQcYLBaGTCwVRLocHwevFArL0bwoAdS78IukHBVCP7wQW2m8LoHXzBMP72wIhuh8EJE17CuGP2wZyDs8EAqwVBU4JuwqQ958F8/FzCgCzPwSB7+MH4HwjCfAChwnDT2sFLLRfCFjmUwqYjXsI=",
            "dtype": "f4"
           },
           "z": {
            "bdata": "cbu6wjV+tsLsrRTCf6NWwiixj8IssE/ClD8wwqmoWcKWjzLCM9gowi7RxMKSMZ/CuU28wnvYS8LcmsHBHNWxwhKkYMKxHsDCdFHXwbQwWMLWJcXC5lWSwuhNdMJYM6rC0ETCwcANHcKd2THCYGsowTeBj8JKMFXCPTSRwkz1DsKDa7/CxgkOwkl+gsLCGcTCMdJSwnwzyMEApLO9IO+pwpYcd8J6xiLCQwquws6incJ2opbCv2mlwlCWFsKODw3CIRcewjgYosIsHwPCnLvbwfidS8Jk1HfCzPYBwhCJrcIDrxbCXqhRwuYeAMLehGPCd1aawsuQuMK++L3CoNWLwoKwQcIuaqHC2b6Sws0EVcISsbXCXLrYwS+OjML8J7fC9KKUwoDLa8GglmzAKFsOwnO8vMLgNU3BwpxRwrp/scLqSLXCdGkowgL/WsLCysTCQAqzwfReusJu0E3CcaN4wsH8tsK6oZLC6S+8wlDzjsLw1bDChvS0wgdsjMIw3Z/CSO20wj7nIMIpvsXC6jdjwrzM6sEE0v3BBh6gwgxDpcLIz9fBCD0CwvNjWsLs64rBnryNwqRpnsLMdXnCrfRnwn70vcKdq7/CHISWwjtCJMJlmDvC06UmwqKXVcJnymbCLEF3wvEmVMJahE7CJoilwoCgosESq7XCGG9RwkSRvMI4oJrB4O8OwuJ6AMLBqCLCCKgvwnVNuMKMmKnCdISfwn24WMJX0CXCIFqKwtZukMKc593BzIG6wruSK8KqGC3CkjF1wotZJMIc4rfCNP6AwXS6v8FoDQDCUCtnwgo+VsIQpnPCkgqwwqDGk8Igaa3CCgylwrl4LsIgSRTCXhGIwnis5MGaxirCgBe8wuaVwcKcjfjBuYUowtt8uMJuInbCUr9xwrZSSMKX96fClXOYwg6EcsJ3563COBBswnw30MG5D1bCEoGEwscPccJkco7C3m6RwkSLFMLNXxbChR6lwhY6qcID45XCNjgkwiYxn8KqJA/CfSmVwhQr4MGZaxzCNvGGwnOSx8Io927CKnknwrSH+sFC5LTCdI02ws42C8K+RInCvPPGwoZMiMJcOpTCoLqZwm7BwcLJUTrCCNkfwuYQqcLFClbCFKmuwnlxbsL6VcfCrnOJwlz7s8IRkonCUNODwgAAu8CIDCnC3EtVwsJ2jcJITQ/CHOkbwiblGcJUqdPBojWjwoDYbL/vmSbCtWOGwvXYR8J6g4jCTATcwTh2S8GeonHCaEu0wYJ9O8J1f5zCl/Wtwnf2xsKFxVrC7vS3whc1YcKYzg/BrxV9wvJ4aMJwY1LB18y0wlNccsKqBMbCSS1Xwh58DsLWq6LCRqCUwpBLg8IgPobCAcm1wr8RHsJM9V3CBMuIwh1mosLHLDrCuETJwQ6bjMK7LyzCJ1FQwpxJkMJxuX3CuSiRwu+SM8IIzDTClG+7wgK+GsKYbVjBqZ+wwtQ7h8JqKMfCIG0dwIAEO8GcTWvCgHC9wut4MMLAbMXCf1q7wqBMkMKn+YXCqNDUwZHYVsI5mxjCxcBhwkOEbcIagIrCaANtwSOWwcKNpW7Ca1ikwqT3LMK0t0LCrmkowplwpcIOxHDC8Sedwr4clMKthrjCP6ZSwlUoocKqbBHCkGxswUYSGsIQiqPCCN3KwajifcKYRZ7C6vODwvxzhsL4ISrCEZQQwpDwYMG+9J/Cn1GuwkgGqMLwqNDBJvq7wrA7vsLb+MTC0jl+wsC3D8L47ubBTJo0wkHKtsLcTFXC5JK7wRniZ8L3InPCHR5TwjANO8EkhyvCCqqRwtjrHML9xSLCwVc2wiSwasJjJp7Ct1a6wkmtc8KqwJfCXnGdwvDtP8LSNyLCpGCswnhgA8I=",
            "dtype": "f4"
           }
          },
          {
           "marker": {
            "color": "#B6E880",
            "line": {
             "color": "black",
             "width": 0.5
            },
            "size": 6,
            "symbol": "diamond"
           },
           "mode": "markers+text",
           "name": "Cluster 7",
           "text": [
            "C7"
           ],
           "textposition": "top center",
           "type": "scatter3d",
           "x": {
            "bdata": "GLpmQg==",
            "dtype": "f4"
           },
           "y": {
            "bdata": "b6sEwg==",
            "dtype": "f4"
           },
           "z": {
            "bdata": "2Rlswg==",
            "dtype": "f4"
           }
          },
          {
           "marker": {
            "color": "#FF97FF",
            "opacity": 1,
            "size": 4
           },
           "mode": "markers",
           "showlegend": false,
           "type": "scatter3d",
           "x": {
            "bdata": "EIvNQRRnyMFGgL5CcqCGQmSEzMFcCntC0tS9QjDT8UF+IIRCwOXqQWTaFELwAOJBaEfvQQwAl0LcflZCHoGsQriOpkLwyOBBiI+UQgTlssH4Q4JBIM6oQvBAo0J4rmpBAL+9v/DB3EEs3iRCyECOQlrToUK+trFCmh2YQiAZvEAAACC7UCpvQYRjrEEhnRbCkH6IwIjg80G4iEhCWEqsQpCWkkIg5XJC/AmmQprWjELAelhCIGIzQkCVNEIAIK/AsNP7QPqbg0KaLJVCeK5mQqC3nEJwdq9AcNe/wDy9n0JwFqTAcN4cwQgepEEg7qRBgArSv5QhUEIw8z7BQMn0wFBqw8GwT91AwFPDQvhGgkGAut/ACLnVQfCJhUHALzhBUGdiQuh3BsHAkV9AiM4BwVgqBEJgQZfAQKTNP5j930EsCk9CnPaHQgwbl0Iw2DVCVoXEQgiUd8GMOjtC0H65QSBKfEHAxX9AsF4YQaAvokLmgK5CkFR3wZCMOULAZ0/BSIhtQjrhBsLoP65C2G0KQhjxH0J8fcJCOMdKQhCJA0E4qRxCINBVQKCmTkKkMFNCWGimQpC110HSaZJChI6pQnDjnEI44VxC+HEAwdCa/kF8VbbBKCXmQSgoJUJQFTFBpARBQri+WUIYOP9B4BOvQqhUhEKmdIJCXAuCQvBUokEu4MFC8K8tQiQxKELV+ibCeD5BQXCM3EAI5kpBIHVdwBzyZ0KcubNCWtrFQogONEEkVd5BjGd6QvCaicCAlOu/pCh5QvCtekEAcYZADqSkQrr6xELUqa1C9EzJQYAR4kEQ4OXA+kWTQsyw1kHuEr5CSsmiQpB3GkIsdodB4O49QDwGEULQ/gbBMH45QpQOUEJ4+wNCXGEFQrgY3EFoQN5BwMmOQiy/sEJosknB3JJtQphch0FQFJDAeD0rQmxssEFS/bRCAMxevk7CqkIEkylCzmK4QsCqgUEMEC9CMEIFwdj0q8F8GH5C0DCYQTysnEFCDolCKBd3wbjIP0JosgvBBo2ZQmyVwEHU6nFCGNBOQcDZ40GADyRCuLg0wVBpR0HguKVAwNiJP2j0XUHiTYxCxK7WQVR/RULO5MVC5KHNQTh3eUKiIbBCROi6QVS62EFwZ1tB8ALpwNT4JUIITFXBBMNRQkhjKkIg1xBC9LYhQqgDqkJokQpCeGAKQtRbzUEomIDBsNHFQmItskLikQvCALowQiBAYUH4LIxBRJlvQgDCjkLo1dZBQGe3QJAU9kEg8kBCDmqiQkjHlUHQYwDCApGiQkTPHkJA8FVCQO+yQJwPq0Iwf5LAEPf7QeC/AkFIrt5BqGyqQqhjS0Kg0HhCtLwwQgQPWkJEHUtCgIvAQnB+YULO76lC0M2wQsBt5b/OZ7hCSJk0QhArDkKMHCxCgB/2wdTv1sEY3zVCdBhJQvLKhUIY97pB2HXtQRjBZELscnxCGMClQkhTakJmKqFCYFipQiBx08BmvpRCfACSQX7kg0LkR7ZC+LTKQbqsh0IoPQPCcvuYQgAykUDAC2VBgHXnP8ilhkLIupVBcOmAQOQGokLqxZNCpKOuQdiKt0L4GTdCALj4v4j8ocGoATlBsKOZwZDTfME4aqdCRHFSQtj+DUFg9IVAIOmrQoSOv0LwW2hB6KF3wXjfwkEQ1kVCQMFZwJwJ00GQMAFCkMJSwVy1wUJ0MK5CHH0pQmDzgUCY6ThCvA+JQqTHm8FCwMFCvh+VQqpQuUIcFINBVJSAQsJerEIESzhC1M+UQgDulb70gRZC1OaYQmDaA0L8+XVC9CaXQpAz2kB870hCDL0+QkjeIEKyiJRCAJ+oQuCKHEJ8WjlCWFFxwfJto0LA64zAwAM4wQAnYcA=",
            "dtype": "f4"
           },
           "y": {
            "bdata": "aOYVQiQ2YUIUdpVCgOUAQhxKt0IoWO9BSveOQujrq0E8dIRCeMkKQpS0rEL4y11CjP4lQhLXt0KgDV1C+MLZQSAlQELc2s9B6H0eQrA3TEKo4txBRp+1QpiCEUJIxbRCwjvAQngbc0Kmh5xCItzAQjQpo0KMPX9CfAGDQlzDqkKkxXRCpBB1QuKen0IArrRCmL0nQQifuUKE9K1BsKeQQvi4pkLoIH5CdmynQi5Yu0LseU9CmANZQhL6pkIUWDtCvMCqQmwPqUKWUblC3D14QtxnvkKsjRBCPkaCQgwndUJ0KWdCgNK7PxT9QUJi28ZCYKYhQWjTpEJQ6iNBbu+XQr6BvEI82ERCbNwgQvbTkUI8CnBC3H43QgqioEKIq5pCpHpCQvBzxkFwe3lCEKt0QlRbvEIs7cRChoWHQriTCUKutoZCuG/HQhzEvkJgKtdB2LNwQsJhv0IIibRCsJ8PQtDW+kFU7cFCDDTZQQS8a0IgfqBC7Ew6QhTvjEKIkCNC9v2oQgx+uUJAPoVCUOmMQqRvQELuLqNCGG1tQqC/RkEEGU5CdAIdQjTuC0I6VLxC9HljQrhNQUJcwTtCRG8AQgRDakKykq5CwD6lQkjTfEGA71dCmCI5QQweJkJAa1NCkgadQtqymkI8pYRCjLXDQuBIjUKCFYdCPCWEQoTdlkKao5RCVHInQoyQkEGW2bxCBLB+Qjjm4EFEPR1CeKGSQnriukLq66VCJHdbQgjVxkLSycNCYL4CQjitKELg8zdCIlusQtBBPUISBqpCMIvHQhw5JkJsPAlCVDoYQoBW+0FcwBNCpElTQlY2rUKAQ5tCLJBeQnB2hEKk5cRB1FSYQRzSgUK2C5tCzNhEQgAlbEIsDwtCFh2YQt6JskK+w4RCPI2FQggwmkIgpu5BkGkOQqiUUUIMf4pBpGunQmIjrUIinKZCsCXqQKyiUEKE/StCvkmMQvJ0nEII/q9CZLExQlh1I0K0/lJCMKfoQbQUzEGA+epBFGXGQihqnkIMAExCUG0bQkgERkFYRjNCnJ51QhgfKEKkonNCoPwjQXj1UUKO78NCuhm4QvCW9UE6epNCgBuSQmDZg0IoCX5CtLfFQgSHcULE6SBC0OafQngUH0FecaFCgAM2Qqb/lUIwvk1C2JQMQiQIgkI0vytCMFhSQtgc/EEUrSlCTC+UQqgwaELuDsFCZBFvQtaijUJ+W51CVJEFQuznTEKkEKlC6Lp6Qug7Z0K8xdJBbMdZQhwtN0I0dqRC3MI3QmoMoUKCeLZCYAdmQraNpkJgY9ZBMCi2QuRzxUKMw0xCNqLDQpT0wkIMkAxCTjnHQohQK0LAlyhCetC8QnREW0KqHJpCksGTQuSguUJoBk1C1lSaQrAQxkK23rBCyj2HQkSxL0JgAHRCAI48Qhz9jUJUd6xCuPl3QlDeHEJQQFhBUHf+QdiTe0IQU69C6CDCQpAkDEIs8YNCrIBHQk4Ix0Kc/llC+ApBQnB8X0KSuLJCsKxVQRKRuEKYdIFCPKI0QqwafELglFFC5qepQr6akEKYZiVCDE9KQkQFxkLYUUZC0DPsQfgxYUIoCW5CwE4NQoQzsEIwtv1ABkWGQrz+jEKs9nhCXliMQsA/1EFovShCOCpLQuJRqULKPZhClAoQQmCVe0EI055CpJCiQmxgh0JQlutBQOfYQdCKc0KssSpCLi2DQroYm0I41ShCckO1QpApp0G87zdCtvO4Qrb3lEJYZhVBfHKKQvZZpkJmdIFCaBeCQpiKVEG8QwZC5kaCQoSyekIYLZRCBHSmQuCWhUJQrVNC+BWWQnD1dEIkH4xCPO11QnTvi0JUObtCTBsQQvKPoUJM3GxCiCUiQiA3JUI=",
            "dtype": "f4"
           },
           "z": {
            "bdata": "4Ju/wQBBkr+wBiJCaGPqQUBQA0GkM2dCBE+ZQRBAVMH4pU9CMLsZwVSzR0L0E9DB+KZcQjr3s0JIB8VBCDQzQXAzOUHMl4FCmNHHQaAOa8HYWiZCwI6rQkxJJ0KcOIhBvDmJwQgG4kHAyiTBaJdjQnBwSEEoB4RCAGV5Qmh/N0JIFWHBaEeRQbCpDUJAqVTB8CqlwZBKBUFAT05BJKKEQjQUwkHoZu5BCL2cQUAO/UG4/HlC0P85QvyxMkL8RylCdOzBQUTPlULiJa5CuIZWQuCLuUD8LJXBEIOsQQinJEI0Vo/BEBI2QRQItsH4G5RBPIu1wdhSeUFQpd9BVHeaQaiKisEAmLpB9Bu8QWCuucFAzfBBcBhywQgn+8FYiAnBqDUcQgw1AUKk5Y1BSDTlwUBehcAQsBRBgPujwdAJ7UBqdq5C5MyfQrCqDUL0BUJC9I+dQsBx2UAAoCW+ODHVweASC8Cg0SRCz2wUwpCgvkEosUdCuD48wSBFekLccdtBeAylQdDlz8DcHmxCTA6AQsiZpMF+3bxCKMQBQuAuIMBABq5BgEC/Qfygc0JACkZCDLhmQlw2nEF8CCtCKCpKQsBP30D45AfB2G5LwajSEUIQSZFBLEKXQThZqcGA+ei/2J0lQiDn4kEudoJC4GPMQVJDu0LMFKxCCJ9HQaD2b8COz55ClKghQuDqRMEgshbB0P1OQtS/2kHzIxPC6AgPQoigokIw4I5CDmSEQtD4HUIEHmRCKAwPwdw/BUJobEJBJKuOQhCJusAE3hZCFnqWQnBuf0IIAkVCHD9HQpj1C0FQ4ARBZkKmQoBL7L848SFC/KoXQljHA0KAVJLA8D0fQoB5KUGMtf/BsB2PwFA+VMHY61jBTA1jQjjeR0KIXjJCKMyQQTDp6UEAMIK/QG/6wFBpikBUzc7B8FB3QsC3VUI6fqJCoEYAwtCrxkHO/aBCoGJQQfCvUEEgQT3AAH/QwbgYYUGI8AZBjCV2QhgY3UHwCQNCQDqDQCitkUJg60RAGGlnQqg9FkKKk5pCkENmQajKKUGg4kVC5EHLQSSLIEIwbuRBxIeNweDmg8G0H2FCgEC2wfCAqULUi59BWJ4CQRjQEUIMjK1BlDxQQiDcVMDgpvxBlDL7wXDShUJW3QHCgOU7Qui0e0KwPQNCMPtAwVwOzkHILuBBmLwmQsARNUHiFxTCSBvJQVj6YkIADjQ+8B94wVSPM0KA5ARAuGJTQpQZHkLofBBBAMy0vlwyVkI4KYBCxC6AQRDYXkFQGbvAyDgvQWBeoMH6FYBCxEKhQfRcp0IIPAlCyELpQTBYC0IAcKa/mPtlQUDapz8QGNdBOC5kQhgIZUEW0pxCCGmcQgCkJT9+PY1C3KmgQnBk2sGQwpFCIB5vQuAFj0E4O1jBdEGnQVSBysGUOMVBOKtuwXAjqcCAoJu/pOZfQhjatkLQoTdCFFBHQkDkuL+wk2lCRCaQQTBJWUHomXNCLCO8wY7QhkJg07pCsA0cQiRbPUIYiFtBqC0cQm2UGMI0ImhCeEK+wSDuy0BYCo/BPF4OQuAjlkIKioRCwLsJwVROxkIAh6JC0GE4wehmycFg2ixB8D5GwZjVCUHu66tCoEkKQWztWEJwcFxBaL4SQdiknkGwPsNB+OaYQQABlT/g9ZnAj2oiwuz91kGqm4RCCF0YQriPp0Ic3q1B3HV5QgSVkcEwYu5BMjy6QnySzUGwfjxCjIwhQlwbQUJwMsRA1nSXQrQf30HoLUbBYOAGQsS6gUEI2ExBVmzBQtjCIMEApjJCFNsoQorwB8LM1HtCiE3OQRDmGELQ8whCUI+PQlBeTcFgMwTAIJ2FwYgvb0EgHZ1AAPzCv77FCMI=",
            "dtype": "f4"
           }
          },
          {
           "marker": {
            "color": "#FF97FF",
            "line": {
             "color": "black",
             "width": 0.5
            },
            "size": 6,
            "symbol": "diamond"
           },
           "mode": "markers+text",
           "name": "Cluster 8",
           "text": [
            "C8"
           ],
           "textposition": "top center",
           "type": "scatter3d",
           "x": {
            "bdata": "jQkQQg==",
            "dtype": "f4"
           },
           "y": {
            "bdata": "0+VsQg==",
            "dtype": "f4"
           },
           "z": {
            "bdata": "cOC8QQ==",
            "dtype": "f4"
           }
          },
          {
           "marker": {
            "color": "#FECB52",
            "opacity": 1,
            "size": 4
           },
           "mode": "markers",
           "showlegend": false,
           "type": "scatter3d",
           "x": {
            "bdata": "sgmswsi0c8FglaLAPI6PwcVCp8KKAgfCUfY1wpDx88A8C5vCG1miwvkMWsKwZDXCf9mzwgBp9T+oI/7BRKRFwue2I8JXiVnCYOB1QJipl8GYzwBBC8WvwgvDL8LHYRjCsGgLwsgYIcGo+J7C/pcJwiS9lMIA3gk+eKsUwc0+xcLeOjHCHy+fwsS9pcIcHTrCQLpewcRzn8IcPQrCkOCjwDKAhsLMlDXClPiPwTDhX0FTEIvCb9lHwoF0hsJevUvCYKOSwT9ZqsLAtGrBlkGuwohQGEEKNXrCGBKjwkjlicFVMyvCaEvSQRBVdsE4OzXB6Du8wT7pnML69bzC7iY6wvAMe8HsbHjCxgWHwhqFq8Js+Z3CJyPEwm4oacIuNCXCJhEEwrBTa8G5WxzCKHGuwVGyksIYzVvBWIuYwrJ1P8IyUsHCAI+TwSiiBsIAnXDByIKKwoMEP8KAkTpARliwwooTRcLqd4bCFYu7wivYlsLfdTPCU2Kowjfbx8KwJG/B0GBPQU+XmcIAn8S+RohcwjCTaMFTX7HCR7tnwsBw779AjgfCuWAtwo/jE8IAFgs+PedJwtwJIMINZjLCZKywQYi4QMK8/ZHCcBCiwAxTwcK/1hXCKLWkwVnWNsLgK/fBoR2pwugjQ8HAGMU/dNmRwqgOhMGwv8PBHmkNwnbgssLAdBHBEGRQwejKgsIk+wnCjGPFwXzptUFkUJPB6I3RwUCQ7kCUQtjBbNU2wuiXRcHEUtjBGNqZwmEiucJF+rfCTNUlwj/lp8L8KL7CBpGCwjSbp8KHOqfCzHG5wfRHC8JceIfC6Cg+QbnqTcKYXTfBfKh1wi5mi8I4w2TB4N4YQaZlD8Lk47fBIQVHwrgUDMJ0W5PCAPhpP7oCvsKAFyzA0HnjwOWzqMLTfoLCcoKvwlyUDsJM6r/BMAsEwSCD0cF4bjrBcU2lwojgJMFEKVvC/rKXwhhb5cFAHhTAUOLCwPA6vcBZ95fCI9MiwqxNs8F4gnPBMEJPQVwkhcI0mrTBYNDEwHmYR8JM7IBByKEyweOKiMKwDsdA0KW7weBnZ0Cwp7LBIKa/wIz9/cFAUUfATIaowiEbFcK6rcTCr7qbwoSRq8GIbkPBQEqKP9DDnsGo0VbBccXBwtzpncFESwTCDricwonLUcJygjHCNAjCwRS4CsKc47vCviEIwtiJIcF7YWXCABxTPhYTc8JlKjbCAJjjPhioU8EA7E7AGZsTwrBswsAhWb3CWLFCwgAjqUB6J3vChqpBwvr9qsIALh/AEqY2wvhcJcEcW/vB1CPhwSwwt8FwlajATpPEwpQtNMLFkjXCgiqRwqHVkcL4p7RBOkdiwqgQT8E8uu/BirDGwuoCPsIxV0TC+JiiwiSmjMHGX6nCufHFwl4pxsIAM9q+yIZ9QYjFS8KgElPBMLUMwdDmCMESRAbCiqKLwqG4icI9SKXCeKvCwayYVsLoI/zBEAFVwXr/c8LK5AzCcDezwUgqgcIL2y3CyhgQwlhgvcJAq43CqnswwmCesMCU/L/CVAiLwUUfe8LYaAfCYoBWwkxjNcL0zqFBeK09wX5BB8JueZXCZLumwinZNMKi5BXC00WnwkB2qsHAR6HAuM6iQaI5w8IiHT7CaBPXwQvjNsIe7kfCEOlbwZQeCcKWKnHC6C9rwc8BZcLQvJzBEleDwol0h8JQhYPCWDMNwl90kMIAK//AKVEvwpQ9i0GwZbLCyJewweLZZMJsloLBzyVfwiBO5sAPtm3CYMbawGzglMGgd7jByAdnwRBJasF4k1TCuwRIwqCnY8HpGlLC07KXwisCpsKAmklAgJw7QABYeb4iSAzCIBCXwCeFNMJUQ8jBbonDwiCe2cE=",
            "dtype": "f4"
           },
           "y": {
            "bdata": "u50kwlSAwsHwpfnA6lwowkVLrsKm5TLCSG5AwkBJB8AAsFbB1/kawoOev8IHi7DCLNmCwnScscI0XjDCqEQywuQ0ysFXSXbC9W5Gwg47usKWNSfCvmyiwkJqVMJKR5bChQpUwlYwEcKI24/CqvfAwrhaiMKRcobCuSYswodHQsLwm8zBTpl7wqDFJMH+Y6fC7CAGwvtdV8IRpL/Cs3dXwirskcKgD6rA9/aownibncKWyQTCSH9kweTq/8E+3a3Cp8AywudCqMIazn7CGVMfwvT9qMIbyHrCQB8HwcS2qcGKWMTCHee2wsAvkD8oRpbCAAepwHTPqcLq15nCytIGwlvWlsLc/V/CtfDCwixbsMKgckrB4IrEwK2+xMI/gIjCSNBiwYtvrMKemaLCvB20wW17tsIKoKLC2kSZwv+avMKWnHbCaO9PwbjWoMHg/4RAGLgKwbaZLsKkQAXCakrDwhmIxcKYnJrCrTk0wrzTWMLGSATCgK+2ws+YhcL5Q1/CJaikwtmOvMKuQHvCyN5IwUbkSMLOygnCinevwkLVC8ICwsbCkCwiwX7tocIBRIHCCOZ4wSgIAsLuv7vCsEW+wpQVEcK0RwvCyjJewuocpcIgOk7ARCCSwubCR8IwhefAj0dfwmDercLgyIBASomiwp17IMJt41jCGAgDQWonB8Lajh3CIedLws3mOcI6DAbCwiVBwvoRucLwehVBqkCHwpA8NsJtVpLCtKoDwra8EcL96BTCbBetwkw5bMLEqGTCQNJEwW6LsMI7n73CaPObwihy9sGkHqfBjE8Nwkwn0cGygo/CmL10wl86OMKyX7fChtKmwkK0tMJr117CkFetwt5/ocIAiPQ9IAHDwhDAtsJIdYrBAOSCwvihNcK3Bx3C3SWOwlB7zsFwxuzBmxOrwoBPiT/YiMbCAQ+8wryntsHQwc9A4MLiwQybAsKs6orCSFUews10x8JblMfCChGNwmBdCMA6bQbCtrcRwh3dQ8JajwTCclZGwqDmpMCLW4LCWiR3wmjxT8E+bZvC4nqQwmfxucIP28DCLQW3wlMeKsLmqGzCIMC8wTj9jMJMt0XCT1QzwjixK8GYfc3BTWxZwtjBs8JgIyrAKMx+wYDxZr9HMRzC+vGDwvRRD8J9jhLCCu+TwhpJesLgdgnCAFA4wVBhm8GfKKfCJqzBwv0YkcLId9vB9UxswrRsx8E+aJ7CNrQOwlDgN0EgCYrBSnq4wv6lTMLgKJ/CiIVuwjz4aMIS4wPCahgMwnW1acJcOLTCRf6wwmjr+cFfXyHCgXBwwotgxsKCvxfC2+J0wu8MwcIAYdU+B5IVwkJ4k8KLJrjCMw6lwgMducIiWFfCJs9HwpHIm8LgOTPBzRKVwpXBJ8JAqXrBAoifwiSJTcKq3KLCG9Fswp4llsKwbKpAAP2Av4CZvcIY6kXC0YRmwhA/jcI9xiTCZGSnwnDFmUCzxBjC2CVswTQ1rsG5XDvCWKQ5wWAKkcIcLzfCE58dwtIiL8LaFkrC0LKPwmAVycF1ihTClJnMwRTk/cEP75nCQFTNwea0j8L+H6DCPEYQwgzNgsIYoA3CCRETwmFXn8JEP/3BcA1qwiAukcGMXYLBTcSdwhLpjML0EwzChbCswqQGMsLe54PCLtZWwi5/McIZYbHCcumpwiBuTMEnCiXCP5cuwob4AcKrSynCoLHPQH9IpMIQm7zBICQCwEC0t8LKsZTCnIGjwiwciMG4z0LB8BMcwhpKrcJxpIHCjHsOwtApuEDQJ1/B7lEVwth5qMHg0U3Bv86bwglVTMK5LVTCMB8iwe9eo8IWkGHCpYYXwoibp8FwIHDBxD0Fwo/cr8JrzavC+n8hwgDE1sE=",
            "dtype": "f4"
           },
           "z": {
            "bdata": "Rzq2wq/gvsLsvarC6o+OwjP1IsKYhVDBOFqFwphugcKmXo/C1ytJwkG0kMLipb3C2o2NwrlRJMJ8z0rCUJy/wjpqXsLMvgLCpMSCwm9Pp8KuHCzCAoYSwoI7RsKHo77C3sqAwuD3psJA4e7BVJGiwgSwj8IFY27CEN2mwjKamsKBs8HCnLeEwkXexcKHn7jCKInOwQTnvcJsGyLCNNivweWHicISJIDCDrcywlPdNMJxOSjCXG6GwiyVX8JEmbfCbKikwvPJcsJQ3nPBlNeFwppzgMLs063CUk2BwsiPkME4ZyfC/riewlZ0l8KcBzzCQ4kzwl7Rt8ICAyPCrqJQwibhKMLkFffBwsi1wt9ou8KOLWrCOFihwj2hLMJouZbCgcSkwhDLiMHoq9fBvi2MwiTYnsEcJZ7C1+Wwwhv0ucJF9XTCFA7ywVQ4NMKlvbHC+gVSwrbYWsJKJqDCb9Whwg60ssJo2KrBtIeGwsR8z8Hj5afCyKaywqBY98GssovCVOmBwq7fn8I3rDXCFgtbwpY2wsL28p7CEMeKwmRsi8JB5mnCtH8fwseikMJruR7CIvYLwta5osIWnZbC0uW3wstKb8Jnc5TCf4x0wsjkncJ6pFPC+rCtwgj5lsKgYY/CFBApwiQ7wcJQwsTCTNqqwmoxWcLoj7DCYqSMwmhj0sEuwHzCsD+8wqZmXcKYVsDC83hhwmbSN8Kb6b/CXvQQwlEbWcK2NoXCFKYTwmJnx8L4savBsG/EweJvQ8IDwRfCoBMjws9sEcJVg1PCcATXwfgFj8LVT7zCJIUcwmMJxcKSRVHCu7KPwvfpWcL8GBPCbKyawjQsd8Igtt7BcX+5wt9hxsIsty/CRKikwQCwhcISOKLCLjO9wmQ/HcLQAHHCftZywnKOScLcFCXCbdC/whVDeMIVdV/CyHzIwTKossKbKpfCTciXwiyW8sEccq/C6jghwnCSXcKRI1/CQmiKwk23HMK6SDrCmB11wZPJrcL4QpnCcoyTwgdBuMLdb1XCAGu5wUWhqsL4eXrCVsyhwiZeccJ0pMbCrGzzwVjGBsLqYUbC/rZhwih9k8IM1j/CsLTjwRr3hsK28iPCOJ7jwfnFHsKGm6DCEEC4wotcEcLDuIbC7Hp1wpOtssKoyHzBpEh7wpqfDsKAJUXC/fcswsDTv8L0eODBZPe5wrwJqMJ2+ZjC5ONzwpiBp8IMz4PCd5uDwktzvsJFfrXC7uGywhtMm8InqRXCG8lHwvaErsK6PbLCGOaywfD9vsKgaWbC1HcmwiZbIcJkRunBJoYBwr27msKi3a3COM8uwmK/LsL1iYHCJ8mDwpA6LcJVJZvCmNXwwTqzYcIob7PCcGGZwkOrqMK2moPCPniZwpTTsMLBTUPCVuGpwmAKncJBBzvCMJZwwsN6WsL5CLTC3EWPwlBjW8J0P/TBsfR7wkjBt8I+DrfCrRHDwspHgMJQXa3C3hd8wsd7WsIGZAbCyGaSwrD9R8L2rK/CsO1mwXgQgMJwWq/BdoOIwoY5wcK1YqTCgIzkwTuwS8KRm7zCQNBLwmBi8cHx1XLCFPqkwpckZ8J1OK3CiEQ+wtllqsJNiSrCwnCfwspVv8Jmg03CrxuUwgsAucIziTTCCGYLwgyFN8LqfbPCfMPEwp9YtMIGc53CSWFQwrVNasL9qGzCrZyBwtOaQcLQQmvCoJ+SwhLmYcLQwrLCtQe/wkynqcKJI5PCkPxzwQyPg8KyHKLC3BWpwu76asLISIHCX3N+wv9OpsIPwLLCMimpwviJR8LOx5vCujCEwndggMLUYZzCw+KJwnAOxMEmWgfCqqC/wqDcO8KWpFzCgRcawoECtcJvZz7CXuNVwp6kN8I=",
            "dtype": "f4"
           }
          },
          {
           "marker": {
            "color": "#FECB52",
            "line": {
             "color": "black",
             "width": 0.5
            },
            "size": 6,
            "symbol": "diamond"
           },
           "mode": "markers+text",
           "name": "Cluster 9",
           "text": [
            "C9"
           ],
           "textposition": "top center",
           "type": "scatter3d",
           "x": {
            "bdata": "MeUiwg==",
            "dtype": "f4"
           },
           "y": {
            "bdata": "EnxOwg==",
            "dtype": "f4"
           },
           "z": {
            "bdata": "+jp4wg==",
            "dtype": "f4"
           }
          }
         ],
         "name": "frame1"
        },
        {
         "data": [
          {
           "marker": {
            "color": "#636EFA",
            "opacity": 1,
            "size": 4
           },
           "mode": "markers",
           "showlegend": false,
           "type": "scatter3d",
           "x": {
            "bdata": "duaCQo6/l0IAUmc/kHE4QoTEg0Hsw4FBQMRUQlRZmUIg3lBCmmuwQnB0ZUIYn3lCJBwHQrRUckIAfzbBcICdQlgWI0Fg78fAwFC2QAgUykEAhXq/vvuaQszgjEJA9ZvA4K+bQMDSj8BoTUzBWBmwQgDHeUCSSIRCMLCAwHqtiUJwVvXAvD5zQviFaEJ4heJBQE8nQjrDjUIgyR5BpBWLQcCh8b8QLtBAAJsuP+RzVULqgcZCWLM6QmQTzUEA9OQ/wCGFwADLCb8AB6JAPmOLQgTBOkI0sblC2qabQjz1ukH0iQxC6KRHQsAys0FAYA/ASPq6QbQ2jEIQg2jBAs6WQrDHxULg+DlCKELUQVAMRsGcvUdCYAxYQOw4AUJAwM5B/ruJQlwHCEK8Cw1CVHJfQnTrb0Iqi8VC4MAbwdh9QUKAN25BuHkGQYTgoMFAf8dCAACuPNA+OUKAzQrBYJpEQQyGlkJAeAJBQA0oQugUQkIYOxpCYESFwdhJDEKaKb5C8JOLQtD8bkEEt4hC/P8EQlxBdkIYzQNCTCChQix2X0J4Mg5CcBXlwbjKdELgLC5CdGUOQpyPp0JMVU5COPLDQlA2hkJAvpRCAHz8voCci0CUSjdCDAJBQjheDsEo+YBBnKJ+QqBgVkJuTpZCyIDfwaRc10EcypzB+Cf4QWDlqsDAwVHBJMoOQuCbOULikq5CJJ6QQTB23kHsmgFC2qCXQpAgTEKcaEpClBuUQugJnkLQmYjBaGWlQqCnGkC4a+RBqB6BQsByecG4sp1CYJ4mQtj6d8Hu+69C4P26wKCkT8DIa23BbquvQvCW0MCgTzXA8B5owSidI0LwZRRBnMIqQoRuiUFA9M0/Qsa0QvCwh8BosTZCEBW+QFBA7MDI+1tBoJuMwWDit0L4RYZBPDiOQWj11cG4g6xCjM+FwQDYir5Up5LBoEaIQRCFvUGIqyhCSNjhQWhwBUIwBnzBWNfTQW4smkIQloLAVCrfQeydkkKUcEBC2J9GQfzmOUJm97VCrDSVQvSMgELsj09CBjORQmB1U0IY+lBCkPPzQQAlbEIwNyPB8EaLQgDHjL+YeVRB7N9sQuxsqUGMWT5C9BKGQQRIWkJoOlDBPHBeQgCZgsH4GWlCcEm9Qog9MEKY9obBiM2/QQAPjL7IR+hBOOxBwchCYUIg/uHAanGvQsjpd0Egn+BBmEQAQoSfFUIUYUJCANvrv/jv3MHAg0NCaLhoQjBjukHMdB5CaJA1wRAEJ0HwFJ1BANqlvxzdbUJIM1tCIDsmQWgsCkJqsr1CIM22QeSfCELcQZZCkLh6QvTbxkFgMRpCrKuqQcBbKELOjoRCKDa7QpRYCUIgyBhCMMCzQYQhfEIudIFC9CFcQsh3XkJqJ8RCDDIdQj6Pi0LY2E9CnmKSQiz1mkGQzTFB2lTFQjiUoUIcJD9CINlDwdCCNUGweqXALEqkQdS1NkJYZbpCeD6jQjTSfUL4DUvBzAUfQsDrrEBIzZtCKrGUQkCPFEJwL6hCdmiLQhT4DEI4DbVC8M8wQjx6kEFYgaNBgP9BQgwmXkIQHr1AuFH2QeijJsHImgxCMGrJwNj250GAKlrAWPweQTi7QkH4OxJCZl6aQqQ6k8GkFIRBrMW+QQCjCkBw5YRC4NR+QCIWn0KgL8JA/GWUQZTJYkJEyJ9BFhijQqA3oMBIyhxCAGtqQGA+sEAETBhCNDJCQlQ4ekIwLZVByPGZQgCAxz6M6rRCSKc8wSyvwMHAyCRCJtykQsCmwUKQzIfA9gbEQiQAt0IQaDBCumaqQkhWX0FklJtBbBlhQlxgZEJUgHFCADRGwaiLm0Jc7AVCtPqaQcBZpsFQItBAoLhRwNAPwcA=",
            "dtype": "f4"
           },
           "y": {
            "bdata": "YPH+wSwHfcIA/+c/A5YSwlRpyMHvY37C0sCowvT1vcJw7OPB99KywnmnuMJYMljBcLUSQbhNp0EAa6K/jaiSwjuGscJKlUHCLG4hwkaGiMLuUaHCrxi/wq7fkMK/wDjCIwiKwjari8I2V7DCkFKdwP2BI8IczlTCoB/LQD9EnsKklCfCkZqOwpzyoMJU6cHBYGAxwXTlrML4hXHByAD3wW4xwcIcVhXCWpeawniDIUHzehTC4l+zwtIBE8KBxznCMkUWwt61tsJAoNa/IGejQSgJs8FoxU3CIKc9wFQYtMF6LCfCf4OSwnB8IEEgK73C5mNHwkjypkFAuow/DLu/whUDNsIShbzCYCS6wr8ZQcLYZmJB6L6TwZAuvUEYLVRBraVlwsjEIcEICU5BoMl1wN6Lr8JxoVrCJQpdwiA3JMGgdHDBAFh1vfKJDsLzNsXC4B2PQPS3m8KgFqHCPG2cwv/zf8K9WYnCXJ7xwUjOKcEe84LCYO46wfDGVsEc4azBIItlQDCw9sCwb7rC/9lAwiBJuMELnq3CABGUwOI1vsKITx9B8Auawb6ptcI2iK3CdnCXwvyLocLwWiFBwN3dwQAcVD6oPMfCoLNBwQDSCT9JtbXCoJwcwnAh38GA169AAP31P9c/msKzrybClCzTwfqEBMIkaoDCmOSZwpDGn8HcR8DB/O2FwmxXF8K85N/BAEg9vZ/MMcKAEPe/RKBLwuLAu8L0IqXBYEpMwi8eosLAqgvCTfdZwlway8GUQ4LBaLRQwkCDzj89LKDC8GuFwcC7vb+A5k3C6JAJwpmJwMLegmDCgNsWPzM8SsINpz7CIR9FwmS2ssJZS7TCQLLSQDwNgMJWa07CKnuEwsD/rUC0iaVBdSBYwoC7Mj+YBxPBENeVwkCBAsDOs5nCGDpiwrAf9sBQb83AWIanwRBl+cF4j23BQP/fv1W2xMLSDZ/CALuiwcDiEkCc7obCYJBYQUsbN8LwY1BBZQLHwoA9E0HQDLvBDNaCQfVdGcIgzCHBcFRqQScQUsL71InCqH41wQsfrMI2mrfCDuqBwmlyf8KgL2tAACRCPmCpZUDgOIvCCIRPwhhu0sEMeqpBvBaVwYAd+kHkHrzBgPCzP0STjcIciILCFi44wpD9x8BtRTPCDD/GQWDVJ8FuRUHCIG2SwWhEg8IALoE+OILlwXTlwkFku4nCaeqZwg5sqcJ8YKXCCLWAwjDJTMGg0qXCQKbrwPhcFUHQ0HfCInh3wkHYwsJw07hAvGSPwiCagUDmX43CwCeiweTO/8EgezBAQi5rwqQik8F4yHLBDrIKwmBsz8GA/87ADmE8wiGlHMIA6u9AlmiZwsg5JcFw3/nBIBsBwKBxw8D/dbfC2GX8wZhRxMF0L/rBgOJnQR4CgMLnv1XCZZRfwiyw5MESCLDC7M9pwpC0JMFg4BZBoq+5wvjGeEEuGpHCKFJ8wRjAzkEADh5B+LIqwWyXx8LG8mHColGswiC6I8AYb13C2JQHwqGbwMI4fqVBNi6qwkbUusIYBJjCEPhxwdhZo8LgNvxAwLXMvxgJYsEgawxAxL3EwYmkqcKgWJPBgJliP0B8DEFcI3vChQmCwlIcAsJcrS/CeCxnQSZ4MMKGko7CcPEmQQBZg0CVnsXCPLHEwXz8YcLi6wbCDniNwhDUO8HAnHHBzgyGwgROi8G4mTFB+Oiiws3pYMI4PCvBYBxHQfxkuMLOTJfCxnifwoAe0r/gZ67AB/6iwoBBbsDISfPBCSFZwgCkq76A6ty/SBFhwfB8CsIionjCbL7JwaDLzkCm0EfCuFkAwnw6y8FwkorAgMwPv9CdL8If3lLCcUudwkAt0b9w0Z7CEDOqwJJcg8I=",
            "dtype": "f4"
           },
           "z": {
            "bdata": "YI2sQhzNqELgd3pC3M6SQnC4pkJw74hCAFZcQqp7jkKCeYJCOoSeQm7gnULkHnhCrn2aQlQPt0IkPV1CvrmrQhAaoUKWxrxCrIeWQrzHQEIC565CVCCWQlxbjkIcnBRC5EGtQnRsckKWK4tCmBmpQkhKTkLwWMBCnuqSQiA7gUJwtZRCUm6WQsathkLQaXtCZv6jQmySxkLYioJCeFayQmYYmEJcoEpCtEOxQpaIwELo/qFCZNGdQmi4M0L4MF1CcMWeQsxQMUJ4Jw1C1pmgQqIywkIodcJClHeKQuBwKUKyl5JCNNCRQoD5UkI8lq1C4E43QliklEJwXJVCpDCTQjgNjUJKesBCrkKUQn4hjUKkrpFCxp6BQpJynULULpNC0KbCQvDtxkL4Hr5CZuOJQpLxmEJSxZ5CoPR3QrDSREIIMkhCSJZ2Qh67mUL06bhC3rqkQuxEuEJK4r5C6Kx1QvJLxEJ8gHNCoC9MQuj3S0JsOH1CSoGOQrCcXUJw55dC2KulQtQoVkKMf6xC8Py6QoAuokLSmKBCEojAQlKyg0KUo6hCylLBQtCngUIm05xCciSiQvx3q0LqEJ5CpiWxQtZeokLW2LtCStCpQjjMakKIzlxCBDK5QrY3kkK68oBCRFy+Qj46rkIClK5CGDS1QprdjUKexpVCkPpXQvwFp0KsKjlCKCFGQuShq0LMIqBC+s/HQqyVWELUWFFCyryjQtpPpkJ8sKZCxH9yQrAylEKOsLBCWiuQQlhDcUKQ11tCtMmFQiiSpEIE3KVC8HRIQk7gpUIkGcJCTINmQpStjkL403ZCQGK+Qhw6g0IkpU5CWNa6QhDOuUJi26NCxlmgQop6kkLIurpC0DebQpxSD0LCyZtCNqyZQh5mt0J0l41C4iihQpBvrEJYlsZCfEuYQr63uUJ0uqBC/iCiQvTroUJgSqxClMeiQj5hu0IifotClvCiQhBquEIgysVC+uWuQnTcu0I8YbtCvPGMQqyXqkJiD6NCdIOrQqiorkKqKqtCMKuzQmoRl0LolcNCoge+QkyIfEK4DWZCdA1oQiorikKkGUxCtmajQgjUV0LQF7NCjBqKQtQsTkK+9pJCkAmAQjo+t0LYPHdCDHDGQn6UvEJqToZCose6QpTfekLI+KFCGteZQiSBbEKkS7JCNBo6QkK4l0JywKBCQD+HQjSrwUL8YJZCWGpnQoxkrUJOYJdCDoGZQsb8tELwgGVCjP66QvgeZUK+CLJCZJaWQiB4j0IOcb9CXPaqQgxWtEJGeYBCzIJuQqRXXEKKq65C3gqFQnB0U0KgAZFCVuyZQr6ohULYhWdCjh2WQjyugELMAnBC8nenQrAlsEJgVE5CUEuiQpTaVELMJHJCypaeQnS0w0JoQb1CWCKjQmCSpEIAQp9C0PedQoyDT0KGw5ZCegLAQpY9uELoDrhCqj21QjTIskKqBo1C7Bc0QjwOsUJqK6tCbjevQjaIjkLuX4lCLr+kQorzsUJK2rpC9HGhQihKZEKUJMFCxKePQoT7kUL8F79CFH9GQk4Ik0LOgLFCKB14Qn60kEKISgpClEFUQlRGWEIOisFC5PQeQvh8OkLcRTJC4BO/QjQtn0LUT29C+j+hQtRwfEL4moZCglaXQnIZxkIIvHdC9BCyQhKDl0KYDSFCkDl+QsxHmkLcqlNC9iumQojXwUK8A8FCXGicQjTupUKiCoZCJlqIQsjlbUKsfqNCVBO+QlwExEIIEMVCOhKeQoxTrkLcEHlCWq7DQrqws0KQ8whCdt6VQmi+gkJoW31CrBiBQiD0NkKob2FCjFm6QnYqhULkT8JC4MeDQjw9gUL4YF1CbkeuQsz/jUKwGn5CbOIaQjobqUI=",
            "dtype": "f4"
           }
          },
          {
           "marker": {
            "color": "#636EFA",
            "line": {
             "color": "black",
             "width": 0.5
            },
            "size": 6,
            "symbol": "diamond"
           },
           "mode": "markers+text",
           "name": "Cluster 0",
           "text": [
            "C0"
           ],
           "textposition": "top center",
           "type": "scatter3d",
           "x": {
            "bdata": "/SAKQg==",
            "dtype": "f4"
           },
           "y": {
            "bdata": "CF0bwg==",
            "dtype": "f4"
           },
           "z": {
            "bdata": "sbeVQg==",
            "dtype": "f4"
           }
          },
          {
           "marker": {
            "color": "#EF553B",
            "opacity": 1,
            "size": 4
           },
           "mode": "markers",
           "showlegend": false,
           "type": "scatter3d",
           "x": {
            "bdata": "QreFQiBcDEKsXmVCbh2RQkBR+j9MY2NCcJXuQRBpEELYeaJCfNNsQm5+ikJU9QJCgA+aQlAJlEK4kb9C4KtTQpB8zEDgB1FASH/pQa68s0Kw3alBwL4LQlApTUIWyItCeLAvQgjErkIQ195BnmfDQlDdXUKy0KxCKvCmQubvvEKQk4DATNigQsAZpkHM+oZC6ExZQdwLJEJSUrJCYKJJQLjwW0LwY41CbBmQQfxAVkIqG69CzOkrQvDJmkKo/7JBnPAgQgAykUBAX7ZCEETYQQzOFULI+PZBuPhMQuSMjUGgMsNBsgC4QvAfP0IAfVFCXh6vQnz7kkF0nFtC0CSjQXSPfkJYLwVCSJiaQhzWZkLMH6NBQAOLv4wCzkHcW5JCmpe1QvDJEULcf4VBWHFYQsSCkEJwnLtB1E19QiAnKUFOI8BCtGObQirstkLy2qpCaCE5QUKAtELGCbpCREI2QpxqakKarIdCeL0EQrh4HkKO65pC0H65QeQFD0IIdBpCuOdvQtRQlUK+AoNC+C4nQshknEL4x3ZC1NR4QjQ6M0KIH/NB8F68QIhXiUKYciZBDN9vQixMm0JQToNCnO8HQjzotUKEDyZCFrKJQuDbYUG02VJCYJMJQmaNxULwP6hCHCNIQrRDl0Kcl6FCHLZjQsx7jkLGZ4BC4JDuQUAvdEKUEmhCANJFv7R5v0IAboNA7oalQsDcp0KASxRAtBmRQuj1i0IYsyNBdGdAQqgL7UHAA7ZBQMFZwJIekUK20rxCwrmwQqhJj0J2t7lCiEmeQfAa9kHU7cFCbPIBQjDDu0J0H9VBRFpZQpgbIUGkTptBwOQbQHpmjEKESExC9DINQgydpUEUXjxCONrmQeQqEEL4t7hC/FbBQgSuB0LmaZJCgGkwQnzxYEKMCZxC7ne2QghIcUGIhDFCCL2MQizUN0KojvxBDL+DQoDXx0Bo4ptCVO6uQo6QkkL6D5JCjIk9Qmh6ckFAZ4hCRM8eQuhUdUI4QoVCmhGqQlwDcEJYH91BdlS8QuAuLEIQ1fFAAKrkQfBRsUDwp5BCVNRHQrTrNUIAJ2HAboqDQnAokkHQxGVCLBV6QrRRkEEAnk5CGNSQQlAq7EGAGUE/eNAGQoBYfEJ2Z8FCEP46QWxqRkKuSKVCwCYYQijb40G4bHJCQMGhQICtSUJ4fzVB/HkAQtBFrkEMs7dBhGcrQrwmlELQRlxCbOtIQtAHFEJ4gqVCXNR9Qhpqm0LUgV1C4qe8QrC4fULkzXxCAGfoP3hApULAg5lBcoG7QghwaEKcCVVC0o+LQiiEXUKAOd0/hhzHQrCF6UEW0b9CGIuAQhSngkKA+ca/SL2gQiLBo0IA0gE+cie5QvAPHEKIjhVCrKuXQho0mEJsQ9dBAOrtQVAHhkIA5o8/oFRmQIDnaEKsDbpCIMxDQYD6/EEg7ZZAxBtJQkrwtEJANC9BTNilQSAbo0ImirBCmCQpQpCnmkLKvrpCZP8CQqjVbkFurYpC0PlJQXAMJEKADJdCbpKxQnhJFEFIr7hCRJaxQmB09EGA69FBkFF6QjiTlkG8uMJCSIq0Qgjug0KY2GpCHFJLQoAUXD94ho1CpBChQghj00EkgAxChCbaQSAQ+kAA8gRBnHDBQgSdXUKUK81BpM/FQqwDP0L0/lpCAsmPQtTdlUJgT1xBMHaIQlqDmUIAqWJAQIuSQrxQy0Hqn7VCiOeeQuhIKUI0PGBCyk2gQiwvMkIMLANC9pSRQuz8v0LsGJdCgFi6QqhPRkKs24xCTB84QuBIWkAATRZBiD9YQiAfiUJwGyFCgEUqQJD/PkIM0QZCnDi9QiAqrELI5T9CrvSEQuh7RkK4JClBLMw4QkwJLkI=",
            "dtype": "f4"
           },
           "y": {
            "bdata": "4AnDQhCcOkKomvdBxJlbQuDjnUIIQOJBCPCRQmpPpkIgrrVCBly7Qs6pnkIe+rNCzDeNQnjGxUGaD8NCTPitQvhZVUEYD3NB5Pg4QvYQgkIwCXtBMHSyQpBTQkJ8XThCdAYOQkiBiUKIh7tC/lu+Qg5HnkIkg1ZC1F61QnjvgEGYdz1CnEK0Qlx0SELIYmtBlK+fQhiqZkGI1FNCkPgrQhDOUUIgXIJBTq6BQsCR/UEY27JC4PmBQvRJm0E+44FCaGG7QqwafEIAOClCyNN9QSgzzkEulI1CMK2+QQoIwkK+xIFCvjeCQs4ij0LM6LJCnJnbQTSAVkLk0l9CuAZJQtz2tEL8dGBCUH3AQtjI8kE0daRBYKYSQqikeEKczMZBWLyAQpC3MUKgMvhBLOMNQopmq0LYhlZCfCrDQoTbkkLe+LNCAESUQWgce0KgOSRCjjWYQirgvELm16tCFGKcQTo9nEJE7E9C4LiyQTgYOkKQrSZCsJ8PQmwZVUJEWRlCIM4UQlJXuEJuDaRCfPnDQZhopkIgLG5BvBl3QiwFlUHQ8i9C0FqKQoS2wUIoJptCIv6HQh5QpEIUUAFCUB19QXCNgkKMoGtCfLo0QswkaUKwckRCoHN7QtjvxEG8h0RCTGlEQrib5kGGJ4BCoOsdQlBqukIOpZBCDEwKQrpzkEKUwL9C0AIFQphpvUKIUIlCFjOqQpSlIkLgs1VBEAp9QmjaOEKAwZpCYK6WQrBarELOVr9CpJCiQvyEv0II/8JC6DSWQoAap0JOlatCGpSzQizrsEJAeaBBPOk0Qkg4mEFYlbNC4PMPQrRfu0I8HrhCcON3QRzsskJsr4dCNPsdQhqbpUI0qh1CwGWLQcBNrELsiVRCjCqYQRqrkkIURm9CMBVKQsgdc0GwOBxClMa4Qpw/xUIgBQVCdPPGQrRCrULeTcFCmDorQnBrC0IMHy9CIFgAQpAsTkK6wYZCLH8ZQnQ0pkKotzhCto2mQri8EEI+gIxC4iC+QpRRrEE4je1BgF9WQrw8MUJQDwhCqM8KQihwDEKYC+dBXJ0CQvQGa0IgNyVC5NJLQrQjnEI4cGtCbCiPQqgqv0IsUIhBhEo7QlKOqEIYBmhBvL0QQlaJnkJIJqRC/lCRQkCXf0JksVhCBHAKQlyQGEKWw8BCgmHFQsy9qEF44eRBuPlnQiBZqkE8YXtCKPy9QgQEgkEecaRC0IuHQURpzEEU/HdCnEk/Quwo3kFgGcdCoBqkQSRMp0KAIgVCxo/CQpiudkK0UqRCmPTyQSCYC0Ju5qpCTEeFQoiDMELg8W1BAn2tQjRXg0JgjcBCVP9cQpYRiELgGdhBfOWhQkSBb0IaiZdC1hSeQowHVEI+5pZCtDU9QpTzE0KgsCxCrlK9QnDdCkJ4l3FCpBkPQlBNjkLgi7BCvH6FQZABQ0IQzKdCILfyQWJDvUIwexhCovHEQtb/vkJSwoBC2EJSQYx4PULg9hZCxAYWQoyimUFgfvlBqED7QSDwSkI4HZ1CmKzRQbDqbkEwPo9CbPbeQYywC0LG3IpCjHsfQuDhyEEaba5CRBuFQqxhwEIOXp9CjobBQkhd5kFSIJtCTBWgQR5BoEKECg9CiOJhQkq7skJ+iq1CBCs/QpQnSUJeH4tCDMGVQmgSGkJQJPxBIvG3Qiy+dEL+tMZCIAo7QpSLRkKAdF5BukWZQjh8w0GE0T9C7EQsQlRUJEJ0vodCSMP8Qcw1t0IyR5lCuPyIQugc2UGA72BCpFYnQpCvw0Gge4RBjv+yQqBcWELAUF9BKIJ9QVYOkUKwvblCWF0cQtpUl0LsviBClC3HQmiu+0EQr8RCyKyYQoTLg0LQnBRCWKlDQoybWkI=",
            "dtype": "f4"
           },
           "z": {
            "bdata": "9YjBwkYzj8Jr2jLCJK0Iws4VlMIse77BYqWCwjpJhMLEvYrCwWOrwuJ4EcKgpuTBwaZLwhZyo8LZMabC+XUywm+9x8IwScbC6ElIwsm0NcIRlBDC3PSiwjSCXcIMaLfBiMCHwiuescJyx77CmnOewvA1h8Lx66TCpyC8wpgPHcG8+f3BAtWDwtm9gMJYOgjCY+SswgTMtsE/KqHCh/E5wmzXuMIE0v3BriOkwrQNf8JQ+RLC84SrwobXD8JV73TCfZS0wm2UGMJn0lLCuGmdwjJkk8Kc8ALCgKCiwS2rkMKw4/XBpFQdwrx9hMEA0vHBSL7GwkYVqcKvD0nCJZqVwu18GMJJBbjCZgK0wjlWqMJzfRnCiIA/wkyQl8K0Vd7BVdk4wqSV0sFzhzHCSYZtwlQbwsJucx3CtGwJwiQ4gcKwJovBEFLkwUwKk8LxKEvCz8PGwtA4/sHUJrvBvXwywlRuYMKo+OHBsgRWwjoyWsJerD7CODHVwQnUHsJkFJ3B6PSLwczmg8Iw5GnCfii4wkKVxMKifKfCTZtOwtm+ksLC5pXCSQdWwrzLxsIVqqjCAJWXwSBxVMEtq4HC6E10wuxKYsJqOqDCkDPlwbgYZMKjU6HCW6GYwq9rd8IQN0fBQlSTwphBSMH4nlXBX+ekwjS/psGonenB0lGCwj+kY8LW8wjCPzhfwqR8mME7rEbCLGmIwXupVcLBqk7CBZuuwmiQocF4iY3CVSCAwrkfcMIbrabCj2oiwiJjRsLfYmrCjexawuIxhcJmEAfC5KtUwu9nUMK6XzHCqDSywoTfocFckavCQH2MwigxpcKaYnLC4EiGwo2yYcJUhtzBkDJFwswwmcLmrwnCtIu/wVTItsHWw4LCOKCawRxeosIVkHzC6+G+wm9vYcK4b4DC8MmJwSc7I8JXI6/CwEa4wvBEo8L2u2XCSUS7wmUgPcKoEzXBMneuwglXd8LQdI/BGys5wq+WvcIOU4XCYF6gwYDooMG8jr/BVKW6woZnbsJufFLChlZLwtn7s8IQARXC7r2lwil1T8IRsxDCd7mLwt4rRcK+xQjCuFO3wileYcLMDevBMIh6wVBACsJgBdPBQRbFwsydpMLa2YLCsui3wrK+O8KAy9fBmbsTwlx27MGM6JPCqrWLwplkt8Lr18bCFyqnwjvCbMKsgIrCaOO3wlVbvMJmZKHC1VVhwm7NsMLSy4vCsDu+wrwV8cGchwbCbmcKwtAKYML0g0HCUPOOwrbCucL8LerBWouwwhu5tMJ/YK3CADcZwfjpkMF3urvClInxwRHVm8IHbIzC8A1uwYzBi8KcUQHCfKyGwm2DrsItgSvC2tlHwrQI88HI0vzBojypwpBMncLoD5fB/LSOwcrgi8L00bfCMhJbwrupZcKkMPTB7uaJwvPObML3WsTCcNizwrKkqsJmDaXC9BaLwaDb8MHWOUXCst6awoC5jcGLhZ/C8GT4wYMuosL++WvC3NHgwcQzBsJwzv7BAMykwnLGjsKwom7C9Eatwb5EicICHI7C1pVrwm50asL67JnCWLyIwtmMm8IWXb/C8MkGwXiWSMEEvrnCwb+4wnJ7isIi4MHCwztCwh1aKMIQdsHCbyG4wranD8KjyoHCurk3wjcLjMK21Y/CwhjDwrw2n8GdGCHC6RpEwlSngMIKxAfCOU+8wjOvrMJQHQfC/U52wnZrVMJCJgLCAwogwpwCesLkM6XCk8aZwvVwf8LdsqXCcL7HwSCjhcHInqnCwEEOwuTULcLaMAPCnP6mwlaBN8Jc2gDCnqJxwgrzp8L6eIzCP260wvbNwsLVDLDCjDoMwghNGcJgcKXBELmfwjEmncJxPo3Cb3mxwisyWcI=",
            "dtype": "f4"
           }
          },
          {
           "marker": {
            "color": "#EF553B",
            "line": {
             "color": "black",
             "width": 0.5
            },
            "size": 6,
            "symbol": "diamond"
           },
           "mode": "markers+text",
           "name": "Cluster 1",
           "text": [
            "C1"
           ],
           "textposition": "top center",
           "type": "scatter3d",
           "x": {
            "bdata": "oApJQg==",
            "dtype": "f4"
           },
           "y": {
            "bdata": "a2piQg==",
            "dtype": "f4"
           },
           "z": {
            "bdata": "Ivdqwg==",
            "dtype": "f4"
           }
          },
          {
           "marker": {
            "color": "#00CC96",
            "opacity": 1,
            "size": 4
           },
           "mode": "markers",
           "showlegend": false,
           "type": "scatter3d",
           "x": {
            "bdata": "aeCpwnO/qsL3klXCUnyPwsssEsKW3QLCJM4VwvB3d8GSJozCmDMGwsGoq8K5iIPCx5QXwk4BcMLgy9DBto03wsk4pML4+yjCZhyRwgutoMKbB1fC+Bahwol/j8J8bpbCfJ6LwRxkvsJpuKvCV9W5wie/v8LkXSrC/Butwlm4HMJQAtrB+nK2wuC3o8JDILDCDRW/wrs8nsIjZBDCUti3wnPJasK8PLHCQIV3whLLC8L0p6nBRITvwQvLvcKeTS7CLPm1wZeRgsJ7kxLCp4O4wuGxjMIcKNDBJPPlwewSP8JxwyrC192wwhXmkMI4E/jBxV4vwsDWSMJM7sDCsTVXwiy5CsJsukfCYHUuwSjjpsJrW4/CSpnHwqg0msI4KoTCNwPGwt7snsI32BzCXQS5wvx5mML4BFjC1tWHwnkngcIwLo/Carilwn4bAcLV5RvCNU2hwuq2wMJATB7CdByVwtXsTMIfWLXCEDjCwSigdcGinQTCZORMwshprsI0b+/BoejBwrAubcHJemrCKIpKwbh2XsGPuRPC+GU4wah2u8GYm3DBQrZKwnhFB8LgzaLBO9a3wqynaMIi7ZvCBEG2wQj6+sGA3KfCUmFawnwxXMK82ITC1QRwwi/EXcJ2aTzCWMXAwjcGmML+1qvC2JOdwsyJhsKxnMHCguigwgsvt8IqYo/CORDHwkDkjMJO3mbCyuA6wp3vo8JyZHLC5b+mwh7XgMK+3ULCBQWzwlRD2MECCpbC7eK6woEZusJYwcjBQrCcwqCR5MHGDIXCuNPfwYQKm8HH/z/CgJ3bwadbxMJr36vCbMoUwiFRoMKrtbLC2E86wgxDiMKsm13CxpSGwmTarMKlZYfCkvitwv2gXMIcVpHC7M+ewlxa6cE3dCHCcAOEwcbdPcKsp/zBOJWHwt6lJsL4xOfBTkwBwv6+wsLxFE3Cy36pwoiex8EwiJrCaG/6wdgdx8La4qTCujVkwghVBcI0WTTCiJJ9wgKqB8IwelTBXHd5woq0n8LQaNbAdn67wkTOrcIb9n7C7XKcwlD/U8HBl7DCCqKHwl7Hp8IWEiTCwRUYwph228HBf8DCUOQCwjxarcI1KZ3Cqxa4wmGPRcJ3ikfCIezFwjyBs8G/iqfCSBjYwRGAg8LAhwPCN5+ywvWuTsK3/C/CivmhwnBRtMJU6UnC2H2ZwmHncsL68QfCBIu2wvhoQsJ6iZzCPK0lwtTeVsL0NgfCu+jDwvaXwcIWVLfCnGyywiwetMLf5ZXChtipwt6Xw8IsHZrC5i4bwpyCmcIP9DTC0HuVwrI7OcL4FP/BG6A1wh6hjMLfeT3CRt2KwsB+8sGE/L7Ctdc+wubeMsJtTqDCoDCHwmBpFMFSmLDC30auwlg5hcHf6pvCRFvfwb/SxcLCg7zCWr2kwou6qcIn1UzCkEKEwvQxH8IYdnDCxuNcwjZaisJ5bxrCiKudwa3aVML9D7fC0s8jwvCLHsIV75jCohCwwndyjsIViVTCbLWFwty97MFBOMXCa2+owqD2WsLKMB7CCv4XwsX1tcL0fLjCBM4gwgyglsKwHBPCA6i+wlx4WMINp5rC6iVhwuiWCsHEj5bCWGs/ws6uuMKoAELCvGLFwjRLhMJH5LHCIKURwp2dkMKwqqPBJDDuwRhN9MH1Pl3C5VuzwveRjsKcP/TBcRI3wgdkHMIVvIjCtOldwjaNHsKRtMPCRc1cwhzMFcIfQb3C5lSEwjyCrsFbt8fCJJwRwjanOML0Sa/BwIv3wQnAjMLqAInCCLihwqZKo8LmY8fCuZgwwhgIrcEwcy3CmJAMwaM1nsJHUHnCVjElwuEONsLCpSLCVZWuwrbJtMLQHYvBWDcnwnzOHcI=",
            "dtype": "f4"
           },
           "y": {
            "bdata": "EPGwwdd7TMLgdDnBmJ7owVCmXMGxgDXCNrykwnrlHcLJ3JfCOqVUwkLOC8JVZ6TCfPNswpO6pcLbuy/CvMLBwcavNMJoOIPBhKiEwoDV7j+3nhjCWlAEwjVuusLAGTLBGlVLwursA8KILiVBSP2YwTxNx8GjY73CKEEbwTv5Z8K6vUzCfKuswv7ctMLg0U3BaIvawbJMiMK99pLCiamNwoh0DcKWe73CZAWxwsTcjcIw9vbANMjGwvSx0sFYPyrB9b46wphmPMFmeZHCZTyAwlDSe8FOJLXCHi4Lwk61icKSHKHCdAp8wgnqscJN8q3ChkitwgCBU8H4VHHCUuqxwrFcccJ3NYnCkG0GwTgmSMECSUvCRCfFweWaN8JL8UjCSbjDwiqkxMJgnKnCoE+0wJzRqMIF72XC1qVRwof5ucJiGVPCcK6ewuiqt8JkRAzCtHGrwbDFosJgv9LB3KY6wtGzQ8LNJ6rC/DKmwiAIvsKW6ALCVsifwoCSkMJitKfCgJS+v3h5gMHYoFfB442LwqCDl8H+ljnC6xoXwr12csIpL7HC2GGLwkHpb8IKzDvCGulewpaLqcL6yMPCVRhowsSojMJjPDDCQCWjwOAYqcHWNqTCQLDov/fAucJA0JJANfFCwiAMWMEYsf7BvPWWwcwRicJ7gBHCOoE7wug8hcGQ2Y/CsdC9wqQwhcLEl5LC6LUnwdA8usL/1r7C4CL9wVQ7KcLICunBFGa5wsFRH8IU7cDCAN4SwD5pCsJY9WLBcCOXwfpVssLgzvnAl2xfwjqcksLIBqHCYGcqwgLOX8KTb1TC6OgvwbctGcKgVDBA+lGpwqi4BUFUy0TCOEBBwqB05sEAyUnAOFShwsAaXsDcbuXBVFiHwkKAb8Jxn6fCLF6nwYLvs8J4a5zCZ/m2wqzCtMFAf4PAK7c+wuKoNcLYr23B7ZSbwh/jIMIw0KhA4M0Mwn5iYsI8EQnCN1tKwszkHMKaiDvCvlOwwspRisLbU6jC3KCnwlEDm8Kq4pHCOixpwvdttcIHxsLCQGEqwMEdmsKWnK7CCUoWwsDSg7969FHCT8oiwkAY+MEobgnBPXA+wil6i8L2h4bCXyIjwlL1hsJZ81PC8JfSwaBRbsCne5vCn3qUwiyThsKNuFXCQGlnwXDGWMIogrXBmu9nwtYex8KmMKrCwMvGwLBxlMDY6IzBaBo0wTT2s8LvmsLCRZ6SwsB8TcKm65nCDtaywnikjsLwEETC0VGewqBhkcEnGyPCrFKhweAlJsFAEtFA9o0YwoBemcLPT7HCq398wpR8ycF36UrC9D6GwulgisIeCkzCEGbqwB1EfMKPdHbCRLmkwihAqsJ/zkzCBLOgwV6euMJAq6K/WI60wvOgEcIQkrLBHTlNwuYYJMLG3prCrCedwdfBq8JNcL7CvMzIwdLTvMJ967jC5OLAwTOfksKeSo7CBDSywUxAgsJnLmHCQh3HwgCH079IWSnBiKZVwoD7y8HgWJpAqqQOwvq1dMI4mlXBSFVWwtEDxcJoy4PCYHXtwQCJFb+w4cHCpTXGwqMvLsIOvlbC8HAVwaMzTsLA/qDCeMCAwaM9x8I3kKTCSTQnwl5njsIukYHCSeUXwgzwccKu4VDCqPlFwQvYq8JETe/ByqepwmAGacGVoFDCoFPGweN5wsJyEgvCH22WwhgqV8FyxaTCsG+RwBt0MsL4nyDC2nWUwjnuRcLgAdPBofREwqAzh8JCEK7C4EJzwL7lgsIUnQzCt97FwolYjsKCT4jCC4yewpyznsKiCWLC8IvewP7LC8LwWhvB/ODFwQhDlsL4+IPBxzC1woA6SMFljsHCoGFfwlRR3MFZVLDC3A2swej6SME=",
            "dtype": "f4"
           },
           "z": {
            "bdata": "oKqtQGbonUIa47FCYLb1QNjIkUEGs7RC/ERxQijoP0LchsZCOGYWQiDWYMBozbVCDsCzQkCX80CyuZ1CnLlEQnjSf0EiuaBC1hi3QuK7uEKkRrdCeMkNQbB5I0KgYYBC+AGBQc6hukLUA4VCrgqOQtDYO0I6YZZCRE6QQUBKLUK0CWBC/KupQdReckK0nwhC0PSHQmTUoUJAvKBC7LzAQgBqwr7AvlRB7rmiQgA0ST/4s1FCyOBOQbiTY0H+ZcNCAt2RQiRPlkIcvItCQIO9QuhiRkEc9LZCtBtGQqAw+kDaWadCkM6WQTDAJELwYohAuH4dQhAohEE0g4FCjNy7QWCKBkLcoAdCWBXqQWyHtkJaUK1CCD6/QuYPsUKcXYhCJFJ2QqQ60UH0b6BBxHpTQmjoJsHSr55C4JK1Qs5TkELgl3lCtteMQgDIC79g+ZdB5MKlQsCBdEKAjFjAXKCTQWDbYsDQkFXBYKAoQLgReUKo42lC1FFoQjQjMkIA3Qa/pEzAQrT5vEF288FCVDKLQRhk+0GAt7ZAeBwPQkwhLEIAXdI+vMYsQsYmukKoE/VByhOOQuhntEEcWI5CtJ0jQrwlk0KAyRPBlrCmQpyijkJAiCJAGlKzQlBHcEIgBElCAOhLP0wah0HQsa1CsKpuQlDnvELgbDjAXNyVQmTFIUJA6olAwKiyvxhOykGUhZtBaIO8QfYhuUKAEK5B0LwOQVaQikIA1qM+4DZAQCh1n0JIw71CkIxaQgC4gj0GeIVCkFJ8QgDyGT5cWrxB4A50QNSQRkIAT4xBQHVQQDhBYMEA6GpALCpwQriyBsHYt3JC2Kt0QhSwVEL087JC4vLAQtCBXEKI7gFCWFoDQvy4d0LQMUrBQlu5QqDyiUEEqLFC0PjVQeCDg0JkO1RCyN6TQiBF20G8aB5CQPnMQcTyxUIEMJ1CeLt9QRyajEFgu1VCtFGNQTBhsEKcwLpCyJp/Quq2v0IQQ4zA6KCoQoCWI0JoEOtBYGYbwFiNPEFcyh5C0F3mwIBOqT8IVlFB+ERqQvDX2EEWNKNCcOauQnwkk0Lg6w5BPC0vQkTea0KY8BxChMxjQhhQZ0LkI71BAL12wbzWhUKyEoZC6H2aQth2aUKweHrBLESUQd4apEK4qi5C5NO/QdQ5nUJAnY9COvO0QmCeVcFwQA1CaMQSQtylqkKghyJBlEY8QsB0msDgdGDBUHmsQgCVqMDaG59CJk+yQgCcP0CIDHTBGHwpQrBuo0CggClAOLNhQthOLEJIhSJCIPs5QADCIz9YmpBCEEKrwPAoJUIS0qhCZrKzQmDVRkBoHHlCuBAiQtz3tkKCt59C+Pd8QsA9S8DAycdBLPiYQlS6R0JgDPVBtFcHQnC100BA/7ZCfKeKQiSELEIQkqFBRHiPQggsn0KQBK9CgF5+QvTd1UG8iEZCkNZ1QXhLBEL8iRBCJCNbQgBQWMA+vptCaNitQgT7d0JA6xNC/PLFQlQMnkE82zpCEGsDQiD12kDm5L5CTj2fQraKsEIM3nNCUDH3QeCVvULsyIxBjIJjQkjYa8HALvVBvraHQlihv0G05s5BPD2oQohSAkKg+GdBVMMbQtzOI0JgJUfAJC4QQtydaELQwO5BwKwfQQCuU77EqC5CxuHHQt4MhUJsXAdCYG+SwBik20HwkvZBiMxsQph3dUHEzFFC/JeLQlL0l0LOp6pCcO6iQCCRk8AMUQVCIG/xQBxqQEJ0PwFC9OdNQjz1rUJINi9CeIQFQs4GrEL4YoNCALgUPf41p0KI615CPMAhQsAxPMAQuatChDPFQVAdqEHw3IBCpGAYQjQgMUIEqidCAOa+QeSAwkF4A2ZC2OzpQcoUrkI=",
            "dtype": "f4"
           }
          },
          {
           "marker": {
            "color": "#00CC96",
            "line": {
             "color": "black",
             "width": 0.5
            },
            "size": 6,
            "symbol": "diamond"
           },
           "mode": "markers+text",
           "name": "Cluster 2",
           "text": [
            "C2"
           ],
           "textposition": "top center",
           "type": "scatter3d",
           "x": {
            "bdata": "ozVswg==",
            "dtype": "f4"
           },
           "y": {
            "bdata": "eU1Owg==",
            "dtype": "f4"
           },
           "z": {
            "bdata": "x5MxQg==",
            "dtype": "f4"
           }
          },
          {
           "marker": {
            "color": "#AB63FA",
            "opacity": 1,
            "size": 4
           },
           "mode": "markers",
           "showlegend": false,
           "type": "scatter3d",
           "x": {
            "bdata": "PmC+wtYGQcJQasPBeL4Lwg8Qc8JQB8bB/JAkwgfoZsJEfgjCwFMGwIBXtL+HrjfCgfKowpQrtMKLW7zC/hs9wsWescLQPpHCurqXwu6CBsJg4mbACExVwXSbxsE9m1nC+AOrwSBOScA+3YrCkryhwmxfLcKG4ZHCwJiHwiQATcIvw3rCGbZhwp5lRcKAeOfBph00wohzb8HmC7zCRNOBwdwxksFfHJfCsGS5wTBNIsIEkW3CqPkAwksjt8KnYVPC51RqwqvKi8K4yaPCvHtQwnoGA8Jpx7bCYAMewj77d8KMV2vCRdQuwoiOt8GKHYPC3OOawSTAScJM/JXCSi9iwrfaKMJwPaXBgHkfwSEYeMIB8I3C0NFkwctAUsJHl3jCHL6Gwrj+OME3b0PCgypywqDEhsJ4bYbB2Xwbwqwpj8JOOn3Cm06xwuk8pcI1iS7CHmkNwvXEksJ4wcPBRiGuwnBjtcJdDa/C9KwEwsIUUcI11pnC5oeewglonMIADa2/RBOxwsNKtMJyw5fCHaMowrYIncLBGnDC0XjDwlwfXsJoZlzBUBeWwmSSv8LqL0vChpqywq6gZsIYCsvBpFG7wkhGEcLmkx/CeUq0wlK8gMLnZT3CcJ6UwfwuncJTHJvCDsNqwhzV4cGZiYXCdBIEwroFDsKIAK3CQy2RwmCZqcLnoxjCmJbuwS1LocJrU6LCNDn4wctWUcJIhzrB9g+UwiD4u8E7dZ7CapBZwqTxnsGjuTvC9zCxwqgyVcLUf2fCKJiAwfShqcKTS2TC2K23wrgj/cFUU+PBuGmYwozvRMIIJj3B2H8WwZZ/nMLObqzCNMoowootY8L9L4nC+jFRwus1isKAcBPAL5aiwtRDvcLiBazCRrIiwnGDQ8JaO6jClI/VwXxsm8KANxbC2BFKwRBg2MALUkfC+uIawmy58cEMalHC3C1xwlBy5MCeG2fCT5ISwqAHQMFNcinCTzwawn+NScLU79bBSpoKwrzGjsJiwXHC/EM2wq0jwsJYlATB4nCWwjStn8Jwjr7Awj0BwnRmtMKa+YnCWIzhwc23uML5A8TC0aZ7wtLTtsLgZn/AMSG/wteRKcJE1lnCcE14wainRcIfiZfCSaxmwnDigMLlphrC2DaowqPnqMIOk0vCkpprwgCx58FH1sHCo9sUwlRLhcHbfqrCEFjKwdD+BsH1QsXCz0towmJiA8LLbzDCX81owhBH/MGsmFbCQLFSwO5jnsJ0l8fCmPeDwbzYjMEMgILCQONgwCBVrsBnKsfC1AK5wjeglsIhCqbC+CwdwcVBgsII3KvCaJDAwSpJgcIyGxnCZiIrwgRkj8EMBwPC620XwvA9RsFo19zBXXtLwmZAjMLyfofCBtsfwrhbkcIgClHAkDq6wqC6RsDGH8PCWGWqwj45WcJExqrCk9pLwmt5L8JC9THCEvMzwoO9PcIgnr7Cbj6Xwpgn58GAu8PBE58kwmxns8FHZxrCQGvRwcxlKcKIuwfCgLqpwXdrgsLwxMXBWORVwQRZuMEYS8jBciWfwlwXlsLFUK3CXrYNwmC4vcGw96DB5tcAwiXBrsJY5yDBPNlgwlLVKcIyOYPCTMSfwrHjj8KEy8vB8sZ+wqRBmcJgEevBSCCnwZK+lML45KbCoiekwhAnisASc1bCCcfEwqjKIMEwwq/AYLfOwYM0UsKQhevBjPu4whfEd8LDBr7CO5hQwijPocIwG6XA4I2xwACAdL70T5nCBqtVwjcou8KY0zHBr+KowozRP8I81y/C5vc3wvo+Y8IDf6vC6xEiwsWYisJG/rLChGhpwoCcv8G8rerBhI3FwiVSw8JIjAvC1qm2wkwkn8JOXTXCH002whSlvcI=",
            "dtype": "f4"
           },
           "y": {
            "bdata": "OCRpQVD0ukK+gbxCCCp2QspVnELKQb5CKAmhQkAFYkLGeZxCaD0BQhhkQkKABLpC3P9MQuTCqELsHoRB6Jg9QtjmdkJC7IRCUMteQspvqkJy6oRCML5NQoZKjkJgErNCLBVOQvYkkEKY9qFCCDJGQkL9rUK8GbFCnFayQb4DxEI4V1pCGOwSQgypIUKsmG9CkMvHQviLVEIMh61CKBASQuhTn0IQRdlBIN0SQoxtLELCSYpC/H8xQiSfJ0IQA2dCOAAtQUI0wUJgayRCrreCQhiws0Lo59hBqIGiQpChb0IQUdlBIM1JQbIIoELg9z5CMETDQkCjPUHYMkZC9BK0QqyUv0JQBVJCyg2ZQtjMbkI8rb9CiAtxQuT2q0KQ5StCcCqIQgjCx0E26rpCLBd8QsB/xkKwOBNBLNSmQgaBuEI4KitBgIlfQpBEfEHo6GxCGAgDQYRS3UHucZ1CXH1nQvyNtkIcy15CmlWUQkYjw0K60axC7DlYQtgQL0JMERlCiB9uQeTqoELgbf5BXAc2QrgmpUJ0CnpCJGsoQrheREJgNqlCHBGRQrKYmEJ8kr9CsJDGQraSi0IqmL5C+DxhQhAsuEKOqYRCcCDDQsbwh0KQC/JBMJ1mQpiQcEJEFkdCwKmIQCyhe0LuULBC4AVwQhAkJ0J8nKJCoC+vQuRwp0LmO8FCUn6CQsQTpUIoIx1BQCv/QbAeo0Ew0t9Bgr6lQmD1SUIe/45CXlrDQtQjuUIug51C8pyJQrDT5kEsDaRC7g7BQtJzn0I2PptC6je0QoBclkIoJYRC4F/QQYAIlkKgMgVC/OEkQrzFn0FsZaFCqrSTQuBvpEJSF41CahOMQjDR2kH2Q5pCAFMWP1A+NEKAJ0k/FI67QqixeUKoXCJCame0QraDqEL4ZU9CHFEJQkb4n0JY4mhCZkCCQjylEULoAn5CXAaZQgRAcUJOvL9COAxBQpS7D0LAA2xCmIkwQvjOjkIc/Y1C6FuUQuZ3qULcjLJBFnyjQlA3qULEBJpCBMeoQgycR0JQFVlC5COhQn4hjUKcIC5C1HdoQprznkKAdKVCqA5wQoyUjELiiK9CWHy3QrgomELkwSBCeCb6QRR2ukEgQ/JAtgmjQghBk0K4a21CMm2TQgCyskJegZNCCnOwQhT9XkJ8VhpCSEvkQVzvPUIYG/dByO//QbYLm0KQWCpCumvHQgzVV0I2K5NCKKwKQWC+LUJwxZlAoB2nQhj9kEK2qcFCCuetQqj4FELAjqlCph+SQvQeFEKIBK5CyIdTQuRehUHM049CoAfGQmRMl0G07yVCKBeQQoJTtEIa6YpCFDcxQqA4xkE+oIpCguu/QqYvw0JwYFpC5ieZQnLDkEI8mQJCzD1bQmiEE0Jo4PRByLTFQl6Xu0I6YsdCtFVrQtzFgEK8yH5CCMadQpj0tULyscZCqFqTQtAfz0BYsFNCmu28QhKrrkKgyZlBQPw6QWSrt0G2QaBCHHFwQoRWpUFU2SFCXIl8QnLphUJ4MOhBmDG8QcSlx0KsZMNC6CcUQkgDGUJumqlCEFLkQSyyn0Fg5c5BMtq7QvKIukJExENC9LG7QvAArEKEAIBCltqrQlyiwEL+Wo5Crke2Qhy2I0IE6rZCAs++QtC8YkE0nZ1CtgyfQlxgaELEm7pCwiG+QqTcqUKwZ55BtCkcQjBKAkIk2wNCJG+AQvQHuUI0bNBB6hrCQig3NELgaH1CCDO8QpDIyUHEPo9CcJ10QR61m0LIsghCpEOxQsSjmkJ4N6BCMOcIQlQEo0LADEtCFiukQmjgwEKywJhCnpubQvy8L0JESp5CVGq2QqjP8EGYcPxBcgWqQhwe0kEovXtCourEQjQ9L0I=",
            "dtype": "f4"
           },
           "z": {
            "bdata": "8mWFwkGcWMKoiorBv+1PwgV1SMLk4InBFPKpwQM3XcKnDzfCZVHHwiwKwMJIVLPB7I6cwk0Jc8LzvIzC9oC1wpwJjcJuBYzCd0e2wg11pMIIxVnCVt0BwvxiesLtp4rCUnSowjuHrMLPmKHCnDSOwrk6ssJM3AjC6WqswkICvsLISsLCSImfwg2oX8KJBSDCHiiZwnoZM8Iw6IfCHGS+wmsmLMKr03XCGoS6wkVoucJ8WK7CY0qewn5iosL0pR7CwQmXwjxzucKRKk3C82yjwipAwsJCf5TCTqsAwgL/bsIMeJ3CGIiKwr1NvcIt+YnCUONhwZzknMLAG2XCDR0lwpQ7xcGIqUrCZje3wtKZs8LHsaDC4FLAwmRagMLpBpfCbauEwuMEUsK715zCwzGswm9sncJpibbC8SuewimVj8KV8rbCgSkqwmnfqsIoLkfCYqSMwtiDwsL4o8HClE+MwsQMOMJEk2LC2A9Ewth818EhpGPCHt25wgqfucJFIbLCzVSlwqTbusJ592DC8zJ6whKHtMLgdb3CRf++wmtAwcJVLJvCHFF1wu5/qMJwKbvC62dqwtKTXsLtLxXCdOdTwjRwscKM81DCSH6pwjdJT8LGWGvCCH2Nwj4TMMLTF7PCjreRwjIcrcIMO7/BNpe1wvFrScLoZubBMgAdwtxEtMJ93T7CuIMewu7ZjMKunInChBtpwmQka8I0NpnCGGivwhfePsJ8UxXCo62zwr5CKcJcHkHCtQFpwhZtksLS2FPC4hcUwnauAsLpWIzC57oawvjgf8JEYiLCebdvwuZsd8L9L4PCKnVjwsBynMIoJj3C9x2uwpHBU8L8RvnBUjaWwnHCY8I93KjCUCmewv4BqMIusb7CJFjFwtriPcLzjTTCCQOewjvwUsKKboDCItw/wlRLU8Kpk7/CCV+ZwjStvcJgDejBj4VCwulRRsIJyYvCofKiwql1acIYO2jC71SZwvC7fMJUgcrBkCKiwjnNm8KqoorCFYJawrQt0sHlyXrCEvQSwgsNjsLGdKzC1q3AwrxzM8IWVH3CHf8hwqp9iMJjV3LCeldGwgCCcMIhjLPCLFIdwh6VOMK1xpTCHcx6wvwhi8IwEaPCw6eFwjLtYcKTgUHCcFkKwpAuwMLbdqHCPAHjwRH8J8KvT6vCUSw2wodnMsJZeVvCVli5woy1/8EdSznClgghwix3fcLmj53CB+Szwiepm8LKR4DCbJLHwqyMp8I9najCl6YywhpQhMLLXcLCtqSrwtpCusLwW9fBbLyzwigOh8LEhfjBcGG/wp3NY8J8raHCg7KUwn6Sp8KGWwnCRyK2woeFVML0WfHByqW3whSpwMHUAT/CpFnDwkdpesIq+rDCnA4awiZnisItj4jCp8V4wvgKccJY/ZzBymZswsaAf8LpSr3Cf0lqwtiFMsKoGcXCeul9wpkkj8KupzTC4I2ewRqfvcJgGoPCy9WIwrQjm8IEqLXCfAGhwmZbiMKF4X3CKIORwj9MvMI/j5DCGKe3wu74aMKkE9DBVhvBwugUesLkf7LCi1eswq4cv8IRe4jCdomwwuvHpcLR5kfC4uyzwvjuxcH89fnBodKPwskeTMLl/lTCfMvjwUMvPMKCIzTCnKOZwetNfsJxvpXC2B2QwvmPjMJQo8LCsxqjwp0Rx8KcUKnCgl9hwjSBucKzIT/C5GQfwqvKx8I3waXC6Bl2wvcxZ8KnB5fCirBvwqgrssIHTG/CMZaswkoPj8KqBkzC11O/wjhGysE4Jh3Ciwd5wul7ZsKV1EDC0Rx5wsyr/cHyzXvCPObbwUFUh8KSalLCaV5CwvLMmsI0KozCLRNjwlljvsJU2P7BeOWXwQ+Wx8I=",
            "dtype": "f4"
           }
          },
          {
           "marker": {
            "color": "#AB63FA",
            "line": {
             "color": "black",
             "width": 0.5
            },
            "size": 6,
            "symbol": "diamond"
           },
           "mode": "markers+text",
           "name": "Cluster 3",
           "text": [
            "C3"
           ],
           "textposition": "top center",
           "type": "scatter3d",
           "x": {
            "bdata": "6idRwg==",
            "dtype": "f4"
           },
           "y": {
            "bdata": "36BvQg==",
            "dtype": "f4"
           },
           "z": {
            "bdata": "tDmDwg==",
            "dtype": "f4"
           }
          },
          {
           "marker": {
            "color": "#FFA15A",
            "opacity": 1,
            "size": 4
           },
           "mode": "markers",
           "showlegend": false,
           "type": "scatter3d",
           "x": {
            "bdata": "LCCowsaKP8Ig+frB+F4zwRy3t8EglAVAVXqSwmC8EMGo9YLBFNe8wZDSvcHoI4nBfBDcwTmwX8JQ4Z/AwKuCwcBe4sBgKdLAqFDlwRtnhcI8naTCdAy8wgSkwsEYRJrCeYytwtQhnsGQJ6HBgIN9wYXamcKTn0vCXVqowrmOZMLOhlHCnL3GwTTjWsLl1aPCnH8owqDebMGdHpjCDMIFwuxRjMGwKKrBvuKIwqhKhsI7dp/CTKPawYAxz78yBqXCafc2wk91kcLALaNAnk11wkElscLl+afCuJ6AwqBCN8GAosTAiKA7wYDDGMGnGpnCJd4/wiyxR8Lh/bPC6jcVwg7+UcLB1XDCwEY+wSSSC8KUVqXCENLSwVwPXcK9c3vCSEO0wUpDgMIcpLTB3aN1whryUsLkXEnCLFGowailwcFIyrrBoIBAwNAINEE6QCvCCHHMwbGmSsKjCpbCCpAjwjuKgcIinyHCd/WVwuYxecLFdLrCVNDBwWi9b8GgEujAwO2AwjUUuMJIBizBq0i5wt+BisK4BjzBbdlMwhiK98HUlafC2aGLwmUKsMIA+PI9BFzPwbSUKcIXRLHCUUc8wombYcKvsLbC7YNswgJMeMIA4Aa/fCEPwo4VpcK4ymdBf5kcwl5Eo8IaPQXCUkPAwqwAgcKAHj5BlOHVwYwHu8GT9bDCYMKQwcEoncKQiBvBzsUOwqUfosKh0brCimYzwrBaI0GA/pPB0NKywnBo3cHAEdRA4fUxwlQvv8KIGZzCRyeqwjH5IMJ2OjHCXwO+wo1lv8LUwCvC1NISwvktvsLzfyvCeEUBwtCgosGgY6HAoDplwCBCDsIZksfCWCECwdNzuMLAx2rAVNhwwleohMIOg1vCWBk5wZSZRcJM0bbCxkpFwm7ZScKAP93BTByPwnh0/MFtiEfCVJblwar8osIPQKbCEsM6wsn6I8LZhWnCkvCnwkHtu8J5/4DCJrmrwmDe+MDIeZzBQM5rQP7qhsIJ4DLCQFWnwTTlDsIwPczBteK3wuyNnsKGPiHCPtmWwrDAw8LgErDCa70TwguWrcKzWlHCvJGpwvppu8KYvLTCOOHewUBBb8H/20HCZGZ7wlljUsIoSnbBAhuHwuA8DcIi7ojCzK+8wVwtnMGxtLTCIOwgQAD6j8HQP/jAaVeWwrhSOsGAi5nB5HQBwgAwicBuYoHCqedpwownzsHgjKlAoORhwUBbVsG3+sPCsmGUwnTozMG1gGTCoIljQICW2sBEIazB/l+vwtAu1MFMxYZBQbMzwnQ/psHwWt/ASERlwQgNA8H8vSbCIIq+wL5ki8KALlrASO3FwfByz8BAYNfB/BAPwnqvEcIQD1TCHg8WwmhJLcFR2TDC4BH/QGw7ZcJwju/AcwCgwo6pAcLh+UPCwAeXwRBfRcFYqXRBVDGjwmdNGcLkgYpBRRCIwmhWosFoAy/C/u8swj/5ssJzWLnCaMk3wSjoqML3IjPCScgzwnpOJcJQr77BHDPYwZ+9uMIQJ4bCrbC2wtCdNMGCmHXCGLSmwXxgk8K5yIjC8MTcwcwb+8GAfsPCVswIwtImBcK5NzTCs9SpwtCgTsKopwHBEN+jwNXeo8J0rFHCMf+qwnhZkUGu22DCkA+uQAjGBcGIhwvBHWk2wtz5oMIU5rPBeC0AQRRTo8JS+yHCoLVAwDHLvsIxUbvCjgI1wgB6cT+6vYHCWJmVwRjwgkEKsg/CACCvwNhnmsJA5XzCRr9RwhDieEE4kQPBkA0MwnkMTsLk6urBh4tAwphBisHYCrPBGJ/iwSSfw8Hs2ozCMKOSwbbWGMKlCMTCoPcfwPNAUcL+f8fCw5W/wlBUr8CKvzHCEky8wkNqRsI=",
            "dtype": "f4"
           },
           "y": {
            "bdata": "iIFsQqxPBkJ8YT1CIKZ2QgiPX0L28JFCVKSiQRj4j0JY7JNCsOZiQl4Gt0Jk27ZClGoLQrDPdEE44OlB8Hq6QAQ0x0IA0IlCVoqhQvj9SUEULnNClKEoQkxKWEK2wKhCfEeXQYD1vUKgYVRB/iOwQqiVkULA0fE/uL6+Qdw2x0KsP7tCAPCrQlyBWUIciI1CZrPFQsiK9kGIRYBCgO63QAT9VkKY1IpCFO16QqS8aUJAQ3VBYPqZQGjr2kHMEMNCoK5FQCAPnUIS27lC0AE6QaR8okIqP7JCgJP1PyZ9pkJkZVVCZo+kQmwzyUFwGIpCbIPDQnI6g0LgBahCkDb/QeKNj0JoZvlBIHZRQuS/IUKSRZhCELguQtxyzkGAK0lBQgesQjJ8gEIq3oJCnAlIQlQyp0LIP2RCcJSkQIgkaUK46Q9CWPyGQrhsiUKIisZCaENzQtiCsEKcYLdBVqTCQiBqfECoh/hBuEtOQchL6UFILv5BHOCLQqzIdUJ8ngVCNJmdQspIqkIiOsFCvKdsQsiPIELwjftBBJUHQnico0Fc3xtC3Ow5QnA/+EHKEYNCsAuAQCJCmkIQdB1C2h+AQqz9k0GMjdhBIiOPQpR8Q0JeZ8NCYHIIQc4uxkJ4mXVCMLrCQky5rULkortC8PeWQlLPnEJES01C0FlJQt50jkJkxHtC4BGJQHrDtEIo8qZBJgCFQtAfmUFk83NCCImiQVDukELwgcRAINeEQiTYl0EoBipCWP7dQXASxELwzWJCVJuZQuBbxkCAKaE/UDpQQigVgkI266ZCpG+FQbQEkUKwgT1BqLVZQtC2dkKKxYVCoBWxQfqJv0IgrsFBtIanQjBVfEIAodRBvGBrQoAMSUJgcVNCeJKxQSh+uEJE73RCVH6ZQgDoAUG6mpNCPEW6QViCt0LkII9CSmKYQnyob0Lu4JVCerGCQiSaOULOAYhCQD6FQriTwUEAJ8JBFE6wQuSykULwaJRCeD/uQbgzVEIwoVtBgGS3P7SWmUJgC7dCeBMCQnB800GAT5xCMAZ2QUwcr0JgiANCoHdKQETroEKa3qlCXPqZQggkn0Go/wVCIEhMQijHZkIQcCFCBH13QigsDkJS4MRCvEIbQkBTA8CqibZC8DdfQkSBDULISzRC8HShQtC35UFILU1BvGbCQjxZuUIwGbdCMNHVQaAipkLAJQNCQAqvQmIWwULIaZlCYDEyQqzwiEFYkxhCFNDRQQAGcUHcvVxCmFAPQtyfxEJIexxCmASiQaiqgUK8qKdC6JLSQdrsrELwP/xBlHhrQkgYa0JA5FxCOFQsQvQif0KK36lCng/DQqbCrUKQG+lBqGf3QfBDpUL0artBMJUCQdzpskJMaFFC5PNlQti1nEKa88dCdsa0QlIRskI0Wp9CmEPmQYqXjUKuvrVChrWbQpQkOULym4xC4k60Qhir40EQ95BA2HMEQoLUj0LA9ZhCGpCmQpKxqEJgb1VCXpulQhDQWEJAxLA/CEmvQlSAJULI6YBCbgyxQnrfoUIgIJxCANbXQPjLW0HyUoFCgBiGPwwzV0L0a8RBFEY9QpB7Q0K0dt1BtOELQpwjp0IQPW5CpFydQSiip0LeXLVC0hTAQtjOBUJQfvFBoMWVQgAoQELoT+NBRBBQQhhHmkJAc/VBZgq9Qshmp0Jg+cVAcJkKQiBZoEKU8pJC0AsOQvAQx0JC9IZCHF0uQpSKKEIgfmrAFFg7Qlq8hUIsumlCfieBQrhS4UGwYmVCJMGOQSY/nEKsbitCHku4QlAKJ0IMn7pCoDrbQYSaxEJi74dCyObGQnwNWULWpo5CtO0dQpZhr0JYE49CcMEHQra5lELc5glCnFSYQoaNr0I=",
            "dtype": "f4"
           },
           "z": {
            "bdata": "KAZ4QuQDsUKEXBpChChzQuact0JqBJhCYqCIQshlrUK2bLRCKJjRQTbRnkJ8EtZBHCihQuaIrUKCZLVCyhm/Qp5jmUI4vD1CfOCjQtagqkKwkEBCWlSAQkCi9EGQx4JCvKTDQsR2N0Iml6BCuG05QpqknUJkeJxCZkOEQjyPRUJIPcZCiI1pQoTYFUIcMnZCqJVTQmQsXUK0k5FCeIlVQoDjykHYzo9C+DH8QU43pUJspY1CXAeDQl6FxUKejMFC2hGMQtgLXEI+G6ZCLNGdQmhErULWubJCrrmrQpYAokJC8L1CWBiBQmThZ0LUphFCqM8dQkRaPEIEWLhC0CmjQvxjEELifqFCGK90QvpQsEK+041CKFkjQpw+j0JqNaBCSDWSQoRBZ0I8zXBC7M3GQnAsY0K4a1RC8JiuQhyWkUL6nqlCFEI+Qqw9qUIwKAZB5BucQsRzgUE4klRCVn6/Qp7nnkJm3KFCAPCUQqK8g0Lo/FhCCA3EQsRE3EHYAVlCTu+qQriJFUL4K0pCDJlpQvD9lUI4GABCmDkiQpjxM0K22KpCMH8gQtaYg0IkQIxCNnumQpZaiEL+E5ZCDrqIQqwgnkJqlLFCTH1+QhoPvkIgNq9CPoegQmS2JULwW6BCMPY1QWZnhkJSuqlC+B6hQqy/QELY1KVC0P0lQjQ0J0IuX5tCShiYQlyQvEEE4hRCHp++QpoGxEIUYhFCPK2TQjZYnkIURVxCRD60Qkj5nEKWL6FCNEkVQkyXxUHQ8hxCEsmFQtB1YELwQo5CEEHAQtAKsUJwV4NCYLEQQsRUxELw5WhCMHEDQrzPOkJELKlCBGCgQup+nUIyuL9CNABEQmbpmEIg4cJClM1kQpRUuEKy6KJCyLwwQoiMUkLgTxhCzt+rQvi0g0Kc265CDIZWQtC8kUAIu4RCzEZgQuiwckLYhCxCRPApQtyth0KwikdCuouYQvjXg0IGlLxC7NddQnzEEUIc0KtCHliuQh7fjkIEdXZCHjSPQqjAPkHExEZC/JJNQtwvmEJACz5C7GOQQpxEWkIe9IZCbHWvQu5IkkK8ZbhCJgOUQhhTh0KExlNCiHizQsT9IELAn6pCWCUHQmSpYEKYCn1Cbl2OQiJFqEI8botCdKOtQsBRxkIabLlCrpmjQmIMnUJuzKFC3NWpQeg6WUKebZNCKu6yQlwSrEKkCD1CqIRyQQARNkLufJxCMtS7QoTLN0JA+l1CPreYQlK8u0LEsDBCbHuJQkjpoULYs7lCEEFxQqRunEIuL8BCJGZHQv7zpkJ+kItCftmZQhjZbEKm4sRC/AmYQjwBpEIcnLFCGAbhQdbzkkIoiIpC0AudQgg3akJmeo5C0J21QuSfdULwt8NCmOeIQsCGoEJIzDxCsH9YQlQXuUHkw2lCaBkIQjAuC0LWZbNCxAsMQmQVTkL00KhCQCyuQU6BgELSRsJC7OzGQkBmHULmi5RCEvGRQjjOFEL8ozxCNAeFQohKSkJA96xCTCDFQpgjh0IYM11CMt2pQtZkj0J0g49C4O+QQpaQm0LI5g1ClPuTQoRCpkLk0ppC1EFHQtDaFUI8vh9CtPdMQqynZEJoZy5CuFawQigj40GUS3pCsOcAQswkuUKUFx9CRpaQQgBGbUKYrBdC6Fr6QZiMZ0Iktn5CZoGuQsxULUJwz8NCXMxxQqwssELC2IpCoHS9QjxteEJMGzdCNAsXQoLMv0Ia+apC/EcpQoB6PkKgDGpCQJ67QnIImUJoeCpCMPAjQnBAbEKoxOpBiCnSQdBSAkLe8ZpCKGTFQqzRx0L6erlC+DTBQSREKEIoQbpCTLeOQvTir0FGGKBC/BlCQrSbrEK4T35C5JU4QoScbkI=",
            "dtype": "f4"
           }
          },
          {
           "marker": {
            "color": "#FFA15A",
            "line": {
             "color": "black",
             "width": 0.5
            },
            "size": 6,
            "symbol": "diamond"
           },
           "mode": "markers+text",
           "name": "Cluster 4",
           "text": [
            "C4"
           ],
           "textposition": "top center",
           "type": "scatter3d",
           "x": {
            "bdata": "P5Eywg==",
            "dtype": "f4"
           },
           "y": {
            "bdata": "RPheQg==",
            "dtype": "f4"
           },
           "z": {
            "bdata": "Q5SCQg==",
            "dtype": "f4"
           }
          },
          {
           "marker": {
            "color": "#19D3F3",
            "opacity": 1,
            "size": 4
           },
           "mode": "markers",
           "showlegend": false,
           "type": "scatter3d",
           "x": {
            "bdata": "Cgadwv8epMLXRMTC/OOTwoKnj8LAZ/LBes0twuJGr8KWHIHC8Uu3wvDglcKSWYDCzu4OwlQsqMJ6B0bCuxW0wsLHL8Lr0GXCrB2MwgBYrcCAbt7As9SdwlJVnMK4v+bB9B9LwpAIQ8KjzarCbxKkwqXxhsK0Dh3CUhqtwgNPbcIITYTColikwmyDiMJ/REXCuF2Wwki2jMKgEXDBbuRDwsy8i8IE3m7CoXxwwkT7xcKXk8DCjiNdwhTwgcGHqkDCFfArwlxmvsIoZw7CT1F8whIwpMKi0I/CmaK3woz9A8KAbUi/YIaCwtAuzcF24q3CpRnHwpLVg8Jc0pjCTvA9wjHNtsIXbFnChqQRwlbOS8JYhY3C7ZW8wiD51MEcSbTCNl4awpzThsJFcETCRI0Mwi7ikcJINb7BuLg0wcQkj8Ewv6TC8PIhwk6FucKmwxXC4qqPwlhl6MHlr8DCgKxtwvn4vML4DKbCyKgywpIDxsLmw8bCUFWewVY5AcKySkHCy7MuwmiZ1cEO+AbC7LLswSSco8HQYwDCUBW7wvWAtcL6lcPC9Ka4wni9TcH3razC0KFKwuRglcKT3zvCeLv2wZjSA8LUr9LBRWNtwqwjo8JY+AnCbJqOwjHKicKeGJ/CNH7HwoxGnsIcptvBzPQ7wm+NJsJcxULChU3DwqKGCMJnJbDCl8LGwt9QasLNbBjCprmlwpSA3MHENKbCFKiswlOviMIkVxTC8rM/wsIzDsI21ZXC9MjmwcDoq8IFx6bCWy29wi5YqsLf7bbCKFJNwob2xsLqRibCwBeBwkexY8KM8sbBa8C4wrNCQcLMaDfCABTNwRHMqMJYGT7B3Er3wXsWgsJIWRrC6tlmwnDghMIxabjCmYCUwjV8xsLcFYnCWEuowgDMQMIf2L/CiCOGwjGOssLgZNnAUBSQwKgCd8HpMmvCx7YjwuiwbsHKYJXCXsyBwqyf18EufcPCmiAQwnHQMcJ1wKnCJZx4wv+GwcKkpM3BpPFdwlimu8KxDjTC4HuEwPBWocFm7bzC0nq4wqtJwsJsEpjCf8pawvjUksJMqJLCODS2wUzmg8LSpr3CojqVwvJ4pMLiQTzCt6l+wmiCrsEG3oLCiIqzwSHSw8KYEXjBkIaxwRxKy8Hji7jCz71jwqgRgML/ybXCFHmBwnilRcFpOofC4HTSwAOPwMIAzF6+ka27wrgh/8Ewa53CzSQSwpB+iMCXtBrCiLYYwgX5w8Jd2MfCOMKxwrXLlcI3KRzCHnDBwlEqvcLzZ5/CaB+IwkzJuML0AJjCzoKuwqbBE8JosknBNI2AwkVZnMKAvx/B2PSrwaTHm8GA0sjBnznGwiyhEcK0jK7BtWeOwvPtk8KmPbHCYpqywtDDnsHV1JfC5/Zywtv1xcKGP6LCouOtwliYc8J/3kzCPmcQwsfZeMJwtmrBsoa4wqj1E8EIf//B3nBOwsRQp8IjeZ7C6+KMwpDohcLnzSvCtSGowh3IlsLxe7LCQpOLwoaAb8Kh4sPCwAM4waQEPcKE4MfCz2gywvBCc8FjWh7CrIF8wn8GwcIU5l3CeHe+wVTgWcJQD9LBvLg1wiqqgMLmu4zCKZSywvO/NsLS27XC+HdKwT0jZsKYiEnBtgqfwiznqMKQIN3BTHf8wfPBZ8L5o5DCbz+2wqiyYMKNQBvCiHGOwmqXHcJ7qWrC/MOxwhIaX8LQwjjBfICUwly9McJEG7PCVKEEwkSxjcKACtK/ppGxwgOuw8JuaJvCiAi1wri63MEvCKvC+q6Hwr61oMJwQgzC5IswwkTe/MEExRrCqUeUwnZZj8L7/cLCtJq6wgcvtsJAGQHCO358wrzisME+u4rCqgibwqonUMI=",
            "dtype": "f4"
           },
           "y": {
            "bdata": "9Kg4QoDb0z+wJBdBAEOaP5R5MUK8TltC6L8AQhR1g8E4qAlCiGEOQsD8+UH8Z1FCWNdfQsCxIsBgw7jAGPtCQXA+lEFwoJRCDDZ+QiAWJEIkLhhCWIB5QtCkCsHEqWVC4IQtQECCSEJQ34RBGKiGQuhIOkEYIwJBVMMTQkRFc0J0+WpCWLDgQSjGN8HUrgVC8GEBQQDwxD+cxAdCQnGDQuAcu0CgfcVBwK71v74phkKkj1VCOD0GQtDkZ0IIK1xCAG35vxROp0HUbNtBIIIiQNDikMDgXtvAXO5oQjA+60FAF0jAePe4QegpLkJYjLlBOKKdwQBmacGghnRBzAV9QvSlukFMS0tCkGajQlyg0UG8reDBMNG8QlThtUEY7vdBwJc0QUwBI0LM821CINdUQqDLy0G+6JtCoPwjQYy3FkLyhpdCyPgrQsD5jcFk/IdCQKWLv4gWgkKoeWdCyL8GQoC4b0Lw/LlBoAVzQDgvPkIEeitC0HfzwPQKIUIAW18/SCI9QqiGdkEYmRFCdK65QXASjUKCeLZCMDXLQGCmEMF4JsJC4KVrQqjkb0H2QopCEO6BwGj9RkE8AQJCsI9NQUDxPEFwb0lBpIKHQgCaAT8omF9C0PpKwWA3hMAUOp3BUP6YQrA+90FwIEJBxP+CQcyZQUKwM8LAiIMuQiBQ7UBwXwhCUBCnQYB0LL+EDZFBWF8MQRitlkFQbztBEgK3QhANrsF0xxJC3OXeQZi5X0KAyVBB1LGhQaLVj0JM7lpCmNMTQgBWzL9wTAlBgOsjwdDdJEKghxHBIquJQsBQEUKU4qJBCNVaQQBT2j4A/QHA0G3XQfx3OUIY0BRCgLP0QaSfhEKAOWxA4LR9QQA0kz8sgSBCqGMcQiDSQECkQotBoMsbQlBOT0LwxWhCEPglwWDetED42XFBDH+KQcBoM0DQkytBsG8nQshLOUFYeSzBsCTgQQDIUj88eiFCQOmuQaBNLEIwQLxBoF4vQoDhZsHwmcRBDN0oQlRjR0KEvYhBQJzHvyw3AkLk8tdBMMLnQMgqVkL0G59BkHXkQbDIa0KQnbBCwMd6QUZ2q0JQVCFCUG38QZwQSkLsUENCQIfPQFgxPEIEmWlCpCJkQoYklEKkyQVCABJCwdB5ocDEDofB6B4rQqDzeEGoVcHBbv+uQpgSTcEsaFdCXMgUQpDICcGwJepAVKwNQnSQksHQ/xPB+J31QZi9J0H4fD1CMBD6QYKOmEJMFLlBqEQXQYZ7jEKQOUVB+JidQcjvYEHoQOxBcNO/wAT0BEJAMZK/AAxOQYDGPEEgpu5BDOpfQjRWpELscshBWHUjQpApp0EQbS5CePEAQSQplkEwgSNBvE/EQvR5Z0KgBIDBCLFtQoDxZr9YHKHBvBkoQrRNBULkRU5C2Ny3QrCHvcG4xeVB8ECuwAAkusAQKOjAQOqkP4g7UkEY7kBBbE58QtDxScEIlCRC0Ka+wEirs0Lw8ErBABibQngDIUEQFMBBCJZ+QU4BkELYGlNCiCUiQnC6XUKAVmXAsLDuQTAsBEHAx/W/6Kl9wZD48EDI899BIG/BQDgww0GgGK7A/P0FQuiEwEGcCWtCGDomQhDJYsEwGLtAYConwQACCL9IdxpCaNBlQkjkNEKg/jRC0DmTQtg8LkJsQGlCxN6QQWiNTUJoW6pBTIhQQqZGlEIAdjbA+DmyQbg1BkJ4Sn1BMD04QQhO4EGEXAJCwPV/QqTf2kFgpiFBkEhBQnAg8EAOcpJCpAkGQuCDpUHo2whCOrKuQuBwQUJY6H5CAN69QSBrncGA/3m/HPhtQqhduUFU7PTBSCx5QUgeekHgtRdAKvyjQrjcBkGo6XtCJK/PQTwwOEI=",
            "dtype": "f4"
           },
           "z": {
            "bdata": "QArWwAAG1UC3RjbCYL6fwBDBVsGIoIzBCDEowQBE9724rzDBav8EwuilEkJQIabAGGMjQWSOgkH4gNHBDJ5iwoRItcFAibzAYIE8wVBFksGgfRnBcOvyQbieJUEs0NLBkCI4QeCtZ0GwVZhBDEzXwQiFRMKw9rZAMJaYwCjgqUEAPjo/8KEKwWhECMIs69JBGKWEwSgstkHQrsDBKCknwcAL+EGdJSHCWGskwRiw4cGwnfDBOC+9QWB43MAgUdfAoOimwQjKKsFQwR/Cp+BYwnDMckE9JSzC0Np2wRgFXUEAd7/BSNsTwVTJ/cG1dUXCwGLewMAtBMCwNozBQFhZwcCbu78wZVnB2BwEQbMWGMI4QHHB4DsUwcCoUEE8hrRBrhw3wnhm+8FcdIfBxCO0wZD0hsAQFh/B5EHLQcCq0MFgDEpBtAKvwSTW9MG8v5/BKN0wwni5YsEU7N/B8Fi0wABX8L4Ir4NBQvBOwgc+HcKgMkRBAMNLwBhMAcJ4kvDBEAlfQcMsFcIo/V7BQG7XQRDopMBQGbvAMAY8woiDTEEgjtPAOL1AQbiu3sGwxqxBsNd/QT5NB8KA1hHBy8BLwoj0MMJG/D7CIG6iQbpeLsLoZsXBGANgwbiNa8FgQuDBxH+Gwdgll0FoFULCCOdOwThhCsLgBwrCpEiFwaAl6MGUWaRB5BERQshWfcHU+oRB4PFewhgZ+sFYSuhBBDyHQWBYRcFUu8lBkPvIQIjnpsEkIYRBUEb+wADle8BsachBPDbJwQAUwUBwivLBaNnNwSh0KEJ8tPPBCBWHwajsEkEIRq/B7mIHwrBZmMCAIrdACEwPQXit4kEU3AHCEEeJwYhOCEHUco/BQF+jwFAhuMHQPpFAgI/PwZwLrsEQXStCjEC+wYCTPEEImCFB4EH6wQCHT8AkWzbCVM3OweDL9cDk5hxCyERgwaBwlcFOaxTC0OvtQCDekECY04BBsB2mQDBV88GWLRzCyGNKQdglrMHo981B0MaMQciEDkKctZVB8JmCwYSalUEwKC7Ci/lGwvBNFkEY4qTBcNWgQFywgsHQj9jA1IMVwgA0L79oy5RBgBiEvyBtdMEIZV7BwADFv5gqv8Eg6V5BgJkZQdDQr8D8tN3BAHgav8Cm5r8Yui7BuF98weLiNsIYhmHBYHsGwECPwsCAeDS/BKv2wRhgLkGgRgDC96Y5whCKnMBMVe3BqB2lQfAqpcFAHWtAkJBnQSClCsBUP8PBGCPlQUDgUsDsTLdBoBTEQWhvDsKgp9FBoH8sweC/p0CcArzB+GlsQSx94cEAMIK/aL48QRAzWEGQ1IfBuBhhQXySzUGQKWbBMGsCQvywk8GQdGpBENMqQaCS8sEQKXTBAKroQItcEcKwrbrBHJOfwTC3BUJEDwtC7IKdQahvf8EHXjfCmOJBwcCXoMB42ofBQCCrv5CoaEFckbRBqKRewRCqj8CYbPvBOBSHQUDiOkEk/8jBgOfBQfkFW8IIzgLCWDvcQeDxxMHAablAAPzCvxzPo0GUg53BCP8LweRpi0F04aVBAGkNv2LEDcKD5i/CdNXUwfALMcEwiDlB2J6vwS+cK8LQtBzB4ERgQBjoFsGAJng/gIA3QEMMRMIw2PDAYDl9QJCQoEFQeezAAAdNwbD3S0GAzihAoD7DQDDnjECoWQVBHMHdQXDGX8HcF5dBaDBGwUAYGsKk1/XB0NOvwEA5BcIgTgRCEFqhQDz3tkE8i7XBLK4MwiAqR0DAS4RB8F67wcgtg0F4kJ3B8JscQZRIscFIEWBBgKbgQTDuksCQPlJBAFn0PwgNc0FYNJvBzN42QjQuAsIULq1BEA6SQACc4MH4/PPBwI7lv4xg0kE=",
            "dtype": "f4"
           }
          },
          {
           "marker": {
            "color": "#19D3F3",
            "line": {
             "color": "black",
             "width": 0.5
            },
            "size": 6,
            "symbol": "diamond"
           },
           "mode": "markers+text",
           "name": "Cluster 5",
           "text": [
            "C5"
           ],
           "textposition": "top center",
           "type": "scatter3d",
           "x": {
            "bdata": "Athvwg==",
            "dtype": "f4"
           },
           "y": {
            "bdata": "JWXtQQ==",
            "dtype": "f4"
           },
           "z": {
            "bdata": "d7/1wA==",
            "dtype": "f4"
           }
          },
          {
           "marker": {
            "color": "#FF6692",
            "opacity": 1,
            "size": 4
           },
           "mode": "markers",
           "showlegend": false,
           "type": "scatter3d",
           "x": {
            "bdata": "FLi2QtK6kUKAP5I/cC3jQCQ0FULgQC9CdDhEQgClzUDCPqNC4JLdwEBdiEHawMNCyhibQhCdi0GkTVhC0LiAQYStpEIysqRCMC0TQZyTvkIQiSFBaD7EQlxZSUKKjLtChAusQkjreELgrpBAWEt6QtTwk0EApaPAFFdwQtw9QUJsNV9CTFU9QpSXYEIQv/RBls6HQig1X0Lun6dCaACRQjCuh0G0qGBCVgy5QmDmW0FoSYpCRNttQjxUGUJEl7BCmKPxQc7TxUK4ToxB7BOVQoj0HcEM2dpB5GNoQuzps0KuDLdCnnDHQnAbHUFsULpCEBmJQBi0REIAePbABJBnQsCHdEKAWgY/wnqfQnACtcDgW4dAwCHOQTwBpkIs7xhChHZhQkRFC0JQkHRB/mSsQsBE8EFMtrpBam2jQkDI30HIbC5BoK27QeAMVUDI4ShC5G5eQsIZqUIYandCJAizQpS4t0Is8DBCbIpkQmDwuMDEm5VCwKmYv8jhkEIuxMBCtG2oQnDv3kEkyqFBHre9QqxCxEGOa7xCGEApwS62w0KYpiZCJBk4QswrnUJAEQ9C8PmMQj6ptEKAGitBmjaaQsBg20BYVa9BOPcVQvyqd0L4rgdBmHtSQVCUJ8HI2RpCDLq9QcrApULMRMJC4JBqQaRPCUJsJqVCFjW7QqAR0ECIIxhCKHmGQug/UUG65KxCComVQmBQuMDKX7lCJnqbQtxMuEKA6wtCsPT/QKB2m0AQpFZCDNV4QlgZ/UF4oq1CNGdIQurGlkKiL7BC+HIdQhBxVULkd2dCoHjrQYzYKEJgMahBRPycQjiTMkIY5w9CTBt8QugDdEIgrmNCEsKYQsBx6z92lsRC3KR+Qlj+LcEASvk/CLAGQhQkPkK0OqhBHIu7Qv6Qp0KKFrlCMF9VQexmAUKYDZ9CkiW4QqwUF0I4o7ZCTApuQqD4YUKAIAm/oPiRQUIOtEJocvpB/HTCQsorh0Ik7HlCaJ0hQr4WkELomABCzJ+jQlB7kEA8xHtCDtiEQqD6nUKY3SJCEO7AQHjQbkKQyS5BRF6xQpiBikIcSIJCmDEBQiBewUBAyKxCQHuBQmBTx0JQKYVCsHROQWQYlUF6zJhCMER/QiQBLUKYSkhCFGNzQr5OnkLQ3R1BqmeEQoBBzb9UFnFC3vSYQtSLaEJEuTFCvFytQtbrgUKIfZ5C4K78QaCir0LMMApCBuKQQoLqs0JMlZFCKEOWQlBInUHAvn1AELy2QNRVskLwZyFCgP+gQkAxAUKUbpNBCtqUQsaGgUKWeKBCLPE0QhrCxkIOBK9CQIzsQACJ80AYwnpC1LClQmDLtMAilsdCivKFQryzxkIYrjJCZI48QiBymUIER5BClDinQh4WgkJsTR1ChCKuQlh+C0GQNnBChlmAQkwRvEKIoR9CGNN0QjhecEHowiFCxKCjQSxGxkFE5ytCQAz1QBCU80H2mKZCwOXKvxThIEJwmNZA4LyEQPIQp0KMNkZCzvWbQuCMnkAE+KJClr6JQsjfgEJswIhBkMlNQsyvwkI0GwRC4FBFwERAuEEgCr5CAGfgQJhut0Ky7KlCsGbzQTTXeEIIJYdCSHSLQhxamELq1JNCMNzMQR5PsUJMKYBCdHFiQlwOuEK8LABCCtqOQt5nrkJA2SZCECOzQbQ3qELgco9AHB9fQuzitkLc8a5CbJ+CQsAJtELud7JCnEVIQqAY8UHgID/AOALEQrLZiEIQ53ZCPNyIQfQsV0KcK6tBgO+PQmBvPEIO1ppCONn0QVCsrUICXpxCwPq9vzRU1EEATqdBbIK6QoLoo0LSuqNC2veRQsyIwEKsq4xB8JIzQuAvskEghPxABDKfQqzxTEI=",
            "dtype": "f4"
           },
           "y": {
            "bdata": "N+09wg3hRcIWWTvClGOywqxMVsLdvn7CKOoxwSgmMcGYVVFBqntPwkh9kcEapLbCcEX3wCMpp8IQb4LC7odWwoA8D8LgmmtAgEvFwmCBY8DXB1rCAJijPuA2WcBgjWLAr6CbwpzppMLTaFDCAOXLPyePXMIRl8TCEGvlQJLeG8IFSrvCDz+ZwkAoBMCQ4FvBGPy9wnyo08FQcPDBXGLQwcaQJsKySITCunILwiRlzcHEzbvB6xhrwql7JcLhKSPCoNWmwGCpZkCL58bCUF5/wfg/tsIAa0HBflYNwpA7o8DjHzrCTA+gwdiZqcFmFnvCOip6wjPUk8IctXnCYJ5dweRO08F0UNXBAGAFPPjQYcIht0/Cp72pwkNKusJBa4XCGPKzwS5thsIAAvw+QG13wQgWbcFJdb/CJJy1woftJ8IGGLfCANMjwQZ8D8LTTW/CxnkCwia0DMLg8xnBSFEQwYZopcLhNH/CvA8VwhH3d8KUdvfBBCUXwsCkF0GZepjC7Ta4wq0hscL4fnzCFrZnwq3bm8L1HaTCsMw2wdjuKkFGi4zCINmswuQwRsJIaWPBVT6nwohRm8E4o0zBYMsuQVA4RMGwV27BJNyqwhqUBMJSQYHCnRFMwlXeUMKZbbfCYPqhwUCmiEDgT77CyMxWwaJdC8LGkAPCSNJnwbIQg8KgWRvB4NNjQJiSkMK4cxHCv+o5whj0wcE+/bTCQBJVQajDQUGYo/TBrPOdwtNkMsJN7V7CcFTtQB6jwMIgtm3A0KOtwdydmMLmeqfCcwl8wm4UisKQninB5meMwoCONj+YXFvCOI00wRC2BsLTpnbCkDe/QFArxMEe9izCUV5hwsDhw8JIJ7TCcCUawVwySMKMYo/Ct1mEwhY5KMJowJzC6KNnwpdyqMKQnDTBKQPFwpBJf8HSJorCXzFRwpT9wcEMKK3BLzK4wp6+dsJs7YvBj5XHwuQFmMIQdS3BQDlSQJOZZcL4av3BHJIgwmJqSsKA6cRA8XC1wmI2vMLCzaLCAF21wnAU90AYubzBc7N/wsiMw8GBeIfCzGiBwgDzjcDgvsfCPcBWwjLlO8JAn7zButrGwhN6P8IAJwXCMPf7wGqossJgiTDAYrkTwu/ce8L9D0rCoI1YwGDticIgqTvBwH2Kwfhru8IMiKPCnXqLwm6KjcJD88fCWfWPwtAryUDSe6XCqPYtwYDIHsIt/aPC1ElawpiRmsHmyRTCEHL5wVXAtMJV9MTCm1q4wsA4+cHYVR7B4MHnwQbIA8J/O5zCaGkKwag+scG2mnzCcj0DwkRMocFy/j/CdfdDwugbV8E1YafCjKaGwS7elsKp5YrCoF22wN1fqcLdcy/CdClIwmkIxsI5xo7CoSwcwmlQmMItHo3CyEV5wQTFwcLksXLCeELBwvBmFMJeVFbCLNJ9wlgAWsEoeJPBgut1woVSZcIkSIzBrIRnwgDizr7ARMC/aKlDwYiwwsGA9BPAZBBnwmCFbcEoWsXCni2hwg9hJ8LgeSvCzLGYwqZmu8I9vqzCzJi1wiArgsBxDTzCMGUewrxnscHkytPBALsNv52Ps8J06LzBgM4FwWNCkcJbeYzCHUARwuQaiMKdObrCvux1whQ65sFEcBrCACh7wALqSMI32ErC77Nfwq0misKLCDHCMgq5wjAxpkDw6dTAIP6dwjLSv8IwyjvBq762wtBY/kCXlIzCSMd9wcNHaMLkRcjBKRsWwsSDh8HwsjbBwJgiwGGNwsLYqrzB8WcawlWSFML4BQFBIFWEQOMMJ8LAy53ASNiNwTSIi8H817jCYGqOwCz+h8HysIPCEG7vQGopAMKuPZDC6Xu1wo6JjsIVccLCgPS5QCDrtsA=",
            "dtype": "f4"
           },
           "z": {
            "bdata": "DDBLQtD3/0GYAHLBALZJQWBMN8A0FqRB4Fg7QkjAYEHI3R1BbGCHQchFpEHQp9xAtPc6QlASe0F84BdCCGSYQdTmwkGYeVNC8KPhQIDOZ0KwVFRB8KdnQpgj9kH8DjNCwCp5wCB/UkJA+gjAQOGJQDQLz0FAv7pBoHJMwHDW/EEot69BsCBtQeCz/UAclaDBdL9KQrCAlkAgTlpCmBseQSBb9UB8iLxB0L1+QdRiD0JAfi1AdGXOQcwNEEJAP+m/oKppwGA/HEA49yNCUB7+QQDWrb84yV9BfDuxQVxrZ0Jwsu3AzLANQsg2d8FU+ZrBuCMHwTRgsUFAP+W/iHNGQpCFNkKAEl5B5EUDQtD+l0AYwjfBILsZQdRoKkL4KsLBHP+KQXjQvkEAemVBZAKvQbgwR8FkSt7BxK0CQgDBnj9ETgpCyNy1QVQtsUG47TxBxB2gQUD46UGAy2vBpGpAQuy8L0Kc4gRCMDbSwABGOD8YsSZC8HY/wcgFU0JQDofA8HUqQmBkU0BYQRdCyCp2QkgvakHA8Y4/IFCHQNBNsEDEsS9CVOhMQgg1DcEwn2FBnKtBQnyez0Ew+PXAiHytQRCq20CAvMm/QA4KQBh2aEGQVqlAgLbKP8DEjsCcdgFCWPh/wVBtVkFAJzdCaJUtwcDTIkE8uJtBAJqPQOgXfkEIL1XBsKJFQdDujkG8YTtC6DArQvxfpEG8VB5CYGsowcifaUIcTaHB6IbuQaA3L0Dks7hBtKgsQoCvp7/sQbRB7OuKwWDoK0LAX+lAEHS8QYA54T80CClCTE4dQlAv1MCIHJVBqKUQwQzHgsFsDrPBwEtdQYBvab+UthpC9IVhQoCxPcEIpaLBsIqrwMDfaMBAN6lAQL2gwPA6CUKA8qbAcKRoQijOLMFIp/RBtBHUQbBI5UGAzKBBnIqAQrimW8GMqbVBaEFGwVy+xEGwxBrB0MkQQuxFb0I0v7JBnGGnQdClw8DQfRpBgEAdQWhLa8GAwYhAXKRzQmj3B8F89qbBII1dQbBpHEFQ/sNBvKCfwfTRO0JwOdfA8KAkQUBcXEFIqrtBOJEGwej37EFUWw1CiEMpQWAVOsEMJEtCAO6BPgAcpcAAKDZC4O9vQIDBnkDUh8FBfB0VQmBpFkJ47B5BuKjbQQgjbkHk4o9BwApLQTx2vEHgfIHBwIt9QgixWsGAML8/mMxJQfDqa0JkF91B5D0/QkC4n8CA62JBHA8IQrAFQUFQ7MRBBEYNQrB2R0I8QtBBoFd8QZiOCUG42fdBlC0mQsDFJcCw8eBBuA4lQnBjUsGAdO+/tJuVQVA8vcD0dVZCfEVpQqgmhEEoWn3BiDgvQeA8XsFgpkzAZPkHQnzxl0Gc111CAIRWPgiLV0IwKCZCsHRZQpgO70EkxUJCEIs+QShvAkJYmJDBpDEYQuA8NEDQG0vBONLWwXieG8E4Cf1BFGgTQsBP8UBgb3NBqM6dQfBJJkEQcZ9AUHwHwWA1kECApfY/FC1RQriRu0EADWa/XHYwQqDzUUJgQZxBQCfLwcwVmUF4DTjBmBQVQRT1AEIMIQ1C4EwEwCxqkkFAGGlA1CHLQSDMuEDAZnjATEyUwVC4hUCAjuHASND/QZzXQEIUMAJCjIAxQpDcKkGAuKFAhGJSQmipOkGAiMI/UAWWwACks70Y3VhBWGpeweBE4sA4EVFCiG7xQTgtT0EI+CVBQMV0wbiDO0GYe03BkDeUQchHLsEAsLA8UN93QcC4+UEoKqFBQP1SwQBM5D3ojQhB+HMgQngHAsGUcwpCrD+ZQQBUWcC0rtPBAJ6tQMDTcUDgFTZCtEUPQuCX+UEglwlCiOlQQWgBCEJ00wBCYPRRQlxMFEI=",
            "dtype": "f4"
           }
          },
          {
           "marker": {
            "color": "#FF6692",
            "line": {
             "color": "black",
             "width": 0.5
            },
            "size": 6,
            "symbol": "diamond"
           },
           "mode": "markers+text",
           "name": "Cluster 6",
           "text": [
            "C6"
           ],
           "textposition": "top center",
           "type": "scatter3d",
           "x": {
            "bdata": "+d9MQg==",
            "dtype": "f4"
           },
           "y": {
            "bdata": "oes3wg==",
            "dtype": "f4"
           },
           "z": {
            "bdata": "Aih7QQ==",
            "dtype": "f4"
           }
          },
          {
           "marker": {
            "color": "#B6E880",
            "opacity": 1,
            "size": 4
           },
           "mode": "markers",
           "showlegend": false,
           "type": "scatter3d",
           "x": {
            "bdata": "3AoNQoT1o0GU3cRCaFdMQlDBLkKEZKZCqLw7QUgzmUL8vapCOEgSQmQ2lkFGr4xC9KexQiCCIUIAzEhCaOutQpovlEIeIbJCgF4fQhrIgUImCo1CaO7IQRgA60E2brVC6BJlQRSmFUK46xNBwLt1QgTzrkL4FaVBlEm0QkAar0HMxIxC4Hi8Qhx5t0FwtaxCKGRlQkbnjUL6zp1CNGAoQmhEtkIQyLtCaGhLQuy5ukEoKztCxHasQgy5r0IIjINC+Ke0QVRTgUJIjYZBBFiNQlhdUkJwvbVCPHlUQuinjEIUJ7hCPBNuQlBbOkGQK4NCYuKXQoB3+0EoULtCorSKQnTPdUJaKIFC9DkBQrpkoUIYqp1CyNR2QdCoKELIJnNBeDJkQaAJGkK6eqFCHIWzQtT/jEJEQIZCIL9xQqJGuUKYighBoNMeQuyPBkJcAoJCTMgiQpb4q0I0TidCEPogQiS6m0FIe21CsBE8QYDu9UFM3DFCPEyQQSD2PkJkTpFC8GMOQbSwMELI355CCk2/QgA2fUIorudBCHM3QtScUULiXJBCPMmMQdzprEL4AKpCyNW3Qk57nUKg4j1CYqGTQgT7eUIgIf9BhKIgQpY7oUJgfxhCyI55QpyEHUIgB8ZC4rGkQrj0fEIK8bJCTAizQfQGX0IIc4BCaOKQQfCMfkG2LL1CPDCqQorxl0L2fMZCJAGuQQDq30G8F0lCVLqyQiBC6UGMZElCGCBJQmDB9kFkZFZCpL59QjjvYULOn4VC9HxTQmAkcEJ8LxRCwkiqQmC2+EFQ9MdB+KfPQXhkP0KUfadCyEGXQpqol0IkMY5CFK6uQhRhKkIet6dCEHF5Qn7elEJk05NC5EkJQpTcrkIaX6tCNNctQtSSSEJsrjxCKFdvQuxgjkFYPYNCBl66QkTHGUJicaxC8CZsQlw4d0LQt4pCMBn8QEwxZUJ4fhNCeomgQih3PUII6wJC8EleQvTOoUGEUjhCuM6iQXSHEELkqSpC0PyOQQ4FoELYx6VCpMOkQRqvw0JkDHNCuCuGQoBtYUJsKMJBKF6hQqgvdkKgr2hCbFDFQcbkjUL466hCVCaCQpgiOkLImZlCfqqVQrBCp0L06alC3vOmQlb+wkJol11B2KG8QWhL0kGsQYtCdEaIQtT4gEIsTbZCElCHQggJGUJsRwpCFkmHQrgBF0IwkK9B3kKJQnjweEIy/5dCeJtyQi5zmkKo7ApC8BQaQhiabUIkUDdCLmeKQqj0SUKE9rdCOP0UQTTqcUJM7IBB4JESQiRfgkE0bYBBJKmxQhgBukE4L39CIBCRQjhmIUEcxKhCZsaRQmz7vUIyJYdC5jy/QiC6p0LUx2RCoOfJQZBR4EFYb2RCAIaCQmBSekLcvjdCTKsEQhrim0KkV3RC/JhKQtTvAEJQDS1CqICkQgThhEJgZgtCfMRnQrQgXULwG75CrLEZQii3nULYFJxB6PNoQsQdjUJY7qVCcCfJQSoUjEJ+WLJClKuHQsjP30EEpbdByIauQS6fkEI4KDZCVlGTQuhZQkLw24NBcJZxQgiuVUJ06sBCIF+bQWxogkJI20BBMKXsQRDjwkHWYJhCkL+yQpZnwELgABNCwJtBQgiJDEIK6LRCsCeXQsiGfUH0o49CUHEtQTgRUkLQJc9AWPY9Qsp6qkJQLJhCjMpzQvyvnUL0VZFCnOCBQcx/XEJ4rEpCgCVyQiCmt0KUCqdBLgWNQqT3L0I+X7BCyN18QjjNHEIYcERCuJ1yQQSIo0EQXnBCHCSwQTpIjkLkAhZCtiTDQkjmuEIgyjRBLsWMQpg6tEJI6j5CwBjFP74QwEJ428JBzhaFQu69h0LmVLBClOMUQhQDk0E=",
            "dtype": "f4"
           },
           "y": {
            "bdata": "o/NowuBLTkBAb6FAgxy5wkf3s8IOupzCOm4LwhQwvMIgk3jApUFfwv71esKBHJfCHvSOwqLxrMKamIrC3mnAwrzEwMIgZwxBCf8QwhedwMIoVqrCtVOewkTTvcL6JrXC8LQAwUlxqcKw/o/Bon1zwkTSpcGEWJbCdL7CwVL6usJqdk7CaYW8wgDFs8HY1RjBKMZTQSqhn8JAtLdAAEy1wRDq/sBAUx3AFDacwrhfC8G2iYPCcCM2wajuW8LYgMDBiya4whSAFsLlOSLC0LGZwpCb3cG6pI3C4O1BQLwxusGALM/BIOARwXCwvMEMyy/CyFC1wkYVsMIbpEnCgJxqQYhp0MEoguPBNCmAwrAchsHiXo3C/QE2wqw128G00eLBpNf+wUBA7L8YyZjBQRQ7wkC1u8KAHUu/AP9bwCSaisLAtT/BHgynwr93UsI0YKnBhB+fwnTZhMHKkbTCwDvGwD3tFMKjez/CUBjmwZBZ08Fge07CANNswHiYt8J0e5/CGEYrQZ5tqMLkquLB4P34wLA0i8IAhKm/ALCkvgD5oD4+vHrC4AVewO7uncLAMYrClEO4wXyntMKc8CjCup0SwoDlsT/skiPC8Cs9QWCaXkBiHanCuz/CwiiKx8EgXWNB5ae4wohYCcHEEbrCAJEhP0DcIkFu67jCdEk9wmDa4cDANaK/6BCXwmdBjMLJ8sPCQP5AQIAX0L/GqpfCGd5fwvy4gMFonVbBjgOBwmgEWMHgx3VAgr5nwqi0YsF2DYzCOvZawrD+ncBRK3nCUhIgwuAaEUEtxk/C5pOXwiAwlsHwq4DC+DxPQSiNaUEAqwVBZ/Y4wnNOpsKJgXbCPb6pwkhz2cH0ypnBiLKiwRFRs8IsVZnC2MFIQeRQjMLgJHJAQLmQwvp1i8LIf+HBRuOPwujiJUHGuKrCEl2cwlQj+8HpV8PCwLXRvza0g8IowSRB3lIswtSWvMFWOofCwC3wQP4foMKgsRVBTcSdwkyVtcIUWdLBQIQuwQMaxcLMecHBvLWkwgiVDMJMAqrCtPc1wlADgMLgcf5AHLCwwVZqGcL9MRHC6jEGwgS8gMIYkCfCkH/TwRgYCsHwdbvCkHAYwZUSwsKQHKpAWBbewevnVsKGBC/CYi8Xwh3ntsIgL7rB46FCwvh1EMFsxI/CQP3qQDLItcIczoXC0CyQwjxUWsJ0sAjCnY3Bwmhg+sGsMmPCoadLwjh6BUGmI17CmTQywsBCHkH68SzCSIyBwgAw8r/LAyHCQLdZwehsmME+bZvCoBylQABwCr2g1RJAQPBmwGB+1kC4wf7BYCUcwgw+zcEAs+XAoLT/QDCW1MFcRIjCr8O2wisrW8L2pKXCnWY9wnz8XMIACGe+q3LGwq78hMJazMfC0HPkQGC8P0DgWJzCANAovZ25VsIU/HnCHmCMwnyv7cG7jkrCEJO6woJQkMIowDzBcBzlQEDgFkCga3vAoOrFwLGrq8IUjmrC+GEewQxavcEwbf/BZiWAwo2SnMJUS6HBoBkIwNhcb8Lmt4LCPmy2wmAtzMBlMmjCBFGgwnaVl8LAMfJAOLzFwaohWMJgmPBAJG3DwiC/2EClLo3C5KyswrQ0s8IgJ/tAWMMmwd/6csJLLRfC/IKbwhvRbMLwhk7B/BcIwmj6H0E8LZ3BYPqZwFEjmcIZn4TCIHv4wRAG+MGAAFnBTKGFwTmTE8IqUJjC5Lr1wRqsLsKQrZFAINvtQAjALkFw3I3B4HQjwTFvIsKHULPCDg8ZwiBwhsLQemPCSfJmwgDcsT8gN0lABHXywQ8lvMLQyIdAALItwI1khMI3LYDC4MiAQH/qVcJp+1DCAIDHPmRinMKtIYLCZqTFwpD1OMI=",
            "dtype": "f4"
           },
           "z": {
            "bdata": "ekeOwrkPVsIUPTLCUFzmwe+ZJsIA/wvCSieAwt5ldMJY5G3CLSNXwooDssIPUpzCf1q7wrWaEMK0h/rB1iXFwp6IPsJ5cW7CAbZzwpvgJcJ1TbjCvGuiwkaglMJVKKHCIzeFwsqCssKUCCDC6sa2wowfPcKHJ5PCI2FswoihX8K3u2/C4HVbwpHonsIhFx7CgrBBwrp/scKYF1TBxyw6wiblGcLvpyXCK8xEwi+jl8J9uGXCBOL1wWyUtcLJUTrCVSWbwkg6LML8ftvBtWOGwrjkw8LZrSvCiElQwp68jcK3VrrCL46MwsXAYcJwaf3Bjt2MwiortsJQzqjCnJtCwqjifcK0MFjCUTQbwqPZj8L1qW7CoJ9pwk4xwsKuc4nClhx3wkKbEMK8zOrBKPduwnvsNcJByrbCwagiwqnqrMI95XjCeCX7wamoWcLcKFPC7K0Uwt7wVMLY2o3COWx6wt31S8IMDL/Bs8HHwnISRMIgzgjCiDrdwcDjt8L4ISrCOiskwq9TfMK5TbzCOZsYwlfQJcJ3VprCiGuywlz7s8LjD8LCl/WtwoDFgsK6oZLCIQQ6wk2Jq8IB1FTCvxEewhcmZMJSRTzCLNAIwlSX7sH8J7fCSE3iwcIZxMI3jz/CmEWewtVQu8ID377COBiiwjT+gMHq84PCP0/Dwob0tMIZqEDC3iCWwm7QTcL8IMLBLLBPwsUhIsI4HjHCfFGMwnMsvsI7x6HCq+pBwuxn9sEnUVDCaxirwnZRB8Iq0ybCHksqwjAEA8LIpNbBu5IrwgNGbMJGEhrC/Gb6wdidRcKAcL3CLgQ6ws0EVcL9xSLCXJH8wd4Rw8IVMLjCHnwOwpIKsMJH5YzCQAqzwdQ7h8KZ8qfCwNQPwip5J8IchJbCPG69wuVNI8Kd2THCrfRnwvbEY8LkTTXCMyKPwuSSu8Faqg3C3oRjwl+4fMJoBY7CasZ3wuaVwcKcILzClo8ywvHVcsIx1IbCrxuUwlrHVMIUnC/CglY5wqBMkMJoCwbC/48lwiOWwcJQ/hDC4FJewhZCtcLw1bDCZE3dwe/DGcJvoazCq0uqwioQn8JAKJbCOJWhwc0ldMLqV8PCyoxrwv3HEMLNXxbCxQpWwjY4JMIZtETCZNadwv64nsIlSV7C1mdJwia1KsKl/HDCBSahwqDVi8IobI7CFpsmwq7tpMIUSqvCSIvmwVtBfMKuEKfCiCQCwpyN+MF4YAPCTPUOwiA09sHsWjrCzHV5wnhFHcJvRh3C6wibwrhyPML4eXrC9AUNwvEmVMLkwufBQFOOwS46v8K8gJbCnau/wlDEC8KQP2vCvPnRwbl4LsJMcKrC9zo0wh6qVcI0mrLClxaOwmMmnsISpGDC+HGhwgTLiMLn4aPCfDPIwbS3QsJLg3LC6S+8wjsJXsIosY/CQzaewhNxwsLEsorC47CgwnOSx8L8ezTC9F66wjNNiMLjILfC+7CNwhCKo8KSMZ/CkxfEwlgzqsIqrSXCMFS8wS86GsLAtw/CQliswmgMM8KMmKnCNvGGwpoBpcJFvsPCrmhowp2+v8KsCbnBVfeNwpOJFcKLZ7TCZqmjwrzzxsIgPobCtp2Lwqe9mMK0ZFTCZO4qwmmnH8LSNyLCpISiwjCWcMKqBMbCbG+twsLKxMI65KXCchi6woNrv8I0P4XCSa1zwlw6lMKo0NTByOz+wYJ9O8LXrjTCuNytwSYxn8K+aifC1ydpwkekZMIhJZ3CHOkbwpB2BcJw8RDCT4ywwlMsLcJrQDzCzkY6wpBLg8IyyRvCnOfdwb9ppcIA3r7CN4GPwjiVzcFQ04PCUMLEwhiAn8JITQ/CStcDwqmfsMKExsbCPF9bwmBWAsI=",
            "dtype": "f4"
           }
          },
          {
           "marker": {
            "color": "#B6E880",
            "line": {
             "color": "black",
             "width": 0.5
            },
            "size": 6,
            "symbol": "diamond"
           },
           "mode": "markers+text",
           "name": "Cluster 7",
           "text": [
            "C7"
           ],
           "textposition": "top center",
           "type": "scatter3d",
           "x": {
            "bdata": "Y6RdQg==",
            "dtype": "f4"
           },
           "y": {
            "bdata": "UuAjwg==",
            "dtype": "f4"
           },
           "z": {
            "bdata": "ZVR1wg==",
            "dtype": "f4"
           }
          },
          {
           "marker": {
            "color": "#FF97FF",
            "opacity": 1,
            "size": 4
           },
           "mode": "markers",
           "showlegend": false,
           "type": "scatter3d",
           "x": {
            "bdata": "RD87QpCMOULg7wnASgGhQsBdoMDiTYxCguWOQi7gwUJQORtBcvuYQlYDu0JW56FCUHtLQuC/AkFwErhAjKy6QqRjjkKMPMdBwt2oQr6QvkJk2hRCQCqAQoACWb+yiZJCWGimQhwKS0KgqO9BwJyxQZgTC0LwDyJBeGd/QoSOv0IoJeZBuL5ZQtC6nEJmKqFCyMJAQrDRxUKAiLrARrSFQpwquELg7j1ADvSaQjgsYEFUuthBoN3uQPqelULIupVB4J1CQFCJDEKs9plBwFPDQgifU0L4oORBbLysQoxnekKQFYZAjJIVQsgPtEFOVopCogeuQlraxUJoCZxCwGoKwbbImEK0G5dCHPLXQXTEnUFAyfTAAMguvwC/vb/Yg7hB9M6yQcDmDEFQCLBBGECRQtCa/kHIpYZC5AaiQrhRN0Ic+YJCWASoQhC/w0IIo7NCIJz0QJhjKkHI8RDBYFipQvSBFkLAxX9A7jmZQub6g0KQ03zBMHaTQgg1SEHQfvJAJFXeQWjXBcGodZRBNA8kQrxJHUJA8FVC/D2NQSDbGkEgcdPA9PGZQr62sUKGmIVCoPm1QFATD0KoJr9CDACXQlg37EFslcBBaLILwVSUgEKUa01CqD1xQvDSzEHYrO9BzBCHQpQ9xELggV9BUBAeQjyYs0Is17xC8ApjQphXxkH8uRVCePmGQkTSUULogU9CQOl3QuihmUJc6B9CwKAWwPQ1o0H0JpdCeK5mQsR+SULo6p9CsOSDQrY1kUJM7mZC4O4rQiyrIEIcFINBuvrEQjpwtkKIv2TB2FmyQeBeukI4dLdCfBh+QrD52UCWr7tC0OS4QXQQnUG02cdCGMISQvjpvULyuYBCAKTTwHzArEJQakJBMESxQmDgJ0HgbrhCIijCQmj0XUFEcVJCPGs+Qmhif0EsWU9CBEqDQUjmi0F+e4hCvtu+QgJevEJQlMtBeGAKQuSxs0Jw7PJB/MUiQrTytUIUz5FB+LtcQXBaQkKs7mRC0CPYQHrso0KGF6FCpFyrQkDMaUGaLJVCUFSTQiT5b0JGgL5C8HF0QoxrJkKaDZxCkBQBQlB4+0HsjlhCMByiQWxDYUJsHlxCQFiVQJAkmkLksQFCpDBTQgyGWEI8ksJCcqCGQhhpQ0Ikb1FCmIeiQeCmbEEEkylCcIlJQrTFTEJgQX5CWCoEQhDGzkH8+XVCfPyMQnQzKkJIiG1CiI+UQgi51UHksQlCzneRQphch0EgzqhCrK3KQdTPlEKwTxpCECsOQnK3uUJerKlC2HahQmZHxULYaMFB5Ee2QjChKULU+CVCMMMPQbi5MkKIhwDBiNASQsi7sUE8vZ9CwC84QSBiM0Kc9odCkKzlQIC/qUGMHCxCqEppQWzXoUIgSnxBQpKpQiphpELQ8sNBGMFkQvLKhULgqWdB0M0cQgAIdb3g0mVBROi6Qc5nuEKobKpCQBT8wODEtUI4d7lCUBStQhisbkHIm45B8EP0QQC6MEI8uExCOKkcQlQFY0LIy35BsAzHQixbtkHUNmdCAHGGQCJMx0I8805CoHMjQvBAo0LaaKxCzA6nQnAjJkJ+Q7JCsHe8QfCvLULmK7pCuGieQiIbkEI2lcFCbD7dQeic80E8iXBCwLI4QZRqyUGYsWtC3DsxQpCrlkBkLWNC8MjgQfi0ykFwdalBsB+uQfS2IUKg14BAuB+AQj5hx0LsE0dCHPJnQvSUVEKMOjtCMrGRQi7Lr0KeobNCSMm5QljOcELc9VdCGPe6QUrJokKwT91AKFN7QmQyQkK64JdCvEhBQgDglkGI2CZCcCSewKpQuUKUwMJCYi2yQgA4mz08dzJC4NGewAzKd0LwjLxC5MQDQhCSfUI=",
            "dtype": "f4"
           },
           "y": {
            "bdata": "AJBtQhTvjEKMxF5C4AJUQryhlkI6epNCtMs7QpqjlEIQutdAPKI0QnBw4UHcPL5CXHpVQpT0wkIoG6pClLfGQuBlYUIQL1RCzD3KQcDElkGUtKxCrAC9QpwG20F8085B9HljQpQFV0JgE1JCtnKDQohU6UFc2SZCWouRQuJRqUKYIjlB2rKaQpTVYUIs8YNCcpiqQmQRb0KsAc9B0DNrQuAoGkLUVJhByJUaQvDrCEJ4FB9BPHl/QkzKmEKYZiVCHjq4QrD3NkEQJh1BbNwgQnBGgkFkcgxCfPtuQmC+AkKYkq5B2EbzQXiMuEIYcnhCzDeiQiR3W0JmnsZCjHukQkSxwkHU/UhCwKNdQrgeQUJu75dCbnScQsI7wEIc2TxCGlWLQiLVi0LkAilCuP56QkjTfEG+mpBCRAXGQrCHmkHIvMpBzk+2QkL/rkLgA0xCzAOIQrb0tEIGIoBCrIBHQrxDBkJU7cFCLN2TQiofu0K8/oxCtOyIQWTvxEK8EZdC0snDQlw+uUL4L51CVDFmQhCaO0JgY9ZBmAzGQpxlikFOCMdC6LJiQow9f0KEdb1C/NctQpgw20Ee0YZCEte3QlysukJIBEZBDABMQnxyikIQeZ5CVKRNQoAQmEIseZBCoLdpQp5nqkKYNCZBSAAgQqQvPUJEFrtCrI0QQgxXuEK8G0VCMIqfQQxqokE+38VCFH3ZQWTjxkLozC9CLiacQqCmo0IEdKZC3D14QnSK2UGwQmJCNNwYQsw9QUKQAqVCwhylQviTSkFYZhVBHDkmQgBvnkIYEwhCSPRlQqC3iEIA/uhBtP5SQgwTfEKA8ipC/mqJQmgTWkH+Q8ZC2C5TQsgaGkIMprVCkJ2OQgzIE0KgOE5CQL5YQsCrQUH4pWhCaONVQvCW9UFeWIxC/PgrQuglPUJooQlCLDjGQtTgF0LI42RCoPzyQbImlkI8gK5BTC+UQmwOaEIMAExCSGGHQfj3G0IurqtC6GyKQvTZPELYaqhBRn2gQtyXTUK06YpCiM2EQqDNq0Ik3RhCuNriQVzJq0IUdpVCfA+7QqC6qEJme55C7n6RQtDBx0KQ8ghCkLY1QigWYELM3BhCHrK/QmyEk0G8fxNCOlS8QrDFEULC+ZpCgOUAQsgqa0Ke74hCRMQoQnxKmEKE/StCDjakQk6uokIUCplBVFu8QgyuqUIYLZRCJt6+QliCZUL2/ahC6H0eQtx+N0JgApBCHBuqQqiUUUJGn7VCuFFdQmgXgkJwfwtBRLEvQtRDTkKsCpJCAAtdQuhUFkL8IX1CkriyQlQgxUKm/5VCYBIpQdaFo0JQRzdCgE6wQjg5a0IMJ3VCiKuaQpgDWUK4b8dChmOjQnCA40BgAHRCiFLnQbzGO0LQ1vpBzG+KQWBY+UGI4VhC2JN7QlDeHEJ4FPVB6BK9Qd7wxEJ4ps9B0OafQrbesEJOOcdCgO1eQsDLJkKEs7FCGKkaQpQgLELELxtC2GMkQVSRBUIQs6tCBBlOQux/xkKAw+hBtOIFQsCKvkIcBKJCEgaqQoSvmUIU7Y1CYDtvQpiCEULsO09C+O5JQlzla0L4PydCmIHCQlRyJ0Jg1J9CFG+RQuy4wUF0qE5CiEcqQuAkEEFIQYFBIpicQqRdZUL4tVpCwGSGQqpylUJEfh9C3NrPQbCsVUG8c3VCkDMVQjBYUkKqOJ1ClOabQqRrwEIEiAVCeuK6Qpy5DUIIibRCKA8+QqRkDULEjrZCQqmZQnB4O0HAb0dCUEBYQSyQXkI82ERCVkypQgxRpkKgaM9BekyKQugCkELyw4lCPOOfQrb3lEJMB4ZC1qKNQoLOu0JyWZpChNy6Qix0r0JYMylCBnGBQtDLkkE=",
            "dtype": "f4"
           },
           "z": {
            "bdata": "kNdOQSBFekJQStpAwrXBQjBb4kC0H2FCOLGlQY7PnkL00t9BqC0cQmCL8MDIwZtBiJcdQjBYC0JACSXAkHYhQqQpfELgx8BBEGeQQmybJ0JUs0dC8E6eQBAmC0GAcrLADLhmQoA3iz+EtKJCnsmMQgChv77cU53BACMPwNiknkEsQpdBIOfiQVSKc0Kwk2lCuIJsQUgbyUGAiLg/oLP+Qcb7xULwPR9CEKn2QewIGUIg3FTAAAwFvgBG7D9YCo/B8DkbQhRhF0KsF57B9Bu8QTCl6UE4VaxBdE/GQigMD8EQ1MxBmAhNQtQSSELYQTLBmh/HQg5khEKQOfPAYD+qQGR+QELgtrtBPlCCQrhhh0JUd5pBeK2GQbw5icHw/ABCQJA5wRCJN0KcgkZCvG+QQqjSEUIg7stA4COWQpBAzUGA5S9CUBilQRDQmUJAHNq/hEkfQsD7XsCQ2WnBRCaQQQjYTEGg0SRClATSQXCoPUKY1QlBHPUDQqjReULYpG9CBB5kQiiK5UHabINC9LmhQfx1zkH6FYBCZFI0QrQ7G0IwSVlBVFueQSgHhEK8gAJCsOLGwXz7EEL0Vb5COvezQqDl/cCoPRZCYOtEQNZ0l0KAOClC/CiPQoQCJEKAmve/SMQQwTj73EEAENHAMDhaQupxw0JIYnFBGhSuQnBUa8FcpsNClBZGQpCtbsFQFinB3HxhQs7jukLO/ZdCKFykweCAikIU2yhCuIZWQvACekKgglJA4j+2QswulkKEbS1CAJbuvpjQLUJwMsRAcG5/QjjtLkIkqLNBdLgFQhg7Y0KAhL0/iPAGQSBmuEC4ofBBqC6JQgAcjz4+p4NCJOw2QhiYu0LMZ6tCSAWfwThjFUHIFexBrp6JQiiWgsFAUjHAoJg7QeDmg8GgSQpBOAZZQsDQfUIota1C+KNxQhBvIcFeUplCUJIBQrxuhEF4IWzBmLwmQrIdpEIAmPo9eA8awSQ7KkI0Aq1B+DiywcaQjkJMBBVCwLdUQtA/3MBUScZBpl2cQiy9eUIA9wpBLmKsQrjvpkGwBiJCKKAXQlCr+EHUMI5BPuWTQjCybkEQe4hCOAlAQbCWb0JQzrJC8CApQcCQk0C8IrdBQApGQhD3ckEAPeZAaGPqQWAZJUGA3ppA6BqdwSCzC0HO/aBCnFnFQXjiFsEAELU8QF6FwOgwi0IApjJCEBJvQsamkUJ4DKVBmNHHQXAYcsHI0TzBbE18QlBpikDAjqtCQH2qP2DgBkK0JQNC4AWPQWzUKEL4aMZBFA7cQWSBO0KivY1CYNO6QnhBZkFw0oVC+NosweYno0KgFDJBAI1HQbBTkUAIpyRCWIgJwdD/OULkzJ9CjOUFQmAnjsA4O1jBIIt7QmCvPUHgEgvAdOEpQnrhmUJAyJVCGNq2QnAjqcAkwDdCSFjQQbzSqsHkwr9BlDxQQpDCkUKY+2VBQAGeQMCXu8B2foxC6AFlQqSdgUHgxuXAsC4xQvAfeMFM5r5CQAauQSiti0G0TL9BmDqLQgy6cEJcVl1CBN4WQrg8iULgQklCAJ3mvkxJJ0IokYBCwPS1v4g8jMEwaZRCgBGCQpSoIUIeCatCjL0nQoDZaEIEsAxCOH1pQvCgNUEAALvAzEZrQnrsk0KwStHApEZ9QoAUaUHQ5L7AzJeBQrANHEKQ3DFCtGrPQTD7QMGI9plBqCcGwdAiK0I80IdCiKCiQvIHwEIAoCW+MIMlQa7qwEKgaflAuOQnQviHU0Kc7Q1CgKCbv/yqF0IAmLpBqDiFQuhKF0LMQylCZii1QkDHf0BwrU5BKCwDQlwbQUIITllBWPpiQui/MUJwYO9BwPVaQdD5vkJ8ow5CRlnGQrg5pkE=",
            "dtype": "f4"
           }
          },
          {
           "marker": {
            "color": "#FF97FF",
            "line": {
             "color": "black",
             "width": 0.5
            },
            "size": 6,
            "symbol": "diamond"
           },
           "mode": "markers+text",
           "name": "Cluster 8",
           "text": [
            "C8"
           ],
           "textposition": "top center",
           "type": "scatter3d",
           "x": {
            "bdata": "MxY9Qg==",
            "dtype": "f4"
           },
           "y": {
            "bdata": "R6hnQg==",
            "dtype": "f4"
           },
           "z": {
            "bdata": "VAMFQg==",
            "dtype": "f4"
           }
          },
          {
           "marker": {
            "color": "#FECB52",
            "opacity": 1,
            "size": 4
           },
           "mode": "markers",
           "showlegend": false,
           "type": "scatter3d",
           "x": {
            "bdata": "giqRwrP9isKO1Z7CWIuYwkB2qsHiXCrCIP0xQYCLmD/oWk/BOI2uwvxc58EIuFjCIVm9wgvFr8KQ4XDB/q6WwsH5M8JfdJDCVIk6wvb1hsIZjGbCr7qbwmAbpsGwbMLABuy5wsCyDkFAq43CQEqKP7RD0sEchPrBGCZawS6WpcKgx3jATXKWwgDp4cE8npvChgSawjAzRcFku6bCUkOTwlCFg8Jygq/CICJzQRFRLMLoGmfBQLe4v7IJrMJ6J3vCC6VowumyHMKrEInCaBPXwZzPrcJ2TbTCPOzdwYpeg8KsM8fBWzvDwhjamcKKE0XCxct5winZNMJQxm3CWO8YwfwRlcILXbzClipxwonLUcJA95JAvO7twbM2mMLFQqfCK/ZAwj6br8KotW7BYN/1wWzVNsJeKcbCNvmNwtbgncJPiXnCbPxewrSbnsJuIaTCj+MTwsic58HF2lPC5OO3wX5BB8I6qELC3GoIwuwAXMJgQPnA8geKwj3nScIJW6vCwEhrwJQtNMIgpr/AYEROwU6TxMLYGErCVacewoSyhcFA5a+/0KW7wTFXRML7UcDCgLuWwOVTgcLi2WTCMhGbwjI3sMLY5cnBkPJYQWDGhsG40LDCCdwzwvjfdsG4phvBIQNkwlxGu8H2J5nCYvmfwmTkvsFcJIXCeK09wUQmtcLYv7zCXJQOwooCB8KBDpHCoKFzwUX6t8Il6LvCwpEewjgFJMHARJLAQDstQQw1tcGwxSfBPPO8wa3ddsK4jR/B4GaawJzju8JAt7u/VISbwjwLm8K5WxzCHYY+wlBvtMLg/mFB9IJqwhjtX8GWQa7C4OV9QBYTc8JxTaXClm2qwqVNl8K4FAzC3roBwvD2n8DUAu7BGDkBwoz9/cEoca7BiMBzQdzVgcKgd7jBPeIYwnCVqMBkO6PBIQVHwieFNMJ4PizBeIJzwVMQi8KydT/CqUGIwjSFwME8nIPBgGuywt3TUsI8zYLCAB9ywA1mMsIoeTzB9AFpwhjNW8HXuC3CdW6dwhABVcFjirXCQOh3wBJfncIOcIjCDX6fwkrUQ8LAzIVAZLI4wvr9qsJAul7B1tNgwlhUosKgIOjBPumcwniEgsFRYGrCm4fCwhg76cFK2yvCRR97wlw9osJHSCvCDl0awkDUNMEKPZ7CsGQ1wqA/zsFGI8XCaZqqwoALcEBxxcHCi72swtVIlsIgRpfCfErnwYzXvMF6EcfCzdm7wkoPtcLuS4nCRClbwnDvE8GYvfjB0GBPQZipl8HojdHBvOmGwVNiqMIASzDA9A/mwQASlr+aASnC0OYIwRfMXcIiVSTCnL1wwl4uj8IJ9sDCfeqiwol0h8IAmOM+T5eZwn41lcLgrOzBYM9ywWyWgsEsMLfBSxCnwqRHpMIUToPCYmWlwowsmsFL4orCeG46wQBYeb62WJHClgqfwsBfPkA8+PTB9oAJwkkor8IA7E7AvLVLwi/2jMKA4KfAxFLYwbiJ8sEQZFDBBv21wqTJT8Lz0aHC0DOIwQAb60DUWwnCbg4kwhBJasGDBD/CWryCwkjlicGIuEDCufHFwgACG77IrgnC0PFuwep3hsKAsUHCLnjFwjTJTsKkvrDCICguwL4gP8Kf813CIE7mwCSmjMHwA6xAJDQYwqRp08HocJ3B5IzTwTyOj8GLlkXCeypFwroCvsLP+oLCdyKzwnirFMGU+I/BiQRBwqReiMIAM9q+AK/WPwCdcMHpwSzCuHqOwaBFzsDNLXfC0jA6wmadkcLoaxLCEPWIwtSx8MHYNyLCodWRwqEdqcKgSo9AxL6mwblzj8LSvsfC3joxwsS9pcI+g6/C4FhLQCi1pMELoWzCcIh2QaIAJcI=",
            "dtype": "f4"
           },
           "y": {
            "bdata": "B5IVwlxi88FVirzC2kSZwiAukcEJKYvC+mydwnCflMHIOO7B141cwvxllsGdDabC4Cifwr5sosKg7EHBW3kgwtAB88B/SKTC7CukwnCeOsIg6r/BTWxZwqZ/T8L+pUzCirQawoI1YsLaFkrCKMx+waAqwcHZLJPCBFt2woyCTcI91sTC1quQwq2StsK7vDbCfOiawkblEMIJERPCBOEMwqtLKcKbE6vCG7HHwtjDHMKTxYnC0bdbwrudJMIS4wPChRCQwu1zfsIDKpTChbCswhyHh8K5bYXCUC7pweIyfsKEusTBQMSkwGwXrcIZiMXC1gepwmFXn8LwLHbBgOXewWqRWMLoIxLBGWGxwhpJesI8IQ3Cv58twufvS8JFS67CpT6ewj4tlMKi/j/CAIOGwrSqA8IkiU3C6BPgwXgwbcHShpbCPESRwusWSsJGTH3Cfu2hwqZNncL8W5/CAIj0PQzNgsIuo6PCULrVwWx+y8GUhkPCG6a9wgjmeMFgp/LAWtijwu8MwcIgwLzBKCGxwtvidMKAF3nC3ZVdwm5/PsJ4VYDBLQW3wuA5M8FCGmjCANiRPhj+f8EsHIjBKlUDwrxluMIwev/B6BOEwumsJcK0tOvBhB+RwYCVl8LzFjDCeJIpwZjqGcIWw4TCQDKDwkSWTMKg5qTAPEYQwnDUdcGPKqrCgE+JP6blMsIJ1pLCAo6SwsSoZMLfvFDCT/aIwnqMqML+DHLCEmGfwrAssMEBE2rCP9KAwrUsbMIM77HBjLCSwp8op8J24IrCyJXwwQCwVsGemaLCUKoVwUbqOMI6Db3CsJCCwtjIxsEZUx/C08x3wrRsx8HgwuLBPcSmwnVCJ8IQwLbCrO+4wZBk18AF5bTCYASxwTj9jMK8HbTBnymjwkU1vMLQJ1/BgHEZwoK/F8IOkxLCIAHDwo/cr8IAaJXCWo8EwpbJBML/mrzCsrGVwhhb3sF6pIrCjAymwcf6WMJzR3/CEN6UQO6/u8IAuOk9BAa6wQqgosLd0HHCrxxXwtglbMGceYnCIB9cwtB/wMLd46nCANe2wUmqTMKNJVzCQTGjwnW1acLsIAbCZ10awroQk8LQG9DAdM+pwkAN6sDaVLXCeA2rwpqPIsJ3ApzCFOT9wSOtmcJ92hnCUB79wM1josKi8yzCB4uwwnPmOsKI4MbCHJRHwp6eIcL68YPCC82nwuG9x8LVnVfCUDnKwIn/ncIP32LCzG4rwgDDncBXeGnCrOqKwt1XOcKvMGrCJaikwg47usKqQIfCjBDGwYCvtsKHa5jCepSgwjJrksK0NbbCgJm9wuzYP8IW24jCiMY9wr8kxMLMMGvCg79jwob4AcI2tA7C2Y68wktDK8LA7/3AYMeewLjPQsGLYMbCiHeCwdTNRsKk7UHCdHmEwXiMrsHKeYvC0MHPQIibp8EWw57CiQCswppmV8K4E6LCUQd8wkN0tMIgCYrBvIrYwdaaKsIx/hjC/egUwjSqx8Ih50vCHjexwpT6qsLe97jCDPqowUFvm8LMpr/Cyk1/wth5qMG2mS7CwDc9wcS2qcGUFRHCAoifwtm7NcLc9D3CbsCQwpicmsJW4rrCjnsPwjBvOMIQeqfAxDOKwSxA/cG2awHCGkqtwpXBJ8JiLZPCR+evwnC0acI4cnzBPPrrwepcKMJHRjzCrVZ6wvihNcLVFEXC+J2ZwbkmLML39qjCbI9PwqRDqMGq3KLCDqjDwuD/hEDgZj1AWd2WwrdYncKp+KzCk2RVwoc0YsKnRzfCdIV7wv5yRsLJbq7CQniTwo9HX8KItfbBgQYywn/2qsKoEBrB8JvMwaDFJMFZnUvCDOuOwkQgksIy+prCrQm3wjOwxcI=",
            "dtype": "f4"
           },
           "z": {
            "bdata": "J8mDwln8ccLJEmHC1+WwwspVv8JxLmDCvmQKwg1bMsJzvFrCgBHEwljb1cGAZ5PBJ6kVwgKGEsK9xWPCtDCAwpJewcIS5mHC7IzSwdiUwsFM4pDBOJ7jwSD/tsIbTJvCpbCCwkQUqsJwWq/BEEC4wnJ1Y8KgELfCsTdxwkbSWMKjyi3C8Ga4wYbBDMKwkLTBQx+2wvSrn8GIRD7CdIpjwtBCa8Jt0L/CKMWYwp7hlcKC3iDCriJUwkc6tsK6PbLCxfYYwtC0tsIOC8TCCGYLwiFljsJt4Y3CuO93wVSWjcKLSJ3CizS+wrBvxMEOtLLCalfAwtllqsI25YnCENWVwgomFMK09oXCBnOdwpqfDsLKX5nC2gOOwppLAcIz9SLCWOOewkrdvsKPqLXCA6OYwhSmE8JgCp3CmITawSVUQMK42YrCLIYuwvsCR8LlhxfCx6KQwhyl6sFMyozBLLcvwpckZ8KRHhPCSzHEwpOYt8KMwBrCUFmowSL2C8I4BcfCakmHwmK/LsL+tmHCb0KGwjjPLsLoHGXBRLS1wfio0MGQugHCrGzzwbaag8JCAZzCXkdbwiQFbsIMj4PCLIA+wi5Eg8LswsbB6rGswh/ivcLsWqXCAGuYwpLLwsIUHY3BZW0jwgBygcJnlRvCaMiYwpA78MAHQbjCFPqkwtzWNsLNuLXCFUN4wpiFUMFmZ8LChn6YwgPBF8IzRH/Cs/0zwlBfxcB/p0HCHgYVwuyG7sFhtMfC6fq+woEVScJI3sjBXnhuwvR44MH7d7vC45jDwqZej8Loq9fBGZCfwhL/vsIJDBPCaE1JwTxhLcKU14XCxb+rwpiBp8JNyJfC/nwkwmffcMIAsIXCnjeRwnRoGcI+9MTC7F1awih9k8K+LYzCu9PFwvgWn8IPwLLCaVeSwqLdrcIWyzjCRKikwYECtcL94rnC+EKZwnE5KMIb9LnCzb1vwkhhtcGoqAzBokWewsD3vcKEegzCJyyPwhadlsJ6qozC3DW6whwlnsKyFoLC+naQwt4XfMIZ4njCDFYwwl+bG8Kkz7/BAl0OwshibcE5maPCONSswvD9vsIoic7BMH6YwcqWf8I7Y2HCXtG3wjt3tMJGcUfC/4OfwiCQkMHo6ufBO7BLwgCnbsI1WVXCVinGwmh4QsJbni3C4qW9wly0B8I/3bLCNMVVwtnOe8LsenXCAKmSwr8KssJII5rCW1SiwuC/qMB5GpzC4VZDwkgihsJMXdnBHHKvwuLogsLYkoDCVOmBwm9Pp8Je9BDCdjlAwsimssJIrWjBYIqcwrwc5sE3mmXCUGNbwhTfRMKw1MDBqWW4wtSNCsIbu3bCZjO9wtOaQcJ3m4PCrt+fwodkqsLupEHCZHV5wrIcosK9u5rCx7MywvATtMInCsXC6zNHwgxu9MEJx4XCmyqXwqDcO8K6q8HCLaC2wuDjo8EOSHrChcElwmkqqMJFfrXCYP30wUoNKMIImKTC+LGrwfjCb8GwP7zCDhCcwoHnu8KoR4/B4N7JwFx+oMJEPpvBzJfwwfiJR8K22FrCOGtiwsiPkMHLSm/CVuGpwjnKvsJq54HCrLy7wWjYqsHshpTCskgdwivrkMKgncXCfEO3wXf7ZsIK3Y/C7vpqwpTTsMIaQ8DCGeWRwoSgXcI3ZsHCONhDweqPjsJQgYHCBEGawmQ/HcLoLJLC8kMnwhDdpsIOtzLCFat/wuZ4r8JBBzvCUE+nwaW9scKLoFnC1Fk+wo6ZFML4ILrBv2tNwghRsMI//2vCfNbGwV65HcK8Zs3BkDotwhQQKcKepGPCMCnswZhUn8LuVW7CgbPBwkXexcIQm7/C8My9wvqwrcI7HqjCQsKnwuDg+MA=",
            "dtype": "f4"
           }
          },
          {
           "marker": {
            "color": "#FECB52",
            "line": {
             "color": "black",
             "width": 0.5
            },
            "size": 6,
            "symbol": "diamond"
           },
           "mode": "markers+text",
           "name": "Cluster 9",
           "text": [
            "C9"
           ],
           "textposition": "top center",
           "type": "scatter3d",
           "x": {
            "bdata": "dF4owg==",
            "dtype": "f4"
           },
           "y": {
            "bdata": "ZJ9Pwg==",
            "dtype": "f4"
           },
           "z": {
            "bdata": "5Tlrwg==",
            "dtype": "f4"
           }
          }
         ],
         "name": "frame2"
        }
       ],
       "layout": {
        "margin": {
         "b": 0,
         "l": 0,
         "r": 0,
         "t": 40
        },
        "scene": {
         "bgcolor": "white",
         "xaxis": {
          "title": {
           "text": "UMAP-1"
          }
         },
         "yaxis": {
          "title": {
           "text": "UMAP-2"
          }
         },
         "zaxis": {
          "title": {
           "text": "UMAP-3"
          }
         }
        },
        "sliders": [
         {
          "len": 0.6,
          "steps": [
           {
            "args": [
             [
              "frame0"
             ]
            ],
            "label": "0",
            "method": "animate"
           },
           {
            "args": [
             [
              "frame1"
             ]
            ],
            "label": "1",
            "method": "animate"
           },
           {
            "args": [
             [
              "frame2"
             ]
            ],
            "label": "2",
            "method": "animate"
           }
          ],
          "transition": {
           "duration": 0
          },
          "x": 0.156,
          "y": 0
         }
        ],
        "template": {
         "data": {
          "bar": [
           {
            "error_x": {
             "color": "#2a3f5f"
            },
            "error_y": {
             "color": "#2a3f5f"
            },
            "marker": {
             "line": {
              "color": "#E5ECF6",
              "width": 0.5
             },
             "pattern": {
              "fillmode": "overlay",
              "size": 10,
              "solidity": 0.2
             }
            },
            "type": "bar"
           }
          ],
          "barpolar": [
           {
            "marker": {
             "line": {
              "color": "#E5ECF6",
              "width": 0.5
             },
             "pattern": {
              "fillmode": "overlay",
              "size": 10,
              "solidity": 0.2
             }
            },
            "type": "barpolar"
           }
          ],
          "carpet": [
           {
            "aaxis": {
             "endlinecolor": "#2a3f5f",
             "gridcolor": "white",
             "linecolor": "white",
             "minorgridcolor": "white",
             "startlinecolor": "#2a3f5f"
            },
            "baxis": {
             "endlinecolor": "#2a3f5f",
             "gridcolor": "white",
             "linecolor": "white",
             "minorgridcolor": "white",
             "startlinecolor": "#2a3f5f"
            },
            "type": "carpet"
           }
          ],
          "choropleth": [
           {
            "colorbar": {
             "outlinewidth": 0,
             "ticks": ""
            },
            "type": "choropleth"
           }
          ],
          "contour": [
           {
            "colorbar": {
             "outlinewidth": 0,
             "ticks": ""
            },
            "colorscale": [
             [
              0,
              "#0d0887"
             ],
             [
              0.1111111111111111,
              "#46039f"
             ],
             [
              0.2222222222222222,
              "#7201a8"
             ],
             [
              0.3333333333333333,
              "#9c179e"
             ],
             [
              0.4444444444444444,
              "#bd3786"
             ],
             [
              0.5555555555555556,
              "#d8576b"
             ],
             [
              0.6666666666666666,
              "#ed7953"
             ],
             [
              0.7777777777777778,
              "#fb9f3a"
             ],
             [
              0.8888888888888888,
              "#fdca26"
             ],
             [
              1,
              "#f0f921"
             ]
            ],
            "type": "contour"
           }
          ],
          "contourcarpet": [
           {
            "colorbar": {
             "outlinewidth": 0,
             "ticks": ""
            },
            "type": "contourcarpet"
           }
          ],
          "heatmap": [
           {
            "colorbar": {
             "outlinewidth": 0,
             "ticks": ""
            },
            "colorscale": [
             [
              0,
              "#0d0887"
             ],
             [
              0.1111111111111111,
              "#46039f"
             ],
             [
              0.2222222222222222,
              "#7201a8"
             ],
             [
              0.3333333333333333,
              "#9c179e"
             ],
             [
              0.4444444444444444,
              "#bd3786"
             ],
             [
              0.5555555555555556,
              "#d8576b"
             ],
             [
              0.6666666666666666,
              "#ed7953"
             ],
             [
              0.7777777777777778,
              "#fb9f3a"
             ],
             [
              0.8888888888888888,
              "#fdca26"
             ],
             [
              1,
              "#f0f921"
             ]
            ],
            "type": "heatmap"
           }
          ],
          "histogram": [
           {
            "marker": {
             "pattern": {
              "fillmode": "overlay",
              "size": 10,
              "solidity": 0.2
             }
            },
            "type": "histogram"
           }
          ],
          "histogram2d": [
           {
            "colorbar": {
             "outlinewidth": 0,
             "ticks": ""
            },
            "colorscale": [
             [
              0,
              "#0d0887"
             ],
             [
              0.1111111111111111,
              "#46039f"
             ],
             [
              0.2222222222222222,
              "#7201a8"
             ],
             [
              0.3333333333333333,
              "#9c179e"
             ],
             [
              0.4444444444444444,
              "#bd3786"
             ],
             [
              0.5555555555555556,
              "#d8576b"
             ],
             [
              0.6666666666666666,
              "#ed7953"
             ],
             [
              0.7777777777777778,
              "#fb9f3a"
             ],
             [
              0.8888888888888888,
              "#fdca26"
             ],
             [
              1,
              "#f0f921"
             ]
            ],
            "type": "histogram2d"
           }
          ],
          "histogram2dcontour": [
           {
            "colorbar": {
             "outlinewidth": 0,
             "ticks": ""
            },
            "colorscale": [
             [
              0,
              "#0d0887"
             ],
             [
              0.1111111111111111,
              "#46039f"
             ],
             [
              0.2222222222222222,
              "#7201a8"
             ],
             [
              0.3333333333333333,
              "#9c179e"
             ],
             [
              0.4444444444444444,
              "#bd3786"
             ],
             [
              0.5555555555555556,
              "#d8576b"
             ],
             [
              0.6666666666666666,
              "#ed7953"
             ],
             [
              0.7777777777777778,
              "#fb9f3a"
             ],
             [
              0.8888888888888888,
              "#fdca26"
             ],
             [
              1,
              "#f0f921"
             ]
            ],
            "type": "histogram2dcontour"
           }
          ],
          "mesh3d": [
           {
            "colorbar": {
             "outlinewidth": 0,
             "ticks": ""
            },
            "type": "mesh3d"
           }
          ],
          "parcoords": [
           {
            "line": {
             "colorbar": {
              "outlinewidth": 0,
              "ticks": ""
             }
            },
            "type": "parcoords"
           }
          ],
          "pie": [
           {
            "automargin": true,
            "type": "pie"
           }
          ],
          "scatter": [
           {
            "fillpattern": {
             "fillmode": "overlay",
             "size": 10,
             "solidity": 0.2
            },
            "type": "scatter"
           }
          ],
          "scatter3d": [
           {
            "line": {
             "colorbar": {
              "outlinewidth": 0,
              "ticks": ""
             }
            },
            "marker": {
             "colorbar": {
              "outlinewidth": 0,
              "ticks": ""
             }
            },
            "type": "scatter3d"
           }
          ],
          "scattercarpet": [
           {
            "marker": {
             "colorbar": {
              "outlinewidth": 0,
              "ticks": ""
             }
            },
            "type": "scattercarpet"
           }
          ],
          "scattergeo": [
           {
            "marker": {
             "colorbar": {
              "outlinewidth": 0,
              "ticks": ""
             }
            },
            "type": "scattergeo"
           }
          ],
          "scattergl": [
           {
            "marker": {
             "colorbar": {
              "outlinewidth": 0,
              "ticks": ""
             }
            },
            "type": "scattergl"
           }
          ],
          "scattermap": [
           {
            "marker": {
             "colorbar": {
              "outlinewidth": 0,
              "ticks": ""
             }
            },
            "type": "scattermap"
           }
          ],
          "scattermapbox": [
           {
            "marker": {
             "colorbar": {
              "outlinewidth": 0,
              "ticks": ""
             }
            },
            "type": "scattermapbox"
           }
          ],
          "scatterpolar": [
           {
            "marker": {
             "colorbar": {
              "outlinewidth": 0,
              "ticks": ""
             }
            },
            "type": "scatterpolar"
           }
          ],
          "scatterpolargl": [
           {
            "marker": {
             "colorbar": {
              "outlinewidth": 0,
              "ticks": ""
             }
            },
            "type": "scatterpolargl"
           }
          ],
          "scatterternary": [
           {
            "marker": {
             "colorbar": {
              "outlinewidth": 0,
              "ticks": ""
             }
            },
            "type": "scatterternary"
           }
          ],
          "surface": [
           {
            "colorbar": {
             "outlinewidth": 0,
             "ticks": ""
            },
            "colorscale": [
             [
              0,
              "#0d0887"
             ],
             [
              0.1111111111111111,
              "#46039f"
             ],
             [
              0.2222222222222222,
              "#7201a8"
             ],
             [
              0.3333333333333333,
              "#9c179e"
             ],
             [
              0.4444444444444444,
              "#bd3786"
             ],
             [
              0.5555555555555556,
              "#d8576b"
             ],
             [
              0.6666666666666666,
              "#ed7953"
             ],
             [
              0.7777777777777778,
              "#fb9f3a"
             ],
             [
              0.8888888888888888,
              "#fdca26"
             ],
             [
              1,
              "#f0f921"
             ]
            ],
            "type": "surface"
           }
          ],
          "table": [
           {
            "cells": {
             "fill": {
              "color": "#EBF0F8"
             },
             "line": {
              "color": "white"
             }
            },
            "header": {
             "fill": {
              "color": "#C8D4E3"
             },
             "line": {
              "color": "white"
             }
            },
            "type": "table"
           }
          ]
         },
         "layout": {
          "annotationdefaults": {
           "arrowcolor": "#2a3f5f",
           "arrowhead": 0,
           "arrowwidth": 1
          },
          "autotypenumbers": "strict",
          "coloraxis": {
           "colorbar": {
            "outlinewidth": 0,
            "ticks": ""
           }
          },
          "colorscale": {
           "diverging": [
            [
             0,
             "#8e0152"
            ],
            [
             0.1,
             "#c51b7d"
            ],
            [
             0.2,
             "#de77ae"
            ],
            [
             0.3,
             "#f1b6da"
            ],
            [
             0.4,
             "#fde0ef"
            ],
            [
             0.5,
             "#f7f7f7"
            ],
            [
             0.6,
             "#e6f5d0"
            ],
            [
             0.7,
             "#b8e186"
            ],
            [
             0.8,
             "#7fbc41"
            ],
            [
             0.9,
             "#4d9221"
            ],
            [
             1,
             "#276419"
            ]
           ],
           "sequential": [
            [
             0,
             "#0d0887"
            ],
            [
             0.1111111111111111,
             "#46039f"
            ],
            [
             0.2222222222222222,
             "#7201a8"
            ],
            [
             0.3333333333333333,
             "#9c179e"
            ],
            [
             0.4444444444444444,
             "#bd3786"
            ],
            [
             0.5555555555555556,
             "#d8576b"
            ],
            [
             0.6666666666666666,
             "#ed7953"
            ],
            [
             0.7777777777777778,
             "#fb9f3a"
            ],
            [
             0.8888888888888888,
             "#fdca26"
            ],
            [
             1,
             "#f0f921"
            ]
           ],
           "sequentialminus": [
            [
             0,
             "#0d0887"
            ],
            [
             0.1111111111111111,
             "#46039f"
            ],
            [
             0.2222222222222222,
             "#7201a8"
            ],
            [
             0.3333333333333333,
             "#9c179e"
            ],
            [
             0.4444444444444444,
             "#bd3786"
            ],
            [
             0.5555555555555556,
             "#d8576b"
            ],
            [
             0.6666666666666666,
             "#ed7953"
            ],
            [
             0.7777777777777778,
             "#fb9f3a"
            ],
            [
             0.8888888888888888,
             "#fdca26"
            ],
            [
             1,
             "#f0f921"
            ]
           ]
          },
          "colorway": [
           "#636efa",
           "#EF553B",
           "#00cc96",
           "#ab63fa",
           "#FFA15A",
           "#19d3f3",
           "#FF6692",
           "#B6E880",
           "#FF97FF",
           "#FECB52"
          ],
          "font": {
           "color": "#2a3f5f"
          },
          "geo": {
           "bgcolor": "white",
           "lakecolor": "white",
           "landcolor": "#E5ECF6",
           "showlakes": true,
           "showland": true,
           "subunitcolor": "white"
          },
          "hoverlabel": {
           "align": "left"
          },
          "hovermode": "closest",
          "mapbox": {
           "style": "light"
          },
          "paper_bgcolor": "white",
          "plot_bgcolor": "#E5ECF6",
          "polar": {
           "angularaxis": {
            "gridcolor": "white",
            "linecolor": "white",
            "ticks": ""
           },
           "bgcolor": "#E5ECF6",
           "radialaxis": {
            "gridcolor": "white",
            "linecolor": "white",
            "ticks": ""
           }
          },
          "scene": {
           "xaxis": {
            "backgroundcolor": "#E5ECF6",
            "gridcolor": "white",
            "gridwidth": 2,
            "linecolor": "white",
            "showbackground": true,
            "ticks": "",
            "zerolinecolor": "white"
           },
           "yaxis": {
            "backgroundcolor": "#E5ECF6",
            "gridcolor": "white",
            "gridwidth": 2,
            "linecolor": "white",
            "showbackground": true,
            "ticks": "",
            "zerolinecolor": "white"
           },
           "zaxis": {
            "backgroundcolor": "#E5ECF6",
            "gridcolor": "white",
            "gridwidth": 2,
            "linecolor": "white",
            "showbackground": true,
            "ticks": "",
            "zerolinecolor": "white"
           }
          },
          "shapedefaults": {
           "line": {
            "color": "#2a3f5f"
           }
          },
          "ternary": {
           "aaxis": {
            "gridcolor": "white",
            "linecolor": "white",
            "ticks": ""
           },
           "baxis": {
            "gridcolor": "white",
            "linecolor": "white",
            "ticks": ""
           },
           "bgcolor": "#E5ECF6",
           "caxis": {
            "gridcolor": "white",
            "linecolor": "white",
            "ticks": ""
           }
          },
          "title": {
           "x": 0.05
          },
          "xaxis": {
           "automargin": true,
           "gridcolor": "white",
           "linecolor": "white",
           "ticks": "",
           "title": {
            "standoff": 15
           },
           "zerolinecolor": "white",
           "zerolinewidth": 2
          },
          "yaxis": {
           "automargin": true,
           "gridcolor": "white",
           "linecolor": "white",
           "ticks": "",
           "title": {
            "standoff": 15
           },
           "zerolinecolor": "white",
           "zerolinewidth": 2
          }
         }
        },
        "title": {
         "text": "🌌 UMAP 3D K-Means Iterations"
        },
        "updatemenus": [
         {
          "buttons": [
           {
            "args": [
             null
            ],
            "label": "Play",
            "method": "animate"
           }
          ],
          "showactive": false,
          "type": "buttons"
         }
        ]
       }
      }
     },
     "metadata": {},
     "output_type": "display_data"
    }
   ],
   "source": [
    "# Bernat: any setting <1 will cause sorting order artifacts because of\n",
    "# the rendering engine's static sorting order on transparents.\n",
    "point_opacity = 1\n",
    "\n",
    "colors = px.colors.qualitative.Plotly\n",
    "\n",
    "# Static layout\n",
    "layout = go.Layout(\n",
    "    title=\"🌌 UMAP 3D K-Means Iterations\",\n",
    "    margin=dict(l=0, r=0, b=0, t=40),\n",
    "    scene=dict(\n",
    "        xaxis_title='UMAP-1',\n",
    "        yaxis_title='UMAP-2',\n",
    "        zaxis_title='UMAP-3',\n",
    "        bgcolor='white'\n",
    "    ),\n",
    "    updatemenus=[dict(\n",
    "        type='buttons',\n",
    "        showactive=False,\n",
    "        buttons=[dict(label='Play', method='animate', args=[None])]\n",
    "    )],\n",
    "    sliders=[dict(\n",
    "        steps=[dict(method='animate', args=[[f'frame{k}']], label=str(k)) for k in range(len(iterations))],\n",
    "        transition=dict(duration=0),\n",
    "        x=0.156, y=0, len=0.6\n",
    "    )]\n",
    ")\n",
    "\n",
    "# Initial empty figure\n",
    "fig = go.Figure(layout=layout)\n",
    "\n",
    "# Initial data for frame 0\n",
    "iter0 = iteration_meta[0]\n",
    "cmap = {cid: colors[i % len(colors)] for i, cid in enumerate(np.unique(iter0['centroid_ids']))}\n",
    "\n",
    "for cid in cmap:\n",
    "    mask = iter0['point_cluster_ids'] == cid\n",
    "    fig.add_trace(go.Scatter3d(\n",
    "        x=points_3d_per_iter[0][mask, 0],\n",
    "        y=points_3d_per_iter[0][mask, 1],\n",
    "        z=points_3d_per_iter[0][mask, 2],\n",
    "        mode='markers',\n",
    "        marker=dict(size=4, color=cmap[cid], opacity=point_opacity),\n",
    "        showlegend=False\n",
    "    ))\n",
    "    mask = iter0['centroid_ids'] == cid\n",
    "    fig.add_trace(go.Scatter3d(\n",
    "        x=centroids_3d_per_iter[0][mask, 0],\n",
    "        y=centroids_3d_per_iter[0][mask, 1],\n",
    "        z=centroids_3d_per_iter[0][mask, 2],\n",
    "        mode='markers+text',\n",
    "        marker=dict(size=6, symbol='diamond', color=cmap[cid], line=dict(width=0.5, color='black')),\n",
    "        name=f'Cluster {cid}',\n",
    "        text=[f\"C{cid}\"] * np.sum(mask),\n",
    "        textposition=\"top center\"\n",
    "    ))\n",
    "\n",
    "# Add frames\n",
    "frames = []\n",
    "for k, meta in enumerate(iteration_meta):\n",
    "    frame_data = []\n",
    "    cmap = {cid: colors[i % len(colors)] for i, cid in enumerate(np.unique(meta['centroid_ids']))}\n",
    "\n",
    "    for cid in cmap:\n",
    "        mask_p = meta['point_cluster_ids'] == cid\n",
    "        mask_c = meta['centroid_ids'] == cid\n",
    "\n",
    "        frame_data.append(go.Scatter3d(\n",
    "            x=points_3d_per_iter[k][mask_p, 0],\n",
    "            y=points_3d_per_iter[k][mask_p, 1],\n",
    "            z=points_3d_per_iter[k][mask_p, 2],\n",
    "            mode='markers',\n",
    "            marker=dict(size=4, color=cmap[cid], opacity=point_opacity),\n",
    "            showlegend=False\n",
    "        ))\n",
    "        frame_data.append(go.Scatter3d(\n",
    "            x=centroids_3d_per_iter[k][mask_c, 0],\n",
    "            y=centroids_3d_per_iter[k][mask_c, 1],\n",
    "            z=centroids_3d_per_iter[k][mask_c, 2],\n",
    "            mode='markers+text',\n",
    "            marker=dict(size=6, symbol='diamond', color=cmap[cid], line=dict(width=0.5, color='black')),\n",
    "            name=f'Cluster {cid}',\n",
    "            text=[f\"C{cid}\"] * np.sum(mask_c),\n",
    "            textposition=\"top center\"\n",
    "        ))\n",
    "\n",
    "    frames.append(go.Frame(data=frame_data, name=f\"frame{k}\"))\n",
    "\n",
    "fig.frames = frames\n",
    "fig.show()\n"
   ]
  }
 ],
 "metadata": {
  "kernelspec": {
   "display_name": ".venv",
   "language": "python",
   "name": "python3"
  },
  "language_info": {
   "codemirror_mode": {
    "name": "ipython",
    "version": 3
   },
   "file_extension": ".py",
   "mimetype": "text/x-python",
   "name": "python",
   "nbconvert_exporter": "python",
   "pygments_lexer": "ipython3",
   "version": "3.11.2"
  }
 },
 "nbformat": 4,
 "nbformat_minor": 5
}
