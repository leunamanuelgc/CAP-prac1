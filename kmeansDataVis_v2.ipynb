{
 "cells": [
  {
   "cell_type": "code",
   "execution_count": 73,
   "id": "136a0079",
   "metadata": {},
   "outputs": [],
   "source": [
    "import struct\n",
    "import numpy as np\n",
    "import umap\n",
    "import plotly.graph_objects as go\n",
    "import plotly.express as px"
   ]
  },
  {
   "cell_type": "code",
   "execution_count": 74,
   "id": "0db8952f",
   "metadata": {},
   "outputs": [],
   "source": [
    "def read_all_iterations(filename):\n",
    "    iterations = []\n",
    "\n",
    "    with open(filename, \"rb\") as f:\n",
    "        # Read header once\n",
    "        n_clusters = struct.unpack(\"I\", f.read(4))[0]\n",
    "        n_points = struct.unpack(\"I\", f.read(4))[0]\n",
    "        n_dim = struct.unpack(\"I\", f.read(4))[0]\n",
    "\n",
    "        # Determine how many bytes one iteration takes\n",
    "        bytes_per_centroid = (4 * n_dim) + 4  # centroid values + id\n",
    "        bytes_per_point = (4 * n_dim) + 4     # point values + cluster_id\n",
    "        bytes_per_iteration = n_clusters * bytes_per_centroid + n_points * bytes_per_point\n",
    "\n",
    "        file_data = f.read()\n",
    "        total_bytes = len(file_data)\n",
    "        n_iterations = total_bytes // bytes_per_iteration\n",
    "\n",
    "        print(f\"📦 Detected {n_iterations} iterations\")\n",
    "\n",
    "        offset = 0\n",
    "        for iter_idx in range(n_iterations):\n",
    "            # --- Read centroids ---\n",
    "            centroid_data = np.zeros((n_clusters, n_dim), dtype=np.float32)\n",
    "            centroid_ids = np.zeros(n_clusters, dtype=np.int32)\n",
    "            for i in range(n_clusters):\n",
    "                start = offset\n",
    "                centroid_data[i] = np.frombuffer(file_data[start:start + 4 * n_dim], dtype=np.float32)\n",
    "                offset += 4 * n_dim\n",
    "                centroid_ids[i] = struct.unpack(\"i\", file_data[offset:offset + 4])[0]\n",
    "                offset += 4\n",
    "\n",
    "            # --- Read points ---\n",
    "            point_data = np.zeros((n_points, n_dim), dtype=np.float32)\n",
    "            point_cluster_ids = np.zeros(n_points, dtype=np.int32)\n",
    "            for i in range(n_points):\n",
    "                start = offset\n",
    "                point_data[i] = np.frombuffer(file_data[start:start + 4 * n_dim], dtype=np.float32)\n",
    "                offset += 4 * n_dim\n",
    "                point_cluster_ids[i] = struct.unpack(\"i\", file_data[offset:offset + 4])[0]\n",
    "                offset += 4\n",
    "\n",
    "            iterations.append({\n",
    "                'points': point_data,\n",
    "                'point_cluster_ids': point_cluster_ids,\n",
    "                'centroids': centroid_data,\n",
    "                'centroid_ids': centroid_ids,\n",
    "                'n_points': n_points,\n",
    "                'n_centroids': n_clusters\n",
    "            })\n",
    "\n",
    "    return n_clusters, n_points, n_dim, iterations"
   ]
  },
  {
   "cell_type": "code",
   "execution_count": 75,
   "id": "4d29fe23",
   "metadata": {},
   "outputs": [
    {
     "name": "stdout",
     "output_type": "stream",
     "text": [
      "📦 Detected 4 iterations\n"
     ]
    }
   ],
   "source": [
    "filename = \"clustered_data\"\n",
    "n_clusters, n_points, n_dim, iterations = read_all_iterations(filename)"
   ]
  },
  {
   "cell_type": "code",
   "execution_count": 76,
   "id": "a9035409",
   "metadata": {},
   "outputs": [
    {
     "name": "stdout",
     "output_type": "stream",
     "text": [
      "✅ First iteration summary:\n",
      "Centroids:\n",
      " [[ 169.1269     75.29388 ]\n",
      " [ 198.15347   124.815   ]\n",
      " [ -38.513065 -164.06172 ]\n",
      " [-106.67003  -140.66312 ]\n",
      " [ -62.02309   -82.08198 ]]\n",
      "Points shape: (1000, 2)\n",
      "Unique cluster IDs: [0 1 2 3 4]\n"
     ]
    }
   ],
   "source": [
    "print(\"✅ First iteration summary:\")\n",
    "print(\"Centroids:\\n\", iterations[0]['centroids'])\n",
    "print(\"Points shape:\", iterations[0]['points'].shape)\n",
    "print(\"Unique cluster IDs:\", np.unique(iterations[0]['centroid_ids']))\n"
   ]
  },
  {
   "cell_type": "code",
   "execution_count": 77,
   "id": "666168cf",
   "metadata": {},
   "outputs": [],
   "source": [
    "all_points = []\n",
    "all_centroids = []\n",
    "all_point_ids = []\n",
    "iteration_meta = []\n",
    "\n",
    "for i, it in enumerate(iterations):\n",
    "    all_points.append(it['points'])\n",
    "    all_centroids.append(it['centroids'])\n",
    "    all_point_ids.append(it['point_cluster_ids'])\n",
    "\n",
    "    iteration_meta.append({\n",
    "        'n_points': len(it['points']),\n",
    "        'n_centroids': len(it['centroids']),\n",
    "        'point_cluster_ids': it['point_cluster_ids'],\n",
    "        'centroid_ids': it['centroid_ids'],\n",
    "    })\n",
    "\n",
    "# Stack all points for reduction\n",
    "points_concat = np.vstack(all_points)\n",
    "centroids_concat = np.vstack(all_centroids)\n",
    "\n",
    "if points_concat.shape[1] > 3:\n",
    "    reducer = umap.UMAP(\n",
    "        n_components=3,\n",
    "        n_neighbors=50,\n",
    "        min_dist=1,\n",
    "        metric='euclidean',\n",
    "        low_memory=True,\n",
    "    )\n",
    "    points_umap = reducer.fit_transform(points_concat)\n",
    "    centroids_umap = reducer.transform(centroids_concat)\n",
    "elif points_concat.shape[1] < 3:\n",
    "    padding = ((0, 0), (0, 3 - points_concat.shape[1]))\n",
    "    points_umap = np.pad(points_concat, padding, mode='constant', constant_values=0)\n",
    "    centroids_umap = np.pad(centroids_concat, padding, mode='constant', constant_values=0)\n",
    "else:\n",
    "    points_umap = points_concat\n",
    "    centroids_umap = centroids_concat\n"
   ]
  },
  {
   "cell_type": "code",
   "execution_count": 78,
   "id": "ceb7bc70",
   "metadata": {},
   "outputs": [],
   "source": [
    "points_3d_per_iter = []\n",
    "centroids_3d_per_iter = []\n",
    "\n",
    "p_idx, c_idx = 0, 0\n",
    "for meta in iteration_meta:\n",
    "    np_ = meta['n_points']\n",
    "    nc_ = meta['n_centroids']\n",
    "    points_3d_per_iter.append(points_umap[p_idx:p_idx+np_])\n",
    "    centroids_3d_per_iter.append(centroids_umap[c_idx:c_idx+nc_])\n",
    "    p_idx += np_\n",
    "    c_idx += nc_\n"
   ]
  },
  {
   "cell_type": "code",
   "execution_count": 79,
   "id": "2994bde6",
   "metadata": {},
   "outputs": [],
   "source": [
    "def voxel_downsample(points, cluster_ids, voxel_size=0.1, max_points=10_000):\n",
    "    max_points = int(max_points)\n",
    "    down_points, down_ids = [], []\n",
    "    for cid in np.unique(cluster_ids):\n",
    "        pts = points[cluster_ids == cid]\n",
    "        if len(pts) == 0:\n",
    "            continue\n",
    "        vox = np.floor(pts / voxel_size).astype(int)\n",
    "        _, idx = np.unique(vox, axis=0, return_index=True)\n",
    "        reduced = pts[idx]\n",
    "        if len(reduced) > max_points:\n",
    "            reduced = reduced[np.random.choice(len(reduced), max_points, replace=False)]\n",
    "        down_points.append(reduced)\n",
    "        down_ids.append(np.full(len(reduced), cid, dtype=np.int32))\n",
    "    return np.vstack(down_points), np.concatenate(down_ids)\n",
    "\n",
    "reduced_points_3d_per_iter = []\n",
    "reduced_cluster_ids_per_iter = []\n",
    "max_points_per_iter = 3500\n",
    "\n",
    "for i, (pts3d, meta) in enumerate(zip(points_3d_per_iter, iteration_meta)):\n",
    "    if len(pts3d) > max_points_per_iter:\n",
    "        reduced_pts, reduced_ids = voxel_downsample(pts3d, meta['point_cluster_ids'], max_points=max_points_per_iter/n_clusters)\n",
    "        reduced_points_3d_per_iter.append(reduced_pts)\n",
    "        reduced_cluster_ids_per_iter.append(reduced_ids)\n",
    "    else:\n",
    "        reduced_points_3d_per_iter.append(pts3d)\n",
    "        reduced_cluster_ids_per_iter.append(meta['point_cluster_ids'])\n",
    "\n",
    "# Replace old lists with reduced versions\n",
    "points_3d_per_iter = reduced_points_3d_per_iter\n",
    "for i in range(len(iteration_meta)):\n",
    "    iteration_meta[i]['point_cluster_ids'] = reduced_cluster_ids_per_iter[i]\n"
   ]
  },
  {
   "cell_type": "code",
   "execution_count": 80,
   "id": "e1e0f2ae",
   "metadata": {},
   "outputs": [
    {
     "data": {
      "application/vnd.plotly.v1+json": {
       "config": {
        "plotlyServerURL": "https://plot.ly"
       },
       "data": [
        {
         "marker": {
          "color": "#636EFA",
          "opacity": 1,
          "size": 4
         },
         "mode": "markers",
         "showlegend": false,
         "type": "scatter3d",
         "x": {
          "bdata": "I8QlQ79FM0NihhVDcOtOQzFNG0PxRy1DKlgoQxIFLUPLNxlDEVE2QwPeRkOxBjdDRGvdQikwIUMumxtDnT8LQ0+VMENnDxRDOEA1Qw9jKUMtDzFDvGk/QybVHEMUAOxCZv87Q7U3eUN+jt9CH8pYQ+7HKUMe78pC6TUrQ0vTPUNsbQBDdNU0Q/wSJkOKiiRDtzBNQx5CRkNQVRFDbSgFQwMPL0PNAhtDY6wtQ24DLUOOT2JDERVeQ7zIAkOAzDJDOA4UQzkHFUME6CJD3aMOQ0KCMUMVBSZDneQVQx1Z1UKpNxpDPyUVQ6GWKEMNLzpDpHgwQ9EAWUOl8w9DmCoXQ4SzNUPxNhFDrjZEQwiKVEO1G0JDVD9kQxmT1kJNIDFDz2FiQ7aPwkK52hBDxA1AQy6P5EKHfyBDsstOQ8xvVUOfXTxD1xszQ3vIVEPUTElDIMkWQ23OU0N0sC9Dz9PhQqiNQEP5AlpDu1kxQ6RwRUNnGztDwxIqQ0kKN0Pj6y5Dop4LQxwsO0NEQldDMXMWQ379HENxrktDoDMJQzfxSkN6xSZD2xs9Qw5OI0OMSCZDuakMQyaFKkOcjStDsIobQxUuJ0PLqghDPqfmQjx7G0NtGT5DPW5TQztsHEMzHyNDvBE8Qw+vREMNbDdDj9EKQ8gv6EJq6DRDM34+Q1wCGkN+FFxDnPg4Q3X/0EIqKx5DWHdrQwZ7T0MPoVNDUBEbQ8ND/UIADGJD0yQKQzyQJ0OAKh9D/tT9QgBtBEN9MR5DDTQ8QwL7B0MYWxlDXSBGQ0LmMEOKrTBDHHj0Qit9BEPkFB1DnysBQ6WOIEP9WzZDGlj+QjTLU0NHllVD/XovQ+0EPUMvaTtDzc/HQuffJUO0BdtCRMIJQ8ALGUOpRP9C4OF9QzjKZ0MGwy5DehVEQ5zySUN5WDNDJTcfQ2NdNUNYPklDrXc0Q6yTHUOtDgtD+hU6Q1bpDEPYeQlDznoJQz3tKEO4YgdD",
          "dtype": "f4"
         },
         "y": {
          "bdata": "NF+4Qhix+kESzR5CEomOQrYCnEJxlMxCOo82QuR2kUIMOttCEskPQsQEDUJ0yLJB1t6GQpFTzEK6QttCNPOGQoYEl0K0xUpC0EGmQixHrkE3JMlCBOyUQkX/b0IfXE5CCJmPQtlDPUJVz31CUzU5Qo7WnELt/AFDTu24Qs4dk0JF2KlCHIa8Qqu61UJXhKNCKCyPQkqSS0JjAXlCt6e7Qo00nEJiPClC2cpAQrphuEKeHwZCCVxsQkbH8UIqYMVCNviOQv0O2UJmLshCWYa+Qht1l0K24R1CdCq8QlQqdEJFydNCZnoxQo5Mz0LmvhRCPvCyQhd3aUKcfthCj5WWQpQbukLoHU9CuEWDQjIolUItjoRCT2pVQobwC0MUP7NCYP75QX1DzUKSmS1CAt6nQoWS3kKlELhC+rMwQsEgf0Iob5JCc33DQkkFOUIQkYRBTxIxQqZ9f0KRZcJCYZayQhGQqUJzY5FC1i/MQppPrkJRAaxC/3+0QhAqvEKOisFCp7x/QpVAnEIAcUlCMyE2Qnwys0IdjIhCfoiGQnZgnkKpgIlCDfhWQtGemUKpEtVCCX7VQrLvjEIkuJlBpHPZQXTGjkIb/KRCXdwMQ2j5CUJ+lnpC3h94QpIhukK+DbZC/EimQoZKDkKxhcJCnTzAQu2x9EIL/oZCSKIEQsGX50JwWb5BCQFxQsUblEKAttpCypUCQjzwn0KUYvlBbuCOQuPaiEI3AXtC/v3eQoK8pEIIXNhCUvU7QpKLG0JwXdhCv0WXQmJ3i0LT+c9CiX56Quw6vEKBJ8lC/VnGQvD670LU5alCmXfeQlkZ1UK2yYdCiMcPQqP1jEL87zNC0TFrQuW/s0Kttr9Clm4AQ9pex0JXyK9CwkmPQmpYj0KXCHFCuyxBQvU3O0LP3XhClYxiQvo3iUIaKr9CHUwyQkJGuUJiyJpCu4rJQqzxtEIg90tCtVBzQi9G00LYA0RCrLD4Qgu4lkIeWwND",
          "dtype": "f4"
         },
         "z": {
          "bdata": "AAAAAAAAAAAAAAAAAAAAAAAAAAAAAAAAAAAAAAAAAAAAAAAAAAAAAAAAAAAAAAAAAAAAAAAAAAAAAAAAAAAAAAAAAAAAAAAAAAAAAAAAAAAAAAAAAAAAAAAAAAAAAAAAAAAAAAAAAAAAAAAAAAAAAAAAAAAAAAAAAAAAAAAAAAAAAAAAAAAAAAAAAAAAAAAAAAAAAAAAAAAAAAAAAAAAAAAAAAAAAAAAAAAAAAAAAAAAAAAAAAAAAAAAAAAAAAAAAAAAAAAAAAAAAAAAAAAAAAAAAAAAAAAAAAAAAAAAAAAAAAAAAAAAAAAAAAAAAAAAAAAAAAAAAAAAAAAAAAAAAAAAAAAAAAAAAAAAAAAAAAAAAAAAAAAAAAAAAAAAAAAAAAAAAAAAAAAAAAAAAAAAAAAAAAAAAAAAAAAAAAAAAAAAAAAAAAAAAAAAAAAAAAAAAAAAAAAAAAAAAAAAAAAAAAAAAAAAAAAAAAAAAAAAAAAAAAAAAAAAAAAAAAAAAAAAAAAAAAAAAAAAAAAAAAAAAAAAAAAAAAAAAAAAAAAAAAAAAAAAAAAAAAAAAAAAAAAAAAAAAAAAAAAAAAAAAAAAAAAAAAAAAAAAAAAAAAAAAAAAAAAAAAAAAAAAAAAAAAAAAAAAAAAAAAAAAAAAAAAAAAAAAAAAAAAAAAAAAAAAAAAAAAAAAAAAAAAAAAAAAAAAAAAAAAAAAAAAAAAAAAAAAAAAAAAAAAAAAAAAAAAAAAAAAAAAAAAAAAAAAAAAAAAAAAAAAAAAAAAAAAAAAAAAAAAAAAAAAAAAAAAAAAAAAAAAAAAAAAAAAAAAAAAAAAAAAAAAAAAAAAAAAAAAAAAAAAAAAAAAAAAAAAAAAAAAAAAAAAAAAAAAAAAAAAAAAAAAAAAAAAAAAAAAAAAAAAAAAAAAAAAAAAAAAAAAAAAAAAAAAAAAAAAAAAAAAAAAAAAAAAAAAAAAAAAAAAAAAAAAAAAAAAAAAAAA",
          "dtype": "f4"
         }
        },
        {
         "marker": {
          "color": "#636EFA",
          "line": {
           "color": "black",
           "width": 0.5
          },
          "size": 6,
          "symbol": "diamond"
         },
         "mode": "markers+text",
         "name": "Cluster 0",
         "text": [
          "C0"
         ],
         "textposition": "top center",
         "type": "scatter3d",
         "x": {
          "bdata": "fSApQw==",
          "dtype": "f4"
         },
         "y": {
          "bdata": "d5aWQg==",
          "dtype": "f4"
         },
         "z": {
          "bdata": "AAAAAA==",
          "dtype": "f4"
         }
        },
        {
         "marker": {
          "color": "#EF553B",
          "opacity": 1,
          "size": 4
         },
         "mode": "markers",
         "showlegend": false,
         "type": "scatter3d",
         "x": {
          "bdata": "WpA8Q7b5g0OoKn5DoY43Q0odNkP2+C5DwLotQ3wkgkMBGkdDsh0iQ6eyMEPGCVJDzCkJQy2AX0ONyD5DmD1tQ1DsTEN6v2JDHbg8QzGcREMagO1CIEJaQxMHNEN9DktDrGKFQ73GRUMtPDpDU0NqQ4jDTUMH+lNDqzk5Qw+JI0PBj0xDPoBXQ/rcIkP6SltDNntDQxiAZUNvFBFDiiYWQ439PUNXcApDP6tSQ6vkfUNNPTJD0TUzQ3uaMkPqtRNDXlBLQxMWN0NN3VND7eBzQ9EvKkO3KzlDVBA9Q3dpF0MROmlDg8RhQw7zWEM0DyND/B18Q28wRkM66mdDl5pKQ8YrUUMfZFxDvYNRQ26sRkNKqyBDQHlEQ+okKEOn7SNDsfcNQ3oSOkMFpEdDGqtnQ07cWUMktnNDlik5Q+Ota0NaITFDYHM5Q0zp90KT1V5D71U2Q4pSckMOnVFDcWI3QywUaEMXUU1DJdh3Q8q5VkNM3DlD2hFNQ2yrAUODZPNCMgtdQ/LmUUPHukJDCoYkQ7y8QENKRYFDdDRcQxan9UIeSA9DKI5RQ35IU0OgW2JDd/UQQz+KOUNUcg9DMKQ/QwbIN0Mw8R5DSxdZQ/TKP0OGbDxDKEZdQ5FETUMAEIJD5c8mQ6qoL0NEXnBD7YxTQ7oEBUPAsUdDZAU6Q12qbUOwF2tDgK8+Q2+CSkNUJHBDSjU8Q9aaIkOZhEVDcmxhQ97lSEPs+HJDGJljQ6rRVUPxR3xDHa1QQ2fsDUN3pmFDps4QQ0QSMEN5DmtDnAF8Q6T6SkNaBkBDpcPiQhF6SUNmmjJD5hdjQ/BwLUOZ+DRDM4g8Q0HkfkN6RDpDAFw4Q6ovLkNtLzpDfJBdQyGITENAi0ZDp7woQ+4qWkMoq4BDzEthQ1+COEPZ9W5DQvI7Q/sPWUNluCpDAZ3qQjnRR0NA3FBDI0EyQ0BSf0OIFDVDUg31QsqgRUO+eVBDZ5vpQsLpR0NTt2FDMR5eQ6j5RkPXy1ZDgco/Q2VRKEOimmdD/sc/Q7tEOkODTSFDOSo7Q7JlNEMZQhBDXqc7Q0qeekNorWFDey83QzIedkPcLWtDEIQqQyY4b0NAx0pD5QJBQ1Zfb0PD0CdDUwROQ47Me0PxoVBDeJgkQ6nud0M2PDdDU7A5Q8saU0O1YTVDHxU5QxG9O0PA6oNDNih+Q9hkQUORRh9D0vs5QxVAO0MavTlDDFYyQ9dmeUOKiGVDB7hZQ8WOH0PefF9DUP5BQ6axSUM/LXRDqC5pQyAULkOUjjFDnyR4Q274gUN0cWRDUewkQ8auSUMgkUNDMTphQyTjVUOAYW9DAVpBQ3I4QUPr6DxDVgNiQ6jmIEO2UzpDirKCQ3lgLEMAWmJDwcZ1Qx9GNEMZrkFDjXwiQ4bcNEOihm5DfLYzQzh+UUMBrGlDjok1Q0KJgEM+RlND2WExQ5hXOUM1pTdDn40qQ2AaLEMUkiFDOTYiQ4ZKWENCox1D5RU8Q4GfPkPxOUJDQcREQysBTUOR4UBDzpgrQz/VPUNVojlDX7tcQ8hoOUMUfTFDXTpjQ8YPSUN+lTRDnSxpQ4NdN0O3g21D4jwXQ77WQEPvIElDVT48Q+z3YUMGTVZD1VU0Q+24MkPssjhD2Q0tQ9xjQkPDJD5DuT5QQ8iaT0NuzkhDPG47Q0QaFkM=",
          "dtype": "f4"
         },
         "y": {
          "bdata": "OM3OQghFEUNHPt1CfvY4Qxuu2UII/DtD6NQYQ0BApELwJCtD2CkmQ1nhEkPt0eBCZ00IQ6DSMUO3rMxCGN2HQnSyGUM3DyNDsrXdQjp5z0Ke0xJDBAAKQ/55CUMFXcFCAaKMQsouCUNiQNFCQgWaQiVN3ELU0aBC6xDNQjqU8EJetwlDYiXzQkUz50KJnd1CT+zIQq3iuEKlcRdDR7QDQ9jNwEI8zxtD6Qf8QlmgoEI6JgtD++r4QhAC9UJIMzFDSEQUQ/Xg3UIARyJDzpqlQl4H6kLoOc9C92XJQtcmL0OGdBVDtww2QwuDukJg9vJCVNHmQudpAUPJTBlDJqy7QmwP5EJ2l59Cf5LOQsMzIkPGZgBDhl73QuZUH0MOvDdD1kADQ56O0EKfAOlCYAHXQgHp6EK9agBDnQ3OQj/W+ELduRBDtU7PQg+7F0Ms9yRDus8SQ+pAHUMsfRdDQIPRQklgAkNvYMJCJFETQ5FB4EJQLc5CcpodQ7d5E0P/FBRDSP/rQmx5HkN6NCtDt2T5Qsrww0KjfrFCCnuYQsV3FEMKZhNDl/8bQ1P7BEP69ZxCcVocQ8Mr0kKnYSVDQATZQnYZ3EKfSwRDkn28QiJ970IAVtZC1ScRQwzsNkMUEAtDg3IKQ1Ah8kJ/IO5CWI/0QjJTB0Mqlu5Ch/bmQkT5AEMOJf9CvGHhQnOD5kIGosJCjicmQ12dCUMn+PxCDKbgQqT7skJsmwxDHinrQo4mCUNkJgJDCEDXQkr5KUOaarJCme8gQ/bB3EKc+sdCbTADQ3bG7UL2z+pCoK4YQ5rJ4kILadFCcSgaQxQsFEOxD9xCBhIqQ7/QdkK8NEFDGZfXQobjO0P2tMZCf+AnQ1JJtELs975C3B4AQy92BUN8e1FCTt8eQ9y/0EKfIgdDOAYYQ1Qz9EKBZOtC1XwVQ4Ht+0L7GApDXjnwQlR8CkNVmiZDhEAYQ4QPs0IkOdVCOvcTQ7zM40I/kqRCtiv7QvQhBENqa+5CGujLQqX140Jy2bZCDjQtQ8qeykKJkQRDutTPQvqMy0LhFhBD0v3QQgYAaUK9NcpCFGrsQkJoEkNaWxZDZfzkQgGw60Kg+a5CvHbyQnxCAUNMYuVCdfm8QurfzkISxDxDmhT3QkxSk0I5W9RCVhHaQvjqIENiBARDBhjMQkuC2UKQFQtDew3hQtT1v0KWxzpDYhfDQusLw0LPZAhDa8H1QnAQbkKOGOhC0BAXQ5Dc9EJDfuBCE1+/QkasFUONtsxCqJccQzSR10JRFQlDTJLlQjRkGUPOqYpCKg/8QoijJUM64DBDhOEBQ5wIMkOWkYZCAqURQ5rjBUNpIchCdk2cQk6MBUNEI+ZCrnoXQy782EK7DhVDrvGMQkhj30IYTfFC9dP4Qpa3KENvjAZDZOoKQ1jqCUP7d+ZCEpHSQsBK5EKH9N5CuOQnQ4VNz0L+tQNDVn/lQsLW8UK14wJDqf/0QsccAENFWDtDfbAWQ0wpzkLYeL9Clv/pQuCzAEM+Tw5D40TcQtcVwkKINS9DuWimQmdMz0Id6NBC+AsaQ5aivULO09JCUgoQQ5Re0kJkr7VCuBs5Q0SI40IqDdNC64PbQrIGuUKbaxVDxZYLQ6z01kJhHdhC7DMMQ6xELUNeJzdDNk/FQgRZpEKf4Q1Dm/LTQia3+UI=",
          "dtype": "f4"
         },
         "z": {
          "bdata": "AAAAAAAAAAAAAAAAAAAAAAAAAAAAAAAAAAAAAAAAAAAAAAAAAAAAAAAAAAAAAAAAAAAAAAAAAAAAAAAAAAAAAAAAAAAAAAAAAAAAAAAAAAAAAAAAAAAAAAAAAAAAAAAAAAAAAAAAAAAAAAAAAAAAAAAAAAAAAAAAAAAAAAAAAAAAAAAAAAAAAAAAAAAAAAAAAAAAAAAAAAAAAAAAAAAAAAAAAAAAAAAAAAAAAAAAAAAAAAAAAAAAAAAAAAAAAAAAAAAAAAAAAAAAAAAAAAAAAAAAAAAAAAAAAAAAAAAAAAAAAAAAAAAAAAAAAAAAAAAAAAAAAAAAAAAAAAAAAAAAAAAAAAAAAAAAAAAAAAAAAAAAAAAAAAAAAAAAAAAAAAAAAAAAAAAAAAAAAAAAAAAAAAAAAAAAAAAAAAAAAAAAAAAAAAAAAAAAAAAAAAAAAAAAAAAAAAAAAAAAAAAAAAAAAAAAAAAAAAAAAAAAAAAAAAAAAAAAAAAAAAAAAAAAAAAAAAAAAAAAAAAAAAAAAAAAAAAAAAAAAAAAAAAAAAAAAAAAAAAAAAAAAAAAAAAAAAAAAAAAAAAAAAAAAAAAAAAAAAAAAAAAAAAAAAAAAAAAAAAAAAAAAAAAAAAAAAAAAAAAAAAAAAAAAAAAAAAAAAAAAAAAAAAAAAAAAAAAAAAAAAAAAAAAAAAAAAAAAAAAAAAAAAAAAAAAAAAAAAAAAAAAAAAAAAAAAAAAAAAAAAAAAAAAAAAAAAAAAAAAAAAAAAAAAAAAAAAAAAAAAAAAAAAAAAAAAAAAAAAAAAAAAAAAAAAAAAAAAAAAAAAAAAAAAAAAAAAAAAAAAAAAAAAAAAAAAAAAAAAAAAAAAAAAAAAAAAAAAAAAAAAAAAAAAAAAAAAAAAAAAAAAAAAAAAAAAAAAAAAAAAAAAAAAAAAAAAAAAAAAAAAAAAAAAAAAAAAAAAAAAAAAAAAAAAAAAAAAAAAAAAAAAAAAAAAAAAAAAAAAAAAAAAAAAAAAAAAAAAAAAAAAAAAAAAAAAAAAAAAAAAAAAAAAAAAAAAAAAAAAAAAAAAAAAAAAAAAAAAAAAAAAAAAAAAAAAAAAAAAAAAAAAAAAAAAAAAAAAAAAAAAAAAAAAAAAAAAAAAAAAAAAAAAAAAAAAAAAAAAAAAAAAAAAAAAAAAAAAAAAAAAAAAAAAAAAAAAAAAAAAAAAAAAAAAAAAAAAAAAAAAAAAAAAAAAAAAAAAAAAAAAAAAAAAAAAAAAAAAAAAAAAAAAAAAAAAAAAAAAAAAAAAAAAAAAAAAAAAAAAAAAAAAAAAAAAAAAAAAAAAAAAAAAAAAAAAAAAAAAAAAAAAAAAAAAAAAAAAAAAAAAAAAAAAAAAAAAAAAAAAAAAAAAAAAAAAAAAAAAAAAAAAAAAAAAAAAAAAAAAAAAAAAAAAAAAAAAAAAAAAAAAAAAAAAAAAAAAAAAAAAAAAAAAAAAAAAAAAAAAAAAAAAAAAAAAAAAAAAAAAAAAAAAAAAAAAAAAAAAAAAAAAAAAAAAAAAAAAAAAAAAAAAAAAAAAAAAAAAAAAAAAAAAAAAAAAAAAAAAAAAAAAAAAAAAAAAAAAAAAAAAAAAAAAAAAAAAAAAAAAAAAAAAAAAAAAAAAAAAAAAAAAAAAAAAAAAAAAAAAAAAAAAAAAAAAAAA=",
          "dtype": "f4"
         }
        },
        {
         "marker": {
          "color": "#EF553B",
          "line": {
           "color": "black",
           "width": 0.5
          },
          "size": 6,
          "symbol": "diamond"
         },
         "mode": "markers+text",
         "name": "Cluster 1",
         "text": [
          "C1"
         ],
         "textposition": "top center",
         "type": "scatter3d",
         "x": {
          "bdata": "SidGQw==",
          "dtype": "f4"
         },
         "y": {
          "bdata": "SKH5Qg==",
          "dtype": "f4"
         },
         "z": {
          "bdata": "AAAAAA==",
          "dtype": "f4"
         }
        },
        {
         "marker": {
          "color": "#00CC96",
          "opacity": 1,
          "size": 4
         },
         "mode": "markers",
         "showlegend": false,
         "type": "scatter3d",
         "x": {
          "bdata": "0MgNwQAP9r9o61bCVBCWwQgynME4CqPBSN5Kwly0lsFpNRDCVCBywvZ3IMK00sXBBAKFwWadWsKfFRnCHIz+waKRbcKoa0XBvKhuwkZnY8JKzS3C6HoTwVMKmMLiYnHCvyx+woaQY8JUdy7CFgYbwvJ4csIwFQ3BVBk0wjb5+8FAvLTAlL1wwq8LIsLATbPAUNT2wBmyG8Kis3DC4PjCwf3ngsIuOZTCPG0pwp+bUsK1HEfCr7uQwjeRHMIvbDLCyLxawWMlXsLthD/CaPVbwqRIOMKY2P/BuFCnwaK5x8EeZUvC5/hYwgozRMI2u3TCoIj6wAsxHsJQHYDAfpPhwf6mK8IMRfjB0KAAwvIMcsKT6XTCGA8HwWD7asBcEIvCqJRzwl5wHMJU4MTBRrV2woBSNcHlPg7C4JuLwRBxiMGenO3B+QgWwuHfOsLwPIvBAsjlwV5lPMJGVUDC7pVywg==",
          "dtype": "f4"
         },
         "y": {
          "bdata": "B0QOwx7HEMPdHT7DXNTJwkapC8M5aw/D1CkUwwahJcNoRELDbZElw3wN4cJZ3QTDDdrewjYBLsN6Vi/DspUowybLVcNFuCrDbEU/w54FCcMW1d7COhozw2ZMYsO4uFvDTgkuw3qfGMNAWUrDbPxLw5ywGMP83PzCY6ERw7isOMNrDSXDuo0yw9btTcPVeffCdUkIw0K6U8Pi8V7Dkqr2wghPU8NLBmLDDVkvwzBmG8OzcCLDUSZZw5SE/MI96BfDduDMwoJdVsPQhUfDnrEMwypDAsM8cCzDNTArwwQGH8PHkzfDfJ9Vw4e7IsM0URvDDHMcw706/8KgfdnCdPVMw42wO8MYLQHD1E0vw0hkOcMo0yDDx5rZwvQ+E8N4/ULDGroQw8oxAMOobiXDMkEzw0Kp1MKMigrD2RgHw12IL8N+zRTDch9Aw8zfTsMdOjzDgHAMw1qLJMMgk0bDbqoJww==",
          "dtype": "f4"
         },
         "z": {
          "bdata": "AAAAAAAAAAAAAAAAAAAAAAAAAAAAAAAAAAAAAAAAAAAAAAAAAAAAAAAAAAAAAAAAAAAAAAAAAAAAAAAAAAAAAAAAAAAAAAAAAAAAAAAAAAAAAAAAAAAAAAAAAAAAAAAAAAAAAAAAAAAAAAAAAAAAAAAAAAAAAAAAAAAAAAAAAAAAAAAAAAAAAAAAAAAAAAAAAAAAAAAAAAAAAAAAAAAAAAAAAAAAAAAAAAAAAAAAAAAAAAAAAAAAAAAAAAAAAAAAAAAAAAAAAAAAAAAAAAAAAAAAAAAAAAAAAAAAAAAAAAAAAAAAAAAAAAAAAAAAAAAAAAAAAAAAAAAAAAAAAAAAAAAAAAAAAAAAAAAAAAAAAAAAAAAAAAAAAAAAAAAAAAAAAAAAAAAAAAAAAAAAAAAAAAAAAAAAAAAAAAAAAAAAAAAAAAAAAAAAAAAAAAAAAAAAAAAAAAAAAAAAAAAAAAAAAA==",
          "dtype": "f4"
         }
        },
        {
         "marker": {
          "color": "#00CC96",
          "line": {
           "color": "black",
           "width": 0.5
          },
          "size": 6,
          "symbol": "diamond"
         },
         "mode": "markers+text",
         "name": "Cluster 2",
         "text": [
          "C2"
         ],
         "textposition": "top center",
         "type": "scatter3d",
         "x": {
          "bdata": "YQ0awg==",
          "dtype": "f4"
         },
         "y": {
          "bdata": "zQ8kww==",
          "dtype": "f4"
         },
         "z": {
          "bdata": "AAAAAA==",
          "dtype": "f4"
         }
        },
        {
         "marker": {
          "color": "#AB63FA",
          "opacity": 1,
          "size": 4
         },
         "mode": "markers",
         "showlegend": false,
         "type": "scatter3d",
         "x": {
          "bdata": "+xS2wrQMy8I2EPjCZxSOwkorr8KOtvHCRsa/wmvk2sI/PdvCe7HOwqIAqsKokhfD7tqLwlBFkMI4GqfCWASxwlZd3cJtkYLCfCQewx8f6sKb0LLCZ6uSwixwMcNvU7HCNcnvwq0K/8Ijk53CphOYwllN/MIDdLHClDKwwsn37sL7IazCvd/FwjnwvcL488PCixePwjPiBMO6eLDCPWixwg1KrMKIWb/CiC4Fww4T58IR1LfCVsjOwlGaFsO3isPC/mAnwzSFDsO089HC8e/QwqSr0MI+nMTCX+vqwjpnn8K+7dTCBFmCwsWU8MLI/wTDIwexwmA+p8JGvJXCgMMGw2wxDsOD0NnCoUu3wsVKmMIO/fTCZ+jQwmxDp8L7WLjCs6HYwsAnz8L2laDCvLGswj6Hx8J0yizDDEP3wlC6E8OrUxTDZDm3whYkLsMM08zC8oD3wp82lsJdNbHCfRnAwnP20MINorvCHCupwnhqecLe4yXDC9avwkKW58IUXxvD5XsCw+QKpcJOmZ/CDuoJwxooG8PmthHDWe7Iwqe0ucJFfAfDLvXXwqCPwML3VKPC+AzuwlbP7sKd2tXCiKSpwmGev8Lv0IjCGaLOwkgvscIqU77C2qvBwgeNz8I6BcTCMsSUwqwpFcOvb+HCYk38wlzEvcLzD6nCem3YwvLW38IPsLLCRO2Nwg6f4MK+twzDy0DHwt8r4cLY34nCLGi6wvk4CsMhGafCvV+9wmIYLMOAyqTCcW+swgWm18LQwKvCmtnjwuJHrMKFLeXC34aKwridCsOCW9TC8NPWwvdZy8Joy7HCCBlywuJ2m8L1lgrDvxu5wo2EjsLKgLLCHHoTwxDS28IWjNnCxy3LwmnNsMJqJKvCjG+nwtVJtcL69ZXCFfuuwoibvMI407zC0GfHwgrGn8I+p9fCThu9wkjaEsOyWuXCV2DQwinkucKm1qbCGwUTw+1Gv8L4Eu/CAlDVwv7SHsOivcrCD/3mwkLg28IMErXC6Kslw4xjn8IUXSvD5gXwwsCcxsKCJ7bCr62CwtCApMLwy/LCHJXSwgjD/cJEPNTCoDbJwrFdrsIlESvDTgsfwwBmGMOlx5rCAGnqwnzvf8Lr59rCfGwDw1aKu8KtF8PCteK7wvRAlcKcqi3DWFnHwgTuGsNOEsHCONicwleYDsM+Tw3D/iq2wptc0sIx18jCFIHswlkeHMMRqMjC1YSSwm8yqMIaE8zCdJYNw5SCtsIiygvDroTDwr1XEMM59q7CwzO8wneR88KBbCbD5OIOw6xEAcOUGAfDKXvFwtYIuMLMI+jCYCrFwkj3BcMSt8LCSm2Hwu2xtsILv37Cc+bfwgjM7sKKPKfCiy2Ywp39psImjq3C+EXewksLxMKbvqXC+Kq1wvtax8Jgf8rCraW3wmjzAMPuXOfCaugjw7qR1sJR1NrCNK7cwgasGsNNHqTCGJ4Gw3sqncJsucPC9WLswlxpssKWlyjDKM+8wpyRq8JsRrXCrQkpwy1Ct8JEro7CGgWcwkadJsM21rfCdDAMw6ARKsOkV5/Cx7atwra/EsNJVK3Cl+YIw4uWCcOAa+jC5qKowp0vBMMIoRPDYkGUwgNwqsJ6vyfDwtzywjlkF8NPh6/CRK/XwsIL58IdFvXCnrW6wv4/mMIwVsDCfN+NwmXUycJqT6nCS2DmwtiIhcLlJcHC0BrewrxboMLrmirDhPMdw1RHt8Ki5NfC1ZuTwrzg5MIzm7rCa7PewkFetsKxoMPCSM2gwjXnu8IMzR3D9iuswsfSoMK2qNnCVknhwp+6CcMo6+jCxl2gwuZnk8LTlLbCFVi9wn4awcIdyOrC2NTuwkpnhcIvm8LC0ZyxwgMaxMKVsJXCYosjwxHqhcIGoxPDX9X4wrEA+sKolPzCEAjFwtIhCMM=",
          "dtype": "f4"
         },
         "y": {
          "bdata": "PM3AwjPjCcNjHofCnxD+wngaCsO1pQLDPFRGw3eYOMOEvfTC6aMAw8lIF8PkWxfDvDsKw16uIMNevg7D0P3+wqqp5sJDnRPDhpoWw6LHFsPaPAbDeMgdw7CDAsMF7ArDoNK1wpzHBsNSPgnD2ugqw0J3ksI2dg3DXFsLwywkAcO0sRvDNB61wmEmGMMzJBfD1LYSw9jJ8sKtYxXD7dsKw0f8CMNY/ErD5GpCwyOEPcPb6hDDRCmpwlRn1MLXkAzDUPLlwq6Hj8IjKR/DP/0dwyJtP8Nao6zCFjfpwoomFcM3dJjCii/2wqB3RcMe/SXDAy4Kw3sQIcMGTfDCvJ6gws56SMMls6zCj/YTw/mhC8NITpnC0+wQwyTk4MIyMK7CA8Igw/hNXsOI40LDVIYtw2COjcLrnRvDGVkcw5y+JsOLqhXDo9Lxwr5o68L0Zu/CDhdIw/sqycIerevCFOEQwwz+OsOqEwDDtwYTw8wp/sIM4ubCfToKwxxJBMPQx//Cu6mbwnJFFsPui+XCbhGpwoQXHMPifMfCg2ILw+KjBMPvDxTDP61Pw8/4E8NqcgHDa2ISw1jsOMPkZtzCevMFw8f3HMNsQBrDnn4nw3i/FcNF6RbDKB/TwoqVC8PE9RrD5r4Iw1KR2sL4+C3DNZEPw/GUB8MRRwnDKE69wqt+6MI33wrD1kMqwyEwIcNqL0HD3mQKwyGeJsPs/xfD0r8zw4FsHMMM7wbDSAzPwio3CcN7oTrDyLkNw+V7DsNC3grD3+XcwvuaDsMQE/TCCkQEw7zMHcNcqRPDuz09w9Lb9sKWDs/C3IPwwvCLScPeYJLCw1oFw8oNJcMwPAfDiPebws4s8MLbq//CDM0Jw09jAcMxgyzDcIXZwrZ5JMN8kgnDcjwTw1D2RMOK87jC/tjOwnKSFcN9uQLDkJkBw6g87MIIqPTCxBncwsXbEcOn6/jCZkYdw0S58sK1177CfoXwwtaEIcOTcSfDxmUSw2+ZTMPU6gjDSL7CwhcmBsM6Wx/DJd7vwqxdQcM0EADDUUEQw6aFDMNlXg7Ds2D5wi4uMMNQswfDkmwowxiVI8PIiBnDHcwVw47D/sKnOBnDm3nCwt6aB8PSgxzDJK8Swwb3BsNkRw/DyH0Uw/xfH8NKUgvDNEr/woblOsP40QHDek5Hw8QM7cJVFMTCIl6zwl2fFsMB5wfDIn8yw4D8LsPKprPC2EQ0w3KaE8Nm0C7DrLozw8heNsO1upvCH8sJw+YTHsO4RFzD2pviwk9+FcNV5t7ClDwAw/9hC8MsY+vCeFIZw86gAMO1iRnDsVEtw7rpCcNHqwjDzanzwm9wCMOCF/3CjBMCw9EdAcNk3Q7DIZzHwrNvDsMOQQjDPSYXw9/SJMOdTQnDq+PEwlYUpMIaN8jCnhUZw+22LsPelNLClHEuw6Tu18LvhjbD6CzdwoRpC8MIABDDYzQ2wwaSHsPI36LC3Bsvw1RBCcOmBs3C2jUEw5dNCcMnowzDQxUBwyhFOsMHCw7DMvw4w0YwIcPf2wXDnKQ3w7xhzsLIygfDdvoXw8u3kcI2denCL7zOwtEqD8NMXgrDHboJw64c1sIqnybDt4sAwzFaFMNzFcnCbkYHw3EKD8PK3+3Cj706w60IGcPmyEbDWYoXw2eN3MI8f1vDMaQwwyHeDMMuqwrDLDZAwxL75cLPPQHDm+tTw80sScMy1iTDY/8Uw7QJNsPZkCDDWnYOw1PnAcO5aO7CLfkqw5B+DMNJs9rC6/80wwF578Kspw7DBY8/wxZI5cIT/xXDMhENw0yaKsP9Jb/Cpq3OwpYJB8NI1szCWIUWw2DWS8PTaorCrmkkw3RuEsNVoxXDcETqwt8snMIgTA3DpGIqw0AgAcN1LzjD/5YZw2LVGcOiolPD4pgrwzFz4sI=",
          "dtype": "f4"
         },
         "z": {
          "bdata": "AAAAAAAAAAAAAAAAAAAAAAAAAAAAAAAAAAAAAAAAAAAAAAAAAAAAAAAAAAAAAAAAAAAAAAAAAAAAAAAAAAAAAAAAAAAAAAAAAAAAAAAAAAAAAAAAAAAAAAAAAAAAAAAAAAAAAAAAAAAAAAAAAAAAAAAAAAAAAAAAAAAAAAAAAAAAAAAAAAAAAAAAAAAAAAAAAAAAAAAAAAAAAAAAAAAAAAAAAAAAAAAAAAAAAAAAAAAAAAAAAAAAAAAAAAAAAAAAAAAAAAAAAAAAAAAAAAAAAAAAAAAAAAAAAAAAAAAAAAAAAAAAAAAAAAAAAAAAAAAAAAAAAAAAAAAAAAAAAAAAAAAAAAAAAAAAAAAAAAAAAAAAAAAAAAAAAAAAAAAAAAAAAAAAAAAAAAAAAAAAAAAAAAAAAAAAAAAAAAAAAAAAAAAAAAAAAAAAAAAAAAAAAAAAAAAAAAAAAAAAAAAAAAAAAAAAAAAAAAAAAAAAAAAAAAAAAAAAAAAAAAAAAAAAAAAAAAAAAAAAAAAAAAAAAAAAAAAAAAAAAAAAAAAAAAAAAAAAAAAAAAAAAAAAAAAAAAAAAAAAAAAAAAAAAAAAAAAAAAAAAAAAAAAAAAAAAAAAAAAAAAAAAAAAAAAAAAAAAAAAAAAAAAAAAAAAAAAAAAAAAAAAAAAAAAAAAAAAAAAAAAAAAAAAAAAAAAAAAAAAAAAAAAAAAAAAAAAAAAAAAAAAAAAAAAAAAAAAAAAAAAAAAAAAAAAAAAAAAAAAAAAAAAAAAAAAAAAAAAAAAAAAAAAAAAAAAAAAAAAAAAAAAAAAAAAAAAAAAAAAAAAAAAAAAAAAAAAAAAAAAAAAAAAAAAAAAAAAAAAAAAAAAAAAAAAAAAAAAAAAAAAAAAAAAAAAAAAAAAAAAAAAAAAAAAAAAAAAAAAAAAAAAAAAAAAAAAAAAAAAAAAAAAAAAAAAAAAAAAAAAAAAAAAAAAAAAAAAAAAAAAAAAAAAAAAAAAAAAAAAAAAAAAAAAAAAAAAAAAAAAAAAAAAAAAAAAAAAAAAAAAAAAAAAAAAAAAAAAAAAAAAAAAAAAAAAAAAAAAAAAAAAAAAAAAAAAAAAAAAAAAAAAAAAAAAAAAAAAAAAAAAAAAAAAAAAAAAAAAAAAAAAAAAAAAAAAAAAAAAAAAAAAAAAAAAAAAAAAAAAAAAAAAAAAAAAAAAAAAAAAAAAAAAAAAAAAAAAAAAAAAAAAAAAAAAAAAAAAAAAAAAAAAAAAAAAAAAAAAAAAAAAAAAAAAAAAAAAAAAAAAAAAAAAAAAAAAAAAAAAAAAAAAAAAAAAAAAAAAAAAAAAAAAAAAAAAAAAAAAAAAAAAAAAAAAAAAAAAAAAAAAAAAAAAAAAAAAAAAAAAAAAAAAAAAAAAAAAAAAAAAAAAAAAAAAAAAAAAAAAAAAAAAAAAAAAAAAAAAAAAAAAAAAAAAAAAAAAAAAAAAAAAAAAAAAAAAAAAAAAAAAAAAAAAAAAAAAAAAAAAAAAAAAAAAAAAAAAAAAAAAAAAAAAAAAAAAAAAAAAAAAAAAAAAAAAAAAAAAAAAAAAAAAAAAAAAAAAAAAAAAAAAAAAAAAAAAAAAAAAAAAAAAAAAAAAAAAAAAAAAAAAAAAAAAAAAAAAAAAAAAAAAAAAAAAAAAAAAAAAAAAAAAAAAAAAAAAAAAAAAAAAAAAAAAAAAAAAAAAAAAAAAAAAAAAAAAAAAAAAAAAAAAAAAAAAAAAAAAAAAAAAAAAAAAAAAAAAAAAAAAAAAAAAAAAAAAAAAAAAAAAAAAAAAAAAAAAAAAAAAAAAAAAAAAAAAAAAAAAAAAAAAAAAAAAAAAAAAAAAAAAAAAAAAAAAAAAAAAAAAAAAAAAAAAAAAAAAAAAAAAAAAAAAAAAAAAAAAAAAAAAAAAAAAAAAAAA=",
          "dtype": "f4"
         }
        },
        {
         "marker": {
          "color": "#AB63FA",
          "line": {
           "color": "black",
           "width": 0.5
          },
          "size": 6,
          "symbol": "diamond"
         },
         "mode": "markers+text",
         "name": "Cluster 3",
         "text": [
          "C3"
         ],
         "textposition": "top center",
         "type": "scatter3d",
         "x": {
          "bdata": "DlfVwg==",
          "dtype": "f4"
         },
         "y": {
          "bdata": "wqkMww==",
          "dtype": "f4"
         },
         "z": {
          "bdata": "AAAAAA==",
          "dtype": "f4"
         }
        },
        {
         "marker": {
          "color": "#FFA15A",
          "opacity": 1,
          "size": 4
         },
         "mode": "markers",
         "showlegend": false,
         "type": "scatter3d",
         "x": {
          "bdata": "oMCOwu3lscKF50/C+CI2wq4G4sF6JirC5nJ4wsnYg8Ku6yLCsSMEwrMkSsIGQ3DC8BS9wsB4YcJuV5zCmEhsws3CWcLCQYzCOi/CwnrNi8Ig44nC2Jg8wkCUQcJ1YabCtKpQwjwzpcJaamnCuH6QwSyIdcI+hZDCZLkWwsE7d8KkwmHCRcJFwvhOvcLk68HCZiglwseYGsK510jCIOo3wiHRPMIgN5TCBQiCwvvsNcLiVb7CYvi3wiRyoMIqUIvCH7lXwhPDNcJsIZ3CtH6LwumuqMI=",
          "dtype": "f4"
         },
         "y": {
          "bdata": "1Cu3wvRec8KI/MnCBgG4wukHxML55cjCmOdQwrqGl8KijsnCjBHHwoJY2cK6a8bCyAxQwnIopMKvxojC1hpmwhiXx8KkHbfCTFuRwu6TwcIMqEnCm2iHwtEy3sKKdY7CztZ+wnIajsIY1X3Cnge/wsFO1cKQgKvCmXDQwrqLkcJsK9PCQ9aLwuAwj8L4wZLCfIzCwiqStcJfv4jCt5iBwoO7n8K0SaHCl97OwnaSmMJ8wErC+MVXwmk6lcJn67rCutWWwk6HwsJMSa/CIUunwlR/rsI=",
          "dtype": "f4"
         },
         "z": {
          "bdata": "AAAAAAAAAAAAAAAAAAAAAAAAAAAAAAAAAAAAAAAAAAAAAAAAAAAAAAAAAAAAAAAAAAAAAAAAAAAAAAAAAAAAAAAAAAAAAAAAAAAAAAAAAAAAAAAAAAAAAAAAAAAAAAAAAAAAAAAAAAAAAAAAAAAAAAAAAAAAAAAAAAAAAAAAAAAAAAAAAAAAAAAAAAAAAAAAAAAAAAAAAAAAAAAAAAAAAAAAAAAAAAAAAAAAAAAAAAAAAAAAAAAAAAAAAAAAAAAAAAAAAAAAAAAAAAAAAAAAAAAAAAA=",
          "dtype": "f4"
         }
        },
        {
         "marker": {
          "color": "#FFA15A",
          "line": {
           "color": "black",
           "width": 0.5
          },
          "size": 6,
          "symbol": "diamond"
         },
         "mode": "markers+text",
         "name": "Cluster 4",
         "text": [
          "C4"
         ],
         "textposition": "top center",
         "type": "scatter3d",
         "x": {
          "bdata": "pRd4wg==",
          "dtype": "f4"
         },
         "y": {
          "bdata": "+Smkwg==",
          "dtype": "f4"
         },
         "z": {
          "bdata": "AAAAAA==",
          "dtype": "f4"
         }
        }
       ],
       "frames": [
        {
         "data": [
          {
           "marker": {
            "color": "#636EFA",
            "opacity": 1,
            "size": 4
           },
           "mode": "markers",
           "showlegend": false,
           "type": "scatter3d",
           "x": {
            "bdata": "I8QlQ79FM0NihhVDcOtOQzFNG0PxRy1DKlgoQxIFLUPLNxlDEVE2QwPeRkOxBjdDRGvdQikwIUMumxtDnT8LQ0+VMENnDxRDOEA1Qw9jKUMtDzFDvGk/QybVHEMUAOxCZv87Q7U3eUN+jt9CH8pYQ+7HKUMe78pC6TUrQ0vTPUNsbQBDdNU0Q/wSJkOKiiRDtzBNQx5CRkNQVRFDbSgFQwMPL0PNAhtDY6wtQ24DLUOOT2JDERVeQ7zIAkOAzDJDOA4UQzkHFUME6CJD3aMOQ0KCMUMVBSZDneQVQx1Z1UKpNxpDPyUVQ6GWKEMNLzpDpHgwQ9EAWUOl8w9DmCoXQ4SzNUPxNhFDrjZEQwiKVEO1G0JDVD9kQxmT1kJNIDFDz2FiQ7aPwkK52hBDxA1AQy6P5EKHfyBDsstOQ8xvVUOfXTxD1xszQ3vIVEPUTElDIMkWQ23OU0N0sC9Dz9PhQqiNQEP5AlpDu1kxQ6RwRUNnGztDwxIqQ0kKN0Pj6y5Dop4LQxwsO0NEQldDMXMWQ379HENxrktDoDMJQzfxSkN6xSZD2xs9Qw5OI0OMSCZDuakMQyaFKkOcjStDsIobQxUuJ0PLqghDPqfmQjx7G0NtGT5DPW5TQztsHEMzHyNDvBE8Qw+vREMNbDdDj9EKQ8gv6EJq6DRDM34+Q1wCGkN+FFxDnPg4Q3X/0EIqKx5DWHdrQwZ7T0MPoVNDUBEbQ8ND/UIADGJD0yQKQzyQJ0OAKh9D/tT9QgBtBEN9MR5DDTQ8QwL7B0MYWxlDXSBGQ0LmMEOKrTBDHHj0Qit9BEPkFB1DnysBQ6WOIEP9WzZDGlj+QjTLU0NHllVD/XovQ+0EPUMvaTtDzc/HQuffJUO0BdtCRMIJQ8ALGUOpRP9C4OF9QzjKZ0MGwy5DehVEQ5zySUN5WDNDJTcfQ2NdNUNYPklDrXc0Q6yTHUOtDgtD+hU6Q1bpDEPYeQlDznoJQz3tKEO4YgdD",
            "dtype": "f4"
           },
           "y": {
            "bdata": "NF+4Qhix+kESzR5CEomOQrYCnEJxlMxCOo82QuR2kUIMOttCEskPQsQEDUJ0yLJB1t6GQpFTzEK6QttCNPOGQoYEl0K0xUpC0EGmQixHrkE3JMlCBOyUQkX/b0IfXE5CCJmPQtlDPUJVz31CUzU5Qo7WnELt/AFDTu24Qs4dk0JF2KlCHIa8Qqu61UJXhKNCKCyPQkqSS0JjAXlCt6e7Qo00nEJiPClC2cpAQrphuEKeHwZCCVxsQkbH8UIqYMVCNviOQv0O2UJmLshCWYa+Qht1l0K24R1CdCq8QlQqdEJFydNCZnoxQo5Mz0LmvhRCPvCyQhd3aUKcfthCj5WWQpQbukLoHU9CuEWDQjIolUItjoRCT2pVQobwC0MUP7NCYP75QX1DzUKSmS1CAt6nQoWS3kKlELhC+rMwQsEgf0Iob5JCc33DQkkFOUIQkYRBTxIxQqZ9f0KRZcJCYZayQhGQqUJzY5FC1i/MQppPrkJRAaxC/3+0QhAqvEKOisFCp7x/QpVAnEIAcUlCMyE2Qnwys0IdjIhCfoiGQnZgnkKpgIlCDfhWQtGemUKpEtVCCX7VQrLvjEIkuJlBpHPZQXTGjkIb/KRCXdwMQ2j5CUJ+lnpC3h94QpIhukK+DbZC/EimQoZKDkKxhcJCnTzAQu2x9EIL/oZCSKIEQsGX50JwWb5BCQFxQsUblEKAttpCypUCQjzwn0KUYvlBbuCOQuPaiEI3AXtC/v3eQoK8pEIIXNhCUvU7QpKLG0JwXdhCv0WXQmJ3i0LT+c9CiX56Quw6vEKBJ8lC/VnGQvD670LU5alCmXfeQlkZ1UK2yYdCiMcPQqP1jEL87zNC0TFrQuW/s0Kttr9Clm4AQ9pex0JXyK9CwkmPQmpYj0KXCHFCuyxBQvU3O0LP3XhClYxiQvo3iUIaKr9CHUwyQkJGuUJiyJpCu4rJQqzxtEIg90tCtVBzQi9G00LYA0RCrLD4Qgu4lkIeWwND",
            "dtype": "f4"
           },
           "z": {
            "bdata": "AAAAAAAAAAAAAAAAAAAAAAAAAAAAAAAAAAAAAAAAAAAAAAAAAAAAAAAAAAAAAAAAAAAAAAAAAAAAAAAAAAAAAAAAAAAAAAAAAAAAAAAAAAAAAAAAAAAAAAAAAAAAAAAAAAAAAAAAAAAAAAAAAAAAAAAAAAAAAAAAAAAAAAAAAAAAAAAAAAAAAAAAAAAAAAAAAAAAAAAAAAAAAAAAAAAAAAAAAAAAAAAAAAAAAAAAAAAAAAAAAAAAAAAAAAAAAAAAAAAAAAAAAAAAAAAAAAAAAAAAAAAAAAAAAAAAAAAAAAAAAAAAAAAAAAAAAAAAAAAAAAAAAAAAAAAAAAAAAAAAAAAAAAAAAAAAAAAAAAAAAAAAAAAAAAAAAAAAAAAAAAAAAAAAAAAAAAAAAAAAAAAAAAAAAAAAAAAAAAAAAAAAAAAAAAAAAAAAAAAAAAAAAAAAAAAAAAAAAAAAAAAAAAAAAAAAAAAAAAAAAAAAAAAAAAAAAAAAAAAAAAAAAAAAAAAAAAAAAAAAAAAAAAAAAAAAAAAAAAAAAAAAAAAAAAAAAAAAAAAAAAAAAAAAAAAAAAAAAAAAAAAAAAAAAAAAAAAAAAAAAAAAAAAAAAAAAAAAAAAAAAAAAAAAAAAAAAAAAAAAAAAAAAAAAAAAAAAAAAAAAAAAAAAAAAAAAAAAAAAAAAAAAAAAAAAAAAAAAAAAAAAAAAAAAAAAAAAAAAAAAAAAAAAAAAAAAAAAAAAAAAAAAAAAAAAAAAAAAAAAAAAAAAAAAAAAAAAAAAAAAAAAAAAAAAAAAAAAAAAAAAAAAAAAAAAAAAAAAAAAAAAAAAAAAAAAAAAAAAAAAAAAAAAAAAAAAAAAAAAAAAAAAAAAAAAAAAAAAAAAAAAAAAAAAAAAAAAAAAAAAAAAAAAAAAAAAAAAAAAAAAAAAAAAAAAAAAAAAAAAAAAAAAAAAAAAAAAAAAAAAAAAAAAAAAAAAAAAAAAAAAAAAAAAAAAA",
            "dtype": "f4"
           }
          },
          {
           "marker": {
            "color": "#636EFA",
            "line": {
             "color": "black",
             "width": 0.5
            },
            "size": 6,
            "symbol": "diamond"
           },
           "mode": "markers+text",
           "name": "Cluster 0",
           "text": [
            "C0"
           ],
           "textposition": "top center",
           "type": "scatter3d",
           "x": {
            "bdata": "fSApQw==",
            "dtype": "f4"
           },
           "y": {
            "bdata": "d5aWQg==",
            "dtype": "f4"
           },
           "z": {
            "bdata": "AAAAAA==",
            "dtype": "f4"
           }
          },
          {
           "marker": {
            "color": "#EF553B",
            "opacity": 1,
            "size": 4
           },
           "mode": "markers",
           "showlegend": false,
           "type": "scatter3d",
           "x": {
            "bdata": "WpA8Q7b5g0OoKn5DoY43Q0odNkP2+C5DwLotQ3wkgkMBGkdDsh0iQ6eyMEPGCVJDzCkJQy2AX0ONyD5DmD1tQ1DsTEN6v2JDHbg8QzGcREMagO1CIEJaQxMHNEN9DktDrGKFQ73GRUMtPDpDU0NqQ4jDTUMH+lNDqzk5Qw+JI0PBj0xDPoBXQ/rcIkP6SltDNntDQxiAZUNvFBFDiiYWQ439PUNXcApDP6tSQ6vkfUNNPTJD0TUzQ3uaMkPqtRNDXlBLQxMWN0NN3VND7eBzQ9EvKkO3KzlDVBA9Q3dpF0MROmlDg8RhQw7zWEM0DyND/B18Q28wRkM66mdDl5pKQ8YrUUMfZFxDvYNRQ26sRkNKqyBDQHlEQ+okKEOn7SNDsfcNQ3oSOkMFpEdDGqtnQ07cWUMktnNDlik5Q+Ota0NaITFDYHM5Q0zp90KT1V5D71U2Q4pSckMOnVFDcWI3QywUaEMXUU1DJdh3Q8q5VkNM3DlD2hFNQ2yrAUODZPNCMgtdQ/LmUUPHukJDCoYkQ7y8QENKRYFDdDRcQxan9UIeSA9DKI5RQ35IU0OgW2JDd/UQQz+KOUNUcg9DMKQ/QwbIN0Mw8R5DSxdZQ/TKP0OGbDxDKEZdQ5FETUMAEIJD5c8mQ6qoL0NEXnBD7YxTQ7oEBUPAsUdDZAU6Q12qbUOwF2tDgK8+Q2+CSkNUJHBDSjU8Q9aaIkOZhEVDcmxhQ97lSEPs+HJDGJljQ6rRVUPxR3xDHa1QQ2fsDUN3pmFDps4QQ0QSMEN5DmtDnAF8Q6T6SkNaBkBDpcPiQhF6SUNmmjJD5hdjQ/BwLUOZ+DRDM4g8Q0HkfkN6RDpDAFw4Q6ovLkNtLzpDfJBdQyGITENAi0ZDp7woQ+4qWkMoq4BDzEthQ1+COEPZ9W5DQvI7Q/sPWUNluCpDAZ3qQjnRR0NA3FBDI0EyQ0BSf0OIFDVDUg31QsqgRUO+eVBDZ5vpQsLpR0NTt2FDMR5eQ6j5RkPXy1ZDgco/Q2VRKEOimmdD/sc/Q7tEOkODTSFDOSo7Q7JlNEMZQhBDXqc7Q0qeekNorWFDey83QzIedkPcLWtDEIQqQyY4b0NAx0pD5QJBQ1Zfb0PD0CdDUwROQ47Me0PxoVBDeJgkQ6nud0M2PDdDU7A5Q8saU0O1YTVDHxU5QxG9O0PA6oNDNih+Q9hkQUORRh9D0vs5QxVAO0MavTlDDFYyQ9dmeUOKiGVDB7hZQ8WOH0PefF9DUP5BQ6axSUM/LXRDqC5pQyAULkOUjjFDnyR4Q274gUN0cWRDUewkQ8auSUMgkUNDMTphQyTjVUOAYW9DAVpBQ3I4QUPr6DxDVgNiQ6jmIEO2UzpDirKCQ3lgLEMAWmJDwcZ1Qx9GNEMZrkFDjXwiQ4bcNEOihm5DfLYzQzh+UUMBrGlDjok1Q0KJgEM+RlND2WExQ5hXOUM1pTdDn40qQ2AaLEMUkiFDOTYiQ4ZKWENCox1D5RU8Q4GfPkPxOUJDQcREQysBTUOR4UBDzpgrQz/VPUNVojlDX7tcQ8hoOUMUfTFDXTpjQ8YPSUN+lTRDnSxpQ4NdN0O3g21D4jwXQ77WQEPvIElDVT48Q+z3YUMGTVZD1VU0Q+24MkPssjhD2Q0tQ9xjQkPDJD5DuT5QQ8iaT0NuzkhDPG47Q0QaFkM=",
            "dtype": "f4"
           },
           "y": {
            "bdata": "OM3OQghFEUNHPt1CfvY4Qxuu2UII/DtD6NQYQ0BApELwJCtD2CkmQ1nhEkPt0eBCZ00IQ6DSMUO3rMxCGN2HQnSyGUM3DyNDsrXdQjp5z0Ke0xJDBAAKQ/55CUMFXcFCAaKMQsouCUNiQNFCQgWaQiVN3ELU0aBC6xDNQjqU8EJetwlDYiXzQkUz50KJnd1CT+zIQq3iuEKlcRdDR7QDQ9jNwEI8zxtD6Qf8QlmgoEI6JgtD++r4QhAC9UJIMzFDSEQUQ/Xg3UIARyJDzpqlQl4H6kLoOc9C92XJQtcmL0OGdBVDtww2QwuDukJg9vJCVNHmQudpAUPJTBlDJqy7QmwP5EJ2l59Cf5LOQsMzIkPGZgBDhl73QuZUH0MOvDdD1kADQ56O0EKfAOlCYAHXQgHp6EK9agBDnQ3OQj/W+ELduRBDtU7PQg+7F0Ms9yRDus8SQ+pAHUMsfRdDQIPRQklgAkNvYMJCJFETQ5FB4EJQLc5CcpodQ7d5E0P/FBRDSP/rQmx5HkN6NCtDt2T5Qsrww0KjfrFCCnuYQsV3FEMKZhNDl/8bQ1P7BEP69ZxCcVocQ8Mr0kKnYSVDQATZQnYZ3EKfSwRDkn28QiJ970IAVtZC1ScRQwzsNkMUEAtDg3IKQ1Ah8kJ/IO5CWI/0QjJTB0Mqlu5Ch/bmQkT5AEMOJf9CvGHhQnOD5kIGosJCjicmQ12dCUMn+PxCDKbgQqT7skJsmwxDHinrQo4mCUNkJgJDCEDXQkr5KUOaarJCme8gQ/bB3EKc+sdCbTADQ3bG7UL2z+pCoK4YQ5rJ4kILadFCcSgaQxQsFEOxD9xCBhIqQ7/QdkK8NEFDGZfXQobjO0P2tMZCf+AnQ1JJtELs975C3B4AQy92BUN8e1FCTt8eQ9y/0EKfIgdDOAYYQ1Qz9EKBZOtC1XwVQ4Ht+0L7GApDXjnwQlR8CkNVmiZDhEAYQ4QPs0IkOdVCOvcTQ7zM40I/kqRCtiv7QvQhBENqa+5CGujLQqX140Jy2bZCDjQtQ8qeykKJkQRDutTPQvqMy0LhFhBD0v3QQgYAaUK9NcpCFGrsQkJoEkNaWxZDZfzkQgGw60Kg+a5CvHbyQnxCAUNMYuVCdfm8QurfzkISxDxDmhT3QkxSk0I5W9RCVhHaQvjqIENiBARDBhjMQkuC2UKQFQtDew3hQtT1v0KWxzpDYhfDQusLw0LPZAhDa8H1QnAQbkKOGOhC0BAXQ5Dc9EJDfuBCE1+/QkasFUONtsxCqJccQzSR10JRFQlDTJLlQjRkGUPOqYpCKg/8QoijJUM64DBDhOEBQ5wIMkOWkYZCAqURQ5rjBUNpIchCdk2cQk6MBUNEI+ZCrnoXQy782EK7DhVDrvGMQkhj30IYTfFC9dP4Qpa3KENvjAZDZOoKQ1jqCUP7d+ZCEpHSQsBK5EKH9N5CuOQnQ4VNz0L+tQNDVn/lQsLW8UK14wJDqf/0QsccAENFWDtDfbAWQ0wpzkLYeL9Clv/pQuCzAEM+Tw5D40TcQtcVwkKINS9DuWimQmdMz0Id6NBC+AsaQ5aivULO09JCUgoQQ5Re0kJkr7VCuBs5Q0SI40IqDdNC64PbQrIGuUKbaxVDxZYLQ6z01kJhHdhC7DMMQ6xELUNeJzdDNk/FQgRZpEKf4Q1Dm/LTQia3+UI=",
            "dtype": "f4"
           },
           "z": {
            "bdata": "AAAAAAAAAAAAAAAAAAAAAAAAAAAAAAAAAAAAAAAAAAAAAAAAAAAAAAAAAAAAAAAAAAAAAAAAAAAAAAAAAAAAAAAAAAAAAAAAAAAAAAAAAAAAAAAAAAAAAAAAAAAAAAAAAAAAAAAAAAAAAAAAAAAAAAAAAAAAAAAAAAAAAAAAAAAAAAAAAAAAAAAAAAAAAAAAAAAAAAAAAAAAAAAAAAAAAAAAAAAAAAAAAAAAAAAAAAAAAAAAAAAAAAAAAAAAAAAAAAAAAAAAAAAAAAAAAAAAAAAAAAAAAAAAAAAAAAAAAAAAAAAAAAAAAAAAAAAAAAAAAAAAAAAAAAAAAAAAAAAAAAAAAAAAAAAAAAAAAAAAAAAAAAAAAAAAAAAAAAAAAAAAAAAAAAAAAAAAAAAAAAAAAAAAAAAAAAAAAAAAAAAAAAAAAAAAAAAAAAAAAAAAAAAAAAAAAAAAAAAAAAAAAAAAAAAAAAAAAAAAAAAAAAAAAAAAAAAAAAAAAAAAAAAAAAAAAAAAAAAAAAAAAAAAAAAAAAAAAAAAAAAAAAAAAAAAAAAAAAAAAAAAAAAAAAAAAAAAAAAAAAAAAAAAAAAAAAAAAAAAAAAAAAAAAAAAAAAAAAAAAAAAAAAAAAAAAAAAAAAAAAAAAAAAAAAAAAAAAAAAAAAAAAAAAAAAAAAAAAAAAAAAAAAAAAAAAAAAAAAAAAAAAAAAAAAAAAAAAAAAAAAAAAAAAAAAAAAAAAAAAAAAAAAAAAAAAAAAAAAAAAAAAAAAAAAAAAAAAAAAAAAAAAAAAAAAAAAAAAAAAAAAAAAAAAAAAAAAAAAAAAAAAAAAAAAAAAAAAAAAAAAAAAAAAAAAAAAAAAAAAAAAAAAAAAAAAAAAAAAAAAAAAAAAAAAAAAAAAAAAAAAAAAAAAAAAAAAAAAAAAAAAAAAAAAAAAAAAAAAAAAAAAAAAAAAAAAAAAAAAAAAAAAAAAAAAAAAAAAAAAAAAAAAAAAAAAAAAAAAAAAAAAAAAAAAAAAAAAAAAAAAAAAAAAAAAAAAAAAAAAAAAAAAAAAAAAAAAAAAAAAAAAAAAAAAAAAAAAAAAAAAAAAAAAAAAAAAAAAAAAAAAAAAAAAAAAAAAAAAAAAAAAAAAAAAAAAAAAAAAAAAAAAAAAAAAAAAAAAAAAAAAAAAAAAAAAAAAAAAAAAAAAAAAAAAAAAAAAAAAAAAAAAAAAAAAAAAAAAAAAAAAAAAAAAAAAAAAAAAAAAAAAAAAAAAAAAAAAAAAAAAAAAAAAAAAAAAAAAAAAAAAAAAAAAAAAAAAAAAAAAAAAAAAAAAAAAAAAAAAAAAAAAAAAAAAAAAAAAAAAAAAAAAAAAAAAAAAAAAAAAAAAAAAAAAAAAAAAAAAAAAAAAAAAAAAAAAAAAAAAAAAAAAAAAAAAAAAAAAAAAAAAAAAAAAAAAAAAAAAAAAAAAAAAAAAAAAAAAAAAAAAAAAAAAAAAAAAAAAAAAAAAAAAAAAAAAAAAAAAAAAAAAAAAAAAAAAAAAAAAAAAAAAAAAAAAAAAAAAAAAAAAAAAAAAAAAAAAAAAAAAAAAAAAAAAAAAAAAAAAAAAAAAAAAAAAAAAAAAAAAAAAAAAAAAAAAAAAAAAAAAAAAAAAAAAAAAAAAAAAAAAAAAAAAAAAAAAAAAAAAAAAAAAAAAAAAA=",
            "dtype": "f4"
           }
          },
          {
           "marker": {
            "color": "#EF553B",
            "line": {
             "color": "black",
             "width": 0.5
            },
            "size": 6,
            "symbol": "diamond"
           },
           "mode": "markers+text",
           "name": "Cluster 1",
           "text": [
            "C1"
           ],
           "textposition": "top center",
           "type": "scatter3d",
           "x": {
            "bdata": "SidGQw==",
            "dtype": "f4"
           },
           "y": {
            "bdata": "SKH5Qg==",
            "dtype": "f4"
           },
           "z": {
            "bdata": "AAAAAA==",
            "dtype": "f4"
           }
          },
          {
           "marker": {
            "color": "#00CC96",
            "opacity": 1,
            "size": 4
           },
           "mode": "markers",
           "showlegend": false,
           "type": "scatter3d",
           "x": {
            "bdata": "0MgNwQAP9r9o61bCVBCWwQgynME4CqPBSN5Kwly0lsFpNRDCVCBywvZ3IMK00sXBBAKFwWadWsKfFRnCHIz+waKRbcKoa0XBvKhuwkZnY8JKzS3C6HoTwVMKmMLiYnHCvyx+woaQY8JUdy7CFgYbwvJ4csIwFQ3BVBk0wjb5+8FAvLTAlL1wwq8LIsLATbPAUNT2wBmyG8Kis3DC4PjCwf3ngsIuOZTCPG0pwp+bUsK1HEfCr7uQwjeRHMIvbDLCyLxawWMlXsLthD/CaPVbwqRIOMKY2P/BuFCnwaK5x8EeZUvC5/hYwgozRMI2u3TCoIj6wAsxHsJQHYDAfpPhwf6mK8IMRfjB0KAAwvIMcsKT6XTCGA8HwWD7asBcEIvCqJRzwl5wHMJU4MTBRrV2woBSNcHlPg7C4JuLwRBxiMGenO3B+QgWwuHfOsLwPIvBAsjlwV5lPMJGVUDC7pVywg==",
            "dtype": "f4"
           },
           "y": {
            "bdata": "B0QOwx7HEMPdHT7DXNTJwkapC8M5aw/D1CkUwwahJcNoRELDbZElw3wN4cJZ3QTDDdrewjYBLsN6Vi/DspUowybLVcNFuCrDbEU/w54FCcMW1d7COhozw2ZMYsO4uFvDTgkuw3qfGMNAWUrDbPxLw5ywGMP83PzCY6ERw7isOMNrDSXDuo0yw9btTcPVeffCdUkIw0K6U8Pi8V7Dkqr2wghPU8NLBmLDDVkvwzBmG8OzcCLDUSZZw5SE/MI96BfDduDMwoJdVsPQhUfDnrEMwypDAsM8cCzDNTArwwQGH8PHkzfDfJ9Vw4e7IsM0URvDDHMcw706/8KgfdnCdPVMw42wO8MYLQHD1E0vw0hkOcMo0yDDx5rZwvQ+E8N4/ULDGroQw8oxAMOobiXDMkEzw0Kp1MKMigrD2RgHw12IL8N+zRTDch9Aw8zfTsMdOjzDgHAMw1qLJMMgk0bDbqoJww==",
            "dtype": "f4"
           },
           "z": {
            "bdata": "AAAAAAAAAAAAAAAAAAAAAAAAAAAAAAAAAAAAAAAAAAAAAAAAAAAAAAAAAAAAAAAAAAAAAAAAAAAAAAAAAAAAAAAAAAAAAAAAAAAAAAAAAAAAAAAAAAAAAAAAAAAAAAAAAAAAAAAAAAAAAAAAAAAAAAAAAAAAAAAAAAAAAAAAAAAAAAAAAAAAAAAAAAAAAAAAAAAAAAAAAAAAAAAAAAAAAAAAAAAAAAAAAAAAAAAAAAAAAAAAAAAAAAAAAAAAAAAAAAAAAAAAAAAAAAAAAAAAAAAAAAAAAAAAAAAAAAAAAAAAAAAAAAAAAAAAAAAAAAAAAAAAAAAAAAAAAAAAAAAAAAAAAAAAAAAAAAAAAAAAAAAAAAAAAAAAAAAAAAAAAAAAAAAAAAAAAAAAAAAAAAAAAAAAAAAAAAAAAAAAAAAAAAAAAAAAAAAAAAAAAAAAAAAAAAAAAAAAAAAAAAAAAAAAAA==",
            "dtype": "f4"
           }
          },
          {
           "marker": {
            "color": "#00CC96",
            "line": {
             "color": "black",
             "width": 0.5
            },
            "size": 6,
            "symbol": "diamond"
           },
           "mode": "markers+text",
           "name": "Cluster 2",
           "text": [
            "C2"
           ],
           "textposition": "top center",
           "type": "scatter3d",
           "x": {
            "bdata": "YQ0awg==",
            "dtype": "f4"
           },
           "y": {
            "bdata": "zQ8kww==",
            "dtype": "f4"
           },
           "z": {
            "bdata": "AAAAAA==",
            "dtype": "f4"
           }
          },
          {
           "marker": {
            "color": "#AB63FA",
            "opacity": 1,
            "size": 4
           },
           "mode": "markers",
           "showlegend": false,
           "type": "scatter3d",
           "x": {
            "bdata": "+xS2wrQMy8I2EPjCZxSOwkorr8KOtvHCRsa/wmvk2sI/PdvCe7HOwqIAqsKokhfD7tqLwlBFkMI4GqfCWASxwlZd3cJtkYLCfCQewx8f6sKb0LLCZ6uSwixwMcNvU7HCNcnvwq0K/8Ijk53CphOYwllN/MIDdLHClDKwwsn37sL7IazCvd/FwjnwvcL488PCixePwjPiBMO6eLDCPWixwg1KrMKIWb/CiC4Fww4T58IR1LfCVsjOwlGaFsO3isPC/mAnwzSFDsO089HC8e/QwqSr0MI+nMTCX+vqwjpnn8K+7dTCBFmCwsWU8MLI/wTDIwexwmA+p8JGvJXCgMMGw2wxDsOD0NnCoUu3wsVKmMIO/fTCZ+jQwmxDp8L7WLjCs6HYwsAnz8L2laDCvLGswj6Hx8J0yizDDEP3wlC6E8OrUxTDZDm3whYkLsMM08zC8oD3wp82lsJdNbHCfRnAwnP20MINorvCHCupwnhqecLe4yXDC9avwkKW58IUXxvD5XsCw+QKpcJOmZ/CDuoJwxooG8PmthHDWe7Iwqe0ucJFfAfDLvXXwqCPwML3VKPC+AzuwlbP7sKd2tXCiKSpwmGev8Lv0IjCGaLOwkgvscIqU77C2qvBwgeNz8I6BcTCMsSUwqwpFcOvb+HCYk38wlzEvcLzD6nCem3YwvLW38IPsLLCRO2Nwg6f4MK+twzDy0DHwt8r4cLY34nCLGi6wvk4CsMhGafCvV+9wmIYLMOAyqTCcW+swgWm18LQwKvCmtnjwuJHrMKFLeXC34aKwridCsOCW9TC8NPWwvdZy8Joy7HCCBlywuJ2m8L1lgrDvxu5wo2EjsLKgLLCHHoTwxDS28IWjNnCxy3LwmnNsMJqJKvCjG+nwtVJtcL69ZXCFfuuwoibvMI407zC0GfHwgrGn8I+p9fCThu9wkjaEsOyWuXCV2DQwinkucKm1qbCGwUTw+1Gv8L4Eu/CAlDVwv7SHsOivcrCD/3mwkLg28IMErXC6Kslw4xjn8IUXSvD5gXwwsCcxsKCJ7bCr62CwtCApMLwy/LCHJXSwgjD/cJEPNTCoDbJwrFdrsIlESvDTgsfwwBmGMOlx5rCAGnqwnzvf8Lr59rCfGwDw1aKu8KtF8PCteK7wvRAlcKcqi3DWFnHwgTuGsNOEsHCONicwleYDsM+Tw3D/iq2wptc0sIx18jCFIHswlkeHMMRqMjC1YSSwm8yqMIaE8zCdJYNw5SCtsIiygvDroTDwr1XEMM59q7CwzO8wneR88KBbCbD5OIOw6xEAcOUGAfDKXvFwtYIuMLMI+jCYCrFwkj3BcMSt8LCSm2Hwu2xtsILv37Cc+bfwgjM7sKKPKfCiy2Ywp39psImjq3C+EXewksLxMKbvqXC+Kq1wvtax8Jgf8rCraW3wmjzAMPuXOfCaugjw7qR1sJR1NrCNK7cwgasGsNNHqTCGJ4Gw3sqncJsucPC9WLswlxpssKWlyjDKM+8wpyRq8JsRrXCrQkpwy1Ct8JEro7CGgWcwkadJsM21rfCdDAMw6ARKsOkV5/Cx7atwra/EsNJVK3Cl+YIw4uWCcOAa+jC5qKowp0vBMMIoRPDYkGUwgNwqsJ6vyfDwtzywjlkF8NPh6/CRK/XwsIL58IdFvXCnrW6wv4/mMIwVsDCfN+NwmXUycJqT6nCS2DmwtiIhcLlJcHC0BrewrxboMLrmirDhPMdw1RHt8Ki5NfC1ZuTwrzg5MIzm7rCa7PewkFetsKxoMPCSM2gwjXnu8IMzR3D9iuswsfSoMK2qNnCVknhwp+6CcMo6+jCxl2gwuZnk8LTlLbCFVi9wn4awcIdyOrC2NTuwkpnhcIvm8LC0ZyxwgMaxMKVsJXCYosjwxHqhcIGoxPDX9X4wrEA+sKolPzCEAjFwtIhCMM=",
            "dtype": "f4"
           },
           "y": {
            "bdata": "PM3AwjPjCcNjHofCnxD+wngaCsO1pQLDPFRGw3eYOMOEvfTC6aMAw8lIF8PkWxfDvDsKw16uIMNevg7D0P3+wqqp5sJDnRPDhpoWw6LHFsPaPAbDeMgdw7CDAsMF7ArDoNK1wpzHBsNSPgnD2ugqw0J3ksI2dg3DXFsLwywkAcO0sRvDNB61wmEmGMMzJBfD1LYSw9jJ8sKtYxXD7dsKw0f8CMNY/ErD5GpCwyOEPcPb6hDDRCmpwlRn1MLXkAzDUPLlwq6Hj8IjKR/DP/0dwyJtP8Nao6zCFjfpwoomFcM3dJjCii/2wqB3RcMe/SXDAy4Kw3sQIcMGTfDCvJ6gws56SMMls6zCj/YTw/mhC8NITpnC0+wQwyTk4MIyMK7CA8Igw/hNXsOI40LDVIYtw2COjcLrnRvDGVkcw5y+JsOLqhXDo9Lxwr5o68L0Zu/CDhdIw/sqycIerevCFOEQwwz+OsOqEwDDtwYTw8wp/sIM4ubCfToKwxxJBMPQx//Cu6mbwnJFFsPui+XCbhGpwoQXHMPifMfCg2ILw+KjBMPvDxTDP61Pw8/4E8NqcgHDa2ISw1jsOMPkZtzCevMFw8f3HMNsQBrDnn4nw3i/FcNF6RbDKB/TwoqVC8PE9RrD5r4Iw1KR2sL4+C3DNZEPw/GUB8MRRwnDKE69wqt+6MI33wrD1kMqwyEwIcNqL0HD3mQKwyGeJsPs/xfD0r8zw4FsHMMM7wbDSAzPwio3CcN7oTrDyLkNw+V7DsNC3grD3+XcwvuaDsMQE/TCCkQEw7zMHcNcqRPDuz09w9Lb9sKWDs/C3IPwwvCLScPeYJLCw1oFw8oNJcMwPAfDiPebws4s8MLbq//CDM0Jw09jAcMxgyzDcIXZwrZ5JMN8kgnDcjwTw1D2RMOK87jC/tjOwnKSFcN9uQLDkJkBw6g87MIIqPTCxBncwsXbEcOn6/jCZkYdw0S58sK1177CfoXwwtaEIcOTcSfDxmUSw2+ZTMPU6gjDSL7CwhcmBsM6Wx/DJd7vwqxdQcM0EADDUUEQw6aFDMNlXg7Ds2D5wi4uMMNQswfDkmwowxiVI8PIiBnDHcwVw47D/sKnOBnDm3nCwt6aB8PSgxzDJK8Swwb3BsNkRw/DyH0Uw/xfH8NKUgvDNEr/woblOsP40QHDek5Hw8QM7cJVFMTCIl6zwl2fFsMB5wfDIn8yw4D8LsPKprPC2EQ0w3KaE8Nm0C7DrLozw8heNsO1upvCH8sJw+YTHsO4RFzD2pviwk9+FcNV5t7ClDwAw/9hC8MsY+vCeFIZw86gAMO1iRnDsVEtw7rpCcNHqwjDzanzwm9wCMOCF/3CjBMCw9EdAcNk3Q7DIZzHwrNvDsMOQQjDPSYXw9/SJMOdTQnDq+PEwlYUpMIaN8jCnhUZw+22LsPelNLClHEuw6Tu18LvhjbD6CzdwoRpC8MIABDDYzQ2wwaSHsPI36LC3Bsvw1RBCcOmBs3C2jUEw5dNCcMnowzDQxUBwyhFOsMHCw7DMvw4w0YwIcPf2wXDnKQ3w7xhzsLIygfDdvoXw8u3kcI2denCL7zOwtEqD8NMXgrDHboJw64c1sIqnybDt4sAwzFaFMNzFcnCbkYHw3EKD8PK3+3Cj706w60IGcPmyEbDWYoXw2eN3MI8f1vDMaQwwyHeDMMuqwrDLDZAwxL75cLPPQHDm+tTw80sScMy1iTDY/8Uw7QJNsPZkCDDWnYOw1PnAcO5aO7CLfkqw5B+DMNJs9rC6/80wwF578Kspw7DBY8/wxZI5cIT/xXDMhENw0yaKsP9Jb/Cpq3OwpYJB8NI1szCWIUWw2DWS8PTaorCrmkkw3RuEsNVoxXDcETqwt8snMIgTA3DpGIqw0AgAcN1LzjD/5YZw2LVGcOiolPD4pgrwzFz4sI=",
            "dtype": "f4"
           },
           "z": {
            "bdata": "AAAAAAAAAAAAAAAAAAAAAAAAAAAAAAAAAAAAAAAAAAAAAAAAAAAAAAAAAAAAAAAAAAAAAAAAAAAAAAAAAAAAAAAAAAAAAAAAAAAAAAAAAAAAAAAAAAAAAAAAAAAAAAAAAAAAAAAAAAAAAAAAAAAAAAAAAAAAAAAAAAAAAAAAAAAAAAAAAAAAAAAAAAAAAAAAAAAAAAAAAAAAAAAAAAAAAAAAAAAAAAAAAAAAAAAAAAAAAAAAAAAAAAAAAAAAAAAAAAAAAAAAAAAAAAAAAAAAAAAAAAAAAAAAAAAAAAAAAAAAAAAAAAAAAAAAAAAAAAAAAAAAAAAAAAAAAAAAAAAAAAAAAAAAAAAAAAAAAAAAAAAAAAAAAAAAAAAAAAAAAAAAAAAAAAAAAAAAAAAAAAAAAAAAAAAAAAAAAAAAAAAAAAAAAAAAAAAAAAAAAAAAAAAAAAAAAAAAAAAAAAAAAAAAAAAAAAAAAAAAAAAAAAAAAAAAAAAAAAAAAAAAAAAAAAAAAAAAAAAAAAAAAAAAAAAAAAAAAAAAAAAAAAAAAAAAAAAAAAAAAAAAAAAAAAAAAAAAAAAAAAAAAAAAAAAAAAAAAAAAAAAAAAAAAAAAAAAAAAAAAAAAAAAAAAAAAAAAAAAAAAAAAAAAAAAAAAAAAAAAAAAAAAAAAAAAAAAAAAAAAAAAAAAAAAAAAAAAAAAAAAAAAAAAAAAAAAAAAAAAAAAAAAAAAAAAAAAAAAAAAAAAAAAAAAAAAAAAAAAAAAAAAAAAAAAAAAAAAAAAAAAAAAAAAAAAAAAAAAAAAAAAAAAAAAAAAAAAAAAAAAAAAAAAAAAAAAAAAAAAAAAAAAAAAAAAAAAAAAAAAAAAAAAAAAAAAAAAAAAAAAAAAAAAAAAAAAAAAAAAAAAAAAAAAAAAAAAAAAAAAAAAAAAAAAAAAAAAAAAAAAAAAAAAAAAAAAAAAAAAAAAAAAAAAAAAAAAAAAAAAAAAAAAAAAAAAAAAAAAAAAAAAAAAAAAAAAAAAAAAAAAAAAAAAAAAAAAAAAAAAAAAAAAAAAAAAAAAAAAAAAAAAAAAAAAAAAAAAAAAAAAAAAAAAAAAAAAAAAAAAAAAAAAAAAAAAAAAAAAAAAAAAAAAAAAAAAAAAAAAAAAAAAAAAAAAAAAAAAAAAAAAAAAAAAAAAAAAAAAAAAAAAAAAAAAAAAAAAAAAAAAAAAAAAAAAAAAAAAAAAAAAAAAAAAAAAAAAAAAAAAAAAAAAAAAAAAAAAAAAAAAAAAAAAAAAAAAAAAAAAAAAAAAAAAAAAAAAAAAAAAAAAAAAAAAAAAAAAAAAAAAAAAAAAAAAAAAAAAAAAAAAAAAAAAAAAAAAAAAAAAAAAAAAAAAAAAAAAAAAAAAAAAAAAAAAAAAAAAAAAAAAAAAAAAAAAAAAAAAAAAAAAAAAAAAAAAAAAAAAAAAAAAAAAAAAAAAAAAAAAAAAAAAAAAAAAAAAAAAAAAAAAAAAAAAAAAAAAAAAAAAAAAAAAAAAAAAAAAAAAAAAAAAAAAAAAAAAAAAAAAAAAAAAAAAAAAAAAAAAAAAAAAAAAAAAAAAAAAAAAAAAAAAAAAAAAAAAAAAAAAAAAAAAAAAAAAAAAAAAAAAAAAAAAAAAAAAAAAAAAAAAAAAAAAAAAAAAAAAAAAAAAAAAAAAAAAAAAAAAAAAAAAAAAAAAAAAAAAAAAAAAAAAAAAAAAAAAAAAAAAAAAAAAAAAAAAAAAAAAAAAAAAAAAAAAAAAAAAAAAAAAAAAAAAAAAAAAAAAAAAAAAAAAAAAAAAAAAAAAAAAAAAAAAAAAAAAAAAAAAAAAAAAAAAAAAAAAAAAAAAAAAAAAAAAAAAAAAAAAAAAAAAAAAAAAAAAAAAAAAAAAAAAAAAAAAAAAAAAAAAAAAAAAAAAAAAA=",
            "dtype": "f4"
           }
          },
          {
           "marker": {
            "color": "#AB63FA",
            "line": {
             "color": "black",
             "width": 0.5
            },
            "size": 6,
            "symbol": "diamond"
           },
           "mode": "markers+text",
           "name": "Cluster 3",
           "text": [
            "C3"
           ],
           "textposition": "top center",
           "type": "scatter3d",
           "x": {
            "bdata": "DlfVwg==",
            "dtype": "f4"
           },
           "y": {
            "bdata": "wqkMww==",
            "dtype": "f4"
           },
           "z": {
            "bdata": "AAAAAA==",
            "dtype": "f4"
           }
          },
          {
           "marker": {
            "color": "#FFA15A",
            "opacity": 1,
            "size": 4
           },
           "mode": "markers",
           "showlegend": false,
           "type": "scatter3d",
           "x": {
            "bdata": "oMCOwu3lscKF50/C+CI2wq4G4sF6JirC5nJ4wsnYg8Ku6yLCsSMEwrMkSsIGQ3DC8BS9wsB4YcJuV5zCmEhsws3CWcLCQYzCOi/CwnrNi8Ig44nC2Jg8wkCUQcJ1YabCtKpQwjwzpcJaamnCuH6QwSyIdcI+hZDCZLkWwsE7d8KkwmHCRcJFwvhOvcLk68HCZiglwseYGsK510jCIOo3wiHRPMIgN5TCBQiCwvvsNcLiVb7CYvi3wiRyoMIqUIvCH7lXwhPDNcJsIZ3CtH6LwumuqMI=",
            "dtype": "f4"
           },
           "y": {
            "bdata": "1Cu3wvRec8KI/MnCBgG4wukHxML55cjCmOdQwrqGl8KijsnCjBHHwoJY2cK6a8bCyAxQwnIopMKvxojC1hpmwhiXx8KkHbfCTFuRwu6TwcIMqEnCm2iHwtEy3sKKdY7CztZ+wnIajsIY1X3Cnge/wsFO1cKQgKvCmXDQwrqLkcJsK9PCQ9aLwuAwj8L4wZLCfIzCwiqStcJfv4jCt5iBwoO7n8K0SaHCl97OwnaSmMJ8wErC+MVXwmk6lcJn67rCutWWwk6HwsJMSa/CIUunwlR/rsI=",
            "dtype": "f4"
           },
           "z": {
            "bdata": "AAAAAAAAAAAAAAAAAAAAAAAAAAAAAAAAAAAAAAAAAAAAAAAAAAAAAAAAAAAAAAAAAAAAAAAAAAAAAAAAAAAAAAAAAAAAAAAAAAAAAAAAAAAAAAAAAAAAAAAAAAAAAAAAAAAAAAAAAAAAAAAAAAAAAAAAAAAAAAAAAAAAAAAAAAAAAAAAAAAAAAAAAAAAAAAAAAAAAAAAAAAAAAAAAAAAAAAAAAAAAAAAAAAAAAAAAAAAAAAAAAAAAAAAAAAAAAAAAAAAAAAAAAAAAAAAAAAAAAAAAAA=",
            "dtype": "f4"
           }
          },
          {
           "marker": {
            "color": "#FFA15A",
            "line": {
             "color": "black",
             "width": 0.5
            },
            "size": 6,
            "symbol": "diamond"
           },
           "mode": "markers+text",
           "name": "Cluster 4",
           "text": [
            "C4"
           ],
           "textposition": "top center",
           "type": "scatter3d",
           "x": {
            "bdata": "pRd4wg==",
            "dtype": "f4"
           },
           "y": {
            "bdata": "+Smkwg==",
            "dtype": "f4"
           },
           "z": {
            "bdata": "AAAAAA==",
            "dtype": "f4"
           }
          }
         ],
         "name": "frame0"
        },
        {
         "data": [
          {
           "marker": {
            "color": "#636EFA",
            "opacity": 1,
            "size": 4
           },
           "mode": "markers",
           "showlegend": false,
           "type": "scatter3d",
           "x": {
            "bdata": "I8QlQ79FM0NihhVDcOtOQzFNG0PxRy1DKlgoQxIFLUPLNxlDEVE2QwPeRkOxBjdDmD1tQ0Rr3UIpMCFDLpsbQ50/C0NPlTBDZw8UQzhANUMPYylDB/pTQy0PMUO8aT9DJtUcQxQA7EJm/ztDtTd5Q36O30IfylhD7scpQx7vykLpNStDS9M9Q2xtAEN01TRD/BImQ4qKJEO3ME1DHkJGQ1BVEUNtKAVDAw8vQ80CG0NjrC1DbgMtQ45PYkMRFV5DvMgCQ4DMMkM4DhRDOQcVQwToIkPdow5DQoIxQxUFJkOd5BVDHVnVQqk3GkM/JRVDoZYoQw0vOkOkeDBD0QBZQ3Q0XEOl8w9DmCoXQ4SzNUPxNhFDrjZEQwiKVEO1G0JDVD9kQxmT1kJNIDFDz2FiQ7aPwkLe5UhDudoQQ8QNQEMuj+RCh38gQ7LLTkPMb1VDn108Q9cbM0N7yFRD1ExJQyDJFkNtzlNDdLAvQ8/T4UKojUBD+QJaQ7tZMUOkcEVDZxs7Q8MSKkNJCjdD4+suQ6KeC0McLDtDREJXQzFzFkN+/RxDca5LQ6AzCUM38UpDesUmQyirgEPbGz1DDk4jQ4xIJkO5qQxDJoUqQ5yNK0OwihtDyqBFQxUuJ0PLqghDPHsbQ20ZPkM9blNDO2wcQzMfI0O8ETxDsmU0Qw+vRENKnnpDDWw3Q4/RCkPIL+hCaug0QzN+PkNAx0pDXAIaQ34UXEOc+DhDdf/QQiorHkNYd2tDBntPQw+hU0NQERtD0vs5QxVAO0PXZnlDw0P9QgAMYkPTJApDPJAnQ4AqH0P+1P1CAG0EQ30xHkMNNDxDdHFkQwL7B0MYWxlDgGFvQ10gRkNC5jBDiq0wQxx49EIrfQRD5BQdQ58rAUOljiBD/Vs2QxpY/kI0y1NDR5ZVQ/16L0PtBD1DL2k7Q83Px0Ln3yVDtAXbQkTCCUPACxlDqUT/QuDhfUM4ymdDBsMuQ3oVREOc8klDeVgzQyU3H0NjXTVDWD5JQ613NEOskx1DrQ4LQ/oVOkNW6QxD2HkJQ856CUM97ShDyJpPQw==",
            "dtype": "f4"
           },
           "y": {
            "bdata": "NF+4Qhix+kESzR5CEomOQrYCnEJxlMxCOo82QuR2kUIMOttCEskPQsQEDUJ0yLJBGN2HQtbehkKRU8xCukLbQjTzhkKGBJdCtMVKQtBBpkIsR65B1NGgQjckyUIE7JRCRf9vQh9cTkIImY9C2UM9QlXPfUJTNTlCjtacQu38AUNO7bhCzh2TQkXYqUIchrxCq7rVQleEo0IoLI9CSpJLQmMBeUK3p7tCjTScQmI8KULZykBCumG4Qp4fBkIJXGxCRsfxQipgxUI2+I5C/Q7ZQmYuyEJZhr5CG3WXQrbhHUJ0KrxCVCp0QkXJ00JmejFCjkzPQua+FEI+8LJCF3dpQgp7mEKcfthCj5WWQpQbukLoHU9CuEWDQjIolUItjoRCT2pVQobwC0MUP7NCYP75QX1DzUKk+7JCkpktQgLep0KFkt5CpRC4QvqzMELBIH9CKG+SQnN9w0JJBTlCEJGEQU8SMUKmfX9CkWXCQmGWskIRkKlCc2ORQtYvzEKaT65CUQGsQv9/tEIQKrxCjorBQqe8f0KVQJxCAHFJQjMhNkJ8MrNCHYyIQn6IhkJ2YJ5CqYCJQnx7UUIN+FZC0Z6ZQqkS1UIJftVCsu+MQiS4mUGkc9lBhA+zQnTGjkIb/KRCaPkJQn6WekLeH3hCkiG6Qr4NtkL8SKZC+ozLQoZKDkIGAGlCsYXCQp08wELtsfRCC/6GQkiiBEKg+a5CwZfnQnBZvkEJAXFCxRuUQoC22kLKlQJCPPCfQpRi+UFu4I5CYhfDQusLw0JwEG5C49qIQjcBe0L+/d5CgrykQghc2EJS9TtCkosbQnBd2EK/RZdCzqmKQmJ3i0LT+c9ClpGGQol+ekLsOrxCgSfJQv1ZxkLw+u9C1OWpQpl33kJZGdVCtsmHQojHD0Kj9YxC/O8zQtExa0Llv7NCrba/QpZuAEPaXsdCV8ivQsJJj0JqWI9ClwhxQrssQUL1NztCz914QpWMYkL6N4lCGiq/Qh1MMkJCRrlCYsiaQruKyUKs8bRCIPdLQrVQc0IvRtNC2ANEQqyw+EILuJZCBFmkQg==",
            "dtype": "f4"
           },
           "z": {
            "bdata": "AAAAAAAAAAAAAAAAAAAAAAAAAAAAAAAAAAAAAAAAAAAAAAAAAAAAAAAAAAAAAAAAAAAAAAAAAAAAAAAAAAAAAAAAAAAAAAAAAAAAAAAAAAAAAAAAAAAAAAAAAAAAAAAAAAAAAAAAAAAAAAAAAAAAAAAAAAAAAAAAAAAAAAAAAAAAAAAAAAAAAAAAAAAAAAAAAAAAAAAAAAAAAAAAAAAAAAAAAAAAAAAAAAAAAAAAAAAAAAAAAAAAAAAAAAAAAAAAAAAAAAAAAAAAAAAAAAAAAAAAAAAAAAAAAAAAAAAAAAAAAAAAAAAAAAAAAAAAAAAAAAAAAAAAAAAAAAAAAAAAAAAAAAAAAAAAAAAAAAAAAAAAAAAAAAAAAAAAAAAAAAAAAAAAAAAAAAAAAAAAAAAAAAAAAAAAAAAAAAAAAAAAAAAAAAAAAAAAAAAAAAAAAAAAAAAAAAAAAAAAAAAAAAAAAAAAAAAAAAAAAAAAAAAAAAAAAAAAAAAAAAAAAAAAAAAAAAAAAAAAAAAAAAAAAAAAAAAAAAAAAAAAAAAAAAAAAAAAAAAAAAAAAAAAAAAAAAAAAAAAAAAAAAAAAAAAAAAAAAAAAAAAAAAAAAAAAAAAAAAAAAAAAAAAAAAAAAAAAAAAAAAAAAAAAAAAAAAAAAAAAAAAAAAAAAAAAAAAAAAAAAAAAAAAAAAAAAAAAAAAAAAAAAAAAAAAAAAAAAAAAAAAAAAAAAAAAAAAAAAAAAAAAAAAAAAAAAAAAAAAAAAAAAAAAAAAAAAAAAAAAAAAAAAAAAAAAAAAAAAAAAAAAAAAAAAAAAAAAAAAAAAAAAAAAAAAAAAAAAAAAAAAAAAAAAAAAAAAAAAAAAAAAAAAAAAAAAAAAAAAAAAAAAAAAAAAAAAAAAAAAAAAAAAAAAAAAAAAAAAAAAAAAAAAAAAAAAAAAAAAAAAAAAAAAAAAAAAAAAAAAAAAAAAAAAAAAAAAAAAAAAAAAAAAAAAAAAAAAAAAAAAAAAAAAAAAAAAAAAAAAAAAAAAAAAAAAAAAAAAAAAAAAAAAAAAAAAAAAAAAAA==",
            "dtype": "f4"
           }
          },
          {
           "marker": {
            "color": "#636EFA",
            "line": {
             "color": "black",
             "width": 0.5
            },
            "size": 6,
            "symbol": "diamond"
           },
           "mode": "markers+text",
           "name": "Cluster 0",
           "text": [
            "C0"
           ],
           "textposition": "top center",
           "type": "scatter3d",
           "x": {
            "bdata": "GhktQw==",
            "dtype": "f4"
           },
           "y": {
            "bdata": "rKaVQg==",
            "dtype": "f4"
           },
           "z": {
            "bdata": "AAAAAA==",
            "dtype": "f4"
           }
          },
          {
           "marker": {
            "color": "#EF553B",
            "opacity": 1,
            "size": 4
           },
           "mode": "markers",
           "showlegend": false,
           "type": "scatter3d",
           "x": {
            "bdata": "WpA8Q7b5g0OoKn5DoY43Q0odNkP2+C5DwLotQ3wkgkMBGkdDsh0iQ6eyMEPGCVJDzCkJQy2AX0ONyD5DUOxMQ3q/YkMduDxDMZxEQxqA7UIgQlpDEwc0Q30OS0OsYoVDvcZFQy08OkNTQ2pDiMNNQ6s5OUMPiSNDwY9MQz6AV0P63CJD+kpbQzZ7Q0MYgGVDbxQRQ4omFkON/T1DV3AKQz+rUkOr5H1DTT0yQ9E1M0N7mjJD6rUTQ15QS0MTFjdDTd1TQ+3gc0PRLypDtys5Q1QQPUN3aRdDETppQ4PEYUMO81hDNA8jQ/wdfENvMEZDOupnQ5eaSkPGK1FDH2RcQ72DUUNurEZDSqsgQ0B5REPqJChDp+0jQ7H3DUN6EjpDBaRHQxqrZ0NO3FlDJLZzQ5YpOUPjrWtDWiExQ2BzOUNM6fdCk9VeQ+9VNkOKUnJDDp1RQ3FiN0MsFGhDF1FNQyXYd0PKuVZDTNw5Q9oRTUNsqwFDg2TzQjILXUPy5lFDx7pCQwqGJEO8vEBDSkWBQxan9UIeSA9DKI5RQ35IU0OgW2JDd/UQQz+KOUNUcg9DMKQ/QwbIN0Mw8R5DSxdZQ/TKP0OGbDxDKEZdQ5FETUMAEIJD5c8mQ6qoL0NEXnBD7YxTQ7oEBUPAsUdDZAU6Q12qbUOwF2tDgK8+Q2+CSkNUJHBDSjU8Q9aaIkOZhEVDcmxhQ+z4ckMYmWNDqtFVQ/FHfEMdrVBDZ+wNQ3emYUOmzhBDRBIwQ3kOa0OcAXxDpPpKQ1oGQEOlw+JCEXpJQ2aaMkPmF2ND8HAtQ5n4NEMziDxDQeR+Q3pEOkMAXDhDqi8uQ20vOkN8kF1DIYhMQ0CLRkOnvChD7ipaQ8xLYUNfgjhD2fVuQ0LyO0P7D1lDZbgqQwGd6kI50UdDQNxQQyNBMkNAUn9DiBQ1Q1IN9UK+eVBDPqfmQmeb6ULC6UdDU7dhQzEeXkOo+UZD18tWQ4HKP0NlUShDoppnQ/7HP0O7RDpDg00hQzkqO0MZQhBDXqc7Q2itYUN7LzdDMh52Q9wta0MQhCpDJjhvQ+UCQUNWX29Dw9AnQ1METkOOzHtD8aFQQ3iYJEOp7ndDNjw3Q1OwOUPLGlNDtWE1Qx8VOUMRvTtDwOqDQzYofkPYZEFDkUYfQxq9OUMMVjJDiohlQwe4WUPFjh9D3nxfQ1D+QUOmsUlDPy10Q6guaUMgFC5DlI4xQ58keENu+IFDUewkQ8auSUMgkUNDMTphQyTjVUMBWkFDcjhBQ+voPENWA2JDqOYgQ7ZTOkOKsoJDeWAsQwBaYkPBxnVDH0Y0QxmuQUONfCJDhtw0Q6KGbkN8tjNDOH5RQwGsaUOOiTVDQomAQz5GU0PZYTFDmFc5QzWlN0OfjSpDYBosQxSSIUM5NiJDhkpYQ0KjHUPlFTxDgZ8+Q/E5QkNBxERDKwFNQ5HhQEPOmCtDP9U9Q1WiOUNfu1xDyGg5QxR9MUNdOmNDxg9JQ36VNEOdLGlDg103Q7eDbUPiPBdDvtZAQ+8gSUNVPjxD7PdhQwZNVkPVVTRD7bgyQ+yyOEPZDS1D3GNCQ8MkPkO5PlBDbs5IQzxuO0O4YgdDRBoWQw==",
            "dtype": "f4"
           },
           "y": {
            "bdata": "OM3OQghFEUNHPt1CfvY4Qxuu2UII/DtD6NQYQ0BApELwJCtD2CkmQ1nhEkPt0eBCZ00IQ6DSMUO3rMxCdLIZQzcPI0Oytd1COnnPQp7TEkMEAApD/nkJQwVdwUIBooxCyi4JQ2JA0UJCBZpCJU3cQusQzUI6lPBCXrcJQ2Il80JFM+dCiZ3dQk/syEKt4rhCpXEXQ0e0A0PYzcBCPM8bQ+kH/EJZoKBCOiYLQ/vq+EIQAvVCSDMxQ0hEFEP14N1CAEciQ86apUJeB+pC6DnPQvdlyULXJi9DhnQVQ7cMNkMLg7pCYPbyQlTR5kLnaQFDyUwZQyasu0JsD+RCdpefQn+SzkLDMyJDxmYAQ4Ze90LmVB9DDrw3Q9ZAA0OejtBCnwDpQmAB10IB6ehCvWoAQ50NzkI/1vhC3bkQQ7VOz0IPuxdDLPckQ7rPEkPqQB1DLH0XQ0CD0UJJYAJDb2DCQiRRE0ORQeBCUC3OQnKaHUO3eRND/xQUQ0j/60JseR5DejQrQ7dk+ULK8MNCo36xQsV3FEMKZhNDl/8bQ1P7BEP69ZxCcVocQ8Mr0kKnYSVDQATZQnYZ3EKfSwRDkn28QiJ970IAVtZC1ScRQwzsNkMUEAtDg3IKQ1Ah8kJ/IO5CWI/0QjJTB0Mqlu5Ch/bmQkT5AEMOJf9CvGHhQnOD5kIGosJCjicmQ12dCUMn+PxCDKbgQmybDEMeKetCjiYJQ2QmAkMIQNdCSvkpQ5pqskKZ7yBD9sHcQpz6x0JtMANDdsbtQvbP6kKgrhhDmsniQgtp0UJxKBpDFCwUQ7EP3EIGEipDv9B2Qrw0QUMZl9dChuM7Q/a0xkJ/4CdDUkm0Quz3vkLcHgBDL3YFQ07fHkPcv9BCnyIHQzgGGENUM/RCgWTrQtV8FUOB7ftC+xgKQ1458EJUfApDVZomQ4RAGEMkOdVCXdwMQzr3E0O8zONCP5KkQrYr+0L0IQRDamvuQhroy0Kl9eNCctm2Qg40LUPKnspCiZEEQ7rUz0LhFhBD0v3QQr01ykIUauxCQmgSQ1pbFkNl/ORCAbDrQrx28kJ8QgFDTGLlQnX5vELq385CEsQ8Q5oU90JMUpNCOVvUQlYR2kL46iBDYgQEQwYYzEJLgtlCkBULQ3sN4ULU9b9Clsc6Q89kCENrwfVCjhjoQtAQF0OQ3PRCQ37gQhNfv0JGrBVDjbbMQqiXHEM0kddCURUJQ0yS5UI0ZBlDKg/8QoijJUM64DBDhOEBQ5wIMkMCpRFDmuMFQ2khyEJ2TZxCTowFQ0Qj5kKuehdDLvzYQrsOFUOu8YxCSGPfQhhN8UL10/hClrcoQ2+MBkNk6gpDWOoJQ/t35kISkdJCwErkQof03kK45CdDhU3PQv61A0NWf+VCwtbxQrXjAkOp//RCxxwAQ0VYO0N9sBZDTCnOQth4v0KW/+lC4LMAQz5PDkPjRNxC1xXCQog1L0O5aKZCZ0zPQh3o0EL4CxpDlqK9Qs7T0kJSChBDlF7SQmSvtUK4GzlDRIjjQioN00Lrg9tCsga5QptrFUPFlgtDrPTWQmEd2ELsMwxDrEQtQ14nN0M2T8VCn+ENQ5vy00IeWwNDJrf5Qg==",
            "dtype": "f4"
           },
           "z": {
            "bdata": "AAAAAAAAAAAAAAAAAAAAAAAAAAAAAAAAAAAAAAAAAAAAAAAAAAAAAAAAAAAAAAAAAAAAAAAAAAAAAAAAAAAAAAAAAAAAAAAAAAAAAAAAAAAAAAAAAAAAAAAAAAAAAAAAAAAAAAAAAAAAAAAAAAAAAAAAAAAAAAAAAAAAAAAAAAAAAAAAAAAAAAAAAAAAAAAAAAAAAAAAAAAAAAAAAAAAAAAAAAAAAAAAAAAAAAAAAAAAAAAAAAAAAAAAAAAAAAAAAAAAAAAAAAAAAAAAAAAAAAAAAAAAAAAAAAAAAAAAAAAAAAAAAAAAAAAAAAAAAAAAAAAAAAAAAAAAAAAAAAAAAAAAAAAAAAAAAAAAAAAAAAAAAAAAAAAAAAAAAAAAAAAAAAAAAAAAAAAAAAAAAAAAAAAAAAAAAAAAAAAAAAAAAAAAAAAAAAAAAAAAAAAAAAAAAAAAAAAAAAAAAAAAAAAAAAAAAAAAAAAAAAAAAAAAAAAAAAAAAAAAAAAAAAAAAAAAAAAAAAAAAAAAAAAAAAAAAAAAAAAAAAAAAAAAAAAAAAAAAAAAAAAAAAAAAAAAAAAAAAAAAAAAAAAAAAAAAAAAAAAAAAAAAAAAAAAAAAAAAAAAAAAAAAAAAAAAAAAAAAAAAAAAAAAAAAAAAAAAAAAAAAAAAAAAAAAAAAAAAAAAAAAAAAAAAAAAAAAAAAAAAAAAAAAAAAAAAAAAAAAAAAAAAAAAAAAAAAAAAAAAAAAAAAAAAAAAAAAAAAAAAAAAAAAAAAAAAAAAAAAAAAAAAAAAAAAAAAAAAAAAAAAAAAAAAAAAAAAAAAAAAAAAAAAAAAAAAAAAAAAAAAAAAAAAAAAAAAAAAAAAAAAAAAAAAAAAAAAAAAAAAAAAAAAAAAAAAAAAAAAAAAAAAAAAAAAAAAAAAAAAAAAAAAAAAAAAAAAAAAAAAAAAAAAAAAAAAAAAAAAAAAAAAAAAAAAAAAAAAAAAAAAAAAAAAAAAAAAAAAAAAAAAAAAAAAAAAAAAAAAAAAAAAAAAAAAAAAAAAAAAAAAAAAAAAAAAAAAAAAAAAAAAAAAAAAAAAAAAAAAAAAAAAAAAAAAAAAAAAAAAAAAAAAAAAAAAAAAAAAAAAAAAAAAAAAAAAAAAAAAAAAAAAAAAAAAAAAAAAAAAAAAAAAAAAAAAAAAAAAAAAAAAAAAAAAAAAAAAAAAAAAAAAAAAAAAAAAAAAAAAAAAAAAAAAAAAAAAAAAAAAAAAAAAAAAAAAAAAAAAAAAAAAAAAAAAAAAAAAAAAAAAAAAAAAAAAAAAAAAAAAAAAAAAAAAAAAAAAAAAAAAAAAAAAAAAAAAAAAAAAAAAAAAAAAAAAAAAAAAAAAAAAAAAAAAAAAAAAAAAAAAAAAAAAAAAAAAAAAAAAAAAAAAAAAAAAAAAAAAAAAAAAAAAAAAAAAAAAAAAAAAAAAAAAAAAAAAAAAAAAAAAAAAAAAAAAAAAAAAAAAAAAAAAAAAAAAAAAAAAAAAAAAAAAAAAAAAAAAAAAAAAAAAAAAAAAAAAAAAAAAAAAAAAAAAAAAAAAAAAAAAAAAAAAAAAAAAAAAAAAAAAAAAAAAAAAAAAAAAAAAAAAAA==",
            "dtype": "f4"
           }
          },
          {
           "marker": {
            "color": "#EF553B",
            "line": {
             "color": "black",
             "width": 0.5
            },
            "size": 6,
            "symbol": "diamond"
           },
           "mode": "markers+text",
           "name": "Cluster 1",
           "text": [
            "C1"
           ],
           "textposition": "top center",
           "type": "scatter3d",
           "x": {
            "bdata": "5itFQw==",
            "dtype": "f4"
           },
           "y": {
            "bdata": "ZLn+Qg==",
            "dtype": "f4"
           },
           "z": {
            "bdata": "AAAAAA==",
            "dtype": "f4"
           }
          },
          {
           "marker": {
            "color": "#00CC96",
            "opacity": 1,
            "size": 4
           },
           "mode": "markers",
           "showlegend": false,
           "type": "scatter3d",
           "x": {
            "bdata": "0MgNwQAP9r9QRZDCaOtWwm2RgsIIMpzBZ6uSwjgKo8GmE5jCSN5Kwly0lsFpNRDCVCBywrTSxcFmnVrCnxUZwhyM/sGikW3CqGtFwbyobsJGZ2PC6HoTwVMKmML2laDC4mJxwr8sfsJ4annChpBjwlR3LsIWBhvC79CIwvJ4csIwFQ3BVBk0wkTtjcLY34nCNvn7wUC8tMCAyqTClL1wwq8LIsLATbPA4nabwlDU9sCNhI7CGbIbwqKzcMLg+MLB/eeCwi45lMI8bSnCn5tSwrUcR8Kvu5DCN5Ecwi9sMsJjJV7C7YQ/wmj1W8KvrYLCpEg4wpjY/8G4UKfBfO9/wqK5x8H0QJXCONicwh5lS8Ln+FjCCjNEwja7dMLVhJLCoIj6wAsxHsJ+k+HBOfauwv6mK8IMRfjB0KAAwvIMcsKT6XTCYPtqwBoFnMJcEIvCqJRzwl5wHMJU4MTBRrV2wuU+DsJ8343C4JuLwbxboMIQcYjBnpztwfkIFsLh3zrC8DyLwUjNoMICyOXBXmU8wkZVQMJKZ4XC7pVywg==",
            "dtype": "f4"
           },
           "y": {
            "bdata": "B0QOwx7HEMNeriDD3R0+w0OdE8NGqQvDeMgdwzlrD8Pa6CrD1CkUwwahJcNoRELDbZElw1ndBMM2AS7DelYvw7KVKMMmy1XDRbgqw2xFP8OeBQnDOhozw2ZMYsOI40LDuLhbw04JLsPMKf7Cep8Yw0BZSsNs/EvDbEAaw5ywGMP83PzCY6ERw9ZDKsPs/xfDuKw4w2sNJcN7oTrDuo0yw9btTcPVeffC8ItJw3VJCMPKDSXDQrpTw+LxXsOSqvbCCE9Tw0sGYsMNWS/DMGYbw7NwIsNRJlnDlIT8wj3oF8OCXVbD0IVHw56xDMNRQRDDKkMCwzxwLMM1MCvD3poHwwQGH8P8Xx/Dek5Hw8eTN8N8n1XDh7siwzRRG8PYRDTDDHMcw706/8J09UzDuERcw42wO8MYLQHD1E0vw0hkOcMo0yDD9D4TwzL8OMN4/ULDGroQw8oxAMOobiXDMkEzw4yKCsMxpDDD2RgHw80sScNdiC/Dfs0Uw3IfQMPM307DHTo8w+v/NMOAcAzDWoskwyCTRsN0bhLDbqoJww==",
            "dtype": "f4"
           },
           "z": {
            "bdata": "AAAAAAAAAAAAAAAAAAAAAAAAAAAAAAAAAAAAAAAAAAAAAAAAAAAAAAAAAAAAAAAAAAAAAAAAAAAAAAAAAAAAAAAAAAAAAAAAAAAAAAAAAAAAAAAAAAAAAAAAAAAAAAAAAAAAAAAAAAAAAAAAAAAAAAAAAAAAAAAAAAAAAAAAAAAAAAAAAAAAAAAAAAAAAAAAAAAAAAAAAAAAAAAAAAAAAAAAAAAAAAAAAAAAAAAAAAAAAAAAAAAAAAAAAAAAAAAAAAAAAAAAAAAAAAAAAAAAAAAAAAAAAAAAAAAAAAAAAAAAAAAAAAAAAAAAAAAAAAAAAAAAAAAAAAAAAAAAAAAAAAAAAAAAAAAAAAAAAAAAAAAAAAAAAAAAAAAAAAAAAAAAAAAAAAAAAAAAAAAAAAAAAAAAAAAAAAAAAAAAAAAAAAAAAAAAAAAAAAAAAAAAAAAAAAAAAAAAAAAAAAAAAAAAAAAAAAAAAAAAAAAAAAAAAAAAAAAAAAAAAAAAAAAAAAAAAAAAAAAAAAAAAAAAAAAAAAAAAAAAAAAAAAAAAA==",
            "dtype": "f4"
           }
          },
          {
           "marker": {
            "color": "#00CC96",
            "line": {
             "color": "black",
             "width": 0.5
            },
            "size": 6,
            "symbol": "diamond"
           },
           "mode": "markers+text",
           "name": "Cluster 2",
           "text": [
            "C2"
           ],
           "textposition": "top center",
           "type": "scatter3d",
           "x": {
            "bdata": "ihQ+wg==",
            "dtype": "f4"
           },
           "y": {
            "bdata": "7mcoww==",
            "dtype": "f4"
           },
           "z": {
            "bdata": "AAAAAA==",
            "dtype": "f4"
           }
          },
          {
           "marker": {
            "color": "#AB63FA",
            "opacity": 1,
            "size": 4
           },
           "mode": "markers",
           "showlegend": false,
           "type": "scatter3d",
           "x": {
            "bdata": "tAzLwmcUjsJKK6/CjrbxwkbGv8Jr5NrCPz3bwnuxzsKiAKrCqJIXw+7ai8I4GqfCWASxwlZd3cJ8JB7DHx/qwpvQssIscDHDb1OxwjXJ78KtCv/CI5OdwgN0scKUMrDCyffuwvshrMI58L3C+PPDwosXj8Iz4gTDuniwwj1oscINSqzCiFm/woguBcMOE+fCEdS3wlGaFsO3isPC/mAnwzSFDsO089HC8e/QwqSr0MJf6+rCOmefwsWU8MLI/wTDIwexwmA+p8JGvJXCgMMGw2wxDsOhS7fCxUqYwmfo0MJsQ6fCs6HYwsAnz8K8sazCdMoswwxD98JQuhPDq1MUw2Q5t8IWJC7DDNPMwvKA98JdNbHCfRnAwnP20MINorvCHCupwt7jJcML1q/CQpbnwhRfG8PlewLD5Aqlwg7qCcMaKBvD5rYRw1nuyMKntLnCRXwHwy7118Kgj8DC91SjwvgM7sJWz+7CndrVwoikqcJhnr/CGaLOwkgvscIqU77C2qvBwgeNz8I6BcTCMsSUwqwpFcOvb+HCYk38wlzEvcLzD6nCem3YwvLW38IPsLLCDp/gwr63DMPLQMfC3yvhwixousL5OArDIRmnwr1fvcJiGCzDcW+swgWm18LQwKvCmtnjwuJHrMKFLeXC34aKwridCsOCW9TC8NPWwvdZy8L1lgrDvxu5wsqAssIcehPDENLbwhaM2cLHLcvCac2wwmokq8LVSbXC+vWVwhX7rsKIm7zC0GfHwgrGn8I+p9fCThu9wkjaEsOyWuXCV2DQwinkucKm1qbCGwUTw+1Gv8L4Eu/CAlDVwv7SHsOivcrCD/3mwkLg28IMErXC6Kslw4xjn8IUXSvD5gXwwsCcxsKCJ7bC0ICkwvDL8sIcldLCCMP9wkQ81MKgNsnCsV2uwiURK8NOCx/DAGYYw6XHmsIAaerC6+fawnxsA8NWirvCrRfDwrXiu8Kcqi3DWFnHwgTuGsNOEsHCV5gOwz5PDcObXNLCMdfIwhSB7MJZHhzDbzKowhoTzMJ0lg3DlIK2wiLKC8OuhMPCvVcQw8MzvMJ3kfPCgWwmw+TiDsOsRAHDlBgHwyl7xcLWCLjCzCPowmAqxcJI9wXDErfCwu2xtsJz5t/CCMzuwoo8p8Kd/abCJo6twvhF3sJLC8TCm76lwmB/ysKtpbfCaPMAw+5c58Jq6CPDupHWwlHU2sI0rtzCBqwaw00epMIYngbDeyqdwvVi7MJcabLClpcowyjPvMKckavCbEa1wq0JKcMtQrfCRK6OwkadJsM21rfCdDAMw6ARKsOkV5/Cx7atwra/EsNJVK3Cl+YIw4uWCcOAa+jC5qKowp0vBMMIoRPDYkGUwgNwqsJ6vyfDwtzywjlkF8NPh6/CRK/XwsIL58IdFvXCnrW6wjBWwMJl1MnCak+pwktg5sLlJcHC0BrewuuaKsOE8x3DVEe3wqLk18LVm5PCvODkwjObusJrs97CQV62wrGgw8I157vCDM0dw/YrrMLH0qDCtqjZwlZJ4cKfugnDKOvowuZnk8IVWL3CfhrBwtjU7sIvm8LC0ZyxwpWwlcJiiyPDEeqFwgajE8Nf1fjCsQD6wqiU/MIQCMXC0iEIww==",
            "dtype": "f4"
           },
           "y": {
            "bdata": "M+MJw58Q/sJ4GgrDtaUCwzxURsN3mDjDhL30wumjAMPJSBfD5FsXw7w7CsNevg7D0P3+wqqp5sKGmhbDoscWw9o8BsOwgwLDBewKw6DStcKcxwbDUj4JwzZ2DcNcWwvDLCQBw7SxG8NhJhjDMyQXw9S2EsPYyfLCrWMVw+3bCsNH/AjDWPxKw+RqQsMjhD3D2+oQw1Rn1MLXkAzDUPLlwq6Hj8IjKR/DP/0dwyJtP8MWN+nCiiYVw6B3RcMe/SXDAy4Kw3sQIcMGTfDCvJ6gws56SMOP9hPD+aELw9PsEMMk5ODCA8Igw/hNXsNUhi3D650bwxlZHMOcvibDi6oVw6PS8cK+aOvC9Gbvwg4XSMMerevCFOEQwwz+OsOqEwDDtwYTwwzi5sJ9OgrDHEkEw9DH/8K7qZvCckUWw24RqcKEFxzD4nzHwoNiC8PiowTD7w8Uwz+tT8PP+BPDanIBw2tiEsNY7DjD5GbcwnrzBcPH9xzDnn4nw3i/FcNF6RbDKB/TwoqVC8PE9RrD5r4Iw1KR2sL4+C3DNZEPw/GUB8MRRwnDKE69wqt+6MI33wrDITAhw2ovQcPeZArDIZ4mw9K/M8OBbBzDDO8Gw0gMz8IqNwnDyLkNw+V7DsNC3grD3+XcwvuaDsMQE/TCCkQEw7zMHcNcqRPDuz09w9Lb9sLeYJLCw1oFwzA8B8OI95vCzizwwtur/8IMzQnDT2MBwzGDLMO2eSTDfJIJw3I8E8NQ9kTD/tjOwnKSFcN9uQLDkJkBw6g87MIIqPTCxBncwsXbEcOn6/jCZkYdw0S58sK1177CfoXwwtaEIcOTcSfDxmUSw2+ZTMPU6gjDSL7CwhcmBsM6Wx/DJd7vwqxdQcM0EADDpoUMw2VeDsOzYPnCLi4ww1CzB8OSbCjDGJUjw8iIGcMdzBXDjsP+wqc4GcObecLC0oMcwySvEsMG9wbDZEcPw8h9FMNKUgvDNEr/woblOsP40QHDxAztwlUUxMJdnxbDAecHwyJ/MsOA/C7DcpoTw2bQLsOsujPDyF42w7W6m8IfywnD5hMew9qb4sJPfhXDVebewpQ8AMP/YQvDLGPrwnhSGcPOoADDtYkZw7FRLcO66QnDR6sIw29wCMOMEwLD0R0Bw2TdDsOzbw7DDkEIwz0mF8Pf0iTDnU0Jwxo3yMKeFRnD7bYuw96U0sKUcS7DpO7Xwu+GNsPoLN3ChGkLwwgAEMNjNDbDBpIew9wbL8NUQQnDpgbNwto1BMOXTQnDJ6MMw0MVAcMoRTrDBwsOw0YwIcPf2wXDnKQ3w7xhzsLIygfDdvoXw8u3kcI2denCL7zOwtEqD8NMXgrDHboJw64c1sIqnybDt4sAwzFaFMNzFcnCbkYHw3EKD8PK3+3Cj706w60IGcPmyEbDWYoXwzx/W8Mh3gzDLqsKwyw2QMPPPQHDm+tTwzLWJMNj/xTDtAk2w9mQIMNadg7DU+cBw7lo7sIt+SrDkH4Mw0mz2sIBee/CrKcOwwWPP8MWSOXCE/8VwzIRDcNMmirD/SW/wpYJB8NYhRbDYNZLw65pJMNVoxXDcETqwiBMDcOkYirDQCABw3UvOMP/lhnDYtUZw6KiU8PimCvDMXPiwg==",
            "dtype": "f4"
           },
           "z": {
            "bdata": "AAAAAAAAAAAAAAAAAAAAAAAAAAAAAAAAAAAAAAAAAAAAAAAAAAAAAAAAAAAAAAAAAAAAAAAAAAAAAAAAAAAAAAAAAAAAAAAAAAAAAAAAAAAAAAAAAAAAAAAAAAAAAAAAAAAAAAAAAAAAAAAAAAAAAAAAAAAAAAAAAAAAAAAAAAAAAAAAAAAAAAAAAAAAAAAAAAAAAAAAAAAAAAAAAAAAAAAAAAAAAAAAAAAAAAAAAAAAAAAAAAAAAAAAAAAAAAAAAAAAAAAAAAAAAAAAAAAAAAAAAAAAAAAAAAAAAAAAAAAAAAAAAAAAAAAAAAAAAAAAAAAAAAAAAAAAAAAAAAAAAAAAAAAAAAAAAAAAAAAAAAAAAAAAAAAAAAAAAAAAAAAAAAAAAAAAAAAAAAAAAAAAAAAAAAAAAAAAAAAAAAAAAAAAAAAAAAAAAAAAAAAAAAAAAAAAAAAAAAAAAAAAAAAAAAAAAAAAAAAAAAAAAAAAAAAAAAAAAAAAAAAAAAAAAAAAAAAAAAAAAAAAAAAAAAAAAAAAAAAAAAAAAAAAAAAAAAAAAAAAAAAAAAAAAAAAAAAAAAAAAAAAAAAAAAAAAAAAAAAAAAAAAAAAAAAAAAAAAAAAAAAAAAAAAAAAAAAAAAAAAAAAAAAAAAAAAAAAAAAAAAAAAAAAAAAAAAAAAAAAAAAAAAAAAAAAAAAAAAAAAAAAAAAAAAAAAAAAAAAAAAAAAAAAAAAAAAAAAAAAAAAAAAAAAAAAAAAAAAAAAAAAAAAAAAAAAAAAAAAAAAAAAAAAAAAAAAAAAAAAAAAAAAAAAAAAAAAAAAAAAAAAAAAAAAAAAAAAAAAAAAAAAAAAAAAAAAAAAAAAAAAAAAAAAAAAAAAAAAAAAAAAAAAAAAAAAAAAAAAAAAAAAAAAAAAAAAAAAAAAAAAAAAAAAAAAAAAAAAAAAAAAAAAAAAAAAAAAAAAAAAAAAAAAAAAAAAAAAAAAAAAAAAAAAAAAAAAAAAAAAAAAAAAAAAAAAAAAAAAAAAAAAAAAAAAAAAAAAAAAAAAAAAAAAAAAAAAAAAAAAAAAAAAAAAAAAAAAAAAAAAAAAAAAAAAAAAAAAAAAAAAAAAAAAAAAAAAAAAAAAAAAAAAAAAAAAAAAAAAAAAAAAAAAAAAAAAAAAAAAAAAAAAAAAAAAAAAAAAAAAAAAAAAAAAAAAAAAAAAAAAAAAAAAAAAAAAAAAAAAAAAAAAAAAAAAAAAAAAAAAAAAAAAAAAAAAAAAAAAAAAAAAAAAAAAAAAAAAAAAAAAAAAAAAAAAAAAAAAAAAAAAAAAAAAAAAAAAAAAAAAAAAAAAAAAAAAAAAAAAAAAAAAAAAAAAAAAAAAAAAAAAAAAAAAAAAAAAAAAAAAAAAAAAAAAAAAAAAAAAAAAAAAAAAAAAAAAAAAAAAAAAAAAAAAAAAAAAAAAAAAAAAAAAAAAAAAAAAAAAAAAAAAAAAAAAAAAAAAAAAAAAAAAAAAAAAAAAAAAAAAAAAAAAAAAAAAAAAAAAAAAAAAAAAAAAAAAAAAAAAAAAAAAAAAAAAAAAAAAAAAAAAAAAAAAAAAAAAAAAAAAAAAAAAAAAAAAAAAAAAAAAAAAAAAAAAAAAAAAAAA==",
            "dtype": "f4"
           }
          },
          {
           "marker": {
            "color": "#AB63FA",
            "line": {
             "color": "black",
             "width": 0.5
            },
            "size": 6,
            "symbol": "diamond"
           },
           "mode": "markers+text",
           "name": "Cluster 3",
           "text": [
            "C3"
           ],
           "textposition": "top center",
           "type": "scatter3d",
           "x": {
            "bdata": "Lyziwg==",
            "dtype": "f4"
           },
           "y": {
            "bdata": "IsQSww==",
            "dtype": "f4"
           },
           "z": {
            "bdata": "AAAAAA==",
            "dtype": "f4"
           }
          },
          {
           "marker": {
            "color": "#FFA15A",
            "opacity": 1,
            "size": 4
           },
           "mode": "markers",
           "showlegend": false,
           "type": "scatter3d",
           "x": {
            "bdata": "+xS2wjYQ+MJUEJbBoMCOwu3lscJZTfzChedPwr3fxcL4IjbCrgbiwXomKsLmcnjCVsjOwsnYg8Ku6yLCPpzEwr7t1MKxIwTCBFmCwvZ3IMIEAoXBsyRKwoPQ2cIO/fTCSs0twgZDcMLwFL3C+1i4wj6Hx8KfNpbCwHhhwk6Zn8JuV5zCmEhsws3CWcLCQYzCOi/CwnrNi8Ig44nC2Jg8wmjLscIIGXLCjG+nwjjTvMJAlEHCdWGmwrSqUMLIvFrBPDOlwlpqacL+KrbCuH6QwRGoyMIsiHXCUB2AwD6FkMJkuRbCwTt3wqTCYcJFwkXC+E69wkpth8ILv37Ciy2YwuTrwcIYDwfBZiglwviqtcL7WsfCx5gawmy5w8K510jCIOo3wiHRPMIgN5TCBQiCwvvsNcLiVb7CgFI1wWL4t8L+P5jC2IiFwiRyoMIqUIvCH7lXwhPDNcLGXaDC05S2wmwhncIdyOrCAxrEwrR+i8LprqjC",
            "dtype": "f4"
           },
           "y": {
            "bdata": "PM3AwmMeh8Jc1MnC1Cu3wvRec8JCd5LCiPzJwjQetcIGAbjC6QfEwvnlyMKY51DCRCmpwrqGl8KijsnCWqOswjd0mMKMEcfCii/2wnwN4cIN2t7CgljZwiWzrMJITpnCFtXewrprxsLIDFDCMjCuwmCOjcL7KsnCciikwu6L5cKvxojC1hpmwhiXx8KkHbfCTFuRwu6TwcIMqEnCm2iHwpYOz8Lcg/DCcIXZworzuMLRMt7CinWOws7WfsJ24MzCchqOwhjVfcIiXrPCnge/wsqms8LBTtXCoH3ZwpCAq8KZcNDCuouRwmwr08JD1ovC4DCPws2p88KCF/3CIZzHwvjBksLHmtnCfIzCwqvjxMJWFKTCKpK1wsjfosJfv4jCt5iBwoO7n8K0SaHCl97OwnaSmMJ8wErCQqnUwvjFV8JnjdzCEvvlwmk6lcJn67rCutWWwk6HwsKmrc7CSNbMwkxJr8LTaorC3yycwiFLp8JUf67C",
            "dtype": "f4"
           },
           "z": {
            "bdata": "AAAAAAAAAAAAAAAAAAAAAAAAAAAAAAAAAAAAAAAAAAAAAAAAAAAAAAAAAAAAAAAAAAAAAAAAAAAAAAAAAAAAAAAAAAAAAAAAAAAAAAAAAAAAAAAAAAAAAAAAAAAAAAAAAAAAAAAAAAAAAAAAAAAAAAAAAAAAAAAAAAAAAAAAAAAAAAAAAAAAAAAAAAAAAAAAAAAAAAAAAAAAAAAAAAAAAAAAAAAAAAAAAAAAAAAAAAAAAAAAAAAAAAAAAAAAAAAAAAAAAAAAAAAAAAAAAAAAAAAAAAAAAAAAAAAAAAAAAAAAAAAAAAAAAAAAAAAAAAAAAAAAAAAAAAAAAAAAAAAAAAAAAAAAAAAAAAAAAAAAAAAAAAAAAAAAAAAAAAAAAAAAAAAAAAAAAAAAAAAAAAAAAAAAAAAAAAAAAAAAAAAAAAAAAAAAAAAAAAAAAAAAAAAAAAAAAAAAAAAAAAAAAAAAAAAAAAAAAAAAAAAAAAAAAAAAAAAA",
            "dtype": "f4"
           }
          },
          {
           "marker": {
            "color": "#FFA15A",
            "line": {
             "color": "black",
             "width": 0.5
            },
            "size": 6,
            "symbol": "diamond"
           },
           "mode": "markers+text",
           "name": "Cluster 4",
           "text": [
            "C4"
           ],
           "textposition": "top center",
           "type": "scatter3d",
           "x": {
            "bdata": "TDSJwg==",
            "dtype": "f4"
           },
           "y": {
            "bdata": "4TSxwg==",
            "dtype": "f4"
           },
           "z": {
            "bdata": "AAAAAA==",
            "dtype": "f4"
           }
          }
         ],
         "name": "frame1"
        },
        {
         "data": [
          {
           "marker": {
            "color": "#636EFA",
            "opacity": 1,
            "size": 4
           },
           "mode": "markers",
           "showlegend": false,
           "type": "scatter3d",
           "x": {
            "bdata": "I8QlQ79FM0NihhVDcOtOQzFNG0PxRy1DKlgoQxIFLUPLNxlDEVE2QwPeRkOxBjdDmD1tQ0Rr3UIpMCFDLpsbQ50/C0NPlTBDZw8UQzhANUNTQ2pDD2MpQwf6U0MtDzFDvGk/QybVHEMUAOxCZv87Q7U3eUN+jt9Cjf09Qx/KWEPuxylDHu/KQuk1K0NL0z1DbG0AQ3TVNEP8EiZDiookQ7cwTUMeQkZDUFURQ20oBUMDDy9DzQIbQ2OsLUNuAy1Djk9iQxEVXkO8yAJDH2RcQ4DMMkM4DhRDOQcVQwToIkPdow5DQoIxQxUFJkOd5BVDHVnVQqk3GkM/JRVDoZYoQw0vOkOkeDBD0QBZQ3Q0XEOl8w9DmCoXQ4SzNUOgW2JD8TYRQ642REMIilRDtRtCQ1Q/ZENNIDFDz2FiQ7aPwkLe5UhDudoQQ8QNQEMuj+RCh38gQ7LLTkPMb1VDn108Q9cbM0N7yFRD1ExJQyDJFkNtzlNDdLAvQ8/T4UKojUBD+QJaQ7tZMUOkcEVDZxs7Q8MSKkNJCjdDQeR+Q+PrLkOingtDHCw7Q0RCV0NtLzpDMXMWQyGITEN+/RxDca5LQ6AzCUM38UpDesUmQyirgEPbGz1DDk4jQ4xIJkO5qQxDJoUqQ5yNK0OwihtDyqBFQxUuJ0PLqghDPHsbQ1O3YUNtGT5DPW5TQztsHEMzHyNDvBE8Q7JlNEMPr0RDSp56Qw1sN0OP0QpDyC/oQmroNEMzfj5DQMdKQ34UXEOc+DhDdf/QQiorHkNYd2tDBntPQ9hkQUMPoVNDUBEbQ9L7OUMVQDtD12Z5Q8ND/UIADGJD0yQKQzyQJ0OAKh9DUP5BQ/7U/UIAbQRDfTEeQw00PEN0cWRDAvsHQxhbGUOAYW9DXSBGQ1YDYkNC5jBDiq0wQxx49ELBxnVDK30EQ+QUHUOfKwFDpY4gQ/1bNkMaWP5CNMtTQ0eWVUP9ei9D7QQ9Qy9pO0PNz8dC598lQ7QF20JEwglDwAsZQ6lE/0Lg4X1DOMpnQwbDLkN6FURDnPJJQ/E5QkM/1T1DeVgzQ1+7XEMlNx9DFH0xQ2NdNUNYPklDrXc0Q6yTHUOtDgtD+hU6Q1bpDEPYeQlDPe0oQ8iaT0M=",
            "dtype": "f4"
           },
           "y": {
            "bdata": "NF+4Qhix+kESzR5CEomOQrYCnEJxlMxCOo82QuR2kUIMOttCEskPQsQEDUJ0yLJBGN2HQtbehkKRU8xCukLbQjTzhkKGBJdCtMVKQtBBpkJCBZpCLEeuQdTRoEI3JMlCBOyUQkX/b0IfXE5CCJmPQtlDPUJVz31C2M3AQlM1OUKO1pxC7fwBQ07tuELOHZNCRdipQhyGvEKrutVCV4SjQigsj0JKkktCYwF5Qrenu0KNNJxCYjwpQtnKQEK6YbhCnh8GQglcbEJGx/FCdpefQipgxUI2+I5C/Q7ZQmYuyEJZhr5CG3WXQrbhHUJ0KrxCVCp0QkXJ00JmejFCjkzPQua+FEI+8LJCF3dpQgp7mEKcfthCj5WWQpQbukL69ZxC6B1PQrhFg0IyKJVCLY6EQk9qVUIUP7NCYP75QX1DzUKk+7JCkpktQgLep0KFkt5CpRC4QvqzMELBIH9CKG+SQnN9w0JJBTlCEJGEQU8SMUKmfX9CkWXCQmGWskIRkKlCc2ORQtYvzEKaT65CUQGsQv9/tEIQKrxCv9B2Qo6KwUKnvH9ClUCcQgBxSUL2tMZCMyE2QlJJtEJ8MrNCHYyIQn6IhkJ2YJ5CqYCJQnx7UUIN+FZC0Z6ZQqkS1UIJftVCsu+MQiS4mUGkc9lBhA+zQnTGjkIb/KRCaPkJQj+SpEJ+lnpC3h94QpIhukK+DbZC/EimQvqMy0KGSg5CBgBpQrGFwkKdPMBC7bH0Qgv+hkJIogRCoPmuQnBZvkEJAXFCxRuUQoC22kLKlQJCPPCfQtT1v0KUYvlBbuCOQmIXw0LrC8NCcBBuQuPaiEI3AXtC/v3eQoK8pEIIXNhCE1+/QlL1O0KSixtCcF3YQr9Fl0LOqYpCYneLQtP5z0KWkYZCiX56QnZNnELsOrxCgSfJQv1ZxkKu8YxC8PrvQtTlqUKZd95CWRnVQrbJh0KIxw9Co/WMQvzvM0LRMWtC5b+zQq22v0KWbgBD2l7HQlfIr0LCSY9CaliPQpcIcUK7LEFC9Tc7Qs/deEKVjGJC+jeJQth4v0LXFcJCGiq/QrlopkIdTDJCHejQQkJGuUJiyJpCu4rJQqzxtEIg90tCtVBzQi9G00LYA0RCC7iWQgRZpEI=",
            "dtype": "f4"
           },
           "z": {
            "bdata": "AAAAAAAAAAAAAAAAAAAAAAAAAAAAAAAAAAAAAAAAAAAAAAAAAAAAAAAAAAAAAAAAAAAAAAAAAAAAAAAAAAAAAAAAAAAAAAAAAAAAAAAAAAAAAAAAAAAAAAAAAAAAAAAAAAAAAAAAAAAAAAAAAAAAAAAAAAAAAAAAAAAAAAAAAAAAAAAAAAAAAAAAAAAAAAAAAAAAAAAAAAAAAAAAAAAAAAAAAAAAAAAAAAAAAAAAAAAAAAAAAAAAAAAAAAAAAAAAAAAAAAAAAAAAAAAAAAAAAAAAAAAAAAAAAAAAAAAAAAAAAAAAAAAAAAAAAAAAAAAAAAAAAAAAAAAAAAAAAAAAAAAAAAAAAAAAAAAAAAAAAAAAAAAAAAAAAAAAAAAAAAAAAAAAAAAAAAAAAAAAAAAAAAAAAAAAAAAAAAAAAAAAAAAAAAAAAAAAAAAAAAAAAAAAAAAAAAAAAAAAAAAAAAAAAAAAAAAAAAAAAAAAAAAAAAAAAAAAAAAAAAAAAAAAAAAAAAAAAAAAAAAAAAAAAAAAAAAAAAAAAAAAAAAAAAAAAAAAAAAAAAAAAAAAAAAAAAAAAAAAAAAAAAAAAAAAAAAAAAAAAAAAAAAAAAAAAAAAAAAAAAAAAAAAAAAAAAAAAAAAAAAAAAAAAAAAAAAAAAAAAAAAAAAAAAAAAAAAAAAAAAAAAAAAAAAAAAAAAAAAAAAAAAAAAAAAAAAAAAAAAAAAAAAAAAAAAAAAAAAAAAAAAAAAAAAAAAAAAAAAAAAAAAAAAAAAAAAAAAAAAAAAAAAAAAAAAAAAAAAAAAAAAAAAAAAAAAAAAAAAAAAAAAAAAAAAAAAAAAAAAAAAAAAAAAAAAAAAAAAAAAAAAAAAAAAAAAAAAAAAAAAAAAAAAAAAAAAAAAAAAAAAAAAAAAAAAAAAAAAAAAAAAAAAAAAAAAAAAAAAAAAAAAAAAAAAAAAAAAAAAAAAAAAAAAAAAAAAAAAAAAAAAAAAAAAAAAAAAAAAAAAAAAAAAAAAAAAAAAAAAAAAAAAAAAAAAAAAAAAAAAAAAAAAAAAAAAAAAAAAAAAAAAAAAAAAAAAAAAAAAAAAAAAAAAAAAAAAAAAAAAAAAAAAAAAAAAAAAAAAAAAAAAAAAAA=",
            "dtype": "f4"
           }
          },
          {
           "marker": {
            "color": "#636EFA",
            "line": {
             "color": "black",
             "width": 0.5
            },
            "size": 6,
            "symbol": "diamond"
           },
           "mode": "markers+text",
           "name": "Cluster 0",
           "text": [
            "C0"
           ],
           "textposition": "top center",
           "type": "scatter3d",
           "x": {
            "bdata": "3nAwQw==",
            "dtype": "f4"
           },
           "y": {
            "bdata": "nLqVQg==",
            "dtype": "f4"
           },
           "z": {
            "bdata": "AAAAAA==",
            "dtype": "f4"
           }
          },
          {
           "marker": {
            "color": "#EF553B",
            "opacity": 1,
            "size": 4
           },
           "mode": "markers",
           "showlegend": false,
           "type": "scatter3d",
           "x": {
            "bdata": "WpA8Q7b5g0OoKn5DoY43Q0odNkP2+C5DwLotQ3wkgkMBGkdDsh0iQ6eyMEPGCVJDzCkJQy2AX0ONyD5DUOxMQ3q/YkMduDxDMZxEQxqA7UIgQlpDEwc0Q30OS0OsYoVDvcZFQy08OkOIw01Dqzk5Qw+JI0PBj0xDPoBXQ/rcIkP6SltDNntDQxiAZUNvFBFDiiYWQ1dwCkM/q1JDq+R9Q009MkPRNTNDe5oyQ+q1E0NeUEtDExY3Q03dU0Pt4HND0S8qQ7crOUNUED1Dd2kXQxE6aUODxGFDDvNYQzQPI0P8HXxDbzBGQzrqZ0OXmkpDxitRQ72DUUNurEZDSqsgQ0B5REPqJChDp+0jQ7H3DUN6EjpDBaRHQxqrZ0NO3FlDJLZzQ5YpOUPjrWtDWiExQ2BzOUNM6fdCk9VeQ+9VNkOKUnJDDp1RQ3FiN0MsFGhDF1FNQyXYd0PKuVZDTNw5Q9oRTUNsqwFDg2TzQjILXUPy5lFDx7pCQwqGJEO8vEBDSkWBQxan9UIeSA9DKI5RQ35IU0N39RBDP4o5Q1RyD0MwpD9DBsg3QzDxHkNLF1lD9Mo/Q4ZsPEMoRl1DkURNQwAQgkPlzyZDGZPWQqqoL0NEXnBD7YxTQ7oEBUPAsUdDZAU6Q12qbUOwF2tDgK8+Q2+CSkNUJHBDSjU8Q9aaIkOZhEVDcmxhQ+z4ckMYmWNDqtFVQ/FHfEMdrVBDZ+wNQ3emYUOmzhBDRBIwQ3kOa0OcAXxDpPpKQ1oGQEOlw+JCEXpJQ2aaMkPmF2ND8HAtQ5n4NEMziDxDekQ6QwBcOEOqLy5DfJBdQ0CLRkOnvChD7ipaQ8xLYUNfgjhD2fVuQ0LyO0P7D1lDZbgqQwGd6kI50UdDQNxQQyNBMkNAUn9DiBQ1Q1IN9UK+eVBDPqfmQmeb6ULC6UdDMR5eQ6j5RkPXy1ZDgco/Q2VRKEOimmdD/sc/Q7tEOkODTSFDOSo7QxlCEENepztDaK1hQ3svN0MyHnZD3C1rQxCEKkMmOG9D5QJBQ1Zfb0PD0CdDUwROQ47Me0NcAhpD8aFQQ3iYJEOp7ndDNjw3Q1OwOUPLGlNDtWE1Qx8VOUMRvTtDwOqDQzYofkORRh9DGr05QwxWMkOKiGVDB7hZQ8WOH0PefF9DprFJQz8tdEOoLmlDIBQuQ5SOMUOfJHhDbviBQ1HsJEPGrklDIJFDQzE6YUMk41VDAVpBQ3I4QUPr6DxDqOYgQ7ZTOkOKsoJDeWAsQwBaYkMfRjRDGa5BQ418IkOG3DRDooZuQ3y2M0M4flFDAaxpQ46JNUNCiYBDPkZTQ9lhMUOYVzlDNaU3Q5+NKkNgGixDFJIhQzk2IkOGSlhDQqMdQ+UVPEOBnz5DQcREQysBTUOR4UBDzpgrQ1WiOUPIaDlDXTpjQ8YPSUN+lTRDnSxpQ4NdN0O3g21D4jwXQ77WQEPvIElDVT48Q+z3YUMGTVZD1VU0Q+24MkPOeglD7LI4Q9kNLUPcY0JDwyQ+Q7k+UENuzkhDPG47Q7hiB0NEGhZD",
            "dtype": "f4"
           },
           "y": {
            "bdata": "OM3OQghFEUNHPt1CfvY4Qxuu2UII/DtD6NQYQ0BApELwJCtD2CkmQ1nhEkPt0eBCZ00IQ6DSMUO3rMxCdLIZQzcPI0Oytd1COnnPQp7TEkMEAApD/nkJQwVdwUIBooxCyi4JQ2JA0UIlTdxC6xDNQjqU8EJetwlDYiXzQkUz50KJnd1CT+zIQq3iuEKlcRdDR7QDQzzPG0PpB/xCWaCgQjomC0P76vhCEAL1QkgzMUNIRBRD9eDdQgBHIkPOmqVCXgfqQug5z0L3ZclC1yYvQ4Z0FUO3DDZDC4O6QmD28kJU0eZC52kBQ8lMGUMmrLtCbA/kQn+SzkLDMyJDxmYAQ4Ze90LmVB9DDrw3Q9ZAA0OejtBCnwDpQmAB10IB6ehCvWoAQ50NzkI/1vhC3bkQQ7VOz0IPuxdDLPckQ7rPEkPqQB1DLH0XQ0CD0UJJYAJDb2DCQiRRE0ORQeBCUC3OQnKaHUO3eRND/xQUQ0j/60JseR5DejQrQ7dk+ULK8MNCo36xQsV3FEMKZhNDl/8bQ1P7BENxWhxDwyvSQqdhJUNABNlCdhncQp9LBEOSfbxCIn3vQgBW1kLVJxFDDOw2QxQQC0ODcgpDhvALQ1Ah8kJ/IO5CWI/0QjJTB0Mqlu5Ch/bmQkT5AEMOJf9CvGHhQnOD5kIGosJCjicmQ12dCUMn+PxCDKbgQmybDEMeKetCjiYJQ2QmAkMIQNdCSvkpQ5pqskKZ7yBD9sHcQpz6x0JtMANDdsbtQvbP6kKgrhhDmsniQgtp0UJxKBpDFCwUQ7EP3EIGEipDvDRBQxmX10KG4ztDf+AnQ+z3vkLcHgBDL3YFQ07fHkPcv9BCnyIHQzgGGENUM/RCgWTrQtV8FUOB7ftC+xgKQ1458EJUfApDVZomQ4RAGEMkOdVCXdwMQzr3E0O8zONCtiv7QvQhBENqa+5CGujLQqX140Jy2bZCDjQtQ8qeykKJkQRDutTPQuEWEEPS/dBCvTXKQhRq7EJCaBJDWlsWQ2X85EIBsOtCvHbyQnxCAUNMYuVCdfm8QurfzkLBl+dCEsQ8Q5oU90JMUpNCOVvUQlYR2kL46iBDYgQEQwYYzEJLgtlCkBULQ3sN4UKWxzpDz2QIQ2vB9UKOGOhC0BAXQ5Dc9EJDfuBCRqwVQ422zEKolxxDNJHXQlEVCUNMkuVCNGQZQyoP/EKIoyVDOuAwQ4ThAUOcCDJDAqURQ5rjBUNpIchCTowFQ0Qj5kKuehdDLvzYQrsOFUNIY99CGE3xQvXT+EKWtyhDb4wGQ2TqCkNY6glD+3fmQhKR0kLASuRCh/TeQrjkJ0OFTc9C/rUDQ1Z/5ULC1vFCteMCQ6n/9ELHHABDRVg7Q32wFkNMKc5Clv/pQuCzAEM+Tw5D40TcQog1L0NnTM9C+AsaQ5aivULO09JCUgoQQ5Re0kJkr7VCuBs5Q0SI40IqDdNC64PbQrIGuUKbaxVDxZYLQ6z01kKssPhCYR3YQuwzDEOsRC1DXic3QzZPxUKf4Q1Dm/LTQh5bA0Mmt/lC",
            "dtype": "f4"
           },
           "z": {
            "bdata": "AAAAAAAAAAAAAAAAAAAAAAAAAAAAAAAAAAAAAAAAAAAAAAAAAAAAAAAAAAAAAAAAAAAAAAAAAAAAAAAAAAAAAAAAAAAAAAAAAAAAAAAAAAAAAAAAAAAAAAAAAAAAAAAAAAAAAAAAAAAAAAAAAAAAAAAAAAAAAAAAAAAAAAAAAAAAAAAAAAAAAAAAAAAAAAAAAAAAAAAAAAAAAAAAAAAAAAAAAAAAAAAAAAAAAAAAAAAAAAAAAAAAAAAAAAAAAAAAAAAAAAAAAAAAAAAAAAAAAAAAAAAAAAAAAAAAAAAAAAAAAAAAAAAAAAAAAAAAAAAAAAAAAAAAAAAAAAAAAAAAAAAAAAAAAAAAAAAAAAAAAAAAAAAAAAAAAAAAAAAAAAAAAAAAAAAAAAAAAAAAAAAAAAAAAAAAAAAAAAAAAAAAAAAAAAAAAAAAAAAAAAAAAAAAAAAAAAAAAAAAAAAAAAAAAAAAAAAAAAAAAAAAAAAAAAAAAAAAAAAAAAAAAAAAAAAAAAAAAAAAAAAAAAAAAAAAAAAAAAAAAAAAAAAAAAAAAAAAAAAAAAAAAAAAAAAAAAAAAAAAAAAAAAAAAAAAAAAAAAAAAAAAAAAAAAAAAAAAAAAAAAAAAAAAAAAAAAAAAAAAAAAAAAAAAAAAAAAAAAAAAAAAAAAAAAAAAAAAAAAAAAAAAAAAAAAAAAAAAAAAAAAAAAAAAAAAAAAAAAAAAAAAAAAAAAAAAAAAAAAAAAAAAAAAAAAAAAAAAAAAAAAAAAAAAAAAAAAAAAAAAAAAAAAAAAAAAAAAAAAAAAAAAAAAAAAAAAAAAAAAAAAAAAAAAAAAAAAAAAAAAAAAAAAAAAAAAAAAAAAAAAAAAAAAAAAAAAAAAAAAAAAAAAAAAAAAAAAAAAAAAAAAAAAAAAAAAAAAAAAAAAAAAAAAAAAAAAAAAAAAAAAAAAAAAAAAAAAAAAAAAAAAAAAAAAAAAAAAAAAAAAAAAAAAAAAAAAAAAAAAAAAAAAAAAAAAAAAAAAAAAAAAAAAAAAAAAAAAAAAAAAAAAAAAAAAAAAAAAAAAAAAAAAAAAAAAAAAAAAAAAAAAAAAAAAAAAAAAAAAAAAAAAAAAAAAAAAAAAAAAAAAAAAAAAAAAAAAAAAAAAAAAAAAAAAAAAAAAAAAAAAAAAAAAAAAAAAAAAAAAAAAAAAAAAAAAAAAAAAAAAAAAAAAAAAAAAAAAAAAAAAAAAAAAAAAAAAAAAAAAAAAAAAAAAAAAAAAAAAAAAAAAAAAAAAAAAAAAAAAAAAAAAAAAAAAAAAAAAAAAAAAAAAAAAAAAAAAAAAAAAAAAAAAAAAAAAAAAAAAAAAAAAAAAAAAAAAAAAAAAAAAAAAAAAAAAAAAAAAAAAAAAAAAAAAAAAAAAAAAAAAAAAAAAAAAAAAAAAAAAAAAAAAAAAAAAAAAAAAAAAAAAAAAAAAAAAAAAAAAAAAAAAAAAAAAAAAAAAAAAAAAAAAAAAAAAAAAAAAAAAAAAAAAAAAAAAAAAAAAAAAAAAAAAAAAAAAAA",
            "dtype": "f4"
           }
          },
          {
           "marker": {
            "color": "#EF553B",
            "line": {
             "color": "black",
             "width": 0.5
            },
            "size": 6,
            "symbol": "diamond"
           },
           "mode": "markers+text",
           "name": "Cluster 1",
           "text": [
            "C1"
           ],
           "textposition": "top center",
           "type": "scatter3d",
           "x": {
            "bdata": "4zZEQw==",
            "dtype": "f4"
           },
           "y": {
            "bdata": "lNMBQw==",
            "dtype": "f4"
           },
           "z": {
            "bdata": "AAAAAA==",
            "dtype": "f4"
           }
          },
          {
           "marker": {
            "color": "#00CC96",
            "opacity": 1,
            "size": 4
           },
           "mode": "markers",
           "showlegend": false,
           "type": "scatter3d",
           "x": {
            "bdata": "0MgNwQAP9r/u2ovCUEWQwmjrVsJtkYLCCDKcwWerksI4CqPBphOYwkjeSsKLF4/CXLSWwWk1EMJUIHLCtNLFwWadWsKfFRnCHIz+waKRbcKoa0XBvKhuwkZnY8LoehPBUwqYwvaVoMLiYnHCvyx+woaQY8JUdy7CFgYbwu/QiMLyeHLCMBUNwVQZNMJE7Y3C2N+Jwjb5+8FAvLTAgMqkwt+GisKUvXDCrwsiwsBNs8DidpvCUNT2wI2EjsIZshvCorNwwuD4wsH954LCLjmUwjxtKcKfm1LCtRxHwq+7kMI3kRzCL2wywmMlXsLthD/CaPVbwq+tgsKkSDjCmNj/wbhQp8Glx5rCfO9/wqK5x8H0QJXCONicwh5lS8Ln+FjCCjNEwja7dMLVhJLCoIj6wAsxHsJ+k+HBOfauwv6mK8IMRfjB0KAAwvIMcsKT6XTCYPtqwHsqncJEro7CGgWcwlwQi8KolHPCXnAcwlTgxMFGtXbC5T4OwjBWwMJ8343C4JuLwbxboMIQcYjBnpztwdWbk8L5CBbC4d86wvA8i8FIzaDC9iuswgLI5cFeZTzCRlVAwkpnhcKVsJXC7pVywg==",
            "dtype": "f4"
           },
           "y": {
            "bdata": "B0QOwx7HEMO8OwrDXq4gw90dPsNDnRPDRqkLw3jIHcM5aw/D2ugqw9QpFMPUthLDBqElw2hEQsNtkSXDWd0EwzYBLsN6Vi/DspUowybLVcNFuCrDbEU/w54FCcM6GjPDZkxiw4jjQsO4uFvDTgkuw3qfGMNAWUrDbPxLw2xAGsOcsBjD/Nz8wmOhEcPWQyrD7P8Xw7isOMNrDSXDe6E6wwpEBMO6jTLD1u1Nw9V598Lwi0nDdUkIw8oNJcNCulPD4vFew5Kq9sIIT1PDSwZiww1ZL8MwZhvDs3Aiw1EmWcOUhPzCPegXw4JdVsPQhUfDnrEMw1FBEMMqQwLDPHAswzUwK8OnOBnD3poHwwQGH8P8Xx/Dek5Hw8eTN8N8n1XDh7siwzRRG8PYRDTDDHMcw706/8J09UzDuERcw42wO8MYLQHD1E0vw0hkOcMo0yDD9D4TwwaSHsMHCw7DMvw4w3j9QsMauhDDyjEAw6huJcMyQTPDjIoKwzx/W8MxpDDD2RgHw80sScNdiC/Dfs0Uw1p2DsNyH0DDzN9Owx06PMPr/zTDBY8/w4BwDMNaiyTDIJNGw3RuEsMgTA3DbqoJww==",
            "dtype": "f4"
           },
           "z": {
            "bdata": "AAAAAAAAAAAAAAAAAAAAAAAAAAAAAAAAAAAAAAAAAAAAAAAAAAAAAAAAAAAAAAAAAAAAAAAAAAAAAAAAAAAAAAAAAAAAAAAAAAAAAAAAAAAAAAAAAAAAAAAAAAAAAAAAAAAAAAAAAAAAAAAAAAAAAAAAAAAAAAAAAAAAAAAAAAAAAAAAAAAAAAAAAAAAAAAAAAAAAAAAAAAAAAAAAAAAAAAAAAAAAAAAAAAAAAAAAAAAAAAAAAAAAAAAAAAAAAAAAAAAAAAAAAAAAAAAAAAAAAAAAAAAAAAAAAAAAAAAAAAAAAAAAAAAAAAAAAAAAAAAAAAAAAAAAAAAAAAAAAAAAAAAAAAAAAAAAAAAAAAAAAAAAAAAAAAAAAAAAAAAAAAAAAAAAAAAAAAAAAAAAAAAAAAAAAAAAAAAAAAAAAAAAAAAAAAAAAAAAAAAAAAAAAAAAAAAAAAAAAAAAAAAAAAAAAAAAAAAAAAAAAAAAAAAAAAAAAAAAAAAAAAAAAAAAAAAAAAAAAAAAAAAAAAAAAAAAAAAAAAAAAAAAAAAAAAAAAAAAAAAAAAAAAAAAAAAAAAAAAAAAAAAAAAAAAAAAAAAAA==",
            "dtype": "f4"
           }
          },
          {
           "marker": {
            "color": "#00CC96",
            "line": {
             "color": "black",
             "width": 0.5
            },
            "size": 6,
            "symbol": "diamond"
           },
           "mode": "markers+text",
           "name": "Cluster 2",
           "text": [
            "C2"
           ],
           "textposition": "top center",
           "type": "scatter3d",
           "x": {
            "bdata": "2NhHwg==",
            "dtype": "f4"
           },
           "y": {
            "bdata": "2J4nww==",
            "dtype": "f4"
           },
           "z": {
            "bdata": "AAAAAA==",
            "dtype": "f4"
           }
          },
          {
           "marker": {
            "color": "#AB63FA",
            "opacity": 1,
            "size": 4
           },
           "mode": "markers",
           "showlegend": false,
           "type": "scatter3d",
           "x": {
            "bdata": "tAzLwkorr8KOtvHCRsa/wmvk2sI/PdvCe7HOwqIAqsKokhfDOBqnwlgEscJWXd3CfCQewx8f6sKb0LLCLHAxw29TscKtCv/CI5OdwgN0scKUMrDCyffuwvshrMI58L3C+PPDwjPiBMO6eLDCPWixwg1KrMKIWb/CiC4Fww4T58IR1LfCUZoWw7eKw8L+YCfDtPPRwvHv0MKkq9DCX+vqwjpnn8LFlPDCyP8EwyMHscJgPqfCbDEOw6FLt8LFSpjCZ+jQwrOh2MLAJ8/CvLGswnTKLMMMQ/fCULoTw6tTFMNkObfCFiQuwwzTzMLygPfCfRnAwnP20MINorvCHCupwt7jJcML1q/CQpbnwhRfG8PkCqXCDuoJwxooG8PmthHDWe7Iwqe0ucJFfAfDLvXXwqCPwML3VKPC+AzuwlbP7sKd2tXCiKSpwmGev8IZos7CSC+xwipTvsIHjc/COgXEwjLElMKsKRXDr2/hwmJN/MJcxL3C8w+pwvLW38IPsLLCDp/gwr63DMPLQMfC3yvhwixousL5OArDIRmnwmIYLMNxb6zCBabXwtDAq8Ka2ePC4keswoUt5cK4nQrDglvUwvDT1sL3WcvCvxu5wsqAssIcehPDENLbwhaM2cLHLcvCac2wwmokq8LVSbXC+vWVwhX7rsKIm7zCCsafwj6n18JOG73CSNoSw7Ja5cJXYNDCKeS5wqbWpsIbBRPD7Ua/wgJQ1cL+0h7Dor3Kwg/95sJC4NvCDBK1wuirJcOMY5/CFF0rw+YF8MLAnMbCgie2wtCApMLwy/LCHJXSwgjD/cJEPNTCoDbJwrFdrsIlESvDTgsfwwBmGMPr59rCfGwDw1aKu8KtF8PCteK7wpyqLcNYWcfCBO4aw04SwcJXmA7DPk8Nw5tc0sIx18jCFIHswlkeHMNvMqjCGhPMwnSWDcOUgrbCroTDwr1XEMN3kfPCgWwmw+TiDsOsRAHDlBgHwyl7xcLWCLjCzCPowmAqxcJI9wXDErfCwu2xtsJz5t/CCMzuwoo8p8Kd/abCJo6twvhF3sJLC8TCm76lwq2lt8Jo8wDD7lznwmroI8O6kdbCUdTawjSu3MIGrBrDTR6kwhieBsP1YuzCXGmywpaXKMMoz7zCnJGrwmxGtcKtCSnDLUK3wkadJsM21rfCdDAMw6ARKsOkV5/Cx7atwpfmCMOLlgnDgGvowuaiqMKdLwTDCKETwwNwqsJ6vyfDwtzywjlkF8NEr9fCwgvnwh0W9cKetbrCZdTJwmpPqcJLYObC5SXBwtAa3sLrmirDhPMdw1RHt8Ki5NfCvODkwjObusJrs97CQV62wjXnu8IMzR3DtqjZwlZJ4cKfugnD5meTwhVYvcJ+GsHC2NTuwi+bwsJiiyPDBqMTw1/V+MKxAPrCqJT8whAIxcLSIQjD",
            "dtype": "f4"
           },
           "y": {
            "bdata": "M+MJw3gaCsO1pQLDPFRGw3eYOMOEvfTC6aMAw8lIF8PkWxfDXr4Ow9D9/sKqqebChpoWw6LHFsPaPAbDsIMCwwXsCsOcxwbDUj4JwzZ2DcNcWwvDLCQBw7SxG8NhJhjDMyQXw9jJ8sKtYxXD7dsKw0f8CMNY/ErD5GpCwyOEPcPb6hDDVGfUwteQDMNQ8uXCIykfwz/9HcMibT/DFjfpwoomFcOgd0XDHv0lwwMuCsN7ECHDznpIw4/2E8P5oQvD0+wQwwPCIMP4TV7DVIYtw+udG8MZWRzDnL4mw4uqFcOj0vHCvmjrwvRm78IOF0jDFOEQwwz+OsOqEwDDtwYTwwzi5sJ9OgrDHEkEw9DH/8JyRRbDbhGpwoQXHMPifMfCg2ILw+KjBMPvDxTDP61Pw8/4E8NqcgHDa2ISw1jsOMPkZtzCevMFw8f3HMOefifDeL8Vw0XpFsOKlQvDxPUaw+a+CMNSkdrC+PgtwzWRD8PxlAfDEUcJw6t+6MI33wrDITAhw2ovQcPeZArDIZ4mw9K/M8OBbBzDDO8Gwyo3CcPIuQ3D5XsOw0LeCsPf5dzC+5oOwxAT9MK8zB3DXKkTw7s9PcPS2/bCw1oFwzA8B8OI95vCzizwwtur/8IMzQnDT2MBwzGDLMO2eSTDfJIJw3I8E8NQ9kTDcpIVw325AsOQmQHDqDzswgio9MLEGdzCxdsRw6fr+MJmRh3DRLnywn6F8MLWhCHDk3Enw8ZlEsNvmUzD1OoIw0i+wsIXJgbDOlsfwyXe78KsXUHDNBAAw6aFDMNlXg7Ds2D5wi4uMMNQswfDkmwowxiVI8PIiBnDHcwVw47D/sLSgxzDJK8Swwb3BsNkRw/DyH0Uw0pSC8M0Sv/ChuU6w/jRAcPEDO3CVRTEwl2fFsMB5wfDIn8yw4D8LsNymhPDZtAuw6y6M8PIXjbDH8sJw+YTHsNPfhXDVebewpQ8AMP/YQvDLGPrwnhSGcPOoADDtYkZw7FRLcO66QnDR6sIw29wCMOMEwLD0R0Bw2TdDsOzbw7DDkEIwz0mF8Pf0iTDnU0Jw54VGcPtti7D3pTSwpRxLsOk7tfC74Y2w+gs3cKEaQvDCAAQw2M0NsPcGy/DVEEJw6YGzcLaNQTDl00JwyejDMNDFQHDKEU6w0YwIcPf2wXDnKQ3w7xhzsLIygfDdvoXwy+8zsLRKg/DTF4Kwx26CcOuHNbCKp8mwzFaFMNzFcnCbkYHw3EKD8OPvTrDrQgZw+bIRsNZihfDId4Mwy6rCsMsNkDDzz0Bw5vrU8My1iTDY/8Uw7QJNsPZkCDDU+cBw7lo7sIt+SrDkH4MwwF578Kspw7DE/8VwzIRDcNMmirDlgkHw1iFFsNg1kvDrmkkw1WjFcOkYirDdS84w/+WGcNi1RnDoqJTw+KYK8Mxc+LC",
            "dtype": "f4"
           },
           "z": {
            "bdata": "AAAAAAAAAAAAAAAAAAAAAAAAAAAAAAAAAAAAAAAAAAAAAAAAAAAAAAAAAAAAAAAAAAAAAAAAAAAAAAAAAAAAAAAAAAAAAAAAAAAAAAAAAAAAAAAAAAAAAAAAAAAAAAAAAAAAAAAAAAAAAAAAAAAAAAAAAAAAAAAAAAAAAAAAAAAAAAAAAAAAAAAAAAAAAAAAAAAAAAAAAAAAAAAAAAAAAAAAAAAAAAAAAAAAAAAAAAAAAAAAAAAAAAAAAAAAAAAAAAAAAAAAAAAAAAAAAAAAAAAAAAAAAAAAAAAAAAAAAAAAAAAAAAAAAAAAAAAAAAAAAAAAAAAAAAAAAAAAAAAAAAAAAAAAAAAAAAAAAAAAAAAAAAAAAAAAAAAAAAAAAAAAAAAAAAAAAAAAAAAAAAAAAAAAAAAAAAAAAAAAAAAAAAAAAAAAAAAAAAAAAAAAAAAAAAAAAAAAAAAAAAAAAAAAAAAAAAAAAAAAAAAAAAAAAAAAAAAAAAAAAAAAAAAAAAAAAAAAAAAAAAAAAAAAAAAAAAAAAAAAAAAAAAAAAAAAAAAAAAAAAAAAAAAAAAAAAAAAAAAAAAAAAAAAAAAAAAAAAAAAAAAAAAAAAAAAAAAAAAAAAAAAAAAAAAAAAAAAAAAAAAAAAAAAAAAAAAAAAAAAAAAAAAAAAAAAAAAAAAAAAAAAAAAAAAAAAAAAAAAAAAAAAAAAAAAAAAAAAAAAAAAAAAAAAAAAAAAAAAAAAAAAAAAAAAAAAAAAAAAAAAAAAAAAAAAAAAAAAAAAAAAAAAAAAAAAAAAAAAAAAAAAAAAAAAAAAAAAAAAAAAAAAAAAAAAAAAAAAAAAAAAAAAAAAAAAAAAAAAAAAAAAAAAAAAAAAAAAAAAAAAAAAAAAAAAAAAAAAAAAAAAAAAAAAAAAAAAAAAAAAAAAAAAAAAAAAAAAAAAAAAAAAAAAAAAAAAAAAAAAAAAAAAAAAAAAAAAAAAAAAAAAAAAAAAAAAAAAAAAAAAAAAAAAAAAAAAAAAAAAAAAAAAAAAAAAAAAAAAAAAAAAAAAAAAAAAAAAAAAAAAAAAAAAAAAAAAAAAAAAAAAAAAAAAAAAAAAAAAAAAAAAAAAAAAAAAAAAAAAAAAAAAAAAAAAAAAAAAAAAAAAAAAAAAAAAAAAAAAAAAAAAAAAAAAAAAAAAAAAAAAAAAAAAAAAAAAAAAAAAAAAAAAAAAAAAAAAAAAAAAAAAAAAAAAAAAAAAAAAAAAAAAAAAAAAAAAAAAAAAAAAAAAAAAAAAAAAAAAAAAAAAAAAAAAAAAAAAAAAAAAAAAAAAAAAAAAAAAAAAAAAAAAAAAAAAAAAAAAAAAAAAAAAAAAAAAAAAAAAAAAAAAAAAAAAAAAAAAAAAAAAAAAAAAAAAAAAAAAAAAAAAAAAAAAAAAAAAAAAAAAAA",
            "dtype": "f4"
           }
          },
          {
           "marker": {
            "color": "#AB63FA",
            "line": {
             "color": "black",
             "width": 0.5
            },
            "size": 6,
            "symbol": "diamond"
           },
           "mode": "markers+text",
           "name": "Cluster 3",
           "text": [
            "C3"
           ],
           "textposition": "top center",
           "type": "scatter3d",
           "x": {
            "bdata": "dgbqwg==",
            "dtype": "f4"
           },
           "y": {
            "bdata": "UtsYww==",
            "dtype": "f4"
           },
           "z": {
            "bdata": "AAAAAA==",
            "dtype": "f4"
           }
          },
          {
           "marker": {
            "color": "#FFA15A",
            "opacity": 1,
            "size": 4
           },
           "mode": "markers",
           "showlegend": false,
           "type": "scatter3d",
           "x": {
            "bdata": "+xS2wjYQ+MJnFI7CVBCWwaDAjsI1ye/C7eWxwllN/MKF50/Cvd/FwvgiNsKuBuLBeiYqwuZyeMJWyM7CydiDwjSFDsOu6yLCPpzEwr7t1MKxIwTCBFmCwvZ3IMIEAoXBsyRKwka8lcKAwwbDg9DZwg799MJKzS3CBkNwwmxDp8LwFL3C+1i4wj6Hx8KfNpbCXTWxwnhqecLlewLDwHhhwk6Zn8JuV5zCmEhsws3CWcLCQYzCOi/CwtqrwcJ6zYvCIOOJwnpt2MK9X73C2Jg8wmjLscIIGXLC9ZYKw4xvp8I407zC0GfHwkCUQcJ1YabCtKpQwsi8WsH4Eu/CPDOlwgBp6sJaamnC/iq2wrh+kMERqMjCLIh1wiLKC8NQHYDAwzO8wj6FkMJkuRbCwTt3wqTCYcJFwkXC+E69wkpth8ILv37Ciy2YwuTrwcIYDwfBZiglwviqtcL7WsfCx5gawmB/ysJsucPCuddIwiDqN8Ih0TzCtr8SwyA3lMJJVK3CBQiCwmJBlML77DXC4lW+woBSNcFPh6/CYvi3wv4/mMLYiIXCJHKgwipQi8KxoMPCH7lXwsfSoMITwzXCKOvowsZdoMLTlLbCbCGdwh3I6sLRnLHCAxrEwhHqhcK0fovC6a6owg==",
            "dtype": "f4"
           },
           "y": {
            "bdata": "PM3AwmMeh8KfEP7CXNTJwtQrt8Kg0rXC9F5zwkJ3ksKI/MnCNB61wgYBuMLpB8TC+eXIwpjnUMJEKanCuoaXwq6Hj8KijsnCWqOswjd0mMKMEcfCii/2wnwN4cIN2t7CgljZwgZN8MK8nqDCJbOswkhOmcIW1d7CumvGwiTk4MLIDFDCMjCuwmCOjcL7KsnCHq3rwswp/sK7qZvCciikwu6L5cKvxojC1hpmwhiXx8KkHbfCTFuRwigf08Luk8HCDKhJwihOvcJIDM/Cm2iHwpYOz8Lcg/DC3mCSwnCF2cKK87jC/tjOwtEy3sKKdY7CztZ+wnbgzMK1177CchqOwpt5wsIY1X3CIl6zwp4Hv8LKprPCwU7VwrW6m8KgfdnC2pviwpCAq8KZcNDCuouRwmwr08JD1ovC4DCPws2p88KCF/3CIZzHwvjBksLHmtnCfIzCwqvjxMJWFKTCKpK1who3yMLI36LCX7+IwreYgcKDu5/Cy7eRwrRJocI2denCl97OwreLAMN2kpjCfMBKwkKp1MLK3+3C+MVXwmeN3MIS++XCaTqVwmfrusJJs9rCutWWwhZI5cJOh8LC/SW/wqatzsJI1szCTEmvwtNqisJwROrC3yycwkAgAcMhS6fCVH+uwg==",
            "dtype": "f4"
           },
           "z": {
            "bdata": "AAAAAAAAAAAAAAAAAAAAAAAAAAAAAAAAAAAAAAAAAAAAAAAAAAAAAAAAAAAAAAAAAAAAAAAAAAAAAAAAAAAAAAAAAAAAAAAAAAAAAAAAAAAAAAAAAAAAAAAAAAAAAAAAAAAAAAAAAAAAAAAAAAAAAAAAAAAAAAAAAAAAAAAAAAAAAAAAAAAAAAAAAAAAAAAAAAAAAAAAAAAAAAAAAAAAAAAAAAAAAAAAAAAAAAAAAAAAAAAAAAAAAAAAAAAAAAAAAAAAAAAAAAAAAAAAAAAAAAAAAAAAAAAAAAAAAAAAAAAAAAAAAAAAAAAAAAAAAAAAAAAAAAAAAAAAAAAAAAAAAAAAAAAAAAAAAAAAAAAAAAAAAAAAAAAAAAAAAAAAAAAAAAAAAAAAAAAAAAAAAAAAAAAAAAAAAAAAAAAAAAAAAAAAAAAAAAAAAAAAAAAAAAAAAAAAAAAAAAAAAAAAAAAAAAAAAAAAAAAAAAAAAAAAAAAAAAAAAAAAAAAAAAAAAAAAAAAAAAAAAAAAAAAAAAAAAAAAAAAAAAAAAAAAAAAAAAAAAAAAAAAAAAAAAAAAAAAAAAAAAAAAAAAAAAAAAAAAAAAAAAAAAAAAAAAAAAAAAAAAAAAAAAAAAAAAAAAAAAAAAAAAAA==",
            "dtype": "f4"
           }
          },
          {
           "marker": {
            "color": "#FFA15A",
            "line": {
             "color": "black",
             "width": 0.5
            },
            "size": 6,
            "symbol": "diamond"
           },
           "mode": "markers+text",
           "name": "Cluster 4",
           "text": [
            "C4"
           ],
           "textposition": "top center",
           "type": "scatter3d",
           "x": {
            "bdata": "W8qYwg==",
            "dtype": "f4"
           },
           "y": {
            "bdata": "wwK4wg==",
            "dtype": "f4"
           },
           "z": {
            "bdata": "AAAAAA==",
            "dtype": "f4"
           }
          }
         ],
         "name": "frame2"
        },
        {
         "data": [
          {
           "marker": {
            "color": "#636EFA",
            "opacity": 1,
            "size": 4
           },
           "mode": "markers",
           "showlegend": false,
           "type": "scatter3d",
           "x": {
            "bdata": "I8QlQ79FM0NihhVDcOtOQzFNG0PxRy1DKlgoQxIFLUPLNxlDEVE2QwPeRkOxBjdDmD1tQ0Rr3UIpMCFDLpsbQ50/C0NPlTBDZw8UQ6xihUM4QDVDU0NqQw9jKUMH+lNDqzk5Qy0PMUO8aT9DJtUcQxQA7EJm/ztDtTd5Q36O30KN/T1DH8pYQ+7HKUMe78pC6TUrQ0vTPUNsbQBDdNU0Q/wSJkNUED1DiookQ7cwTUMeQkZDUFURQ20oBUMDDy9DzQIbQ2OsLUNuAy1Djk9iQxEVXkO8yAJDl5pKQx9kXEOAzDJDOA4UQzkHFUME6CJD3aMOQ0KCMUMVBSZDneQVQx1Z1UKpNxpDPyUVQ6GWKEMNLzpDpHgwQ9EAWUO8vEBDdDRcQ6XzD0OYKhdDhLM1Q6BbYkPxNhFDrjZEQwiKVEO1G0JDVD9kQ00gMUPPYWJDto/CQt7lSEO52hBDxA1AQy6P5EKHfyBDsstOQ8xvVUOfXTxD1xszQ3vIVEPUTElDIMkWQ23OU0N0sC9Dz9PhQqiNQEP5AlpDu1kxQ6RwRUNmmjJDZxs7Q8MSKkNJCjdDQeR+Q+PrLkOingtDHCw7Q0RCV0NtLzpDMXMWQyGITEN+/RxDca5LQ0CLRkOgMwlDN/FKQ3rFJkMoq4BD2xs9Qw5OI0OMSCZDuakMQyaFKkOcjStDsIobQ8qgRUMVLidDy6oIQzx7G0NTt2FDbRk+Qz1uU0M7bBxDu0Q6QzMfI0O8ETxDsmU0Qw+vRENKnnpDDWw3Q4/RCkPIL+hCaug0QzN+PkNAx0pDUwROQ6nud0N+FFxDnPg4Qx8VOUN1/9BCKiseQ1h3a0MGe09D2GRBQw+hU0NQERtD0vs5QxVAO0PXZnlDw0P9QgAMYkPTJApDPJAnQ4AqH0NQ/kFD/tT9QgBtBEN9MR5DDTQ8Q3RxZEMC+wdDGFsZQ4Bhb0Pr6DxDXSBGQ1YDYkNC5jBDiq0wQxx49ELBxnVDK30EQ+QUHUOfKwFDpY4gQ/1bNkMaWP5CNMtTQ0eWVUP9ei9D7QQ9Qy9pO0PNz8dC598lQ7QF20JEwglDwAsZQ6lE/0Lg4X1DOMpnQwbDLkN6FURDnPJJQ/E5QkM/1T1DeVgzQ1+7XEMlNx9DFH0xQ2NdNUNYPklDrXc0Q8YPSUOskx1DrQ4LQ/oVOkNW6QxD2HkJQz3tKEPImk9D",
            "dtype": "f4"
           },
           "y": {
            "bdata": "NF+4Qhix+kESzR5CEomOQrYCnEJxlMxCOo82QuR2kUIMOttCEskPQsQEDUJ0yLJBGN2HQtbehkKRU8xCukLbQjTzhkKGBJdCtMVKQgGijELQQaZCQgWaQixHrkHU0aBC6xDNQjckyUIE7JRCRf9vQh9cTkIImY9C2UM9QlXPfULYzcBCUzU5Qo7WnELt/AFDTu24Qs4dk0JF2KlCHIa8Qqu61UL3ZclCV4SjQigsj0JKkktCYwF5Qrenu0KNNJxCYjwpQtnKQEK6YbhCnh8GQglcbEJGx/FCJqy7QnaXn0IqYMVCNviOQv0O2UJmLshCWYa+Qht1l0K24R1CdCq8QlQqdEJFydNCZnoxQo5Mz0LmvhRCPvCyQhd3aULK8MNCCnuYQpx+2EKPlZZClBu6Qvr1nELoHU9CuEWDQjIolUItjoRCT2pVQhQ/s0Jg/vlBfUPNQqT7skKSmS1CAt6nQoWS3kKlELhC+rMwQsEgf0Iob5JCc33DQkkFOUIQkYRBTxIxQqZ9f0KRZcJCYZayQhGQqUJzY5FC1i/MQppPrkILadFCUQGsQv9/tEIQKrxCv9B2Qo6KwUKnvH9ClUCcQgBxSUL2tMZCMyE2QlJJtEJ8MrNCHYyIQuz3vkJ+iIZCdmCeQqmAiUJ8e1FCDfhWQtGemUKpEtVCCX7VQrLvjEIkuJlBpHPZQYQPs0J0xo5CG/ykQmj5CUI/kqRCfpZ6Qt4feEKSIbpCyp7KQr4NtkL8SKZC+ozLQoZKDkIGAGlCsYXCQp08wELtsfRCC/6GQkiiBEKg+a5Cdfm8QkxSk0JwWb5BCQFxQgYYzELFG5RCgLbaQsqVAkI88J9C1PW/QpRi+UFu4I5CYhfDQusLw0JwEG5C49qIQjcBe0L+/d5CgrykQghc2EITX79CUvU7QpKLG0JwXdhCv0WXQs6pikJid4tC0/nPQpaRhkJpIchCiX56QnZNnELsOrxCgSfJQv1ZxkKu8YxC8PrvQtTlqUKZd95CWRnVQrbJh0KIxw9Co/WMQvzvM0LRMWtC5b+zQq22v0KWbgBD2l7HQlfIr0LCSY9CaliPQpcIcUK7LEFC9Tc7Qs/deEKVjGJC+jeJQth4v0LXFcJCGiq/QrlopkIdTDJCHejQQkJGuUJiyJpCu4rJQpaivUKs8bRCIPdLQrVQc0IvRtNC2ANEQgu4lkIEWaRC",
            "dtype": "f4"
           },
           "z": {
            "bdata": "AAAAAAAAAAAAAAAAAAAAAAAAAAAAAAAAAAAAAAAAAAAAAAAAAAAAAAAAAAAAAAAAAAAAAAAAAAAAAAAAAAAAAAAAAAAAAAAAAAAAAAAAAAAAAAAAAAAAAAAAAAAAAAAAAAAAAAAAAAAAAAAAAAAAAAAAAAAAAAAAAAAAAAAAAAAAAAAAAAAAAAAAAAAAAAAAAAAAAAAAAAAAAAAAAAAAAAAAAAAAAAAAAAAAAAAAAAAAAAAAAAAAAAAAAAAAAAAAAAAAAAAAAAAAAAAAAAAAAAAAAAAAAAAAAAAAAAAAAAAAAAAAAAAAAAAAAAAAAAAAAAAAAAAAAAAAAAAAAAAAAAAAAAAAAAAAAAAAAAAAAAAAAAAAAAAAAAAAAAAAAAAAAAAAAAAAAAAAAAAAAAAAAAAAAAAAAAAAAAAAAAAAAAAAAAAAAAAAAAAAAAAAAAAAAAAAAAAAAAAAAAAAAAAAAAAAAAAAAAAAAAAAAAAAAAAAAAAAAAAAAAAAAAAAAAAAAAAAAAAAAAAAAAAAAAAAAAAAAAAAAAAAAAAAAAAAAAAAAAAAAAAAAAAAAAAAAAAAAAAAAAAAAAAAAAAAAAAAAAAAAAAAAAAAAAAAAAAAAAAAAAAAAAAAAAAAAAAAAAAAAAAAAAAAAAAAAAAAAAAAAAAAAAAAAAAAAAAAAAAAAAAAAAAAAAAAAAAAAAAAAAAAAAAAAAAAAAAAAAAAAAAAAAAAAAAAAAAAAAAAAAAAAAAAAAAAAAAAAAAAAAAAAAAAAAAAAAAAAAAAAAAAAAAAAAAAAAAAAAAAAAAAAAAAAAAAAAAAAAAAAAAAAAAAAAAAAAAAAAAAAAAAAAAAAAAAAAAAAAAAAAAAAAAAAAAAAAAAAAAAAAAAAAAAAAAAAAAAAAAAAAAAAAAAAAAAAAAAAAAAAAAAAAAAAAAAAAAAAAAAAAAAAAAAAAAAAAAAAAAAAAAAAAAAAAAAAAAAAAAAAAAAAAAAAAAAAAAAAAAAAAAAAAAAAAAAAAAAAAAAAAAAAAAAAAAAAAAAAAAAAAAAAAAAAAAAAAAAAAAAAAAAAAAAAAAAAAAAAAAAAAAAAAAAAAAAAAAAAAAAAAAAAAAAAAAAAAAAAAAAAAAAAAAAAAAAAAAAAAAAAAAAAAAAAAAAAAAAAAAAAAAAAAAAAAAAAAAAAAAAAAAAAAAAAAAAAAAAAAAA",
            "dtype": "f4"
           }
          },
          {
           "marker": {
            "color": "#636EFA",
            "line": {
             "color": "black",
             "width": 0.5
            },
            "size": 6,
            "symbol": "diamond"
           },
           "mode": "markers+text",
           "name": "Cluster 0",
           "text": [
            "C0"
           ],
           "textposition": "top center",
           "type": "scatter3d",
           "x": {
            "bdata": "H+4xQw==",
            "dtype": "f4"
           },
           "y": {
            "bdata": "SQeYQg==",
            "dtype": "f4"
           },
           "z": {
            "bdata": "AAAAAA==",
            "dtype": "f4"
           }
          },
          {
           "marker": {
            "color": "#EF553B",
            "opacity": 1,
            "size": 4
           },
           "mode": "markers",
           "showlegend": false,
           "type": "scatter3d",
           "x": {
            "bdata": "WpA8Q7b5g0OoKn5DoY43Q0odNkP2+C5DwLotQ3wkgkMBGkdDsh0iQ6eyMEPGCVJDzCkJQy2AX0ONyD5DUOxMQ3q/YkMduDxDMZxEQxqA7UIgQlpDEwc0Q30OS0O9xkVDLTw6Q4jDTUMPiSNDwY9MQz6AV0P63CJD+kpbQzZ7Q0MYgGVDbxQRQ4omFkNXcApDP6tSQ6vkfUNNPTJD0TUzQ3uaMkPqtRNDXlBLQxMWN0NN3VND7eBzQ9EvKkO3KzlDd2kXQxE6aUODxGFDDvNYQzQPI0P8HXxDbzBGQzrqZ0PGK1FDvYNRQ26sRkNKqyBDQHlEQ+okKEOn7SNDsfcNQ3oSOkMFpEdDGqtnQ07cWUMktnNDlik5Q+Ota0NaITFDYHM5Q0zp90KT1V5D71U2Q4pSckMOnVFDcWI3QywUaEMXUU1DJdh3Q8q5VkNM3DlD2hFNQ2yrAUODZPNCMgtdQ/LmUUPHukJDCoYkQ0pFgUMWp/VCHkgPQyiOUUN+SFNDd/UQQz+KOUNUcg9DMKQ/QwbIN0Mw8R5DSxdZQ/TKP0OGbDxDKEZdQ5FETUMAEIJD5c8mQxmT1kKqqC9DRF5wQ+2MU0O6BAVDwLFHQ2QFOkNdqm1DsBdrQ4CvPkNvgkpDVCRwQ0o1PEPWmiJDmYRFQ3JsYUPs+HJDGJljQ6rRVUPxR3xDHa1QQ2fsDUN3pmFDps4QQ0QSMEN5DmtDnAF8Q6T6SkNaBkBDpcPiQhF6SUPmF2ND8HAtQ5n4NEMziDxDekQ6QwBcOEOqLy5DfJBdQ6e8KEPuKlpDzEthQ1+COEPZ9W5DQvI7Q/sPWUNluCpDAZ3qQjnRR0NA3FBDI0EyQ0BSf0OIFDVDUg31Qr55UEM+p+ZCZ5vpQsLpR0MxHl5DqPlGQ9fLVkOByj9DZVEoQ6KaZ0P+xz9Dg00hQzkqO0MZQhBDXqc7Q2itYUN7LzdDMh52Q9wta0MQhCpDJjhvQ+UCQUNWX29Dw9AnQ47Me0NcAhpD8aFQQ3iYJEM2PDdDU7A5Q8saU0O1YTVDEb07Q8Dqg0M2KH5DkUYfQxq9OUMMVjJDiohlQwe4WUPFjh9D3nxfQ6axSUM/LXRDqC5pQyAULkOUjjFDnyR4Q274gUNR7CRDxq5JQyCRQ0MxOmFDJONVQwFaQUNyOEFDqOYgQ7ZTOkOKsoJDeWAsQwBaYkMfRjRDGa5BQ418IkOG3DRDooZuQ3y2M0M4flFDAaxpQ46JNUNCiYBDPkZTQ9lhMUOYVzlDNaU3Q5+NKkNgGixDFJIhQzk2IkOGSlhDQqMdQ+UVPEOBnz5DQcREQysBTUOR4UBDzpgrQ1WiOUPIaDlDXTpjQ36VNEOdLGlDg103Q7eDbUPiPBdDvtZAQ+8gSUNVPjxD7PdhQwZNVkPVVTRD7bgyQ856CUPssjhD2Q0tQ9xjQkPDJD5DuT5QQ27OSEM8bjtDuGIHQ0QaFkM=",
            "dtype": "f4"
           },
           "y": {
            "bdata": "OM3OQghFEUNHPt1CfvY4Qxuu2UII/DtD6NQYQ0BApELwJCtD2CkmQ1nhEkPt0eBCZ00IQ6DSMUO3rMxCdLIZQzcPI0Oytd1COnnPQp7TEkMEAApD/nkJQwVdwULKLglDYkDRQiVN3EI6lPBCXrcJQ2Il80JFM+dCiZ3dQk/syEKt4rhCpXEXQ0e0A0M8zxtD6Qf8QlmgoEI6JgtD++r4QhAC9UJIMzFDSEQUQ/Xg3UIARyJDzpqlQl4H6kLoOc9C1yYvQ4Z0FUO3DDZDC4O6QmD28kJU0eZC52kBQ8lMGUNsD+RCf5LOQsMzIkPGZgBDhl73QuZUH0MOvDdD1kADQ56O0EKfAOlCYAHXQgHp6EK9agBDnQ3OQj/W+ELduRBDtU7PQg+7F0Ms9yRDus8SQ+pAHUMsfRdDQIPRQklgAkNvYMJCJFETQ5FB4EJQLc5CcpodQ7d5E0P/FBRDSP/rQmx5HkN6NCtDt2T5QqN+sULFdxRDCmYTQ5f/G0NT+wRDcVocQ8Mr0kKnYSVDQATZQnYZ3EKfSwRDkn28QiJ970IAVtZC1ScRQwzsNkMUEAtDg3IKQ4bwC0NQIfJCfyDuQliP9EIyUwdDKpbuQof25kJE+QBDDiX/Qrxh4UJzg+ZCBqLCQo4nJkNdnQlDJ/j8Qgym4EJsmwxDHinrQo4mCUNkJgJDCEDXQkr5KUOaarJCme8gQ/bB3EKc+sdCbTADQ3bG7UL2z+pCoK4YQ5rJ4kJxKBpDFCwUQ7EP3EIGEipDvDRBQxmX10KG4ztDf+AnQ9weAEMvdgVDTt8eQ9y/0EKfIgdDOAYYQ1Qz9EKBZOtC1XwVQ4Ht+0L7GApDXjnwQlR8CkNVmiZDhEAYQyQ51UJd3AxDOvcTQ7zM40K2K/tC9CEEQ2pr7kIa6MtCpfXjQnLZtkIONC1DiZEEQ7rUz0LhFhBD0v3QQr01ykIUauxCQmgSQ1pbFkNl/ORCAbDrQrx28kJ8QgFDTGLlQurfzkLBl+dCEsQ8Q5oU90I5W9RCVhHaQvjqIENiBARDS4LZQpAVC0N7DeFClsc6Q89kCENrwfVCjhjoQtAQF0OQ3PRCQ37gQkasFUONtsxCqJccQzSR10JRFQlDTJLlQjRkGUMqD/xCiKMlQzrgMEOE4QFDnAgyQwKlEUOa4wVDTowFQ0Qj5kKuehdDLvzYQrsOFUNIY99CGE3xQvXT+EKWtyhDb4wGQ2TqCkNY6glD+3fmQhKR0kLASuRCh/TeQrjkJ0OFTc9C/rUDQ1Z/5ULC1vFCteMCQ6n/9ELHHABDRVg7Q32wFkNMKc5Clv/pQuCzAEM+Tw5D40TcQog1L0NnTM9C+AsaQ87T0kJSChBDlF7SQmSvtUK4GzlDRIjjQioN00Lrg9tCsga5QptrFUPFlgtDrPTWQqyw+EJhHdhC7DMMQ6xELUNeJzdDNk/FQp/hDUOb8tNCHlsDQya3+UI=",
            "dtype": "f4"
           },
           "z": {
            "bdata": "AAAAAAAAAAAAAAAAAAAAAAAAAAAAAAAAAAAAAAAAAAAAAAAAAAAAAAAAAAAAAAAAAAAAAAAAAAAAAAAAAAAAAAAAAAAAAAAAAAAAAAAAAAAAAAAAAAAAAAAAAAAAAAAAAAAAAAAAAAAAAAAAAAAAAAAAAAAAAAAAAAAAAAAAAAAAAAAAAAAAAAAAAAAAAAAAAAAAAAAAAAAAAAAAAAAAAAAAAAAAAAAAAAAAAAAAAAAAAAAAAAAAAAAAAAAAAAAAAAAAAAAAAAAAAAAAAAAAAAAAAAAAAAAAAAAAAAAAAAAAAAAAAAAAAAAAAAAAAAAAAAAAAAAAAAAAAAAAAAAAAAAAAAAAAAAAAAAAAAAAAAAAAAAAAAAAAAAAAAAAAAAAAAAAAAAAAAAAAAAAAAAAAAAAAAAAAAAAAAAAAAAAAAAAAAAAAAAAAAAAAAAAAAAAAAAAAAAAAAAAAAAAAAAAAAAAAAAAAAAAAAAAAAAAAAAAAAAAAAAAAAAAAAAAAAAAAAAAAAAAAAAAAAAAAAAAAAAAAAAAAAAAAAAAAAAAAAAAAAAAAAAAAAAAAAAAAAAAAAAAAAAAAAAAAAAAAAAAAAAAAAAAAAAAAAAAAAAAAAAAAAAAAAAAAAAAAAAAAAAAAAAAAAAAAAAAAAAAAAAAAAAAAAAAAAAAAAAAAAAAAAAAAAAAAAAAAAAAAAAAAAAAAAAAAAAAAAAAAAAAAAAAAAAAAAAAAAAAAAAAAAAAAAAAAAAAAAAAAAAAAAAAAAAAAAAAAAAAAAAAAAAAAAAAAAAAAAAAAAAAAAAAAAAAAAAAAAAAAAAAAAAAAAAAAAAAAAAAAAAAAAAAAAAAAAAAAAAAAAAAAAAAAAAAAAAAAAAAAAAAAAAAAAAAAAAAAAAAAAAAAAAAAAAAAAAAAAAAAAAAAAAAAAAAAAAAAAAAAAAAAAAAAAAAAAAAAAAAAAAAAAAAAAAAAAAAAAAAAAAAAAAAAAAAAAAAAAAAAAAAAAAAAAAAAAAAAAAAAAAAAAAAAAAAAAAAAAAAAAAAAAAAAAAAAAAAAAAAAAAAAAAAAAAAAAAAAAAAAAAAAAAAAAAAAAAAAAAAAAAAAAAAAAAAAAAAAAAAAAAAAAAAAAAAAAAAAAAAAAAAAAAAAAAAAAAAAAAAAAAAAAAAAAAAAAAAAAAAAAAAAAAAAAAAAAAAAAAAAAAAAAAAAAAAAAAAAAAAAAAAAAAAAAAAAAAAAAAAAAAAAAAAAAAAAAAAAAAAAAAAAAAAAAAAAAAAAAAAAAAAAAAAAAAAAAAAAAAAAAAAAAAAAAAAAAAAAAAAAAAAAAAAAAAAAAAAAAAAAAAAAAAAAAAAAAAAAAAAAAAAAAAAAAAAAAAAAAAAAAAAAAAAAAAAAAAAAAAAAAAAAAAAAAAAAAAAAAAAAAAAAAAAAAAAAAAAAAAAAAAAAAAAAAAAAAAAAAAAAAAAAAAAAAA=",
            "dtype": "f4"
           }
          },
          {
           "marker": {
            "color": "#EF553B",
            "line": {
             "color": "black",
             "width": 0.5
            },
            "size": 6,
            "symbol": "diamond"
           },
           "mode": "markers+text",
           "name": "Cluster 1",
           "text": [
            "C1"
           ],
           "textposition": "top center",
           "type": "scatter3d",
           "x": {
            "bdata": "tFxEQw==",
            "dtype": "f4"
           },
           "y": {
            "bdata": "qq8DQw==",
            "dtype": "f4"
           },
           "z": {
            "bdata": "AAAAAA==",
            "dtype": "f4"
           }
          },
          {
           "marker": {
            "color": "#00CC96",
            "opacity": 1,
            "size": 4
           },
           "mode": "markers",
           "showlegend": false,
           "type": "scatter3d",
           "x": {
            "bdata": "0MgNwQAP9r/u2ovCUEWQwmjrVsJtkYLCCDKcwWerksI4CqPBphOYwkjeSsKLF4/CXLSWwWk1EMJUIHLCOmefwrTSxcFmnVrCnxUZwhyM/sFgPqfCopFtwsVKmMKoa0XBvKhuwkZnY8LoehPBUwqYwvaVoMK8sazC4mJxwr8sfsKGkGPCVHcuwhYGG8Lv0IjC8nhywjAVDcEyxJTCVBk0wkTtjcLY34nCNvn7wUC8tMCAyqTC34aKwpS9cMKvCyLCwE2zwOJ2m8JQ1PbAjYSOwhmyG8Kis3DC4PjCwWokq8L69ZXCCsafwv3ngsIuOZTCPG0pwp+bUsK1HEfCr7uQwjeRHMIvbDLCYyVewu2EP8Jo9VvCr62CwqRIOMKY2P/BuFCnwaXHmsJ873/CornHwfRAlcI42JzCHmVLwuf4WMIKM0TCNrt0wtWEksKgiPrACzEewn6T4cE59q7C/qYrwgxF+MHQoADC8gxywpPpdMJg+2rAeyqdwkSujsIaBZzCXBCLwqiUc8JecBzCVODEwUa1dsLlPg7CMFbAwnzfjcLgm4vBvFugwhBxiMGenO3B1ZuTwvkIFsLh3zrC8DyLwUjNoML2K6zC5meTwgLI5cFeZTzCRlVAwkpnhcKVsJXC7pVywg==",
            "dtype": "f4"
           },
           "y": {
            "bdata": "B0QOwx7HEMO8OwrDXq4gw90dPsNDnRPDRqkLw3jIHcM5aw/D2ugqw9QpFMPUthLDBqElw2hEQsNtkSXDiiYVw1ndBMM2AS7DelYvw7KVKMN7ECHDJstVw/mhC8NFuCrDbEU/w54FCcM6GjPDZkxiw4jjQsNUhi3DuLhbw04JLsN6nxjDQFlKw2z8S8NsQBrDnLAYw/zc/MLmvgjDY6ERw9ZDKsPs/xfDuKw4w2sNJcN7oTrDCkQEw7qNMsPW7U3D1Xn3wvCLScN1SQjDyg0lw0K6U8Pi8V7Dkqr2wjGDLMN8kgnDcpIVwwhPU8NLBmLDDVkvwzBmG8OzcCLDUSZZw5SE/MI96BfDgl1Ww9CFR8OesQzDUUEQwypDAsM8cCzDNTArw6c4GcPemgfDBAYfw/xfH8N6TkfDx5M3w3yfVcOHuyLDNFEbw9hENMMMcxzDvTr/wnT1TMO4RFzDjbA7wxgtAcPUTS/DSGQ5wyjTIMP0PhPDBpIewwcLDsMy/DjDeP1Cwxq6EMPKMQDDqG4lwzJBM8OMigrDPH9bwzGkMMPZGAfDzSxJw12IL8N+zRTDWnYOw3IfQMPM307DHTo8w+v/NMMFjz/DlgkHw4BwDMNaiyTDIJNGw3RuEsMgTA3DbqoJww==",
            "dtype": "f4"
           },
           "z": {
            "bdata": "AAAAAAAAAAAAAAAAAAAAAAAAAAAAAAAAAAAAAAAAAAAAAAAAAAAAAAAAAAAAAAAAAAAAAAAAAAAAAAAAAAAAAAAAAAAAAAAAAAAAAAAAAAAAAAAAAAAAAAAAAAAAAAAAAAAAAAAAAAAAAAAAAAAAAAAAAAAAAAAAAAAAAAAAAAAAAAAAAAAAAAAAAAAAAAAAAAAAAAAAAAAAAAAAAAAAAAAAAAAAAAAAAAAAAAAAAAAAAAAAAAAAAAAAAAAAAAAAAAAAAAAAAAAAAAAAAAAAAAAAAAAAAAAAAAAAAAAAAAAAAAAAAAAAAAAAAAAAAAAAAAAAAAAAAAAAAAAAAAAAAAAAAAAAAAAAAAAAAAAAAAAAAAAAAAAAAAAAAAAAAAAAAAAAAAAAAAAAAAAAAAAAAAAAAAAAAAAAAAAAAAAAAAAAAAAAAAAAAAAAAAAAAAAAAAAAAAAAAAAAAAAAAAAAAAAAAAAAAAAAAAAAAAAAAAAAAAAAAAAAAAAAAAAAAAAAAAAAAAAAAAAAAAAAAAAAAAAAAAAAAAAAAAAAAAAAAAAAAAAAAAAAAAAAAAAAAAAAAAAAAAAAAAAAAAAAAAAAAAAAAAAAAAAAAAAAAAAAAAAAAAAAAAAAAAAAAAAAAAAAAAAAAA==",
            "dtype": "f4"
           }
          },
          {
           "marker": {
            "color": "#00CC96",
            "line": {
             "color": "black",
             "width": 0.5
            },
            "size": 6,
            "symbol": "diamond"
           },
           "mode": "markers+text",
           "name": "Cluster 2",
           "text": [
            "C2"
           ],
           "textposition": "top center",
           "type": "scatter3d",
           "x": {
            "bdata": "05hQwg==",
            "dtype": "f4"
           },
           "y": {
            "bdata": "glkmww==",
            "dtype": "f4"
           },
           "z": {
            "bdata": "AAAAAA==",
            "dtype": "f4"
           }
          },
          {
           "marker": {
            "color": "#AB63FA",
            "opacity": 1,
            "size": 4
           },
           "mode": "markers",
           "showlegend": false,
           "type": "scatter3d",
           "x": {
            "bdata": "tAzLwkorr8KOtvHCRsa/wmvk2sI/PdvCe7HOwqIAqsKokhfDOBqnwlZd3cJ8JB7DHx/qwpvQssIscDHDb1Oxwq0K/8Ijk53CA3SxwpQysMLJ9+7C+yGswjnwvcL488PCM+IEw7p4sMI9aLHCDUqswohZv8KILgXDDhPnwhHUt8JRmhbDt4rDwv5gJ8O089HC8e/QwqSr0MJf6+rCxZTwwsj/BMMjB7HCbDEOw6FLt8Jn6NDCs6HYwsAnz8J0yizDDEP3wlC6E8OrUxTDFiQuwwzTzMLygPfCfRnAwnP20MINorvCHCupwt7jJcML1q/CQpbnwhRfG8PkCqXCGigbw+a2EcNZ7sjCp7S5wkV8B8Mu9dfCoI/AwvgM7sJWz+7CiKSpwmGev8IZos7CSC+xwipTvsIHjc/COgXEwqwpFcOvb+HCYk38wlzEvcLzD6nC8tbfwg+wssIOn+DCvrcMw8tAx8LfK+HCLGi6wvk4CsMhGafCYhgsw3FvrMIFptfC0MCrwuJHrMKFLeXCuJ0Kw4Jb1MLw09bC91nLwr8bucLKgLLCENLbwhaM2cLHLcvCac2wwtVJtcIV+67CiJu8wj6n18JOG73CSNoSw7Ja5cIp5LnCGwUTwwJQ1cL+0h7Dor3Kwg/95sJC4NvCDBK1wuirJcOMY5/CFF0rw+YF8MLAnMbCgie2wtCApMLwy/LCHJXSwgjD/cJEPNTCoDbJwrFdrsIlESvDTgsfwwBmGMPr59rCfGwDw1aKu8KtF8PCteK7wpyqLcNYWcfCBO4aw04SwcJXmA7DPk8Nw5tc0sIx18jCFIHswlkeHMNvMqjCGhPMwnSWDcOUgrbCroTDwr1XEMN3kfPCgWwmw+TiDsOsRAHDlBgHwyl7xcLWCLjCzCPowmAqxcJI9wXDErfCwu2xtsJz5t/CCMzuwoo8p8Kd/abCJo6twvhF3sJLC8TCm76lwq2lt8Jo8wDDaugjw1HU2sIGrBrDTR6kwhieBsP1YuzCXGmywpaXKMMoz7zCnJGrwmxGtcKtCSnDLUK3wkadJsM21rfCdDAMw6ARKsOkV5/Cx7atwpfmCMOLlgnDgGvowuaiqMKdLwTDCKETwwNwqsJ6vyfDwtzywjlkF8NEr9fCwgvnwh0W9cKetbrCZdTJwmpPqcJLYObC5SXBwtAa3sLrmirDhPMdw1RHt8Ki5NfCvODkwmuz3sJBXrbCDM0dw7ao2cJWSeHCn7oJwxVYvcJ+GsHC2NTuwi+bwsJiiyPDBqMTw1/V+MKxAPrCqJT8whAIxcLSIQjD",
            "dtype": "f4"
           },
           "y": {
            "bdata": "M+MJw3gaCsO1pQLDPFRGw3eYOMOEvfTC6aMAw8lIF8PkWxfDXr4Ow6qp5sKGmhbDoscWw9o8BsOwgwLDBewKw5zHBsNSPgnDNnYNw1xbC8MsJAHDtLEbw2EmGMMzJBfD2Mnywq1jFcPt2wrDR/wIw1j8SsPkakLDI4Q9w9vqEMNUZ9TC15AMw1Dy5cIjKR/DP/0dwyJtP8MWN+nCoHdFwx79JcMDLgrDznpIw4/2E8PT7BDDA8Igw/hNXsPrnRvDGVkcw5y+JsOLqhXDvmjrwvRm78IOF0jDFOEQwwz+OsOqEwDDtwYTwwzi5sJ9OgrDHEkEw9DH/8JyRRbDhBccw+J8x8KDYgvD4qMEw+8PFMM/rU/Dz/gTw2tiEsNY7DjDevMFw8f3HMOefifDeL8Vw0XpFsOKlQvDxPUaw1KR2sL4+C3DNZEPw/GUB8MRRwnDq37owjffCsMhMCHDai9Bw95kCsMhnibD0r8zw4FsHMMM7wbDKjcJw8i5DcPlew7DQt4Kw/uaDsMQE/TCvMwdw1ypE8O7PT3D0tv2wsNaBcMwPAfDzizwwtur/8IMzQnDT2MBw7Z5JMNyPBPDUPZEw325AsOQmQHDqDzswgio9MLF2xHDZkYdw36F8MLWhCHDk3Enw8ZlEsNvmUzD1OoIw0i+wsIXJgbDOlsfwyXe78KsXUHDNBAAw6aFDMNlXg7Ds2D5wi4uMMNQswfDkmwowxiVI8PIiBnDHcwVw47D/sLSgxzDJK8Swwb3BsNkRw/DyH0Uw0pSC8M0Sv/ChuU6w/jRAcPEDO3CVRTEwl2fFsMB5wfDIn8yw4D8LsNymhPDZtAuw6y6M8PIXjbDH8sJw+YTHsNPfhXDVebewpQ8AMP/YQvDLGPrwnhSGcPOoADDtYkZw7FRLcO66QnDR6sIw29wCMOMEwLD0R0Bw2TdDsOzbw7DDkEIwz0mF8Pf0iTDnU0Jw54VGcPtti7DlHEuw++GNsOEaQvDCAAQw2M0NsPcGy/DVEEJw6YGzcLaNQTDl00JwyejDMNDFQHDKEU6w0YwIcPf2wXDnKQ3w7xhzsLIygfDdvoXwy+8zsLRKg/DTF4Kwx26CcOuHNbCKp8mwzFaFMNzFcnCbkYHw3EKD8OPvTrDrQgZw+bIRsNZihfDId4Mwy6rCsMsNkDDzz0Bw5vrU8My1iTDY/8Uw7QJNsPZkCDDU+cBwy35KsOQfgzDrKcOwxP/FcMyEQ3DTJoqw1iFFsNg1kvDrmkkw1WjFcOkYirDdS84w/+WGcNi1RnDoqJTw+KYK8Mxc+LC",
            "dtype": "f4"
           },
           "z": {
            "bdata": "AAAAAAAAAAAAAAAAAAAAAAAAAAAAAAAAAAAAAAAAAAAAAAAAAAAAAAAAAAAAAAAAAAAAAAAAAAAAAAAAAAAAAAAAAAAAAAAAAAAAAAAAAAAAAAAAAAAAAAAAAAAAAAAAAAAAAAAAAAAAAAAAAAAAAAAAAAAAAAAAAAAAAAAAAAAAAAAAAAAAAAAAAAAAAAAAAAAAAAAAAAAAAAAAAAAAAAAAAAAAAAAAAAAAAAAAAAAAAAAAAAAAAAAAAAAAAAAAAAAAAAAAAAAAAAAAAAAAAAAAAAAAAAAAAAAAAAAAAAAAAAAAAAAAAAAAAAAAAAAAAAAAAAAAAAAAAAAAAAAAAAAAAAAAAAAAAAAAAAAAAAAAAAAAAAAAAAAAAAAAAAAAAAAAAAAAAAAAAAAAAAAAAAAAAAAAAAAAAAAAAAAAAAAAAAAAAAAAAAAAAAAAAAAAAAAAAAAAAAAAAAAAAAAAAAAAAAAAAAAAAAAAAAAAAAAAAAAAAAAAAAAAAAAAAAAAAAAAAAAAAAAAAAAAAAAAAAAAAAAAAAAAAAAAAAAAAAAAAAAAAAAAAAAAAAAAAAAAAAAAAAAAAAAAAAAAAAAAAAAAAAAAAAAAAAAAAAAAAAAAAAAAAAAAAAAAAAAAAAAAAAAAAAAAAAAAAAAAAAAAAAAAAAAAAAAAAAAAAAAAAAAAAAAAAAAAAAAAAAAAAAAAAAAAAAAAAAAAAAAAAAAAAAAAAAAAAAAAAAAAAAAAAAAAAAAAAAAAAAAAAAAAAAAAAAAAAAAAAAAAAAAAAAAAAAAAAAAAAAAAAAAAAAAAAAAAAAAAAAAAAAAAAAAAAAAAAAAAAAAAAAAAAAAAAAAAAAAAAAAAAAAAAAAAAAAAAAAAAAAAAAAAAAAAAAAAAAAAAAAAAAAAAAAAAAAAAAAAAAAAAAAAAAAAAAAAAAAAAAAAAAAAAAAAAAAAAAAAAAAAAAAAAAAAAAAAAAAAAAAAAAAAAAAAAAAAAAAAAAAAAAAAAAAAAAAAAAAAAAAAAAAAAAAAAAAAAAAAAAAAAAAAAAAAAAAAAAAAAAAAAAAAAAAAAAAAAAAAAAAAAAAAAAAAAAAAAAAAAAAAAAAAAAAAAAAAAAAAAAAAAAAAAAAAAAAAAAAAAAAAAAAAAAAAAAAAAAAAAAAAAAAAAAAAAAAAAAAAAAAAAAAAAAAAAAAAAAAAAAAAAAAAAAAAAAAAAAAAAAAAAAAAAAAAAAAAAAAAAAAAAAAAAAAAAAAAAAAAAAAAAAAAAAAAAAAAAAAAAAAAAAAAAAAAAAAAAAAA",
            "dtype": "f4"
           }
          },
          {
           "marker": {
            "color": "#AB63FA",
            "line": {
             "color": "black",
             "width": 0.5
            },
            "size": 6,
            "symbol": "diamond"
           },
           "mode": "markers+text",
           "name": "Cluster 3",
           "text": [
            "C3"
           ],
           "textposition": "top center",
           "type": "scatter3d",
           "x": {
            "bdata": "jwPwwg==",
            "dtype": "f4"
           },
           "y": {
            "bdata": "qpYcww==",
            "dtype": "f4"
           },
           "z": {
            "bdata": "AAAAAA==",
            "dtype": "f4"
           }
          },
          {
           "marker": {
            "color": "#FFA15A",
            "opacity": 1,
            "size": 4
           },
           "mode": "markers",
           "showlegend": false,
           "type": "scatter3d",
           "x": {
            "bdata": "+xS2wjYQ+MJnFI7CVBCWwVgEscKgwI7CNcnvwu3lscJZTfzChedPwr3fxcL4IjbCrgbiwXomKsLmcnjCVsjOwsnYg8I0hQ7Drusiwj6cxMK+7dTCsSMEwgRZgsL2dyDCBAKFwbMkSsJGvJXCgMMGw4PQ2cIO/fTCSs0twgZDcMJsQ6fC8BS9wvtYuMI+h8fCZDm3wp82lsJdNbHCeGp5wuV7AsPAeGHCTpmfwm5XnMIO6gnDmEhsws3CWcL3VKPCndrVwsJBjMI6L8LC2qvBwnrNi8Ig44nCem3Ywr1fvcKa2ePC2Jg8wmjLscIIGXLC9ZYKwxx6E8OMb6fCONO8wtBnx8JAlEHCdWGmwldg0MKm1qbC7Ua/wrSqUMLIvFrB+BLvwjwzpcIAaerCWmppwv4qtsK4fpDBEajIwiyIdcIiygvDUB2AwMMzvMI+hZDCZLkWwsE7d8KkwmHCRcJFwvhOvcJKbYfCC79+wostmMLk68HCGA8HwWYoJcL4qrXC+1rHwseYGsJgf8rC7lznwrqR1sI0rtzCbLnDwrnXSMIg6jfCIdE8wra/EsMgN5TCSVStwgUIgsJiQZTC++w1wuJVvsKAUjXBT4evwmL4t8L+P5jC2IiFwiRyoMIqUIvCM5u6wrGgw8IfuVfCNee7wsfSoMITwzXCKOvowsZdoMLTlLbCbCGdwh3I6sLRnLHCAxrEwhHqhcK0fovC6a6owg==",
            "dtype": "f4"
           },
           "y": {
            "bdata": "PM3AwmMeh8KfEP7CXNTJwtD9/sLUK7fCoNK1wvRec8JCd5LCiPzJwjQetcIGAbjC6QfEwvnlyMKY51DCRCmpwrqGl8Kuh4/Coo7JwlqjrMI3dJjCjBHHwoov9sJ8DeHCDdrewoJY2cIGTfDCvJ6gwiWzrMJITpnCFtXewrprxsIk5ODCyAxQwjIwrsJgjo3Co9LxwvsqycIerevCzCn+wrupm8JyKKTC7ovlwq/GiMJuEanC1hpmwhiXx8JqcgHD5GbcwqQdt8JMW5HCKB/Twu6TwcIMqEnCKE69wkgMz8Lf5dzCm2iHwpYOz8Lcg/DC3mCSwoj3m8JwhdnCivO4wv7YzsLRMt7CinWOwsQZ3MKn6/jCRLnyws7WfsJ24MzCtde+wnIajsKbecLCGNV9wiJes8KeB7/CyqazwsFO1cK1upvCoH3Zwtqb4sKQgKvCmXDQwrqLkcJsK9PCQ9aLwuAwj8LNqfPCghf9wiGcx8L4wZLCx5rZwnyMwsKr48TCVhSkwiqStcIaN8jC3pTSwqTu18LoLN3CyN+iwl+/iMK3mIHCg7ufwsu3kcK0SaHCNnXpwpfezsK3iwDDdpKYwnzASsJCqdTCyt/twvjFV8JnjdzCEvvlwmk6lcJn67rCuWjuwkmz2sK61ZbCAXnvwhZI5cJOh8LC/SW/wqatzsJI1szCTEmvwtNqisJwROrC3yycwkAgAcMhS6fCVH+uwg==",
            "dtype": "f4"
           },
           "z": {
            "bdata": "AAAAAAAAAAAAAAAAAAAAAAAAAAAAAAAAAAAAAAAAAAAAAAAAAAAAAAAAAAAAAAAAAAAAAAAAAAAAAAAAAAAAAAAAAAAAAAAAAAAAAAAAAAAAAAAAAAAAAAAAAAAAAAAAAAAAAAAAAAAAAAAAAAAAAAAAAAAAAAAAAAAAAAAAAAAAAAAAAAAAAAAAAAAAAAAAAAAAAAAAAAAAAAAAAAAAAAAAAAAAAAAAAAAAAAAAAAAAAAAAAAAAAAAAAAAAAAAAAAAAAAAAAAAAAAAAAAAAAAAAAAAAAAAAAAAAAAAAAAAAAAAAAAAAAAAAAAAAAAAAAAAAAAAAAAAAAAAAAAAAAAAAAAAAAAAAAAAAAAAAAAAAAAAAAAAAAAAAAAAAAAAAAAAAAAAAAAAAAAAAAAAAAAAAAAAAAAAAAAAAAAAAAAAAAAAAAAAAAAAAAAAAAAAAAAAAAAAAAAAAAAAAAAAAAAAAAAAAAAAAAAAAAAAAAAAAAAAAAAAAAAAAAAAAAAAAAAAAAAAAAAAAAAAAAAAAAAAAAAAAAAAAAAAAAAAAAAAAAAAAAAAAAAAAAAAAAAAAAAAAAAAAAAAAAAAAAAAAAAAAAAAAAAAAAAAAAAAAAAAAAAAAAAAAAAAAAAAAAAAAAAAAAAAAAAAAAAAAAAAAAAAAAAAAAAAAAAAAAAAAAAAAAAAAAAAAAAAAAAAAAAAAAAAAAAAAAAAAAAAAAAAAAA==",
            "dtype": "f4"
           }
          },
          {
           "marker": {
            "color": "#FFA15A",
            "line": {
             "color": "black",
             "width": 0.5
            },
            "size": 6,
            "symbol": "diamond"
           },
           "mode": "markers+text",
           "name": "Cluster 4",
           "text": [
            "C4"
           ],
           "textposition": "top center",
           "type": "scatter3d",
           "x": {
            "bdata": "xw2fwg==",
            "dtype": "f4"
           },
           "y": {
            "bdata": "qmq8wg==",
            "dtype": "f4"
           },
           "z": {
            "bdata": "AAAAAA==",
            "dtype": "f4"
           }
          }
         ],
         "name": "frame3"
        }
       ],
       "layout": {
        "margin": {
         "b": 0,
         "l": 0,
         "r": 0,
         "t": 40
        },
        "scene": {
         "bgcolor": "white",
         "xaxis": {
          "title": {
           "text": "UMAP-1"
          }
         },
         "yaxis": {
          "title": {
           "text": "UMAP-2"
          }
         },
         "zaxis": {
          "title": {
           "text": "UMAP-3"
          }
         }
        },
        "sliders": [
         {
          "len": 0.6,
          "steps": [
           {
            "args": [
             [
              "frame0"
             ]
            ],
            "label": "0",
            "method": "animate"
           },
           {
            "args": [
             [
              "frame1"
             ]
            ],
            "label": "1",
            "method": "animate"
           },
           {
            "args": [
             [
              "frame2"
             ]
            ],
            "label": "2",
            "method": "animate"
           },
           {
            "args": [
             [
              "frame3"
             ]
            ],
            "label": "3",
            "method": "animate"
           }
          ],
          "transition": {
           "duration": 0
          },
          "x": 0.156,
          "y": 0
         }
        ],
        "template": {
         "data": {
          "bar": [
           {
            "error_x": {
             "color": "#2a3f5f"
            },
            "error_y": {
             "color": "#2a3f5f"
            },
            "marker": {
             "line": {
              "color": "#E5ECF6",
              "width": 0.5
             },
             "pattern": {
              "fillmode": "overlay",
              "size": 10,
              "solidity": 0.2
             }
            },
            "type": "bar"
           }
          ],
          "barpolar": [
           {
            "marker": {
             "line": {
              "color": "#E5ECF6",
              "width": 0.5
             },
             "pattern": {
              "fillmode": "overlay",
              "size": 10,
              "solidity": 0.2
             }
            },
            "type": "barpolar"
           }
          ],
          "carpet": [
           {
            "aaxis": {
             "endlinecolor": "#2a3f5f",
             "gridcolor": "white",
             "linecolor": "white",
             "minorgridcolor": "white",
             "startlinecolor": "#2a3f5f"
            },
            "baxis": {
             "endlinecolor": "#2a3f5f",
             "gridcolor": "white",
             "linecolor": "white",
             "minorgridcolor": "white",
             "startlinecolor": "#2a3f5f"
            },
            "type": "carpet"
           }
          ],
          "choropleth": [
           {
            "colorbar": {
             "outlinewidth": 0,
             "ticks": ""
            },
            "type": "choropleth"
           }
          ],
          "contour": [
           {
            "colorbar": {
             "outlinewidth": 0,
             "ticks": ""
            },
            "colorscale": [
             [
              0,
              "#0d0887"
             ],
             [
              0.1111111111111111,
              "#46039f"
             ],
             [
              0.2222222222222222,
              "#7201a8"
             ],
             [
              0.3333333333333333,
              "#9c179e"
             ],
             [
              0.4444444444444444,
              "#bd3786"
             ],
             [
              0.5555555555555556,
              "#d8576b"
             ],
             [
              0.6666666666666666,
              "#ed7953"
             ],
             [
              0.7777777777777778,
              "#fb9f3a"
             ],
             [
              0.8888888888888888,
              "#fdca26"
             ],
             [
              1,
              "#f0f921"
             ]
            ],
            "type": "contour"
           }
          ],
          "contourcarpet": [
           {
            "colorbar": {
             "outlinewidth": 0,
             "ticks": ""
            },
            "type": "contourcarpet"
           }
          ],
          "heatmap": [
           {
            "colorbar": {
             "outlinewidth": 0,
             "ticks": ""
            },
            "colorscale": [
             [
              0,
              "#0d0887"
             ],
             [
              0.1111111111111111,
              "#46039f"
             ],
             [
              0.2222222222222222,
              "#7201a8"
             ],
             [
              0.3333333333333333,
              "#9c179e"
             ],
             [
              0.4444444444444444,
              "#bd3786"
             ],
             [
              0.5555555555555556,
              "#d8576b"
             ],
             [
              0.6666666666666666,
              "#ed7953"
             ],
             [
              0.7777777777777778,
              "#fb9f3a"
             ],
             [
              0.8888888888888888,
              "#fdca26"
             ],
             [
              1,
              "#f0f921"
             ]
            ],
            "type": "heatmap"
           }
          ],
          "histogram": [
           {
            "marker": {
             "pattern": {
              "fillmode": "overlay",
              "size": 10,
              "solidity": 0.2
             }
            },
            "type": "histogram"
           }
          ],
          "histogram2d": [
           {
            "colorbar": {
             "outlinewidth": 0,
             "ticks": ""
            },
            "colorscale": [
             [
              0,
              "#0d0887"
             ],
             [
              0.1111111111111111,
              "#46039f"
             ],
             [
              0.2222222222222222,
              "#7201a8"
             ],
             [
              0.3333333333333333,
              "#9c179e"
             ],
             [
              0.4444444444444444,
              "#bd3786"
             ],
             [
              0.5555555555555556,
              "#d8576b"
             ],
             [
              0.6666666666666666,
              "#ed7953"
             ],
             [
              0.7777777777777778,
              "#fb9f3a"
             ],
             [
              0.8888888888888888,
              "#fdca26"
             ],
             [
              1,
              "#f0f921"
             ]
            ],
            "type": "histogram2d"
           }
          ],
          "histogram2dcontour": [
           {
            "colorbar": {
             "outlinewidth": 0,
             "ticks": ""
            },
            "colorscale": [
             [
              0,
              "#0d0887"
             ],
             [
              0.1111111111111111,
              "#46039f"
             ],
             [
              0.2222222222222222,
              "#7201a8"
             ],
             [
              0.3333333333333333,
              "#9c179e"
             ],
             [
              0.4444444444444444,
              "#bd3786"
             ],
             [
              0.5555555555555556,
              "#d8576b"
             ],
             [
              0.6666666666666666,
              "#ed7953"
             ],
             [
              0.7777777777777778,
              "#fb9f3a"
             ],
             [
              0.8888888888888888,
              "#fdca26"
             ],
             [
              1,
              "#f0f921"
             ]
            ],
            "type": "histogram2dcontour"
           }
          ],
          "mesh3d": [
           {
            "colorbar": {
             "outlinewidth": 0,
             "ticks": ""
            },
            "type": "mesh3d"
           }
          ],
          "parcoords": [
           {
            "line": {
             "colorbar": {
              "outlinewidth": 0,
              "ticks": ""
             }
            },
            "type": "parcoords"
           }
          ],
          "pie": [
           {
            "automargin": true,
            "type": "pie"
           }
          ],
          "scatter": [
           {
            "fillpattern": {
             "fillmode": "overlay",
             "size": 10,
             "solidity": 0.2
            },
            "type": "scatter"
           }
          ],
          "scatter3d": [
           {
            "line": {
             "colorbar": {
              "outlinewidth": 0,
              "ticks": ""
             }
            },
            "marker": {
             "colorbar": {
              "outlinewidth": 0,
              "ticks": ""
             }
            },
            "type": "scatter3d"
           }
          ],
          "scattercarpet": [
           {
            "marker": {
             "colorbar": {
              "outlinewidth": 0,
              "ticks": ""
             }
            },
            "type": "scattercarpet"
           }
          ],
          "scattergeo": [
           {
            "marker": {
             "colorbar": {
              "outlinewidth": 0,
              "ticks": ""
             }
            },
            "type": "scattergeo"
           }
          ],
          "scattergl": [
           {
            "marker": {
             "colorbar": {
              "outlinewidth": 0,
              "ticks": ""
             }
            },
            "type": "scattergl"
           }
          ],
          "scattermap": [
           {
            "marker": {
             "colorbar": {
              "outlinewidth": 0,
              "ticks": ""
             }
            },
            "type": "scattermap"
           }
          ],
          "scattermapbox": [
           {
            "marker": {
             "colorbar": {
              "outlinewidth": 0,
              "ticks": ""
             }
            },
            "type": "scattermapbox"
           }
          ],
          "scatterpolar": [
           {
            "marker": {
             "colorbar": {
              "outlinewidth": 0,
              "ticks": ""
             }
            },
            "type": "scatterpolar"
           }
          ],
          "scatterpolargl": [
           {
            "marker": {
             "colorbar": {
              "outlinewidth": 0,
              "ticks": ""
             }
            },
            "type": "scatterpolargl"
           }
          ],
          "scatterternary": [
           {
            "marker": {
             "colorbar": {
              "outlinewidth": 0,
              "ticks": ""
             }
            },
            "type": "scatterternary"
           }
          ],
          "surface": [
           {
            "colorbar": {
             "outlinewidth": 0,
             "ticks": ""
            },
            "colorscale": [
             [
              0,
              "#0d0887"
             ],
             [
              0.1111111111111111,
              "#46039f"
             ],
             [
              0.2222222222222222,
              "#7201a8"
             ],
             [
              0.3333333333333333,
              "#9c179e"
             ],
             [
              0.4444444444444444,
              "#bd3786"
             ],
             [
              0.5555555555555556,
              "#d8576b"
             ],
             [
              0.6666666666666666,
              "#ed7953"
             ],
             [
              0.7777777777777778,
              "#fb9f3a"
             ],
             [
              0.8888888888888888,
              "#fdca26"
             ],
             [
              1,
              "#f0f921"
             ]
            ],
            "type": "surface"
           }
          ],
          "table": [
           {
            "cells": {
             "fill": {
              "color": "#EBF0F8"
             },
             "line": {
              "color": "white"
             }
            },
            "header": {
             "fill": {
              "color": "#C8D4E3"
             },
             "line": {
              "color": "white"
             }
            },
            "type": "table"
           }
          ]
         },
         "layout": {
          "annotationdefaults": {
           "arrowcolor": "#2a3f5f",
           "arrowhead": 0,
           "arrowwidth": 1
          },
          "autotypenumbers": "strict",
          "coloraxis": {
           "colorbar": {
            "outlinewidth": 0,
            "ticks": ""
           }
          },
          "colorscale": {
           "diverging": [
            [
             0,
             "#8e0152"
            ],
            [
             0.1,
             "#c51b7d"
            ],
            [
             0.2,
             "#de77ae"
            ],
            [
             0.3,
             "#f1b6da"
            ],
            [
             0.4,
             "#fde0ef"
            ],
            [
             0.5,
             "#f7f7f7"
            ],
            [
             0.6,
             "#e6f5d0"
            ],
            [
             0.7,
             "#b8e186"
            ],
            [
             0.8,
             "#7fbc41"
            ],
            [
             0.9,
             "#4d9221"
            ],
            [
             1,
             "#276419"
            ]
           ],
           "sequential": [
            [
             0,
             "#0d0887"
            ],
            [
             0.1111111111111111,
             "#46039f"
            ],
            [
             0.2222222222222222,
             "#7201a8"
            ],
            [
             0.3333333333333333,
             "#9c179e"
            ],
            [
             0.4444444444444444,
             "#bd3786"
            ],
            [
             0.5555555555555556,
             "#d8576b"
            ],
            [
             0.6666666666666666,
             "#ed7953"
            ],
            [
             0.7777777777777778,
             "#fb9f3a"
            ],
            [
             0.8888888888888888,
             "#fdca26"
            ],
            [
             1,
             "#f0f921"
            ]
           ],
           "sequentialminus": [
            [
             0,
             "#0d0887"
            ],
            [
             0.1111111111111111,
             "#46039f"
            ],
            [
             0.2222222222222222,
             "#7201a8"
            ],
            [
             0.3333333333333333,
             "#9c179e"
            ],
            [
             0.4444444444444444,
             "#bd3786"
            ],
            [
             0.5555555555555556,
             "#d8576b"
            ],
            [
             0.6666666666666666,
             "#ed7953"
            ],
            [
             0.7777777777777778,
             "#fb9f3a"
            ],
            [
             0.8888888888888888,
             "#fdca26"
            ],
            [
             1,
             "#f0f921"
            ]
           ]
          },
          "colorway": [
           "#636efa",
           "#EF553B",
           "#00cc96",
           "#ab63fa",
           "#FFA15A",
           "#19d3f3",
           "#FF6692",
           "#B6E880",
           "#FF97FF",
           "#FECB52"
          ],
          "font": {
           "color": "#2a3f5f"
          },
          "geo": {
           "bgcolor": "white",
           "lakecolor": "white",
           "landcolor": "#E5ECF6",
           "showlakes": true,
           "showland": true,
           "subunitcolor": "white"
          },
          "hoverlabel": {
           "align": "left"
          },
          "hovermode": "closest",
          "mapbox": {
           "style": "light"
          },
          "paper_bgcolor": "white",
          "plot_bgcolor": "#E5ECF6",
          "polar": {
           "angularaxis": {
            "gridcolor": "white",
            "linecolor": "white",
            "ticks": ""
           },
           "bgcolor": "#E5ECF6",
           "radialaxis": {
            "gridcolor": "white",
            "linecolor": "white",
            "ticks": ""
           }
          },
          "scene": {
           "xaxis": {
            "backgroundcolor": "#E5ECF6",
            "gridcolor": "white",
            "gridwidth": 2,
            "linecolor": "white",
            "showbackground": true,
            "ticks": "",
            "zerolinecolor": "white"
           },
           "yaxis": {
            "backgroundcolor": "#E5ECF6",
            "gridcolor": "white",
            "gridwidth": 2,
            "linecolor": "white",
            "showbackground": true,
            "ticks": "",
            "zerolinecolor": "white"
           },
           "zaxis": {
            "backgroundcolor": "#E5ECF6",
            "gridcolor": "white",
            "gridwidth": 2,
            "linecolor": "white",
            "showbackground": true,
            "ticks": "",
            "zerolinecolor": "white"
           }
          },
          "shapedefaults": {
           "line": {
            "color": "#2a3f5f"
           }
          },
          "ternary": {
           "aaxis": {
            "gridcolor": "white",
            "linecolor": "white",
            "ticks": ""
           },
           "baxis": {
            "gridcolor": "white",
            "linecolor": "white",
            "ticks": ""
           },
           "bgcolor": "#E5ECF6",
           "caxis": {
            "gridcolor": "white",
            "linecolor": "white",
            "ticks": ""
           }
          },
          "title": {
           "x": 0.05
          },
          "xaxis": {
           "automargin": true,
           "gridcolor": "white",
           "linecolor": "white",
           "ticks": "",
           "title": {
            "standoff": 15
           },
           "zerolinecolor": "white",
           "zerolinewidth": 2
          },
          "yaxis": {
           "automargin": true,
           "gridcolor": "white",
           "linecolor": "white",
           "ticks": "",
           "title": {
            "standoff": 15
           },
           "zerolinecolor": "white",
           "zerolinewidth": 2
          }
         }
        },
        "title": {
         "text": "🌌 UMAP 3D K-Means Iterations"
        },
        "updatemenus": [
         {
          "buttons": [
           {
            "args": [
             null
            ],
            "label": "Play",
            "method": "animate"
           }
          ],
          "showactive": false,
          "type": "buttons"
         }
        ]
       }
      }
     },
     "metadata": {},
     "output_type": "display_data"
    }
   ],
   "source": [
    "# Bernat: any setting <1 will cause sorting order artifacts because of\n",
    "# the rendering engine's static sorting order on transparents.\n",
    "point_opacity = 1\n",
    "\n",
    "colors = px.colors.qualitative.Plotly\n",
    "\n",
    "# Static layout\n",
    "layout = go.Layout(\n",
    "    title=\"🌌 UMAP 3D K-Means Iterations\",\n",
    "    margin=dict(l=0, r=0, b=0, t=40),\n",
    "    scene=dict(\n",
    "        xaxis_title='UMAP-1',\n",
    "        yaxis_title='UMAP-2',\n",
    "        zaxis_title='UMAP-3',\n",
    "        bgcolor='white'\n",
    "    ),\n",
    "    updatemenus=[dict(\n",
    "        type='buttons',\n",
    "        showactive=False,\n",
    "        buttons=[dict(label='Play', method='animate', args=[None])]\n",
    "    )],\n",
    "    sliders=[dict(\n",
    "        steps=[dict(method='animate', args=[[f'frame{k}']], label=str(k)) for k in range(len(iterations))],\n",
    "        transition=dict(duration=0),\n",
    "        x=0.156, y=0, len=0.6\n",
    "    )]\n",
    ")\n",
    "\n",
    "# Initial empty figure\n",
    "fig = go.Figure(layout=layout)\n",
    "\n",
    "# Initial data for frame 0\n",
    "iter0 = iteration_meta[0]\n",
    "cmap = {cid: colors[i % len(colors)] for i, cid in enumerate(np.unique(iter0['centroid_ids']))}\n",
    "\n",
    "for cid in cmap:\n",
    "    mask = iter0['point_cluster_ids'] == cid\n",
    "    fig.add_trace(go.Scatter3d(\n",
    "        x=points_3d_per_iter[0][mask, 0],\n",
    "        y=points_3d_per_iter[0][mask, 1],\n",
    "        z=points_3d_per_iter[0][mask, 2],\n",
    "        mode='markers',\n",
    "        marker=dict(size=4, color=cmap[cid], opacity=point_opacity),\n",
    "        showlegend=False\n",
    "    ))\n",
    "    mask = iter0['centroid_ids'] == cid\n",
    "    fig.add_trace(go.Scatter3d(\n",
    "        x=centroids_3d_per_iter[0][mask, 0],\n",
    "        y=centroids_3d_per_iter[0][mask, 1],\n",
    "        z=centroids_3d_per_iter[0][mask, 2],\n",
    "        mode='markers+text',\n",
    "        marker=dict(size=6, symbol='diamond', color=cmap[cid], line=dict(width=0.5, color='black')),\n",
    "        name=f'Cluster {cid}',\n",
    "        text=[f\"C{cid}\"] * np.sum(mask),\n",
    "        textposition=\"top center\"\n",
    "    ))\n",
    "\n",
    "# Add frames\n",
    "frames = []\n",
    "for k, meta in enumerate(iteration_meta):\n",
    "    frame_data = []\n",
    "    cmap = {cid: colors[i % len(colors)] for i, cid in enumerate(np.unique(meta['centroid_ids']))}\n",
    "\n",
    "    for cid in cmap:\n",
    "        mask_p = meta['point_cluster_ids'] == cid\n",
    "        mask_c = meta['centroid_ids'] == cid\n",
    "\n",
    "        frame_data.append(go.Scatter3d(\n",
    "            x=points_3d_per_iter[k][mask_p, 0],\n",
    "            y=points_3d_per_iter[k][mask_p, 1],\n",
    "            z=points_3d_per_iter[k][mask_p, 2],\n",
    "            mode='markers',\n",
    "            marker=dict(size=4, color=cmap[cid], opacity=point_opacity),\n",
    "            showlegend=False\n",
    "        ))\n",
    "        frame_data.append(go.Scatter3d(\n",
    "            x=centroids_3d_per_iter[k][mask_c, 0],\n",
    "            y=centroids_3d_per_iter[k][mask_c, 1],\n",
    "            z=centroids_3d_per_iter[k][mask_c, 2],\n",
    "            mode='markers+text',\n",
    "            marker=dict(size=6, symbol='diamond', color=cmap[cid], line=dict(width=0.5, color='black')),\n",
    "            name=f'Cluster {cid}',\n",
    "            text=[f\"C{cid}\"] * np.sum(mask_c),\n",
    "            textposition=\"top center\"\n",
    "        ))\n",
    "\n",
    "    frames.append(go.Frame(data=frame_data, name=f\"frame{k}\"))\n",
    "\n",
    "fig.frames = frames\n",
    "fig.show()\n"
   ]
  }
 ],
 "metadata": {
  "kernelspec": {
   "display_name": ".venv",
   "language": "python",
   "name": "python3"
  },
  "language_info": {
   "codemirror_mode": {
    "name": "ipython",
    "version": 3
   },
   "file_extension": ".py",
   "mimetype": "text/x-python",
   "name": "python",
   "nbconvert_exporter": "python",
   "pygments_lexer": "ipython3",
   "version": "3.11.2"
  }
 },
 "nbformat": 4,
 "nbformat_minor": 5
}
