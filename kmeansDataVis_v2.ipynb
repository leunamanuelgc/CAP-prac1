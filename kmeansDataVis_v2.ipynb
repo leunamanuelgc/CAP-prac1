{
 "cells": [
  {
   "cell_type": "code",
   "execution_count": 127,
   "id": "136a0079",
   "metadata": {},
   "outputs": [],
   "source": [
    "import struct\n",
    "import numpy as np\n",
    "import umap\n",
    "import plotly.graph_objects as go\n",
    "import plotly.express as px"
   ]
  },
  {
   "cell_type": "code",
   "execution_count": 128,
   "id": "0db8952f",
   "metadata": {},
   "outputs": [],
   "source": [
    "def read_all_iterations(filename):\n",
    "    iterations = []\n",
    "\n",
    "    with open(filename, \"rb\") as f:\n",
    "        # Read header once\n",
    "        n_clusters = struct.unpack(\"I\", f.read(4))[0]\n",
    "        n_points = struct.unpack(\"I\", f.read(4))[0]\n",
    "        n_dim = struct.unpack(\"I\", f.read(4))[0]\n",
    "\n",
    "        # Determine how many bytes one iteration takes\n",
    "        bytes_per_centroid = (4 * n_dim) + 4  # centroid values + id\n",
    "        bytes_per_point = (4 * n_dim) + 4     # point values + cluster_id\n",
    "        bytes_per_iteration = n_clusters * bytes_per_centroid + n_points * bytes_per_point\n",
    "\n",
    "        file_data = f.read()\n",
    "        total_bytes = len(file_data)\n",
    "        n_iterations = total_bytes // bytes_per_iteration\n",
    "\n",
    "        print(f\"📦 Detected {n_iterations} iterations\")\n",
    "\n",
    "        offset = 0\n",
    "        for iter_idx in range(n_iterations):\n",
    "            # --- Read centroids ---\n",
    "            centroid_data = np.zeros((n_clusters, n_dim), dtype=np.float32)\n",
    "            centroid_ids = np.zeros(n_clusters, dtype=np.int32)\n",
    "            for i in range(n_clusters):\n",
    "                start = offset\n",
    "                centroid_data[i] = np.frombuffer(file_data[start:start + 4 * n_dim], dtype=np.float32)\n",
    "                offset += 4 * n_dim\n",
    "                centroid_ids[i] = struct.unpack(\"i\", file_data[offset:offset + 4])[0]\n",
    "                offset += 4\n",
    "\n",
    "            # --- Read points ---\n",
    "            point_data = np.zeros((n_points, n_dim), dtype=np.float32)\n",
    "            point_cluster_ids = np.zeros(n_points, dtype=np.int32)\n",
    "            for i in range(n_points):\n",
    "                start = offset\n",
    "                point_data[i] = np.frombuffer(file_data[start:start + 4 * n_dim], dtype=np.float32)\n",
    "                offset += 4 * n_dim\n",
    "                point_cluster_ids[i] = struct.unpack(\"i\", file_data[offset:offset + 4])[0]\n",
    "                offset += 4\n",
    "\n",
    "            iterations.append({\n",
    "                'points': point_data,\n",
    "                'point_cluster_ids': point_cluster_ids,\n",
    "                'centroids': centroid_data,\n",
    "                'centroid_ids': centroid_ids,\n",
    "                'n_points': n_points,\n",
    "                'n_centroids': n_clusters\n",
    "            })\n",
    "\n",
    "    return n_clusters, n_points, n_dim, iterations"
   ]
  },
  {
   "cell_type": "code",
   "execution_count": 129,
   "id": "4d29fe23",
   "metadata": {},
   "outputs": [
    {
     "name": "stdout",
     "output_type": "stream",
     "text": [
      "📦 Detected 5 iterations\n"
     ]
    }
   ],
   "source": [
    "filename = \"clustered_data\"\n",
    "n_clusters, n_points, n_dim, iterations = read_all_iterations(filename)"
   ]
  },
  {
   "cell_type": "code",
   "execution_count": 130,
   "id": "a9035409",
   "metadata": {},
   "outputs": [
    {
     "name": "stdout",
     "output_type": "stream",
     "text": [
      "✅ First iteration summary:\n",
      "Centroids:\n",
      " [[-7.7161856  -2.0604475   3.9932141 ]\n",
      " [ 3.2392354  -5.739823    6.8399653 ]\n",
      " [-0.6601001  -7.1594553  -4.0171456 ]\n",
      " [-3.8739128   2.8050718  -5.245202  ]\n",
      " [-4.777116    4.3387837   6.561403  ]\n",
      " [ 2.7248707   6.8868494   3.5213857 ]\n",
      " [ 6.165854    0.82427585 -1.5171479 ]]\n",
      "Points shape: (50000, 3)\n",
      "Unique cluster IDs: [0 1 2 3 4 5 6]\n"
     ]
    }
   ],
   "source": [
    "print(\"✅ First iteration summary:\")\n",
    "print(\"Centroids:\\n\", iterations[0]['centroids'])\n",
    "print(\"Points shape:\", iterations[0]['points'].shape)\n",
    "print(\"Unique cluster IDs:\", np.unique(iterations[0]['centroid_ids']))\n"
   ]
  },
  {
   "cell_type": "code",
   "execution_count": 131,
   "id": "666168cf",
   "metadata": {},
   "outputs": [],
   "source": [
    "all_points = []\n",
    "all_centroids = []\n",
    "all_point_ids = []\n",
    "iteration_meta = []\n",
    "\n",
    "for i, it in enumerate(iterations):\n",
    "    all_points.append(it['points'])\n",
    "    all_centroids.append(it['centroids'])\n",
    "    all_point_ids.append(it['point_cluster_ids'])\n",
    "\n",
    "    iteration_meta.append({\n",
    "        'n_points': len(it['points']),\n",
    "        'n_centroids': len(it['centroids']),\n",
    "        'point_cluster_ids': it['point_cluster_ids'],\n",
    "        'centroid_ids': it['centroid_ids'],\n",
    "    })\n",
    "\n",
    "# Stack all points for reduction\n",
    "points_concat = np.vstack(all_points)\n",
    "centroids_concat = np.vstack(all_centroids)\n",
    "\n",
    "if points_concat.shape[1] > 3:\n",
    "    reducer = umap.UMAP(\n",
    "        n_components=3,\n",
    "        n_neighbors=50,\n",
    "        min_dist=1,\n",
    "        metric='euclidean',\n",
    "        low_memory=True,\n",
    "    )\n",
    "    points_umap = reducer.fit_transform(points_concat)\n",
    "    centroids_umap = reducer.transform(centroids_concat)\n",
    "elif points_concat.shape[1] < 3:\n",
    "    padding = ((0, 0), (0, 3 - points_concat.shape[1]))\n",
    "    points_umap = np.pad(points_concat, padding, mode='constant', constant_values=0)\n",
    "    centroids_umap = np.pad(centroids_concat, padding, mode='constant', constant_values=0)\n",
    "else:\n",
    "    points_umap = points_concat\n",
    "    centroids_umap = centroids_concat\n"
   ]
  },
  {
   "cell_type": "code",
   "execution_count": 132,
   "id": "ceb7bc70",
   "metadata": {},
   "outputs": [],
   "source": [
    "points_3d_per_iter = []\n",
    "centroids_3d_per_iter = []\n",
    "\n",
    "p_idx, c_idx = 0, 0\n",
    "for meta in iteration_meta:\n",
    "    np_ = meta['n_points']\n",
    "    nc_ = meta['n_centroids']\n",
    "    points_3d_per_iter.append(points_umap[p_idx:p_idx+np_])\n",
    "    centroids_3d_per_iter.append(centroids_umap[c_idx:c_idx+nc_])\n",
    "    p_idx += np_\n",
    "    c_idx += nc_\n"
   ]
  },
  {
   "cell_type": "code",
   "execution_count": 133,
   "id": "2994bde6",
   "metadata": {},
   "outputs": [],
   "source": [
    "def voxel_downsample(points, cluster_ids, voxel_size=0.1, max_points=10_000):\n",
    "    max_points = int(max_points)\n",
    "    down_points, down_ids = [], []\n",
    "    for cid in np.unique(cluster_ids):\n",
    "        pts = points[cluster_ids == cid]\n",
    "        if len(pts) == 0:\n",
    "            continue\n",
    "        vox = np.floor(pts / voxel_size).astype(int)\n",
    "        _, idx = np.unique(vox, axis=0, return_index=True)\n",
    "        reduced = pts[idx]\n",
    "        if len(reduced) > max_points:\n",
    "            reduced = reduced[np.random.choice(len(reduced), max_points, replace=False)]\n",
    "        down_points.append(reduced)\n",
    "        down_ids.append(np.full(len(reduced), cid, dtype=np.int32))\n",
    "    return np.vstack(down_points), np.concatenate(down_ids)\n",
    "\n",
    "reduced_points_3d_per_iter = []\n",
    "reduced_cluster_ids_per_iter = []\n",
    "max_points_per_iter = 3500\n",
    "\n",
    "for i, (pts3d, meta) in enumerate(zip(points_3d_per_iter, iteration_meta)):\n",
    "    if len(pts3d) > max_points_per_iter:\n",
    "        reduced_pts, reduced_ids = voxel_downsample(pts3d, meta['point_cluster_ids'], max_points=max_points_per_iter/n_clusters)\n",
    "        reduced_points_3d_per_iter.append(reduced_pts)\n",
    "        reduced_cluster_ids_per_iter.append(reduced_ids)\n",
    "    else:\n",
    "        reduced_points_3d_per_iter.append(pts3d)\n",
    "        reduced_cluster_ids_per_iter.append(meta['point_cluster_ids'])\n",
    "\n",
    "# Replace old lists with reduced versions\n",
    "points_3d_per_iter = reduced_points_3d_per_iter\n",
    "for i in range(len(iteration_meta)):\n",
    "    iteration_meta[i]['point_cluster_ids'] = reduced_cluster_ids_per_iter[i]\n"
   ]
  },
  {
   "cell_type": "code",
   "execution_count": 134,
   "id": "e1e0f2ae",
   "metadata": {},
   "outputs": [
    {
     "data": {
      "application/vnd.plotly.v1+json": {
       "config": {
        "plotlyServerURL": "https://plot.ly"
       },
       "data": [
        {
         "marker": {
          "color": "#636EFA",
          "opacity": 1,
          "size": 4
         },
         "mode": "markers",
         "showlegend": false,
         "type": "scatter3d",
         "x": {
          "bdata": "uGwSwdLlD8GdjRvBmbf2wH9X08DkGgjBhMAOwTZ1FMHAVuTAdosAwS2Zk8Dc6b7AMgu8wH7ZB8GCqxrBLLjNwIKiGsE4x+HAhowRwaVUAMEt5AHBCL2FwHmr5MBpaBvBcZX6wCcO/cA0YADBETkIwUW5DMF5yxXBmINqwBv4DMGkx+HA4AANwQpKBME/lR/BPkDQwGSzGcGaTuPAWFYKwaNXEsEzhv7ALcQcwYYmEMGple3A6oO0wODtFMHklgfB+L4AwXRF7sCxlePAKpAGwfbi78CU3QjB12ilwBii3sCFkcnAYEzswFid8MAI1QTA0eLKwDx0zsDIxxzBWx/6wIJAEsGyOQ3BORkcwQMdhMBcKrPAwkgHweNExsCQz/XANP8ewZrLBcHgvgbBIzgcwYhqBcFveRXB2kEKwfwl+sBlSbTAUPaIwA5nqcDGleHA6HTwwMh3AMEMwBnBsjYawYpb78C38xHB/J3mwDEIGsEysBXBriIJwYqPHcF6wRvB25cGwfke1sDuaOnA+DdMwNAavcBErsXAe4DCwFTQC8HxdgzB8zETwclSD8EZmArBA2wfwQ03ysApTRbBQA0bwW3JrsDDWLzAItgPwRmy08D8UOLAyyUUwbEyDsGc4KfA2pTvwEKsHsEughzBzP0EwXxLtcBi9/3AWCmWwM6XD8GQ9AvBmygSwTpix8BQk6jA/bINwdCX8sD/ygvBI+0UwbiLqMD9lwbBFYS7wOpmmsDI71rApFZxwD7sAMEXQqvAD8wHwaWe4cD9QhjB6C78wGwg+MDm5FnA3nHxwClz6sDQatLAZ4newABKF8G4EhLBYTn1wPvrkcDwph/B3eMRwcW058BmI8LACc4DwTSHucC1ywDBG/8PwVbeGsG/ZKfAVcf5wKCZ8sBjhwjB6hjqwB11kMDDChjBfC4YwfN7H8FoddnAdOXLwDtlHsHf1QbBsu4YwS4zF8HhFQbBm6IbwWKa98BethLB+NEdweh+CMH1IRnBTU0Xwbb+FsFqIRPBuGUAwTTuAMHZ9xrBXGR/wI+Y2MA/lxvBwFQPwb1H88BRUhXBM4kbwfss2sAqh+PAWnXuwGlcEsFQsL7AiP3awLxUH8HwDLzAuR6kwOL7vsAqscrAltLDwL4B/MB2GnjAWinwwEpyicCKDADBBGADwf+GlsDaWRjBGyYewXJIAMEVMwbBB2LnwOQC4cBlXQHBYE2XwJ6F08COFx/BNvUbwSyi1MBwJufAYVP/wPS5HsEaSQrBDInFwBfQCcFpXRrBCMwLwa65EMH1+hTBewj2wBJdGsFddQ7BE4vewDDgbMDoOm/AcQkLwd8iCMHCwpvAA1X/wMezFMFbjgDBEGUJwTI++MBIsAjBcVcPwdErmMCEEBrB1PRswCTq9MAwbL/A9Z4fwaynGsHGtBvB+RfhwJQpEcGAMAnBtqkIwU3eHsGnlvDAoJIQwahd78BD4ezAdmvMwOHrH8GCZRnB0Jz1wM5+D8GbQ+vAkmERwT6J8cAjEw/Bw5Qcwa31F8HBggDB5o34wMBeDsFIsQ3BqtYIwT529sAUjfDA304Fwbx+98BFnAjBubWxwJa7C8F2hhnBbcASwW+sA8HQ7gDBANgOwSoBFcFMG87A1CoZwS3sHcFUDBrBAhvOwAyeHMHhqhPBgg4QwQ4kysDpJKrAdgIIwReu3cDmnsXAAYwWwWZfDMFIROnAis78wERU3cDgS/jAktAXwW1EBsHd9QLBFJ7hwAb308BC5v7Al4W5wIlECMFn5x3BzRyvwKU3GsEJ1BrBQOP2wG7L/MAkLhfBhWcVwfmNDMHzMBvB1Tm9wMBkDMEWfKjASEAAwbdb1sBLxf3A8hb0wJDiQsBILg/Bet7bwD2vxsDDBRLBfs/ewFka78CSkRTBDIqlwKkO2cA6PfnAuGvhwIF+scBrnx3BV5cKwX1OnMCmGw/BGlcFwWgIHsGVdIbA9sD3wFYu9sAGH+DAOYESwecOFsF4T/zA1NsZwQLDG8FbjR/BYvoewU+SDsH+YB7BF9gQwRJeBsGoNgDBXoYKwdlwHcERKwzBmvQDwVo85cAM0BXBWNHxwHgUtMDiehbBABkSwTiZ3sAugOnA1XYXwcC9BME0ykfAn1EHwaj968BdHgLB24oRwd4o7cAhXgjBGhLmwJRDpsCDEBPBjS0SwfO1/MA2OgPB+ofTwFgd7sAUAAjA+aMWwRK18cAONA/BlgDgwKIKCcFfAxbBwaHawHkXncAT8xPBghYXwdP008CA9hjB7qUYwUX/AcF2UB3BZCawwEkIAsFEChbBxLLZwAhwBMHjvBrBgz4WwfdIA8GQ7r/AQXwLwbkfGsEgGRzB6XQPwTwH3cAU8x3B6PjswO5KC8H8EQLBauIVwTPcEcGo1+PAVRYGwVY77cAy5/DAHVoNwRpCH8Eq9uLAtu/wwH7nEMGLH9DAU/jmwGN6DcH+yBDBf0iIwOnKEcHito/AD30QwcdzwsB5jpLAJa/7wD6i/sDo7ALBPOgEwaCPxMBWPxjBuGKewDLUkcBs/PvAgximwP7sAcFQUXjAkiUGwXq098C4uwXBxnkQwaAkBMF9zQvBtFn8wHUk4sDhogfBvkHXwI7XEsEs4h3BF/0dwV5pzsCbXBjBJEvZwNsFBcHnFMvAV34Mwe6BBME=",
          "dtype": "f4"
         },
         "y": {
          "bdata": "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",
          "dtype": "f4"
         },
         "z": {
          "bdata": "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",
          "dtype": "f4"
         }
        },
        {
         "marker": {
          "color": "#636EFA",
          "line": {
           "color": "black",
           "width": 0.5
          },
          "size": 6,
          "symbol": "diamond"
         },
         "mode": "markers+text",
         "name": "Cluster 0",
         "text": [
          "C0"
         ],
         "textposition": "top center",
         "type": "scatter3d",
         "x": {
          "bdata": "/ur2wA==",
          "dtype": "f4"
         },
         "y": {
          "bdata": "X94DwA==",
          "dtype": "f4"
         },
         "z": {
          "bdata": "0pB/QA==",
          "dtype": "f4"
         }
        },
        {
         "marker": {
          "color": "#EF553B",
          "opacity": 1,
          "size": 4
         },
         "mode": "markers",
         "showlegend": false,
         "type": "scatter3d",
         "x": {
          "bdata": "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",
          "dtype": "f4"
         },
         "y": {
          "bdata": "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",
          "dtype": "f4"
         },
         "z": {
          "bdata": "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",
          "dtype": "f4"
         }
        },
        {
         "marker": {
          "color": "#EF553B",
          "line": {
           "color": "black",
           "width": 0.5
          },
          "size": 6,
          "symbol": "diamond"
         },
         "mode": "markers+text",
         "name": "Cluster 1",
         "text": [
          "C1"
         ],
         "textposition": "top center",
         "type": "scatter3d",
         "x": {
          "bdata": "ok9PQA==",
          "dtype": "f4"
         },
         "y": {
          "bdata": "oay3wA==",
          "dtype": "f4"
         },
         "z": {
          "bdata": "/+DaQA==",
          "dtype": "f4"
         }
        },
        {
         "marker": {
          "color": "#00CC96",
          "opacity": 1,
          "size": 4
         },
         "mode": "markers",
         "showlegend": false,
         "type": "scatter3d",
         "x": {
          "bdata": "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",
          "dtype": "f4"
         },
         "y": {
          "bdata": "GFUSwS1QEsFlkx/ByIttwM5HoMDAIgvBoBAYwWQNHsGMlMfAXMnnwJb7y8D01rLA+n0MwZ1S6MAAFJrAMrbEwHDd68D3BBXBkyjCwFTLbsAsNsvAOdHmwL8rk8B5/I7A2pLlwFeTwMBZZOTAoxvrwFoqFsHNHKjAmOq6wAq2B8GKuJfAg+UFwW2CBsGrQ9/A0jPgwDGm9sAwzxXBb+DuwPCM/sBBdh/BuWnzwFztfcA2EtfAnJ7zwL9o8cCdWQXBOlj5wPQecMAZMIPAmTWPwAZ6/8CohRvAXRgdwek7G8EccsvA2scLwX9+HcFG1IzAQSL/wFy2VsC9GtLAbvO9wJTVBsG7ZZnAOY4OwYTOE8GK2qzAuKmMwIV4CMFK5a/AVp8Cwfyg+cCMNqnALmiwwNroB8FOcfLAXrfFwH2o/cBzFLPA9lbuwB9jm8CGiXfA9YrlwK586MCmERPBnj7XwASvo8Dr5KTAtDoAwXQPycCZARbBzhd5wH7eFMHIY/jADtxQwBbqnMBfnxfBKffKwDnAAsF3mb/Ao+u5wGn9GMH8JsDAAqYGwYlLi8BSuRDBGIoCwVuF18ABApnAGVAWwTtF0MA8LJTABSaSwLC8ucBoDNzApR+AwK7kBsEAYMTAjRXEwLbS/8COem7ANj8OwTPuEsFylvbABRXXwK6hyMDi9gXBkPcawYM0CMEbrBbBzFAVwfTUi8C8MwjBml8IwXxzssA91x3BrurVwBXyvMCOMJLAAt/dwOrr6MCght3ApzUfwf00vMBtRN7ALaIawextqcB5bebAj6AVwcaju8DnuYvAgCNRwF4q2sAWU7zAIO0TwbolF8F6vBDB7uzlwKtNFMEw2hbB0PDlwHTaD8FA4QrB7uECwfDk2cAuz9nA/XcDweV1psDOtPXA9J4YwTOcEcENwxXB+kYFwTjS5sCHRefAOqLJwPf52sDw2BHBfnOzwAB708BX2xXBxr8HwRpazcBlwv/ADHdiwPe2FMHG2RjB1IixwMhgicDHQBzBLXuFwNpZwcAynMnAUrvTwNqbgcDk3bHAO58VwacSFMERpgHBgwAVwavjjcCanbfAMPeLwFAAEMESDgLBCW/gwNh4GsECzrTAfSi2wNjWo8APEKLA5Q8Owao988B+0NnAbozdwHt3HMGUm9PA7WG5wKRRqsA2IMHAgT0QwQRCFcHJ9qrAKoW1wGkODMHM85/APHHBwC5C1MCQ+v3AFDM2wNkMB8GA1wXB9yIcwdouHsEoYzPADpYGwdYmpsC4zRTB5eGvwBqMGMHiLt/AicoPwahs+8AAkXHAQNgSwbywXcB/9BrB1K7XwO5Vl8AyvxLB0C3awN3sHcH2HuXA0u6XwFLoyMCi6p/A7AKCwPl0GcGe3g7Bocf/wAGLvcBCd0vAQPHDwHwyiMBEXbDAwYTNwJCmDMHct9TAaMcHwVLz9cCX2x7BBnSxwKjFxcBG5fHAQNnxwABPaMAYDA3BHOUHwbHcrsAGurjAXjrCwFmR7cBtGLDAwDnWwLVHHMEzsA/BG/qdwIW9uMC0DBnBbfwFwZDbTMC/nRLBxCm4wD/VgMByh8vAnMrkwP1ABcEuc4rAOJblwOeMh8A1+BzBFOjnwNM3usCBxRDB9O4HwbOiBcFH/wPBRYHwwMENA8G/MtjAgA6kwDbJZMAAPNvAcGIVwXeKCsHM3+LAjmSbwPLE1sAoEhvBbOB1wErnGsGvWgXBAruiwHjYGcFM36XAGy8DwZxnEsEpK6/ACeQdwZ8G2cBajQzBKKPNwOTgCcFc1Q7Bqga0wLZ5HcHEzsbAyecYwUMJDME65fPAjPLZwJ+9v8CO/tbAl/XHwKnEAMEirIXAStncwKUDr8AXNQvBarf2wHht4sBQa8rArHIKwTro28DYSR/B5DEAwc5/A8E0T9zAzgmswL9hAMEIfxLBbyGgwDTT9sB01R3BOQ/LwEBs28BTAfHAN38RwVal2cDMCs7AB3kcwWceB8EQ7xHBjCLpwGzThMCj0Q/BOtEdwX8KusDojBzBhQcewTghm8COdh7BRq7BwLPXCcEWxbbAxkiwwHHr28CoEwTBVNLtwAqE4cCOmR7BYte5wIQnqMBY6jPAQD8SwchHB8HLnQjBt54JwXBssMB6gBXBzVcNwepesMDXqN7AhZgNwQAmBsFlHwrBBgnJwAk+H8HqyvDAuRCPwAsQDcFbaKvAYhiswLC5DMEnzxjBfLbUwKa56cCC49rAo4rIwIfkvsAN653AnpUCwXYZq8B0VYPAUMIbwfB0p8CAKfzA+DzZwDiE+MCUyAvBYYkewaEjy8B4wRHB3KOWwID2HMFMXPvA7rz3wCYkD8HoVsrAmXO6wNJbCcER7h3BQgjtwMy2AsHQsSjAAn7ZwCak5cDyOcTA8n8KwWuEjcAOjLTAuUQYwWjtHcFx1x7BjsftwIoX7sAi6cbAN7vLwKQFtsA6bubA6CfBwNYhGsG5KrjAhiSlwO3fAcEBubrAEbMewQIWDsEySvXAU6vhwLZ+EMH3v9bASN3jwKLI9MAS0ejAdjrYwORHH8GG08fA3mkdwQBt9sDBDsPAhBcZwWs7GMEPKRnBfOsFwaGYzsBHTdrAqSrlwBOczsDt7hfBoLG7wFi2/MDNWwbBVWyUwNBECsHCCsXAmnyXwPLZBcE=",
          "dtype": "f4"
         },
         "z": {
          "bdata": "+AuUvwasiMDTQuzAqSIMwajD9D/k8G/A0EDYP8RTD8A4aA7A4Ap6P6Y2NsCBBOXAeCqrwGwWAMEwHBTBMDSGwFhu3MAcsdrAwxYKwVoZ08CgrwPBf0kSwW+/EMHII+XAUAxSv9j72sBN1gTBUCo2P8QT/cAAj27AGDrywFw4+sApiKvAgH6pv/grIUCAydu9YEZcwIjftr8syYnAQNOUwGgxgMCqfwnBEM9twNa70MAWJ4NAz3OBwJ+po8DWxxvBiDLRP4A9Eb/YnaO/EA20v4TYC8HZyx3BgCzXvogvysBdxo/AC3IFwQaT/sDMzdHAPAlBwMiBEcF4ao6/uD+dwPjaEcA/MNHAweKEwIgJMkDvoQnBYaCGwK2QHsHYkO2/dDwKwBAs2L981D3AjDwkwCbCAMFw+Le/6MDkwJwXIMAwkNY/rIOOwPZOz8CA0oY9NDw4QBp6+MCQqs0/kpUIwYJUYsBqThXB3e8QwcJwr8BLptvA1LlDwIyXscBiaUfAblXSwMbvA8FOIU7A1vLAwENbFsEVWxPBpJ08wAzosUD/AQTBBtWSwLjOHMHAH6M+NujbwAW/tsCzr83ACqf0wNwvgMAs5QrAbpkgwDJzg8B14oTAuhsVwIA1Lj8g2e0/gNDJPYg71b9FKQfB/xoGwXTrjsAqdejAZe8Gwbuf0MD8JhTAFtgCwZydB8CUlS5Az0jmwOjrjz+UbyTACozlwMCX5z+/N83AEFHbv2C7xT4ssFHAABuOPXSK6sBIrFHA4LzFvvdky8Aoc7G/DLTLwMbjHcGE1NvArODxwABouTyxm9TAKBxbwA7C/cCBt8DAMJ0Gv1j+zb+8fHfATpb0wABlbj2rQ5zAUmYGwZQu6cBXCNPA5p8GwQodGcHowBbBGOGMwB2IHsFAgUs/nOhxQKsntcARJpLApJQEQLbvzcD4DoRAnPMFwV/bAcEW5NvAyCAsQAh4lcCPlAHBj4CAwJNvDsG4cxRAeW6ZwCjQe0DkwhDB9lWzwCAUZD/AUxS/luDgwGqWiMAXJqrAoJ9Rv+d2AsFg+bq+cLqTwDZ7usDrD7rAMDHEv9Ecu8AmxK7Am8EDwcCpuj44OwPBCGwkwH+Zl8AAbsy9wM23P1h+oz/pD8fAYLYJwWjDkD+/AOjAHLkWwe6/isCo3Nw/lc61wFhfecBBMhfBYGtrP6B42D/QXEzApM4AwY8AHcEgwvnA8Fqpv+BGR7+x8cfAjxzcwIUFhcCdDLHAhu2UwFHf4sBtgQ/BoM63P2qWucCiZZ9AJrwJwLJI1cDYliJAFMEswGDXBr85YePATpHqwBzBH8EocL+/fPaEwJaUcMCGqanAIEDAvtbt48CiuIvAzFTawDSs0MAWPQHBGuKIwKAIIj+m0ojAqNV7wOB75b69NRvBPALWwJD2/78oVPTAp7QbwaJjrcBcExTAIHuLP9pSwMBIaP3AIHlDwLZP48BgyOTAsqMJwDTjG8H/g7DAyjoTwaJH4MAASiy9AIT2vL7W08DSCb7AgufhwIDDNT88kMLAMK4LwAkCE8Em/h3BMNf6P34o7sDYnRXBYOVlv+6o9sAujSPAZNAMwZQrZMC4cvrAxWKIwAqbY8CwxBtA8PR2P04LIcCJRQ7BzQKUwFCVDT9gOe++4I0Xv76Xd8ByGZLA2Hqjv/AQOb94ThTAdYwXwQClJ0A8rAHBurqnwPCq5L8Qnvy/9QLkwBxIOsAALD69tEgsQGBIF8HauQbBYIUswOG64cCMhMnABC8vQDAnEr8pDwnBkOAOwAWk38A46/a/Eg8XwYw/lkDAHdW/gAJjP5A9dsB5no7AfP/zwGXryMDsR4PAnMBHwGvuH8FIpsrApg0EwQC2Gj2ADgW+aHX9wLZBm8C+ncvAIOezPoBWVb5SdwrBpwMFwXhIAcCsEVXAkyUJwbriC8HA1KpAKD4rQMFFE8GeVgnBal+HwBOj3sA2lQjB0BWzPwn47cDUPQhAUMelvxRzIEBQ7QHB0oGowL04D8FY1L2/cEyzwADJ2L5SBKlArL+WwCiz1sDgobk+xYCXwCB4h77Qeba/MK1Uv1MPDsGk4fXAUKyrP/iIkb+qaR3BH0QSwfXlB8HWbRfBKEOlwBgsvcC6zYLAVG8FweCq+L9Sq5rAdKETQEvmBMFe3AnBpE8EQBYmjsC2tq3Ar0QFwex6aEBEMmlAoBV8wLAc1D/sKjbAwB8Bv+e5DcEAIJ+9fzG8wDO3A8HxTuvAgIoJv670jMAw3VI/mW8bwT7H/MAwCCQ/JnRRwJTqKcDS0vLACFQZwZY3QMDAOVq+rqXhwJztVUCYxrG/MMu2P5DyE795JhzBUMqGvzQLWsD0S8/ACj7XwODzx79jhh/BNJjswKfRhcCJxwPB8IJYvwXFE8E3qwfBivTywArQh8Cbr+rAbd0GwZpKb8Bwida/UBMAwe+7BMEfVQHBamsXwVCqEUD/xODA6pXWwLbOncA+WyTAypP0wMxbG0AYi0XARk4dwaUgzMDUQOvAIA8Mv04M28CIvuvACOhtQOTCc0AyYrnAYBiWwIPUjsBwusy/cBOKwMQSOsDMzOjAQM//P8Y6BcEPRwTBonQQwQDbjj0A4L68qR7hwLoKLsDek3bAlH9VwCQLcMAkEdXA1WmnwGD+8L9+1bnAACRHwIw4ecA=",
          "dtype": "f4"
         }
        },
        {
         "marker": {
          "color": "#00CC96",
          "line": {
           "color": "black",
           "width": 0.5
          },
          "size": 6,
          "symbol": "diamond"
         },
         "mode": "markers+text",
         "name": "Cluster 2",
         "text": [
          "C2"
         ],
         "textposition": "top center",
         "type": "scatter3d",
         "x": {
          "bdata": "Uvwovw==",
          "dtype": "f4"
         },
         "y": {
          "bdata": "QhrlwA==",
          "dtype": "f4"
         },
         "z": {
          "bdata": "dYyAwA==",
          "dtype": "f4"
         }
        },
        {
         "marker": {
          "color": "#AB63FA",
          "opacity": 1,
          "size": 4
         },
         "mode": "markers",
         "showlegend": false,
         "type": "scatter3d",
         "x": {
          "bdata": "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",
          "dtype": "f4"
         },
         "y": {
          "bdata": "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",
          "dtype": "f4"
         },
         "z": {
          "bdata": "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",
          "dtype": "f4"
         }
        },
        {
         "marker": {
          "color": "#AB63FA",
          "line": {
           "color": "black",
           "width": 0.5
          },
          "size": 6,
          "symbol": "diamond"
         },
         "mode": "markers+text",
         "name": "Cluster 3",
         "text": [
          "C3"
         ],
         "textposition": "top center",
         "type": "scatter3d",
         "x": {
          "bdata": "MO53wA==",
          "dtype": "f4"
         },
         "y": {
          "bdata": "TIYzQA==",
          "dtype": "f4"
         },
         "z": {
          "bdata": "stinwA==",
          "dtype": "f4"
         }
        },
        {
         "marker": {
          "color": "#FFA15A",
          "opacity": 1,
          "size": 4
         },
         "mode": "markers",
         "showlegend": false,
         "type": "scatter3d",
         "x": {
          "bdata": "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",
          "dtype": "f4"
         },
         "y": {
          "bdata": "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",
          "dtype": "f4"
         },
         "z": {
          "bdata": "YCsRQQCbA0Ggn5E/jLopQPAQ80DoJhBBsGkKQQRCx0AYTPhAyJUXQYDp/UCgp4lAhjAaQTjd/UAATgRB+E8NQUgN0UA4l/ZAuJEcQQgCxUBKbAVB/ABCQLxhmkAwKXNA0HHaQLC5F0HuGQ9BIl+/QFzc9kD6HQVB0JT3QCCjMECAV9g/wEcVQQQWwUC8Lc1AoMsZQYD6rUDUUeVAoGgYPzKPmkDMfhdBYNtQP8Q720DSXbZAUnsAQWB+x0CUThhBeAYVQcA7G0GIbwZBZDP1QCJiA0GARv9AYgcYQXxh5kDEM+pAQPPyQHidbkDUW/1AFqkSQTY7rEBAmfFA2HGnQND42kDWYZ1ASNrPQGxxHUHs6uJA+AQkQAB5DkEwPD9A9qgQQUTFEUCcMHFAaKX1QCBGxEDWVRNBBNOjQEz3nkD4Jx9BkK/rQBAqq0C8WMBAGMNzQCQOyUBI0PNAwsG5QDiynkBgXflA+OfuQPTNHUFY38NAlpGPQJjyGkHmQhdBHIkfQCQHHEAwpW9AdHgPQQD+/kBelplA0PS+P8g1D0F4BvdAWCT+QEA5oj5IvO9AGPu4QOAYxD88F+BAdmy6QOjw+kDgLulAbkEaQU5oFEHw0+M/JFdAQHSiSUBGywdBWAMJQViQ1EAgxtRAbtMdQTxmdEDYBow/PNEOQSha9EAEd3dAoILcQIgKG0FQW+pAJGibQET92kBQ6MlAoNYeP0bhCUF8gANBeIh6QCA4V0BoCrtARIvqQFQrSkA6Yw1BkHDDQJBe/UBedwdBHuWaQC7QCUGSrRBBlCtgQNx6G0EA1GVAnBgwQK52F0GkO2RABme3QJQC00BEXqtAFtEbQeApFECQvftAPJz2QE6hDUHgMTRAaD9vQEh44kC4s+FA/OMrQBA0uEAkwNNAKGgKQWji8UCcvxZBZN29QNj50UAoVxBBRJLeQLwtRED8u5tA2osDQYb/CkFgYolAIP4BQZxTxUCE79VAoOX8QHCLc0DaMRxBui8AQQS/70C46K5AeA8cQJqlHEGmCqZA7I0NQa64tkB0vgxBJHhuQJRrBUEIks1AQDn4PjQx40DifQNBzIbyQBg/u0BwoNtAwu4cQYA3eUA0Tw1BlMn6QPiA2UBEP+5AhGXoQOosDEFwZ7hAGCgFQYALXUAsMm1A7ItYQHCUJ0BQtnBAbJAXQT6Cg0B0I7JAgk4PQQzxFUFkCNdA2tqmQAhS6kAuLhFBdF36QExBlkDMIOFAKNXBQNgUiEDc991AHN+sQAjqBEGcHAlBWIV3QIgYz0BWWwdB2Iy+QGSFbEBCfhVBOKWIQOC74UAw3yNAqIH1QNzgB0HAeAs/rKTBQMxMEEFoQf9AwDvSQMAUFEFIf+tA8IPZQBhA7EAII/tArIq8QIZtu0D+WBxBSHkeQZzSCUHIPcNASHkBQIRjHUHQUM1AZFz+QMi970AyWAxBzpcHQVTEtUCsU7NA6HbdQPCNiEAAEj4/QMHFQGZSn0CQJnFAQKoDQcQ1H0HEGhFBxKsbQXD/ZEAyU4xAmKb+QAgTAkFwFCNA8AAEQaC/2kBs/aBAxMXkQMz7s0D8WZpAgDTHQAyg90C+0BpBICKQQMjHGUHAwQVBCtkEQRIlkUBQexBBOhEKQWym0UCofFRA4POzP6BnE0AaPqBAwBTZQJQp9UAoWLFAkHmXQAzL0UCovgRB1LiYQNQ+pECUKbtA5PkHQWBxwUCQ7uk/ssGdQBwVG0H8vcJAGJf9QKhNF0H0fbhAbMqZQPh42kDgitVAGOTsQFDhqkCKuhZBHDMAQfBXVkAoIxJBIPFBQJajtkAoTxNBPj8YQRwaxkB83eZASHDjQMiL/UAQ++BAcDacQLRr2kAMExFB9J2YQNh+0UBYovRA6uMWQQxAF0E6wxNBlDRlQA5MvEDYXsZAkP1PQDrlHkHa6JRAaEPXQOzZ5EAS/BNBeJIEQcQexkDIS9FAKHsMQUwQskC+LhZBWKsbQZIYtED01+1AILY7QIhbSEA2Er9A2AWXQMDdvkDWwgpBbBS6QAirH0E03AtBCCgfQTRuQECICzFAQEYQQaj0k0BEcPJAIMC1QHrDHUHwBKZA7D7fQM56AUHyUwZBVpAEQf4jHEG+NgVBgF0XQcahHUEI9gJB+rKqQBQki0A6SB5BShsQQZTIrkBAxopAdFYeQEhF4UDGax9BUBjTQBD6E0FMYgVBPLqZQNDk7j+wQfVAFMb/QDRNCEBgrAlA7i8QQWjj2kBClxJBdAu3QCZSmUAuNh5ByDr6QFyGKEAAaANB+F/SQHgBsUBoVIRAyLWzP9hu40AiSgJBLm+SQBqzj0DwDKRAqF7IQHQu40BcAwFBaOPwQLrCGEGaUaNAMmOLQEB430DeWABB6DnvQDAg80BQrR9BeALEQIiVvEAknZNAYAQKQcyLCEHkRxVB9DiYQKRO/EAECQJBoHW8QEAmykDsWgdBwJyKQGLTCkFYcaVAkI8IQaSf30DIUYpAjioWQbhc+kDi9QlBgMbpQDStGkGgRDVA5p4GQbiuKkAAZdg/GNQbQWYBjkCUVo1AeCWCPzIygkCU58ZA4n8dQZSw9UD44aw/8H8IQOK0GUFwKy5AWnEdQaDAkkDi+w1BnhMfQdI9CEHcgfVAhDnKQNQVgkBeCx1BoNsiP1LlEEE=",
          "dtype": "f4"
         }
        },
        {
         "marker": {
          "color": "#FFA15A",
          "line": {
           "color": "black",
           "width": 0.5
          },
          "size": 6,
          "symbol": "diamond"
         },
         "mode": "markers+text",
         "name": "Cluster 4",
         "text": [
          "C4"
         ],
         "textposition": "top center",
         "type": "scatter3d",
         "x": {
          "bdata": "It6YwA==",
          "dtype": "f4"
         },
         "y": {
          "bdata": "UdeKQA==",
          "dtype": "f4"
         },
         "z": {
          "bdata": "A/fRQA==",
          "dtype": "f4"
         }
        },
        {
         "marker": {
          "color": "#19D3F3",
          "opacity": 1,
          "size": 4
         },
         "mode": "markers",
         "showlegend": false,
         "type": "scatter3d",
         "x": {
          "bdata": "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",
          "dtype": "f4"
         },
         "y": {
          "bdata": "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",
          "dtype": "f4"
         },
         "z": {
          "bdata": "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",
          "dtype": "f4"
         }
        },
        {
         "marker": {
          "color": "#19D3F3",
          "line": {
           "color": "black",
           "width": 0.5
          },
          "size": 6,
          "symbol": "diamond"
         },
         "mode": "markers+text",
         "name": "Cluster 5",
         "text": [
          "C5"
         ],
         "textposition": "top center",
         "type": "scatter3d",
         "x": {
          "bdata": "SGQuQA==",
          "dtype": "f4"
         },
         "y": {
          "bdata": "EmHcQA==",
          "dtype": "f4"
         },
         "z": {
          "bdata": "Yl5hQA==",
          "dtype": "f4"
         }
        },
        {
         "marker": {
          "color": "#FF6692",
          "opacity": 1,
          "size": 4
         },
         "mode": "markers",
         "showlegend": false,
         "type": "scatter3d",
         "x": {
          "bdata": "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",
          "dtype": "f4"
         },
         "y": {
          "bdata": "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",
          "dtype": "f4"
         },
         "z": {
          "bdata": "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",
          "dtype": "f4"
         }
        },
        {
         "marker": {
          "color": "#FF6692",
          "line": {
           "color": "black",
           "width": 0.5
          },
          "size": 6,
          "symbol": "diamond"
         },
         "mode": "markers+text",
         "name": "Cluster 6",
         "text": [
          "C6"
         ],
         "textposition": "top center",
         "type": "scatter3d",
         "x": {
          "bdata": "rU7FQA==",
          "dtype": "f4"
         },
         "y": {
          "bdata": "vgNTPw==",
          "dtype": "f4"
         },
         "z": {
          "bdata": "5zHCvw==",
          "dtype": "f4"
         }
        }
       ],
       "frames": [
        {
         "data": [
          {
           "marker": {
            "color": "#636EFA",
            "opacity": 1,
            "size": 4
           },
           "mode": "markers",
           "showlegend": false,
           "type": "scatter3d",
           "x": {
            "bdata": "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",
            "dtype": "f4"
           },
           "y": {
            "bdata": "pyQFwVlWFcGU6w7ADDXkwEACtL7a/EHAuDrjQIR29EAWx8PAkE7awJDE4r8wsio/OD9mQD5fyMCG9DnAkNlhvw5TnMCUo37AmEGWP2TzpkCA23W/gnMAwFBAgUBU2tzAqmKSwDxtV8A49CVAYeyswAxQE0FFG6jA3OIkwAzu/8BAFQpAoDwTwLz8hMBYgj3AHDwQwFjg+j+wqv1AmKiKvxh9k0DCSJdA4jX3wHYz9cB+L4zAvV6lwMwnBsBwLUo/Glo2wAB1B73sKaHA3qkXwLA4zD/gOgG/yOrvv+6nesB4MN6/IJeWQABShj1w1n/A4nQUwINbvcB3eabAQOWEPsZWysCwtadAIFoxwMjTzL9yvvDA8B/hQID8EEAOcBDB1icXwYyg5sCghpO/QC6hvmBNlcAeqQvBABYOvr9ZksAKskLA3IknwKTIWcACvZHAKMOEP/pPPcBANc+/pPuIQODrLsC4S1lAgLPfv8rslUBcc+pAsPIBQe2SHcEs+/JAq63zwLR1JEAAF7y+fFt6wHE60cCAikG+aGllwG2WkcAKy73A9feZwPUro8CW1wzBc/v/wJH82cDw2EE/kMcUwBiLcsCUQfHAiicPwGgwqz/UOu5ACJLqv+KtGcEwKcu/3pw+wIB4Jz5Mc3HA8LDSv2ISYsBz2xTB2Y2DwIH83cCwn8/AMJRsQOqOT8DKEkvAFG6CQEv/u8DAPiK+wOV9Ptg+a8Ay9xHBYFYSv6TqHED0sovApg4ZwDi2l78AKoXAsj8TQfgiQsCO+bzAyraXwFKWs8BuBwrA/jiuwAKW3sCOmIFASDunwABaA0C+bpLAoiCxwOAqn8C0SfpAxwD0wAxsTsASnUjASF++v9/Xq8CwdFE/DEg3wHd3mMCefCPA6GFKwA9vAsGQ/tg//WeRwAD4Dz0caO9A/GWbwCCqCMBcyLvAnk4hwEhByMBQnZe/oFhhQJLWE8GG7wfBYGLUP0UT/sD4mQ1AMOhnQMSw80AK2p1Ai+y/wEbME0EaxeXAbFazQD3JvcDfPKbA/C0xwLgH78BqgAvAQF+yv+qb5MC0yMRAfAOdQOQue8ASKJ9A3H3ZwICIMj7oSzNAAOHlP+CkrL9geI3AuIdHwMix/T/a12HA+HaDv6g8AECsVU7AEDM7P39Mx8DQq+rAOLgnQDf1pMAUY8HAeNf6Pxn4BMH0o6FA8IYtQABCWkDYyfq/aF++wMYR8cC7TLDA4LuSvgSLlsDM6gNA2FgHwJiC079c9BTAOLQFQHiDzsBXepbAhH0XwBRcTsBqZrFA+LACQET+xMDOTZbAyrWCwJxpZMDQ9Zu/3m3wwIARvj2gqvE/hNIZwXsZHcEUm8jAp4CcwKzVfkCuQABBpgPEwJMPuMAE6XxAUZ27wOD7Xr/Yf74/wq+KwKuXicBAMT1AKA68v/AS5cCjxvrAYPGUP8cXHcEkBClAvVPNwJgRL8Biht7ADvmjwFofg0CA4pY+9IvfQHBlQT/m/KbA1oKywEI2eMBcPH5APu0dQYAOj759AhfB8OOqv0DquUBASxHAEcyywB9z5cAri4XAUnAbwY9E68Dv5rXAsKoev6EWhMBkUBxBOB2pQBglxr8gmQi/vMFQQM7ZmkCFlrbAvKWAQNgq3j86K0/AmnkewFQihkCgQBzBgKYOQEKIp8A4YYXAeriLwNQUy8CILPo/wBDzvrymN8CAZ40/yKMWwJyXyUBo07HAI4IFwUCtwL6cVUvAKtzZwMwWwEBgwOU+oK/jvgiB0UCAnG8+dnKPwPirgD+ox82/fta8wO4iWMCYxoTAzu88wGjSXsDLYZHAAKISPqBh1z9wtv0/zH/2wMiQ77/oRtO/AK/OvrIBeMAQa4ZAxHTeQI5KoMBQl01AdGaEwPBOtL8wPCFAs9/YwJipv8C6AYPA4GilvnDnqMCI048/+HrDwJCIeT+sLxzAKhO7QJj9n8CQOLi/dNrtwAzzrMAE7RjAeIoAwYIGA0GAmpHAQGlov0qS0sDYGe8/ps9RwOhtjUAsA79ATg7RwPKDjECE0Z1AKBXWP7BFbEDMx3jA1pOhwJAPQ8A0WwXB+Dq+QBgAKUCI3dy/yrQlwCj2J0B8iwzAP0HYwN1UH8FEBEHAeDHwwLkquMC42zLAxeihwEDZ67/UPOjAgBc5wByRVsB8NI5AaBkYwAg9zEDm/dXAOGj/PyDWVcAc80vA0BaOv8SdrECXEt3AYDzCPx7sxcDj2gbBXJRVwCK278BndBHB/PEjwDjIL8CuLcTAVLwbwAZ208DgDZk/mM7eP6D1kkCoBHDAVRa2wCZo38AX267AhVcQwcg0uj/PAL3AUKsDv1hDhT+AmhbB5DQfwCCqCz+ABjtAqGrmv5yZJ0CA556+AD6BvWTHBEAmzH3A6lqywEhB3sDGijbAYfLOwOCUA8BinmDAnnC7wMD3Fj+mU6LAQFW+P2wSJMDYD3nAcYDWwDhoD0C+w1fAOJqgvyB8I7/2mxXApqCKwOQlKUDpC6XAVi65QEBP3b+4VY8/sbiGwBZcX8ClupvALjOEwD1o8cCY6wDAg96iwLatjMAA0Ok9tEEtwAgfsj873ILA9ERyQFg2TcAtV4bAvnLuwMANVT/csk9AD/oJwRh52b+GPOfA6s2RwIAmjb+4C0fA6PPQQDgLtsA=",
            "dtype": "f4"
           },
           "z": {
            "bdata": "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",
            "dtype": "f4"
           }
          },
          {
           "marker": {
            "color": "#636EFA",
            "line": {
             "color": "black",
             "width": 0.5
            },
            "size": 6,
            "symbol": "diamond"
           },
           "mode": "markers+text",
           "name": "Cluster 0",
           "text": [
            "C0"
           ],
           "textposition": "top center",
           "type": "scatter3d",
           "x": {
            "bdata": "/ur2wA==",
            "dtype": "f4"
           },
           "y": {
            "bdata": "X94DwA==",
            "dtype": "f4"
           },
           "z": {
            "bdata": "0pB/QA==",
            "dtype": "f4"
           }
          },
          {
           "marker": {
            "color": "#EF553B",
            "opacity": 1,
            "size": 4
           },
           "mode": "markers",
           "showlegend": false,
           "type": "scatter3d",
           "x": {
            "bdata": "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",
            "dtype": "f4"
           },
           "y": {
            "bdata": "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",
            "dtype": "f4"
           },
           "z": {
            "bdata": "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",
            "dtype": "f4"
           }
          },
          {
           "marker": {
            "color": "#EF553B",
            "line": {
             "color": "black",
             "width": 0.5
            },
            "size": 6,
            "symbol": "diamond"
           },
           "mode": "markers+text",
           "name": "Cluster 1",
           "text": [
            "C1"
           ],
           "textposition": "top center",
           "type": "scatter3d",
           "x": {
            "bdata": "ok9PQA==",
            "dtype": "f4"
           },
           "y": {
            "bdata": "oay3wA==",
            "dtype": "f4"
           },
           "z": {
            "bdata": "/+DaQA==",
            "dtype": "f4"
           }
          },
          {
           "marker": {
            "color": "#00CC96",
            "opacity": 1,
            "size": 4
           },
           "mode": "markers",
           "showlegend": false,
           "type": "scatter3d",
           "x": {
            "bdata": "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",
            "dtype": "f4"
           },
           "y": {
            "bdata": "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",
            "dtype": "f4"
           },
           "z": {
            "bdata": "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",
            "dtype": "f4"
           }
          },
          {
           "marker": {
            "color": "#00CC96",
            "line": {
             "color": "black",
             "width": 0.5
            },
            "size": 6,
            "symbol": "diamond"
           },
           "mode": "markers+text",
           "name": "Cluster 2",
           "text": [
            "C2"
           ],
           "textposition": "top center",
           "type": "scatter3d",
           "x": {
            "bdata": "Uvwovw==",
            "dtype": "f4"
           },
           "y": {
            "bdata": "QhrlwA==",
            "dtype": "f4"
           },
           "z": {
            "bdata": "dYyAwA==",
            "dtype": "f4"
           }
          },
          {
           "marker": {
            "color": "#AB63FA",
            "opacity": 1,
            "size": 4
           },
           "mode": "markers",
           "showlegend": false,
           "type": "scatter3d",
           "x": {
            "bdata": "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",
            "dtype": "f4"
           },
           "y": {
            "bdata": "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",
            "dtype": "f4"
           },
           "z": {
            "bdata": "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",
            "dtype": "f4"
           }
          },
          {
           "marker": {
            "color": "#AB63FA",
            "line": {
             "color": "black",
             "width": 0.5
            },
            "size": 6,
            "symbol": "diamond"
           },
           "mode": "markers+text",
           "name": "Cluster 3",
           "text": [
            "C3"
           ],
           "textposition": "top center",
           "type": "scatter3d",
           "x": {
            "bdata": "MO53wA==",
            "dtype": "f4"
           },
           "y": {
            "bdata": "TIYzQA==",
            "dtype": "f4"
           },
           "z": {
            "bdata": "stinwA==",
            "dtype": "f4"
           }
          },
          {
           "marker": {
            "color": "#FFA15A",
            "opacity": 1,
            "size": 4
           },
           "mode": "markers",
           "showlegend": false,
           "type": "scatter3d",
           "x": {
            "bdata": "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",
            "dtype": "f4"
           },
           "y": {
            "bdata": "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",
            "dtype": "f4"
           },
           "z": {
            "bdata": "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",
            "dtype": "f4"
           }
          },
          {
           "marker": {
            "color": "#FFA15A",
            "line": {
             "color": "black",
             "width": 0.5
            },
            "size": 6,
            "symbol": "diamond"
           },
           "mode": "markers+text",
           "name": "Cluster 4",
           "text": [
            "C4"
           ],
           "textposition": "top center",
           "type": "scatter3d",
           "x": {
            "bdata": "It6YwA==",
            "dtype": "f4"
           },
           "y": {
            "bdata": "UdeKQA==",
            "dtype": "f4"
           },
           "z": {
            "bdata": "A/fRQA==",
            "dtype": "f4"
           }
          },
          {
           "marker": {
            "color": "#19D3F3",
            "opacity": 1,
            "size": 4
           },
           "mode": "markers",
           "showlegend": false,
           "type": "scatter3d",
           "x": {
            "bdata": "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",
            "dtype": "f4"
           },
           "y": {
            "bdata": "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",
            "dtype": "f4"
           },
           "z": {
            "bdata": "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",
            "dtype": "f4"
           }
          },
          {
           "marker": {
            "color": "#19D3F3",
            "line": {
             "color": "black",
             "width": 0.5
            },
            "size": 6,
            "symbol": "diamond"
           },
           "mode": "markers+text",
           "name": "Cluster 5",
           "text": [
            "C5"
           ],
           "textposition": "top center",
           "type": "scatter3d",
           "x": {
            "bdata": "SGQuQA==",
            "dtype": "f4"
           },
           "y": {
            "bdata": "EmHcQA==",
            "dtype": "f4"
           },
           "z": {
            "bdata": "Yl5hQA==",
            "dtype": "f4"
           }
          },
          {
           "marker": {
            "color": "#FF6692",
            "opacity": 1,
            "size": 4
           },
           "mode": "markers",
           "showlegend": false,
           "type": "scatter3d",
           "x": {
            "bdata": "bGpUQJAg6EAUE7BANEKjQNh8eECAF3c+RGrUQCzuH0DsmltAmNb3QApDAkF079ZA9JAGQZgvBUHAgj5AWp8FQby410BauQlBjLLBQDxIzUCQQAFAGEp1QFZWB0H87BZB8GnYQJSmvECYFBJBmPK9QBRPq0AsUORA4hQCQQJeHUH8QvNAvPfWQPgX1j/E8tRAbLMTQTwnA0C4adtA6qCcQEwxakAUSc9AqnwXQdi2m0CSzx9BkLHtQCyYF0FwZ5lAbCIJQSCB7UCcYaFA9BkBQQD8iLwY3PM/5EcLQWTz7EDsp89AQEWRQLztXUBYvORAoH8LQYzHjEDg1bw//s4JQciPo0DMq/lAyH/zP4jkG0BQA+JAuFzcQKws2kCMaFNA8PRLQPyrFEGqphBBGNKrQMTmi0AoqBFBYMHYQIDFOUB+MLJAqIkzQI6THUG4TPdA4kUHQfw6r0CsdBxBVDsZQVA1ikCKsZtAEDXsQEjzZEB0m9xAvkUVQfz3GkH89whBDk6NQIptCEGIldZA0CWIP3A3vkBwog9B9I4DQQzi7kBaZrBAOHdFQKD6/kBAf+FAeMbGQMjkDUGAMBdBTnEOQUw780BAwIdAEKHyP7ipSEC4juJAAHM0QEC1GkEoGAVBbJtVQACgukD8PN5AoMrkQLzB+EDMfJRA3JFhQERgIUB0YfhA7jC6QFQU/ECwzGFAAIwzvKCQy0BYw/pArEr8QHpnEUHkAQtBUPgXQTDd6ED4RyJAGDrxQEQqvEAwaB1BpHCzQPwi4UAykhNBcME+QMgAK0C0vOJAmmYTQW4WFkHw3sVAXJVWQP6bCkFADMpA7o8aQQbfEEHagxBBGB78QFgZmkBw+NtAuEm/QDwjH0HojfRAgrSAQDi04EDQ9H6/mMM+QKwDHUFoOL5AcDKEQMAkUUDcF91AbKVdQHBi4EBkYAhBfOD9QGAhxECoOvNARHnOQHSFG0GIBf9APIwIQdx/hEB2xB5B1K2EQEbJEUG8F+pA1JUNQXjfA0FQvMFAOjkNQXD+wEBwnxBAvLcHQPCxnkBEPcpAPIXZQEAs9kCAiRNAaMm2QHh/CUEcsv5AXq60QGC+xT6ADfdAAoYJQSRDHkCwpZc/aBQRQUxLUUDC26BA0DZVP1RT6EBMgOpAPGfJQIhgd0Dsn+JAbNPMQC7xHkHQotlA0OHNQLDKEEH4Au5A+BfeP6A6oECYIuBA9OCzQLBOFUGgI/hA6BHVQJDP50DAnFW/GG3BQAZmE0ESGL9AbAU/QMQRUECe8K5AlHzeQBxNGkF+Y51AttgKQUSfn0CKLgtB3BwPQGgc5UDwudg/AJVWQFwMskCoa+FA7hMXQYC/fD8MKrBAsMMWQShBA0DIRZRA5FHZQAxn9EDUfg1BoIw9P1zv30AAn8lAKp2uQEDoHz+miQxBCLToQA4/vkA2eQlBTGAcQZz0ikCCeLRARIGhQFwhjEAAZeQ/oPPvQABu8DzQVfFA0K4OQfpyDUFs0sFAKlOYQKSHXkAYendA8DKBQKAGEEGiPhVBRHXnQFw6DkHe9gFBbDHCQCCv60D4VBVAwLveQCwYl0CoJBNBuCi1QIC1BkFwFupALCpLQHTZ2UBAHoY/jLrjQDyfAUGohg9AjhUfQTqMrkBURQdB9GMNQXR0jUBo7+BAxKcEQTqfEEF+eqVAcnkTQSBIqEAut5VAGGviQF66uUCO+h5B+rwdQWArckAsDwNAEC/MQAzvG0Esl8dANJXMQCowA0Gc9oBAPFTtQLBhHD86mKBAXPH7QPRucUC2W5hA+PnLP+gMwEA8WAdBfAMCQWw1F0GMnFZAlL4dQFwGm0AwN7dAuJ7sQG4fC0GoR5K/JODqQNTgF0HmUwlB7MwaQRRbq0BI1d1ArAstQKwxA0Fu9LJA1Mf7QHQdH0GOU6xAXBG/QCBx0D/U96VAgAD1Pdz0BkH40r5AajywQCBU9z50mIhAUigAQRxGAEGIFPpArgIXQeQxlkCGyxFBFgSzQAyy8kCaUL9A0CrbQMg+kEDSKAdBCM4OQdbevUCUKbJAGq0FQWLLDkEwQYhA9MniQPBg2kAQXOpAxESPQDCUTkB8GzRA+gyoQAge7EB0cgVBAhcdQaaxH0HIphBBoADvP9jJEkFsrY9ANLBaQIBTpkAc7IRAtMEcQd45n0CivwBB5JIEQUDxHEHUEgRBDD/5QOwxsUB48ghBQHaEPkiLQ0BokRpBYMrhQJxNykAQgGZAeC3lQHDqhz+wItBAyLsVQSDUtEDu6B5Baj8OQXJKBEGUbf5A3OkQQbZ9sECoVN9Axt4YQTJcukAIO3dA/Ht1QOC52UA0eudAzvqOQOSCskB6arRAuLLNQJAeEUEMLgZBXEMfQbzfy0As7vxAeNr1QKyX70DqIKJA1hYFQfRezEDM3NRAkMn1QFDx9EBELDNAQKEoQB5IG0F+D71AcCrEQBQaC0DUbOxAQATDQN76t0DwdgFAQNQFQYJrlkDG6Z9AwOaVQDzj6UBAl5++9AedQNR3w0BAsMxArJ5TQAxSRUDgee1AMIPtQOr2j0Cws/dA6FQNQZQPBUEohrFAvMxVQAp2HEFMcvZAGHMZQbhGBEFAVcBAEL78PwAgFUEgk8hAbNDTQLTevkBkdslA+FERQSIfBEEICvNAzLDrQCYjFkE=",
            "dtype": "f4"
           },
           "y": {
            "bdata": "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",
            "dtype": "f4"
           },
           "z": {
            "bdata": "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",
            "dtype": "f4"
           }
          },
          {
           "marker": {
            "color": "#FF6692",
            "line": {
             "color": "black",
             "width": 0.5
            },
            "size": 6,
            "symbol": "diamond"
           },
           "mode": "markers+text",
           "name": "Cluster 6",
           "text": [
            "C6"
           ],
           "textposition": "top center",
           "type": "scatter3d",
           "x": {
            "bdata": "rU7FQA==",
            "dtype": "f4"
           },
           "y": {
            "bdata": "vgNTPw==",
            "dtype": "f4"
           },
           "z": {
            "bdata": "5zHCvw==",
            "dtype": "f4"
           }
          }
         ],
         "name": "frame0"
        },
        {
         "data": [
          {
           "marker": {
            "color": "#636EFA",
            "opacity": 1,
            "size": 4
           },
           "mode": "markers",
           "showlegend": false,
           "type": "scatter3d",
           "x": {
            "bdata": "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",
            "dtype": "f4"
           },
           "y": {
            "bdata": "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",
            "dtype": "f4"
           },
           "z": {
            "bdata": "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",
            "dtype": "f4"
           }
          },
          {
           "marker": {
            "color": "#636EFA",
            "line": {
             "color": "black",
             "width": 0.5
            },
            "size": 6,
            "symbol": "diamond"
           },
           "mode": "markers+text",
           "name": "Cluster 0",
           "text": [
            "C0"
           ],
           "textposition": "top center",
           "type": "scatter3d",
           "x": {
            "bdata": "exHZwA==",
            "dtype": "f4"
           },
           "y": {
            "bdata": "fG10wA==",
            "dtype": "f4"
           },
           "z": {
            "bdata": "RYh/QA==",
            "dtype": "f4"
           }
          },
          {
           "marker": {
            "color": "#EF553B",
            "opacity": 1,
            "size": 4
           },
           "mode": "markers",
           "showlegend": false,
           "type": "scatter3d",
           "x": {
            "bdata": "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",
            "dtype": "f4"
           },
           "y": {
            "bdata": "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",
            "dtype": "f4"
           },
           "z": {
            "bdata": "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",
            "dtype": "f4"
           }
          },
          {
           "marker": {
            "color": "#EF553B",
            "line": {
             "color": "black",
             "width": 0.5
            },
            "size": 6,
            "symbol": "diamond"
           },
           "mode": "markers+text",
           "name": "Cluster 1",
           "text": [
            "C1"
           ],
           "textposition": "top center",
           "type": "scatter3d",
           "x": {
            "bdata": "hKtsQA==",
            "dtype": "f4"
           },
           "y": {
            "bdata": "wqumwA==",
            "dtype": "f4"
           },
           "z": {
            "bdata": "q7y/QA==",
            "dtype": "f4"
           }
          },
          {
           "marker": {
            "color": "#00CC96",
            "opacity": 1,
            "size": 4
           },
           "mode": "markers",
           "showlegend": false,
           "type": "scatter3d",
           "x": {
            "bdata": "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",
            "dtype": "f4"
           },
           "y": {
            "bdata": "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",
            "dtype": "f4"
           },
           "z": {
            "bdata": "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",
            "dtype": "f4"
           }
          },
          {
           "marker": {
            "color": "#00CC96",
            "line": {
             "color": "black",
             "width": 0.5
            },
            "size": 6,
            "symbol": "diamond"
           },
           "mode": "markers+text",
           "name": "Cluster 2",
           "text": [
            "C2"
           ],
           "textposition": "top center",
           "type": "scatter3d",
           "x": {
            "bdata": "BOsVvw==",
            "dtype": "f4"
           },
           "y": {
            "bdata": "5B7UwA==",
            "dtype": "f4"
           },
           "z": {
            "bdata": "pguXwA==",
            "dtype": "f4"
           }
          },
          {
           "marker": {
            "color": "#AB63FA",
            "opacity": 1,
            "size": 4
           },
           "mode": "markers",
           "showlegend": false,
           "type": "scatter3d",
           "x": {
            "bdata": "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",
            "dtype": "f4"
           },
           "y": {
            "bdata": "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",
            "dtype": "f4"
           },
           "z": {
            "bdata": "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",
            "dtype": "f4"
           }
          },
          {
           "marker": {
            "color": "#AB63FA",
            "line": {
             "color": "black",
             "width": 0.5
            },
            "size": 6,
            "symbol": "diamond"
           },
           "mode": "markers+text",
           "name": "Cluster 3",
           "text": [
            "C3"
           ],
           "textposition": "top center",
           "type": "scatter3d",
           "x": {
            "bdata": "XlGCwA==",
            "dtype": "f4"
           },
           "y": {
            "bdata": "v1xyQA==",
            "dtype": "f4"
           },
           "z": {
            "bdata": "b06wwA==",
            "dtype": "f4"
           }
          },
          {
           "marker": {
            "color": "#FFA15A",
            "opacity": 1,
            "size": 4
           },
           "mode": "markers",
           "showlegend": false,
           "type": "scatter3d",
           "x": {
            "bdata": "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",
            "dtype": "f4"
           },
           "y": {
            "bdata": "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",
            "dtype": "f4"
           },
           "z": {
            "bdata": "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",
            "dtype": "f4"
           }
          },
          {
           "marker": {
            "color": "#FFA15A",
            "line": {
             "color": "black",
             "width": 0.5
            },
            "size": 6,
            "symbol": "diamond"
           },
           "mode": "markers+text",
           "name": "Cluster 4",
           "text": [
            "C4"
           ],
           "textposition": "top center",
           "type": "scatter3d",
           "x": {
            "bdata": "pPydwA==",
            "dtype": "f4"
           },
           "y": {
            "bdata": "dqqgQA==",
            "dtype": "f4"
           },
           "z": {
            "bdata": "pjG4QA==",
            "dtype": "f4"
           }
          },
          {
           "marker": {
            "color": "#19D3F3",
            "opacity": 1,
            "size": 4
           },
           "mode": "markers",
           "showlegend": false,
           "type": "scatter3d",
           "x": {
            "bdata": "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",
            "dtype": "f4"
           },
           "y": {
            "bdata": "SKbCQDR1cUAayxlBoE2qQPzQ/0Akep5ABMMEQfzCm0DUfhtBABoTQWafsUCUThlBbMWBQGKrnkB4YP9AjgERQZjMv0DgCdxAsl4bQYyoZEAktBFBgicQQVAV3kDQsNo/DDcAQYij9UA0peBAFJG3QCC83kBS66ZAiPJ/QHQw40AIkitABOk3QJiBgEAQ7vBANLjcQEz+XECo6F1AmLYAQGB/w0BwHS1AJqIAQbgvgkAIAlVAeKToQDjyZ0CQ/IhAdHH6QEw2GUHsr9BA0m0fQbBcFUGwbBhBfKqrQNQmAUFw9vVARJcaQcoCD0EyfwxBQNz6QDiV1D/gzLtAqBr0QIphokAMoRBB6IHWQIg1vECc7+JArNoIQUitF0G4KCJA6EDoQBjr9EBsf5JAEMMeQDw5oUD2xb1AgKjuQCDIA0BAjPtAoBcDQEK6CEHkxOpAOMWzQLgPD0EYRu5AeACVQJQ9LECoePJAAIA2QAJXAUFoOrZA5HE3QC5VDkFgGPU/YDQDQZjNxj887pdAODTcQFj+TECQSu0/aNdWQATdmUAojBRBAL75QNzMz0DIKg9B3I60QKBOJkCAwBJB1GS7QLREx0CieKhANKgeQfbOGkGYZaZA7KuCQHBZ+z/A0dlAUEDDQJSwpkA6khhBKPSAQOTI3UBoUqtARBiuQPgOz0BEZ2RAnP7yQAjx70Ck5+ZAUEEGQTT8NECgsRtBUCsKQS4VCEF0+mtAGHHkQAZEFEEosZZA9BzWQEDPEkEeUwBBUCtKPz5Yu0D6jRJBWPbBP8DU10DU5uBAIPQPQUQqXEAYCu5AOECtP3jU4UD4iDNA3nGCQGrHGUGAaOlAcAgGQFjJ0kBIhs4/YEu6QCToRUBcUtNA4poEQZCdwEDQl8NAMNcYQUze+ED434FAYNsKQbimqUBoTxNBoL6vPwAbDEB46xZADHAHQWjVHUHUpvVAFFccQYadF0EkTYBAGDSiQICYTkCmqLBAnAzxQKy17EDQBPlAeKb8QJy1hUDW37JA/oQOQfi1GkBUTRNBttwbQSTQ+kA0ejFA4hULQXpgFkG0CoZAoLQaQYh5HEAu9wFBHK3jQMamD0F4k9NAHqIfQfBaH0HEY71A9NBMQHRv1EC4QrlAFKL6QEoctECAqNJANtykQHA/wECM/JtAaCQTQdo7BUH+ZRlBsMccQCy72kAQ4vpA5NsYQYY3HEEYK7NA5ItfQNy2T0D44aZA0Dz5P5hWHUGiHABBqmoEQeDLtEB07fBAVCqKQLiQTUBAgZM/8FtEQAB2PUDwouE/gHDhP0DtDkHmDaRA8M4cQKCH2D9Y9eFAZB0WQFLpkUBKJRhBsrkQQTgNGUGEtx9B/LOgQKjK/UBEIA1BZILOQPrBi0CshwpBaLnOQKyBCEHYdoVAFC8OQShy/kDYoDVAePH1QMqOHUGuC5ZA5qobQaBMmkBQt/8/lmIBQeQ07kAqSBFBuKwZQASz/UAksA1BQK8RQT5upUAMP4xAXLXdQPJvFkHANI9A7lUVQYaDlkDwWJI/cNnlQFDwX0BQ9sVA7LMVQBQ9GUHAKx9BhiQdQQiPvkBeuhVBgLA0QOTiGkHA3RJB4CprQJAykkDgepU/iAbJQLhx+kAIpoBA9k0WQVzV6kAo8ZRAqOUOQbzGrEAuOQVBdCNuQADGr0Bw0UhArumtQMYiD0HE0TVAkJXPQLwhmkDYdMRAXK6gQJQ9r0BEHR1BOJLuQLQZxEBwzLxApoqyQKDMH0F0OwhBZJu2QKBtB0Ek5e9AiGLbQEhe9UBQafJAQKYVQKzjf0Ag5RtBTIvoQKC1GUFI0gJB8AcTQXQahkAyYA1B0BLDP1SU5EB8cMhAXLsdQUh5GED85glBwKbcQLAVcUBYhfJAYICLQDhnDkG4njBAxBmBQHwoFEHwVn5AUH0QQURJHkCwM4xABBLQQHDjBUAQdmdAbF3fQPTC3EDgiP5AVLi3QPB1+EC0ew5B4Kk7QETg80AIqLRAmAc7QLRZXUB8GPZA+M3kQOyr70AmH6hAYI6XQGBqFEGUCLpADJy4QGZBq0BA4uM/7H39QHQ3HUFslQZBMF/0QKZBBEFkFgFBGrEPQdRr9EDWH7xARLaLQDBCzkDMHrtAJkqyQD4FBkHaURBBiO0LQdBlOUBIlfhAlDkAQUhC60DcMPlA5iKDQNC630DQTgBBir+QQEARHEFkgRZB0kgIQejV7kAgw5NAjk4NQfzSHEEsSwtBHKXdQLTIf0Cct2JA6BwJQaDB8j8UwqRAMhW2QIR8oUCcGBRBGkisQIAZ9UAc8+BADH0aQVwKCUHAg9w/bKSYQGia7UDQkhhA4FvfQIii8j+KGglB+GITQFiWB0GE9YZAzkStQFghrkCgOLJAnKgdQYRVDEGE6OtAdLAfQGSO1kC+1x9BZhkFQcjOEUFAjdZAELNJQBiv+EAci6FAptOUQHBp9EBY7PxA9i4FQWiKk0BaAZNA/A/GQOQwCEHCXQJBYKoLQRBH9T/4svdAGAHhP0iL10BMKH9AeNqOP4hMMUDiNwBBkKPkQJwruUDsku1AClIcQQyRMkDYBdlA0FQJQXxsEEE4GqJAeqemQMDbvT+AX/8/0FwZQWLzEkFs3eNAgMoLQVT3wECoDINAANf0QFiKkUCYtw1BQDxsP46iE0E=",
            "dtype": "f4"
           },
           "z": {
            "bdata": "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",
            "dtype": "f4"
           }
          },
          {
           "marker": {
            "color": "#19D3F3",
            "line": {
             "color": "black",
             "width": 0.5
            },
            "size": 6,
            "symbol": "diamond"
           },
           "mode": "markers+text",
           "name": "Cluster 5",
           "text": [
            "C5"
           ],
           "textposition": "top center",
           "type": "scatter3d",
           "x": {
            "bdata": "d4x1QA==",
            "dtype": "f4"
           },
           "y": {
            "bdata": "J9bNQA==",
            "dtype": "f4"
           },
           "z": {
            "bdata": "rNZ+QA==",
            "dtype": "f4"
           }
          },
          {
           "marker": {
            "color": "#FF6692",
            "opacity": 1,
            "size": 4
           },
           "mode": "markers",
           "showlegend": false,
           "type": "scatter3d",
           "x": {
            "bdata": "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",
            "dtype": "f4"
           },
           "y": {
            "bdata": "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",
            "dtype": "f4"
           },
           "z": {
            "bdata": "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",
            "dtype": "f4"
           }
          },
          {
           "marker": {
            "color": "#FF6692",
            "line": {
             "color": "black",
             "width": 0.5
            },
            "size": 6,
            "symbol": "diamond"
           },
           "mode": "markers+text",
           "name": "Cluster 6",
           "text": [
            "C6"
           ],
           "textposition": "top center",
           "type": "scatter3d",
           "x": {
            "bdata": "y8vMQA==",
            "dtype": "f4"
           },
           "y": {
            "bdata": "tSKFPw==",
            "dtype": "f4"
           },
           "z": {
            "bdata": "AWpVwA==",
            "dtype": "f4"
           }
          }
         ],
         "name": "frame1"
        },
        {
         "data": [
          {
           "marker": {
            "color": "#636EFA",
            "opacity": 1,
            "size": 4
           },
           "mode": "markers",
           "showlegend": false,
           "type": "scatter3d",
           "x": {
            "bdata": "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",
            "dtype": "f4"
           },
           "y": {
            "bdata": "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",
            "dtype": "f4"
           },
           "z": {
            "bdata": "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",
            "dtype": "f4"
           }
          },
          {
           "marker": {
            "color": "#636EFA",
            "line": {
             "color": "black",
             "width": 0.5
            },
            "size": 6,
            "symbol": "diamond"
           },
           "mode": "markers+text",
           "name": "Cluster 0",
           "text": [
            "C0"
           ],
           "textposition": "top center",
           "type": "scatter3d",
           "x": {
            "bdata": "2u7IwA==",
            "dtype": "f4"
           },
           "y": {
            "bdata": "+ZqQwA==",
            "dtype": "f4"
           },
           "z": {
            "bdata": "UVl7QA==",
            "dtype": "f4"
           }
          },
          {
           "marker": {
            "color": "#EF553B",
            "opacity": 1,
            "size": 4
           },
           "mode": "markers",
           "showlegend": false,
           "type": "scatter3d",
           "x": {
            "bdata": "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",
            "dtype": "f4"
           },
           "y": {
            "bdata": "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",
            "dtype": "f4"
           },
           "z": {
            "bdata": "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",
            "dtype": "f4"
           }
          },
          {
           "marker": {
            "color": "#EF553B",
            "line": {
             "color": "black",
             "width": 0.5
            },
            "size": 6,
            "symbol": "diamond"
           },
           "mode": "markers+text",
           "name": "Cluster 1",
           "text": [
            "C1"
           ],
           "textposition": "top center",
           "type": "scatter3d",
           "x": {
            "bdata": "L6mHQA==",
            "dtype": "f4"
           },
           "y": {
            "bdata": "9T2fwA==",
            "dtype": "f4"
           },
           "z": {
            "bdata": "yjGtQA==",
            "dtype": "f4"
           }
          },
          {
           "marker": {
            "color": "#00CC96",
            "opacity": 1,
            "size": 4
           },
           "mode": "markers",
           "showlegend": false,
           "type": "scatter3d",
           "x": {
            "bdata": "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",
            "dtype": "f4"
           },
           "y": {
            "bdata": "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",
            "dtype": "f4"
           },
           "z": {
            "bdata": "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",
            "dtype": "f4"
           }
          },
          {
           "marker": {
            "color": "#00CC96",
            "line": {
             "color": "black",
             "width": 0.5
            },
            "size": 6,
            "symbol": "diamond"
           },
           "mode": "markers+text",
           "name": "Cluster 2",
           "text": [
            "C2"
           ],
           "textposition": "top center",
           "type": "scatter3d",
           "x": {
            "bdata": "MdIzvw==",
            "dtype": "f4"
           },
           "y": {
            "bdata": "ElXKwA==",
            "dtype": "f4"
           },
           "z": {
            "bdata": "8mClwA==",
            "dtype": "f4"
           }
          },
          {
           "marker": {
            "color": "#AB63FA",
            "opacity": 1,
            "size": 4
           },
           "mode": "markers",
           "showlegend": false,
           "type": "scatter3d",
           "x": {
            "bdata": "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",
            "dtype": "f4"
           },
           "y": {
            "bdata": "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",
            "dtype": "f4"
           },
           "z": {
            "bdata": "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",
            "dtype": "f4"
           }
          },
          {
           "marker": {
            "color": "#AB63FA",
            "line": {
             "color": "black",
             "width": 0.5
            },
            "size": 6,
            "symbol": "diamond"
           },
           "mode": "markers+text",
           "name": "Cluster 3",
           "text": [
            "C3"
           ],
           "textposition": "top center",
           "type": "scatter3d",
           "x": {
            "bdata": "pVWJwA==",
            "dtype": "f4"
           },
           "y": {
            "bdata": "TAaHQA==",
            "dtype": "f4"
           },
           "z": {
            "bdata": "CtqswA==",
            "dtype": "f4"
           }
          },
          {
           "marker": {
            "color": "#FFA15A",
            "opacity": 1,
            "size": 4
           },
           "mode": "markers",
           "showlegend": false,
           "type": "scatter3d",
           "x": {
            "bdata": "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",
            "dtype": "f4"
           },
           "y": {
            "bdata": "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",
            "dtype": "f4"
           },
           "z": {
            "bdata": "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",
            "dtype": "f4"
           }
          },
          {
           "marker": {
            "color": "#FFA15A",
            "line": {
             "color": "black",
             "width": 0.5
            },
            "size": 6,
            "symbol": "diamond"
           },
           "mode": "markers+text",
           "name": "Cluster 4",
           "text": [
            "C4"
           ],
           "textposition": "top center",
           "type": "scatter3d",
           "x": {
            "bdata": "TdugwA==",
            "dtype": "f4"
           },
           "y": {
            "bdata": "RHKkQA==",
            "dtype": "f4"
           },
           "z": {
            "bdata": "4/+nQA==",
            "dtype": "f4"
           }
          },
          {
           "marker": {
            "color": "#19D3F3",
            "opacity": 1,
            "size": 4
           },
           "mode": "markers",
           "showlegend": false,
           "type": "scatter3d",
           "x": {
            "bdata": "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",
            "dtype": "f4"
           },
           "y": {
            "bdata": "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",
            "dtype": "f4"
           },
           "z": {
            "bdata": "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",
            "dtype": "f4"
           }
          },
          {
           "marker": {
            "color": "#19D3F3",
            "line": {
             "color": "black",
             "width": 0.5
            },
            "size": 6,
            "symbol": "diamond"
           },
           "mode": "markers+text",
           "name": "Cluster 5",
           "text": [
            "C5"
           ],
           "textposition": "top center",
           "type": "scatter3d",
           "x": {
            "bdata": "jqCOQA==",
            "dtype": "f4"
           },
           "y": {
            "bdata": "sPe+QA==",
            "dtype": "f4"
           },
           "z": {
            "bdata": "syaIQA==",
            "dtype": "f4"
           }
          },
          {
           "marker": {
            "color": "#FF6692",
            "opacity": 1,
            "size": 4
           },
           "mode": "markers",
           "showlegend": false,
           "type": "scatter3d",
           "x": {
            "bdata": "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",
            "dtype": "f4"
           },
           "y": {
            "bdata": "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",
            "dtype": "f4"
           },
           "z": {
            "bdata": "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",
            "dtype": "f4"
           }
          },
          {
           "marker": {
            "color": "#FF6692",
            "line": {
             "color": "black",
             "width": 0.5
            },
            "size": 6,
            "symbol": "diamond"
           },
           "mode": "markers+text",
           "name": "Cluster 6",
           "text": [
            "C6"
           ],
           "textposition": "top center",
           "type": "scatter3d",
           "x": {
            "bdata": "C5LIQA==",
            "dtype": "f4"
           },
           "y": {
            "bdata": "NfaqPw==",
            "dtype": "f4"
           },
           "z": {
            "bdata": "1suOwA==",
            "dtype": "f4"
           }
          }
         ],
         "name": "frame2"
        },
        {
         "data": [
          {
           "marker": {
            "color": "#636EFA",
            "opacity": 1,
            "size": 4
           },
           "mode": "markers",
           "showlegend": false,
           "type": "scatter3d",
           "x": {
            "bdata": "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",
            "dtype": "f4"
           },
           "y": {
            "bdata": "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",
            "dtype": "f4"
           },
           "z": {
            "bdata": "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",
            "dtype": "f4"
           }
          },
          {
           "marker": {
            "color": "#636EFA",
            "line": {
             "color": "black",
             "width": 0.5
            },
            "size": 6,
            "symbol": "diamond"
           },
           "mode": "markers+text",
           "name": "Cluster 0",
           "text": [
            "C0"
           ],
           "textposition": "top center",
           "type": "scatter3d",
           "x": {
            "bdata": "Wkm/wA==",
            "dtype": "f4"
           },
           "y": {
            "bdata": "rUKawA==",
            "dtype": "f4"
           },
           "z": {
            "bdata": "L0F9QA==",
            "dtype": "f4"
           }
          },
          {
           "marker": {
            "color": "#EF553B",
            "opacity": 1,
            "size": 4
           },
           "mode": "markers",
           "showlegend": false,
           "type": "scatter3d",
           "x": {
            "bdata": "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",
            "dtype": "f4"
           },
           "y": {
            "bdata": "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",
            "dtype": "f4"
           },
           "z": {
            "bdata": "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",
            "dtype": "f4"
           }
          },
          {
           "marker": {
            "color": "#EF553B",
            "line": {
             "color": "black",
             "width": 0.5
            },
            "size": 6,
            "symbol": "diamond"
           },
           "mode": "markers+text",
           "name": "Cluster 1",
           "text": [
            "C1"
           ],
           "textposition": "top center",
           "type": "scatter3d",
           "x": {
            "bdata": "b8aSQA==",
            "dtype": "f4"
           },
           "y": {
            "bdata": "4COewA==",
            "dtype": "f4"
           },
           "z": {
            "bdata": "k2qeQA==",
            "dtype": "f4"
           }
          },
          {
           "marker": {
            "color": "#00CC96",
            "opacity": 1,
            "size": 4
           },
           "mode": "markers",
           "showlegend": false,
           "type": "scatter3d",
           "x": {
            "bdata": "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",
            "dtype": "f4"
           },
           "y": {
            "bdata": "tAJmwCqIwMA6/p7A0E0cwRiKAsGnorbAroH5wKy+e8BeC/bAmQEWwahWV8DASLfAWE68wF2JHsHylQ/Bu1wYwcpLGMF8Nh3BXn+0wKgdgcDkvPjASgEMwbqCzMC4NdLAHBvzwG7zvcAIIuXALE2swNXCDMGO1onA9dT4wIJjEcGg6SzAK04DwW5d8MBA5MHAyNQewIRbksDJyB7BgCEwwOr/4MCi0/7A12+jwE7BEsGgk/7A2Fi9wHD+br9yNAjB9r3RwK2OuMBRipjAoVe8wBS4TsAmeBbBd9mnwMqzrMB0T/LAcI4nv+YLIsBMEvPAlRKjwJ4mtMCCTIfAIWAOwb4P1sDf5xrBNK+dwK4SBcHYSR/BXhwPwaBlDsAOB+XAfsL9wDmHhsCIOAzBV6m+wJTzksBqXtTAPER8wICKRL/l4a/AKPUXwTbhFsEwOMvAIbMUwVafAsHVfBbBLBp0wJ7ZRsBsJc3ADlrWwFCFD8EWlIvALtVawGsyAcHQBwLAcan3wIbTxMA4M/3AvL16wDiE+MB02g/B1/sdwWZjAMH80K7AmmTQwPhb8781J/bAb0YbwXI8CsGwdujAmOq6wPqOAMGxUAPBsocHwDC99r/ZDAfB+laswGgiGME8Q6LArzaiwI7xGMBgSVu/HJVKwB0nBsFALQ+/umGpwHEf0MALkh/BIGfawM2clsDnuYvAt4OEwP9ykcDBnNPA5AcCwVAxEMFjpxfBNPRRwGLXucBk4gTBsvcawTfbDcEoQR/BPNp0wAN2AMGrhpLA9WARwewJ0sCq7ozAfXCBwDGcGMEtQ/vAf12mwJRaEsBMshfBAFX4wIK19MCgjFq/bPauwN5wXcCJaZrAAcXwwOQUFMDPWpTARf4bwcbZGME08sXAEFs6wFgEAcFIXQnBPi6vwCVCHMHaIBnBx8EDwW8DBsHfOQbBfBL5wDAq5cBE2mPAlhQcwcHm38AZFt3AqssUwcT/DsHqa8bAKJDpwEzslMB3147AKGekvxRlk8B7PsnAVZcQwf/n/cDg96DAs3bUwFwX5cBQOJq/JMcZwcgJ478IRebA/rpZwIpCqsCl5ZfApF+7wBgZDMFtnarAPoxpwEK4EMETJQbB0G9TwP+gq8A6TBzAhCdtwFwnt8BXeZTAVCUMwVVtEcHwVQbBEfPRwLZABsDCCwnBTgitwIafCsGwspG/i2GAwMAEXb9OVGnARg1PwLRQGMGHHwnBq+3gwAE928CMav/Azs9HwJp8l8Bkbh7BqnG4wIaEEcFu5kHAj4kcwfxRo8A0BTPAsJQIwdiqncCU7JHALXuFwBhvGcDpCanAIyq7wOjk9b9Os/DAVqXZwC32gMDfVpbA9h35wOeA6cAw+Lq/3IiVwOYpvMCxbBfB+ozBwIEQg8CMJeHAdvZ2wGWwt8AAT2jAuSbjwIt+BMHJGNPAo9cFwTzlCMGGiXfA5nTswIBLU8DevBDB+wGKwMejyMCbZ7rAzPOfwDTDB8HcjOTA4vrPwPCxNcAWzP7AhSUYwTRZFMGCRcnAfHfMwBtWDcGQTUrAkA8VwXM1DMHTXo3AUT+3wPyLrMCqYy7AzgmswCCJvcBiU6DAdKANwPilSsAUConARM7mwCu2+8DOxgnBAonBwI4wksCcOwnB/iPYwMhkGsGMxLvAu2CKwL1Vk8CKykrAE1OAwHqN4sB8uGzAGJ8MwQhMEsFQYinAOiofwboIxsClgRLBw/zuwAqS78ChrIjAQJT9wNC13cAKKr/A1I0wwMjGB8G2ZA3B48S3wMOPGsF3vfjAN7vLwNCVCcH61HXA0kQKwRb42cAxztbASvtywDiYFsEKkwnBp0QQweTtwMDOZDjAlG0OweQEmsBQshbAdlARwGPU1MDxEBbBhET/wJfbHsHka73AhSqWwKq9s8BgAI7AINHzv2EBB8EIJSrAZZ8CwQ+Bm8A4ysjA0A8VwRaZGMGWSODAk3cMwYNV/cAfs+TA2lv7wICtbMC418rAtbMHwTBplsBwZAzBKMeSv2bUucA607jA0HgawVjw2cCnyAjBlmQCwEAw0MCr7MTAcwEFwfT6tMBmaszAVgUFwdV0vMBR0+HAY/zTwPqPfMDplxzBwCbovxhXKsAs8PLACSz0wHpP2MDNXwHBcIVwwFAfQcBuFwzBW0yOwEjh1MDqZx7B+r0ZwR7pcsDvOQTBUGvKwMKRTsDAfs/Atj0CwbS3vcAHzebAiDMHwZzrRcC7ibHAPBQcwJiPGcGmoOfAY6HVwCT7+cD9kbrAlgvNwFU4qsBckwnBmjYDwRCp/7+N6ZjADZEewStM0cCQpRbBEaYBwe38ncAU/OjAWL4cwEnxvMCY34W/AHUywOhg3cDg2DfAZvk2wC58S8A49TPA70DkwG7YpsAGwKLATIjdwG63ycBG4XDAk6fqwOjOpcC/xAzBk4fWwAHIEsEZtc/AYqP1wCPq78AwKhHBXqbfwLfBpcBs7RvBhkOTwNBF7L8VrB/BaaG7wPgH4b8waxjAUqiwwGE2h8D49qi/I1AewbY6BcAQG2S/5Y6BwKImm8B/mRHBgCoVwQgz17+d5LrApXTuwACt/79+eeDAEOZGwHxgocDKve/AkGwDwTWk+sDSfhLAoV+gwNTkBcGrNB7BjJo7wI7+1sBemO/AT5HdwDh7zcA=",
            "dtype": "f4"
           },
           "z": {
            "bdata": "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",
            "dtype": "f4"
           }
          },
          {
           "marker": {
            "color": "#00CC96",
            "line": {
             "color": "black",
             "width": 0.5
            },
            "size": 6,
            "symbol": "diamond"
           },
           "mode": "markers+text",
           "name": "Cluster 2",
           "text": [
            "C2"
           ],
           "textposition": "top center",
           "type": "scatter3d",
           "x": {
            "bdata": "QbNXvw==",
            "dtype": "f4"
           },
           "y": {
            "bdata": "89HEwA==",
            "dtype": "f4"
           },
           "z": {
            "bdata": "l36swA==",
            "dtype": "f4"
           }
          },
          {
           "marker": {
            "color": "#AB63FA",
            "opacity": 1,
            "size": 4
           },
           "mode": "markers",
           "showlegend": false,
           "type": "scatter3d",
           "x": {
            "bdata": "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",
            "dtype": "f4"
           },
           "y": {
            "bdata": "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",
            "dtype": "f4"
           },
           "z": {
            "bdata": "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",
            "dtype": "f4"
           }
          },
          {
           "marker": {
            "color": "#AB63FA",
            "line": {
             "color": "black",
             "width": 0.5
            },
            "size": 6,
            "symbol": "diamond"
           },
           "mode": "markers+text",
           "name": "Cluster 3",
           "text": [
            "C3"
           ],
           "textposition": "top center",
           "type": "scatter3d",
           "x": {
            "bdata": "hoaOwA==",
            "dtype": "f4"
           },
           "y": {
            "bdata": "TRiMQA==",
            "dtype": "f4"
           },
           "z": {
            "bdata": "VqmpwA==",
            "dtype": "f4"
           }
          },
          {
           "marker": {
            "color": "#FFA15A",
            "opacity": 1,
            "size": 4
           },
           "mode": "markers",
           "showlegend": false,
           "type": "scatter3d",
           "x": {
            "bdata": "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",
            "dtype": "f4"
           },
           "y": {
            "bdata": "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",
            "dtype": "f4"
           },
           "z": {
            "bdata": "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",
            "dtype": "f4"
           }
          },
          {
           "marker": {
            "color": "#FFA15A",
            "line": {
             "color": "black",
             "width": 0.5
            },
            "size": 6,
            "symbol": "diamond"
           },
           "mode": "markers+text",
           "name": "Cluster 4",
           "text": [
            "C4"
           ],
           "textposition": "top center",
           "type": "scatter3d",
           "x": {
            "bdata": "TJagwA==",
            "dtype": "f4"
           },
           "y": {
            "bdata": "oI6iQA==",
            "dtype": "f4"
           },
           "z": {
            "bdata": "+4SiQA==",
            "dtype": "f4"
           }
          },
          {
           "marker": {
            "color": "#19D3F3",
            "opacity": 1,
            "size": 4
           },
           "mode": "markers",
           "showlegend": false,
           "type": "scatter3d",
           "x": {
            "bdata": "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",
            "dtype": "f4"
           },
           "y": {
            "bdata": "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",
            "dtype": "f4"
           },
           "z": {
            "bdata": "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",
            "dtype": "f4"
           }
          },
          {
           "marker": {
            "color": "#19D3F3",
            "line": {
             "color": "black",
             "width": 0.5
            },
            "size": 6,
            "symbol": "diamond"
           },
           "mode": "markers+text",
           "name": "Cluster 5",
           "text": [
            "C5"
           ],
           "textposition": "top center",
           "type": "scatter3d",
           "x": {
            "bdata": "TtiWQA==",
            "dtype": "f4"
           },
           "y": {
            "bdata": "6Sy2QA==",
            "dtype": "f4"
           },
           "z": {
            "bdata": "uzaLQA==",
            "dtype": "f4"
           }
          },
          {
           "marker": {
            "color": "#FF6692",
            "opacity": 1,
            "size": 4
           },
           "mode": "markers",
           "showlegend": false,
           "type": "scatter3d",
           "x": {
            "bdata": "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",
            "dtype": "f4"
           },
           "y": {
            "bdata": "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",
            "dtype": "f4"
           },
           "z": {
            "bdata": "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",
            "dtype": "f4"
           }
          },
          {
           "marker": {
            "color": "#FF6692",
            "line": {
             "color": "black",
             "width": 0.5
            },
            "size": 6,
            "symbol": "diamond"
           },
           "mode": "markers+text",
           "name": "Cluster 6",
           "text": [
            "C6"
           ],
           "textposition": "top center",
           "type": "scatter3d",
           "x": {
            "bdata": "7z3DQA==",
            "dtype": "f4"
           },
           "y": {
            "bdata": "gPLYPw==",
            "dtype": "f4"
           },
           "z": {
            "bdata": "7BahwA==",
            "dtype": "f4"
           }
          }
         ],
         "name": "frame3"
        },
        {
         "data": [
          {
           "marker": {
            "color": "#636EFA",
            "opacity": 1,
            "size": 4
           },
           "mode": "markers",
           "showlegend": false,
           "type": "scatter3d",
           "x": {
            "bdata": "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",
            "dtype": "f4"
           },
           "y": {
            "bdata": "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",
            "dtype": "f4"
           },
           "z": {
            "bdata": "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",
            "dtype": "f4"
           }
          },
          {
           "marker": {
            "color": "#636EFA",
            "line": {
             "color": "black",
             "width": 0.5
            },
            "size": 6,
            "symbol": "diamond"
           },
           "mode": "markers+text",
           "name": "Cluster 0",
           "text": [
            "C0"
           ],
           "textposition": "top center",
           "type": "scatter3d",
           "x": {
            "bdata": "JEy5wA==",
            "dtype": "f4"
           },
           "y": {
            "bdata": "OXWewA==",
            "dtype": "f4"
           },
           "z": {
            "bdata": "trSBQA==",
            "dtype": "f4"
           }
          },
          {
           "marker": {
            "color": "#EF553B",
            "opacity": 1,
            "size": 4
           },
           "mode": "markers",
           "showlegend": false,
           "type": "scatter3d",
           "x": {
            "bdata": "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",
            "dtype": "f4"
           },
           "y": {
            "bdata": "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",
            "dtype": "f4"
           },
           "z": {
            "bdata": "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",
            "dtype": "f4"
           }
          },
          {
           "marker": {
            "color": "#EF553B",
            "line": {
             "color": "black",
             "width": 0.5
            },
            "size": 6,
            "symbol": "diamond"
           },
           "mode": "markers+text",
           "name": "Cluster 1",
           "text": [
            "C1"
           ],
           "textposition": "top center",
           "type": "scatter3d",
           "x": {
            "bdata": "ieKZQA==",
            "dtype": "f4"
           },
           "y": {
            "bdata": "wvmewA==",
            "dtype": "f4"
           },
           "z": {
            "bdata": "Uq+SQA==",
            "dtype": "f4"
           }
          },
          {
           "marker": {
            "color": "#00CC96",
            "opacity": 1,
            "size": 4
           },
           "mode": "markers",
           "showlegend": false,
           "type": "scatter3d",
           "x": {
            "bdata": "SM20v8CJJz70GRrBRmjGwMysKsAWPaHAWNLfQCzuY8BlEInAkL+RQEA7bT+gb84/AHS/v3CXo79YAeA/AJ6LvdLwHEHwjbJAIHn5vgADf8DoaRPAQJg9P5ABj79AoV2/uzvMwMgWtMCeX5hAKPDIwLAaM79w08E/fmVVwKhHwMCtOsDAEABhP/hZoD+EsAzAyzeIwGauncBoimZABLQDQMB2pb/CxtfASE0wQHgApT/8wnXAQPqqvwGtFMEaMYPA+PSMv3h5fEB0VQrAoHE+QLrdukASzMDAkKIFvxDgC0CA8l++ICNdQNLOmEAA9Fk/WDG8v0AhTj+YRwLBAHQPPXCflj/A+bNASOq6P5VWCcFM1OJAsIbJQMKPH8HM0FBAEJ/gvyCMuz8An/8+JNNCwFICZ8CQuxG/oA3NPmCfHr/AlBq/wN1xPgiqvMAXf8LAwISbPrCLU78YeIFAzk/ZwLyqe8CSfQ7ASOkFQOzRuUBEWctAN08VwcC4jj/lTB7BArOiQPjLwj8QQXC/ZElEwCzvhsCqL0vA4LAtvxBUVkCs62/AQOaAvqy0W0CSbw3BaEmNQEjV27+expjASqigwMDJOL8gcm4/AMNIvV4iPsCwILM/gPQ+v0Clyr8AqUO9Rq1UwFj7/kBIGI/AROdlwBSqNEBoY95AsLGDvzsJrMBAwX4/brHvwCD1c8DQh3a/2niJwMDCOT7URa5AAGkHPYwtH8Aw1l+/xs0HQQ6qGcH0fa5AeVoLwYyGRsA4LCfAaPSgQKzK+sAgvO4/XLxowABwbL+2iUTAmPHgP4ieRcBgLxnB0EnYQOC5/b7Q8QFB0NMuwLvxwMAI2J/AMAndP7DTFEC425O/YGlPwCTDC8EAINFA9vKLQHjNGkDA3QhA+ueEQEAlBsF0mZ/AhnrRwDgXlsAETJXAvH4EwXYIv0BApbE/CEawv0CqHT/AFFZAJPIDQUyrGUCgov+/QI5dQNBDOb+A1G+/BvtDwDb6ikBAWh4/iDGWP0BkID7cvCNABrnkwP5zdMDQiqo/8CvnP6AdZT9AlxLBQPWHP9CZ3b/gNt3AUm6fwAiPhEAU/tlAgMs6v4Vnu8AaN51A8MRYvyDoFz+wlGi/wKn8PvG/lMBoKuy/4OYav0ButT7gFiK/wLT3vhx1kkBkCFbAQHkDQBDow7+6rajA7FtQQKA1mb6uZqvA0HhewNgsgD9oPJm/pcUVwRzIBcF4/oM/RM+AQGPHg8BlHMPAOaCmwNhvo0AAIFO/WBa7P0RhNUBoIanAcPasv1Y1U8CwnftApEWhwPDErcDAhKI+tj6kQNIfk0B46xJAAL9MwEE03MCMogfB+jJ/wPC5W0DZdfXAZS/BwJCAtz/aFrJAqOIzwFDi3EDMwWhAovzDwLgrQMDwN9c/cC1QP6HbC8Eg9v+/6gCPQFBGrj962wTAQDIJv3gqzT8BrqnA/pUAwVizc0AwOU5AAO9Wvsb0C8E2v5RAvEoDwAQEe8DgjhhAtka0QOZvasAu6mbAkHj8QBa4csCC9YDAjGNJwPg20D9AmHi/6J6RPySkdMBA441AYAcpQH47y8DUGQDBrhJcwJ7eFMCoWQxAA1+JwFBFST9wmNu/+M4IwUA9oL4QbfM/YKvtv6nPjMAgYNW/5NnywKQalMDcBCjAQEXnPoAl6j4iX0nAOHnrwMA8hr+Q+FFAQMhPQGoEGEEH65jAAAlJwLDnB0CA4PO+iL8eQIBaZT446JO/KGXUvxBW+r8gcznAqGjtQIAvqj1EQT9A2gUJwFTrd0AQeFZAVPCcQBzhEUH+uRNBHJYgwHnYvMDGHRFBOGNmQOQyCMA1jsrAUxbnwEbMdsBmJs3AAwuJwLjq5T8gtXTAsJKIv8drr8DKzK5A8CNPQIxtOMBgCNw/LaK9wPCrIb/wR4Y/IBI2QIg6tcBU8Q7BwJvaPqVNFcEgeZu+1PXoQPWfxcBw6U2/QFQKvvhhksD4wVLAznnWwJHx3MBQ1b2/UFjnQN8M58DAXPk/XmHAwDQlB0GWNwPBWPHkQOUqlMCqDK9AREs6QGXxrsA0jiPAJKzBQDBWNsD8wfhACG0PQYCnZL53WezAWt0pwDxy6MAGnrhAYGpdP5tNFsEsse1AfGPewBhCO0Cw+mo/fcurwJymrMCMhO/AXqpQwKDxbT9g4kq/0cK6wOyVi0BLqRvBMMifwJwOZ0AghxQ/sDYaPxgeJEDcPyrApLNewJYVmcCo8elAYMzJQPwJTEBQbA0/MGHdv4CFWr4ARCG/hqFkwBlujMBgK5y/TLZNwNj8QcCg8AS/2CdwQP55hcDW7KpAUNe1v2j9KUCkdyfAqDgIQDy/AUEYTO2/lsuBQOj4rUCXNwjBFZC+wACzFL2aQgXAIBPyv/SUFcEAVbi+GDUTwbDEz8DsmXrAYN6IPwKxecDM7pFAmNjCv6S3PUD4xtG/ePvdv97qQMCgAMu+yCyLvwDSnrxAHRc+EvS5QOkAG8HiP+XAyNKtv2DNur4I7LNA5VDewCDYqb6Q/vLAEIoLv2meGsH9OMPAsDNvv5DiUUB0W/dA2BUBQNQJyED44oM/IAQ8wMqtyMAQQGvA+hFzwAgylT9AY+PAQERaPtx6EEBoVP1AyKmrP1DljMAT/eHAQFlBvtC/xj98DEhAPCrDwBCi5b8=",
            "dtype": "f4"
           },
           "y": {
            "bdata": "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",
            "dtype": "f4"
           },
           "z": {
            "bdata": "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",
            "dtype": "f4"
           }
          },
          {
           "marker": {
            "color": "#00CC96",
            "line": {
             "color": "black",
             "width": 0.5
            },
            "size": 6,
            "symbol": "diamond"
           },
           "mode": "markers+text",
           "name": "Cluster 2",
           "text": [
            "C2"
           ],
           "textposition": "top center",
           "type": "scatter3d",
           "x": {
            "bdata": "r8B4vw==",
            "dtype": "f4"
           },
           "y": {
            "bdata": "vCTBwA==",
            "dtype": "f4"
           },
           "z": {
            "bdata": "DaCwwA==",
            "dtype": "f4"
           }
          },
          {
           "marker": {
            "color": "#AB63FA",
            "opacity": 1,
            "size": 4
           },
           "mode": "markers",
           "showlegend": false,
           "type": "scatter3d",
           "x": {
            "bdata": "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",
            "dtype": "f4"
           },
           "y": {
            "bdata": "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",
            "dtype": "f4"
           },
           "z": {
            "bdata": "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",
            "dtype": "f4"
           }
          },
          {
           "marker": {
            "color": "#AB63FA",
            "line": {
             "color": "black",
             "width": 0.5
            },
            "size": 6,
            "symbol": "diamond"
           },
           "mode": "markers+text",
           "name": "Cluster 3",
           "text": [
            "C3"
           ],
           "textposition": "top center",
           "type": "scatter3d",
           "x": {
            "bdata": "8weTwA==",
            "dtype": "f4"
           },
           "y": {
            "bdata": "yrWOQA==",
            "dtype": "f4"
           },
           "z": {
            "bdata": "S8mmwA==",
            "dtype": "f4"
           }
          },
          {
           "marker": {
            "color": "#FFA15A",
            "opacity": 1,
            "size": 4
           },
           "mode": "markers",
           "showlegend": false,
           "type": "scatter3d",
           "x": {
            "bdata": "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",
            "dtype": "f4"
           },
           "y": {
            "bdata": "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",
            "dtype": "f4"
           },
           "z": {
            "bdata": "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",
            "dtype": "f4"
           }
          },
          {
           "marker": {
            "color": "#FFA15A",
            "line": {
             "color": "black",
             "width": 0.5
            },
            "size": 6,
            "symbol": "diamond"
           },
           "mode": "markers+text",
           "name": "Cluster 4",
           "text": [
            "C4"
           ],
           "textposition": "top center",
           "type": "scatter3d",
           "x": {
            "bdata": "+j2fwA==",
            "dtype": "f4"
           },
           "y": {
            "bdata": "WSugQA==",
            "dtype": "f4"
           },
           "z": {
            "bdata": "2TahQA==",
            "dtype": "f4"
           }
          },
          {
           "marker": {
            "color": "#19D3F3",
            "opacity": 1,
            "size": 4
           },
           "mode": "markers",
           "showlegend": false,
           "type": "scatter3d",
           "x": {
            "bdata": "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",
            "dtype": "f4"
           },
           "y": {
            "bdata": "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",
            "dtype": "f4"
           },
           "z": {
            "bdata": "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",
            "dtype": "f4"
           }
          },
          {
           "marker": {
            "color": "#19D3F3",
            "line": {
             "color": "black",
             "width": 0.5
            },
            "size": 6,
            "symbol": "diamond"
           },
           "mode": "markers+text",
           "name": "Cluster 5",
           "text": [
            "C5"
           ],
           "textposition": "top center",
           "type": "scatter3d",
           "x": {
            "bdata": "6luaQA==",
            "dtype": "f4"
           },
           "y": {
            "bdata": "PlyxQA==",
            "dtype": "f4"
           },
           "z": {
            "bdata": "WzeNQA==",
            "dtype": "f4"
           }
          },
          {
           "marker": {
            "color": "#FF6692",
            "opacity": 1,
            "size": 4
           },
           "mode": "markers",
           "showlegend": false,
           "type": "scatter3d",
           "x": {
            "bdata": "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",
            "dtype": "f4"
           },
           "y": {
            "bdata": "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",
            "dtype": "f4"
           },
           "z": {
            "bdata": "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",
            "dtype": "f4"
           }
          },
          {
           "marker": {
            "color": "#FF6692",
            "line": {
             "color": "black",
             "width": 0.5
            },
            "size": 6,
            "symbol": "diamond"
           },
           "mode": "markers+text",
           "name": "Cluster 6",
           "text": [
            "C6"
           ],
           "textposition": "top center",
           "type": "scatter3d",
           "x": {
            "bdata": "era+QA==",
            "dtype": "f4"
           },
           "y": {
            "bdata": "NmUAQA==",
            "dtype": "f4"
           },
           "z": {
            "bdata": "8ROqwA==",
            "dtype": "f4"
           }
          }
         ],
         "name": "frame4"
        }
       ],
       "layout": {
        "margin": {
         "b": 0,
         "l": 0,
         "r": 0,
         "t": 40
        },
        "scene": {
         "bgcolor": "white",
         "xaxis": {
          "title": {
           "text": "UMAP-1"
          }
         },
         "yaxis": {
          "title": {
           "text": "UMAP-2"
          }
         },
         "zaxis": {
          "title": {
           "text": "UMAP-3"
          }
         }
        },
        "sliders": [
         {
          "len": 0.6,
          "steps": [
           {
            "args": [
             [
              "frame0"
             ]
            ],
            "label": "0",
            "method": "animate"
           },
           {
            "args": [
             [
              "frame1"
             ]
            ],
            "label": "1",
            "method": "animate"
           },
           {
            "args": [
             [
              "frame2"
             ]
            ],
            "label": "2",
            "method": "animate"
           },
           {
            "args": [
             [
              "frame3"
             ]
            ],
            "label": "3",
            "method": "animate"
           },
           {
            "args": [
             [
              "frame4"
             ]
            ],
            "label": "4",
            "method": "animate"
           }
          ],
          "transition": {
           "duration": 0
          },
          "x": 0.156,
          "y": 0
         }
        ],
        "template": {
         "data": {
          "bar": [
           {
            "error_x": {
             "color": "#2a3f5f"
            },
            "error_y": {
             "color": "#2a3f5f"
            },
            "marker": {
             "line": {
              "color": "#E5ECF6",
              "width": 0.5
             },
             "pattern": {
              "fillmode": "overlay",
              "size": 10,
              "solidity": 0.2
             }
            },
            "type": "bar"
           }
          ],
          "barpolar": [
           {
            "marker": {
             "line": {
              "color": "#E5ECF6",
              "width": 0.5
             },
             "pattern": {
              "fillmode": "overlay",
              "size": 10,
              "solidity": 0.2
             }
            },
            "type": "barpolar"
           }
          ],
          "carpet": [
           {
            "aaxis": {
             "endlinecolor": "#2a3f5f",
             "gridcolor": "white",
             "linecolor": "white",
             "minorgridcolor": "white",
             "startlinecolor": "#2a3f5f"
            },
            "baxis": {
             "endlinecolor": "#2a3f5f",
             "gridcolor": "white",
             "linecolor": "white",
             "minorgridcolor": "white",
             "startlinecolor": "#2a3f5f"
            },
            "type": "carpet"
           }
          ],
          "choropleth": [
           {
            "colorbar": {
             "outlinewidth": 0,
             "ticks": ""
            },
            "type": "choropleth"
           }
          ],
          "contour": [
           {
            "colorbar": {
             "outlinewidth": 0,
             "ticks": ""
            },
            "colorscale": [
             [
              0,
              "#0d0887"
             ],
             [
              0.1111111111111111,
              "#46039f"
             ],
             [
              0.2222222222222222,
              "#7201a8"
             ],
             [
              0.3333333333333333,
              "#9c179e"
             ],
             [
              0.4444444444444444,
              "#bd3786"
             ],
             [
              0.5555555555555556,
              "#d8576b"
             ],
             [
              0.6666666666666666,
              "#ed7953"
             ],
             [
              0.7777777777777778,
              "#fb9f3a"
             ],
             [
              0.8888888888888888,
              "#fdca26"
             ],
             [
              1,
              "#f0f921"
             ]
            ],
            "type": "contour"
           }
          ],
          "contourcarpet": [
           {
            "colorbar": {
             "outlinewidth": 0,
             "ticks": ""
            },
            "type": "contourcarpet"
           }
          ],
          "heatmap": [
           {
            "colorbar": {
             "outlinewidth": 0,
             "ticks": ""
            },
            "colorscale": [
             [
              0,
              "#0d0887"
             ],
             [
              0.1111111111111111,
              "#46039f"
             ],
             [
              0.2222222222222222,
              "#7201a8"
             ],
             [
              0.3333333333333333,
              "#9c179e"
             ],
             [
              0.4444444444444444,
              "#bd3786"
             ],
             [
              0.5555555555555556,
              "#d8576b"
             ],
             [
              0.6666666666666666,
              "#ed7953"
             ],
             [
              0.7777777777777778,
              "#fb9f3a"
             ],
             [
              0.8888888888888888,
              "#fdca26"
             ],
             [
              1,
              "#f0f921"
             ]
            ],
            "type": "heatmap"
           }
          ],
          "histogram": [
           {
            "marker": {
             "pattern": {
              "fillmode": "overlay",
              "size": 10,
              "solidity": 0.2
             }
            },
            "type": "histogram"
           }
          ],
          "histogram2d": [
           {
            "colorbar": {
             "outlinewidth": 0,
             "ticks": ""
            },
            "colorscale": [
             [
              0,
              "#0d0887"
             ],
             [
              0.1111111111111111,
              "#46039f"
             ],
             [
              0.2222222222222222,
              "#7201a8"
             ],
             [
              0.3333333333333333,
              "#9c179e"
             ],
             [
              0.4444444444444444,
              "#bd3786"
             ],
             [
              0.5555555555555556,
              "#d8576b"
             ],
             [
              0.6666666666666666,
              "#ed7953"
             ],
             [
              0.7777777777777778,
              "#fb9f3a"
             ],
             [
              0.8888888888888888,
              "#fdca26"
             ],
             [
              1,
              "#f0f921"
             ]
            ],
            "type": "histogram2d"
           }
          ],
          "histogram2dcontour": [
           {
            "colorbar": {
             "outlinewidth": 0,
             "ticks": ""
            },
            "colorscale": [
             [
              0,
              "#0d0887"
             ],
             [
              0.1111111111111111,
              "#46039f"
             ],
             [
              0.2222222222222222,
              "#7201a8"
             ],
             [
              0.3333333333333333,
              "#9c179e"
             ],
             [
              0.4444444444444444,
              "#bd3786"
             ],
             [
              0.5555555555555556,
              "#d8576b"
             ],
             [
              0.6666666666666666,
              "#ed7953"
             ],
             [
              0.7777777777777778,
              "#fb9f3a"
             ],
             [
              0.8888888888888888,
              "#fdca26"
             ],
             [
              1,
              "#f0f921"
             ]
            ],
            "type": "histogram2dcontour"
           }
          ],
          "mesh3d": [
           {
            "colorbar": {
             "outlinewidth": 0,
             "ticks": ""
            },
            "type": "mesh3d"
           }
          ],
          "parcoords": [
           {
            "line": {
             "colorbar": {
              "outlinewidth": 0,
              "ticks": ""
             }
            },
            "type": "parcoords"
           }
          ],
          "pie": [
           {
            "automargin": true,
            "type": "pie"
           }
          ],
          "scatter": [
           {
            "fillpattern": {
             "fillmode": "overlay",
             "size": 10,
             "solidity": 0.2
            },
            "type": "scatter"
           }
          ],
          "scatter3d": [
           {
            "line": {
             "colorbar": {
              "outlinewidth": 0,
              "ticks": ""
             }
            },
            "marker": {
             "colorbar": {
              "outlinewidth": 0,
              "ticks": ""
             }
            },
            "type": "scatter3d"
           }
          ],
          "scattercarpet": [
           {
            "marker": {
             "colorbar": {
              "outlinewidth": 0,
              "ticks": ""
             }
            },
            "type": "scattercarpet"
           }
          ],
          "scattergeo": [
           {
            "marker": {
             "colorbar": {
              "outlinewidth": 0,
              "ticks": ""
             }
            },
            "type": "scattergeo"
           }
          ],
          "scattergl": [
           {
            "marker": {
             "colorbar": {
              "outlinewidth": 0,
              "ticks": ""
             }
            },
            "type": "scattergl"
           }
          ],
          "scattermap": [
           {
            "marker": {
             "colorbar": {
              "outlinewidth": 0,
              "ticks": ""
             }
            },
            "type": "scattermap"
           }
          ],
          "scattermapbox": [
           {
            "marker": {
             "colorbar": {
              "outlinewidth": 0,
              "ticks": ""
             }
            },
            "type": "scattermapbox"
           }
          ],
          "scatterpolar": [
           {
            "marker": {
             "colorbar": {
              "outlinewidth": 0,
              "ticks": ""
             }
            },
            "type": "scatterpolar"
           }
          ],
          "scatterpolargl": [
           {
            "marker": {
             "colorbar": {
              "outlinewidth": 0,
              "ticks": ""
             }
            },
            "type": "scatterpolargl"
           }
          ],
          "scatterternary": [
           {
            "marker": {
             "colorbar": {
              "outlinewidth": 0,
              "ticks": ""
             }
            },
            "type": "scatterternary"
           }
          ],
          "surface": [
           {
            "colorbar": {
             "outlinewidth": 0,
             "ticks": ""
            },
            "colorscale": [
             [
              0,
              "#0d0887"
             ],
             [
              0.1111111111111111,
              "#46039f"
             ],
             [
              0.2222222222222222,
              "#7201a8"
             ],
             [
              0.3333333333333333,
              "#9c179e"
             ],
             [
              0.4444444444444444,
              "#bd3786"
             ],
             [
              0.5555555555555556,
              "#d8576b"
             ],
             [
              0.6666666666666666,
              "#ed7953"
             ],
             [
              0.7777777777777778,
              "#fb9f3a"
             ],
             [
              0.8888888888888888,
              "#fdca26"
             ],
             [
              1,
              "#f0f921"
             ]
            ],
            "type": "surface"
           }
          ],
          "table": [
           {
            "cells": {
             "fill": {
              "color": "#EBF0F8"
             },
             "line": {
              "color": "white"
             }
            },
            "header": {
             "fill": {
              "color": "#C8D4E3"
             },
             "line": {
              "color": "white"
             }
            },
            "type": "table"
           }
          ]
         },
         "layout": {
          "annotationdefaults": {
           "arrowcolor": "#2a3f5f",
           "arrowhead": 0,
           "arrowwidth": 1
          },
          "autotypenumbers": "strict",
          "coloraxis": {
           "colorbar": {
            "outlinewidth": 0,
            "ticks": ""
           }
          },
          "colorscale": {
           "diverging": [
            [
             0,
             "#8e0152"
            ],
            [
             0.1,
             "#c51b7d"
            ],
            [
             0.2,
             "#de77ae"
            ],
            [
             0.3,
             "#f1b6da"
            ],
            [
             0.4,
             "#fde0ef"
            ],
            [
             0.5,
             "#f7f7f7"
            ],
            [
             0.6,
             "#e6f5d0"
            ],
            [
             0.7,
             "#b8e186"
            ],
            [
             0.8,
             "#7fbc41"
            ],
            [
             0.9,
             "#4d9221"
            ],
            [
             1,
             "#276419"
            ]
           ],
           "sequential": [
            [
             0,
             "#0d0887"
            ],
            [
             0.1111111111111111,
             "#46039f"
            ],
            [
             0.2222222222222222,
             "#7201a8"
            ],
            [
             0.3333333333333333,
             "#9c179e"
            ],
            [
             0.4444444444444444,
             "#bd3786"
            ],
            [
             0.5555555555555556,
             "#d8576b"
            ],
            [
             0.6666666666666666,
             "#ed7953"
            ],
            [
             0.7777777777777778,
             "#fb9f3a"
            ],
            [
             0.8888888888888888,
             "#fdca26"
            ],
            [
             1,
             "#f0f921"
            ]
           ],
           "sequentialminus": [
            [
             0,
             "#0d0887"
            ],
            [
             0.1111111111111111,
             "#46039f"
            ],
            [
             0.2222222222222222,
             "#7201a8"
            ],
            [
             0.3333333333333333,
             "#9c179e"
            ],
            [
             0.4444444444444444,
             "#bd3786"
            ],
            [
             0.5555555555555556,
             "#d8576b"
            ],
            [
             0.6666666666666666,
             "#ed7953"
            ],
            [
             0.7777777777777778,
             "#fb9f3a"
            ],
            [
             0.8888888888888888,
             "#fdca26"
            ],
            [
             1,
             "#f0f921"
            ]
           ]
          },
          "colorway": [
           "#636efa",
           "#EF553B",
           "#00cc96",
           "#ab63fa",
           "#FFA15A",
           "#19d3f3",
           "#FF6692",
           "#B6E880",
           "#FF97FF",
           "#FECB52"
          ],
          "font": {
           "color": "#2a3f5f"
          },
          "geo": {
           "bgcolor": "white",
           "lakecolor": "white",
           "landcolor": "#E5ECF6",
           "showlakes": true,
           "showland": true,
           "subunitcolor": "white"
          },
          "hoverlabel": {
           "align": "left"
          },
          "hovermode": "closest",
          "mapbox": {
           "style": "light"
          },
          "paper_bgcolor": "white",
          "plot_bgcolor": "#E5ECF6",
          "polar": {
           "angularaxis": {
            "gridcolor": "white",
            "linecolor": "white",
            "ticks": ""
           },
           "bgcolor": "#E5ECF6",
           "radialaxis": {
            "gridcolor": "white",
            "linecolor": "white",
            "ticks": ""
           }
          },
          "scene": {
           "xaxis": {
            "backgroundcolor": "#E5ECF6",
            "gridcolor": "white",
            "gridwidth": 2,
            "linecolor": "white",
            "showbackground": true,
            "ticks": "",
            "zerolinecolor": "white"
           },
           "yaxis": {
            "backgroundcolor": "#E5ECF6",
            "gridcolor": "white",
            "gridwidth": 2,
            "linecolor": "white",
            "showbackground": true,
            "ticks": "",
            "zerolinecolor": "white"
           },
           "zaxis": {
            "backgroundcolor": "#E5ECF6",
            "gridcolor": "white",
            "gridwidth": 2,
            "linecolor": "white",
            "showbackground": true,
            "ticks": "",
            "zerolinecolor": "white"
           }
          },
          "shapedefaults": {
           "line": {
            "color": "#2a3f5f"
           }
          },
          "ternary": {
           "aaxis": {
            "gridcolor": "white",
            "linecolor": "white",
            "ticks": ""
           },
           "baxis": {
            "gridcolor": "white",
            "linecolor": "white",
            "ticks": ""
           },
           "bgcolor": "#E5ECF6",
           "caxis": {
            "gridcolor": "white",
            "linecolor": "white",
            "ticks": ""
           }
          },
          "title": {
           "x": 0.05
          },
          "xaxis": {
           "automargin": true,
           "gridcolor": "white",
           "linecolor": "white",
           "ticks": "",
           "title": {
            "standoff": 15
           },
           "zerolinecolor": "white",
           "zerolinewidth": 2
          },
          "yaxis": {
           "automargin": true,
           "gridcolor": "white",
           "linecolor": "white",
           "ticks": "",
           "title": {
            "standoff": 15
           },
           "zerolinecolor": "white",
           "zerolinewidth": 2
          }
         }
        },
        "title": {
         "text": "🌌 UMAP 3D K-Means Iterations"
        },
        "updatemenus": [
         {
          "buttons": [
           {
            "args": [
             null
            ],
            "label": "Play",
            "method": "animate"
           }
          ],
          "showactive": false,
          "type": "buttons"
         }
        ]
       }
      }
     },
     "metadata": {},
     "output_type": "display_data"
    }
   ],
   "source": [
    "# Bernat: any setting <1 will cause sorting order artifacts because of\n",
    "# the rendering engine's static sorting order on transparents.\n",
    "point_opacity = 1\n",
    "\n",
    "colors = px.colors.qualitative.Plotly\n",
    "\n",
    "# Static layout\n",
    "layout = go.Layout(\n",
    "    title=\"🌌 UMAP 3D K-Means Iterations\",\n",
    "    margin=dict(l=0, r=0, b=0, t=40),\n",
    "    scene=dict(\n",
    "        xaxis_title='UMAP-1',\n",
    "        yaxis_title='UMAP-2',\n",
    "        zaxis_title='UMAP-3',\n",
    "        bgcolor='white'\n",
    "    ),\n",
    "    updatemenus=[dict(\n",
    "        type='buttons',\n",
    "        showactive=False,\n",
    "        buttons=[dict(label='Play', method='animate', args=[None])]\n",
    "    )],\n",
    "    sliders=[dict(\n",
    "        steps=[dict(method='animate', args=[[f'frame{k}']], label=str(k)) for k in range(len(iterations))],\n",
    "        transition=dict(duration=0),\n",
    "        x=0.156, y=0, len=0.6\n",
    "    )]\n",
    ")\n",
    "\n",
    "# Initial empty figure\n",
    "fig = go.Figure(layout=layout)\n",
    "\n",
    "# Initial data for frame 0\n",
    "iter0 = iteration_meta[0]\n",
    "cmap = {cid: colors[i % len(colors)] for i, cid in enumerate(np.unique(iter0['centroid_ids']))}\n",
    "\n",
    "for cid in cmap:\n",
    "    mask = iter0['point_cluster_ids'] == cid\n",
    "    fig.add_trace(go.Scatter3d(\n",
    "        x=points_3d_per_iter[0][mask, 0],\n",
    "        y=points_3d_per_iter[0][mask, 1],\n",
    "        z=points_3d_per_iter[0][mask, 2],\n",
    "        mode='markers',\n",
    "        marker=dict(size=4, color=cmap[cid], opacity=point_opacity),\n",
    "        showlegend=False\n",
    "    ))\n",
    "    mask = iter0['centroid_ids'] == cid\n",
    "    fig.add_trace(go.Scatter3d(\n",
    "        x=centroids_3d_per_iter[0][mask, 0],\n",
    "        y=centroids_3d_per_iter[0][mask, 1],\n",
    "        z=centroids_3d_per_iter[0][mask, 2],\n",
    "        mode='markers+text',\n",
    "        marker=dict(size=6, symbol='diamond', color=cmap[cid], line=dict(width=0.5, color='black')),\n",
    "        name=f'Cluster {cid}',\n",
    "        text=[f\"C{cid}\"] * np.sum(mask),\n",
    "        textposition=\"top center\"\n",
    "    ))\n",
    "\n",
    "# Add frames\n",
    "frames = []\n",
    "for k, meta in enumerate(iteration_meta):\n",
    "    frame_data = []\n",
    "    cmap = {cid: colors[i % len(colors)] for i, cid in enumerate(np.unique(meta['centroid_ids']))}\n",
    "\n",
    "    for cid in cmap:\n",
    "        mask_p = meta['point_cluster_ids'] == cid\n",
    "        mask_c = meta['centroid_ids'] == cid\n",
    "\n",
    "        frame_data.append(go.Scatter3d(\n",
    "            x=points_3d_per_iter[k][mask_p, 0],\n",
    "            y=points_3d_per_iter[k][mask_p, 1],\n",
    "            z=points_3d_per_iter[k][mask_p, 2],\n",
    "            mode='markers',\n",
    "            marker=dict(size=4, color=cmap[cid], opacity=point_opacity),\n",
    "            showlegend=False\n",
    "        ))\n",
    "        frame_data.append(go.Scatter3d(\n",
    "            x=centroids_3d_per_iter[k][mask_c, 0],\n",
    "            y=centroids_3d_per_iter[k][mask_c, 1],\n",
    "            z=centroids_3d_per_iter[k][mask_c, 2],\n",
    "            mode='markers+text',\n",
    "            marker=dict(size=6, symbol='diamond', color=cmap[cid], line=dict(width=0.5, color='black')),\n",
    "            name=f'Cluster {cid}',\n",
    "            text=[f\"C{cid}\"] * np.sum(mask_c),\n",
    "            textposition=\"top center\"\n",
    "        ))\n",
    "\n",
    "    frames.append(go.Frame(data=frame_data, name=f\"frame{k}\"))\n",
    "\n",
    "fig.frames = frames\n",
    "fig.show()\n"
   ]
  }
 ],
 "metadata": {
  "kernelspec": {
   "display_name": ".venv",
   "language": "python",
   "name": "python3"
  },
  "language_info": {
   "codemirror_mode": {
    "name": "ipython",
    "version": 3
   },
   "file_extension": ".py",
   "mimetype": "text/x-python",
   "name": "python",
   "nbconvert_exporter": "python",
   "pygments_lexer": "ipython3",
   "version": "3.11.2"
  }
 },
 "nbformat": 4,
 "nbformat_minor": 5
}
