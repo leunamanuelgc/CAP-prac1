{
 "cells": [
  {
   "cell_type": "code",
   "execution_count": 9,
   "id": "136a0079",
   "metadata": {},
   "outputs": [],
   "source": [
    "import struct\n",
    "import numpy as np\n",
    "import umap\n",
    "import plotly.graph_objects as go\n",
    "import plotly.express as px"
   ]
  },
  {
   "cell_type": "code",
   "execution_count": 10,
   "id": "0db8952f",
   "metadata": {},
   "outputs": [],
   "source": [
    "def read_all_iterations(filename):\n",
    "    iterations = []\n",
    "\n",
    "    with open(filename, \"rb\") as f:\n",
    "        # Read header once\n",
    "        n_clusters = struct.unpack(\"I\", f.read(4))[0]\n",
    "        n_points = struct.unpack(\"I\", f.read(4))[0]\n",
    "        n_dim = struct.unpack(\"I\", f.read(4))[0]\n",
    "\n",
    "        # Determine how many bytes one iteration takes\n",
    "        bytes_per_centroid = (4 * n_dim) + 4  # centroid values + id\n",
    "        bytes_per_point = (4 * n_dim) + 4     # point values + cluster_id\n",
    "        bytes_per_iteration = n_clusters * bytes_per_centroid + n_points * bytes_per_point\n",
    "\n",
    "        file_data = f.read()\n",
    "        total_bytes = len(file_data)\n",
    "        n_iterations = total_bytes // bytes_per_iteration\n",
    "\n",
    "        print(f\"📦 Detected {n_iterations} iterations\")\n",
    "\n",
    "        offset = 0\n",
    "        for iter_idx in range(n_iterations):\n",
    "            # --- Read centroids ---\n",
    "            centroid_data = np.zeros((n_clusters, n_dim), dtype=np.float32)\n",
    "            centroid_ids = np.zeros(n_clusters, dtype=np.int32)\n",
    "            for i in range(n_clusters):\n",
    "                start = offset\n",
    "                centroid_data[i] = np.frombuffer(file_data[start:start + 4 * n_dim], dtype=np.float32)\n",
    "                offset += 4 * n_dim\n",
    "                centroid_ids[i] = struct.unpack(\"i\", file_data[offset:offset + 4])[0]\n",
    "                offset += 4\n",
    "\n",
    "            # --- Read points ---\n",
    "            point_data = np.zeros((n_points, n_dim), dtype=np.float32)\n",
    "            point_cluster_ids = np.zeros(n_points, dtype=np.int32)\n",
    "            for i in range(n_points):\n",
    "                start = offset\n",
    "                point_data[i] = np.frombuffer(file_data[start:start + 4 * n_dim], dtype=np.float32)\n",
    "                offset += 4 * n_dim\n",
    "                point_cluster_ids[i] = struct.unpack(\"i\", file_data[offset:offset + 4])[0]\n",
    "                offset += 4\n",
    "\n",
    "            iterations.append({\n",
    "                'points': point_data,\n",
    "                'point_cluster_ids': point_cluster_ids,\n",
    "                'centroids': centroid_data,\n",
    "                'centroid_ids': centroid_ids,\n",
    "                'n_points': n_points,\n",
    "                'n_centroids': n_clusters\n",
    "            })\n",
    "\n",
    "    return n_clusters, n_points, n_dim, iterations"
   ]
  },
  {
   "cell_type": "code",
   "execution_count": 11,
   "id": "4d29fe23",
   "metadata": {},
   "outputs": [
    {
     "name": "stdout",
     "output_type": "stream",
     "text": [
      "📦 Detected 6 iterations\n"
     ]
    }
   ],
   "source": [
    "filename = \"./build/data/cluster_data\"\n",
    "n_clusters, n_points, n_dim, iterations = read_all_iterations(filename)"
   ]
  },
  {
   "cell_type": "code",
   "execution_count": 12,
   "id": "a9035409",
   "metadata": {},
   "outputs": [
    {
     "name": "stdout",
     "output_type": "stream",
     "text": [
      "✅ First iteration summary:\n",
      "Centroids:\n",
      " [[-4.4644218e+01 -7.2075111e+01 -6.6106522e+01]\n",
      " [-1.6283095e-01  1.0444918e-01  1.4045243e-01]\n",
      " [ 4.3807816e+01 -3.3464657e+01 -5.9377323e+01]\n",
      " [ 4.4797268e+01  6.1307079e+01 -1.3041602e+01]\n",
      " [-9.1602467e-02  4.2638712e-02  1.6962196e-01]\n",
      " [-1.1864108e-02  9.3540564e-02 -2.1463150e-02]\n",
      " [-2.2618065e+01  4.4507172e+01  6.4330772e+01]\n",
      " [-2.0338812e+00 -4.4990421e+01  6.4403236e+01]\n",
      " [-6.1230373e+01  2.0409479e+01 -4.3502918e+01]\n",
      " [ 7.0162220e+00 -7.0598137e+01  2.9302311e+00]]\n",
      "Points shape: (1000000, 3)\n",
      "Unique cluster IDs: [0 1 2 3 4 5 6 7 8 9]\n"
     ]
    }
   ],
   "source": [
    "print(\"✅ First iteration summary:\")\n",
    "print(\"Centroids:\\n\", iterations[0]['centroids'])\n",
    "print(\"Points shape:\", iterations[0]['points'].shape)\n",
    "print(\"Unique cluster IDs:\", np.unique(iterations[0]['centroid_ids']))\n"
   ]
  },
  {
   "cell_type": "code",
   "execution_count": 13,
   "id": "666168cf",
   "metadata": {},
   "outputs": [],
   "source": [
    "all_points = []\n",
    "all_centroids = []\n",
    "all_point_ids = []\n",
    "iteration_meta = []\n",
    "\n",
    "for i, it in enumerate(iterations):\n",
    "    all_points.append(it['points'])\n",
    "    all_centroids.append(it['centroids'])\n",
    "    all_point_ids.append(it['point_cluster_ids'])\n",
    "\n",
    "    iteration_meta.append({\n",
    "        'n_points': len(it['points']),\n",
    "        'n_centroids': len(it['centroids']),\n",
    "        'point_cluster_ids': it['point_cluster_ids'],\n",
    "        'centroid_ids': it['centroid_ids'],\n",
    "    })\n",
    "\n",
    "# Stack all points for reduction\n",
    "points_concat = np.vstack(all_points)\n",
    "centroids_concat = np.vstack(all_centroids)\n",
    "\n",
    "if points_concat.shape[1] > 3:\n",
    "    reducer = umap.UMAP(\n",
    "        n_components=3,\n",
    "        n_neighbors=50,\n",
    "        min_dist=1,\n",
    "        metric='euclidean',\n",
    "        low_memory=True,\n",
    "    )\n",
    "    points_umap = reducer.fit_transform(points_concat)\n",
    "    centroids_umap = reducer.transform(centroids_concat)\n",
    "elif points_concat.shape[1] < 3:\n",
    "    padding = ((0, 0), (0, 3 - points_concat.shape[1]))\n",
    "    points_umap = np.pad(points_concat, padding, mode='constant', constant_values=0)\n",
    "    centroids_umap = np.pad(centroids_concat, padding, mode='constant', constant_values=0)\n",
    "else:\n",
    "    points_umap = points_concat\n",
    "    centroids_umap = centroids_concat\n"
   ]
  },
  {
   "cell_type": "code",
   "execution_count": 14,
   "id": "ceb7bc70",
   "metadata": {},
   "outputs": [],
   "source": [
    "points_3d_per_iter = []\n",
    "centroids_3d_per_iter = []\n",
    "\n",
    "p_idx, c_idx = 0, 0\n",
    "for meta in iteration_meta:\n",
    "    np_ = meta['n_points']\n",
    "    nc_ = meta['n_centroids']\n",
    "    points_3d_per_iter.append(points_umap[p_idx:p_idx+np_])\n",
    "    centroids_3d_per_iter.append(centroids_umap[c_idx:c_idx+nc_])\n",
    "    p_idx += np_\n",
    "    c_idx += nc_\n"
   ]
  },
  {
   "cell_type": "code",
   "execution_count": 15,
   "id": "2994bde6",
   "metadata": {},
   "outputs": [],
   "source": [
    "def voxel_downsample(points, cluster_ids, voxel_size=0.1, max_points=10_000):\n",
    "    max_points = int(max_points)\n",
    "    down_points, down_ids = [], []\n",
    "    for cid in np.unique(cluster_ids):\n",
    "        pts = points[cluster_ids == cid]\n",
    "        if len(pts) == 0:\n",
    "            continue\n",
    "        vox = np.floor(pts / voxel_size).astype(int)\n",
    "        _, idx = np.unique(vox, axis=0, return_index=True)\n",
    "        reduced = pts[idx]\n",
    "        if len(reduced) > max_points:\n",
    "            reduced = reduced[np.random.choice(len(reduced), max_points, replace=False)]\n",
    "        down_points.append(reduced)\n",
    "        down_ids.append(np.full(len(reduced), cid, dtype=np.int32))\n",
    "    return np.vstack(down_points), np.concatenate(down_ids)\n",
    "\n",
    "reduced_points_3d_per_iter = []\n",
    "reduced_cluster_ids_per_iter = []\n",
    "max_points_per_iter = 3500\n",
    "\n",
    "for i, (pts3d, meta) in enumerate(zip(points_3d_per_iter, iteration_meta)):\n",
    "    if len(pts3d) > max_points_per_iter:\n",
    "        reduced_pts, reduced_ids = voxel_downsample(pts3d, meta['point_cluster_ids'], max_points=max_points_per_iter/n_clusters)\n",
    "        reduced_points_3d_per_iter.append(reduced_pts)\n",
    "        reduced_cluster_ids_per_iter.append(reduced_ids)\n",
    "    else:\n",
    "        reduced_points_3d_per_iter.append(pts3d)\n",
    "        reduced_cluster_ids_per_iter.append(meta['point_cluster_ids'])\n",
    "\n",
    "# Replace old lists with reduced versions\n",
    "points_3d_per_iter = reduced_points_3d_per_iter\n",
    "for i in range(len(iteration_meta)):\n",
    "    iteration_meta[i]['point_cluster_ids'] = reduced_cluster_ids_per_iter[i]\n"
   ]
  },
  {
   "cell_type": "code",
   "execution_count": 16,
   "id": "e1e0f2ae",
   "metadata": {},
   "outputs": [
    {
     "data": {
      "application/vnd.plotly.v1+json": {
       "config": {
        "plotlyServerURL": "https://plot.ly"
       },
       "data": [
        {
         "marker": {
          "color": "#636EFA",
          "opacity": 1,
          "size": 4
         },
         "mode": "markers",
         "name": "C0",
         "showlegend": false,
         "type": "scatter3d",
         "x": {
          "bdata": "aG1RwsxtscF7CyzCdPDJwTnqdMJwgPvBuD7hwYi6hMLw7JLBfiCCws8aI8JE3THCYh1hwlJ9isIXZmnCKOaLwXgJ1cE8BKHBVgWQwvxe/sHoN0nCIYotwvPybcJS82/CuH/vwVpOZMIwsOXBgEwYwt7jAMKgq5/ChlmMwpL8UMKHxBjC2xNNwobTMMKnCU/CTeQ1wg4MAML08B/CID14wdBNI8KwVvLBrFygwf1VIcIa9wjCVcg6wkbjkMKdLlLCQ3KOwo8ZQMJi1RrC461Mwgwfi8EwzaTC2GqFwrupOsJZN7rCIICGwZMPM8LgCoHC0Sl6wtDUDcJHyRTCITR0wsoJgMIEq/DB8Px7wmATfsEoWgrB4EZDwYuVTsIjM6zC8BsSwhTr+sGyhWbChr6Cwg6EC8IKSZrCE2yZwpgYvMHQ2P/BECulwU7ppsKsBozBlO0WwtoqB8IJ90vCyFk2wt9FasKuzlHCyKIMwjh8MMINWi7CeJTkwQSw3cFVTYvCIHYAwdBxfsLo2TzCDJ+owqnsRcLcJ6bBCU5cwqCZ38FavwLCsIBcwjquC8KcfB7CpP37wYCBbMIgI03BKLYUwSQvmMLu5QvCDNqNwivwXMI8dvzBTPcXwlahm8ISboHCTumPwmA+YMIACOXAcMzIwbLTZcIw9nXCWIYrwjzn0cHodeLB3Py6wseMScL2zWfC8zwzwkEFFMISCrjCvJqGwu8of8KIe4jBKWGjwt/zLcJ+SCzCqITmwQpaFsIXixHCJk5iwpiFr8LAtZXBxJrywSWTXcLB1rDCslhgwlHkf8J6FVzCiC+jwmrrgMKZxkjCeAEFwVkgVMJEZE/CKMUOwQxLM8JBtSLC0RRWwvmAd8Jg1Z7CJLyzwbSILMLzFIzCFq06wpC46MFA1Q3CbJUwwuhhCMIt/xDC6wVqwllbgsLjDUDCpOZjwtzq/8Fo5HTCfntvwqAqKsEz4TbCgEK1wZYRCMK8tsjBg00+wrz/psEFJCjChNcFwjMCiMLsY9/BCATcwcSojMLAry3BRUVMwquAHMK+dRzC+N67wTCw98EfmHLCyBeDwkTKzMHTHyjCWHbowQAVrsEEtIHCnRUywgOXi8LolojBbI2HwqxK9cH8p6fC8FXIwdQk5sFdupDC7ch0whgNAcJ8kVbCKXkSwvga8cHO+i3CEUoQwhDYhsFN9SzC7D2BwkoMXsJ3FyTCTsmCwgIiVsI8Mq7CNIp6wiRRYcJQxv/BQdJDwujLdsK1N1DCBE4KwgzOccK87/jB9v4gwtxeDsJQXwTC5F+Fwopmd8KyD3XCsaUdwnT8scFpVBnCxC0jwsawa8KCqwrC2CFAwWnnPsLYnpnBQ4lSws9+PMK7h6zC8KMjwv9Lk8LvI1LCSyYewsif5cHAOkjBqNuswaaxGsLEFdTBoa8vwuzX1MHXBTHCAMIRwqBtBsKQw9nB0DD9wajid8IF+6/Canhkwlwzk8J4pYnBg8Rgwv7COMKIpmHBDSJpwnDIZMIVtE3ClO2+wdbng8LIglDCxkuMwof6dcI+jhjCTE7iwcTo+8G44E7CZwspwi6tg8LlLzXCIKbRwbWqccID8iXC5180wtSJ/8HPKqDCKpNTwlDQK8KARfzBdHSdwi0aSMJwUWrB9NSNwWM4KcJNOGXCFVtRwkTLCcKUjCHC2s10wvp0u8KmQXfCfMmSwtyii8LgGHDBaCG/wUhGxMH+LIDCQMUnwXDKSsFQEt3BqNaAwmy12sHCooTCVGMMwqkmqsKdrTDCvEaNwcLjLcJIhHXBDHA9wuBXcMCEYJ3ChISBwe8ZNcI8aJzBe6gxwstSOsKQjuXAjP7FwWx3hcKQaaXBEO0uwv6fm8I=",
          "dtype": "f4"
         },
         "y": {
          "bdata": "94+/wi0issJCK1/CAMyPwhrfq8Iz2sHCdAe7widNu8IjBifC3Ay9ws2PKsJZ48PCoAyPwtfAnsJpy8fCJautwuoIwcISOZLCJkyrwux+OsJoKILCxHOUws15j8KRHbjCfIF7wjSSoMJbgbPC+uuqwpwJjsKVSrDCNV/EwpvMdsK9RLDCReiwwo4+ucJ+5HbCzISBwt6ajcKPesDCWDiCwhSKqMLowIbCoeBdwlVspcIsgmLCywVHwoSrpsLIPpTCGXmhwtXimsIrWijCthCRwu72F8Kb4cDCosyawhknnMJYjMTCQojBwkYggsLraKXC7N+LwjAUkcJsjI7Cbse/whi+lcJpihnCt7ScwkjPLsIMFlrCbntYwod0t8JZQMDCQ50cwpvgEcJWT4vCPLqywmuKUcKANajCma+3wls+csJRDF/Cho+lwpOKwcLCDxnCbjYvwnjJtMIUh5zCICiTwlQdt8IOAobCTKSWwvnxUsLXdYHCXJv3wUhQmsJJyZjCUMTtwVMFnsJXUlXCaKrFwskEtcLZa6DCWUW0wvNfLMLy64rCsjGbwiKij8IJOoHC6YgQwoGlgcI+NojClpEiwtpyu8IUeTrCjne5wsmXqsIBmq7CVvirwoy7vMJ0iKTCZlW8ws2CtcIONwTCNVKKwv57jML67cXCVaZcwkbwxcI7IKHCYSjAwovFt8LaELLCfTeTwmktXsIc6cXC0z/GwgKwisK8YPfB+WK9wrIWscKJPHjCtmudwqLdjMJzd7DCbOaDwj8pvMJlTHTChqmMwiIbpsKUfLnCZi6owmxRj8J0FqbC23mowjhgsMI9m6XCFjACwoA2n8KmDoHC4pKSwsSlncI2OsHC+CNowpR+q8LYCbfCQ5WlwuSET8JdoaTCVheHwvicqMKoIlDCOgKVwnppLsIikKPC6EmHwhyNvMLuhZ/C+U2zwn6wEMKEPavCpDqrwvfttMJkzJfCo7EXwoA0kcLmvyDCGHO4wvo+i8LgfKHC6z8UwsM5l8LSnx3CaBmewn4spcKjCEXCTmWiwnZ5V8KE+XzC91uzwle2fsLCMYHCkTiXwuymu8KO3anCCaiQwtCyvMHk557ChO6pwp+yqMKae5DCL9e6wlTzdcJCkr7CoM2KwmKBNMLzG63CzkGywlAXDMJTOLzC0sMYwjDrocIVkpbCdEpFwsCJlMIdoWvCdymywlhDisLmW47C3FbDwhSPr8K8ib7CmWKVwmHQjsL6ccHCjoikwjDCk8KXzrnCNtqgwiIlgsLUDiXC4YiAwpzfZ8LU5YjCQXWNwrLSlsLusanCM1tmwnanjsIV5VbCeDUtwsARgsLhnGjCKA8Fwio4ZsKD0B3CoUmhwhw3pcLnx7/Cmj04wrworcLRcGLCaic6wqo0ucLIOS/CZkMKwiFXvMI25yXCWPqXwmemRcJ5hbTCMRowwhMTi8I7l5jC53o6wiE+uMKYzbXCyj2Qwo5wocKJyGvCYCK3wqoXq8IHl2zCgMydwupXkcKmfpHC525PwiEbk8IIarPCfkm2wo0/gMK7qjXC7HkcwkeiWsKTocHClKmhwsDjtsKFskzCrY+cwvKwoMJsFlzCNF6kwv7DhsK0dqzChEeBwsRTjcKEaB3CDD2pwoGFt8KIinTCcPKOwkBPcsIrCrvCbFzEwiBHWcLwubnCNFqowmjVx8KeOa7CU7yhwk5gnsJ276jC+L1NwmavfMLD/a3CQ3dtwjxrlMIVLbfCyYa7wluNo8IUyMbCdZpowrk5xcIGw6/Cdml7ws9JqMIYp4DCYFdtwmB+N8GkorzCniJXwmJAxcKWCL3COCWXwqg+oMKHTcfChgybwgrXvcIuxgTChYY8wttqssI=",
          "dtype": "f4"
         },
         "z": {
          "bdata": "UvSzwotUkMKSMnXCwO5uwiawk8JUTpnCjGqBwrXMwsLb0ybCTT6fwmC59sG89rvCI/6uwsybqsKsubjCDNiNwmfjl8IJx23Cr9qQwgNeacL8DrDCbfh3wuf+V8JVT7DCGTc9wrpeh8IzlJ/C/TilwmMYf8KFbaHCakCiwjweTMLTr6PCf0PFwmdyjMLp/mbC9mF6wn6TUMIIr6bCDRY0wtWmjMKf81LCHxZFwo5+ecKHVWTCcCYdwuvApMLGI2vChPzDwqqGpcKIbkvCYyKhwgjg4MHHnKnCdJOmwkdwrcKR76DCKtuFwrazhsKbraLCJM60wvHYZcLU7m3CIz2+wixHqcKNlhTC5BrDwlw5DcLKZxrCrEoWwp/pw8LbnZLCGDE6wkjX38G4r5zC1WKuwg/ugMJu9YPC3EmEwoaEYcL4yHbCDfJ9woTspsLA0uLBhoVCwodGj8Ia5ZzC/WiUwl/0rsKV+WTCBNqUwqZrTMI4vmXCVToZwp7tj8Itd6jCQCPFwXXKx8IGSZXCoxyfwijntMJaeXrCdniZwpNLLMIGhobCifmOwsK/kcIeaUrCuJNIwlBcl8KkZj3C1DwJws/qnMLoW0bCVkyTwqTLp8J63pnCCRyFwivQq8IwV6nCBVuswqiivcK4b77BC5tEwj7VnMJSCrvC7MhzwmWsksKPZ5XCCSKXwqbejcKIiLrCbpxowv3cbMLG/LzCQIimwuKMrMJidQbCI0+8wkQYscKkQHDCLgaKwgw5SsJSmoLC6slvwveGl8J1PU7CkC5Rwp1EncIexZHCeE+wwuYkYcIqXqjCpFF0wmNetMK0c8bC5DO0wadopsLIT6vCZ9lRwkqao8KvFbHCAPpLwjOVx8KaIJjCEmmSwoCUZMLq3prCpL6YwnBXe8LvfVfCw2+vwmJSAMKVYaXCrglNwo75vcLSzbDCUYidwhQnPsJASZrCREy1wrokeMI4KYnCqIELwsmQXsLslifCsheKwuPuV8KQc5rC2ILUwWqHjsLlgkvCE2iTwvNHecL3hh7CcbHCwt4cZcLKI07Cfh2Hwhx7gMIydYDCMuC/wljrisJ/7LLCtBtbwhhu2MG4dafCuQOuwneSdsJNfFXC9Gq6wvwtgMIRlbnCCkBDwjtHIcI79rzCN1PCwigp+8GcKJXCGjsBwvwgisIAf6vCFjgXwmm0dcLfqj/C7zmYwh7iZcIctanC4HKTwg1Nh8JK96vCb7iLwuZ7UsKjYrDCxuqfwtzihMLov8LCIA2Cwoq2lsJxd0PC/X45wlIIKcJNc0vCRJ1Qwo4dncK076nCgiNAwhwJc8J6CijCDN4Hwu3lRsLBoVPCCDzFwUA4QcJYEvbB/oWkwp01iMKkaL3CPuQ9wk2BuMIdLDbCogo/wuWyqsLwKBbCfh4UwjisrcIowfDBtXqTwvNxPcIBWJPCkXEYwp+3Z8KCP4jCp6xKwn0gkMIKQpnClLyBwkfxn8KwtznCTNS4wo7OvMKgSCzCHge4wh2Dm8Irl6nCepZEwkG2tMLazobCqD+rwqY3bsJ4J1zCX9wfwiwNgsK8k7PC6fGrwjjXrsJ1+FjCNvCRwsMRs8IkN4XCmr6XwuzUkMIgJ5DCUP9BwuteaMJY/hbC/iOawjBHjsJVvDrCHkFbwpjpg8LwAbXCBwSnwqtbUcIHYp7CeuOXwoasusKjgJzCs01xwi01ucJ8EnHCcAsRwvY2b8LabcTCCHcmwr6yTsLFJYbCrD+xwqdeicJdKMXCI4c6wl/2o8LErbfCE0k7wqkdisK4VzXCDLGRwjiZKMGwspzCy9Aywtx9o8Jmd4fCR1KawuvddMKN6InCU/uJwoyNxMJQafvBaSkewhSXwsI=",
          "dtype": "f4"
         }
        },
        {
         "marker": {
          "color": "#636EFA",
          "line": {
           "color": "black",
           "width": 0.5
          },
          "size": 6,
          "symbol": "diamond"
         },
         "mode": "markers+text",
         "name": "Cluster 0",
         "text": [
          "C0"
         ],
         "textposition": "top center",
         "type": "scatter3d",
         "x": {
          "bdata": "rpMywg==",
          "dtype": "f4"
         },
         "y": {
          "bdata": "dSaQwg==",
          "dtype": "f4"
         },
         "z": {
          "bdata": "ijaEwg==",
          "dtype": "f4"
         }
        },
        {
         "marker": {
          "color": "#EF553B",
          "opacity": 1,
          "size": 4
         },
         "mode": "markers",
         "name": "C1",
         "showlegend": false,
         "type": "scatter3d",
         "x": [],
         "y": [],
         "z": []
        },
        {
         "marker": {
          "color": "#EF553B",
          "line": {
           "color": "black",
           "width": 0.5
          },
          "size": 6,
          "symbol": "diamond"
         },
         "mode": "markers+text",
         "name": "Cluster 1",
         "text": [
          "C1"
         ],
         "textposition": "top center",
         "type": "scatter3d",
         "x": {
          "bdata": "KL0mvg==",
          "dtype": "f4"
         },
         "y": {
          "bdata": "dOnVPQ==",
          "dtype": "f4"
         },
         "z": {
          "bdata": "w9IPPg==",
          "dtype": "f4"
         }
        },
        {
         "marker": {
          "color": "#00CC96",
          "opacity": 1,
          "size": 4
         },
         "mode": "markers",
         "name": "C2",
         "showlegend": false,
         "type": "scatter3d",
         "x": {
          "bdata": "SLcPQrS8lEGKerJCCFWBQdREusHYfkhCAPNuwEBVVkFQXobA7r2UQgBEY77QRLpBUJRrwawxFUK4iPZBlJosQigzr0LkCFVCnq+GQtA81UHaFbxCwJIPwGAYlULoMsBCqgrCQmSlnUKuRbdCgPuZwEhV2UHY6fJBFERkQpgOwEHEronBICmlQfSkB0I4ayxCa7Emwow4wkJ6dMZCpGpMQlwUrkJoTTzBSnihQswUQULA7cBCALiyQQC3D0Bg/FZBmEV4QtzEaUKsbylCBF8NQooAAMKYZVpCBDRLQiySvUIQFQ5C+HXeQZiYkcGg94NBBEUQQuhqU8Hgx49CEKpvQqDRj8Do+BbBpq4fwnxXg0IUjEBCTGZgQuiRl0EINKVCEIzPwBQ7okH+x6xCCLfrQYDFrUGmSgTCzAi5wVgxvkL4pZZBxAeBQeKiu0Lk9UJCtFqwQkimEEJ66cNCwLAgQAz6xEJg9Z1Cdg+fQrwf28Hw+NJBoiSYQsaJhkK85qBCOCeUQvDsW0JAE7JC4PLFQryksEHY9zJCWDtVQaw6Y0KYbAzCrIAZQkwCGUIwuypBjmC2QmyFKkLQM1hCZAUwQrQUr8HspX9C8JPyweT4g0Jw0BNBILNnQjjXikG4/YZBsHicwCBedcFCUopCGB0qwVyGhkIIqxRCxC81Ql7XqUJiE8FCvGJKQpieSEJina1CuKAhwRBZDEH0HbxCACTqQVgmj0LQQEHBRHp+QgzzvkIIHLdC9HWpweTcoUL4WwpBnP1CQgTwYEJu/J1CYHSgwJAsyUGIExFCHA6fQdDxYMFEbsZBmBGRQngzCkJArgPAzJXewWRbc0IEW2JCALo2P0CHiEDAyKhC8K0EQmhivkGAUL/AZK95QoB4tD8sdqxCIhG8Qqrqj0JyC5pCwE0fwQBicUCAIQ+/MNecQk4+k0IYPbJBjPoGQoa0ukKc0a5CSirCQuBBp0IgLh1CzBKIwUJurELusblCoKo+QlhLbULkQH1CPBhjQsBi+UEE1T5CeCXrQSD7aEE8fL9CaBFLQoDsEkKgBIzAGliVQtp9tULASAhCQEuUQHJ2ukIQXJFC+F8EQm43g0LozQRCwrevQgjwdEJYs1dCDAaYQlDVK0LYBC/BKIsowaCZw0FQiANBYF3TQeyvpkIoNJFC4MglQQDHi0CQpZ/BaMOJwbjSZ0GYf4xC6FZ8QliDSELmQbJCFLtiQuRyR0IQbOtAoAf0QYAZckG4CmJCnkmxQqgy6kGQEmRBJCqRQUxgn0FgBzZBAPDyPqALgUGqtIFC5p23QlAPrsCgLFRAQB+7QZRyrUJ4b7JBEER+QszCYULcIoxCyHUCQgiNXUIsZbdBuDtgQfTalEKsd61BUNddQY6huELwTf7A+IJNQviLekKwVv9BTKs+QlDI+MDInNtBkP2FQEB0eEHgoUTBECn4wBxgnkLQWM/BQO0GQJiNm0IQc7fAOFytQgSg3kEsqjFCsM2fwfBDEEKq+6FCGIaKQnyu2MFGkINCEKalwNLbmEKImn/BUDYyQoBUJkKo0hFCEEYOQfjZtkKAgi5CkFaHQCz7vEF4bF1BCNsbQvJ9tUJYA2ZBPDFsQiBNLsAO5MZCIO2HQdgNXEE0Q6VC4u+VQuBBoUIy7xjCXtGPQrC9WUEAzk6+VDcxQio8vUKUZY7BQBj9PyCxrkBQEg9BQPGav3aBs0Kk2YtBWFOcQRiGr0IMqKhCaDuGQmr8uEIS+8VCFN9LQiqau0KS04hCRCCOwS5iF8JsddJBZlufQoLThkKA8xLAtJQ9QlJlDMLCh51CeH2sQXxGiUI0qt9B/OBVQgxDv0K4obDB0HqwQOAOTcBQ17FBAHl3QqCyY0E=",
          "dtype": "f4"
         },
         "y": {
          "bdata": "CH8EQYyxPsJB3kTCItswws7DJMLAwczBAPBfv2hxbMED/FDCtHfkwcA4R8Iot+PBC7QVwnBPEsGCCl3CwJIPwOAC5MBc9a7CENicwrBm0UHN2zDC5hGfwpC+OMLQ5PLBRgt+whD+ocE/GbnC+cp+wmBEc0D6cGfC7xtYwqBCaMCcV5rBML/dQIWOVMIAsHTBc6xDwsC/usIFjDrCaE0ywWjeCEKE807CaCgYQcD2CkHgdjTB+FkewXrIucJJ4F7C+JItwYWausKmjk7Chli8wm63S8JdJyjCwLvrQBy40UEYBVfC8FOVwCeDHMKaNo/CgHxHwFHvUsJIUI3BOPgjwZTDCMJCQ6PCcjhYwggDU8EkW7jBGKGswmr7cMLMJZzB+D0Lwai+6sEa5Z3C0CIIwRRm1cGoiHnC7GVMwgASrj/QuYvCwN6awbDDuMDQlehAm3WMwvgsnsKeqHfCgLroQCZ0u8JnpyzCAnWWwmhUP8IAFxHBncypwg5qj8IpokbCoKLUwWArosCKj67Cvl83wm64osIUj6TBuKSKQcBi+UFc4wHCRvmqwlSvOcJAFynA7EEMQgCLncFAB/HAS7fCwlQY/cG/0pTCD4dPwoiTlMEASfQ/ft1KwjwwGMJbE5/CUl08wqCy2cGwD2tB9uhfwjhkkcKAm4NByqM+wsAjV0DQ/RnBUTJewsmopMJY4ZrBtCeqwihM1kEQl9zBAHFRwntUYcI4FwXCqINuwTioBcFW36nC5fsSwkDd/kEYhTRBfNOYwpBa3cDiZA/CoD9VwTDijMAA/7c+6FvswWjH48F7m7bCpkuwwmy2qkEPLLrCdfu1wsDouL9sUIlBoPErQKg+UEF2iYjC6HjBwggHKcKgVp7BYlaLwgBLd0Bj2WXCrE2CwUhRjMJcOfzBTXaiwg7DjMJAUh/A6JigwhgvtMH8VqdBTkKSwtAV38CwUq5BwL8VQtBTfMEA8shA6b0rwpDH/cEgM8XAkM5KwgXqucKMo8TCiEMOQSR6ncE2CLTC+OeTweAjk8HPUSTCcNOewbyUIMIAjfq/jG6twrKKScLIMzlBqEf5wZv0msIHaRrCAPUKQfDq/0F40a3CYLCowqBAncGQ62DCjNmTwgAsfcFwnyzB4ApTwZrCi8IYMT3BYC/PwYgpRUEodAJBADrWPkTVusEojKvBzaRmwjhVF0EWLCnCoKAiQIDkkD86oA/CMHAHQmC5lcBoZsDCcwIkwoQLhcG/kETCyE2nwdghR8IVGkbCuJjgQdrjDcKmJwjCrIswwkxcmsF79mvCaDYiQWhvGMLfrz3CaWoTwlSB4MEI7zjByA4BwUCT/EAAo6E/8fNCwtjpJ8GAyA/BgP0BwsTZl8KggF7BmOwKwXD/E8Kv0iXC0BChQBCl/cFUMKrCJHocwpCArcCc7pnC4KmEwrh5i0FACDXBFK0OwqngncLUdC7Cik1xwqq7XcJwzZlAhEaDweL2I8JI5dbBwleGwgB7279HY2/C7IS0wslMXMKUcorBamzFwlx3W8Lljx/CGPFEQdDfl8JALqC/TK/nwRsoYcLjrVXCNE1GwuhLrEHxYo/CWJuYwq96HMJkYY3CEFqSwUBmp8AEwgXC3L+uwovaFcLQfr1AgL6GPzhyoMKqb47CO7kZwqAAz8AYY4VBALdOP8Cpu78RGmnCz0o0wsDPPEDAxTvBqJk4Qfj3F0F80E3CYHqlwXT4ZcJzgYnC+IXuwcSSy8G45eBBYOJQwe/Bu8JMyyrCKFcbwid/TcIAmkDAtoOawlDKsMAEWLXBtYq7wilRq8Lcv8jBoDoNwtB0OkFgqbFA6DZmQZZ2v8KwNZXB6TR5woy8msIeXHfCKFVfQQAEUcI=",
          "dtype": "f4"
         },
         "z": {
          "bdata": "Z+yOwrRo1MGAnznBMqekwlZjjMIf+TDC4ehdwgxisMHX04HC029twlEoK8IkBMfBH7nEwi9DX8KdM0zCWCu9wWBymcGGQGbCYvp/wiKTu8JEdufBsxXDwtAbqMC4y/zBEnyfwmZdrsI0kfLBL4O6wteqS8KqjMfCR/mbwhszwcImPgLCWsSewlp/lcKIMlDC20vDwgwJlcJOb37Cv/23wmh/v8K9aVPCEYctwv/KqMKWa3LC0Wt2wq00sMJ5gKfCLYZewkWQw8ICe7TCpghZwudakMLwIOTBYEM2wq01tcKN/bTCeD3bwWAUrMLZmrjCFe91wnmOq8IQ817CSLENwvT0g8L2Xb3Ce/LAwhBMV0EA50bC3b24wordEcLcbbLCbHUkwk3Cx8LWqsfC9mU7wm78jcLnpKfCnxuHwnhdH8JZL5fC6APwweCbB8KkTyDCIrs6wiornsIab13CQUyrwr5NpcIUYB3CKTa9wsCgrsKeDQbCMby1woiSC8IGFLjC0mSkwtD6B8JsBqPCwIW7Pxs6qMLAXLk/omN7wqctksIbXrDCBpS5wui0pMJENTHCcpW2wqDbe8Ae+aXCvNS3wjIujcK2Ln/COyeqwpjHXMG4FEnCqJWJwkdfmcI3eI/CLK+rwpKBRsKVBVvCFAt6wvR4x8LsaWjCQv2gwo65gcK89LTBSxGMwie7pMI25KTCPUKywrbatsL4pRLBwdB8wpwyg8LfZ77CGpCdwk/LTsIScpDCN4wzwhvTusI0ksbCcGVrwsDay8AWmq7CFPbuwUAFckD6v5zChdDCwuQDAMIAzEzCH3eZwub6nsJ6XZLC6uq3wqCbtcIsYX7C+DqCwit/jMI4SqvCS2+RwtvUUMLg4LnCUaF9wvSXpcGgm9nBvO73wQS6X8KgYA/CQAqmwsx+wsJp83nCIHjtwYB+ZD/CmYDCnrmBwjb4BcIhI6XCmgyzwiTMBML4sfLB9EW7wtSzqMEAVAhAneCXwpdTYsK7iDjCMIqGwu9vbcLV4rfCyEwcwlGKIsLum1zCOIR7wayLmsI8qWXCzpHEwtezVMJe0TrCyHcTwjX6gcIO70nCW02pwrd5scKnfarCgFG0wpKPr8IQ9+3B50CswggFx8IvLKvCLx5VwqFxwMLYfo7CjFSRwv+ev8JmGI/CdWauwqw+Y8J6XibCeOqxwl5+LML6kI/CEGKUwsyJt8FVVS/CkzOwwihthcISr4vCeESzwsiyi8Lob5HBrpWnwj53BcJEfGPCPnrAwmvrwcIABurBbKUzwhCj8sD/RXXC1KOIwV/1lcK1k6TCTl8FwgTTmsEO7cHCICB1wHjmw8IChybCHRTDwvAus8IeNnPC+DyHwY9CrcJLHUXCQnugwtt+qsJWKnbC0NQ7ws3FjMJlhzXCNPqrwXDOGMJ5SUjCkxRzwhw2ncKoA7vCCgeuwljnr8K3AbrCw83FwpBep8I6NoLC+q6Zwo0Av8Jokt7BzJiswkGfpcKnLiDC4JyNwpG1p8KQnDBBVlyawhPkZsKTmVTC0/90wrnnrMIdiB7CADLNwc5tC8L968bC5cBYwm+jtsJLMH/Ct0wtwiq3I8JjYpzCsBKQwAo2ncIY/LnBz4GPwi4ww8KPcbnCzrqewpBqBMLkDbrCkDf/wNh6q8JJZcTCtC/ZwYBcyz+gxmvC4mqxwj/ousJXgBXC2yCkwiJTSML30FLC0GguwZ8UrMKcrKrBFK2MwZBWgUCA3KzCULGXwcJUjcLvGabCy1mrwtv6kMK888DBKI8OwugBcMEjG7HCbBO9wtHhwsJsCYnCXOyDwoNKsMIwslHBQJqqwhgOmcLWZY/C6O61wsloYsIBcy3CP2oQwl/rxMI=",
          "dtype": "f4"
         }
        },
        {
         "marker": {
          "color": "#00CC96",
          "line": {
           "color": "black",
           "width": 0.5
          },
          "size": 6,
          "symbol": "diamond"
         },
         "mode": "markers+text",
         "name": "Cluster 2",
         "text": [
          "C2"
         ],
         "textposition": "top center",
         "type": "scatter3d",
         "x": {
          "bdata": "NDsvQg==",
          "dtype": "f4"
         },
         "y": {
          "bdata": "z9sFwg==",
          "dtype": "f4"
         },
         "z": {
          "bdata": "YYJtwg==",
          "dtype": "f4"
         }
        },
        {
         "marker": {
          "color": "#AB63FA",
          "opacity": 1,
          "size": 4
         },
         "mode": "markers",
         "name": "C3",
         "showlegend": false,
         "type": "scatter3d",
         "x": {
          "bdata": "pEySQfxpn0GAPR6/MBuiQeD8QcG4kxhCKOAKwaCvp0DA0FRBro6YQgj3rEI4q7RCoHtqQuBNa0Gs6SZCYMRGQTA6ZkKY39JB2Ju8QpA8lUCckrBCzHeVweg1d0IQuMNCYkSFQginlMHs4bRCEDxfQShCF0EYGbFCxqyfQlDXCULgYlZBIN8YQixLgUKe+JhCgkmTQhL4oUKQ6wrBjB8FQrIvEMKk9itCjk2PQmwBU0LSrMVCwDUfQKIGvkJUctVBGJPDQYgUUkKwsYNCkPmFQYATAsA4bb5CyNkwQtidW0I2h4pCNGwsQvXILcLMHXtCyGQNQqj2CkKM8a1BgH+IwDxWjkIwOj9BbNyrQkJ6i0IwaPJB2OuewTyMgUK+4cZCwKdHQqT7oUJ403dBsO2yQlLSq0IAjFy/HBaLQUD4vj841J5CPC9gQqzzxcF+FY1CYP8kQhDowkJ01yNCcG7AQtjwAkFICRZCEmbCQuTiVULEtX1C4PQPQZrHg0J4jyZCNOySQoCZHEKALTjBDN6XQiD4FsCIt5lC4ACGQnzNCELsGENCxNGuQXKeu0KINqRCpqSvQtD9nEKEZYFCwFGMQpgHj0IkOXdCwO2zQSya2UFg3ipA/DykQnhyQ8FQSrZC8A3LwVj7TUG4CVXBisCHQlTYbUJInhNBmNpOQdx+FkIAbso+KIq7QvBUVkI8goFCBEQ2QgCmAcBQgoRCoADGwPippUEAd91BgEQhP1huukFaJ4lCtJk3QsIprEL4ygxCeKuGQqScCMIAS4rBzHRcQhDPaUGcWjVC5C6EQnhrKEJA5INAWJVDQtKWiUL4aZDBPNKmQqCAwUKeGrBC2NWCQfTBmEHAJTHAyGaXQRA/dEEo3utBANbhPyCht0Kwjb1CLJqAQrYPqEIAKnNBfMt9Qkg/UkEQtvpBwHI7QMZeqkIs1BVCIIzUwJAZCkLWlIRCnJMLQnzyr0IAlCXBzEvBQlA+j0HkHMdC0smhQjTmDELIkTTBouS2QjQBTULc6VVC4Di3QnAltUHI3UDBRFitQih4VkIoWmbBKvebQoRRQEK0GbtBLJwbQtjHb0KAmGVCENpvQXgiWkFE1rBCsMysQkizIEK0O7NCBNOpQiwlUUJsok1CNNulQjx1aUJE3aNByCM8Qd52j0LOBq9CiBQHwThJiUKkRABCiEBPwaq7iEIqJb5CxKy5QRjyqEI8nI7BDGRuQsCBdEAUkphCePAeQnD2ekL4pavBhHasQsh7x0JwVxtCQKaVQhBSDUHEo3BCWIrkQTgls0Ko+1FBVOVaQtDZJ0I82ltC4K50QuaXokJgUbtBRkyBQqDepUIIejfBjCxsQiBsKkEg95/ACO4rQgBaCD5QGOxBkGFQwfDAE8HUu4HB0mirQmyuKkKA34g/WlKeQrQokEKujDXCHCwmQgTdtkLkVqxCRBCOwbwmUkK8n0pCoCd+wBAFqEK8GJVC0MKsQsrWl0J0cw1CsIgOQdi/dUImbZ5CNJ2mQVRee0LkoaRC4KAsQiCzN0IS4MRCaB/RQcAYfkLYVyhBfMmnQnzfhUI0N41BHCapwWaBxULErlFCFseaQoDlzsFaFZpCyAwSwWR8L0Lme5NCiNVqQbC+L0JEkZ5BWGnqQaAqWkB4dplC1JKkQkB4rEJwKhhBcOyzQFKShUJgi5RAzNVKQoCCL0Lg4H9AlPDIQQAVREIUc7TBbhO7QoD/jELwR5RCxqKcQlhRcUJM8gJCus6dQlZtjUK4nBBCnJI+wgghS0FshMdCMFODQfgwFEE0KDxCMNAMQTSka0JYLh1BKM5WQjR4s0KQM4BBqA9nQgCMpUFGpJVC4HTCQCr+s0Is789B+HG/QS62pUI=",
          "dtype": "f4"
         },
         "y": {
          "bdata": "PLfAQpzEk0E+Vo1CXNV6QmzYXULw7RhCkGCmQs5pmELoIihBtG1sQvawwkJYeqZCUKBEQgSq10EQwlJCvKYtQqAhukKKXa5CKEgoQqrFlEJAcbo/0BwbQvwJckLwO2RB6luEQpr7kkL4VadCXJtAQiiQakLwC0xCMFuiQjLmskJkRYdBgObOPzrcqEJg/IJCiBkNQfxLX0LI3rxC+LdGQgpSskKwkKxBwjOTQnrml0JEXFBCACYvQmCa70HkBVVCSElzQrpcgUKgehpA7P1WQlhRFEIYvNlBAk+6QvSvoULAnChCzsO8QiKDp0J8HyhCbO9lQrAAFkIqOrlCgLvvQSojgUKgOiJBioW8QsqSwEKYUvdB9IZ/QrjsbkKsiVxC+BG3QthDxELqsK1CxHitQsxUGEJsAqhB0KYeQuSGDEIIxQ5Cxge4QhgipUJQQL1C8OINQtyj1EGOs7VCPI5PQhjgOEKUq6ZBbC+HQbaei0K6hZlCFOM5Qoaqm0K+iKtCIqe4Qrh3PEK4CDlCQpSNQiBAH0IAxP9BDLQhQv5Zm0L6oJ1CbkyIQgqQxkKgTrJCUDYuQhzKPEJwVV9C7P1aQkhof0Ho4ZZB+NJcQsx+e0Jki7ZC2GYZQoqVs0Jkl4tCztG+QuiWMkKQoHtCYDfGQi7NsEJQenBCIOrOQWi4oEEYxW5CzC1AQujWs0IoScFCfAuxQWy0j0Iwu5JCXMoQQkDpHUKsFppC6CsnQuL+h0IEeVZCAGlLQk5vrUIEgmdC3NhaQiZ2wEJ0bVBCUk6EQvxrc0KogsNCyuivQtw/mUIgrpVCpv3FQjSZqUI84MZCKDvWQVjc6EHkE79CZI6gQQIIh0LQiilCrLPCQgg7o0KwGKBCCr2dQtxFPkL49C5BAlDCQmahl0JkNMdCZv/DQvTRbkLMOVtCRFM8QvScKEIgLIpBxvStQuBsbkJIU+pBTBmoQrQ/XkLyhMFCoG2EQhjprEIs5VhCEJe5QlKno0KqLb1C5MqUQhASn0LsDXhC2nqPQmhDV0JeRaBCkKb0QXhIpkJgeaJCdqKgQjzNqUJgGKFCPAKtQYA5NEEIcUlCyNLYQfCNC0IoQXdCGMhHQnSjhEJGnKZCqP9hQtzGDEKU94NCpFIdQqQDHEIAM0NB0PMAQmb4ukLcIbVChiycQuBCMEA4rIpC+FS8QtxiokJUpUNCDNCbQiwYjEJULrhC+py8Qt7OrEIAEidCaPNwQhDAWEKqiaxCXlLFQtCRPkL0RMJCTq+YQrY6gkKotFJCerC+QmBAjUJgaeJBZDgnQhTnHUIM/bRCuPzwQayHkkKEZbxCJJ2kQi4ImkKussNCiHOUQogoH0LAA3pCWNmBQlSvbEJou5VC0OJhQtQlikLe6LVClNVfQqDOSUJgH8VBEArEQjAmFEH8Q79C9JNQQpjQaUFo9bNC4Fd0QuAtJEIacZ1CiIlyQoBhCUK2dsJCEB5IQiRtkELoKGJCsBnjQLoOqUJciT9CnDbZQfQ1xUIWl4lCXKiLQsRDpUIIf2VCmp6fQuyWJUJch3xC7K+wQsQztEHo75tCIFV+QgBHR0H4H5tCyD6QQXR8ZUK0HCBCJJ1NQvBbc0LM0TRCvMgOQsju2kHE2xRCEL6IQd7NmULqfoxCxjaxQuiZG0KILmdCyGJxQnxtw0LwhW9C9OKJQuxpVEKUEGtCrJyuQrC+kEJyvcZClAI+QtC+F0IkOZ9CtH4rQnTDrUJojDdCBrqmQkDlmEIKK5xCTLe/QqBcuELYhAxCFF6yQWiEAEIuULtCnBRoQtQfu0JGy7RCmNFLQgpGkEJ67apCSuaJQoL8pEJYMCxCwNiOQhj1MkFI6sVBkMI2QS50kUI=",
          "dtype": "f4"
         },
         "z": {
          "bdata": "UAMNwgBwn72A+3k/6CsCQhifdkGHqzLCHherwhqXKsJg5+pA2FK5whcRKcLgcpLBQB+/v2Ae8sEQy63Bu6eJwh0da8L0GdrB4d5bwmB59EGwJeZAUILXQCheIkKsMnNC5ryuwjA7XMEcDRjCiKm3wa/RvsJ8sT9COOwGwow2DUJwctfBEC9RQcCWGsGxW8fCwMPZQDB+B8KMng9CEMAHQujPwsFoyb/BCFT9wZC30sG4Wc/B9BnHwaBFD0G9JcXC5ZUewsRWaMIAzcVA4G2tQSAN6MGwgepBAAx8vjAqh8GjmS7C3HHSwQAcz74sZqXBLtRlwhpuB8LwzWzC8MJqwbCJ/kEMh6rBuDAjweBELkIgPobCKBaNQbBqSUGwXvDB0CDZQVAX0cHIFgjC0Kt6wYhqLkKQzIVAiPvpwcjdaUHc2g3CALIsQTZcS8LYW0nBIAwlQBx6Y0KH1RDCcO2awaVEk8KlyDPCmP5EwXDVQkKONQDCm1uEwsgRYEIS3WHCHbAjwhgKrMK4zYfBQG7kQZhUBcEUU4nBz4+YwginicHVwbjCILAZQMgvyUGQdHHCy3YswrDxtMF42eTBYIIZwRDxMkKAgGrAwQBowq7VxcL4tTRCoLs1Qi8/x8Lcs6BCoJD7QSN6NMJQrvHB4lCoQmgffcLYC3hBCDeXwcBGqUB+Ww3CzL1MQuSqjsKoFyNCMA+3QbRE1kH/lmPCUCS8wWAv9UAXwW7CYIyhQQCcNEEBdUbCwJruPynoZcKvkbXCvxGTwvBxE0FAsTlAJl9TwswCj8GOab3C2kmgwqCRQEL+rArCxECswib7TcI44TNBAF2owFyVFsJAEftBmL2DwbAu9sFAB9c/ALZlQjzAgEE0B1PCsPqGQPwNiELUXDFCsM1awjDj0EDpeSHCzqM7wry758GJppHC4IMFwqqwYsIYN25B0tdAwnDM1UBYigrBfyFYwiw+m0Kwfy3BX3ahwrZkg8IM3KLBCIOVwvCGuMBDpD3CwKIJQeBXGcAAoSLCkIiyQEBw8MFMWs/BlJJnQtzDK0JU9WXC/CKaQc1EuMJEDxtCpaUlwgAWqcC0RCpCsI2iwdU8bcK7TpfCcN2owXTiosGwcbDALFBbwgBMJD6oshVBANNuQvj/w0HAxfhA6HfVwZ3jicLCQo5C8HGZwlRAvEEM7bfBAD3WQXjRh0KIDVBCiKAjQlkRqMIwsrrAPCckQlnafcKM5QnCH4nEwkBAiUFHql7CMP+oQjy3s8Gw2s3BKxqEwvq0PcIAFTDCpfQ8wmXTUMIGuADCyGaKwdTlAULMrLpBTFCBQWhuxkEorrTBFGzHwlDr4UGW37XCSHZQQu+KqMIQiobAd4FKwhxh98FYex1CwDZ6QYxh9sH4+U7BBZmOwiLpeMJwx8fAqcSJwoAbCMGwQkhBDgJWwng/UUEApDtB8LbJwVBQsUFJTUHCdCmIQSB/wECssqlCaDc5Qrj/M0JgLxRCwJgawKCsGsGSx5JCxOTRQYxdZEJi3grCDqECwtkjRsLZFlPCdLpCQoRhZUJA2DRA7GatwtBTGMJwMOlBOK9rwSgxVUF0/wfCeOYvwfC3vEATlpfC3MaKQUw/xcKwEIRCiIIaQVgFFEIr20HCtPSOQfC6CkLSEpRCzvcvwsB680Hkb4JBbX+Xwmh748FvxKjCuMI5QmNeW8J6pLLCbIobQriIRUJAiWHA0NrrwUzLgkE2PBbClH+IQazMnsFUAZbBRSpOwixHXcLa9qfCqPs5QTdyTsKA3Ry/6E+AwQQ9bsLinojCAxp/wsgKJME8irDBMFY0QtRthMJwBpvCaE2Xwg6rssIkoRHCVzNgwuR5HkIA5WLA9KG2wef+vMI=",
          "dtype": "f4"
         }
        },
        {
         "marker": {
          "color": "#AB63FA",
          "line": {
           "color": "black",
           "width": 0.5
          },
          "size": 6,
          "symbol": "diamond"
         },
         "mode": "markers+text",
         "name": "Cluster 3",
         "text": [
          "C3"
         ],
         "textposition": "top center",
         "type": "scatter3d",
         "x": {
          "bdata": "ZzAzQg==",
          "dtype": "f4"
         },
         "y": {
          "bdata": "czp1Qg==",
          "dtype": "f4"
         },
         "z": {
          "bdata": "Z6pQwQ==",
          "dtype": "f4"
         }
        },
        {
         "marker": {
          "color": "#FFA15A",
          "opacity": 1,
          "size": 4
         },
         "mode": "markers",
         "name": "C4",
         "showlegend": false,
         "type": "scatter3d",
         "x": [],
         "y": [],
         "z": []
        },
        {
         "marker": {
          "color": "#FFA15A",
          "line": {
           "color": "black",
           "width": 0.5
          },
          "size": 6,
          "symbol": "diamond"
         },
         "mode": "markers+text",
         "name": "Cluster 4",
         "text": [
          "C4"
         ],
         "textposition": "top center",
         "type": "scatter3d",
         "x": {
          "bdata": "E5q7vQ==",
          "dtype": "f4"
         },
         "y": {
          "bdata": "7qUuPQ==",
          "dtype": "f4"
         },
         "z": {
          "bdata": "YbEtPg==",
          "dtype": "f4"
         }
        },
        {
         "marker": {
          "color": "#19D3F3",
          "opacity": 1,
          "size": 4
         },
         "mode": "markers",
         "name": "C5",
         "showlegend": false,
         "type": "scatter3d",
         "x": [],
         "y": [],
         "z": []
        },
        {
         "marker": {
          "color": "#19D3F3",
          "line": {
           "color": "black",
           "width": 0.5
          },
          "size": 6,
          "symbol": "diamond"
         },
         "mode": "markers+text",
         "name": "Cluster 5",
         "text": [
          "C5"
         ],
         "textposition": "top center",
         "type": "scatter3d",
         "x": {
          "bdata": "rWFCvA==",
          "dtype": "f4"
         },
         "y": {
          "bdata": "MpK/PQ==",
          "dtype": "f4"
         },
         "z": {
          "bdata": "fdOvvA==",
          "dtype": "f4"
         }
        },
        {
         "marker": {
          "color": "#FF6692",
          "opacity": 1,
          "size": 4
         },
         "mode": "markers",
         "name": "C6",
         "showlegend": false,
         "type": "scatter3d",
         "x": {
          "bdata": "ALG0P6A3mcKwWitB5uiVwtimdMF8791B5v25wnBKPEHPapHCFHygwkg5zUGipyrCkyQ8wuI0iML6PZ9CUrqdQku+g8Io6K5CksKbQtWtTMLgYPlB4ENfQYAkO7/ET5hBVheGwiaNgMICHppCaLo5QnIFYMJcNEBCEM+bwtLPU8KsaobCYLW4QBAy58CEnShCBpYdwgitdkJQBkLCRmqKwjM9eMIAzMS9mZt3wkRDO0JQLwtBVCXHwZB6SkIQWPNBaq2NwjxSaMKX+U/CGNmPQbDqP8EQg7VBHPNBwhCEbEJs5ifCsGrLweN9K8LcuspBBMGowSgJAsE16YzCYMhEwbRRpUEMHaPCWFcfQvucvMJgRH1AUzsYwng2AMLM5pXCWE3CwuxzqMHgIOhBTcG2wtz548G4tBlB9laPwr19F8KyGi3CIKfVQVAX8EEInZFBoLBBwCYRQcJg3ADCKRO1wnOHRsJM3YRCiaQ3wgAF6j+31HzCkkGLwivlnsLYqX5BcD+yQiCrocD4pzZBzD+ZwlBvlULJdoDCaMNFwghAs0Il7KvCpAIxwiCmVELgHvVAYDr5wcIyC8LipH7CjFO8Qf3cUMLo455BeM94wdAd80An/qPCUtGEwgB7xMGgudRARCW8wY3frMKkRd7Br/OWwqX1XsLUFRDCGF+mQbAsx8GoQiBBuNnTwaiJh0Lk+3dCCDCgwgDKoD/UjgZCaNuBwmgqZEJoapNCwPjKQOBcB0AUXdvBzxSLwtiHQkERh4XCREa3QSCxKkJIXjvBefgywjAv88AshmnC5I7QwUx7jcJe+gfCKK5HwRANcEEE6kpCw7w5wqN2v8L4cX7BYK4dQEW1VsIoDJDCZM4YQhPxxcL4uFjBODKYQkwNDUIcOV/CPAXBweDFbcCgdOrA84mMwhRAgcEAXELAUDeTQW2/WMJQdmzBXCOvwcwflsG/y6bCOBTNwdx2fkK6vo1CvnJtwoTcLMIw6bXCAniZwsjvG0FQmq7Bk6JKwsCkakLMsD9CANuoPpRoAkIuBwXCIMTtQdqyhUIqqanCKEGqQcg8v8EKDGnCqGiDwddWFcKornlC16kiwvbin8KgQ9hBsBOFwbInM8KzaTbCEnoawh7GDsIgtihBALbpv1QEvMI/MSPCLIWrweh9REHrsH/CYC6MQpQoncIako3CT7m8wiyJKkLwnF9BQIz6QPCU70FoPuxB4KPzQI5Yh8KwFVrC0OXHQGIbEcLEGSNCdM6WwWiRmkFmnJTCCaSfwmbNScK8iYfBAGdnQCA6dEF4worCtNzgwTmFWMIMTRBCcLq2QSWhe8Iw4xfBcAdkwnRwYUKI/DlCsH/+QeHtUcKAIiW/ABqBQWxrv8IYAxPBgAmDwgkilsJnHCXCOgOcwtgMPkEDwmfC0KLJwNyso8KBhoTCgJucwiITb8I6/53C+KpSQjtXMMImeqzCvmM9whCMGMFAH5HBhEKMwUo2o8Isa4LCdGEjQiWoX8JAyI7BHAMDws0XYMIdX7XCuLnqQf9ancKaUADCGNnEQraKdMJYnZjBAMvawfD9FMHQJFPB8k+9wqTCUsJIBvTBKv2EQgwrVkLiAyfCoHRvwHCUzcAK0YlCdj0XwswEdEKjpYDCZqyVwjifUMKcpyFCggOSwrQJJEJ5GZPCyAxJwvmKksLEp8rBgEEFwOzdtMEUgsDCsP6cwpKCwcLwKhLBQOdvQjAPvsA8aePBTJQSQrBcp0LITGbCTqyOwqjowMEMJ8rBgKF2weDW5sF1oEPCrF+iwux9NMIcnZNBOs8NwkCC8T/SDxLCTLOgwjDGicDPXnXCg7CuwkDcVkEMxMzB/qqQQnQsTEJAGyTBK6yxwkAooME=",
          "dtype": "f4"
         },
         "y": {
          "bdata": "EENJQeprm0JAonxAvGaOQuTQ0kFYDB5CwBIowJhZe0GQyHVBRk6qQqgjKEEAFOhAHGtFQiQWf0LsKUtCKDiHQRwmXkJ0ad9BEKnIQVS7LULcssxBhP+IQdCRk0B0ljVCZJSeQQgVX0EIIk9CECwaQUiDg0JIyGFBfIYPQu4bpULewbJCnOwAQtytBELgXaNBhDuaQThzK0JU0MFClDCAQQh9wUGIDDNCCKmYQgh+i0EUUctBeMSMQnpVikJk+SdCWg+jQhJLskK4ml1BqB/kQQDli0J8NlRCwFo1QiLojELgDYxBaLsHQkgX5EFs27lBQANQQuB7pUGMBXxCAJVKQLjMAUG0x7hCLqOPQq5OrkKqsbJC1HTKQXQHukIg36tB1GY2QgDIDkGg6q5AeBYdQgxynUJwNrNCiOonQkBeqL+gUP1AKHEXQkghbkHI/29BfISfQiJ1kULU02lCxKCNQsAdkEJoHtFBML1QQqgX2EGwW6lBeB1yQsLdokKgUWdB3LIdQhwPNkJQArJAAjWtQvjtBEIgSfRBwGoOQait5EFAp0DB5vm1QrinCEJAwqA/0JDmQZgSNELQyblCuMd9QtjPsEJo+C9CsJCLQdguskGYFwBBcsDEQqBnw0DwOdBATGlPQs7MiULq4cZCpGAjQsrKkELKj5ZCMIGhQEAQrkLwzPlAUOU9QvycTUKonZdCqNRIwQh0M0E4d8FCQBWIQmAL70EYs2dBCOaOQrpvmUJMPhxCwAp1QuhoZkLkWdFBOARfQnBMxEIAQz4/qPe2QoiDnkLM2SxC4JAkQES4AEKAfwM/ivO2QrxWgULeA65Css+iQobBpkIKw69CYP8tQqzmtEH4Ax3BaDhiQuANL0LqRaxC0E4gQuCEf0JQF//AZjqiQox9xkFkXZNB5ILEQjz3fkIsKaRB6HRkQSg2kUKCO6tCnJG/QsQgOUKyoLJC4vy8Qsj7LEKMAL1BYIkQQCzNU0JMK11C2ImZQvD+QkL0wjVCLgu3QngelkEAEb1BlFluQgDnV0FUB95B1MEVQmrUikIOTrtCQF0oQkYEskIkaBRCAM4PQLB/g0J+jblCKBrwQUpXs0LsabFBxtGiQsChiUI8XtlBEGX6QOyWJ0KwAaBBfHHWQRjNQkLAW2DAfLwyQorgqUKUHYBBmLpFQSQZukFAHfZBxNd/Qvy3vEE4NVlCmOwGQnA2cELcw2BCwKigQphdC0Ksf7VB7I8+QvxJLUJQKDNC8A3wQRDJ+EAgCG9B7L4uQsbDhkIM4BVCuHYAQRDXxUGQ1Q/BEA9mQdSiR0KkJzhCcCgcQkxwgEGgxElCAlO4Qsxug0LUFZ9BRDWKQoDW9sBIlTxBwGJWQdDFQEJgWjVB+qqsQhDASUG8xV9CoDZkQlBs10EAnlBC4BrqQTggGMEclpxCAMKLQnDwS0EQYoDAtGoMQiDneEAAKG++3BNKQvhOkUGAQZ0/GEiYQmSIW0IQQdTAZLPEQarXwUIExpxCAHrpvxaxsULe9sZCMMWhQAh7E8HQTmJC6FkiQsCRokBgcB5CAK0/v8bzu0JQxltBaGqbQcjIEEHwUBtB+PonQTwnYEJgZjbA4L8pQUKbsEJEzaVBlF+EQVh9IkKwTczAsN0dQdhzsEIoUVpC7nO5QuCR4kAAIqE+4P64QOBesULMvohCiIMVQWBQTUBI3TBBwNgYwXAdc0KMkdtBTOmOQUJ+ikJAKrZBitGbQnTHVkLAdHVCyhqCQizSDEKO0ZxCSCw0QYARSEIg8XJAeEO3Qg4XtEIY4PxBXJ1cQuBPD0IEtmpCyMb+QQB8l0G4/y3B4ALzQawgtUFM92tCpE5qQi7IqUIicIFChDmWQRhDhkE=",
          "dtype": "f4"
         },
         "z": {
          "bdata": "5qa4Qp4BgEJggTNCzPEbQujw5EG2WpRCltyOQgAtFEJqabpC4Js4Qnx7AUJ8XoxC6ibDQhzvv0EsCJhCGii+Ql68pUL4lrpCDIOmQqDUu0FWhZlCXPysQrqYhELgzmdCOK5OQgzNvkKqqcRCJsOPQoxrc0J0/Y1C4mGrQmC1KEIIJ0VCbCGrQXBluEHsLpZC7NmcQqSqlUKswB1C8LNuQiSsPEIQrOlBbiO/QqzMWULi8LpCst+eQrYnpEI6T5tCSJSnQpwyvkL8cZ9CHGdyQsAWMkIUf1ZCEn27Qgp2m0IwamxCsA/rQQhmnEJWX79CDPOKQsYqj0ImIsJCrCYGQjQ3SUK8Dc9BahiKQoRKtUIwmVNCAGy0QoiPD0I45upBVK1VQkB/lEJkS7lC0O48QmDE6kHs7GVCyCIeQpCs1EF2YKBCCPRDQni5SkLI5QhCjtONQiiZZEEK1qdCguTCQnRUsEFqHIBCPHELQvjb1UFYWElCpLSEQvwqfkL49AJCvpGyQrpNiEI45UVCqMqrQlx9vEKIZttB2jWmQqqWuEKaWKlCAiWxQrRCbELwXSVBFGdeQugygkJAkOFBAumdQtAmiEIKIpJChO2WQoj4F0Jm6cVCYhakQliceEIAE3tBOCYKQoAIGkIYhQtC3CMAQlghKEIgHtxB5MYuQj7axkLwZX5CdD1KQpKYokJmt7NCmDKzQhy2L0Ik0phCsGR0QrASg0L0O4pCuKRyQmCOT0IgdSVBvF9gQgQjfEKYAEdCjuGjQvaJrkJYvW5CqtXHQnI8i0K0RIlC4Cq3QUQEM0Igwp9CyKe4Qry7mUJMzaJCiHIXQohMw0KwGJZCagSfQmzaSULcSolCoE5aQlANFEKSj61CAm+bQpT8YkK0H1xCrtOoQoDGpkEQfRdBAIgKQoDbOUKwJ+NBwLc4QrhUyUGUaixCnJcuQsDPAEI4qIRCmuOYQtbQrEIInrdC5BG1QhjxNkL8fyxC5GIGQvxSKUKgOldCzI2/QhTQiUL+E4dCQIWtQuAiokJ28YBCWIfAQvAUn0JAlThCqENxQsBxr0JAw5JCjGqjQoI2kUK63bZCBKYwQoQaFELacoNCFia5QrIivkKsVMNCaJaUQkiZFUKqzLpCoMCRQSKFt0IQ2rxBAHmgQn51ikJIiGdCTse8Qj7lh0JMQEFCCt+QQkgfmkL4LLhC/PoSQsiyh0IgrT9C+ge9QpCoRkLkC6FCGKwiQgxWIUKKGbRC1I6JQrxjN0Ls111CQt2uQnJIr0ISdI1C3P1UQkRlTkLskENC+tmBQpCL00H+D7ZCrOpZQoD8PkLWEp9CyK6VQhQ6kkLMdR1CwCp9QsgbzEEgEAZBoGhkQuRXSEJy/bFCLDawQgCVDEIuHatCxDwWQoCEzkGcnFtC/lWXQpCbV0LYY71BAE4JQtQwSUIYzUFCyLSdQgheZEKkhS5C1HYNQqzpQEJwmzlBSiqyQkReu0LQWFNCgGtKQiKnh0ISEKlCmIjGQnSbmEEOD8BCrrKRQqhgYUKMLpdCpkKuQmhgZkI8W41CkLSuQih1x0LAqY1CBp6wQpg+AEIoCJRC8M6TQgbRt0Kw2fhBAPLpQebNvEJgb1dCkKljQpjQbELc5C1CXFkdQhA4hEJcCntCKPMhQuSbJ0II/GFCePoiQhDJhULkFXdC0O2hQcjzgkLstZdCkDpMQgxvxkJg/JlCIH9yQmz5gELWQaZChiGnQuhiv0IoeLxC9BcFQsAawkJ8en9CFJl2Qm6tp0Lqe6pCjDUvQsb6i0J4HwxCwAzsQdbcrUIgqMlBdA0rQlySuEKEEo9CJh2kQjTkyEHgAkNCuLerQu7rvkK8PYBC8CliQmzqkUE=",
          "dtype": "f4"
         }
        },
        {
         "marker": {
          "color": "#FF6692",
          "line": {
           "color": "black",
           "width": 0.5
          },
          "size": 6,
          "symbol": "diamond"
         },
         "mode": "markers+text",
         "name": "Cluster 6",
         "text": [
          "C6"
         ],
         "textposition": "top center",
         "type": "scatter3d",
         "x": {
          "bdata": "zPG0wQ==",
          "dtype": "f4"
         },
         "y": {
          "bdata": "WAcyQg==",
          "dtype": "f4"
         },
         "z": {
          "bdata": "W6mAQg==",
          "dtype": "f4"
         }
        },
        {
         "marker": {
          "color": "#B6E880",
          "opacity": 1,
          "size": 4
         },
         "mode": "markers",
         "name": "C7",
         "showlegend": false,
         "type": "scatter3d",
         "x": {
          "bdata": "IHvMQbD25kEgks5BsheNQnnFuMLG2S7CgPsBwm03dMLGk45C2Gxnwgpej0I0zQtCeozCwuEYtML8+jhCOJkHwdiUQUHIXpnC0EVzQqPMVMISTSbCxk2YwlD50UH2w6TCi7LHwnZRrUKAh5lC1ESBwbTva0JBv1vCxZShwnLtuUJsvpBBfJRmQkjJMkIIg4DBxOE3QhL7nkK8fBRCVIvCwtCdhUFk+ZdBYN0LQuhC5UHQuIvBeIZGwXwgukGAXRdCKIJiQuKHZMLh2DrCeTuewnW5cMKcvwXCInvAwuTTwUGtS53CGBptwUIPpUKAtWnBVJ1cQqQMh0KwGR5CdryrQkAqIsK2b5JCiNNyQhw5tULm8sdCmJSIwtiSHEIIBwzBeJi/QfylRELg4L5CGJc7wgmJwsIugxDC0iW7wpYllkI2lJZCvrJEwqBwDkAKP17CanmPQmGLi8LAq+BBiLiUQciVe0LQxWxCgAhDQrjn+EEoXUFCMPJ8QUPaKsKIxypB1ISmwbc+pcLQel3BlEGhwkFTUsJKCIpCcK0Iwp3fG8LkrrLCHNkGwgRBQELww4bBiOesQrHknsJMZpvCFHLHQl9Na8LQKdPAtFoAQtOIWsKQiZnCDN5fwuBJm0EgyyxCMEC9wgJkgEI0jF9CgF4rvzeAHMKAA/pA1LKNQXAB1kAw4C1CUsLGQjh6nkJA5Q/C9EM7wpCTjcC2dsdCjJMRQiy5YEIk9oLBnN6zQiL6x8LszeLBGHEOwp+edMIc4qpCWJ0RwZxtPULsES/Ca+aBwir8osL+bbbC5CpGQsBf2cDAXmxA0EEawdb/rMLeQV7CyOhIQvAeSkLc3c5BaPguQhWqRsJQOQbBqtOHQjDuk0CQcg9BLKEMQoyWP0K8JMZCOFb6wQAQXkEQ5v1BoF7zQSCJLUL6yrfCXC8Twth+vEIAbtpBRacewrcBSMKwEJZASMF8wswjDkJw2LfBbBIkwg76nMJLQBbC9B6TQshHC8I0+CNCwG/nvwjXtEIghEBBbJpAQhTAnUGAgVlCgAtSwTCYkcGKEsfC+kmcQgxZusF6/8XCyGb/wfBT/cB1rznCFIGVQgiYNELkyqnBUUvGwkTDH8Kk5LTB8PFlwsK4nUK75LnCMuaiQn4NOsLj6azCwJY1wua3iMKonPHBcBv3QQSggULJs2bC5OcjQj6/n0L0ILtCaN5IwVjWtkEQz1VCpNZIwoTJVkKqqJvCRmujwvgMTkJ+A0vCIsY1whRWF8L0Z7jB/OSEwna5sELAgxVCeJIQQnCytMHLmnzC2G07QWAhX0EYnydBszwdwoBcj8KA4gBAaOJoQXFARsIUitjB7FWyQvyA0UGaupRCKP0+QbJUJMIoIy/BhLCqwYygvkIwXd1BGA3dwdKar8LEtmbCwHqhwfqFpEImTJXCTJY+QsDUgb/iMIbCvOyNwnAl9kGQCwlC2PPyQRDm08Eo75DBcIWBQkomYMKoiTXBfFCbwfqll8KgIOrA4u+ZwvSbB8KA3EjCuHeTQicxesLEjVpCgKOrwginyMFYZ2tCrPyEwTu5MMKzlLbCuDaJwbivHUIwMt3BhNl4wsQVpsLwxPJAmMO9wQiDn0I//nbCFNGwQlFTTsJGorJCPPmJwVgDMsHofDpCACjEQtz17MHIaA5CIE3EQLBtYsFIKDJCQJCUwIxRCcIQLmRB8HsKQoyLOUIw7odCUL38QRgn+cHg8+LAKLf2QXLZhsK0mrzCEnkmwpyNdELQx6zB+ZB3wojcv8LwwZXAlfKMwjaxY8KQzaPBCsSMwp4RSsK8v6bCA95dwkwriUKhymzC2IBgwUTBksJAUqNAHL8+QpiI60GAe/HAwG88QsN9pcI=",
          "dtype": "f4"
         },
         "y": {
          "bdata": "qfWxwg/2qMLXOxjCOPcowTGUVsK1Hx7CWc0xwpQB2MHA59fA60eowpG9PsKk7PLBifYkwmLLrsKwxBPBhtmRwoBFE8JUVrrCCNsuwSnNqsJpra/CeOlhwSU3f8Jw3JXCTo+gwuyRG8JAF1TArz5awqRbRMLA64vB3DzqwbikSsH6cKLCtWMywhraJMJI5RLBKem7wrx4E8JAmEtAjF2gwuCGO8CAdaPA8EuAwWGZbsJbQbbCgLzzwawYs8EISbzBOBz3wZCKicFU/YHBBqyiwn+3NcLMxYXBbmBSwoBANL9C7UbCI6Uywv0eecJAKhPBV7G7whDIF0HhZhjCNuTGwmPbn8JAKMG/IO7swEAhEEBol0TBXMZNwmY9BcIE+dDBSRBIwuhZ78EollDB7ESMwbvujsLcKNTBDIfBwmxcPcKFOLPCrpYIwjB3+sH+jQvCBQ9wwnl0L8Io4C/B6GQ4wSTieMKl1SXCNOiywoAvAz+I8CHBJ2F6wjAK9MFFEVHCaDRnwhhCIMLuM3vCX+8/wk62RsJql4/CKBUgwVxtHsLVv1PCKIvOwQCIqz1sXrTCENqpwSBHhMKUYwvCDG2AwbqAjMKgnIXAEPAJwv0ItsIumMfC9LiNwgBguz+RD7vCeTSywkVBHsLBVC3CJNh/wm1Dx8Kgam7BSArAwhvfd8J4SB3BWIk7wfGHwsKMEx3CC0yaws9JjcJueBbCVjM5wicyG8Ih5qnCrxmIwrQSA8KU/sHByHCzwZQhlMJgf+nB0j5awi5ovMJB4pXC5Z2PwuBXyMEX8mjC6Cyewqjxi8K+YobCqLEZwtOAwsIa4JXCNdSkwpQN68HQSADBwKWpv9RLlsF/QnfC8CQUwYBoM8E1chjCkJAXwYAhrEDsLrjBqHOYwaANL8F43ZXBoN8VwoTh6cHuRHLCAhaTwgSUxsEI+4zBTAqFwZDPZsEIWIPCg/elwukvosICk2vCzPXGwfxh18FBTnrCYPKowZD5a8IQDYZAbN0Mwn5bR8J2/i3Cf7gewthIrsEYr4nBdAi/wfiJGMIdNizCDbZXwoxDBsIRMh3C9XYUwkDkk8Kwa4zBiPb2wTi+j8IFmobCnmFgwqAxDcI0MaDCBIQ1wjAQo8KD7XXCjuJUwlV4acLTnyHCWM8swV53fcLOSjTCCemgwo9sbMIEW/zBsBPvwMTXzsGgXxHA+A35way2EsINHFbC82NRwoB/a8JseZXC3scKwqCpCcCllTvCUMiKwZzIwMH/rZTCAHhlwozpXsLJ98TCYH10wCqqnsKcQ9bBEMrqwaO3g8IxnXrCWLDCwQir7MEerwnCJ+ATwmb0usIWGC7CiNZMQUR++MFAkwRB0BYWwfi2z8EgfdzBcCnTwCpUrcLEIYnC+sTGwqV9isIaYKHCpgRhwoDLWUBGN4PCKLo3wbAWS8Iq347CgtzCwnCMP8HL51zCHnYCwtqdP8JeqoHCfMqlwl7hp8Ic0LLC2KRGwaL2X8KAYLXAyiMlwvA3AMJk7YfBjkMmwoCvn8IZimnCiKKcwm+fsMIjQZ7CMFSYwH2OFcJJw1LCTteJwmTLTcLgGKfCVFW9wmnBWMIEU/nByaRQwuDgyUBwbT3B2t0rwoGHvcKuA4nCN8+gwsDrqcFQkHTBKJ/lwbtzi8JdIsTC+KwfwSCjGcHArFvAgHQdwRXGgcKIrvjBB82YwhiFT8Kib4zCfAfWwZBzE8FQiJzCcELNwGTRfcIknr/B8OhywVCTFEHwGZvC6Plswdxl0sEYJnLBgKeYwmfzc8JM/2TCXOngwfoNbsLfnIvC6kMHwuBRusDoU2PBLEXNwau/ecJceJHC4989wnDvnsCsT3HCSFhswU7HMMI=",
          "dtype": "f4"
         },
         "z": {
          "bdata": "oIOUQvCRgkLQ0TxCOMIXQmzlPUII5dRBUOQzQjzhOULsKK5CSvW2Qh4JiUIYBQRCxA49QhbUkUJ+fsNChFFYQsT92kHwEn5CyMEKQohDWEJIOI5CckmiQnCnxUKUCTxCSF8gQpQ0gUJUS5hC6DrCQsoup0K6Q6hCKJczQui4vUKMxY5CNMVGQgCESEJ4/kNCvDS1QpyTsEKqa5JCMtq7QpSrI0Ji7qxCxPwvQpKjrkKcvrpCsLwHQhgyGULU+XRCeheQQvS8XELWT4JCAEsyQoRfpUIU/llCCMNuQlJ9sEIORrxC/MglQoDflkLgn1NCXPevQl5YjkIiXrpChh+yQrq7mELU6VZC6PQ1QrQCwEJ0AotCcDFqQrSZuUJMoZRCMLKFQlRDY0KoR29CIMy7QrhsA0IoBdRBIIpDQvRPWkLwvrNCsMgIQuxNq0L2lLtCbFmMQoKxo0JOz5JCFOCSQnrEqEIcXzdCPKakQoSnC0L0z4pC2iy3QpTlQULAYaxCnNp1QkREIUJM6y1C/NKDQsRnA0J256pCmO2aQjAmxEIM7KZCcASgQqyaR0Lw83pCTorAQsDCvkI05JFC7DpiQlqosELg/HdCKCWOQiQnP0IOJ41C5KPDQtIdhELWdYNCPjvAQoCzeEIo0mZC+OJzQo4HuUJ8cZ5CBMawQry/H0Igq3lC3J1dQmhUvULADYlB5jDGQq5giEJ8Ym1C8C2VQiyKMEK0G3pCZuWeQjgybkIoUzNCRFp6QkwImEI4BqZC3NwMQvqsoEIwCyBCbPAAQqyuV0JSz5xChHaFQgxwIUIsgjpCHPtAQmaQhUKUhRxCGPGLQsBYrUJImodBxLFDQjDr80FAhlJCMAVPQiZtskLw0K9CDEC9QQhwgULUEihCANlNQhzmDUIk71ZCgKmIQkAvmUL8l0NCaNVQQsTBiUIwGSJCsD90QQgBiEJgpVpCMmXAQno/iUKkrVVCOPFaQYSSIUJcpFpCdKKdQiSPhEIg1BZC1piKQuwDi0KE4jtCDENcQmY9mkJiq6dCYOcvQnyGvkIgxKRCJnmvQtI1tUIwsblCaGyyQja0mkJSi6BCPJqrQhpgjULAX8RCkLe/QUQvLkLQvmdCDPNpQnjur0Iw/49CAjSJQqaNn0KagrZCSE/HQhTePULMGmpCZPiiQk5arUIwYYFBHLcDQqAZekIIR0dC/A2dQYC5tkIUgJlCkGueQizZdULsFGdCRLEOQi5kmUIAjdZBpvDEQoghYkIeMJ9CeMlAQlZltEKAkLJCUKO+QQ4shUL8y2FCcPEAQm6KwEKO1IxCgGeKQegko0KIbVlC/LyLQqw3l0JwoFpCrBKpQmr2r0JgJ0ZCuAiVQvzakEJgcKVC5OxEQkp9skIMQ19CFIvBQi5KgEJ+KbZCshCZQnb1p0LkVStCXN2vQlLvmUIk7xZCuJVaQig+AEJof2BCcgy7QtCLs0G+oIRC4qq+QsS7tEIETE1CRDeQQkBJFEJYCBdBdgm5QjDYTUFuwIlCdI9bQsRCfUJAIjxCjGI8QnxalkLu1bJCcNQ0Qqr0o0LGGbZCVMaFQs4wl0JQd31CLHRbQnzpk0GQ8WVCPKoLQqTPlEK+OIpC6KRcQhzNgkImGL5CLrOMQkB9S0EYFjRC3gaVQpSgKULs655CAA5ZQrQBvkHk8aZCjFOuQkSfCkIImPpBjn2VQhZwtkIG3K9C0rOFQiDugkJeeY1CiFQbQpg/PEJ4iW1C5uuSQgL+q0KsuVtCuLuUQt7zoEIUg0tCYMjoQfRpRkJAKVBC0O6zQjiCcUIoMJBCgIjAQfJGvEL8k1FC0I+EQfx/SULuX6RCrlO7Qtolh0Ja45tCGNjsQQw6IEI=",
          "dtype": "f4"
         }
        },
        {
         "marker": {
          "color": "#B6E880",
          "line": {
           "color": "black",
           "width": 0.5
          },
          "size": 6,
          "symbol": "diamond"
         },
         "mode": "markers+text",
         "name": "Cluster 7",
         "text": [
          "C7"
         ],
         "textposition": "top center",
         "type": "scatter3d",
         "x": {
          "bdata": "HCsCwA==",
          "dtype": "f4"
         },
         "y": {
          "bdata": "MfYzwg==",
          "dtype": "f4"
         },
         "z": {
          "bdata": "dc6AQg==",
          "dtype": "f4"
         }
        },
        {
         "marker": {
          "color": "#FF97FF",
          "opacity": 1,
          "size": 4
         },
         "mode": "markers",
         "name": "C8",
         "showlegend": false,
         "type": "scatter3d",
         "x": {
          "bdata": "9hqzwgD+AsItXcPCCTNUwvC5jcF8v6jCEH3uwDgEq8K2hnHC3FWewujBc8G0CXTCJgiGwvEuFcI6d0bC8OVvwpzrqcLYgSDBbGbnwbztgcHx+hbCoFaawjoTp8LYEarBMHIBwtKirsJlbijC0G+ZwHJLwcJcck/CpuqwwvtEs8JlwovCuO+3woDD9D+GslDCvd+4wu2VTMIEtoHB956XwuCZxcKSFWbCYdvFwprOw8JABL/CKPg1wj6kwMJcH4rC3+xfwsDufMIYVe7B99FqwvGhx8JlVrLCY6SvwlWjxcLib7rCfFtFwrrEwcIk2NTB5ux1wsiMucLjS2TCdBD4wV3AG8IgDqPCpk1+wj/hT8LA1p7ClfqswtqiS8JVwcbCYTJowqIwq8KDCK3CbHwJwqR8kcI45tjBosjAwiZRmcKzp2vCw4/Hwhz96sGaqrbC2Hmpwv/XHcISqlHCtLv8wWAP08EMGYrBMyG/wstBOcITJqXCCl0dwpYZCcIc4BzCZOHGwrDPJMEM7rnBGXmFwjhd4cEVFqvCB05Qwk+tX8L6oUnCspEZwkC1s8IGtsDC3Fq1wsfilMKLkaPCvByqwglGTMIOf5zCRoNGwvGgZsJu8I3CjxAvwkDDvcKeLh7Coy6PwlmMssIAWL7CO8Kzwgf7l8IDaIrCsnKqwjvyNcL9A2zCe3UYwnVubsLI56XCXEs2wuBCiMKbknfCZh8fwq5oxMLqFo/CFxFbwk2dqMJEeRjCVMyVwmU1jcIfDTLCjlZUwndONsLuNYDCNSu/wrhZUsHBnlrCj5xMwtjZ7cEQaILCFdC3wrGJIcI25JvCLDupwhZUxsLhvpHCAdxQwqpDnsKIKMbBXishwgSrrMJ0b67BJh1xwiLgr8Iv2nrCADfQv0wen8IuF0bCEGW0wjjUncJ4r07Byc4wwmlKn8LucDbCaAP8wZVawcJzvsHCoXfEwkHst8Ku+bvC7dW+whBioMK8a4TCNsBMwpj9lcL8XLHCnCK+waC5j8H9oC7C+efCwjWysML8sp3ChJyiwsluM8LKURbC4EWFwqRXwcLMqqTCbd2Qwii24cFKMpzCHnxSwvzOAsK0q4HC/pTEwscqwcIiqozCcCyJwn3icMLoQYLCysVswgA3ZcGBcpnC0v+RwiY7XsJVeYvCCjyBwkuCYcJhtcbCJhCiwjBUlMErPZ3CmkKQwqlWIsJPm8LCEMN7wTzeOMIEDT7CD3yUwoB2scIIZ4jCkBm/wZydlMEUC77C+J6twuAwoMKw9X7BKnGwwo7IoMLFIJLCIFh3wnBJzMDKCTnCWDumwg/sOMIYW7jCAIpNvq5rBcLQf/PBhG2LwgJXU8LgCBvChsZlwu5BwsK4TYnCxMK8wiyn58E2mKXCktfEwn1Bu8LSqpLC3QRswozdqsJSq0DCJS9xwvjrZ8JS+KjCswRawmIHI8Kb30HCOkaPwlCjzcBQrlHCSnpjwp52h8I221PCQN28wTC15sEnlZDCjhS9wqcqV8KIDqLCjDmtwjd8fMI4pajBItkPwmRT3cE35nXC0IBTwWUow8K4d7vCYEuywaTJt8J/NMDCZM+AwlJToMJ7a7zCSLTTwURIwcKF4mnColWqwszz3MGi0D/C5yq5wsAn47/uFKDCninAwihhvcKE9dfBSNihwr+zu8Ke7EvCTEKvwqHSXML5/MPCDv5GwkHWK8JoVSvBp0Nzwu2rksIIrd/BtoAtwhaIrcKf3pnClwWKwm+wS8LotqHCQBYpwTeypMIHq5jCwM4qwKPJwcK8sLPCnWtGwjcRx8L9vJXCROKKwvmlicLU1pDBaxyJwpj7ksLyGRPCdd4lwnB6yMBvQLXC0Hb6wav6vMI=",
          "dtype": "f4"
         },
         "y": {
          "bdata": "SCWbQZhu3UFQ1DVCNPo/wmRVkEKkSUdC5P46QmjpPEJEhhTCFmwXwtBT9EEApYLCGCM4Ql53hULQtX1BWnNVwoQgbUIAFGu/OJHHQoAsrkF2n59CaGJVQdgg9UHUq11CQGG3v+xVW0Kk7SxCGOABQQhfqULAi/JBnRORwqD0A0L2Y6NCIOx2wnwSL0LAivNAUPXGQvjLrkLQ+rDAEAoWQkhnPEJSGRDCCAadQsAnSsEggfjBsCN0QqR3m0IBPovCULJcQqCAH8Co0WZB0DOAwWjTmcGM9hxCKjWHwuwJssF81mZC0KSawcImC8IwwpFCyJsLwTjPNUJcgXNCiIHjQZCu/EH4/upBYJkuQo4RhkKgrCHBmCcbwcBkhj+8dZ/BELNtwZYDhkKEZ41CwIe4wKtJGMIy2YNCgKLOv4ASNED4a3JBEYiLwoRUgULM36XBKBQAwijOxUJMbmBCbBMTQkDodMDYw6VBqMdKwfT0kMEw8T1CqHL4QRDBwMCob/FBKiS4QqznM0JAlXdBhJawQXC10UA69ZFCnksrwry0w0IpxDfCqJJQQq3ZqMLo+H3BKNa8QgTxk0LobhJCkBUBQrarokKfh5DCALr2QYSx+cGwRfTA+FQ4QZDsK8IQdCFCnF4OwgCbbEF4CsFCxFgtQowNn0JY/FhCBgpwwoiiGML+M4FCQATowCanrUIUvAdCFQAnwusnb8JC/6xCUD+gQABULT64nTJB0DHlQZg6Z0KoZy5CMJbWwOAe2EA4sg1CyARJwXCyn0J8CEpC8LKBQPAFZUHgegRChXwvwgAgnr3c/75CRHqOwvDrqEG/UkrCINgAQhxgt0GYJ/5BUBBDwWqXl8JgNhzAFKqjQWDJY0KQ8NFB9o6YQnAIV0JwG01ClA8/QvRddUJwcLJBhCi5Qqwst0EAH+U+QF+uwIzDZULMghJCwoKcQqhA2sFk66dCZLUWQgjqUUHETK1B4OGywfgwHcKYgjxBhMjUwXSgLUKfRBvCgE1+QDSShELqdsFCABCqvgynv8Eo7QBCnO4EQkAV2kGug41C0Hu6wZwGZcKo4ubB1SAkwlS4HkKonMpB8gOeQuBYhULstLlCMOSnQsjHiUGMhzJCgLCIwfKanEIAm6NBHbBkwry5x0HEP+rBzMReQtCyGEEAgfg+2PggQfBMAMI0ho5C6G+iQXRfi0ISKAnCsJxiQWAKEEAgswTCIEsvwPBySEJGfoNC8Jp0QfTqpcH6tMRCyDBvQnwcQUJCYcVCYKiawcAl/kEARpG/ALiyP2gAbMKshGNCTPe5QcRil0IAGbc+EDzywRLniULYTUZCSAk6QZyJj0LcW4NCGmGeQtDQt8AANys//LxMQq6NjEJIFZZBRAQaQuCfasDcfiZCiCKjQWD0KECAWs1AZArIwdw93cHIP/xB4CeYwNwhhME95qvCaEfxQWJJtEIQD7rArP+NQvC3GUFk8nVCILNJQBy/Z0Ie049C4OaXQnCcVMHoCpxC7qA1whTYFEK8yorCbFIZQgjLJUHAZtZBSDVEQsjYeMFAMKhAQGVHQIi/HkIScatC6KKPwb7jhUJo8KNBKO8fQp75hsLw7vdBKAG4QdA2lsAgRZvAZpkNwp6fo0IoZCZB6isLwoC9HkGewIBCsFsKwhQ7hMHUfVlCAxiawlSomsHIM0lCHOZnQjDhpkIwoUNCzdcywg6ZoUIgpOVBwIrrwMTFrMGAxWE/iEGbQtR6UkIA0XVBgKGEP2qTnEKEcbRC4BiiQQBUQMFKuZXCtPaeQZTZXUIwVfpBZoCUQnTJgEHEJrNB6KmMQVjvv0I4YSFB0CjEwZS3K0IA3CFBTbkYwmCFlcBAL1zBVj2UQvAXP0E=",
          "dtype": "f4"
         },
         "z": {
          "bdata": "UVi1wqJ3DcIcaIZBbnkGwl+rdMIYQgzCYsjBwjdxssKo2tjBsNjCwjeKtMKNnL7CAKT3v8jtH8E++Y7CvOBCwvURG8IUxwfCLIzDwsBveMDS85TC5JecwVBMs0GYBevBYIx6wM8DtMIwJpLClBSUwUDkgsI41S9BUO5zwuzL2MGpznXCsW+6wkQjrsLcX/TBMoiIwvBPBcI2e4HCPBKGwnYvksImy6fCyPtNwW+ugsKEvNnBgN16wUSAlcIpzrfCKFgHwb2kcsIAq4q+IBEEwo3Kq8Ks85XBkHyNwujRL0Eon3jB4BJXwcC3qz+NGGzCeeWswtLHc8KSx5DCuA8owUZZNML+AAHCxDeOwvomwMKScjLCgGtiwAryq8JQsFZBsDjGwEE/pcI4oKTCyEgswdiNJEGx/EPC8MP1wF53s8Iwv3xBPrQgwiCCvMGaF23C8GsLwnUiRMJtLyzCwKcDwVi7wMLQB5XBg/a9wjqBOMLUG5ZBHK2kwgHVxcLAXiLA1DetwmMMn8IAu1S/hb9YwogNYMFxirvCu3WbwhgYpMHQpe7BzUtzwoFErcIQMnJBAKyKwvyurEHzvpvC4DLdQXisHcFLZ67CtwW6whC6u8LUWZ/C4OjGwFyVisHAdtvAgEq2wrAOjcD0wahB2M2dQUTdjsLRwaHC2EtVwWDQncKlZzDCGPX7wVAO7cAo6clBrjeCwv48AcIAxJ1Ash2swvjfE0FjCJ7CVisOwqDSmMAgqerBQQyVwpBcnsLDimjCKro0wsUjvsK5xWDCyMujwjAsi8JAN0nAPtuiwlVxxMIedXbCPhRTwiJyXMLylgHCgRUvwhigTEHY3JFB/pCgwhp8wcLywSjCKmiFwuBLscKP+WzCwBmDQHAl7EHIXsTCufKYwrAyNkEPulbCAOOgQJa1bMJH06DCty+bwgAi1b6htajCIrQ0wkHRicKQ7rtA+lOCwsgDfcFvplfCEEiqQEL8ncJ3bGnCwOKUQP/tqsLcapTBym8Qwojhr8JpZGHCEttQwnA8k0HYrahB8OYhwUBm3UDQ47jBEJhJQV4pgMK635DCidh6wgB4SL0Y6G/CwPK4wEnlm8IuPZ7CxnmjwtY3LsKAY3fAAxIXwjUXfcKt7MDC9MKkwnYCmcIAAae+x+uUwgiZRsFnErnCjOLJweQUm8ImMEvCeNifwY1OjcIKSgLC52GNwoaofMLQb59BWDxJwVi/+sFYvRPBgK98QezRz0HTDLzCcl9Gwq0lLcLgVDJBR11bwm9IPMJDQCPC4LdDQN5kbsIupaXChQMYwlINxMIgXobCyhS1wpk/Y8Jj7knCdslGwjQYmsIEvtzBgEw3wnCkycDyD5fCsCcOQRi/B8IdZmjC+HSJwvcDkcIm8TLCjOmTwoS/tkFg6LRB0OqJQL3udsIy6QPCAHL/v9KXFMIoV7nCjQ4Ywl/7wMKZ1oDCAO5VQSXzmcI96b/C3JrdwcGlrMJ9mljCCCxzwjAqkUBA9oG/GP03wSchicIKimzCiGLrQRE6c8IAwK08a/1swih138FXUZ3CU8qqwixSscKkWMNBpucBwmjNQcF7GpXCyLssQaMBQcJqGqjC4PLdwekqjcJQOIfB4EAFQCb9VcLqXpzCuOj/wayrD8LnTYfCMIM9QUhlgMEQNVPBG/yowtDs20FAQWDBGKseQadUHcLojVvCoL5rwgDMbsHx8rXCihw7wgVXnML4QYLC0B++wvgRlMIAGN0/m3Kvwqj6gsJbCYTC6eO+wl6cjMKEubrCRh2twlYbo8JAW7/BvByHwtDjgcAi11rC2bCTwlA8ucHtIynCYNokQDz/7cHY+UVBR31WwugGCMEQsL9Aap6LwoKvs8I=",
          "dtype": "f4"
         }
        },
        {
         "marker": {
          "color": "#FF97FF",
          "line": {
           "color": "black",
           "width": 0.5
          },
          "size": 6,
          "symbol": "diamond"
         },
         "mode": "markers+text",
         "name": "Cluster 8",
         "text": [
          "C8"
         ],
         "textposition": "top center",
         "type": "scatter3d",
         "x": {
          "bdata": "5+t0wg==",
          "dtype": "f4"
         },
         "y": {
          "bdata": "nUajQQ==",
          "dtype": "f4"
         },
         "z": {
          "bdata": "/QIuwg==",
          "dtype": "f4"
         }
        },
        {
         "marker": {
          "color": "#FECB52",
          "opacity": 1,
          "size": 4
         },
         "mode": "markers",
         "name": "C9",
         "showlegend": false,
         "type": "scatter3d",
         "x": {
          "bdata": "zQ5EwlyciELKokHCWGSNQmgqEsFWLVPCB4ZDwmRd88EQZepBwCulwkOydsIs43lC9EG3wRiPr8LgCRHAHA2FwZZ1lkKxW2PC8G5XQYMpacJIA7lBeIBKQYBWRD9sdVdCqMeBQU7smELQp/DAALsUvyD7ocLArdQ/e4l8wgBL0z9irFfCw4YSwlLtpEJE8FVC1uy9QoA6F0EDpJTCwNT5QKAvssHc1r/CGAxtwSwTykHGz41CIOCvQLRHrsJkaaFB8HGCQr+8tsLsrLpCgGKAQJWrSMLkl79CCAm+QaMXscKExQxC4PF7QBhvPEIap8FC6JwfQkQ2q8Ep5afCHGGLQQhRncHEZY1COTR9wvCqJ0Ggg6DAVEfDQS4pMMIUDahCnNigQfD4Y0Jeq6hCwLhmQcomPcKwWxvB0HeLwMcImMJgLgpBqvEVwjAJgsGASyfB9vRDwmBECEBoc2fBsK+TQNAVDkGWY7dCEgUfwuyYH8IIGndC0O0AwoLRnMIwJN1AeNCqQZgguMKUxSVCxBmfQmxBAUIoccZCK2h3woCA2cEgFUxCK9R6woUTL8Jc2pHCTPEUwl4IoMLg10JCXr6rQiClLkJKeLjCOG0oQg2+xMLbr6zCMLiEQGh+20GIbK7BcGdAwdovEMKIeIxCEFg0QbhkCsHbmz7CAPKdP4CmQEK0U0dCQHmrwcARjz+887jBgA4dwv/qj8Kad45C+G2vwYBrdsAAGGhB8DoiQqnaqcIABXVBKFyawvzQdkLLcBfCOARLQgznucFQ2nzBBCZywmiYKkI8koPB5G8sQthLRkL5BV3Cje13wrjwIcL6YyPCT7O2wpiaKkJ88TzCLFUkQhyvEMLguSRCLregQnDjmkL+0y/CHOHUweSYnUK4i83BwPQhQvDdsEKA1tw/2maDQnzTVEKg4NJBiITDQnjg7EGMtExCtlWgwkCqVkHQj4pCaG7ZQahF+0FYnGrBYAUpwc0OnsLoi6VB2GRiwhC8J0IgFnHA7LqMwSDDzsCBlDTC7tuMQpQM9MFG0YbCt1eDwm7kpUKadTHCUiIQwgjCXkIAG1jAINimwSDvrEDyOQfCjMo9QqS5qEIIgUJB2BeOQvBM30GEEovCUGhdQTDQvkHIe4RCFbxMwsyLa0LII0fBzWqswnCGcMGxNjXCOe9SwkiIisGJPS7CNIxjQlyuakKmOYxCXHSyQvDp/UD6q6VCQLM8wYD5yD+m7phC5p5lwpRIFULq5ZbCcEs2wqirDkI0AAPCcDKEQtx+B0LsG5HBgBGGQNBpCUIq6KZCiHZeQrgiKcJ6iIdC+Bb7Qd2Jj8JI/WxCSJKFQqWofcLQB4jCbJqsQnypVMJQys7BdCM+wuw2nUI+xWbCRL9TQrg5DkH4oorCyJduwaDhaULtRo3CIi8FwiSC9cHzgjPCsKPgQGIchUIbzbjCsI9hQh7ylEIYBSBBYPY6QrQzh0L0RJxCYIwnwmxvQUKgCKDC2xQvwshxnsHsQbxBSAIJQoQjgMG8fB9Cr/VkwkBdHEDAMrhCZJn5wRecx8LAo0bAN/5UwoCBYEIMW0RCFu+7QjQYgsHGOSTC0G6yQlQCskLuNcZC0CuFwMCNfMCQI+fAIIywwODmQUI31mPCGeSXwjYVVsJedVfCgDx4wKP3esIoEbDClp6PQuC0p0Kw0JBCeAdBQV+qWcKgt/PASD8RwZZlp0ILtqHCvAe3QlzYPELg9UzBg/GIwmBdQkD1gBDCkNj/wEiYm0GQVI9AHjwFwqgAW0K4kQZBCDOxwsxhrMGSipzCZHJRQhibVEKIVe7BJPO4QvgYrsJmQJtCkqh/wsT2zkFEta9CzmGzQgwZt8FAjqQ/0MZeQexmtUE=",
          "dtype": "f4"
         },
         "y": {
          "bdata": "4mxqwsH4asI8ro3COxJHwrfPlMLLQ3XC/0CfwjJGmcJ2si7CGUh9wj3wjcIy5QvCE1UkwvcfxcJ2IkPCK3uwwp/KTMJaEqLCMguhwr4QWMJ6fzLCNCuXwoGCccK6nsXCAdi5wgDkq8LrrX/CCy7DwunUqsK0j4XCXMqNwkRdccLyjVLCqh+gwpTcwsJqQoTCiqubwgdJnMJiXoXCQ21qwqEyjMJJ0b/CD2i2wi+Ek8J9JFjCEtAswrC/u8LJLJnC7/aTwrX9xsKNlMbCpOULwpIbtcK8ToHC+NTCwi5EfsKpmjvCwePBwpx/h8IQ31/CQH11wnZVvcLjJrvCqo1hwqQik8Kk7bfCb+Suwlb0qcLQy43C4Nuswgq0rsL4VUnCWR2uwsT4xsJKDaPCMDq7wqjplcKXg47CxBaQwh7TlcIIX/DBRouHwtYFncKIOpnChKirwlE2LMLLcCrC8ukbwvMPgsL74WHCv6qqwjjXoMKtAIDCpgqpwuRsq8JDDMHCp3eWwvI+r8IXTKLCqDL+wVwdxMLmd7rCtmavwjo/E8J4nh/C3NxzwsJUucIvKMTCVnhtwnzds8I9WsPCkf9Twh3Pm8KQO7fCC9udwsrdr8LDTMHCLspXwhZOtMLMeJ/CRAfYweaNX8KLtaDC+ExVwXnqjMLe3HrCO/Jgwme2l8IAKVPCxkWAwkhNssK3h7HCy+G+wvRCksJwVMDClOyrwvcRr8KKJ8PCXteEwttmlsK+kATCuru0wgnqEsLIrSzCPcwnwieFb8ID7SvC5cWFwnpaD8I95EzCsCtvwrgGsMIOAq/CErbCwm/8w8KFZK/CvriZwt9AVMLxI7DCBhaCwudMw8IP8ZDCG394wrgZk8FEj7bCdJnDwjxWxMLaB5TCUFW2wsxexcL0Ko/CzBGiwiZSdcLx2MDCHuuFwiutN8LVDMXCmqGJwp9NwcIyOlzC18sUwmg3XcKCIYjCjIuEwr9Lt8LiwQ7CLlCDwgulj8JaG7/CQBzpwYjVgMLw7JTC2oAFwp4OWcIl7JnCQBybwvaUIMLaqQPCUOi7wpCBssJvfaDCeICAwm6CU8ICwMfC6Vs2wlaRq8Ik1DPChNCdwmQ0qMHvvp7CM0+8wkItT8K41MDBnPTCwph7scJ0GrTCLl2RwhDum8IZCpbCZeOSwrSvtMILfhPCjlKxwprwcsLcZL7CwLSCwlqFo8JwrrXCUrHHwtnQh8KbNk3CF0dfwl0KwMKZjZPCDRx0wltZosKNMFDCTBSHwnvghMJeUrXCLHtkwhjjosIMp4jCKIunwlYWncLQ413CTDjvwZ5SosKSjsPCBePCwiJwmcLRWaLCpFQGwvj8vcJE7DbCfrNBwiKan8Lkg8LCz6KkwjkOqsLaeZLCHLiAwqgQbsJiccPCu8Giwvcpx8JtWzDCvujDwgAdpsLE2pDChNS8wg1MRsL0IsbC0sO3woJnrcJWg3nCVRaEwi7iRsI0XI7CMDKOwkSoAcLQigzC3juCwpGyosKSm7XCwO2jwkbTgMLaOyzCi0TEwmippcKobYDBkHGYwpZorMKgzaLB5X/BwkQLksJukqvC7DjLwdxNgcILV5bC3WiKwhGqwsLzaYnCGMa1wjNmsMI5dLrCY9qhwtAOcMJdA8LC+Md3wiD6XcJfQYPClLmzwp2POMJ/pI7Cr+pfwpa6V8J6iJbCusiGwrxwUcI4bJLCFraLwhrtfMI+sDbCSUvEwmhmRsKcDIbC4M7AwnQupcL3qCPCzm99woOikMIvHGPClEa2wqUctcJu8YXCzjqowq5ukMJmZ4TCNSxwwgESxMLTWmPC1Glswq1AucKxR2DCQzPDwufsWMLmCRzCgADVwajQisI=",
          "dtype": "f4"
         },
         "z": {
          "bdata": "0IWFwSCjRUEpnCrCQJEsQsgYPkG0B8fBJJ6iwUCKvr+AU+vAYMR3wPugLsKQtY9AxLKGwciQC0IgZ9XAF9sXwgTnBUJY0RtBiHLUQRCwnsFQfZ1BfJG8QUjxwME8ULLBUInnQRRMS0J8h99BYN3swMB8a0EAXqe+wLS5QZhIlcHcv6zBMARCwvgZJUK48hxCpNlZQpSIJ0LQT/7BsPTLQPgAqkGgEr7B2OlsQeAvoUGgxC1CpOTLwfuxI8JEVApCQE82QfBB3EHYqAhCgHncQGDOnkEUbr5BMOZywQBdLT9Ira5BnNpVQpCWtsAc4zVCfAmlQVTKh0HsSYVB+F0cwcDhpkAgDvvBWEPLwYBFccF49TjCACwqQe8kE8LgaDFC8ArCwWiG1sEA/e8/8D36QQD2Rr+AYsTBwIDsQQzMucEcroNBAGHxQAysAsJIe9tBcI4WQtg2dcEYK7jByHZNwaAzD0CgVrtA6KkOQkxIikEYHupBnI0UQkD89UBeAgjCDsQIwgRBGMKAKBBCOG4IQthQN0Fgg+7AkICcwSBzFEGAJF5A2CWiQWyMdMLYQlBBAHyevp5RCsLQ2tJAhOIgQkAqG8DUtWLCPJMeQkCdpkE8TQFCCNvpQVg5JkJgxP1A4HbuQF+aEsJs6LxBAET0v0BNCcGAuMLBAiUGwnh9E0H41ORBlK62wTgrdUGAAKE/yIIqQgTIiEF0CLlB4Km+QN6YDsJYEifBiHzEQdiPPUFQQnnB2EamwZjEXUEMkeDBkE1wQWydn0HwM6HA6GabwSApk0Bc4arBTCiTQbhwQ0GKvCzChxB4wvzMuEHcb4zBEF6nwHQZ3EHQK37BAJTbvl/yFMI4r35BRCIwQkQ4tUHctdLBTA3GwTR/ekJYeInBsEBxQYg4dEK4IPfBqCNJQuy5rEFUTQ5CAAguQjRjl0GWjoBCQApQwNAJg0AY9EdBIDsHQXgGXcGgwfFBEDNXQQwJ3sEwHcjAAIzewAA2wkA4WK1BwISIPxym6sFEyI/BgEEyQRB0uMGA9k8/KKuvwTA6vUHAwE5ARNo1QoAy50EA6ALBnpMBwkCBEEEQQ5vA0IbEwNBvZkJIobrB0GWjQQAGoj5Y0QfB6NtZQmyLl8HgJ7xBDN4HQkA8gEBoDIfB8CJKwUhcJUF4XKjBEPZ1QVByAUJQo+dAiN8cwSANm8Bgh/HAwJRgQABnJcGEEFdCTISlQUD7kcGUuxJC+Aj9wfQKXkJAbp/AQCbSQGhagEFQ0ptBQCPNP8hGdUGCR2DCZMrcQTwMicHAzhlCAKD+P7CPbUHwoDjBoDTKQMCaHMFc6d9BcDf3Qfg4ccEELIlBCFUTQhRgPcI4RpZBdMOtwWhs8UHIdBVC2CNqQmB5j0H/vhTC4EvUwXB1LEKQr9jBAGGPwOKOcMJgbKDAoK5BQhB8qMFEM6/BaCUOwniPAUGgCQZBJBt2QtAjmUB05kBCiDtAQXCHNEGQC+JAeN4lwlxijMFg9mBAoBArQbSLykEoZSvC8TYhwmj8kUEwBf1BlBaNwUDZSMDoWRnBwP6swADphUE4tUFBOJ/WQYBiGj+YQ1LBcN6RQfCKCEFcUb5BcM8oQUDQQMGgYgLC7BLdQZBewMD4rm3CSLeBwUBMscHN4H/CbDoFwgDrZkFQ3fxA+M5eQhACFEKAUQJAdGgJQgD8qUBgd+ZBlDeswZgtEUJAytM/sD3nQYBx+UB4MxdBoPMAQmzB20HIlMRBuS1twjz8gsHwrDDB8lghwqhXesEI7CZBJu0mwpglZ8FICIJBVPRMQnzi2EEQsY9A4MR3QDhqrsEoLhLBcIcuQSCLGEA4QVNCiDJaQjQtrcGgqFrAAB8HQXhrosE=",
          "dtype": "f4"
         }
        },
        {
         "marker": {
          "color": "#FECB52",
          "line": {
           "color": "black",
           "width": 0.5
          },
          "size": 6,
          "symbol": "diamond"
         },
         "mode": "markers+text",
         "name": "Cluster 9",
         "text": [
          "C9"
         ],
         "textposition": "top center",
         "type": "scatter3d",
         "x": {
          "bdata": "5ITgQA==",
          "dtype": "f4"
         },
         "y": {
          "bdata": "PzKNwg==",
          "dtype": "f4"
         },
         "z": {
          "bdata": "6Ig7QA==",
          "dtype": "f4"
         }
        }
       ],
       "frames": [
        {
         "data": [
          {
           "marker": {
            "color": "#636EFA",
            "opacity": 1,
            "size": 4
           },
           "mode": "markers",
           "showlegend": false,
           "type": "scatter3d",
           "x": {
            "bdata": "aG1RwsxtscF7CyzCdPDJwTnqdMJwgPvBuD7hwYi6hMLw7JLBfiCCws8aI8JE3THCYh1hwlJ9isIXZmnCKOaLwXgJ1cE8BKHBVgWQwvxe/sHoN0nCIYotwvPybcJS82/CuH/vwVpOZMIwsOXBgEwYwt7jAMKgq5/ChlmMwpL8UMKHxBjC2xNNwobTMMKnCU/CTeQ1wg4MAML08B/CID14wdBNI8KwVvLBrFygwf1VIcIa9wjCVcg6wkbjkMKdLlLCQ3KOwo8ZQMJi1RrC461Mwgwfi8EwzaTC2GqFwrupOsJZN7rCIICGwZMPM8LgCoHC0Sl6wtDUDcJHyRTCITR0wsoJgMIEq/DB8Px7wmATfsEoWgrB4EZDwYuVTsIjM6zC8BsSwhTr+sGyhWbChr6Cwg6EC8IKSZrCE2yZwpgYvMHQ2P/BECulwU7ppsKsBozBlO0WwtoqB8IJ90vCyFk2wt9FasKuzlHCyKIMwjh8MMINWi7CeJTkwQSw3cFVTYvCIHYAwdBxfsLo2TzCDJ+owqnsRcLcJ6bBCU5cwqCZ38FavwLCsIBcwjquC8KcfB7CpP37wYCBbMIgI03BKLYUwSQvmMLu5QvCDNqNwivwXMI8dvzBTPcXwlahm8ISboHCTumPwmA+YMIACOXAcMzIwbLTZcIw9nXCWIYrwjzn0cHodeLB3Py6wseMScL2zWfC8zwzwkEFFMISCrjCvJqGwu8of8KIe4jBKWGjwt/zLcJ+SCzCqITmwQpaFsIXixHCJk5iwpiFr8LAtZXBxJrywSWTXcLB1rDCslhgwlHkf8J6FVzCiC+jwmrrgMKZxkjCeAEFwVkgVMJEZE/CKMUOwQxLM8JBtSLC0RRWwvmAd8Jg1Z7CJLyzwbSILMLzFIzCFq06wpC46MFA1Q3CbJUwwuhhCMIt/xDC6wVqwllbgsLjDUDCpOZjwtzq/8Fo5HTCfntvwqAqKsEz4TbCgEK1wZYRCMK8tsjBg00+wrz/psEFJCjChNcFwjMCiMLsY9/BCATcwcSojMLAry3BRUVMwquAHMK+dRzC+N67wTCw98EfmHLCyBeDwkTKzMHTHyjCWHbowQAVrsEEtIHCnRUywgOXi8LolojBbI2HwqxK9cH8p6fC8FXIwdQk5sFdupDC7ch0whgNAcJ8kVbCKXkSwvga8cHO+i3CEUoQwhDYhsFN9SzC7D2BwkoMXsJ3FyTCTsmCwgIiVsI8Mq7CNIp6wiRRYcJQxv/BQdJDwujLdsK1N1DCBE4KwgzOccK87/jB9v4gwtxeDsJQXwTC5F+Fwopmd8KyD3XCsaUdwnT8scFpVBnCxC0jwsawa8KCqwrC2CFAwWnnPsLYnpnBQ4lSws9+PMK7h6zC8KMjwv9Lk8LvI1LCSyYewsif5cHAOkjBqNuswaaxGsLEFdTBoa8vwuzX1MHXBTHCAMIRwqBtBsKQw9nB0DD9wajid8IF+6/Canhkwlwzk8J4pYnBg8Rgwv7COMKIpmHBDSJpwnDIZMIVtE3ClO2+wdbng8LIglDCxkuMwof6dcI+jhjCTE7iwcTo+8G44E7CZwspwi6tg8LlLzXCIKbRwbWqccID8iXC5180wtSJ/8HPKqDCKpNTwlDQK8KARfzBdHSdwi0aSMJwUWrB9NSNwWM4KcJNOGXCFVtRwkTLCcKUjCHC2s10wvp0u8KmQXfCfMmSwtyii8LgGHDBaCG/wUhGxMH+LIDCQMUnwXDKSsFQEt3BqNaAwmy12sHCooTCVGMMwqkmqsKdrTDCvEaNwcLjLcJIhHXBDHA9wuBXcMCEYJ3ChISBwe8ZNcI8aJzBe6gxwstSOsKQjuXAjP7FwWx3hcKQaaXBEO0uwv6fm8I=",
            "dtype": "f4"
           },
           "y": {
            "bdata": "94+/wi0issJCK1/CAMyPwhrfq8Iz2sHCdAe7widNu8IjBifC3Ay9ws2PKsJZ48PCoAyPwtfAnsJpy8fCJautwuoIwcISOZLCJkyrwux+OsJoKILCxHOUws15j8KRHbjCfIF7wjSSoMJbgbPC+uuqwpwJjsKVSrDCNV/EwpvMdsK9RLDCReiwwo4+ucJ+5HbCzISBwt6ajcKPesDCWDiCwhSKqMLowIbCoeBdwlVspcIsgmLCywVHwoSrpsLIPpTCGXmhwtXimsIrWijCthCRwu72F8Kb4cDCosyawhknnMJYjMTCQojBwkYggsLraKXC7N+LwjAUkcJsjI7Cbse/whi+lcJpihnCt7ScwkjPLsIMFlrCbntYwod0t8JZQMDCQ50cwpvgEcJWT4vCPLqywmuKUcKANajCma+3wls+csJRDF/Cho+lwpOKwcLCDxnCbjYvwnjJtMIUh5zCICiTwlQdt8IOAobCTKSWwvnxUsLXdYHCXJv3wUhQmsJJyZjCUMTtwVMFnsJXUlXCaKrFwskEtcLZa6DCWUW0wvNfLMLy64rCsjGbwiKij8IJOoHC6YgQwoGlgcI+NojClpEiwtpyu8IUeTrCjne5wsmXqsIBmq7CVvirwoy7vMJ0iKTCZlW8ws2CtcIONwTCNVKKwv57jML67cXCVaZcwkbwxcI7IKHCYSjAwovFt8LaELLCfTeTwmktXsIc6cXC0z/GwgKwisK8YPfB+WK9wrIWscKJPHjCtmudwqLdjMJzd7DCbOaDwj8pvMJlTHTChqmMwiIbpsKUfLnCZi6owmxRj8J0FqbC23mowjhgsMI9m6XCFjACwoA2n8KmDoHC4pKSwsSlncI2OsHC+CNowpR+q8LYCbfCQ5WlwuSET8JdoaTCVheHwvicqMKoIlDCOgKVwnppLsIikKPC6EmHwhyNvMLuhZ/C+U2zwn6wEMKEPavCpDqrwvfttMJkzJfCo7EXwoA0kcLmvyDCGHO4wvo+i8LgfKHC6z8UwsM5l8LSnx3CaBmewn4spcKjCEXCTmWiwnZ5V8KE+XzC91uzwle2fsLCMYHCkTiXwuymu8KO3anCCaiQwtCyvMHk557ChO6pwp+yqMKae5DCL9e6wlTzdcJCkr7CoM2KwmKBNMLzG63CzkGywlAXDMJTOLzC0sMYwjDrocIVkpbCdEpFwsCJlMIdoWvCdymywlhDisLmW47C3FbDwhSPr8K8ib7CmWKVwmHQjsL6ccHCjoikwjDCk8KXzrnCNtqgwiIlgsLUDiXC4YiAwpzfZ8LU5YjCQXWNwrLSlsLusanCM1tmwnanjsIV5VbCeDUtwsARgsLhnGjCKA8Fwio4ZsKD0B3CoUmhwhw3pcLnx7/Cmj04wrworcLRcGLCaic6wqo0ucLIOS/CZkMKwiFXvMI25yXCWPqXwmemRcJ5hbTCMRowwhMTi8I7l5jC53o6wiE+uMKYzbXCyj2Qwo5wocKJyGvCYCK3wqoXq8IHl2zCgMydwupXkcKmfpHC525PwiEbk8IIarPCfkm2wo0/gMK7qjXC7HkcwkeiWsKTocHClKmhwsDjtsKFskzCrY+cwvKwoMJsFlzCNF6kwv7DhsK0dqzChEeBwsRTjcKEaB3CDD2pwoGFt8KIinTCcPKOwkBPcsIrCrvCbFzEwiBHWcLwubnCNFqowmjVx8KeOa7CU7yhwk5gnsJ276jC+L1NwmavfMLD/a3CQ3dtwjxrlMIVLbfCyYa7wluNo8IUyMbCdZpowrk5xcIGw6/Cdml7ws9JqMIYp4DCYFdtwmB+N8GkorzCniJXwmJAxcKWCL3COCWXwqg+oMKHTcfChgybwgrXvcIuxgTChYY8wttqssI=",
            "dtype": "f4"
           },
           "z": {
            "bdata": "UvSzwotUkMKSMnXCwO5uwiawk8JUTpnCjGqBwrXMwsLb0ybCTT6fwmC59sG89rvCI/6uwsybqsKsubjCDNiNwmfjl8IJx23Cr9qQwgNeacL8DrDCbfh3wuf+V8JVT7DCGTc9wrpeh8IzlJ/C/TilwmMYf8KFbaHCakCiwjweTMLTr6PCf0PFwmdyjMLp/mbC9mF6wn6TUMIIr6bCDRY0wtWmjMKf81LCHxZFwo5+ecKHVWTCcCYdwuvApMLGI2vChPzDwqqGpcKIbkvCYyKhwgjg4MHHnKnCdJOmwkdwrcKR76DCKtuFwrazhsKbraLCJM60wvHYZcLU7m3CIz2+wixHqcKNlhTC5BrDwlw5DcLKZxrCrEoWwp/pw8LbnZLCGDE6wkjX38G4r5zC1WKuwg/ugMJu9YPC3EmEwoaEYcL4yHbCDfJ9woTspsLA0uLBhoVCwodGj8Ia5ZzC/WiUwl/0rsKV+WTCBNqUwqZrTMI4vmXCVToZwp7tj8Itd6jCQCPFwXXKx8IGSZXCoxyfwijntMJaeXrCdniZwpNLLMIGhobCifmOwsK/kcIeaUrCuJNIwlBcl8KkZj3C1DwJws/qnMLoW0bCVkyTwqTLp8J63pnCCRyFwivQq8IwV6nCBVuswqiivcK4b77BC5tEwj7VnMJSCrvC7MhzwmWsksKPZ5XCCSKXwqbejcKIiLrCbpxowv3cbMLG/LzCQIimwuKMrMJidQbCI0+8wkQYscKkQHDCLgaKwgw5SsJSmoLC6slvwveGl8J1PU7CkC5Rwp1EncIexZHCeE+wwuYkYcIqXqjCpFF0wmNetMK0c8bC5DO0wadopsLIT6vCZ9lRwkqao8KvFbHCAPpLwjOVx8KaIJjCEmmSwoCUZMLq3prCpL6YwnBXe8LvfVfCw2+vwmJSAMKVYaXCrglNwo75vcLSzbDCUYidwhQnPsJASZrCREy1wrokeMI4KYnCqIELwsmQXsLslifCsheKwuPuV8KQc5rC2ILUwWqHjsLlgkvCE2iTwvNHecL3hh7CcbHCwt4cZcLKI07Cfh2Hwhx7gMIydYDCMuC/wljrisJ/7LLCtBtbwhhu2MG4dafCuQOuwneSdsJNfFXC9Gq6wvwtgMIRlbnCCkBDwjtHIcI79rzCN1PCwigp+8GcKJXCGjsBwvwgisIAf6vCFjgXwmm0dcLfqj/C7zmYwh7iZcIctanC4HKTwg1Nh8JK96vCb7iLwuZ7UsKjYrDCxuqfwtzihMLov8LCIA2Cwoq2lsJxd0PC/X45wlIIKcJNc0vCRJ1Qwo4dncK076nCgiNAwhwJc8J6CijCDN4Hwu3lRsLBoVPCCDzFwUA4QcJYEvbB/oWkwp01iMKkaL3CPuQ9wk2BuMIdLDbCogo/wuWyqsLwKBbCfh4UwjisrcIowfDBtXqTwvNxPcIBWJPCkXEYwp+3Z8KCP4jCp6xKwn0gkMIKQpnClLyBwkfxn8KwtznCTNS4wo7OvMKgSCzCHge4wh2Dm8Irl6nCepZEwkG2tMLazobCqD+rwqY3bsJ4J1zCX9wfwiwNgsK8k7PC6fGrwjjXrsJ1+FjCNvCRwsMRs8IkN4XCmr6XwuzUkMIgJ5DCUP9BwuteaMJY/hbC/iOawjBHjsJVvDrCHkFbwpjpg8LwAbXCBwSnwqtbUcIHYp7CeuOXwoasusKjgJzCs01xwi01ucJ8EnHCcAsRwvY2b8LabcTCCHcmwr6yTsLFJYbCrD+xwqdeicJdKMXCI4c6wl/2o8LErbfCE0k7wqkdisK4VzXCDLGRwjiZKMGwspzCy9Aywtx9o8Jmd4fCR1KawuvddMKN6InCU/uJwoyNxMJQafvBaSkewhSXwsI=",
            "dtype": "f4"
           }
          },
          {
           "marker": {
            "color": "#636EFA",
            "line": {
             "color": "black",
             "width": 0.5
            },
            "size": 6,
            "symbol": "diamond"
           },
           "mode": "markers+text",
           "name": "Cluster 0",
           "text": [
            "C0"
           ],
           "textposition": "top center",
           "type": "scatter3d",
           "x": {
            "bdata": "rpMywg==",
            "dtype": "f4"
           },
           "y": {
            "bdata": "dSaQwg==",
            "dtype": "f4"
           },
           "z": {
            "bdata": "ijaEwg==",
            "dtype": "f4"
           }
          },
          {
           "marker": {
            "color": "#EF553B",
            "opacity": 1,
            "size": 4
           },
           "mode": "markers",
           "showlegend": false,
           "type": "scatter3d",
           "x": [],
           "y": [],
           "z": []
          },
          {
           "marker": {
            "color": "#EF553B",
            "line": {
             "color": "black",
             "width": 0.5
            },
            "size": 6,
            "symbol": "diamond"
           },
           "mode": "markers+text",
           "name": "Cluster 1",
           "text": [
            "C1"
           ],
           "textposition": "top center",
           "type": "scatter3d",
           "x": {
            "bdata": "KL0mvg==",
            "dtype": "f4"
           },
           "y": {
            "bdata": "dOnVPQ==",
            "dtype": "f4"
           },
           "z": {
            "bdata": "w9IPPg==",
            "dtype": "f4"
           }
          },
          {
           "marker": {
            "color": "#00CC96",
            "opacity": 1,
            "size": 4
           },
           "mode": "markers",
           "showlegend": false,
           "type": "scatter3d",
           "x": {
            "bdata": "SLcPQrS8lEGKerJCCFWBQdREusHYfkhCAPNuwEBVVkFQXobA7r2UQgBEY77QRLpBUJRrwawxFUK4iPZBlJosQigzr0LkCFVCnq+GQtA81UHaFbxCwJIPwGAYlULoMsBCqgrCQmSlnUKuRbdCgPuZwEhV2UHY6fJBFERkQpgOwEHEronBICmlQfSkB0I4ayxCa7Emwow4wkJ6dMZCpGpMQlwUrkJoTTzBSnihQswUQULA7cBCALiyQQC3D0Bg/FZBmEV4QtzEaUKsbylCBF8NQooAAMKYZVpCBDRLQiySvUIQFQ5C+HXeQZiYkcGg94NBBEUQQuhqU8Hgx49CEKpvQqDRj8Do+BbBpq4fwnxXg0IUjEBCTGZgQuiRl0EINKVCEIzPwBQ7okH+x6xCCLfrQYDFrUGmSgTCzAi5wVgxvkL4pZZBxAeBQeKiu0Lk9UJCtFqwQkimEEJ66cNCwLAgQAz6xEJg9Z1Cdg+fQrwf28Hw+NJBoiSYQsaJhkK85qBCOCeUQvDsW0JAE7JC4PLFQryksEHY9zJCWDtVQaw6Y0KYbAzCrIAZQkwCGUIwuypBjmC2QmyFKkLQM1hCZAUwQrQUr8HspX9C8JPyweT4g0Jw0BNBILNnQjjXikG4/YZBsHicwCBedcFCUopCGB0qwVyGhkIIqxRCxC81Ql7XqUJiE8FCvGJKQpieSEJina1CuKAhwRBZDEH0HbxCACTqQVgmj0LQQEHBRHp+QgzzvkIIHLdC9HWpweTcoUL4WwpBnP1CQgTwYEJu/J1CYHSgwJAsyUGIExFCHA6fQdDxYMFEbsZBmBGRQngzCkJArgPAzJXewWRbc0IEW2JCALo2P0CHiEDAyKhC8K0EQmhivkGAUL/AZK95QoB4tD8sdqxCIhG8Qqrqj0JyC5pCwE0fwQBicUCAIQ+/MNecQk4+k0IYPbJBjPoGQoa0ukKc0a5CSirCQuBBp0IgLh1CzBKIwUJurELusblCoKo+QlhLbULkQH1CPBhjQsBi+UEE1T5CeCXrQSD7aEE8fL9CaBFLQoDsEkKgBIzAGliVQtp9tULASAhCQEuUQHJ2ukIQXJFC+F8EQm43g0LozQRCwrevQgjwdEJYs1dCDAaYQlDVK0LYBC/BKIsowaCZw0FQiANBYF3TQeyvpkIoNJFC4MglQQDHi0CQpZ/BaMOJwbjSZ0GYf4xC6FZ8QliDSELmQbJCFLtiQuRyR0IQbOtAoAf0QYAZckG4CmJCnkmxQqgy6kGQEmRBJCqRQUxgn0FgBzZBAPDyPqALgUGqtIFC5p23QlAPrsCgLFRAQB+7QZRyrUJ4b7JBEER+QszCYULcIoxCyHUCQgiNXUIsZbdBuDtgQfTalEKsd61BUNddQY6huELwTf7A+IJNQviLekKwVv9BTKs+QlDI+MDInNtBkP2FQEB0eEHgoUTBECn4wBxgnkLQWM/BQO0GQJiNm0IQc7fAOFytQgSg3kEsqjFCsM2fwfBDEEKq+6FCGIaKQnyu2MFGkINCEKalwNLbmEKImn/BUDYyQoBUJkKo0hFCEEYOQfjZtkKAgi5CkFaHQCz7vEF4bF1BCNsbQvJ9tUJYA2ZBPDFsQiBNLsAO5MZCIO2HQdgNXEE0Q6VC4u+VQuBBoUIy7xjCXtGPQrC9WUEAzk6+VDcxQio8vUKUZY7BQBj9PyCxrkBQEg9BQPGav3aBs0Kk2YtBWFOcQRiGr0IMqKhCaDuGQmr8uEIS+8VCFN9LQiqau0KS04hCRCCOwS5iF8JsddJBZlufQoLThkKA8xLAtJQ9QlJlDMLCh51CeH2sQXxGiUI0qt9B/OBVQgxDv0K4obDB0HqwQOAOTcBQ17FBAHl3QqCyY0E=",
            "dtype": "f4"
           },
           "y": {
            "bdata": "CH8EQYyxPsJB3kTCItswws7DJMLAwczBAPBfv2hxbMED/FDCtHfkwcA4R8Iot+PBC7QVwnBPEsGCCl3CwJIPwOAC5MBc9a7CENicwrBm0UHN2zDC5hGfwpC+OMLQ5PLBRgt+whD+ocE/GbnC+cp+wmBEc0D6cGfC7xtYwqBCaMCcV5rBML/dQIWOVMIAsHTBc6xDwsC/usIFjDrCaE0ywWjeCEKE807CaCgYQcD2CkHgdjTB+FkewXrIucJJ4F7C+JItwYWausKmjk7Chli8wm63S8JdJyjCwLvrQBy40UEYBVfC8FOVwCeDHMKaNo/CgHxHwFHvUsJIUI3BOPgjwZTDCMJCQ6PCcjhYwggDU8EkW7jBGKGswmr7cMLMJZzB+D0Lwai+6sEa5Z3C0CIIwRRm1cGoiHnC7GVMwgASrj/QuYvCwN6awbDDuMDQlehAm3WMwvgsnsKeqHfCgLroQCZ0u8JnpyzCAnWWwmhUP8IAFxHBncypwg5qj8IpokbCoKLUwWArosCKj67Cvl83wm64osIUj6TBuKSKQcBi+UFc4wHCRvmqwlSvOcJAFynA7EEMQgCLncFAB/HAS7fCwlQY/cG/0pTCD4dPwoiTlMEASfQ/ft1KwjwwGMJbE5/CUl08wqCy2cGwD2tB9uhfwjhkkcKAm4NByqM+wsAjV0DQ/RnBUTJewsmopMJY4ZrBtCeqwihM1kEQl9zBAHFRwntUYcI4FwXCqINuwTioBcFW36nC5fsSwkDd/kEYhTRBfNOYwpBa3cDiZA/CoD9VwTDijMAA/7c+6FvswWjH48F7m7bCpkuwwmy2qkEPLLrCdfu1wsDouL9sUIlBoPErQKg+UEF2iYjC6HjBwggHKcKgVp7BYlaLwgBLd0Bj2WXCrE2CwUhRjMJcOfzBTXaiwg7DjMJAUh/A6JigwhgvtMH8VqdBTkKSwtAV38CwUq5BwL8VQtBTfMEA8shA6b0rwpDH/cEgM8XAkM5KwgXqucKMo8TCiEMOQSR6ncE2CLTC+OeTweAjk8HPUSTCcNOewbyUIMIAjfq/jG6twrKKScLIMzlBqEf5wZv0msIHaRrCAPUKQfDq/0F40a3CYLCowqBAncGQ62DCjNmTwgAsfcFwnyzB4ApTwZrCi8IYMT3BYC/PwYgpRUEodAJBADrWPkTVusEojKvBzaRmwjhVF0EWLCnCoKAiQIDkkD86oA/CMHAHQmC5lcBoZsDCcwIkwoQLhcG/kETCyE2nwdghR8IVGkbCuJjgQdrjDcKmJwjCrIswwkxcmsF79mvCaDYiQWhvGMLfrz3CaWoTwlSB4MEI7zjByA4BwUCT/EAAo6E/8fNCwtjpJ8GAyA/BgP0BwsTZl8KggF7BmOwKwXD/E8Kv0iXC0BChQBCl/cFUMKrCJHocwpCArcCc7pnC4KmEwrh5i0FACDXBFK0OwqngncLUdC7Cik1xwqq7XcJwzZlAhEaDweL2I8JI5dbBwleGwgB7279HY2/C7IS0wslMXMKUcorBamzFwlx3W8Lljx/CGPFEQdDfl8JALqC/TK/nwRsoYcLjrVXCNE1GwuhLrEHxYo/CWJuYwq96HMJkYY3CEFqSwUBmp8AEwgXC3L+uwovaFcLQfr1AgL6GPzhyoMKqb47CO7kZwqAAz8AYY4VBALdOP8Cpu78RGmnCz0o0wsDPPEDAxTvBqJk4Qfj3F0F80E3CYHqlwXT4ZcJzgYnC+IXuwcSSy8G45eBBYOJQwe/Bu8JMyyrCKFcbwid/TcIAmkDAtoOawlDKsMAEWLXBtYq7wilRq8Lcv8jBoDoNwtB0OkFgqbFA6DZmQZZ2v8KwNZXB6TR5woy8msIeXHfCKFVfQQAEUcI=",
            "dtype": "f4"
           },
           "z": {
            "bdata": "Z+yOwrRo1MGAnznBMqekwlZjjMIf+TDC4ehdwgxisMHX04HC029twlEoK8IkBMfBH7nEwi9DX8KdM0zCWCu9wWBymcGGQGbCYvp/wiKTu8JEdufBsxXDwtAbqMC4y/zBEnyfwmZdrsI0kfLBL4O6wteqS8KqjMfCR/mbwhszwcImPgLCWsSewlp/lcKIMlDC20vDwgwJlcJOb37Cv/23wmh/v8K9aVPCEYctwv/KqMKWa3LC0Wt2wq00sMJ5gKfCLYZewkWQw8ICe7TCpghZwudakMLwIOTBYEM2wq01tcKN/bTCeD3bwWAUrMLZmrjCFe91wnmOq8IQ817CSLENwvT0g8L2Xb3Ce/LAwhBMV0EA50bC3b24wordEcLcbbLCbHUkwk3Cx8LWqsfC9mU7wm78jcLnpKfCnxuHwnhdH8JZL5fC6APwweCbB8KkTyDCIrs6wiornsIab13CQUyrwr5NpcIUYB3CKTa9wsCgrsKeDQbCMby1woiSC8IGFLjC0mSkwtD6B8JsBqPCwIW7Pxs6qMLAXLk/omN7wqctksIbXrDCBpS5wui0pMJENTHCcpW2wqDbe8Ae+aXCvNS3wjIujcK2Ln/COyeqwpjHXMG4FEnCqJWJwkdfmcI3eI/CLK+rwpKBRsKVBVvCFAt6wvR4x8LsaWjCQv2gwo65gcK89LTBSxGMwie7pMI25KTCPUKywrbatsL4pRLBwdB8wpwyg8LfZ77CGpCdwk/LTsIScpDCN4wzwhvTusI0ksbCcGVrwsDay8AWmq7CFPbuwUAFckD6v5zChdDCwuQDAMIAzEzCH3eZwub6nsJ6XZLC6uq3wqCbtcIsYX7C+DqCwit/jMI4SqvCS2+RwtvUUMLg4LnCUaF9wvSXpcGgm9nBvO73wQS6X8KgYA/CQAqmwsx+wsJp83nCIHjtwYB+ZD/CmYDCnrmBwjb4BcIhI6XCmgyzwiTMBML4sfLB9EW7wtSzqMEAVAhAneCXwpdTYsK7iDjCMIqGwu9vbcLV4rfCyEwcwlGKIsLum1zCOIR7wayLmsI8qWXCzpHEwtezVMJe0TrCyHcTwjX6gcIO70nCW02pwrd5scKnfarCgFG0wpKPr8IQ9+3B50CswggFx8IvLKvCLx5VwqFxwMLYfo7CjFSRwv+ev8JmGI/CdWauwqw+Y8J6XibCeOqxwl5+LML6kI/CEGKUwsyJt8FVVS/CkzOwwihthcISr4vCeESzwsiyi8Lob5HBrpWnwj53BcJEfGPCPnrAwmvrwcIABurBbKUzwhCj8sD/RXXC1KOIwV/1lcK1k6TCTl8FwgTTmsEO7cHCICB1wHjmw8IChybCHRTDwvAus8IeNnPC+DyHwY9CrcJLHUXCQnugwtt+qsJWKnbC0NQ7ws3FjMJlhzXCNPqrwXDOGMJ5SUjCkxRzwhw2ncKoA7vCCgeuwljnr8K3AbrCw83FwpBep8I6NoLC+q6Zwo0Av8Jokt7BzJiswkGfpcKnLiDC4JyNwpG1p8KQnDBBVlyawhPkZsKTmVTC0/90wrnnrMIdiB7CADLNwc5tC8L968bC5cBYwm+jtsJLMH/Ct0wtwiq3I8JjYpzCsBKQwAo2ncIY/LnBz4GPwi4ww8KPcbnCzrqewpBqBMLkDbrCkDf/wNh6q8JJZcTCtC/ZwYBcyz+gxmvC4mqxwj/ousJXgBXC2yCkwiJTSML30FLC0GguwZ8UrMKcrKrBFK2MwZBWgUCA3KzCULGXwcJUjcLvGabCy1mrwtv6kMK888DBKI8OwugBcMEjG7HCbBO9wtHhwsJsCYnCXOyDwoNKsMIwslHBQJqqwhgOmcLWZY/C6O61wsloYsIBcy3CP2oQwl/rxMI=",
            "dtype": "f4"
           }
          },
          {
           "marker": {
            "color": "#00CC96",
            "line": {
             "color": "black",
             "width": 0.5
            },
            "size": 6,
            "symbol": "diamond"
           },
           "mode": "markers+text",
           "name": "Cluster 2",
           "text": [
            "C2"
           ],
           "textposition": "top center",
           "type": "scatter3d",
           "x": {
            "bdata": "NDsvQg==",
            "dtype": "f4"
           },
           "y": {
            "bdata": "z9sFwg==",
            "dtype": "f4"
           },
           "z": {
            "bdata": "YYJtwg==",
            "dtype": "f4"
           }
          },
          {
           "marker": {
            "color": "#AB63FA",
            "opacity": 1,
            "size": 4
           },
           "mode": "markers",
           "showlegend": false,
           "type": "scatter3d",
           "x": {
            "bdata": "pEySQfxpn0GAPR6/MBuiQeD8QcG4kxhCKOAKwaCvp0DA0FRBro6YQgj3rEI4q7RCoHtqQuBNa0Gs6SZCYMRGQTA6ZkKY39JB2Ju8QpA8lUCckrBCzHeVweg1d0IQuMNCYkSFQginlMHs4bRCEDxfQShCF0EYGbFCxqyfQlDXCULgYlZBIN8YQixLgUKe+JhCgkmTQhL4oUKQ6wrBjB8FQrIvEMKk9itCjk2PQmwBU0LSrMVCwDUfQKIGvkJUctVBGJPDQYgUUkKwsYNCkPmFQYATAsA4bb5CyNkwQtidW0I2h4pCNGwsQvXILcLMHXtCyGQNQqj2CkKM8a1BgH+IwDxWjkIwOj9BbNyrQkJ6i0IwaPJB2OuewTyMgUK+4cZCwKdHQqT7oUJ403dBsO2yQlLSq0IAjFy/HBaLQUD4vj841J5CPC9gQqzzxcF+FY1CYP8kQhDowkJ01yNCcG7AQtjwAkFICRZCEmbCQuTiVULEtX1C4PQPQZrHg0J4jyZCNOySQoCZHEKALTjBDN6XQiD4FsCIt5lC4ACGQnzNCELsGENCxNGuQXKeu0KINqRCpqSvQtD9nEKEZYFCwFGMQpgHj0IkOXdCwO2zQSya2UFg3ipA/DykQnhyQ8FQSrZC8A3LwVj7TUG4CVXBisCHQlTYbUJInhNBmNpOQdx+FkIAbso+KIq7QvBUVkI8goFCBEQ2QgCmAcBQgoRCoADGwPippUEAd91BgEQhP1huukFaJ4lCtJk3QsIprEL4ygxCeKuGQqScCMIAS4rBzHRcQhDPaUGcWjVC5C6EQnhrKEJA5INAWJVDQtKWiUL4aZDBPNKmQqCAwUKeGrBC2NWCQfTBmEHAJTHAyGaXQRA/dEEo3utBANbhPyCht0Kwjb1CLJqAQrYPqEIAKnNBfMt9Qkg/UkEQtvpBwHI7QMZeqkIs1BVCIIzUwJAZCkLWlIRCnJMLQnzyr0IAlCXBzEvBQlA+j0HkHMdC0smhQjTmDELIkTTBouS2QjQBTULc6VVC4Di3QnAltUHI3UDBRFitQih4VkIoWmbBKvebQoRRQEK0GbtBLJwbQtjHb0KAmGVCENpvQXgiWkFE1rBCsMysQkizIEK0O7NCBNOpQiwlUUJsok1CNNulQjx1aUJE3aNByCM8Qd52j0LOBq9CiBQHwThJiUKkRABCiEBPwaq7iEIqJb5CxKy5QRjyqEI8nI7BDGRuQsCBdEAUkphCePAeQnD2ekL4pavBhHasQsh7x0JwVxtCQKaVQhBSDUHEo3BCWIrkQTgls0Ko+1FBVOVaQtDZJ0I82ltC4K50QuaXokJgUbtBRkyBQqDepUIIejfBjCxsQiBsKkEg95/ACO4rQgBaCD5QGOxBkGFQwfDAE8HUu4HB0mirQmyuKkKA34g/WlKeQrQokEKujDXCHCwmQgTdtkLkVqxCRBCOwbwmUkK8n0pCoCd+wBAFqEK8GJVC0MKsQsrWl0J0cw1CsIgOQdi/dUImbZ5CNJ2mQVRee0LkoaRC4KAsQiCzN0IS4MRCaB/RQcAYfkLYVyhBfMmnQnzfhUI0N41BHCapwWaBxULErlFCFseaQoDlzsFaFZpCyAwSwWR8L0Lme5NCiNVqQbC+L0JEkZ5BWGnqQaAqWkB4dplC1JKkQkB4rEJwKhhBcOyzQFKShUJgi5RAzNVKQoCCL0Lg4H9AlPDIQQAVREIUc7TBbhO7QoD/jELwR5RCxqKcQlhRcUJM8gJCus6dQlZtjUK4nBBCnJI+wgghS0FshMdCMFODQfgwFEE0KDxCMNAMQTSka0JYLh1BKM5WQjR4s0KQM4BBqA9nQgCMpUFGpJVC4HTCQCr+s0Is789B+HG/QS62pUI=",
            "dtype": "f4"
           },
           "y": {
            "bdata": "PLfAQpzEk0E+Vo1CXNV6QmzYXULw7RhCkGCmQs5pmELoIihBtG1sQvawwkJYeqZCUKBEQgSq10EQwlJCvKYtQqAhukKKXa5CKEgoQqrFlEJAcbo/0BwbQvwJckLwO2RB6luEQpr7kkL4VadCXJtAQiiQakLwC0xCMFuiQjLmskJkRYdBgObOPzrcqEJg/IJCiBkNQfxLX0LI3rxC+LdGQgpSskKwkKxBwjOTQnrml0JEXFBCACYvQmCa70HkBVVCSElzQrpcgUKgehpA7P1WQlhRFEIYvNlBAk+6QvSvoULAnChCzsO8QiKDp0J8HyhCbO9lQrAAFkIqOrlCgLvvQSojgUKgOiJBioW8QsqSwEKYUvdB9IZ/QrjsbkKsiVxC+BG3QthDxELqsK1CxHitQsxUGEJsAqhB0KYeQuSGDEIIxQ5Cxge4QhgipUJQQL1C8OINQtyj1EGOs7VCPI5PQhjgOEKUq6ZBbC+HQbaei0K6hZlCFOM5Qoaqm0K+iKtCIqe4Qrh3PEK4CDlCQpSNQiBAH0IAxP9BDLQhQv5Zm0L6oJ1CbkyIQgqQxkKgTrJCUDYuQhzKPEJwVV9C7P1aQkhof0Ho4ZZB+NJcQsx+e0Jki7ZC2GYZQoqVs0Jkl4tCztG+QuiWMkKQoHtCYDfGQi7NsEJQenBCIOrOQWi4oEEYxW5CzC1AQujWs0IoScFCfAuxQWy0j0Iwu5JCXMoQQkDpHUKsFppC6CsnQuL+h0IEeVZCAGlLQk5vrUIEgmdC3NhaQiZ2wEJ0bVBCUk6EQvxrc0KogsNCyuivQtw/mUIgrpVCpv3FQjSZqUI84MZCKDvWQVjc6EHkE79CZI6gQQIIh0LQiilCrLPCQgg7o0KwGKBCCr2dQtxFPkL49C5BAlDCQmahl0JkNMdCZv/DQvTRbkLMOVtCRFM8QvScKEIgLIpBxvStQuBsbkJIU+pBTBmoQrQ/XkLyhMFCoG2EQhjprEIs5VhCEJe5QlKno0KqLb1C5MqUQhASn0LsDXhC2nqPQmhDV0JeRaBCkKb0QXhIpkJgeaJCdqKgQjzNqUJgGKFCPAKtQYA5NEEIcUlCyNLYQfCNC0IoQXdCGMhHQnSjhEJGnKZCqP9hQtzGDEKU94NCpFIdQqQDHEIAM0NB0PMAQmb4ukLcIbVChiycQuBCMEA4rIpC+FS8QtxiokJUpUNCDNCbQiwYjEJULrhC+py8Qt7OrEIAEidCaPNwQhDAWEKqiaxCXlLFQtCRPkL0RMJCTq+YQrY6gkKotFJCerC+QmBAjUJgaeJBZDgnQhTnHUIM/bRCuPzwQayHkkKEZbxCJJ2kQi4ImkKussNCiHOUQogoH0LAA3pCWNmBQlSvbEJou5VC0OJhQtQlikLe6LVClNVfQqDOSUJgH8VBEArEQjAmFEH8Q79C9JNQQpjQaUFo9bNC4Fd0QuAtJEIacZ1CiIlyQoBhCUK2dsJCEB5IQiRtkELoKGJCsBnjQLoOqUJciT9CnDbZQfQ1xUIWl4lCXKiLQsRDpUIIf2VCmp6fQuyWJUJch3xC7K+wQsQztEHo75tCIFV+QgBHR0H4H5tCyD6QQXR8ZUK0HCBCJJ1NQvBbc0LM0TRCvMgOQsju2kHE2xRCEL6IQd7NmULqfoxCxjaxQuiZG0KILmdCyGJxQnxtw0LwhW9C9OKJQuxpVEKUEGtCrJyuQrC+kEJyvcZClAI+QtC+F0IkOZ9CtH4rQnTDrUJojDdCBrqmQkDlmEIKK5xCTLe/QqBcuELYhAxCFF6yQWiEAEIuULtCnBRoQtQfu0JGy7RCmNFLQgpGkEJ67apCSuaJQoL8pEJYMCxCwNiOQhj1MkFI6sVBkMI2QS50kUI=",
            "dtype": "f4"
           },
           "z": {
            "bdata": "UAMNwgBwn72A+3k/6CsCQhifdkGHqzLCHherwhqXKsJg5+pA2FK5whcRKcLgcpLBQB+/v2Ae8sEQy63Bu6eJwh0da8L0GdrB4d5bwmB59EGwJeZAUILXQCheIkKsMnNC5ryuwjA7XMEcDRjCiKm3wa/RvsJ8sT9COOwGwow2DUJwctfBEC9RQcCWGsGxW8fCwMPZQDB+B8KMng9CEMAHQujPwsFoyb/BCFT9wZC30sG4Wc/B9BnHwaBFD0G9JcXC5ZUewsRWaMIAzcVA4G2tQSAN6MGwgepBAAx8vjAqh8GjmS7C3HHSwQAcz74sZqXBLtRlwhpuB8LwzWzC8MJqwbCJ/kEMh6rBuDAjweBELkIgPobCKBaNQbBqSUGwXvDB0CDZQVAX0cHIFgjC0Kt6wYhqLkKQzIVAiPvpwcjdaUHc2g3CALIsQTZcS8LYW0nBIAwlQBx6Y0KH1RDCcO2awaVEk8KlyDPCmP5EwXDVQkKONQDCm1uEwsgRYEIS3WHCHbAjwhgKrMK4zYfBQG7kQZhUBcEUU4nBz4+YwginicHVwbjCILAZQMgvyUGQdHHCy3YswrDxtMF42eTBYIIZwRDxMkKAgGrAwQBowq7VxcL4tTRCoLs1Qi8/x8Lcs6BCoJD7QSN6NMJQrvHB4lCoQmgffcLYC3hBCDeXwcBGqUB+Ww3CzL1MQuSqjsKoFyNCMA+3QbRE1kH/lmPCUCS8wWAv9UAXwW7CYIyhQQCcNEEBdUbCwJruPynoZcKvkbXCvxGTwvBxE0FAsTlAJl9TwswCj8GOab3C2kmgwqCRQEL+rArCxECswib7TcI44TNBAF2owFyVFsJAEftBmL2DwbAu9sFAB9c/ALZlQjzAgEE0B1PCsPqGQPwNiELUXDFCsM1awjDj0EDpeSHCzqM7wry758GJppHC4IMFwqqwYsIYN25B0tdAwnDM1UBYigrBfyFYwiw+m0Kwfy3BX3ahwrZkg8IM3KLBCIOVwvCGuMBDpD3CwKIJQeBXGcAAoSLCkIiyQEBw8MFMWs/BlJJnQtzDK0JU9WXC/CKaQc1EuMJEDxtCpaUlwgAWqcC0RCpCsI2iwdU8bcK7TpfCcN2owXTiosGwcbDALFBbwgBMJD6oshVBANNuQvj/w0HAxfhA6HfVwZ3jicLCQo5C8HGZwlRAvEEM7bfBAD3WQXjRh0KIDVBCiKAjQlkRqMIwsrrAPCckQlnafcKM5QnCH4nEwkBAiUFHql7CMP+oQjy3s8Gw2s3BKxqEwvq0PcIAFTDCpfQ8wmXTUMIGuADCyGaKwdTlAULMrLpBTFCBQWhuxkEorrTBFGzHwlDr4UGW37XCSHZQQu+KqMIQiobAd4FKwhxh98FYex1CwDZ6QYxh9sH4+U7BBZmOwiLpeMJwx8fAqcSJwoAbCMGwQkhBDgJWwng/UUEApDtB8LbJwVBQsUFJTUHCdCmIQSB/wECssqlCaDc5Qrj/M0JgLxRCwJgawKCsGsGSx5JCxOTRQYxdZEJi3grCDqECwtkjRsLZFlPCdLpCQoRhZUJA2DRA7GatwtBTGMJwMOlBOK9rwSgxVUF0/wfCeOYvwfC3vEATlpfC3MaKQUw/xcKwEIRCiIIaQVgFFEIr20HCtPSOQfC6CkLSEpRCzvcvwsB680Hkb4JBbX+Xwmh748FvxKjCuMI5QmNeW8J6pLLCbIobQriIRUJAiWHA0NrrwUzLgkE2PBbClH+IQazMnsFUAZbBRSpOwixHXcLa9qfCqPs5QTdyTsKA3Ry/6E+AwQQ9bsLinojCAxp/wsgKJME8irDBMFY0QtRthMJwBpvCaE2Xwg6rssIkoRHCVzNgwuR5HkIA5WLA9KG2wef+vMI=",
            "dtype": "f4"
           }
          },
          {
           "marker": {
            "color": "#AB63FA",
            "line": {
             "color": "black",
             "width": 0.5
            },
            "size": 6,
            "symbol": "diamond"
           },
           "mode": "markers+text",
           "name": "Cluster 3",
           "text": [
            "C3"
           ],
           "textposition": "top center",
           "type": "scatter3d",
           "x": {
            "bdata": "ZzAzQg==",
            "dtype": "f4"
           },
           "y": {
            "bdata": "czp1Qg==",
            "dtype": "f4"
           },
           "z": {
            "bdata": "Z6pQwQ==",
            "dtype": "f4"
           }
          },
          {
           "marker": {
            "color": "#FFA15A",
            "opacity": 1,
            "size": 4
           },
           "mode": "markers",
           "showlegend": false,
           "type": "scatter3d",
           "x": [],
           "y": [],
           "z": []
          },
          {
           "marker": {
            "color": "#FFA15A",
            "line": {
             "color": "black",
             "width": 0.5
            },
            "size": 6,
            "symbol": "diamond"
           },
           "mode": "markers+text",
           "name": "Cluster 4",
           "text": [
            "C4"
           ],
           "textposition": "top center",
           "type": "scatter3d",
           "x": {
            "bdata": "E5q7vQ==",
            "dtype": "f4"
           },
           "y": {
            "bdata": "7qUuPQ==",
            "dtype": "f4"
           },
           "z": {
            "bdata": "YbEtPg==",
            "dtype": "f4"
           }
          },
          {
           "marker": {
            "color": "#19D3F3",
            "opacity": 1,
            "size": 4
           },
           "mode": "markers",
           "showlegend": false,
           "type": "scatter3d",
           "x": [],
           "y": [],
           "z": []
          },
          {
           "marker": {
            "color": "#19D3F3",
            "line": {
             "color": "black",
             "width": 0.5
            },
            "size": 6,
            "symbol": "diamond"
           },
           "mode": "markers+text",
           "name": "Cluster 5",
           "text": [
            "C5"
           ],
           "textposition": "top center",
           "type": "scatter3d",
           "x": {
            "bdata": "rWFCvA==",
            "dtype": "f4"
           },
           "y": {
            "bdata": "MpK/PQ==",
            "dtype": "f4"
           },
           "z": {
            "bdata": "fdOvvA==",
            "dtype": "f4"
           }
          },
          {
           "marker": {
            "color": "#FF6692",
            "opacity": 1,
            "size": 4
           },
           "mode": "markers",
           "showlegend": false,
           "type": "scatter3d",
           "x": {
            "bdata": "ALG0P6A3mcKwWitB5uiVwtimdMF8791B5v25wnBKPEHPapHCFHygwkg5zUGipyrCkyQ8wuI0iML6PZ9CUrqdQku+g8Io6K5CksKbQtWtTMLgYPlB4ENfQYAkO7/ET5hBVheGwiaNgMICHppCaLo5QnIFYMJcNEBCEM+bwtLPU8KsaobCYLW4QBAy58CEnShCBpYdwgitdkJQBkLCRmqKwjM9eMIAzMS9mZt3wkRDO0JQLwtBVCXHwZB6SkIQWPNBaq2NwjxSaMKX+U/CGNmPQbDqP8EQg7VBHPNBwhCEbEJs5ifCsGrLweN9K8LcuspBBMGowSgJAsE16YzCYMhEwbRRpUEMHaPCWFcfQvucvMJgRH1AUzsYwng2AMLM5pXCWE3CwuxzqMHgIOhBTcG2wtz548G4tBlB9laPwr19F8KyGi3CIKfVQVAX8EEInZFBoLBBwCYRQcJg3ADCKRO1wnOHRsJM3YRCiaQ3wgAF6j+31HzCkkGLwivlnsLYqX5BcD+yQiCrocD4pzZBzD+ZwlBvlULJdoDCaMNFwghAs0Il7KvCpAIxwiCmVELgHvVAYDr5wcIyC8LipH7CjFO8Qf3cUMLo455BeM94wdAd80An/qPCUtGEwgB7xMGgudRARCW8wY3frMKkRd7Br/OWwqX1XsLUFRDCGF+mQbAsx8GoQiBBuNnTwaiJh0Lk+3dCCDCgwgDKoD/UjgZCaNuBwmgqZEJoapNCwPjKQOBcB0AUXdvBzxSLwtiHQkERh4XCREa3QSCxKkJIXjvBefgywjAv88AshmnC5I7QwUx7jcJe+gfCKK5HwRANcEEE6kpCw7w5wqN2v8L4cX7BYK4dQEW1VsIoDJDCZM4YQhPxxcL4uFjBODKYQkwNDUIcOV/CPAXBweDFbcCgdOrA84mMwhRAgcEAXELAUDeTQW2/WMJQdmzBXCOvwcwflsG/y6bCOBTNwdx2fkK6vo1CvnJtwoTcLMIw6bXCAniZwsjvG0FQmq7Bk6JKwsCkakLMsD9CANuoPpRoAkIuBwXCIMTtQdqyhUIqqanCKEGqQcg8v8EKDGnCqGiDwddWFcKornlC16kiwvbin8KgQ9hBsBOFwbInM8KzaTbCEnoawh7GDsIgtihBALbpv1QEvMI/MSPCLIWrweh9REHrsH/CYC6MQpQoncIako3CT7m8wiyJKkLwnF9BQIz6QPCU70FoPuxB4KPzQI5Yh8KwFVrC0OXHQGIbEcLEGSNCdM6WwWiRmkFmnJTCCaSfwmbNScK8iYfBAGdnQCA6dEF4worCtNzgwTmFWMIMTRBCcLq2QSWhe8Iw4xfBcAdkwnRwYUKI/DlCsH/+QeHtUcKAIiW/ABqBQWxrv8IYAxPBgAmDwgkilsJnHCXCOgOcwtgMPkEDwmfC0KLJwNyso8KBhoTCgJucwiITb8I6/53C+KpSQjtXMMImeqzCvmM9whCMGMFAH5HBhEKMwUo2o8Isa4LCdGEjQiWoX8JAyI7BHAMDws0XYMIdX7XCuLnqQf9ancKaUADCGNnEQraKdMJYnZjBAMvawfD9FMHQJFPB8k+9wqTCUsJIBvTBKv2EQgwrVkLiAyfCoHRvwHCUzcAK0YlCdj0XwswEdEKjpYDCZqyVwjifUMKcpyFCggOSwrQJJEJ5GZPCyAxJwvmKksLEp8rBgEEFwOzdtMEUgsDCsP6cwpKCwcLwKhLBQOdvQjAPvsA8aePBTJQSQrBcp0LITGbCTqyOwqjowMEMJ8rBgKF2weDW5sF1oEPCrF+iwux9NMIcnZNBOs8NwkCC8T/SDxLCTLOgwjDGicDPXnXCg7CuwkDcVkEMxMzB/qqQQnQsTEJAGyTBK6yxwkAooME=",
            "dtype": "f4"
           },
           "y": {
            "bdata": "EENJQeprm0JAonxAvGaOQuTQ0kFYDB5CwBIowJhZe0GQyHVBRk6qQqgjKEEAFOhAHGtFQiQWf0LsKUtCKDiHQRwmXkJ0ad9BEKnIQVS7LULcssxBhP+IQdCRk0B0ljVCZJSeQQgVX0EIIk9CECwaQUiDg0JIyGFBfIYPQu4bpULewbJCnOwAQtytBELgXaNBhDuaQThzK0JU0MFClDCAQQh9wUGIDDNCCKmYQgh+i0EUUctBeMSMQnpVikJk+SdCWg+jQhJLskK4ml1BqB/kQQDli0J8NlRCwFo1QiLojELgDYxBaLsHQkgX5EFs27lBQANQQuB7pUGMBXxCAJVKQLjMAUG0x7hCLqOPQq5OrkKqsbJC1HTKQXQHukIg36tB1GY2QgDIDkGg6q5AeBYdQgxynUJwNrNCiOonQkBeqL+gUP1AKHEXQkghbkHI/29BfISfQiJ1kULU02lCxKCNQsAdkEJoHtFBML1QQqgX2EGwW6lBeB1yQsLdokKgUWdB3LIdQhwPNkJQArJAAjWtQvjtBEIgSfRBwGoOQait5EFAp0DB5vm1QrinCEJAwqA/0JDmQZgSNELQyblCuMd9QtjPsEJo+C9CsJCLQdguskGYFwBBcsDEQqBnw0DwOdBATGlPQs7MiULq4cZCpGAjQsrKkELKj5ZCMIGhQEAQrkLwzPlAUOU9QvycTUKonZdCqNRIwQh0M0E4d8FCQBWIQmAL70EYs2dBCOaOQrpvmUJMPhxCwAp1QuhoZkLkWdFBOARfQnBMxEIAQz4/qPe2QoiDnkLM2SxC4JAkQES4AEKAfwM/ivO2QrxWgULeA65Css+iQobBpkIKw69CYP8tQqzmtEH4Ax3BaDhiQuANL0LqRaxC0E4gQuCEf0JQF//AZjqiQox9xkFkXZNB5ILEQjz3fkIsKaRB6HRkQSg2kUKCO6tCnJG/QsQgOUKyoLJC4vy8Qsj7LEKMAL1BYIkQQCzNU0JMK11C2ImZQvD+QkL0wjVCLgu3QngelkEAEb1BlFluQgDnV0FUB95B1MEVQmrUikIOTrtCQF0oQkYEskIkaBRCAM4PQLB/g0J+jblCKBrwQUpXs0LsabFBxtGiQsChiUI8XtlBEGX6QOyWJ0KwAaBBfHHWQRjNQkLAW2DAfLwyQorgqUKUHYBBmLpFQSQZukFAHfZBxNd/Qvy3vEE4NVlCmOwGQnA2cELcw2BCwKigQphdC0Ksf7VB7I8+QvxJLUJQKDNC8A3wQRDJ+EAgCG9B7L4uQsbDhkIM4BVCuHYAQRDXxUGQ1Q/BEA9mQdSiR0KkJzhCcCgcQkxwgEGgxElCAlO4Qsxug0LUFZ9BRDWKQoDW9sBIlTxBwGJWQdDFQEJgWjVB+qqsQhDASUG8xV9CoDZkQlBs10EAnlBC4BrqQTggGMEclpxCAMKLQnDwS0EQYoDAtGoMQiDneEAAKG++3BNKQvhOkUGAQZ0/GEiYQmSIW0IQQdTAZLPEQarXwUIExpxCAHrpvxaxsULe9sZCMMWhQAh7E8HQTmJC6FkiQsCRokBgcB5CAK0/v8bzu0JQxltBaGqbQcjIEEHwUBtB+PonQTwnYEJgZjbA4L8pQUKbsEJEzaVBlF+EQVh9IkKwTczAsN0dQdhzsEIoUVpC7nO5QuCR4kAAIqE+4P64QOBesULMvohCiIMVQWBQTUBI3TBBwNgYwXAdc0KMkdtBTOmOQUJ+ikJAKrZBitGbQnTHVkLAdHVCyhqCQizSDEKO0ZxCSCw0QYARSEIg8XJAeEO3Qg4XtEIY4PxBXJ1cQuBPD0IEtmpCyMb+QQB8l0G4/y3B4ALzQawgtUFM92tCpE5qQi7IqUIicIFChDmWQRhDhkE=",
            "dtype": "f4"
           },
           "z": {
            "bdata": "5qa4Qp4BgEJggTNCzPEbQujw5EG2WpRCltyOQgAtFEJqabpC4Js4Qnx7AUJ8XoxC6ibDQhzvv0EsCJhCGii+Ql68pUL4lrpCDIOmQqDUu0FWhZlCXPysQrqYhELgzmdCOK5OQgzNvkKqqcRCJsOPQoxrc0J0/Y1C4mGrQmC1KEIIJ0VCbCGrQXBluEHsLpZC7NmcQqSqlUKswB1C8LNuQiSsPEIQrOlBbiO/QqzMWULi8LpCst+eQrYnpEI6T5tCSJSnQpwyvkL8cZ9CHGdyQsAWMkIUf1ZCEn27Qgp2m0IwamxCsA/rQQhmnEJWX79CDPOKQsYqj0ImIsJCrCYGQjQ3SUK8Dc9BahiKQoRKtUIwmVNCAGy0QoiPD0I45upBVK1VQkB/lEJkS7lC0O48QmDE6kHs7GVCyCIeQpCs1EF2YKBCCPRDQni5SkLI5QhCjtONQiiZZEEK1qdCguTCQnRUsEFqHIBCPHELQvjb1UFYWElCpLSEQvwqfkL49AJCvpGyQrpNiEI45UVCqMqrQlx9vEKIZttB2jWmQqqWuEKaWKlCAiWxQrRCbELwXSVBFGdeQugygkJAkOFBAumdQtAmiEIKIpJChO2WQoj4F0Jm6cVCYhakQliceEIAE3tBOCYKQoAIGkIYhQtC3CMAQlghKEIgHtxB5MYuQj7axkLwZX5CdD1KQpKYokJmt7NCmDKzQhy2L0Ik0phCsGR0QrASg0L0O4pCuKRyQmCOT0IgdSVBvF9gQgQjfEKYAEdCjuGjQvaJrkJYvW5CqtXHQnI8i0K0RIlC4Cq3QUQEM0Igwp9CyKe4Qry7mUJMzaJCiHIXQohMw0KwGJZCagSfQmzaSULcSolCoE5aQlANFEKSj61CAm+bQpT8YkK0H1xCrtOoQoDGpkEQfRdBAIgKQoDbOUKwJ+NBwLc4QrhUyUGUaixCnJcuQsDPAEI4qIRCmuOYQtbQrEIInrdC5BG1QhjxNkL8fyxC5GIGQvxSKUKgOldCzI2/QhTQiUL+E4dCQIWtQuAiokJ28YBCWIfAQvAUn0JAlThCqENxQsBxr0JAw5JCjGqjQoI2kUK63bZCBKYwQoQaFELacoNCFia5QrIivkKsVMNCaJaUQkiZFUKqzLpCoMCRQSKFt0IQ2rxBAHmgQn51ikJIiGdCTse8Qj7lh0JMQEFCCt+QQkgfmkL4LLhC/PoSQsiyh0IgrT9C+ge9QpCoRkLkC6FCGKwiQgxWIUKKGbRC1I6JQrxjN0Ls111CQt2uQnJIr0ISdI1C3P1UQkRlTkLskENC+tmBQpCL00H+D7ZCrOpZQoD8PkLWEp9CyK6VQhQ6kkLMdR1CwCp9QsgbzEEgEAZBoGhkQuRXSEJy/bFCLDawQgCVDEIuHatCxDwWQoCEzkGcnFtC/lWXQpCbV0LYY71BAE4JQtQwSUIYzUFCyLSdQgheZEKkhS5C1HYNQqzpQEJwmzlBSiqyQkReu0LQWFNCgGtKQiKnh0ISEKlCmIjGQnSbmEEOD8BCrrKRQqhgYUKMLpdCpkKuQmhgZkI8W41CkLSuQih1x0LAqY1CBp6wQpg+AEIoCJRC8M6TQgbRt0Kw2fhBAPLpQebNvEJgb1dCkKljQpjQbELc5C1CXFkdQhA4hEJcCntCKPMhQuSbJ0II/GFCePoiQhDJhULkFXdC0O2hQcjzgkLstZdCkDpMQgxvxkJg/JlCIH9yQmz5gELWQaZChiGnQuhiv0IoeLxC9BcFQsAawkJ8en9CFJl2Qm6tp0Lqe6pCjDUvQsb6i0J4HwxCwAzsQdbcrUIgqMlBdA0rQlySuEKEEo9CJh2kQjTkyEHgAkNCuLerQu7rvkK8PYBC8CliQmzqkUE=",
            "dtype": "f4"
           }
          },
          {
           "marker": {
            "color": "#FF6692",
            "line": {
             "color": "black",
             "width": 0.5
            },
            "size": 6,
            "symbol": "diamond"
           },
           "mode": "markers+text",
           "name": "Cluster 6",
           "text": [
            "C6"
           ],
           "textposition": "top center",
           "type": "scatter3d",
           "x": {
            "bdata": "zPG0wQ==",
            "dtype": "f4"
           },
           "y": {
            "bdata": "WAcyQg==",
            "dtype": "f4"
           },
           "z": {
            "bdata": "W6mAQg==",
            "dtype": "f4"
           }
          },
          {
           "marker": {
            "color": "#B6E880",
            "opacity": 1,
            "size": 4
           },
           "mode": "markers",
           "showlegend": false,
           "type": "scatter3d",
           "x": {
            "bdata": "IHvMQbD25kEgks5BsheNQnnFuMLG2S7CgPsBwm03dMLGk45C2Gxnwgpej0I0zQtCeozCwuEYtML8+jhCOJkHwdiUQUHIXpnC0EVzQqPMVMISTSbCxk2YwlD50UH2w6TCi7LHwnZRrUKAh5lC1ESBwbTva0JBv1vCxZShwnLtuUJsvpBBfJRmQkjJMkIIg4DBxOE3QhL7nkK8fBRCVIvCwtCdhUFk+ZdBYN0LQuhC5UHQuIvBeIZGwXwgukGAXRdCKIJiQuKHZMLh2DrCeTuewnW5cMKcvwXCInvAwuTTwUGtS53CGBptwUIPpUKAtWnBVJ1cQqQMh0KwGR5CdryrQkAqIsK2b5JCiNNyQhw5tULm8sdCmJSIwtiSHEIIBwzBeJi/QfylRELg4L5CGJc7wgmJwsIugxDC0iW7wpYllkI2lJZCvrJEwqBwDkAKP17CanmPQmGLi8LAq+BBiLiUQciVe0LQxWxCgAhDQrjn+EEoXUFCMPJ8QUPaKsKIxypB1ISmwbc+pcLQel3BlEGhwkFTUsJKCIpCcK0Iwp3fG8LkrrLCHNkGwgRBQELww4bBiOesQrHknsJMZpvCFHLHQl9Na8LQKdPAtFoAQtOIWsKQiZnCDN5fwuBJm0EgyyxCMEC9wgJkgEI0jF9CgF4rvzeAHMKAA/pA1LKNQXAB1kAw4C1CUsLGQjh6nkJA5Q/C9EM7wpCTjcC2dsdCjJMRQiy5YEIk9oLBnN6zQiL6x8LszeLBGHEOwp+edMIc4qpCWJ0RwZxtPULsES/Ca+aBwir8osL+bbbC5CpGQsBf2cDAXmxA0EEawdb/rMLeQV7CyOhIQvAeSkLc3c5BaPguQhWqRsJQOQbBqtOHQjDuk0CQcg9BLKEMQoyWP0K8JMZCOFb6wQAQXkEQ5v1BoF7zQSCJLUL6yrfCXC8Twth+vEIAbtpBRacewrcBSMKwEJZASMF8wswjDkJw2LfBbBIkwg76nMJLQBbC9B6TQshHC8I0+CNCwG/nvwjXtEIghEBBbJpAQhTAnUGAgVlCgAtSwTCYkcGKEsfC+kmcQgxZusF6/8XCyGb/wfBT/cB1rznCFIGVQgiYNELkyqnBUUvGwkTDH8Kk5LTB8PFlwsK4nUK75LnCMuaiQn4NOsLj6azCwJY1wua3iMKonPHBcBv3QQSggULJs2bC5OcjQj6/n0L0ILtCaN5IwVjWtkEQz1VCpNZIwoTJVkKqqJvCRmujwvgMTkJ+A0vCIsY1whRWF8L0Z7jB/OSEwna5sELAgxVCeJIQQnCytMHLmnzC2G07QWAhX0EYnydBszwdwoBcj8KA4gBAaOJoQXFARsIUitjB7FWyQvyA0UGaupRCKP0+QbJUJMIoIy/BhLCqwYygvkIwXd1BGA3dwdKar8LEtmbCwHqhwfqFpEImTJXCTJY+QsDUgb/iMIbCvOyNwnAl9kGQCwlC2PPyQRDm08Eo75DBcIWBQkomYMKoiTXBfFCbwfqll8KgIOrA4u+ZwvSbB8KA3EjCuHeTQicxesLEjVpCgKOrwginyMFYZ2tCrPyEwTu5MMKzlLbCuDaJwbivHUIwMt3BhNl4wsQVpsLwxPJAmMO9wQiDn0I//nbCFNGwQlFTTsJGorJCPPmJwVgDMsHofDpCACjEQtz17MHIaA5CIE3EQLBtYsFIKDJCQJCUwIxRCcIQLmRB8HsKQoyLOUIw7odCUL38QRgn+cHg8+LAKLf2QXLZhsK0mrzCEnkmwpyNdELQx6zB+ZB3wojcv8LwwZXAlfKMwjaxY8KQzaPBCsSMwp4RSsK8v6bCA95dwkwriUKhymzC2IBgwUTBksJAUqNAHL8+QpiI60GAe/HAwG88QsN9pcI=",
            "dtype": "f4"
           },
           "y": {
            "bdata": "qfWxwg/2qMLXOxjCOPcowTGUVsK1Hx7CWc0xwpQB2MHA59fA60eowpG9PsKk7PLBifYkwmLLrsKwxBPBhtmRwoBFE8JUVrrCCNsuwSnNqsJpra/CeOlhwSU3f8Jw3JXCTo+gwuyRG8JAF1TArz5awqRbRMLA64vB3DzqwbikSsH6cKLCtWMywhraJMJI5RLBKem7wrx4E8JAmEtAjF2gwuCGO8CAdaPA8EuAwWGZbsJbQbbCgLzzwawYs8EISbzBOBz3wZCKicFU/YHBBqyiwn+3NcLMxYXBbmBSwoBANL9C7UbCI6Uywv0eecJAKhPBV7G7whDIF0HhZhjCNuTGwmPbn8JAKMG/IO7swEAhEEBol0TBXMZNwmY9BcIE+dDBSRBIwuhZ78EollDB7ESMwbvujsLcKNTBDIfBwmxcPcKFOLPCrpYIwjB3+sH+jQvCBQ9wwnl0L8Io4C/B6GQ4wSTieMKl1SXCNOiywoAvAz+I8CHBJ2F6wjAK9MFFEVHCaDRnwhhCIMLuM3vCX+8/wk62RsJql4/CKBUgwVxtHsLVv1PCKIvOwQCIqz1sXrTCENqpwSBHhMKUYwvCDG2AwbqAjMKgnIXAEPAJwv0ItsIumMfC9LiNwgBguz+RD7vCeTSywkVBHsLBVC3CJNh/wm1Dx8Kgam7BSArAwhvfd8J4SB3BWIk7wfGHwsKMEx3CC0yaws9JjcJueBbCVjM5wicyG8Ih5qnCrxmIwrQSA8KU/sHByHCzwZQhlMJgf+nB0j5awi5ovMJB4pXC5Z2PwuBXyMEX8mjC6Cyewqjxi8K+YobCqLEZwtOAwsIa4JXCNdSkwpQN68HQSADBwKWpv9RLlsF/QnfC8CQUwYBoM8E1chjCkJAXwYAhrEDsLrjBqHOYwaANL8F43ZXBoN8VwoTh6cHuRHLCAhaTwgSUxsEI+4zBTAqFwZDPZsEIWIPCg/elwukvosICk2vCzPXGwfxh18FBTnrCYPKowZD5a8IQDYZAbN0Mwn5bR8J2/i3Cf7gewthIrsEYr4nBdAi/wfiJGMIdNizCDbZXwoxDBsIRMh3C9XYUwkDkk8Kwa4zBiPb2wTi+j8IFmobCnmFgwqAxDcI0MaDCBIQ1wjAQo8KD7XXCjuJUwlV4acLTnyHCWM8swV53fcLOSjTCCemgwo9sbMIEW/zBsBPvwMTXzsGgXxHA+A35way2EsINHFbC82NRwoB/a8JseZXC3scKwqCpCcCllTvCUMiKwZzIwMH/rZTCAHhlwozpXsLJ98TCYH10wCqqnsKcQ9bBEMrqwaO3g8IxnXrCWLDCwQir7MEerwnCJ+ATwmb0usIWGC7CiNZMQUR++MFAkwRB0BYWwfi2z8EgfdzBcCnTwCpUrcLEIYnC+sTGwqV9isIaYKHCpgRhwoDLWUBGN4PCKLo3wbAWS8Iq347CgtzCwnCMP8HL51zCHnYCwtqdP8JeqoHCfMqlwl7hp8Ic0LLC2KRGwaL2X8KAYLXAyiMlwvA3AMJk7YfBjkMmwoCvn8IZimnCiKKcwm+fsMIjQZ7CMFSYwH2OFcJJw1LCTteJwmTLTcLgGKfCVFW9wmnBWMIEU/nByaRQwuDgyUBwbT3B2t0rwoGHvcKuA4nCN8+gwsDrqcFQkHTBKJ/lwbtzi8JdIsTC+KwfwSCjGcHArFvAgHQdwRXGgcKIrvjBB82YwhiFT8Kib4zCfAfWwZBzE8FQiJzCcELNwGTRfcIknr/B8OhywVCTFEHwGZvC6Plswdxl0sEYJnLBgKeYwmfzc8JM/2TCXOngwfoNbsLfnIvC6kMHwuBRusDoU2PBLEXNwau/ecJceJHC4989wnDvnsCsT3HCSFhswU7HMMI=",
            "dtype": "f4"
           },
           "z": {
            "bdata": "oIOUQvCRgkLQ0TxCOMIXQmzlPUII5dRBUOQzQjzhOULsKK5CSvW2Qh4JiUIYBQRCxA49QhbUkUJ+fsNChFFYQsT92kHwEn5CyMEKQohDWEJIOI5CckmiQnCnxUKUCTxCSF8gQpQ0gUJUS5hC6DrCQsoup0K6Q6hCKJczQui4vUKMxY5CNMVGQgCESEJ4/kNCvDS1QpyTsEKqa5JCMtq7QpSrI0Ji7qxCxPwvQpKjrkKcvrpCsLwHQhgyGULU+XRCeheQQvS8XELWT4JCAEsyQoRfpUIU/llCCMNuQlJ9sEIORrxC/MglQoDflkLgn1NCXPevQl5YjkIiXrpChh+yQrq7mELU6VZC6PQ1QrQCwEJ0AotCcDFqQrSZuUJMoZRCMLKFQlRDY0KoR29CIMy7QrhsA0IoBdRBIIpDQvRPWkLwvrNCsMgIQuxNq0L2lLtCbFmMQoKxo0JOz5JCFOCSQnrEqEIcXzdCPKakQoSnC0L0z4pC2iy3QpTlQULAYaxCnNp1QkREIUJM6y1C/NKDQsRnA0J256pCmO2aQjAmxEIM7KZCcASgQqyaR0Lw83pCTorAQsDCvkI05JFC7DpiQlqosELg/HdCKCWOQiQnP0IOJ41C5KPDQtIdhELWdYNCPjvAQoCzeEIo0mZC+OJzQo4HuUJ8cZ5CBMawQry/H0Igq3lC3J1dQmhUvULADYlB5jDGQq5giEJ8Ym1C8C2VQiyKMEK0G3pCZuWeQjgybkIoUzNCRFp6QkwImEI4BqZC3NwMQvqsoEIwCyBCbPAAQqyuV0JSz5xChHaFQgxwIUIsgjpCHPtAQmaQhUKUhRxCGPGLQsBYrUJImodBxLFDQjDr80FAhlJCMAVPQiZtskLw0K9CDEC9QQhwgULUEihCANlNQhzmDUIk71ZCgKmIQkAvmUL8l0NCaNVQQsTBiUIwGSJCsD90QQgBiEJgpVpCMmXAQno/iUKkrVVCOPFaQYSSIUJcpFpCdKKdQiSPhEIg1BZC1piKQuwDi0KE4jtCDENcQmY9mkJiq6dCYOcvQnyGvkIgxKRCJnmvQtI1tUIwsblCaGyyQja0mkJSi6BCPJqrQhpgjULAX8RCkLe/QUQvLkLQvmdCDPNpQnjur0Iw/49CAjSJQqaNn0KagrZCSE/HQhTePULMGmpCZPiiQk5arUIwYYFBHLcDQqAZekIIR0dC/A2dQYC5tkIUgJlCkGueQizZdULsFGdCRLEOQi5kmUIAjdZBpvDEQoghYkIeMJ9CeMlAQlZltEKAkLJCUKO+QQ4shUL8y2FCcPEAQm6KwEKO1IxCgGeKQegko0KIbVlC/LyLQqw3l0JwoFpCrBKpQmr2r0JgJ0ZCuAiVQvzakEJgcKVC5OxEQkp9skIMQ19CFIvBQi5KgEJ+KbZCshCZQnb1p0LkVStCXN2vQlLvmUIk7xZCuJVaQig+AEJof2BCcgy7QtCLs0G+oIRC4qq+QsS7tEIETE1CRDeQQkBJFEJYCBdBdgm5QjDYTUFuwIlCdI9bQsRCfUJAIjxCjGI8QnxalkLu1bJCcNQ0Qqr0o0LGGbZCVMaFQs4wl0JQd31CLHRbQnzpk0GQ8WVCPKoLQqTPlEK+OIpC6KRcQhzNgkImGL5CLrOMQkB9S0EYFjRC3gaVQpSgKULs655CAA5ZQrQBvkHk8aZCjFOuQkSfCkIImPpBjn2VQhZwtkIG3K9C0rOFQiDugkJeeY1CiFQbQpg/PEJ4iW1C5uuSQgL+q0KsuVtCuLuUQt7zoEIUg0tCYMjoQfRpRkJAKVBC0O6zQjiCcUIoMJBCgIjAQfJGvEL8k1FC0I+EQfx/SULuX6RCrlO7Qtolh0Ja45tCGNjsQQw6IEI=",
            "dtype": "f4"
           }
          },
          {
           "marker": {
            "color": "#B6E880",
            "line": {
             "color": "black",
             "width": 0.5
            },
            "size": 6,
            "symbol": "diamond"
           },
           "mode": "markers+text",
           "name": "Cluster 7",
           "text": [
            "C7"
           ],
           "textposition": "top center",
           "type": "scatter3d",
           "x": {
            "bdata": "HCsCwA==",
            "dtype": "f4"
           },
           "y": {
            "bdata": "MfYzwg==",
            "dtype": "f4"
           },
           "z": {
            "bdata": "dc6AQg==",
            "dtype": "f4"
           }
          },
          {
           "marker": {
            "color": "#FF97FF",
            "opacity": 1,
            "size": 4
           },
           "mode": "markers",
           "showlegend": false,
           "type": "scatter3d",
           "x": {
            "bdata": "9hqzwgD+AsItXcPCCTNUwvC5jcF8v6jCEH3uwDgEq8K2hnHC3FWewujBc8G0CXTCJgiGwvEuFcI6d0bC8OVvwpzrqcLYgSDBbGbnwbztgcHx+hbCoFaawjoTp8LYEarBMHIBwtKirsJlbijC0G+ZwHJLwcJcck/CpuqwwvtEs8JlwovCuO+3woDD9D+GslDCvd+4wu2VTMIEtoHB956XwuCZxcKSFWbCYdvFwprOw8JABL/CKPg1wj6kwMJcH4rC3+xfwsDufMIYVe7B99FqwvGhx8JlVrLCY6SvwlWjxcLib7rCfFtFwrrEwcIk2NTB5ux1wsiMucLjS2TCdBD4wV3AG8IgDqPCpk1+wj/hT8LA1p7ClfqswtqiS8JVwcbCYTJowqIwq8KDCK3CbHwJwqR8kcI45tjBosjAwiZRmcKzp2vCw4/Hwhz96sGaqrbC2Hmpwv/XHcISqlHCtLv8wWAP08EMGYrBMyG/wstBOcITJqXCCl0dwpYZCcIc4BzCZOHGwrDPJMEM7rnBGXmFwjhd4cEVFqvCB05Qwk+tX8L6oUnCspEZwkC1s8IGtsDC3Fq1wsfilMKLkaPCvByqwglGTMIOf5zCRoNGwvGgZsJu8I3CjxAvwkDDvcKeLh7Coy6PwlmMssIAWL7CO8Kzwgf7l8IDaIrCsnKqwjvyNcL9A2zCe3UYwnVubsLI56XCXEs2wuBCiMKbknfCZh8fwq5oxMLqFo/CFxFbwk2dqMJEeRjCVMyVwmU1jcIfDTLCjlZUwndONsLuNYDCNSu/wrhZUsHBnlrCj5xMwtjZ7cEQaILCFdC3wrGJIcI25JvCLDupwhZUxsLhvpHCAdxQwqpDnsKIKMbBXishwgSrrMJ0b67BJh1xwiLgr8Iv2nrCADfQv0wen8IuF0bCEGW0wjjUncJ4r07Byc4wwmlKn8LucDbCaAP8wZVawcJzvsHCoXfEwkHst8Ku+bvC7dW+whBioMK8a4TCNsBMwpj9lcL8XLHCnCK+waC5j8H9oC7C+efCwjWysML8sp3ChJyiwsluM8LKURbC4EWFwqRXwcLMqqTCbd2Qwii24cFKMpzCHnxSwvzOAsK0q4HC/pTEwscqwcIiqozCcCyJwn3icMLoQYLCysVswgA3ZcGBcpnC0v+RwiY7XsJVeYvCCjyBwkuCYcJhtcbCJhCiwjBUlMErPZ3CmkKQwqlWIsJPm8LCEMN7wTzeOMIEDT7CD3yUwoB2scIIZ4jCkBm/wZydlMEUC77C+J6twuAwoMKw9X7BKnGwwo7IoMLFIJLCIFh3wnBJzMDKCTnCWDumwg/sOMIYW7jCAIpNvq5rBcLQf/PBhG2LwgJXU8LgCBvChsZlwu5BwsK4TYnCxMK8wiyn58E2mKXCktfEwn1Bu8LSqpLC3QRswozdqsJSq0DCJS9xwvjrZ8JS+KjCswRawmIHI8Kb30HCOkaPwlCjzcBQrlHCSnpjwp52h8I221PCQN28wTC15sEnlZDCjhS9wqcqV8KIDqLCjDmtwjd8fMI4pajBItkPwmRT3cE35nXC0IBTwWUow8K4d7vCYEuywaTJt8J/NMDCZM+AwlJToMJ7a7zCSLTTwURIwcKF4mnColWqwszz3MGi0D/C5yq5wsAn47/uFKDCninAwihhvcKE9dfBSNihwr+zu8Ke7EvCTEKvwqHSXML5/MPCDv5GwkHWK8JoVSvBp0Nzwu2rksIIrd/BtoAtwhaIrcKf3pnClwWKwm+wS8LotqHCQBYpwTeypMIHq5jCwM4qwKPJwcK8sLPCnWtGwjcRx8L9vJXCROKKwvmlicLU1pDBaxyJwpj7ksLyGRPCdd4lwnB6yMBvQLXC0Hb6wav6vMI=",
            "dtype": "f4"
           },
           "y": {
            "bdata": "SCWbQZhu3UFQ1DVCNPo/wmRVkEKkSUdC5P46QmjpPEJEhhTCFmwXwtBT9EEApYLCGCM4Ql53hULQtX1BWnNVwoQgbUIAFGu/OJHHQoAsrkF2n59CaGJVQdgg9UHUq11CQGG3v+xVW0Kk7SxCGOABQQhfqULAi/JBnRORwqD0A0L2Y6NCIOx2wnwSL0LAivNAUPXGQvjLrkLQ+rDAEAoWQkhnPEJSGRDCCAadQsAnSsEggfjBsCN0QqR3m0IBPovCULJcQqCAH8Co0WZB0DOAwWjTmcGM9hxCKjWHwuwJssF81mZC0KSawcImC8IwwpFCyJsLwTjPNUJcgXNCiIHjQZCu/EH4/upBYJkuQo4RhkKgrCHBmCcbwcBkhj+8dZ/BELNtwZYDhkKEZ41CwIe4wKtJGMIy2YNCgKLOv4ASNED4a3JBEYiLwoRUgULM36XBKBQAwijOxUJMbmBCbBMTQkDodMDYw6VBqMdKwfT0kMEw8T1CqHL4QRDBwMCob/FBKiS4QqznM0JAlXdBhJawQXC10UA69ZFCnksrwry0w0IpxDfCqJJQQq3ZqMLo+H3BKNa8QgTxk0LobhJCkBUBQrarokKfh5DCALr2QYSx+cGwRfTA+FQ4QZDsK8IQdCFCnF4OwgCbbEF4CsFCxFgtQowNn0JY/FhCBgpwwoiiGML+M4FCQATowCanrUIUvAdCFQAnwusnb8JC/6xCUD+gQABULT64nTJB0DHlQZg6Z0KoZy5CMJbWwOAe2EA4sg1CyARJwXCyn0J8CEpC8LKBQPAFZUHgegRChXwvwgAgnr3c/75CRHqOwvDrqEG/UkrCINgAQhxgt0GYJ/5BUBBDwWqXl8JgNhzAFKqjQWDJY0KQ8NFB9o6YQnAIV0JwG01ClA8/QvRddUJwcLJBhCi5Qqwst0EAH+U+QF+uwIzDZULMghJCwoKcQqhA2sFk66dCZLUWQgjqUUHETK1B4OGywfgwHcKYgjxBhMjUwXSgLUKfRBvCgE1+QDSShELqdsFCABCqvgynv8Eo7QBCnO4EQkAV2kGug41C0Hu6wZwGZcKo4ubB1SAkwlS4HkKonMpB8gOeQuBYhULstLlCMOSnQsjHiUGMhzJCgLCIwfKanEIAm6NBHbBkwry5x0HEP+rBzMReQtCyGEEAgfg+2PggQfBMAMI0ho5C6G+iQXRfi0ISKAnCsJxiQWAKEEAgswTCIEsvwPBySEJGfoNC8Jp0QfTqpcH6tMRCyDBvQnwcQUJCYcVCYKiawcAl/kEARpG/ALiyP2gAbMKshGNCTPe5QcRil0IAGbc+EDzywRLniULYTUZCSAk6QZyJj0LcW4NCGmGeQtDQt8AANys//LxMQq6NjEJIFZZBRAQaQuCfasDcfiZCiCKjQWD0KECAWs1AZArIwdw93cHIP/xB4CeYwNwhhME95qvCaEfxQWJJtEIQD7rArP+NQvC3GUFk8nVCILNJQBy/Z0Ie049C4OaXQnCcVMHoCpxC7qA1whTYFEK8yorCbFIZQgjLJUHAZtZBSDVEQsjYeMFAMKhAQGVHQIi/HkIScatC6KKPwb7jhUJo8KNBKO8fQp75hsLw7vdBKAG4QdA2lsAgRZvAZpkNwp6fo0IoZCZB6isLwoC9HkGewIBCsFsKwhQ7hMHUfVlCAxiawlSomsHIM0lCHOZnQjDhpkIwoUNCzdcywg6ZoUIgpOVBwIrrwMTFrMGAxWE/iEGbQtR6UkIA0XVBgKGEP2qTnEKEcbRC4BiiQQBUQMFKuZXCtPaeQZTZXUIwVfpBZoCUQnTJgEHEJrNB6KmMQVjvv0I4YSFB0CjEwZS3K0IA3CFBTbkYwmCFlcBAL1zBVj2UQvAXP0E=",
            "dtype": "f4"
           },
           "z": {
            "bdata": "UVi1wqJ3DcIcaIZBbnkGwl+rdMIYQgzCYsjBwjdxssKo2tjBsNjCwjeKtMKNnL7CAKT3v8jtH8E++Y7CvOBCwvURG8IUxwfCLIzDwsBveMDS85TC5JecwVBMs0GYBevBYIx6wM8DtMIwJpLClBSUwUDkgsI41S9BUO5zwuzL2MGpznXCsW+6wkQjrsLcX/TBMoiIwvBPBcI2e4HCPBKGwnYvksImy6fCyPtNwW+ugsKEvNnBgN16wUSAlcIpzrfCKFgHwb2kcsIAq4q+IBEEwo3Kq8Ks85XBkHyNwujRL0Eon3jB4BJXwcC3qz+NGGzCeeWswtLHc8KSx5DCuA8owUZZNML+AAHCxDeOwvomwMKScjLCgGtiwAryq8JQsFZBsDjGwEE/pcI4oKTCyEgswdiNJEGx/EPC8MP1wF53s8Iwv3xBPrQgwiCCvMGaF23C8GsLwnUiRMJtLyzCwKcDwVi7wMLQB5XBg/a9wjqBOMLUG5ZBHK2kwgHVxcLAXiLA1DetwmMMn8IAu1S/hb9YwogNYMFxirvCu3WbwhgYpMHQpe7BzUtzwoFErcIQMnJBAKyKwvyurEHzvpvC4DLdQXisHcFLZ67CtwW6whC6u8LUWZ/C4OjGwFyVisHAdtvAgEq2wrAOjcD0wahB2M2dQUTdjsLRwaHC2EtVwWDQncKlZzDCGPX7wVAO7cAo6clBrjeCwv48AcIAxJ1Ash2swvjfE0FjCJ7CVisOwqDSmMAgqerBQQyVwpBcnsLDimjCKro0wsUjvsK5xWDCyMujwjAsi8JAN0nAPtuiwlVxxMIedXbCPhRTwiJyXMLylgHCgRUvwhigTEHY3JFB/pCgwhp8wcLywSjCKmiFwuBLscKP+WzCwBmDQHAl7EHIXsTCufKYwrAyNkEPulbCAOOgQJa1bMJH06DCty+bwgAi1b6htajCIrQ0wkHRicKQ7rtA+lOCwsgDfcFvplfCEEiqQEL8ncJ3bGnCwOKUQP/tqsLcapTBym8Qwojhr8JpZGHCEttQwnA8k0HYrahB8OYhwUBm3UDQ47jBEJhJQV4pgMK635DCidh6wgB4SL0Y6G/CwPK4wEnlm8IuPZ7CxnmjwtY3LsKAY3fAAxIXwjUXfcKt7MDC9MKkwnYCmcIAAae+x+uUwgiZRsFnErnCjOLJweQUm8ImMEvCeNifwY1OjcIKSgLC52GNwoaofMLQb59BWDxJwVi/+sFYvRPBgK98QezRz0HTDLzCcl9Gwq0lLcLgVDJBR11bwm9IPMJDQCPC4LdDQN5kbsIupaXChQMYwlINxMIgXobCyhS1wpk/Y8Jj7knCdslGwjQYmsIEvtzBgEw3wnCkycDyD5fCsCcOQRi/B8IdZmjC+HSJwvcDkcIm8TLCjOmTwoS/tkFg6LRB0OqJQL3udsIy6QPCAHL/v9KXFMIoV7nCjQ4Ywl/7wMKZ1oDCAO5VQSXzmcI96b/C3JrdwcGlrMJ9mljCCCxzwjAqkUBA9oG/GP03wSchicIKimzCiGLrQRE6c8IAwK08a/1swih138FXUZ3CU8qqwixSscKkWMNBpucBwmjNQcF7GpXCyLssQaMBQcJqGqjC4PLdwekqjcJQOIfB4EAFQCb9VcLqXpzCuOj/wayrD8LnTYfCMIM9QUhlgMEQNVPBG/yowtDs20FAQWDBGKseQadUHcLojVvCoL5rwgDMbsHx8rXCihw7wgVXnML4QYLC0B++wvgRlMIAGN0/m3Kvwqj6gsJbCYTC6eO+wl6cjMKEubrCRh2twlYbo8JAW7/BvByHwtDjgcAi11rC2bCTwlA8ucHtIynCYNokQDz/7cHY+UVBR31WwugGCMEQsL9Aap6LwoKvs8I=",
            "dtype": "f4"
           }
          },
          {
           "marker": {
            "color": "#FF97FF",
            "line": {
             "color": "black",
             "width": 0.5
            },
            "size": 6,
            "symbol": "diamond"
           },
           "mode": "markers+text",
           "name": "Cluster 8",
           "text": [
            "C8"
           ],
           "textposition": "top center",
           "type": "scatter3d",
           "x": {
            "bdata": "5+t0wg==",
            "dtype": "f4"
           },
           "y": {
            "bdata": "nUajQQ==",
            "dtype": "f4"
           },
           "z": {
            "bdata": "/QIuwg==",
            "dtype": "f4"
           }
          },
          {
           "marker": {
            "color": "#FECB52",
            "opacity": 1,
            "size": 4
           },
           "mode": "markers",
           "showlegend": false,
           "type": "scatter3d",
           "x": {
            "bdata": "zQ5EwlyciELKokHCWGSNQmgqEsFWLVPCB4ZDwmRd88EQZepBwCulwkOydsIs43lC9EG3wRiPr8LgCRHAHA2FwZZ1lkKxW2PC8G5XQYMpacJIA7lBeIBKQYBWRD9sdVdCqMeBQU7smELQp/DAALsUvyD7ocLArdQ/e4l8wgBL0z9irFfCw4YSwlLtpEJE8FVC1uy9QoA6F0EDpJTCwNT5QKAvssHc1r/CGAxtwSwTykHGz41CIOCvQLRHrsJkaaFB8HGCQr+8tsLsrLpCgGKAQJWrSMLkl79CCAm+QaMXscKExQxC4PF7QBhvPEIap8FC6JwfQkQ2q8Ep5afCHGGLQQhRncHEZY1COTR9wvCqJ0Ggg6DAVEfDQS4pMMIUDahCnNigQfD4Y0Jeq6hCwLhmQcomPcKwWxvB0HeLwMcImMJgLgpBqvEVwjAJgsGASyfB9vRDwmBECEBoc2fBsK+TQNAVDkGWY7dCEgUfwuyYH8IIGndC0O0AwoLRnMIwJN1AeNCqQZgguMKUxSVCxBmfQmxBAUIoccZCK2h3woCA2cEgFUxCK9R6woUTL8Jc2pHCTPEUwl4IoMLg10JCXr6rQiClLkJKeLjCOG0oQg2+xMLbr6zCMLiEQGh+20GIbK7BcGdAwdovEMKIeIxCEFg0QbhkCsHbmz7CAPKdP4CmQEK0U0dCQHmrwcARjz+887jBgA4dwv/qj8Kad45C+G2vwYBrdsAAGGhB8DoiQqnaqcIABXVBKFyawvzQdkLLcBfCOARLQgznucFQ2nzBBCZywmiYKkI8koPB5G8sQthLRkL5BV3Cje13wrjwIcL6YyPCT7O2wpiaKkJ88TzCLFUkQhyvEMLguSRCLregQnDjmkL+0y/CHOHUweSYnUK4i83BwPQhQvDdsEKA1tw/2maDQnzTVEKg4NJBiITDQnjg7EGMtExCtlWgwkCqVkHQj4pCaG7ZQahF+0FYnGrBYAUpwc0OnsLoi6VB2GRiwhC8J0IgFnHA7LqMwSDDzsCBlDTC7tuMQpQM9MFG0YbCt1eDwm7kpUKadTHCUiIQwgjCXkIAG1jAINimwSDvrEDyOQfCjMo9QqS5qEIIgUJB2BeOQvBM30GEEovCUGhdQTDQvkHIe4RCFbxMwsyLa0LII0fBzWqswnCGcMGxNjXCOe9SwkiIisGJPS7CNIxjQlyuakKmOYxCXHSyQvDp/UD6q6VCQLM8wYD5yD+m7phC5p5lwpRIFULq5ZbCcEs2wqirDkI0AAPCcDKEQtx+B0LsG5HBgBGGQNBpCUIq6KZCiHZeQrgiKcJ6iIdC+Bb7Qd2Jj8JI/WxCSJKFQqWofcLQB4jCbJqsQnypVMJQys7BdCM+wuw2nUI+xWbCRL9TQrg5DkH4oorCyJduwaDhaULtRo3CIi8FwiSC9cHzgjPCsKPgQGIchUIbzbjCsI9hQh7ylEIYBSBBYPY6QrQzh0L0RJxCYIwnwmxvQUKgCKDC2xQvwshxnsHsQbxBSAIJQoQjgMG8fB9Cr/VkwkBdHEDAMrhCZJn5wRecx8LAo0bAN/5UwoCBYEIMW0RCFu+7QjQYgsHGOSTC0G6yQlQCskLuNcZC0CuFwMCNfMCQI+fAIIywwODmQUI31mPCGeSXwjYVVsJedVfCgDx4wKP3esIoEbDClp6PQuC0p0Kw0JBCeAdBQV+qWcKgt/PASD8RwZZlp0ILtqHCvAe3QlzYPELg9UzBg/GIwmBdQkD1gBDCkNj/wEiYm0GQVI9AHjwFwqgAW0K4kQZBCDOxwsxhrMGSipzCZHJRQhibVEKIVe7BJPO4QvgYrsJmQJtCkqh/wsT2zkFEta9CzmGzQgwZt8FAjqQ/0MZeQexmtUE=",
            "dtype": "f4"
           },
           "y": {
            "bdata": "4mxqwsH4asI8ro3COxJHwrfPlMLLQ3XC/0CfwjJGmcJ2si7CGUh9wj3wjcIy5QvCE1UkwvcfxcJ2IkPCK3uwwp/KTMJaEqLCMguhwr4QWMJ6fzLCNCuXwoGCccK6nsXCAdi5wgDkq8LrrX/CCy7DwunUqsK0j4XCXMqNwkRdccLyjVLCqh+gwpTcwsJqQoTCiqubwgdJnMJiXoXCQ21qwqEyjMJJ0b/CD2i2wi+Ek8J9JFjCEtAswrC/u8LJLJnC7/aTwrX9xsKNlMbCpOULwpIbtcK8ToHC+NTCwi5EfsKpmjvCwePBwpx/h8IQ31/CQH11wnZVvcLjJrvCqo1hwqQik8Kk7bfCb+Suwlb0qcLQy43C4Nuswgq0rsL4VUnCWR2uwsT4xsJKDaPCMDq7wqjplcKXg47CxBaQwh7TlcIIX/DBRouHwtYFncKIOpnChKirwlE2LMLLcCrC8ukbwvMPgsL74WHCv6qqwjjXoMKtAIDCpgqpwuRsq8JDDMHCp3eWwvI+r8IXTKLCqDL+wVwdxMLmd7rCtmavwjo/E8J4nh/C3NxzwsJUucIvKMTCVnhtwnzds8I9WsPCkf9Twh3Pm8KQO7fCC9udwsrdr8LDTMHCLspXwhZOtMLMeJ/CRAfYweaNX8KLtaDC+ExVwXnqjMLe3HrCO/Jgwme2l8IAKVPCxkWAwkhNssK3h7HCy+G+wvRCksJwVMDClOyrwvcRr8KKJ8PCXteEwttmlsK+kATCuru0wgnqEsLIrSzCPcwnwieFb8ID7SvC5cWFwnpaD8I95EzCsCtvwrgGsMIOAq/CErbCwm/8w8KFZK/CvriZwt9AVMLxI7DCBhaCwudMw8IP8ZDCG394wrgZk8FEj7bCdJnDwjxWxMLaB5TCUFW2wsxexcL0Ko/CzBGiwiZSdcLx2MDCHuuFwiutN8LVDMXCmqGJwp9NwcIyOlzC18sUwmg3XcKCIYjCjIuEwr9Lt8LiwQ7CLlCDwgulj8JaG7/CQBzpwYjVgMLw7JTC2oAFwp4OWcIl7JnCQBybwvaUIMLaqQPCUOi7wpCBssJvfaDCeICAwm6CU8ICwMfC6Vs2wlaRq8Ik1DPChNCdwmQ0qMHvvp7CM0+8wkItT8K41MDBnPTCwph7scJ0GrTCLl2RwhDum8IZCpbCZeOSwrSvtMILfhPCjlKxwprwcsLcZL7CwLSCwlqFo8JwrrXCUrHHwtnQh8KbNk3CF0dfwl0KwMKZjZPCDRx0wltZosKNMFDCTBSHwnvghMJeUrXCLHtkwhjjosIMp4jCKIunwlYWncLQ413CTDjvwZ5SosKSjsPCBePCwiJwmcLRWaLCpFQGwvj8vcJE7DbCfrNBwiKan8Lkg8LCz6KkwjkOqsLaeZLCHLiAwqgQbsJiccPCu8Giwvcpx8JtWzDCvujDwgAdpsLE2pDChNS8wg1MRsL0IsbC0sO3woJnrcJWg3nCVRaEwi7iRsI0XI7CMDKOwkSoAcLQigzC3juCwpGyosKSm7XCwO2jwkbTgMLaOyzCi0TEwmippcKobYDBkHGYwpZorMKgzaLB5X/BwkQLksJukqvC7DjLwdxNgcILV5bC3WiKwhGqwsLzaYnCGMa1wjNmsMI5dLrCY9qhwtAOcMJdA8LC+Md3wiD6XcJfQYPClLmzwp2POMJ/pI7Cr+pfwpa6V8J6iJbCusiGwrxwUcI4bJLCFraLwhrtfMI+sDbCSUvEwmhmRsKcDIbC4M7AwnQupcL3qCPCzm99woOikMIvHGPClEa2wqUctcJu8YXCzjqowq5ukMJmZ4TCNSxwwgESxMLTWmPC1Glswq1AucKxR2DCQzPDwufsWMLmCRzCgADVwajQisI=",
            "dtype": "f4"
           },
           "z": {
            "bdata": "0IWFwSCjRUEpnCrCQJEsQsgYPkG0B8fBJJ6iwUCKvr+AU+vAYMR3wPugLsKQtY9AxLKGwciQC0IgZ9XAF9sXwgTnBUJY0RtBiHLUQRCwnsFQfZ1BfJG8QUjxwME8ULLBUInnQRRMS0J8h99BYN3swMB8a0EAXqe+wLS5QZhIlcHcv6zBMARCwvgZJUK48hxCpNlZQpSIJ0LQT/7BsPTLQPgAqkGgEr7B2OlsQeAvoUGgxC1CpOTLwfuxI8JEVApCQE82QfBB3EHYqAhCgHncQGDOnkEUbr5BMOZywQBdLT9Ira5BnNpVQpCWtsAc4zVCfAmlQVTKh0HsSYVB+F0cwcDhpkAgDvvBWEPLwYBFccF49TjCACwqQe8kE8LgaDFC8ArCwWiG1sEA/e8/8D36QQD2Rr+AYsTBwIDsQQzMucEcroNBAGHxQAysAsJIe9tBcI4WQtg2dcEYK7jByHZNwaAzD0CgVrtA6KkOQkxIikEYHupBnI0UQkD89UBeAgjCDsQIwgRBGMKAKBBCOG4IQthQN0Fgg+7AkICcwSBzFEGAJF5A2CWiQWyMdMLYQlBBAHyevp5RCsLQ2tJAhOIgQkAqG8DUtWLCPJMeQkCdpkE8TQFCCNvpQVg5JkJgxP1A4HbuQF+aEsJs6LxBAET0v0BNCcGAuMLBAiUGwnh9E0H41ORBlK62wTgrdUGAAKE/yIIqQgTIiEF0CLlB4Km+QN6YDsJYEifBiHzEQdiPPUFQQnnB2EamwZjEXUEMkeDBkE1wQWydn0HwM6HA6GabwSApk0Bc4arBTCiTQbhwQ0GKvCzChxB4wvzMuEHcb4zBEF6nwHQZ3EHQK37BAJTbvl/yFMI4r35BRCIwQkQ4tUHctdLBTA3GwTR/ekJYeInBsEBxQYg4dEK4IPfBqCNJQuy5rEFUTQ5CAAguQjRjl0GWjoBCQApQwNAJg0AY9EdBIDsHQXgGXcGgwfFBEDNXQQwJ3sEwHcjAAIzewAA2wkA4WK1BwISIPxym6sFEyI/BgEEyQRB0uMGA9k8/KKuvwTA6vUHAwE5ARNo1QoAy50EA6ALBnpMBwkCBEEEQQ5vA0IbEwNBvZkJIobrB0GWjQQAGoj5Y0QfB6NtZQmyLl8HgJ7xBDN4HQkA8gEBoDIfB8CJKwUhcJUF4XKjBEPZ1QVByAUJQo+dAiN8cwSANm8Bgh/HAwJRgQABnJcGEEFdCTISlQUD7kcGUuxJC+Aj9wfQKXkJAbp/AQCbSQGhagEFQ0ptBQCPNP8hGdUGCR2DCZMrcQTwMicHAzhlCAKD+P7CPbUHwoDjBoDTKQMCaHMFc6d9BcDf3Qfg4ccEELIlBCFUTQhRgPcI4RpZBdMOtwWhs8UHIdBVC2CNqQmB5j0H/vhTC4EvUwXB1LEKQr9jBAGGPwOKOcMJgbKDAoK5BQhB8qMFEM6/BaCUOwniPAUGgCQZBJBt2QtAjmUB05kBCiDtAQXCHNEGQC+JAeN4lwlxijMFg9mBAoBArQbSLykEoZSvC8TYhwmj8kUEwBf1BlBaNwUDZSMDoWRnBwP6swADphUE4tUFBOJ/WQYBiGj+YQ1LBcN6RQfCKCEFcUb5BcM8oQUDQQMGgYgLC7BLdQZBewMD4rm3CSLeBwUBMscHN4H/CbDoFwgDrZkFQ3fxA+M5eQhACFEKAUQJAdGgJQgD8qUBgd+ZBlDeswZgtEUJAytM/sD3nQYBx+UB4MxdBoPMAQmzB20HIlMRBuS1twjz8gsHwrDDB8lghwqhXesEI7CZBJu0mwpglZ8FICIJBVPRMQnzi2EEQsY9A4MR3QDhqrsEoLhLBcIcuQSCLGEA4QVNCiDJaQjQtrcGgqFrAAB8HQXhrosE=",
            "dtype": "f4"
           }
          },
          {
           "marker": {
            "color": "#FECB52",
            "line": {
             "color": "black",
             "width": 0.5
            },
            "size": 6,
            "symbol": "diamond"
           },
           "mode": "markers+text",
           "name": "Cluster 9",
           "text": [
            "C9"
           ],
           "textposition": "top center",
           "type": "scatter3d",
           "x": {
            "bdata": "5ITgQA==",
            "dtype": "f4"
           },
           "y": {
            "bdata": "PzKNwg==",
            "dtype": "f4"
           },
           "z": {
            "bdata": "6Ig7QA==",
            "dtype": "f4"
           }
          }
         ],
         "name": "frame0"
        },
        {
         "data": [
          {
           "marker": {
            "color": "#636EFA",
            "opacity": 1,
            "size": 4
           },
           "mode": "markers",
           "showlegend": false,
           "type": "scatter3d",
           "x": {
            "bdata": "j+KBwhhcCMHBTJfC7J4WwtjN48H8gqrCYFkJwNIQsMJXSIXCcKJGwrWLmMIqKonCx7+vwvA60sFfiMPCbN2DwqDVsMLXd27C9tLGwmB3EEC12nDCdpyIwsf4nsJAWcTCWDjAwZ1Ii8JwN6PA2HFjwriX2cFQnPzBqC9iwsDSY8BD8sTCXEDQwQBssz+4jFrBRLTEwSacgsJAIpDBogFzwkXSg8KjRp7CFbqmwkIfocKKG4XC0K7FwjjqN0Fu3SnC4d6ywthDE8E8KF7CGMerwjlxOMK6rEDCa81PwmgVWsIIXARBiPl7wbDGH8FMRsXCKvCGwryvmcFM1B/CBFLCwWSxv8IEOYHC0ZG4wpAvxcEvhpLChMyRwn5XO8K8grvCIJfqwQgHr8IDwKrCDK0Xwp2Ib8LYueTB2HEPwggfiMJyVsLCpBSywWCZ8cDMZ9zBKCK1wR0IlsIEcSbCc7l7wphZl8K7P4TCHx+3wjvTwsLc0anBAPHCwfD5M8FllGPC1bJGwkBIrD98ANvBzgaVwrQijcKN5TLCAot7wpBPU8Gg+MHAPA+9wTwNZ8LQTSHBoHlhwZSL6cEDYSnCAJE9wMTpwsFUmpLC4ogsws6NmML4YeTBmNQoQSmnv8KIkgVBCi+hwqCBWcCc2I7BKgDBwi/PUMIVpWjC7Qimwphw9cG9zpbC4ISBwU1OlcJkyHzCBhUKwix0HcLxI8XCw6AjwjJimsKgUZLCrQWqwn0JhsIzIbXCkddjwjcSx8I2BYbC1jtswhizr8KIvsbCoPPhQPQUxsGQIHjBRJyKwrcQnMJs7K/C4MTkwWntW8KySrjCgso1wjMihsJQKYHCkN7IwJwjwMITfovCZB+kwoBmq8FZd6/CpdLBwiGCmcKe1r7CuKGWwgISw8IKEoLCmMloweC7WUBYAZLBv23Gwst3lsInK7DC0BUzwXExhsJXGqXCViYcwpTErMFy5GnCBRWIwu0lWML468HChEC2wX1kV8KR7XHCy0FYwnX1k8JRMTPCPOLawdwakcJCHIjCZ85Hwk87V8JI7KbCntomwpKJrsLyu1HCthJMwkNIsMJYDgzBPe68whDelsGUYsvBnQlHwlcOssLcz8XBlsqmwl8uh8LkrqfCjE8uwvwnlsHG+7TCFmGYwsxiiEFkGGDCfYORwiUGgsJq65HC4JxdwnAWDMJA6CtAbmZJwi1ResLtIVDCG25hwsiVhcIApMa+qWw2wtiT8cFdF6nCxf0ywi8NL8Ia7nvCkPn+wAGjN8JkGcnBSMURQU+/isJFHcLCikenwueFOsK1cEfCXNCfwsJHmMICcafCNHi4wjCrD0Fol2LCnEOrwpDomsLA5n7A4FXIwaG5rsKoBIbB1m6owg7hrML9FmfCtlWGws53pMLl+J3CjNMVwpWfRsI5U5TCTummwhykhcIksSHCKEHGwVvWV8JB/nrCsZQ0wonARcI4pRpBoTB3wvFGeMLcp4bCRmhjwtYJxcLwo/9AE092wqTJ/cG3LDPC6I1BQT6OkMIPtZDCojyvwlwVQsJMy4jCsNKLwhf2WMIiMI/CdpqYwmga6cFDF77CnGy0wnzygcIwA+fA/WSUwjrMssIeDpLC5H2MwSNKsMLSEaDCPuKywpyNtcGQEqXA+MAEQX4mhMLl1ojCxw9PwpBXqMJiSAPCSnStwgXpk8LuNG/CILMywbDdzcCvmILCR0KJwimTtsKkpYfBjK6bwR3PnsK2T6DCBYuywivUssIvOInC8NS9wsxzssIwI9HAgAJhwRo0rcLEl6PCnj+kwpI9XMKEuK3CPm6dwgBZe8KltK3CkTQ6wlglZsHIC6TBUQS6wtDZDMJYyrDCE9mYwj13bcI=",
            "dtype": "f4"
           },
           "y": {
            "bdata": "U5ZIwnx7tcIML5jCruBAwgHMaMKdq3HC/zWmwrYmSMLUJanCh9s/wlfAbcJnX7nCqU8mwibInMIPeT/Cd2AWwjM8hsIm3JbCiryuwnXZoMIKNHXCEyymwvjPicKxAqjCmNeDwppZiMJl+L7CBO/GwmLtR8JuDmvCHtaNwlCSp8Lj74PCuBSowjRnccJ0QOTBPX5Ewi5JwcLTMFjCpcMswp71acJnDlbCZxe9wtglOMJgtb3Bq8tnwthDssJBq0/CJ60uwuqGUcLrtlLCn9vHwjFxEcKYFsfC4KE6wuBCq8ILQa7C9+2mwrDKecLs7GzCjL4pwugsscI9L3rCdOSEwvx5S8KmLjbCoVO4wlCrf8FeiDzCDwgqwiOlvsJTEE3CR7q6wq6CicIfWmjCZWqRwjRWhsK/QrXC6Oj/wayQjsJoecDC7M9iwptXasKA57XBCPLQwTAmNMKtxjXClmW0wsX+lsIW90vCisOvwqSrycGTqsbCT3N8woYKj8K1XH7C4hacwkZZksI8OpLCz2Sywnxlb8Ii/7fCjvuzwq6kDcKro8fCIOh/wfB458EcdPTBfV6JwvgwLcKYLxnClbq8wjIejMLhXKvCIEnLwRENwcLRSIPCUie6wmh2jcKF8rrC5Cwuwk6TrMJ0Q/vBriqjwjWGvMIwuUvCql9RwuSkDsIoK7PChhaPwtmFuMLj7KfC/DQGwjANCsIXSI/CNnKCwsUFLcJVRX/CUpjGwtregcJ2NAXCx/85whBLvsIOmMbC2AuowmDHgMIZ4DHCuY2Mwib+ucK7sWfCcrUHwuU+a8JTGLfC+DRkwczXYMIZTb3CnxEbwjL6RsKvVFfCG+GYwrcwV8L4xYDCppVPwudibcJuUIfCW51twiWsQsJKdaPCzbc1wgMQw8LXebXCq86VwkWEdMIBZLHC8nO+wkGMxsJkBszBMKPnwQVFV8LliFbC8DPuwcTgOMJDC7rCA9CuwpQphsKrepfC896ywgbVscJGKrXCD1fCwjSDUsKvI7jCq8GwwiheisLDsirCYLqTwmGFH8Lzd1zCBgOTwq5UUsJqxSrC8aJTwqD8S8L6TLfC+ri7woJWrsKNrlnCLtZ8wvq+JsKcuKDCOfKbwgJrx8K07ajCrFeMwhiYi8KiiyzCDNC6wkMJvcKj11rCbi2RwmYAE8IJhI3CXOh4wuSYiMIXf6/CDGgGwkDfBMKPi2rCAHrowTxjZsIasYTCVUlhwnfAIcLQdqXCG/YRwqGGTMKuZ6vC2t6iwj8CtsKZnsHCIryhwjB4g8IC6ZLCJ9Qzwpge4sHaRFnCfXzFwraVD8ISOJ7COKKgwjOMvMLYwsDCZ1iywtlvjMJtUWDC0MCbwoVxhsJwfzvC0SlXwspzgcJY2MHC6eGowvX7xMIs/qHCdjNfwhwUysEcKbHCk4rBwozSA8Ix8rrCn2MYwsTflMKQk5TBzbQswp40C8IVA7zCLpw+wtSfJcKIoIDClICgwsjxgMJvl6HCSyjAwrWCTcJWD6fC0FmgwlBcBMIlLJHCwXNnwhOTqsJZJpDCYWxWwgyCj8EDnWHCG+aMwpgxl8IkD1bC7SVHwqx/n8Ip2pzCiqNgwjZvl8JTRzXCGEzLwfbGZsLuOGnC1MmBwqSufsL/LZXCWpeVwlECZsL/hKjCXHy+wvYbe8KOe5nCM+KWwrFYZ8IKgC7CZJfbwQBhc8KsR+PBCk6lwh62GMIp78TC4GQ9wv0eS8KtNcLCk0uAwlzigsJaAoXCPp2bwoWtl8IP6VTC67GAwnshZ8JlebDCWA6MwkoygsIo3F3C9Pm0whqgcsLOo7LCNAqywr+RRMIos5zCaOwIwkKflcJY+EnCDfynwjycl8E=",
            "dtype": "f4"
           },
           "z": {
            "bdata": "V76LwpxygsJK4RHCbv8kwuAVlMIeEpPC82+bwiAmFkAwwIrCwDOAwjlSqcIoKhnClBx5wtu9T8IAv3DC+OHJwSB9LsEqkYrC9V8zwlhLl8JoTGDCu0eqwtCkEEEIC1rC8GR8wkTJEMJtfcLCxJx2wjLpg8I8gcnBEO0Pwn2LO8LYjsrBsf27wgnnO8Jcj4TCWnUNwngZccEg20HC6KIbwQB5HEBmwQfCyPSDwiFPWsK+VLzC1K7EwjmUusJbKV3Cfbiowj0KdcKpyMfCUMPoQCxp7cFXjrzCqWUrwtHIkMJqsZHCvwKCws3QdsJGHpPCNt+awlW2iMJi1JHCCuQTwohwRUFcQbjBK9Bgwihyu8JwGJHC0OzewDg8aMLtmGHCeHC4wjyHMcJPQq7Cwj+LwuD93cDgo7HCY++kwmD/xsHlqbXCwoQ1wjEpgsKHsZLCw3LBwhUfu8Jyg7vCzBsswo7Ln8L45LbBSGkEwQvsuMIzPEzCOB2cwjJ9iMJ6TbHCEloSwoDHYcJ0NbjCMnsFwtmrkMIRRC/CR8wewomXkMLatlLCHbuWwrZiOcJ2Aa/C4rqNwjuxVcIIDh7CDoWNwpWEscLC92LCiQdgwkCNN8BmHJLCMWOnwglkS8KiEqrCDmOJwmCiTcLubVDCWFdfQVr4K8Isk6rCZP+HwuTKmMKgFJRA92StwtP6UsKSo7jCSsNBwmb2B8L/zYTCZCLHwqyw8sG+7VLCmBH3wWSlssKSxYfCEAnzwMAHvj8DdWDCL7q9wrAkuMEtOVzCBc57wsssa8ISyEPCQ62ZwvUwhMKIJkzBqxfBwt/tW8IQSNDBQM6DwjmxGcIAkM28kKC9wjsrS8I7jLfCRSWDwmRskMImbBvCdmenwuWDvsKGGqPCVWFRwntTWcImbjfCwTtCwj1Cx8IzBKbCeC+gwU3ws8KacKzC+ti1wpBK48EeeITCDZdzwthqoMKk9KjCMGW+wdGddsIQeBDCFLa4wkjDRsHeJsbC9C2SwRgfHsLmU8XCb2+2wrD+tkCdaHrCYrkRwsDPn8IgIvbAULnDwVguHsHb01DCh2TAwuReqMIErbDCWyliwuTjhcKrgqrCLa9lwnm9RsKMHQXC6OchQQfwZsLUBZzC2EmmwgxWx8Jgfw7CEPA6wnZflcLmj6LC1f22wqCmtsKdjazCgIKPwqDOnsJaBsbCW/GbwpIKO8LCSlTCvIZIwqzU68HyicLCO0zAwqZRgcKOto3CNJalwdEti8IdCRXC0AslwpHpxsI5MsTCHEC6wrPQQ8IG6KXCgFcEwFdbRcJizaXCQNA/wEhtg8LZibnClwXCwg/exMLzh0bCH5TFwoDDLMCj97PCmV9pwgCRPsFUTFLCeJaJwgD3Yb9ITFzBF/hswkAewj8fAkLCNKydwWv2XMKPdz/ChOymwswLiMKAD4nCYn62whr+qsLO7MLCyay1woSy/sEN06fC0NSbwd5ktMLknH7CAOv5wIktPMLK0mHCewJ9wjws0MGqNaPCY+2bwl51asKAuhI/wNFTwEjctsIY3rTCmt2EwrOWv8JEMK7CUAfEwWS3y8HiPYrCsJerwLaDW8JCR47CbX0YwgBHMkEoKMTCZzGXwrizRMGzphXC3zPCwju1oMLt87jCtHeCwoDChcDhx6DCsZq2wmQSx8JuOwLC8ul0wuU7m8IQUXLBrHqiwmDXWsJZq63CCKZwwd61dcJMEEvCmn0gwrwC+cGgavRA6EmDQWxPzsGUhpXBxIGUweDzC8A3xrPCsHK7wqBFE8BhsFPC4CruwQtosMJAX1DBCjitwgfco8KYJlJBwNTIwZpjSsJcj1vCwUOfwiBCFsI8BfHBsG+bQAANxMI=",
            "dtype": "f4"
           }
          },
          {
           "marker": {
            "color": "#636EFA",
            "line": {
             "color": "black",
             "width": 0.5
            },
            "size": 6,
            "symbol": "diamond"
           },
           "mode": "markers+text",
           "name": "Cluster 0",
           "text": [
            "C0"
           ],
           "textposition": "top center",
           "type": "scatter3d",
           "x": {
            "bdata": "ZahUwg==",
            "dtype": "f4"
           },
           "y": {
            "bdata": "oSSCwg==",
            "dtype": "f4"
           },
           "z": {
            "bdata": "U5xewg==",
            "dtype": "f4"
           }
          },
          {
           "marker": {
            "color": "#EF553B",
            "opacity": 1,
            "size": 4
           },
           "mode": "markers",
           "showlegend": false,
           "type": "scatter3d",
           "x": {
            "bdata": "OMPawdCMecHwduTAgFtNwWxI5cHePGfCqErTwcSv0cGA8uHByLscwnKtDcIQzIvB24iHwpFqa8Lo+MjBQLimwahF18H0xcXBfBz4wYSUtME8FhvC4q9WwuD1ccH94YrC9zcTwtRshsJ+Q4TCkMOqwWYxdMLqYA7CDDOjwQTco8GE+cTBZuYAwmBpRsFPrVTCBF/owUg9GMF4FtvBqIe2wRjUOsLFjHbC9GaUwYr4G8I4/XjBsFqAwpkzk8JPKi/CJJe3wYDxg7+I+IjBcKCYwYCo/8GwYEfBnOGzwUyqXcJceeHBAbM2wquYTMIohi7CYNXtwbAvAMGw3a7A0hMkwpDGT8FW/QHCfI4ewszHDcKwaQzCwJVlwSBuscFQfsrByIR8wWHIMsLQHKLAQqk/wmo9gsJYWKfBK/tMwiKnBsIy5wnCQLwZQOgbd0E0PYrBqAuiwbCU0cG4U3/CoN8DwACu7r8AFipAjAoowjjo4cFUwerByQdTwugu9MHZ6yLCpHDewdw72MF6dgXC0OTawfDOdcHAeLc/6GlDwUHLUcLI5xRBHLztwSL5CsL4I7rB7LfzweCr2sEQL7LAMNj8wDBNd8GQ0BpBlgcgwgqYAcIARFzAjPU3wnXCT8Kg0+HByOH/wcBFKcCUKr/B6hqFwt/qOsKo8JzBJF33wQCQkz0AwBG8YBACwaDyuME/8TPCjT8UwlzUucHAgOLBxGrxwZSv0MHYEz/BMu8UwsQNKMI7MCjCcwmIwpkeKcKIq5FB4Gy8wETKp8EQywDBYAFuwYCDUMIYL5fBXGbqwWfAGMJizQLChyAWwiQzM8I0rtrBYTFkwpgOBcFwMM3BgHm1wSSPEsK5mFnCINzRQJh0/sFAxr7BpPbxwRKYLcIg6rFACDYpwjqnXMJAppa/4p4RwmSW8cFgZlLBYJicwYANo0B0rp7BC1wRwgQyi8FW4UXCtewnwk1wP8LItCLBKNpUwmKED8Ks2APCjK/qwewRvcHkovLBBwg9wqD0H8IMq5XBfxFtwtaIO8KSN3vCcuIMworQB8K4fv3BZDfMwWBQuMGAcijBHJO9wUQ6+8FUF6zB4Bs/wCzCwsFIgf/BiIerwSBFuMHRQlfCTxspwrBM3sFQ3JDAgd5Dwn4zEcITHE3CfKMjwjAAakFSixPCaaxLwggdIcHAZvHBoMIuwYDLJMEoiHzBgEqXvxZRB8Ik0JHBUFHSwDSC5cGgwbbBIPORwbx9xMEAf7LB2kphwtTh5cEsjv/BtMadQbhdd8HZwTDC/rMXwui5dsIXF2fC2NsewR+MT8IDv1DCfN+5wTCDGcIVyRDCwJH3wXjWBcJfAG3CQPeIQOAkdsHzTmXCJJqOwiDG8MGgs03AjFDtwaA0JkFQRtfBuFtIwejmHkH4HVnBkKw5woRICcIIVPnBhOe/wYCiVsF4AmTBfl0NwlzDGsKAnwPAkGT1wQCxST8U/hjCjQ0mwmB3ksDs9j3CYuAvwmMmR8LCmRvCUILVwTSc7MEE1RDCaME1wrj0mMFAF6DBQI/fv5c1EMIgaivAoI8hwvCTzcEgGmvBpoVGwijTlcHmFRTC7flOwsJ4CMJAOXXBWBENwlTItcGI1szB6QJJwkipC0HjAyDCgGTzP7vOMcJIwoTBOIL7wSSgccJQX5LBLFWwwQDonUDY2NXBAE18P1yKD8IogKnBUNdGwjBWZMGwu5PBCBdIwdAFGUEAb/0/8J8KwriJiUGo9nDBqKYhQajqKMJLrifCZJRTwpBORcGYMsTBxHnKwUilScFgaj9AqPmKwc2/GsLJ1DnCLnEIwiQkm8E8dYvButEfwjuYH8LwNg1BgBmEwdKOD8LssTXCyOD7wUh/8cE=",
            "dtype": "f4"
           },
           "y": {
            "bdata": "6CcpQhDWb0HkBqtBIFs0QEDEJ8DYcXnBcF95QQDQmj10vZJBEAMOwWBCtMF4ssRBFLz+wdgvrcEgPVlCgFOjQIQYA0IgwwXB0PsRQcCZLUDECZJBkJrBwWB4R0LQlzTBEPgGwXz+r8HgK4fBBGEfQgDK17/QPsDBgEpVQtByWEIA4Og/KHtRQWjFWEEAwyfAlL24QTzaU0IAsD4+sKkZQrhG5cFACx7AgHnUvwCHlsDU38hBAIXDPoiPmMHqShrCEKMtwcwboEEIrTZCYH4XwPiz10Gg2vBAwEPZQawYAsIAsXpArLAKwiBifcFsic9BWPvnQRDB+kFogBxBICc1wQDTpMAAzn/A6I6TQUCgBkEstIfB3NJCQoBuvcF4slrBuDUhQmCJ1kBArSlCYPGawUAiH8CAuAxBlNHowRAXq8GwRUBB4FSkQbCcy0EAOtxAIKE/QdCgCEEdfB7CQI7hQZBkU0FIem1BHKkTQgAr9j64IU5BMCQ7wWgnBUHYKhhBqG0GwWinbcEYMjhBYB2DwYDUdEEwODlCmOMBQvTXlsHIuQRCMFZ6Qeg10EHAZ8VBmBexQRDlBUHA/R5BEAKUQUhfa0HEDRJCgN9+P5xLqcGoPg9C1KiYwWADDMBofBzBKDPMwWz9QUJwVT1BsDHywDxco0HAxStCPBGdwTi4C0F8ya9B4OY4QSgpR0G0F5XBAIM5QEQWtEFcqdlBgM4QwWDDj8FI/gNBLEO9QYA9Eb9oCjnBiKFRwfBGqcBoLBxCiF7wQQDx1kGcLUxClNZNQlBUhsGwa5rAwJ/JwPibi0Ew4J3AaFhdQSz7xMG4vBlC8JQyQWDSREFUlbpBgKP/wGB3k0GIozzBAFUMQvDbQcEI9JrB4KUMQG1jG8JgpZ5B8FBXQUQzisEMpdFBWO5rwZh/UsGoVR1CRA3CQVSBJULUwadBMFabQJB640AAKBa9pHQAQrheK8GMp1hCJHDdwUAMgT8oyu5BUCxdQeRNOUKYjglCaOqrwXy7lsHgU4PBwIWXP+BI0UB+gR3CwNP5vxAwGMF4tdfBYErPwZi4TUJQ2bPAwF64wFC0scCYQINBvP2ZQeBzH0Bcjb9BoB8zQNw8J0J4cWvBwFXjP0A2P0EIrA5CAKD9wcib38FgpY7BwGtDwJDY6UHg3xdBAMSRQETQwkFYYwpBIFGhQYAeV78QH9NBiH8zQqDH1EEQDoTAEMIFQoD9tL/QYxZC0HOdwWCOTkGAoX1AimgZwpQqgkEU+vLBCC0XQsT6UUIEBabB2LARwtBY6UBQfPXAdMSmQUB3bEH2jg3C8FG4QYD3Pb9wOMPAcJf8QQBOgcHAn3HAXPTLQcDVUkKAOZrBEMtPwcBXFsBsJZBB2HQlQnQxrkEMiA7CSAP+QUBLGkIMTy9CMAh6wWhS28HEDqdB5OePQSB1o0F8AsJBgNV2QAwXocEoFANB8JnpwSBnVkCQ6VZB0JzzwJThiUFwFXrBaAGNwUC3NkDkCAVCAFZNQSQpMELwGrLAwO2DPxQVAEKE9yBCKIKzQQhAv8GorRJB4JVTQMzVFEJguN1BcKFdwVikQ0Js5/XBwLKRwECnjcFYDuNBAPcywaQ3GELgIhBB+Ek/QRgSC0LkD69BeHwFQnDrXcFsX5RB0LfVQOCw4sDwvy5CMGBqQsDOx0EE/BNCkGGPQXBdxkDwaW3BAJGCP6Tr00FcoitC0HvWQPSXmUGY1k1B0NygwQSIIUJocofBAKAfQsBx1T+If1LBAGWrvrgQB0IcvbZBSBRrwcylTUJM2jpCUNQbQloxB8JA2lVAII3mQEBrn0EEVmVCTHPzwfBLmcD4bAJC8H3LQF58BMJcDMLBgKEqv4CbtsA=",
            "dtype": "f4"
           },
           "z": {
            "bdata": "EJMrwbTtsUHwToZBaCt8QeArn0HAuzdB0JJZQQSTwMGgnRdBCLHrQQAkV7/gIXZB6EEuQSALz0EAF9w/0OX3QUREg8GoK6JBqIvIQdTbl0EAkJ4+0AQxQSBT0UDw/8ZBwPpgQIihc0G0g9pBCBhCQeD7z0Fw46hAgMfswGC4qkBAE6XAiODGQZAR7EFQ3TpBIMh8wJD0ocDABetBkMIjQVhWwkFUQcdBuJawQaQqDUJQJZ9B6LHmQYjp/kGITBzBSJZGwQCh40EQOt1AqJ4fQlSHhkEgzlxBOE2eQQBAY78wP5xBTBasQehSu0GIGRVB2EY1QfggSEEAA8NBkIdHwQjrIUHoFZDBwGZZQFAJl8AAAvA+cPv2wJgblMEMB5rByOFzwQA+hj7o/R1BEG0mQQzowkGYkTjBAJpKQSBlqsAI2a1BoCY5QCDAeUG01xVCAPmCv4BvQL+g2S1AGDz1QZDRiUCE9JhBIIshQfDFWcHw2VXByIsVQTjV/EEI7cxBcPQFQsjf2UEAAHJAkLnLQYQt3UEITi5BwLSPv6ACsUEYzX5BUILuwOh3RUGI6S1B4P15wTgbK0EgEjjA8OqkQICJTz8o4b1BkDDIwODFfEHImQlBUJSuQUiqMUGwrfVBkGXWQBAJsMAAjDa+lP29QfD/RkEAMWhAaMTiQRAZdEFwUgtCQKFGwAgoasFgocbAAG7BQDDRikBItjFBYGSLQXCcq8A01b5BgMo7vwAgKL7wFhlC4GjPQcgyn0E8UJhBgLDrv4A/HMDYzSbBmGkDQQDmTT4AZI8+UIsDQvCcWUGwANVAQOQawBCyBEFw3ndBVI2+QQBt20HwWKfBfH7UQfhKgEGEm9xBvGK0Qbh12EG0yoNBGAp1wdC+nMCAdhdBLCiPQTzYB0IAkfhBAHwov2h2/UHY1B5BmElMwcjHVEGwcprAmMt1wZD9rkH095NBwMgSQewav0Fg3iFBIMMdQAARtEDAbdM/+FuCQbBQsUBArCrAAPH9v2CwyEGAr7hAdG3VQQA5Jr9gPklB0KOAQIxjEUJwZ5hB4JM7QGB3SUD4zwVBEIEowdSoIkLoNwDBGGEIQcDh+j/w0vZA+E/lQSBKxUDwLONAGIOQQVDkB8EAEhPA/DCbQQSdo8HQcABCSIAXQjThoEEoQm9BgIDCQQgRx0EAfnfBcIm4wOhsa0EgGLzAAH2CPtAIyEAIc3hBAGjjvrCQ7UFIjnNBAJwovqBB70HEhJ7BsBv2QACHmL7QYrPBBPHZQQANE8GYx6NB4GK8QLD/vEGUb6tBOGuIQVy9g0E0/KRBEGCHQWjUm0EATbtB2CBnQYSVksGENdxBWJwWQcCEdsFUB81B6JH/QdDZK0G4tAZBABgPQBT+okGAaE/BvO/DQVAkLkHAShZA4LeSwLyo1cGQFsFAkDidwEA5TcDAFedBgFt8wUAVor/8FqVBcLRywUBHJEDAhONBQI7uQdwIhEHYW1ZBiH7wQRDNjEFQzBNB6GW5wcD2SUBg2hLBULrsQWD/XEHglHNArO6JQcAnQECQ1q1AgHkvQVD6tsDATmzBPAcGQmAckkB4W8XB0HZqQQRJukH4gyRBHM0bQgjCFMGwcHJByEQqQVCgEEGAm2xAHB+oQdhME0FAXgzAdI/bQbgLBEIAYwzBAMAzvfBdgkDAPRNAYJ69QMDhFUDwHJdAyMgnQUB2eMBIoHLBXNkpQqhWM0H4sqlB8J8LQbRbzkGA1FzA8J1cQQw7mUHIiOBBvJeNQeBRAsAEGLjBsOfOQBCEksAgM4FAINM2QWQEvMEAfFu/5E3KQYCcsEEgg0rBwCUrwQBFor4wDMRBAEuhPmC1WECoFELBgJMRQiC9J0I=",
            "dtype": "f4"
           }
          },
          {
           "marker": {
            "color": "#EF553B",
            "line": {
             "color": "black",
             "width": 0.5
            },
            "size": 6,
            "symbol": "diamond"
           },
           "mode": "markers+text",
           "name": "Cluster 1",
           "text": [
            "C1"
           ],
           "textposition": "top center",
           "type": "scatter3d",
           "x": {
            "bdata": "98/kwQ==",
            "dtype": "f4"
           },
           "y": {
            "bdata": "BL2iQA==",
            "dtype": "f4"
           },
           "z": {
            "bdata": "S70GQQ==",
            "dtype": "f4"
           }
          },
          {
           "marker": {
            "color": "#00CC96",
            "opacity": 1,
            "size": 4
           },
           "mode": "markers",
           "showlegend": false,
           "type": "scatter3d",
           "x": {
            "bdata": "IL2ZQvg7BkHwEWVC3O8bQsJzr0KY2UFCsMeQQLigFUIsDq9C/PIjQgwyIULkCMVBDnG4QhxH20EgtWZBtJQ9Qq7eh0LAiUtC8K9XQqSnAUL4WVpCSGaYQgiWoEGE8mRCfL2dQrSaJULYgitCque4QpiAGUKkuJNCsDt8QWDM9UEqyoVCnPZIQnyNEkLk67dCqiGtQlTzPUK64IRC3EIIQgi/70EwM9RBiLJ0QgAz2D/wXcpBJL8BQtjbaEI6RJxCSPCSQQyoL0KIG2BCdouvQrBuVEKgrapB8Dq3QBy7T0LE7MBB6uqrQkafrUK4xY1CTHbWQRqzpkJ0RQRCVhuXQhpaxEK0MypCfCoHQrCgUULQHplAFFqJQu7MnEJ0WrtC0KGiQbDQEEKALSdAACpgv8TTf0K2WpRCsEUwQZj/XEICZJVCFLULQmrJoUK0s5FCSE65QZSrE0KmlqBCCkjCQlqDq0LgTV9C+FE+QoiYiEEkU6lCFlCAQpiBR0LkhVNCAHKGQtgHVUJYHjlCaMocQgh4MUEAKTRBmBqKQvB9W0KAj/BAuEelQdThd0J81FNCoGPgQT6krUKYHbZCPJYjQiBMCEHCfLVCymqjQlApvEJwZotCCIk0QayinEL0oqZB3PTEQkiu+kGQY2dC/o2YQspioUIcU3hCKLuwQZi/n0JicMVCUgXDQoxFM0IAVJ499rOAQmDboULqqLpCetmaQjiseUJ4nZBC/DQYQm4ZsUIAZRNChJ2QQiRUY0KeaoZCYE2dwAwDbUJAhzVC+N0jQgBmj0K2u7hCrDJuQgCY/sCw6bNCELY+Qg67pEI4GJhCvviWQtYQq0LCL61CjFuvQjxQxkKkBZlCcvCwQsoslkK0QsVBrFq4QcRhK0IEA6xCikemQhjvLUJYelJC3LOjQZRTkEG8+qNBiD+9QXSbGkI+2JJCIE7LwNwQR0KAT/VAiNerQgTGIkL6/YVCwEIoQggEr0IAFzpCfHxbQnQ3r0KcFp9BAKQjvpRZY0JUA11CdAhlQv6OvkJwB4VBen6lQloNsEKQ+R1B5AxPQiQiRkJKlMVCDDyMQRBC00E4/LNCOovHQpaQkEKwYZxC2BcnQuhXu0FI24hBSpyMQj7YoUIMv7ZC+tG3Qgirn0IUsgNCkEOOQcCN1EFoNLhCxG95QjiQpELIeQFC3NO6QZ7Kx0KWjqxCWNkwQsyEL0JEeBFCeLYHQXDdFUF+FrhC+Ar5QRQSxEIauIVCuLAyQphngEKiyoFCENFdQhTkTELscQZClBxbQoAsqEKAfdq/6A19QrTem0EM9RVCyP4/QoR6V0KEq5tCdPpsQqJ+wkKkwSlC2OkvQnozjELkFSVC3KjKQVBwIkJk/WRCFIvcQeAUEEE0LRdC9ErGQmgeSUIugZZC3pebQtS6LELcukVCNGmWQUg0hUJ8SZ1B4InbQJKonEJKAaFC0NyaQgYHhUI0yIRCyBubQp5Kr0I84mVCrKQyQoRahUKk+4ZBxFq3Qgy8wUG4h35CqOcHQRwvqUFgopZAlCq0QUinxEHkNbpBconBQrwnmUKQfh5CbNGPQhCzEUH0QABCaCaWQtBC/UFYs8dCMCc/QtA950GkpG1CQJpyQNq/pULArTJCRq2TQnC3D0JsEghC5ENUQsB3vkIc2p1B5OK2QdD0uUKo13NCkKyhQqC3wEDQE4BC0FZJQXh9jkKAWBa/DAldQlzweULaNbJCRiq6QlyXrUKYIKBCkM1wQsz4qUIExzdCXOKoQvitL0Fm5JBCfGHcQYA+F0FwfK1CaHRDQiBmlUFkd5RCSEFqQug0CEFsMMVC8vmoQsTMvkKgL1NA6GnJQXCPkECQXhBC4DnGQDh9TUE=",
            "dtype": "f4"
           },
           "y": {
            "bdata": "9ugUwqzOT8LYibRBFiaBwjBqwkFA2KjBhsMOwgiaP8GCTqHC3naQwjfOqsLnJVzCjPodwmBv+MAMQ5fCtYq7wjB8CcLEZxhCWA+NwlD198DAgjrByjQrwjiQkkFqZojCfyaPwmH0wsKwW+1B3hFfwqXJPsLEbLHCeKf/wVgZWcEYYWHC7k2FwqAemsEwvvTAxH8lwlm7m8K4nWzBIEKKwYAXIj+AjNvBxE+cwRTwqMESJj7C4L4wQADYyT8flljCiN/4weZrn8KrS5TCQEJQwWaFrsKIkAPCpKy1wVBX8cDi34HC+RiewiBDhcGQki/BW9KzwmxFi8JMLwXCmDozwpebscJIMfrB+B51weCYEkAwSMbBYNYjQDwPxsEAAoTCOEIWQoyzrsGmmwDCuOhvwfMMTcLHjjPC8DmFQbQETsLoygPCsIMoQU/sicIAAKi6qlqgwqjUbMHAIwBAwK98wByO4cEArZc/iD5BwUa1E8JqLLPCwHrNQDCRtsHhdX7CcPCSwpgnZsEHTIPCpJWEwrrQjMJUSoPCBqo8wrb3v8LIKzRBxSqgwpA5tkE4I6RBL/xxwkhaBMK6yLbC7K+FwnLaKsIM7f/ByOnoQfKOo8IgEQVBllRUwhB3tcBAtkxAmXW5wtzvmsJA0dzBBEbywaxUV8IA8ZJAwI4qQQBKZj7QDhPBwJnBP5OynsLQzCLBgM6FwNCYtcENaCXCBrQJwvTvlsLYEPhByJQwwdAeZEEc5VrCkTyVwgBC9T8a/wLCiJIjwQAmPT4AMFi+gAPBv3IdxsJIn/1BcVlowmANzsHSzZPCRI+5wmOlusLgo5ZBYj8zwphO38FjhI7CLeeCwn77acJAkLbBAC7xQPB4e8FQ5PzAdfGrwrwrjMHw6L/C/meawpJlwMLCqovCkvqIwthVccIZ+LHCwGhbwvAU3EA8naXByHRowVBSm0D5cFLCEqd+wr0ATsIYGYXBuh4+wmEeX8IuEFLCgIRYQAg2uEG8BonCpFmZwcBVOMCuS5vCTMOuwji4rMIsb5/CfwM4wlgmcMFgDypAkA/gwc9sXMJxYx/CGN2EwYbZgcKwu9/B34KpwoDrL0Fw5fBAkBvhwPREtsGWUHrCHklRwixzgEEA3oVAeKUewrBnokHsX69BVvUbwvAWr8EElwHCyJstwibmvcL0xMLCxM+TQfTa/cHIjSbCj+qwwtiEMMJe+wvCYFCXQYAcX0EsqbbC2OS9QTACt8LBiLvC+AYpwYA+YUCimb7C68ZXwhg3YkE1TG3CmHKBwgqka8IAbF1AssC+wpDQ4cAo5GDCLH5BwnfGO8K0ZAPCev4Hwmxip8JQpqhBnPGUQbD320F4Qz3BSNRGwWQcC8K0RtrBPSWqwtB5rUFAXpTAAHrDwkjHBkIgWflAQO+dP9x6BUIAOAm9TLcAwkPYQsIQ4vNBAGhcQEiF+MFgz5JBM1AYwnlYecJ4PuvBLElAwiB8sUAY6GHBqD2ZwbCEh8BuXj/CsGIzwSTKYsLQC67AqNHyQYC27MCymQvCEArBwgDO1EDWFJfC6UZiwlD7icFQWcdAKKa6wdAu3ME3SBrCQP/kv6CAL0HgVFVBwHjAv+/5JsJwlUbBlEzYQbNmvcIIuKFBBRkqwq5+jcIMx9hBAd65ws5Ec8JhVGXCAOj7QKhiW0F4HgvCiJixwknERsKIbmDBazdbwjAL68Fo7YXBQpyownCNRkGZQ4/CYg87wucmxsKunRbCmOAKQs+4QcKEcxBCGMKywsgHBkJvbmfCcV6MwlAMi8L06EDCPGSXwsIEAMIoCgxBlLp3wnAT8UDM8Z7CFyKtwqA+/MFwuLlB4J4VQtgZU8FUdQhCDnJqwiD7KMA=",
            "dtype": "f4"
           },
           "z": {
            "bdata": "YDs4wGQbpsJNqlvChqOlwrBQp8J4y6nBTDChwm22VsI4vL7BxJYIwgL8LMKCVSPCQKv0wb60jsJhv7rCbBO9wo0In8K7FLfCaOujwpKLjsJyoSfCvXfHwk7wgsLpSyfC9HqNwpx3scI0X7PCC0qxwgqSq8JeFXXC6jF6wsr4M8K5sEHCjocgwtxnqsJ4tZ3BlDwWwikgSsKQreXBW/pjwo9ricIiaVHCEPJTwW8JfcJQO4zCKkJ6woDbjcI0C7rCV7mWwjMoocKrvxLCyt5qwqBNkcL8AaTCmTyEwt+ag8IDtrrCZlmVwnzpg8I23qrCxfqswlIuaMK1JZTCMccdwrgZC8FlWn7CeOVowtTGn8G7iyvCLCzIwYChCT8EpWDCbVPBwhZwWMLf87TCXmStwgqugMIQa+vA6gGawvaaiMIJS3jCrilKwqbrksKW6qXCyoCUwpQZh8IHtiHCVB6cwSmVJcJlabrCd79qwmaFNsKUxo3Bg2WnwoEUuMJesozCmDeDwvqJssLcwa3CpQiWwj7ZxcIJqr/CeyoVwtJyxsKH1LfCqDqpwvmidcIs14LC/CliwlAzi8E4+HDB++E6wlwFL8LEUpfBoCatwqlKasIk2FDCJiaawsj1JcHKmaPCeBWJwhiwR8LXWrnC/H4VwnZyiMIr4bPC2PrBwmsjUMLkf7jC8kc6wu95u8JGD8DCsNzPwb6pM8JqCwPCCspqwiiluMK8lLLCrxg+wqxUa8LU3JrCI4evwphTw8LL/kDCiIKNwh1KqcKMcZvC+CmLwlEWwMKKZKbCTCScwsj+lsJEyqHCiIykwu+mlsJkkJvCAEzLPbSwSsJ5S0zC84h6wpepucJc6zrCbRiJwnnDQsJk5iLCh2CpwutvNsKJa6nCT6I8wtW2YcLaf5DCSsouwvnglcJl2LHCXejFwgxYNcI6fQbCSDiPwuvXpcI5D1nCmv6iwhA+z8GPy6vCuieowqbiosJ0aubBkfRxwiz8kcIGBGfC2W1YwrA6ncFuigXC8kSiwtFSfcJpEcLCNHKGwnj8TMLb/bXCyGqqwVz1m8I4mr/B/pRzwplKnsLYsmDCHAGpwc6ww8KC9wbCbDAiwnPfFsJ0lZ3CptWrwuvDk8Icn5DBGouTwmISgMJLZqvC+J8Lwt02sMI8wpLCBNK4wmhM28Gr+pfCAJOkwm4qgMI3wFbCYEKjwugC7sEgTjPCDIazwkAEhMJ8k/vBWKSmwjAiscE9MLLClQjAwqHtwMJ6JZXCTLW2wWgoosLRDUrCMHKnwrTulMFhtsXCQqTFwrN/l8L0HsfBa5+5wioejcKIfSrCRZ4WwnDr58Gg213CWVKEwj8UhcLeHYTC/GsZwpmju8LW+ZbCP5Kawryyi8LH5pbCtwPDwrgIncImFgjCd2GSwqrjmcJvlGXC+F2vwvbsA8IjV6bC7W+Ywo4Ek8Lm1pzCs0VPwoi0PMEygorCI9tiwm9bNsKE87XC3OsLwjLpOcKnPIvC0K0mwr4tIcIKJMDC+KqowmcxKMLglbjCqLKwwsU3esLdX7/CyOzQwbyhr8LEfg7CiNmtwpg9s8Jb+xrCC52ewn0ca8KPnJLC3hzCwnQhUMIzK7DC7n24wl60nMLmk3jC8mV9wszrFcKa7pzCrwl/wpLtvMIHnCXCUoVnwurDqcLEAbfBxeJdwunvHcKA9fO/yQOmwgoOoMJG9qTCfxcfwvyBNcLwyInBMGwRQQRZrMF8/kjC3zOywhn4I8KSM6rCHNaKwahyrsJcH/bBzQcZwhj2scJCMKLCQig4wgDlOcL62hjCltSfwqZUtcJckoDCaA52wQCPm7+ewJfC+aK+wtg8jMJemqXCUZq7wtowVsI=",
            "dtype": "f4"
           }
          },
          {
           "marker": {
            "color": "#00CC96",
            "line": {
             "color": "black",
             "width": 0.5
            },
            "size": 6,
            "symbol": "diamond"
           },
           "mode": "markers+text",
           "name": "Cluster 2",
           "text": [
            "C2"
           ],
           "textposition": "top center",
           "type": "scatter3d",
           "x": {
            "bdata": "qkRcQg==",
            "dtype": "f4"
           },
           "y": {
            "bdata": "EowGwg==",
            "dtype": "f4"
           },
           "z": {
            "bdata": "aD1twg==",
            "dtype": "f4"
           }
          },
          {
           "marker": {
            "color": "#AB63FA",
            "opacity": 1,
            "size": 4
           },
           "mode": "markers",
           "showlegend": false,
           "type": "scatter3d",
           "x": {
            "bdata": "EDn4wJz5sULwUYBCytqWQpAZCkKgeTlC5KyDQvwmpUIgp8TAXMFLQhK4tUJ4KltCOMEYQiIitkLUp4zBLiayQtAFgUIwAA1CCAdbwaxUDEL8bkFCYEiJQjYupUIgGG1CpMY5QgDIa7/4RjxCJGefQjAsm0KEl7FC9Nd7Qsw1iEK6ZLxCgO1LQjjILUEgtUBCIE/GQvBjk0IsnWdCJPwMQnAPn0F48UtCaAZsQgysV0JsaCJC8LCaQtgLCULYFHpB0N1mQrzYVkJkU3pCdpLAQkCOXEJAWwbAOo6OQjpWlkL0215C4HYkQYSnw0LwJp5BoC5HwDAPikKQhqNC2ARSQRAbBUIomF9CQKecQMKkp0LYJJdCkpjAQvg2ukL4iTJCdCwHQlgnmUJAKYdAeMNVQjQslkJCYJpCqoGiQjb2wULoEKNC8EJHQQh7QEKUFjBCeljHQuAhgEC4TfZBcHNlQWwMl0LyA6BCPhLGQnC0j0JuBLBCDMspQgjRQUKgbVvAAKyHQMiQAkKg0WJA4LNvQGyWFEJwnHpBoGtkwFINjkIAd0NAFqOkQnw+qEJW3sBCCHU9QRAUjEEat6RCkISSQkSVQ0IcjVtCxHRjQjCVDUJAdBRB7iW9QijYPUJA5ZZCOAXPQQKqpULkWlpCRGbGQYiEqEIueLtC7sXCQhBu8sGOI7dCcAwmQhp9j0IoCMlBhO0AQp5Nt0IAUQ5Cxp6fQiZPjkIYqVRCPOaMQsjCs0EgW7tCim6rQgStsUH2UsRCqJVWQSSNJkJsoLBCtAQgQgzMtUIcZ7NCBLZqQuRfLUIYeWVCOOldQrx8XUKgByZCVr6QQph39kGAW65CUKdtQeD49kAIo/NBYsyBQqjZU0Lgv4pCeFKJQogksULgdj3AiJ1ZwXQKeEJK5LFCACPKvuAErULu9qpCEGdZQc4/uUJQ50VCAO5rQZhuaMGgKSRCNieGQgAvEUFQyl1CVi2qQkQHPkKgGSxCepyfQhxjT0LEGKpCTHdVQqBNQUKy1cFCoKMOQjC2nkDQMcLAotXEQvRCtUKkJZhCQFrFQsTUDUJIpExC+EVwQngkHkGOErlCJIOIQgAyNT/4RY7BTP+FQiiVKEJ8fMBCZIwaQlRmQUKYwK5CeI+UQnAXcUGQc1RBtHFqQt5JoUIUgKZCgONyv1BkSUIMtF5C3ONiQqBJ/ECo4ppCLv2bQsiLSULYAL5C4OOIQKY5j0LIB8RCXEinQiAMDUIuzMNCwEtEQpzfiELwOJDByHxjQXBCsMEAVsA/6JVmQij2mUKYKHJCjh6EQug4f0LUjIVCuBubQVB+w0K6LbdCZCcSQoDaHMFwM5hCLq+yQnQRbUIAkiHBGIRgQsxIK0I0mc1BStqVQrBAm0J+CbJCZKSoQkAGQkBel4hCZI+MQvD7K0LIxg1COKRZQdg/tEKQpMZAhOhQQkQrEUIO9cdCoH1Kwcidg0HmcZFCkKVdwYRmCUIcP71CRFyRQia1xEIsLaBC5mO4Qjgn7EFo0r9CHFOsQrAgtEJAlHRCwD9VwJROhEIQTShCVISkwYh5p0HCO6tCcC1qQvz3vkKgUUBC4D+qQti6lUI+v6dC1Na4QlziuULUFrNCNhmkQigpdkJkgqFBUGVZQuD7EMFwPL5BDD8tQjRQN0KoSeFBBCDNQdI7sUJwCnNCWNhVQkzVgUI6ErRCvC86QqSApkKQhcJApBWfQYAhwUIAFBpCgC+LQqAv4UGUaqBC0IljQmTKS0KsSg9CRJWbQpbCtELYpi5C0J1NQhgY2cGo8QFCwGIPQfjkXkL8UYBCrvO1QoCMG78gjr1CePRtQtaynkJQSwRCCCg2QtyghEHgTeJASB0hQoxjnkI=",
            "dtype": "f4"
           },
           "y": {
            "bdata": "yKeyQrYvp0JEUlpCtFCRQeBsbkKyaYZCxDKtQmYrgkJIB8dCdEeBQqgcfEL8zRNC3KMhQlS2ZUI2+pdCYPinQrZtvUJ2l7NCqC52Qth8r0IozHpCzmSnQjRzv0JSuZtCNN2HQgSEtEKA80RCHNklQviFv0IIZwVCsHWaQqiKnEEwB4RBUIg2Qgy+mEIAVRNCZChwQlikskF4GvlBqCnhQSb+g0JMhZ1C0lysQvx/C0LksiNC/FJtQghnxELQsx5CyNeKQvyhZ0IYTCFCIFRJQfALjkHC0KNCGsS4QjRaCEJAc/dBHMynQsr6mUJK2aJCtLNYQoRHt0Ks7Y9CHnXGQvQpJUIm3bNCGvWoQnzAxUIseT1CAFK5QaDG08D2+4pCTGpLQsKhqkIcxKlC2DhfQnhWgkJAAaRCFGWwQRhK70GQUwhCAIeiQmD1bUIEUUBCdgamQoSYj0K0XLFCIgaHQpqFnkJYZ55CusjCQlAefkKkS2VCbpqXQl6PwEIy2IlCPvutQjBKc0KIuDxCmKZlQgxYWEIwvJRCKIm4QoymCEKq6ppClMyAQlA1A0Iwd4XAqOhmQjQ/BELaop1CdG9cQtaxgkJATyBCuFp8QrjIoUK8gk5C/oG/Qqhxi0F+GKxCHAFNQpiftkGcCHtCZhWWQly7lEG4a95BxFcJQlBIukKuhoVCSKdsQgQfakIIlg5CWNRmQsgwtkJwY3xCeL5VQrRKnkEIeaVCFIEqQvBCsUKIgPNBoJwDQo6uoEIA/UZCrDcrQqBtyEHkr3xCiEZ0QtIXl0JoX7pCdNOYQshGIkJAJqZCkD3XQOzpwkLwKGBCXua4QgpNkkLiRoZCNKZeQjB6hEKmzMFCUGRaQjAduEJ4UbJCpDiaQvCR8ECG6JpCfEPBQkSnTkIiGcZC9M2rQtBnIELIZJ5BnNmLQmC9FEKkq69CNCCWQvhWhUIg3dVBzlGZQnR7mUJgLH9BiCP+QYCYhkH0ohdCYseSQligfkL0HpdCaqPDQnCEr0JISTtCzGFYQigJYEI07rpCUAMaQlg/YEKcY5ZB3NosQhA390HYIY5C9NPOQWREKEIA+j6/BBJJQuCSm0LQ+JxCxv2ZQhImukKoaYRCnDeFQjCNQkLsmkJC7BJFQmwhNkJKu5lCQACjQvSBVUJC58NCDrOdQkgtN0L+BpFCYJIoQry9F0K+z8ZCpAt6QtokpkJyY8JCzOE6Qpbgh0KgdFFC0ECFwNKIt0JAwjFCfDW7QjQGcELCj75CII1FQqg5nUJm55tCOGUdQl4yuUJwnUBCEHUpQr5GjkLUWLVBtByNQjpeikKI/Q5CkMPrQTZnm0LwovZBIljFQhRvo0IINZ9Czm3BQhRmkEKUJD9CjAYaQmBQ/0GYaZBCvOk5Qug9xEI8HXhC3BRWQrh9T0K2dMdCfkCTQjg+cUL0v1VCnC2SQoBw70Hk8ZBBHp6sQsxzukJo1rtB3Ky6QvAackJ2NsZCcIWXQrg2XkLA6vpBah6tQjAGoULojjxCTAlJQrTyUkL2V5tCyCJVQghMgkKaY6tC8NXDQghwWUJCbZ1CYPeIQsA5HUKe8pBCAGSVQYBNkEGGGbtCjoXHQqjWCULsKY1ByCFrQnIjm0J8IU1C6AgnQlaJuEJUWThCVIsmQgbYnEJGsMNC6guEQtBNvsAG6I5CmlujQvShIEKAUZBAIFtVQnCD8kHqCqBCTumhQkDLDUDMw3JCiJiYQio4okKkgipCIPURQjxmK0K+ZqdCIEpYQngwzkE0Z55CAP+GQhqks0JE5KFBRgKXQvBlGkJAdBhC/v6vQjiSR0IIBL9CwO/ZQfRwlUIGW4JC1BxbQoi2kkLImD1CiGhYQm56o0I=",
            "dtype": "f4"
           },
           "z": {
            "bdata": "KCsnwYxKsEEEs2BCQK6PQHDM1UABMrnCQLXHQWwZoEJsXEXCb0Cawr4egUL0nazBep9Awkga68H4ec/BoBVWQa37scI0jufBYNYNQNDCNkGoPpnB4PdpwNbUlcIcmotBzgPCwmfZmMJA2SlAwE1wQiDTs8LOGJBCcNidwsAmaUK4IyXBixtxwuaMlMLgpK9BgPK8QaQNu8EYkl1CPDajwZTC2MHA2hpA6DGgwtjEocFsyNrB4B4mQr00xsKkN5DCQBFhQNDQkcL4jjfCWBw3QiCYE0GKkrXCcMY6QjA+l0HgDj5CSFT3wWSCU8IkXbzB5MDRwQg10sGQv0xCALorvqfKgsKY7rPCgOg8wHwyqUI6oibCiFo/QqDCQUGkylDCG7MdwtQgd0KAteq/IFAgQjhNT8FcBkFCtA3pwUBRXcAgv8rB2aCswkS2UEL5TJjCKn/Ewoj6FEHQu/XBmZ3EwvTrpEFsr1JC1CEfQtgu50FcsgPCcH+FwTr/FsKJlDDC+tZIwtCcz8A6fJDCXd8dwqAVSMBwuMtAgCH9P3A48kFfPcXC0CHGwIkWEMIMalBCM4i3wlBbQML+iIjCXjSRwvB8pMJGAQjCweS+wsDBmT9Aw0HAsL7bwdRxhMGgFrrAbAf6wQwessEQU5rBHOiDQTiheMHcqrzBDIqsweA06MCYtaNCVNMywuSWfELgSAhB92mrwsg9BkEsYB/CdAo5QtBOb8EorexBeAVyQcBrocEYJB9CBlmEQkBztL9wRWFCj/C1wogcSkFIvLrC136owp2LO8IH8pTCkBZDQZTuN0I0gkRCUAruwMjgzsFFIWrCZMNhQvxuuME1x5DCUEGVwJil08EmU0DCDk2Iwjj5JsFIs0NC2KYVQrB0LUJiWofC+LZDQZzFjcHOoqdCP3huwoCcUELO6ZdCykiuwlhjD0KA1LRBREFswlAu2MAwBRpC3MetwiC/z0G9JRHC+IScQlAhM0GGBZDCdKqYQlCToUGgZEVCeBolwaC7NUI0KeTBLraVwhEkuMKAo5bBiJVLwizWtUHIKQjBrnihQjhhHMFIrQxCNgFTwthygME8Bs5BUM7hQfAYRUEwySnCuDKkQQgLRMLWAVTCACBbvu54KsIeeo1CksaMwkwgp8HImEFBtP+DQt7wpsKR78bC9EqowiDWKkIFOJrC+JCPweAT2sEcSB1C9K/DQeHvT8JAnSLAvAqEwfAbCMIYkSJBnGcVQhyW0cEYbcBCMBDqwLalGcKmhAbCMuqAwoAC38Ck1CjChmNewnM2ksLYm4rCqPJ+QWJoj0IsimhCuOQ3QXPao8K4HZLBVCAHQoCtSD9QogXBtAggwm8dvsL43FbBMKqOQHNossJ2ACbCGMLawYDgUMEBK3vC6NO9wmkhosLmdIhCME3iQEDVWkBswmJCI71AwuRqjEJdqLzC6j5twvR4r8Gwg5VAHFCTwix2x8HwAD/CqFQWwkxwiMI04tlByMVaQhacgsJmBo1CDqWrwqT97cGySq7Co3pzwsCUc0JYxTbB3tR2wjdYWMJYSBtB5AfuwdgaoEF4ENdBSGbSwVK6rsIcgLlBaJqLQTAA6kA8qwtCRGapwu5JjkIoR3NCNNGvQpBBOMJYbA9BVHQhQnk0eMJX5Y7ChIehQU68ccJgxBtCZJtCwjjwGUIQVExClF7Bwg7FhMI0m1lCIMGFQIYafMLGDozCELkRwXihdUKA0AA/qMuIQtwkmEFQ9z5BxuyWwvDTYsLILexBOLjSQbhD+kHveqDCqBUeQkArBcAsDxbCuwPHwvTLq0Egm/bAgAqRQQDdur8wbiZCKpUKwvAY20CIl/hBv8UfwgKPgMKQYqDBAL67wF+rr8I=",
            "dtype": "f4"
           }
          },
          {
           "marker": {
            "color": "#AB63FA",
            "line": {
             "color": "black",
             "width": 0.5
            },
            "size": 6,
            "symbol": "diamond"
           },
           "mode": "markers+text",
           "name": "Cluster 3",
           "text": [
            "C3"
           ],
           "textposition": "top center",
           "type": "scatter3d",
           "x": {
            "bdata": "ML9UQg==",
            "dtype": "f4"
           },
           "y": {
            "bdata": "n+hzQg==",
            "dtype": "f4"
           },
           "z": {
            "bdata": "o59WwQ==",
            "dtype": "f4"
           }
          },
          {
           "marker": {
            "color": "#FFA15A",
            "opacity": 1,
            "size": 4
           },
           "mode": "markers",
           "showlegend": false,
           "type": "scatter3d",
           "x": {
            "bdata": "tEoMQgSYIEJIgqJC+DtLwQBFXMHgle1BbNUjQlCvbkIA1nU++FkpQUD73b+g0uZAHEG7QSDwgsEwjY3BEPPvwDhrd0FQUZ3A6KNhQejxBEIQVqdB+lmVQgD4nsDymYJC7GZIQhD8GEEg1f5AQFKdv8DAn79avqJCJMEcQsCplb8YIN9B2D0/wRqXhkK4+VXB4K5+wODCKMCy3ZNClAuSQdzBwkHMQoZBPPEGQiSldULAtUNCwBmSQZjKEEIQtxBC0MxKQmqolUJgxzjA3E+RwWgaWEKAqpu/UG8QQpCVLUHgcwdCrIC4wdiIwEFA/AbA0EftQWAJCECgn81A2P5sQfx/Y0IACjy+iJZMQoj7SkEwsorB7OAsQgynKEJ4j1FBhAGDweBJZUCYtP1BuIWqQaCa9cAAcMG/3LcyQtDu2MAQh2RBEBUswYigGsF4+i5BQJ9HQgCmmT9QkkdCSLnUwQKGDsJgJ+VBNJoDQmgwVEFIGKZBIE1oQSzaEkLopUVCfLSiwXzZi0GACcg/aMgkQlheqUGgQapBMCdUQTSfYUKYn0pBMMR1QjgpusF4tVxBALF4v9jNfMHQD1lByDhswVAlD0GQaxRCBlOtQoD4SD9YhrFBePMAQYAXgUKYPaJBGP67QWCWnUB0Z5BBaEANwRJ3mEKw6UVCGLkywaBGOcDgEbVAOIH2wXQd3sEUIO3BIKVdwBAWsUHEV6JB2MqLQdwIOkJA8oa/yB/nQXDKJMFQCKpB+NUSQgwhosF4ERJB0Fk8QhD44UEor6XB3MPSQTQ/PELAb5LB4AT0QbCGMEEQAwDBgIkrQFCqTUIohVFCQOtgQhBrgkLoojhCaJGaQbBMBkJ4wEBBaKlZQnTfjULo8f1BUBchQkh+dMEAREFA/JhqQgAErb34eyDBAIMvwFhTREKoQkhCsIPrQaBmXUJEYxBCnKYFQph2SEIkzx1CMNMtQkDuEMGoZARC4O8NQpjBmEJgFtNA8BnywUBBKEKopZDBYMsJweB2pEEAiKa/HBqXQVw0w0GwlPlAEGsUQnyMuUEIzr7BxLOfwaC8kcAU9GtCaEY/QcjaYUIwNVNBJNiGQvDxPkK0B0VCfC4TQqjSosEKlK5CkKjpwMj/QkKYFIvBADKFPvRjGkKULh5CQEzNwPDckcCgrY1BKNJFQtAUs8HguMnAsOcLwgDr0kGME61Bts6AQhRBQkJk0J5BMF6MwE4SiEJwfGZCSP2nQbxfekKQIwNCUM/qwEQVAUIICpRC3CONQQCZ8sBgjrPBGFBNQdwehUEwQcHA4FV8wIBnpUHkK3ZCMF1WQnh780GMCFdCvsGoQu4IlELIiBFC0DNQQQBSLEAAWuo+INaCQAA+QUKAdMBBGGYwwcBRMkHghB5BlDURQkivukEA7jfB7LUEQoj+N0JQfCVC3PcJQlCoP0JIZgRCZM55QqwuzMFYfDPBJGyoQeCHJEIgF9VBrF4GQjDRakI8otVBkNC/QTA0cEFcZQxC4LE7QtCm/kBADYJAkLX6QLxXbUK44YxCWI55QniyR0E0fj9CfNmzQajdXUGg4RtBuJ3KQUyTEEJkb7pBsPgZQWi9U0LkkNDBgAKdwNhU0kEksoTBVCSvQeD+HEJg7QVCHDOCQRAJDcHsA4xBjJgrQmCdaEDY9XxCyCGMQYCfEUAo3lPBzBHnwUDQyEEEphNCUL3IweA55UEopsNB8CYrQYBkTkBwTRXBlJcUQlx0PkIkUpHBwP8/QIAFk0FYRflBCB+8QbxEzkHIQrlBFBufQjCUEMGUFlVC4Lb3wDDwlcFItCFCEMDWwIBVD0K81d5BPCuUwaAlLsFAE4LAwMGJQoBlUsBO04hC5IMDQuAb/0E=",
            "dtype": "f4"
           },
           "y": {
            "bdata": "UDWUQWwgl0EEHsfBjEeRwRCdy8CoSp9BnC29waCQoUAQj3tBvGHKwXhuOUGgm6nAiBHFwVC6hsFoBrTBxscKwlg58MHQIPDAQJOdwbAjB0G8+a7B+DqNwQCDUsFQUOtAYLEKwEANyEBgjxfBYEbnwMxVy8GIqpzBIIGYwcQ5n8HcZ6tBKB5vwThbp8F4BfPBQDjmP0CwJsCoJJfBSNlyQSAfpkG4vkFB8L6aQBBz0EAQaL1AgJZZv2hRQcFIlQ/BKD6GQYALY8BcL8jBIIC7wQBgIMGANaPA3ALhwbiDJcFg+OBASDXJwaSfgEEgcnhA1GKkwQBeXD9gWx/AMCySQFCVxEDYGJ3BKDQ3QQCHAsAY2P7BgFzJP2AgNUAAvhLAiBuWwUCg6D+0SsBBEMVNQdgvE8FQF7PBoNirwYBuFsCAsOLAgAcwP0RQ7MHAiyNAAGGevzj948HIwU3BJDiuwdNDFMIgv8VAAGr8vrBHLsHo6HBB8PXHQfASskH8tqtB9HanwTQg78GAmmbAKFKxwdA0/cDAsu6/XJz7wWAAwUBUnqbBAEjWPWzV/MF4owrBjJLwwXQHw8EArFm/RMPuwQAPmz9I2B3BRELEwYy2icGQATrBADq4vijHPsF4xVBBIJtiQGxUiMGcB5BBABdSvwDunT8weq7AuFi2wQA2GEHgN4FAsPrnwQPSFMLyyRfCJlUKwoivFUF8TbHBCJiWwYAPXMAAI8zBrNKGwSCsDcLQfYFAMGTUQHxtn8FolgHBgJxZwHDdBMGU5/rBoLFHQPDaoUDA4nPBzMuhQdBQ2EH+GgvCNBSPwQBVkEFQF3jB4HvYwQBuaED82p/BEMn4QDhuq8GIsWnBMFsQQSgSWcH499fBoDQeQeAWp8EAkOdAxLmqwXCoEcFYvVXB0Nq5wIgnlcHgDA/A3BqaQdiTxcF0kb7BXLH2wcBEcsCAfW1B4KoWwCgnW8F4qM/BiG4zwQCUXMDo/4JBmDHkwQAh80AUS7TB3MD7wWCsLkD42LHBAFTGPgAT6MHMNphBWGBywQAU7b1gq+PB0C7BwSCBIkAAEGe/QJ6BwJAOOcFQoKHAiCwdQQBS/74A1iJA7D7BQTg0EsF8Ka7BYD0WQHC7WUH9ARXCsBnVQEBTXsEAQgW/2GoWQWgUwsG4jsXB0CRRwQAOjMHQuIDBCC0XwiAzQMCgsIlBBISZwVB+0EDo+FzBAFhpPWDAR8Do0LvBoBp1QIDWrb+gTjfAiOoJQYDxpr+AT33AYD0GQdCpbsFQHcvBwE77v5hyd0HIyQrCYFK7wWA5nMBwD8rAAKEyQaitG0Hc87rBAD0twdQCscFAZPnBoPlAwYCdmcFYbk1B5NjtwYBeB79AvGVAjIcHwpCt1sGI/RfBLJO5QYBfmj9Q2dbAGOpywZD03MAAdng/wPSZQSBbjsGw6I3AsPX7QMN7FcJYllbBzKe6wQDKaEFAlzzA6GKiwUALrz8EWL9B4FbIwPhJG8FgMVJAEEOMwfC6AMEANWvB+DLVwcCy4L8IBh/BIIa/wfg3kEFAhm/BMJPrwZTpi0FAexhBpISKQYCwRMG0j7bBABmpwDiUVEHMWtLBwPOWQGhA0UEAv5A/hKzPwVgbj8Hgo5BBqHERQWBk68E0+6tB0HFJQTCD58AUOZnBTD2vwYBb20CAv+g/chcTwohwLkEweg9BCpoCwkTjkEHYFBBCgNu1QdCPssEAWXK/YNbZQNB1C0FEQMLBwASOQJTYsEFMfpvBSBsSQvgHjsEApCM/UEqhwSD7kMAg5cDAMFukwYg/rsGIFYJByNoAwQhUUMHIZ9FB+MMGwuBcUUB8YpvBAC5xwEwqqMHgIqXB8F8wQXiv+EE=",
            "dtype": "f4"
           },
           "z": {
            "bdata": "LD/TQQT1CEK8q91BQFxIQDhT90Hga6FBIOfhQTCfK0LQUB9CAGWDv0BuGkI4gnhBgHZjQBh8W0HIFCFBwMBuQODIC0HweY5AqDSOQfy1DULAYrVASNH0QaD2d0F8+ghC4M4HQqCBNEK4HWhBCEsEQqyBn0Ggaw5C3AytQQgqL0GI2wVCIPGdQECRCkK07IhBKPEuQtDDFUJ8MABCFCcgQvjKM0JYHANCILHtQezpBULw5rVBIGjNQchTokFA9x1CGGY/QhhY/kHY7ANB6KUWQXht6UEQYhJB0H3EQTDBdEHU8gVC8HxcQYRYNEIwbBdC2AZsQcgvZ0FoYOBBiELpQSilFkKAAd8/jIZLQqDHTEFYr8NBoHnvQYyRJELMaqVB1G7XQYTnB0IwQqtBqDWRQSAzwkDE7ABCMKmdQSBK1UH4xgxCJGgoQjDTwkBMTolBwOP/QZCwj0CcbApCXMCzQSCKBEFo+vVBYNTdQXQS00Hcl6RB5IUVQohG6EHYvFRCWG27QYASFT/wI8dBqJaWQdgrJUIAoMtBaBDPQfDG/kGAH0Y/zNskQgD5D0CssRZC/KWWQTC5OsGQWvVAwG9EQdA7+EHgzGhB0CEBQliI+UH4PhNC8CUpQezjHEJ8f6VBqC0BQmDOKkDoneNBILcLQmxYPEIsCMZBVCSTQZijA0JQ5zxChNfHQVgzU0GAxg9AwFq4vwjH4UEQcWZBkBS5QYABnUHAyaLAIO04QTj1rEHcM8VBSPGRQUBdJUGcErRB0LvfQawo1UFQL/3AaCwZQrgWGkIA31lBKLjvQWCGC0JQuwzBaJ6bQcQGRkJYJPlBGPrQQbiZ5kGwQ4xBvGM3QqhB4kGIltxBaLZHQoRL0UHkVopBwHAoQgAmKkAQd5RB/PWcQehVwkHwJKdB2HYcQqi+yUEcB8pBxPsvQoDjnEFgRcJB+DMXQaRVtkGMlsZBHOIfQlRt0UHwfTJBoC4cQuTgMkLwcP9BwECsQWCv4UFw4L9BmOiOQSjZH0JQLF5BzBokQqDym0C4TulBfJsZQrQzzEHg5nJBwFuGQVAbh0HA+jJChMM0QrjvyEE875NBgP9iQhwF20HstUFCKGu3QXyJB0IIgvhBaHUrQqhFa0KgcApAKJ+XQVBNtkHQlfhB7CEXQiCFUsDcydpBIOwTQkBg+0HQ19XA4ESlQIjilkH4fw9CMLbyQXAFCUKATjtBrE+CQUShAkJQWfdBvM1BQvwLHkKsr71BsFAWQiCCjEEcnRRCcJcbQnSmn0FAr0JBAHorQVQVCUJonrhB7NrVQciYF0K4xs9BPGw1Qgjj+EEAD/FBQMQMQqCg/UEcXapBiMsEQuhODEGIsBNCEFu8QXSrFkK8ET1CeD4owaj/skFA71dATGYoQph3O0J0ko1BCOhpQcynDkIkm0dCmLThQfBxu0HICNhB7GldQrhVNsHo5UNBQNSyQRz0x0Goa/JB9PEHQpCe/0EgTqhBWBiOQehdSkFQCKpB2P/7QdhwT0EAd5JAAE/iQcSiDEKwKeFB9GjQQWiq4UE0Q55BqOHdQZBo4kEQHRhCbB4nQow2C0KgQkpBkO6pQciV40EYu6xBkGzQQXCHykFYcDJCNL6AQXjKs0GwROdBSE+lQQiHMsG4OolBGBZUQhCM40DIj+BBWEiWQVCo/UEomxBCQMXRQKxiSULkM75BACCbPfSyG0L4r/ZBYDcbQuTT2UEgx8RBZNqxQbBQBEKwrcrAsFFIQRDsvEF8/YxBwOfGQWxm3kH4K0RB2DH7QTQgC0J0cB1CANesPoA+ikEga91BmPAHQSjC1kF85K5BgC4TQQTkF0JI/YxBCOUJQkDC+b8YtANCsPEbQrBa8EE=",
            "dtype": "f4"
           }
          },
          {
           "marker": {
            "color": "#FFA15A",
            "line": {
             "color": "black",
             "width": 0.5
            },
            "size": 6,
            "symbol": "diamond"
           },
           "mode": "markers+text",
           "name": "Cluster 4",
           "text": [
            "C4"
           ],
           "textposition": "top center",
           "type": "scatter3d",
           "x": {
            "bdata": "+zerQQ==",
            "dtype": "f4"
           },
           "y": {
            "bdata": "0SPRwA==",
            "dtype": "f4"
           },
           "z": {
            "bdata": "SLfNQQ==",
            "dtype": "f4"
           }
          },
          {
           "marker": {
            "color": "#19D3F3",
            "opacity": 1,
            "size": 4
           },
           "mode": "markers",
           "showlegend": false,
           "type": "scatter3d",
           "x": {
            "bdata": "eEqfQUCX4MAwaJbA0ICSQJj1VsEgEAnBAIWqP5Bnx0Cwu9NBmMOjwbDYQELonAFBBCChQSgpMMH8Dh9CAJpmQRjcTMEEJ5XBwM3Wv1z3h0Lgg3dCJO84QihmLkFIW5PBAIfDQfAgr8DAcYrAhNtEQiB1RMDYlQlC8KQ2Qbx8jcHguTlAcF1MQoS2bEJMBdFBcMddQeDtPsAATilCTM9vQiAYwUDAzfXA9L+lwXCk6UFQhERCAKJvv8DJ/0DAnsI/YGhXQWCwCUKE/sdBQPMuwJB1cEGgqORB4IWAwACqUcEg/5jAcD6hQEBlkEBgtBBAkNLoQPQOqUHAgvM/0quMQoR2WUJAgVtBEOqgQLCmxUEcsFNCDEjIwZTB1UGwVC1CQKxHQBTafkKAn+FBMPd1Qhz2isGAlNs/IKRjwZL9g0LwRwhB9DzSQSiCWUKYpKVB+HyDQdRFVUL4/gbBLAxiQiCChEG4SkJBSNQuQiAnrMDwWI/AYI+RQGBZrsDQulBBrIO1QZDK+cBoMWLBkEKCwaxGNkKoNl1BTHZfQlw4E0KgbatA8NzDwCh3O8GAhipAiMRvwfBwgkKAI+Q/0AgRwVhTSEIAYjJAoBu6Qdy8cULgtENBYLe7Qcy1oEFIeHhCzGWkQdxjoEGgawhAAPqWPjCFK0HwWG5BIIzPwWBZakCws51AjOChQQDgSzxABxdC6LorwZSlq0EwC4JCaPafQjZ9k0Kk9xVCyJZjQfA5g8FIivVBID19wKDAY8GcNYpCqOgEQRTCsMH450xBZDRSQhKRgUJ0yYxB0A8uQZDLvsCMMohBIKbsQNDAJ8FAoUNBQN4iwcCTwb9AjShAYERRQkhkGEKgUFJCkMMQQUjQSsFkr7hBXMi/QUhgDcEA7r1BgClzQtiW9kFQ1gdBePOkQQxzNkJIDqBCeH7rQVieKcGokE5BAG8XQbizXkFKkrNCHDYGQqi2f0HoNIVBOA/5QTQkmELgicLANIkiQhjyXsEgXF9AANo6PgDYi79QwWbBBAa1QXTtmELQZFdBINvOQTAaVUFgIrVCNOWDQWBG/0FQyw/BoKvHQEDSDkJM+MpBOFxIwZhmDUJMbydCwGtowCQ8IELgWDpAXJahQRA6r8Fc8gxCiJxUwdgFF0I0iJzBoE0TQmA4c8C8yI5BACKQvzyop0FARpdAYEn6QaSjUkLw7OdAOHa3Qfzza0LoW0fBiG9jQSjDP8HIAmPBOMc2wUC1hkAAfQG/2NJPQTAkDkFE+w1COBYWQShkYUGcpMjBGIAZQVB0k0CgXbrAsHRNQRTHHEJc8rNB8K7JQHi2tkEIYDpCoFgeQYTioUJUhl9C3CPDQQCT90CsKqpBlB7PQSgqq0GomwRBGFaMQhjElkHA14w/+HgVwQQzC0Jo3URC8IY0QdB9UUIYtmFCyOJeQnAGmUB4g9hBUDB4wbj1uUFYsRlC4BM5wIDdlj/8DsjBoEepwRB9HkL4qQvB+FgYwfiyU0HY6zFB6CadQTjotcGwbWxCICkHwWgJicEw2znBziYJwljGOcFATgJAgICZQFhO9UEYjaBBUKeDQiACkcGAB6tAeFJBQTBamUAwJ9VALDcPQrjgKUGIryZB0JOdQRCTR0LMAwFCsAD1wPQJC0IAIgdBoO3wwMAjF8DAFhBARNoFQsgYC0IcUgJCoDSgQAC+AsDkr71BQFCbQXjYXELsfQ5C4GEowYAbWEGIgmJBiJwqQiwIlEHc1d9BGBAdwYArdkLAcLDA4HQJQoA1iT/A8BjASDvUQYiIeMGAr3rB/CeUQUCbKkBEW1VC4FH1QSC9QMHEp7JBKFNSwWC1SUI4TPNBIPq8wIA9dsGw2UNCgDvYwLikfkE=",
            "dtype": "f4"
           },
           "y": {
            "bdata": "gBxBQNhSJ8FkN5VBZEaIwcjFrsHKoxXCGFFuwYju30Es/8tBcMMewVjDJsHgLtZA8EeTQZTtR0JAt9JA4CevwYB5vL84+pHBrNabQQBPD8H4FgTB+KyUwWQLgcHgns/BaCMnQVDS4kAATu9AwPaOP1AV9UGUHafBEHFDQej8EULU75dBAEssv5glScGgfBzBADjEPZiULMGoyorBoARywfDGhMCw43BBwD9DQGRuoMGwcQlB2NQgQjQx1MFkQYrB0NqSQLDbM8HwYLnBrPPEQZDDgMBcxfDBzCWJQRAEn8EgoO9AQArSwZBD1UHEXQhCUNE9QQCLvUGogOnBCFWlwdhGY8FgAc1AAAoev8AKzEDA7jtBpAjCwTBcH8EwxoBAiB8dwfDMfMGAtgjBAGEqPxALp0Gk4p9BrIwGwlCwlcBA639BwCaCwbBMGcHgXpDAjAWTwQDn20AQ/BzBgGcTv9zGq0FAP41BWHgKQZCz/EHwkcLBCKW7QSi9P0FMtZnBYIzRwJxzF0II/G1BDJabQYhdqMHg7XrBgNdaPwBEdsBEdIJBaJ7YwSAiQcFwhmtB8Aw7waR5mMGsh7hBoIKqwLCoK0FYgB3B0BKcQSC990CgCJNBOG4KQZD0NkEAsK681DgIQpibBEFcq8/BrCuQQdi4icFAKOdBFGiywWAMDUAQvhhCsLD6QLz/3cEAp/jA2J1zwcDW5MCUV5jBEAGCwdBw48BgEybAwPaqP2jMssHQFDFBjIsyQoBhbsAAwDS/QBSRQPBD5cBgeK7A8ANQwXzQi8EQ8c9BvCrNQTAub8EI8x/BwPOywADCfEG0x/XBwI45QKTVKEKs9IlBbBCawVz9osEgz6lAMHmxQOji/cHIeM5B8KvJQIThBUIE7rXBAB4SQJjdsUG0YOLBTBG+wQDIGr5IqhTBoHDOwHBAEMHmlAnCEPjaQSheIkHEXr/BsD7DQRTTA8IQ4VtBmNNbQViTZcEMsofB8MhqQThfSkEwlA5CJAUNQlA4WcHAeajAgF1XwbQgmMG82BZCkJPSQeTrhsFg62PBgBhZP0Si1cHQ8YBBTDaAwRjOeMFo8UrBABi6vyD+EUEADYS/QPSzv6AvB0AAnnW+wAGgwHDXiMGw6JFBPCyiwUgiL8EYXM7BJG+lQeAJGMBMNQBCEOdWwbDKqkFYIQ1B0OqjwaAjUsGUNr3BRKnfwczh58HQsirBcCB7QVg7YsHAV+S/NBeHwVCUnUBgGV9BaNyjQaghx8HAARVAEGynwVBwxMEAXlzBYAdPQQAnLUFgpydBvJK5QaR5u8Hg9LjBQN+9QSjfEEFQByPBrAkKQtSuhsGg3uzBGMXdwSgEJsEIV3xBwIWMwWh6RkGQyVNBAKjAvhAJbkEofahBYFDJwRiJKsGwXINAAN7dPwBXy75oZgzBUEOvQLCiAsFk+4jBsKi5wLxgncFoqNnBwJUDQFqUCsI8N8nBZD/nwdTk18H07bZB0CXmQaBgZ8BEGe7BiEBGQcy2osHAXIBAzIOQQfB1eMGg69JAxCPKwdCviEBoi3NBvJfVQfygkkHwm6JBZKLYwYipTMFgzhDC0JlhQTAF30FA24/AQBnEv84ADcKAC/hAWHaHQWQSlsHAU64/AKv/wfBFAcEYA0bBJLeEQdC9BkGIHlnBjO2uwbAz6sFAaGRAYNoKQUBJQEFAsYFA2ACNQfwBp8Hk+c7BHJiUQYgia8HEW61B8JjNQABb6EFAXXtA6Nx1wfA0HsEg+gpAOJklQewgtcHwFr9AbErTwdBU+EHAfenAnCS9QcDhjj/wdihBKD/PwWAHUsC4IwfCEKMdQiA5HkHEidLBYGRMwKCbtkAAx/4+sOSmwFDZgkE=",
            "dtype": "f4"
           },
           "z": {
            "bdata": "QFPqwZOfOsJsRNDBAJsKwSFKLMJ4P9vBALngwGgAScFAuxVAnD0RwkAIOsG2uUzC8KP0wEhAzMEAGAnAYKaBwSzBmMFU2zfC8ObPwYDkyz8EPIFBWJQGQUzihcGT6DbCYBDlwYDic8Ekhd/BQGgNQbqVE8KwVQVBvnsuwhBMuMEQz9nBwGVeQQBzoD+4GJfBwMEWQPpoLMLAVwTAAB+AQORfDcKK+SfCSCcKwiBFMsEAFKC/wCwbwmjJn8E4PkjBwDDevzB7ikBI7hjBJNIMwuCSRsCQyJ7AMGLYwWy6H8ImTBnCgDfMwMBOhcFrRBnCQDTXv7DJpsF4QmXBRHSUQaB0vEBUXfbBRJ3/wWDF1UA0CMlBEPzMwSA+MsCAs48/3PHPwQDniD+QRmzBoC6lQIhV2sEOiHrCkJsKwpBCkEE8m77BYBsiwGiaL0EAoLO/sNtXwWA1c0DsWtrB2LcfQfDY08BgFmtAgEoJQBBsqcHInonBYGTTwfCoE8Eg9M/AWJnRwXAcxsE4VGXBVJsHwoCkub94PrPBAM8DwIAQFkGpKDTCeLFEwZTnxsFtqEXCHpsiwnh7o0HOrgjCZaJUwkBCesCSkQTCLLPVwawFq0EIKwHCwHM5QIBJ9kBQ+yZBAGaFQTiNKMGo06/BnIDbwfgaBsFA6sDBWlsTwkC6N8GQpUPBADeDvpz5ssEAfCs+wTwvwoAmaD+AK61BFPKXQbyht0GABfxAcJS6wABmicHM6LPBQFZnwbRu4sEUEYhBFNEuwmByvMGgG1XAAMGqP6h2BUGAW8a/QIScQPhw88GAkP2/XK+3wWnYGcIQAbHAH+crwqgPKsGABW6/iE5DQTDlTMEI7xtB/DDKwR5TDcJQBgVBgIVLwbjLaMF4cYzBCKNPQSDr2cBkbejBKMhlwdAP9cC8QcVB0L+BwPZbDMKYokXBHCe0weAcekA4aOZBAIpJQADyGsEAP1Y/CC9Cwaw7ikG+Pg3CABU+wPeXHsIZCyfCYLM7wOCScMGmmAvCZI3KwVjbxUFAzBlBOINUwQAgBL9olvJBMhYHwshsG8HsAojBPKqLwQDN2UBAew9AjCmvwYhRm8Gw74DByPLXwSinTUGA+fq/oJxWQCN3J8JIxTBBEE4awgC6fz7YoZ3BWKxMQer5DMKA+L7ACB9nwXgSZ8HgUJvBAOWgvpCl6UBwqATC5DWgweCc/EAsALnBgAg0woDwisH8v9nB0NSqwQzdQsKnT3TC+vMtwnAEIsGo+jHBjLHzwXSFpsG0SLPBgLEdQIAyyj9OYiPCBJzswSA5yEAgJkrB7H3bwfxyp8H4tzxBEBveQHzDqEHQPMhAwFIkwMD0asAQEbfAcODAwCYBEsLAwiBAUMfZQbBan8EAzBXCwGnuwYBYTcCI2TZB6Ggywcw4nEEAtE+/ON+FQXxekcHoPGDBf/tGwuAPUcCglJHA99wswhSm0sHgkdrBdaMYwsgnJcGsiuDBABaCweDbe8B42KjBkMb7wMYEAsKYN3ZBOF2IwVi34sGZxjzCxBzzwQRur8GuEALCrDOdwQBoMMH8/oPBENgLQXJKDMIsStDB6Nm8wbgNOcLAs8s/2H9LQfgFxcF4jPnB1GOUweAs+8B8sZjB+PwewgAIqr14W0DBFFDzwaAte8EKmRDCgKu1wGC4YMCo4LHBKV8twgxE9MEwK7rB+GY9QaBAwUDAB5TAcCLkwbBVOMEQju7BKC0OQQDkxkBA5hNB9vgVwvhfZkE8RPLB+DR/wcBGGMKYlkPCoKtFwUxH1cEYOgrCEIgKQQh/xsHAkb5BQAnWwMgbrcEQi53BNGjYwQDP9z/ArCzAV41LwqzOhMHgMTpBTE+ywcCc8T8=",
            "dtype": "f4"
           }
          },
          {
           "marker": {
            "color": "#19D3F3",
            "line": {
             "color": "black",
             "width": 0.5
            },
            "size": 6,
            "symbol": "diamond"
           },
           "mode": "markers+text",
           "name": "Cluster 5",
           "text": [
            "C5"
           ],
           "textposition": "top center",
           "type": "scatter3d",
           "x": {
            "bdata": "a8aDQQ==",
            "dtype": "f4"
           },
           "y": {
            "bdata": "FPQtPw==",
            "dtype": "f4"
           },
           "z": {
            "bdata": "rnl6wQ==",
            "dtype": "f4"
           }
          },
          {
           "marker": {
            "color": "#FF6692",
            "opacity": 1,
            "size": 4
           },
           "mode": "markers",
           "showlegend": false,
           "type": "scatter3d",
           "x": {
            "bdata": "dMzgwVKrC8KCW2XCWPZAwSzGhUEcsoHCqLVBQRDT6sAJvZvCQM8EQAbcm8IgR6zBeJbmwa+8vsLAFRjBwE0UQtDipUCk0onC8A2fwn4WV8JkOd9BjpKOwggh68F8Vv/BXMSeQTaApsJA8rfA9NGowoBzj8GAMVjBvCPnwUDsVUC+X4JCQCFqwSAypsJw257Ah85SwsgHmkF3D5nCmTYowqAKHcFOM73C0AIQQlzcIMLwZu7A1EhxwhoQgcKgGT5AFMDAwgAcnD1kx3JCdHrPQYyDtsFYTwPBwJv4wIDJIkECNoXCeL89Qpi0scFyDqpClPoVQlgc18EORMTC4LVkwDSWhMJCaRPChe9OwmRtt8H0x61CSGvnQeiyj0Jr+SHCg8p0whCigkC4dI7CiAp/wfCP38HN6FTC60Iwwq5nX8LMNpTCiP21wk3aI8JguIZAADhDvfT0A8Lcx4nBZlKdwo+im8KUC6hB1OG2QaCvskAgRflBntWBwpTYp8JNP5PCgMiswgh/LsIgFBfCcOk7wtgBFkHoaxzBQCBbQe7OwsLYqTPBQFU7Qqe0d8K4qd3BgAAhwIwKqcLL6ZXC8LgnwSBA4sEo83hBPAQjwi/epMKYUyjBcIcJwneEMML4tr1Blr6vwtgUz0FMdN7BYX4TwuA1t8E2k8XClI1iwhgDpcLJfTTCvMM0wsAhqsIc/IhBvOMqwoTJksJq6WXCOeQuwpAo4kB8apvC5IGJwfiePEKAnrbBpLm8wqjAp8IDWmzCgGKbQG5Zv8KIa9xB7Hlawvy+u0GghA7C0s8nwnl0ZcJAbzDCJleewrLgiUKCNLXCxXJIwqwlhEJ8JLBBCRW6wixfrMKskp1BQLdsQFIvhMJp0afC6jAowgBgvj+IripCRP4DQuhiqEKYj9nBeH5kwUSDxMFgzQDA820SwoCCeEGYjbjB2NvPwTQgUsIpnYrCkCgLQQJBgcIwAJfC3Nx0wiKWqMI2AXHCgCMxv74GGcK04kvCXOSnwUWMmcIAXbNAkPOkwCzJeELag6fCAIZnvlRpbcJHGG3CLNwVwhiwj8Ks/4JBQb5KwjEAPsJXGpzCEn03wmDGiMDQq63A0LK5wYBoSMAAOAw+QN7Tv0AGH0LjT2XC8r2NQpzhO0JQXJhAXs4SwmC8AMBAS37BuCf7QRRcYkLUX9BBRZMgwgxFuUG9eRrC7DbxwbD1oMBOAIHCVG5TwkX/p8KEspjCYcpTwsAlq8DA05vA8xwYwupnasJoNPFBFFCgwqQWrEGcF0lCWEZKwsTD6MH47zhC3b2rwvQKz0HAkbG/sjWMwoVeQ8Lop7jB7Gy0wmQvl8KlFH3C0HblQYWoJcJdI6DCOKzsQRG4OMKxZS/CdCDNwavpXsK4C41CkCg1wnxOGkIYEzlC8PgBwTiVfsKABk2/QNY2QSx9pcKIInLC6GY2wbzU48EArgY/UFWHQbBdlsCwU0nBbvhxwi9yMcKgf5RBuGyHQcjsm8JVLMPCTC1rwvcvxMLTjZHCpqmjwjCdUEGIXWVBft4zwqZsrcKLn8DCD0RSwmazX8LAsdhAeJXMwdOXjMJA0SxBbECnwu08RMKY75lBMMetwaQfFUJUchtCsK+4wGHlvsKoQiBBDJ28wnEmMMLkQAJCAHNyQL60c8Jd6rTC4OiMwshAGsFkyUBCIJDiQOg7Z0GAnIQ/4JKPwaA/HUGCpITC9PkowkcBbMLwNZLACCRoQWgzNEEQk/rAhn8Kwl6JCsI3uyPC8LWPQCHuv8Im18TCgOwqQGlsFsKAQytAcF9dQaR1B0IgipFBmM9dQsgvKMKwS6nBkEMlQfBTjcJkLrVBFJELQlCmKEFAMV3CDAYiQqwYmcE=",
            "dtype": "f4"
           },
           "y": {
            "bdata": "GgODQriNHUL05b9CAG9HQkABgEI4GLFCDEFYQiROaULIuFRBcNsRQThZDEJQKdVAgNwnv7QapUKcCU9CwOrXQWIynUK8m1FCpHRFQvD+dEEMBbxCgCHeQIShh0LEc99BsBxXQVrdgUKw5mRBnNq7QiBgOkBAZcZC1P2aQtwmO0IMBJtCNqGDQlA3bsHEzqVCZFcZQvx6W0Kw/HpCeuutQjwSfEKUHmtCzlyeQmZ/tULGSLdCiEkoQTA+JUHwL9ZBQN4PwLazwkK8H5VBkEFIQhx1kEHCaqlCdAG2Qchmh0KwM7TAFI7EQoyCi0EoYp5CLPsRQvj5G0IIz7lCFMe6QnDXAUIksmdChJQfQvAOF0Lgb+RBstWVQkDY6EF4pJtCiCNbQvD7RkIAOIM99PuSQep1vEJ46RhBovWxQgDfoj9ktLdCWCaJQVyflUKKqKFCSKwgQahrIUIyMa1CCNY5Qjy+jUJQd3dBKhu+Qhy7gkFE0iFC5KIfQgCTecEAMDw9oP0mQtjwxUHQcVlBcJIZQQALQ0GQjhtBIFt/Qmhmu0FEARBCcOOAQgxepULQw7ZAvnaLQoibSUFIY4ZCEFOOQBQ6RkIM7Z9CgMSYQmzwKkIg0GlC9DO8QSCzzEF6nbRCSKrAQogSDkJsFhtCsA2uQVQFeELAoIFAUNWYQgDytT6UAolCeKh1QpDJa0Luqa1CMLn2QQoVhkIwSTNCMF3PQeimw0IcRFJC9hOrQpAMdUK4P8BC2Gr1QZ6OskJ4FbBCxOYBQvYzwEJ8cE5CRjqDQjbShEJgQPFBYE89QvIyjUKExKpCcE9WQmD7j0I2gJhCoFajQsAK8UFYn3BCNPg4QvTPqUGEqL5CcCscQUwlCEK8GyhCgjGBQp71hUJMkxBCRK2dQfRDR0J6OqZCGIp2QtAJtkHkCjxCvuaZQgwJvUJk5gBC5J+DQuD4ocD8W4tCcNVsQii740H8ZIRCwAzfwGSof0LAQ79BmOPqQTQ1jEKA31y/CCbgQR6Sx0IMUoNBKlvBQnhjUEJsnphCjFuMQkTOnkKAHeS/XN55QpgKr0GWk7ZCPpuzQpw5aEK8qCdCbGmfQW6ghkI4vVZChMabQgbwsULgy+dBgN1OQvC7+EHYgLVC4E+gQawcsEJiYqxCUFr9QWjTBUIM/YxColGaQposrkII+wZCGvm4QviNREJURsdBNhisQoQxnEFIkqFCWAbwQUiPi0IQtbhBuJyNQnoCq0L48VtBgPVoQdidUELk+1BChOcqQszgqkLsOIdC2jCsQoJGnUL2G4RCkl6vQkxMSEJ4wmxCIM7gwJiDt0J8N3JCulrHQnxczkFIDbRCCDksQlidgkIAyf4+jDSHQoS6c0Ke/KtCbIGkQtbemEKoRKZBAMeXQijpJkJkrNhBAIlWQg4uukIkAjlC+niRQqAq0UFEpStCZICtQgTX3UHAOGRBAIHMQWxTZ0IEGy5CVAbOQeRToELo6zlCBI20QWzNIUK40yhCWLbFQgxdwUKQ/ApBMCDCQQSsSkIqh75CgFu9wITUH0JUjjFC8AGLwAqmgUKAFHxCEq6OQppahkKwvy9ClOR1QsBCHULU5iJCBEcDQtAP+UHwQp1C3viFQkDkxkLwzPlAIK8mQgxeH0JUk1VCCNEdQjgoNEJoEeZBDvzCQhxnMUJAlz5CWNDXQTLyg0LCmZJChP6KQjD5m0Cy87JCyHUIQTgL7kGgYrhCcD8OQcCOukK2vMNC/JlvQnjlCEKIEB5CeBv0QcCrxkLA/KZAFIqZQlgMg0EgcgVC/H+BQUg7IEL039BBnHB8QgyWzUGOo8BCAHRfQaByVcB4qkhCDFilQcAgw0JIjSdC7BUrQspigEI=",
            "dtype": "f4"
           },
           "z": {
            "bdata": "0Cm2QOyMFUKmEZpCBDlBQsD+N0IYCg1B2JM+Qjq8wEJgO0VCUim/QuLbqkLkDohCNO83Qoh4pUKQNrdBtoekQuarjUICU75CbNQUQpbIpEIwZ55CJj+LQuzhoUL0onNCArCZQtDlq0HYf1tCMGeFQtqom0LIOGdC2HXCQuROMEI07LlCjFhhQtRsJUJQpvxB4P5PQVrUmUL6UpBCIHVXQgDct0JERdRBRGBoQlBmakHY2ptC5BlpQtZ0nUJEHrdCtoa6QjR8gEK8lKJCwF9JQkgQM0JgXiZCCpK+QsLpokI0cZpC5qKiQtj3Z0KivsVCGOGRQlgfOkI0OnVCSvvDQm5SqkI0sLlCfoyJQtyVVEICsbpC9CChQnwZlELgohFChCeFQrxZgELIVW5CmF21QvDA30Bmk61CaCsvQurSq0JgkcJBcOxyQmxquUIwIf5BzBesQpAeR0I8tqhCzDgHQiSpFkIQybxCujmKQniJTkJW48VCcNwiQqLcvkK8lSZC3CURQorIxUJ4ur9CNLyvQm7LokLkh1JCBJmFQmCfikIwlTRCpAZ3QoDeTUFYS65C3LClQkBgAkJIkJlCLISuQhw0MkK438NCoDWLQqqQpkKehL1C0OeuQlCXAULYt6pCGB2ZQgz4n0IsB6tBDKE6QmYzg0JeDMFCWI1+QliiSEIwkGhCgOeLQfxieUJEy1tC8DyzQQbKgkKgoLFBVIufQkSnIkJUnQJCGD/hQYBwmEJYDgJBzI4VQjQIe0LMqrJCtjejQrgqSUIs7KFCeF7FQnScgUIwR6RCzNyyQRCPRUIUojdCTqe2QsqxtULkz01CmLcVQbiYx0K2t4xCSOEUQuDUT0JYkkNChnGpQrxJ2UG0DkFCmDFrQiq6hULcVbxCfLi0Qprpv0IorWFCOFioQsYmkELAbSpC+Lu9QfzwL0LobLBCoO2YQECLfEJoSK1Ckhq7QtbVv0IkSRlCAhezQlJ7pkIMK8JCCKVrQlywhEEsY5tC8HjcQRhW90GCALpCfF2AQipLqELYDRJCoLDzQbYBtUIc/QhCCDk2QiSVw0LMHYxCXG8oQkwCt0FcZFNCMP/yQTRgnEK8y0xC3kmVQtrLo0IuXLlCkEOUQWw8TUIgl0lBKpGoQnCanEJoYfBBEr2OQvi8AUJwXSRCLIafQkoOrUI4bS9CrAxdQqzVoEIOw8NCxgOhQgR5OELYbkNCNHCOQajW30GQ8aNCVGRTQgSFEkJSip1CVNoeQjD1gkIQzE5CsJCRQuDZWEL8VqpCJDBZQkQ6nEJo65pCjG0KQlC7N0JovZlCBF4QQhhYgkGqTJxCQraUQkSywkKkHJZB6paEQjBu10GsUqBC2GhWQkp7okJI/u9B6AdmQpjBh0J4BpZCpLueQiDza0LYC5pCVA+QQpyhkUEcfodCKEcNQrQPq0ICTKtCcuiGQiTMJkJgUaFCDPyLQixAxELkTzxC0myGQjQrNkIw38RC/LNdQhR6hUJ4pu5Bcm+tQnDMGEKsaAVCIKdeQrRkrkJAmrJCdMmLQs7IiUK8IyRCIF+pQlRxX0KUP35C3CcLQlb1sEIwfKFCPElXQsg9tUKwx1BCUAqMQgi+vULU04hC9EVTQjRnhkLwZX5C0Ja7QmZMw0LgWH9C7IATQoh1r0IMuEBCkDr8QWxtfEK4i2NC4HOMQhaDuUL0rCtCyFCdQuyqi0KSv4hCepCCQkBmgELEYo9CrKeZQrBNh0J0Es9BwIl5QSjzrEI4HzFCFIuxQpDGg0E0lmpCCB4zQuCYiUJseZZCnAlZQpjMg0JoajlCALW9QnB6vUGQLV9CWO4+QlhcAkLYDWtCoJu+QgJkqUKyur5CxsWrQlBwvEE=",
            "dtype": "f4"
           }
          },
          {
           "marker": {
            "color": "#FF6692",
            "line": {
             "color": "black",
             "width": 0.5
            },
            "size": 6,
            "symbol": "diamond"
           },
           "mode": "markers+text",
           "name": "Cluster 6",
           "text": [
            "C6"
           ],
           "textposition": "top center",
           "type": "scatter3d",
           "x": {
            "bdata": "32TiwQ==",
            "dtype": "f4"
           },
           "y": {
            "bdata": "CxlKQg==",
            "dtype": "f4"
           },
           "z": {
            "bdata": "2u56Qg==",
            "dtype": "f4"
           }
          },
          {
           "marker": {
            "color": "#B6E880",
            "opacity": 1,
            "size": 4
           },
           "mode": "markers",
           "showlegend": false,
           "type": "scatter3d",
           "x": {
            "bdata": "TwGJwlDu/cFwSsNBSIspwYDH60BWlKvCwB5mQnIVp8LAv95A2nCMQtFvsMJQYOjAltWmQthfPULQ0pzAPn2TQjLEqULBjY3CAAoYP9NBnsIko7xC4EPOwRiEhkLg7QTA6D4+Qpzvl8GUXXBCnfeOwqFsmML3zLnCoLhKQaAchkLI4onCsLo5QvR/vEII9+VBAFAKQfyon8KA2B+/oKN0wZIZecJYtkRCTF2AQlTKxcFGH6ZCVDiRwsAHVUEw25TAkPZOQbvzvMLAR25CoFJGQlCTvEI8ZE5CqCadQriTdEH4lFbCXBNHQkCIPMAphZTCMaViwjClmkJ8QLtC9giZwiiG+8GjtinCcBaeQi6vxELE0CpCpsrAQlBE9sHdTrLCjEcPQroqk0I4/ybBALouQhx4zMG+kbNCfJ8OQpm3WMIMn2pCoG1vQrqkgMLN8SDC/JXKQcjLGUL8/I1C0OazweZ2scIwMSPBhJ6OQuy0psLISDDBZcV2wpgrpEGullPCyN+gQZ4GjkJwJ4hBOJBXwcl7qcL47ePB7BpAQvxH/cFAPZVBNkCaQtWLs8LIzojCxC62wSiqc8Fo7ElCcDr0wM5bs8IT4nzCqIo1wnhCdEIg2ivB2+6GwjjShEGMDIhBZQ6bwjz4K0Iw+B9CzMo+QiB1osApnU3CaH5LQrCm/8B4OHhCSJxnQmr5usKAR4NCgPUYQs4dwcKkkavBLwCZwhikJUFk7PDBon51wsCvK0HgSJtBqHdrQmBZoUB6DbNCUGT3QZj6FcErnnvC9ouNwri0R0HwjNtBIHekQSJbnUJADStAmHnqwYwwOcKYg1XCttQOwty3mUF4Y/7B0P2wwPCmv0H4DjXBAOpMQVyWt8KwNItCKDYlweZfRsKYSKhBiae2wqXuwcLHzizCTAFEwrl8rsJA//vAOIlFQiEebcKk7DNCBpaMwn5hskJOJZbCkAC8wIqOxEKuC5XCytK1whKOwEIgRZ1C+JFewYi9jkJIMg5BMiSJQqhBY8LcRYRCcIr5QVAEI8EA0StAoHEJQnisKsE6MzLCUDCqQgAArzugnrzAF1hXwqP1XsIoyEFCVBmdwu36u8IiqsZCfPefwnxz2MFQ0x5CwIRMwYA1i0A0FUpCAADFuwr9hEKPy4/CjmhmwlC5J8IoFkfCvI4bQiAmcUBIoJxBTGSBwciqIkJMJcrBuBhDQax1I8IIEHnCT82/wvCN7cEA1No/gA6Mv8DJu0H4eyLB9YykwnohusKIjkVCZAiVQvzEqEIC4UzCismiQggtHkFsYmjCVyOywhhcVEJQitNArMchQkxUl0Lg0pxALNQ/Qn5hi0IAVajBCIMjQo+dQcLtcVPCWBS6wtjfIsEwwhFCPciLwtI3l0IgdHfBqLs6Qhg9BELg5etAnHFQQuC3gEJ4RL1CcC6dQj0NisIT527C0NgqQtimSsFo7VFCUOKWQagBBEKENFZCgHlQPyAnb0JyDo9CfV6cwn+9iMKK/IhCfIisQfXGdsKQPX1C2AGEwmozu0LA0cDBoIBkQsyxlEJAdC5BvwauwpCb58B8AJ7C53o/wjLThEKWL5ZCFsOaQuztwELQ+VXBdhqrwk7ww0LAXcfCdPocQtAE08Fh7MHCORUTwqDrb0GINonCo0PBwhCjlcBYLWLBTg6LQoBxNULMAWpC2nagQqiVX0FM/LJCYHydQsg4pEJU/RNCEDZ9QXSL6sEoVF9Ci4QywqSSY8KYmaNB4Kj8wHiaVcKlzKfCUpUMwhibx0LQWIPBkkmXQgAyvECOJa5CwdibwoWqsMImxaVC1FSPQrg89UEQpznBYI8JwAzzp0G4U57BBkGRwrDW1sHNXaPCIzCIwtgmWcI=",
            "dtype": "f4"
           },
           "y": {
            "bdata": "qA5kwU/kGcIA+au/OJCYwiD4fcH0b7jCABhIPt93tMJZw4zC1MmqwmgMwsI0q6XBiJCcwoxGgsKKni3ClGKXwTTwi8FY+xTC6Of6waJ9j8KQl6jBpMKlwvjdNkEor+XBMpF2wvD348DUjULC05pcwvTmhMJH7IDCstcIwghYBMFQLGDBADC6vtI9tcJA3rC/DOK8wdKkj8JgCH7BdLbWwYgK7MFrWCXCNetTwnD/BsE4MwHCFUAjwr4MPcIfrL3Cwae5wmgoqsEmmb/CYORcQefrp8KsR8jBIClAwADZcj8xJiTCMINZwsPfxcLKmB7CkiUAwn8QmMLAbUDB/ReXwrytlsL57VbCOMkTwUyEjMEAouE+0AdewRj2W8EC+xnCmnWuwojUUsEP0J3CLwOYwoCSTcFq8Q3CwEi6v34Xo8KSlgHCVb9GwtDK4cFACGPBzhPEwpIiqMJw5MfAd+x8wvRxLMJ5aXDC8Ly7wJ/jgMJ8n8PBD7CHwp8nWcI5dJXCEJ8jwrgJeMH0SP7Bfz2uwolSsMKOM2fCnAZHwicDv8Jr7UHCEE2IwoySDcKiJBPCfDP0waj2gsJqKpDCG48rwmKhmsJ/DaDCLiG4wjIUfsJgX0fCOn57wgwutsL2h3XCT6wuwpDPqUB9v6PCYM3RQOFhk8JYcFvCEuNuwgBidr+R15nCDKhtwtjyZsI0mgvCYDqBwkeUiMLkCBrCfN1awsDC0j/oBFTBQSFrwtaNXMJrnaTCz8QowpTz+MGr2C/C0jOEwjU4NsJYHVbBJClmwvoSGcJgpbfA2qm1wtxrC8K2PV3CTCeNwZXVpsLg7z/BwEWVwWidbcHg7M7AawqSwgACqcL4g4DComGQwsAS0cHGssTCHGKPwXCpl8HAOi7A+JmqwbH/n8K6TwLCgI2IwigpxsJIYSTBddWgws76hMLk2aXCJ96CwmB5tMEl4GTCrLOEwQiAi8IsmdvBhXTGwuBayMG0+Q7CxH+OwgBAtsIlozrCALXYvrRwzMEwOUDC+yKAwoClKcJkhLXB5EWcwdBNVMH7PS7C8FqMweAuHcAE+N3BixNQwkiaKsFo0x1BmGKYwsUFxsK6VwnCfKd8wrrFgcInr0rC594UwitwGsLlbJPC1HGOwV3/m8LzlKjCNRQvwlyAu8KQ/0PBAHVkwYg4aMGobY3CYoyPwpH2pMLw4zvBMLlJwV0SVMJo8FvB+cw7ws59nMLSlbrCN8FkwpyRBsK2VYfCeDbawb64isIMJ9fBMC+fwmCxTEDVNDHCniUHwlyGvcIK7EnCfSpGwqLtrMKK9cbCFAWrwRh4Z8GQp+TA0SmYwuVJd8INz4LC58uVwufltcI8nMrB6DP2wTBcw8GA2l/CCxs9wsrrI8Jw7QXCsGffwe+NuMJW8rrCYu02wtQ9isF8kIDCMD1pwiwQbcLyG7HCkskBwjPdwMIrKKPCAMn6wCxUtMHAC9g/AqS2wuAD68GdJXHCqGgHwpj6osLQP+BAQOefPzwxosKRTDvCiPW6whDzB8JwYfvA6J2QweB9ksERcLnCMrZFwjKSIcI0Pu7B8t/GwuwGwcL844HCcJV3QdDwHcEgmojBpPOLwfDnvsHutZ7CyUlGwolQNsLirG/C5L+mwtDePMK/vEbCyGDxwcLJm8KAR9rA0OecwiS0uMJvPS7CqKJnweCbocHYl41BhreFwmQg6cGAO6DCSr1VwlShosHR2hzCCd4XwqoYvcIAvFq+NOYEwjy6jcLYX0TCo6wVwjvut8IDgqzCmJ0jwRYWq8JUaoPBHD1ywj4RnMKwTKNAaMUCwtofuMLpT5HCEDxowrjNrcEr71PCY22nwpDIvsL8a8PBaNeYwUiUmsE=",
            "dtype": "f4"
           },
           "z": {
            "bdata": "9G6aQpi9P0LeA5xC9O2nQozWdULKJZhC6ADFQmIOt0IIqGFCBCu+QqgCdELcen1CytPHQuhPj0KccmJCyGqvQgSLgUIi28RCsgaSQmjqMUIcn21ChJYvQuQzlEIs40tCBA8xQpj3RUIqr61CEJh3QlCmmkK4O15CeMuyQrZuwEJaLbxC7suQQijAp0JMF7lCJPVQQnZun0JQXCRCRDS7QpAOEkJoo1ZCmOGkQkiAfkJEOVJC8AkKQvRRHkIUwklCDHuyQiiDLkJuRo1COGRzQriht0IQ061CprWzQsgnxkJuj5RC9J9nQqz2vELoulVCnIMdQra3pEJ2xYdCILhIQgRkLEIG5YZCyu6eQu5BjEI+p7NCuMKTQtQaVkJWApBCZPyPQri6i0JyrK9CuqOcQqomg0LmL7ZCtGtIQsxlMkIEJD1CBFWOQtD1q0JceSdCVi2lQgwSa0Lwjo1C1FpgQgwZwUJs6C5CpLE+Ql7qikKI6GFCnMaJQsjesEJgR1tCqNYeQvpuj0Lq/alCTApJQpjKW0IQoZVCENdRQsTRl0LYoTpCKoaFQpQWnEK4+IBC3vC7QgibcEKWfK1CsseaQtgvJUK0l3xCZAyhQp7In0IaRr5CPDdRQqSIekISHoVC+v+OQrRkhEKSzYlCWASSQjzjQkKkHkdCckKzQsRPtEIwfnlCBNG7QnrFnEKokaNCwM27QggerEK8L5ZC2ouBQmgBgkJUEr1CjoGgQhwdL0IQdaRCxEkkQriMm0JubaRCbGJxQoyzBkJ2ZptC8ADpQeiBcELM+IpCJK6XQiAgV0JwbgdC1NSNQnodmEKQYkJCLIKtQir4pUJM+kZCqGqHQmDyiEIoxWlCcrKvQkakrEIuPZpCdHEnQlAGF0JQ+Z9CnK1KQi4QvUIgjVFC6DEDQna7r0Kk8sFCrIqxQp7lkkJMBaZCpB9dQuRvoEL8X2ZCXD6xQkDZuEJW3IlCIDpbQm45g0L4nGlCLkK9QgKIwUK8bZFCcMK0QsoDhEJ2DMVC+oi0Qm70g0Ki3qhC5F8sQhT2HUKw0sZCAMGdQqJzx0KY/KBCnMqUQljtvEJSsrlCIPfBQpwHUkI412hC+BpsQkjSwEKkocFCLHypQmA6T0KkK31CIGmTQmDaZULwmClCPLhpQnTzTkJ4FWlCVJBrQvTJvUI8pK1ClPkWQlgYk0LGdZdCWL9mQsCvV0J8pktCgC54QiL6kUIoFoZCho3EQigtJkLqvqtCWP6/QsAq6EGY5zRCvBKKQvyngEJ49SBCJvmKQsCZgUIWn5VC9MWWQngJukJAHHNCaICmQoisbkI87p5CAIGlQkA7lUIcUsdC6FKCQjQOoEKIOCtCHnC1QtzCCEIenIRC+AvlQSBIIEIgoIhC8nSPQvy6oELUt8VCdp+IQhS1OkKAVHdCCuWSQmgmfkIEUF5CGIy9QroZwUJg471CZCxMQmJCtkJe259CRt+pQm4nxkJYuLxC+OJrQjYQokJ6R6ZCLoW2QjYPjEKejJRClFm3QqgIfUK0RqJCel+QQqgYOEKaZ5NCoFdzQsJ6kUIG74pC6iSEQuQKmEIWJrRCEFazQuB3g0Lol19Chq+QQtB4oUIUGF1CdGBpQjqTsUI+p59CCuKHQqhuXkIcXRJCyniTQgSLgEKQF5pCnGVkQrSCpUKcDUVCuDCtQjjxYUIiKLxCeEdpQkz2b0ICXKNCrg6JQtpvu0JEpYhCsHmBQmzRPULivJ9C2Bp1QppjkkI85pNCZNIdQhaphEIs8l1CeFS6QnR7x0JSgMBCXnusQkbnhUKKmalC4AJvQuSTq0IqdopCGJiBQjhVe0KUuQlCYCQXQkZpiUIgUWNCJv2bQlzOEUI=",
            "dtype": "f4"
           }
          },
          {
           "marker": {
            "color": "#B6E880",
            "line": {
             "color": "black",
             "width": 0.5
            },
            "size": 6,
            "symbol": "diamond"
           },
           "mode": "markers+text",
           "name": "Cluster 7",
           "text": [
            "C7"
           ],
           "textposition": "top center",
           "type": "scatter3d",
           "x": {
            "bdata": "BBr3Pg==",
            "dtype": "f4"
           },
           "y": {
            "bdata": "YDJAwg==",
            "dtype": "f4"
           },
           "z": {
            "bdata": "yGSIQg==",
            "dtype": "f4"
           }
          },
          {
           "marker": {
            "color": "#FF97FF",
            "opacity": 1,
            "size": 4
           },
           "mode": "markers",
           "showlegend": false,
           "type": "scatter3d",
           "x": {
            "bdata": "Sg6owhkDg8Jo87LCaxQvwpi/x8Hk6YTC+heLwl5UgcIExZDCRrF7wkiC6MFlMJ/CvDB8wur5DcIAetDBAOEtwvRd4MGVPZHCGumTwsQMncKAbJzCGBNpwgD/vMH4tTbBiF7zwXV8ncKABm3BpKTNwf9ZL8JltRfChJPqwfsRUcKshd/BKfDHwuIPQ8LUY8rB+9eUwl+EUcIiaobC8bUTwjwZtMHKMcDCHjwNwmb0xsLSm4bCfTjGwrecVsKSIg3CQJViwJTAD8JyvL3Cg68vwiheXcHtS8DCT8w3wqW5ccK0n5LCIxuKwpXZv8IyJ4/CeuqOwhHZUMLX/RTCgKicwerTf8LJRh7CamCSwhOnrMLMou/Bt6KuwnJuu8KvLMHCzGqfwjRl78FGdafCMCiRwqBsvcFfxqfCYMEWwb4pjcJQlunAAMF/wrNMdcKaGILCMI2Yws6ZKsKq7nXCgsSlwhBkhsIxoFTCMC+awVIgwsKRRR3CZUmDwgyU2MFA8unBmS98wusIYcKeH5DCVxluwtCfzsGnk1HC2PTbwVCtUsEoTWvC6CffwTJYvcLgObbCfS9Vwq6yd8I8vQfCs5xwwhYBnsKACjLBfWCSwnT0t8GLkGrCrXhmwuw7k8KMmrzCTI2kwdejY8IkOKrCul6UwhP+xMJbMlfCgOO9wiQSgsLGb0fCiN1OwoINccKlmkrC2FYBQQGQJ8IAKQHB6MO+wliAFMEcajHCuxK3wrxb7MGYZtLBMpSawl7sUMLLVHzCmyRawl4Xu8JGW77COiuFwjKKLcJ6Q6bCcdurwqhzlsLeK1DCiOtuwoAJfcLk/ezBgaN8wj9GZMKdULjCWjbEwsJeUcJoFzHCeSs8wsNkv8IZkcXCHEaPwr/HkMLVn43CzLnbwSQI9cFyApfC6PSMwTYriMJ2CKDCJbNMwnkBFMKWcJHCKOvgwatpk8KAmLfBEFJ2whTrjcE886nCNI5wwpCYocJckY/CkCQvweHWpcIZ92vCsvcCwhhsMsG4gcTCzJCywnu5hcKYOADC3nawwgOXscJTnaLCRTK3wrX3c8It1b3C0AAVwUaLh8L7RjvCXVJewnVFLMLRyTvCRgtDwqP9vsKyzqrCbAeEwvFEa8LtYUjCVPmFwuaqgsLoBHbB8VG+wkxVocIHC7rCndtcwhnLlsJamKbC88bEwr17x8LIA7rCGS8lwrArk8JVIS/CR22CwggassEuBbPC7GaEwlASxMLHYqbCFB6NwodlusIMbijCRCcAwuQToMLU1a7CgshIwnoObsK4KTHC9puPwhwuwcKnSGPCdDr6wb+nHcKopYbCsPdywpkmF8J29bHCGxigwkp1DsL7bHPCY5WPwoLDC8JAqBLAL6GcwtC/kcLwM4/CbZKrwvA/ccFjH7zCcdwVwvttj8ILUSjCSPwawiD7wMJnllbCp6iJws+OT8K65bbC2H2rwUD0PMEUovfBBCKEwhwPocE8yufBlGuXwjS5VML0UCfCOssNwjD5oMHv+MXC4pE7wh1kT8LxSV3CqF46whLzIcID/ZfCWBP6wY3kiMKqSnrCpLsNwu4gA8K46AXCvFHCwnIHRcLAAbrCbHCYwqvCLMLfkXPCgnePwnoaccJgDPPBGXBbwg0vf8JJEqvCquGKwtQRtsLgRqrBTK/nwQA7gcJoopbCmfavwrShr8LvkMPC7Ri9wrgrDcKjumfCIAsWwWuPZcIgpLjCwN58wQCQasJKG8fCxAWWwqUeGcIJG3TCIJGWwlzl8MEcIOnBNoeHwnVLlMIwW2PBPPO9wf56BsLpWR/CiBOxwl4sfcJ8tJLCVFKuwngLHcKc5YPCeOnVwVzy68EIjKnBnyWtwjWnFcI=",
            "dtype": "f4"
           },
           "y": {
            "bdata": "sN/VwYBXsUBcLRJC0DKpwGDGLcFMTgxChJxGQhhPKkKgfkjABMCswZiCd0EI7CjCAAg2wUjQWkI0zyhCSKk/wR4Bh0J4AGFClEi1QhCT/8Gw4UBCPCGLQtq2m0J8QLFB8hmVQriQVsHeTp9C9D8GQhAV5cGAbYZC8BigQUJEo0JUpLZBcH9MQoaOiUIggOFAXimSQgBW0kH4oIdBaCgNQjg62EE2ZaRCHDaoQu45nELGRalCZt+CQgC1Hz8AMyJBHCOoQbiNh0LA3Zw/xpXBQuA2HUKg/SzBUMKDQkQ+Y0LwrJhBTKClQuShj0EcPgbCtGWGQjAYvkIMYZRCqBz+QeDDfELQDMRCsBTxwMhWiEIkCL9ChHBOQob2EcIQ3BBCgBECQdBtuMDo9j9BVJW6QkTthUIg1H/ALMkaQiIImkIwKYhCMAybQlhyzUEQ7yTBuLtRweQLbkJS8IZCYP4fQgxjo0HACUxC/CY6QiAEqEJo8blCTPKEQc7stUJoV/xBINM3QkDQ0EDslbVCPK0DQmjGOkGAewa/AArQQAAr3T6EWZhCQKzBQvRww0HwkrtCiJ2AwXjvvcH4lRNByHmsQjAaskIsS7BBxBfAQpC8WcEoEiNBqOWzwQp9l0IMFJ7B5iyAQuQCT0LMGAdCOHSkQSgdJULYPbjBQGN5QQBWV0DQHatB8q6GQnB7YEHI9llCjDFFQjKwrEIA/XZCoI5WQkAJ20E+X6RCOCczwYL0jkLcEK1B2FJAwehBDsHCubpCMBdtQmh4vkEsv3JCAG+dQLzLA0IQUPpBRgoGwggCqkJQZodCRo2pQgDcX7/mmMFCaL/lwW6vmEIwcVFBQFbpwE7PuULgvttA0EMkwXgHjcGAeTNAcE58wbQvhEHwOJpAVHOBQjD/jcEA3ns+6qmTQvi3ZUL2ga1C1FGoQkAQkb8YQknBZH/MQRAiTULQ7/ZBsKa3QnKsoUIQDZVBkCP2QTxBSkLuxplCuJOAQiAw5kEAsqtCOgnGQpAyjkFgwV9CGEsUQvLNC8JA6wRBrNGBQiAyB0CAi7hC1ASUwYCowMBk4LNB4Fo2QkBjC8Ei8YVC1mWIQjxzXEIYxbtCwO8LQiBag0Fw/tvBwNtXQWBaL0IQ6WjBkfobwhAKgcGQyONBHE4lQuD/NcCQlKfBrIFTQvIfqEIwmzXBtMBjQhDbncC+hUPCcBrFQvAJFUJyBp9CsOFcwZiwWUKQrIlCUNtNQSQNtEIiGI1CoPnSQUwaCUIQv8VAqAFDQqAwSkLgcEjBoNmZQUgxJ0ISb5NC4ClqQoAV9sEoBKnBoHerQLBjQkJgC3/ASBJdQtATfUIA3BNC8GykQqAOxsBUKYZCsAU6QQAcdEJIk3hC5KrCQpJ5hEIsUi9CNieCQlCrjUC4ZRZCWOzwQRi8+0FkRk9C2NX+QV59uULImUZC2E2KQqziAEKOp4ZCuOgAQQwRo0I8pMlBtNyrQTB3gkKA575CaPIbQVi8uUL8L55Cxuq4QkjR5kEw27ZBoEArQNhHlUEo+GtBdjOtQnidSEEg761C4NwVQqgDNkHwnbtBrm+UQoIYmELoozdCGAMzwVjFWUIQlnBCAP8TwAgxTkIG+7pCXG0oQmwvwcEAgPM9nASlQghgjEE4+k7BvBPOQeCpjEAYh2FC2LFBQuilg0LmOqtCSHzlQQCYET6AFqs/LA7TwXoTokIgAS9BBLdwQthwrEFkgjFCmh+dQgzGW0IoTj7B+CMywUR2MkJA7nxAPB6TQc4RhELQypPAQGsOwLS6rkJAFapCXrabQiCLtUIQPpFBQFG3P2hV9kGAQGBBjPWrQsCcccFQ01VCgGXkwCBakcCMSZBBgDmTQYBkRz8=",
            "dtype": "f4"
           },
           "z": {
            "bdata": "bBCAwfMhm8I3Fx/CTja9wjPyqcJgBrzByshGwl5mq8LWN47CaFEswTKBQMJwOhNB/szHwihnAsHc8w/CtvU6wrqyl8Jv+5rC8M1RwQCF6MCk28XBauGDwqaRucKDh2DClXm9wniJKUFK1bzCm42nwmTK0MHP1XPCFUu5wgZSXcJVXIjCLUsYwlyg+cE5AT3CbJiFwb56gsKCg57CoKRxwbrjhMIgGoxA+DXewWYPFcKH/KTCoGxlwpDnQMJIWMLBFfyJwgdDtsI4qtFBYrkPwh43tsL4NVXB48pcwneqZcL4k7fCwPgfwZwzqcIYoiDB0NuFwGUaqcKiRC/CFnfFwieMqsKCS1zCxAGLwij0ncGLDFDCAL7QP8gDGEHcQ71BA2eSwgr3d8L4ZPfBojlJwtC5q8K030rCHIipwvrpusINA4vCwKuCwlZEucI07GXCzLm8wiXyLcJkvM/BnqkDwiT54cGJosLCfqjHwtxTqMLq/5/CtIRMwkC78sHw7DDCmS+1wgAtTUC2mqXCZK31wf1Br8Ina1PCmJTwweM0m8IUqMjBahk6wkA5nMCYCmBBs7QhwtD1VMF03A3CdOBPwiguCcKqWknC/Jm8wnoojMLgjRXBsPRvwYCWy8EIb2dBfqI5wsyabsK+X3bCiCxQQRAFYMG22SLC8Az0QR6yicI2d6DCS9VewpiatsLc7hrCUSXHwjmdacJsVGPCBN6BQUFxNMIJbUrCGEqEwh6VT8LfwmLCmHDbwVsVm8KO2hXC0N2wwW8ZMsKA6D5AnC68QWvvaMIIkY3CLO6LwRjIE8ItGjXCMVR/whv8r8ICOFLCqLK4wXCzIsFwzAtBqzpawtc0v8JwkaXAr2atwoAI1cBQs6pBaOllwUC+g8JTJDvCcJmNwKjeJ8IttBDCwMWEwivER8JYYITB6/9jwhDQ48F8pZNBJdWFwpyW7MEQvsvBVOyZwWWGcMK2ipvCCyEhwjc8ssLzPSHCoLmMwoyNgEHAj1LB0RxCwhwbjsKOdD/CjPy5QaBd3cFLUmfCEPqrwYBZV0H673jCIPAcQvQBucEQ+stBwpyYwlmGu8JciSnCHA0NwljWlcLA+UjAbBFdwpmYHMIoupVBnkGiwmxGh8IoeR/BwEOKwFhZ78EzGXHCDJvRwVziY8IYXoTCZPLpwaDGuEBAokTASSQuwpocP8IofnhBTQQiwoCci8Ch3knCcI2QwmfYPMKUInzC/IGCQWBySkH2Pw7CYiq0wmDXLcGE2X/CrMDDwmd0t8KAatm/k5B7wkCf98HmCzrCZ18YwthfA0Lq/gnC6Bolwhasn8J90IbCMIeNwv9pj8IoE3bBkLjpwBKMSsI4Rs7BeIfDQVjXTsICtbPCVioswgAgzb+AEW9BVZ5Dwkvia8JQLEnCOH26wUBkwT+eYovC9Dq1wWisKcLAN98/em1nwgD9M0A0mTjCDVMYwkKMpMJuNKfCQjK9wg+ZnsKrlrLCRRy+wvFtNMKoRhXCRduYwktfjMLwctHBIIWewhT8nsFwTL/AQnoZwtNXMcKxvH/CUO0/wohGVcE01irCTtguwkbxm8JOHAbCFvYPwlA8F8G8mqLBPfq+wriUQ8HwNGnBSPU6QUgiJ8EX96jCMLq3wUgRvMH79SjCAAwuQOjr00GUIq7B9eqlwqRxlMIO+ojC4NedwMulgMJB8I/C6JhswYRhD8IFKxXCCamQwiBWEkFserFBSsaewtVfXcIA1DY+UBagwj5smMIXyk7CDH+hwpZGh8KIP3bCdipzwkZtpcKMtZbCGCfZwatPfMLEJajCIKGZwNwKqcLgsAdBncV0wkSOmMIg7DVAaVK/wv3jw8KuPyXCaFMZwZsVvMI=",
            "dtype": "f4"
           }
          },
          {
           "marker": {
            "color": "#FF97FF",
            "line": {
             "color": "black",
             "width": 0.5
            },
            "size": 6,
            "symbol": "diamond"
           },
           "mode": "markers+text",
           "name": "Cluster 8",
           "text": [
            "C8"
           ],
           "textposition": "top center",
           "type": "scatter3d",
           "x": {
            "bdata": "nalxwg==",
            "dtype": "f4"
           },
           "y": {
            "bdata": "NbEMQg==",
            "dtype": "f4"
           },
           "z": {
            "bdata": "DKgzwg==",
            "dtype": "f4"
           }
          },
          {
           "marker": {
            "color": "#FECB52",
            "opacity": 1,
            "size": 4
           },
           "mode": "markers",
           "showlegend": false,
           "type": "scatter3d",
           "x": {
            "bdata": "iHaiwliYm0EgSYtCxhSlQsQZR0IU861BoGquwYDXX8HMCWNCwuZ9woxHx8G803VC+BVpQViljEGezYNCQHKcwMA878HAbSzAWAdSQfDk4EHQEqVChFtuQkAXjb8ohRBCAAEhwhQH6sHkRlJCcDi6QdxnD8J8/QPC2kuUQv74pkKMa4tBIB3TQMheWEEQJ1BCPIioQYiYN8Ks+9NB/MKBwRD+nMAw0HBBJFwNQuCq3EHA9o3AOOaQwTA9MkFoHpJCgjewQkCH7kBwd8BB+H1AQgD19kGgyw5BeLALwVS7+sHAxp3AdAqwQXbITMJPZJXCetCJQkyRoEGAWnG/W7mJwphXg0LUKKZCMG35QbDXKMHEvMhBMXw2wpz8icGQmehBijIOwmA3N0F6/kDCZLtNQhCi8cBoHr1CoPuCwtoqXsLAIuFB8CO7QApHKMIguL5C1ra/QhSSlcEYgMNB0EU/wkZ0nkLI5z3BFK6HQrju/UEw/HRCUC+CwpiVjkF8Xo9BYMftQcRY7sFADQlBhCrNwZCX0UC68LpCgiWeQgC8qUG405hCAC8MvyEXEMLgVFFB0HPlwZgF6kHW2cZC6BLVQYBswUAcSujBgO31wYDRQEJADs7BJOqeQsKnBsI5t7nCVfucwvQpikFmjAbC0E7WwFwsG0J4/EdC8KQYQWC/UsCAFDhCyIuYwQANI8BkvC1CIEg/QjD9eMIgTgHC2KabQaTqfUKI7ATBAB/ywYgNgULSpqlCjFCpQvjsQ0G4VpNBstuLQqBY1kEwuUhCsJlSQugmHkKKtZlCwH2iwMyHikIQq99AkE5TQgh/ssEi2JFC9LGFQqbnlsJMIzpCnO/EQtifgcEmEY1CvMCcQhAOokLj1XLCtK6iQgB1+z/8rGxCEHwwQZB2BEJ01GNCBMGJwtFJhMIQFXhCGHt7QSoyoULcZiFCgP0hQlNAYsJklnpCQHYKQLy5rkHoiWtBIBRLQoDZC0GSXoBC4PYFQdielkLKwZJCEPSFQFhWUELogwZCmHD1QQCeGj7Yrz9CSGj+QTCBv0AAuXw/4PcEQtTbX8Kg963BiGVwwaiagEFot6VB2Nz7QcBloUAQHplC0ASMQoT2J0JgzxxAiHSrQjwQQ0Ig+g9CkOCfQYDCIcBYIjjBiJZewUACvEC8oozCms/HQnzqHEJwJqPCEH1SQqTngUI4MHBCGJppQkHBNcLAZeZBcJEhQVCli0CkbaZCiJAUQljWtUKwmONBECKGwQDpLsBKa4VCLoa5QnYIsUK4LIxB5CkiQgg7PUK8ewjCAC2zQjwOIkIAUQNCqhaMQriUr0K4iqlCo68hwrCKtcGggQLAhEiTwVBS80GkeQxCKEJxQrJmV8KtES/C7PGiwaS6I0JUjA5CMA6GQlB790FO8JVCmBIMwXyVVsKhl3jCTpafwtRakUJSwAzC9oyBQjqce8K4A05CHDS4wVSrosFtj2LCWEuUwtiSDUIIMxZBVDPOwThIpcHAeHvAEEbbQWa/D8IIif5BiMZBwVDQLkJSTKNC7HX6wahkgULwgLZCAL45P+zZxEIQVoVCgLMTQN9DocL4gfLBtFTPQaAPzUGQKE5BkLj8QQDb9b+4pj1BoOA9QtSp+MGQLbNB6SsuwmwOAkJ848vBGlSfQpCJlEKW4LtCaMGBQda2vUKccD5C6J/4QVbQwUIoQUxBDO3WQQJ2oUKAlbo/hEVRQkIkt0IAWJLA0OHqQdim7UHYCwdCgK3UQIwDA0IsQUlC5HffwdRaE0J45ZVBAJbMwAA8IMFkri5CK5w5wjzvv0FQ0TVCXEMRQoBlwsBo+plBYPNSwJgSm0JEyoFCoCq+wADKCb84hWlCiIMfQpR2qkE=",
            "dtype": "f4"
           },
           "y": {
            "bdata": "gKKjwqdVw8J1jcPCZVGmwv88hMJ8iMDCstV2wvtwuMId+iTCDdRgwkuHasKw3x3C5CC1wmRGscKIWrXCGrAkwqzNisLyKZjC+d2rwgqKvsLiqkPCmEGEwiSGU8I2yF3CS5ekwmIQUML++wbCDNJiwpLCKMJl46/CCGnEwmRDmsKObLvCrLsowvjNUsKvOTfC7GW/wn+pwsKL2UvC2BK7wk+stcLjfsfCWOPEwriNg8LVQrnCg4WXwm85x8LcJa/CpMC3whwQgcLPVzvCSautwm65jMJ4xXjCRrqvwnvnpsJFIKXCOC7CwmYscML6RcTC6HaxwolQUcIfWa7CLSLBwpOysMLURqDCVHu+wsdotsKMoq7CHaJmwrVkwcKsCpLC+dIfwtujrsIb9GXCphEmwmDmfMJVO2zCtiSvwr5npcJYeLLCvRQ1wlPMIMLYHLbCFGezwrqQX8IHeI3C/vaKwhgUisIPLZHCg29KwmyuC8Jkn8DC6KaOwpSbwsLXRbPCW47BwnUDkcJucHPCctGQwjJov8LsPJ/C9jSRwqBvY8KrOsDCfUspwrgKasLCGjHCmXO/whcbscKbdKLCwlFywir0pMIFkrnCENa1wv28t8LHSsfC6U4ewrZ9c8JUPbPCym2Fwt+CM8K8JXbCxNGewqkJt8JrPRbCSwLCwroQSsKBpbvCqct6wlU0nMKL5xrC7flYwkV6xsJ76prCJQ2nwuFLnsKlADrCOBmAwgI6k8KmdlLCrCaowm16jMI8YnzC4aSTwuYpD8KhTcDCfe5VwqlvKMKSJ8PCi52nwqVZP8KXOq/CDTFSwmAbpcJOCMPCmfOSwqQ/mcKLeZ3CS89jwqcCfMIjabTCyACOwjmlKsKg4YTCSjyewgCYisK+h0zCoppDwrwMIMLx7LTCxelswsY5sMKQR5rCY3cSwuDHocItG1PCNsLBwkiMwsKf58bCSlyMwgHAu8JL+43CDmmSwmu/Q8LY3ZjCwvecwna3VMLI1IvCwLuSwlZgtMIq947ClXdSwiJBmsL/8KzCsgcIwhJmqMJcL8bCB6eYwpJnrsI/wLrCMDWVwloAuMJf113Ccd5WwuLCosKkaMDCi2+xwhLqR8KdX2TChDQnwnrKWMLNnLbC3h6lwlpVq8J5AGjCzP+Aws5fc8IqYpjCoPyhwiYie8IHy7jCZjaPwg5Pu8IbE6PCDN2UwmBZhMJISILCVmazwnA/pcJiHoHCPf17wuDdx8JJKqfCGB50wpynhMLI35zCCNFIwt5UN8IM83/C0DqEwhnWvcKiyYjCX8d1wmzixsLd0izCnh2mwsfXXMLfubnCwbKYwn/CksKs4zPC2Ow+wlO/lMJcxpTCTqfAwi9sVMJuE4jC+/+kwmGWusKd3l3CEpoTwkz0csK625LCJARVwv7EisIUEEXC7AHCwjafl8K6G77CC2iTwt8bkcJMr67CnG5WwklCQsIx7p/CgmK6wiNDwcLzI67CoQWTwuG7JsILbj3CHhkQwk5fOcKzFLHCsUBTwsRgpsKY7UrC/PbDwr2wWMIrVLjCmLehwqS6tMIcgazCcvkmwhLIlMJb/E/CUU+3wi/JFsJJPnrC1bOwwkswRsJst8bCHR+MwqrpQcIftaDC09bBwolci8IQrYnCNEydwpkVpsKYSnDCtJeFwkDUwMJykoTCNq7AwveEiMIaX5XC21U/wg5IgcKVWa/CJP71wWi7tMIg20zCvUaQws5OrsLbnKzC7hrFwo+FVcK3LMDCofeqwlxbo8Lslp3Cou5pwjZZOMI13YvCLhhvwj3qoMJn77/CYL5BwqxqwcJ9CcPCZliwwi12mMLqeDrC/jZ1wlWpEcLJlzrCvmBUwm/bQ8I=",
            "dtype": "f4"
           },
           "z": {
            "bdata": "1H2OQf5CZsLMxWFCiDAVwZSexkGAZt6/gG14wXydH0Loa9BB2M8+QeDhQcDYUe9BeFIGQZDPqkEgqkNBvJDkwYgBxEF46kHBT+dYwvTn9MEYKMVBnKIdQlqNJ8KU2LdBQPSgP6Au5UAgk5NAwDGBP4CoWkAc2K9B8NoPQgCgO0KA5X7BQP7uv+jqzMHA0DpAIK6vwHQjo0FAGaW/cORjQUjpi0G0/DdCPATfQbgC1kEAYlC++EtDwVy0+cFEMZDBcCVYQiDvS0G0CLZByJJIwRitScEQ9+hAYCBfwVjcDcGg6xbBIPT+wcCos0DAhahBHBiwQfhzkUGASSrCMFOsQVBnq8HArcHAeN8owdjvDcKgFzVCYAjWQNizRcGWVwPCIIfNQOQNGULQSpNBIK2KQSAV5sBg9RFCxFG0QVCy90GgAedAkOrkQcDmcEBA6SlBWAoVQrQogUFAgxLAoIdiQGifDEHg5RJCwKTGP4CpU0Bw3o7AwLErQSB8FsHZsR/CGBePwViAA0FYOqjBpIeKQQiYOcF8GlhChDfYQSCY8cCwzqpAFP6WQRBDz0CkEYNBvN6FQczICkIooJpBEJNzwciRE0Isxw5CND8CQiBAqsDwKcVAiCsDQjCH6kEYuf1BEI7DQXDn70FAYwRBoM3yQByjLcJwUXNBMMXvwWhv/8GtVx7COF6Mwe5yBsIoKvlB0CdzQaiqCUKAE56/KNrvwUhkcUGYmg1BFDTVQTCBJUJwtddBONJWQjC+tUAYphxB4LFTwWyIkEGMF4zBcGdDwfCCKUEcYJHBSPrHQaBsBkKQUt7ACIoUQQA487+Q8vFBMImSQXR8x0G44VnBgCUQQjRXz0Hk3AFCoN2yQHTwA0I8nddB0LS4QYD0dL80ncFBcCVZQSCaWMAA/ak+IPEnQajtVEGY63PBwBzOQfA9MkE4RkJB2KCdwYA4aT9AlEdBwK1JQVC+wUCIvFNBgCqtwXA5QkGYfdVBwKcYwuzB3EFMht9BkLuWwAABkkHgzuRAmNTGwdBj58GU8T5CbCmqQVw3l0EWhw3CHMyPQTjB8kFAZu9AYKKzQbA09EEEHgJCHG/HQWjsCEKorsRBzIdZQiB04UB4fO1BDDkGQqSDDEKKBwPCGL2gQQilJ0J0sM5BYKWiwNDauUEYcuBBlHGkQYA8kkG4oa5BAAcNQkAaor/4vwlCPKoUQgC9zL705gxCnAXQweAg6UDo6LpBeIC7QQwvRUIAtra/9C8CwqBLfcFsdcdBuIYfQiCe8UHQmZJBgPQFwMDi6EEAtK/AKEeQQUyNOULgSZ9BmAEaQhhavUEAQeG/JH6dQZBvwMGAxaBBcHxbwWj8L0GYmEjBpEKgwYDbAz8A3+/AQHx9wDBsdMFcWJNBwEQ4QYwirEFY7wpC4OXwwDACqkDc24xBrOTGQRAa7EBQf8BAZNI6QgB/oUBwx4FAyH8PQZhtlMHMq9RBmDF/QQANysFM7tPBgFtSwbw4nkFwX9TAQH4PwVATDsFEgr5BwNSaP6hLb8GokvBBrCQRQgCLtEHI9u9BAhYBwuA1JsBMi6PB8Df/QIiJtUH4pcFB0MadQLCBzUD0XKPBCJrxQZRdpkGYsBNBjD6PwYjSO8EAUIW8kGXqQCR2mkEYF8zBsIyIQZj77UGQ+h9CqDz7waw7OkLoSxNCkL7wwBB36ECgcjRBcAEPQdS+vEHgwq3AcNBWQThNVEKwCw3BJE/ywTgS6UGsUu7BAIyCPsCmH0GcHIxBwA36v/DzmcE4e7XBBHiWQQBdkUAgH8HAoBH+QJbPEsKQH6JB4EZnQGCn80DcDpVBcA2yQcit8EGAchZCgPHzP4AxwUBw3p7AYKkTQWiFdUE=",
            "dtype": "f4"
           }
          },
          {
           "marker": {
            "color": "#FECB52",
            "line": {
             "color": "black",
             "width": 0.5
            },
            "size": 6,
            "symbol": "diamond"
           },
           "mode": "markers+text",
           "name": "Cluster 9",
           "text": [
            "C9"
           ],
           "textposition": "top center",
           "type": "scatter3d",
           "x": {
            "bdata": "THSRQQ==",
            "dtype": "f4"
           },
           "y": {
            "bdata": "HKCPwg==",
            "dtype": "f4"
           },
           "z": {
            "bdata": "x18DQQ==",
            "dtype": "f4"
           }
          }
         ],
         "name": "frame1"
        },
        {
         "data": [
          {
           "marker": {
            "color": "#636EFA",
            "opacity": 1,
            "size": 4
           },
           "mode": "markers",
           "showlegend": false,
           "type": "scatter3d",
           "x": {
            "bdata": "ZN3UwWdossJsjPnBJXWhwkDm8T8Iji/Bfz9Gwm3NmcKeNIPC9H2Owjpha8IEmrHB+u3Dwpxvm8LWaorCI7cVwhQgncHM7bTC2EYfwajLjsL4XcLBAsuswlK/K8K7ojrCYLS8wt5/gMLAHPPBpwaYwoTcq8IgXnXBoB1UwkRI7cHl1KPCP1G/wrYwisJx2WXCpfi0wmv2ccIGxm7CFFzowXYcCMI5brrCsG1mwZ66a8Icq2nCju0IwpzXCcJMLsfCLj91ws8zdMJQQgjClFW/wk7ogMJ4Z7/CUOyNQP75ucIAxj8+iCDCwa6rncJOFsbCpT+qwiAeZcJ8AbLBiACzwiNLRMIdBDTCnEm1wTCra8EQFQbCDB+LwcgEwMF1yZnCjO7CwkBM4cBF7ifCAAzkQIVhJsKqSTPCACsIQfS/oMGMc7TCDKzHwUrwVMJnOGXCvOe6wYheHsFOTpXCuGgKwc0OnsLiGwnCoFs8wJDVEsFc7cLCPmQewigwqMHJg6/CwPyGv0j3VcF0rKjCGHNYwaZFasLoksDBckK2wog6LcL9/rzCou+hwuKoVcIfp8PCKhJ0wi1FL8KIbSfCUmaNwgAbK78UAvvBCHWPwh4RC8JkHtHBoalcwiGCQ8LAwKm//hmuwkDQuMEa97/Cks9dwqgetcKzFMPCtfpfwg8kjMKtTCPCfG6nwqNKq8IObbjCPcgVwuIbO8JK0AnC9ODFwc2CpsLirBvCjEGcwugZBMEwIpnCnrV4wjZJxsKr8YzCvqmzwpSaTsLwGKvCYxR8wtoXhcJx01LC3Na/wiqMt8L0MGXCgHigP1g0FMKQkknBermAwmgXOMEAdno+j0t0whyJwcIgfxrBiCl/wlj4nsIijcTCQkgDwsgmksFVm1HCW25zwhI5vcJMiNbBTyCjwrqhJsI4mJ3CipAtwiAlQcI4ZcXCnS9PwkpTx8K8o7vCyFxNwu7vCMJ6m8XCCsrDwq52kMLeMKLC73K4wqNHVMInqnXCtAOswfdOGsJhO7rCgN2tv/wQ58FdKH3CAIScwMCgpsE4XKPCWNn6wQ7UbsIQIobBaTG2wrDoQMLorEHCwgozwiueQsLDUC7CUnMqwlo8tcIshvnB+Ah1wgF+TsIe75zCQIMuwiiMn8G/5CHCt2ukwpiSm8ECNk7Cp8Stwu3Ei8In83bCNxpewuBFCkBR/pPCoxCYwqkdc8LKo8XCgPIuv97hmcLYLVzC60ZRwjgYqMKA+X3Cyos2wpJIfsKnRB3COBqkwib/cMKYGojCZ0l9winKesLI5sHCREahwXgqK8F2dZ7CdA5nwv52tsJC96DCJ7J7wpSUssGETUTC2p6XwhjnUsHJMbvCAC7twc8swcJAjXrAsjHBwojJH8E8nZfBIIyWwnXZjcJAl7PC8m5twjbZtMLUpSrCBL3JwaGDw8K5ZcHCRPbJwRZul8IiQCjCChTHwogMq8GstWXCGOENwW6JvsIk25/CN21pwkDZxsHT4mnCpkF3wkg4pMJxA1LCgHsfPxz3JsKGzQzC2wZDwvVtrsJvDRzC/R3Ewg/XxsLFTZHCoAhHwsBDb8GgL9LB1GBBwi9urcKpI4zC5x4xwpyya8Jb1q7Cad2zwuhwIcEuHrLC20EVwpWuEMLAOoK/lLBAwkusn8Kr5xzCyGvIweqybsJh7WDCzKTDwQsyZcLWyqjCeUiowqEqrcLA9q/Cf5OrwtKPpcI2jhjCdCiqwkTmrcEmA6HCk66MwjLHiMJr7Z7CRomSwnI2fcLwsfTBSrKWwpBTosKeKrrCvkkewuKwpsLb0JfCmIRUwfd3RcJINjzBgK29wX/YgsLzsxbC5++9wprcYcLGLKDChji8wgbBn8I=",
            "dtype": "f4"
           },
           "y": {
            "bdata": "hkRswnk+P8JQwHvCTb9zwmaNhsKTQ7bClleYwnw9HMJgZ17CPOfDwUhey8FG253CpYJrwpRi18EGHmbCVHCpwpSt/sG9e6rC+mCSwliaw8KL06LC8meIwhU8msIY7wLCbVy2wkT7xsKPeYbCLC5owie1McKgstnB7HmIwfTwpsGM34XCjvNJwjBKcML0VpPCp0onwlMUr8K0orfCI9pawgWxssKH55jCKs5ewgpZB8KKd8PC21+9wnfRnsJeo0TCOpWcwtC2ncJQZF/BmQZlwrvmFsKIH5zCDYCqwqFdMsLOc33C6PecwtCY5cEMBKrCRFSLwYfdW8KUQ4rCIHVMwtGUo8IeqLLCCIuFwo1mUcIQV0bC7vYXwhjvq8FZsHjCInl1wrtrWMI1+bPCrxm7wqFWZMLUMtHB+YqnwlD9ncK+XTbCZMejwuw2jMH5X0/CPV+9wnIaRcI+oLnC/yIYwr9Lt8LfQLPC20huwqqwI8JzAHvCQsuVwhItx8J9A7fC8tovwiW6Z8JcXL3CzPGOwjSE4sG+B4nCzNlSwiugi8IkzNTB7ByQwjDSi8JOI8TCxk8GwvPkWcLGx4XCSEOEwjX/rsJogcnBehCFwpByhsIOzQ/CuDG3wcqSDMKTgbfCujBVwmb0n8Lo6EPCJiGpwpVkH8I0LAjC+bBlwrzS/sHfXTTCQdaswozykcJ533nCPa2DwoDoacKg26nB229Xwl/3lMKd/U3CNUWQwjFTsMJi9IPCUzgQwl+LlsKIaGjCedFawtyiH8KG8SvC+JcpwayZgMFspu3BSdG/wuZBR8JctHvCILmbwjvolMLz7KnCzOeUwjADJMKfr0nCDRhawqBh9cG02M3BWHhRwiDfg8JUGh3CxOOawk/9c8LIUoHBXT7GwlBNo8Ig8HXCqL+QwtDyZcE88lbCnoV2whdkucLUOITCiRo2wuKmV8KKpsXCUXq0wijRvcJbNYDCLH69wTGNqsJvp3nCSuWdwvCMu8KAaHfCrkkzwtZyZ8L8xbPCOYGown+MwcKYsOjBYIBnwjOfEMJyD3/CIErOwR9EisIYHnTCS1SgwkQytsL0hK3BXyNDwmF+FsIxFD7CsWGGwqBnCMIZ2mTC/WSlwkgRo8INGr3C2QCwwjlOv8K2CXLC0hwtwgirY8KS7HPCNJHXwSYHjMI5qmzCdASTwm45kcIKZ23CqZhQwv4vCMKVmMLC1H5JwnsFMMIZgqjCHDu1wdizkMLIMLTCyLaiwQWlwcLYXoLCLDuvwrCmnsIAQUHCdCaiwr4kmsL9CpLCjla5wiK5SsIMzvfB27wvwvjCn8J8c+TBy491woCqW8EzWa3C1WKnwuT+gsE7SJjC1+xswvUvg8IzzEHCvzowwpgTtcHLn1fCxxp0wrBMj8IpYEbC+oePwjTxcsJlAxPC/SOkwpBewMHc4bLC3sgGwki64cEOVlzC7E9BwtpSoMIVt7HCpaNfwjTGjcGeOQfCBK+SwlG4hMKMiqDCnjmuwkiDl8G0bMfBeU1kwojotcFPhIHCAwenwg/3lcIIv6TCFOsTwi6wIsKojb3CO+p9wn1tIsJd74fCPRJvwjOAv8JvYZ7CbiBBwuoafsKyTIDCVNTrwXuHc8LuRcPCmKSgwh5Rt8L+FlDCo5h9wsCHtcKhfRDCuH9QwVKsg8JwvvrBjGS+wYhZrMIYKJrC1jdEwlFerMKqZYzCs1a1wv8YWsLp4CfCnZhKwgkPJMI2eJDCR3aWwjQRH8JAbM/BMSzAwgagl8LYg3zCSCMhwvHSNMLSX77CzDKDwgAWacFpQpTCQCrZwbKsQcKgSjnBfKP7wTzyycGX/ZDCrGZvwlbWpcJB953CIAkKwuL7xsI=",
            "dtype": "f4"
           },
           "z": {
            "bdata": "Nk4xwinBjsKU9LzBWzG9wiltlsJuf57CgGfLwDj9isGQYqrBMTYhwrVUwcKeooLCfo1Gwr80kcIg2pTCOu66wjYmuMLg9yRAKCERwqwf28Eg5P/B593FwjVka8IQ3OvB8DikwYAg3j9R9IzCoOPuwDo8WsKSgUbCqvKUwkjcr8JIoqrCEvvCwnKNlsJPsG7Ci4mJwgARYr94AcTB+gOJwsCLncIo7+vBezlAwjlvN8Josd7BjvVTwihgDMFhCsfCtLDtwWy3r8F0ZGDCkNVnQXWlvcJEsaXBVcezwhAxfcGgoZ/Coo8CwkKZx8JAUYDAWU/DwjwSrMKVwK/CMD77QD0IO8KSqW3Cdu8HwlcyjsIMNKXCCODgwRQJpcIEdobCNu0xwnaiOcKQcHLBAFanwvvTjMJgpx7CHdt8wuKKQsL/NJTCkNppws5pkMKSZlfC0roxwlI+scLF7J3CIhCIwgwJ3sFOioDCoOeCwnxUqsKr1K/CvGCcwai7DcLcqADC1/KIwpMbl8LQ6cLCiJiDwsLmpcIec4/CfPK+wh4KXsIHLbHCcj+fwsC9PkEEd7PBrpFRwrD9G8FlE7/CTdvDwgU3XcK2WsTCMKnjwI62h8JiRInCbkWUwlucusJsb4TC1lPEwsIdusK4gBPClysYwt6OBcJTb03CqoO1wqaSBsK/xLDC7rUMwvC4tkB2xrLCSTYawkAH+8EdX7/CGpECwht9IsJo5IXCt+gXwuyRe8IkowrCQLT5wUBGwsCsGKLCZGWgwl+4osKM9pHBekjAwmYDlML1nbHCoBK+waACLEFuhVbCsH6vwg6RgMLfNbjCF8KewjpiNsJ3gifCUwLHwqjRLsFS+r3CVme6wqppZsKAiq+/ndxgwvp4hcK67CPCMpGiwiCTq0HQpG7B8FiUwhRmi8KgEfTAgOYkwlhdI8E0GMPBKL2UwiCfEUCwuWrB4MlowHDkicLD7BLCeDUmwfZhxcKmHB/CYhArwv1FE8Ly/onCYZ0ZwhFfmsKkrofCa/ZXwgXuK8JBDb/CJq94wp6zdsKgTqrAbI6iwjyajcL0LwLCVHXPQRnIgMI7oi/CALXdwVBIWcF4DMDBoNoqwPnZo8LHQYvCM1iHwnxwhcKAkhDASKuUwmBApcIYZlTBJqO/wsr1g8J/NMbCSk8gwqBAIED7O7zCvk09wm4cxMJTj8HCkFgSwmrlgMLLVmPCg15cwvMLN8LYQ53CRNEmwtjzu8JAmFfCWpZowgCWBkEfozHCkGQBQdxOucGmkUrCEFmzweR4jcGgM89AQHJnwlz4GcI21LzCBqiCwuinR8I5hbfCElxcwustb8LAKNjBgB+gQFy/m8Ko51nBMEVkweetjMLOZx/C09NTwoLYpcJxFJrCENi8wqTMkUE/KyHCpGyqwhh3JMI4+GPC2KTawXio4sGx5lrCOGr3wWZnj8JrYb7CudVGwiMLmcIGfbnCJl6ywjoJgcJjta/ClBuvwpydg8IvAZrCo4CcwiKPEcLIE6rCBEs0wg4YlcIgGpnBEB28wIUyKMK5OaTCTbCywohBNMGOqUbCfA+iwj49DcJBw43C8HMhwSpEh8Ir12PC+4ZqwpAdM0EYefXBvEugwq5zlMJ5I5DCBETTwRB1lcKsbJ3CKIGXwb3hTsKHU1fCPnKVwpjQMcHnV2vCE01PwqOUGsL2io7CGDguQcYcL8KTgLzC7+OUwmLUScIMhWDCtOwBwkBfxsG0vdpB4OzFQZNwmMLl37nCKLOvQVCrFMEu4TbC/I3PwT6gg8J2rYjC5KPPwd2SxsKYLUTCTepewl2ujsJ2psLCrBzFwsdjcMI2uBXCtL+dwkwOhMHqmojC3/HDwoD6JkE=",
            "dtype": "f4"
           }
          },
          {
           "marker": {
            "color": "#636EFA",
            "line": {
             "color": "black",
             "width": 0.5
            },
            "size": 6,
            "symbol": "diamond"
           },
           "mode": "markers+text",
           "name": "Cluster 0",
           "text": [
            "C0"
           ],
           "textposition": "top center",
           "type": "scatter3d",
           "x": {
            "bdata": "zy9cwg==",
            "dtype": "f4"
           },
           "y": {
            "bdata": "K2B1wg==",
            "dtype": "f4"
           },
           "z": {
            "bdata": "zrlGwg==",
            "dtype": "f4"
           }
          },
          {
           "marker": {
            "color": "#EF553B",
            "opacity": 1,
            "size": 4
           },
           "mode": "markers",
           "showlegend": false,
           "type": "scatter3d",
           "x": {
            "bdata": "dCXxwZAK1sE6NGTCWN2vwWQTicKKZK/C+EnOwUiPlcKsX4TB0IUKwaBUSsFIOjvCA0xVwnp9osL3lSjCdAgMwp+1HsLhqr7CsB1LwQlHrcLe+aTCV7K1wmfAGMISm7HC2ACLwkmbrMLiPhnCl6LAwmBymMHYWdzB7C++wTSr2cGw8YvCGGVbweiaT8FA/3XB5KTAwuh2jsH7M7PCYIb2wXiu0sFU2cjBKPwOws3fcsJgVLzAXG3ywRb1uMIyjzHClWAbwsxxkMJKwIXCSTYuwjCH08FcuJHCUBNhwQCu5sDinYPCqpC6wvRNs8EqHgfCECDjwUMrdML8rb/BU3+/wpgSg8LuzAnCDFiMwtfWocIgpI3BoDG/wFAviMHCqaLCCJj8wcgPtMF0WpHCQM7kvzmus8Lcml7Cep6hwrDJl8CQFvPAPDmFwiauKcKUnV/CpEDpwYlCiMKux6LCyBFIwp/tHsK0Al/CZ+u3wixVycFKRA/CIDLRwXKSI8LWDQ/CUJ0nwhigDMHI2eHBh7GpwmgGlMLs7BbC7J+OwYhUo8FQ3g3CCNjQwRj2C8ILo7vCiIqLwpqSK8IwAYHBzFOkwuaCPcI40B/Bp2uPwtaLgMIO+STCwBiVwi0RGsIICqjClKqwwWwxr8K0G8rBOtaewqjGCMHckinCRxhtwv8NQcLfNi7CBFDzweiMsMJEf63CXXK4wleCmMKWxJ3CoLmRwkJGEsLqTxPC55s1whzJdsLw8bnCKoMcwoB018A7KcTCAIDOvHhj/sFHeZbC/L6ZwVeIosJhQifCyzl5wmR7jMIL8kfCeAq5wnC7u8FLU0vCMwVgwljVJcGUqoXCqUx1wqJ3BsI+0THCEvKqwsZKwMIIdM7BMBH3waTfY8LE1IzBEANwwfzDqcFQcd/ByLBSwfCVdcGAL6LB4JDCwGyjqMLH/5bCFG+WwRZ1RsIcsa7CzSCxwvTrscGAcI/CWy0awoIxo8LAVtw/GNWOwTQuR8IiJR3CuUxZwtY/dMIwsorB+WNWwthbz8GvdrvCXV6Zwlp/tcID9SLC8js9wjCwlcKBFITCG3VNwjN3iMLMJ7HC4OARwqfNisJh12XCYEK/wmoYtsIT5T7CqSeWwvZglcLRlqDCxWVswtxfp8HVhRPC4CbewALofsILXzXCzthawnNvL8LA6V/BDo9WwqL1UML1AyvCOtmIwgHff8IA7jfB1ExBwlbOA8Kwx6TC8t4KwhANrcKWgi3CFciMwt6eBMKoGijCUEnxwYAWuMAmlTXCII+3wVDoFcFPjzLCTKuswowtAcIAH0vCVBKxwThQ4MGosgLC9MrCwRifqcGQ+ubBml2rwgDLtMEQFcHBLuS8wl0KusLZpRDCGJ1wwanlTsIu8X/C8DnUwe8pLMLwpcjBv4NJwuLZNsK8Hr3BYEqvwqhUxcGAuDXCCocOwhbVicLUJijCZ7+cwjBbZ8FJ27PCUK47wpyTucIT/MTCBTiBwj5+tcJFz4rCCOZFwRWvasIQfZbB27mxwhm0w8Lt9XfC4DSzwsDA8T+zK6HCgJFpwqE2icLLHzHClzoRwhDSksAznlPC1pSvwvx058E4sWvBeIYCwjznjcEVjnvCrHXjwVqUnsIoFKLBiFFewSDf0sFWpKvChJWDwhSU3cGJ9p/Cjo5Wwl0nEsI+mLDC/n/CwlZChsLa0gzCFFnBwtJGicL0NcfCEwSKwgxLS8KpLnnCv2dhwsTku8JgGMHAJIi3wtvBi8LW+JLCII5TwVSCG8KIG6PCvsl0wgYEqMJY00nB3AaTwqjjL8EIFJzCeHZowphqWcLleVPCT7fDwphDocIsA9XBNB91wqjEn8LgCZPCgCB5wBSzvsE=",
            "dtype": "f4"
           },
           "y": {
            "bdata": "QCqNQALzDcKMWb5BmJJEwXh3E0IwuxXBgOZ2wcAKnUBIFUhClObaQTihLkEUjqXB4N3kwWhQNMGA0QBCYMyQwQT4SkKgVXPBoCWoQbj8ksEoaY9B4JtuQfibi0Gg+2ZAjFYoQoDVzr/kMQFCyC85wkC0PMBwTQ9BSIDfQRD4REGCqALCcBEGwrBICEGY6bZB53NRwoh7nUGAA4zBJPoZQsQlDcLYFu5B7OoEQuTVikGwXq/A+GcLQuf6TsK4i05BeI+7wXC06cDMVgtCEFjLwEjqIUGBJl3CWG7hwcyfKEKwybnBHOWCwVCcgsGsvzVC7KGQwSCs/EHATZZAAJGcwUCBBUKAS71BxPEBQty1DcLsD9DBAGfoPkwwH8KoiYxBqCTGwRCR9sFGjy7CoATiQTjgs8Eg5oHBYIBJQaSnM0JsQTJCoF4RwrCPT8EsOC9CkLfQQbM8KcIguZ1AiHoPwRAb4UBAYKTAoA50QQBaSEFlrTLC3AgMwswkFkKcxF9C8OZiwWARK0JIbexB8HiKQOQ2KsIgYaPAZOqLwWo/GsIAQu2/4IbGwfDFE0LQUJ5AcfgYwmC8J8AAfv3A9IrRwaCSsMEAIzdCrKw7wpROu8GwQeJBAE6XPlB1t8Gk09zBwMD8v1DQ9MGAp1U/gCdvP8ByO8FA74jBgB3kvwBDq74gBrTA/GZPQsClj0Bo7EzB9iwAwjYbCcJ0ohHCMrxFwpBMOkJAmFVANGujQTf0PsLAiM4/ILViwADHc0DATE3BdEWSQeDszsDY0pdBsHdiwdQsk0HIQmXBUFhEQszyO8JULWxCqAFAwkgyB8IYaRlCMIYqQWA5L8B4uq/BAF1ovwBCAEDINwDCcKb5wepdYcLwTt3AIKHHwcwQj8FAx1ZA2Av1QbAghUGATQzCgDk3P/Cyu8DwPorAwFxMwIAQDT8QqVFBZBI4QqDEV8CEwRtCyksFwiAXsEFQy/VAPAqOQRTDrEHUoD9C6JiTwcjviMGYDWxBbFHVQVaqMsIY2P7B0LS7wDTpzUE4FLTBYAiRQWh7nkGAp3NBJBNQQsAtPcJwk4jA27wnwhixosGAozTA4KAVQAS0gcGo58NBDML6wQlAHML+PQHC2C9hwaANDsJVBzvCUOpIwVBybsHgZGvBEFtLQgBQVr164FDCj2tbwkCoM0DgYyZAbD6pwSz2ZsJwbkTB0A0GwcTbqEFQ2dbAsG/TQbBH4cGMKZLBgEpMP+C7jkDs9gVCiGifwRhqIsKImZ7BlNnPwXCUU0LIbwvB6PptwVBU0ECHpjfCoPeAQSAguEEsz4bBIBXyQIiJGsHAikXAvApjQrz808HdQzTCptltwoBLjsGgNHFB+F7VwbBEw8F0fwzCAABFO6DKCkEoBSjB0DkvwvR4sEFkkMjBAAQhQogOjkFgTpBB4NwUwuyqKkIgvy7BULGiQBzqDELQRFVBqL56wVDvKEExqi7CYNWiwMAHssAA/LLB2GyswYx1qUFQAqRASJMhQZARpMFgNnVAgH0nQbnIQsJcObZBjykcwrBJEUIQ8pJBENGnwehRmkG4Yb3BaFYzwZxsOEIqHhvC8MV2wQCwMMGARkC/gDjSvwSR4MGAq0bBSJwBwaC7dsCQurlAaB45Qiz3hsHkGQXCXHL5wfAW8sH4PXXBYN4yQSChY0IEQdbBbPbNwdRqqUFg5phAWeQ5woD6dsF0zaPBWLWfwegG+8Eo7YpBJLnHwTxTwcEgfZPBoMosweC4mcHQCBXB3ITEQYAh1cCA/cC/sOLvQeDLGUBI6+RBgMPKwCRLjEGgSkjAHN8WwmAGRsGwYSRCanwTwpj+jMFs+8PB0MYmwSAyC0Bwei7BOMn8QTxCA8I=",
            "dtype": "f4"
           },
           "z": {
            "bdata": "8PiqwbiwssHQULlBiEGfQeAEpEGw7tpBtCkbQlgWDEEov4HBAMJ+P9iPVsGwJdfAhKeDQUD6EcEYpTlB0PP5QBB/P0G8bQdCJDyMQdTPgEJQcB1BaKtsQfCcWUE4QZBBBByuQdBGVEFYr2/B9LCjQfhFDkHcffzBaOyoQeCWq8A0YT1CSD9bQaQyg8GgoypAxBy0Qdiu40FMN4hC4AjcQGDh/0GYjR1BVH6KQTiiXUFAbq1AUKCuQDCe9EEAFsc+UIbVQGApcEJQWfdAFKcsQpCFjEBg7adBAMO4QbhbJcG8bgNCICxVQjBirEBA26i/UFVWwaCGL0CE3tLBVAZIQjCVIEGI5xZCuM6XQaj5YULQkVFB8KXTQGAVlEHAvZNBUKyyQKDD18CAjPBBBHHYQXBN50EQDchBEGXbQFDC4sCA2l3BeKp+QaiyN8F8LqtB+P6qQSTNLEL0TpJBsEThQegiUkKsD5tBAHOLQeAQE0KAOMbACIk4wcAZ0MCwcZFAqBWLQVSim0FEMJ3BKBODQRxrzUHANwJCAKhkQQB6/75kXRZCwK4wweTFrkFMigZC+EANQgykXUIY9BnB4CxkQHD4hEEIuGtBZNLcQahD8EEAIiI/gIxnQkBHUsGQKzlCvHAyQuhBJkGEc2JCAPpIv2xSkkH4xEPBHP0IQvz0WkKYsZnBQAcOwLRTCEKAy03A/OpVQnj9REKAEWg/QIQ7QWxSm0GQBuNBtHOCQUDN5kHsaRFCQCWqwcD4jEFuRYNCwOSuQEz6RkKwJJhBKCk5wayOyEEYJgBBWD5GQZidMkGIiQpBeBD5QbgazcFcTKZB8J8CQlDPmUGETDtCAHAhP2Qx5sGURiVCcMKDwPzTCEKcCrXBkA8TQZAQOEKAgRdAwGybQDiLJsGwZEXBUFLjwGCBycDUSJLBsJ+BQXDbokGorjBBXFKWwUBlO0F8QKdBGJlkQiAj/MBEyhtCCFgkwdjepUH4Jh1B2EilQaD7y0AATZw/sPzkQRQHGUJYr8NBoLznQVBuDkKwkfpBYJJnQMRsl0E4fgxCoPZhQPif+UGkXldC+FYRQaA140CAnjdCDIrbQbjXLELQZQFCAKhvQiCNlUGg6bxAEI5CQaQnGkKEfoJBANJNQKioXcHgiBJC8L61QPBzGEGgX65AyBgSQYSLSkLQrs9ACEtLwdQagEEEIgBCbC3fQdihNUF0ko1BgBfLQcxDjkGUcQxCtJtiQsDKaUDAyhJBAO4OP8gRCEFUeApCQJpPQeDSO8Ao6ORBCHLoQUhS8UFkHZpBUBnYQWBaBkAAiPs+6IhtwQxcEEJA8cNAUM7AQPzDmEEAQCc8KGb+QQC0L8FoQ2VBoF/0QTyHgUGcEodBAEi3QUhOa0Fk4K7BvE+7QTzjgMFIhx1CAO6MQYDXbcEQeKPA3CQyQkCjWUDMpyVCoFPoQTCGaEEA6hJAcDdBQlT4qUEEwhxCyALyQbCse0KE+YNClGPTQThOVkG0IU5CDOnDQSDPcUJocX9BBP0HQgA/MkL4UvVB3BALQpipWkGAwexA1JOwwQAKJD/gZmLA8ATCQZA8+kBwvZBAGPj1QUAKJULod2VBYAt7QZDXPMF0P1ZC7C2yQQgoSkLgeWJAqJ0GQXBcMkLsV15CoJdTQYC7/EGgLGJC6E4LwRhHH0GAhrk/9HdzQuBpdEAw2utBoB7lQQzPIELgc4JCwFnGwDjjx0HgmQDAyJUyQb6ShkJQWTBBcKDkQTCw4kE8LwJCGMehwQTHxkG4EMpBkHHvQOAo6UFobI7BIDJzwfyR2kGk4ylCADWpv9i8j8Eooi1BZPkPQlCuY0JAXlRBtNlZQqCBU0JgcwDB8E68QfQXjcE=",
            "dtype": "f4"
           }
          },
          {
           "marker": {
            "color": "#EF553B",
            "line": {
             "color": "black",
             "width": 0.5
            },
            "size": 6,
            "symbol": "diamond"
           },
           "mode": "markers+text",
           "name": "Cluster 1",
           "text": [
            "C1"
           ],
           "textposition": "top center",
           "type": "scatter3d",
           "x": {
            "bdata": "fvRKwg==",
            "dtype": "f4"
           },
           "y": {
            "bdata": "dxlawA==",
            "dtype": "f4"
           },
           "z": {
            "bdata": "OweCQQ==",
            "dtype": "f4"
           }
          },
          {
           "marker": {
            "color": "#00CC96",
            "opacity": 1,
            "size": 4
           },
           "mode": "markers",
           "showlegend": false,
           "type": "scatter3d",
           "x": {
            "bdata": "tB9zQli/TEFGQpJCrOWjQpzTx0FoT41CVDNzQqhYkkL4+r9BWBu2QrTUBUJ6L7JC3DdGQpQcgUKEnKtCyAvCQpzBwEKsWJBCToiMQlphtkJ+O75CgF0YQg42jkLETCBC8A96QkyOJ0JYA2ZBTFvHQaxFm0JqmKRC+DyEQhw1f0LgzLtAvq6rQh7HpkKac4NC4j+uQnqOnkJghJRCooyZQiqLm0JA8xtAFnCHQkB0BEKyxJ9C1F8wQswVnUJYbIlBHia1QmSYdUI6wKVCiAAPQVIju0LokRZC/nO1QtyWoEGwXDhCyFxUQiolrEL6pb9CsA1eQngnRkKI8NhB/BuXQjqAoUKsxwJCkDcTQvj5jEFQgSZCiDawQqBGf0Jkc2dCoFhgQriCh0IohzFCyH1HQjQEr0EA8GtCuHOnQiT7HEKY62ZC9FO2QjA8F0IUWXpC2JC8QkpoikIAoLVCEGiWQsgsTUK4FXRC0FnQwNR6gUIEv8RCGiCbQnr1pkJ0mTJC6nSwQuzkHEIgz/tBoJc6wOwUtULmnYJCdAGHQrabwULs5rdCkDCyQtCehEEUvohCSOBZQpBTEkIcO7hCnguNQqQhCkJKmIZC8GkqQrTag0KUFiZC1HouQlBGfUKK96VCYOa9QFhR1EGgnJZCCB/JQWJUh0LgHoJCpDI9QkzflEKSLYNCAAU3QoAP2EHkS8NCMLvFQrhRwkK4O69CkHG0wFj3TkIQ6nBC3FSZQiD2V0LMGLxCpLx+QkxfrkLEWrdCAPy5Qrqkj0Ko+lBCgOf4QWQjKkI8iWlC8M19QiJUm0JEqchBsE/sQT5VokLiF7tCWCV8QsryjEJsn3tCui2NQlj2rUHOU7JC/IsxQhgPnEFAu2dC6FWgQvjQpUE6sI1CyPC9QkZWnUIoGTlClIdlQqgzBEIAumlB/BEBQmTdQUKIX8dCNOMmQtT1vUI8FFlC5BRCQnzKYELAy65B5sCcQoBpfEKEwXNCXPOyQexPEELU4ZFCOIM3QjaejUKYIh5C5vKUQnp3mUI4BIZCKOTAQlCma0KmJYNCnOKTQlAhqkFGioNCGGgFQub3j0Ic5XtCcGX4QdCEXELcf5VCKGGeQvhV30HqaaRCIP3pQUxWh0KwRqNBtFIVQsg3dkLul4hCAq/DQvSLRkLkvJJCDHmZQqRPokJAiRxCwAbKQQJ6i0KAvIZCpPWHQngCvULYA7xCfC+qQrI2vkIERwRC0ClxQtzmbkL8N7dCjComQvDwJULUobtCoF9BQuZXtkJ4ErBBvmGGQmDNOUKQHsxAEIl4QlKgtULQBTNCLPxgQjRHtkI8WaFCeKOGQjjuV0LggE5CpEo5QgTC1UG0yFlCmuqfQrxUlkEMhLJCLoK6QjQoSkIwQUFCskK2QvK9jEJYZbhCMk6LQkBKGMD+0L9CWEttQqhz9UEAPfk+VAFYQiAscUJ+rZFCaEyBQgyGLEK8wi5CQIgzQnKVokJ+PrdCHm+EQuRAH0LsBS1CNCNCQqRACEIoP3RCvDx7QjBrlELQC4hCRLgsQgBl+EE462lCwP2rQkBmJkKWDLtCqJoCQcgbOkIYRLFCrJ28QuJcikKwfDdCtvCIQvgae0JsGQ1CdJ98QoKFpkLGy7FCeKSiQtCDWkJAYihC2JI5QWhDfEHcB2hC3BORQrAehUKc5DdCeL3jQWA2tEKWxYBC6nG6QuaLvULic6tC2MSaQlCCk0GQ0mVBymOZQrzbE0IkqFhCPEIIQlINmUIEyZZCzL+8QviJbUKI34BCDPmeQfCwW0JwSKtBMB0GQox8AkIwytNBoD+WQYjkkELm2LNCWuydQtIsqELYondCiPaNQmDHxELEBb1CjBIqQlCyqEI=",
            "dtype": "f4"
           },
           "y": {
            "bdata": "nCX/wcGSKsLAY2dAYAOOwAz4tcKxtYHCyIAjwXBYfEGc+YnByBwqwswY5cHEK/PBTM5wwgDujsIQ9G/B8EwbwVx/A0J8S75BGt4QwtgigcFA0fpBMBNWQeCG88FwsI5A9wQnwoKtjMJkYY3Cxkq1wiSJ+sE87u3BqO60QfgyNcEg9WRAvNLtwUBOS0DOx7XCmOqawo4GRsJQEe/BwG20vzp9ncJaGEjCOCtXwhIDZsKokpPCcN2HwYBITUAZeXPCPIKEwS2nJ8Igut7BYd1nwre6wML1w1vC8p1qwm4Fx8KAjNDByCmpwVa2W8I4U61B0u9+wlCezsDVDEXCYKdAQOjvWcFopf9BUEb3QcaHmcIk3tvBCZKvwjT3vsEABDY/EIZ3wtgkXsE4+xzCltaTwuDEe8Aky7fBwCKIQOB5L8KI4NvBpvxLwhBY6UF8LahBxblnwnenjsLQ8PnAaKAOwdC/9kEAKFTB8FiawWxUx0HIejvBfKYxQuIpvcIQjjLBJjLEwkOufMLOP1PCCFA+wSALRMGbXmTC/CWawbYILMJwft7Auw1ywqgZ40E24bLCvGulwZB7EUEU6P/BkCbUwQsQssJfulrCg5opwrb+RsKNimbCkowWwjk/JsIs0NnBSPtewhitVkEw/YjBmM0JwnClMMIgnThBRPwPwuB/OMA+tzjCMtOZwg+DpMKaNlDCnMK1Qd/KgcIg/wnAoJTewfhi0MFCpk/CgCguwc/hd8KwOnDC0VVhwpCaDMGwXLzAOOUHwjhm50HSoDrCrI+5wri+s8EMjGjCGK9QQVQo78FrCpXCmoodwuYWdsLBAkvCoMe2wsjw0UFMLXTC0LGTwLq4ZMJcRLPCdDC4wkDT4UGgc8vB55pzwhnCG8KYS6PBFzhxwnDYCUG8L8BBAO+nv0ilX8FXUpDCbK7ywUZgrMJwfO1BoPjoQTYVRMJQS6xAKEMawpVOp8KpUnbCSNAMwbZ+P8KcyKTBbO6zwlXSZsIwOJzCQG2ivzAUpMIoqeTB1FiYwhhdh0H10mjCwL5dQRwbGsJwPkVBgEZ/wepwvMKLYMXCXH+Swtosp8KwBu/BCt+jwqDFM8H+56/CQJKhwQCodj/6DHDC55I3woh2m0FYuJLB0klnwtgktMIM3ajCzI8NQvBiDsEotnPCCg+NwgRGAcJ8wqtBkPsXwjAaPsLm5DnC1ITGQQECksKpGBPCbXQXwjAWpsG88brBGCrBQbjcnMGXGsfCKEduwgpCdcKg+4DB7JdEwuIiAMLK6nLC0FffwQD7usGsgZLBHHiKwrCEC8H6kZ3C8JEBQTJ3LcL0aJ/C+ZhDwo9JE8LqNYbCBOvewQmGEcJw0y7CYcY3wuyxwcKjc13CoBJEwMjAbsIfzY7CLZ6rwn8pIsIg2S7Bi0Q0whbvC8JB/ZXCBeq5wisbnMKgJijBHCXmwbnnIsKgeDtAMOTtwbDiu0EvhqfCt+xSwnAo08GvFG3CwEeiv6zApkFyzAbCqKyuwXAylcFzI7PCJDu8QWDz78HYuCNCXeKYwls6dsJKQGLClCKAwhClOkGgOAjCIK4SwFiCt0EOMAPCETOPwoCGNsBeBxrCpwKlwhCRg8CPaU/CCMUPQk4rwsJI1xrCwGX9wGQmCsJgs5hB8NHiwGOTecJSwqTCYCgWwrwYj8F8IYvBkMiqwZCYr0HNiZDCIM8fQDAi2MFEFYrCsepFwo/6p8Kxyk7CykSgwqZrwcIAypvAkGnHwYCp58HvUGLCsPKmwFA6P8GvSZvC6Of4Qeg1BsL4gI/B8DgYwmCdncL53TPCNTQhwly4uMHIo0nChgWMwopoO8JUk0HCoUMjwljnT0Eim4zCelcXwizzjcI=",
            "dtype": "f4"
           },
           "z": {
            "bdata": "ACFjwWUVacKzmkPCRFGWwYQBp8I2ZbLClnBUwjOcw8Io/bvCzl6VwrYyksK8PV/CDE3AwpkcwsJ0+YfBbNOTwQhSn8LbsLjCsAO9wcGXscKINbjCNs+vwhjX9sG2isLCmEXWwZO4tcJjYpzCXFigwkC0asGAnTpAUuCbwl2eesJXZanCqUuLwlozjsK5X3vCFCGOwqq3csL2dVfCmDeywfb/usKZhXDCdzGowo9FmMJw9abBJyapwgCcB8JqQ6/CDKhkwu0oaMKg2UJAea6Zwp9DRMKPU7LCP606wkVnfcLpmzrCfYC4wgzGkcIwoZbCWEXyweymq8JiFYzCfzOiwvlDjcJBxMHCX8O7wn70n8JgRGXCJJhnwlsMbsLHQ5TCeME1wv9zdcLnGMXC0AJGwppIu8LYO13B1a2awgEkSMLltl7CtJXHwXbiu8IA9o/CQAwCwchDnsF8W5jBhPAUwkDFnMKe5FvCKHWjwr60h8JX8aPC/0bGwhkwe8IsIUPCzOmpwqx7vcJPzJDCWr+fwnXYP8JAMxzCyPUnwWKrOsL/AHPCzDo6wq8zxsLAal7CXHwIwmDJm8LUI/LB1pKBwpYcj8KmEnnCt3kZwkyCMsIRJRPC+gsUwry7UcLvQybCFUjEwpCetsJAMr3BwCeTwglXN8Lg7iXC1kS0wvEnHMLImvnBxgG9wu6XY8LRRZvCvtKdwoQyi8HLOyHCVnHHwvgSpsJ0ysfCnw1Pws6YPMJ4ofLB0wWdwkhAhsLInDHCuupcwlRFjcKxeGHC3ICuwiQcvsJ4McjB6g+owuKPAcJFYYjC39dRwoxQRsL22HXC5pGVwo2feMLs2UTCbgu/wgYPq8JrnlfCW9uVwvtQuMK36o3ClomJwnpoicLa2L/CcBOlwcVdfMI7CYLCXnGYwoQ6iMIcap7CSyynwncOkcKcK5fC+G2bwoCtY8G0C5jCMpyywh6SusJu+pnCsAUFwdp3t8IMc7bCfn2fwnLftMJqhC7Ca0OUwgwnnMLjOMfCeSgZwuo5XcLfnxTCRm2qwgEHOcJjdLLCeB8twX46qMJ2EJTCEzA4wpKtdMIibI3CAztIwsCricJm7sHCiEOKwmyeksKo2pvCGRo1wkCDw8J2kYHCHhq9wi8AscJodynCgI2fwjfUJ8JGKMLCHwSuwjHwqMKUHKbCEPSZwn3gJ8LAdVPB6CvHwjHZbcJHvbbCgPKTP07nncLKWV/CwivFwlqNocJljh7CtumrwlY+ZsK6p67CQ9rHwlW2v8KfiWHCpyWjwt9BTsIjKqrC5m2Xwuw4yMGczIPCcemNwnMiwsJORwrC3MbGwrDWGcEKnbHCj3klwg9hTcKlGSHCOWdowmLMlsLWv7zCle09wvFyaMICRKPCzU58wiiZd8FARrHBFQh2wkxUb8IYlNfBl1Niwn5DUcJPGLrC1MXDwib+DMIoUlPCAKC8wiZip8LAO73C4xY8wvEVUMIUP6zCgpi7wuG2n8JfW6DCtCqjwv4MqcJitzrCAGeFwq/1x8JMaLjCIB+KwhJjmcKoJcXBll17wodhtsJ4gDrCutmxwrleqcIC1y/CjrKAwjhtDcK4KszBbrZYwjBl0cEadCbCwBylwv4nxsJPR3DCOwi3wr+6IMLz/7bCVW6ywumZfMI3zCbC+PfzwTBE08G4WPvBsCKtwlWYccLq2sDCXB+XwQjJt8Ei5YHCXZ2fwoVJocIyh0PCIPjlwaKJjsIXQmLCwtaWwlOYTcIIoZDBbkOjws+XwsJ7URvCwibDwgQE5sGcf5/CK7BOwsQ8usJ4pbTCTGckwqStmsHcr5fCx+2+wmgXRcGIgu7BXfKRwhIVB8KKY6nCiwpdwuNANMI=",
            "dtype": "f4"
           }
          },
          {
           "marker": {
            "color": "#00CC96",
            "line": {
             "color": "black",
             "width": 0.5
            },
            "size": 6,
            "symbol": "diamond"
           },
           "mode": "markers+text",
           "name": "Cluster 2",
           "text": [
            "C2"
           ],
           "textposition": "top center",
           "type": "scatter3d",
           "x": {
            "bdata": "ohNpQg==",
            "dtype": "f4"
           },
           "y": {
            "bdata": "uBsTwg==",
            "dtype": "f4"
           },
           "z": {
            "bdata": "+St7wg==",
            "dtype": "f4"
           }
          },
          {
           "marker": {
            "color": "#AB63FA",
            "opacity": 1,
            "size": 4
           },
           "mode": "markers",
           "showlegend": false,
           "type": "scatter3d",
           "x": {
            "bdata": "dryFQrgmj0JAabm/QATZQJZ4kEIQkYFCFHO8QtrUoULQI9nAIG4KQUBELEGoTqpBBp3EQlCWGEJA0GFCCK8gQlrwikIwwGhCZGQWQsAHQEDq0ZhCvO6eQuDVmkKGbphCOJyJQnA/QEE0prJBqDdfQnSMi0L0LhFCiDKOQiCCqULgFk9ChNWbQpAkN0JEo69C7rK7QpRxxEJSE4FCUG/+QZaywUL8/b5CEGdZQfiHs0JAbtA/Dqy0QpyBnEL0tJxCaBibQqwDlEJuULZCdOWYQiiSrkJ+Z5lCYKLLQQgiN0ISK7VCEFOMQBz0j0LAADZCGDfQQTLGsULAxAdBCBDmQdTuukEIVyVC6OovQTgibEIQlW1CvIKjQtjJkkKUfppCphLDQiAoMULw2LlA1NUjQmj/oEL0cbpC7EYuQkCLEUJ8A1VCwJ4KQgy9j0KIMqRCWKLQQYDPfkKaTYRCEFJTQmicq0J88qRBAKlWwSxmbEI2eYBCxIIcQnoAiUKcs79BGIQnwYAze0LEGGZCTHVeQrQiK0JAi6s/WGT0QQYouUIMUzBCGO+hQvB6NEIsaJlB+E8kQYzmukL4ln1CoG/FQCijlkJE8mFCAIM8QQZTlUJkc79C3By4QcyGp0HWaJ1CiEPNQdDttUCQFujApBeUQUCrckLMAzpCBKmOQiDOikIGw7RCgGfSQKAIVEKovaBCpBVMQrjqL0JITVNCeCvAQkR4v0FwjaVCWJn4QYTTMUJ4fDRCfH2xQugRH0L09rRBQKrDQlBmjkJwMqZCTDA7Qij7tEKWw4RCEDqVQITPukFMLolCAGiBQIRkYUIQ6gRBhhKeQhBAj0LA5SNCEJ21QjQdDkIApdy/8LVvQmCDl0CsxW1CrH8cQgS6vULw+81AvMdVQsAw2kAS5K1CHEEjQlagvEL6nI5CiAZ3QZ4cu0J8i6hC5EBiQpQQ0EGYIvNBGGxSQkgDyUGkk2BCmHR+QkqUo0IyFatCkBI4QXAC3sDC9phCpFjLQUg9WEKGrYxCrGiRQrz2uUJaOKBC9t6nQhQcBkIAFTBCsPt8QohGSkFy2rZCqCZtQVCpm0IghShBCLZrQXreokLWkrRCgHnpQaxJg0IYov1BfGYHQiKMpkJkCwtCgH57wAT9XkKywaJC1riVQgDRiz8Eyg9CDJuQQt6LxkJgEWFB6Fz+QSBQMMFGf8JC5MfHQXBGWUJI+2lBGLsUQoDZvELsy79CdCxsQoDusEFsjW1CQJ9lQQyKMUIY9phCnPZsQgDSo0LYtgnB4JcfQrDYxELkWqNCbG0UQqxK0kGMBp1CrGuNQswYM0J2y4hCiD7bQQxQsUIk8idCvASsQpwni0K4IzBCopyQQtycH0JQqmxCOMhqQhxXvkIWgIVCHvW5QgST1EEQK5xCBtisQpCmIUI4cSFCjHQDQuQ7kULQq5JC7B3EQqh/JEKg3HxC6A16QtC6p0EkwHlCqJ2eQnTDxEJA9U9CIGSJQrg3F0IIY25C5H1yQriODkGgjKJCspWWQhTxb0J00yhCQGMaQsCDiUJ8NxdCPH10QihJY0JszjtC6OeSQrgAnUFUGLtC5JM+QkAtIkLk+KFBHO17QvhMNEIAuNbAqn+2Qvi6HUJAbo5CnDB7QthU50HE8b5CDqTCQliyBEJw3o1Cru+vQsrsqkIuvqRCqMCrQvhRQELAB1RCgLi2QlxXuEJOPK1CJN5RQi4rrEJo2llCHm+aQqCdfkK6e6dCXLAaQmCHU0K4DnFCnHnHQnxolEEiN7VCzKh2Qki7nkEUIZZBNK2+QsCbc0IAtWtANpWTQnBA70FCP7hCFPI4QgAUVL/UgNtBMgaOQtbqhEL8hZFCaBdFQhrphUI=",
            "dtype": "f4"
           },
           "y": {
            "bdata": "4F7yQZBKmkIEVqlCsNuvQuhH6EH88m1CtLJdQsRjnkJsuMFCJDC2QkBTU0JM8YpCVLSxQX6EtUL4IL9CeP9xQsiJMUJEAWtCrN1MQrpKgkII5yJCfPKbQSi1GkIIFTFCjDSYQtxkgELITpJCEOkNQhiWtELU1IdC5hacQoAv8EEIbo1CNpCkQrjUTkIqTZdCYvyaQqCOkULo8GxCLkGJQlDWkUL8ZydCnNmLQvYbr0Jc3Z1CCNysQjCO6UEmMMZCEBI8QoT0gUI2xMNC6qekQvR9ekJ4AyBCnpGBQgZtpkKQmT5B4LhIQhahq0JoyeVB6G9pQvaGoULQHlJC6tS1QjQMrEJIMG9CbCJ/QvhTmEJAKwxCnuvAQsxHwUL+bIJC+AC7QjhejULwQqRC8rKSQuzSdkK87rVCLmOVQrQYV0I+LMVCjpqWQpi5akISlaxCuOioQojytULQj0VC+N98QjqihEJyGphC0pGeQpoWhELO1aRCcFplQmTkXkK0Cn5CbCmoQnwJQkJgy7VBXmukQh6LukIwOJpCkKlnQkQlG0LATflBcLGQQlzdj0Lyu4lCVDpzQlwOHUJCAsBChjyGQuAJ50HMM8RCVFNEQrLtv0LQpoNCfLAnQvB5nUK8sJlCHPd/QoyYtkIA9rdC9GqfQoC/sELgYHNCvENTQqDNakJkEj1CpJKUQkbwokKc1VtCvHKuQkCKkUK67oxCZLVqQnBuIkIEpppCquDHQsAvo0KA1kNCqumtQpDZO0IKCsRCuA0ZQsjSnEIQVmZC5NKzQl5biUJGsb5CQgqTQu64rEK4lGZCjCKFQgasl0Lqn6FCSKJ/QqyTi0L03m1CmAsHQgwRoUI8IKNCOJW3QkjcmULYFrpCZFQ4QjjGp0FO1LlC3ObMQdD0j0JkoqZCcOD4QVLqlkI4DXtCAD2eQkoSo0KKgZxCBuGOQnDHMEJQTKdCQGJJQrATnkLa7qdCaKFbQkyrmUJwk4lC8PdmQmbYv0LgH0pCrH5yQtAOwkLwe75CFh6PQpTnpkJ48AlCMFboQbQzpELYdJ1CiP+ZQozUsEK4DF9CiGK2QkQYG0KYusVCdAqtQgS/h0K0A65B9CpEQjj5okHg06lC5JbAQph1bkKILZZCBiSEQpjMB0KQMqFCnDkGQrIqoEJ8fTpCTPPDQjAOrELGc7pCYMEgQmgcrELeoIZCDAlKQqCn6UFkfn5C4ryQQnAODEKmboZCzA6VQsTwokL6r5hCCEx8QgCnpUL8aZ9CqoGiQppOw0LknbhC9lmaQghcsEIcGEtCaFR8Qthdc0KIz+VB8ARHQtR9iEIM+qdCmF8yQkaHnEIIex9CHAtJQpA0UELg735CqiaCQmBxnEIMf8JC9JSLQU5WlkJo0EhCxB3AQm5qi0LQ3DdBnvDHQpwcB0LcqExCYKwKQgx/L0L8KiZCkAO5QiqbtUJwKZ1CmET7QV5LkkIghkZCupyhQooJjkKo+ZdCeJ9wQkosqEKI1FpCHLhXQggZx0IMOSVCqJIkQZjvs0LAkkRCnAGcQjA28EF6B7FCAF/rQSjtaUKOlKNCnMBWQrjjkkKSAJZCeIoaQvLNiUIc4zZCbISeQtjM7kEq8odC1quqQvznmEKw1WdCEMXGQqAyH0JMrsBCFB6eQsi2p0JoS0NCzO8uQpASkkHOFIRCBAycQrZVhkJ0MWtCJL40QsA79EAcxLdCnkCsQvg7ukKE1GpCUFpZQqhqvkKMBjNCWBxuQmAd5kEcVbtCsBBSQmwkg0IIye5BKPW/QkwBTkKMBp5CfL9lQqjDZEKAKJlCHDoFQsyJbkKM/bVCLGaKQjY6v0I49XtCgqqiQrjNlUKMCXtC5GauQsi1eEI=",
            "dtype": "f4"
           },
           "z": {
            "bdata": "41F6wnyOnEFPCjXCI4mLwlQCa8K9t8PCZ9CowsgvtcLmHwTCqGWzQWGqFcLgxQ3ArCMnQgAd9L6nOIzC8LbhQZyzBELkKLHCND6ZwhhNTkHYmAHCIqIPwiIODsKU8oFB0OdrQY7RnMKQc7zC6E2swbw9fsJwA0jB3OevQuAuJ0JA+09BRG4Ywuf+SMIA5G6/Oa0bwgAyFcFK9xLCaNEYQmSngMJ/2WrCykiuwsabicJc967BOEeWQmQp48HiMWDCaLXlwbQPSEImSplC2PZCQgCGaD+qJqPC8EPvwBB3IsGQEZJAEEciQURgE0JA8di/kE2swRJIhELAze3BIG/xwKxipEH2Q4HCjM63QRC61cHAaThA2LeCwSAVs0EosYZC4GN8QpRpnMGIyiHCuUWlwjsJxcLQxjrBAGmvvhyFuUF0XVVC7aQSwsxG68EOL45C2y1XwjlNm8JIcvxBrKiwwZCpzMGciI7C+DVEweRlR0KYtFRBFu4UwggAu8IQyqXAWG7SwYzyQEKg1S/A+N2CwkyWXUKpoy7CFnNmwtBo0UBwMIVBrMDYQcjPRcJYSgDCz++RwgBYKUBOUsfCAZRywu7tH8J125vC8ECGQH8iH8L0e+vBRCWSwpUxP8IYL1nBUAv2QbVnTsKYktTBmt6TwlC1ckFgAHbAEVxDwjQ59cHM+jRCZF+FwUjwfEFwl5LAMDRVQtJzCcLsUNvBj6JwwpKPtMJ2Gg7CxOIyQszXGsLgVnxBVzK7wkiUtcGw+s9Ao5CSwlCsWUFw0mpBcDCHwhx/mEHkJr/BD9WRwrE6McKstClCgLedP6GmrsK2Y5XCyx64wpOENMIGzLvCdJFWQifNvMLAU25AYKknQUxkl0EutrXCyoyEwqxbjsHYc6jC8oQBwkxdXcJs0gNCi7NBwljrJUK0kYrCju9Wwr2qVcJg62VAcPHpQfgLkkGeX4DCQNtKQvxJj0EEcmNCHMkUQlz1NMIc5qnB8N6PwDlrEsLRYzXC6O1CwuiOJ0IC4pnCMEaOQvzZw0LxxBTCMFyqQAxA28Gw6LjAwP7Cv2y+g0FwnGlCqpc3wsDNqUD9MaDCi4Oowg41ncLYvxhCoiDGwsCOgr+lkUPCQHpLQDZ5FcLsTbHC9ngpwvDC+MAQ8CPBIDP6wdzAssG4J5lBVOmewly7HELM/AnCgIuGwozp7sGo1MvB5vkqwvU2RsLAQDPA9I/wwYCgt0AE7LVCdAFWQquIl8KHuabCwHPVQQCVMkLCsp9CrSRQwnvdKsI+ChXCKyl5wmj+sEJA7gtCoADjQQfFGMJouhZCPuo7wrj95kGh8rzCJTlvwpRquMHLIyPCmESHQcDRjUJoNT9BUOOJwqAyzcE8mbbBEGKUwSpNnMLY9B/BMFyVQspLbMJg1r5Ajp7DQgfQk8L8pu3B2VgVwj1itMJmsWPCTEA2Qoe2ksJAIfhB0IabwWSxD0Jw52TCvPdRQgaEAcLou6ZBujmDwqDVR8CO+r/CajZCwtBtl8Ggnq/AeOBDwdBRVkIgCC3C2PTKQfGBdsJwcbdAqKGPQSj/Z8EaH6fCuaRAwq4GQcLMDzVCkBXAwaYXoMJQpdvAfKVQwpCsKsFkUsnBrK6uQhAjicJ4OBZCcpsDwohMjsI08FBCkGceQk+fbcJgVBrCSM+KQUDQL0B0BZdBANhdvSD3+8Bgx65ArReqwnCAyMDjTFXCQOVYQKSKZ0Is8WxCoDe9QeROmEHA+87B2PwTQrDjjEBQBY/CTva/QgD+5kEgh41AOuKdwpSyhsLa1JbCX4mUwrcimMLkvwPC1G2LQV1nxsJe+8RCuDVHQrCB3UD0hL9BlFaLQvBkMEHwngrC4CFyQip3w8I=",
            "dtype": "f4"
           }
          },
          {
           "marker": {
            "color": "#AB63FA",
            "line": {
             "color": "black",
             "width": 0.5
            },
            "size": 6,
            "symbol": "diamond"
           },
           "mode": "markers+text",
           "name": "Cluster 3",
           "text": [
            "C3"
           ],
           "textposition": "top center",
           "type": "scatter3d",
           "x": {
            "bdata": "/xhiQg==",
            "dtype": "f4"
           },
           "y": {
            "bdata": "+bOCQg==",
            "dtype": "f4"
           },
           "z": {
            "bdata": "R9N0wQ==",
            "dtype": "f4"
           }
          },
          {
           "marker": {
            "color": "#FFA15A",
            "opacity": 1,
            "size": 4
           },
           "mode": "markers",
           "showlegend": false,
           "type": "scatter3d",
           "x": {
            "bdata": "4NLJQKqziEJiPLZC0IqLQgrgrkJcrpdClJ9CQkYpj0KS7YFC7OMeQvTDq0JoCHFCtDiQQR4wnEJAAALA1J+hQVDng0Js6E5CaGFjQj7au0IArk9AqAP2QaxjmUGAK9DAsGTIQRhtBUGQ6NRBcPmnQhYft0JUDQdCOB/tQXQ/jELAnPtBlLrKQfhdOELYaMVCxA9lQuSktkHk3KlCTOUjQvrGpkLIchZCbM+AQgTiNkJAwpNBXLU9QlCwIEGOPsBCTDC5QmD5bUI4k31CECz8QZyErEI4T/9B1CC2QVgGEkIQ05hCBqu3QtxnX0J8YYxCkCxMQvyDd0KgkRBAwBCBQQAf1UBcAF1CdHE9QgKqp0JgI01B4EaOQvDZY0EQr0hBUMFLwQbuxkJgqYtC3H10QgDXs0IwKonAUI4hQShrUkKEKTdC/PE3QoTqFUIAJkS/fOpnQrAvikLyIZxC6BNhQtiHtkLIgq9CzJ+rQgBXh0L6w55CQOeAQuAV90HkkK9BTjSbQmjuOcFQjltBKk+1QkZTx0IMXTJCRE6TQvYPqEKUHgRC7ESsQtY2sEIwjBZCzrXBQtzhhkIAEGU98O96QcySHUIQnqZCcC5UQjCLMkKseqpCruGxQoD7vkEgdQJBoMSYQQDQYUK0faxCIDiEQkR+QEJSXJlCAFGIQOTcOUI0La1C9sieQpjLX0KYmllCwHRxQBQeYEKgGkpA4KomQhIbhkJYw05CsiOKQox3A0LQH4RC4o+EQnBzRELAw8JCBkGrQiipF0IUVWFCwHwbQUqNv0LSCYlCKLuZQiSzb0KgiWvAQDqTQlCknkK8YVNCAGiFQaouskLAWI1CppKIQpbUxEK4PmZCMI12QirNxUKImCxCLF+kQjCZ50DwaYJAnC4nQsCD+r/ob/tBwE+IQoB5PULkz1tCGFJKQkDyOcDSl7NCZKiOQgDkDT42sbhCxmPBQrpXoELgEVZCLFONQvRWlkKAS1BCGKkbwTCmMUGg77bAQGOrQXDKckJgLIVB0EHxQASSVUKY+YhC/C2wQuC4nEAsWTRCMMJ1QqiFOkIwKcBCJD2dQvDUL0IeboFClG4vQnBQqUHkIaNBDCU0QqjHGEG2nsBC5ENyQmA4HELowlhCYvWOQghCIUKkmYFBim6rQhiJKkIIZ1JCsHTqQXZPx0LgByhA1NN7Qj43hkIgbF1CjDSnQfAO90FAtKhC0JzrQTCaBUI0yphCsHXiQeyuFEKEj9FBaMgkQroFnEKWnY1CtkCVQsDyvj8QA2RC2CD5QURhs0EALKNBJGxTQrB45kFEkT1ChBWUQjLRuEKED4BCsBWfQliLd0LAEzhC1i6CQsyXfkJIFWlBoBAqQRxQg0I05zZCOH8cQTDTm0Ay1axCdFC6Qox3BUIgnz9CuCwTQXAg60Go2ClBoKKyQvj1DkLozRdCQLAsQMLzr0K4VyFC1q+UQh7jv0LgfpFC7N1VQuAMU0IQU7pCoCe7QjgMYEL4ETzBjB+eQhpnxULwCvpAsDVsQYh1NULUQsFCDKmEQjTP2EFAJ5RCQJYaQHg/tkHcZGZCBCC1QgCjg0GgYQNCpgfAQmixuUEY9JdCMPhcQtiuI0JUC1xC3NVEQkAZc0BoUR9CmNEcQso0jEJaSqhCDISvQhi9eEKSYqFCwLU6QcpBxELI8tVBhhK9QlgqrUL+CZpCEFNoQag1AELueqRCxGWGQmCfyEE0OodCYE1NQgRVdkJsfytC9nypQuxZ1UEgYPVAFH0xQtBEqUBYanlBwFrrQYi8EkLAMaZBnm2BQq7TqkIkjXBCyOeeQoBcEEIo3mlCUnGpQvIlg0LAJWJB+gebQogdpUGuSb9CdOUOQuY8okI=",
            "dtype": "f4"
           },
           "y": {
            "bdata": "AHsBQrAsM8EoqkbBbERBQnjak8EgWFhB9BStQal6HsL7ajvCENnRwbyqKEL4VgFC2GUIwVJmKMIwYOVA7BXqwWACBcI4OllBxPQSQqIPCMIg3M1BKF1RQUAGV0BUJbrBTEeHwQRlhEHA/8pBsNv2QQAMYj40msFBtGqhQez91EEgpg/AgPeIQMDuYkCA9THB4NKHQexvGUKotkdCIGx2wXAVG8Fofb1BqAYLQqDm00GQMhvBgI8EwQCVX8Hg2X3BGTAlwpjkA0Gw8gJCzI8fQogoGkKQkBhCsIJnwcjCJkGEt9rBiD6kQQBGo7+EaQNC8Gb2QejpmMEA3dXA2KytQVjuh0HsCdJBpEgpQogVDsJi4wTC4BsJwHxe8cHguN/AOiwUwuCTTEGEdNpBSBWFQWBQosBAjFZAQKnhQVjyuEFkygRCvBnrwRgImEEAHtdAQDbDwGAuEUJAcVJBVA3QQbAjgEBMwMzBXCsCQoCyCkFQF9jBIPMEwdzQGUKA7+RBHLPbwWSMzMEAVeA//GSnQbg9wsEEog5CyPJUQVjkOcHgDZpAAFU6wAAUnb2c95DBkOt/wfH1FcJMIgHClLrJwbz/BsJgnePAtM4jQqiR/UGgWRtBVmUywnC0LcF4kRhBhE0MQoBYlb8ozARB0BXpQCQatkHspebBvESKwUxe1kEgvUtBTMaWwaI9AsKggEfB2NUMQYC0aL9oSbZBNwYQwvSVUUKYPVtBADASPWBZIUHUAunBgOvxwKCHL8G4UrtBvDI6wvAcLUJQSfhA5DWsQTAntUCwMLxAADSHP3hLDMFIBmfBYC+gQfj72cHEBxTCgCGqPwDwmj2A5pXB2ElKwWimv0EgO/xAwIJXQIhuXMGgG3xAwCj5P1hP70HcJohBAMxJvsiirsGActzALGS1wfjA+UHgl2DAZFMyQgBgUj8uAATCPvkBwvDA1sGQER3BoGZEweiUJEIIA3XBAEBQPEBFGUDEhY3BwCEOQFh+VcE4p1rBgPZbQXAoWMGkTsxBOBH4wWi4MsEMfzjC3M+EQZgZAEEwBbHB2Eu2QRgbpkEFJ1DCgHuQQKCaccEACAHA8JsHQsgnSMFAEYdA/G8dwlx9xsGbpiXCgDaDv9CgkMB4mLNB9HTFQWxlwsFd7R3CoJwDQnB9jkCIIjfBGAcNwSBVIMGVvRTCABSxP3T3icEAuGtAALi0v4js8UHA2nvA1JGjQQgEEEH7tRjCsCypwGg2N0FAo0FBKFKxwZAE4kGIWgPB4GowwEBl0cEI233BQCSYQATf18Hw3+RBxCCTQUBzWUCcQwNC0MnnwYA69sBeoR3CtF9FQlgrYMGgDCzBqO0gQuDvYkCgQNxB+m0QwogskcEA/KFBiCPNQaheI0Ggs3vBGFxwwbw0rkEAKcK/5NahwaDL1cAYbXLBaPwgwRDphcEwV1rByBcQwYCvlr/YUyhCqMe9wYBnoUAQFwhC3NoyQliBy8HweKdA2DdkwaQR20EgXnpAQKLkQFjoMUIotWhBQKLmP9DA5UHc6Y/BMOwqQuyQtcFg1ehBkDGPQdh+AMFwL4JBeC5Mwfg8oMFcQ4/BAEovQKCry0F4e4NBDPgYQrCvR0GANfc/vJPnwTwd88FYoffBWA0GQnTbukFMXo9BgK2AwQBSIkHUXw1CvKXLQTSH08FwfIDBoFKvwYABfD/N6BvC0O7AQIrpDsLQKJlA3BcCwlhZ60FomP5BUfUmwoDgNEK4WwJCOIBgQagNGkGwLt5B5OQVQgiCcEFwSRrC2OmYwTjsFUJ0WJ/B9LW2wUzC4sE4o/tBZKc8woDTRUFIEwjBqas3whM1HsLApENA8LfXwPC6pMEwhJDAAPqZwEjm+sE=",
            "dtype": "f4"
           },
           "z": {
            "bdata": "MHCXQbQHqUEonj5CnCW6QoyjtUK6zI9C0IhuQphkh0EIRT1CeDtwQiZrnUIqzapCWEACQsggTEIULNtBALxIQQDv9L5g7tFApOEcQsJuoEI4h6xB9NPaQYbJiUKgy5lBmEo+QVDRXUGMY2pC9ECFQixJUkJUmXFCTEG2QlzTKkKcmF9CGEMUQuD5HUJ6HJxCZL2+Qjh6wUHUkMVCSJ14QuB6JUGAZVNCeNetQmywSUIwlmFC9iSTQrQNCkKcs69BIPllQmK8ukKePZBCkDD8QYDTg0IwwbxBUEZCQsqkskJAfUhAhi6xQmADyUBQuoVCEEo2QmTXWELE+0RCjomDQpiCLEGwqnxC/LeZQoA9b0J48N5BeJsUQvD8i0BEe7tBhNWdQajEHEKU9WJClGi6QgCwd7/0B1FCDN/JQXyEr0L+561C3EEVQkD/gUHgcDFCKKtFQqwOo0KsLo1CphGeQnDGGUI6OoZCwJSoQgC920AArCFCYOEHQoShvkGoEd5B7hCNQhyk3EGSe45C/h6OQlD9eUKg1OdBSDS8QdSq2EGcon5CVgLGQshpmEEAS8hAONN3QpCIGkGwnmlBuOEBQQgqCEKM9opC1ChXQsAHOUKAV2JCCC8NQlB6dEJ4h9lBDHNYQkDd8kHUGm5CUC8rQlSQh0L4D1lB0Po2QdSJx0KUorNBpClCQsA1CUDwHjVBWB85QqB1ZEL8DCRCSIMrQrBQmUJgGZpC8EXaQZCMt0CcHYJCXracQqBe7kE2yZRC3DdmQhxpJkJQ6hdCmKCzQXC0kEK4eGdCVrOrQnSgDkIE6MJBQtuGQvhmNUEwXrxBYA63QawsL0JCWJ9CjC18QjQ7xEKY6pRCjAwcQvC18EG0r1lCaF3wQVT8zkEUNm1CrHKRQUjnGkI0iFdCWDOiQVCUNkLY4vNBmrmDQviS4kFoh2hCGNaLQkjX4UFUU59CQNynQmLHv0JUr3JCkJDuQBh8KEFsr6dBvGBcQugWuEHMfiRC7O6AQgR6VkLAKZ9BoNhoQOA6pEBoJFRCQiWtQhD5kUIUv5hBKBqSQrxVFULc7XpC6HwPQuCfpkDC6IxCgFriQVBJtkHQGOdBWGkjQiix9kEYEHZCKEZqQaBIUkJUmJ9Cfh7FQtBbv0DsNAdCBlmEQnw2z0HqE4NCQKv6QfBquULAUQFCENU5QbjcfEJAK6BCbKQEQuCUkELo6YpCuF6dQjw4QkJiSYdC6ElrQrAPzkAU1AtCqJaWQZxjZUKILhdCbHixQsCi8UGAKTRBIA3uQaxCoUGksD9CCguqQuyAYkKobdNBiMIuQghwXkJ8vkRCpkytQrAlD0EgSsFALPeVQog9vEH4QAZCXBzKQXQZ3kFoDcBBdGpVQvhAdUKYB4FBlKuWQZAXmEKoVC5BaK4GQShKd0GcFlBCKMJzQgThiELEAnJCWHoIQcBBgb9k4YpCENnpQSoqiEJ8Pj5CnHyIQuBzNELMTURCOJ0eQpRbuEHgplRCCByNQYC4skIgshtCcPdnQUTPIkLmXJtC1qmoQlxDjkEg7TtCyNknQuAuhkHwCN1A8IS9QSD3W0H0ZjBCwAKYQWRlikLoh7FCdB+6QpZos0LmJLtCRJSCQYic+kEEN9ZBZN00QmAYSEIQe5dClA4DQjygsUKAYWtCQNRNQZxSjUFMbbNBoDGsQiAcgULQi85BcJBjQiAlU0EUGF9CXLVlQjB/DUJEjIVCGNsdQjgAgEJAqHNC8lLCQuDuwUHwMBVCyJELQhRqTEKYgpFBdNSaQUYviUKUpBVCwJYgwGjOBkL4s7xCNDNPQgRBLEJYwXdCEt+BQjyLREIgq5hBdqKWQgzjIELY0htCIF1tQhgTx0E=",
            "dtype": "f4"
           }
          },
          {
           "marker": {
            "color": "#FFA15A",
            "line": {
             "color": "black",
             "width": 0.5
            },
            "size": 6,
            "symbol": "diamond"
           },
           "mode": "markers+text",
           "name": "Cluster 4",
           "text": [
            "C4"
           ],
           "textposition": "top center",
           "type": "scatter3d",
           "x": {
            "bdata": "+DFRQg==",
            "dtype": "f4"
           },
           "y": {
            "bdata": "wU4dvA==",
            "dtype": "f4"
           },
           "z": {
            "bdata": "oUw8Qg==",
            "dtype": "f4"
           }
          },
          {
           "marker": {
            "color": "#19D3F3",
            "opacity": 1,
            "size": 4
           },
           "mode": "markers",
           "showlegend": false,
           "type": "scatter3d",
           "x": {
            "bdata": "IEdJwfR81EH4DSZB4OwSQUSSJEIAVDzAaM6XQY5jgULghhZBtIacQaQ8o8EwRbpBcEbDQCC/vUEocmBCALohQWgS/0GgG+RAZFwlQuj1MEJAFXPAEEnmQaA1EUGA7kK/aGZLQQj76EFAA8U/ALSGvgAfKb+QnYHAMDDcQbzxH0LgESfAhHxgQuje40G4Px1CIOcqQMAv+j+UA9pBADzcQcA+L8E4d29BfIPUQaDJcUBobqhBoB8kQmAUD0IU6gpCKLSjQWClacAQX7ZBAJIHQIDzm8DQg5HAAIknQdifLUHkvjtCRDd4QrCayEEsjU1C8NKywPBy6EBo/rpBOK8KQUD9ysCkubpBMOykwJjvD8EQ0w/BpIjGQVySskGgB4/BYEn6QWj+EULIaZpBQNHJP2y5zEFIu1vB7LjaQUgwWEFgcytAMP0JQiBusEBAAutB6CJ3QQgvPcHItAtBVLcIQkBB1UBAxXBBwKCmQBgXKMFASFDAoBJNQfCs50FAV0XBHGU0QphKDcHAHV9AAMBxvMC/hcBgJcRBAMCXPgi/kEFQ8blBoHyYwNCsP8FIemvBiBJjQXCyUULsn4JBqO8pQnBEzMEAplk/QKHGQACcrkBgt9BBXHo6QgCdlsGYRvRBoEX2QFAo8EGobgnB4KBQQtB0LcGwzrHAMIl4QSilRUFAY4FB5BwIQrC/rkFA+zlCkPjpQBA5mcBIzx/BcCk7QaAwckAA9yk/QMScwJBt5EC45xvB0FlTQXSHckLsi6BBzGLZwVhQhUFgB4dBgEPgQdCKAkHIE4lCCFo9QfiqEkKEF3xCoM8mwQB78MBAmFdAiD0xQYzdVkI0M2NCYEAXwABxS79carBBsClgQQDiuT+QLMlAYFIlwcAQKsAgpSZCIBMNQeTM2kFIFRvBABZxP+h3PUFACfhBmIY0QpDTrMHUOEJCxAG+Qdz7zkEAyxnAGNsnQihnrcFYwDPB4PMoQiRjmkHIUk5CAK8dQRhjCEFwSFZBZPcuQhLhiUKghAVB4He9wIyPCEIYoKFBMEQkQvBRAMFYH79BuKGzQYAPvj8gR0ZC0NauQJAXyMBQO4BBwMcRQqBl+cBA91dA4CaLQKAhIkIgLNtAZKIAQsBdasDo1FnBDMoFQmisMkJgXPhBQF6KQCzrJkI8whBCEPqywEDmmUGYsQRBzN2EQWB6U8Cw+i3BYP4kQfgh2kFEkYDBHBEVQnyfMUKwM5/BNFRbQmAfuUBA//lBEH6SwZAoM0G4tsVBYONtQKxqvUEghjdBYOyZQZh98UGQjHLBwEWTwHw0pUFoa8ZBOGPLQQDCQD/wHqRAtOhUQqxNk8FAkYs/gFZ8QdwTFUIIk/NBqKQtQoC2BsFASebAEEbbQWBNeEDYonvBuER+QUAqOkEYlXRBAKQxweBYzkFgUvPA7M0RQiiCJcGQ475AABB5v5BzaEKYyjXByDE6Qmh3O0Ig9rfAIMcKQDjDCMFAtl/AcAhXQgBVD0KoovlBCJsHQeCFhELoLEdBLIHTQfCacUHANfRAkGn8QRCFMkFw3rhAUCYzQhBFpUAICYRBZPKHQWiih8EQwc9BED6jwACA8LvgQBFBInSRQli7YcHkoXhCMNw1wZA+tEDoWGpBAAmAwESmkkGc02VC7Dm/wUxmc0JYZ11CgDbev6BJ0kAYCjxB/ISRwdCg+UAsqFxCMFA+wTh4tUGo5oBB4LbawDAKcEI43jdBAM7Uv3B+NcHghlXAjA9bQrhp6EE40e9BAH0Bv8A+tL8I3IxB0IlMQhRYUUJ4v2RBuFndQTC6W0HAghRBAFAdPmDrycAMEBhCAHSXPoDrUr8s8qnB8FjAQHg02EE4XR1C6J5mwWQan0E=",
            "dtype": "f4"
           },
           "y": {
            "bdata": "eK8fQkpQBMIE2MRBCD4SQoBJUkHA0ZlAICXhQcCBxUAYkptBAFlhwdAhpcHgxFDBpHigQajtocGgtnfBEKR9wbBXKsFsvplB9CCzwYyJpkEk/5NB/MmqwRiFRcGUezZC6E+JQbDupMBo2QZCmJsuQsCrX8EAJE2/lNyFQdBhDUHc00xC+AUPQXOgEsKAAt9AAOSCPYhu4sEgV4dB1E+NwaA8bUEo9mxByIY4wVSYuUGgTMZAhOTJQZgz2kEIYf5BoETZwEhp9UGw06nA3+okwrSH1UEo9inB0C2Mwd6XC8JgUNVAsDPRQKBfFELg25jANE/rweDc6sBobI9BilIHwuBcCEKQa5bAguYgwoFRHcLgpNrA4L6UwfwzxEEQ8CzB0OqjwcSOiEF8BwFCALpUQEAACcDQUCDBEMyGwXidpUHkWjlCyHPxQTBHBEKg6pvB/ArYQQDfiL6s6obB8FvLwKy8GkKkrBBCcGINQfCAgcBKjAPCUMrmQTgRSMFghZRAQFUuQcBgjj+A0ZO/UHA3QZBnDEHghPZB0JWQweDvl8DoDYhBuG3KwVBxmkG4r1rByDoDwQDSer55gCvCYJgqwIgHQ8Ec94BBKCnlQZi1zUG4qqfBrG2SQWCcYEGMT/nBoCBdwLhXAkKg80TB4GX6wFxWl8HcvYDBlE4hQqRpJ0Ig+TZBZAeuQXQ0F0J4TD5BwFVsQADYHkHwvxfB1DEyQswXDcLU1fDBGDkUwiwPQUKUlaDBnsovwoDlN8AorBtCFDSJwTgTGUIoT9JBjLq3QchSf0Eg4A1A+FiNQQwVjkEA89C+hBTawRDnBMGwUBpCoG/AwKA1xkBk24dBoOVZwcBjBkLg+a1AMGd6QSAFbEDwOYDABASuQYgJi0GIlVtBEDBRwXjvfEEehwzCIMH9QDjCfUHcuA7CQBV8wOA/ecHIs6pBMOfqwSgP08HM//bBQF7mP+yZqMEAxkW/3J/DQaC3CcDoIWLBXIS4QQQVMULgLd1AUC6EQXBm7UDUiYHB8NcSQcADAsCQ4aRBACKLv3CK4sEQoUvBZJ4dQpT9j0GghyrAMswHwnRa4sEADPdBgD3QQViiM0JoeyJCyHoMQtgYhUE8p7pBMKXlQTBkF8LYb5ZBMDOlwHyslkFYPcxBKPXWQdD6h0HcIoxB2GZKQhD19MCMhrXB+Mv6QQA2kr8g+2RBwGlkwTB27MBA3INAgOXKQaAVzMDI90LB6FuGQZAI4cBYvMdByMk+wZDb4MDwhvhBKA+OwfBp2kHQb7JBoJQXQiZtB8LgKs3BCCRyQQisBUJAUQ7AgDI4QdTzM0KggSTA+DizwRStxMFgz3lBVPIWQsAIuUA49Q/BYCF+QeBn6cHgOTPAHhkQwmA3UMDgu/FAwPKfvzQM3UGt/SXC/InEQch5L0EAmrI/4IriQUBlRsHJTxrCaEtVQdRaj8GoNRTB+ICxQRjEyMHwfYRB/PIlQmAdbcCaxQPCGIgYQXDmmcGcsqTBSKcrQtAGsEC48xxCoGulQI44E8KwI/BAoLwqQPDeA0I4r/hBgGtwQShVw8EwNa3AAFmcQQjHN8FgAXdA4DIwQLADcEEIcjRBkOkdwciqGUHgKQDBKLqjwYCmJcCMFbfBiMl3QVBlrsEgSoRA4H3JwFDxY0Fgv2VBMF6EwIC8GkGayQjCEMzJwCSG5sG4bRrB4CAIQagFDsHgkxNCAB2Jv/D0UkGArJdAIDw4wQxsDsKgIftAAHDtP0C/0j/QV49AYBlfQeAEz0EwILJAAI2qPwDEhL74QyVCcF0VQUC1H0HACi9CAGHZwGB618A4UVFBAEaWwCC+v0FI34LBSFgdwmg0AEGMjYlB+Bbiwei6+ME=",
            "dtype": "f4"
           },
           "z": {
            "bdata": "jJK9wcisHcEEWJ7CON0yQSxEl8HCKIXCcrmmwth8csF4YXTBiMLiwQyZ7MEgqH3AQNMDQIQBtMFAfh3BWMo3wQB7Yz+Q7ErCUJTpwIRijcGg+DnAEm0Twjw1EcLY1H3BWhGgwpSe2MHYBGjBAHQUvw3pbcIQ8DvBd7VAwq6+DMIdOyfCzLOdwQivVMEAIfO/nAjqwYAh8D8go9/B6OjIwQuqNMJw+9DAkfISwnxnnML4vM/BR8VTwuR7y8Fb5DHCWeQnwsDuR8HARU7C2Q02wr0TWcIQsD7B1/ZnwsBDJcHQX4zA4BfowWnwNsIQj6XAPDMMwgA4gj8FrDfCTHoxwswNrsHA56rBvHEVwkDmzMEJ23zCaF5RwY6JkcKFYxTCAOWgvkzXj8EA6CBBMUxVwhjrPcHYfMvBOCn4wcgqDsKAUx7BqCGFwfGnccK8Ut7B0qF6wokPSMKkNoLBFNfNwcKGScLIORjCJN1swnXfisLUld3BQEbDP8ReocFCzoHCnSFFwkCkgMJu5JDCQKXxP+AcVcFEC2zCAChPwIDdWT8gI5JAcE1iwXCyKsJXjX3C7Af7wVAIAMKQcPfBMBHEwQTMKsIsJ+XBrNKtwWnGncKqeSHCvA7wwa0EKMKYyI/BHP7bwTe/WsKQsinBgOmPv1RkGMKvTk3CHN9YwmT54cGhforCgBnav5OaocJIHiXB6HIUwZOrVMJwabLB8pQnwux2gcHgXQzC2NGswRymbsJA5QfCMBvxwazWicEGKCbCwqktwpBaxUAgQt5ACO/nwT01HcIEHJnBQi8BwogVdsGw3Q3B8ACewbK0kcJM5ZDC7p0VwkCfOsE3oSPC/1BFwmhoN8EIg4XCtneRwvEzG8IYLkHClD34wRS16MH9MCLCiLhbwUh8VMF08ZHB9gxlwoC/QcFk5sjBXKiMwTIXLsJACtW/gCqMv0AIK8Gu62TC+DEhwhY0BMKeWz3C6KICweD4isA8/MbBPImXwnp+HcIQtdhAANxgQFAsksEApxXCagiEwmgyE8Gg95bAlH0PwvAW+MFSqjvCSB05wmRNV8JwkF/BjvU/wqzw5MHAAyhAxLBTwpDwAML8pz3CMJiJwZdwFsLT/xbCoJ1BwWDKB8KUuhbCfaY9wkBvhj+wQ53AsQNQwtz2icEA/Ow/cDilwXzhm8H+uVLCOlkNwoCpiMEYa9zBULCIwHaZNMJgxbTBYChEwfjXEsFbrGrCkw4YwtIWccJMIhTC/APlwWCXHcG2sJXCGBdHweawBMIgoQrA54uvwhBnF8Ggf9rBDSwtwsQz7cFgmfjACNZRwWvAH8Kwk5HAAMc0wX3uLcIcQ/LBzJ1cwviz0cEwH+jBkDwewd2ZXcLG6HnCQH4PwXSRjMJAge7BaJCVwWBUYMGImAfC9D0rwsPnRcIormnBG5xFwv/EIMKOwQfCcIPtwGgRGsFgnjPCYBCSQFAwlcHPFy7CfjZwwjZWU8JgDWDAQE6NwVyetMGcShXChoJ+wiDfsMCgi+9AwEOnwEh0rME/kp7CPImpwahlcsL5GKPCUB0Owqr+D8ICcVXCkPwnwa9RY8JwFw3BpNTQweBr1cGegCfC8F6/wN55VcKA64/ARLA6wpAZp0BMwr7BdCHEwVzClsGMn7PBAVVLwkh38MHIhYXBQKx2wcNrUsIqJRLCZAYcwrR/usFwXejATZ92wgAIzb+G/r3CV8OAwhAu0MBGIWjCokOAwqc6G8LYMwbCvGajwaDvNsGgOkhAp090whjm7sEgU0pAJFgNwhirIsHKJZvCXSdwwkDyvsHI2lrCsRKJwoCeVcK4WLjBUKWwwGAOAkDgC/fBSPL8wfDmIMGNxmzCOGqlwWwnxcE=",
            "dtype": "f4"
           }
          },
          {
           "marker": {
            "color": "#19D3F3",
            "line": {
             "color": "black",
             "width": 0.5
            },
            "size": 6,
            "symbol": "diamond"
           },
           "mode": "markers+text",
           "name": "Cluster 5",
           "text": [
            "C5"
           ],
           "textposition": "top center",
           "type": "scatter3d",
           "x": {
            "bdata": "MQR1QQ==",
            "dtype": "f4"
           },
           "y": {
            "bdata": "V2COQA==",
            "dtype": "f4"
           },
           "z": {
            "bdata": "u1D8wQ==",
            "dtype": "f4"
           }
          },
          {
           "marker": {
            "color": "#FF6692",
            "opacity": 1,
            "size": 4
           },
           "mode": "markers",
           "showlegend": false,
           "type": "scatter3d",
           "x": {
            "bdata": "YFjgwNIZUsKwcabCSMyhwYVAwcLxDn3CoFiNwUSzhsGYL+/BnKuHwgCINL8zJpPC+ZGxwiLmA8Jws9dAgJkwP5WurcJEj55BAG2MQAA4lT4dlnPCqBSfwVhbCEK4CsLC07qawt/PvcIonxPByCN/QqiJ7MHgbhfB0GhQwU2sh8IcWvHBVaCFwuTOBsKcr7vCcF3WQPBKpsIaf4XCq9MzwprSCcJIUcPCgDc9Qbk3OcIAgMC91Ew5wvSfckJFak7CtMEAwlz9c0JOhTDCMI4JwYlEosKguALBWnaXQlCXGsIBKcPCCzRuwg38icKslpfBeE5XwviAEEGIuXrBnRC1wsCRtEG4pKnBErubwkBkLUCqqzzCBYscwkBu/kDuwwzCrOMKQtYTLcJox9dBwBh5wbincMFgF9zBixXBwjXyesLQ+mbBlLuiwi9dncLAEFJAQA+uwvCWIUIsXWDCwCDGQfXWU8IWxZfCzOXCwlQFlsF0jp3BZPDtweAXl8AgdgRC/ZOJwqTGlMGH/CbCsMmGQQvjhsI4ABPCTHSLwjx2IML0W57ChqeVwhbfuMJqL5fCyM4Vwe4xAsKArH3Bnn2JwnNatMIMZ4lBDjynwpGPwcK5E3fCkECqQHUohsJAVqhAGEQdQQhxEcEQP5DAaHzvwSA5OMG8RgvC8HeDwlgsX8Kw9LrBgJYBwedhucJkjIvCaZQ1wj7YKMJg+SJBsh4swrbmucIIxwzCIPAFQEwklUEw0KXAGLZjwcAl9UF71VfCOn8uwpT3KULoXwPBfHxqwlDSg0BAb+0/yHWkwWDzmcL0Oq3BgD2JQFDa2MGulEnC8VCbwgjPZcFwEabCsLf7QTTq28HtH6zCaMWLwtAy9cGwbVbCcKzhQC7SD8KMEsxBA6C6woCMKb/GIzDC4da8wr5TBcKGliHCFUZAwuAayMHIb2BCoIRowIwmicLf4ZrC5DEdQinygMI4tTjB5MmQwRmruMLofQPC8A39QIp/ucKIlhlCvHLFwhh5XcHgKhLBdDK+wRS5skG5ZCHCblcSwlBg5UH0e1RClwS5wkDj78CYa0RCgDGswU/AtcIhWE7CwOJhwNCH/8FK0VPCk8CNwgw330Git2TCgw9wws3PG8Jw9WrC2HUCwlBqkcJmSHnCIIFGwj7skMKs4ClC0AZuwjN3vsJAVDrCMLGBwOz6xcKU37HBU72LwkAlV8E0QAHCIKkRQXwbwcI0T7TBvMaVwuBQv8DxqhDCslgxwtA6yEGYeATCWfxZwpwhc8LI6V5B4t81wkkBi8Lyr5rCTkqSwkTMiULQMDvBPRm3woxUm8JQUAxCAEhhvwTfpMHo/qrC/lIFwkm1hcJiBnrCCc60wvDnsUHI4A9C3DHJQbBoCMJjYK3CwLd9wTBus0DVHUnCeL6twgBs4MBqNHLCqmQ1woBa58EqnwLCgGAFwTLFmsJZi3zCnX+iwkAXBMHkMqhBOYp/wqDT4cAAs80+4MEEwtzBNcLskbjBPHHVwYBuCkIeK4HC8GrkwRyfwcKgtsjB/CyqwaBq9MGw3m/CAI3KQKy5N8Ks4YNCQBKewdDzNEEEIaPCAqtIwpSMPsJgkwdCaMI0wjh/EEFIE75BGy7GwjriQcKTO7bCtzPHwrRcAsLhQJPCMAe9QfSYscHsSHTCaOFJQYmVVsKAAKXCgLhdwfjjHcG8UcDCIJGWwgCiukH436vBcPEFwhh4PcF4xqlBADk5QHgdFcHaXr/CSp/CwoXXrMI0BBxC1uyQwnhD+UHyLYvCGP4awsoaosJgNTPA3DSNQX0Kp8IJvD7CwELEQeSzO8LYhiLCiAcXwTjXAsFAZkDAhZfDwufXWMICGJnC4sCJQihgbMI=",
            "dtype": "f4"
           },
           "y": {
            "bdata": "kLYDQtCDWUKM+WRCIEe5QFDUdkJs1gBCpEh7Qoqfr0KgbcZBKBebQYzEpkJQ3qpCljmkQkbcwkKkT6BCDNNbQqRfukL2I6dCGMqqQjQjHEIUG09CxAsaQnDXdkI8eQdCSKwNQjIWhkJAk19Can6mQmiCR0JI3nFCqBQ7QsSHlEIgN3pCQOyLv8pJp0JodTBCToKSQsRrjMEiEJ5C6OSqQkwHmUJA0IxCjHAUQpR2xUIAx5FCmGokQoycUkLiDLVCiGZ/QkwLZ0IY7/ZB5B+PQvQ4XEJ8XR5CCMB0QpyVxEIw6+1BAFStQQhzKsEKGo9CpiLAQkABmEFA9KxB8nmCQhyIdUKU90RCDGfCQtyFQkJUGb5CfHkDQqqrqUKWUYpCMLGxQsA5fUImRaFCHKpGQqwpvELUr4FCLCAaQhgJrkHY4vRB8AC9Qig/XUECM5ZCBJclQtrYt0LIvYdBHNpWQgRznkK8cr9C4Ci0QYAusUKw3mRCmIJrQiwTxkJqUr1CQECIQihlOkLmNalCrCcCQoA6+0G4G5RC3JpZQi5KkUIQXV9CMKpDwdC0FEEy6sJCoHSjQCT7qkLOJLZCpCWfQvRcqEIIpXlCUDFbQuxfqkIkFg5CNFFLQlIFj0KoyI5BOL0wQXyWnUKKc4lCyCuxQeyxmUIQQv5BqlePQlDHdEKQEpdC4o+VQqrNwUKk4RJCyCyHQkyeGEKE8cdBAPVrQuA2a0IEBY1CUPpTQmwRZUKkGQVCEGdVQujTr0JAwHxAPLG5QtJUkEKmC71CANBhQZIPlkLQ7Y1CrkG7QgCYIUKO56dCyuCkQhDJOUKQHH9CKLgMQVrutkKwDZpCNAs3QhxTgEIQQANBpOq6QiDjPEAIsMFB8g2lQkDmX0JYtpBC/Ni3QhB+nEEAsLg8sOdSQvS9XkIO44tC7A+3Qiw6wUIoE1RCzKslQgi6S0IQJ01CbGGUQhg0wkKYla5CNJM0QlATWEIsjsZCCpaoQjCBTkIQoBRCrL2qQeQKVkImuINCUJ5iQtTOUELgi0hCQMlOQfSjGUIMcmNCvFEwQs5Vl0J8VydCdGQ7QpQ5MkIYjClCVBEqQhjiMEJcZc5B4IaEQsRgxUIGcrRCeD5eQlrgsEIgFRtATuGkQoCIs0KIkgVBSLFIQsyx2EGy0LlCcD2SQoBPhr8IQPtBLFuzQiDQW0HkUBRCAPVFwJKIkkJyzsNCABByQoAjLj9Q7w5BwDqqQkI3x0Kaw4dCCJ1EQoQFOEI87yFC4K5FQPAk+UHUc49BZBxbQpJehkKEHBZCNoysQm4LqkKst65CoEbBQiCJE0Kiq5xCBkGdQjhzpkKECVNCEmyXQsyKikHw8qVC7u6DQq5ekkK0RXZCXv2IQljCukLYm1dCmDzuQQzZOEK8yiZCbOhEQjycwEEENqxC2GmXQqi2vkIEQLRC6nKkQv6SuUKsp6tCyCk6Qmb3pUIItcJCbF8ZQpBkA0FME15CXrOkQqwut0HKcalCRDlhQsBLC0Lo2nxCaOf9QQi4OMGWGMdCrqmhQtT5nEJ4i1FBzJwDQkCH/kGyR5VCZFJUQtBCMUJwNsHAAGJCQVxtCEJwV3xCGgOrQu7lq0LkbDhC4MhGQn5jwkL8dGFCNEQHQgSnT0JSYqNCKke9QqztOUJASRJAGDIhQnhmtUKYxL1CUFAqQnxLs0Hs4YdC0OR5QkBwFUKqJZBCkrK7Qn6dkkJMTXJCwEJaQWxVoEKsY65CsDZwQuTzX0KeRbFCvtCUQqIitUIg8CNCNtKNQiawxkLAkf5A7BgqQjr7k0JMNrBBjBdyQkBeQUFYHU1CAOxQQtDeNkKIuFtCCAdcQjg+SUKCtaBCODdfQiz8kkI=",
            "dtype": "f4"
           },
           "z": {
            "bdata": "9HF1QowVjEEsmENC5LKhQnznEkJ8QENC4AlkQnR/HUKSybNCMpKGQmDbeUIGwMVC2NHDQmDCvEKWKJVCtIdqQjyRg0Jwp41CyAoVQjLRkEIGm5FCWHLnQSQMfkKEH59Chm6YQnybB0Iw/K1CMtypQkQmZ0JoxStCINgrQviRDkLavoVCYlu5QvR5jUIkVEdC9ChsQg4RlELYJ0NC9DVBQrALqULUfgVCTru5QtisokFM9ZdCmLl6Qjb4wEJ69YhCyFITQTSCp0IUu0RCiufEQqizIEKA5TZCdNG+QrjGBUJqUrBCEqqkQppGxkLeCrlCrD03Qi6/rUIUsEJCIJxjQiSNakJYtK1CYMFVQnikm0Lm475CylSmQo6Mi0LUaFBCgFqiQha7xkIeHMBCvA/NQexPKkKQ/JpCdh++QrbAlUJgfcdCPC7DQa5Yn0IsDIdCcMm+QoA4gkJk6b1CNDeAQrxeoUKkMkJCaE+GQlQjnkJa17BCfuuhQlCDDEK8kIJCsLezQpoqx0LWa8BCcEqMQswdu0J0gcNCnDuwQvD2v0KG7LtCViHEQjbblkKQscRB9NKKQoA6Lz+ItYBCXn2SQujHLEK06CxC4Lj2QX4Nl0JAKG9CJBZVQnDzZUHOh4lCcuKvQpSJk0KwHpNC3C0kQpxFyUEEsKhCGEeCQdBghEJ0AzVCCItRQbCG/kHstXtCaA/RQaTOUULaA4dCJFaxQhS3TULCG5xCqBaPQpjgZUIM+otCbISoQtBzpUK6G5dCgNKrQkbKrULsmJ9CRFW1QmyStULYh35CcESmQmrumUJIXGxCmrTAQvr/jkIoV4VBRhyYQnT8pEG4a/pBQJKFQrySH0KIBbdCgIVFQg7mpEI0taNCEPIjQvAGfkLIgERCVKWcQlwbxUKcUZdCLL5LQvKFnkLQwdJBaHi6QSwM2EFYR51C0K39QRi2G0LIaRRCpIx+QrjhFUF4UQNCMFDPQXwtp0LIjJNCrEs0QhI7uUKk4qVCdPqgQjCzJ0L8B1pCwAyNQvztuEIAuFBCruODQniaikIqQcBCis+bQrjN4UEujsVCrPFKQhTFf0JE995BTPojQjwBwkEc1GxCJME1QoTOr0LGvZNCGIqVQoxjI0KI/KdCvIBKQkYZgEIwEIZCLMQTQkivo0ICXoJCSt6EQrL7rEIEgGVCslCEQurcwkLo3elBpPexQorlwkK+EKJCqvOWQoi1nELkTYdCyPOJQsT3wUGQZG9CgIEMQjqumUJciH5CRuTFQkTcekLK8JdC6KwHQnANlkJ4W3BCsCkoQjBFuEJ4XrdCEIoSQkptsUJ4vFZCksmNQnCM/EHsZp5BoN1RQdDPq0JUVhJCPgS4QsYct0Le47tCghzGQoh2d0IoGbdChLaEQkQxmkL8HH1CAFrXQZSOb0LkcJNBoKpJQcBCR0KiLrhCsKTYQfhmvUGkik9CqKEAQnCGIEFe98VCQLq3Qgw7w0J40YVC9EhDQjiVUkK0VXNC2FJHQRxiukI6wJtC7HcDQvqtnEI2IKxCKO5BQUqcsUImtrVC4CC6QqhBW0K+ua1COG6WQhjwf0JKcpRC/NuUQqTKVUJ+g4FCtl2sQrgiUEKGKY9CKDrBQpwypkJCioNCSOmqQsgS6EFqY6NCkOVwQvTewkLUXWpCKNaIQpgcYUIMTzlCvNClQhy3g0LaQ5lCaJdpQn7+vkIYTJxCel/CQvhffEImgI9CsKe8QgBdhkKUFYpCdP/eQajzb0KmF5dCfJSqQjassEKwtrhCMMbnQIhkTkLGR5lCnreqQsiXvUJI7mJCxLJhQoQBvELoZhVChkq6QoyOEUJUF71CWE17QhxzLkIQqSpCSrPDQiTYYUI=",
            "dtype": "f4"
           }
          },
          {
           "marker": {
            "color": "#FF6692",
            "line": {
             "color": "black",
             "width": 0.5
            },
            "size": 6,
            "symbol": "diamond"
           },
           "mode": "markers+text",
           "name": "Cluster 6",
           "text": [
            "C6"
           ],
           "textposition": "top center",
           "type": "scatter3d",
           "x": {
            "bdata": "zqEEwg==",
            "dtype": "f4"
           },
           "y": {
            "bdata": "h6NgQg==",
            "dtype": "f4"
           },
           "z": {
            "bdata": "mAp+Qg==",
            "dtype": "f4"
           }
          },
          {
           "marker": {
            "color": "#B6E880",
            "opacity": 1,
            "size": 4
           },
           "mode": "markers",
           "showlegend": false,
           "type": "scatter3d",
           "x": {
            "bdata": "YLZpwJIpwUJW83XCvkEHwrAAusJEVyfCJ44jwggxOcJEYy5CUEr2QUAilsAKtFrCEH0zwQiF+0GwhJ5AICrKwBDw4UD0loLCyaCywpwDsMJNw1LCUNofwWSjIEKwhdtBBGcdQmihE8JhRbfCYIX5QVTAAULgzDzA5Oggwrgc7UHQ/z3BIGggwHw+hEKA9RhC7cJbwmNIscJQKXjBVP+DQgRsXUK0DxZCmK8PQiDQ2UAAuepBgOPOv6gweMJIaYbCI3KdwuIVhcKMQFFCvG6TwXBX+kEgQK7A/sm2wmBBoECWA8HCq4wqwjBjXkJgYXNC2PWfQoANfj9U6ybCpGT/wWxylUF7eaHCsYIhwiXKasLoAetBa8chwgB4Lb897T7Cxm+mQqj/UEJQ3q5AmJKbwpjSeEHknpJCGLEbQaZspEJIA7PC5jGaQqTWaUJorknB0hgDwqgDu0L4AnBBWSlpwqDVeEHu35RClquHwginyMEZCa/CCMJAQfVURcLM9XtCHHyywogOIUJye4XCAJ0AQrK9g0IAMrxAMC89QfhEycGAXg5BhPhVQrzKaELI/kBCg4acwspYgMJgyZRAQLjfP1ncgsLMhFRCgH32QfiIlEFIJOZB18PEwuInucIUVAPC5OAawjC/AULjNZbC6EXoQRq+hkJAHmxB7PWuQbI0h0I8kkZCJKtKQohhhUEa08fCy267wiDJoEBIv5HBsO5UwYGKu8KW3bVCnF6SwcBXFEJg2UnBtBaTwiB0FECgS2xCADLvPxiAXsGEaZzBGKCWwfYgnkLAVoVAlp9kwgwCjsEkc37CTPQPQnR0lcEgKEfADFZ4QgCuZD9ApmVAgGyav4wOxcHtfFzCexyawmhW8kGPEajCHviuwgGhGMIqLADCogaSQjTZXsItBsHCwEA7QD4arcI8x2tCwAdtQiDYO8FwnyJBeJhAQkyIfUJhCDHCEOHcwT82Y8I8mZxBUJ6gQQCrSz9jx0DCJvQ5wtiFBcGSaL1C0qWEwjxbo8IwDSZCWL54QoL9xsLwE4zCiZ57wgCvkr8Y0tdBuPl9QVzBD0JkiFfCztQFwvzeCEJAOz9AFBkQQvhegcIjppbCa/Yawvi6cMHg3mHAvoNcwiRJaULMVo7B5WdpwnB58kHASuO/8OOtwJi2LULkuZlC6UUmwgbrtcLDbYHCKFZZQmBQe0Ic18FCWD0CQSzpgcLUD9PBM+VcwlCNAUL9uXfCFtyAwqj+8EEndanCSDaows4IrMLI3UBCgAtMQEBfl0E8hrZCf2dZwlOMHsJoS19CpA6TQicOMMLQDpVBUIGRwMAcpkJEP9fBcO2/wIkFWcKsvbVCmMsswuD5SsFAr7bAHOqKweTrPkIriKjCmSdLwoG8EMLq4DnCZHWGQiR2WkLQ7D7BBPzfwWiatkGA20zBSGUfQUDYd0BXHiDC/K6VwiATTsJEbIvCzImrQQkTxMJ0UZhCDDeswvBEBUKS2JfC6HKUwrADJ8GbuKjCLGWowvBipEK4wq7BMBrfQRRzd8Iv1ELCXJCCwnjrVkEQjadBgxM7wpBVYEJPhy3Cnn2BwiRdk8GVkUrCGOS9wc28m8K4MThCQK03QfCeU8Gkmq9B+JpcQnh1scLQcWXBKabAwrBJh0GX0nTCyq9LwgiF3kEg42xBhBANwkZjp0IenoNCdO+7wviqjkHQJIpCSCiTQqAO4kEgn+3A9NyAQjC+xsKfDXbCwmwuwkAHC8EgzQ3BwLiGwn/RwMLw60nBXMwDQrSG28Fk5mlCIK3ZwXSupEEECvXBLOMgwokDMML6LwDCiNmAwenLN8JAPkFBYK08QHxeNELMbwlCWvmnQihSQ0Jk1FBClKmpQjiSnME=",
            "dtype": "f4"
           },
           "y": {
            "bdata": "NyWnwgAKlsIo7rPCgBQfwgk6YMJYhSXBHrmTwr/+ssJWXUvCfG6TwnHWgML4jgfCNoetwsAJrsC0STjCfkY9wtU1lsLone7BuPmKwrzvtsK7u0fCMJQowZADJUHZFSjCoA2iwQDmnsIuoC7CZMlXwkJCfMJZxCfCXkiiwm61K8KhhlTCmLq+wfoMHMJgOoHC2SuNwtlFxMIiVVnC8x1/wpf/ssJwgUbBiO3Gwvw9psIMN6TCLlyFwoho2MFan57CL5S9wi4bqMKwSWfCqAHywfKiDsKUWRvC+CtYwjj9DsHMqcDCeFMSwTyQ+cGLYbXCPahBwt6kssJ4UgvCosZ8wv9dwMJ4LZfCJta7wpDnjsHw0FLCkomzwiivkMIEMMDC9Mzpwav8LsJUFwrCVR6mwtxnR8Is4NvB/f0gwmEnocIvcHDCsL4AwiKsucLXxUjCLB/4waldfcKYUJbBGNWzwo0bXcKInBPCRx2kwm+fsMLGNBLClmKVwmmaNcI2CZrCaOS4wrr9wMKkgrfB/TUnws+TncIWFqvCj/5Gwjjps8HnuCnCeLL/wdo7BsI5NYrC0xKhwuEiwsLt7pbCSBi9we5KvsKDihvCcN8lwWqZO8KYJbnC3F/xwS5Pv8JUN7jCMO1bwjr5pMK8fdzBnAFxwtcah8JowCzCELejwgQck8L2sbHCZjJnwqC1bsGC0pbC+7ISwgBmhD4gKAfAQdR3ws2LuMLe4MPC0hKWwgTLvcIEkYjCNzquwrhvssGvKq3CTwSKwikAFsKy7EbCGlA6wnoSicKI8iTCu3YiwkDUmMDsGWfCwCmEwsDhgcJoUYjBRsOBwtBoDsKGlZrCOoAywrKXRsLEJnzCEnIjwqBVOsJmWGTCBcIpwrgCiMLwnk/CVH93whYwwMLY6BvCzM2/wdBK4cEKY0/CSwhPwrgmRsHPUI7CYl2Zwic3nMJ4IC3ByndywlElqMKzZ6vCAMLnwRBc/cCwz07BdKGXwrYwvsLjLS3CDHPwwXYRocJ8xg/Cbq53wiL0hMKG5IPC1n2Dwoo/RsKFG1nCAC+KwPv2EMIwos3Bn8aowh+VGMIosCrCFWPAwvLuUsIn0JTCKYerwlyaZcJCQJLCLewnwtTIsMKyPhXCj3pdwtu8l8IIdLPBG72XwvCOdcIQJl3C2nU0wqcdncL20zbCizQ7wqDrlMDMeE/CmPyCwqhBLMLjeMPCxMNJwsoNoMJ0pKDCll6lwgrwncLoEYTCstOnwhTKBsJXO2zCVnF3wv4of8JejkHCSPt/wiwJncLd/Y3CGstiwmBzA8IoxLrBek8jwiTbgsLc+W7CZgu6wkdARMKSMkLC+J/HwQC0PL546pzB9DCewZoomcKXb6bCHyaCwqR5pMJkv4PCInScwshPIsH9ClLCNMfuwXsaVMK0iSvCFLa2wahemsG+uaXC5jaiwsPaL8L5w8bCQEV8QALFacJwkcPBWjM+wiKMiMLyN5bCtAqawhwaYsKpeqzCTI0HwvVjZcJAQqPCaCUHwjLzR8InnIPCK4ikwqzZbMLctTbCfUmLwsQujsKC5bfC+HNuwTCc58HgCJXCDqtAwj7wZMI2PTLC7LvWwaA9xcBIr5fBvNOhwtY/DMKSezzCrRKqworCBMLNtbrCDo2ewgG8IcIL3DfCZKILwiL3p8I8qE/C6jUowiCId8JIpo/B7nCcwh3sGMJzLj3CWlSGwiaJCcKeooHC6P9pweAhg8LYxcPCJnijwqcYw8LFxbvCGBSBwtBYXsKtrX7CREq3wQD8AT6BuaLCcR01wiAl8cGV0J7Ci9ltwv5MsMKEfcHBDIpKws8fxMJ9aZXC1Nyewor0vMLAMPTAbaeYwrxGoMI=",
            "dtype": "f4"
           },
           "z": {
            "bdata": "QqSVQpJVmkL2F5BC4LCVQhqxgEIwh8BCqCIRQqwcDEK+TLNCDn+AQvZOqEK4n65CwI+xQkblrEKAXDBC3D1mQgzui0Js2IZClHC/QvRuv0JiXIpCIOacQgAUxkJoBkRCxlSPQoiooEISzrJC7Ak6QlAZP0JUQJdC8EsTQvT0jUJkNn5COjOUQqRAg0LAzbtCjgCLQkgfZ0KwMpFCcuyeQvLxnELkcZ9CrtGLQnYOtEKA7FhC5D+wQjyoskJKtq1CKPKpQmRIsEL8wqRCILGlQmaGqEIuHL9ClgO3QvbFpkI6wYRCAHOyQrzdqUIUfsFCgs20QhSPXULSGLBCgmiZQhwhtUIQEoNCuE80QkCOfkIynZJCJDtjQpAGnkLCyaRCAHm+QnC2f0K8HjNCABZQQggJLEKWnKZC7iuwQh5HjkJkRr5CXOiXQiDHk0Li/bZCIhOAQo51sUIMnbRC1FCBQvDLM0LoP5hCfPI9QnxalkJOo4tClENgQjDeJkLelIVCTP2pQgwRuUKYrI9C1EpRQjZssEJ0e8dCcNWTQoAPk0Lc7GVCCoKqQqp7pUIOvKJC3PI8QtjFKEJMz8FC+JZJQpzXgELm7pVC6g7FQoD2w0Lq5rtCmG+zQgxJu0LsC6NCYGAVQnazsELEoMJC8HN3QvLxs0KQUDlCPl6UQljBqEI8Tb9CkkOkQkRqlkI8frVCCgGZQobTs0J+VL9CKPC2QlLDqULoHpxC7Jt+Qji7uUK41LpCJIgSQnCOpUKQ/7ZCMKUoQuI0lkIsOABCgPeVQlhIoELAoB5CpMszQkBjlEIK1qRCHE+zQsguYkI+jopCFrGpQlbJpEK8/q5CpNVpQnCgQkJsJQxCwnqIQojuaEI8LTpCeq2HQjRILkLMcrFCmMGKQmqIgULyGqFCdo2hQtTjwUIaKq9CuHBiQiaawkIAND1ChgHEQoARokJ8kJ1CWNpdQkR0YELAYI9C/AWuQjKfhEK25p1ClI9lQigEYkLMbZdCuEFkQuCaNULAo4lClmS6QpjubUIgZQpCNl6GQjLNvUIIyS5ClGnAQly8gkJsBK1COAVKQkqqsUK8iCRCbHCEQmSPh0KkpwRCtFakQkZPmELs+SpCzLZ9QjIDokJU4rtCaGM6QhqggUJykbNCmhrAQphil0JgyL1CWHBxQtigI0LwkpFCTIqxQsDgvkK8malCpMBeQuj/qUIuE7FCggSeQnRDn0KkxjxCMOHGQvC1mkKcQrJCOBNWQnQWrUJGdbJC3C1UQgh8tkLCV7lCZAquQiQLYkKaDppCvKq+QvwjoUKMRMFC2LNoQkpDg0IymLJCtnKNQrpCmELceIdCoj3CQtobhUKqObhC9DmsQpo+qEJcAEVCumWnQtgIHEKgQX9CsjGwQvoFwkK0+iFC5HWaQh6lt0IQYjFCOum0QpBki0LAgUxCBoWyQhBrokKw6yBCGJTCQmhVq0L6o6VCCA18QlI+mEL0dDxC0BBrQsRxQkLq0ZNCKM6cQvA3a0KIfatCYONdQl54hUK0KBtCRJhIQthJpUIAc8ZC0KY0QgJmhELsbo1CwkbBQvgruEJWkaVCiOQ4QiArlkIUqqxCGkrAQjaLlULe0JNCTJ3EQgLtoUJIk+tBrF5mQp5LjELOYYFCRK4JQpzsqEJU6nxCZuvDQn4FlULUSWhCXLOpQrJUtkJU6bRCzni2QlAGNULYCuxBkG2SQtA3rEKynp5CDGuEQqpLx0JicZdCtmGJQjBIoUKAjp5C2Ey5Qq7yjEKOL5hCfEaJQkyytkIkVlhCLpiLQlQ4XUJkgFlCFmadQnYBnELURmdCIGxFQkRdi0KUzJJCPheJQuTvlEJkprBC+LHHQuw9KEI=",
            "dtype": "f4"
           }
          },
          {
           "marker": {
            "color": "#B6E880",
            "line": {
             "color": "black",
             "width": 0.5
            },
            "size": 6,
            "symbol": "diamond"
           },
           "mode": "markers+text",
           "name": "Cluster 7",
           "text": [
            "C7"
           ],
           "textposition": "top center",
           "type": "scatter3d",
           "x": {
            "bdata": "4LwcwQ==",
            "dtype": "f4"
           },
           "y": {
            "bdata": "Nppgwg==",
            "dtype": "f4"
           },
           "z": {
            "bdata": "IBuRQg==",
            "dtype": "f4"
           }
          },
          {
           "marker": {
            "color": "#FF97FF",
            "opacity": 1,
            "size": 4
           },
           "mode": "markers",
           "showlegend": false,
           "type": "scatter3d",
           "x": {
            "bdata": "KpKSwhiJm8LO66/C2Gl/waYbjsKeHZbCCvIzwn6ZvsJjykLCEN/zwPY/hsLo9IjCdPPNwQCvCb8qU57CaeSpwmXnHMIsv/HB8GG3wOdmQMIkv57BFm4jwhDZJMH1ipPCfctJwl3QVcI8q4HCtph1wv0oT8LaERPCOJNfwn/7ssJgSmrCdFKgwS8ULMJ9GcPCRPenwXAEicLK3pbCSto9wvEZqcLIf67C/hmrwnCQg8H8CyjC4BcvwnZWT8Iw1MvAsEe8wlmLcsLDR7vCwHkxwHRdmMIO9JzCWBlqwjhJF8I1P8XC9JctwvLJWcJMlpzBjeo3wnnfx8Iw593AW404wjx0l8L/PqrC7aZywgG/wMLYZP7Brt42wo9sWsJywiDCZoqvwrlKX8LeME/CYPgkwp/Vw8JwCo3BazAZwsXVsMLGugXC7mmbwryepcERrGzCYM/+wADz27+QH4jCMJgvwaKVC8LmrrbCqMnTwXiAbMHQJGLBkNylwuXrisIg4WvAhxfGwshedMKgIaXBQgWTwgBf4b4KcXTCVBdMwrxmRsJ4C4TCG/1UwhSe08HVeGLCSKuzwiV+t8JTZqzClocFwijFqsEkvMfBYMz/wWCcusBMlqnCf16pwkYxoMKIWGXCK4hawvVjVcJ0pKDCwCb7wTr7AMKN057CGqGywhBU8MCYjvTBb6+wwpYJmMLMJc/BSlCXwmDupcI6ZpbC2HmBwl3bOcJJfXvC2e2wwkB6asH27mbCV7+9wooPwcJwo6PCJDuKwv9nicImfCnCGHYhwWClzMGNwEHC0GV6wkobhcKCCsDCY0eKwiC7rsDYlE/BNAt7wp53wsJALxLBhDiUwig5kcF365rCGYe3wsl/qsI3EaTCaD83wsu6iMJ31sTCH383wgBF4MFUb5nCzCf+wRJwcMIKo6HCXEYWwsA/18Ff/J/C3Mm7wu0GwcIXuq3C2jeSwvQYksFtWl/CdaC/wjbUn8KLD1HC/PDNwUhl+cEmkg3CgDeXwvenlMIQc3LCeFKKwhqyfMKBFRDCTAwHwtLEQ8JMognCRj6Rwlg6xMEjCV3CB1R6wkbqiMLHGiXCqmgKwjzihMENejPC+7uAwvL+bsJoYlPCoCmcwPBp08HS0bHCGXw9wjD2cMIaooLCEOGcwD1PZMKUyM3B79uJwnhvLsKM0bzBRxiywuCAEsJVhC/CaEhmwSTvkMIJqVjCISXHwgDojcInYsLCi0CtwpvbpsKNK7bClPY6wkZnx8I3GZfCTj9Kwoyap8EU6bbCiEuvwQD0mb2Cv73CetwNwn7cg8LdHl3CFEgBwsjRjcL/4ovCFuPCwu9hpsKCmrnClK2VwmAd6cDCObrCCtGUwvljp8I0uaPBe3ugwtd8pMKsncPCDNa2wp4NAsKz5bjCQPYyQOBQT8JtTDzCkgxmwsB77sFXxznCMAkqwaw/AsK+dTjC0LoRwmRtx8FgE9jBO91hwi8lxcLwCPnB8KxjwedaScLAYYXCpou2wu5qdsL78cbC7i1GwraaMsJcE67BAA/UweDEWsLgEi3ATdmqwuKfAcKiCn7CpQRCwgAdv8LZqjLCvN/AwRqOocKB1YnCu8m0wsEcVsLgLcPB7JwSwqdDg8L9FajCNBqmwgD8ocBAMvzBQZ2rwjxytsHBjRTCRV2rwkhXWMHA5k3Ciyc5wiBjFME516vCDo4EwngRl8E82trBy0NXwih2m8GcTGPCpHIzwv8ctsIffpHC/8JowvhsPsFHF4TCwJODwjTaesLe15jCMHVVwZiHiMIj0lPClL6lwfoRBcJkC4/BUbmZwjRFecKKH6fCfXOWwiC08cDMQGfCV+uYwlLWrsIIxFbCZTTBwnWMZ8I=",
            "dtype": "f4"
           },
           "y": {
            "bdata": "2LsGwaAVp0IwYkXBFLzUQdxZkkIktYtCgAMvwZBkkUKuU4JCwIeTQmJstUIoBQRC7pm0QqAxM0LAphBBCEVJQqgNj0GAGN1AjBE1QoDxnUJglgNB1Dy9QoxwxkJWbMFCfAdDQi7thUJujLpCmFW8QYCyuj842TJCXPdcQkAdcEJoja5BjJWrQmyxIUIgpCpBvJQzQnCf4UECuahCIIeKQiDSIEGeXcJCUBcQwcw1kUGupsdCsEYlQmAeUkGYQWxCANyBPuRYpULIvttB8KguQqxRnEHQZ2FC/JC9Qf7Dm0JkSYpCSpqMQmgiUME2M6xCAC/wPxSvjEJwMOBBqh6kQnAOWELIhapBWAfEQUgKgEIkGzdCdEI6QoYjw0IMxo1BBmu2QrgxtELEcbJBeNm5QgCV578k9C9CoNioQkA9t0BIgglBtDlWQtDCJEHocyZBCBqMQoirLELs2EZCyJBmQuAtQ0KUvA5ClMmvQmo7t0KgcOZBbA9jQsB34z+aKI1CmL7nQSjLtUJcxNlBXCOmQrBonkKEpsFCeLdHQt6orULsKAJC/DiRQQYXt0JgpgpCoKC5QgBkXcD4vGLBQGYNQqDuaEJgbRlCPPuRQaQwvUGQegFCxJKGQrwnKkKAqDtCBO3FQtBtAkIAoO09MNY+QqhBLkII12tCoFMUwPgoo0FCaaBCgGFZv6RBK0I2FqxCJPrIQbRBuUG0U41CjL9YQijZt0HcO6BCDES8QgBypELIRx9CACUbQIBTM7+Ar2dCvONwQoCnZkBgQQLAuGBRQsg6DEKsRK9CiCAhQTRvikHgvzDBwP0ZwLA8M0JYcJNCimq3QkgOdMFIs+1B2D8fQlghvkKAWXtC4LyaQtB1REGKB41CnEE7QlbHnkJ4YRdCoJvpQbCA2cBwTW1CtIghQph8EcGw9ZjA+OaJQpjerEL+l4tCIG0KwQy4rkLAObJBAAAHQoJ7x0KQ31BC7M2gQpCwnUBQXG1BcAm1QRwxokKwEJpChCzSQcAvK0JYfhxB3BskQhju+EHSMaFCzGSVQgQKwUGw+DdBnPc4QgQqaEKw6JRACK4uQoDsvUAaGpFClIN9QkD5uUFgVRJCGAs3QkDFp0H4fw1BaPAFQhT5kkHsopBB4GPZQaTax0Fg2WBAZCyGQkDQFUGcGqxCSkWzQuAo+UGAnD5AACvfvjAeXUEQAFxCoGYdQgbOw0IA92/AoHxOQgYrwkIQrfpBYIpyQdxPsEF2iq5CUDJoQlAawsBINOFBCGoAQkQOREJQSz5ChCjbQZAuq0IgMpNAvDbRQZApc0ECrJBCYGldQpAu5EHWnL1CTNJDQmhBb0HQRBRCEB+fQmClk0IADVRAMN7HQGj1sUKMN5NCgHP/QcY0gEIEiHlCfDDcQfgVFkGgN0tCIFitQqTAJ0JodJVC0HV+QXiyeEE48aRCYDKYQEgOgUIgdjhC0GevQNBKvEIo7l5B+rqxQoqjgkLkITdClFlRQiBjq0J4neRBuBpVQoBnYEIIAdZBgGTuwDYUokLwzoNCaDGEQYBRMz/A+etBYNblwBo+skIsPaFB4EQbQQBMe0JMFRhCxoyhQjShsEKs7XZCYKAoQpBEMkLAW0/AiAMnQfReT0LwXghBEkmdQsqLhkLIq6tB4PH9QTCs6kEAp5xCXBJdQgzHNEKgYLtACDSmQgSgskLwanxBADPTwLgBl0KAoiq/bK1KQhSlI0Ick0hC7O2WQYB4oj9AhdFBYL9MQnyrWkJAQ7G/sHMqQohcmUIgL4VC3JkiQqxgHEIAj85BDE+MQm6AoEKYu7VClJkpQjpWqkJYAuxBgEb2v9huk0JIaWhCqMtlwbj1gEHSKcFCGsCkQtDEmEA=",
            "dtype": "f4"
           },
           "z": {
            "bdata": "AHq/wu2OwcJM/J7Coxsrwmg2KEH4fZvCdGhZwkDwI0GpnpbCSiGdwrAmM8GakYLCSqq+wuUflcIPdjLCXM6PwfRhw8HnkVvC8ijDwqh2cMHZzUXCp0x7wgYAi8IApIdAgI2pwg6RHsJYJJzCliuTwlQgnsL+uEjCJ/1+wsinwMFf+yPCldo9wh7zQMIVGDPCEAqawQIVB8LSr2vCkKKUwPa5gsIwuv7ASeg2wpOKWsKAUZXAEg19wtU7RcLOAJXCaMJMwtNPx8INxzbCTm2Twpywj8IAS4U+O1aIwqCEAMJuGHDCH027wvN5FMKiYZXClWSJwq9hj8LeIMDCAEq9wWU5jsJJFxHCwSS6wiRzf8LTyUfCOSe6wpRr6MF2TcHCSPdRQf59NcJ8jfPBUKuWwRomPMLt2zPCILzQwPecQ8Ken7rC7PXHwXJOQcJGiITCtko0wgoUfMK852PCkCwxwgFgwsLOBkfCPDBIwnhxnMKyEUDCbKngwTiA88EmwKzChLJQwoC0XcFlHGDCWIplwqM9i8JLLJ7CXbR6whc5xsIO36nC2G1swsj6hMGkdI7BYjpjwie1KsLCPovCL5eywj9/isIjRcDCXFGOwrmhrMIwIb/BeHIrwfwHmMJPE7jCQtspwki1ecFTUaTCxKr5wWyCj8IAHcw/w1Juwkp+hsIxY7XCu1t8wtC2hMJm97LC8GWjwgCKOz8aCoTCzxmQwiBoIcKARlDAhKTAwSiJm8GHkLbCcBAGwp50wsIQoYNArFxnwnsgv8JGK6DC6bCxwq5xQMIbdB/CkpATwiwWfMLGpYXC5ZIQwjghgMIWZkjCkW6jwmiVeMEtWLLCWIVHwRhXk8IoLDxB9rqTwo/bqcI8obDCFSatwpL0pMKMyKHBwKJ+wc7OxcKYx4/CuMAFwuiSU8L24rXCbTV7wtQOmsJS137CgPXkwUuAv8JEwDbCnlpIwpx7j8JAZ2hAaLGCwozrVMJ6O7fC4sEKwiggOcKDKozCGH+6wVhrksJGSr7C+MdkwTA8x8GKx6TCCPC4weC3gMJ240XC+KF1wYh5iMImOALCKBBGwQOIQMIEOSvC0uhJwozIqsKBiEjCpjCAwhLJw8Ij17nCimvBwid1YcL/dabCR01FwmffL8KjTnzCl1FpwpCYRMLh4h3CRVxDwjpuisKEo2LC9qgiwkBjqcLVgZ3CTM7swVAy48GMdJ7CwHsXwKUAVsKwDm/BiKk9wUBNsMGkmfPBAEJ1P5p+v8I8xrrCx2XDwpfnN8LC3ZXC1+wzwoCLk8KKDwHCuTpOwkAXv8EYr5fB8MPrwVwsocFQ1QXBcDGIQUeat8J1EbjCiLg3wj/6icLLPi3CTKfDwexVKMIcfcfBgM8vwQCUicK98HXCoAjzwKTfpsLhp6LCwn+owhgYSsF4yeXBkdiHwp2aoMJwQu/A8bvEwincWMJHYWHCWDtlwrMBucIO+hrCnBF6wvrpjsLoAsPCFmgBwq2qIsKgKPXB4LewwUBGn7/qAy/CSGalwjUnMMLTU7fCKwaewoQ+c8L9FL/CeiGFwuKiw8LhtBfCsHS0wmS2+MGBFlnC+qRtwuCKZ8EYaUpB2pt7wgCJvL9LK8TCOFiUwv5iwcJgMU7AAPR1vpSmgsItHkjCIOh7wTxzFsKEIJ/B0IMpQT6PSMJmGRbCc6CPwuoKn8Ijnp/C5gDFwjvPqcLOAazCFCK3wq9MNMJaRYLCaxZFwknqv8LkjuXB1liLwh7cX8IAk/vBALuSv6t3xML4GLPBdoGRwoPzKcLOu37C3TCwwkymjcJERZTCHh2Rwkp5eMK42hrCnI0jwhJzvcJflCbCSD25waRxzcG4LdrBvOWpwtRpvcI=",
            "dtype": "f4"
           }
          },
          {
           "marker": {
            "color": "#FF97FF",
            "line": {
             "color": "black",
             "width": 0.5
            },
            "size": 6,
            "symbol": "diamond"
           },
           "mode": "markers+text",
           "name": "Cluster 8",
           "text": [
            "C8"
           ],
           "textposition": "top center",
           "type": "scatter3d",
           "x": {
            "bdata": "34lgwg==",
            "dtype": "f4"
           },
           "y": {
            "bdata": "Ymw/Qg==",
            "dtype": "f4"
           },
           "z": {
            "bdata": "sVZPwg==",
            "dtype": "f4"
           }
          },
          {
           "marker": {
            "color": "#FECB52",
            "opacity": 1,
            "size": 4
           },
           "mode": "markers",
           "showlegend": false,
           "type": "scatter3d",
           "x": {
            "bdata": "+ylBwoDzlEEEjFNCAPyYPliNrEEgWVVBcJCSQlwDC0IGSKZCECLiQVgIScGc37RC4lWkQmhIUULKnKRCwPylQfCLCEI4QtpB4OfSQCTw0sH8G5RCzEoJQqiPDEFoRnVCgN/0QMCoTkGChkbCSLpQQjS8SULQajrB4pcmwmhYX8GcrBFCikmgQvCsNEJQFgpCjuKfQsCjX8FATS1B5v+1QgzlGkJUvTpC9OlUQhgCq0GAWD9CFDuQQgCyxEA2Z59CiLiOQVyXkELUVoFCAMBxvDBEhEGA4CA/yNcCQhAs80GopcZBKOCkQXAVd0K8LrfBALSfv9hISkLY8WJBgCn8PxDsjUHiJotCKJRLQlhLNkJgjGrAILDzQZDEuUCYTLPB8C1aQrSk88Fw1HXBaLIRQkz9XkKgL0ZCoIYTQKTBmUHSO41CYCtIQURLiUHAMxzAzjDHQmnmO8KAs2c/vEUUQjAus8FIyW1BTFaVQRwIIkLuCqVCNvalQvjeMEKAWobAAL1AQLQRHULoWuRBgM6jwHvkT8LgA7XA4Pe7wHwPgkGkqndCmLYMQtCu/EF0CrBB0HJawWz2oEEABdq/wHVXQsZQqkI+sppC/LkGQj6+h0KISqZCKKYlQhTfDUKQtV5BxFU0QpA9OUK0U4xC+CgJQmgZWUGwRmZB1JlmQlixp0LAxOQ/EARtQViQQUE4ihVBBqSlQqAIg0GkokVCmjqWQvhf/EG0h59CsLIWQmDoDUKCtY1CwH5/Quy/OEKEGFJCeCAlQgaTgEI45KNBKC0vwYC7zL9Q+HxBhn2MQvCdXUE03drBWBwXwfDvKkIA6jZAzsW7Qjh0+EHkJZHBoG0WQO6egkKQDQNCwM85QFDmmEKwvNvArP5wQiAmkUKIH17B0FzeQCAWlEK0a3RC6oLAQijIskEoe59B6P+eQeK2hkJIBIFCCBicQqI1BcLg1jxByB6OQoDNDUEEHLtCFMK/QoiNrsFYF3FBjsvHQj1RQ8L8ToJC6D59QvIFu0KY8jZCqBWIQuRBwkJuAJZC9G+1QZgmIkJwA/5B+FIAwWTTE8IKjcRCSLHCQWTeH0JEm0xCjAHTQQ7UvEIAnZ8+XNcgQv6QvkIWjZRCWH6IQlzDy8Hg7FlA+BhwQgAd/j9g7uRBwCIMQMx7qEIgghBCugagQgQjjkG4lMpBRD1aQvC90MCASQ5BGNtCwfALyUFQVuxBEIP4wLQzY0IIXxBCyCXyQep1rkKgCGjBQLaSP9if5EGgw6NA9GsMQl55BsIGmZdCoChmwiDessAAY40+kDw/wURwgcGED3dCwAplQSAC6kHCsptCgPeHQHBYJkJ4P//B+JvzQaQtnEFAESrAWDLDQnyaI0L+aKNCZKxUQsgp70GcCRDCmC9fQjywvEKAYTW/cOFhQqgOgkJwmjVBnDx4QrQ1P0KEvFhCsHf6Qcj44cGOToJCgB5JP8Azkj+0xLxCoKI8QQRmZUJUZ2hCwCKwwDaVwkKA9WLAfNZbQljtAMFQgOHAsO/3QNDcvkAcJYNCYBB3QsbIj0LA+CdAxmKiQp4ukULQCOBARPQ7QvCj+0Go/25CQCMRQBZmxEKoHWtCCFGdwTYHqUL2uoFCKDTjQdDuKMFoaJVBkO8gwUTANEJAZMw/0hKEQi6KhEKsgDJC/CfCQfwlmELIHCdCgOpUQdDINkLcKHtCqTwowgChYb8gcQ/CkNCiQvxAeUK0SplCiq2yQnCmXMEI27xCrLWDQqgQZcEgdQHBSKEEwXAFQcGM1JrBiKkLwtAuDkFAZyhCqM1OQjKepkKY2jJCUESSwIC0ucDuLI9CEL27QOjtwUHAaCBBbJoVQsxAskLYf2NBcAizQqjq7kE=",
            "dtype": "f4"
           },
           "y": {
            "bdata": "WDukwmwHkMKjDMLCwGd4ws2dk8LDdsbCH+h6wteZg8IsBCXCZs07wqAaP8JXYsbC3f+2wpuvtsLxMVLCvpq1wnsTZ8KUYyHCasqgwuKhnsLZQq7CToSwwmAEd8IYRb3C9OKMwsQbpsKLgL/CyMSuwhNYncJvkUbCsySdwpHwYsJf5sPCCX3AwqRemsItUpXCg6l7whVyLcJp5aXCDvQ2wrizeMJg7SjC/66OwiuGM8J+c3rC/rDBwhOPccJUdbXC/FSvwgtBc8L7a6zCgFmFwpgAPsL94cPC85/AwpJ+tcI58pXCuo2rwj8NvMIHS2/CruqWwkpVfMKIYKXC9MmNwnoZncKU63PCdjSUwvPrgsJcXrnCW7yawv8yhcKXV4LCcnGcwu+ck8IKMKnCx4qfwvXHM8IfpbzCFIFvwptuNcLCppXCPj24wtZEcMLDQUnCplSUws2vucKgQEnCbhMhwsbkT8IdGFnC/POBwg2fiMJjPMXCmITBwqLYicIANbjCZaKawnZ2vsIi0XXCKyJ9wvZAncKsjIzC4eOdwurfc8Jq+pHCtzWVwrT8r8I4LsLC7EnEwinEL8LxWHjCRVa9wjZtosKp0S/CQ60swh4kOsLQd4nCL8fCwkROWsJEAjLCGI6Zwkc/tsJ6oE7CEUMmwnWuxMJsJcDCva+ywp9tw8KKU17CDIq0wq4HssI2voLCoiOuwnFmT8Lk1YDCLrqkwsH8xcJT7mXCYoZqwuJvasKHoGrC2iu0wsZBkMJpq53CvBu0wu2/osLoE6nC/RBRwohBs8KqcsLCL460whhyjMJuWWTCmVKqwqRmY8Khmb/CGPmDwmqhqsJkQbTCov9swnoVj8LBxCvCYUqrwomgb8Lud6nCBXiPwq8ol8K73cfCmsoTws3/asIpvI7CKEqwwrDAnMKL+2nCNbNXwouDtsIZpGHChJagwoTxusLfkIDC+bPDwvdCtcI9AHPCIjR3wnpOtMKp15LCEVmhwm9Cu8Jp1XDCFQeawjDemMIqaL/C3A2jwg+0vcKlp4XCCODGwqExssKyDXjCtGCGwp7us8JS6ZrCur6SwgDHv8LlqcXCWyTCwjSvmMKU8jHCU6OBwqjZtMKn4bbCLIqBwrUwYsJ4KMHCOhe8wu/amsKS1qrC1cBYwge1rsKPl6LC8NyGwg7YtMLxmYzCzsmZwuGIe8JkRVHC2afAwsosFcLXYLTC+Omswr5/MMJfiMDCvu8jwkyMYcJ/c7nCQWPGwhbdp8IgNbjCwcYswusoTcLYCVHCIfm+wrs0r8IiS4XCaBGxwvy9wsJ7b5PCEs4iwsivoMLrslfCakBNwt1OXcLBVMfCFMarwvUjiMLOU5XCkWafwhkTdMIyd6zCenZ7wgO4rMKW+GzCko2twhpqksKRcJrCFn+7wqfPacJI6ibCAdZ3whPUrMLzOFbCSA+CwlSgu8JK05/CgFEzworuv8JnQaDC/l5RwiAEncIvTnPCOnycwtqwucIQApfCsKFwwrF2c8LclqbCJjNTwnq/OMKstrnCntIjwifre8L39WnCktGlwjo+uMKQV5bCnPqNwjiFksIkFZLCadGZwkJDqMKwf7nCpCKTwsZ6m8J8wKnCM66rws5+ZcKfGTTCWda+whBnnMIIIJ7CUSBQwkdPgsIWLZPC5tUvwmEDjsIj+HDCiOhSwignncIV117C+v6dwlBkv8Ke8cfCXlQ5wo9jq8KXdbzCV+rCwuB6hMLqU7TCdkGEwhaVcsLl2GPCXnJlwnxQWMJJKrzCJA59wvXZw8KCRF7CeOubwhZdoMJNJq/CgVKjwsxQRsKyl4zCHP8+wt+nqsL0uJPCGh+hwuBPlsJCDIbC/3qhwlLGu8I=",
            "dtype": "f4"
           },
           "z": {
            "bdata": "XIGkQQAYw0F0/XpCaKAAwlQA38FsvKnBACWovhjR/0Fw3fBAAFQJQYBfUEBo2QdBVNM1QqB1ocDMOClCUocywvAyhsHgKs7AvAOGwUBJ+T8ooIJCpLg2whh2v0GkQ6ZBWJI5wQC1AsF8DwlCCIdtwTgd28FAOcpAoP7OQWShh0FIxgjBpnWQQkhdUUIkrsrBOCAaQvCYfcGA3+VB2E4iQeizbEHgbV3A6ANHQYB3PEAQN/RBWN+cweBmJsHEq3BCUCzsQSDScMCYC9nBeKyBwVAR/8GgVd3ApGIgwpxcO0I6uSLCQFsvQvwmvkEkjtVBAADUPsiS80HUhOnBeAcEQsD6JsBYwQtBIAMpQoBIvD9QwmdB6IZRwdAL28C4iFhBgPUBQnj4WEHYYL9BzM2xQfBMykHol3ZC/I6DwZi+eMEATBdA/B5KQkT/kEHEk5tB3viGQoAR90EQ1qbAoKZNweAJB0CAiinBoPYiQtiH70FkWYRCVJy5wQS9qEEAEh1CxLSTQUiaCkIA3tC/EL/dQXyzrkGwbchAADarvyRkDMIAyEhCxDaKQfwknkEg9P7BlPkkQlCJF8EgP+VAJI9iQqCLUcDIn0tBQPp9wdBGukAQpfVAhMURwmBtM0Dk9oBBGIE0wWD+N0DAncHA6BIWQfFpNsJAjCFCcIQLQliR3kEwMprBwC/mQWBth8Fk0rvBQET/QQSHA0J8CorBsGByQf9MNcL8A8VBwKhTQOz810FQmbRAAExLP6C3Z0GY1GZCgC3WQUDKcEGQVRtBmB95wcglLEL8hwzCsBp8QjDL4MDAuWNBGH1aQdDg28BM1LfBTN4cQp7lOMLwO8VBwJOIP/ysHUJ4VSXBzKMyQriKVUJkhhBCZBShwVw+n0Hw2DhCMEGAQNRsLUIALse+3AEiQqj61UGYlp7BIO0yQIQ/LUI4WR5BrOatQeBFV0HAjY6/5HILQv7hDsLAfBxCLEQqQhCT0EG4avJB8OnYQSRPukEsHiVCjEpyQgCDcUEYdjbB9GCbwXw3z0GQV9ZBlL0/QrhP60FoPPFBeFBcwaBsCkEAMZXAyBGQQfgcK8FICXxC2PlEwrDPq0DAqGDBLFuVwaAylUEAXWNCQBR2wMinjkGoj0LBAIISwKwV7MGUnyRCSMFzQeR8WUJ4MPZB8PteQvw6qkFws9RAAA7zQIBVEkBwkItA2E0bQggvDcFg04xAoJbUwXgmaUFA5xFCyHI8QXzDF0KU+BFCyj4hwty/xMGAZXJAQEvOP0DJbkD8sEtCaN7wQQxUC0Jgt8lBQKusQfA1EEL08iZCuMwNwZDUwkFA94e/gJbKQCirA0LYogFCxITYQcjkbcFQyQ5CnCJlQmBtz8GQRolCnJoQQqCakED0CqJBHD8hQtDcZ0L05ZrBeBmvwTzIHkKgt7jAKOwuwVirJ0KU1dZBLBkNQgjhl0GoCELB8FjqQTMjHMIA3X8/WGg/wXCUz0E0CadBAPOzwYAhGUKA0d1BqJ3kQQjj58EwBiZCEK6ZweDUTEGwPOtBkPfvQADKRD5FJhrC7C3YQXyzTELYOaVBKLaRwVBqBEIkN2NCYAs5wQAAi7u4uexBwOGmQEDU7j9cLh1CtH/cQbTdn0GAgwXBxN6XQeATwkBITB5CZP8KQvSEA0JAMPFB9DiLwQBkH8HMTyxCZLzWQRAH28EAWC0/OF84QWBC98AIo9NBYKCdQGSft0GwWpVAyFcywWQ/gsHwfWlBoAL6QJTfzMEAwMxAMGPlQThYo0FgPUhB4BEWQWylDEL4pn5ByPFuQQAHeT/snrnBsm0DwhCs6kAAqww/cLFqQXRSl0GAxcHBmI2jwZBP+UBEqAlCCpeGQnhOa0E=",
            "dtype": "f4"
           }
          },
          {
           "marker": {
            "color": "#FECB52",
            "line": {
             "color": "black",
             "width": 0.5
            },
            "size": 6,
            "symbol": "diamond"
           },
           "mode": "markers+text",
           "name": "Cluster 9",
           "text": [
            "C9"
           ],
           "textposition": "top center",
           "type": "scatter3d",
           "x": {
            "bdata": "GrT8QQ==",
            "dtype": "f4"
           },
           "y": {
            "bdata": "rxKUwg==",
            "dtype": "f4"
           },
           "z": {
            "bdata": "ZDwmQQ==",
            "dtype": "f4"
           }
          }
         ],
         "name": "frame2"
        },
        {
         "data": [
          {
           "marker": {
            "color": "#636EFA",
            "opacity": 1,
            "size": 4
           },
           "mode": "markers",
           "showlegend": false,
           "type": "scatter3d",
           "x": {
            "bdata": "zzSQwiCytsCyAY7C03yBwgLymsLKCg7CKhtBwjjczMEliWzCBm2Rwo6/fsKIxw7CFeaywludt8KA606/FHT3wTSDmcHFgGjCGxlFwhJ+QMLB/1jCwUS0wszYNMKChRjCFJKEwnKfr8I226/CiVsawmAT+sBzGLjCgYZkwuPGO8Kt/BPCVy2rwgrKw8KwwSLCBwOtwrCiasHe5XDChms/wiSdi8KI47DC4DjAwlgFXsKHqFDC+Lr6wUFiTcJMpgHC9FenwiDNhsF3MSDC5h2XwgCy1r/uxYnCGPyWwmzmKMIS4wTCCJS7wmzzBsLC5nTCgQeiwq4yncJWv3DCwTl9wrV5vMJAJxXCtuOawukln8JoAKHCYuQCwpSziMJWwpjCfPajwQg3qsHITFjB/PS6wvgAR8HsotvBlOunwgPzSsJCPa7C+oyewiSWxcLxxlrCalsWwqZuusLT+xbCkEfRwXiP28Hn8FHCXpZuwgDWt75MZgzCAAVrwLWyQcKkj4DCWQOVwjElvcJAUKPB/IsCwh9GwcJk/8jBZBO2wlsRc8I0ub/BOh+DwuZ9isJAkUnCoJ9swXgPcsFGxHzCTB2Hwvz6BMKEPWDC6EyqwaygIcKsvsfCmhiCwoUPXcIYToPBjTYiwkpuHMLUYJvCFxy9wiLkOcKIQQHC4keBwjjxmcE/E8fCdL0FwvR3ksIcqYzCla44woHZRcLwdOfBzhWrwq9HisLMqEnCLo88wn9Qc8LiXC7CWLWrwpz7j8G+PrHCYHNxwiByx8Gzo5PCOIKWwvR4u8FwmufBiGg8wpo9tsK+yWLCLJWDwq4fkcKmr7LCHy1ewgLmxcL+ngnC2W5WwjByl8L5lcbCXHyBwnAxl8GZhUzCGBVowoe6p8J3s1jCL0SiwnJ1bsJSzH3CUH5GwoTFkcHc6dXBGPg4wsQ4xcJVt4TCEjGjwgB3hsIQxHfBOmyswmCNusIa/obCeEQKwZiTcMGiHLrCU2+twpDjFsIjwH/C7EelwjxLQcJqJIfC8OIhwmyZtMI84OTBqsbCwpS9ssFp2VrCMF2KwgCJisDQifPBRKUIwsTtOcIsGrrBUKWgwjTsJ8IoMrjBCFG3wVx2w8FdoqjCgBTCwJnGSMLjE2vCzgUDwoQ4HcJGpQnCxLRMwgyQpcJu/7nCcze8wvo0qcK0kK7BAJxEP37ts8Jg9i1AKZ0QwjgDq8HAOkjBCi+hwrrvgcJgB3XACeydwuCX9cCDF8LCpLNKwrGejMKDoMfCuC+wwVvve8LYk23CkVN+wlAZ4cGQlH/C0koawpqdpMI93cfCXCGewSNsMMKNKrzCJMPAwtqnRcLJT6XCC+Kywg+3i8LTZXTCbggywvLzCsIgLfjAXEbFwobTMMLMQPTBXtKSws6NmMIxdH3CHIWEwh8aWsKf+IXCv4ybwmFIe8IAL+0+yeoswmf0vsJAOmfAXETFwQrWSsKK/VLCCG/WweAUwsJuj5DC4bVuwqyCkMFwgCfCe+MkwtrnOsK03ojCSHwrwuVYccLwbgPBRiGHwphWh8HoixTCzI3FwQo5SMLIr57CfSK9wttCO8JazYLCIHd9wd2reMIE/JXCHaM6wvQ5DML82tnBW/MfwvHGZMKkB4TCklA2wsAhe8JooC5B3AWLwvAD1cFIcVLBgFFvwvHwE8JjQEHCl312wnccacKxoSPCyA7RwZ4vu8L77WXCD8O+wuCPzsFY6MLBJvG+wvl1NcKQ9avCIS4awpDc7cEwa5LCJuqSwuTup8GO7QjCuvSzwmz1n8FlLqXCKakVwlF9lcICkoPCyEwXwoBXhMERFE7C4LJUwZj0zMF+6YfCEKKZwRcIw8Jw/djAhGk+wsDpmcE=",
            "dtype": "f4"
           },
           "y": {
            "bdata": "uAa8wn2WusJqOqvC3Cr3weDoX8GcbqrBLRSswocyWMIcdbrCnMy5whoRMMISCavCSnPGwlRm78FEso/CyCuLwvGyNsI6o3nCiYhmwhoiQ8JWgFfCWuSlwqCW+sFNnY3CIG+WwswUJsKG3b3C4OjawURKgMKUJ6LCSU6XwgRngcG8ZabCcGYjwl8AM8LDrzrCwnyKwsAOWcIBI8bC59Nywvc3wcLU2lLCSN8BwmAHscLBinTCmeBzwm7+tsJkuZbCoUQkwq1qkMKLRMDCWuEkwvqeg8IRpmTCOINHwbzGdcJcNlHCNk+LwvJ7pcKUxQnCuKgBwQRADMKa0L3CYrelwtR5isK6+k3C3GDtwWQplcIJSXLCDUrBwljPHsFCQa/C63CzwqZ6D8IKAErClWeQwj0nbsI1z6bCpVV/wh4cp8J31GvC6VC+wsSCO8LwSbbB2H+ZwRREvsJ2CMDCvNZ+wqZdDcJeOFTCEkKJwt9Lv8Jo1rzBaBOlwtc+G8JpUrbClJsXwtNwo8K08J/CJz+Ywsg8D8GFpm3CiL6Lwv2Ft8J6gZXCAIwPwfCNgMIHjcbCEcp3wqFDkcKCMCLCG1WqwhQSsMFhGxXCeXotwhzl+8Hw+5/CEO8kwQAJUcFlzMbC8ai2wiPUTsLftZTCaN5OwaJ/bMJA1vnAsjZfwvSVp8KqYwjCkaKewtALuMIEE1bCFRvAwppDLsJzzj7C3GWXwmCTnMJE45rCdmhWwtGRO8IN2WTCSlkIwigMesL+h7zCMEB1wYr2KcLwCYnCJjYawqjonsLFmYvCKHttwaYnkcItpirCsxKRwg1aisKAWqXBzbQlwiwsGcLg1LnBjoNKwhfXIcJKrSXC/Kw9wtCHScJ4ZNHBEI4DwhdlHcLwwlvCeO5uwZCLH8FiKo7CYYvBwqc9lMLYRJTCP2AzwnW7usJ/7KTCMlXCwi/gxMJ40kfCnWiXwqMiUcJlfVjC/nx2wmP+NMIEK5LCZj2iwkdclsKB46bCuSVpwnhwJ8GXyZrC/Gmdwtwq+cFJ43fCx7C7wjwWgcKqrrbC3cauwkSoScL0BZzCQN2IwXSIZMJt4GrC0IjCwnWgYcKOh1TCsGN+woW8vsLgz8XB2AGZwj2bpcJwpHPCIYUbwsWti8JJD2HCrrqWwlnqpcJDk4rCHkjHwlxlzcGtn3rCMAaLwjLat8Li5pTCFp+JwqZwCcLIOS/C5Cwuwvr8xsIqKqfCfE7EwsKgxsJyjZfCrnW9wjgZssFAA0LBmHaBwpI9osI0m4jBehp3wu2oicL+iR7CareZwrokdsIRoF/C0kjDwrC4x8J7pXvCciGKwj4NHcILuJnCVd4awrDCtsINj1jCL8TEwtRRs8HzhFrCfrCnwo4+ucL3CWHC4Bj7wBENwcJQLqzBekoxwupCsMJHZ8TCYlyywqIRk8Jr/8bC4E1HwghUxsLy6bvCMm+DwjF8ncLgfJvCe2K/wnjO1MHuVqbCvhYbwhQThMJoVrHBnf9twpHWosJdf1nCkOxuwSpehMJ2cb/CjxZ/wp1QisLVk3TCqoyuwhyhuMIEDzLC+uRUwsF2IMKUcrHCQn2gwsLzi8Jt0WvCX6cxwizbv8JD8jHCOPJMwnm2d8K4rS/BbomCwraUx8JPwLrCUPAJwni2t8EK1I3Copu8wnCOtMImq1vCGst6wsCbf8KUNdnBGAa9wtzysMGV36/CMAWgwnhTmcHsLZHCyCB3wQdHlcJOVAXCwAaMwuATDsIakTfCxmFSwg4Qu8LbX73CUrBHwsLtnsLzta/ChIOBwry/78Fr7mDCkFV1wQ9Kn8KkqZ7BWm22wvKGHsKAmSDC08egwkx6i8IgInPC0B6OwnhUacI=",
            "dtype": "f4"
           },
           "z": {
            "bdata": "aEu4wi1SxcLNoBzCTtqIwuQ7AsIsCaLCPCpkwl4rIsJo9vbB3FKeQWb7LMKwapzClDuiwj72tMIKUJjCSMR+weL4GsL8R4HCXO2LwYRryMG8Cz3CdHqSwfdar8I6szvCpAnwwdJqJ8IAs3C/NEM7wgJhscL2lATCtxp3wmVKn8KoMqnByVMswhXBPcI4VhLBgN+JvziEGcIYlI1BBoxBwvv+oMLEIqzB1q2KwnRACMIdChnCQJyXwcCPXkCeAi7CHPsYwjgLz8GpdKzCGDhPwj3lbsIAdMHAOCaTwsBz6L90VmnCZzOkwsfrO8Lma3HCjF5hwtSP0MG2NpfCQPyNwTtRlMLvnZ/CBWi/wlEBM8JgrxzA7huiwuYXjcLjD8TCxvy5wkCc/sFUTKTCeHpkQaJBnMIv65/CNcxKwpCXqsDgJNZANuNIwreUn8IIiuvBkZRDwjyrMcJCE1TCNGXhwWadwcKgu2/Bs2eqwrcMv8JRX0rCsIiUwpNAmMKkeIvCKGNUwWSwoMHIAdvBNsLGwiCug8LUYrnB+G2Wwl4efsJpdF3CqGeRwgCmAcGkiJlBuKupwUqMhcKvo53C65eAwqGEkMIcB5/CyEZXwcx8rcJI/3jCNOxlwr4bZ8IRKT7CYjxmwnQ6s8LwdhNBOCtQwiBrDUAQ6MHCuipZwjqTpsI7ZpbC6xBOwo0ZrMKrj77C2AGcwggPA8E2T0LCNtJWwjTThkFMX03C6Q2IwtSCnsEAw1fA2F+ZwbQBhMEA2s7BT+OSwtZcjMJQD5HCBYAXwhBt3cClX0zC611gwhY0m8IIzNrBZC+WQYI9nMI4RqDCCM2DwS24YsKCv5HCQEtowDgmP8FgO3XCnUilwv7hgcKuMwrCwE2wwuIAv8KbwkTCDrSlwrdkVsLoAVFBYEfwwfGnxMI56KPCW1rCwkRGLcJYamLB4CEJQJVyWsLf4MHCaOo4wV9eIcLuN4fCGxcdwm6yl8Kd7p7CaFk7wqS7csIAEgvBQv60wlDFcMLAxYjBKPncwb50QcIvW57CqPe1wY07eMIaO7DCIFiLQVc+m8JAJKzCZRAxwhjpfMHA2yTBGiQrwmgo48GXapvCen+jwkbUhsJgItrBZtQGwrRzxsLk+AzCfHdQwpU5SsKAd/m/79GBwtBaysC6m4zC2+xRwmm+psKijg/CIhiTwvB0esK9XkjCq5StwhrDksLwKBbCDmOJwnBpncCXiMXCF1eOwstewsI4eTrByXLDwgtpRcKUxYnCwOiIwUzQQcJ4Y6fCHu55wlMvnsLg96LC1XKfwlI/lcJePaXCeP6RwqTgjMGENobCFnItwjBwlsLW2bHCnPOnwoCyqEAkaKXCAOyLQUiMp8JAd0LCC69ZwmdyjMJMheTBQFiywkCNN8Bm4knCnrWVwvCdnsJ/HGzC7mq0wvdoksI6fIPCQJRcwQaepMKAQ4LCiAqQwVaKAMLAryPBPepqwizkesJ0znHCF5srwsNvvcKJcqvCL1o0wnYYjsIcREXClGdDwmOkqMIlkBjCi1xgwpoqVsL8oorBfMKPwXLuxcJyuJ3CQBAsQDguqsHx5ZrC/IDdwUDut0Bep5PCx12VwoDtAsF4VVvB8iWcwqEAdMLSP4XCOsB9wh8zl8KdPGnCkuVgwpZ3kMJFNKrCURV5whCQD8HQHFzBUqQDwvUAhcJfX37CJ+tcwkudMcJMEKvBcEf3wKd6r8JiLafCMgSawslAl8IXZXzCy/phwr3YrsKoPXHCPgsswhT5mcKO9VPCfkjEwjGRtcJ0crHCACJQPsNTksKg4zdAOr6GwvIfr8JlShTC7DMIwkcpccKr0q3C/OSZwh+QucJExoLCcLkJwX4jRsI=",
            "dtype": "f4"
           }
          },
          {
           "marker": {
            "color": "#636EFA",
            "line": {
             "color": "black",
             "width": 0.5
            },
            "size": 6,
            "symbol": "diamond"
           },
           "mode": "markers+text",
           "name": "Cluster 0",
           "text": [
            "C0"
           ],
           "textposition": "top center",
           "type": "scatter3d",
           "x": {
            "bdata": "rhxZwg==",
            "dtype": "f4"
           },
           "y": {
            "bdata": "ar1xwg==",
            "dtype": "f4"
           },
           "z": {
            "bdata": "WzFJwg==",
            "dtype": "f4"
           }
          },
          {
           "marker": {
            "color": "#EF553B",
            "opacity": 1,
            "size": 4
           },
           "mode": "markers",
           "showlegend": false,
           "type": "scatter3d",
           "x": {
            "bdata": "tF+ywm5BAsKwMoDCwnaHwiDfmcL0fx3CK421wuT7CcK8cY3CGNhgwnDaGcLutcfCxuGKwtBNrMJeoE7C3nqzwtUaoMLIOKjBaoVswkhcLMGSZS3CEBzmwaOQOsJoEPbBGFdFwvwvpcI23rHCJp2dwr1KesLr0I/CQOx2wqvqhsI+eKvCMOcIwm4Vu8JQr87BmZpEwhGTI8KE4g/C0TmQwhRl9sEQ52bBNSWKwigWR8LzISjCW7mXwoC8EL8Y4anCWvGlwq48bcJ0oLDCWvgxwhnLIMKsodnB+PkawqhivMLYXADCHde9whgFvsJ3dr/CRt6JwulrosIYCofCHYBmwmTGocJzsRHCVBJQwhsYlsJ8cXLCjFF+wnC8McILLZnC1Dmkwf/TlMKOP43CpqDFwkZQwsIkIurBNoerwnEJm8I4sErC4Hf3wa9PnsIkaQPCuuJpwsS1jMId9b3CoPmTwiB17MH8ewHCw6COwt4RXcKyNj3C/4iawmLWwsIFLMHCM3hKwjie5MGE5RjCqNgwwkBMtsEoUmzCxlO6wmnVqsKsfVXCIKE8wmHTrcKktMDC3s2SwgpdrMLeE0HCxeqbwvY+vMLp17DCdOmUwkVkYcLWtabCDg6jwr21kMKg+hXB8P4SwtEllsKl1bHCYdCKwvtOusKrCKTCoihUwhxU7MEKpLjCIQk+wv3grMLa/ZfC+NJcwhi7ssHTpK3Cs46jwoCF3cBQl8rBNJW3wRy87cGhY5fCYD9YwaAuncIgEbDBq+aHwm4djsL6lL3CBt6GwqGElML2XIbCaagtwhPEpcKS1x3CAE0Owkx3zcFyfb3CgtMiwiz4gcHPjELCwP8KwuMircIEDL3BOE0mwroSocIA6ZLAufGxwjVSf8KeSJTCGN0twjeZx8IQfxjCGr+AwnkCKcJV+7LCLWxswiWdpcJaCrTCycSRwp6LrMKZ8qDCMllKwuZyu8KMWi7CL/PHwu2vNsKb/qjC5Jk1wm74bsL2LcLC/JmIwXBdwcGp04fCMJ2xwivnt8KRHD3CWw63wjaJWcKFt8XCuiJgwgfZSsLA2m3CqXi4wmaslcIbXkbCjPGgwkiKgMFyLaXCb2a0wtAhr8LE3zHCKLqZwcCH8MCofgHCZsfDwsvWYML7/BXCg83EwpAAk8IQSafCJZEdwt20w8IZZ3/CHBH2wfXJpsL60A/CRJ+FwmfoNsLSHZDCRytowuHQF8IkOIjCSyQ9woRGl8K+rQHC0BqawszebsL808nBokOlwgjWhcJeqWDCvdEpwjKsmcKApNPBxomgwhGMxsJqQkPCh1+wwn5WpMIdi7HCDF2ewXVoPcIFsb7C5y8owrIUmsKiqcDCdT2TwjQUCsLjtcXCoICnwRzx7sFYgazCNEmJwhs/FMLkJfvBnVeRwo7LUML6vAfCtCigwrRsCMIKxhvCDOcjwpiFvMLANZrChmvHwuIft8IA37vC/66pwuIcYMKg/VLBpNE6wlBYl8GpjofChJGvwnhvyMGdYYXCYkA3wm8bNcIYW2TC3CanwoRxA8LV2KjC/DcIwr9wQsIFF67CX5GowtAruMD6L67C9VYswksdtMJkGGfCUIw/wccch8I8xBvCLC6qwbRCrMIIVOLBaCROwWR7rMLgxcLCIJNDwuPcisLRey7CjAAywhCEoMAkB6fBHo+kwqldZ8J8rqrCOWAywnkQqsKENubBEYs+wq6VwsLwydPAJwSNwuD6R8IdAZ7Cld2swrkTqsLMTHfCglqLwn7wqsKXTZ3CW/05whWnrMLI2pPCuGxYwpomrcK0k+zBaayJwgZ8tsLHgsTCb7a4wgjEO8Kp0MPCxqgtwqKqhsI/gF7CWKGkwiVklMI=",
            "dtype": "f4"
           },
           "y": {
            "bdata": "eFEAQhR9o8ESAgjCAi4KwrDLU0JQBULB5NSxwdDKikF4ui9BEEGYwLioa8HAzZnArKOhwSrkPsJgDa/BK39/wqCMN8HIcoRBAKobPyVHFMJwBgHBiFzUQUhaGsHwKgpBIASpwJBl1kDMF/rBUKktQaSnjMFvZFrCmFxbwRh49sHwxJBASLwvQYi8XMGwEIbBhA+iwdDwv8D4dPhByLPVQUy218EAgOe+QCvrwJD/Q8EAWCO9XIvewVjirkG4PzjCJOv3wfwd2UF6M0TCQGnzwLQrxUGESdHBmG3EQZjaAcK63FbCmDFNwhLEcMLA4pq/UL7EQEACB0BA54JAQMmDv1RS6sGgjOXAkIwFQbiuMsGW4wDC6NCYwfBjpUGAwgY//PTYQSy2jcEovmnB5yw6wtgbGMFUbsNB1JLTwWwDqcGw0wBC4MMpQYCCR8HQMlRBz7YnwrAvGEIAwNy+TEuNwYCIBEKEkoZBAPdjv8CCJsEIQvbBNdZrwuAJDsLAssvBoOIMwND6wUAAfSq/XErmwVEdR8IAjWfAKAQVwUqaMMJGewrCOMjxwc/6O8IoPdvBNoEewmiWQsFkiOrBvBuWwRitckHIxM5BjPz3wcTHlEFA8GHBg/oewvDy/MDgvMFAjPe2wY2hJcKgE8TAzOiVwgTaD8JziR/CTXpswhVoIMIAhZC+UFGeQICDwUEIzjHCGKxCQTCfmsGo9EXBNO+CwTj018HA1cJAcB6gQDBWekHACpJA2L0kwXzzzcFAO0xA0cKHwvpdgMLoYwRBDH5fwjBErEDUQfLBIM3PwKDfnUEAx4DBgDn/QHhksEGYsWhBUHcKwaDkl8D0vrLBJIHLQXzfscF0a6fB+JpewbQFrMGwiN9B4OolQqgjkEEEZaBBNEEJwnEIX8IYp4lBCM4SQmiJH0EApp/AtPSTwSSAp8GchaHCgJsJQCCLM0EIrPRBMFHJQFAwhsFoPTbCkBuEwQCKBT+AI26/eMalQRCOlsCoUvjBdDI/QsCTbsDYRizBgHievycsLsJAXYk/uFltwghxIkLafGzCeEp1wVCyi0BQUPpBwM1SwLDdHUFAo5fAUOihQXwPMMKImxRCwPzWwMCdT0CQxN3AuDOVwSC5jsGUpbBBHaI+wj+xR8LY+CTBYHslQejqO8FIlIjB0CMhwsASR8CQ5PpBdM0RQiA3m0ECkBTCIHwpQFCw2sDUqJZBaKSTwXR6gcGA2UpBOoM8wgBTFcKIIwRCiDNDQmjjKEEv2UTCKwpLwjHzbsIo6U3BABQePlBBV8HEkNhBgKHjwHzXwEHAe3fB8G3xwDDsr8BIbABBIAZ1wKCvC0GQfZFBYH9ywFsmTcIAlsO/qLhPQZB1I0H4yeXBMFDpQSwln8Gg4uFBOZ+NwoSKz0EWAyjCR9dHwmSg8sFQfUpBcBfDQTg8PsEoaRhCGHc0wZC+RcFuPZPC0M+HwbipK8F6RUfCWA16wVDRVUFADkzAqxxLwhwhs8FAtuA/rZ44wpg1GkEfUWjC0MfNwTT/jsGon9JBIGBuQeALfsEwjvfBXCKQwSDw1MDQUYpBPsCAwoAqnD8RT5vCuEDhQYBbB0Lwkc3AfELaweCPL8GoTNHBnA4dQhU0U8KIuXrBCqsHwsSY2MEwiLRB6ONTwcfEXMKS8BjCpHukQVgFCEGYTl5BIE+LwJARNMHArp5AgBvyQJAM30Awr0HB6NU3wnRWQsJornvBABRuweDNdECLXxrC0I5WQVD5HUFQzsZBAG7lQeiw3sHFaRTCAH3UwBwA1sFQBfPAwPgowSgiO0HxUDvCSOUEQkzUfMKBLSHCENe6QdG1R8JAE4FAkJWyQGMURMLoYi9CwBl7QWsqGsI=",
            "dtype": "f4"
           },
           "z": {
            "bdata": "9GfVQUxCIEJsaL1BoGkcQjRXhEEibgbCkEe8QpB/KsEw6otC6DVqQSCtZsEgiGtAIBZ2QtQMzUH4qnZCMBjxQTxLOELQSRBCKI72Qfgud0Hs4SBCoJVDQVSve0JgwvFBxAiswdx+u0FY5e1BqOshQdAURUI4HmZBSBKUwXyTikJYCqfBoIOOQdBRpsCA4XS/fEt8QkBJ18Awj65BRKY6QkDzhkCIxwdC+Nv1wXgVaUJge2LAEKZoQphn5UFAKZy/+ISjQUgeMsFeroBCiPsgQuBrdEHAognARAIfQrQKpkLM2JJBvDXUQRgyKEHA0S5AJH1oQthepEKUCsRBEA4JwqDPMkKwP8TB4K30QRwDhUKkuR1CsPxhQWD3k8Hgl8NBKOynQSB+5cDAeu4/AIuIvgg6iUEAWPC/2OAmQqwzMEL4JmtBlOgwQohugULQbbxBQHhWwCBx70EAlrJA4DUgQHBtFkGYHC3BdL3vweAAxMDIVjlCuBPwQfCffULQQZRBUH1RQjC9EEHwp9lAfKBTQoD9dUCws/TB0AHpwbS/DELA0JI/AEyOQM52iUJoEnxCzIK4QUDSD8GY6glCgGrOQWxjwkEApiRB4CsTQZiPRkEMgK5BwMs8QgDERkDIO3xB0Ks0QoB4V8Bwi0VCONPnQRjqF0Lw4SlCnGHEQWCINUEokplBUH1zQkCcGkJcYqVBAMhiQswluUHYwa1CaADYwchVlEHo7qlBlLkQQlCC7sBYNXTBFAomQojGOEKIuxpCwBx6QRDGIULk6avBPAM5QsjyG0JAxXRCaFS0wewkMUIA735BvNecwTRxtkHIthRCgH+WwShKkEFgFNxBgDkJP/iB6EGwh7rAlgqAQpjbT0IYAL9BoKk0QfjfRkFcSz5C1KOxQSJbjEKoKRhBIMVCQOhaaEIA4Fu/+Jw5wfgtkUKkXAlC3A3rwYBpc8CUk8hBINzcwAz6lEK4M8ZB7PluQjC5yEGA46DAlJjXQVxvfEKY/I9BQLsYQLAeYkI47yNCHFmVQvA+BkLQePJB8EYDQky/rUG8yI9BtKV/QmBUrEAAOuXA/CJQQlxZHUIuBJBC+IpMQoD05r/UxhNCgHUAwtJgo0JABJ4/yFAKQpz22UGgIxFBZIRGQhSIiUHguO/ARoeVQqDWNkLMCWZCqFsfwQBZOL/wshpCMJyGwECS2UHw3LHAUH7LwL94F8LgynvBUK58Qbi2/0EsREZCyN8UQoBTNECA4dZBwNXAQRjRBkGQf19BVAEYQkSkxEGw041AgDB+P8CaIUJckIFBWvyEQrhteUJ8u0BCKIldQsY+DsK0kGFCbGwXQqjAtcFouVDBiFPawaSgFEJi3KZCMN7HQHBrasFgFDtCQCbFwJjaykH0SwdCpCuVQbhSB0IAZlXAbFEfQuCZdcAI6zRCYGARQFA1w0AAx+6+sGLSQARpuMFAju1BKES9QUBRfUKgy/FBcD7dwTCfnUCQqBJCMKSLQciQe0Hc/CNCIM5wQpxXRUIor8ZB4GdDwEDZbUAQES3BwK2mwNhhY8HA/3HA4IUTQrxXCUJMc5VB1DVAQqSetkFQS/5B5P+8QRAuKkEYOpFCIIk9QNDaF0L4AgNBoOeDwPwjekIYiMTBCDpnQcAM20FQ4ThB3ECcQfDqZUEwDwtCcHMawfjtFkIwkhBCTGqXQmyZnkGg2FFC/PgVQlBiJ0IIquZBGBRdQSBxnEDAGf5BTAgYQqSVdkJM62FCGHLwQWB92EAs2o5B6NbzQbzNakKYIAtCIChqQACsCME4DJlC+B/7wRBtJcGY3WtB4OpRwAys1UGghNNByBfNQbBOy0DYQRNCbHunQdyAsEHQ1CNBIOeEwFwjzUE=",
            "dtype": "f4"
           }
          },
          {
           "marker": {
            "color": "#EF553B",
            "line": {
             "color": "black",
             "width": 0.5
            },
            "size": 6,
            "symbol": "diamond"
           },
           "mode": "markers+text",
           "name": "Cluster 1",
           "text": [
            "C1"
           ],
           "textposition": "top center",
           "type": "scatter3d",
           "x": {
            "bdata": "0Ddxwg==",
            "dtype": "f4"
           },
           "y": {
            "bdata": "HZoOwQ==",
            "dtype": "f4"
           },
           "z": {
            "bdata": "jPO5QQ==",
            "dtype": "f4"
           }
          },
          {
           "marker": {
            "color": "#00CC96",
            "opacity": 1,
            "size": 4
           },
           "mode": "markers",
           "showlegend": false,
           "type": "scatter3d",
           "x": {
            "bdata": "nH5RQszGnUKCfLdC+k+0QlSjtEKoccZCUPmGQUTr3kHwqDtCMBzJQBDicUIsnz5C9kOJQmiYKELMQAtCprWqQshBBEIeBb5CkKsvQhRrAEKmLI5COsWKQk5hg0IYfbZCKvi1QlTtW0KwNJdCIsKIQqAO5UFIB2RBXECQQlgxWkLIrydChGq4QlZrr0JYO7pCCGVcQtCNP0LgLNBBgANIQjwnf0JwuF9CfuLBQsDp/0EMX6dCVFGiQgTnSUIQEL1CFBo1QpR3PEI0cHVCuDleQsDKpkKIX91BOkKoQsZ8l0JYeBJCvsiXQhTCJEIYeXlCbFmoQjKsn0JAA9xBiruGQii/ZkEIXaZBJGw6QkyMvUFsWJ1CaASMQUDNK0CKfJ1CiOSjQoScekJQixJCYluRQsiNGkL4cSJCwKe8QvSHJULQZDNCXC8lQtYkjULmiqBCJH27QkxYvULAWWJCEt68Qlw8QEK8ExVCYPuMQbAj+EFEMtNB7h+BQnr/iEJ84a9B7OFMQnQ7pUIY8QdCFK+UQpD/wUJ01EFCUN+gQvSyv0HUSsFCCiiyQlTQLkLQzKFCBII1QtCodULELb9CIPSmQm6XgEJso6tCrn2kQsAhBUJQHAtCqjzHQuT/S0KQaFJCOqq3QpBWmEFS2rNC3PenQnweS0JI9VRC8LQTQqZRtkJY6vJBML56QiYot0LoAXFC9JEzQjomqEKgpbxClBVjQtBeOEF4l+tBXIbCQsDW7EEC545CpGhwQn7Hh0IiKoVCDD08QkjRrULgA9lAdOi0QmDSoEJg1jxBBDyCQiwVaEKQ3KtCTlSyQpi59kGINKJB0Mo+QWD4YUG8JoNCGDdzQj7EtEKuZq5C1AcsQuqvmELA5G5CorucQljyp0Hyb69CONKaQsQhnkIuZsdChBssQk50m0K8HkhCErWvQmD1nUKsUUFCMEZXQhBd/0EA/cRCeMWUQlTMDkKgywZC3FLBQvAXrUFUpM9BRF89QgQWskEI3H5C4ibFQgD4cULY2LFCYPhiQmhtYEIK7oJC7Pp1QmDMJEJQGo9CeGkVQkT6OkIYNTxC8m/BQvSekUF4veNBTNoXQliflUHEDbtCAGewQvKkmkIov7dCtt6KQqahkUKg0xVCuL24Qr5ew0L07HJC4ve3Qibrk0JEubFBRKKjQui5Y0JAKJZCCApeQvjkWEIWP6BCMO6FQiasqUKgMoNCkKDFQEBkSULIOYZC1NlHQkhmbkEoEFdBFpe/QgSvtEIAO35CKFKmQjTrAEJoJh9C4OsGQjQz2kHEfmJCVOhkQtBiRUIsMrdCTG0HQhgA9UHom1NCtDmiQojNiUEgNr9AAOvrPhijOEE4NqtBMKHFQSDAdkGshJdCEHn0QFTFoEJgSgxCQLfePyyVVULI6TNCWMIMQigxVUJM1a9CYKS/QQCMKUHiuMZCwMnrQKQZokLEUDtCAHO5QTyzX0KiJYRCIlS9QhzOjUJIBXlBnOKTQgB+pUJ8xXNC/Da3QqiCO0J0tm9CChSZQuB2e0Komz9CPP0wQr4GnkJka3pCdD6FQoBEaj9+ya5CCjCaQgqsoEI4r2NC6K44QQ77r0I0MSlCAE5fQhCKl0IM1wxCzAsYQuAHJkI+y7dCdNNwQgLuskIkccVCvLF+QkT7wEJEw1ZC/hGWQjDPxkLQPMRCLCWbQszFpEIeb7pCWmCPQrSwhkLgt2BB0HeiQtj2KELGf7hCutTCQsgdEELuoYVC5EK0QvwNg0JYN3dCUNBiQaREMkLU6b1CfrqnQrjgEkIgsSlCtuS6Qky3pkJUmSdCqMhmQfgLgUJ04YBC9o2KQnz7NUL8Io5CLFGvQgTftkJAE6RBcBqJQuiar0I=",
            "dtype": "f4"
           },
           "y": {
            "bdata": "7X9swnjS/kEwhsXCeKdyQTgFUUH9OMHCCKIGwtsAtsK3M1zCXDdwwnQG18H0owjCjmypwrRBo8EAOiLA6AaswfxCpsGEi0TCzCwKwrq7m8KAIoZBYLrZweKrTsILXhLCmMiZwZxZb8KzhzDCyF1cwZRPZsJURsHCiBZDwlyNicIgzpXBBLSJwnCCHMGuQYPC9PSjwhTtFMIriq3CDGb4wUhY/EHc2I7BWcq0wnxJ08GYoi7BALi4wqJ8hsJ79pLCQE5AQAfWScLoZItBFC0GQiJytcKI8jnCc21awmRnf8LcV47C90U0wiB1hMHMno7Bt4qGwiC8nMASihLCKAFgwZqYq8JyvpnCSV2Vwu+QN8Icg6BB6MHEwbajjsIuUofCpB8dwhCdAcHMPMbBcDJPQZmvZ8I4q8HBaH/XQbCkwsCscsnBqJFTwnDJtsF1QjzChP6ZQYDBDsFqmQPCeFw9QUAzqEDXnDjCUlYBwgDHKMI4Ew7C5F+QQV36e8K+/RnCxsIXwkApC8DciZDBiykkwn/HpsJpemXCAFsAQPh5n8LFbBvCyKsvwbzNu8GVtT3CwooKwoi8QsIApUDAJnrCwlCKBMEUHrRBtcjEwqcIxsI48v3BnmRxwrqpgcJ1BirCFThzwngYgsHMx4/CyJVUQWKCQ8IOzHDCAmaTwp8RTsIGPzHCXGbBwaC3C8GwejPCG8tywpXUn8J8YrxBmONDwd9ds8J/jLTCgRsiwkBZkcIABDfBELmkQTzZtsKoXmjCmNWGwgDsQj7KxE7CAGBhvphNr0Hl947C13m3wlVcY8JI/EfC+L/AwrvOccKRnbjCNPCvwYy1lsJ8LJbCvsTGwoGRKcJAumzCxOmhwms6PcIwPgHC4D0XwOAzAsIwpm5BKPwYQRXGTMLwQpfBqk47wq6yqsLtt4HCcAqXQWenLMI5PqvCIHmhQEzsk8JY1J7CA01kwnQds8EflRbCQBYzwGa1k8LgZ+HBmS1hwr1FLMKdMXnC7FbowZWTUMIqT23CMlS2wkJcO8IyjXzCYBfcQNoUuMJa4JnCeSsfwmguCEHaBl3Cn8VgwliaYsGQyKrB45OmwluBVcLUV+7BhbV7wrj9AkJYpanBsHKRwPfBecLbaivCrLuJwR0TIcL9qo3Cl3RHwhvZhcIozCTBy1GpwmCCm8IIotvB2CECwhegR8Ig2FVB1smnwnrlh8Lcv7lBqT8zwvzbSsI4trbBwP9zwUxDgsL4xufBBALfwdBUrEA48sLCaxWiwsQCyMHgLGtASO+6wmp/ksIAMgc+Hpopwug0T8KkA6jCSJ+5wSBgz8HAwOi/OLJXwQ1QOMJpgHbCutI+wu3djcK6cCXCZJrFwSu/sMLoFFTBDEiqwhiaIsIAq2PBjmA2wjaGq8J4Wf7B3A8QwgBlrT8MoCjCvAeXwereTsIDqMLCe+2IwihgBMHYjFVBxN+YwnzP9cEged3BgIgvwoUFbcLKU5PCgEZ/wTpzL8JQcmnCwLx2wK+XasKRHMTC+PY4QRQ8isEM5zHCCP2TwbSvS8IQjI7CIGX4QeJnQMIKQrfCcNl3wbCf08AICglBUdWjwrcku8L8/efBUW+cwpmubsIQFtXAMKY7QVrVI8J8HInBoH8mQfwKyEFRoG3CLzctwnR4ZsI6pmbCvukEwox/k8Jkt27CoDd6QdqcgMLooKlBQMDtQER/ssF+v1bCvEGIwkyjicFuUIDC5EXbQR5ghMK8BIpBqMV1wcY0tsLSckDCnoiIwvOnusIrFKrCQ/dqwqtmqMIAHIrBqLZmwcAPj0DgUFLArSA2wkPBEsLZmibC/M+bwgOxk8IuD2bC5DcEwsy4FEK0oiDCwKNjQBM8GsI=",
            "dtype": "f4"
           },
           "z": {
            "bdata": "xELHwhqtosJLqC7CN40+wkcmH8ILA6rCEQi3wlzTj8I4zorCHvdvwkwUnsGqVbXCYa+IwqKBisLsipLCKH5CwpglocLHfTzC3LOQwulUt8KeVVrCOIuPwmTORMLokoLC0Rm5wuMboMJyD2jC4KykwVe7YsLMCYvC/HMzwuztD8KpOr7CKjORwsZVx8K8l5TCbXiTwr+9osIeUHbC3FHAwVc5sMKKL57ClFAFwnEOl8K2+MXCQ6xSws+NMcJtKKzCQR+6wr43A8KjSG3CToeuwlb3JcLq/qbCiIo0wg5ye8LeXKfCyDz1welIcsJ/2rbC64lawmJFxcKQD4jCAoynwn3tfcIxvJHCKly1wmyUccLCDKHC0pWJwqUWxMKQRtLBjlNmwvfVKsL/wSbClmuHwiQ+CMJcLLLCUNzDwr7Gj8KEaBTCvYufwsX5RsLzRLjCMf9hwrCt78GlNivC+r7CwtgFmsKk9ILChIepwujGSsJTkcfC999awiJcnsJwJa3CsI1VwqgNvMKqA7jCvs+EwtaFGcJCJQjC9LIPwqwYVMKAska/GN2ewvkTisIL3zrCrJ3FwVOWWcKTSUPCIvBvwqzqZcLv4HPChDPBwr7MxsKI2w3CcwBKwnlUUsK7YyzCNhOLwqwXv8KHNm3CR/Blwj0BFsK6MjbCzLWiwnZtjsLU2KzCpO2iwsaKTsLGKkvCztOuwsC9kcJwI5TChHhhwoNXx8I7H5PCi2M+ws4raMJopQXCU6LGwhqDPMLkp/TBXB+awjIYh8LC2yrCCNKBwnjCe8JvBoTC67gtwtYfT8JDJZPCrqFNwqcLucLQnLnCZ02+wkvep8Logb7CIhWOwsTy2sHEKQrCtyZqwpj7asE/fIrCkNyvwv1uksKcOpPCnFVTwg2JvsLX9UHCS4S3woB6p8JOojPCd22+whRgHcLMR0fCf/Z8wvuvScL7nGXCxCO9wpaKmsKdW7jCwIunwhiHwsKvOrHCgY+pwkgPhsK2eanC0K4hwfGdSsK1aJTCChg9wjurEMLX9m3CRdq7wunFd8Jqs7DCm44mwjZtk8KgU4XCOLMpwnqex8KwIq3CbNTBwrAkN8IEP6LB7i6bwiW0w8KIn3rB5PvJwSA5ocF89ITCyEJ3wngnEMJ+TADChns1wkD/mcJI9cHCzFOFwqNTrcIzlq7CVvUXwsRLXsJ7IyfCO793wnkSt8Lq+IXC1FeewqvKrMIIRafCjKy5wp/BqcIQUYzCo6aEwir1UMLEmVDCqGL9we3xmMLyJ6HCCe9/woI8rsJ5iJTC/PvSwXaBC8KCkoPC7m2zwrRFs8KScsXCJb5cwkhogMJyRDXCWpavwv9XucJwASXCR11xwk6aZMI5aUrCgmewwhYfE8Ie/4zCEuB8wrwPb8IebJ7CUUa1wlUhT8JB+BXCTCWXwgoTqcKji27CKj+Jwphv28Gvna3C6n18wgKrjMI/sLHCeIN5wljSyMG/QHTCeB8twchmy8EMqZLC3KITwlb2qMIrtaPC7BgHwoxwL8LF9cLCNdOfws3MPcKbxTPC6RSnwpDgnMKIZozC7H2rwqUXlMLR0IbCvW+twrUPkMLsYMnBL1i5wgT6pMGdUHzCPOyuwjSQAMLs0qbCMciYwo/VkMKKvHzCinyawtN4hcJEl7nC3Rq4wuSgxsGQ/oTCorJLwkrcjMKdGsLCnktowlgRccE4EIbCGKv7wfGbpMI6WzvCKKO7wuWps8LyKojCvFa0wpVipsKIFyTCkqtfwtrtosIqIrvClMmywvgZVMJWt6jCoNLpwWWpw8KMQoDCmUJZwodunMLh20PC6SUrwt3LHsKQ0OrBTOvlwUSwwsK9v2TCn94nwoAjqMI=",
            "dtype": "f4"
           }
          },
          {
           "marker": {
            "color": "#00CC96",
            "line": {
             "color": "black",
             "width": 0.5
            },
            "size": 6,
            "symbol": "diamond"
           },
           "mode": "markers+text",
           "name": "Cluster 2",
           "text": [
            "C2"
           ],
           "textposition": "top center",
           "type": "scatter3d",
           "x": {
            "bdata": "JcJwQg==",
            "dtype": "f4"
           },
           "y": {
            "bdata": "vXsjwg==",
            "dtype": "f4"
           },
           "z": {
            "bdata": "Z6iAwg==",
            "dtype": "f4"
           }
          },
          {
           "marker": {
            "color": "#AB63FA",
            "opacity": 1,
            "size": 4
           },
           "mode": "markers",
           "showlegend": false,
           "type": "scatter3d",
           "x": {
            "bdata": "SCMFQhz7r0Ko6jBCkPgyQVx6ZUJ4+x5CMHWxQkpFmkIojrBCEKDoQQi7LELy75RC0CDEwCxQJUIcvh1CdjyVQvzCoELYfK5CvNGxQQTNlUKuTbxCuNuMQriboUJkO8tBWAyzQiTYQ0LIP4tCGkTCQrDVMEE0Y2lCCCrYQTA1dEF8izlCVnG8QuaEwkJoF7xC3GncQexwNUKgxItCzIQYQmhMUkI82jZCgB/BP9hKukIIgepBRs/GQpzeIELEsrlC4LIbQggKDkL8toBCCpqYQlyfPEIA7PZBJBrIQbjjTkIQmaNCAOFUQlSRvEJYTrBCKA8yQkDdWkKkXwVC2l6VQszjWEI8wItCQNgUQggLr0L8mDVCRievQtBAFkIUua5CKJPLQdgsjUKAKjFCDKeHQcQTHEIs+7hCgJZdQaLYqULKu79C9BvHQSy1LEJet6hCLKJaQozmukLgiGZCpKIcQsDnK8Bs511C5NArQiAsCkJoRZtBDC4/QrSgDUKQbXRCaAJVQsQyEEI2z5VC4mClQgDIU0LwjgRCIAWbQbjo7EHgwk5CTLEwQvgqnUKoODNCAJFPQgT6h0EgYjnA4MEwQmzPvkIMYyFCRAOjQgAqnEI8sUlCANjrQdq+t0IOObdChtaXQoxak0I4OjxCLkzFQoQwj0LASBRBVE6IQiSTa0KoUoVBGDCnQvLsmEKwLJxBghKxQsQvm0Ksb0pCEMBQQpwfpELASQJCmmKPQrSSRUIwfpFBTDW3QuRHNUKMQqRC8EHxQUjPLUIaKoNChGmSQnw5c0L074dCgAmAQiDPkkICppxCXCWkQn5NuUIqor5CkBmJQmTkskJc1ppCcKMPQtzVC0Iw545CCOfYQUwIt0J0tjlCHnWtQrhPnUJSzcNCcDJhQug3ZkJo/yNBdjCIQiiKckLK67xCIjilQvT6fUJO8YNCvuq6QnQPJ0KIVcdCAFxbQmABR0FAxJNCSGkvQuACGkIYXodBuNJvQghm2kHsFydCOimIQsi/wULUBH1CQK+IQqAMKELsdD1CEC8OQnx4dUJYuhlCwFb5v0iPNULSBbRCxMJ0QlgOi0JmN6dC6KomQjj14EHEscJCGmDEQrDk7EFSOp9CMEFLQTQLjUIEq5dCdEG7QfwogkKkUmBCeJV0QuRmakL8UzhCbOSAQgh6kUJkK7VCcLkPQhTlR0LcMEdCaKy3QsiVGUHKMJtCnDYvQmhbLkKo2BZBtLCkQlggCUFcHlxCUumuQrTIuELW4a1CSHZBQpxxrELgIJNA/GSWQlDGOkFUzJ1CEFG5QsALG0Ac33VC/MHEQroWtkLIZmJCRErCQgTCqkI0j1dC0A8LQuAXdEJwb71C5nmbQhzGnUKgRi9CsGoyQvgkikJA869Cdkm/QridC0JU0qpCxHtkQvyIg0IU+75CKMr4QVxqqEHoWQpCJNfGQkgBxkGG375CYPKTQlCqRULgjGPAiHo8QpgV+kFIZYRBBHANQjBqpkL6Q79CFBqjQtzAy0EmR6hCSGOFQvhUv0KAVexBeDV/QrzzbkLo9WBBaPFHQVhlv0EkPtJBgLCWQpD4RkKQshxCQJJgQs4bsUJgnI1BLHhiQkSyMkIA1zdCivmTQhoohEJio7BC3LyCQqzcHEKUNahB+JY0QvgssUI0dhRCCgSMQijIsEIuH4pCIInMQIjNekKIQ1pCSCnnQQBKXr+er6dC0BfSQcQjs0KGFIlCoMuHQWDQJMAAYsRC3lbCQlAlnEGUmDRC2k6cQq77m0IcQ6JC2FtaQgSKqkIaOsJCIC5bQvRZGEK4iaBCoGmcQki6RkK8629CKPtdQqpCkkLk4IZC9Ew9QtTxskLagoJC9DqWQiQ0NUI=",
            "dtype": "f4"
           },
           "y": {
            "bdata": "SMYnQurKoEIE3n5C4CNuQmBKH0JEWxlCWFmgQYQkvEKYy2ZC+DGpQmpeu0ICbpZCFHOJQrAHXEL4iXlCrOneQfAXRULQA19CXg60QhhKk0Ks3KJCrNGUQlhK5EEk51tCtjSeQuL0jEIwKQBC+O+rQboFsEL8WYhCmLU8QmDlx0KUuJhCNKA5QmQOakJSkq9CdsiiQsCzXUICgb5CkNIJQiCZJkJK37hCSuOAQhCMr0EMZ51CSNz3QfqTm0JO7aFCnLmgQvoOkEJoBmtCpk2kQoijxkLIOYJCgJQtQihMIUKYwjlCMKCKQnCpM0Iscb1CzFWbQqZ4k0IgLbRCFJpgQtKck0IcNw9CtFSqQniXbUKo3AhCUC5jQojlR0LuGJBCckaoQli+U0IsgDZCWLp2QvTbSUJYwOFBdk+GQtBf7ED0HrBCasSeQnrvgEJySK9ClBmbQlwOHUISNcdCdsWsQoIBuUL4+U1CpCSAQjDabEIoPFxCBO2RQvwrmUL2q6FChCukQgyrZEKqz5pCNEEPQpo7tUL6rLZCSCxnQiTYUkLQjE5CoviqQl5kiULoLZpC4puZQpKqr0Iwb7VC9DOfQhpZqkIi26pCzCpqQjxJQkJM0ItCuG1cQlZ2u0JyxrNCrKxoQlCrcELy/bNCdOSxQRi1kkL8sX5CJPeyQuAOHUKcYoNC2FyDQnyQkkGG+pFCeFu1QiTRgEKMbwRCDoygQgiSkEKguDdCyIsfQjYip0I45axCYBxRQgCjKkLwNGRBHEzDQvavukKQ5aVBnPKYQjjL4EF4OCdCCgGtQshTO0IOP5tCwO16QiScqUJ+n5VCZJdfQhabikJECYZC4gGvQrDEcUIoOChCAJF2QtzwKELaG4JCJMh7QmwJFUKc7kRC4BG6QtiKo0LAb3BCEpSZQirCjUJEgDxCdPmyQgRuEkLExrNCbKmiQtpLp0K0+JBCABSlQgCMj0KEGHJCFAg/Qiz0LEISZb1CwiWfQryne0IYx7VCMLXlQczQeUJEWJlCJB6gQUbrpUIAd4xCStSHQhRUC0K0n1NC5NVtQsASbULmzrdCGE/DQoqIl0IarL5CaJWbQkK3pEIofd5BXLuwQpb4gULcH6VCYPmoQuzLPUL44iZC3MuyQoplkUKk4MNCbCmiQiQQqEKmhLpChEGxQXBWn0LeArtCAJBrQmLXr0KUPjJCWhKxQgYGnUK4s0pCflapQozwDkKYTrdCIAaZQvDFkkIAoSpC8EgAQtTKJ0JKzLpCKKe+Qsw/jELYI4RCyD+NQlpYpEKc9ZVC6DZ9QpRIt0K8FbpC1j7CQrZcm0IsVDlCkL/qQfQdDkKeQZNCIpWmQljcX0JsIghC1NcUQhxek0LwStZBLOS8QuJOvkJCsJdCbl62QsRDQ0IO0LxC3u+aQuhRM0JcMBhCAPWXQvysgEJwWUtCNmWaQuhpoEI6Ab1CkCrHQuKgp0JoxoNC3M2lQpD5FULMOjFC0AZ5QuJevUKSm51C5Ei1QmgKckKo8QpCsAV1QtrmrEKk5MRCxgedQn4EvkKcC6RCwvmeQhJ9okIwhFFC3KK7QhjVXkLKTaNCZvq9QmhzLEJ067ZC+pKyQtSbqUL4wpdCSFToQUKOpUKw/d1B1CBfQiwnPEKovElCAGCOQqjv6kGwvZVCzPa2Qtz8o0JsYElCgn68QmCPlEKsGbZC6E6VQniJr0L0Hq9CZs+mQqrQiEIiucRCyHU6QvIzokK89x9CooazQribeEK6B6RCNJirQZR3d0KmrpFCsK9UQiT6M0KKQ41Cqo6cQtwDbkIo+qhBtGhkQgZPk0KcewJCfNyaQiiqVkK0GaJCCPNUQnzurEFYrSFC/jemQqSWukI=",
            "dtype": "f4"
           },
           "z": {
            "bdata": "zAaRwQBajr54IZrCFYkbwpRj7MGgDEJBTBSIwS7Bg8Lgd1jA+JRfQYDAG8GN6lTCMAuRwLz5G8JlbxXCKctowrVKnMKKboHCnYGIwgxPLEKQMq9B+EqtwsqdKsLeF07CmJ4HQkOUx8J1+i3CPHcNwo2kgcJE+oZBkFbBwWhmO8G88BBC8NkAwdAY2kHw1DxCeGshQtgeNUH8yylCkNPQQF44rsJAEthBJC0KwrD1jsEcZrLBlAQxwlAlEkJAjYQ/EEYDwtQJg8JeGmfCsH1/QhJDn8JQ/aXBbN2zwemdXMIg8jNBiDBXQaB1vcAg751CkEOgwEQ1ksKsnxJC+JpHwYwEB0Jo52tBAG74wSikFkEAsIQ/PucWwqDrIkBM3wBCJkC9wsZMWMI85wDCi2mQwsTkMcLn5zXCl2l5wnhMoMEIXmdC0fh6wqBUtMIU079B4JZ0QgBYKUAB0rzCUD4IwUAaxsG8przBAsB0wqd9pcKQLeBBgLqLwUCVZcFEE5jCjJIgQkHhk8K8p//B8LVfQajNzsEXLqrCIMz7wWAadMFAz9rBJBDFwQAHW7/I6lXBYPUKQoWRp8IgH91AMKqxwgLjAsK8kofCuAoSQczwzEF0/QlC8BiWwAANfkJMsYpBAPpNvxz2g8G2FqjCCdZMwvjPTMHgDwlBoMYfQsEpecKEsJXCF+wVwjTH9sFYIBDCQGxpQqi3A8IQC+3A6GmQwvBQ8kDwF2lB2AB1QYg6+kEAEPm+j8NswkBVXsBUjuXB+OQAwmXZe8LVnSjCvDwUQmNrZcIAhhi+hPY8QrUEksLIwQFC3C2ewsAf0z/gPdLA4SmJwkVbucJYZBFC6NdMQcAZdsEMa/DBovTAwhIwvsKcHArCkwvFwlhsFkHcWRBCdlOqwkTyjkEIcDlBSW/GwoDkq0HYyh9BeNkOQaAnj8KMHGxCwPz9P5iJDkIGpWTCmMqLwXKPNMIgRJPB6PopQcgz3sFZY53CcOhMwSwpp8LgHmfCAAd5vzTjlkHArKvA2GUhwVo8s8II4bRBmL45QaKyPMLshgFCMExrwafWHcLAtSDA4LHlwYcWicIo7WNBC/tfwvREjcGIESfBwNk5QvxoHEIYqxhCYd9NwkCq5UHsZI/CW3ONwgoOB8IJQL/CIJLiQWDZ9cAklZ5BAFSjv2yPJkKIS1fBePWYwrK7W8LwPIfBuPiLQuSgIcJAZWZBhT5hwtglKUFEEOnB+LWIQcdxK8KyJYbCqJmgwaD4YMCsIEJCV5y3wmhy0UEMFgnC0vObwuh0rEEnMzPCFguRwsgFE8HAfOVBishjwmwkbkKi323CuOWywQDq6UCbVITCYIUBwLC8GEJcHYrCoN+RQNRuqMIAhoo/sOWjwRjKcEJZVKzCLLyEQvwRsUH4jnzBMMpUQsYOBMLfalHCi2MowkdkbsJg0vnAQKsvQOTH9cFAKZFAIO4TwjpyGsIIICDB/DDNQQAMJkBA9odBmSuXwipyG8LZnJjCeDW5QXyjj0H3WhfCqJE5QkDYW8KxAa3CPGYyQsAIMMExRZfCgCWDP4iZ8kGY2sXBFLEgQrBWLcHGKgzCoMtIQoOOKsIJRZ3CGKTGwiX3XcJhwKrCgDX6wUCOUEIAVAJAoMhuwfmOa8IwiH/BIxd9woAvvcEAqQlCYsaYwtAhpMLwV2vB+uIJwusykMI0R49BoPpcwmjjSkG0FUdC9xuTwgDNHEJwq1rB0GrZwJSO2sGSSIzCmyO0wsB8ysBjv57CqAD9wbDNBsLk4gRC4M16waEkKMLMRonCkAq+wno0AMJAtjDCWC4oQV7uGMJonGXBpJd4QkxnF0JIHXFBNM8DwmA9Z8AqOoTCdDGBQnT1GkI=",
            "dtype": "f4"
           }
          },
          {
           "marker": {
            "color": "#AB63FA",
            "line": {
             "color": "black",
             "width": 0.5
            },
            "size": 6,
            "symbol": "diamond"
           },
           "mode": "markers+text",
           "name": "Cluster 3",
           "text": [
            "C3"
           ],
           "textposition": "top center",
           "type": "scatter3d",
           "x": {
            "bdata": "lLliQg==",
            "dtype": "f4"
           },
           "y": {
            "bdata": "k42HQg==",
            "dtype": "f4"
           },
           "z": {
            "bdata": "koKwwQ==",
            "dtype": "f4"
           }
          },
          {
           "marker": {
            "color": "#FFA15A",
            "opacity": 1,
            "size": 4
           },
           "mode": "markers",
           "showlegend": false,
           "type": "scatter3d",
           "x": {
            "bdata": "KGlhQtTYoUIOUJFCDIuYQmKKmkJgH8dAfHUpQswMuEFw5KRC7PWLQhA9mEIwtEBClgeOQliwfUJAvY1CVDYfQuwTD0JAIC9CGBDzQfqGrkLgTz1CrG83QpQJq0LMkZlC0O+iQnTlKkKswW9CGLEiQpS7TUJWi6hC4tXHQsw9vEFEDptBIHqwQvbskkLY6mNCNN6DQXApKEICXKtCAnutQrDS10EC8q9CBsiFQqz9vUF8RZZBsFu9QX7BoUKGbaJCfNSDQvSDqULkxnJCuMbHQnhxL0Ikw5FClHm0QroKn0Ks62tCoOhsQlgHhkKKDIdCFmqTQmgru0GQ3CJCUOBTQsgzlkGgrRJCRuOjQs4/ukJYJJpCGNHFQf63sUK6cb5CcJBZQUiWukFIBphBZE+NQTStj0FoezVCqmmnQo5Kq0IIqNRBHqOoQkyIqkJQXPJBkMd0QaCRAkFcrx1CtA1wQlCXdEIYJrRBcDitQrxceEJQs/tBikaOQnjVqkIYZY9CEI+aQfZuwkLGD5pCQKNcQhwYvULcJqxCTGS9QZDHV0K0sERCUAGsQjBkrUJkOxBC0HdzQjAnEELg9DBBaL/zQYJtmULo8LlCcLvVQfyGwEJAID5AXoGSQtLulEKk1U5CSHDDQsb5lUKmMYdC/Ml0QrxKhEJm2b5CTjqvQtBvPUGUkThC/DykQmDh/EGGEbFCcmCAQnKuxUIctzNCpAHHQsj1R0II8DVCkpuDQqBzZ0Gw4rxBIBDbQaCZ80FESYtCuC05QrAmiEHknz1C+nuzQpB6SkJYY6RBJk21Qphz50HgLL9C+CgjQqAxt0IuDLdCxKXEQkIglUJgz5hCND2iQrBWM0LClLJCiI5FQqDwP0LmtL5CiF9dQoiTJkIWPLpCQIe1QqanvUII54FBMMrAQgydsEKoVV1BUNm2QrQnZEIwtzdC3nSFQlCjaUIQJf9BwmWdQqB93ECQSZRCKlKKQiyNUUIwV4dCBEIyQoSqpkKA2j5C4AqIQYg1rUKUpxlChoKaQtCJeUK25btCqHVNQio/wUIwjbxBWD3mQXY1k0IsEKRBws+DQjYpsEKCarlCUDUYQoAu+kHcw6pCgA+UQDYprkL4hrFC0KpRQuC0WUEou81BMHuGQs5LiUKyXJ9CuF2mQtR4L0JSBJBCUDf4QRZSn0ImhK9CQrGyQtKTuEIIQnNCGPG+QmzrFEJQ9WVCALi4QipeuUJkUZBB0s6hQuIKrEJA4LZCGv2fQtByQEFIAXFCYKztQQwbt0I4k3JB6Nh9QQyNWkIA/m1C2nPEQpj1LEJU7KNCUMBKQtxBHUIEqxZCoBU9QtCMPEL4McZCFBdZQgDH0D5UW51C9BKDQZSpv0IoP8RCLPQnQtAXsEKgcqJCfEd8QmIkvEIGy6NCOmGkQqjVEkLSjpZC2F5GQqR+iEIol2BCYExcQpQUm0KwjsFBaJS+QnjDk0IwM69CZIOIQqiUW0K6fsBCKN4QQth7gULQgTRCPESLQiwLQUI+V4ZC+PBvQir5i0K0zjtCeIdNQsRAEEL4gaBCDKGQQgJ+h0JYJntCVJKtQhoGs0KQrAZC+gPFQhy30EG4LptC6JE0QrIOsULIRLFC4OX+QazzjUKYSRhCuPT0Qdw0lULUwS9CDLgxQiS+wkL0matCmoq+QmzJukI0VLVC1A+nQioCkUJyWsdCxG6/QuD+v0IsAG9C7EyRQm6yv0LcVKNCVA3dQdSnb0KQ371C1A46QhqBvkLcpQ1C+Gn2QaiJpEGoR4NCCPRDQkwQrELqc6BCQLYwQoxUlELcFbNCXEA9QsK/wULYZ9pBTGdcQoxGIEKMeSFC+AkaQny/qEL0wmZCRFCiQcyrtUI=",
            "dtype": "f4"
           },
           "y": {
            "bdata": "VvmHQoC63sA8VRxCuFRUQkxwgEEwSfJAOJHpwcTOj0GME5hCMNvgQaCvsEBw5XlBdDSbwbh8gcHAOxFBsBEswYAfBEJQHrFAWJH2QXP3M8K4ZUbBnEA/QiTYGEJIAiDC5ICpwcb5hELMZRVC4AYwQRhKP8Hyi6pCGPSvwXyCCkIQ0/hB2FcEwvijlkGget1AABqCQUBIdkHM9T5CDNqqwTCVW0LobglCCIJBQXwhxcGg1DZB1II8QswReELQmOPBAFeWvyPdKcJgD2FB2F2twYB2Aj+8nY7BaPNZQnjfrEFGeCPCeMr3QZCooUDIioHBvEUDQoAKkz/ANYzB2G1iwcB4SsAkwjBCmHTuweA+/kEzzmnCgEukwAAANTv8utRBsLtEwSjWpcHg/D3AAFakvsTdj8F8DRJCIM53QlTgXEIACvu+QEn+vwDUD0LsfxBCQGwvwDD3xUBoc+LBAIgCQuR0nsEgP5XAgKL2QOSUQ0J4UX1B6hikQiBcMkCIhmbBAITZP6hricFcOBjCQK2XQfAAs0K0JVhC8HYPwazlOUKUGydC+N/6wTg5HEIIfkpCqrOaQgCMi0AAi3HB3D1KQrPnW8KQ3I7AsFD6wKbmKcJwWWLBu7g7wgDsCMGAHEw/eGkRwpB1rUBEBJZBIb9AwhgEUMG4asXBED95wWRBzkHpiCjC2GYZQths28EQfEzB9A4qwljq9kHfXBTCEHTnQHBzlkBElyrCGPivQbhBn0FssM1B0O8CQqjYQUJwpaFBwAaIP4wUIEKkMorBziMKwnpVikLogyRCYOb/wKDikECIW1RCLEmBQjIrgULsfQXCgNb1vxDgZUF0j1tCsOBgQj/KFsJAPY/ADCfXwdy+v8FglP9BcMxuwXxu0kFQsAXBtOZaQqiZEkKozR/BfLyKQSQlL0Lw+A5BOf4bwmhQR0HQu6fAebFKwiyNUUKQ00xB4BkNwnitRUF0SiJCQC6fv1z+JMJQ90/BNCtMQnjwsUK4PxjBEM+IQMDdT8EgnAnBYbo8wkxetkFQAi3BMJtJQch8NkKgsSvBeCu0QeiHAkFwpQhCjA2/QlZVsEJAEIXCIKB5QFiXZ8G8M0ZCqEwkwWjsBkIcPBxC6FsKQhgk8kFQiLVB0HU3QdBSocBQGu5A4FrQQewqd0LgVfVA5AfzwSBTisCIihTBAAuowUyxCkIk/VNCTD3pwUCt30AY8wlCMNoAQgipWMEARfdBQJvBwJgIo8EgNIvAWIo+weBlw0GI1nbB+J7TQSAxYEDgpwDB3NSRwaSMh8HMXX9Cuq2KwtzzD8LIhGHBaJiZQtQeWEK0T7rBNVEqwjCYM8G8FsBB0J3swBCh/kA48g9C0KGtQTfzFMIoqmtCKEtCwdBoPEEIti5CKBw3wUBGH0D0ZV5CoFlxwZTGksEAM/K+qHqKQgJMk0KYSPHBkC95QRB37kDcCgxCgCJ6vzBKbUFgssXBzImbQYAVO0AK0QzCwPSxwNREvsEM0RVCUIASQStrQsJoHfZB6o4xwmRQk8F02W9CwLunv/x+aUK87cZBMC0cwWhomMFQ8btB+vEgwoOYHcJA//VBh84dwugNv0HgstTAyIo7QcjZWcGouMnBiAdaQdhxQsEwJKrBYCqvQBmGhcIgUppBAAs7QgrBh8LIERtCzpA3wryTQkKASUXBWASOQoi75cG78abCYGp5QcTNb0LIlS/CKKBLQlCdgMGoTgTBOCsKQojGQML014PB2KKcQrGrT8KAzC+/XOb0wSz3NULpbTLCQONgwDxdtcE01ttBgOGGQdIBpkL4tiBBMXslwkBKlMCABfK/YAdPQND9n0FsspbBAINZQQ7QkEJC4bZCIJvXQIBXSz8=",
            "dtype": "f4"
           },
           "z": {
            "bdata": "RiqvQjQePUKwB+lBcBIgQtz4VkLkkc5BDI2oQXR7wkJAN4RC6EXyQTRllkKY+yJCTIuzQiIIkkKkIglClBiRQZhmFEKGEJtCFJewQexWwEKoVlxCNnauQkiyTEJMIWtCeMAZQirdm0KyNKpCppOfQpJwqEKeB7RCaK4rQpi4bkIAJkxCsIq5QpQxA0L4GXhBmLUYQka+h0LWQMJCMAr8QRBVTEIgEjpC6FGeQfiaHEKoY8dCWHrzQZpQmUJCKoVC+t7FQsRzJkKMJJ9BUGHdQPABp0H4hVdCkBhzQliJn0JIuBlCgMGqQVQDm0I05x9CdH8NQtRRwULGncRCMPOAQZDqCUKEsotCyIDXQSqehkJoZ2dCHm+xQv4fiEL4Cg1ChN5FQiyPn0KM9CpCOKwgQnDrbUEayKhCVCxWQky8l0JcP41CKMSBQqSyJUIWGY9C0C7+QRzU0UGOP7FCxPgPQg6xhkJUXL5Cfh+0QtzgM0IUsjlCKDuNQvglQUKQTr9BBOs+QjrOuUJYW0hBikWpQiDRskJ29ZlCKoeyQob2vEKUpXNC1JenQtbGnkLkNAlCnC6BQoLmn0IU53VCVFI7QhLwokJcFrVCpAzXQUxsK0L40PdBjGqgQvCiVkHshW9ClDEeQtbpjUKGEZ5ClsjFQhhCokF2IbhCFsSQQtSrNUL8MXNCoLs1Qiz9oUF0ry5CQrq6QsyoOELOR5lCkE34QZgOQkIs0ipCkHjRQUAS/kHUHJVChPuuQujzsEJ0bkJC6AQ4QpzrS0Igj8ZCAAx8PrYnpEK4g29CZlCkQhysXEJ6KadC1kefQqrluUIAmiBALIedQlQcg0LscEZCcnXHQmLRkEKAfOxBmOc0QhqUgEJ8lSVCLIBXQtBH+UFQrfTAGAcnQvDnT0JEd49CUBkYQsRsWEIcLHhC7BPEQeBIn0GGLJxCrNZtQnZGjEICXp1CsPw/QgQU2EGoUIdCkGQRQpzCYkLMLZFBQBaUQk56sULES6FCbEYwQoDDDEBk519CrB2cQthFQkKELytCXPyqQsYMxkK8qFZCVtKPQpw8IkI0sn5C6HS+QoKZo0LUPb1CJENWQuhXLkLyqrZCuOcnQvQiS0KI9udBnAOJQvj0KkIsGYBCBKspQkY0q0K0kRBCxJgBQkCgxEJghKxAfJN7QgDcH0AO6IxCgCnUQWSer0KQ9TdCODNhQnBInEKeioBCCDEFQtBwHEEggIZC9HNAQvT7LUJmc6ZCGOLGQbBPa0JQ0NZAGN1AQaCUgkCyS45CfD8BQhj4DkEEVqRC/oaMQuBLdEJs8TtCjhqbQrADiUIs7nVC6DGRQhAAVUIMQsZCXKGZQjwER0LYZn1C1iawQjS9vUIeA8JCBKZdQuY5wUJ8BjFCLKNBQkCM00DMFldCuKd8QqTbqUGoo/FByjaCQtqjkUJUA4ZBioODQloYmULEOwtCvFfWQTzevkK6eLJC8A7GQsjfrEGc3WZCMEEnQsAbf0IyX4hCODkMQqR3d0K0SwVC+L51QhhKxUJ6CcdCRPdcQsaEhUK6O59CnMwSQnibKEG4rk9CKmm+QiDwnUJYoqxBAJO8QoKPpkJ0aXVCpEdSQlwuAkIc8hZCOE5yQjRWw0G4IDFCGE9GQgbsu0I4BFtC2qDCQj5jlEKEqZNChHkWQgz/Z0IgeA5BpMKMQhCZ9EAQ18ZC1HUUQlo5hUIwgS1CduCKQnT2nkJeeKBCoOMgQuhKN0IcPlBCgMSQQuwgZ0Lm5KtCPOMEQlAC3EGaD7pCAC9kQaxqtUI0CGtCQOVEQuT3wUJAj0fAbD9lQiA7rECQyaFCLJarQsKfrkL0Vo1BtHkdQpAvxUJkeaVCXkC6QlIZxkI=",
            "dtype": "f4"
           }
          },
          {
           "marker": {
            "color": "#FFA15A",
            "line": {
             "color": "black",
             "width": 0.5
            },
            "size": 6,
            "symbol": "diamond"
           },
           "mode": "markers+text",
           "name": "Cluster 4",
           "text": [
            "C4"
           ],
           "textposition": "top center",
           "type": "scatter3d",
           "x": {
            "bdata": "FEdxQg==",
            "dtype": "f4"
           },
           "y": {
            "bdata": "bTvNQA==",
            "dtype": "f4"
           },
           "z": {
            "bdata": "xtljQg==",
            "dtype": "f4"
           }
          },
          {
           "marker": {
            "color": "#19D3F3",
            "opacity": 1,
            "size": 4
           },
           "mode": "markers",
           "showlegend": false,
           "type": "scatter3d",
           "x": {
            "bdata": "iA3SQQzQ20G4n8FBeLhnQViih8E8FMjBYPCyQACwNL88RldC0IjWQFhTmsGItC9BoG0fwUTsPULYqDDBuPxMQSDkh8BA8pFB5DifQXxao0GYHifBpNSZQeCwXcAA/G++cJJXQbDdFUHkEwRC7D6DQehXu0G4p7PBdIFcQsSOMUKYtQHCOM4AQTA3z8HYkwdCMASuQei2C0KAJvVBIHaDQOjCFUFwlHFBhHOkQaB9nEF4W0VCcCyPwGRvr8EIaixBIF6hQYA8x78cyrpBiG2rwRgtMkHQqnHBEIrNwbTo4MEAiefAKJY1wWhnV0GAamZAeODgQfCcYEFApOg/mJhYwaB2isHEFXVCQOcwQmAQNEEskDhCABAxPcDN9cDgJ3rBAGQWP7xTLkIE+7JBAL8vQUyMAEL47pjBoEnKQDi+AcFkMg1CHLyJQXj/UcHISaxBoIwjQoD2G0DM3LxBYDNcQbAkAMGAi2PAcIzqQDC/z8Dwg1zBALBxPwQ1pEHYLApCfP8DQsCHckBQLbhAQM3aQGA9IcCYd+BBECCQwMRhB0JIxtZBmECUQYBToUBovVrBULFEQuCk6UEg1KBBoFpZQWj8CEGAw7DBOLY6QhDloEDAN0zAQOwXQTh9TUEQXSJCgM/7QBA1d8GAUFU/uDoNQgC1qz9Af4G/AIqNPyg2p0FgbChCYAuuQHSRB0L0oR5CcGdRwcBW3D98zBdCVDPwwUAymj+QpiFCMFT2wQTBM0LAYRPAgKazwex4o8EgbL9A6ENVQkDc+z+o2IZB3HKHwawyiMFgg1fA+Ff5QYjs5MHECT1CyAw5QlxqsEHA4VpAEIlSQuhzUELsGX5C0LPoQRBnyUCQw4pBwMQHQeAs40GweXlBQLMkwQBQ979oh+HBJBNgQjgCoUEQdYBAzFfdQYh+5kEkNQtC1CxTQuivRcFgDRNCQGQeQBh5w8GgARdCwKKeQXD/PkL4ZbVBgFZFQZBSMEHQkF9BvNKhQcQtAsIAjo9BCMkWQSAFLEHAacG/8O/HwADAjj1A1HFAQAdCQYAdUkGgZNTAwLJiQLRBl0EAHWs/cKVyQlB/60CIPfFByP08QtztkUEw5JtAcPsMwRhvvUFMypDBuKpuQRD5UMHQ07tBgKUXv0ApBEHA2vi/nIiAwXCLIsEISpZBAGbVvhw6IUKowPVBUMIpQkjSfkFgdSRAgONjQXDSpsAcuihCUIwhwcwlusF48kDB/IUGQoBejUDoG21B5EGdwYDme78Afx9CuNxzQQDF/r4g8hZC0KuIQVCQV0HgzVRAGCUeQaSPtUG4EE1BkAWRQHz1l8EgtYHAINISQdBluEEAIgFBAIY3QABJfUG0hzhC4OlfQBThr0GgESFC/PiTQeTut0E40N9BcA3GQECKt0EAciw/JIe9QQDPWkKg0itBqGMkQbhJi0GYUaxB0CWrwEiRIUE4bYBBQO7XQfSygkHQknVBeHlVQbyMEULgtyJCYEhtQKzll0EAh8W+QIWcP7BabsFY7i5C0HLyQPh0RUIk9G5CYDo5QPBnPkLA7do/nJwSQmwIuEFoDF/BzCgYQpjGHkF4Dy9BjJAlQug4QkGUpatB8LTCwIRuzMGgjHtBsO2rQFj+FkEY7EBCgKEcQhCvnMAUfKxB8GPlwNijX0GoPr1BQLnEQKyRl8EAnWnB2G3LwUCQWcEYvAPBoNXjQQBJa0DQ/OPAQIbdQBjfcEHcpy9CKHniQeSBP0JwtvhAeI5ZwSju40EQZiNBwGSyQHCYOUGcMRRCYJn1QWAmbEJQXD1BWEJ5QQCn6j9A0txBGOcSQQCYKUGw8DPBdMOZQQCUPEK4EG1BNPS2QcQIgUHoc5lBxESlQSAaeUE=",
            "dtype": "f4"
           },
           "y": {
            "bdata": "mKAGQXh+BUE0aopB6D5HwdxRlcGA38FBpAutQaDCRkFQKrfB3KzBQYDgWz9YguxBAJ8OwRgtKELoo6LBiDpfQjj/w8E8/qrBDC1VQlQ9ycEQDGnBFFCSQcA4NMKERcVBwNakQABGgsD4PrlBxH4QQvREtsHYWJVB0IR5QXDcNMFANoNAFLA9QpCdjEFAy7K/NM6/wVDi5sAIsF7B6EA9QjiTjMGgQghB0PLjQZQwPkIwhu9BrO+NwUyOi8EIZ43BJHEKQljoUsGAqCjBcDulQLxpHULQPX/BEEdJwYDiIkAg8k/AfM1DQnzRy0GMi5PBuFcOwSS0cUKOOiTCZJMlwri7+EHwqLNB1O4CQrjLDkIwd9dA8uklwrDjcEFU5S9CYKpUQvhOrUGABXHBPJFyQlxbpkGobyRBtDyuwQAzj8BQF79BuP2zwdyyRUI8LKpBgHayv+LeFcKUq6DBOF6YwQAoz8EQdlZBJO9fQkB4zEAAYCXBUNewQGSYREKAfrVAAMnNPhdOE8I4UgVCyEPoQVAxjMA4LeNBwGPQvyB/zEFUiFJCNHU3QiAswEAACDrAgAbkQIyotMEYR7DB9IK3QRwvwcFw0E9BpNC6wYCm8EEcHdJBcEfkQCD7KMC4TpfBmKhHwbB938ColXNBYCIdQrTenMEwtcpBkJnmQQjTdUIUy8FBcNiPQHinBsIsjMtBeMoOwdSgP0KoA4lBIBSCwPhs6sGcHAdCIFgSwECJ8EAQM8/AVMXPwZh4hEEQrMZAwBynPyDwAkIcJPHBXOiBwQBB3kAE6gdCAH+TPwAkpL3Afe9BgCuOQOD5rUAQ81ZB4GSRQBALhkGodVZB+NQEQiA3k8DYyjnB0B5SQhSw3UFwbpDBsGUwQiAuJ0LYlpLBMDr4wGD310GIoWnB8JpcQYAIZkCACPU/OC65QbBNo8BQNtFA6Lp1waiGm0HAdQ5CRG1EQrQIm8FoM89BWPYdQUjr0EGd0h7CnF7NQcAK28BkjCxCiOqxQei1x8EAZXhBADDSPTz9R0KU/hdCYLwYwXDHS0IAtw7AHLiLwQB5jz88l5FBYNKuwLzhyMHU9zdCcB/xQFCbg0BQtoTA+OSmQXAWpkHokCNCTN5zQhBgM0GUzRFC9owpwqxZLkJA+/rB4EXtwCw500HwH7vBYOhHwbysj0HAkWxAeD4lQozTkkFwJ9fAzBcNQnhgxEHgy6/BAB2xPghlKMGsC8jBQE3YQURRC0LkRjnCiJ5MwWBs4kCYyZfBMAZewdzgH0I4ijxBoGkOQqSzAkJYeUNBYHB4QgCv3MH42cFBwBkDQPCQvcCwxh1CgOwxv+CvncBwtV9CvKEFQkCQnj+4YozBVDWbwTR/sEGAqZLAvKTlwQD8yD/4Zy5ClJ9tQnQZsMFEYsxBABxbQHj3R0H42gJB2H8jQjBsAkEwLGpB2LTXwTgy4UGQ5QNCEKjCwAAPdsHwg8lB8LdfQaChR0Bok0dBCMR0wdStTkLAAX1AwB8xQfgnW0EY/AfBzNzdQcgDiEHoZQ1BYEOywOh+LkHAQvBAYM+JQQD9F0Ks8JXBMHbIQcTQu8Fgnp7AyNEKwSh1ycHA1uTAXsMxwrxlo0GITzbBAKPfwIjAnkGg8mVA7B4VQqxTn0GMC4VBaKTrwaj1esEEOd7BRNBEQhCI+kAAxZA/4E3EwGCZBkB42w7CPBjxwdjEnMF4shRBDF2aQXyUn8EYquNB2IntQSAJP8DMXRFCVNKVweD2C0JwByTBDMDxwaQ29cFo/lfBaCVWQszm0UHI8nTBMDVMQhDm6MDE0U1ClFpYQgu0KcKAIhDAwH3Ev6idekEI40hCOKOQQbANBsJ8rtVBgNhxQAwjXEI=",
            "dtype": "f4"
           },
           "z": {
            "bdata": "CAyrwuCnxkDgDnbAcLPswS9XMcL4+tLBuHJaQYDi8z/YAA3BELu5wPaVhcKSWzDClHWmwvAJpMJ5Yh/CI7SQwgCnU0CEOHPC10h/wu10McIUI3DCOP5rwcgHo8FgdhbBS/eTwmDRbMFA/GrAyDwPwXPfFsKyMSjC87gXwtC4TcEz2hvCktuAwnQ+8cE4B0/CFKDXwYw3IcLQtzzBPu9vwrgRDUFAM+W/EM5oQYAQYMK/N3TCFL3kwUCKRMLnxifCoi1awlBHeMG/KDLCiCF2wexuv8I8UtzBYyVowm8lZMKZy8fCQCX3vxRGdMJwz4PBCEQDwvHyhcKwtV/C0KsmwYBEgMAU3mDC149MwqkblcKguFDC2MvxwYr5J8LQtTDBGNb4wTPSrMKu0IDCUdKYwkB/RkD454rBkAtxwYEUOsIuO6HCyNJ7wYBkiMAQFFlBiN5ewbB1M8GIlXHBkABxwurUDcKYfj3BYwRfwlVKoMLDIb3Cio0kwphSm8IAMlDAAGLSPrQsAsJBmk/CQt5uwoa2WcIwHLlA4JWEwPqvgsKAEMPCAOHKwdCoG8Gg67fAwRExwoQxhsEoiiXBPKNIwt5UXMJgKNnBcF/bwDOPV8LzES7CKhSzwtowVsJYbr/BdExYwtZircJYwlvBU7alwsquHcJgV1HAWL0vQQMuv8JZ6o7CSDrOwSz0msHWzo3Cwk8OwvgmHUFWtgTCMg8KwraRgcIH0JPCg6FYwkwMYMLqF4DCaIXDwfLRB8K1aTDCtAYWwkxYoEFIo8nBFs5lwrQRisKQmvzAmE2FwRI7hsIVGLnCMDXiwQiDhcJB66nC5WlRwrIIScKlQS7CBHcKwrAyJMFpeTPCwM3twbZ2wMJAUbfAgN6dvyDlx0CAAxHC8OvnwA4bMcIAsO48oAlTwKB100B6V4bC3BGQwp+qnsJglX3CxOy2wmBMv8HDmqDCoD5awgCg8r+y0ATCWMR0QUMBPMKMedrBmCCLwQMKhcJY5rTBGNKmwgDKgMJS7sXC9AnSwQDlUMExEbnCsYRWwiVEv8L+EsfCPKjiwcW8QcIeDIvCANKzwKCzRkCYbpjCgNeSv1UTO8JAMiDAz9W2wuZBx8LQg43BZfGhwu4SlcLAfKjA+Cy/wVbHdcKREy7CnMbpwbkDk8IkxEjC/iK7wiDsxsAmfY3CgdaJwn7lo8JzUXzC4JcHwtyYi8GAayXAANkFwADGgcLgNqbCoKTiwGD2gkFAef7BA2aRwtUdjcK2UQ/CBNWswXBAi0CgcIfClINzwkD5SMLoNrjCVzpuwhR0A8KgsXHCM5dewixnn8JBQ3DCLvYRwgDOx76UGh/CQLmzwmhuZMEwfzTBUD/xwf3/wsJoNnXBbCvHwYBhKz/2SYzCE/ZIwrw+lMFmlgDCoMRHQJViZcIMxKjC57FCwkBNVEBEJ6fBBJGEwugyhcI8AzbC9HiXwZwGg8FLlp7CAKoCPxBqAMFCon7CtGJ8wquQtsKcJWPCbqOHwkAOR8Dg1v3AB9SIwhXdE8LQG1/BqL5Zwq5nX8IAXkTCrEaQwoARpsCICi/Bj+6rwqDeXcGVgY/COdYvwsQUysGAJmg/gOQLwlR4zsFsySnC6UQjwsatqcK7hDXC4P2LwiJTdsIcb+vBOBV6wSgybMJNQzfC9pOhwnqQD8K6jInCCmpbwvRipMFr6S3CPLuFwYpClcL4DwTCtPvtwSzxcsKIzKPCPxdMwvA3ncFM55lBOkYwwr7LjMLYP1RBoJeHQJwwAMIMidvB1eu8wsf+TcIgTVjAGGKAwoBMM8HWfLjCatWAwjhdHMJw+I7AANyiQNW7lMJ48SvClIOHwlTsDMLkQbjB6Yqmwq4qV8I=",
            "dtype": "f4"
           }
          },
          {
           "marker": {
            "color": "#19D3F3",
            "line": {
             "color": "black",
             "width": 0.5
            },
            "size": 6,
            "symbol": "diamond"
           },
           "mode": "markers+text",
           "name": "Cluster 5",
           "text": [
            "C5"
           ],
           "textposition": "top center",
           "type": "scatter3d",
           "x": {
            "bdata": "e61NQQ==",
            "dtype": "f4"
           },
           "y": {
            "bdata": "zAwGQQ==",
            "dtype": "f4"
           },
           "z": {
            "bdata": "UcMgwg==",
            "dtype": "f4"
           }
          },
          {
           "marker": {
            "color": "#FF6692",
            "opacity": 1,
            "size": 4
           },
           "mode": "markers",
           "showlegend": false,
           "type": "scatter3d",
           "x": {
            "bdata": "gPNIwFmWmsIoQkfB7CUZwtKKlsKgQXvA1ki7wp7HksIIm/rBVcY5wnCImUEAtKW9oH2kQYC9lUCD8kXC0I3FwQCw+b2g/VbAY0acwvhrDULUtbHB2NW9QQh7JMG4robCNG2YwsDVIcDgvF7CoMIVwMC2x8LgGdNBiEA5Qlj4IMLqAyfC658vwsa7o8Ig/eVAdTV+wvBhOsGYjzvCYIRsQuDW28AM/N1BgGvXwFiV4cHUNF7CgMu+wdiyHcJ4i1nCgMOGP/zfT8JIWVLCBjdDwsTDA8I2S4/CHEaPwnUrZcKQN4lA/KyXwsAzAULXi8DCsiczwsCrysHg5DNBRiYGwiBGCcKGyTPChRw/wmXgvsJ6YLvCwHPGwJg4CMIGZaHCMNClwM+ebcLv1yLCYNepQDrqCMLgEMXBmIxSwn3pjMKGiY/CSCyhwmTCjsLoVy7BGZtDwp2SgMJ+hm/CRAC1wcyJUkJcy4fCqKmqwf4mHMK6yAvCypGUwo52u8LYMpLB3IOAwuATDMAA0J686A2twaDBIULgZmfA0kRlwuB4gMG0l8ZBkPUMwaCZmcB/EU3CsjsiwqYgAcK5rnHCKJmbQRZymcLATk1BzPSrwnmOtsLJKxzC0/huwjHencKgKbDBbOFKwrG6q8IAGYq/L/S3wrC/MsFgi15BatkLwuWxRsJEjKPCZ9lKwpRAREI4YijBqfyVwghYksJQshfCHuHDwu0obMLMwwjC0RBQwj2RisIokInCcEgxQtC7c0FzHRnCSAUswjDFxUAE8ITCrodnwqyDxsHg5ntA4zWVwgBWRsEY6W7Bim4DwjxCMMKYGiFCQFVwQEBQrUD+WEHCaUxFwj++FcKAhOnAt3SRwhS6CsI0wSTCyC6NwTBlnMDhWYfCwD6vwcpWNcKoicXB+kqcwgYphsKgIWTADPUewrCEi0CAZPdBTtGZwmRGnMJeeBLCwNkVwCAsUcBMyxtC5P3BwmAmNMGgRXhA3Cn7weg/MsEoqgrCH8AzwoiircHX8D/C0OSoQVzooUE1pr/CoChgwqDv8sG+uATCpF8gQrFmj8IVY8DCIFVDwaQry0GyN4HC+2OJwrCimkFshh/CLGkKQngzScIku4dBQKPev18CNcLFpibCsOtyQhQ2+sEI6xlBO4BYwmaymMLvZrrCoB2TQew3iMFZe7zCGH/gwUDFy7/AAsm/QNBjQO3tqcI4eqhBLjGHwsHom8LrvHjCwDgwQSC+X0EoTujBCOHIwWS5A8LYOVbBK6iYwvAtlsJSx6rCQJ0pwDPIJcKQZ+5BGNRswQYEkMJrFsfC5hszwv/mpMIf97/CUOeSwE92qcJHHFXCwEVSQtTBH0IgJbXBaDxHwuqcuMIYX9vBYwcvwgUHR8Jk57jB2g2WwuAJ6MFg27zCxlG6wqRrbML87kPCzGEFwqr6CcLQmFdB3cuJwtVew8Jws6/BksqxwhmCMMI40tnB32zBwkC65MEAtu3BKCW6wSTrgMLw57RAKDmZwnlmEMJV6abCuPR/wSB47kCzM0XCGqwlwjBVQMFwJ9RATeMYwpTYsMFRVmbCIC0Mwm7FeMIw+dXAE/SwwnvTVMIYYV1BClwKwpR0kkEK4qLCySO/wryrRcKYNRHBcMTCwCwbksK6/MHCBYSxwn9ZU8IuRY/C6W26wkBUzEHMA8rB0MEzwZBvK0EsrthBCGYmwXy9WsL4gVnCWF61QRURtcLwMI3BSarCwozhCcKjF5jCoPUMwbzUX8J4Zc3B5O/RQYjmBsH8sZLBXNyWwTIewMLgyPXA5zcUwq8ahMIA5wbAYAZOwuAdfcC9NY3COJV+wvC64kGoc6NBjO+uQS28GcK4qaPBQ/w3wqinYMI=",
            "dtype": "f4"
           },
           "y": {
            "bdata": "UARiQhgQvEKwYrBBnlW9Qpi3ZEKcSDpCNlS2QhA5yUH4H9VB8B+6QmBtKkLky39CDqyEQnq8nkIIwvpBgnWxQmwldkK4fcJC9Fc/QqRRdEKI1V9CGCcpQiCM90E0roZCWNyoQhriu0Jg0RtCbuiuQmhCF0JQF6RCWDWnQuTrXkIAqAg9gHm/QtT9C0I4UFZCCLS/QSDx6kGG6axC4lHBQgDJxUHOxK9CxJx8QgA1wEJmeqpCQJX5QczThUJoQJlCNNajQhDTkULQiL5B0Fe2Ql66iULcho9CsMuRQjShIUKgdHhCttSrQkDsoELCErNCwKGJQixQUEK0+1VC3O48QlgFFUIY52pCoKRBQrR+kEKe15BCCLKcQZg7pULY6LRCpBkFQgIsnkJMLaBCuDuoQeZLx0Lg55tCkFK7QsyHO0KQrD5ClNN0QmwIMEIg7MhBHryjQlxVtEJICi9CUoXEQthLuUJSaa1C0ImzQkBev0IAZrRC6pawQgjKeEI48y9CYlqsQojBXEIs+FRCCKLCQQ7VwUI+tcBCbNfTQTwJkkKU8ZRCCBXTQdRRIEIKI6ZCsE0BQhyLakJg/B3AUD2mQvoQhkKCvJtC6prFQsT6fkIUtmpCuKSmQdiOU0KYDGxCuCG/QtTyTUK+N5RCkrKDQsR1i0KOIr1CgCvHQXzJMEJMqmpCFIZ5Qkh4o0I0x31CEGZbQljirEGAbI9CXm6lQugVG0KsyoxCvAQyQgCsbUFwTqxCFKCcQuQ6lUIsMD9CYJb6QFa/nEKQmPhBzFwkQojQy0HQBF1BQDPFQoRXRkIcsVpCZI1qQmK1pkKQJIJCzK5QQp7HxkJ8xWRC+EaUQiRjwkJsmgdCUqHBQtQSjEIUC6tC9KvaQWRgVEKmSqtCeFKRQqCEuUIioKVCECF9QqAGsUCk7BJCtDOtQYjBw0KKfphCOLgJQlDXo0IgDaBCLs6tQtDp9EF8AJFCjA1fQrB5l0GkU6ZCpJF7Qoj6N0Jg9qJCaO5DQqrtoUJQBlxCtBCPQhzfYEKIkqNCYq6nQoj600GUnRBC5u2YQkA+RkLQSb9CZKlVQuJPqEIQjGxBXuuXQvYLs0JYMJRClNBwQgB7O0LwsDtC0AKSQrw2oEI2GKZC6HXCQpg6bkLaWo1CvBNdQvJZpUJO4JtC3q6rQgLlrULqj6JC7GmMQnwsvUK2/71CjFXBQiQTjUJC3cNCLkiMQszqd0I8WaJCYmO0QhhDA0LIVChCoARWQpg3M0FMBLlCwERRQZiGi0Ju57JCnkmwQmZmuUKUgItC8lCmQkC9SUD0TsBCkCC/QrCF90HEEm1CkquJQiBqQkLWEbNCnKqpQtS1u0LYcydC1DmiQpxiQUIg7SBCXMuGQggCoUKYcX5CkjuXQg6HqELMBb9CtAC8Qqhqj0HY2ddBJOKZQlQ6b0Lg2DVCbJydQnbQt0JQJNVBvHCMQjqNx0KsDYlC4GpkQtwpc0I0+bJCIKkPQk6kkkJg0vFBFHw0QlQ1PUJApYdCFNvaQdil6EG8srdCjF0TQqbAxEIoZLVCvDGNQeCIbkKI4SdCUHRTQqJWmUIS0YBClCgOQr5HtUJ4RExCxPm+QswEj0LYRixCQKMdQqQ7a0IMScdCMrGIQtABjUIIi5JBenyZQqTelkLWlr9C3LktQhgJXELIwhFCxPUNQjTjKELea5JCqqWbQlDLj0CaI75CAnSxQtputEKo/gNCpNqkQogLIUK6R5dCch6QQhqcgEK8qVVCKBSZQqjnVkJQiSpBNBmuQixOUULGQaRCSsq9QnIZikJk3axC0O+0QiyjVEJiVpJCDi66QiLowULgv21ClP5kQmj74UHY6IhC+KvlQaAl40A=",
            "dtype": "f4"
           },
           "z": {
            "bdata": "ZM2oQggycUJ0H8dC/OS1QqgzIUIwfhZCPNWeQZICwkIEYTZCQOyBQTbOtELwLMJCBHmrQhjqQ0Lo+4RCMp6IQoiBfEKEUyBC3LUIQt43nkIOSrtCNAe0QhgqNUIctzVCmOONQgwygkLik6ZCFDp6Qohvr0LSXZFCViTBQsAgNUIe6ppCyAG8QmgTw0Lyd7BC/lG7QkhJx0LME6FCFlzFQjitnELQQ51CBMxkQkRKpULU25pCwH8XQrDwekGgoABBiIimQvQw1UGAHXBCMBO9Qp7prkLYoB1C+P0fQfSATEIgxWFCAKsDQhLqmEKIxGhBsiK+Qswse0JslL5CQJqLQYDy30GUQKJCGIODQiQXAUI4DXdBjHMZQiyaH0LM7h1CDPqLQjyTW0IeD5FCrH2sQmR9y0HW/JtCrDEDQnj+1EGgAZZCEuucQkRADUIEDqNCUnyUQohrZUGAkIFCBD5SQgz0q0KIXcBClEkAQrqEsEKkdUNC8A42QfwVwUH8bUNCxtWuQijkJUIg+xJCgJNEQmbQuUIGtaVCnGONQhCaFUJ8caxCsESvQiSXUUKeIKNCPBiwQugFcUJU+ahCbL4vQlxOlEKkPLNCsPJlQZxAn0EI6mFCfoTEQsxwIkLs7D5CjBY4QlhzU0K4201BEGm+Qap3skIWtMZCRBUwQoiz5EFA1DZCUElKQjCxqUI6jJJCnOqIQZj4t0JIFztCVlKLQvBo9UHw0sRBtryAQqyrn0Jgs4BCivjHQsDy/0Hg019CuLS5QqTvE0IQPjhC3DU6QlCZhEJAQadCbIB/QsRD0EHAXR5C2hOYQoyvqUJiGsJCDNIaQppAnEKAHX1BxJF9QnDZiUKcGzpCvIPVQWCeEELQiFNCTimhQuTHB0IYVbdCHGMJQuDPZkKAo1JCrPi/QqL8o0I0VN1BaMCHQo47vUKkT5dC6saGQrS4oUJ8aJBBStiVQsD14kHM+HpCFBZcQmSonULgyJBBTNK7QWDRu0KIvqpCUi2BQgQjr0HUHWZCLIicQrwLUkL6o59CgA0rQc5LgULkNHdCOv+OQgifPEJYpq5BGGO6QtB3bULILK1CsKfuQcQLPkJsGr1B0p7AQga1pkKE0oVCkD0nQuAV1ECoA79CWqmsQjj7dUIYOqRCVIJYQqRqp0F4vZVCMIaVQsyOhELCJJxCaLAOQVQ5q0G0wahC6NGGQvZVuEJkGr1CvOYdQpibI0IeY7tCwD9hQvhrmkKwj8JCxIMNQhJJnELgfsdADhrBQvDbnULYHwhCAJkKQtIxkEIUamBCJJhtQlK1rEI4XiRCaJQYQZJpqUL4CcJCGCOBQnwEwELuW5FCgrzBQh4ihUISvYNCEmmoQoI+q0IscS5CKCc5QfxdqUHEpiJCMDOiQfBDx0EenrhCxO+cQoLci0LsgmhCAo6oQlATP0L8j6NCFF+EQUjrcEKuxa9CbPWXQfyixUIs+bRCBLx4QoiLW0K045JCzCckQvzKxkK4coRCWDb8QXjgCkJIcYpBZqyrQmzYZEKEnHxC5mLEQvibTUJoHaJCAlKVQkix4EEk171CVFSPQfiF/kGQ7yhCFo3HQu66kkLY83dCsPctQohvrkLYvIZC3se0QjQLQEJYNwJCXAomQkwMUkIkKrxCuN+tQbQxvEGUq6JB7Ix5QkwuvkIkbnRCvteIQliDtEIoN8dCYgS1QlrNxEL4bLNCPCWBQnzghEEsNI5CRuqBQgBtbUL6yaBCeMESQg7RgkIUGcNCUh+GQkxcxkHcGopC1sWzQjBmIEIoPTpCAJH0QWD2REEG/cZCoIn4QezqtEIIH3ZCnKGRQazKXEKkp3RCVIy9QsQ2kkI0TwdCnEySQhonwEI=",
            "dtype": "f4"
           }
          },
          {
           "marker": {
            "color": "#FF6692",
            "line": {
             "color": "black",
             "width": 0.5
            },
            "size": 6,
            "symbol": "diamond"
           },
           "mode": "markers+text",
           "name": "Cluster 6",
           "text": [
            "C6"
           ],
           "textposition": "top center",
           "type": "scatter3d",
           "x": {
            "bdata": "NFYMwg==",
            "dtype": "f4"
           },
           "y": {
            "bdata": "eq9vQg==",
            "dtype": "f4"
           },
           "z": {
            "bdata": "Co5zQg==",
            "dtype": "f4"
           }
          },
          {
           "marker": {
            "color": "#B6E880",
            "opacity": 1,
            "size": 4
           },
           "mode": "markers",
           "showlegend": false,
           "type": "scatter3d",
           "x": {
            "bdata": "jWO+wiRXWcK611nCAEZxwRLDo8JwxdrAFLfMQbgoB8H0GpnCrLGAwp1LtMLu91XCaFtZwrgxOEIG9ZPCkKsZQfLgMcIYUlfCWGasQZiPgsJ8sQ1CAMhAwaSGHEJc5DbCYJS5wMVapsI240vCgG3Nv3sCgcIGT0LC83CCwiPtZMKwXWZB2DP6wYFXHsKEqp3BOrzCwpwRisEYHjDBDMgPQvgpd0JwUezA2BahQdqXx8Iw4IDCoNJlwWR6s8II547BYY67wsAaMkJIqkXBaIIAQihMJsJYC1fBkJmhwlnDMMKA5VvCM0pXwlrsA8I4ZvHBJfCKwgeAc8LXHVHCgIlYPwC2J8GGylXCQNYnQsAkyr/gCC5AuDF7weBj0UALRUPCrIoQwnQUjUED5VzC4AnawOh7Q0Ew8snBEHGiQGu2JMJgdcDAo0tlwmZ7d8Js8JpB+O3jwdNJO8IwgIBCaLYjQbAp5MHUAeDB8rF+wnAufcHFInLCU9tVwjy7okE3Oy7CkHjvQWARtcFIvTHCYguDwnhttsK80p3CSLYUQpwbukE48dLBhptCwuDbXsFsAUZCeAdZwcA2pL8mCg/CWCBcQQSNlcGgTmRB8GlhwQD5LMBAVsbCtbCewufXs8KAPO1B7EU8QoAInkGoLwnBLlCTQsCwTkHRy1XCYHz0wRgmaUEwfmzCgBmbP9x10sHg+frBUMNKwaxPj0FaoJPCgJlQwPKeC8IQ55ZACdsvwqBi4MBgyZRAgPp/wUBU6MD2qUPCDKcIwjKGOcIQ3O1AoAWQQNCy8EFi2qTCwUSmwmzXfsJf+qnCpPCkwq9kKsIAfFw+zRJUwvgzjcE07wvC8FtbQmQ0jkHnLSPC4JsAQdjCQcGz5RHCtA7+wfSROMK42LbBzWy0wiC9ZkEAHeNBuBZTwmzqm8E0v3fCodyiwmAbD8BbLjPCYOfFwMW0cMJ+5HTCzOKpwdQDJ0LgJHPAwPrev2DBd8GoJ+tB8bgcwpgXhMKQF9rA8kMEwjhnokHIwlvBP4REwmjHVkEe8EzCNM8IQohGYsIIHXfBjN0twuD7asFM1qHBVCvwwchAn0GIlrPB6GI+QVr/LcLWpgnCTNSNwlAktcCc4jVC9BjFwVlGqcKUlPjB+IvYwa0JgMJEGpbBAU0iwow1B0KopTVBxFS1waw2vsGAgW8/Ldh+wkhoV0FDTqzC62xgwqCvLcB8JvXBnETqwQCmgcAA1f3AcVO2woMZvsIUGKPCjLCXwvjWhcG2mW/COEg/Qpg6UsHgsJZC934SwgpfoMKAeiXCAxGfwpzat8JwiCZBtCWYQSkrOMLEes7BEnmYwjs9QsIEWoZCTcvBwgyQqsLgXBjCmCv1wcDRn0G4MhLBqCw6QTQxU8K4AK7CgHNbv2QkVMJs9svBsGj3Qea3iMKsUKDBBOSqwUgVQMEwS5dC7OCrQWTE18F4iGnB5IkdwuWAmcKqsaNCgI9CvyAjX8Cgwa/ADgGrwpxaysHrdRnCJHgsQlgoHsEQ5aHCUKFmQq4xD8IgGEZBDF7pwUopOcLkMoHC/H9vwo2+v8LarVzCzWVdwijgiMGQgI3BAEtaQBTpisLa6THCnyKVwthhC0ExUR/CABTrv0DIJcCLpYnCeGn5waSuEEJMdLnBdaB7woA5IkGIY1RBQPh9QCA/jMGOSCHCIIuPwgAuUECiOpXCYqVCwkB/nMCTcJTCLgi+wpMblcIMxsnB4D/GwORYkcHAXQhAePrRwR+arMIJ0IjC8W49wi0GT8Kk99dB4MjIwRPlq8KUx5bBVBWbwp7jecKQJ3tBwH9ZwIwGp8IWfYHCoLqdQGjkBsFcghRC6FGlwj5SHsJUx4XB8GjgQFQ+NEI=",
            "dtype": "f4"
           },
           "y": {
            "bdata": "WpSZwk1+v8Kg6CPC3AqDwvyglcKEnrHCcVoWwnu2gcJfRnfC79TBwj1TusLI2IjCP9uYwjY9MsLecKHCobmRwtB8rMJariTCzqeDwqCUkMKuLJDC/keDwg61WcKcUL7Ca39PwgaXkcKUw4vCIvJtwlBPcMEetirCZ6JOwgA3McEo2TjCE5ZxwrZMxsJ/B47C/uhZwuZwAMJDo4bCQ3NlwoPZm8Jg6i/BoDuNwtv+sMJVnMfCoM1swAjMh8KxzoHCYzi3wmDqxsJ1eWXC5cyjwhrThcJZv2DCoOWUwj5bhMLM0nPCUlSewhiw4cF7MqXCYoVEwmDHNsF4g6/C/STAwlfumsJY9IPCa8mkwnFpvcIYJu7BRLqfwgUsv8IJmYvCU0mJwqtVwcL8uaPCTlp9wuISvsLmCGXC8iYwwt/JmcIph4PCb7/HwnCkZ8LZmF3CjjNnwgKfscKj4qrCDVFBwoi2sMLwZZvCpEamwhfvKsIopQTCJGfHwaiNAcIGJozC9GuMwggM4cFYDCfBt+6UwnwVrcKtd6HCsR+kwgWeSMJAJDfBRRe6wu4EA8KzV5LCuMU6wkDGuT+smdrBZgMAwpfqWMKIHXjBiJSFwtIlocKyUFnCbLUxwouvlcKOfzzC2UqRwks5gML9sFvCnrOPwrwH/cEKdrnCDPBfwj49fMJ9iEDCepgNwoKnj8KJc3nCddlCwtyyTMLygJzCWATNwYy0c8JYp8XBlaZRwpzhhsHt7pbCMOkWwaQ/g8LofILCrOSEwSw3ZsL8uJPBDhDFwiQtl8IF+rHCRQQnwpojQ8IteozCnwmqwuM8kMJkWnPCp1GOwv81vcLQop7CyoPHwnM2o8J4FvrB4ynAwkEaqcI8pQvC0ALiwGCFs8IAF1fAJG+/wu4SrMJjhYPC8MGqwgh7r8KKTlrCMnapwi1ihcIRwMPCWGZCwpB7W8JgNsfCcMjGwcI6qcKwHujAyKOJwbMkf8IifDTCnPrGwe62l8IxzqjCDkqgwhjV+8FoSB/BFKoEwjDg1sH+AZrCAAeTwjwXtcHOz4LCAvgZwlBZOMEUB7XC0ld5wl2HrcIpGknCeN4CwiK2wsLI/GjCB0+OwupEG8JTXW/CsEu2wkvlSsLy3pfC9ELPwXc/xMIgFm/ClMOPwkFajMJQqfvB+E81wrzLm8HnUmLCN/1KwlTTk8KDd6rCCQBewsgxiMLTQcTC9tIAwvPyIcIt7HHCCR1OwnCjJsKt7r/CVLuuwqgNusFdSsXCfpyqwpundcJYr5nCxK2fwnAgxsFcgajBSEKOwTHRvMKGZBvCK6Iewqx0mcF6ao7Cyjutwou/EcLyHbPCutOUwtvzksJ4/tHBFMPqwYUxocI9v8PCCJ46wnlRh8JoK9rBBZoawsfTo8IAUqzCece/wl53fcJjT7jCSKtgwsBVcsDMOZfC+PrrwZIAIMIxvUbCKtGAwh7lpcJKTLDCclZxwiAgvsKy8rvC83Fnwh87osL1H6fCMu6rwihEv8LgbD7CcGqPwkAogsG8ap3CaPCWwg4LvMJEK2nCWZ2/wvkJlMJ9SonCa1Cswlxs8sFwZM/BeNsZwvWyncLWtsDCqMXQwe6eSMIwGoXC0P+bwHiRlMJKeZ3Cvti2wnm3LsKKmx/CCp+twvAj2sE/p63CtCQ3wuAkfMDY84bClq+twpfSXMJLfpbCmMZ8wvOTKcK8WqLC5kZpwuQ6vcLAOEXC050RwgCxij/gGw3Cy8yNwgBsDMKlc6vC1NyZwsX4fMIcqQfCzt2swoYfL8L8uZ3B5GAnwk4eZMJOnYrCXxuJwrTzjMLOHbrClv8Wws8mlsKlh2rCAp6GwlwP/cHqGhzCivq3wvHCPsI=",
            "dtype": "f4"
           },
           "z": {
            "bdata": "XN9dQtZLhkKu/ZxCiBBxQlBIj0JCn5hCGFyUQkxRJUJ8U0tC7GfAQiTkZEIqVcZCBgunQhSqrEJgsjNCSLq0QsjyBkJSkZNCFMeKQuRYiEIM/4hCMFJlQkjsa0JMhrhCCET9QeLkuEKkflJCTPtIQpagsEIi8I9CtHe8Qmiwr0LUd1RC+HcmQtCgCkKgCS1C0EqUQjaEiELSpZlCkoWgQnRYrEI+5YtCAJh0QvI6ukLIIh1CElmaQnapmkJIdUVCMJIOQrAdn0LWkI1CQLS4Qigre0KgVfJBtB9/QiC6O0IQqnBCrD5cQnbSn0KIfApCTBjDQpC1w0JYygxCGE6pQrCkVEK2u79CiImYQtKOskJ88RxCMF0XQi61tEKuB6hCsDSnQm77rUI80btC0K1xQoxqvkJU1sVCXgubQmCjDEJiGrlC7PzQQRTsU0L8l7JCEKGVQuzJ1EEymKlCTHDEQiQEkkJkY6JB3FapQiBJcEJ+NcVCvBuyQpzYkkJwR+9B8v++QpDSvUIOc7NCkBiZQtj5Q0KOmoNCABS9QnTkf0LoDqxCPqOmQgCKYkLcwb1CkMarQcS5mkJ86n1CeHO7QtzFVkKkY7ZCMBR4QgYopUKALsNC0j60QhJ+l0LiiapCUBubQmwubkJ4P+tBaPPFQtgipUKWkMNCFDIvQmokw0JwMntCosbFQkjuskKY/LhBIoaEQlbBvUIUb65C7HIaQjCMSEKQBrVCdExWQk5rtUJMz8FCFOm6QmhGU0KE25tC4DahQqSmi0J0jKdC3Ih3Qlpth0LwhzBCBKG+QuQfVkLsAlJCZt2aQryPf0I4qjNC+J+xQrBAYkJoHI9Bpl3HQqI5wEICR7BCzg3AQkSSrUIaQ7lCxGeoQmBek0JE5KVCDKanQhTIfkLgcV1CTkqUQnZvwkJ257BCcJi+QmgFSUKEM5pCDK65QpJ3xkIcSwRCtCimQqLfiEKIZIhCgHBdQkjvREKQlkJCNKqhQpheQEKoJ6RCxCMDQmwXfEKQW3VCLC+WQvC4l0LUaBlCGqCFQg72wEJ8bitCkMNAQkbUxkJki1JCVqmhQtA6ikJEkk5CCKNeQj5CnUKENaNCmDCvQsjppEJsHZVCtgaNQkS+g0IshotClAE5QoiZc0J4vyNCDP09QkjIvUJ4PqpCZG+7QsD8Y0JoWW1CcL28QpCGn0L4dSpCvBg0QkgSikKaULVCvCp8QsC5cEJ4NLJCDkWaQjw4tUKsf0tCjMcxQgjpR0L0LLlC8sLCQniGqULaacVCoFahQhgRwUJ2rqtCHgvHQiiVw0KAQIVCuiaqQh5xmEI07CJCGsCYQuiMlEJaTbJCCKmaQhznRELIoIdCamiEQmDtUkLYHVFC6C17QuSDr0JMacVCnNRiQpzroEFUbmJCVqSsQhTePUIsUxJCONc+Qrx3x0K2VcJCuCBnQn5So0IgXFhC0KNjQnSfPkJC5sBCUk2OQogMO0IOuJhCNse7Qu7CrkLYJW9CxEWZQkolx0KEOq5CYIjGQoCGt0IyD5BCOLYMQhykC0LorcBCMDbiQSg0kUI8+VtCqHtsQprasUKwkS5CSJz0QQgbGkL0+7NBZPykQsSVJULidq1CXCpkQqCKJkKyosNCSve4Qqi8mEIETk1CjDbMQcQHt0LgVWFCkAWYQi4/o0JokzlCMGKPQmzdJkLEuL9CHKK6Qoo+k0LkzyRCOmK0QsCb7kEsEQdCyAkqQgwPqEJAUDJCUETFQeKqpUKEbnVCpmmtQsSWwELMu8JCgma0QiySpEKmxKNCDo3AQsAlxUIMApZCGBgOQrBPS0KYWuxB1JfFQjhtgUIQGZVCvumyQlBSsEL49I5CPH9WQlyTqEI=",
            "dtype": "f4"
           }
          },
          {
           "marker": {
            "color": "#B6E880",
            "line": {
             "color": "black",
             "width": 0.5
            },
            "size": 6,
            "symbol": "diamond"
           },
           "mode": "markers+text",
           "name": "Cluster 7",
           "text": [
            "C7"
           ],
           "textposition": "top center",
           "type": "scatter3d",
           "x": {
            "bdata": "/Hu+wQ==",
            "dtype": "f4"
           },
           "y": {
            "bdata": "2q1vwg==",
            "dtype": "f4"
           },
           "z": {
            "bdata": "ZDSMQg==",
            "dtype": "f4"
           }
          },
          {
           "marker": {
            "color": "#FF97FF",
            "opacity": 1,
            "size": 4
           },
           "mode": "markers",
           "showlegend": false,
           "type": "scatter3d",
           "x": {
            "bdata": "EKqnwRjUisIJgFTCCBquwn0FQsIEcYfB8zWfwi3UosKWnMHCGEnCwuOxFsLRNcbC5Gm1wYIUj8Ko+HVBARFKwoRywMKS+F3CUURkwkTDOMIlgZLCRJOmwSCDp8KQihjBzEuowtG/msLbrrLCuhcnwgSkp8JYUN7BO3MQwrwtpML4LSPBdGWNwgAWnsDZQ7nCn2a9wmMGq8Khwx7Cm54XwgIKgcIm9qfC3B6EwnvYacJUA//BdpU+wjv5VcJLvXnC0SyUwjxRAcKYe7vBUuoGwkJhAcLtC2TCUKe6wj6ad8LKoXbCFa1Hwh+qtsIdwWTC4ueswvCFaMH4dIXBrsqtwgAbTMJDb63CtpFuwtRsu8JnLMPCYIVkwlD8gMDAhjRBdGeIweTZf8KcgJzCkcq/wmRz28G807bC5M5SwpP/fMIAL/U+71AywnkoL8IyeMLCXDXkweSbWMJ2ypXCievAwlIig8IEXBfC24i5wpLTV8LpTpTCOGGKwfA8zcGMANvBthAywnBUoMAzvSTCaKnVwUbXYcLzfpbCjuBewhR13cE6FBHCZYrGwurwqsI1hMDCyFblwVSuDcJ0mnHCfuElwngMqcKU9mHCZa4xwviqwMEcOyTCFBqhwniwicI8LozCuFCzwQi0LMEnO4HCQHf2vy5jkcKsZOLBKNSwwjByOsFfRqLCgGU8wbQfwMJmgz3CLG6Bwm3SfMKwZ2rBqo+TwjGftsIomWDB0CulwLwQxsK1yUjCzgaqwtz2gMKTp6zCUEbvQOGtwMIQlgrBgIMpQKE9E8LQt9fAYCQHwWd/NsKsyYbClMAPwsBDnT92z4vCmAQgwpweJsIQcMTB4ae4wjhMqcLcmmHCWW5SwvyitcLAE3zC59OYwn3/Y8J4sm7C9MXvwXlWosLoiUfBANR7PhvXusI+mbjC9F3gwfDIgcFntFXCOVrDwso6CMK6ZZDCMEJ7wq62ocKJeULCitqBwueYicI5pKDCYJBQwKTVgcGot6XBeuOiwjio9cFM52PCEIGwwWD/xkCu+0rCUrKQwvGNGMJIzjTBaE6Own/+WMJtAT7CaHgKwtA508BhayvC8S2lwo/8lMIgRhLA/Hu5wbdlqcJRdhHCaGJuwQgMKcKvx5/C/6DDwodBR8JMq63BTHu1wSBHocEArkTBgGunws7TlML9fbDC9O4Twrq1j8KmW7jC5qGGwlhqmsL//STCaBaWwuSHCsJzw4/CGLRdwUFFmMJvBLnCJI3+wYH5IcKb26bCgH+BwSOUw8Ij0lPCZD6Jwou6iMJEAPXBWkOmwsCIFEG7Um3CYDd7QLjn6cEeACXCvGuwwYvtlML3O8LCy1pzwmFem8J3IqPCrNrkwcEnpsL4uIbCEBmjwU0HEMIwae/BtM2VwoDuY79xrKPC0DifwEjNYsHQ/oPCwA9bwWbCgMLPNLLCztmhwpD5U8FX6yvCcHP8QCIHhMJ0Z7PCLLvywXxc5MGyblHCLIbiwcRUl8KmS7nCXEM9wmCEAcJwKujBjIUIwusrPsJ35VPCmTeSwt5rhcKg1U/A63VPwvhIs8JpYGXCE9itwmDs/8Ci4IjCndpSwvAgkMLSCxvC7vmYwqj7d8Fn/GXCpo0OwqIJjsIbeXfCYEaPwRBUxMCcD/zB/Zc3wuATh8EcSV7CHoSdwiTGo8IUNR/CDceQwqrjjMJHpk3CiELEwdIvBsLuMhbC19UpwijtssJcM6rC2y4ewih0hsHf/bPCMfhMws5MxsIoSRTCGF2HwWnet8IV0b/CgF6ZwnRAt8Io61TChydiwjjrusLGLA3ClPCRwdgEgsJTJy3CPt+gwlYNrMIlMa7CvKnZwXqobML6FljCJILGwgBm7r4=",
            "dtype": "f4"
           },
           "y": {
            "bdata": "IKBOQoDlOEIAMrS+BAZnQuAy7EA0RzdCODofQoArgUEUzdhB0CMRQpxLl0Kcr45CGqiRQgTlFkL87oZCrGTHQtrfs0Icbw5CsAgtQsA+esCsjiNCxM8HQmA7ZkIUX6FCrOK7QqhU50HU349ClLdEQkwPQEKMTJRBPCNnQtCrl0BAFblCnJlgQjzcuEL2KYBCqGOCQqB9UsBy9L9CMAugQNiAREE8FEJCuL+2QqJXhUJ4qWBCADeXwHr1rELg4HHACunAQqxeOkKMFLpB4H+5wODF00DICGFBsEWRQoyXlEIgvuhA3sWLQtiix0HIZNFBQOUHQlyZkEI+r4tCvFDPQcguJkJAzbtAUIBtQngKbEHY1zpBJu+MQmCbY0I0LFxCoMpTQmi/qEI4zDdCWN+MQugoUkLQE4pCTCKFQlCWiEDYTY1CTqKQQqyxkkKwQd5BgI+eQtbah0K8619CxIyeQrTBmELMNcFByO+rQkiDPEEQh0xCpkeBQqrVk0J0VUlCErOOQrhtkUJyT6VCMNjoQJQnrELMQVRC4ICDQoDg4UFoAG5CyPtCQqYInEJYUVVC2LuyQqAz9kD0uHRCgMKev2zONkJMmr1CsK7NQBwikEKQeeRBYgmbQgBubcBIYTVCAEqnQDRtHEIATBlBFLFvQnZqiUL42ulB/E2jQgRvP0LAqe5BBh6yQlz/rUGs6j9CVN8PQhypf0J4DMRCGDR0QmKCrkIsGaxCyGclQthL90FsrEJCiH2hQbx6ZUJssoRChGPHQhQxfkKUZDdCMG6gQgDksL2wPZlCCBVLQiBlSsCiFrhCuI2HQpQFwkIkG7VB5FmfQQCwpkJQiKBC7uOsQjAfoEFOTLNCkP6UQujYtkKQy+tBWITnQYAKqkDuJKhC6Iv6QSywd0KATL5CmiyNQtxWCUKohXJCHgGHQhh9mkL8jGFCsHmUQmx9VkIY5RZCwHKNQj4PikLAtoVCIL+nQsgWTUFA6mxCKi6QQsAWxEKi/LBCQGacP4DiHEBo3jBBlliJQhI9kULYT79CRIwvQjz0ZkLgt+BBYOmZQrDTK0KkympCsJijQr4spELg03BCTN4cQsCbsUHIKYhCZNG2QVg1rkGYaHxCVIRrQsD81sDUF0hCoiefQipYx0LkMrpCMl+yQnDOvEKGsZdC0OVGQvTKx0JgN1NCIP1QQMqqg0IgC7dCtIs+QqD6n0Ko0ZhCyD68Quo9iEJgNovA6m2VQmBuaEIIiO5B9hibQhyfaULcT7BBtIVsQkRsi0EAj85BoBmQQAAqGz7QPJBA0FAyQhxSpEKyR8ZCylu4QtRIn0Ic3cRC2H55QljMj0KQEEJCLtqWQsAZCULItStC1DKtQgBONUG0+YNCSNdjQhDwkUIQsvRADBRNQpiEjkKIC0JC8EZWQrTlQEI8tItCHA1NQjDkwUKwJl9ChHysQrRCUULA5ApCykmCQgCMIEDIO65CpBwDQhCUgkIwkElCTPFRQsB2EEJUr3ZC8CafQSTVGEJw50dChA6dQRwDdkLuoKpCfIKVQqjTXkGOb7dCfPyQQeiZDEHucZtCVsWvQhwySELO1ZJCSBOkQijWDELgWjlBROMrQvxsv0KkucJCQNSlQOiVK0JQWJdBlKHEQtqtxULk2VlCUKWQQjThQkIIp0VC0MKkQoj8NULImz1CGKrZQUTGgEJwB75CwI6FQoDPXsAYNZtCCnmdQgR0l0HMpVNChKwVQjwFWEIGA4hCJC5SQpi4zEHEBSNCYi2bQq6RrULMOX9CUqCwQgB5+75Oq49CasC/QqDXWUJWfJ9C7Jl4Qq4jjkJ86rNCvN2tQYg9vkEoXHxCZNlbQm7zjEIcBRZCjPOnQhYyu0I=",
            "dtype": "f4"
           },
           "z": {
            "bdata": "Fu6Twt7zLMKltsHCKMrzwZ4eR8KMYaLBJFl+wviNxMJAnFXBg2yRwuyJpsFfs1HCwOMWwBRF0cEFvMPC4GWOwrSsUcLmk6nCoBBYwMaqvMKAUILBYGwowhZJksKYb5PCWGhzweEcZMJAjAbAQpyHwlhVT8HUTQ/CWCAIwnCjTsI+hR7CTsuEwraQg8KVxLDCZuNQwlPtoMJovoTCFB2RwpPIsMI0J/bB8jC2wsDz8T9CZbnCx6VVwmKalcLmLajC84GFwu6reMKhohbCUOuzwnUtmsLjMo3C7wR0woI8hcKxYznCvDOSwvCHpcJG8SzC3McrwiAcAMB+yQ/CFj6QwlWNv8Ka+sHC4KxlwOjC5cFYuPzBiiOawr+4HcIVd8TC9EexwfhmYMGjZVfC4Ac7QbidaMHstuPBNBbrwdTthMIkBk3CkxGlwk7wc8JoyI3BSHjrwbDy2cGkEb3CkMq4QI4fxMJ2ZgPC7Em9wtsQq8K0dtXBgFHXvw8LXsJYXyPBoQ84wlx628Gwg1rCgEqxwjgdkMEUYPHBhySkwlWvusLIjS7BQFKcwhYWgcK4mcDCbKSRwXXgnMIZhrfCZKabwmVdYsIt+BPCMmeLwkzRncG+ZbbCIB+PwvYuTMLQrYDCb2CmwloNosJGGKTCsrVOwvlIIcKJd5zCUGLcwNv4lsL2jo3CDgtwwovJi8LAlC/Bw4SNwoBF6b/qFazCNHzEwmDilMIiAKbCCLCUwuAnYMG+wo7C+YFowm5FWMKWcbvCGaW3wqG6LsLSSrjCOli1wlwWrsLsZsrBeW2cwo97psKRtrzCB0O2wrLNasLmZQnCPuCQwnjN5sHnRBjCMCKTQEC2tsKGOVTCVtWUwjtejsLCEyXCza3Fwr2Uq8JEM6DCiOBbwnPgwsLATZHBJ9K2wtTgGsKY0wFBurKXwqX3csIAGczBEPwzQXzEgsLBjMPC0IRBwuG+g8LgvjPBnbhawqsPu8JwFhjBybWkwvNLlcIQs2jBioCfwgAmpcJ+K07Cm7qTwlSSwcIIucTBEHsWwXTcs8FCGL/Cf8jDwkL8d8KyiMPCdB3PwasFfMLvnprCsOYxwsJElMJ43aDCvdJCwgKfrcJAyezBSK67wSoEucIcaI7BwLl6wLBev8FqCFHCIzNVwtThqsIhBpnCaNX2wYgxRsFAAHvBsLW4wutaZcLA1JPAaBUPwdZ8vcJcn23C0x+QwoBYg78+GHPC9LYSwtHJicIYUhTC2MAlwbYLhsJATbDBeHb4wbrmt8LOu37CQ48Wwo8av8I2qF3CBgjBwn5nscKamYzCVPecwhsSdsKYD7rBGDkHwtewosKOsgLCb+KIwu3LfsIgO5jCtC+0wRTit8K8tnfCGwdYwt0BLcL66K7CB5bHwnDonMK6vqTCW35BwhBSWcJ+5GnCNHrAwUARzT9AUtI/sCCDwvMjdsKur7TCbTF4wk90pcIAU8a+YNRXwtA3U8G2wUHCWvetwsBXscIAQEK+mEJlwl3/VsIEh2rCHyW8wnHpNcJG7CvCAFCpvBYWg8IU6X/Cdj9mwqMkp8Igz5fAXiKiwmYMQMLOFwTCfbxywuhr7sFMSRXCsC91wkPpg8LAUenBCCmHwqDMDsKPQHnCFaJjwl52FsIcuv3BCJM6wu7Vn8L0CZXBQklawsBAPcGJCV7C1VOIwtAQFsFgerXAkHRdwh/Dr8K8HE/CMtlywoWljcKg6DdARGWXwVF4X8KweZzCS3gdwuC2iMF9+I3CbleNwlh9SMJmWQbCbN+7wZBVX8Lci9bBoAt9wrhlOMFZcb/CNQEzwqAv/UC0h7TChFuhwR2AkMIkQJ7CaH1AwSVCocJX2afC6x4kws4jZsI=",
            "dtype": "f4"
           }
          },
          {
           "marker": {
            "color": "#FF97FF",
            "line": {
             "color": "black",
             "width": 0.5
            },
            "size": 6,
            "symbol": "diamond"
           },
           "mode": "markers+text",
           "name": "Cluster 8",
           "text": [
            "C8"
           ],
           "textposition": "top center",
           "type": "scatter3d",
           "x": {
            "bdata": "IKxWwg==",
            "dtype": "f4"
           },
           "y": {
            "bdata": "d2VYQg==",
            "dtype": "f4"
           },
           "z": {
            "bdata": "6JtWwg==",
            "dtype": "f4"
           }
          },
          {
           "marker": {
            "color": "#FECB52",
            "opacity": 1,
            "size": 4
           },
           "mode": "markers",
           "showlegend": false,
           "type": "scatter3d",
           "x": {
            "bdata": "diWaQsBe/EEgkiVCuguFQrjr/kH4dDhCXBaSQaDLXcF0Fl9CIIUFQpAIKUEgwnBCcJqOwYgbb0HUFJZCWOZfwfjnU0LsO6BCGAZ6QfBtvsCgG2pCyMS7QnBWN0IokrZCQBsxQsxvZEIkwufBatKDQvQuDUJA0N5AGMGSQYD/j0DcyplCwHeWQqhEYkLuRIFCoHsIwSR2xULkvDtCGqygQhhKD0Jo2apCGKlVwdBKQUEI8WxCdHNYQrrZqULwqJFBmPYEQtScFkLg3v/A/LR4QrQJC0KA22O/2Gu/QnA7uULgNZ7AkEICQljxkULYBW9BQBoKQaS5qEL0j3xCyOyUQUxufkJQu0RCQKJCQgy/XkJmuoJCxFm7QYDOZUI4WZdCmIWLQpCymcBAoeE/4GiBQuxXAkLg1ZZBAlCRQuATNkCs7K9B1OsmQgCs970w2n5B9CEzQkbOmEKseDVCppGhQuAJ08AkA6pBMD8YQQASRkJgfyVCYN2IwPwLXkIM1UFCMDj8QQDXIT/a96NCZkKTQjil6kHyJ4dC7uylQqA9+EF2scZCREmRQhrNmkIEATxCNNyGQhgN4UHOc8FCyiC6QqDRl0K4ShBB2r6fQqBzlUFsCKZBlAsdQuYomUIQg7PAgLZyQhQ1v8Gk/hJCTHVZQjgylUIgzsRBlBzCQlSpmkL+DIlCtmy3Qjg2s0L0kmhC6GsJQjAfwkHEFAtCiAVlwSjzR0IUZIFC6LUpQgAMED+AjTTBIIo9QFASXcHorq9B8D6OQPAxBcH8vqVCgAVuQXAQhkAE6HFCWGQtQTBzeEIo/fVBmpyVQoJOv0KM6TBCaN76QVCDA0K4LkRBkHxaQcS2sEGYmlhBIDU/QQBb2EAwHsZCIPSnQLCuJkHO3apCeC8cQvSEMEKQPslBosWeQnSIuUHos0ZCgGM9QnqNnkI4vPFBZvGKQgyjmUL0iY1CAPxKP6wnuULQ8+5BUM9NQr7NqUKAuXNAnkGcQqRNkEIkH6RCoOx+QlRKm0JYqKdCEB8NQbD/PEJY4lxC3EhCQvw3NEIkxKxCOBnUwVwZUkIw2GJCNDvDQioyoUJSIpZC1sqTQoJQkULIUynBXMCuwUBuXkEo+7pB4O6PQnzi3EF4Xd9BRHXFQYBHGEHQmqxCGHqrQTz7skLgT3xC0LnUQPhkiMGg6XBCVHPWwUBfXUDUzypCPJhcQoJXk0J81HBCxA6MQqCsgkDMgh1CIgeVQgS5CkIqQZNCzoe8QvwLI0J+urpCAG3PvuQTuUL6ablCUKoMwQjsh0IwGrpCiJZRQiCaHUI48UXBTAFPQtS7oULMZbNC2H9jQZjUgEEm5ohCOOhBQlywrkHulbdCZHuXQpqlgkII7SFCThuRQijRQkGATsXAwGmhQuQ7A0J44EVCgGIHv1S2VkLkuCJCChikQthsVcHsPbRCdJGIQoSMr0LMzbFCICMLQcS8lUEA9Me/IIVhQsgQEcE4gRpCnL+BQtQ67cFQU0tCmCC6QnAQ/kDUy4FC8ju3QmhFEkKsLidCzOgtQqbJn0LIuolC0E2sQbgSkEJ4GthBIHC+QdiVEUI8EAZCtH+2QuJJukJAEd0/gIFgQgDQMr6Y/qZBAMsMQpCcX0JgsKhB0NImwbiBCUEovCNBvju/QpiJDkIg2etA+CPpQUBSkb9YDypCfGsVQihWr0KyTK5CLGQhQmDVqkJal5VCXLGVQTzJikIw/+FBvFC/QZDjNEKsJRVCMAFMQrB34UESMIFCGmzHQqiZOUJIz11CVGsfQiCw8cBEStlBBNhtQhyLBUJktM9BgCQTQQgeJkH4A2pBXmGVQryKLkIQtB7BVC1uQhQJu0HURXxCnJxMQsihLME=",
            "dtype": "f4"
           },
           "y": {
            "bdata": "5t+6wtonJcJe6r7CJA+ewtVIxsJgRSfCjsqLwtu8LcKHSrvCaxanwvhhmsKoF4nCihuewnsrTMLx2arC9gydwhcIoMLEOYfC06Kewv69u8J/TbXCFD53wolyJ8JMID3CSTZ8wrhWW8LKcLDC8rWjwmxBncIk2CLCDEHEwoFdIsIzW1PCZO2qwqDBxsJ+6afC1de3wiODw8JMwKnCPEKiwu9BasKQlK/C9VJXwqq2Y8JTb5PCJsS8wkOOo8JWo5LCyO0QwjDHNsKf4jzC+bk0wk7ep8I6v6zCXCbBwqqzjsLJf0bCVB0qwnrnmsK2gsLCT72JwlaRq8Kvc6nCrPhhwk/GasL7137CWWugwhQFTsJo9ZfCi9NJwgHMlMLK1JTCQUeuwkR+pMK63ITCoAy7wkRafcLCUYbCVeOSwvFQjMKK92HCGOvBwrsSw8IzkVfCbHq7wqI5wcKby2PCsppowuixicIi757CAXEowmIoR8LjvELCli6iwvGancJhlSPC1WghwgxuisIPlMfCIhC3wsfkusIcr8LCCkCgwiZ8k8JU0KfCnfanwsv+ucLorELCuT9wwgivvMI3npvCAHzAwsxaocICHrvCN8s0wnT9TcJFTB3CmdGgwn6QT8IFJpfC+NOCwuyJgsKjsxjC7z5KwnX8xcKchZ3CgcadwuqLuMK9/pfC2suJwiKGfsIKfMXCBLZNwgOLNMJr7rnCMJWnwpBCv8JKOqfCER0owiObd8KgaWDC8XOmwrIKm8L1SanChanFwtMqacKklBbCN5CGwjqVX8Le34/Cb3/AwuNkjsL6mpXCFsouwqSRXcL4no/CATSswmNmL8KsJozCvPyCwmAJM8LuRZTCmwOJwiAelcKYf7nCb0akwiV8LcItxbDCNzw+wvjgh8KDsYrC9VlnwvS8kcIS6KvCgkmiwtYfrcIjMIXCRnWJwvLupsLegYPCqeGiwiRdpMKodBjCbCenwkChl8I9Co/Cd8d3woqZgMK2AF7CF+BrwjmCesKimoXCWTm/wqCLusLNwp7C8KmnwsaMW8JtxVfCuPW4wjK+scI2fLjCpD+twuDHocIgS5vC8l5zwkwUrsLKhJjCwOmHwlolq8Ii31nCahq3wu/tpcI1RsfCUKMYwuKmZcIZYLvCsIO8wqj/lMIk60DCQQnHwn6yQ8JuILPCGDq+wi8bSsJQ4zHCCjIgwslDdcLSDZTC0fOfwoOcZMINI7nCm6JVwuTM68EzG6rC9L6Xws6KosJYlbPC5j1owt7MgMLBxWDCfhqHwngBY8JhZWnCF5qBwgEQWsJu9qfCWInFwkBhosKIcb7CQgyGwgK3xsK8B5bCI8iowgjCtcLBcrXCUCSOwsJoHsJvyIXCmFRawuZaeMKKJaXCIwe/wrZOtMIRVrDCbG3HwliyksK1amPCxHeDwtPGeMLqbGfCkOa5wgzYmcLDOZHCz3umwhHQVcLOsrbCJtW1wmGCwcI8eYXCuCeKwlqMiMIwQUDC7OC5wi5Kr8L4HmrCqxZpwvzGi8Jzd5HCCJy3wm3sVsJ6353CQ6PBwm7cqsLq2orCMbeawrhD9MEad4PCv3ePwjaWrsK+AjnClmiswh/DvMJ79LrCNJzPweQ3tMIvHsHCVw6swvYigcLeqzzChm+1wrdpjMI0RpHCvAkCwhbhXcIPRZzCUilnwlDtK8JAyZnCXjmMwkblrMLVULLCkFSBwqRXgcJFE8LCrkC4wvyGtMKszoLCO9xzwoJOvMLtM3bCZuSRwiBVssIni6HCSNa6wkIGYsKUnIHC65lkwgvMV8I1hrDCwFurwky7/sFEwsXCtkDCwqMGKcLcQkXCWJVdwu/skMJ8WGnCXgKYwqyRqcI=",
            "dtype": "f4"
           },
           "z": {
            "bdata": "YAuowAy1nEFgTCTCEIhXwTSkHELAqfdB8J0BwuABGMGYKgfBMd4XwhSiicEI1TdB8IneQC5BCMJYVwrBGDscwZR/I0KONYVCEACLwWTtFkJQYYTA8JkNQvi5lEGAdF8/kEVgQthOZUGwWzxBXJjWwSAM+kFYnUFBuLoDQsjVN0GMrdZBwOuQv9qLA8KA6yFCMMOdwJzTAkJ042lC4H0NQpypKEIwqP9BIJCNwLCeukBYXRBCkIfqQShNW0KXoBHCiO1HQQDOsUDkBZTBUIn3wADmIT7A9KLAVPCQQTyxrkHQ0zvBZBa+wYB3dEKt6xPCKCSfwdBvZkIATyA/IHM0wZBHC0HIZhxBaIKCQkQGCEKsF5fBAG4/QDhmPkIAKBY91MRiQsCkz0AkF6FBuLe9wdDuqUBcwq7BeKYsQmDIT0DA8OvAlGS7QcgjrUH4GN3B0EZIQeJSmUIUL0tC8B7tQGAqV8B1cBXCsMiIwJgDI0Hw/U5CgBCmwXjXnsHo7qlBiAsowag0XUEALBm+zIx6QlutG8LgW3HAAEeKvxCw0MBUvQVCZoqKQlDB+UHYVJ7BmFcZwVC8PsJ4OKdBYHcXQFjQPEIwxcLAAOgjQACUxUDgi1/BgMUQQFDFF0GYcpTBsCpMwYgsL0FAGR5B6DNrQbiPZEKSfAnCnBLMQdBdB0Ic+IZC8P4LQkCh7EDg2RTBdL6wQagGJEKQrxBC0OY2wX4flkIKAZVCYEDGQSCRb0DQWHhBKRMTwnCcDsHYpfnBMNC4QQCuwUDAAz5AUGrSQEAa98BwNO1A7IghwkSCq8EccRbCUKNHQXw0BEKMTnRCINIBQlB3kkGQJ4BBsEpPQcSZqMFjaDXCvJKtQfipZ0Go+7FCGCz6QSgd80E43T9C0NXHQfRJ98G47ZJBEHUYQtjrlcHE52JCTgoLwszRn0L+/hDCqG4QQcw9GUIIjAfBHL+gwUB7Q0JA+kxApEIPQoCDxz+4goTBcL7vQZS6G0JoahhB/JQhQgh/LEFIqUpCEMsDQUi3gMFg/t5BWGNLwcBtRECwoQVCgGUnQQBQ87+EfhxC8FOeQfA9MkFYBphCIEMMQSi8XkE4b51BICo/QbDq+0Ek1zNCTEMuQgQtiMGg1jJB1JivQdiCEULwV5VAwHkoQoxR1UHAeEnBiFL9QUAYmkAA/Cs+sPsuQaD/ucAAfcnA6BIswbjTD0Kg8vRAQJubQrAbp8GYY+lBKEDvQUiKY0FK9YtCWFUzQnTpUUJUGgFCAMrbPoSlk0F4+j5B0FWGQfQrl0HQ4PxAcOl3QtRzy8GovehBLIxLQuwXhUI43MFBRKgJQrTcyEGkEJpCAIReQTTpUEIGAYpCWOD/QfBmD0GAulxCJDchQnSktcHoQOdB4hqvQiha8kEI8BhC8L0rQixUvkEY0VZCPGdrQjDnskHAATpA4JFzQgD0xECYmVrBQJBQQTCemsEYIkfBsD6JQrTZm0EgMdTAgPpMQpB5aEE8kxhCAHumwBhAsEHALnfB+Ay5QRg0U8GAtGLA6EVtwQgKIUKgOjZClItWQmgQgkEAOLo/kClQQSDOGsAAzHLBXEwrQkiJbEJ4k3JBAOmFQURjDsLC6yXCwOAFQUgz6EFsrRRC5EWeQYBPAz8UXcrBABYJwaDf68HMz4NBQEvsv/yftsHwFOZB4EsnQMAIvD9gik5CTLkcQpgihEIKVrNCdF4rQgCQIb2QMGPBYqVPwtC420DQyEDBELYMQujfMUL0kn1CZJ43QvxalUGsu67B+F3hwfCZ3EBGog/COLhgQqA6NkIAIlq/sH2jwACD90AgXaBBdjwOwiB3n8DQWpLBANqIweyzukEo8UXB4EEfQkhdkUE=",
            "dtype": "f4"
           }
          },
          {
           "marker": {
            "color": "#FECB52",
            "line": {
             "color": "black",
             "width": 0.5
            },
            "size": 6,
            "symbol": "diamond"
           },
           "mode": "markers+text",
           "name": "Cluster 9",
           "text": [
            "C9"
           ],
           "textposition": "top center",
           "type": "scatter3d",
           "x": {
            "bdata": "VwknQg==",
            "dtype": "f4"
           },
           "y": {
            "bdata": "lAuRwg==",
            "dtype": "f4"
           },
           "z": {
            "bdata": "uD1bQQ==",
            "dtype": "f4"
           }
          }
         ],
         "name": "frame3"
        },
        {
         "data": [
          {
           "marker": {
            "color": "#636EFA",
            "opacity": 1,
            "size": 4
           },
           "mode": "markers",
           "showlegend": false,
           "type": "scatter3d",
           "x": {
            "bdata": "FvhswujZM8FCDVXCv4KCwsYllsKezIjCeveJwjRIUsJAw8PC+dCEwvzPn8JrVKrCexS2wp1CcsKCZbTCGqZEwnnCgMLwYK3CLBuhwagn7MFVI43CY5ATws2RSMKQg3rCQK5pQPyVoMEGZQbCcAqRwWQcxcIwcMXC4ZmtwsEpVcJC6QfC/3TEwrpIC8LIC6TBe1WjwqrrcMKszbLCANgCvfBT/8FeCIfCNPr8wSBytEAcn67BHRSxwr+tZ8L0ZJbBf429wpxcuMKp5cfCjWg2wmjoPcLe+ovCGEmrwkSNrsKNzJvCwUobwlZ7nML1hyfCZzYlwsSr+MEbhC7C8MwuwTZwk8LtV5PCPH3qwQpnuMKO3iXCsDkDwhupwMIY2AfCvsNAwsgXg8LoM87BYBAewICb+MGfTI7C7MkIwtSAh8JiJY3Cmn0OwnjxkMGFX7vCpEkmwt36NsK/sYrCyGaowR7GmcJFdyjCAMplwLkBEsI86MbC+fxjwlVCmcIgmEnC+Om5wVi/ycHCr67CxPZzwgAHGUAdDVLCbF1ewiL7iMIO/L/CV9CPwhojNcKKySrC8v5YwgA3dMJ4FHrBJ6N0wmYFhcJqZDfCFdtRwkCKiD/qDkDCaG5SwvbqssJUajHCu87BwhOzwsJYSoTCTqmkwixdr8LMvPjBbuhXwk3WxsK2lanCHCajwiZEwcKvQXDC4CuAwudKucKYVXbC6gmlwrosQMJO+YrCGkKFwnYRbcIkjarC2v54wvyXpMJHJhDCPRCiwnYfosJA0t/Arv8+woyHpMFcBJLCscVqwpsNxsKoTdvBQK4DwAgYg8FXOHDCfLewwViqU8LoFsbCJI3Bwsa1A8KIB2vByMsHwfpybcJYdSrBp/NnwmBbl8B0KJHBI1axwm0UI8JfZI/CJiK5wqzbQcLaszTCAogjwjbhtMJkMhLCtH8awnh8G8ImY5jCwIO6wQCZgb+AtSVAi84vwtj+QMI0HIDBJNc+wkzzocF/N4DC2PsFwuj5JcFItgzBsla8wlg6NcFt4J7CeDOzwuCd1MDPhaPC7uAewoQHp8IaM7/CpVVFwjp+M8JMiobC7A66wqyF3cHw1c/BAFvNv26NR8I6y7rCwLEgwDz2UMJDEbDCuOV+wd4Ml8LQ/b3AVe0owgCnkMEhUzDCZKK+wsQC08FPuRbC28IRwuF1x8K3J7LCfV0+wjAFpsJs+srBcgajwsDHnEBC1YjC91qBwlMOZsJYP9zBdIb9weJIgML6T0rCCI6WwS8TXsI6uoPCtqINwqget8HejXPCcDYwwVDj18Au80vCh8tLwlT4uMLA1hzCwOFowAx2p8KswgPCwH//wU0ym8Km0rbCHPxTwsaRBMJD46/CnNL7wYA+l8KkLoTCiH+vwhCcyMHM00XCzy0UwoB2ssAM88LB1IExwggMZsEGnxHCQIvaQAKxBMLAj7DBQKDPvzTNIcJwnWbB9+lywlTB48E4rsPCwD8twSL5CcLUvVHCqC2Fwaa+msJYkgnCcTiDwnTLl8FJNGTCUOu4warWusIQP53Cg4W5wm0fOsIAAJG8QQNDwkAKbMJMO4HCLeeKwu80NsLguULBknulwriugMKQ3TLB84SKwijIeMFQO4/CKahcwtoPBMJFXrvC3vq9wpiBpcLlIIzCkL3ywcByMsKAO7bC04powt1kjsKwS+vBzNGawa9eHMIUvSLCVUCLwoO8xMIQjrlAkIy6wUjLEcHHJrLCHJzHwep7WsItt6vC8cZawpyVqMLC2sTCtFlnwj/Ni8Lv3YvC6SWfwuA5bsJeqJbC4F0ewP68gcIkdiTCyty0wk8xk8Kvay3CKgauwjNNhcIilsHCO1R8wpdfjMI=",
            "dtype": "f4"
           },
           "y": {
            "bdata": "6yC1wugwYcKnWl3CWc/GwrUQZcJUPfnB7q1KwnCID8EQBkbBDiwOwhiwUcEBTB/CUPgAwikJbsK/JmPClp2Xwin2FcIYC8bCy+prwj1ttsIVrnbCuLCQwj3Gn8KlBKjCvgK5wtDCGcLHW3rCiLmcwnnOa8K0kZfCZD3vwZb7fcIgB5bCTRh7wqDXGMIos5zC8BNhwrQVo8FycZHCLaZewoiK0sEKLoLCJAuswoJKhsIp5KnCZQ62wpAyBcHPHknC4o+gwkigV8HOQgDCWIIcwRTS98GEDXjCkUySwkGptsIC7KjC+6Fcwpxdu8K+YDvCm/l7wkBIlcKltFDCgBn6wSyuyMEx+6fCoOTzwdVWuMLznmXCIOqvwcvkbsLKFBzCzDOEwpE4l8L6bEvCvpxxwiJojMLDb8XCpm+5wgvAlcKIOOfB8mwnwqt8NMLj2YzCzmgnwsmcI8JkgwzClMs+wsZmnMLUx4rCJprHwlGxNcKM1n7CVDeGwjeCacJtZXHCvKd8wsziuMGgmaLCZoSQwhjlpsIejXvCrE+vwb7JiMKYnbfBZ0q+wgK0jMKSM1HCkEPhwVxgEML9iYfCnNfMwSqzK8LXT5PCZsFDwnW+WsIxXpzCpZZtwkHxq8JpCYDCmkawwtCkwsKA0ATB4N+awFn+ncKIQJfCIIO8wernVsLgPTbBMNCpwYYIgcK8FaXCrcGrwpDW/sAQcWfBHNCFwv4twcKWCLjCOFd6wcD0K8GoxZbCGkCpwujhvcHM5KnB2v2ewqJjmcL3KIHCmSCXwgSH58Etr2zCmNjWwdgutcLUjbrCDyy6wruTLsKgUlLBpcA3wimKxsJwhYzC9pm1whFQfsIbdazCDRszwrQ8SsJr6nPCfYa0wlk6VsK3TovCxECiwv5GxcKW8gHCuQ5RwkMLjcJgC3/BnR2vwj0XucL2Ax7CuFMYwQCPx8KIZrzBXCu9wjJOlcLcOqjCdNGUwaxw+cH+PYjCfO6+we9DVMJQMV7CRAyqwnTlCMLb8G7Cp0Bqwpd4dcIggi7Bx8wawniji8KaskzCKXu9wgRqgMGit1jCu/OLwlo8tcJ4e6HCpOzgwfYmQMK4uHHCZd90wtMCe8JO/DjCSiKVwhqaT8JaHKnCB5gVwrTir8LcSonCx7SqwnRft8IoPajCCMeUwcza28EZG4HCHvqtwnxbf8L6CA3CbhSvwjD+oMFUeFXCb+2lwtC+dsICeKHCGDfEweG8ZcKo1pvC0jORwnngbcLOQsPCmpuSwsJ3m8LsZlTC+X91wuSQpMLeM5bC81VKwsPKPsKWKqjCrBaywgA/csE49QPB9DjAwl8YGsKNFpLC0AiUwvEfo8I4msLCiUl3wq//XcL4WPDBgqscwkBR2sFAzpfBdS+ywnnTO8IYoNDBwV5PwizSPsKE0jTC5YG8wj8rusIQi+jBs7tywhjejsJAu73CDYNBwgx2hcF+bMfC2BSewppiwMJmtYHCQnu3wjT0EcJYdvPBVmN2wtJ/TMIL5b/CKQFAwg/vQcLHL7HClCWrwgTybcKJCnvCeKg4wiM2ucKC4KrCYNSuwBhGrMKWtJzC9AbOwbwPrMJmp27CRMyRwUl+q8KAklDCwIFPwncsncLcnYTBnPXtwfPjJcIGzkjCWXHFwhNpXcJaO7nCsKLcwQioEcI8RrbBszkfwoxr0sEYlaLBI8Vfwtw8U8Lcbm3C3iMAwpd8s8JEEMbCh9K5wmsHp8KQIAvBet5Lwt4bAsKGp7LC8Em2wcwXtsLOHMHCmMR+wRaMx8Lhm3DCZCmVwqGku8Iwgg3CRLipwvQWgsJNZsHCxnCqwvVUS8JmdoHCxnVdwtUzr8KgZLzCsF71wFfuJ8I=",
            "dtype": "f4"
           },
           "z": {
            "bdata": "sK+fwPsDVcKIALvBqB0GwiByucLUC2HCLB7Awk8at8KPhJ3CXOqLwf3RvcJPWxfC4EuYwkAALMCcC7DBbnyJwm2AVcI4Rn/Bl46owr48ssKAZbjC772ZwhC80sBA3gXB8cCFwqzMp8Iu0jjCmD15wUyIk8KOE3bCLjqHwpz2yMFxB4/CABJgPp3lXsJcj1vC9Oqkwm59B8I0K7TBWN/iwfNVj8KoidLBCH2fws9SEsIDs7TCCmyNwgS6mcIgALTAvWzFwoaUCcLByazCyUKIwgR5p8Esk47BzHOXwtTsqMGlb5nCZiCIwpCPlcDcAN3BiFEQwUzYT8LUBMzBcHi+wtqOgcIsSTXC9iSqwjnuxMIwrp3AYDVDwiTB9cHazWDCMAydwDLgv8IgA5LAnksDwpCrg8E4TB7BFoEFwrmFFsLWWJ3CMJ/Jwex9o8HxxZHCIHRIwdk2l8Ly05rCiJyCwaBlMcAx7prCTEmLwsGCisLYwGjBBtQNwvywYsIAniTB+kRBwhgSxMIVUF7CPIUDwlZmSsL8d4fCUaeHwuAFS0CNAEfCYDYOwqp4xcLSkrbCc2SIwvye08HT3HTCkaWTwti2scLxIz7CVtFBwneUW8KoDt3BXLs3wntVw8IBLB/CACD7QGxRJcIglo3C5+i3woDI0cGsM3PCLrG6wuqRvcL21sHC62eMwgDfiD/ESLLC3FCkwliYpsIy0gbCoLsRwSBWkkCUt+PBSx6bwutjqsJ6HsLCk9ddwgajDcIkadfBKimKwtlTx8JAH87B4PuewCBZA8LbkzzCcd6MwiYjgMI853fCel2Swr63DMJ93yLCEAfUwAxMpsImr5TCm92IwlBHCsFyqQ7CfACtwdMPksLICmrBQFO3QI/tgsJ4PQ7BOFq/whDOIEGe6q7CGKILwfB/IkH9+bvCAPpNwtC0QUGQZfLBIcbBwvLbFcLGXI7CQChrwEwO7cFl5L/C39ebwhNze8Kw07/APHqKwiBq48AGqavCRLbDwtqIh8JeBRTCwgfFwpFla8LYyZrCkhOswnj0PcJoNpXBgIfYwN0ULcLmeX7C2MoJwQhPn8Kwfl3Btl+SwhjsIMLgpQ3AVjqGwtq9lsJqKFDC3KixwvKlBcJcTgjCIr0MwqA7XMFfY8HCSgSewuJMosIFjKzCRda6whyJisJ6SkLCZ3yGwhiWo8K0vZXBQOnKwG6AesJuGT7Ci4mLwt3FHMLUT5DBvae1wgaZs8Jw/I3C9FuSwjIVVsL4Eb/CAFOMwoCUQUD5cUHCJ+BSwpDiOcGg2G1AezIdwnpsDsJg1FBA0AOIQCCR+cFrMbjC5crGwuKlQ8K7r5LCsv4vwnSTFsISqSbCgGAOwMtYosK2cFTCWOuTwqxursEv22rCwE9rwUgpo8E2i4XC4j9Pwoitv8J0qLzCbNfkwWi2Q8GtjijCaMwdwkD9icGAF9rAsBxnwigG2ME6mqjC0ZRdwgDyIkBWFbzCjgEiwrxIjcHn5qHCMkhMwivEr8KQRZnCn6MawuQUsMEry2PCgEA3QP/gTcK8zSbCCDwnwdCMskBVPH3CznqAwsg2BcL0HB/Ci1JnwnlRp8L+3W3C+Wh7wqBSSMLg36XBa+/BwiBW7MDPJcPChPkPwgwEKMKoLsnBIMCwQDjA48GwINZAj+AlwrLWHsJyEhnC3I3PwfGixsL5dWHCaJpywdkwhcK+3rjCDeSownzz9sH2r5PCbhsIwo2IpcJTAYDC728pwtDfXcJAsXzCCIrrwUDwt8DAIP0/r3SKwnlDkML4OFDBUQEzwrAtt8KIJ/XBC31YwqCPQ8DUI0XCZfhwwrzMscE0uIjC1FqSwfhUCcLGDabCv1qlwsZWgcI=",
            "dtype": "f4"
           }
          },
          {
           "marker": {
            "color": "#636EFA",
            "line": {
             "color": "black",
             "width": 0.5
            },
            "size": 6,
            "symbol": "diamond"
           },
           "mode": "markers+text",
           "name": "Cluster 0",
           "text": [
            "C0"
           ],
           "textposition": "top center",
           "type": "scatter3d",
           "x": {
            "bdata": "Y3hTwg==",
            "dtype": "f4"
           },
           "y": {
            "bdata": "7xFtwg==",
            "dtype": "f4"
           },
           "z": {
            "bdata": "0ldOwg==",
            "dtype": "f4"
           }
          },
          {
           "marker": {
            "color": "#EF553B",
            "opacity": 1,
            "size": 4
           },
           "mode": "markers",
           "showlegend": false,
           "type": "scatter3d",
           "x": {
            "bdata": "PP7rwcrHscI0UVjCrra5wlZbT8IH62DCJtStwnjcecLsPj3CxdPDwtVXlcLaHcLCEmK1wo+ivsIHs4nCSIChwXxZucL7cLPCpPW2wvhoR8EsC6TC3DtOwgbpnMKlaiHCeKGawrI1ssIAz37CygdFwjDTbsHCOanCWHm9wZAQwcKcsIbC0mSTwiSAsMI4Z+LBcLyZwGrCFsLujw7CT1VCwnJgWsKwQfDBdkSDwgUcFsKYR47CSq2Bwu5ttcKmkcHCuVyzwm7wncK8RMHCKNvLwVnObMLIle/BSgcjwtplvsIHwLLCwu0uwki1AcLIHirCoNwCwdXXN8Jac5PCEmrGwtwzl8L6QznCODe4wkBLzMFCD6PCgeOpwlQ26sHfX0zCSZd6wuACpMEdi8PCJwSNwmm3GcJMNvTBI7qUwuDjscJ+cMLCke7GwsCKWsIE2PXBQKWVwlgakcGcufXBXFaIwQ0GxcLiSobCeMm4wXqMncIMkz3CoEZvwuW9iML+6XfCujS0wtzyFcKoy/TBkzq7wrGIZsKr6LPCpHcZwtE4ScIAzrLCANCowWTTFcK0UZ3CnImawV42qcKKMg7CIt07wt9gpcJq25DCaluFwi6TW8J8uIPCjK40wlmCSsKzTnrC7WNlwgglocLUAt/B266qwg7Kk8L6zhHCkNGrwggHgMEPH77Cod+Mwoq3q8KCnUzCr3ATwnk2ScKRk7bCKH10wYBOS0DHoo/Cta61woJgt8JpGyvCn/7BwiUoFsJ+HUrCKFWawSIQjsIehjzClRWHwjhqnMLv/0fCOKeGwhzI6MEARPS9fiOIwonricIvwJzCF3ViwuN1OsIBLJnCSc9xwprEncIOIR7CABgqwKsqocLLoLbCpF9vwkRdtcKxG3PCdjC8wtDlXcKkopvCl65+wi+zJ8LyfJLCAwdNwsqwfsLKZIDCCE2Fwi6kkcLAuCvBKMGrwnY2hMIyCxPCnM+9wqJfDMIUrlTCielOwsDj/cFu8ZPC1qyCwuvutsJCHLvCZzdKwnXQmcK6QZrCmuuwwtQML8LKkHrClfB2wqhKKsEkeKjCPKKuwhQSRMIDP4/CD32LwoMAv8IViyzCKC2UwgBe8sFiUAHCxN2zws1do8J+BnLCnOZzwhoDB8KI5JnCaOWFwhLws8IUXIfCDpcEwrYYasKczqfCMh6bwmyytsH6mKHCH0PBwhBIyMF3XMbCGMmawc0JxMKg8Z3Ce+6cwkHcwsKC0obCDMDHwiKyd8LFgaDCjg20wnzC8MFcupDCXrmTwlqvicK8JK7Cd+aDwgxwlcKz1bXCAHHAwKWeccIaRQvCbXdmwkPtvcJjPyXCAQG9woLCr8IwRCHCime9wjIussKUqknC8vhtwsDpX8FVm7LCHCQDwlHvw8JgghzBhieawiDmksL0sZPCmY3AwrQ/BcIdozjClhsfwqSSuMKStzLCoCGvwg5QBMLosFbBcLBTwqclu8LZxRTCr+Qlwl71xMIWOqfCuFN/wjFVbsJlwrHCUct+wjgTOsLzUTXCmK69wnScrMKADzm/NJZSwkTdxcLfHUDC23WPwt4wv8JA0hbA8tNywtD5hsJhDCTCk+gYwtw9xMGk5JTCMLPYwEd6L8LMA6zBl/TBwiPdqMKmOFnCuKG2wYqswsJ2hU7CQdGgwljMmsJQiZ7CHMB9wpTpQsJkUY/C1x23wgwJlcEIpSTCr5VJwqMNFMKTErbC8IjIwRStj8LGsAHC8U+1wr3BlsKHmqfCAGlAwmv4oMJW2VPCsLs4wiT1tMK8VaPC4EkmwFUfQsJo1rfCSMYGwvt3S8Ih7qHCKJSawlDHk8FmpsfCdN7CwcTWucEAmQXC9pHFwpfDsMI=",
            "dtype": "f4"
           },
           "y": {
            "bdata": "sOmaQHCTGEHwh1fB6Fn9wZhOB8HwpAVBZOqdwWgRSsEMeJTBMJD8QVDFxsDgMV1CemJnwmBhaUFDe0PCSMR6QXy2mEF4bkTBNjSQwoD178GIb2DBJJw0wthj2cFAjevBAIdQQAAw3r1g983A0DMuQdBABsFMp5NB4R8rwgwU9cEQE6rByM7/wWmKScJ4/p9BqJ6jwUaDE8JM8dzBsLqQQYQj6cHczQ1CuPUfwjhyD8LIGZFBc/NIwhBDe8HA1DFA2LcLwbydDUIA0w7AILQcQeBEj0HAdYq/eGgTwRD8AUJiZqzCoNfMQKA1Z8GAhKJA8DIzQRC9uEHtrizCpjdewqbzB8IgIIRAbiGiwjBai8HfwybC0J7AwFih58FY+8hByJtDQUC1rUDg8JDAABRuwaLxG8KIOMVBAET+vSCmL8DgV7DABLaPwaiE9UGE5hrCcDwGQcISU8KgSkbAABlQweiM8EGEvJPBQP7EwM0FdsKA7wtAnD4TwpCuXMG0eLTBQFYXwRhkDkJYfUpBYKnXQERxH8L4EULBUDT/waa0gMJAxCTAdOXdwQhQ78HQeolA6EL7weq2WML50h/CgEpIwJmIg8JgGuFA8ggFwvBdpkD80tbBePASQSDZBcHsxjzCsIr9wABw574AMjBAjMIQQui+9cGwjZfAYKFVQsjrvUEAIW8/wJmnvwAjQsGQjvHAMIXqQQyOzUE4nf7BABEBv6xJqMFotTpBQzugwmDLeEBI33rB4IFxQXTm98FYvoZB0EipQLBtPMGQ9/zB4C+cwNR9esJICgfBfHsBQgCAjb2A/JDBTAj0weTdvMHA4nZB8INfQUyassFyT47C6DkZwWCGskCg1gTA4Mu+QGAWT8BQz8fBgBSeQWDLdcEA3HW+ACsUwMRRDUIcop/BZPtHwgACe0FctU3CiPpRwfAwckF4sqTB6IQXQljmKsIAAPO7YEWhwfw5PUL4OInBIPpmQPDI6sGkwMnBiB1vQWC6VkFynUnC8B2PwoBGj0DgE07BvURBwiBSLsAAqjG+pD3WwYCgHb/AfiLCeHEjwUClKECm05rCCKm0QeBNt8AAc6g/KOExQcBOZ8B6bAXCIMdjQX7tDsI47QTBoOWEQfxrw8FI8pFB0LIEQbG0Y8KI/0DCAB2IPjv8ecIQJU/BgDO5wGjnFsGEkRFCjIUzQuBpMsCYoz7CyL1JwQix68GroiPCGSlIwnCWSsFAK5tAQPo5wXhD1MFCwybCJvsUwvD2zMDsyAJCIAc6QkDNMcHwh+3BcLh0QQAyFr7gFLtBsLhFwYDXAj+YVmDCIMZDwXAzzMCQubVAVxMcwgBSH8FIzULCvkshwvgLKUGg3+rAaILewRAp+8HwTypCUAVIweBjJkA6+CTCaPQQQcChVEIAuBW9I39ZwvNWHsIAYY1A4Ha3wFBlPkEA0YS/eOTAQcSKq0EUvtdB+HkwQnScqUG4F+DBAIP/PgeVb8JISOlBVCOGwYRA2kFwAvTBHXwewsYybcJon/vBuEM9wUSl98Ew4m7B9OS7wfh+i0EwJhDBQGnuPwznBMIcOpxBWC2zwYAxzz8gPQLBYIWzwKBXdUHwQC9BkMziQEAQLMIIj/BBMJVWwcgGLMIAQOfAgioAwkS8gsLYYi3BQMBAwRhiecEA14NBTNeDwuA8n8GITwDBACibQHBBo0CADaZB0BG+QHiBKcGA08a/mDclQaDsekHgxtNADOTZQQYMUcJAoKHAWJriwcTGgMFRynHCkHCxQdBupkFY00JBsP3DQUxpLkKA8fFAsG+QwWDsLcFOX2DCODY5QThJm0FwJoTBOHeBwTS5p8Gr0n/CYPfkwbizAUGAxmrAYOulQIDj0L8=",
            "dtype": "f4"
           },
           "z": {
            "bdata": "6HYzwQjt+kGYlbRBiKTzQQBTI0GO5IZCaJQqQnitf0EATb0/DHc3QryoykHoniBBbAlCQpwYY0KQpJFAcCr2QNBTI0IMdD9CbMEvQuBZtUEgINdBQOXuQDCdgECAT9q/PEqFQrAS+EEIOxtCEBzyQcAPJkCUJDFCQDhkQPCKcsGgWHHAnGuCQlTUBELIIAPBQJngQQiusUHIdVjBoD5WQHBehcGwIqFAQHuKQPAuE0I4OCTBmJLhQZCYpkHmx7FCJOVaQmhR5kGAGc2/MHHYQcz6IEJA+J9BtCk7QrBNCEFghKtB3GJ6QlTzpUHAT9ZB1I6KQbxYLkI0VGhCxDNmQsxkFUI44QlBeAinQVCR5EHMrqFBVL6iweB86kDUMAlCAO4GwRhWFELQcqBCTAgYQnRBqkGAHmfAZFWYQQwHaUKoRktCiNYXQlDCq0GwRc9BkOuVQcAIyUAA4aE/BKjEQVSgrEFoboPBkOsYQajDGkLQgldCsLLywLwBHkKAD9o/ZARMQsD3X0HATGBAjJU+QnDEk0DgEVZCgDLUwNAGZUEItXBBCNwYwciWWUH0FsFB6IffQbCcT0Igh81AoPsEwPwhMEKwQ1NCEGIfQlLfpkLgLNLAIP2vQVTQxEEoRhFCBDIkQoQhs0JYo/JB0MUuQSiaQkIQh8zA4GZiQRBJK0Ek4kpC2PkMwpBa7MHsEzdCAEHwQMDz2z+4+NpBlNF0QhSZw0G+VJlCCMIAQhruokIowKVB+LDSQfBg6MBMdgVCgP25QLA0aUHguXnAANZxQahds0Gc/ytCAIoxPhB1R0KAhLFBpLyRQYCRN0GAPiRCZGCTQcAWH8FoZlpB/PKjQmRxV0Js4KzBALe6QSYkgUIgkUbA2DQgwQzHV0Kcn4pCxJN/QgBw5kG8qSxCKBLiQUiPP0IAqoZBsHm8QAAq0748y2lCQE5VwFSrK0Jc9QNCYBttQPAHXEEcbW1C9GLWQSzeAkLYNkNBKHAlQsDB5cAUklZCsIo6QQCbIcFgSTlCgG63QNjUOsHYer1C1OgmQm6ljkJUxklCEOwlwRBXLkIAodZBmJCDwZijmsFQuOfBANCvwSzvPULIJVZB0NkZQgQIAkLY411BEFaZQiBRY0IwayVChCCvwThtPkEw3z1BIn6sQmDwnkES/4BCwNLdwLCOysDMUAZCrFKSQQy0NUIYPmhCsFsswYBf78DIPjdCwJ45QeDTrUIiIINC9D2BQtBtqkIwOU1CjOEpQvDdF0L8GrRBcCgxQeCiccFA77NAYNgkwYQClkEglo1BtniTQgzqhsHgejVCbOsIQkDzL0KAx+HAgLJOQTCJAUIw7a1B6E4mQTjwE0HUI4RBpvGmQtiOhMEAPShABASIQtCuz0CKF4FCMMtpQkjQLUF8lJlBkBCkQEzysUFAoGTAHJmAQoAZ5b8AnWLB0IINQqBbyEHg5ERB6CIsQXCz7UHgFRvA1Gg9QqBt8kCAM5G/gBVLQcaKhkKOyp1CoNktQIDg9EHMgn9CAFyBP+DfAUKAOQS/UkKVQtCU+8CEAJtBIMnNQKzXHELQKk/BtNIwQviPVkK0TitC5lmFQjxjh8F0Zn1C2CBjQgAJX8CAZ02/uMz/QdhWA0FAnmpCjDeAQhCw7EFUhOnBEOVdQXS6O0L4jgPBkDMKQkBEg8FclFZCQJcLQQD8IUJIJs9BPPe2QfgTL0HI1Z3BzBUZQlB5NUK4Ay9CPIunQbQxI0IYim/ByEecQXBtn0KguTRCUH4wQZgtjEEgtQRCcLYJQgByWD8cSLVC4LdtQWDbJ8GopYFBPHEEQgxftEHkb9rBiH9pQlj4BUGM0B9CgMGcQBhDNUIAl39AEH1HwWBKKkI=",
            "dtype": "f4"
           }
          },
          {
           "marker": {
            "color": "#EF553B",
            "line": {
             "color": "black",
             "width": 0.5
            },
            "size": 6,
            "symbol": "diamond"
           },
           "mode": "markers+text",
           "name": "Cluster 1",
           "text": [
            "C1"
           ],
           "textposition": "top center",
           "type": "scatter3d",
           "x": {
            "bdata": "BIt8wg==",
            "dtype": "f4"
           },
           "y": {
            "bdata": "57QfwQ==",
            "dtype": "f4"
           },
           "z": {
            "bdata": "ZAnPQQ==",
            "dtype": "f4"
           }
          },
          {
           "marker": {
            "color": "#00CC96",
            "opacity": 1,
            "size": 4
           },
           "mode": "markers",
           "showlegend": false,
           "type": "scatter3d",
           "x": {
            "bdata": "LO+mQjwJI0K4hndCyNoUQpiftEF8mqtCzJheQiTuXkIsqntCwkSJQlqvpkJ4BDxCiIfXQfDa3EDEGGdCwKugQthWmEKoM5BCJD1UQoa1rEJoy5JC2DqyQjR/GUI6YZdCbOSkQqQVlkLOg4JCWPJaQggiwUKYqapCaPV/QtLQxkKklBRCtAaDQoiv9kEQgsdCBvSRQgZHr0Jm4ZFCuKJiQvwVfUIQSrBCKDuyQRByD0JkFKZCADpfQgg/ikKYCIJBWABzQsRBpEJkX5FCrDxCQjBmt0HIiqhCGP+5QXAcVUI0MQpCcu+PQgxmcEKeLbFC/B+kQdiLs0LgbgtBDFSYQQIMnEL0tVlCuHigQmTJtUIA4JZCfseTQrinPEIa4MVCiOytQdzVa0Kwg2ZCVriOQpCfIkIweu9BaBVfQnQzXEJMSRJCSKhoQlD8xUJchZdCsIiqQtYhm0K8S5dC2LO0QTilVkLAxSdCZry4QoirFUIelo9C8FRFQlgFakK0c3pCKCjzQQSATEJ8eLhB1t3HQkAp4EFMoaZCrnbFQoRyrUFcz7NCGPEHQjAH60EOIYlCZOVyQghnckLeX7ZCZE5lQlzJrUI4YbRCaCJpQtSKlkJs4jpCgEqCQIxNNULilIRCrNNRQtydw0L0olBCAGhiQNwpoEIkeb5CxExBQnJZnULg71pCAKeoQZDh4EH0H0dCkAN0QjxUUEIQVpJCLG87QqLPg0II96FCjComQuQ3hUIMi7hCmqqeQiQdPEI28bhCICgSQpyMwkKg279CBri5Qjx5CUKiJb5CDCqUQiAqIUJE+5JCfNsaQoQkiUHcT5ZC8AQ2QaoFqUJkU8ZCkF/RQQJxm0K4yRpCPCUIQqxAu0LAAmZCWvnHQqj01kHMOYxCaLdbQkT/BUKgez9BEjmUQrKqk0KYhqhCwmmVQkJlpkISvLpCxMnDQiREiEJg5y1ChK3aQYjxu0KYKAlBHMqQQnz/w0HKaLRCdE9nQvwiHkJkC8NCwMQwQJrIqUJYdXdClEyuQvAxxUJ6DZRCMGu8QqhcLkK43KVC+I5aQhbBsEJ45uBBsLb6QUQy00FS2Y5CaAq8Qmy2wEIoP+tBoA1YQlZtm0I0JLJBTHSlQqAhl0F4Nk9CxJ8xQgS60UGGQbxCABOlQiC8HEIIC0pCLEtWQkgeVEEgs2dCCJctQhaDu0JE4lZCaIdtQpiRz0FMQ89B2syqQhB67kEYWodC5PiDQhCdaUKQzaNC7MRkQhi+lEIoseZBIHOHQqJTqkIAQJVCmDSHQsDJ6kEIH4hC2EydQVpjlUJCkZFCABi4QXh+EUKE7xhC8F3KQRy7d0JI5HlCvPRvQkAIx0GKuItCmLoNQvhIYUKoNk5CUNT6QXDujEJIkZlC3BiuQnDGM0L8+sRChCJOQrBLFkKQpt5BUMRXQbZch0JykpdCMOCrQqhHvUIiNIxCuBijQiBr8kEw6MRCVLSpQiBpHEJ+ycdC/HtBQs7rtEJM9XBCPDnZQRDtlUJAMzhC5iDAQiBij0C0QXpCOMypQfzuAkJk6VJCdsDAQgQ/x0ImnYJCMIAjQbiYmELObpJCAjS7QmLFqEKQFXlCBFHSQQA9wkLI/j9Csve2QkDHukIevLtC7FXAQrZfiUKQSmlCjLlmQoDHTkKYLNJBwE6LQiANlEJ8iZVCsoaZQsp/xUKoh2tBKrbDQiBrm0KQrilChMt2QiS0rkJM3I1C4D8zQih7PkL0C2RCGh/GQuC4vUHwvR9CgFNMQlLNxkK0RblCAj6ZQh71ikISDadCTJSdQsi3eULS77VCjLatQlhmuEJ6T59CDEsPQkB6kELoKhtCXIeCQgw0t0JWZoVCbhjEQoA+wb8=",
            "dtype": "f4"
           },
           "y": {
            "bdata": "nPSqwg1WpsI3z7HCKkBywoIAjcKWCW7CyaePwmOtrsLQ563AhPbfwajbU0EAR/nAZl2OwnDzVsJO+sfCXlw+wrA8WsFB94LCEKIhwghygcLg8XxAgP1evz2lYcLjzLfCsD3vQSvxdMI41XrCNgJdwiiOF8J6RpHC/BavwvhsyMEABunBaOWkwVg6L8KY7sXB17s2wvheWEHIeWzBQlw/wqAbTsETJabCqfswwjH9IMKQ1ZfAgCEJQMQzu8Gas7HCuJ1KwqB9zEA+CV/C62EywuSSmMJXdqLCzrcbwvWjZ8K95sHCQDs7whtEvsJ8F+rBjFQqwiEoHMJAvFLCnhyZwpBxzsB7rILCdBChwdgulsJXNDvCPJSZwWHIksKYPwdBFTmrwvVES8IYf1hBOBzUQWIytMLIOUTCTRO9wtDRiMF5TFnCS6U/wpCi0kAD8L3C5CeMwWQaSsLw9u5BjR9HwspwqcKcYbfCaF7zwRvMYcJQrJPA2ATwwVBcC8FY7u3BDYCswrxA18EInrnCcH6pQFppmMKRqzzCcNZHwXDt6cFOjA/C3ImQwaK3m8KwcFnCONizwgMqV8I4N7LC/bMSwqZ0k8LI4anCG55SwmgiRMFlKKjClBiNwqDl0cEotG5BK5iKwoBvRsJ28bXCw9kTwrkCGcK8BijC69imwtiH5EGoSl9B8EMNwgDOk8Ib2sLCMMCEwl5wncKozY/C+CXDwZaiPsK6Qw/CKEduwooRDsJSdhvC6A6ZwhRqicIZ02vCOamQwhhww8Hg2mbCqPs8wiNwvMI9z6nCMagRwm9Nt8JgJe/AtH2bwm1nKcIzC4TCKrOCwujRysElgrzCGON9wYDHvsBAEaHBVPnNwSInKsJMxYPCwOuPwCbLiMKwjDPBS5XCwt/PmcIMCNHBIG6XwpjbSkGYHA3BSGejwsQk5ME8qjDCsENVwmQErcJcbqjBy9M9wl23UcJm8kLC0GUgwY+wpMLADnTBEM6bwJ+hTsJAc7DB+Awawmd3uMIAPl0+AEFOP/xtjcEAh7jAAMhmwXCAWMKAtCPAni0TwpTGpUF0OpTCxpIewjgTDsKeXp/Ct62WwlAJxcBCHirCJMo2wkG9r8IQA43CxiVJwjFpkMKgqYvAUyjEwmnCMcJILXHBMD7zwD4TTMKAmYm/w/67wmatbsJ+3UrCmIKewfCz6sD088TCfPz3wSX9kMKz9pDCmMCVQXswesJoWAnC4EmLwT8lp8KF5DzCd6AkwvYfTcIiwJrCZMiSwS9kMMI3WCbCvNuTQab1QsIIqYXCqMZFwmiRT8J2trnCwG6nwY+4jsLb3DLCEiY+wlZ/HcIZpZzCJ2Z/whpyPcLAO6k/DLrowTALsMJACgPBwLawwnjX4MHvZKXCzArOwWjw4MGQluZAuLZTwZtnPMIA7tnBLNb9wcBD1r/0BplB2ikKwoHdFcL+Tb3C7O9Iwj6csMLV8hvCwP8FQUBgxkAQBhXBRniLwtZ8NMIC+bzCI0d/wjD9YMG83onC4M58wHSpisJsr5jCtMC2wo7sJcIAJ5A/arDBwgsbtcLAlqPBexlvwrwc58HBCFXCCGgMQZ59F8Lhy5zCKMq8weQARcIsfkHCMCJ5wTPRSsIHAmfCCQi1woyehcIOahfCuFenwthfe8EYFUnCVuaEwpCJlsHHTMDCvaKMwmDDoEEm4gvCYfsqwlYrZcJQAQjBpl+dwkDGiMKQwynCV6BOwkBA4D9u4IvCTAWAwtzCtMLEq47Bq0GZwvUpmsKo717BxOiaQaIGjMJaPgrCECACwWfxe8IwfADBAJ3NwCCz6sFfG3rClD6DwRkQuMLI6cnBSOopQei5GkEwmylBhJmEwhTE+ME=",
            "dtype": "f4"
           },
           "z": {
            "bdata": "aXnBwoJcq8I9xyfC18ibwp+kg8KX5S3C3S9VwtoIhMLkN8DBSNc2wuatWML7ylXCh7FmwsFIRsLAe1XCCOqywX7OgMLIBsvBt+QZwgLugsK2doPCoDZZwVCYGsJ1913Ck0Suwnm0I8LJD2TC0PLBwRyigMGL/MfCuZw3wlj8ssH6JIDCPQOWwnRYPcLgKq/C7tlZwrp7isKfYxPC1F0Ewp8SfcIwPprCb9a8wj/5rcJk5wPCMouNwpBjQcKI8YfC5OiiwmDakcIwJvnBVLMYwr7ymsICYRjCUUqLwsVFJ8LSrYzCKXaQwgeDc8J3rMbChxYWwmi3YcI5B3bCS0KZwhoQx8I0bKvC1KbXweSrv8LYn8HCFDyZwhJbYcIIjZfCPBO1whA0r8LBBcXCstOkwrXbecIgbYrCyOM2wqIvlcKtXqTCs5m3wpv+ScIBkHHCZydwwkE1M8Jsy8fCmOnxwTTAX8LcnKfCFh0pwj1NY8L4YKTC0157wlkHRcLgPFDBeQJOwq7XkMI52WTCfGRHwqSUisLQM6jCw64bwgI5osIwiJDCqgO4wnx6ocIBfbfCP/Imwvv0xcK082zClP7MwSNFE8Ky0pjCOG+kwuf/mMIoPS/CHH27wlsKv8Li0KPCQERbwgwQLMI60R/CkK+jwkikgsGMc47BPbMgwtoYpMLY2bLCdw1gwt40hcK8tD7CoB+UwtzLsMKwlWbC1C2cwmrirMKApLvBtumrwhmooMKnOnTCxrrFwqQPkMKob/nBRUpfwp/RvMKQc5PCcGHcweYauMIcG9fB0Ge1wSbbvMIUPoPCoNeewqROgcKdPmPCse1jwoxAlcI3pZbCM0uwwo3aw8KdlHrCAeRxwlSj98EsbpXCfzh4woJrcMJkgsbB5POlwixeL8Jxp73CJpeywlyGwMKWFcPCHj8awvQ248HsxgvCTjeFwr3NRsKu0r/CGKGmwgiFc8L4M57ClHGXwQQIUMJOUg7CR3eowoBX18GKeAnCKu63wuy9fMKanH/CKLSqwrZLWcLw+OrBnHRGwoKMgcLIf4LC0piAwoJnxcJur6vCX55bwlORx8IwrKzCXw7HwoK6mMLosvHBiDaiwZQHWsIwlLDCX86xwqM0eMLQQ5XCQ2lywhayjsK41avB2ADawW28PsJgamTCTN9FwoaWJMKolYnCmkJewsiTw8IGsqPC3DXEwlUCrcIUTKXCZ+BzwuB1csKrRYjCcqxdwhE8gMIPwFDCVAnPwUF6s8Jh+FnCLF6iwTNttcKAf23BrgTDwv4yvsIIWBjCs3E/wnMWScK1fjnClR7HwnABwsIFUYrCUDuMwhwRmsGCBmjCTq19wniYP8Kc/1nCh46HwvjfR8J8cUjCJc9NwqiB7cGpCWjCAEVNwYyjWcJ0EpHCaiUxwgX1RcI1saXC0iebwtbrasIyHaLCwlYEwnYKwsIE6JLCPEyPwRLOjcLIeoTCo3K5wgjPxMLguoXCDu1pwjgnksLyj5bCU2GcwiyzlMGin1zCYM9FwjkMmcKxSGfC+EeMwq16RcIexYvCC4dNwo18g8J7lzbCGwt8whgmW8KNYsbCBEOiwnAZpMLOBATC3I+awmx5n8Frn7nChxN3wpSdocF66ozC6jYJwnHBZcLwngLCkhyfwrpsNsITuVPCz+JxwvStBsKq0rfCzVvBwtrJfMJV28XCmEwywcoLiML9lKvCrLx5wkuLqsJ1qWXClOWgwmgVjMJCZHLCmAaOwgKYisLu547C5rKvwgif9MHIVpXBPaGXwoqMrsJ+yprCaAJwweYbn8JA2y/Bf0pdwrx+B8KAviDClTJ9wrBEgMIKbJnCHMVowvLut8LI0JfChBpuwhKhxMI=",
            "dtype": "f4"
           }
          },
          {
           "marker": {
            "color": "#00CC96",
            "line": {
             "color": "black",
             "width": 0.5
            },
            "size": 6,
            "symbol": "diamond"
           },
           "mode": "markers+text",
           "name": "Cluster 2",
           "text": [
            "C2"
           ],
           "textposition": "top center",
           "type": "scatter3d",
           "x": {
            "bdata": "L29xQg==",
            "dtype": "f4"
           },
           "y": {
            "bdata": "jK0vwg==",
            "dtype": "f4"
           },
           "z": {
            "bdata": "teh+wg==",
            "dtype": "f4"
           }
          },
          {
           "marker": {
            "color": "#AB63FA",
            "opacity": 1,
            "size": 4
           },
           "mode": "markers",
           "showlegend": false,
           "type": "scatter3d",
           "x": {
            "bdata": "/BkYQhC030EUnqZB6ka9QrSFS0JK26lCuMZLQgSsSELELh1CNKZ+QqRy3EGc0kdCRA27QgCwM0JwcCVBJovGQnj7GkIwQ49CDCcFQqgkTkIwo+NAwMqvQFwvkEL2zMdCdsuYQsADEUJQjOxBuLfSQbDWLkHeK7xC7pOOQoZRgEIyHJhCgItFQtByL0IAmBFCIAgkQlw5qEJ0679CEFIIQhyLJEIoxitCPA5AQoJ9oEJAgohCjDXBQqxhx0IuIcVCng6PQiwKg0IWKbtCUP11QmibL0FOi69CCP+rQfj3x0ICCLxCEOmkQVAKAULkkj1C9Cm6QvgsrkJyv4FCZI+MQgrMokLig5lCbjm0QkBxB0GY1+RBCEXBQgC3V8AkmbBCJu6DQmSAnUK8HoVCvgvAQtCXF0FKR5ZC6m63QqBNoEJIGLpCwq+5Qug2cUIwF6FBiNOxQdgD+kEW9atC4Ga2QUAAIEEYfnZCbAYMQoAchkDq06xCVFpVQhZYq0Lo939CwNt1wKCgIkK8NYRCkL5/QpzCpkKIH7lCAEFTP0a8mEKY6m9Cvg+dQtBwuUJM86pCqlOMQnACCEKQbz1CrqqDQn5Zl0LWkqNC8vCZQoR3nEGg+UJC9AW3QsBbUkI8gcNCsGjBQQaMkkI4YzJCiBROQlZOhUKQlfJBHBOkQmwxd0KiCsdCMPysQlC48kDAH4xBsBsNQryeTEKQ26FCOqzCQhi3OEIgzaxC+AJtQjqfqkKobX9CQHjCQj5jp0JSicZCCgvGQlzjqkL4PRxCUNaPQvxqnkLMu4dCLmqYQihPikLcXqBCcDG6QajquUFQ7FFC3DRRQuggbkLUyZNC+BuWQr5PlkLMrH5CTJXEQgLOvULYHSVCiEceQnC2C0IIkJZCvEI6QkgQbkIi4oBC4AEvQi6tgEKMXLJBxMaRQvRrkUHU2HJCOkuhQtwKoEIwUlxC1teDQmAbuUIgtctBgo+rQmg5qUIMeNBB2H8uQhCAUEKgFBxCiPqyQSgdv0Jo41VB8Eg3QmSlEULM+5dC8mqJQuD6r0LMgJNCzGsdQuoFjkLQfPxAiKauQhSwX0Jg0aRCjJaVQshmRkIoX09CkNcKQsS7d0IUrzBCzIquQuTCtEJe4qtC5OqHQtasjUIcZ5pCBOhhQujVDUE8JhRCtP96QqyFsEJULnpCIgqFQhiyRELg5cNBpDy6QoD6gEIIiDhCULJUQoZewEJuq7hCwj2CQliVs0JwMaJBgEN+PzgHVELAvxxCUDI+QnAQwEJgowZClLoGQjZLkULQfixC4DJoQeZGs0J4T/RBsIktQgSgkkHaq7dCAPwPPxaalUJ8poBC1t+dQkTChUJEUCpCiOF/QqB2aUJIkXxCVNeHQkiQWkFQPDtC3gyOQtx0WUKyLo5CSNMoQsAbLEAIZ+RBMozFQgihWUFc58RC3J69QjgYnkICv55C5IrDQvCT40FgDf1BluaHQujDpUKu86NCwCWMQpDvvEJsfHdCoMB3QSbCmEJsEF9CWJHGQkTQxELOqqhCFLnFQmDWhUL4P2xCWJLQQVBulUBQo39CxE1hQgCTO0L44/tB/NrTQRwlpUKAACFCULNiQuqEskKYVBJCsIHEQv5/kkIwyG5CVq6ZQsy1qkJC3rxCpA4qQvQVcULYZFxCAKIFQvhuZkG8+sFBcPAwQnj8IkIsPhNCMMytQnpJtELs0V1CIMW5QpKzo0K03sRCvDWfQVgoNEJ8zThCKmiqQghAB0I4JoZCBqe0QnZxxEJiLIdCcp2EQrI9tUKAm5a/9JGvQhwKv0JCC7tC+DUEQpg9cUKEJ9JBmMxLQTB9rULkKKlC8BgaQnwWW0K20YFCbK0jQkiviUI=",
            "dtype": "f4"
           },
           "y": {
            "bdata": "EIkuQlzVQkLeHZ9CxLHBQuxlkEKgWERC7OxpQsqgt0JwvJdCaKJwQmaao0Jcyg1CqL+zQl4FnELojWdCYEaEQQzvgULwI4pCIH6DQjBLj0IcG2FCwMW/Qshy+kFi7KlCmAZ+QkjxVEIwTJZCtDOGQuiDxkLUZcdCVIK9QpoNkkLQXV5CyNwxQkaUnUJwB0VC0P9YQtaNu0JQHepBJsCHQjDnh0IIe1VCMGk7Qh7fw0JIp7NCfF9zQlTCb0IwI+dB3B51QuDTqELOJodCvG0aQha5nUKiS45CZBB8QvIil0JcITNCtK6ZQry9jULqdYxCEEybQmjH5kG+8KpC3BRWQpBsjkKAs7RCpKO/QSSjo0Ls80lCUEJNQmgzwUK8V4NBxKMeQhBZokFkSJtCogDFQlZhl0JcCGxCaLDUQWyLSUKqA8RC7q6LQtzYoELuG5RCGIa/QhQOmUJI9BxCyDapQrzLtUJARLZCaGmWQpBvl0KIIglC7MWYQuC1U0LqZpJC5n24QkzCxULI1oJBsB3FQqjnnEJuBKdCrt6eQvyLikI0rZ5CtJmEQrDf9UEo5YpCyGq+QhgQokJCCIhCjDAMQoKIjkIWbJ9CdCSdQjgeKELe3aJCbsmzQprinEKGEsNCiHXAQpztmEE46JlCeL8yQsQFH0Kcg61CTL9FQqiBrEKACHhBGuGZQvCbi0K0/VtCMhSDQngsMkLWVK9CSO3GQjRxmkKce5tBTjKXQix020FQPZlC/paEQgBu8UH83LFCwBAnQiAC9EHUSQJCqqq3QkLLqUKQ+7pCOBYgQmSHdUKsZFxChOi9QsT+RkJkh7hCuB5wQh56gEJ+hbRCNKZ6QoxvcEL2gZpCZra4QuRDmUJYL6FCpMhRQoCVNkJCgcNCAF65QoAMLkI8b1pCXniZQu7Pv0IkM6NCtGdzQi6YskII3ItC8JHKQabntELmu5xCAGe0QVKLt0KWxLJC8KalQjAVB0LaScFCMLRNQnjDckJ8v5ZC6t69Qsh0A0Im5qNC2rK/QoCgm0KE/DZCcBS7QsA8CELoOsNCRGRDQjCfsUIYE4FCgAjaQKKOikIqIKhCLGODQjDglUJStoBC+PLFQqoJmkKob5xCfMpBQhSBvUIQuWNCCLa/QtwRvkIg6KNBDoG9QsyBY0IG+LhC1OsUQgQ3wkKwWcZCdKhzQnx8xEIcFllCzM2NQjxpNEIwi9pBnIiKQpysXUII/BZCaETFQvihokJwBMBCRheOQugDDELuFqhCXLYAQsTBwEJs6oZCgo+dQgi5fEKwSH5CIN9rQuD5s0EI0DRCSCr0QVyDjUKMqcVCLEuWQkxlaEL6x59Cjv6SQqio5EFkUKFCaJolQh5wsEJACZ1CiC0EQto9uEJYZwRCmL8aQtbdrEK0t6RCVIWYQsbIqUI8p49CWmOFQrSjvEJi6KdCLB1rQjDPqkLcpMZCXmLCQi5XkkIwsKJCKIg1QsRhM0JMuBdCYgiYQiwMh0Kg1YBChlGtQng4ZUJUYoFCPEijQgA7f0IMOZdCYFt7QbTohEI4JjpC4JCIQjKhgkI+9KlCeFEZQjRZeEIUICJCCJiLQqBPZ0Lek6hC5Ek6Ql5gqEICqYFCUoGUQrwxdkIS6MBCAH52QQjHUkJYrzZCcOCBQiDep0KA7qVCMuabQqrQoEJUZEhCWMxuQkj9t0JO9q5CuGSbQh6so0IkYTZCmgCgQjz6lUIcFgNCOKefQuJFsUKWmMNCGm7HQvbhmEIQKvxBoGuIQUijqkKg0kxCSsHBQiZHvUJ2OYtCKKZKQsjYkEKCPaZCrhCIQv59m0Lq6phC/C2NQopWlkKskMVCXMljQpBQ0EF+7cNCeA1nQsA0QUI=",
            "dtype": "f4"
           },
           "z": {
            "bdata": "NGUqwoLRB8KAp+rBZeqdwlUrpsJYuk3CQOqQwVS9RUL4FpVB3PXRQaoKxcIoN/zBwAVUQNj9rsLwKW9B5+0uwvC2SMEwRYNA2Evrwfuww8LAYoFA4CTNQICL3MD5tSfCpNGLwYANIMHGbQnCcOW3wH7ymMLEBojCGNSTwmySnMLmahXCwhdQwsA/EEBMjb5Be8KgwneUdcKYohPBKGZEwVy1TcIYRuTBJt4jwnBe1sCWXI3CwFCAwvSrikHA6u3BRPq3QUjiSEGA9YW/pCf3wWa2BsJXMKvCMtUbwujFtsGC4kbCQPyGQLuepcKQi+RBBaIVwqhbk8L84xZCME3iQGhgs8KwWvZBoJcjwYiJRUH4AdtBdD8pwhC1A8K4XMnBpZQywuhinMHUkBNCBDm6Qb6EIMJ4+OpBWN0Nwq3OsMKQ+9hAdGSkQby4lsK6qhnCUP/pwADIrz90gJXCuAV1wpgcnsKwgX/B8BfSwIgOEkElqobCL5SKwgh/lMJAC4zCYJCyQE/CjMKMJ+7BKIJgwQgA5UF8gFnCVUItwtjelsFUBKbBfK+qwR7KHMJjfH/CWlM9wrjRUUHwjRFCuJGkwoDpI0A6cgvCmGxGQcBL5j+pJijCEFuBQBTfE0J75cTCNNcSQjp0AcIhGpjCYdVVwuCJk0GAvRJCqfGewh0kTMI4kQ/CLpOuwvQ9j8HAqEtAchKLwtCutEBIN/nByA0fQsBkzkBoHwXBCBz3wSijVcEEQItBaI0TQiaQkMI8x+jBgNFZPyPNN8LgnsjAKNZbQmTcV8K8zLnCYKsawngSHkHAq6DBsIDbQCgMJcFyLgbCLiVpwnAix0EB8IzCMNjlQQChQr9qUBXCnMLAQagVXkHglg7A+CM7wShvoMHJ3K/CODmiQePCuMJ03KvCEF23wRx2kMGs37PB0AfwQVgroEF5iqbC3BiAwqyvUkIAOdc/RlYSwoCMT0JgabzBGEtqQfQtw8GwsAFCcGbrwMGjucJIY4XCi8LHwvCbH8Gw5ThB3H4gQgCG0kFWDq7Cjo+kwphzO0FgtZtBQGO3vz8PxcIAfMQ+ePFbwVOidcKUZIfCEIWZwBcIn8Kc4ZXBY7bDwkzL0MEoJeRBE3JUwqxyXUJwb7RBsG5hQgBwFkG0r1vCaCoZQoCfVT9ns3jCuF66wf0xscKxHKfCALOTP1AhQELIpxHCyEyAwVhbE0HgmjbBpBcBQh+7tcIo0NzBBiquwoP2w8JADkDASMriwThyW0GQse9BsEvOwTwHLcKgzUbAma1OwgiZlcJ82+jB2M58wYBy7cHoA5tBMNbOQNozvsJcIYvCOEs9wRRubMLwegzBgD68wYyZ5MGDkobCkMslQdQtBUKS1YDCnEuQwYADJkFAZ2HBn3e8wtRoxsL8EktCYFSkwSA8PUHkr4xBoRtKwnBhDsHesJnC49RCwqaZLcLoGnvBMS+QwiBAoMC8vCrCSLfIwYi+MUEjuGfChK6JQTs+ssI0yLRBYAYgwXJxmsK3VzHCi69HwphtasFQMlpBqM4OwWAnlEAApZvBVT6lwoA0pj+BEjDCEFtfwcCVoUCgZcHBLC8ewlj3rcLQtpzAoM1vwFAlZ8Gw5kxBpu66wvBnmsIYkztBwMbdwNDA0MGRocfCcOgPQjXmFsIw2l/B9RMxwugEAMFAnjZAERecwhXClMJ0OIDCIDIcQsh0hcKgn/fAmISywlxaDMKQ0cZAyO1nQcJ9osKAEHdC9CDGQWuKE8JAjAjCYGotwA4xp8IYJ/7B/GONwXxA28HUFKHBAwqFwlhpdkHQlo/BiP9uwmpdwMJpR8XCPJeFwrG5U8KBnWDC0wSvwlA/sUAgzuNBeBhwwt+yg8I=",
            "dtype": "f4"
           }
          },
          {
           "marker": {
            "color": "#AB63FA",
            "line": {
             "color": "black",
             "width": 0.5
            },
            "size": 6,
            "symbol": "diamond"
           },
           "mode": "markers+text",
           "name": "Cluster 3",
           "text": [
            "C3"
           ],
           "textposition": "top center",
           "type": "scatter3d",
           "x": {
            "bdata": "XR1kQg==",
            "dtype": "f4"
           },
           "y": {
            "bdata": "cqyFQg==",
            "dtype": "f4"
           },
           "z": {
            "bdata": "/3HawQ==",
            "dtype": "f4"
           }
          },
          {
           "marker": {
            "color": "#FFA15A",
            "opacity": 1,
            "size": 4
           },
           "mode": "markers",
           "showlegend": false,
           "type": "scatter3d",
           "x": {
            "bdata": "QORJQvYDpUKwVjlCvEFaQsCceUBgfa5CNOCfQUypxEKuDJ9CDueyQiRCVkIcETJCHCytQgAQ4kGUbi9C2nWnQnigT0IItotCxCG/QuD1+EEANftBwEj5Qfq2rEJws9tB2PFCQli2cELgXm1CZMd7Qpw7tUIAzUZCdneTQrAJO0GQL7lCmEW1QuT2j0JCcZ9CiIKoQeyoJELAGENC8O6gQhoXl0JoBoNCcHFBQQi840HIMjZC/DFMQvREbkJopBJCwKjrQdBZu0JEEZlC0C8lQtYAskLMkqVCmKFMQrScjkLyYrRC/iG1QtwVEkJQpxBC7CXCQgCzgUGQBOpBivKYQsTkBULuCrpCCvW/QrbntEIu75NCHGtQQvDnQUL2SoJCNhWWQrC1ekEEyTNCjnDHQro2gUJ2ubVC3A1MQmbztEIsaQpCSNK8Qnz5jUEkm3ZCgF5uQWTJMEKqqrxCuBFOQnTPzkFwQldC4BJLQQj7eUKQZA1CkDTwQQigdEIgFXFCwOdmQlh1TkLG1JFCdD08QjR5eUJo7AVC4DtMQZ6UvkK0/nxCIA/iQU4xu0JiRqVCvk60QmLkqkKGrcFCAHZhQqj7hEG8IshB5Fu0QiCagULA5TlC8BV9QQAck0L8vAtCkueTQpoXh0J4zo9CrBswQiLKpULUoXlCoGFfQujZtEIAOh9BWNC+QrDovEHAxz5C5ANhQlBAh0HITIpCZNC+QhCzkkIsfsZCbIcKQgB4mUJuXrNCptmFQpJsg0LA2OBAkKZLQsxoZULWScRCMMB9QjjlsULu6YRCsEDCQkwiLELiXLdCqERSQezjsUJSYLZCWAtyQjyyYUL0p65Cuu+RQjgf9UF48l9CsBA2QmLBgUL4rVZBNqSoQiTVpkLqz6RCoNe5QowDwkIs4G1C3FCHQnhcv0F0RXhCwJmpQeYFgEKo1VhCMkvFQr7xj0Jirr5CvFmiQqzhg0IIUGlCEKZ7QnBjfUGoypZCHJFUQkivYEIqyZBCsJhoQnzqfUIQDhlCyPuPQqTvR0Lk+NpB2r6bQoLDhEJsx7hBdNKTQmAOOUEwYfBBsDNtQoIQqEKwL4pCoLcaQnh4bEIAhqtCRjCQQgjuwEKqGKhC5KTFQgYaj0Icb1hCNJVCQj7Tp0IYMEVCCJtSQux9dEJ0SC9CLkvAQpSecEKewIdCkGMmQlhOiUFcyplBJN+XQsAW8kHYmJxCDjKlQgg06EFCcqJC1tfFQvSpJELI/HdCyLF4QnATWEJcCb9CPGhRQvzOKkI8v1tCuICWQXI3s0K6yIFC8G1OQp6XkUJOe7NCxJywQaYBh0LoAZRCCv66QrYhhUI8h7tCcIdyQmz1qEIc/hRCTF+rQvxDDkJajapCpMmhQpzGx0JMh4xCNsqLQkg79EFAtFxClAhOQsYzrUJ0Nk1CeFApQei6gkKAqVFBghaTQtKMo0KWorNCDoewQqQAeUIEcWNCjMhBQrBymUJ4ONNBhKE2QmRHAELA5zVC0vGbQjQLOEKyu8dCmGZnQgTPtELaPMRC9uO1QtiWmUJQFyFCSNBUQu7dvEIkkhBCKKRdQkA1QUIAQB9AWAluQbT5mUFEP71CMHfHQghG+kGGQo5CyFFCQugn70EUBqNCUv+LQswv0EGQxylBoFuBQUQKtELs0r1CGOdhQuype0LenJJCfGwPQojOaEJgpjhCSkWCQohzskJAKE5CHEqLQk7LtEKs5ZRCEoqrQjCmMUGUAG1CwLx2QhTEx0LAZLtCvGa5QmQ+c0IE6l1CHnePQhifd0IetbRCsLUIQvZ1qEKWzbZCwjCNQuAOSUIGTplCMKI5QsTkMEJOZ4ZCWBi/QvSwqUJc3cRCvnyFQvhobUI=",
            "dtype": "f4"
           },
           "y": {
            "bdata": "4OkFQiRBwEHIbCHB1KMeQtgCekEUWyLCFAHIwZTpocE8eK/BELv0QCjA68FQu/FAyHRwwQhJocHwmwdCfL7BwTjpQkLozrdBUOQ5wbTjlMG0XKrBPKMHQjjLtkI4G1VCvM+FwfA0FEKYwstBEH2cwGSqDkLyNJNCnDJiQvC7LcHAChZCepIHwhxtj0E0BorBoFA6wAC328AAX6E+4O+FQpwRZULCHT3CQHSMwdgrYkKAlC9Ct2QtwiDcxEE4dIJCFl8MwkgarEGNwV/CaLq7QeBCo8BgRwzCNL2DQrjZWkIA3/y/sKBYQbSX7cGsPqfBvDVxwniqwkGswx5CBvCwQkQhDsLwDQHBcFkqQcj6zcHw9cLBcPb7QKQqnEIa3hbCiCyVwUDQKcCcEL5BnFKIQdDjjUJceqHBYPcGQmR2QkKU0HBCHN71wRCD3kD8NrxBQHprQCSprEHAhdJAUs5BwrxbnUFI46JCoL7FQTwNG0IIRlpBMGx/QljfJEKEfJVCmmI0wuhA4sFw+9hARM7nweILpELApZxA1N23QS7tG8JM2ajBwCrkwWbRv0L6xZ9CcFzxwTiyC0Gw1TRBQO6BwPwHF0LI7zNC4NmcwIATAEH4a81BCDiCQYCENMG4kpxB5KQHQvgTYkJ/LBHCHEKCQuCFJ8G8e05CoGAjQqiHB0LwdP7ARGfTwdAHkcGQLjlCcP54QdS0C0IAQHG8OJwSQUq4rELIl8BCgIMSwCStBULKZgDC+PFtQti7B0IAzhg/TDeKQcC9HkBW7ATCcMRwQjAjWMKMJnVCgC5fwAADTUK0oIBC+DDHQejjPkGEO6lBkhYZwjCzlcGE6BpCIAn1QMS0aEIAYdO/5kStQq5qEMIAMYbA6K8ZQYxYZEKkP6ZBAJOFwZhxcMHAXmhA8uYZwoBtsD+AXSZAICShQYBQ4kDE7L7B4LPPwCSJiUIAib/BrKs2QrJHlUIA11w/zICNQqCQdMHcyWNCiCpMQqhzRELgjQvCMKrVwLDE+MAALepARjnDQkCHuEGIatPBqgSzQrmpSMLIxW3BNKSaQlwyr0HEapnBIMwCQZUrWsJgLhFCGOD3QTRAnsHEoRbC9FPAQtiqWUHoShdBGE0kQc4eo0KAUee/iI0aQriWf8F4w7NCf407wiBpkcAoDqVBkGDqwHbZn0IZLHHCsC3xwPDfs0CchZ7BUHTKQYjDzEEwbrnAVNmvwWwZa0LqUAnC1CbwwXg8kEHkQ5TBmK6wQgxVNkLiaKRCXqOCQhzTu0EskvvBgNNtPyBsNEFApcDBMIGbwWaKtUKERDxCKGZAweg0LUJYsrHBHMJQQtavtkLX2UXC0H8QQeRewUJh0DTCDMpDQhDVFkIwgNvAsFfIQfQR2MGYG3hC1KXiwWBBBcAid4hCjAChwQBV88BQ3ltB+AP4QbD0DUEclrFB0qXAQkAfxkBw4HXBNJtLQlhLmUKWGA7C/n6pQsDQ/r8gnEFCJJ9lQrxGxkEA+ERCAIgYPejWNUL4VWLCUBfRwPgFccGwccDAMP31wOoOUMKgNB5Bv/46wrCw4EHci6RBmJ/2wTiweUIABDFBCDF5QcDncUGA2LtBfF4YQuTleUJsjGtCpOLEQcxwmkEE7MFC0C0NwoDnd8FI5NFB4IzlQazNwMGANQvC2LihQmBwKkIcU/fBDignwlBkEkJAJNrBWBiNwRBuw8DIJUlCoOIRwDDNLEKAQ41BO6VNwlh+VcFGXIhCaLUywZAyRMGOsMVCmNZYQgy1wEIc8alCbpJGwnhRM8KYa51CAAUrwMC9PsEQ8v7AsMtbQn01JsJQYe1ByOcNwfRWD0IeV0DCXE8LQhS3tsE1G2fCYPciQvLYkEI=",
            "dtype": "f4"
           },
           "z": {
            "bdata": "aAWeQqAUdEEEgYpCACC2QtijeUKsXnFCZLlcQpDf4kDY6qxBcP9dQjyzkUJM1MdCntG0QsjA6kGAWuJBXp6IQjQkCkIy05FCYPWiQHBDOkLwUMVBjDaLQUqxr0KYhGBCaASIQXS7bUIECpRCwqSBQqwDxEK6WaZCbkGDQjAVUULUNSdCKDq3QdzoAEIIvA1C5JQfQqBpcUL4j25BqlS1QgQaP0I62bBCOGpNQhyps0L+uqVC6BmkQr4xmkJ0VZRC3PNfQnj4TEK08KRCkPKUQkD78EHWOMNCANpvQiTjGUIEOsNC+BwHQmRQWUIkeiRCokucQoDzUkLEbnpCjrKKQu4rpkIgThPAKnu9QoBFZEEiWb1CVsugQqazkEK82RlClEe0QqTnX0I4mf9BUIitQlwKSULWIrBCaL2gQdTcl0LSnsBCShmcQtT8akJIJ15B/l2cQtDX7kFUKxBCBAWwQrDtX0KY2V9CtF5SQnAQo0GwrpxCWFxWQkCMlUIMsnFC+Mp5QpyURUKEH69BHmunQpCOb0IcpylCama2QkhS+EGE3QFCuNGAQkCKhkJqNLFCzASmQuDZNkHcbp1BMPusQsDEbELQQFZColKVQnhaskFEWQ5C+CduQoQrDkIIyMZBvMm7QuZ/okJY3pVCSDplQna6xEJwqARCTtONQuQyfkJAh9xBiDzbQbAlPUIwdO9BPECRQrgpRUL0S6ZBpOyaQrTRdEKShcVClDuMQdRDMULgzudBLPOUQqg3UEL0bVRCcuycQiDqX0GA4OVBZt+bQl5XmEISU8RCQPHyQCLLwULkCKRC8I33QRyEgULA04lC4rKOQiRSTULqEplCoLVgQporsEI0dg1C5u28QtSlH0LmVMFCFrq2Qhx0qkJAHrdAEHIWQYQ9E0IkRmpCCuC7QvDxkkIgA0dCiMWWQdApmEII6yNCYFlMQdjiRkLQk9tA+KK9Qr65rUKQmrlA0Gu9Qvgv40FwFHVCRC9sQuzJH0IYn1xC0I1hQlDnrEKQEGlC0s23QtaPgkK8jqlCdEBoQvTutUKEOwVC7MyMQohfEkI0fghC5M9UQoopkkKsDqNCxDVVQmzubkICgJZCXKh9QoResEEAtfG+TpybQt5PmEKAAEBATIhIQnCtW0L2xapC8KqZQmh0hUKwQjVBmPD1QV7CgUIk/rlCUPssQbiFGEL0nH9CuliKQqZkp0LQnHlCJJGJQeZJskLkfV5ChEclQrjuPkJQMQNBAKynQs5voEJEN2VCCuqGQthcskKYUEhCeK46QviBv0F8fkRCoM9fQsbQhEIEASZCFCCfQmR0WkJOVY9CDBmPQvgPgEIgKVxCMIUMQXwEvEKEIYlCGrqlQvDOO0JYeh1BIDhyQvxLq0H8O4pCiGtgQtA5H0KwE4RCCOOPQphWNEEk5GhCNGEOQghEzkH8UhBCGumwQgitjUI8v71CCJhHQsTdS0JcKDtC5EyKQnqZiEJytKRCpA4jQswlikGcOqlCkAiPwCiQC0KMKsVCxAIVQoJaxEK0SQBCatutQvj/bULAcChCKN6lQizMMEIUuppBrAEEQjjSHEKEVaJCuuKNQpJzukJCfoJCxNFBQiTtSEKAE0FCIG8wQZhG40H8dI1COCAtQpjg3UG8LK1BXN5uQrIGpkII/4xCvgbBQlyFwkLQewZCuB2EQmAWnkIiHYBCLG+pQegn2kHUrERCqDtxQYjywUK0FR9CCHrAQugWuEEK04VC6M17QhyJlkJuCJNCshiGQujCkUKcLJFC9rjEQg6FsELQBKZCBNkkQqimKUJ0uGZC1ryLQlJpxUKssMRCUjqgQvhCtELs7LlCkIEkQgQbeUKoAJVCyrGuQsSSf0I=",
            "dtype": "f4"
           }
          },
          {
           "marker": {
            "color": "#FFA15A",
            "line": {
             "color": "black",
             "width": 0.5
            },
            "size": 6,
            "symbol": "diamond"
           },
           "mode": "markers+text",
           "name": "Cluster 4",
           "text": [
            "C4"
           ],
           "textposition": "top center",
           "type": "scatter3d",
           "x": {
            "bdata": "YhhvQg==",
            "dtype": "f4"
           },
           "y": {
            "bdata": "2v9fQQ==",
            "dtype": "f4"
           },
           "z": {
            "bdata": "orFuQg==",
            "dtype": "f4"
           }
          },
          {
           "marker": {
            "color": "#19D3F3",
            "opacity": 1,
            "size": 4
           },
           "mode": "markers",
           "showlegend": false,
           "type": "scatter3d",
           "x": {
            "bdata": "wOhxQfBRykFw4eDAGBbHwZCQC0FYXO1BkFElwdDA5cCQ5clAACPivnDfW8FApTjBEMc2QSglWkJgVWVAMGECweDFksAw9GLBwGETwBjgHEGkVK9BvP9TQqolhkIgXdfACDr6QUAE8MEMTIxBhAnLQYS9UUJ4XN7BQISKP/HUJsKgpVRCSB2TQRAoAEJAbidCAATgPihLPcGoepDBkOpxQlBRlEA46P7BQMY6wEhUbkJwaaRAvO2BwRjJM0FAsQLA0A9oQdypg0FgainBHNmdQdAW8UH4HS1C6NJOwXCyOcHgug5AVPUmQkjHD8EwxJFAcA4lweihuMGoPgPBAN5DwchfEkEwgAvBQIiiPxDzAkJAF1ZAwD8dQkjRdcHQEzBC0OAwQvDczkAwtPFBlKmRQeAh8cAMLkBCUFtKQtDVt0EUpglC2EykQQDaQT9QhrnA3NrKQQB4hcC4IBfBAD6YvkRrCsI0CRpCQDeCQjg2lEEQ7aZBwJbCPzi8XcEknURCwBMewMCwjUHU235CENXUQDCkzcBgnLtBRNPPQVSRqkEE5spBRLPQQUgDoEHgP4JBaCSsQWiDAsGgTS9C1K7PQbBlSEKQPY5AeNZPQsw8MkKMxsVBUK9IwazvuEEgstfAJGSewZw3rMG4KvRBmHiPwbznwEFwmxxCDG7gwYjfNkIAxJs9KP0UQrBtbkJwHu7AgEclP/DnikFQk6VBiOBIwcCWxkAAiZ0/kB+YQPi7CEHAhwtCMJTgwMQShUEgG0BAAN3UPzTUisHgzLtAyDaUQSB1WUEYB5VBWPlWQeAIX8Ha6AjCAJSJv6CRccF8twFCAEDCv3wFDUKk9oRBOIhOQUDarkGEsMfBAOAUPEDnDkEgnstBgAhAQgg6TEEAkC69QO/iQVgdMEGAfoM/kFocwXjdIkEokbpBAMV8QZgG3kGg1kRBeDpcQpDTM0EQcBlBrHdCQnAJ08DY5kfBFBb0wfQk68EArAdA2HZnwSB8JUFAfuBBUEHMwMDowMFg1ItAwruGQlSD0kEEfb7BcGNcQYAoHEEAS1fABJ0nQvArykGg/nFBQNPnQEBog79gocTBLBOUQSCEmcFQqgxBXMRgQtRTWkKsO0pCgNs8wCBtq0AQYOTAYIEnwWBXgEA4fU1B8FbnQQg5rsF4jx1CgCY1wVg5dEG0hIBCsIzOQKCRgEGYEoNBmGWTQUAxHUCEPlJCNFFaQoRNq0FoRQxC6ASZweTsIUJwz+FB/pSNQoizAsHAgSRCzE6uwZiHD0GwYkHBANp2QaQsAEJA5rlA0FDIQaCtgcDA3LQ/ZIUTQhif0UEYwkFCeKD3QWC8L0JEmQhC8J/IQLR4kMHYr21B0PLCwbAitkB8HBlC2O5NQsCKt8Gso9zBYBxiQdD1OEJEkg7C4OgfQICRFr8cnIVCqPVBwSwcp0GYpmhB8D/CQMBbG8DozxVB0DY7QQC6yD6wzb/AQDdlwFD/ckGITytBOFmOwYyaN0KI3z5BrNlkQoiIUkEg4ihBmPfSQXzc2EGMWL9BqC5kQRh4pMHMyqHB+BbzQXDR28AUxspB2ER7wZAvD8JMgjhCAB/GwZwK3kFgFttBaAJ7QfS5iEHQTDdCaPo9QqBJykAsoh1C+BYwQRDn38DIPy5C9DLMQaBZDsB4WY3BaJ/8QfRdu8G2TgLCMJn2Qeh+7EFQYQ1BMHmqwPDV80GQZEZBYEqdQEAQykC0d9PBgK9QPwCITb7gsa3BsJt1QYDCUUAAtQC/YBVhwQg2/UFQHGfB+GZmQTyEp0GoRr3B4PkAQpjm90GAG5XBUKnIQOCjQkHwSBXB+BdWQYCTAr8w2/jAoE3UQEBq3z8A/ITA8OS2wTiZbcE=",
            "dtype": "f4"
           },
           "y": {
            "bdata": "gIzmwXBEjkEQuAlBYIjMwCj8B0KA+IJAtJAuQoAgEcGchgtCfN7HwXA30MEE0w1CUO4IQigblEGQQtrADJOsQTAJJ0IkC6vBEDPPwJCX+0Hg4QPAKAYoQZADxEHgVKPA0NASQhCCtEFcTOvBOGGkQcBzJUHwZ5xAeLXiwQDd3794AJpB0GWLwMCUR0LgOKBApEHKQUj2ZsFAfYtBiH8dQZDaI8IgQ1xBuCM1QaAzEMBgfOzBgCyuQaC7R0HII/vBGB/yQZgoS0GAZXc/SMEMQlAegMGADOPArFoAQhBedkG4t/lB7OGFQdg59MGgurRAJA6CQfhkL8FgDrTA4EkKwMnIOcLAHxtCaFY9QoD+8MEYQRBBQP7NwFQ/nMGkLiFC7AtCQmAB10BwU4NAGHceQmTT0kHAcZtBWIAdQkgGjsHEojlCdMW5QdC/RkI4KaNBtBUDQoAscD/o6j3BGDOAQeAQZ8AgvSHAoDW2QJzS6MEIpjNB9OoVQuTVOEIAVXpBjJ+TQWREksHEJK9B0OMNQqD6esD8gqtBKNAlQmBRr8DoaDVBuIJswYiTp0EgURjAZEtDQnzBM0LYpU1BSM72QYCLWT9wOPRAoLbKQEAgqECoQlPBnOdGQuibeMHQzo1BaEOVQUjtJEGMqs7BWBqjQRTzssHsBbVBtLqTwQAYrcAwqOTBsF6DwEhcCkKk2RJCYN4mQSiBNcGQBnhCaNc2QlDPgsGGnTrCoBDFQCDkD0J0qwRCkHZMQQDvX0GABrBAN2YfwjDmtcAg9WRAwL61weD+6kFofxrBrDUcQoBGq8Gwh9TAAMzRvcCMsMCgKGBAoF+vQDBf18EAJwu/iJycwQDxwD+oVnbB4JchQuy6WUII8B/BoGMTQAjHG0InZiTCJKXZQVAmAkIQFaJB8Hm9wEAu6UBYuqhBMLdFwQQtPkIAQIDBsI2IQY8/IsJwIIrASF0RQQAVpD/gt43AQGIewWDW3MDQJGDBSKWdwcBNmD9Ik2NBEAU2QtDHdEFEoZxBABJ+v0DFmT/gwH7BsAtqQZhF00FcNFFClKc6Qti0DULQbA5CAAQ/P+B0ycAAcfy+MJv9QQAeBT8gZwhCgAgBv4TttkEARgZA0FROQegp6UGAuDA/SCzvQQQDsMEg+yjA+HQ9QijEEEHYHJNBKEhQQaBkP8DQd6lBYFSjQZB4P0Hk6zFCYCsfwWCp8MHArVhA4DFWQeA1BkJkZ7xBDLbhwUBKDUAolh9CUJPiQOiABUHQw+NBQFaoQHBlDULoQS/BsNbyQGC5hkGQM/xBuLF6QoDMrEHQv/lAWLAuwQAmEsBwncNAYGXOQQTIpkHgw+hBQPRCQfC1rcDAN5vBjFaFQX01P8KAgIZBkCz3QATBm8GwimpBQFELwRhvQUEAfNs/GL/5QQzxn0HAt7M/TEGqQSCjU8AINA1CrJRmQsCpCsHw/c5AmKN/QSiPkUGcsPbB4O1tQYSNDMJQaZ/A4KDpQJiEi0GgKmhBUIidwGALIcDYamDBYJ0WQeC1QUDARhpA3JktQgjCwkEwY7pBOBowQcBX3r+cqJpBcKj4QVA+xMCQ+lJBALetP5Akd0HANfPAgFEwQthaLkJQX/3ATDaiQbQ8rsFwWZhAKLDywcwMGkL4ep1BSHfgQfDU48DIkV/BVI4qQsBlor/As47AqDAgQtCS1MAgysfAWK0oQUwZpEEgwe5BoDESQDRDWEIAdapAnJCFQYi2XULgNAPBCAemQfAH00D4b/VBKNC9QeCFxEAsisPBcLWIQTiv6sF4EuRBAMpMQCTbNELAZPBAoOqUwBiWEMHUGrZBABEsQqC+qMDkK9/BiPxnQsarKMKA7qbAHEWSwQiMmsE=",
            "dtype": "f4"
           },
           "z": {
            "bdata": "uD53wfmtScI86VjC4OnmwaV5K8IAkvhAljUewqCIX8AMx27CYUKrwoPNr8JsS7vBu/mvwrPwRcKQ8s1ADGKLwoCPZsAY9UXB6heAwiRwT8IIQB/BeqQiwqt3jsI8CMHCVkNJwlh+RsHGbx7CrBDmwRjhPsL8jtDBIty7whFLT8Jtzm/CMFddQT0/kMK85d7BqispwnAoacHhSajCCJXzwWTRwsGXHzvCiqSLwvjP38EsjJXCwG94wPtjM8IJkjvCIP1mwHOLOsJgrDrBQMW/v2R/y8GAxYbAxkybwgAJWMHhOHvCQNscwRRO9cFcWdjBvGvGwZSM2sEAyLPAVKX2waq7IcLAGD9A+mRewkzCpsHokYnCLcZMwjoGD8J2QMDCiyC1wqh3dEHQowxBgLMev3oULMK0e3LCRrm2wj7kYcKETbrCQNhZQTpQD8JoRy/BNMYFwoDF60DccqjBA1S0wgOzXcKgN5LCzBnXwRVuYMJfhYrCpNurweCiGsHl7IzCg4mKwluapMKOLIvCwy1fwsDSocE8RfrBw4Oqwn6easIYjbvCKRFwwthvgsEAllK/vGujwoTissEZFpHCQB69wUA2ccAYRZXBnEkYwuKblcLgCPTAQCFKwZIFIsKugrPCW2A0wjjvTcLAuQfCgP8wv+S8DcJwVMrBriQMwm8JMsKsO4fCbhspwhl5usLglYjAhnvEwviH38E5yLrCcEEFwR4FJMKMmr7BsiMhwkD9R0Cp4rTCqFfHwuKxv8J8fa7Cv4pQwhiDQcJXZanCt6w+wljxlEEdtXfCOB10QYwelsHuMkXCQFopQfrLpcIAeuq+H7sVwkRI4MHgLdPB7PmewuCIDkEEJoLB2GIjwWClssKeaorCZMuCwmwjjUEFvEnCKDHKwYhjI0EJMS3Cl9U4wnD4q8DwF2vCy56VwmXhi8IIzO3BGz2SwhYcQcJYXZRBQTRWwlAVHEEoV7vB2wOSwtergMJ/Ta7CEOKKwOQeAsIwSqbAoNckQChqisKI+zvBEIpSwU71XsJ6qqXC0ImTwACxhj5kz/fBqpOlwjiefsKAyWdAqG1OQYDuGMJ9/XPCOGPDwdHawMJYMVbBBBXZwaMBbsKgmK/A4IaDwkAAWkAApuI/pDb5wcIjPMLaMFbCe9Gnwtjs2sHSDADClVJ7wgBm6z/jE3zCkKIDwWRrRsI1g6HChHCQwYEui8IQT9bA0PpVweDEhEBA0xLBkWMQwrDzQMHg1a3CaJUCwjHzdsLEycLCqKK3wkBo90DiX4DCEF1WwcB7msD1XbPCu/i1wviFN8E47CbCzvlawtGQhsIIOIvBfJeowQq7q8IwsIPAkEHqwOcbwsKVwKDC3Rgnwie7MsLdXnnCgDRawtoxhsKkQLHBOlm1wg0vjsIITo7CAFecP3jTt8KcReLBKKNpwR+sqsKLMGLCX8aTwvLACcLQCdbBkKrOwSB1t0CewbDC7OavwYztPsIgBApBcwVYwplQSsLJTB7C0JQewSDPaMFG863CHZVOwkAXjMExWhrC2bZswjTThcJUT0LCC0trwgADZUBBxo/ChBr3wc2hO8JoIy3C7hW4wkjBz8F4JkPB7O4PwnNfc8KFSDbCKBemwZALccFIxlnBoCtJwYCyusHe9Y7CqIjtwezStMHAmEPB4r1xwuYjicLj0XfCUaxFwto1TsIIWRdBD5hQwpyrI8KI3WlBU/BXwqJhh8JQ2QPCU6A3wqjnVcGhpajC/FnFwgC9TMGfbZTCZsyMwuCTkML65VLCHEMJwmhNH8EQR1rBOJaAwhhskcKwL/3A9VfFwj0musLGFbDC/6pmwlSpj8IpuqfCfNp7wns/W8IobZrBDiWWwk2OesI=",
            "dtype": "f4"
           }
          },
          {
           "marker": {
            "color": "#19D3F3",
            "line": {
             "color": "black",
             "width": 0.5
            },
            "size": 6,
            "symbol": "diamond"
           },
           "mode": "markers+text",
           "name": "Cluster 5",
           "text": [
            "C5"
           ],
           "textposition": "top center",
           "type": "scatter3d",
           "x": {
            "bdata": "G/Y1QQ==",
            "dtype": "f4"
           },
           "y": {
            "bdata": "J08YQQ==",
            "dtype": "f4"
           },
           "z": {
            "bdata": "H0Auwg==",
            "dtype": "f4"
           }
          },
          {
           "marker": {
            "color": "#FF6692",
            "opacity": 1,
            "size": 4
           },
           "mode": "markers",
           "showlegend": false,
           "type": "scatter3d",
           "x": {
            "bdata": "OXSHwrzso8JQU5hBoFV4wHT5m8Ig6C5B+IVSwnPNqcIgBITCYJz6wAJyWsIATDlBMesxwlh0h8HmkoLCP6TEwij87sH0mJ9BXC/AwYDVFcCO0ULCtCfgwUIACcLojtnBAPgTvZKugcKbhJbCSoihwrg7iUEhQpzCMUAYwlTpE0Ik0ZjCEOA9wUAwh8AhQ3bCwFeSPxit48HcySJCbslbwhiKh0FOcTnCBOugwlBepsDAMkrAgJlvQWC4RcJOpgvCUL/uQXB6GcJFT37CnfmcwjSJpMF4VA7BssSAwnB+0kAAf4c/1uFMwmjPEkGMxT/CcI69QWzDhsEERp5BKyOvwkQzqcIQ+PbAfEKTQTCQt8A/QpbCcNAsQVFbJsLoi+FB6ATswfBKjsLDdMLCxRmMwlh6xcGYrWpB0nB2wuzb4sGwWnvBGe0Ywqn3jsKoMw9BsLiewtwyyEFgE73Bx/dTwoBAGkDk7lnCizg1wl5ghMLkU8FBqB6WwbigAMG4mlxBn51zwu9pZML7PrfC4CgvQGxoiUGAkog/EI+nwlhuRMGMUMfBABhAv8DtQEEsIhzCcZkYwvpJFsL4/EnBQzRxwhT0bcJJbT/C5NevwjRYqsJgf+jBoDWTwqiRtEGID4/CqOmewiR0pkFg1FPASl9cwuDJNEFs7znCsFLswTBxI8EQo6RBbf8TwsyUIUKf+orCHBiwwZD+fcGfXDXCSXxRwtSkC8INvLjCgDMNwSYNlMKd9T7CUD8VwbptdMJ0RqlBSCnOwWAxp8GIb33BEJMYQqwsr8EgtBzCSPjUwax4qcFgf8vAfqlawtMvgMIAkrxA4fulwkD3NcDYiTZBSO9CwTBCqsAw+CrBF6ucwkgWpML1mq3CqDeFwrgTTcHVlBrC+HVBwrgG+UEQ97LAaOXLwSz5gcIY6sPCAJ0Bwg10GsLFU4zC9hcOwgghPsHg1nXBAF1twlwxn8LoRAjC8FZgwX+frsJ4Nr7C5+6DwoCLK8HI7xLB4GPQwURsAsKQDu9Ad8UmwiMoXcKElJDBWgIHwqCGlsBo/T5B3UWXwnjTksIw6zTCRRAcwvgq/sFezmfCiF4PQUBcjsF9zbLCZHiMwfZgksJy6G3Cr+BPwuRLm8JgOZvBTEN3whBkIEEASkS+ISOkws30d8IwTR3B0OyzwuBfAMIA2Oo9VVhRwpycjsEf8ivCrDXgwcLxicIBRGTCJucjwq4qnsLQJphBiKWJwvi2D8L8omHCGOqcQR8lGsKwqLDC4I72wIy9jsKAEMZAJEWawrh8rcFpyy/Cy4OzwkzPv8KImWfCMvN9wkwfV8KU7AjC0AQJQaCy/cGAbnBBUvNIwmx4aMLN37LCnDycQbPUIMKgekXBCNuCQaQGhcGUDurBCHmUwUhJwkFe8qXC4OZ6wfMDRMK98a/CzTOKwmsLtsIsLZzBIINCQVJbr8L8s5TBkAP7QAqMR8JIm2nBb7x0wlWVNMK6s3HCqqkBwjpaFcIHZoLCcIvXwDbzAcI8GijCtaa6wsT8psLPRmXCC7RBwv5qPsKdhxPCbuSYwtqWr8J44SvBjEELwvA8DMGqDZvCQC6WwOngYcLo25RBK4p9wpgNW0HXEKnCOHnyQbR7wsIs9JBB4E4hQPRZp8IIR8fC/SUVwlzihsJwfgjB7x58wiBI38HgBQpC+Bx6wchIGcEUAYfBACGJwbjEMMEViTjC3ZQXwsADCsHYON3ByIitQSwtsUHV8I7CEBoFwYglnMK+1ofCtMeMwsjwmsIYX+pBoNeoQSD640GA06K/YlZpwuyHqcKA3Oa/qF+GwkmQwMIAK1/A9D3YwTOFv8IAWnVAEgamwvgPFMFYWZvB2BECQeR/l0E=",
            "dtype": "f4"
           },
           "y": {
            "bdata": "1mK1QoyQw0Lo5XZCfMBQQuq9r0KoWLJCUgySQqBcV0LwhztCgHN4QtiWekIk5V5CBGm0QaD4VEJkF45BKNJYQqLtkUJkKlxCpFRrQsi2F0K0M5dCJNlaQmTst0JwXBFBCn+vQtw5g0JWtqxCRtyMQuAJvEI4aV1C+J0AQjrNtkIwXoBCcGG2QmR+sEKcrKZCMH8xQqjm5UHiObRCEFNmQnjkK0KcN6hC5AQqQuxmHEJwHl1CTEkhQohFAEII1KtB1mC7QvhhuUJY0VFCKD7GQhD8uEF4JJVCZP2OQgCn50Fwyx5Cpiq0Qh5eskKIEHtCkp+UQridY0FWzalCJAUXQsgZekKs/C1CYLKAQvhkM0IE22xCaIXxQSSfF0IAPapC5sibQuiTJEKgcHFC8mGAQnposEIopGhCHJS1QlzCZ0JUdG5Cwvi+Qt7znUIYZatChAqVQsDTd0L2icBCpAwqQmDqikEIa7JBDCFXQjLIukIIPJNCoNOtQnD8tkK4s7tC+PJQQvAaQ0K4v8FC8Kw1QniYhULoA1ZCcj2YQmobrUIoaRpCxFAsQgL5gUI8KbpCBJsCQsCHUELgbrhBhguJQlSPd0LAEopCTD5KQiSgUEJcvrBCMGlgQmSktkJEfa5CMsGJQk6NtEJMTUtCRJLEQmjJEkKmRqFCiE/FQUj2GkJeGrJCXFxsQqo/qULoT6ZCHMTDQlzkr0L4OZVCWDBpQYwUsUHIjyxCFqOJQtyZ2UHUij1CuEaPQhjYBULcw7JCpIWiQfC1xUKMObhC2GWkQiQwvULeGKdCpEZBQtIpskJwZ8BBonSpQlyDwUFeKsBCvC22QrDsqULUipdCfu+vQrxTeEJ83ZlCTACSQiaexkLitYdC9LjGQbRwBULwxbdCOOF0Qu45iUKo+glCXnGiQnzIV0KqX8FC2FF/QiZAhkLUTldCPGSgQQiMmUIEfKhCrBNDQrjAM0I6N8FCztOIQszuREIy4LlCyN+1QnCK/kEANvFBRJ2EQgzvp0Kgf4xChMYkQo7ImEJ82gdCOAoDQlR8u0J67LVCxME/QnCFPUJw3SZC/NNDQgjF5EEk70xCOLC0QkhVTkFGjIBC8JqBQWive0K43QtCIC9+QqAOIkLkpZRCAI15Qh5TmkKEu8VCwvWFQgiVfUJ0p91BUO49QcSgw0IguupB4EJbQizZkUI4QBtCctGXQsSndUJ214tCGCeWQahCh0KgWTZCcIdcQlCZfELIrYFCCKdKQvhLv0LQfV1CkpqnQnyZqUJI+w5CKH6iQnBe6EHULnVCTL7XQVRBQkIIv0dCYE74QAiLKkLQPfpB5OylQpTntkLYvJRCIO7cQBj1WUIohodCoFq5QrirPkF0oytCigyuQhg0wEIseb9CgMUNQmTckUKqvpNCjB6JQkBIgUIANDdCHEikQqyCLkJma7VCOEq5QtiEfUKgSwRANn6ZQgJCnEJMbK1CmNtOQm5pqkJUv0RCMO3BQVxBDULItsBC0u+YQhhajkF4gPRBvNR2QmR5o0Gwx5VCDEexQgjOmUIQFM9BKAouQgBOgEJg2IVCDCxuQuQ9YUJU88ZBUiqmQsLKj0JoCH1COCyOQijFcELOFcZCEsuWQijFQ0KM4GxC1uGIQhJuiUK8AzxCFMFHQpRCxUJgymhBbHCfQkCCsEFqbMBC3s6aQtSkBkLChJhC4OzrQZgOSELo5zhCou+7QsjaO0EgX7BBIli4QijYeEIK3qZCBDS5QRq0w0I4q3RC+AwoQnIltEKk0MZCtgWoQgjoiELuirdC1P+fQtzchkJS3cNCNAOEQhxDhUKA6KlCaEY9QpZLvELw8kdCzBFuQuiVbEKcpblCdDzdQTLgqEI=",
            "dtype": "f4"
           },
           "z": {
            "bdata": "gAL+QT56vULE7LtCHK2TQppxmEJckEFCyLaOQtxDQ0KMbrRCRPF0QqhOpUFkSbVCwE6QQrCZiUKiLKZC6jqsQjzddkL2fp1CgN0eQGZPg0KACFdCSLztQWz2kkLs+JxCLt2ZQjhXEELYHBpBHt64QrSOgUJAu69BUMMbQozrW0IclDlCjJwiQi5MnEI45ylBCETuQSw8lEJ2EL5CtMY9Qi5jqkLgI6FCEFFWQrZZiUIMvhBCDNN0Qj7clEKQq3xCSjObQgysSUIc3iRCjE5MQgAee0LeOZdCuL2bQYD5Q0KCfKpC7JVvQmhcDkIgmA9C9Fe0Qhqdq0JEwn5CjvvEQrjy80GGGMZCeIicQlj7jUKAYI9CkBJnQiTcHEJQOGNC0PzqQW5enUI2matCzK4gQnCeNEKcYHlCoMaQQWQ7OULcOU5CxC5JQmRQQEI4/2VCItqCQhRBdEJc2x1CMEq/QpqggULwHINC4GksQVBoQEJQ+WJC8G2LQcrewUI8/XdCHC/fQabkkEIATmZCPNizQWbAo0JE7odCOKfEQjCNb0Fk5b9BwPlfQmQwWkIsGWBCzhGUQkRuXELAYuxBYpCNQmo2mkKyBr9CSM+1QsZYq0Ig1SRCKvSnQmA2KUJwOVVC8n6AQm6Bp0J4DfZBUFATQkTZT0IgdlhC8NJ5QiKMgULo6YlCqJ4JQazOn0K8KLlCcCTKQYALvEGQog5CnFa6QjAUT0IUco5CuHFzQbwwsELyXLVCoItJQuCzOEJwG7JCoFmmQkCVekIAg6lCumaUQtqFgELEomRChMOiQnDDN0JwwL1B3EZ8QvBVg0JAgP5BLJfDQbiTQEFOOrdCWB03QSy4IUJEskxCfF4tQj68s0LIMENC/G2PQtDOH0IGMblCKEx5QSyINkI40TdCLpLFQijYmkFwz85BRqKEQuqZnkIAdTZC/gu8QqBkX0EgaWNChrmEQhjum0Ko0h9C6DxnQt5inEL0va1BiNlpQZgib0GAMaVBzDS4Qrj2EUKYM/VBnOdIQqiLeUGEFj9CkC6UQsgNEUKytY9CCOkpQqQYL0JAW0hCFluTQvrgqkLupaJCLNGXQhK/ikIY0u1BuLeWQkZUsEL06jpCzC0tQiSKRkJcbJ1BdMgEQpiDDkIIPTJC4D6PQQRsh0K2FbBCuJfDQvD2x0HKxMVC8iSSQvTcT0KArL1CarKzQkCBhEJ0PJ9BmF2qQmQCg0IG9LRC6NXYQUAacUGy5oNCzK2hQnBqHkEUtn1C8FDxQfC7KUGwlT1CuCIlQsSMekK8XZVCku+tQkSYtEJGordCIMisQvAef0KQ/7tBFvzCQq56o0IQ/+1BOMnFQko0mULswQZC7A5eQsLVhUKAartANgmfQsCC/j+k26JCQBHNQGhPF0L8ylFCMEqzQUQagUGMHV1C6v+sQsrVnELgTmtC9gC9Qpo0qUJArZ1COAbwQei0akJQhbpA3gioQtgH+0F+B7pC8j7CQtgAG0IwhsNAgB4zQLrNtEIcCYpC6OKjQvA4w0Io9ExByDqFQVCpAEGMnlhCXPfEQnRzakK0ibNCtNkmQjhmOkIS9bhCpHHbQfLMgUI0cZJC2BerQrw3GkKotSNBkKVdQlh7j0LA6CBCIIe3QZiyVEJ8PbBCnte4QhASc0KInXdCvAExQrABgEKEXKNC2LMCQlCUlkImG4dCEPiVQugnGUIUeZxCVEBtQkBwSkKkVHlC/AJKQlSFG0J0dlRCNMiVQqxcpkK8hb9C6DcGQqS5IkKAcExC4GK0QrqThkJMXGJC8ki5QhaWukJcSI5BLJYNQo6yk0Iw45ZClOk3Qqx7UkI4pg5CNL0oQop0oEIa3LhCmJNCQlDw8kE=",
            "dtype": "f4"
           }
          },
          {
           "marker": {
            "color": "#FF6692",
            "line": {
             "color": "black",
             "width": 0.5
            },
            "size": 6,
            "symbol": "diamond"
           },
           "mode": "markers+text",
           "name": "Cluster 6",
           "text": [
            "C6"
           ],
           "textposition": "top center",
           "type": "scatter3d",
           "x": {
            "bdata": "/9QMwg==",
            "dtype": "f4"
           },
           "y": {
            "bdata": "n4l0Qg==",
            "dtype": "f4"
           },
           "z": {
            "bdata": "lxVoQg==",
            "dtype": "f4"
           }
          },
          {
           "marker": {
            "color": "#B6E880",
            "opacity": 1,
            "size": 4
           },
           "mode": "markers",
           "showlegend": false,
           "type": "scatter3d",
           "x": {
            "bdata": "MItPQnC/jsAdm2rCoBbgQAQp3EE5VlXCKDSQQcbMvcIwqQ5CAPkRv/BvlcEAAM28XV8TwqjJtcKZrk3C1COZwVr2rML0rlhCQNfDQB4hgcKRf3PCzU9ZwmTiosHMi4DBAssewhioNsEsKlzCgDb1v4caocJE6zpC2GBFwRKnCcIh7k7CILeFwejnQcHN3H/CtmRTwkAha8A+QCnCOCUAQkCq+7/I/UVBcDX7wOuvOsKsQBzCI655wmSsEEJYuTZBZDuRweABNMA4dw7C4gUMwsigTkG8Jw/CuJr4wdDTPsGCCzjCU41jwkBTmsEWGajC+HvFwQBXV0H4y53CpJM9wn7ZlcJrcTnCfFgHwgD0mj2NWhXCeCA8QhDJskCAENhA1DWvQbB6HMGoRJnBQec3woy6jcHgO7RAPHDNQeLdFMIAHfPBKD4hwYBGL0Ei7hfCzcFLwti1fME+cBbC19e/wmiRJsIPrx/CcAV1wfTL/8Fg7ojA4DdkwZDeIkIFQyPCmQhKwrpJjMJ4h/rBgGdTP7fFPcJAhrbAUHCOwTKzN8KM7obBb4llwlQftsEQR27BTAeRQbYplcJQuETByIhxwVcVJMKBF1fCzcqLwo6xo8IZ3RjCqfu6wuytjMGK3RnC4BTAQeQqFMIxqx3C4AbQQDaTgcJAwdzBN+C7whPmJcJR56zCgJQfwKWYkMICnjPCYMz0QMq2gsJQd7TA6LC9wSDHicAAhGg/vL6+wRB/lcA4YpvCOGIWwhgNKkGAZ7nAaA2gQeylrsGk6ITCyKvEwUzOiUFSaK/CgAbOQYmxVsKkpwTCQFYOQCgHEkGS75TC/1lZwmD1rsHdfTnCoEpSwEAkpT/ylRHCvKPzwZurbsIweU3CKMb5wajCRkLQDu3AnxeqwtxO1sGmJFbCSEaywdoHCsLKgo7Cn9gXwrNkG8JrrDDC6IrjwYDmAkBe8UrCSCRGwgAyPj4Qm6nBCLeCwZCRIkImfavCo2wbwrzxxcGeHQ/C8EuKwWBvh0BwgqTC6kaiwgyRHMJw4UrCGLt1Qa0GTMKEN6dBoJnpwGQXicHzrkjC+ICJwujIZkGplVfCg8qgwqSDQ8IA9IFAvoJkwiBxKcJtaoDCUIfkwbwHrcGUXgrClLbVQaroIsKABeq/cztCwk3GT8LAO/O/9PKjwQVdssLQKPTAkOeuQNAgC8Gk2qlBYVSiwpI9FsIgZYXCZU8twr3TpcK0lcdB1FbIwajoJ8GH96/CCBXKQeD/uMDvdlrCONKEQUoIGsIG6IjC2C5FwVT3wcEsVqBBcxtJwnitJ8GMb7fB7BUKwsNQW8JAYwXBjpMCwtzRq8FfBMLCMDoJwSVENcK8y5nBACtEwREKO8IIaVHCZCzMQWhgq0HgwCLAo68hwkhx6MGKDr3C9tEFwmB6k8Gs095BSNTIwQ7SxMKuNsDC+7wawpAsKMELGzDCLw4Zwj4JoMKAV9nBXgGkwgDfd79zr0/ClJrFwU70ScIgNF3AAnsFwhq+ssJWQ07Cd4zEwkDbRkC5DJvCGIFRwRD4nEH4YUXC1BydwjD1m0CAsJo/9uA8wgD0UMH44BfBRhOFwgAXHb+daCHCfD2qwbwRIsI4L4tBFN68wfgNwsFXeIXCFZSswmASx8CxbJHCRLDHwdifPcEUwaLC0KFcwajj2cHARPDBMFY/QS4ZU8Ioe1pBaPlRwQ7tFsJQ/7nAaM0HwWCuScEArok/ieSSwkB91UC0n0zCEM1IwTA6i8AEZKpB6CWqwtB2OMEWfUHCgfNjwtTmjMEQ3O1AEJa2wpBmQcHiHVTC6GTMwdA6kcKAUhK/iwCQwtgdl8FUrSnCDxyKwsDM38DbvmLCcDHwwSs6Q8I=",
            "dtype": "f4"
           },
           "y": {
            "bdata": "GMSDwqB4YsJ1bY/CjTx+wnDTLsJUV5bCUKtlwmj1s8KVf8TCiAUTwpBnRcHs+I7C5BDfwVgPtcK3K3LCjNbHwghEpsJMv6/Cgixjwu7DjsLoFmLBuB0HwjjLRcGezy3CKeAnwsgMh8LFt4rCNWePwuFAVMKPiLXChlJIwlldlsLgxIHCLTUgwkpGGcKvsVTCpyp8wiTrUsK4jOrBRiJVwhINnsLm1lvCIPWKwR8OpcIPlnzCWuyowrWwscJntWnC3Gi3wkgVRMGmZanCmEmKwstuh8IztT3CoqNlwnQ+x8KIR/7BAISZwgDESj+C4CnCVAv+wY4TxsKOqlLCHc/GwmS7j8KJRrHCQO0MwqC63cCAkITC0kSMwoFSScIcDNTBJMFFwsaRBsI6WlbCfo99wkB56cHk9aDB33WpwrEGh8JngizCz42owkqRBMJX92LCEYG5wsCMGUAACLfBNv6zwg/Nj8I0eaHCdh+vwsDIur+kzsDBBJDLwdKFgMIUmIzC+5dWwkvwlsLMWIPCiMYiwZg5gcIy+IPCTO3kwdZqcsJRCnvCCs86wtaENMLOX2LCUFW2wkKqd8JJYWPC1mnFwlZMX8I2FJLCSuM/whsOpMId2Y3C/Y96wltTkcLM26bCjcqVwktaOcLwOdPBg6s9wtAQ1MHNY1HCfXIdwlyAa8KC9LvCCC+3wYs8hsJc6LbCswalwoQguMKPp67CbzGQwkS2wcI0DIzC9t2DwlwUgcLmoxvC7BqkwqhnDcLF3rzC0LSzwj7dWcJGNobCVYJmwlI1gsLY43HCQVuewiinCMJUwNPBX7yPwnxggcJk3LHCzk+ewgvdvsL8LQ7CZrG3wt/1isK4aJDCcVyNwsbXOMIQpnHBJtuOwi+bksK/Pp7CPsmpwkT7isEUGKvCWTifwt0zuMK8G2DCvQE1wg5fjMIl1sLCKBlkwsS4ncG5rLHCUZCZwh9dpcIYGebBwOqNP2Nhu8LwarjCye48wqUzTMJgU+LBy0p+wsnJtcJHi7nC0u4fwiGki8Kh/pnCkXa0wkSVlMK2wijCSmTHwkyKNMJyxbTCp7W3wlRGpMJFGYTCNwRkwivsxcJnASDC9IjrwY9QlsKW7InCI7IVwkyaB8LyXavCLf5kwmvcQ8I8EoLCHNOPwiJ2xcLsN8XBSy/FwohItcKQjZ3CQ39twujMtMLOMITCCgOEwutgxsKoNEXC7JO/wphTzMFfE5fCNmJ3wl4EgsJU58XCIHmsws9wmsKwmZzCDC62wmVercLVl0XCz8mawsLrmMLDZ5jCBJjKwd0XZ8I9TL3CVz+7wjpUIMJgwaPCkZ6OwjESf8L6McXCVmS5wt/TxsL9iUvCkdttwgCRvr5nimfC3/UkwjtHx8JfIsfCwbKYwh/2xMKlzH7C6EyswsF0e8KkrqDC0cUVwmsonMLFFHXCbseSwhazvsJYXKrCZO+MwsxPLMK3xqXCLr2EwuCnVMGG4TLCCmuIwvKAJMJ42ZLB8RHFwo5xj8IebGnCmN2DwgBL58EhHxLCe5AYwh7Rs8JtxK3CtZC2wpCcKMKP6KLC7ezFwlRGvsEOUInCvNeBwfDZtMHGGJDCidA7whpzlcISGZ3CfL7WweBrWsJxSFLC8Oa/ws5Ms8Ky9jTCOgMCwj58j8JZwLzC7AmfwYvmYMJk15zC0D6VwYZcbsIu9r7CdqdbwqdLR8KCqT7CRGugwc7ivcJ8I7TBu3apwhcDpMLOaU7COpmmwodLrsKuDWzChCERwu6XR8JEk53C2v6jwsYNbcL8uJPBC+jHwrA5W8KMTm/CvhTGwiqkucJA+azBmCCxwhCwycEuHj7C5/+uwoh6b8LaR5nChBRkwtcfVsI=",
            "dtype": "f4"
           },
           "z": {
            "bdata": "uOnFQnZOhkJkuIRCvPerQkRfsEIUGm1CUsGyQjAs5EFASahCQJJqQsAAqkJwtjtCWHBYQs4mrkKQRJNCTLKmQejfwUJSvsZCchSeQphYXEJSRLRCFj6xQpgWtULEOchB6pPBQtjrZUJo5R9CihOFQljFxEJG0bxCmq+wQtYDukI0eyRCzAN/QtRMK0La5cBC9HFgQvrZpEJwrqZC3B25QuBHS0KMHUhCLLizQnRnH0J0wD5CxJpjQhqHtELAQ7tCpAC1QjLNhUK4uZxC6MTxQUAqhkI8ShlCEDiFQnx/nkLyucZCoNsDQuQsx0LAx75CRIhxQpCbj0IEzKJCzH9/QmSmOkJq0L5CUNFtQvyGaUK8gsNBkB25QroRxEISxLdC0Lu7QmQhlULobIhBbFA8QhalxkKY4mdCTia+QgzLZkJ+wIJCbM/FQXbrm0LiKo5CrijBQo4Ks0KacphC/DJnQipBgkJIE/tBSA3dQQRnxkJ87cBCSHa3QtDOxUK45shBrjOuQirRwUIG6KRC9BN3QnQrn0LsUE5CQI9lQlCHUkJ2dYZC2OWjQqyluEFAhkFCjICjQlxPn0J0AURCLHJVQoj4K0LSY7xC7PeiQthvckKQ5RxBnGxtQjD5ukKIBgJCYP6NQqggdkJMvK9CYpi3Qm6/rUJujb9CDrC2QhQ9iELYbjNC/jidQjASSkL4G4ZCsrOZQiBh30Fs4WxCvIIYQtg5vULQJIJCqO6GQrCZkkKKKcJCVuSaQiRruULIP6pCzjG3QsgznUHIJTtC5Nm1QvLWg0IEbntCfNqAQmDhr0KodFZCzl/GQjgvfkLwRnZCMIUIQkiF70Eq67JC6BirQvzMo0Ie0rRChDBEQmjriEJig6FCMrugQgxCvkK4TRNCLL+zQmRrxkJAUZhCUFtuQjwupkLINldCahOHQoLuukIIBJ5CUtubQhQYQkJk2FRCsAumQlCQtUIA4zRCaD+jQogAu0LQOxVCwmKsQiqookJoo69CpMjSQVZkxkJczZNC6JaxQnAIBkJeHI9CdAJ2QsBMaUJoerhCgIgXQvA7qEH4o+5BznuIQhSMw0LeMKlCZIXAQjDXiELsCbBCTj2pQowhv0KMAURCCG8eQjy8Z0LcRnZCTKt7QijyA0JkFVZCqOq9Qpgup0JqyY9CwDrSQUTvrUKIQX9C6k6GQp4Cr0LYxplCFPldQqhZDULODo9CcPXjQYzWwkK6U41CIJstQfIpt0LolwhCPHKhQlgnk0KQgztCpIh6QjZao0LudZVC+nOqQniqvkFm3rNCQNV/QrCmbEJgjK1BJM1wQoqmtEKIuNtB4OB+QmRcnEHcN3BCJDoEQtoRrUKggR9CPA2zQrB8w0IQZ8VCCheEQnwKjELYPzhCJH6dQfZgiEIQRGVC0K4/QehOJ0K0KJ1CUDTCQqj5q0Ks7ohCTMAYQqyxeUKMibRCjoOOQvJFl0KYH35C1rq0QsgKJEJq0bpCqH38QW45sEI2sZ1C1DG3QZK3lULSSLdCAKiGQubQlkJUzaFCXgC0QvZoq0Ko9fBBJMWzQV6vnUJmqZxCvL9BQlKsokK2L4FCdsLDQjziO0JcC6RB+OuPQQDsCUJYILxCtK6mQrDIyUEUhDtCaPhJQrixB0JOWq1CdMGAQsg+sUFsDa5CBhCXQlBQQULUbK5CyCS4QqC4vkLcEX1CGLquQn4qxEK06alBeEGBQrRgLkLo+MNC5K+KQrC3jUI09SpC7JWbQgTzBEIsj6JCapW4Qogxk0JILGlCnEVPQlz2nEJ0jKdCCApNQhYAw0KMpbpCPMQ+Qj4oiUJGXItCaOdFQiCPO0LoZrtCxLqDQrDDrUKoW5NC9l6WQuCAoUI=",
            "dtype": "f4"
           }
          },
          {
           "marker": {
            "color": "#B6E880",
            "line": {
             "color": "black",
             "width": 0.5
            },
            "size": 6,
            "symbol": "diamond"
           },
           "mode": "markers+text",
           "name": "Cluster 7",
           "text": [
            "C7"
           ],
           "textposition": "top center",
           "type": "scatter3d",
           "x": {
            "bdata": "x4f0wQ==",
            "dtype": "f4"
           },
           "y": {
            "bdata": "wjlywg==",
            "dtype": "f4"
           },
           "z": {
            "bdata": "HSuFQg==",
            "dtype": "f4"
           }
          },
          {
           "marker": {
            "color": "#FF97FF",
            "opacity": 1,
            "size": 4
           },
           "mode": "markers",
           "showlegend": false,
           "type": "scatter3d",
           "x": {
            "bdata": "vRucwgWoZMJaZKLCH3+/wiqDYsKUIVDCDTa2wrkWwMKrZKnCW90bwg5sjcLkAEbCveWdwmXHosL23p3CJ9CYwl1ehsJFLJDCy6GlwixC48Hg1hrChS7BwoN2psIcaZTBQyVYwjA8lsI7h6nChDPBwUwoAcKYraPCT2kiwgcnoMIMiQnCdcpawpJ0T8LE/IHBP+2/wiSGtcJQ94TBI3Wzwrxb7MGwjkbCWy7DwqDnssA/tbzCk1Szwh7KgsJ94EfCr1Vswkw1ycFioI/CECJnwnuJksIV48LCtS4jwsCYl8JEm4HCoMOWwk62i8Lb4qbCcfqYwvAptcJQHtbBwsuVwllIlsIA84XCaFonwg60QcIyYl7CV31qwlU8UMIlenPCBt07wsjlZsESYLLC7HGFwQzb8sHPnpDCQMAfwGgHYMHAdWzCPHJOwrAQc8LQ19XBAXNUwpGHisKYHF/CMbXEwtCLDMK9fl/CHGmUwoXgrcKnbZPCUnwjwmzsU8LQG4vCuVN8wlBzucBy1JfCIOkUwQrzNMLHYE/CpPJtwt9FSsLk/YvCmNXiwXGmwsKQnPTBoM7uwECMicJUPgrCgGqvwmDeg8LNZb7CroR+wqk5psItiJnCqqZ5wgpbcMIxQEDCDcSZwpvfjMKX7rXCBve8wkGSWcJ0OFTCOaCtwiX/dcIARFE/IHiLwqhdicHxIpzCWoWdwkjHhcJAw7DCXvQowrY4u8LYx+PB31BmwriqBcJsZufB8TFcwlyJrcHZ3lTCDGZbwgDsoj64IArBrkg4woyZG8LTM4zCGIoZwV/Iq8LYLcrBQCcOQCHGbsKYTN/B0Em8wjAcPMKwg/fA8xUvwtUppsJCfSbCQFoGwfbXpcL4+4vB59eQwj7fuMLX9xTC5ABJwsCgtcHw0RhBgIF1wU+7pMKQpZXC/dvCwoSX1sF4UITBk4uZwlgJgcHhSDXCMGo3wkFfwcID9BvCVTNXwtbntcKKOqnCenVpwjj7tcE8QLXCyKnIwSYtEsJ4ZqDCkQxVwvBvocHMGy7CuHGTwoCfEr8Elg/CUOx4wUeKm8I8MxTCnEKMwnonm8IYknzBGqmEwkDv5L/cmmHCB19owvC6tMH4Z6bB5g+ywvDrfMFITFHB/JWDwqDpW8JwgwnBRZZCwiO6sMINb7PC14pKwnKLucJQN6pAKthCwoASLcGuQMTCXqjHwsUPNsJ4AH/BYbufwjn9EsLOJEvC3BU/wkmygMLks67CwLiTP4YHkcISIUnC9m5YwhS++cFj9WnCsyE7wiBKz0DLfaXCTvAPwhQEjcHowmjB9cx3wixJAsLybULC4DkRwrGKisLxAp/C09+6wuCRHMGTbpTCOIy6wmwElMKk6IDCcNNuwUTrjcI5UYLCGbUbwuDsw8Egap7BtVrCwrBAAsIIV4/CaL2CwniwysFbCHDCNix6wkzn08Go1kHCBTWNwvRUysHhEDrCtDLvwcUfrsJYi5PBiaudwoyXnMHIMInCMr8IwrPIc8IP1YHCLPOrwYAZ4MGUR9/B/x2/wgTB8cGIni/CM26awjzawcGAO3PCKOUswZqrnsJQEHnBdgyjwocBMMJR9L/CLM7swZgYwsHAk4PCmxtdwuRyqMKt1B7C9stmwkgkccHySFvC3FCLwmjo6MGYU7/CX9KwwvbAssJVoh7CdhNCwp+ciMK81arCGOzsweA9o8JYD3PB5DzcwVIuo8K2mI7ClkUswsDUtcHIOzLC4s8dwmWUv8KsTqTCzlOiwuKZcMJ3Nk/CgTWlwgAUKMF4E2DB9VtFwkZMVMLurbbCaB0KwSjdwsGIVD3CdeWAwkgCwMIoJ5PCALsJwkTtSsJbeazCAIl2wVUzucI=",
            "dtype": "f4"
           },
           "y": {
            "bdata": "cEdGQgxLMUJqpMZCwKHFQWZXoEIACMpACMJsQjKNw0JIlBxCEFY7QmS4SkIYJbxB9PKOQiAOSkGQxsVCvEd4QuQGc0IQirtAro/CQoJPmUL4Kf9BgDZ7QviWwkKUe4pC0HPaQMSSqUKA3aY/utKiQp4ZpEKWbrpCNAd0QvJMtUIC2Z5C2MRpQmQ8KEIIrGhCQIj2QQwgsEJACJ1CYj2vQoL0jkJQIJ1BEOWpQQTNjUKIyXZBTNB0Qnhjj0Lw9JhCnDN7QvB54kHyvpVCOBDtQWiUNEG+dq9CULmXQGIBxEJA2sJBGAeNQui5L0IQs5RAEhafQpQYMkJEERhCaHWHQnBX+kEwf+VByJivQhxevUIEpTpC7mmdQgClaEBIAhJBtEfDQrY9pkLUyqZBMD0yQqDTc0FMi6BCilanQrCvrUKinYxCGL0HQjBQj0CgzH9CgGghQkgPxUK4LkhBkNBoQpiYeUFc831CCOWOQqC7H0JgQltBAOL3Pkx/KkJYKX9BAOeVQhQilULMtKtCrHyHQsCn2kEArMlAWPotQqxAsUKAI7NCLA6cQViTZ0Gw9/1BtGplQvx0vkLwMcJAVFfCQrTjekLYss1BYJy7QWAYZULkt5VCTKMmQjh0s0LgtlZC+DfKQTgpVEFQi2tCXH6CQoYbgkIMuDJCCCFmQXj/c0HQ/r9CJKZpQpzJTUKgEy5BvIcHQlzXV0JwtVBCIF1EQcwAnkH4N2pCisSGQuj4GUI4kcdCOGUKQqbeiUJ450JCKDCPQeAOZULEF8BCMG65QgCN57/QmIJC3J9zQvRdakLgR3lCSvaHQuAy30CMHsFCNE2WQvi6NUKAsy9CqEq+QSBUFkEM+p1C8BxJQjyFvELwCn9COH6nQuAf40FqnsRCwEEVQXAXiEKCvapCaINdQnLVwUIgkERAGGWCQqR1rEJYHZFCxPMuQqrcgUKUGjZCkJG3QdoEvEIwDG9BQtCCQqAMjkFc9ShCHA0NQtxuaEKuGrRC2Fg2QtxKUUJCcohCQPpGQtgqaUK0FsBCho+uQvR2lEK0LGFC3syhQthNgUKI2D5CLOwyQpS7Y0IKdq9C1GLHQlB3iEJOTLNCvLF6QkjlcELyk61CpFN9Qi51r0LYdl9C/u6xQpACkUGaPbxCarbDQhyQkEEwIB9CFDYmQlBT70HsMm5CHj6vQoBDFUKugrFCqFalQohrFUIYGpZCWIdWQagUlUEsbjJCaG5AQbg5G0IQqHZCLkiNQthNe0JimYVCltOGQkQ3BELg5XtCYhqNQjoeskK4AllCqOedQXYOjELQALpCUAqsQFB/ykEQAqlBKEUmQnjsAkG07EJC+KjHQsA3QELuZolCwiKPQqx+MEK8hEVCOrqzQmA+HEIgfFJCEIWnQRTxYkJo5ntCzve2QrDBckKQc6pCDD5TQpi+e0I4vqxBRH63Qbg2YEGemZJC4Jh6QmDIL0KsYXFC8AprQmAebkLSC61CZHgYQgIdpUIw631B2B/5QcyEoELY+jNBSr+dQnS0EELyeMNC8HMiQhTu30FstA1CNCaaQWxMzkHwj/VB0J6ZQh4zuEKkOGBCQGlpQoDQhEAgkY9COM4zQiD/O0KwcypC/FdYQhRYEULQADRCwMaMvzBvwEJExbRBzCOxQtiqwkHgEz5CZpaCQiz8UUKmy8RCzGmnQgAALkLIlvNBnJ6XQghahEIGVoZCFJHHQh5zsEK0ebBBjJ90QvyXeEKAcCFC+BGrQfCPMkK6c5RCbqaaQgAf9EGMi0tCKFMWQbAPSUJQ87ZCYKcFQshw80HWOpBCctyfQmQRnUKQUGhC5D+ZQZhQMkIAXR3APvyeQkDx1T+Izu1BwHoSQoAkrEI=",
            "dtype": "f4"
           },
           "z": {
            "bdata": "sH1bwTqWQ8LAc4HAYhqTwvgA0ME8S2nCHmwfwnbnTMKFhqjC4CyGwlD2u8Kneh/CoHSYwbUro8IaX1HC0Tq1wtgCf8JwhpPCqVVywmrQTsKMAbnC1RMmwiiE28Ew1srBb2NewixJq8GnCUHCKA/1wTz0CsIcmvTBH9KCwlChkMHc3rHB64Utwl3QbsIcLqjCNMOQweS6/sGCoZjCVAI4wh6VT8KIQorCReXDwoo2O8IMt+/B6osDwoDCtkAAbIY/cBmzwKCoDcJghsLCuUiDwvOglMIz4anCBb5GwmT3kMJeeaLC5OPPweyVvsKTSBvC8BfcwbwK7cESxrPCYB3iwEUuacIQ+B7CZbw2wuD6sMCC40vCozmPwrpohcLgIk/CrdeNwnzuCMKcqrHCFYKjwhzZuMJSx5vCf/JMwjN/jMLeULrCl4V+wi5oBcKwaa/CtCCZwiJ7dsJWv5LCK0Atwp/YJsLpkcLCpJBEwoZ+cMJtnBvCV0mwwojCVMEYIWfCQIO9wQUZi8JAPBVA3psNwg2JOcLV/7bC0B6uwHUVosKgjHHB3Havwt+Sl8JvQrzCclqQwuCxmMDFNsXC8O+IQOgC1sHWvGHC5czAwpS5jsG13kLCpKKCwYhzh8LYMofClFWPwlnuqsL5AlPCZeoRwgC4/L64LFHCuLU3wgsAdMLC05bCpWeJwp6Ll8IeXpnCZIuGwv3KkcJIjrvBgV2mwrytkcIMWwHC5tFwwnBQx8AsjMPCUIf4wQEfF8KhirzC3UBVwhzKw8IzkZDCJI6hws8vo8IApqY+sYe+wmAieMH61rTC2Tu5whBEAcJO/rvCqSBhwgw9z8GsJb3Ckjeowv96TcJcobPBnGaOwr9BosLelEnCPrQJwoTHfcI2brrCfyOfwoBdrcCfkMbC+kE+wihSwcEiD73CkHfAQA2wSMJHwyvCPRsiwnQ598FAlNE/QCZ4wfSrqMHI5cPCPL22wckOI8K3OGPCMGGBwrA1HMGh3nPCG7HDwqAz1sGA7IBAt+KJwkAlosA6oV7CABNMQHa1ZsLkgtzBOXtJwsT/uMHeIQ/CmU66wg0MV8IXarfCinS7wiUEr8KGOVTCkNcawqDQg8DmMY7CQ1hJwiwXhsG44CnB3UgYwmKFtMLZfsfCdr9IwlVCGMIEK47Cg961wvVRbsIuc6XCAMKCwPrnuMIoUCVBGKgEwplmH8LKQIzCFG6KwoPkpsJsF2HCTLD9wQAj8cEgMq/AyL59wnDGrsDQA6PCIJRewaxOuMFWO5PCwq08wmusosLoSAvC9tjFwoC1QcLAiVzAPfOQwvz32cFP/pvCMo5bwkGyX8Kc8IXCwBK4wmbGP8IsX6XCkMmBwQiqZcEQ5YfBUEYEwmaohMIVkrXCgC08woalk8IA28rB4MkdwbhTXMKs1ZnBMNUtwRBqdcH1cZLCYB/CwkQQnMJRlpjCIPUBwKjexMHQ36vBfb6swp0NHsJ3ebHCGD0CwWSWkcIHpnPCd162wsF6fcJwsp3CBUyRwhC+0cDoQ7nC9VTDwkzlsMHExYjC+891wkG9h8J9FJfCC0FmwvTKDMJIB4XCs8xIwnQDIsK4vH3BVWOQwnH1g8IAu5K/bC+hwQfucMJWpUDCcN2OwgDfZMG6F6vCXM2DwWqIp8Jj/arCECA2wVBAWsFAtu2/+ICxwh41fMKoLo3CmO8DwcCXYsF2W4zCrucNwtgXlcFWi4zCPBPGwYvjqcJwM9DARscZwl2Rd8Jd2aPC0xVSwpQGu8JAq9XAcc6cwgYECsLUVJjBPZZjwlBOicEu9ETC7jifwmpeicKArW/Cn0JDwvCfMcHE0JXCwJyVwCa9BcJBtMbCvJy3wpA3i0A=",
            "dtype": "f4"
           }
          },
          {
           "marker": {
            "color": "#FF97FF",
            "line": {
             "color": "black",
             "width": 0.5
            },
            "size": 6,
            "symbol": "diamond"
           },
           "mode": "markers+text",
           "name": "Cluster 8",
           "text": [
            "C8"
           ],
           "textposition": "top center",
           "type": "scatter3d",
           "x": {
            "bdata": "QwRZwg==",
            "dtype": "f4"
           },
           "y": {
            "bdata": "z0hgQg==",
            "dtype": "f4"
           },
           "z": {
            "bdata": "YyZUwg==",
            "dtype": "f4"
           }
          },
          {
           "marker": {
            "color": "#FECB52",
            "opacity": 1,
            "size": 4
           },
           "mode": "markers",
           "showlegend": false,
           "type": "scatter3d",
           "x": {
            "bdata": "IhuhQvTXxUJM66FCAN2aQoxlvkK2B4ZCQC2oQnBmFkHIxcNCeLbAQa6NpUJoBMNCSE2gQsRvK0IwRmZCbP5RQrB1Z0JU2JJBmCWBQmAdx0J0TmNCTCIoQgqstUJkMNhBYiGBQsiQ2UFwOipC/IN9QoI6kUJ8K7BCgGsDQiw0o0Kg/nlB5pieQpxKpkEskyRCSI34QSwuT0Jw2OLA7tSCQtD3bEIkaAVCbl2eQqDx6kCwf4RCDHgVQvR4jkKgZ6dCtNeBQeiQM0Kk7atB5Lt8Qtq8sEIyQodCSHQjQsy1mkKesJ1CuBguQvDCLEFAs4nAEJ6bQkg8lUKohN5B4N0VQqAxw0GgKOFAeDyQQsiIh0HE5p5C+Gm1Qs4kr0KQa+zAqItfQgDgIUBA/OdBnBqbQvSWBUIAtRy/wK1UQe4sj0Kga7xC0JqfQOANOEIAXVnAkqS2QkxZj0LQu3dC2Nd4QYB4YEB43U5CFiePQlQ2L0J+Ap1CjMCOQrh1HkEmjphCCPp8QsyeBEIQb2BB5PCOQsiiM0JA3Ig/pF7FQXAztEEENBhCZJ/BQggeJkEAQ4FAiNSwQS4jiEIYwTVCuqiIQkB5D0IA3BFCmO9vQiTgN0LAmABCdD0JQmiAY8E868RC+B1mQmoLnkIQBG1BUDMtQuANUUJwEn5CJF0cQvCIDEIwIxBCAPT1PTaXxUIQjLhBrpmwQqA6JUF2ObtCpMvBQnRYL0LU+zpCFEupQgT1CkIuRsBCkM0MQghd+kEoKBdCFFpwQni2xEFMDJNCqLZYQVhJFEKIdnJCkAM2wchQmMHg8sVC5PxfQszENkJee5hCFLvDQeCQGkLSTLhCeMRdQZysQUIAAB+8iFG1QlTSuUICjrFC/mDDQqYamUKOqJhCtNpAQgwicUKQTghCyKo1wZ4EmUIU8oVC2No/QTD49UGScr5C8OwnQkBCMsB4kkxBmlKeQvRoOULwQ6dCICGcQkohl0Lg9zDAPBHHQj5wp0I4jGRCwFQKQtyVb0K0xUxCwMt3QWCtBkIMqQVClDglQjBmSEK4DHhBmN8sQiBuPsEE29xBlHCWQdgdM0FIbU5CArGfQiRbhkHgkEDANJo5Qjx2s0Kk13ZC+MjGQsZopUKAWa5CMs6kQrBsjEE00sBCvk6iQmDMfEL6dolCALhAQbDGzMBYApnB9CVBQtQBikF0Q7dBSK7oQZxZuEHAkcRAAK3ZPtLkikIkfVlC5J0wQmQ5jEFa0oFCENMIQeCGBUGgZm1BuO40QmLtm0LErgVCiLaxQhDTs0EkeVpCANtPvyj4BkLkU5BCGM87QpgwqULOtLdC6NVkwd7+gEKAgf9AZC3BQSipMkEgj7FCUJlAQvy4NkIoKqdCQO4OwXggJUK04RRCcKIuQshfZ0LQz3tBgPnWQWBDLMBwPqRBELCyQOiHRUKIxqpCaCJKQrYawkKIek1CCJfmQVDGGEF8ooNCUCCMQuCAuEIyBLFC6CX1QcB+LEAgG73ABCADQjziNkLKyLFCYCBwQs6/mEKI/OpB2BGMQmAroUFEVkFCeB+KQhCbI0J0GmBC8g+YQsxxLkKoSgBC8F2QQuDvikJIou5BcBmjQtAyNEI48StCoGWsQig8K0JUx31CNG19QijYZ0IYDOpBoOfvQZopm0JY2NFBOIl8QsDgOEI626NCxOC3Qm6Uw0K4245CsAQUQoJ0tkIWrbBCiExwQlj8PkGgqQJCaHqaQngvHEIgZU7AYBhgQuqzjkJa1alC8EK+QECc6EBULcRCIPeLwHDE9EFSBINCUKWSQRRNxEL6GqtC2r6fQtKyikKgpodCIvnFQoD9gkKoESVB3A+AQa7Gx0JQFdFBKJw5QuKbkUI=",
            "dtype": "f4"
           },
           "y": {
            "bdata": "8YC5woXcwcIHs5/CPm6kwniGhcJHjLLCMbkjwgAwusJ3ocfCAEi5wk+xIsK+fUHCTkyZwltZxsI4GXrCpAyAwmTiocJJOqzCJgxcwl92v8LTumjC/q+cwprHkcI6oVzCK4BswjX7rsK+zpHCSsKHwoEpk8I6NqDCTRI/whH6dsKIKcXCcn2VwqYKbMKZHHLCoHeGwg56x8LpHsHCRdeRwnGQn8KwlLvBpYjAwpV4q8K9RLrCG8hfwq6PisIMLIbCFTjAwmqUJsLRpZDCYRF+wtiHrsIuK57CZIMswv4LXMIXhnDCFw+Twn/kncIgP7bCvuczwuDzq8JeUYzCBc8zwnHwMML+fXbCdLIewpfzwsL6e7XCsIPnwR1Zs8JqkkPCZmFbwhjnucIyt4nCkWdGws4rNsJdIL7COoetwrKXjMJwnPzBr2QQwnScocEY+BzCOJe4wue+xsIcbZ3CbUyuwsAdjsLclKnCfwBDwvyM1sF9mH/CX3uzwlarScJepbjC0B1awpy40cFw1dHB5ukXwrkgqsI07IzC2im3wnUyvMJIzW3Ct7Exwky7/sFqYjzCX58UwhUcvsJix67Cs79EwgQDhMIeBMPCZxi5wk16xMJ6WH3CqCEmwoqOs8JYUKLCfKnBwaobq8IMirTChhiMwsUceMIqXLTCiFyywnAG4MHz5lTC5xGIwpJzVcIerGnCGPVvwq6/isJ5hbTCWAKSwoR+ccLMyabCmcg1whDCqMJXgMHCOX2Hwljcr8JhNh3CZjOHwvBWocKjchLCtCEGwpTrrcJcpl7C/+Q4wow7pcK+XzfCJXE/widNx8JJY4PCPvC7wuxxLMInS7zC0rwKwm1HiMIjZZ7CTjfHwjV9EsI0xOHB4Be1wqrMcMIWDqDC6D6cwqMcW8IZgynCtOqNwsu4rcKueH3C6FJlwud7ssJIivfBdIxswiTdMcJWgp/CqkGPwhDkxsJ/SFbCDAizwjcZocLw/vrBJ0p4wl7Gm8LvpMLCnpuvwkXqkcIg433CmBGswl7jbcIAA57CqgScwjGkicJBr7fCrdNQwl6ivcK2z2vC4T9Pwg3Vm8LUJsfCJlSTwuOErsLvmIjC4LVNwtg27MGWGKXCvveSwgAjt8L/irbC4f6owquRKcJWlpnCQhINwr3LocLkiJzCBKVjwopJPMLQb7zCsi7GwsB7icLUs5vCml8kwicMpMKLrzXCVUZFwqxkgMIlCa7CbgsbwmPXhsIzNobCwAiLwoAqgMKWKcTC3CqfwiIlj8KFd6vCoH++wv5IvcJ6wnbCBdC9wmZnN8LOZ7TCrD6wwpKeqMKWBsLCo2CbwkdtwsKoB+nB7lOawkRg/MHOrofCxmd8wqPMrMLKoZLCclpAwrwbtMIMhHHC2FiZwvdyg8LoYJDBHra4wkropsLD4pHCaUS5wv5/msLOA43C8IGawhzn98HA5MDCjut7wvdJZMIcy7fCIdi6wtbOqsKiH5TC2ULDwqLVhMKxpZTCfUGrwvRh88EQxXvCthaKwmSSqsLmp7bCklNiwihCpcIm063CNm1Qwpc/WcJjYjDCTwTHwmQ/1MHy/EvCA6CwwmHNeMIiqnHChyxNwr2SqMKcja7CiAuKwmiXp8GzO6bCFNHGwtLBh8I7C1PChkbCwqsZq8KV973CnyY6woj7mMIQ2o/CFoVqws51gMKS3r7CVA/AwtVwQcLU0FzCTho0wg55gsI6caLCuziHwjc8PsINZ2PCyBubwoGmgMKrezbCQWzEwpqkj8JWmZ7C797Fwsr9wMK9wEPCcLPhwS5zRsJmQKHCN8s0wjdNqMJuxaTC6Ee/wlJhN8JrbKnClsy3wrnEqsIcDfLBd/y3wveZvMI=",
            "dtype": "f4"
           },
           "z": {
            "bdata": "vMplQtyhSUJu96tCUoKuQrB/YEKkLr5C+KQpQYCOPEJ6/71CZGKSQYDFmT+QLQ1CXGtPQt6JqUIA1KRCxFArQkz8F0Lw7rtATFchQhS9ukIA0KS8BEOfQZDmhEIAHaw+dP8gQuAOLkHY4yLBMJOPQhCJLUIAJKQ+aB1BQSC7hcEUTydCwJx4QJhcQEEggLxADGECQtBGFcKQXJ/AoBiTQrQFfkL0L6dBrEZoQhB6z8AY+ElB6LAVQnDRTMGsNxNChMG0wVDvMkI49pzBACIwwLxqL0JIQmBCqKAJQgCoIj54lQ1CxKR/Qii3r8GIDN1BkBPDQCiogkJAidvAWNI8QVBPlMDQyOHBKKGsQSDw48Do1SZCgCBKP3z30sEoXoNBaBUKQdBe6UF4wE5CAPsxv2gZQEEorpBBAE4pvwCrDD/wX0dBADCaPuBtCUFQFOZArF2+Qdx6+MF8x6dCJPA7QmhxkcEef4lCJCPeQfh3tkFuU5lCeqixQnhLAcFE9TRCYNy1QSCmisAgpUJAkOwLQmBFRkLAkNjBcIgewcj7HsJoES1CAMx1PwCD90AoTpxBGKx3wYALjUBkcodBQOBUwYDpZsEabJlCIH7FwCCUt0Hwe1XBAIWRPiCIScBEHU9C4KK2QOT7j0HAL+ZB7gOKQvBA70Agfa/BILg1QoCNPcAQ6/VBYD+qQfBAOEJc4NDBQGR+QgjAFkKQA2BBoOMNQsD9hj+4ThZCzP0eQlCIrsD0YUlCeOgZQpjywsFQYwFC7LXcQYi0BkEALktAOO83QUDJ/7+Atj7AoCdbwGBXGEDAhbs/UIwpQbEUGsIE73FCEOPfwOA9PEJABMDAgGZcP0x5CEIQOapAuDTbwZhIPkEgsZJAFADdQZiymcEEc1xCAOixvzA6MkI4Iy5C6IsRwdybzUHwBq1AxM4gQpPqHcJADLA/+CctQuBsl0AA/eu+5N1mQvjo5MGA4XVAjAuNwcxjW0IAqcVAQJGsQUTGfkIA5GQ/OB81wSD4O0DQbr3Ba2cuwmgH5sEMKDJC+MSIQoSpjMGAGOZBoFcdQfBzGcGgLB5ApJePQTy2mcE6laZCvqGXQshLkcGANNW/jEk8QgC00z+c57NBpr+qQjiee8Hc4ZjBwFn+QaCkKcDE8alBGL0+QTTT58EgE+VByDwcQeBzlEC4Lw5BMKstQqhW+0FIrqrBTJaiwai1KkGIn+tBoPsYQMRZwEF0VJ3BkESSQZBw20EcWWBCeW4cwtByHELgwDRA3IAaQuCZP8EA1jtAGPHQQUBT00AQUhlBaCQRQaS7S0JOtaxCaouUQmKBvkIACzVC8DdlQSgKQEEgIPNAAMbzPiTiokHQBQZCdNKWQZAd3MDkEZlBGFwnwYAt1kFEoBZCwCLbQPyGMELcI5RBkLFGQUCgkUGg8KJBQKH9QWxYHkLcnQ1C1MSvQVAl1kD0aYRCNG4FQshmgEGIkU7BgAKAwKgcGELMeptCZHkzQqyS1MHYSRpBOGO+wTwpAUKArlA/YDCQwPCrXcGscAxCpp2KQqmBIMIuOoxCqHfEQcBNqb8c801CSsYAwrDGx0DA1t5AbIqFQgiig0LYMh5CoLJSQDC8pME42h5BlOCNQqDEQ0DgNoVCUC4XwsBotEC0xTpCELcQQsRN38GQ0CxBYH49QPQ5DkJg5vNBIIVywQyitEFwEfhBKGoAwUDYIEIozTVBcMS+wAAY6T/gvRFCAKGlQtDVx0HAQkXACK9GQtysMEIgijTByBwjQTiDFsGgUa9AcBAiQTC6H0JQEcNAkA8CQcAnJkBwGopCAOgjQHTeUkKI6OdBKFOiwUikDkL8EDVC4JiBQRjp3kFkZRhCQLD+QUzvYUI=",
            "dtype": "f4"
           }
          },
          {
           "marker": {
            "color": "#FECB52",
            "line": {
             "color": "black",
             "width": 0.5
            },
            "size": 6,
            "symbol": "diamond"
           },
           "mode": "markers+text",
           "name": "Cluster 9",
           "text": [
            "C9"
           ],
           "textposition": "top center",
           "type": "scatter3d",
           "x": {
            "bdata": "uvI+Qg==",
            "dtype": "f4"
           },
           "y": {
            "bdata": "ZOWJwg==",
            "dtype": "f4"
           },
           "z": {
            "bdata": "8H2iQQ==",
            "dtype": "f4"
           }
          }
         ],
         "name": "frame4"
        },
        {
         "data": [
          {
           "marker": {
            "color": "#636EFA",
            "opacity": 1,
            "size": 4
           },
           "mode": "markers",
           "showlegend": false,
           "type": "scatter3d",
           "x": {
            "bdata": "ZtlSwvCBzMEAbu/BmHlewgbMRcKAwsbAKqy+wkBs1sGsVKHCuo8SwkFRXcI+5wLC1dYRwviI9MHYYnDB6o7AwuTslsKAReE/OVA+wuHdxcL3JT7C0h63wjCQOsK27lDCDMtAwr8KWMIPB2vCKfKOwpm7s8LIznXCqtmiwpVZrMIGMsXCzp0dwl7ILcJFoqDCOF6WwjSkqsKekLzCdlyYwoDNxsDFKsLCH0ROws4SsMLhLajCnIWgwe6IsMIgjA/A2LDHwivfwsJyE67Ckr+dwiwNkMI5LaHCXD7TwXKVnMIg/QzCvNESwiMpu8L5M5PC9Ck9wntQMMJAlqg/ZO97wqA4U8G6V67Cis2bwrDaoMFcvXHCnleTwlApksJwhEzC6aCpwnfXrsKb30HCoduvwpl3s8IYUb/BTuYNwuxWjcKEuxvCgBzEwYgyWsEq8QTCUio9wsDZFMFf0GLCxkQhwlg6hcLrBLnCkxobwgZpocJgqkTCWJeEwdcHZsLO66/CfMP/wZHDtMLov3rC049+wolCScLaqp3CE7+Ywrh4psKxfJvCQHebv24aoMIdeEXCDv5Gwigt8cGW7FbC/GtDwiDGssL9SpTCvIqOwfwEhMJsSZDCoMsQwWz2CcJIlrXBSFyZwrrMScLlIbvCp8Jqwpt/ucKMvhnCm/oTwhieYcEgEsdA4M1ewrxqKsJEDYfC5JHkwYDlxMKFsYXCFPuewsCe9cCIm8PCmAgDwoCcbcHEihLC8Dz/wRQCacKsUajCLg2+wlTsjMEANmjCMJMPwYiXasLIlHjCKXiAwgxjq8JWfMDCTmmdwoU8vcL4m37BQkrDwuu9PcI4eYzBFDk+wiRgrcLkI5XC5G7nwbFpeMJ6YYvCRK6wwrwMHcLJ20rCQEG+QIJwacItD77Cr2gpwgh0xcFNgDnCf6ZuwjzISMJsSo/BQEysvyjIBsLwVLDA9GDrwTi6TsI3NL/CApCzwm8RhMLh/YXCprxBwn5io8JUzJXCto8MwpCAjkBw4e/BWlGBwi0ImsI2cynCZtBCwnCZJsJ3ABDCzU5hwh69RsLnb8bCTEuYwgdgu8JwFgnCHY+nwmVLcMLl243CgfTBwtvUkcL65A7CV5kRwk31LMLAdKXBXLeWwu5rvcI60rzCMtQywpp1jsLOFLjCl0SjwqFFcsJ14jDCqL65wo+KKsKApJbCN4exwoAM3L+ckwDCiIQHQd7FAMJgU4nAJldBwuAY2cCgCBrBnECwwpDJUsJy1FjChPugwkDA7D9oYgbBHxSrwoxD/sGQRQXCVrqtwokXM8IyulPCYPAfQFIXLMKrI2rCRLWvwiARWMHHpCrCKYFwwnazj8Je4FnC61VgwsPGccKwb+rAPHGhwWCOccF7DLfC0LD+wZY6YcKwNTjBWNKzwvZQn8IW7Y/CxLl8wsjqjcGoEbbCMLm6QK33xsK0pvTB2pi6wqiyAMGc3iTCvksNwuR138GiRIXCZzcSwkhGxMFotd3B8CWGwZKTfsLJtbnCyM7dwbxa58HgK3DBZqirwhuHt8IhjD3CkHLPwZBQCsJoGUDBkSCWwvD0kcIg+XbBMky0wvHPRcJB1n7CVvMXwkwO1MHVZ8LCCbh6wmx5xsEBB0zCruFnwg9NrcJ/r4HCJrUDwiAJwsBzELDCLvy8woE7P8JKoMfCbssFwgx0fsKSc2XCUDRjwRrZNcLq7pjCoYHGwl/bicKpGorCAGoDwplKj8JVJxTCKtOfwuDPhsK0XZzBVcg6wqb0JMJS5cHCJoywwki1/8HY//HBgJZwPzmTEsIfgRDCk72owhytscKK4ljCfiZgwo2mnMLWAjzCAOZVPzh73sEbzrDC4rZgwkodY8I=",
            "dtype": "f4"
           },
           "y": {
            "bdata": "rEi6wWyVxMEHlrrCYPygwT1fkcLKyYfCE7VjwjyOI8L4CurBO5tDwjc/nMIOhDnCHouawqtHeMJGQkfCIWG+wgM3L8JCMKfCrDWmwWzUhMFJtKvClBSfwuiZ/cFIGhbCA9m+wmD1RMJwpM3A6Ovtwb1BecI818rBQ6C8wkDHGMKEBFfCe/t8wt42PMIQc5fCwjAmwrpMu8LI4dTByQOOwhLEQ8I/5JPC+N0UwZ+4Z8Jod57BTGzpwe91ocLLO4nCvyCJwjXemsIr4bPCNnhbwqDdBsG8lKvCOoQvwuihncK/XB/CGa27woCKV8ANCR/CIGaywsAVeME1JY7CLhGMwk4JrMIQKqrC8DZ9wXNAqsJWJxjCdMyDwvIEj8IDGF7CVepiwv/5QsIQD7rABcg9wmiWG8KbW43C7NWmwlMeX8K+DV/CqKezwoYqw8LMgQ/Ctkeuwp5ziMIJUXzCmIyEwajFhMJykErCShENwkDqdsJvaL3Cr+jFwtLfkMIwYkXB4mmkwt8hKsIFmB7CC6KhwtAvHMEK3xnCkDz1wMzMlcJImYHCJA2PwlsxvcLcs9fBzdcywu+CjcI2aJrCmOimwUpzh8IPcTTCiJS1wqCIicDk/OrBpAsvwgD3LcEDC67CCtGhwqzVDsLACr/CPLudwsz4hcEHHGvCNwRhwoo+UsISvovCuSKrwkWLlcIPWmHCnE75wU+0lMLaab7CqN2xwQaLvsLMJKjCnVqcwmSoZsLl1bHCwEm4wlxKqcG4aoHCElOhwuG0UcI80QHCPg9uwqX6TcLYAQPCklOswqELJsIcHKfCEJTfwex7q8JYi7LCaO5gwkyBgcIyjCXCLFbkwYxgusK2Bp/CQLUBwpcRY8KQ6KTArE6UwsIzhsKIo5rBFBeYwiVTtsLenx7CoD2ZwtabqMLdIKHCUrWCwoIZtcIosvbBMF9rwn39YsK10aXCtemowsifXcGdEWTCZRG1wobwtcIIuqHBB3eXwkuiRMIwltbABKD9wcHtuMKQNT3CVx/AwgBwGMH0JKrBv2WYwjxNrsK+sl/CAOOgwtKQUMJMNMTClnSOwjSFqcIytavCSNwTwtHuZsKvLnvCqZnCwjhNJMIhpzzCsXyxwh2ha8J4CebB106vwnJ0icJw1pPBhIiEwrQRD8I7vpzCAGNLwjCDjcJh3THCB9G8wuCLxsE1E7vCw0xUwtq5a8KgnEbBcWvFwkZHnsIgt3jCeFFJwWPvrMIuij/CBpMgwhpBqsK4MTTCLOqTwsVPgsK/A4HCmqslwu/aecJ4b/XBeUKWwtbgsML4yaTCUsx+wiRO6MFIZDLCC18hwkeZh8KIn6vCHjKdwm+QUMIf97/CINu0wCqwrsI8q1vCeCE6wmeOJcINNyTC3oO9wsAdsMBIu5HCbJpYwvQaucKns5nCeDolwhYsGMJDyZrCsH27wjYQasJM2Q7C3leNwv+Fv8IdVRDCojGrwlx4wsE8g2fCzsIOwmavfMI2rKPCpj7HwsNPKcK+GbXCtEBpwut9E8LwuI7CrUl5wmUVa8L2oJnCPDc3wjLoDsJtscPCsrcPwpwP0cEXl2vCHLCmweiYxcLqj6jCckvBwmST0MF1fzzCFa68wmC3e8LVkkjCX87CwkfZGcIS9gPC2iylwtZMvcL+NqfCnW3GwmCFqcG4VqTCy3F3wqKeasJAQ6HC5kyWwuZKxsJghgfCiFpMwRcGrML4C7jBxY+dwkKdh8J4a4/BHvCqwnIrusKOnETCywVHwoTBzcFA2KnC8DBYwdmjosJ4xc7BMGlcwqB4WME4lC3BFGPQwWDR5cHMcKHCX417wtTchcJaDVDC2j2JwiCq3cGSG77CVICHwhCzPcI=",
            "dtype": "f4"
           },
           "z": {
            "bdata": "lruUwvAyq8Kb9THClxqAwqhHfcKLCl/CAOTqwGwbscLLKDvCwFQewC8mKsJYvBPCIOY3wvB8u8LY8OTBiDs/wbSLpcJ53ZLC7mVjwgdaEsLrOTrCnCbbwVzpHMKYa37CwMG4wRzMisHna2XCGb2LwmRBosI4+uvBGOMwwS2vx8LFhZrCW3tLwiBsZMLoIFzBCcQlwk5ZfsLskjfCVGKVwmzbgMIQUtrAkcKewgOwx8KL9S/C+4ZEwjzkssGgQvvBladswp/IZsKQfhDBH2kbwhRjocKhMEDCiJAxwjAcQcJjsr3CGO+9wmu9R8IQNuvBpHhgwov/V8IguLbCwFamwCy6CMIbEDnCsXRYwo64T8JhkXfCoFGdwO16gsL8v+/BOQG8wt8AI8KZ1oDCIsTCwnS4z8HsOajCbB2dwqCzcsG+wrzCIy90wh4fJMIIXD3BGDpKwac+VsKwwvvAcL71wfAuEMIdo3nCLfiqwgTptMEYnZvBSHBMwfAtPMFM/J7CJPKjwo1KacKYZ8/BFyRJwuqnEMKx/5fCD39XwkDEN8GQrcbCXyFKwgS5RcL1p0DCoL5rwpqhE8KQq83B/QUxwsezmsJBwIrCJuejwm2pt8LCVUvCACz+wfx7k8LsFOHBsKUJwVMmnsIaxoHCwBc/QF7oXMKwTYVAMKoDwe0pMcJOzQDCjgVewlgRGcE/HG3CC/QWwkydmsEAT3G/j5J1wiuaGMKAEw7AjI74wYkFWsIYQ8/BSLOuwfyrxcGQWIbAj3fCwvbpdcInxi7CXp3DwlRtTMK8xpzC7iW9wuLjpMJ9hrLCfC29wtIJocJgEDHCyIqUwloPlMLHSFbCwGOUwrbcWcI8R6/BEt2AwsO0ucJ+6k3CCCWswjpqn8LenKfCi60swlDus0DFE7rC+EVpwSAgIMFbwSrCSFnnwREmtMKNYSDC9wC+wlgoCcGsQA3CPmjHwtfvf8LQi8vBJCaOwlb6L8ILtyHCeKabwTrTv8JBDJXCvWhOwu5bj8J/qRPCTT2pwi2TEcJX4TDCwCe4v6CfikAEYPrBODHpwRuSmsK844LBsJXfwKhXSEHvDUfCxMnFwaDbk8GQeaTBcB5Lwj+eoMIgaZjBx6sbwt+qP8LogHXC0M7/QHa9lsI1U33C+KgjwQFqNsKFOU/CRkvEwpAJxcC0JqHBpryhwjdXL8JVB0vCtpl2wkIBT8JSxIjCUZpDwgYAAcJklsfB4B4QwsnOXMIfqHTCNw6Xwny/pMHwkerAUsOSwsrFlMJ0XdHBwAEAwtD1wcLnN5fCsB+cQGbQgsK0M4rCk76jwtCVX8IHE3TCkP7zwXJqCsL6OJnCMMUGwTIAbsIgtBnCU0COwkxEn8Ewd/vB0wWQwsMbocJwO97BxIWcwfjpAsLUxW7C/X5hwkC5QkD4P5DC+Om4wT2nIsIWDpjCEVk3wm+IasJ7cJXCEPmUwox5mcFZvazCdEqkwVItq8ICqqDC4TxUwvY2b8Lc28zBkI4jwsK5jMJmF1fC9JSjwYhLT8KHIirCwKXywf80q8IQfvrB23Eywq3UUcLYnFLCzy0nwkA16cFM/aLCFc/FwspfksIwZE3B+waPwp0Tb8IsWZLCbCekwYr3p8L0gxTCe17Fwrg3DMKEXojB+OvswQgyCsIAgNQ+0Zc4wqj2j8K/7D7CPyGCwuO0xMIL4BHCydGawsCwV8DqjknCq73Hwru+qcIMlSvCtJGjwUBjM8Ky6GDCbK8vwghlrsH6qkfCcCYdwoChrcIWNwXC/pE/wst9dcKkLkzCOdd9wlpatsKW4rDCQEP7wULQpsJwd6zAJPaLwhG9WMIMiqnB8dOtwv3/ucJQnGxBoEZbwA54AMI=",
            "dtype": "f4"
           }
          },
          {
           "marker": {
            "color": "#636EFA",
            "line": {
             "color": "black",
             "width": 0.5
            },
            "size": 6,
            "symbol": "diamond"
           },
           "mode": "markers+text",
           "name": "Cluster 0",
           "text": [
            "C0"
           ],
           "textposition": "top center",
           "type": "scatter3d",
           "x": {
            "bdata": "SZRPwg==",
            "dtype": "f4"
           },
           "y": {
            "bdata": "3Dhqwg==",
            "dtype": "f4"
           },
           "z": {
            "bdata": "hOBPwg==",
            "dtype": "f4"
           }
          },
          {
           "marker": {
            "color": "#EF553B",
            "opacity": 1,
            "size": 4
           },
           "mode": "markers",
           "showlegend": false,
           "type": "scatter3d",
           "x": {
            "bdata": "YKK1wrB4ycFdUoPCMPGLwdaJpsLeaMXCmzqswmi3kMK5EYPCxBPMwSqXpcIruC7Ck2ykwqM7XcJBhsfCdi6VwvKgZsJIB0fC306twrTY2sF5j0DCJjQrwthjisJEkHXCZFp0wvRnnMLC+pnCJSa8wq8bx8JSUKbCWOL9wTlxwcJO3r3CKqGIwiG5oMLotYLCLXYWwsm+YMIURp3CCCqwwlSNmsLlDXXCW6jEwhvOl8JJrkXC4OpyweXMwcI2AkbCnuxwwmVwfMJnccDC0qqPwq9cuMJFMmDCnvaTwgvZkMKPR4vCQHSpwvCIl8KIw2rCFjZKwjeHkcLdRojC+E3mwZdWwMKOUZ3CSLHmwcauhsJqAJPCcbIgwvgfjcFT4lnCBEhewn9ww8JlVpTCDLqNwrio/sGJzR3CoQGIwiA9w8IUJo3CYNhgwaVwasK75CbC8UyzwtY9O8JaxBHCQESMwo57lMIeUZvC207HwvDeo8JvjT/CXCm1wqPfl8KHyhnCl5nHwgrxp8IAOBPC4oWrwmZDksLjJJnCoDqOwtBOyMErs2LCMq2xwl5mDsLqaL3CQb3CwuZFa8LAGOfAGJOFwvGjFsKJnkHCbLSUwtNhT8LwqiLCZvq1wjBxY8EegZTC95CHwvG9a8KcOFDC1g/FwjDk9sFGqHTCgJLFwmZRCMII7wvCctZkwlFOXMKI8/PBSnSqwoTZnMJTS7LCe9DAwmjuK8GCSsbCojpKwiYxssKQy17CRurAwuykqsHIbbrBeDKzwtKwAsLtX8fCFvmFwnoCqcI8wYnBqfFmwilMksJprzzCNLm7wl2xqcKIp2LCgN+ZwrOksMKRrZbCZV/CwmNrLcK9w3rCB2OswtChisJK2JnCDX49wnE8F8K4k4DCXaE0wqkZucLSYIfCEvwswspNCMKpebvCOnibwtLLqcILILnCTQ2DwlshhsIIS7PBXcEfwujivsL61UrC5kfFwmW5oMKK/kjCGLn8wTKhFcIssEPCy6ZpwlqRQMLpmb7CIxhUwkajhsJWAqXCluJFwsY4tMJQkJHC3VWFwq4ts8LaUb/CttW/wiQ5s8IgApLByYeLwqrbxMLMqDPCI/6KwratwsIbGijCRiEjwkz9l8JXOCPCgx63wh0LrsI1R6bCmIGywsDf38Ek1OPBZkGQwgxOxsHZlpTC3LDpwSzHksLb8CHC7vFiwi9xa8LvgqDCpMu1woZNx8I0xXTCio2Ewm2JiMIyR5XCK3xLwrycgcLikxvCzV2jwpRyEMKr2BrCkeitwqZCO8IDRr3CkCWHwo2bu8LcPqzCCDPywdrlU8Lf8WLCDCyewnR4scK36LvCuYu0wjjCgMJBRprCbHqywqBg1cFcMInCi5/Awrgup8I7KcTC3hy6wtgl/MGWIznC4yzDwkxUlcKfnJTC5BS5wgFgtcKgkdfBmiatwjKXFcIeOIHCWSKNwvS7AcK4Q0HCAHjEwoK9ncI1KqnC3hCZwjAfq8JAC/HBpQUywgAYSsE0kJbCic9KwlEDpcLQsKLCsjW5whoyt8L/ZpvC9Ul9wtAluMJh12XCmgiUwgADBT8IxwzClp6XwihJo8EBYLnCe+i2wlrBD8IdC8DCaG2ZwhNcwsLAe1DBVO4kwv6IqcJE3VDCX0KUwmwykMESrojCAEyTwcgVh8K09QPCtzkQwiiGg8FyI4XCZsxAwgKFrcIWsHbCsdo8wmiKs8IiYj7C0MlAwSsTHcLUlBzCreUawvTzIMK0UZ3CKeQfwoqWD8I4CoPCiv2/wi7fbMIXES7C1Ni0wkWWb8Jg/XPArpqowk8/OcJ4qqTCIlurwtGHrsJdKKzCIx3Awjd1xcKwDGDCZ385wvoSnMI=",
            "dtype": "f4"
           },
           "y": {
            "bdata": "cVSawhAr/0Eo0FnCKOf0wbDA5EEhOJfCwKx3QGA8iMDotQpBoE6LwJjlBEFA6Ze/tOHAwSBVlUCU/L9BBJC2wRC0uMBQtoHBwJXOQGh4UsG4C5nBQHbjwLDM2cAAbYLAmCMwweyq28FoyyPBjNjSwUgJfUFAyQhAgNFavwCrmECvpJvC2FTnQfjSA0EoIiNC2M52wajkAkGAwAhCNFYPwqBiO8D0JdxBSAdPwtgDCkF4N5nBnp0UwrTez8GskrnBmOaWQbBJBUGAxje/urkNwvgWRcE4n/ZBesh9wko6Q8JAwaVBoHzoQQzUl8GA2KvAHvAYwiBZIUFQFKpAwAV8wMA4asHc9KhBwAQxwMgS4MEQdxlBkDgbwXCg/8GgL9hA8HbdQPxwT0JVYSzC5fRiwiCuNcBQux1BmQhwwgASCr7QygHCgJ9fwIANv0FAcuNAWOFPQWC2icCQRYFB4KO2QGAyfcHoH3RBVcAXwhB1yMAIEKjB3BKxwcA1WMCkMajBlBK7QYAhhkEwN5NA7CmWQZBSckG9sxHCiNUVQnjvqMFoSRzCgI5swoCSub/0VIvBmIXnQdiExkEA/DQ/oBbnwXCk2kBIv0JBnMKfQVj0R8FAtIDB6dQrwvy9jcEo96DBJJqFwZilJ0IAWZDBnEkbQrAiksGIievB8N/1QBR40cGkmZvBYKuSwBD4CcFExrNBAHKPQKquj8LQe2XByLosQtCvZkHc3QjCMAIvQWJMbsKgCF9BeLPYwW5jIsL8KLtBsDhAQZCxokGRiFfCQDibQJzGjkEgMpXA8CsCwXDcMUHweAVB4HfVwPFmGMIKNBLCaAgeQf5pAsIs7MJBXGacwYDcHUFQJuxBNKzMwbBlr0BwszTBqBAHQvCx+ECI++hB3NubQTAht8GueV3C4FF9wX52D8LwpDHBwi4NwoQ+nEGstirCfEaGwtxy48GAqAbCEIanwQiOAkGwmIdBABXZPgBgfEHAd21A8GyawGBvisEAwho+cBjRQKCKMcGN1yHCFFvKwZAG+8Gw/qbBfNacwYjI9kEcZfPBzJzQwaKOjMLk25vBTOf1weU7ksIIwhXC4CXJQaj3CcGQuXdBoES/QZjg3MGYoznBtJ/JQViHd0H836NBuPAcweBjD8Bo9NLBkGr9QcC5dkBBoynCBLzCwaDXq0AwPfnB+M0EwTDmKkFQ7nvBUDLAwMQjgEHgz8fA0LTXQH5Jf8I0SLXBbHUgQngxGkKAcxXB5ID0wXApkMEY8gXB/GvDwbLTJsJgojBBwMquvxA3ssFAo5ZBMAhtwV5VY8K2BgrCEKzKwHwA08HUbKRBgM3FwXimH0L4SGRBwBA5wQhlB0Ho5TfC6r+KwrebK8LXKHzCVI4xQqsRIMLATE3BoMKIQOCovsH4k2PB/P0hwsCflL/oVJFBEC5fwWSXR8K4nLdBKCI7QRhSFMLAUjxAzLa9QUR/h8GJnBzCMCjUwQC8bME0ytJBRDuYQWAtHkDUFZpBAERfQKD+/ED8/QvC8HWmwCRToUEwuK1AwBXcv8DX1sDAYP7BbnYBwmAHv0Go58NBMJ1LQbCsOsGIHifBQIgYwUAMB0EwyQBCQI8vQcj0GUEcS75BLLoHQhjqecLcC4nBgCKhv9wVuUFUm6dBgATswbAK2cCgEUJAIKsTQFz8SMJQ9JtANicKwpDpnsAACivAyCWcwcBc5UFcs7XBrF+SwZmuGMJQnwXBDIcUwsi+JMKgJTvAYMa2wcAQHMHQeolAwHhvwLxREsLA/AZCxqMCwlyOi8GgN55AqGBJwqDfeEFAO4A/0L0EwoAlhEAAwRY/QFiHQGQB3cF0FZbBTH0gQgCjsUAQBMDBPKKiwWg5CUE=",
            "dtype": "f4"
           },
           "z": {
            "bdata": "OFhvQQD1wkDE57dBgHmmQUBOSkKYO/tBmNMkQmKrjELw/qdBxMxnQmjpJUIwEZtAYsKWQhx80kEEnzJCgFOJQRD568GEuQpCOJpMwfxYpkEEBd9B0CXPQPjPTUIQbolBGGZ7QeAjtUCw8GnBoIlNQJitrkKQRrxA9BrYQaS+QEJMI7dBlEwUQoDfh8HwmxJBQNvvQeSLgkKgUBJCjrycQig6tUIwATtC/LOKQaTtl0KE9AFCOENcQQTBo8EANt8+AHwsQYiRXUEA02rBwNmAv0gaWUEAz+m+6NAwQSBSRkKQSs1AQFD/QRhI90GA7zxC6PAtQmhjCkJyMKpCIPLZwHABe8GAHm9BgJUFv7g3JkIgp7XBkE9qQmhgnUFsS5RBGPziQbBROUHk/jdCREkQQuhGV0KQ7B5CtPXNQfBDpcDieYNC8MoCQrRDEEKYADrBVmG9Qjh0CcHgjATAYH7WwMAGsEHMa6VBTgSNQgSqx0GI7hJCPISqQgh1PMEYu1VBlBloQgDQN0IATl7AhoCZQuzMK0LA1MzAeBYFQshoCkKcRwVCgOfFQFDVckLsVZFCeINCwfjPAUGIYjBCGCNGQsDdmcEQymdCiqWJQsa4nEIwP0jB1IaYQaDNR0CE66NCKESfQkjQT0Fg5PtAPPEGQjh0zUEAbk1CRGNkQnD67UEAtlHAFGu1QoAfw79sPIRBmB/HQeASzUGkperBPK8EQvQe0EE8dsNBiHH5QWQagkGI0gpC4O+IQvBtkkDwjsBAIJNRwHCkA8FopitCxMmCQaTfhEIwLAhCAK5RPxg9O0Eof5RCkEthQpLMkEKwA8jAjPG8Qoyrc0J0MiBCoLdRQpDF/kEQ7KHA7F0uQiiHN0FgO0rBsOhUQUSmRkL4QSBCYH85QnCx/cAkMchB4IoPQpRPkUHgb19CmLAlwZjGZEK8hpFB7NqaQQTCkUEAAD296ITrQSBCpUDg8KtAMKgyQgAgfMAwgqZCOCPhQQhgJMF4fHLBsGfNQawCG0KQBOnA3PQZQth+KUKGZqFCJBI5QvRtXEKABGzAtCeSwSDkkkGk9q9CgC4eQqyyh0FQ4lpBvNO5QeCrjMA0lWJCAOQwv3hDHEJI/z7BoAurwGzmmcG89QhCyDdFQdilR0Kk8yhCMIxHQYg4h0IAdaG/REctQrwQVkKA1dK/2Nt0QipLgkJggILAyN1PQQDiS78whEdB0ha9QrBQI0Gwf67AAFXXP8DPtr8oTD5C0FISwTJfhkKYzbtBIFFjQmiCwUFg9i/BpK6xQUAgNEDQOw9CCBLKQRS+A0Kw1tRBKLEQQhC4Z0JoUQFBMPW3QQDegr5I4xxCZGCQQuDTIUIorANB4OLwQICElkD4ycxBvCMkQkDB2j9uRYNCuP4MQgC1dkDU04jBzKx0QsAdhEAAnPG9QBtiwIQ6DkIgMqdBEG0lwchx5UFGCaNCXKcaQpC+tkF4yfRBIDenQaRHYkKw8VhCAD3ZwJxrJ0LAY8dAZCqWwfjvC0EY5wtB0FDeQZzFHkI2+5pC4AvHQqz9nUEggYpCwMyCPyAdAUHQZQFC7IK7wXzUCEJ4cq5BIKpVQtBOTkI0LAVCOBA7wbDC4EDwCSFBwOAtQZjGRkLooHRBtHMHQvAOvcAgb7rAIFp4wYA/XUBEcqLBNCFiQiRn0kHQeinBQC3fv2itGUKAV2BCmDZWQjBcekLEj9BByCUBQVwnG0L49g1BAJvDP9ihE0FM79pBJGCqQbBJGEL0FsFBTIeJQWBPA8AAlps+ICBOQIh/CEKooyZBILQeQaAFi0IU2UVCQIrUP/yAYUIyEYNC8giWQsijCcHgbn7AwDfqQYguUUEEHRtCrOwoQozgykE=",
            "dtype": "f4"
           }
          },
          {
           "marker": {
            "color": "#EF553B",
            "line": {
             "color": "black",
             "width": 0.5
            },
            "size": 6,
            "symbol": "diamond"
           },
           "mode": "markers+text",
           "name": "Cluster 1",
           "text": [
            "C1"
           ],
           "textposition": "top center",
           "type": "scatter3d",
           "x": {
            "bdata": "+91/wg==",
            "dtype": "f4"
           },
           "y": {
            "bdata": "XUgSwQ==",
            "dtype": "f4"
           },
           "z": {
            "bdata": "nxrXQQ==",
            "dtype": "f4"
           }
          },
          {
           "marker": {
            "color": "#00CC96",
            "opacity": 1,
            "size": 4
           },
           "mode": "markers",
           "showlegend": false,
           "type": "scatter3d",
           "x": {
            "bdata": "buyzQhZOg0L0FIpCGDyRQrwiN0Jwyy1CrNVNQkYFvELAvOlAFLMtQgwd2EHAlIlCUuDCQjSUaEK46rZCwAzkQQwalUK2jLdCLoK6Qty5hkLU6FxC8BgEQgxmcEI8oItCFLAaQoxaPkIMhHZCcm/FQgwRB0JgjxpC0IypQOwkmkJwnLhCtuCEQobso0IglXBCloSIQtz1WUKk9rZBCKf8QVgLnEIMOUlC0uGCQqQLUEKI1lNBHFquQhLnlULY2blCiHWAQnARGEIszbhCwHWgQnABd0E6AK9CLIeTQuIRl0JAyUpCVFnEQXA1IkFeE4dCgoiwQijsmkHqYL5CqEyiQjhtNkJWhrZChDoKQrgTk0JQIIpCfnGUQl6GkkL042dCaOanQsijBEIAKxxC4J6cQVKLnEK0miVCbjSXQqp1rkI8jaBCmDa5Qur5hUJYDy5CVAyUQgDEv0GosH1CHFy6QsDg90FaeZFCZn2nQrTockLEdrFBuiy1QkBntEGKB5xC/HApQsgH10EodYtCNEUzQnB9KEEoc4tCZF93QowUm0LETAZCHjySQsASO0J0lThCgCtIQXS1tUIcsllCRPKwQTDoxEIgmQJC9BxQQuAzHkJYjbNCrKWxQhQffkIwIcBCRqmDQnrVwEJ8HmtCzAYpQqBsd0LQ0qJCLA+LQdx8E0LcA5xCtBIEQjQho0IWx55ClM+sQkgMmEJ8L05Cfo2IQuAmkUKuKcBC8s6uQhZcgkJka7FCxrvCQo6Yn0IoaKBCsD5SQqLdp0LAfKpCQOdmQnzGHkIE5bJBWIG1QlAjc0JAr1xC7OYOQtiG90EMV6lCEJG6QGDKnEBc321COreOQvhhmEJk+4NC/PCLQlTs0UFWs6VCqkmpQlS1a0L6OYBCbq+AQkhG8kFICU5CgE4rQsJMo0Iwol5BAJPqQTzacEJ4juNBxIe8QYw5lkJgz2BCTrGJQnil60GC3blC8FSYQsgNx0IEdMZCVNdpQhDJG0I01qdCdliiQmhik0K4JYpCOle+QpTRp0IEQ5VCaFoVQur/r0JcnYxCtGRkQpjqwELGlrlCOGGXQk60nkLAWohCXqWOQpjnikFwhWtCkLozQnh4x0LYj75BFsGHQnyRg0JWILVCoPx9QqzylkKQJz5C0AGmQurvlkI80xxCmL4BQmglHEJITIZCfD9IQlpTtUJO9ZZCmB6RQnTei0KAl8lBfJevQRaWkkL+hLlCkDGFQoaUuEIIyrdCPp2PQqwowkKgfrdCAMeeQhjWGULY/dpB+smLQmyTQkLQ+UVC8D8EQhyOvEI2EKFCRFhLQv7/jkJ4OWpBUCQTQapciUJgvbFAEHkqQbI4vkIgAIZCFBBBQpxMJUJIJLBC5ie7QkDGYkLc7JRC2imHQmCuKUH0bxVC3PuYQlwgqEHocP1BOE2WQSKPq0JIg3ZCPrS9QoBSLEAmp5VCsON/QtydCkJca6lCaCieQhTKlkIkP0lCqPW0QqIMsUIoYOtBNlS7QlCpkUIMonRC9ouFQli6wEKkL2FCxs+OQnz+PkK8+I9CyPyqQqzcmkL+UJhCCj6WQjh6jUIA7jdCKGmnQvQHO0IWtZ5CIIMIQkA2KkKQhCZCyhWSQuyJQ0JappBCUIV9QnSFOkJMnWZCnOSdQhwEAkKAuSBCzr+WQkrTxULMUh9CVAcBQo6JkULedIRCKnecQlDBKkKQw/hBuJWNQizziEI+rcRC0ANMQlSUOEJIBclBcjurQqajoUJgR0tC7MZXQsp3u0KcgD1CEApUQsSlv0JQ/VlBzC4UQkQ4Z0IwkAlCDr2WQhp3rkJwJ/xBcCmSQrhBY0J648JCUF+TQkw0KkJgaaJC5CmGQkyBMkI=",
            "dtype": "f4"
           },
           "y": {
            "bdata": "0PzuwLAwr8EwmtPAdkeEwvrdAsLk2GrC9jUowrHKNcKZiCjCIG4Bwgh7NcKA/UrBqqjCwlgAvsLXXWfCyJH6wbhqbUEgFurBoBJEwEZTssL5vSbC+P1dwRtEvsJYzW3BEoAMwgZ3LcJ4inHBgEsmQBLKl8K4G7XCteYVwqQCD8KIjgxBCFxzwQhYkMIn3HjCtaZwwoBIwz/BkpzCWFp6wTAZY8LOoQjCcO4WQT0nMMJJmL7CsQ0TwrB+msKooyJBUGN8wSBPrcHgquRATTGtwqoGRcJ+umHCBFKXwu3jOsJA5ZfCGMzjwUpunMKgzi7BYSyZwnqHi8I0j4vCoPAFwuDsj8K4UFhBbUOawtB3AMFYb/nBbAcEwrWZn8J2d77C6EMGws6vX8Lk1eDB9Jm9wbqbEMJh9MLCyKDNwVTMlsJA+X3CNDvSwYZNlcIwdI7Bd++qwjX/XcIlGXzCJYEwwmxd4cFeeGHC4PWKwg4pqcL2IGvCcIMjwvLVVsKAE4BBbJaWwhPTIMJ8aYfB64ARwoRTMMJdD2zCUAngwElyucJR97/C1QJawnQ1qcIM1yXCPD7rwcCHB8HQkA/BKCKswdXyG8LTBTDCqEagwUIvB8IQxofC542Iwpl1cMK8yhjC0IXjwOUAJ8LgZfrARA2hwii2aMFxb3fCPpm5wiGEscKwDIfBgCqEwrzlp0HAXzZBgPvVwaAoBsLA6aW/eC0hwgD3wECgC4rA7QeTwj4LnMLU3Y3BuIoNQf4jtMKEdajBCc2TwgTdzMH1VabC+AaewvYBhsKiA6XCRILdwTi8icGCR6XCSv4AwoLlJcKsAoJBCHNhwlrlMsKgLL1A8C3NwKcckcLrq4XCFENewmZcv8KQRV3BkF9qwqO+bcIMTZzBBRevwp9YXMIq0MTCq7e5wlD1n0ELBjLCdXxtwoVCIML9QZnCa8CQwow7EMLKYQ/CF+A1wmNlK8JX9hXC+GZIQWCE0kB6KJrCAE8iv2TOJsJkC+7B3VJSwsTXmsKoMwnBoMoYwcTjJcJg7NDAS36ywtBsOcESryHCOlqqwtOtLMJYZMLBSDyRwXxSoMKQt9fBSExvwsLBdcLupDPCiMHwwVBTq8IJDYTCfg2OwpAUHMFnoJfCbO6pwRDIK0EwByPCzuAJwkC4JUCYGNvBuB+RwlA9eMKg5ZbB3F47wj9YjcKqO0fCWNZxQdA06MA7WWrCeBJlwnC2c8LvH5LCREuDwmSknsJIKIDCVOGWwqg0gsEKi6LCb3uJwsHVx8JyDa3CgDztwG5SAcIXvmPCxr+ywnApWsIMzoDBboaDwgBppT54TILCkraPwjyto8IEAJrCWm8OwhdKoMLgl3rCnPqfwWIElcJ03Z3BCMXjwfAv9sGUqazBuju5wnU3ZsKFA8HCAWCewn4qhsJv8o7CzuiIwkw29cFURMvBcOCYwDo0L8KYiDJBgr+1wlDyDMF1cRXCoLZuwXXutcIpfD7C3NWnwRa0ucIMqK/BAGhuwHxFqcHIpx/BQLJ7wvmjO8JLYj7CoNhIwf2QlsKlUMbC2glmwlA2K8EUPZnCXempwjhRtsFah4/CPPWtwmocnsJMDJrBBb+xwpDQYMKgHqfAyFwpwVJ2ScIwwapBaO4Iwlk3vsLy3LTC8F5ywZDxOcLwZbvBDCmPQfusfsJsSB7C4oUiwuC1rsKlw8DCtniFwlqljMI9b1vC0PeEwsrWqsIQOn7CrN39wSIHmMIN4HLCIBmHwRy+s8J6oS/C7u+NwptVoMImEK/C1ty5wjHiSMIa03bCdXpRwi1yWMKwLSrCeMFhwchRkkHxE63CTdR3wuA7vcFgoIZBMHCFwUmOT8JoAfPBOKwQQYRf7sE=",
            "dtype": "f4"
           },
           "z": {
            "bdata": "1VyRwnTJlcHro8HC+sI2whyLlsJc/XHCpk49wpSlkMIVIL3CZRsgwpx/hcLUtsPBzI73wTSng8LQ+4vBore1wvw1vMI0DfvBle09wqmQi8IhkH3CGLKNwgeDc8LSRwbCdAUEwiDi3sG/eLXCzKUownbLn8LQ4zvCbHK6wiVsO8IWVrDCfphDwrB1nMKJBjnCW6Jvwvo5gcIK/JjC0Yi2wkruncJXZkLCl268wnSLucJDD7zCKJsHwmqTFMKik2/Cy8RxwnSRksKixpTCxZKBwiDLj8IwnZbChEy1wnl7YMKL2xjC7SGRwp7kU8JwtpTCp+yYwg4IC8JOOgTCETazwny4ksJe20rCXgymwhioPcFqRzvC/DCswhZhx8JVmFbCKvDHwuIEncJcuLzB/KeewobovMKcd7HCtASDwe9YkMIuthTC6DerwhBD5sFn+ZfC07AywtUugsIKBqXCrhuswpWnrMK8phrCoNe7wqRspcKLWLvCQguwwhtxY8JG2HrCXxejwhmDZ8JvpaDC7osEwgr5tMLtV3vCyS/HwgNqpMJm9UzC1EbpwZ6jWMI6qqPCQ9Cjwu4kbcKbiXrCXIKxwsh6hMI7KXbCAidfwhRhFsKcMajCv1KzwlBsnMKGolHCOE6HwpkHxMJEXFHCt7V3wmCxhcJx76XC17hCwrUIVcJkSgrCjzWawnyDmcJxvEPCIPuzwfQ2HsLYmqrCxe6ewraRfcLxnXbCwJ0zwlYmkMLp+4vCw5e5worvLcJUKK3CpFmCwreQjcLrpbjCVLI5wlsXn8ILAL/CCJNxwWAJYME7jL3CRhMtwmdUgsJ4o4DCDpvCwurGiMLrAsbClYKWwu/ZTcJ0ZFTChu/Hwgp+m8K6ap3CxiJpwvwMDMIoN+7BX3sqwh0hkMKRoGXCbTyNwhWVp8KuJMPCXMeTwuTBEsKKUp3CBJqpwq0pvMLo46/BnD2mwjaLBsLIw4rC4PWWwt1ynMJoJLDC/y5QwplZS8JEv7rBSESGwiKvesJTibTCoLmrwWOBUcL5eoTCKGo1wv9SvcJIB6bBsod0wkRtqcIg+yPC9WWCwlkGW8IQnfjBfLzowVFXrcK7koXCPaEhwgm2S8K2mCzC/uGuwsvMqsJAqFjCB924wroouML8Re/B0g+bwkS65MGkxLLCjF+7wp7ikcK0H8PBkNClwSGQX8I3V63CnMmAwnCAqcF5caDChioVwgJWk8JRRTLC/Ja3wSooocIOgYXC0McEwrCkp8I+RkLCSBrPwT43Q8KmzEvCx2yUwogxV8IoZMHC5BSbwlRjksH8pdXBnmidwplds8LmmjLCXpK1wlg6G8Kb673CeO+GwuwCpsIasYrCoLmxwg78JMK7Ty7CEG9rwSaWxMJQa6LCyjGMwpIWesKkSjTCoiizwiGyl8JdgrPCl21vwjUIlcIQ2JPBl1p4wmapiMKyAcHCojlKwrclucIswKjCQNf0wdYpX8JHkcDCgF5kwZRI/cEhnr7C3MWgwUaPDMIOub3C/jV/wgBiesIRkEbCMkI6wl8tXsK1NbzCXKqkwolgPsLpN2jCHPcMwoRoMMK4tuHBjSIywiFHxMKrLZjCFMm6wslCZsJ/IrPCH4TBwtWFhcIo1LfCbL69wdeDOcIot17CDaaewlP4YsLzbozCRA+8wqSHvcEEjLnBjBmfwlUkTMIvXa/CbMeywTVjocKzzzfCQOb4wYic+8HdG3zCqXtCwqiGF8JcUuzBgv44wiL7csKbpIHCReZWwiTZIcIU8r/ClwZwwuWbTMIEr5TC5BXbwegZuMLYesHCHs7HwgqJxMK7QqLCsRGvwiz1psLeE5HCWEp6wSBu+sENBxLCtpe3woBc8ME=",
            "dtype": "f4"
           }
          },
          {
           "marker": {
            "color": "#00CC96",
            "line": {
             "color": "black",
             "width": 0.5
            },
            "size": 6,
            "symbol": "diamond"
           },
           "mode": "markers+text",
           "name": "Cluster 2",
           "text": [
            "C2"
           ],
           "textposition": "top center",
           "type": "scatter3d",
           "x": {
            "bdata": "BNJuQg==",
            "dtype": "f4"
           },
           "y": {
            "bdata": "FDo6wg==",
            "dtype": "f4"
           },
           "z": {
            "bdata": "S1l5wg==",
            "dtype": "f4"
           }
          },
          {
           "marker": {
            "color": "#AB63FA",
            "opacity": 1,
            "size": 4
           },
           "mode": "markers",
           "showlegend": false,
           "type": "scatter3d",
           "x": {
            "bdata": "fO8cQiDiPUComcBCAPxPQmw3XkJ8OV1CbBGnQuwgfUIY4l9C+BgiQaxxFUIMAXdCkqLEQoTxMELUgRpCfC6TQtCOkUI2UpFCDAgEQko9s0LI5BRCECptQrhiSEH0GjtC/saHQkh6ckLo1kRB8IPDQvzlJ0J4hA9C4MJfQTgYe0Lcx6JCcMlbQcz+hUKEK05CSN+yQaAjqkLYlYlChFunQsjCT0LAQPhBEM66QXKEgEIEa49C4K+5QkjpR0HAuUtC5LYGQszaBkLuy45CYBm4QCRUxkKCmK9C5CxXQrzMw0IE8ZpCdgeNQpZViELw1TtB9FNqQrRLTkJiV8dCDCljQrDbFkKclRtC4lXCQuRIpkL4hx1BYjeEQqCZ2kF4Rf5B6HmzQmjeNkFgr01CxMgDQlCUz0HSRa5CWFbCQZQm0UFAAJ1C6NNWQSxLjkF8sD5C2C5MQna5i0KAadJBVuG9QnC34UGo9sxB8GNNQjACv0JUHIBCqNAIQhDXjcAad7pCGHxsQlxvQEICr8NCWDVVQSydrUIGaLZCENPvQTAER0Iw6WhCEKh+QrhyNEK6NMNCTkuFQqzxgUIIXChCbD61QrDcPELocU5BaPp/QgDThL+YHntCYMb+QeDYG0Lgt0dCJH2TQriFrUKGwrxCNAtTQphwWkIAYHNCUATnQeIQvEI8yIRBcKRyQpBpL0JsymdCJn+wQs6ikkIQsVdCBMigQagMskEIAEZC5Ls3QrpZqULkGHtCagWCQsCaMUIQWChCnL06QpzWCEIozoZBAJdcQvC0jkI8NStCSuimQs6nhkLQf69AupaMQtijIkGQT1FChKfDQjg7YEHAjre/XAykQvDUT0LQMjVCOCtcQUScmUI2/YxCxKIcQtC0H0HwiIJBVDCKQgCMSEGEH2FCgLyLQhw+IEKorLtBdimtQnDk1EHMLKtCam6QQugC/EGexqVC9HuEQvyvOUK+rK1CIANJQiYDiEKejJFCkknFQgCI/UBIjU1CQLuVQsRVK0I8DBVCQJqbwCT8rUKMOQlClF3HQRr2tULQik9CdEXfQSADEEJsIh1CtvqUQmbNhkKAMY1AFLSPQuotpULw/6lC/v26QiAwVUIkukZC7CHFQciPxkLQIqhCsBevQqCPxkJQCmhCQB9tQrQCPkIgGcNBgO2PQpAA+0EUQplCsKnDQlCLRELe9LRCwJ2RQiZCnELAm7FCHAtXQiSdx0GkqzJCkK4KQuaHrkIoakJC2C5wQsZxwULcW8RCzGSuQnDxZELgC2FCrgijQmxoxULUTXZCvt6JQizYNkKuu4RCCFNGQlA6NkIUEAtCmGmvQTbdmUL6nsRC3NvCQniufkKMty1Ceny0QpCYEELEsrNBwFzCQJgCuUGctTlCcOI6QvhLxkJyMrtC0IFWQvT0fkKAy2xCgq6kQgyZeEKyx7ZCAHbzQUiom0K4rp1C2N6uQiouikK0tadCMJFrQkpktEKI9JZCfPlCQnaWo0JQrIxC1qaPQjheH0KQEZNBmJFzQggd+UHYh4FCNOgqQpaJoULUCzFClNipQhANp0GIDQVBnN6bQmSMCkLqGY5CoNVgQAxPgEIsB5xCVNY4QgBlu0JQDb5C0lK7Qqq7wEKIRctBfLdGQmh/AUKgpklCGNECQuS5r0IM5KhCSI9xQmxrB0J4ORZC0He5QewUBELU3a9CKANPQlDHq0KWrMJCNCu1QoyUr0K6/7VC2OaSQkCPqEJCkIJCOHjBQqhjBkLA2bNCQM4yQgD1kkIKXr5C8nerQt5Ug0JspWlCtB97QmzyQEI6v5pCYI8HQrLJoEImDZdC+CxEQlD7FELMRJ9ChDBAQpKunkL8UolCQEDCQh6zokI=",
            "dtype": "f4"
           },
           "y": {
            "bdata": "BGDPQdBhpELCCbpCMnmvQmjXhkJkk4FCqHMyQtzoYkLEUzBCkBxIQm6vm0JshVNCBCMdQjrri0KMiC1C3BqKQvAJtEFYBJVCFMxsQs7BiULUY4dClJqRQhgWcUK20IxC5GAVQqxGnULujYpColm+QkS/1UFGK75CgJfBQsxJZULeHI1CNpSNQsjTjEIIJkxC1CuyQorUjkKqio1CrCOsQogLRkJC+sNCdE6zQlYHi0Jg3blCdkCTQoJNiELEBCFCDIm/QqQ1DUKEElpCXEBOQsiWhEI072NCuETDQqR6jELwxoRC2DE1QvxNLkK01GJCSKNOQhTBKELWYKRCvIFkQlzqQ0L4K4tC2F9OQurjsEIkm5NCgoerQlZuqUIKT8ZCAOqyQnjYuEIcmrZCoA1UQpZQu0KIyX5CGPCjQtIOkEJAy75CCr+MQk6Wi0Jo7CdCNN55QrwNd0KWE5VCiHaJQqLamkLAYIRC/sCIQqx0q0LKxKxC9CWDQgb4t0IWvb5CTIa6QnT/a0LMjw1CxNZxQh48kkLsSrpCkvqaQsT+pkJyi79CQEWuQiDHL0IEVRZC3vXGQjDIEkK4gKJCfNWkQtydREIcx5FCWMywQaS3mEK4obhC5lWYQroBtkI4TqNCDGnAQui3EkKIxt9BSP71QaTry0H80GZC3KOcQuIqk0IyCItCIG4YQkh5CkLMyWJC2B+iQkYJwUKMKzJCyO6NQsQ4eUJcRoNCbJ5PQpAB8EGIOe9BToulQlRlmEKc9XFCVCKqQrjLx0Ik0mNC+BpEQqA/dUKMOKlCwAkfQoAgX0KUaLhCgFNcQkZ8ukLIdMJBJnKtQsRze0KURalCnmm5Qky4DUKOHJ5CHkGMQlydjEJ2W6VC8G9xQs6Rq0J054NCfBiIQgDuhEIUacNC0KP3QcZ5pUK8B3VCljeGQtCzn0KEHkhC3r+NQlArY0KKL4xCcP5jQg5IhUJ4L7NCQHwNQppktkI6XMNCgORwQlLuxkLIOFFC+EuiQT4Ix0L4R7FCFrK+Qgp/rkKqmY1CSGW1QgDoBkIIkK5C4JUdQtS6ikLQvXpCuCyaQZhs4EG8WsVCrKZvQlBeKUEQHQpC2A6kQgZcxkJoiHpCRCSdQkREBUKIy3JBbEFlQkiMR0IIWQFCVvKaQsa2lELkg2xC2Jq6QSA+tkIAqtZBPCirQi5egkLYyaNCbnPAQt6jo0JAATNC5FrPQVjfw0KsNlVCSPV8QnAfwUJgoGZC/FJbQpjLJUHojndCiNKXQoYri0L4JShC4HLpQYBYVEDcdz9CrBgdQoD3PUIkgh5CktKoQux+mULENqFCcA1wQu7LvUIcYsFCwqOKQhgKo0L+Jr9CKOiwQjyeVUJed5VCXGqfQmy0XEJIH2FCVBUnQpBoT0LcL1xCOICIQsAtskIMYcNCnB2VQkgyr0Lavq9C5rnHQiT6SEKIJMFCvBiCQjJQnkLEHbhC1heYQkCeZkIsXkpCZGepQuwwLUJy4KtCJKIMQkT2MUKMWXRCMOyHQtwauEJ0zSdCmAsvQmRDRkKkCKNCbNgVQhAeckJ8bGlCbpmzQmBiIEIAW6hCpEWOQoj1/0FsqCZC8BmEQrQNYUKO4Z1CBse6QghVMkEkGxhCov2TQhj8X0JQoJVCCOKZQqCt8kFIhmpCsHeLQi4bsEIwwLpC6DekQsLnl0KoabNCKIfjQRxVwEIADnJCKGWrQaCdgEIQT7JCAB62QUiCokLKgLFCIo7FQpwLnUIQxy9CFjGaQrKvrEKMTolCGF+KQhCbQkI01DlC/PVEQnT8YkJQGqFCCBOZQgC4B0IW2pRCPAGaQvYJh0KoNFZBlnGjQrjjrUKoWq1CSIdKQvCk/kE=",
            "dtype": "f4"
           },
           "z": {
            "bdata": "gIgfwMCYs8Cj+6LCfFuLwoQkkML8E4XBQHWlwsS1lcIXLZTC4ASgwETbusGdpG/CQDO3QNZEiMK7VzDCQAb4vzi25MFQ/z3B6KaSwb9OfMLU2r/BQGNvQFDp4MDYFepB9LqpwfbyYcKQINXAiH4mQrDQC8Hwe7RB3yKRwpsOUsIhI0LCDAXgwWgAKkGAgYTCAOh5PogvQUGwHp1BCAD/QVaQY8JgnAlBqICIQcS5kMIA8ie+IE67weCOd8FU2ZLBrtcrwszXi8Eg95lAgM8IQDDZqkGn3ErC4E5SwXDebEFuvE3C+O+ewgnfhsIAnv7AXDi5wvRumsL5flXCIGtGQSitNMEAr46+BscywvgXvkGlmxbC34i+wtxRC8K4be9BINvBQS52l8KEJAVC2MyDwtmsUcJsgNbB7BSVwZhws0H8uqNBSI43QcDHAkGgQEjBIAWUwuDd98CQOVbBfFHBwToFpsKBx8HCIE3KwJR6Z8KkdaZBsJyfQQit1sHbnjfCAFk0QGvoIcKAjZ/CHlInwpC4CMFQ5gLCuJ1LQfAJksDkNd9BmL0JwsG4qMJQ48jAzAwFQv0DYcIkJY3CIGoAQmBNLcBCTZXCMAySwECV578ZIGTC23KvwkCoeEDo6s5BgMOyQbAGHcGA+4HAQFPvwUDHU0B9fMPCjCZYwigpiMFU+PTBcmeTwhCm0cDgtoNAYI4rQUMPvsIgvcHClPXJweeHQ8LMOoZBQL1ywdjZE8FqDyTCSESRwsw5lcGgvZLCQPfyvwjt6UEaDg7CZi5EwjGYHMIqlzjCHQCUwqCh0sFcSdzBcIOGQKKGQcKA/0rAUbeVwpoJRsLYjwnB5LFvwu4Yj8IAhFy+G2CrwoAgwr9LqKnCsoi3wgRsdcIA+/m+dGfNwQD58D+kmHvCc95FwmTgwsEUW5HCINwzQMAlCEBYg5nCLjiUwt9Zm8IQbI9BLAZqwn7cf8LWr7DC4sciwjJbHMKAvMY/xNiWQWPMocLoUqFBV9GJwggMTMIwKQxCIJh5wHAw9kEknunBQg2DwmrgrMLeJlLCQC3HQBPYjMIo8TDBHKU1wmSZ7MGYtUXBnCKxweXnGsJwse1AiMJGQUxsiMISH6LCZ2eHwhAfW8IQvknBlBgzwnwn6sEA0JG+0Bn5QHF3o8IovwnBAGXlwDAAqcEeS6fCHAMOQk2ExsLUTNRB6NYQQRh02kEAldZAWgU4wkCIBsJ008jBgCO8QFbcZsIAcxDB7HXQweiP5sHAkWtBKHJAQTAM/8DUds/B3WS5wnhOQcGYstXB+PdAwrjvicISr2nCnPgWwggMhEEU+qnCXBuHwbWvecKEEozB8j41wpuzYMKQW0NBNT8xwkhOtcJwl7pBQzpTwuymIsIANJW9QOUgwkypiMECx6DCsMfxQUQAn8KkUvLBs2xCwozs6MFY4+tBhKmIQYA3YMH0d7XCU/fHwq2VrsIAZuk+mMIrQROGNsIYrgFBEHXLQChrs8I0zAFCgHg8QY2FVcJVoSbCvReewrDkVEGIyP7ByBOpwWCA0sCwyd/BuIRwwpAtwMEI8IHBoD2fQACOgUBImJ/BQkU/wgQG/8G8gZbCbt0wwoTBu8JmVAbCYNYPwRyWw8GAi+c/mO1HwUCrucBIDJTCNObFwgCRiUAxtbLC7NTCwZJcuMLIfxxBJGYZwrBQEUHvQRzC7NSlwVUiFcKmloTCPal0wsjnWcKIPsbCHLTjwfDWNkHt9LPCkT29wrYTqsJwBALCfHa/wsB06r+g073B2G6/QUDKucGwc7XAKACYwshgfMEgdJvCvLmPwqwpdMJzKGDCgER4wcLEDMIKbSjCcMn8QeBD1sGQ3x7BhHizwqSpisE=",
            "dtype": "f4"
           }
          },
          {
           "marker": {
            "color": "#AB63FA",
            "line": {
             "color": "black",
             "width": 0.5
            },
            "size": 6,
            "symbol": "diamond"
           },
           "mode": "markers+text",
           "name": "Cluster 3",
           "text": [
            "C3"
           ],
           "textposition": "top center",
           "type": "scatter3d",
           "x": {
            "bdata": "Lk9lQg==",
            "dtype": "f4"
           },
           "y": {
            "bdata": "WvSCQg==",
            "dtype": "f4"
           },
           "z": {
            "bdata": "pWT/wQ==",
            "dtype": "f4"
           }
          },
          {
           "marker": {
            "color": "#FFA15A",
            "opacity": 1,
            "size": 4
           },
           "mode": "markers",
           "showlegend": false,
           "type": "scatter3d",
           "x": {
            "bdata": "cFTpQVIqq0Kw3glCCAPMQTCpF0JSR4lCjMmCQjx+ekIgH5pCpr+jQhDxIUIgUGRCDv+WQsBozUDYBjxCGON0QtYGl0LIqJtCkNWrQjALoEJgWYhBuJUYQigwR0KM4RpCRDgEQkxHt0Jk2o9CeBn4QZiTNEKwX1JC4BMqQoSIUkJI8Z1C0PsFQqBEe0KIvERCfCdYQmDaf0KY/bNCmOHuQcg+G0LQJ2lCmCm6QkhSikIYPeVBPKOSQmTrukFkijNC+CG4QrzhdkLQ3KlCZEEkQtR1ZULgp35CKLMAQVSVskFghwhCGMx/QhSvYkKEQhlCjGtrQnjhuEKaCINCLoO0QnCN10FE/6xCNKw3Ql6Fm0JcN4pCnDaPQuBwHkFUJ1dCdKR8QkQBvEJc8bNCWIJKQhTJBULQ8/pBqMNqQgCYNELUak5C/MofQswVPkKWv7NCOM4VQvCr60CcyRJCBN0HQiguLELQzMBA+Is7QbAduUIYROhBtDE5QvD8NkEmTrZCgLyqQIxko0Jc6VlCmL5lQpgGQ0Jwi1BCAsXDQjRetUFQFiFCwFouQsBJuULiebJC7FWYQm77hUKuuapC4FunQE7Sx0KkoZ1CeK+oQkgSqkFa3p5Ccp+iQpgLcEJktFtC7AopQm7UxkKMBVBCnESCQlzFr0KQJnNClIhjQvAww0KkHp9C1vuHQnAEr0IYl6BC9KB7QoZzw0Jwv4pCSOonQlx/PkLwX0xCsoqOQhRKhELQpDJCtExbQiyVu0J4/19BeNniQVZDwEJIbT5COG5jQjb3rkLsygJCAhOTQgSEvUIEs7FBPgKcQkAqP0LwVzlBGOEIQpjRnkK4mLxBFhCIQsCZgECg9IBCLCVNQvwdxUKIr3RCqs+QQjREpkKIxfxB4LcnQVgCBkJ2rIlCKBb5Qex1gUIA6atAVh6YQtQpxUJMantCzAuxQbQ2GEIm78NClDayQrwGDkKgKr5BCCNWQoCql0K2V5VCspufQoQAeEJY/7ZC0hOPQsB9h0J0qgJCbEBkQsjcuULWp55CGle3QlRTMEL4sglC4EXgQTTGk0JQR4JCxEhQQtjBuUKCq8VCzrzBQvzrVUL63MJC3A6lQvwJVUKIXX9CohChQsQOz0HoDrVCyJOPQahPxEFIp1ZC1EdqQoAzsb8o6D5CsIQqQRTzlkJMpZpCSA1IQoCKkELobolCHENXQjjmMkJIDx5CHGYvQpKilELgiKNBcsKXQnDonEIwCQBB/JV1QlApX0KU+phC6uSzQgiFfUKwE4BCcGGrQpYjgUKURZ5CbBh0QvQewEEyBo5C0CqCQmCXqUHgdkNBLB2iQdCyGEKID7dCwo3BQn7mr0KYN1BCRMU0QtbqjUJeoZ9CNCVjQlyWL0ISaKFCQOTFQeQ0RUIi3sNCRIW2QoASVkCmnJBC4GuiQoRACkIIFS5CsMQlQroqk0IoXsZCun7AQlDQ/0E8jQBC+IQQQow4wUI0gRZC8I+/QZwXV0LmFK9CEK2DQizWbEIQ2VFCKLJHQgBE0UCc0SJCiFY6QgDZHkHIBhZCIN47QaiIuUKa97xCXAg0Qqh660EMZqhC1MevQnrFxULMHHBCrNhcQvh6nUE8ijNCrGiRQjy4e0KMlI1CDGo0Qmo3nUJgkX1CYINWQnzitkKkTZJCFLFVQh7AxkJMWCxCgpevQswTkUEQ0exBNtmPQrw3M0KoTfRBmMFKQhqskUKUVsJClKXIQexblEJMjKJCCGQ+Qlz6M0L++LFC7P6JQZg7kUIUUGhCFMZKQvQOT0KoB+BBynGAQp4OvkLIrvJBigyHQqhhu0HOuY1CKKSaQpARb0KoGxdCOBLRQTp9l0IUrMZCKLdyQnzhrEI=",
            "dtype": "f4"
           },
           "y": {
            "bdata": "gEiFwGTdosGG9ZdC1BbNQQCcsUHsUnhCwEOvQaTYT0IEK7RByhIfwkByA0GY6CpCtN2zQjhdT0GMuLTBFF2UQYDpVUAc3aVCMGgIQnwxbkIwc1NBFIH5wawJHELEkx/CYOEEQBW3F8KgjN1AdIGDQZiFe0Joza1C/FCkQcSTUUJ4gKxCxEdYQuBHF0HA8AlAzKSPQhCLfEKKG4pCDINbQmD2J8CA7vnAIHh8QVh2XkEAcb/ACPPCQfgoXMHEUaBBhMOZQtjPj0Io0uRBsA+5QkDfXMGr4xjC3EaAwUwNVULA7whB5BDBwYhlvEJggvlBgJQAP5zFtkLAMO5AWM+IQpz+okEAMGQ9pPIkQgD3ZEF2l5dCLuI6wkBgqUBEQDZCQIeKwYgnV0HWJYtCqDQVQgAp4T6jsRHCLK2xwZAw9sEQ7CZCCguQQmy9ykHUHhfCgKQXQsBEgsB0O8LBQI7vv8xiAUJAxA/A8CsFQqwij0HciNXBwHWAv4iAaMHiialCQAJ7QNG1UcLcK2FCOgmpQgClDr/0pZJCAgaPQnjWREKwioBCkKFvQdijdMFoN3lC4C4hQfDs9EFg6I3BsM09QVTGrkJg8XVAZBXEQbhPKsFYiL9BqJQywQhQF0GgKP3A9MMnQhjCPcIqCZ1CQPs3Qky3WkLYyJxCxAfSwWb7qkJQrgxCzJ6EQiAmkEH4NqFBgKCqv7S83MHYavxBMPTZQRRFCsJUdrxCYETgQP5Vh0LQeDhC7LMPQgAa7b4A2Ie+tCATQvaesULsPMVCGCC5wXCRjkKA/Pw/gO7NwCAQAUHQWkRBqK9tQUzJPUKMc5DBYBgNwWSVhMHAlfM/QA1tQVSTgEFsGb7BbJt1Qq58ikLg6ARCVleuQmj5ZkJU3O3BoPtsQYhDc8FIWzzB4PJYQZCsksAUcZRBaH22QroKhUKQbZtAiEIOQlCdcEF8qnVCegafQmDSAUF4llhCWPVXwSD+g0CUH9JB3IkKwlCrxsEqRL5CYPkYQRAzZkHsO7VB3eYawnRfuEKgWH1CjG2fQhhEm0JwlwBBkEPBQLYNtkLY0S/CsJwiQgBiWD40S2hCiL23QUbyhUJGeZpCcADhQXgldkIE2IJCnlqRQrgVP0Io5zpBeG5NwaT9WELEyLxCFFFbQsDaZEC0V8FBcI7bQEwpIEI4qwrBxkuTQtBhj0Gw1m5BYJd9QcjshEJGDqBCELoJQeCG70HQsvhBoFesQTsNOMJAmo5A4DwGQChQCMKAwqTBBEOkQkRSb0K86t9ByNI3QfgtWcFgDalBfOoDQsDJVUKCqqJCXliTQigW6EFgjwVCACVgPxj560FUcY9CiGLQQe7nx0LkA9tBhji+QryUDkJ0uK9BVMSRQVARmkHYWQRC9DgwQlRnnUJEYZPBBnOpQngtTEF7iiTCgOTKvwjHY0KwktrBAB1lQojUUsFQMU3BCtEMwpx1xUFAOi9B+LpGQuS6iULgAVHAEFuSwAwROULx5BnCkK7dQeZVqEJwK21BcM1/wZDNs0CY9SVBwBTrwPB3xcCAcAzBgJHlv0juhkFgVRtBbGKZQsAnE0I48wxCQMF3QLRi+MEQh4FCcGL+wNhRKUF4WoPBFh6PQlRx1UGURnJChJzPQZhoCkLI/MFCZLGFQZCWuEAwO6vBmBZZwXABDcJcz6VC4BxmwEijyUHAQLA/MCtsQarZgkJAs7zAAKseQljBVMHApJ+/iAW5wQBB9D90OAPCgFXSvzZxukLccpFCIAYwQnBkgUA411VCfKa1QbhJYcHgg2JAcPUNQjSqR0IImp7ByIqBwbDL7sEeMSHCXAcyQvx/r8FcNI5CYraCQv7gxEIAV0I/3B5CQiCbOEA=",
            "dtype": "f4"
           },
           "z": {
            "bdata": "iMgsQjJgvEJSkIBCPNeGQlBYqUFgXMRCdHAQQtBjskKEEFVC6EGHQjwuPEKgkxRCCJpZQkIZj0JkMiZCcNMOQpQcOEJ6zaZCwn+lQhTIpkI0WWNC4OV6QqCWC0IUYbRCkqC9QggVXULYGWtCyLezQYZqi0IQ3L5CFFKTQhgCAEJ2NJVC8PyaQqDFJEHAFExCSmmCQuROSULIBHJC+LweQhCiZEGwjr5CaEGPQfQRhkJgEJBCeDtwQZ5Cj0K4JjhCJAUoQiytU0KQMbVCzDReQvDKykHUWaJCwMs3QtY+k0IAsjFCePuzQsy/wEK8P0ZCKMggQchJkEJ88rdBAEKXQvyqKkKISFJBYFarQgB1MkBsmmFCELaxQmDx60HgYK1CMAyTQepvg0KAMR5CgvO+QhRvXUKScJVCSH5XQkTCWkKOr65CslidQsb0i0L4iFxCCvfAQmJYtkJQc6dCtI+iQcBrq0J8bENCAA76QUY2ikKsGT9CpD2KQqy+I0LWHKFCVPVSQgSewUJUDDNCrDxjQsyAo0L44jNChFi0Qt6UmUKEGH5ChMxTQkCX0kCIeaRCAJMpQDS+gkIEEsdCPtSLQmwzqUKAaY5BvhqqQurIjkLsmQZCADHLQHSKv0JG36BCmPgAQuiGsELQyrxC+I7wQdxSQUIwTy1CdCFjQgyWYUJA82FBlJCAQpatwUKkx71BaJ4hQnzkmkJ2NphCHDlWQpRAk0KuaZFC9C9HQjRjwELkl4JCZIMGQkAFl0GkjtJBiPLEQkrqtEK4y2VCLviJQnBRskJkDABCTpGrQk5NsUKYPphC7hnBQsb/pULY0RJCYF0rQsTEgkLiwr1CIBfVQRAUukIGk59CYLyXQj5OsUIcF2JCpGU2QkzBZkLCQ8RCePDuQWh6hkLMlD5CEqurQrBVC0EIyv1BFpC5Qlwol0JEHrhCDoSxQi7wh0JQRzRCJNBgQjxvYUKsddlBACXBQWT/FkJIKG9BoNxuQtgBekIU+IZC0EAHQvIcwEIEY5xB/G62QtJEmEJQmnNCSsO4QlBqh0JQXndCipOVQv6SmUKSopNCoPmgQjwIH0L4hXZCOKV4QgSxEULgBDNCLKeNQqTymUL0cBNCND+IQqDpwEGY97FB1GoGQsyGiEIezp5CnHgvQprdpkKQlAVCPGotQlTZZELQgkFC/PE8QkAlhULI4fFBAougQty6oUJoomtCZq6AQvjPvEF+KYpCeMGRQoZevEKwDwRCFlGTQlYlwELUbVFCRH5PQlAiwkJ8y0dChOzLQV7ll0LQ0a1CYEYqQpRJdUKUVotCgHetQljewkIwpilC5MeuQtpZnUIIbYhCvKPfQYqLqEICmZVC6DibQlhgSEI4uxtCmCVfQggqsELkAaBBtKp+Qqq0oEL2I6hCkNaGQlD5LUKAdsNCkOjuQCzOoUIeVIVCpECEQri6i0LQEGtCnN1mQphVeUFMwbxC3CAJQozSi0I8X7tCAA/WQZSvDkIIJpFCzAskQqrwsELwNq9BzKM5Qthiw0EKebFCQDCSQKz5gEJkht9BWDphQrxTEUIItBFCZOZYQnT0jUFI3cBC2B04QjwxbUKwHLdCQOxmQmB7IUL8/KdCMEaOQviIrkJIMwpCPDCqQkxxhkJs9atCYBeZQBTnukJmHrRCyLxGQgT0w0I8pLtCEKy/QOx+MkL+SKpCPOCZQQBUAEJIYZNCWKI/QujnpkLQjQdCHrKiQozqIUKCNahCkGLgQCSPV0Kq0a5C9IDHQcDEN8CodLtCeIeaQnJIxkLwW+lBPqHEQlAKtkEue6hCNOcfQvQtukI8l7RC9lmiQninmUI4fRhCoqa/Quzxa0Kk0dBB2NiyQlQgjEI=",
            "dtype": "f4"
           }
          },
          {
           "marker": {
            "color": "#FFA15A",
            "line": {
             "color": "black",
             "width": 0.5
            },
            "size": 6,
            "symbol": "diamond"
           },
           "mode": "markers+text",
           "name": "Cluster 4",
           "text": [
            "C4"
           ],
           "textposition": "top center",
           "type": "scatter3d",
           "x": {
            "bdata": "yWNoQg==",
            "dtype": "f4"
           },
           "y": {
            "bdata": "0ReuQQ==",
            "dtype": "f4"
           },
           "z": {
            "bdata": "ZaNvQg==",
            "dtype": "f4"
           }
          },
          {
           "marker": {
            "color": "#19D3F3",
            "opacity": 1,
            "size": 4
           },
           "mode": "markers",
           "showlegend": false,
           "type": "scatter3d",
           "x": {
            "bdata": "+NQFQsiuMUFw8NJBkn8TwjxCH0L0QYRBAFQ2P8wRosHYg/1BMCWbwIgw0EEUyyNCEFy5wPDc/MFwujJCEACTwURytsGMccRB1Hm7QejVL0GA3v1AINeiQCwLlcEoMS9BIEiQQIiUb0HAGa1AAGOiv+CGj0EIvwHBkFPCQOCNvUAIycVBkEP0QYx9lMEA+UtAQDAzQMjZRMHgakVAUO+4QVB8qkGw52dBAMhZvcCqe0FIzaTBrKzEwXSE/sGAcxTBaHwDwWD5W8CwZHjBgPSvQGBa20Ck3oZBmM8nwfxrrMEAQKO807YdwoDZZUJI3xtBsCjuQbAbA0F8SZ1B0DQYQoCLTEIQlpRAaMYqQRhuD0LcX4jBuHVAQTAAI8GMLblBiHRTQQwusEGIoQLBVDNLQmQ9BUJg6wnAyO60QeiHAUKMrB9CsNo7QdjDaEGMsgxCsOCBQVBymEFQCZ5AwMiXP9BMJ0KAlENAqBZQQXT/QEIMiRtC9HXBQbj1c0EgHqZB2E4QQnDgx0CErNvBAGGSQTA2lMAA6SjBEMmAwUBCX8BIHSVB4Dg5QtB+XUJwAabAMIU4wbCez0Egj3PAGEM2wQBJfL/YUFzB8OznQBjWccGY9B/BmAMZwZBdA8F47zJB4AzfwCSzo8GAycU/COIHwbhD6kHgF+RAWFJzwWAuUUDkZ4HBYLDwQDiIq8FAR7a/SI2vQdCx9kDAYjRBMPAZQcABgr9cqxNClMjXQVy5xEGAv1m/MAImwTCM40EY1XRB4MDoQTj+JsHMSipCjfQTwhSKpcFwPrbA4Ee4QQC2Fb8QINnBAFW5wWD1G8AwXebB0IvoQEB/j7+Aq/NAgB+lP7CphEEI2PhBQB7yQCxB0kEUCLNB/NDRwcD1okB47oFBCGaXQSjnlkFwm+dB9M+UwTQkJEKQlCJCqP4jweAE30HQPEXBoIebwSBAQcF8YVVCCMCMQXT6qEG+JDLCAP+Jv8C9TUBIipVB+G2MwWD8h8AU4q7BbJIpQiDznEDUjDBCQFiFQQClZEAAGmZA+Do8QTw0iEGQ51ZBUHvMQWh0NsHobkRBfI6OQaDbK0LQi9NB6BmhwZDmlkFMA5pB4KM3QTQTwcGQWnnBTP7JwaCwX0DIWzJCBEwEQgDGPT7o7/tByHQdQSCTMEBwKFtBMLouwXBOmEFgnkRBSB2sQRgyKMHEoqNBoJMOQLgQMsEgIBRByNutwcDqQECg+JlAcJEwwQCr9UBAEOu/0MfiQdiBQELAR2/B0HMdQVCD68CUhkBC8Al3QZjIN0IALgO+IL0eQdDvwkGQXxFB9G68wbQoi0E8HUFCAK7ivkyA7cFQguRAZGEGQnCLLUHIBylC0MSwwTBlbkGAgJZAsEl9QYg6YEGQX8nAwKGbP8ixgEKAyj2/gEGLv7DghsCACKDAeCIBQiAC2EBEgAxCcC3ZQcBE2kDQ189BSN8WwTSJbULInh9B6Jx7wXR7ukH0itJBrCttQsQHgUFYLRdCeIgOQqCgQcDoAJTBNMsGQkw4r0Eg4XFAFJEEQiDxPsEIWRlBwLauv1hLckFgrglBOHXpwSAgTMCSvQXCNIyYQUBchEBMRGhCkPu0QahQp8GwsO5BdDunwcBq8UB4zpbBmPhjwYDggMDQex3BAMESQJj2lMGkrrRBgGcaQVDnoMBAHqk/vMUFQkTct0FwN9DA4B5jQSBodcDg4KXAwNhgQNAvjsGQxTVCUOWMQNg7LkIINhhCWBgiQQDEPkAAxNE+TCMrQqyRlEHE8sHBULWGwFAceULAXm5C4AlAwRCxDUEgCrZB2LRqQvClR8HQeX1CMOKdQChpucEAdLW/QLmbP3BtEcF254BCRF2JQfzcB0I=",
            "dtype": "f4"
           },
           "y": {
            "bdata": "SJMHQbzbl8HQpoxA4F2wQExKj0GAcNG/PBNLQgimg0HgzgvA2N9RQVAQi0BsAqxBDOR2QpjbQMFwtUZBAFg7PYBaCT8YDCbB8HZOQSAw2cEqbwrCfE0fQsD6lz9w9zRBwNEswjj+AMKQBopBXPARQtgOmUHAx9S/jBuxQXhLV8GyBwfClOU2QiAyUUABPhfCqGFhwZC9fkE4DZXBON43QTgH5kGQAovA0GRxQYDKYcGwl85AgEGGwcjjdcFAz5NAMIDmQdyBu0G0OwRCjDl+QqjKRcHM9KVBWKqUwRCI4sA8V1dCQEHvvzB1F0HAFszAgLegQYBKusAQ4vNB4A6/wNCETMGIHWdBaJBjQRTFuMFwYeFA2L5rwbT72EGQWiTBYKa6wIAlHkIAVONBmPprQXjpmMEgGy3BkGgswTCJ4UEoTibBDA4fwgCc5L6ARC9BwAs/QgBylUHcEDdCgL4JQgTmmUGYxFRBeKZtQWz/FULsIpTB+As3QdbSIcKgKBNCMBa2QAb0DcJQExJBAGoYvpAiHMHsTLJBkLD4QSjUD0I0rYNCYGOeQOz4t0HQS+VByG0twZBIgkF4/TfBHOSlwXxMQULoNjDBlDa9wZQU+cEc6opBaLVDwdjtH0KoURhBYO2vwYBZe0DENJxBaCSbQUBOEEAgqddBWAKqQQDX7b8Alr9AYCJ4wTx7ykH0Ro5BMGA3QVCqV0LsrJzBHmUKwuRbK0IQjOxB4HzAQaDgO0CAVCjBgO4VwABy8kAAm9XBwDEawRDzgEEcwJLBAAi5v3DUGULolAdCkGkrwQxgz8F4dzVBSD6eQWhi9EGgrmtBqFhZQgBS4cFov5TB2NLVQUg+HkKQuWvBYPrNQGwL2sHAozfAWCXGQQDKR8FQ5fHAUK1GQchZxkGIr9xBCK0NQTj9v0H8+D9C2M1kwRgCw0FUI65BuNUgwXDYq0Gw7QPBQCnAwHh4QkHgJgTAXFsmQmCmQkF8vc3BlOwUQngiBkIgzhdAGGbLQdD1bEEANARBrFtDQvBtPEFIW0FCxBiLQUC05MGgrwxCgN13wfiqJUJ0i9bBcDhFQiAIY0EghdhBeJuJQdQ/UULI781BCEZyQfA5g8DswZdBIN9UQQz3p0Eo1j5BAHJKvrQk9MEQUytCpAHhwcBdvMB0IgBC0E5oQeRgJEJgAXLAgBBewHgStkF4nuRBvIVTQrBgOsF0cB5CMNTSQIDo6sAorpzBRUUXwuARpEGyaQXCoCJCQHDivEEgw4tBbENJQgxKLkLgmnhBACe8vuAhfMFwDnVCICpVwGAPrkB86d7B8Dn3wMCaasGsVN5BoKauQYgAkkFc5EBCjC0gQhSnnUEUsBFC4F0AwRDo9kGM8TRCxCLFQTj4w8E0/hZCMLIXQhjVMkGcxqxBsAWIwOj6HUHgDrlAaEdTwSgWXcFYK/5B6OsIwXBtRUKAqPe/YLN3QcC+27/EqdLBAK4RQUDZV0BcW8BBXEWiQcDemsEQ4m5BKFbnQcRENEKQEbjA9GabwQB37b8giSHA+BZ2QQw7AUKdRzHCPEtaQqBZwcGgHnvASMIFQe6OAsKAEkjAoIpTQeRupsEgWVlBpGG1QTiWCkF4gQDBwLZWQGBDLEAo7FRBQJxQQPwwrsHYvWJB9DnMwbC/N8H0GzBCBL0rQjR178HwERXCQC7sQZiGB8IUWxtCqHukwSgNbkFAfFBCsToWwhDGtkBYs5/BeGUWQWCIP0DwaVvBGIlyQqzSyEH4uk1ChN6aQTBX7EHImq3B6FYWQTA9aUHQx7lB4NOHQcycgULoa5HB6FLEQfhuK8HAo5bAELd5wQiqw0F86QPCyF8HwZgtW0LsoJdBQEFkwOg+KUE=",
            "dtype": "f4"
           },
           "z": {
            "bdata": "fvW+wmE2wMIYq8vBvKbQwbB9xcBgWd3Bjk1TwhJIh8KGfADC4PBUQM8RqMJThBLC8G7NwH9egMIIcBPCgDxmwulpuMIdQLPCmuFMwj/6XcIIvnzCECSFQKr/FcItPcXCDLPawfC8QMILUUHCHP7RwciWckFBpEbCyaxXwg9tjcKWsAfCrB9ywo+FecJO0HLC5dsQwrsUccLz5BHChMB7wtAu/8CiUZbCraFowhMeEcJqoh/CZNWVwrgr7sH0DzvC4Olywliu58GCuEjCc1xewlAemMJqCbHC56cZwssKqMLzGK7CX+Q5wjYtDcIGE07Ca4wmwrp8m8IjV6bC8JCYQFA5XsEsB5bBsMhgwVTbs8ET+mnCANTTPoUussJA1J6/fP6Wwu4qfcJ5OYzCxG2pwjBFDsIkWYjCeI4nQRZVCcJoCyfBsG4HwgSZVsL0w6XCDG7DwmDJvsA+0ZzCd7+8wsQFl8JT2HHCBNuZwvcRnsJC7x3C9IW4wopnE8Kg+XPBn2DCwsxX0MFMF7XCgICpwhbOT8K+nJbCoOsZwrxKqsHIwMPCWFMQwmhir8Lw65JAFEuZwsXef8LIxmzCAMONvj8xksK/qHDCcKgEwsg8BsKc+6HBuqmSwgDcez+CFJ/CvIk+wsb/CsLssqlBDLQTwjjPncKUlIHCvfdqwlE4xsKS6ZLCgG2DwhRMmMIAxrM+ZUgTwtZdnMI367PC9+aIwgiCcMGMKJfC7AQDwgAL2r7hI2bC6CkWwsjfJcHiNhPCrUxnwg6qC8Kc07HBujoAwoAsPsGgQmTAGKcSwevGdsKxtMHCAUlxwsA7RkF8/TnC3267wsxgwMIqX5bCoJguQNCfSsGAUcw/i5m2wqhwDsIAeF++FD3zwSAVd0CWR5jC9FPOwWikusH0RZ3B5Hudwi+rZsLx2LDCqIGtwnDz/0CgUk9Ae9SswkOrmsIwofnBu6UWwlaTgsLi4BXC2Vh+wghcscFYNF3CgHMpvwyPmcEawI/C866lwvXrcsLAmdw/3HzLwTZVUcImbCrCvPJlwlw2nMH0XMfCong0wqTVFMKAFyO/GsOGwpJJN8LtnVnC6PSjwrAtn8JYrY/CAB/CQPUTucJhXsPCJcdmwhLDYcKKcInCsN6QwvcjXsLlrafCGidcwmksEsLkkcrBtRmXwlnTn8LQGH3CcsG5wgRttMHe/BjCgErXP43SrMJZIRjCwOKAwE25nsKAAETCyNtBwUDrxMJk3IXCpCWrwh38gMKAI8TCIW7AwrxejML4nAbBSJtFwfqnAcKt7FLC0CKYwl/ejcJATO/BYcGowoBkR8Et9SHCDQ5+wgXqOcIARQE/IF2VwjApBMLGJWLCR/M4wiBYvMDocD3BgFd5v0VnecLgQ1LBVBGNwtDH5MGUsxHCevQOwoCaJUAMXw3CKHBKwfNOQ8KoeqTBwEP6v+ClAMHGrV7COTBewtQGz8EARJ4/Pi+DwjMYq8JfI23Coha4wugD8MEQq4LCwK2awaZrF8Kg7k7AMD+5wHg1isFLL1bC2kB+wteprMLm3BPCYOJCwgCVQcBWYD3CRtKCwlRwlcLnxSvCOGnKwYCQiz+sUkHCqAxAwgSRo8GnV6DCYJzOwEAWDsCETcTCQN/4P7puv8IA1H9AwAz6wJLBq8IL3WLCkxc5wlx0msHULJzBjXmywhhT2MEgCb3BinuUwoJ+kcLYGmjB8S2VwnVjGsKkB7TBcQYiwixLjcGgBqHATgC5wjZhhcIsuZHCWEK3wflgF8LIi3/BCDvEwrK6hMKTznTCqciRwtMTk8Lg9ubAS2Cswsq9AsLwqSHBiCCCQawdgMEc+jjCAOA2PuAK98A5UZTCVdWpwmzUmsI=",
            "dtype": "f4"
           }
          },
          {
           "marker": {
            "color": "#19D3F3",
            "line": {
             "color": "black",
             "width": 0.5
            },
            "size": 6,
            "symbol": "diamond"
           },
           "mode": "markers+text",
           "name": "Cluster 5",
           "text": [
            "C5"
           ],
           "textposition": "top center",
           "type": "scatter3d",
           "x": {
            "bdata": "qvwgQQ==",
            "dtype": "f4"
           },
           "y": {
            "bdata": "LycYQQ==",
            "dtype": "f4"
           },
           "z": {
            "bdata": "fm00wg==",
            "dtype": "f4"
           }
          },
          {
           "marker": {
            "color": "#FF6692",
            "opacity": 1,
            "size": 4
           },
           "mode": "markers",
           "showlegend": false,
           "type": "scatter3d",
           "x": {
            "bdata": "MACNQDeCZsIAOGLAQGYyQRdwesIAiDTBtLuCwg3boMIADlK+e1yawhFohsLw1wzCjPeLwswyIcKQX67A8GdqwcFJk8L4HrVBcouawjRFkMJwUSxBzCEEwlC4EMGIU2hBoBfkwGmBucJIhrPBN7czwmFuO8IAngy/cFOeQP7sl8LAyIVB4AVZwNFwHcIIiuBBUP6hwUXUpsJfpYnCaBYXwcAiE0CQ40NBTFbOwSpzgcKhnpvC+GMCwWJ4dcIt6j3C4GJ+wMy9iMJyjY3C9PvFwjQUt8JAxfG/QLiQwWDu4sDAexhBjYvHwvMIMMIAgAi/wJ15wm6OZ8JD36XCkQtAwsCbIkD5vY/CUPXBwfqcL8LkiSnCMWtxwlCERMLEnorC4Bo5wcP3rMJpGxjCnkSUwj9Cd8JwmBHCrQc5wtI2lcKS34HCQK3jwDhvTUEguAdCYGMLwljCTsEQldLASbkxwhBtgsF0RQlCYNkcwXzWscJ1tFDCbjq9wtiNQEFK3RLC8N+jwqA1R8EudGLCsOu1wgAd6L9rC7bCNEABwgKTkcLApEJA+NIaQvhB88EoaeTBAMq6v9plTMKwPWnBgHy1wN5qS8Kc4ofCoO3PwSD4dsIFM4HCkPbVQQAVf8AoJkjCcoMZwkjefUGSOIPCoGEhQFoyHcJG/qbCAYqcwixLp8Gg5XfAf5qrwgBQwb1CTgDCPkWMwkh7OsJJ7oDC4PwNQZAPZ8HgN1nAuAV+wTwEI8K97p3CFBmYwo67a8Lmbx/ChPukwdx+qcKB6ZDCHqGEwjAsNcGETxJCwZ2PwrDWzkCqeV3CIgIqwnQ1mMK6QrTCDEibwoQGk8FoAZzC7MV1wnhDCsKqWsPC/MGhwW5yp8IAIOe9yNA1wkIoisIEpoDBSd2vwkqDtsK5hVHCQCM5QdnPksLQGapARAeRwuDFD8DAAcDAoFApQRw2vcEweS9BoPl+QZirGcJ4tdBBGmSMwnjt0MGuKarCEBo8wUTcg8Ho0BHB9GaAwQiMmEGLG4LCcGSiwIAyl8EGI7fCLLxgwktqW8JBB03C9pCQwviXJ8IQJKTA2wahwrvXsMIwLvNABg2BwudEjcJ04LjB+EPFQYh9ScLEEC3CnLnkwdDBksKyw5bC3BoIQtDcIMFADbHCM1Qxwpu5bcKQWN9Af1lTwpTAx8JK1iTC1SCnwnCvw8Kgcp9A+j2EwmjMSUGQFIvBcAC+QPmBxsKgeeRAn/u/wji8TUG49rrBCFiswUgLgsFIYJ7B0CR7wXBGAcHvPFvCdJWHwidGFsJIp5XCDkiLwhD/Q0HE5QXCG9sSwoAFJEEn3XvCGNvrQdgsvMH74LbC0YEnwvN6v8J5X43CIHzbwRjFssKw3LjBTU2uwpR8zMGAibw/UeKPwpAkzMFk35fCkOAKwnCrccLwbjFBamOmwvjQAkG06rLBOJZkwSRzisHY9R1BWDSJQWh9tcIEaz3CzBfIwYIot8IqYb7C00FownBHCMIA2T7BOO2TwS6SAMJAbzDCmEdVwgAWd8FzSqHCqFhhwbXXWsLM5b/Bjo9RwlSPD8KCaSzCULWCwAiXScIzAkzCcxIxwqh0bMLMApTCG3x8wmCTgEE57cHC/a5RwsBUoj8D/sLCKJKxwsvOjcKggBLBkV2MwpBoscAbJmXC4GO5wQQsW8J1F2nCCNa5wXTajkEK5pLC2S3CwgCowj1I767Cr13GwoBIc8JYqFjBAJGBwrBimMIABoW/UNxyQVhZ1sEsO/jBz8yfwoqHMsLo7VjB9HigwlhdN8HAWrY/IAOawGA658DM30PCYHWBQJzVS8KwDHNBCrOAwhTBvsIQ1UpBWDF9wXDi5MAgaYfCnKROwtT7dMI=",
            "dtype": "f4"
           },
           "y": {
            "bdata": "nCOYQsYJsEKi7pNCkMZtQuYtikLkGwdC2PV3QnhvREIAedRB0P5YQhachkI+uKJCEKbCQhDcK0J4IV1CGB2mQVh5vkLkD45CVmqVQrYhpUL+EqlCdlSLQj7riULa58ZClBXbQSiYWEIw/fhB1FBIQrpWlkJ2U7RCWLwNQiQ0nkI0akBCEPebQvSavELCyLBCoDWlQQQYRUKKJLdCQPZzQpYUnUKETVhCiFm+Qj6MnEIMHElC8BOlQfhVakK2/cBCYLA6QozRp0IiVYFC4DtRQoB9j0LASUlBXJiZQmRja0JGb6pCCkeHQh5Jj0J0VDBC6DOcQqohoEKcfE1CdKi0QgRnw0JcNJlCiHMVQigHx0Is9DNCRhGFQjyAlEGCX8JCoLptQo6wiEJGo8BChpu+Qu5FmkIE9IRBHA2uQkYBikKcaTNC2OalQVYGt0KoArdCkCXhQVIot0KUuY1C7DMvQvBHE0LQr6ZCjI+tQuJGiUKgZ7tCSCKhQmY8uUJQmMxBvi27Qp7MlkLexKtCDOq4Ql62qEKsgi5Ccs7DQmzkb0JQeVtCnNa7QqCFl0Bs0ltCyIGYQhZKvELQBoRCMAajQUwMk0JYJFJC7s2mQsDBY0Juy45Cji2KQnqGg0KgFrtC+NZIQoiHaEKgYvNB9AaiQviXKUIsmZJBxtKfQsAOWEIYnkdCQt2MQsbKqUIAegVC9J+MQvRhYEL4wUFCFCEQQhxIrkFOwIZCwMRnQYDEmEKMVsVCPLEZQvYcukIcRR9C+D56QkxFekKYPMhBWq2yQlCTSEHgwrBCziqbQiZmrEKsf8ZCdAe5Qvocl0LUpWlC3FZHQkxsnUIsrd1BDI6kQnSkrkK2p5JCtrLBQirBk0KYYmNCAszEQjrjqkLwHzRCDJo/Qgr5hEL04RZCsi+jQmgWckKSfaFCiqScQshgRELKyYlCAKh8QpJtlEK2Lb1CbEawQs6ZukJs08ZCLOhWQoTXP0J0k8VCwo/CQpD880Esv4ZCLIB1QhKvwkL0MG5CQGuVQLRjtEKg5DRCFhaSQqCIwUJkiMFCaGQTQtiRrEJyLq1CAKpNQtRPq0LUSIpCCDtCQnYykkJ0J81BxN6GQhhRG0KoO4pC2Mn8QdiRu0E4iHlC3gewQrS3xUFw0r5CvNGNQpwyMkLccBhCpN6WQpybXkKsQQNCJq2+Qrglt0J+RYVCmEG7QV6gsULI1bxCLHcDQlJMr0IgXWpCVEpSQqY+nUIgJcZC6sSZQoQrrELSxYVCznGWQrDIRUI8sTxC2NucQlTYcUJozjhCRIygQpq7p0I46WVCpJDEQpANQ0KgPW1CQEizQsgRbUK0Cp9CgpWxQnqBgELQAEBCyDoTQXC5i0Jw4pJCfp+xQnS3b0IMuSFCrGNxQrD/M0LELSxCEARmQgwLZEL0uVpCQGquQsg2r0Job1lCtJOjQpjeCEIKE4BCAhymQoRZZUIcvahCDIazQir1qkKgO7pCqFg1Qci+MEIY0NpB5OZjQrasi0KExKpCdKW9QhClpUJE5R1CboGHQuiExkL+OcNCYCyvQpQ4MEKc4iBCgKTEQgjQ3kGoAHhC8O8tQoyRAkIeYcNCdCF5QqJuuULWmKpCPtuQQlB+RkLyDbtCcKMJQoDjrUJ6ZZJCoB8AQjyBwkHYp9NBoDMZQsLWwEKM+r9CAKsEQXTEdUJERFlCqP9WQhJTxUJgNQ9CoDKaQpAK7UGu0Y5CnJ2UQmSPHULkKgBCnMi1Qs4jokJszN5Bgg6CQs4OrEKqRJhCsFJAQhQbvUH4yj9CcPhLQshJN0FYG1pCfCJ/Qty9FUKcmb1C/AsQQghqdEKyaLdC/NuIQdQuQELgOipCctiEQgTNn0E=",
            "dtype": "f4"
           },
           "z": {
            "bdata": "iF2/QUCbgkIAgBpAoKFxQmyRmkL89KBCUuuyQrCJF0Kgo31CmKYVQRR4fULIr59CGA/ZQaCktUKQR2NCuPwyQsYzxkKWhIZC+KL2QSjPfEJ85QZCUOE+QugzsEIUxVpCLIA5QpobrEL4GrNCqMFkQWJfrUL+soRCxA9+QsoptEJq4cFC4AxRQuzznkIEu4ZCrC2AQt45gEKUrUNCrNorQqzbv0LI9yBCoAOfQFhf40HQGg5CpEI9QkCzqkKIRu5BgFVOQrT1mEKGcKRCfkSnQlxTnEEyzJdCbjyEQhCeMkHk5MZC2KifQUAHb0EE1lBC4E8wQkhaZUJQoRlCuOH9QeDyTELUCplBQOpBQi4pwkKQgZ5AOL6YQfR3mkK+E6lCXE8NQig/I0KQRT5BaKvnQRBPYELczG1CJLCnQmB//UGOS7NCyCCtQvxHv0KwPLdCisG5QsDV8T9cZcJCjtqgQjKZqkJAv5FCsrOrQkA7i0LosZdB4CweQtiXdEK6i7lCBLnaQZwtBULqsK9CquKNQqgXqkLK1ZxCvhCiQpjKfUGI2wJC8nauQiSLkUKwVaJBUEReQqj4t0JQ2fdBSAmiQaq5iUJyXMZCbIErQooYmEK+f71C/rGkQmRdY0JoiIxCqEhmQjCeBEJIhURC0ge2QsgNxkLqhbhCeqTGQgBqnkD0oFZCCFRgQhxUpkEgDgtCYoeyQmQLn0Je4IpC0CsHQnrFmUKG5alCVNRNQqA1i0K8VE1ClDhzQhLWk0LgGoJCYp6UQrixIUIgS6pCEBKrQdoEokLMN4xCuOcUQQR8RkLyrrxCwCmpP8B4F0JC3KdCYhuZQrwo30H0p39CsJYdQeDuDkEqTI9CTMtdQrB5X0JQrgVBoFSsQHzbXEJaZalCAAXAQtDmqULAtodCnm2vQpjPi0EAbV9CNGq2Qkhsj0JE27NC5ORoQo7Kn0LUObBCoEnyQQgRHEG816xCNrewQlTRgkLUmndCKoO7QrxPtUIww61AaC7BQuAl+kE6tpdCbMygQjyuskEQDxhCFOIiQvDPrkLQIlhCTluAQuwBo0IkhqtCDA8MQi5Ov0IA4hRCygeeQgAFZUIsAYBCqBpeQsD4oUJI8QZCzEtxQvhPmUIwQKxCZI4pQqKlokIwGpBBUNInQiSyDELkPHVCtDG8QUqkk0JA1NtBNNRSQsgFakIKDr1CvhaOQrS7REIshzhC0O2KQnxxJUKcgY5BoKixQqTbxUIeTL5CiBKFQagu9kEkNZ5BcGA0QkCFtEI48sJC8OhpQrCenEK8GXFCaFT4QWRGdkJK25NCWuu9QuRDW0IGMYJCvKq1Qki4pUKki35CytGGQsidE0IodJFCAAVwQqw5GEKMBFJCpie6QgAQfz/uqaBCoA+kQnzWJUKoiI5CMIv1QITYW0LwnCFC1BKOQpBSnEFQbQ9CnMaCQVj7pULWIZxCGqeKQiBJpkJI/0pCRD5RQkgbAEIM8hhCpsDGQnhPt0E8b7dCtLvVQSyfOkIUojdCvreKQlCK2kFOdq1CZizBQoAI3kDKUrFCTNGrQfgZI0K8aKtC6JxMQviqY0ISzZtCTvG5QgyVjEKIfehBaFEFQhoDnUII8ZZC+OJhQsrKvEKQHbRCNh+3Qjh8tEFwu8FCFAuLQmCfREJYi7ZCFKmEQtBCq0LY9RNBEL2DQuSTxkLQs5tC2B1wQkoEwEKo5XpCbJZaQqQTpULQqJxC6CavQoiyTUI+m5FCatW/QsrGmUImybNCOneiQuKpu0JgkNZBcA0gQopolELY0mxCfBDOQb6ym0J4lapCoNAuQdARg0K4popC1JB3QpjKjULwqQVC/mOmQsCbDUIcWbtB9AipQlp9l0I=",
            "dtype": "f4"
           }
          },
          {
           "marker": {
            "color": "#FF6692",
            "line": {
             "color": "black",
             "width": 0.5
            },
            "size": 6,
            "symbol": "diamond"
           },
           "mode": "markers+text",
           "name": "Cluster 6",
           "text": [
            "C6"
           ],
           "textposition": "top center",
           "type": "scatter3d",
           "x": {
            "bdata": "CdIPwg==",
            "dtype": "f4"
           },
           "y": {
            "bdata": "3z12Qg==",
            "dtype": "f4"
           },
           "z": {
            "bdata": "JxRhQg==",
            "dtype": "f4"
           }
          },
          {
           "marker": {
            "color": "#B6E880",
            "opacity": 1,
            "size": 4
           },
           "mode": "markers",
           "showlegend": false,
           "type": "scatter3d",
           "x": {
            "bdata": "xxWvwjADc0EKUy3CgMYBv6j6q0G4e3hB1OT0wUUBEsIzg6DCgBOUwIj6Y8EAVTrAkMYfwXp3eMIV1EvC1NGuwUDbK0GgDmhBRqiOwmsYxcIgLvdAwJ1XQZBwh0Dkv6HBYGROwk+ox8IAwpzACcerwmCSEsBVQ0/CqJXKwehFUMK6pIDCnDnpwTBLIMKYrlTBuGo+QeQ5ncGACFLAdKSjwXxO5cEgctHA/OO4QUAfR8C/CnPCQadrwuw50kHIXcXCxwe/wiDGg0Eg9MjBtjFSwsC8UcEw4nLCpnebwsDEbUEQl5rBTsYvwuCqbsDo4kjCED6nQM9dx8IwxY3BEL91waAGqMBYorLC1gRGwgBJlUGs4zrCkLxcwTlVdsKn6qTCv18zwmtclsJI6SPCppatwjJpdcKQdf7BhbAQwkbJNcJAYjdA8kMEwsiOsMGauEXC+M4CwVmqdML1xnbCKD6hwfD6t8H2smvCMELewIDSBD+gj7TBvD6gwqqaxMLohT1BGPH4QcAOm8B4EVhBQLdhQGoQOcKI+v9B/pi8wjQKOsJQ5M9BIOeuwFgH8kGy5oLCMPm2QIDCXT+wgPtAQLOkQdCy9cDCo1PC2EOOQcHVwsIg0qJAuC4fwYQYn8HIbQ3B8sFewoK2xsIJ/KfCfYGjwvqgk8Jg6rFAfWdfwn9jicKwQefA+CnawUWTfsLgnmfAFVl9wkBv1sHY9Q9BVuyGwna5UMLQ4LzCWJlawdSD2cGAhd/BZODFwUDwJ0GAcVHAWa1iwroJdMIoUkRB7C+gwpinTMGQcH/CSIVGwiKCE8JgGJzCpt4FwsDX8EAAn8nBiLzCQfRCi8L6iYHCFFBOwvjMNEGEgTHCyISBwsGymsLLDGTCcGWaQUx7BsKAgDJAwAreweiQiMEowFFBePo0QT7ldMKQIP5B8HyVQf/QmsKQAyRBMCtvwQynCMIIrBlBCuEIwkBC7sBcu4HB8BOMwqUuEsKSw7DCwHbyPyE5ucLIjOfBwGS1QPDH0MHII3fCkH/pwbhIecHO9iLCjm9hwlp7K8JiuxfCeAdBwbzojcHQTjpBXfFswmBbjECgksHArJgGwkAwWMHIztLBHPGRwehMqME80DLC2JKFwSCbFsIcE9NBQnajwgjmj8IgSxlA5o6GwoAlA0DK8oTCAISRvTusL8IWrSLChAUFwrUxKMJIVnxBqJ+kwupbo8Lai0nCwchswk0MPcKA9vHBGVOZwlmHaMJJVjPCcHzAQCF0bcL/dTvCSO0FwuP7uMJ8WkbCwILBQMgJt8GnnDLC+RIfwrpNbcJgWEXBTslNwoBwfMBslILCCIsOwmQXicEYIELCmMdXQfm4ScIYNVFBr54xwjCzhMAgKALA9o6swryZmsHiTgjCAJO3QcRNhcGAjH9A6DBPQVg/6MF0UbzB1ugBwn0+hcLg+APBvD/3wRlvTsL0QzvC2gBBwrp0j8IybDzCKDz3wbSWCcJcO/nBCh8cwsDdA0Ll2BrC2bu1wj1gM8JAyfJAmGmuwhvUEsLAL8tAi45HwoQ+AcIMAg7CSNKBwuiMRUHGkorCECCPwUTLfMJQI4vB0DgMwRh0pME4DITCHEqpwoBd87+gmnTAWDPmQbDVvkGKDInCOFCvwUSshcKkacnBgI14P/KGlMJucY3CfjGdwlSLl8JozG3B4FeNwrM1s8I0r57CrwIYwvCTREGEh4zCkPIAQbREgcF/SJPCEWRJwrzSicEofUTB4FtzwLhXtcLAhdbBllMPwsAO/EEbIi7CxjBawshscMHX17/CgLhuQTJ2l8ICgG3CoXycwpMBisLYaqDBkL1cwo5bDsLUo8XBGkK4woAyUL8ALOM98gUDwpjyf8I=",
            "dtype": "f4"
           },
           "y": {
            "bdata": "JjgQwnuahcJjgiLCnBWHwl2qX8J8+dTBdIPGwcGeJsKGOoDCoGfcwWLMwMK9cE7C7H2wwiKaxsLq/7bCRK1dwkwxpcFYCKHByDsewsjBtsKEXHHCuP7zwVg+9cHvbJbCQF60wtqKw8Kam5DCSMOHwrTThMH7pIjC8Ci3wBJDhMLQyuHB34Mvwn86hsKQrm3B0e29wtaiGsIBlpXCvKRdwkb7scK1lcHCcj+6wntJdMJX7nDCTpp6wichU8LJiFLCAIOXwuBg4MEHbZjCYNrIwMU6sMIaBTDCHAi6wuQAvMJ1wzzCgDVowgpBFsIg4O3BtAzBwWPcW8IMPTTCkamXwkbgEMKrEsXC3HuEwi6fgMIoZIfCDYWLwt+TJcJS08PCRL2rwu2gucI0HK/BFFnGwvXCGMJKMa/C4KYOwvxOpMJffxHCDkqgwj4DWcKzennC24JYwuANosI8MaLCKCKFwapmOsI8M43CjCmDwmodn8LaVlzCVouXwtl2v8KH8E7CYptDwnCwmMKkgEvCrC+IwrrGhMKns2jC8q6JwnldxMJkBknCMGqJwDhGPsJUxX/CFAUBwrA+KMHLuFDCRVFqwjzjz8EnwHLCXCaRwvSku8JQl7HCP5a5wgijyMFgmbXBpzUgwkeXq8J2BaDCUJIUwkUZqMLcDqXCJsOcwq1txsJBN6XC6gEowgpukcKY/RPB+OuxwurHMMLsSsjBkhavwjO/x8KCXzLC7AJgwjN7vMKg2TXBjhZ/wpdNjMLYSG7Bqs2TwoqlWMLLkZXCTgWlwj0DOcLIkazCV9jHwntGdsL/BlzCNteYwj1qYsIAD9g+U9mWwjTWlcKCinnCuKcGwqm+w8KvU4PCS46zwj6VCsJk30PC6tYewpLWF8Lw/0vBZlVZwrWAOsL8AanCGiA2wuYiqcItYkrCrD+mwuojM8KEPBfCZKh2wqzkhMHsppHCgfBPwmo9L8LhUMTChuSDwvnadMJQXXTC57y9wk2bksK/nMXCdzKgwojX0MF+Ky7CkK2xwjs9vMJia5HCo1GOwmillsInuzHCzMbgwRR6bMKgyaDCoUVBwq7LicKXuy/Cu86rwubVgcKoG5TBZ6ZDwkWxHcJQb4LCYG6NwsV+q8KI86PCFSnGwtNVm8KwTF/BRp50wtCr4ME0JpTCZgVRwqg/C8LwCZDCyD0/wnm5osLm6L/Cy1TEwoJZacJR8GnCVzZCwq93SsJO41zC6+pRwgOEm8KevrjCFsNjwodNkcL2razCu0FjwnpOwMKeK7zC17tOwp3kh8Jwa9PAzCzOwdHxb8K+2U7C8DoDwQUhK8KJMbTCV9OswkyKNMK4LTXCTlYOwtV/FcLFFIDCpDmZwsACw7+8YufBsHnCwpcQd8JLk17CmR1xwoSXmMLYSiLC8r9twhSkq8KNsMDCOHLCwfHGn8JkJ5TCcrCjwhx8hMELTJrCrPZwwr7xSMJC88bCzJHWwe38usJ4KabCTXrEwgkjMsKfYr/CTUOywsZCxcIDBS/C+QubwmBP6sAUaULCKqSnwr1hxsK95sTC2BLCwcT40MFe8z3CfTAswgPVNsJIAm7BgjCjwtouB8InlL/CjGcKwqbzlcIpLG/CqR1fwkL8gsJMRA/CVaeDwgUxl8L8GRXCFOxgwrScv8Ef0JLCxCGxwsYZhcKYSfrBEborwth1isI0wxrCvOY0wqrts8Jr8HvC1jQIwiA6l8JOCDbCoCqPwnAOisDJCTDCvCy+wuwmhcIciUTCvlOGwuE2LMJAgz7A/q1rwsCE7MA2/rPC33Knwipfh8I4QkfCBrHFwsDuo8J+YLTCGPGUwtdVwMIY0DPCfmgXwhAHB8KYIPDBwJqBwuxJX8I=",
            "dtype": "f4"
           },
           "z": {
            "bdata": "DFm1QkR9mUIGHLZCsHRxQiJjiELuMZxCRjG/QpYEmkJALaZCeOT0QSQ5mkJUbgNCIIf/Qap9gEIwK7ZBYCmjQkb3k0JCBsJCpB6EQtjuK0JkAydCcO1qQmgNgkJoI1xCXG9hQth16EGMrKRCtLxdQnArpkK0m5ZCSEiSQg64lELQ9atCUu6/QgpWx0KSGL1CACtkQsjJNEIw2gxCQNCAQQQMwEF4RJBCfoKcQpAOiUIK7IpCJlyvQlLPrkLQSr5CngyoQojgXUIwaElC0jjFQpwRj0EYBpBCgjOjQrpfp0KgHo5CwC+SQvCSKULESWBCyviSQtj9l0I4jRpCyLfLQfCvSkIorLxCxBBhQghPxUIgbFZCgOa6QhxarkJ6+a1CwPRJQsaVlkI41YhC7NFUQrjDrEJIcHtCkgiHQpDzFEI0nG1CxCMDQh5Eo0IUEKBCoKdzQV4GkEI2D4xCMImDQvztnUEcq41BhO1eQigpk0LsmYVBQEB7Qr78mEI8kblC/vawQlAgukEMNLNCNHG1Qiz5QUIkYatCOJRjQpCPuUK8AJhC4onDQvwJxEJkQXVCfIFLQlillkIYiTZC8HaYQlxkvUI8pzpC4Od6QoASqEJQbH9CVHehQRxbQkLM/2xCbriWQmjpSkIQsgBCCu+9QhyKCULo+rxCrO1YQsj6cEJ2W71CLF1bQjo8mkLcW59CKN6IQnS1MEKQnUxC0MlyQgxSrELwSpJCdCyIQYRmWUIIA3pChJIfQii8RUIG6JBCPtCyQvpHxULEf8VCTBTGQkQackJIMLpCGO+nQVhYH0GyqYNCOCdUQsgSvUI6b7dCTuatQshSjEGQJmJCvqjGQp7VskKUYpJBaBSIQdpauUI4crVCYraJQnz+q0JoV4FCOHMWQvCWZ0J8AaJCJISfQtQ2f0IyFMZC0AuCQmgIxkKAoINCcIKrQOA2oUIamZ5CBOuxQZpOgUKY/p9CIGUKQvRxfEJ4s8FClL6gQuozjkLUD59B4C1AQsCsvELw+I1CxL6IQViR60GsrbVBtAe1QTDsk0J80HBClP23QrznukFGUcJCTOJRQk7eqUKMb4pBBt6JQjAV70BgIsFCrPCiQfhKr0GIyHFCpD2fQmzgd0JUz5pCoFl9QsBPLEK44VNCRGKvQmZfo0JWhIlCxhrBQh7/n0J+iahC9HWJQsq2h0JkbrBC7CNfQpisSULk7SBCWkvFQuhsUULU3QtCjFl/QmJpqkIkbh1CxK5qQmYpoEKU1wJCxO1RQoD/FEL0FahCyJBGQgADGkI8JMJC2LdfQgSKmULQpcVChhW9QjCz8kFEoJ9CpDJ4QvA7qEEkdGBCHBFIQmjmhkJM1ZlCLPLfQaCwkEKMmR9CxkOtQshsTUEYIM9B4hS2QsCZekHsVldCxgeyQgycq0ImWplCOq2uQlhlSkLMTc5BFE5IQvjmoULmMMZCQgGVQjJvtkLQKTlBXC6mQvD14kCqKbVCcHi7QQSYq0LCC7VC+DqHQaAJVEHodhxCCGgXQr6rxUJgX7RCIAt+QlCFSkHEEWdCQNGbQpyDb0IMUK1C2HkYQiAUeEIK44ZCEEiwQnAnUULAJa5C6h/AQkyJS0IY7xZChDyhQvwgwUIKB6dCoN3DQohqmkKc96hC6NVLQlSZuUKS5KRCcPchQtrfhkIoWFxC+ER/QnRwqkL4BY5CcFnCQrj3b0KAfP1BMAhlQkyVa0KYZblCXM8pQrRvdUKIkKdBvFlwQhj/K0JGNLlCkFMTQWqWnUJGb7pCODGsQrTKvUL8MmdC4FOoQrCjb0KUYrhC3LAbQhSdqEJwP6dBbMzJQTgF70FomfJBOIC7QmiBAEJIZaRCRoXCQmTWpUI=",
            "dtype": "f4"
           }
          },
          {
           "marker": {
            "color": "#B6E880",
            "line": {
             "color": "black",
             "width": 0.5
            },
            "size": 6,
            "symbol": "diamond"
           },
           "mode": "markers+text",
           "name": "Cluster 7",
           "text": [
            "C7"
           ],
           "textposition": "top center",
           "type": "scatter3d",
           "x": {
            "bdata": "MvYIwg==",
            "dtype": "f4"
           },
           "y": {
            "bdata": "sXVzwg==",
            "dtype": "f4"
           },
           "z": {
            "bdata": "gM5/Qg==",
            "dtype": "f4"
           }
          },
          {
           "marker": {
            "color": "#FF97FF",
            "opacity": 1,
            "size": 4
           },
           "mode": "markers",
           "showlegend": false,
           "type": "scatter3d",
           "x": {
            "bdata": "n0N/wh7VSsLIJVHBoGIcwemAucIwc1fBD0u+wvW6oMJSap7CDNyVwYRIisLm/nTCADyXvSgIzMH+Q2LCVmm3whCOmcCjKMDCByGPwgKhX8JQYvbBjCFJwvwkIcK95rzCpAkdwk6FV8IfuITCZZRKwnd4t8JxHajCOCVywTD0YsLrT3DC3hhCwpB8JMGu9cfCuGW1wmVIGcIl9qDCVNa0wopoUsKWMJfCuO0JwTAA78ENJr7CjPntwWZGLsKJ0W7CVbegwpWCtsJeFajChWqLwr22jsJwTb3Bf5XGwuT4j8F21bfCKbW4wrJKWcJk7ojCuHOcwmByh8JYgdjBzqo1woAsqMIUzZrClQxEwjwplcGjTTDC/Ft6wihmHsFAhrDBMj23wgCPXkBcosDBgA80wsgrT8GkyIDCF4ViwpfttsIa+IbCVLV1wkCQ5sHjJY3C1MeuwmgQhMEsdq3Bm9+MwrkXIcJhAX3CPA/LwUDvVMJ0RizCb+RAwvT3ZcL07wPCiR2YwqBlNcB0zLDCko55wmfAYsKa/6XCwD4CwUU6SMIr1FjCp+2+ws0avcKynp/CYIt8wsOnFcIhqXLC9OmawSsqj8Lc3MHCH/W0wnBNVcIXfbvCz7VmwlAbjcJhz4XCzg+8wleOZ8JPuBHCEQdHwuKmosLrn13C8DWdwmewj8JWRwLCegDFwtf6tsK3Wl3CZ7WVwjQ+gsJ00MfC/2FdwlzICsK5uY3CMiO3wkXugcJFbLXCjICRwubNwcIj8MTCREu2wdk1xsKj2WrCcHqvwQ0ejsKcuZzCB8LHwgRoh8Jk8KfCJT+uws/sksIunsDCNta+wh7WR8J1WJbChK30wdjfpMEgTS7CSFC5wqAmE8KyLq7CqqDEwuNyisLYGp7CUlmNwv8nLsJP2jHCQrWhwnhXccK4AsfCQEwEwah8ksIHr1vCqMyHwlVbtsKQgMxAvtBUwiMks8ImBw7CmNG+wSgJvsIIPTDBT1g7wogVocExIaDCbQtawi0ix8LcRIvBbRNtwt/uqsIgHDLBlEkxwp9hpcK8C4rCTrmxwviFwsICdHvC//tJwtUsl8Jt9ZTCak5RwqB2m8HOBqrCYM6iwdAamsCA7q3BFQA5wgzbo8IaKrHCQPupwvmyTcIsBqLBZs5UwplqRsJbZ77CJjeDwlbqQcJvQ5LCWENywk4uA8KE+HDCJn+vwh5TEMJe6qbCekGqwrQpwcKDgaHCqCiqwn9UScIUglTC8k2owoBpAz97NCTCaj2lwk4bwsKspQjCctanwtRnnMJ8SJ3B88/Ewr0xvMLc4ZXCfj6DwvtUwcKAbWbCQt2nwii7nsGhsWHCGFsawRYlpsIQYa/BWaiVwiCcj8Lq/pXC+4+LwuBK4cH1tpTCJhkKwpRgpMLY7IPCHmeHwtBpmMKmdRDCANoTwsbcw8Kkm47COT05wgpHuML6doLCWHl2wrzvKMIpZ4XCysgCwrSVAMKHicPCOkukwpC5rsIdusLC+f8zwubtAcLLdWbCYTwQwt40IcL2SbPCHMWGwvfdjcI0DdTBiwCNwhxMFcK8mvDBFNx7wqbuc8JI1nPBTOSlwhOZscK4oznCwBX2wZfMvsKYuznBO+ZVwilMr8LwwpXC1TTAwogSKsIFgWvC+tDHwnBFC8J3GWHC2s1jwmBHa8IdQ1LCVPWNwj4wg8K4AlDBaCG/wR+CrsLK6qHC1GvOwe5yj8Ko4K/BAE27wv4ZrsIgEZfCcCw3wS53j8KkJ4bBKhHHwuiXmMLC9qbCGnkiwgrGcMKky7LCjGKWwqBgicIQ+QXCKkyDwthcOcGwnWbB5VSowtZWV8LgpwVBXImtwbx4t8IQZWrBMAnmQNMRt8I=",
            "dtype": "f4"
           },
           "y": {
            "bdata": "/O9MQuDQfkLcvKhC6NulQk76nEJWMo1Ces6NQtCWp0ACtZtCUEaiQqCeFEJo87lCOLuDQgisbkI09iRCdBt6QmwsoEKotQlCpJ5gQpy4KEJI3x9CdJhRQmSBIULaaL5C2JqsQhBY6EFEGBpCcF8yQniBF0Lkj4lCYOw0QlAmVEE05L9CzPQcQrz9akKAwhJCsnGxQvx9tEIg4sRAgjCQQhAviUJI46FCYA2AQgib/UFMUHdCsOsGQoyeEUKcICxCQBNOQqgHQUK4mVdCHvC9QrQkqEFkoENCzE7AQnzojUIAmOm/4n6XQtRkBUKsHBdCQOpYQExkt0LwdWBCwEG8QgBqQUKYeWJCEuetQsje6UFQLvJBmMZuQmihdkKijopCPD5yQghwp0JkKVRCjFAzQr4mt0J0FQJCUGpmQeC1aULWCqhCwMiUQijLuUK2ncVCGI1NQoS/iULU+qpCOClUQWSOkkL8JLhCxMgtQhSYSULIJMNBCt6GQshCxUEo4IhCQrynQoL7lUJY0IZCUIS7Qgy7wkJYRLFCSOiIQnAkOUJcrydCtGq0QvrOi0IMYXNCyBLCQXwRm0Foll5CwIMwQlBZrkC43dpB4KVwQgh+T0LkBx1Cep2HQiiZbUK+86hCYOzdQFivmkJAakhCTKqWQjr3wUJKRZlCxK1zQogbMEECpYxCXMREQky4mkKM73VCdCKCQbjgqELOf6hCUI1+QuCS70HqcZFCrMx0QqDIokDU9KNCbj2zQiDQG0K2E4VCsnO7QpL8x0IwLWZCiCu0QuA9y0E2nYlCLi66QkYYt0Jo3KhCIGM6QSTKwkIgqHxAXs+jQta1tUL8eSFCJFyyQlQOskJsGYtCiIOxQqgyaEJQ1rJA3E9zQgATm7+87yBCsBChQqScjkEsUxNCRHyqQrStGUKAbAlCSPa9QoAEiUIkTqxCYmqFQibbnUJaS7hCoFZYQIgFdkK46lJCpFNCQpwAo0ICOqhCHqKZQh7RjkIsrbNCBIdaQkAUUUJE5IdCbOK4QYiWUUIySK9CZLGbQlgDo0IcM45C0A2MQoJJlUIcJmhCaoi7QrQHKELwWOZBQrC1QiCL9kGIfaFBjFwwQpLGsUL4AtJBAB7iPgaYgEJG6rpChDUuQoaVvEIIoQpCBHWHQpCGEkLAM1JCaBz2QaRyuEIYOg1CcrfEQuB/i0KgCk9Css2kQo4FuUIAbzpA3GeJQtzHxUK+7YpCGPnTQcj3o0JseSFCAMUPQnL+qULABPBAWH4rQqRTwEJAi5dCiH3EQihQHkKcMUtCoMlRQEAScUJAgipBXgqkQoj69kGghTNBjFSAQuA4KEIAL5dCJLOTQmDVnUKmVYFC6DO/QfxUrEKYM91BFE26QrxrjUI0RixCLPMtQqw1q0I+z6ZCAN5dvxqQvELEiT1CmH1CQegnQkJgvRNC2PARQXD5MELkVn1CmLSdQkQ9J0K4ZylBnIFmQmjm+kFkWrBCdOOXQjDuikCIJQxC7J2hQiRNb0IY4Z5CFEdsQpTbjkKiMZJCeNRJQhbKwEJwqcVCOtm/QpazsUJwrs9BYDigQsBRVkJ8G8FCLqmQQgqkhkJQAV9CoJeuQcz0P0KEFilC9D09Qjgl0UFsDaVCwHCTv2h9qkGc161CtO+uQrgtikJKccJC+EluQkwZO0JAdL5BcnyKQnh5hUIE75ZCKIzGQqy4PELAZyRCqJnlQagsr0IKO5xCUO3hQHi9fkKQAJ5BRCmfQuC/2kBUBjRCTN3AQkg5sUGmyYlC3ExGQpgViUIkWnZCrqvFQnQOlELAS7ZCuMyvQjLJj0LCVKdC5G0+Qi6ko0LqCpFCpt6JQgC+0UFyEsdCql+qQiYTg0I=",
            "dtype": "f4"
           },
           "z": {
            "bdata": "QXSkwkoNBcIAQxrBkAb8wWx5H8KEzBnCchqRwqUJo8J6hb3CwFpbwIBUDMEAZw/A00UtwjPSocKIml3B4uwNwj+IcsIXwiLCsjl6wgaoocKBcbzCcSK1wjAiocKYqgTBRrUNwpgopsJK4YPCQ/FUwnPCq8IgpU/B7IT3wY/LWcL8IJvBPi9GwrUBXcIq9znCLsS7wkv3dMJEzHDCfAe/wRCQcsEqpqfC+FULwl7fQcKAtM3BQIYZwbIMi8LglRHAVl+vwqqyEcJgz7TA5LziwWpVhsLzCBPCLwVgwtC1TMIaXGTCjuKRwkL/j8JmQ7zCAzgSwqBqmsArY1fCIJbnwXnmIML0m5jCieBhwuWJu8JjtkrCgrSCwmXAHsITKyvCW5iuwuiUgsJiBpXCqMn0wVgw2MH7HKLCbNNewmRnvsImegfCjWMQwootR8JYBorB69qmwqAO9MHM8bTBWe6qwvP6cMKS6yzCouBqwpAE6cEwEbnCRhACwiideMGliH7CyWG+wru/w8KkENLBZ2qZwtw3l8HU8sjB6MdbwcUJHMLUQaXBEMWiwMPWpsJEru7BTvU3wlQH2MF2rhzCKgNpwmxyr8IU+YrC2pqawhmnYcIk+V3CQOQkwiu3LsIQX9LA216cwmga98HgebHCGDSJwvhaQsJBfB/ClRg+wsweGMIEIxzCKFS8wRkgWsJaL4jC32qhwmhbw8KGnb7CrR41whsVr8L7pMfCmka1whS0+8HQ/67BTlgfwu1/vcLgWZfAIKrewMCvpEAFMFrCeDqbwW/xicKUq5DBZ4AiwpQZwMEZJL3CfutMwuTb78HtBYjC2EnCwodKr8Ixf4rCUaBVwsjJlcHw6UTC8ECDwsDmN8EJk4nCNwtpwtp/j8KPmqbCNkYIwg0qmcIoEebBknRUwiBaKsCCka3CVzEXwitnLsLQZ2nBEIVDwXYUpcLPf8fChvdFwoxWD8IL/IDC0XxYwlixxcGWzZ7CgCXmwABwYMCALOE/GMS7wmyH+cHfYDrC6qaLwj8DLcIhzSHCauZYwjzk5sHojSDCcP9Qwlsoi8JNtJzCHGwkwqSFCsIfOxDCmHz+wZMzlML5gWjCmz94ws6FNsK+PMDCaIyzwuJaq8Lhu4zCuL45wSiyDsGHq7/CKL38wY5UCcL4yqzBk8+rwvL9qsKCxXLCtaMjwiyH8cE0pPzBaGX5wZibS8E/RS7CgBB5wuZ2CsJkEy/CfvhRwuVGesIv2sPCpnU6whBLkcJQsmHC2I9TwZudMMJN963Czm4iwulrqsKMd8TCYh+SwrBhWsJo9PHBgDqSv9hRcMEwisPBgB/OwUeVJMKe62/CKHkiwiPyNcLAnTDC/N1IwrrHlcJfqsPCW2A5whlxoMKF5rTCPLl4wn1Dm8K/eWPCzuKywvRPncKI5JrBOuNtwnDcBMGCo67CX4O8wuxghsJ0lwXCdkaiwjDMhcKEHJTCVc8pwlT10sGYUp/BXBe/wi2ItcKHtbXCyPcJwrRT38FI/ODBDEhqwlGObMJ4gAnBZttdwrKsu8Li48DCQCE5wba9ssJzc4PCIxI0wl3zp8JdnWTCAKuUvkC4oMKoMc/BeZ9FwkSHB8LGzMDCPIqPwgf+r8KY/v3BGvgxwtBKxMGrq7rCFCSVwoaWbcKtGDTC6JriwVyI0sEMqYLCdjKewqAprkDQK/LAeDkvwX/JMMIqfRXCOc4+wuFBc8KwbsLAeBZRwtqIrcJcJ5vCYwrBwpstLMLty4zCYN6IwdrqssLUpoHBJjxXwgA7jsDUD9vBaLecwTuWqsI8qqTCtbKBwuMTp8IWLr3C4GEhQNc3OcI/nLTCAR8XwsWjpsIXGjjChWPAwvAvm8E=",
            "dtype": "f4"
           }
          },
          {
           "marker": {
            "color": "#FF97FF",
            "line": {
             "color": "black",
             "width": 0.5
            },
            "size": 6,
            "symbol": "diamond"
           },
           "mode": "markers+text",
           "name": "Cluster 8",
           "text": [
            "C8"
           ],
           "textposition": "top center",
           "type": "scatter3d",
           "x": {
            "bdata": "b6hcwg==",
            "dtype": "f4"
           },
           "y": {
            "bdata": "MCNjQg==",
            "dtype": "f4"
           },
           "z": {
            "bdata": "idlRwg==",
            "dtype": "f4"
           }
          },
          {
           "marker": {
            "color": "#FECB52",
            "opacity": 1,
            "size": 4
           },
           "mode": "markers",
           "showlegend": false,
           "type": "scatter3d",
           "x": {
            "bdata": "gDvqQZz5c0JAWdU/ZMoJQrA3r0JObaZCEJqbQnDE9EHcEFJCUExvwbhiXUFgXxBCIL/fQUibekKM4GhCOnuWQkjYsEKw2aFCTtOeQig040E84lhCtN4bQvBOdUJgn3TBAF9RQsCt6UAQOPJBgG49QugND0Lg4rZA8JYlQugvpEIg0/xAWB3DQpw4Y0IwnSNCAEzeQfzxrkKs6ClC9Bp6QiwjHkIAihpBgHT/QeDg0UFsdylCfLmfQrAd40E8scRCsJO9wLiA9UEQy/JBSAZUQeBapEIQZPhAIMfiQcTOAkKkQmVCRNI8QsAxh0KYDiNCUlSwQnTLtEFouflB7MyOQkDANEEAjGxCltaUQjAsUEJs2KZCHFyGQmAoZUJeso1CKMDTQWBZWUKILENCnD5eQrxkzEEckDZCxI+EQXD3uEJIDk5CqAW/QlA1B0KgwX9BAAACQjASl0HgeFlC0kqVQkD4dULQvdzAKhGpQoAWvj8IRThCEuyJQoRxv0ICgqRCFM68QnhndUIglMJCgCJfQta2v0LMJGNCLnvGQni5BEIY77hC0E61QhJoskLoZ+hBtEMzQhrBnUIUD1xCWBd9QpiRtUIuxLhCDP+nQjjlsULUclZCiJJ2QlyfxkL8tBNC9M62QmThMkJE66lBeCLAQZCD80D4AfBBkkSoQlgfl0I8QHdC+kXHQty32UHw6PRBRMdwQrDb9EBkbR5ChrjBQtTXj0H8pxxCLMW0QfBpCULIoR9C2JOnQoC7hkFsXVpCFAhVQowPBkJYqsFCTLGIQqL+nUKwb5ZCVqyzQlhnIkLYToxBYKaMQkwAxkIcH7VBeCPUQYwLR0Jo2BzBip+mQrTiTULwnjZB8Kf4wBDXRkLURNFB+M80QjoWskLM6pdBKCGZQvgLYkKgaZdCGGVlQphAHkIc205C2JVOQZSlVkLcWytCtEAcQijzdELcLDZC1JBQQgCRA0AgfaNC+oq+QsBB6z9YmjRCQJzrQQg2xkJOI7RCzKd2QuSwtUHY/DJChHFPQnD3I0LI9qVCsKKPQLS5ckLwaRvBpApoQja8skIK3YhC7HXaQYR9tEGATJJCmOALQrBe7UFU9L9Ccp+7QnQyoUJoviJC+BSuQoDFBUJ8BHZCePvMQUjkW0EqcIFCFGp0QgjNV0GASltCuLmHQgJbrUIiBohCgFUlQYAvlUAEe2dC9AiKQljxCUFQhTTBPHpZQmaFj0JQOs5AkGD2QexjbULYURPB5BwwQgRdDkLsaLtBUM6NQTQWAEJyq7RCsL6FQoSyoEJ6I7tCRIQCQvrwpkKAsQ9BSNgbQmCzdEGYeapC6N0lQoikeEJYPL5CpOR5QkAIl0D09p9BgFrywOh1QkIg05ZBRNEuQjwUnkIQZw9CQGiSQBjlnkLwJgpCFBvFQrQ6bEKkYaVBqpvCQvZynkJQb5RC/EuiQtw2qkIwhuFBlJMeQnBpdkIcPplBbC+UQVyEiEEYJLRBHC0HQpAqx0I0h7tChHuwQSjlJMEqj7NC+HJDQjiYMELaALtCIpyUQuJwk0KYMWhCWtPBQlhcV0Ku3LdCYGh4QeCAY0CATrRADs6iQug2f0LMJLBCfkaaQuzFMUJKWMdCPEIlQmxEBEJAOElCCKKKQRTOmkLs85JCtperQjB6FEJoB2lC9jeyQiATJUIIIa9BEN9hQaRgf0IsETFC+EJCwQSyk0FwVTVChBrMQbRRg0KA7JVBJCWgQUAyP0LoRgJCcDtZQjYhiEK0NLBCcILdQbDiEkI819BB9CB1QmQzTEIYw45B6MQXQmRZXUISnoNCEBd9QrJ2nUIwRllCIHNnwGDRe8DKRoZCiKVUQuQihEK4EopC+JCBQojnDUE=",
            "dtype": "f4"
           },
           "y": {
            "bdata": "duOkwh1HJ8IoxJHCUU9WwtB3vMKuqJrCVMFlwsr9wMJ7I2rC1TzBwjyG58F0qMDCdk/HwkQcx8JHGxrCCXu0wvhekcKYRZvCXrm5wjOuq8KIILvC3mKSwmN9vcJg9L3ChiV7whvEncLm+DbCjEafwvQCmcJjL6DC9CGqwv3rmsJyyyXCWJ+twsVyOcIgfoTC3/KTwvTknsF/aFrCtoopwuz6NMLK40rCN6B9wpigI8KUrE/CneKywi7RjcLUJq7C6wWbwnixrsISLVPCriAnwoaTrsJep3TC0X2pwlnqbsK1bafCnPK9wj6TvcLW1EfCVIgRwnRs3sGHQG3CShaBwhvKbMKIQMTCR8OxwghkKMIQ21jCEvGtwh/KlcJ6NabCuBa8wVVJMsLrz4zCHvagwvZyJ8KEvVzCxYDFwlNKYcJKOUDCkNiZwo9eW8KecbjCSjajwsEQTML20QvCVteswt4hj8KSVaHChtK1wkJ9ucK0I0DC2tZ3woI+hcKS0UHCbA6cwrsHk8JMA7TCxJ6TwhRns8K4VaDCxUOgwlrjg8LjFLnCJ66uwmd1wMJLx4DCdByAwvZ8r8LWKTbCr9uIwqE6t8Lmb8XCvBHCwjAjWMI8RPnBk6GzwpDXm8KPISjCvbE8wiz5e8LXxVjCJbdewkbRpcJ+IYHCmRBqwjw3mMLsMx/Chjhowq+picKsnQbCyousws5GosI08wPCLgSJwnRWusII+I/CuninwjvPx8JiOW/C5KKfwtjSPcLt6aHCPjl4wtZtnMJY0nHCLgMGwvzzlMIV/IzCfg+9wvJXLcJGRA3CeJFZwuy2o8IZF8fCrX0cwjZqCsL0TVDCmN0xwvr4KsKO6ifCL++awnUtqsJKiwHCN6K9wvJWFcJryH7CpKl1wqpHQcJAoxnCdAWdwsg7fcK2TrbCZOe/wvquQ8IIVqPB6DHuwdH7OMLsuFPCTZCpwoAAYcJEVH/Cc6cwwtyWNcLtUsXCRc+8wuW8vsLwRD7CLN6jwpbpusImWEbC3AE/wiiS4MHKBpjC0g6fwpIChMK4apnCeZNowmgUu8IrssXCR9PBwkTHXcI1JIjCe41wwpq1msIxD8HCZIhDwo/wa8JxQ6XCi+o5wulgGcJEdznC6by5wviCLcKSCpDCJvE6wilhFsLPHLzCRKlmwvh578F4td/B6nCRwrtlYcLQLrDC/sc5wowTpcF7j1HCh1WswvHJmMIGlCvCxYqpwqn0j8KqFonCvMNlwliRqcKDxqfCapG5wo79nMImz6XCmlTEwhzLxMESSbLCnamKwksNqcK1A7TCkB46wgjevcJ894bCWLKZwqTDg8IutrTCCh+xwjQQpcJ4RvbBtCuuwn7bvcIFriXC1rajwvAhj8FvnRzCB5GZwu3nlMJiMzjCR+0ewnrMu8Ls1XbC1v8PwsjLUMKjosPCTvFswhILa8LPlI/CgJQwwdjzksJELQPCnDGhwl6AgsIbZo3CJEsPws50p8J/5qnCFrMFwqawWMKfDkHCLgOxwpKimMIXWqnCIHDEwp3ix8IJOSLCskbHws+knMK44EfCJwmYwiOSdcLfe5bCMwopwiJSAMK87BvCg43BwlbscMLc8rvCM36hwqrSr8IAAIvChujAwiwesMLQPJLCXr+VwtiJOsGjh8bChVgQwvqZgcKZLBTCvAjuwX6WkMLixYDC4k9WwngDocFM16XCcp9/whM1m8LUn7rCk2jBwqZKe8L59EHC2dyzwkVLK8LTM3PCt8KQwnNqmcJ2qT/CaG27woR3EcL4r2LCUOOEwk/WsMI42zLCu5itwjjSCsIQ55/CBq2lwk7hucJciTbCKWS1wpa3ncIbgsHCI+xkwnFes8I=",
            "dtype": "f4"
           },
           "z": {
            "bdata": "MMCQwDCK4UDInphBUKELQrz92cEAr/M+xKsvQjC6H0IAqFg9gO0kQIiiI0LEP6fB6Pi7QRyaksFUPCVCyDiWQeRiy0GYtiNC0NCmQrR/3EEk55dCXCaoQVq2mEIA/p4/anu+QqzxI0IsK0tCpOvYwfipCkIM391BgLVxQaAZjUKI0hRBwAKTwO7NlEIAWVVBFFzHwVCZDEG4HVRBgMLXvxhNkUJwB4hBQB84wKzQhkEYALZCMJJQQfT91MHgkABCYHFGwGiBicEgv1JBGCmvQRAynkJoaKvBBBbXQWxIgkG4uqzBqK8AQl5WoUIy+ZlCkIz8QPSvL0IKg4pCaD5qQoA8zEDolS5C+EeqQdj2fEJw5+NADBkbQvzMq0H4ExRCIKG2QUzuxkGeLZlCCBIQQQylq8G0YStCKIhDQXDP30FUPoTBQIs3wOAeF8BgUNTBMCxgQqRRo0F0CRlC0IB1wdg4CUEc7JpBrLDbQWBRX8DAaDFCmNznQXBzukDsDslBaGbCQqJXokIoj0ZBYO79wFgKFUKg9/1BpKJDQmh/MkGcYyNC1HsiQpZcvUKgGIxCjka1Qtz3tELovKFBPKueQXSStcFwWhdBADolQF5XmEJggKdAQDt/QYSEA0J0VZBCKE/AQQjN1UFAb4VBMGULQoDN6UEwyQpC6EAPQsB7tT+ksaBBwL14QtiyGkJgZRJCVEt9QsAIhz9IXlDBotGbQkScB0Jc9SFCEJV1wbgv60EUIrJB3P9NQgD+PkLYhipCfJqZQSgVl0LQmkZBAACFPLALBULQgEBBNAB1Qkg+fMEgSkpBeEzYQfgbd0H4+d7B8BlPwQD5AEJA2QPA3H+jQfqPhELIzflBAP1IvwxhnEKADH+/QApSQZC8k8Awf0pCuIisQRaVmEJQO6NBQMeAPzhQ60EQmFhCOIQAQqBpmMCAF17AdHMBQj5OhkJCdr9CdP7CQTD+tEC8acJCoItuQOBOpEBAQavBEJYAwi4RxUJEl7xBpvi6QtBs50DQvALBzlygQmAXiEE08aZBBMaIQaT5CEIIZWpB+AoJQvo5g0IgMBvAoPuuQMjrFEKAqQlB4MdIQlDDGEEIWwFCAKnSvjz7jMHUFVRCXIBYQmiRIkJ4xofBnl2EQqCrGMECIr1CyGp0Qqh1oEHQnkhC4PirQGx1BkJQxtRBqNAmQgARN7/kRpjB4MXUwMAMA0JAHeC/lBSBQSIAnUJAGrBA4KZTQShAsUKYXDJB3B1BQgLeoELk1rrBALbZQCxOuMGsFFRCyPAEQpzapEFMtZJCgI49QHzndULw1vtBaOkHQTDZCkLchsJBAFjNPbT+aUIkHopCDCHbQQgp00G4gRlCgKeWP/Acs0Ds4gxCHLo/QrAPsECo3wpCwChowOj5pEKAIvxAGMUAQqBRckIQjwxBUO2rQehleMEgM7FCwF58wSjHUEL8bSZCAJG4QL4vnkKsdaZB1HRqQghEsMHgOizBmHeYQaCOa0K0i8BCsM2YQMBWOcDQdSZB0OidwQy/xkIQJodCAMD1wFgfskLof2HBJDJ4Qt6jh0JEK3BCABCswPBdG0GUBwdCaA3+QbBO3EHYCetB6AA0waQZvEEETUFCaPhcQVSm58FcJoxCWL4eQYBYUkIQjr1CAA7+QHjFBkG87RFCeCIbQkjT/UHAMGXAcDKuQFBOZ0EgO+tBALvjvpTan0GoP1fBRp6PQnDxI0Ec7TRC0tCHQjwjvkIgU4lBkEvpQdwBKUKA9vc/8CQYQsjfn8HUATZCOOV8QYD3bUL46D5CzJggQhD3lEJwi3hCALuqQMDunkFMI3RC6H+GQUAsZkB42x9CAG7rQdB4mcG4qxRBIOchQVBfUsE=",
            "dtype": "f4"
           }
          },
          {
           "marker": {
            "color": "#FECB52",
            "line": {
             "color": "black",
             "width": 0.5
            },
            "size": 6,
            "symbol": "diamond"
           },
           "mode": "markers+text",
           "name": "Cluster 9",
           "text": [
            "C9"
           ],
           "textposition": "top center",
           "type": "scatter3d",
           "x": {
            "bdata": "WKBLQg==",
            "dtype": "f4"
           },
           "y": {
            "bdata": "ND6Dwg==",
            "dtype": "f4"
           },
           "z": {
            "bdata": "wmLbQQ==",
            "dtype": "f4"
           }
          }
         ],
         "name": "frame5"
        }
       ],
       "layout": {
        "margin": {
         "b": 0,
         "l": 0,
         "r": 0,
         "t": 40
        },
        "scene": {
         "bgcolor": "white",
         "xaxis": {
          "title": {
           "text": "UMAP-1"
          }
         },
         "yaxis": {
          "title": {
           "text": "UMAP-2"
          }
         },
         "zaxis": {
          "title": {
           "text": "UMAP-3"
          }
         }
        },
        "sliders": [
         {
          "len": 0.6,
          "steps": [
           {
            "args": [
             [
              "frame0"
             ]
            ],
            "label": "0",
            "method": "animate"
           },
           {
            "args": [
             [
              "frame1"
             ]
            ],
            "label": "1",
            "method": "animate"
           },
           {
            "args": [
             [
              "frame2"
             ]
            ],
            "label": "2",
            "method": "animate"
           },
           {
            "args": [
             [
              "frame3"
             ]
            ],
            "label": "3",
            "method": "animate"
           },
           {
            "args": [
             [
              "frame4"
             ]
            ],
            "label": "4",
            "method": "animate"
           },
           {
            "args": [
             [
              "frame5"
             ]
            ],
            "label": "5",
            "method": "animate"
           }
          ],
          "transition": {
           "duration": 0
          },
          "x": 0.156,
          "y": 0
         }
        ],
        "template": {
         "data": {
          "bar": [
           {
            "error_x": {
             "color": "#2a3f5f"
            },
            "error_y": {
             "color": "#2a3f5f"
            },
            "marker": {
             "line": {
              "color": "#E5ECF6",
              "width": 0.5
             },
             "pattern": {
              "fillmode": "overlay",
              "size": 10,
              "solidity": 0.2
             }
            },
            "type": "bar"
           }
          ],
          "barpolar": [
           {
            "marker": {
             "line": {
              "color": "#E5ECF6",
              "width": 0.5
             },
             "pattern": {
              "fillmode": "overlay",
              "size": 10,
              "solidity": 0.2
             }
            },
            "type": "barpolar"
           }
          ],
          "carpet": [
           {
            "aaxis": {
             "endlinecolor": "#2a3f5f",
             "gridcolor": "white",
             "linecolor": "white",
             "minorgridcolor": "white",
             "startlinecolor": "#2a3f5f"
            },
            "baxis": {
             "endlinecolor": "#2a3f5f",
             "gridcolor": "white",
             "linecolor": "white",
             "minorgridcolor": "white",
             "startlinecolor": "#2a3f5f"
            },
            "type": "carpet"
           }
          ],
          "choropleth": [
           {
            "colorbar": {
             "outlinewidth": 0,
             "ticks": ""
            },
            "type": "choropleth"
           }
          ],
          "contour": [
           {
            "colorbar": {
             "outlinewidth": 0,
             "ticks": ""
            },
            "colorscale": [
             [
              0,
              "#0d0887"
             ],
             [
              0.1111111111111111,
              "#46039f"
             ],
             [
              0.2222222222222222,
              "#7201a8"
             ],
             [
              0.3333333333333333,
              "#9c179e"
             ],
             [
              0.4444444444444444,
              "#bd3786"
             ],
             [
              0.5555555555555556,
              "#d8576b"
             ],
             [
              0.6666666666666666,
              "#ed7953"
             ],
             [
              0.7777777777777778,
              "#fb9f3a"
             ],
             [
              0.8888888888888888,
              "#fdca26"
             ],
             [
              1,
              "#f0f921"
             ]
            ],
            "type": "contour"
           }
          ],
          "contourcarpet": [
           {
            "colorbar": {
             "outlinewidth": 0,
             "ticks": ""
            },
            "type": "contourcarpet"
           }
          ],
          "heatmap": [
           {
            "colorbar": {
             "outlinewidth": 0,
             "ticks": ""
            },
            "colorscale": [
             [
              0,
              "#0d0887"
             ],
             [
              0.1111111111111111,
              "#46039f"
             ],
             [
              0.2222222222222222,
              "#7201a8"
             ],
             [
              0.3333333333333333,
              "#9c179e"
             ],
             [
              0.4444444444444444,
              "#bd3786"
             ],
             [
              0.5555555555555556,
              "#d8576b"
             ],
             [
              0.6666666666666666,
              "#ed7953"
             ],
             [
              0.7777777777777778,
              "#fb9f3a"
             ],
             [
              0.8888888888888888,
              "#fdca26"
             ],
             [
              1,
              "#f0f921"
             ]
            ],
            "type": "heatmap"
           }
          ],
          "histogram": [
           {
            "marker": {
             "pattern": {
              "fillmode": "overlay",
              "size": 10,
              "solidity": 0.2
             }
            },
            "type": "histogram"
           }
          ],
          "histogram2d": [
           {
            "colorbar": {
             "outlinewidth": 0,
             "ticks": ""
            },
            "colorscale": [
             [
              0,
              "#0d0887"
             ],
             [
              0.1111111111111111,
              "#46039f"
             ],
             [
              0.2222222222222222,
              "#7201a8"
             ],
             [
              0.3333333333333333,
              "#9c179e"
             ],
             [
              0.4444444444444444,
              "#bd3786"
             ],
             [
              0.5555555555555556,
              "#d8576b"
             ],
             [
              0.6666666666666666,
              "#ed7953"
             ],
             [
              0.7777777777777778,
              "#fb9f3a"
             ],
             [
              0.8888888888888888,
              "#fdca26"
             ],
             [
              1,
              "#f0f921"
             ]
            ],
            "type": "histogram2d"
           }
          ],
          "histogram2dcontour": [
           {
            "colorbar": {
             "outlinewidth": 0,
             "ticks": ""
            },
            "colorscale": [
             [
              0,
              "#0d0887"
             ],
             [
              0.1111111111111111,
              "#46039f"
             ],
             [
              0.2222222222222222,
              "#7201a8"
             ],
             [
              0.3333333333333333,
              "#9c179e"
             ],
             [
              0.4444444444444444,
              "#bd3786"
             ],
             [
              0.5555555555555556,
              "#d8576b"
             ],
             [
              0.6666666666666666,
              "#ed7953"
             ],
             [
              0.7777777777777778,
              "#fb9f3a"
             ],
             [
              0.8888888888888888,
              "#fdca26"
             ],
             [
              1,
              "#f0f921"
             ]
            ],
            "type": "histogram2dcontour"
           }
          ],
          "mesh3d": [
           {
            "colorbar": {
             "outlinewidth": 0,
             "ticks": ""
            },
            "type": "mesh3d"
           }
          ],
          "parcoords": [
           {
            "line": {
             "colorbar": {
              "outlinewidth": 0,
              "ticks": ""
             }
            },
            "type": "parcoords"
           }
          ],
          "pie": [
           {
            "automargin": true,
            "type": "pie"
           }
          ],
          "scatter": [
           {
            "fillpattern": {
             "fillmode": "overlay",
             "size": 10,
             "solidity": 0.2
            },
            "type": "scatter"
           }
          ],
          "scatter3d": [
           {
            "line": {
             "colorbar": {
              "outlinewidth": 0,
              "ticks": ""
             }
            },
            "marker": {
             "colorbar": {
              "outlinewidth": 0,
              "ticks": ""
             }
            },
            "type": "scatter3d"
           }
          ],
          "scattercarpet": [
           {
            "marker": {
             "colorbar": {
              "outlinewidth": 0,
              "ticks": ""
             }
            },
            "type": "scattercarpet"
           }
          ],
          "scattergeo": [
           {
            "marker": {
             "colorbar": {
              "outlinewidth": 0,
              "ticks": ""
             }
            },
            "type": "scattergeo"
           }
          ],
          "scattergl": [
           {
            "marker": {
             "colorbar": {
              "outlinewidth": 0,
              "ticks": ""
             }
            },
            "type": "scattergl"
           }
          ],
          "scattermap": [
           {
            "marker": {
             "colorbar": {
              "outlinewidth": 0,
              "ticks": ""
             }
            },
            "type": "scattermap"
           }
          ],
          "scattermapbox": [
           {
            "marker": {
             "colorbar": {
              "outlinewidth": 0,
              "ticks": ""
             }
            },
            "type": "scattermapbox"
           }
          ],
          "scatterpolar": [
           {
            "marker": {
             "colorbar": {
              "outlinewidth": 0,
              "ticks": ""
             }
            },
            "type": "scatterpolar"
           }
          ],
          "scatterpolargl": [
           {
            "marker": {
             "colorbar": {
              "outlinewidth": 0,
              "ticks": ""
             }
            },
            "type": "scatterpolargl"
           }
          ],
          "scatterternary": [
           {
            "marker": {
             "colorbar": {
              "outlinewidth": 0,
              "ticks": ""
             }
            },
            "type": "scatterternary"
           }
          ],
          "surface": [
           {
            "colorbar": {
             "outlinewidth": 0,
             "ticks": ""
            },
            "colorscale": [
             [
              0,
              "#0d0887"
             ],
             [
              0.1111111111111111,
              "#46039f"
             ],
             [
              0.2222222222222222,
              "#7201a8"
             ],
             [
              0.3333333333333333,
              "#9c179e"
             ],
             [
              0.4444444444444444,
              "#bd3786"
             ],
             [
              0.5555555555555556,
              "#d8576b"
             ],
             [
              0.6666666666666666,
              "#ed7953"
             ],
             [
              0.7777777777777778,
              "#fb9f3a"
             ],
             [
              0.8888888888888888,
              "#fdca26"
             ],
             [
              1,
              "#f0f921"
             ]
            ],
            "type": "surface"
           }
          ],
          "table": [
           {
            "cells": {
             "fill": {
              "color": "#EBF0F8"
             },
             "line": {
              "color": "white"
             }
            },
            "header": {
             "fill": {
              "color": "#C8D4E3"
             },
             "line": {
              "color": "white"
             }
            },
            "type": "table"
           }
          ]
         },
         "layout": {
          "annotationdefaults": {
           "arrowcolor": "#2a3f5f",
           "arrowhead": 0,
           "arrowwidth": 1
          },
          "autotypenumbers": "strict",
          "coloraxis": {
           "colorbar": {
            "outlinewidth": 0,
            "ticks": ""
           }
          },
          "colorscale": {
           "diverging": [
            [
             0,
             "#8e0152"
            ],
            [
             0.1,
             "#c51b7d"
            ],
            [
             0.2,
             "#de77ae"
            ],
            [
             0.3,
             "#f1b6da"
            ],
            [
             0.4,
             "#fde0ef"
            ],
            [
             0.5,
             "#f7f7f7"
            ],
            [
             0.6,
             "#e6f5d0"
            ],
            [
             0.7,
             "#b8e186"
            ],
            [
             0.8,
             "#7fbc41"
            ],
            [
             0.9,
             "#4d9221"
            ],
            [
             1,
             "#276419"
            ]
           ],
           "sequential": [
            [
             0,
             "#0d0887"
            ],
            [
             0.1111111111111111,
             "#46039f"
            ],
            [
             0.2222222222222222,
             "#7201a8"
            ],
            [
             0.3333333333333333,
             "#9c179e"
            ],
            [
             0.4444444444444444,
             "#bd3786"
            ],
            [
             0.5555555555555556,
             "#d8576b"
            ],
            [
             0.6666666666666666,
             "#ed7953"
            ],
            [
             0.7777777777777778,
             "#fb9f3a"
            ],
            [
             0.8888888888888888,
             "#fdca26"
            ],
            [
             1,
             "#f0f921"
            ]
           ],
           "sequentialminus": [
            [
             0,
             "#0d0887"
            ],
            [
             0.1111111111111111,
             "#46039f"
            ],
            [
             0.2222222222222222,
             "#7201a8"
            ],
            [
             0.3333333333333333,
             "#9c179e"
            ],
            [
             0.4444444444444444,
             "#bd3786"
            ],
            [
             0.5555555555555556,
             "#d8576b"
            ],
            [
             0.6666666666666666,
             "#ed7953"
            ],
            [
             0.7777777777777778,
             "#fb9f3a"
            ],
            [
             0.8888888888888888,
             "#fdca26"
            ],
            [
             1,
             "#f0f921"
            ]
           ]
          },
          "colorway": [
           "#636efa",
           "#EF553B",
           "#00cc96",
           "#ab63fa",
           "#FFA15A",
           "#19d3f3",
           "#FF6692",
           "#B6E880",
           "#FF97FF",
           "#FECB52"
          ],
          "font": {
           "color": "#2a3f5f"
          },
          "geo": {
           "bgcolor": "white",
           "lakecolor": "white",
           "landcolor": "#E5ECF6",
           "showlakes": true,
           "showland": true,
           "subunitcolor": "white"
          },
          "hoverlabel": {
           "align": "left"
          },
          "hovermode": "closest",
          "mapbox": {
           "style": "light"
          },
          "paper_bgcolor": "white",
          "plot_bgcolor": "#E5ECF6",
          "polar": {
           "angularaxis": {
            "gridcolor": "white",
            "linecolor": "white",
            "ticks": ""
           },
           "bgcolor": "#E5ECF6",
           "radialaxis": {
            "gridcolor": "white",
            "linecolor": "white",
            "ticks": ""
           }
          },
          "scene": {
           "xaxis": {
            "backgroundcolor": "#E5ECF6",
            "gridcolor": "white",
            "gridwidth": 2,
            "linecolor": "white",
            "showbackground": true,
            "ticks": "",
            "zerolinecolor": "white"
           },
           "yaxis": {
            "backgroundcolor": "#E5ECF6",
            "gridcolor": "white",
            "gridwidth": 2,
            "linecolor": "white",
            "showbackground": true,
            "ticks": "",
            "zerolinecolor": "white"
           },
           "zaxis": {
            "backgroundcolor": "#E5ECF6",
            "gridcolor": "white",
            "gridwidth": 2,
            "linecolor": "white",
            "showbackground": true,
            "ticks": "",
            "zerolinecolor": "white"
           }
          },
          "shapedefaults": {
           "line": {
            "color": "#2a3f5f"
           }
          },
          "ternary": {
           "aaxis": {
            "gridcolor": "white",
            "linecolor": "white",
            "ticks": ""
           },
           "baxis": {
            "gridcolor": "white",
            "linecolor": "white",
            "ticks": ""
           },
           "bgcolor": "#E5ECF6",
           "caxis": {
            "gridcolor": "white",
            "linecolor": "white",
            "ticks": ""
           }
          },
          "title": {
           "x": 0.05
          },
          "xaxis": {
           "automargin": true,
           "gridcolor": "white",
           "linecolor": "white",
           "ticks": "",
           "title": {
            "standoff": 15
           },
           "zerolinecolor": "white",
           "zerolinewidth": 2
          },
          "yaxis": {
           "automargin": true,
           "gridcolor": "white",
           "linecolor": "white",
           "ticks": "",
           "title": {
            "standoff": 15
           },
           "zerolinecolor": "white",
           "zerolinewidth": 2
          }
         }
        },
        "title": {
         "text": "🌌 UMAP 3D K-Means Iterations"
        },
        "updatemenus": [
         {
          "buttons": [
           {
            "args": [
             null
            ],
            "label": "Play",
            "method": "animate"
           }
          ],
          "showactive": false,
          "type": "buttons"
         }
        ]
       }
      }
     },
     "metadata": {},
     "output_type": "display_data"
    }
   ],
   "source": [
    "# Bernat: any setting <1 will cause sorting order artifacts because of\n",
    "# the rendering engine's static sorting order on transparents.\n",
    "point_opacity = 1\n",
    "\n",
    "colors = px.colors.qualitative.Plotly\n",
    "\n",
    "# Static layout\n",
    "layout = go.Layout(\n",
    "    title=\"🌌 UMAP 3D K-Means Iterations\",\n",
    "    margin=dict(l=0, r=0, b=0, t=40),\n",
    "    scene=dict(\n",
    "        xaxis_title='UMAP-1',\n",
    "        yaxis_title='UMAP-2',\n",
    "        zaxis_title='UMAP-3',\n",
    "        bgcolor='white'\n",
    "    ),\n",
    "    updatemenus=[dict(\n",
    "        type='buttons',\n",
    "        showactive=False,\n",
    "        buttons=[dict(label='Play', method='animate', args=[None])]\n",
    "    )],\n",
    "    sliders=[dict(\n",
    "        steps=[dict(method='animate', args=[[f'frame{k}']], label=str(k)) for k in range(len(iterations))],\n",
    "        transition=dict(duration=0),\n",
    "        x=0.156, y=0, len=0.6\n",
    "    )]\n",
    ")\n",
    "\n",
    "# Initial empty figure\n",
    "fig = go.Figure(layout=layout)\n",
    "\n",
    "# Initial data for frame 0\n",
    "iter0 = iteration_meta[0]\n",
    "cmap = {cid: colors[i % len(colors)] for i, cid in enumerate(np.unique(iter0['centroid_ids']))}\n",
    "\n",
    "for cid in cmap:\n",
    "    mask = iter0['point_cluster_ids'] == cid\n",
    "    fig.add_trace(go.Scatter3d(\n",
    "        x=points_3d_per_iter[0][mask, 0],\n",
    "        y=points_3d_per_iter[0][mask, 1],\n",
    "        z=points_3d_per_iter[0][mask, 2],\n",
    "        mode='markers',\n",
    "        marker=dict(size=4, color=cmap[cid], opacity=point_opacity),\n",
    "        showlegend=False,\n",
    "        name = 'C' + str(cid)\n",
    "    ))\n",
    "    mask = iter0['centroid_ids'] == cid\n",
    "    fig.add_trace(go.Scatter3d(\n",
    "        x=centroids_3d_per_iter[0][mask, 0],\n",
    "        y=centroids_3d_per_iter[0][mask, 1],\n",
    "        z=centroids_3d_per_iter[0][mask, 2],\n",
    "        mode='markers+text',\n",
    "        marker=dict(size=6, symbol='diamond', color=cmap[cid], line=dict(width=0.5, color='black')),\n",
    "        name=f'Cluster {cid}',\n",
    "        text=[f\"C{cid}\"] * np.sum(mask),\n",
    "        textposition=\"top center\"\n",
    "    ))\n",
    "\n",
    "# Add frames\n",
    "frames = []\n",
    "for k, meta in enumerate(iteration_meta):\n",
    "    frame_data = []\n",
    "    cmap = {cid: colors[i % len(colors)] for i, cid in enumerate(np.unique(meta['centroid_ids']))}\n",
    "\n",
    "    for cid in cmap:\n",
    "        mask_p = meta['point_cluster_ids'] == cid\n",
    "        mask_c = meta['centroid_ids'] == cid\n",
    "\n",
    "        frame_data.append(go.Scatter3d(\n",
    "            x=points_3d_per_iter[k][mask_p, 0],\n",
    "            y=points_3d_per_iter[k][mask_p, 1],\n",
    "            z=points_3d_per_iter[k][mask_p, 2],\n",
    "            mode='markers',\n",
    "            marker=dict(size=4, color=cmap[cid], opacity=point_opacity),\n",
    "            showlegend=False\n",
    "        ))\n",
    "        frame_data.append(go.Scatter3d(\n",
    "            x=centroids_3d_per_iter[k][mask_c, 0],\n",
    "            y=centroids_3d_per_iter[k][mask_c, 1],\n",
    "            z=centroids_3d_per_iter[k][mask_c, 2],\n",
    "            mode='markers+text',\n",
    "            marker=dict(size=6, symbol='diamond', color=cmap[cid], line=dict(width=0.5, color='black')),\n",
    "            name=f'Cluster {cid}',\n",
    "            text=[f\"C{cid}\"] * np.sum(mask_c),\n",
    "            textposition=\"top center\"\n",
    "        ))\n",
    "\n",
    "    frames.append(go.Frame(data=frame_data, name=f\"frame{k}\"))\n",
    "\n",
    "fig.frames = frames\n",
    "fig.show()\n"
   ]
  }
 ],
 "metadata": {
  "kernelspec": {
   "display_name": ".venv",
   "language": "python",
   "name": "python3"
  },
  "language_info": {
   "codemirror_mode": {
    "name": "ipython",
    "version": 3
   },
   "file_extension": ".py",
   "mimetype": "text/x-python",
   "name": "python",
   "nbconvert_exporter": "python",
   "pygments_lexer": "ipython3",
   "version": "3.11.2"
  }
 },
 "nbformat": 4,
 "nbformat_minor": 5
}
