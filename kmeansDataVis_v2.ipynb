{
 "cells": [
  {
   "cell_type": "code",
   "execution_count": 33,
   "id": "136a0079",
   "metadata": {},
   "outputs": [],
   "source": [
    "import struct\n",
    "import numpy as np\n",
    "import umap\n",
    "import plotly.graph_objects as go\n",
    "import plotly.express as px"
   ]
  },
  {
   "cell_type": "code",
   "execution_count": 34,
   "id": "0db8952f",
   "metadata": {},
   "outputs": [],
   "source": [
    "def read_all_iterations(filename):\n",
    "    iterations = []\n",
    "\n",
    "    with open(filename, \"rb\") as f:\n",
    "        # Read header once\n",
    "        n_clusters = struct.unpack(\"I\", f.read(4))[0]\n",
    "        n_points = struct.unpack(\"I\", f.read(4))[0]\n",
    "        n_dim = struct.unpack(\"I\", f.read(4))[0]\n",
    "\n",
    "        # Determine how many bytes one iteration takes\n",
    "        bytes_per_centroid = (4 * n_dim) + 4  # centroid values + id\n",
    "        bytes_per_point = (4 * n_dim) + 4     # point values + cluster_id\n",
    "        bytes_per_iteration = n_clusters * bytes_per_centroid + n_points * bytes_per_point\n",
    "\n",
    "        file_data = f.read()\n",
    "        total_bytes = len(file_data)\n",
    "        n_iterations = total_bytes // bytes_per_iteration\n",
    "\n",
    "        print(f\"📦 Detected {n_iterations} iterations\")\n",
    "\n",
    "        offset = 0\n",
    "        for iter_idx in range(n_iterations):\n",
    "            # --- Read centroids ---\n",
    "            centroid_data = np.zeros((n_clusters, n_dim), dtype=np.float32)\n",
    "            centroid_ids = np.zeros(n_clusters, dtype=np.int32)\n",
    "            for i in range(n_clusters):\n",
    "                start = offset\n",
    "                centroid_data[i] = np.frombuffer(file_data[start:start + 4 * n_dim], dtype=np.float32)\n",
    "                offset += 4 * n_dim\n",
    "                centroid_ids[i] = struct.unpack(\"i\", file_data[offset:offset + 4])[0]\n",
    "                offset += 4\n",
    "\n",
    "            # --- Read points ---\n",
    "            point_data = np.zeros((n_points, n_dim), dtype=np.float32)\n",
    "            point_cluster_ids = np.zeros(n_points, dtype=np.int32)\n",
    "            for i in range(n_points):\n",
    "                start = offset\n",
    "                point_data[i] = np.frombuffer(file_data[start:start + 4 * n_dim], dtype=np.float32)\n",
    "                offset += 4 * n_dim\n",
    "                point_cluster_ids[i] = struct.unpack(\"i\", file_data[offset:offset + 4])[0]\n",
    "                offset += 4\n",
    "\n",
    "            iterations.append({\n",
    "                'points': point_data,\n",
    "                'point_cluster_ids': point_cluster_ids,\n",
    "                'centroids': centroid_data,\n",
    "                'centroid_ids': centroid_ids,\n",
    "                'n_points': n_points,\n",
    "                'n_centroids': n_clusters\n",
    "            })\n",
    "\n",
    "    return n_clusters, n_points, n_dim, iterations"
   ]
  },
  {
   "cell_type": "code",
   "execution_count": 35,
   "id": "4d29fe23",
   "metadata": {},
   "outputs": [
    {
     "name": "stdout",
     "output_type": "stream",
     "text": [
      "📦 Detected 4 iterations\n"
     ]
    }
   ],
   "source": [
    "filename = \"./build/data/cluster_data\"\n",
    "n_clusters, n_points, n_dim, iterations = read_all_iterations(filename)"
   ]
  },
  {
   "cell_type": "code",
   "execution_count": 36,
   "id": "a9035409",
   "metadata": {},
   "outputs": [
    {
     "name": "stdout",
     "output_type": "stream",
     "text": [
      "✅ First iteration summary:\n",
      "Centroids:\n",
      " [[ -77.570274   173.70331     39.370544 ]\n",
      " [ -58.238808   127.25286    175.20126  ]\n",
      " [ -48.313843     6.717932   198.54216  ]\n",
      " [  -2.4265752 -179.05107    -38.719307 ]\n",
      " [-162.89345    -41.80764    -79.495834 ]\n",
      " [-191.99648     -6.1099963    7.1584005]\n",
      " [ -37.748135  -134.32285    129.13911  ]\n",
      " [ 148.32722    107.47736     -8.703864 ]\n",
      " [  22.075588    77.61364   -129.07661  ]\n",
      " [-127.01771    -17.376776  -206.30307  ]]\n",
      "Points shape: (70000, 3)\n",
      "Unique cluster IDs: [0 1 2 3 4 5 6 7 8 9]\n"
     ]
    }
   ],
   "source": [
    "print(\"✅ First iteration summary:\")\n",
    "print(\"Centroids:\\n\", iterations[0]['centroids'])\n",
    "print(\"Points shape:\", iterations[0]['points'].shape)\n",
    "print(\"Unique cluster IDs:\", np.unique(iterations[0]['centroid_ids']))\n"
   ]
  },
  {
   "cell_type": "code",
   "execution_count": 37,
   "id": "666168cf",
   "metadata": {},
   "outputs": [],
   "source": [
    "all_points = []\n",
    "all_centroids = []\n",
    "all_point_ids = []\n",
    "iteration_meta = []\n",
    "\n",
    "for i, it in enumerate(iterations):\n",
    "    all_points.append(it['points'])\n",
    "    all_centroids.append(it['centroids'])\n",
    "    all_point_ids.append(it['point_cluster_ids'])\n",
    "\n",
    "    iteration_meta.append({\n",
    "        'n_points': len(it['points']),\n",
    "        'n_centroids': len(it['centroids']),\n",
    "        'point_cluster_ids': it['point_cluster_ids'],\n",
    "        'centroid_ids': it['centroid_ids'],\n",
    "    })\n",
    "\n",
    "# Stack all points for reduction\n",
    "points_concat = np.vstack(all_points)\n",
    "centroids_concat = np.vstack(all_centroids)\n",
    "\n",
    "if points_concat.shape[1] > 3:\n",
    "    reducer = umap.UMAP(\n",
    "        n_components=3,\n",
    "        n_neighbors=50,\n",
    "        min_dist=1,\n",
    "        metric='euclidean',\n",
    "        low_memory=True,\n",
    "    )\n",
    "    points_umap = reducer.fit_transform(points_concat)\n",
    "    centroids_umap = reducer.transform(centroids_concat)\n",
    "elif points_concat.shape[1] < 3:\n",
    "    padding = ((0, 0), (0, 3 - points_concat.shape[1]))\n",
    "    points_umap = np.pad(points_concat, padding, mode='constant', constant_values=0)\n",
    "    centroids_umap = np.pad(centroids_concat, padding, mode='constant', constant_values=0)\n",
    "else:\n",
    "    points_umap = points_concat\n",
    "    centroids_umap = centroids_concat\n"
   ]
  },
  {
   "cell_type": "code",
   "execution_count": 38,
   "id": "ceb7bc70",
   "metadata": {},
   "outputs": [],
   "source": [
    "points_3d_per_iter = []\n",
    "centroids_3d_per_iter = []\n",
    "\n",
    "p_idx, c_idx = 0, 0\n",
    "for meta in iteration_meta:\n",
    "    np_ = meta['n_points']\n",
    "    nc_ = meta['n_centroids']\n",
    "    points_3d_per_iter.append(points_umap[p_idx:p_idx+np_])\n",
    "    centroids_3d_per_iter.append(centroids_umap[c_idx:c_idx+nc_])\n",
    "    p_idx += np_\n",
    "    c_idx += nc_\n"
   ]
  },
  {
   "cell_type": "code",
   "execution_count": 39,
   "id": "2994bde6",
   "metadata": {},
   "outputs": [],
   "source": [
    "def voxel_downsample(points, cluster_ids, voxel_size=0.1, max_points=10_000):\n",
    "    max_points = int(max_points)\n",
    "    down_points, down_ids = [], []\n",
    "    for cid in np.unique(cluster_ids):\n",
    "        pts = points[cluster_ids == cid]\n",
    "        if len(pts) == 0:\n",
    "            continue\n",
    "        vox = np.floor(pts / voxel_size).astype(int)\n",
    "        _, idx = np.unique(vox, axis=0, return_index=True)\n",
    "        reduced = pts[idx]\n",
    "        if len(reduced) > max_points:\n",
    "            reduced = reduced[np.random.choice(len(reduced), max_points, replace=False)]\n",
    "        down_points.append(reduced)\n",
    "        down_ids.append(np.full(len(reduced), cid, dtype=np.int32))\n",
    "    return np.vstack(down_points), np.concatenate(down_ids)\n",
    "\n",
    "reduced_points_3d_per_iter = []\n",
    "reduced_cluster_ids_per_iter = []\n",
    "max_points_per_iter = 3500\n",
    "\n",
    "for i, (pts3d, meta) in enumerate(zip(points_3d_per_iter, iteration_meta)):\n",
    "    if len(pts3d) > max_points_per_iter:\n",
    "        reduced_pts, reduced_ids = voxel_downsample(pts3d, meta['point_cluster_ids'], max_points=max_points_per_iter/n_clusters)\n",
    "        reduced_points_3d_per_iter.append(reduced_pts)\n",
    "        reduced_cluster_ids_per_iter.append(reduced_ids)\n",
    "    else:\n",
    "        reduced_points_3d_per_iter.append(pts3d)\n",
    "        reduced_cluster_ids_per_iter.append(meta['point_cluster_ids'])\n",
    "\n",
    "# Replace old lists with reduced versions\n",
    "points_3d_per_iter = reduced_points_3d_per_iter\n",
    "for i in range(len(iteration_meta)):\n",
    "    iteration_meta[i]['point_cluster_ids'] = reduced_cluster_ids_per_iter[i]\n"
   ]
  },
  {
   "cell_type": "code",
   "execution_count": 40,
   "id": "e1e0f2ae",
   "metadata": {},
   "outputs": [
    {
     "data": {
      "application/vnd.plotly.v1+json": {
       "config": {
        "plotlyServerURL": "https://plot.ly"
       },
       "data": [
        {
         "marker": {
          "color": "#636EFA",
          "opacity": 1,
          "size": 4
         },
         "mode": "markers",
         "name": "C0",
         "showlegend": false,
         "type": "scatter3d",
         "x": {
          "bdata": "pOa6woA8xEBQGi3DyFCnwVqHQsKgnwdAVJsFwkamrUFKxJ3C5zl1wurHAMNWTqfCPEzXwl5Ti8NY6QtBeN/UwrgzZsFcG6DBY+CIwywLicP0FbpBk3kkwjZVv0IwOCjCjmMYwsiWg8OI6DbCEOtow5bvLMLPNBHBslPOwgYT+sEtsMpCB8VJw7fUzMI6XILCOKkYwWlXbsKI70LDFRVUwmY3YcNmfh/CMV0lQs4rm8Ia5L3BT4ACwnAYU8IbgX9C6B1Iw/zELMOLMkdCAEdqv2FHf8JnvX5CGJT9woyTYMOoezpBEEm2wkRMrsIdM6/CwKp/wSLqjMIT+bHBJjxEw4LZ6sIEw9DCNiT+wihA1sKUXyFBqVljw5JtpkHtRIHDYH/+wfY7VsLcsa7CdNM6w+As3UA0KQrCWTtVwn2lP8JQj5FAnEU7QQXxTsJ1swNC2XxKw/eWRcJJoKDCRoa4wnzDCcN4H19BmOmEwmAN1z9najnC3FlBwu2DfcNi7obC8HzmwNSW88KMmpZCIIx/weiHU8I0PwzDIDOewg0TEcLw2dPCojEUwsSjuMFOQyzCosTGwhCyycKm5k7DmQ+9wUi7N8LmZorCC5B9wiwLEMOepzPDbPWBwnhCqMJwUujBZDMiw0zIV8JvBEXCAK82wQiQv8JndlnDKMS7wWhZcMGpwMbC2L1FwgF6XsKujMzCbne7QlDE8sAGKePBet6hwhC6VcPIQS9ButLmwlhi1sHCrKbCNowbw7SUy8KBkkDCSWJSw4y77MI0qg/C5iK0wkatN8NsNBrBUXqOwl8El8JrRvvBmRu5QmFnJ0IyixPDFFbawnrXmsJQWYzBRAEZQjqFgsNoLd5BjJQww2AABkBSWazCQKEUQgGQBcMqAa7ClvqqQUXgE8PyGTLD7l1uwhFtk8JBFwrD6oA0wubUc8NOXpFBiIvMwSA6SMIH6HxCEIO/wuR7D8Pg+z3CnSYcw9T1CUFT+Z7BBcduw4+gsUIsM/hBamtUw8meM8Ms1xHCjJRdwvT48sJiqL3CODKDwioONMOnc4TCvMeIwm5chUEDzFLD2e48QuSIBcPAbyBC/vqfwsDOhsA80WzB+ISrwJ9opsKwkIHCIgTgwiwTUMOgq73C3BUCwyQ5ncJ1o6jC2xHEwtgjtMHznPnBrOYQwlPV3cIuUgLCTmBIwsgFX8Mgjj9A8qqswiitvcCgRq5BDphiwopKB8PvIxHDEp5lw9yQBsEEBljDJJB7w8ISp8LresrCviYUw8AbzsE5PjtC9ewPwt592kGpmWXCfQQXw4KczsLFqAbDzbR9Qj0HhMLW+0LCsH45Qgp358ImnwfD9zdKw9CCX0JBeyTDklTsQeRfh8I+8NrCWCOAwmzLaMKg+DlBPdUvwkmbr8H4muVA1hXzwvA/nUEEz+LCtZxEwyySqsLKQ5ZC0Jo9wXZMKcP8tvTCgJwFw5cqH8NT8YnCpPsTwqwtiMLlowrDdj5Tw7UtdMPqr2LCYCqSQHi5EkE4j0bDjK9awuAWC8Kmbl3DLnPAwgIhi8JUqDTCjs/KQqo7nMKKWfPCq91Iwmx8acJEKeXCxh6zQeXIO8IK7oHCzMbhwgDbEcPFNF7DoQe7wq4yQsPfnGTDz4AKQsUSm8KJ//LCoAO2QHZ9KsLaN7nBe3/swdwxeMJzU4XDGoTXwhyqLsLWz6DCSmmlwjGGJsLg/sdByRcYw0jOF0FnYF3CwOoCwehRmcBwrdPC+wEdw2FzicK3pgPD/4YAwzZlksKbda3C0vrGQVBGS8EayzfDUExbQaw/0MJ7aTTDKpgbw5aHCsIvAB/DKg5LwuSSxsHF9KLCzo10wsDBzsFSuUHDrqm7wjf0pcI=",
          "dtype": "f4"
         },
         "y": {
          "bdata": "rQ4TQ2+rrkK+oCZDVJVRQphlbkOpJ5BD/dGuQ7gpdkNIyolCUqSmQvXB5kKD/qhCseDnQg4+KUNLw25C31GZQgDbjEP8O0BDs8sPQyCcL0PB6RZDQB2QQgKLVkOCOZFCBEveQqmrG0OGuW1DTzpMQ6juE0PkScdCKZMvQzQ+MkM9KmJD3PIVQ0yHKkMvmiZDszWDQ4VzGkM7xCVDxK3kQq0WZkPY/dxC4jwaQyASRkLwT4ZCsu2MQvbXSUPCcTVD0vIRQ+jyPkNbdzhDXGSZQzcwIkPWcpBDiE6QQ4W9GEOwEL9C53QwQ9CimkLBIqlCSh1hQg4f60K8RPtCLdNMQ04zk0PGMxhDrPhaQyjmiEMC41tDlKQkQxziRkOd+xZDiA6kQ0hjf0INU3lCDiVqQ35G40J1JJ9De3kmQ4gTQEJOFoRDEnOAQ4KDXEOATztDIdHkQpr4/ULwM4tDTT1sQ69zXUNy5gJDRPOhQtmdj0Nsa61CNKh3Q0DTEEPqfjVDbouaQ2f29kKH6oZDtLfYQuj36kIfhIVDVIa8Qn8uvUL+VFhDFGGHQxIQgEPW5YVCSstgQvZkAEMSBSJD4sCwQtkmGENsSKRCOlcPQ37UEEPGkfJCWAJKQ8htmkPpdIBDUsl3Q3jW10LQZ9FCprSGQ5g4mELXhMZCxArnQluBkkMUZkBD7fypQlJ7BEPzu1ZDm1c4QzZbakNrdp1DASNFQwqEO0OgqjpDyVXMQsTDiEIOAW9Ds3aLQ7giAEP6OINCbFomQ673lkNAVSxDbiE9Q7nCCUNgcTFC7Bt1QgpXkEO+wWBDzOiIQ1Q1ikNUuYJDHsaoQkjWrkJykY9Dl+2sQw9bL0MwFDZDfujnQpgMkkPmtV5DsCH1QrhGR0O8hTZCyphvQyJP9UKl1HJD2JNuQx0GLUOlh5lDxtQDQ9IVW0M5cBtDU1qgQz03mEIO42lD1iRRQ3lVIEMiDeJCbMFUQz7VPEMwQp5DT1gIQ73ma0MfgidDY4kNQ6TUHEOZQHdCxawBQ51rQkPmd5RCdrw9Q9wOekN4IKNCjcMEQx5KkEOdLvNCUDSGQ1rOdENZdaBDvoedQjbhqEM4dV5DlPs+Q9r+ukJxdn5CBbAKQ4SgOUM2dmhDremRQzQGkEKAMY1DIXyLQ/x7NkODZfpCzr3YQtSjjUPOyvNCMa+tQ5ovHkNQl1VC21ucQ6OSM0O5re1C0VM7Qp9GJEOiiB5DEB4NQw7b9EKmN2tDFyLvQtS8WkN2IDlDOKQ4Q14RwEIwSI9Dkb69QgKm2kJaobxCGM01Q/4krkPDPAtDhv1LQ3rqaUPadktDvEvaQi/IG0NaOb1Ct+oMQz4dWUN5zoFDPewKQzAc7kKrZnlDtetlQ8ByHEM9WBZDTJWIQxJ5GkMxNxBD8XcYQxwvx0KQ11pDl4MVQ9NU90JEFTRDfmqfQ1JHEkPQuYVD1fOSQpF4E0My4sJCVv9FQ1T4jkM0DmdDf8tkQ5r3+EKJKmdDnFJ7QhO1jUNNqDJDLMoDQ/xWkEMLODpDhdQRQ4z9+0LR/P5C7umBQ3IfgkNeXJZCAnXnQqXXi0M0xKhCZUjRQuxVk0LhdSVDfyJXQ1UbikKsmSlD+BGQQ1JEi0Py3clCDraIQ2ajQENd1hZD71GAQ4vxikPqaYZCE4EhQ77TTENaHSNDDDo5Q3T0Y0OEQSNDWgtYQ2tpfENVx8NCNjXpQjSjGkPiLwBDtxOoQ0Lf5UKmGnpDiKMyQ9vIS0NoiR1D7PQxQxbrm0JVsY1DoqCCQqdjP0PM4CxDpURFQyodq0OaAUxDUqH3QhbCQUOWjkJDQC0VQhSyQUIdudxCXwIgQzf1OkPyhSVD7V0GQ7qDA0M=",
          "dtype": "f4"
         },
         "z": {
          "bdata": "zrTKQSCB20DCtJRCuFNTQqoZv0KyrhTBJuPcQtvogEKwDw5BvG8tQaoLVMJEpSBC97ycwT9pg0J9zWpCwDXLQRRFJ0Ff+55CZPhzQoDM1cAgNu9CKMYMQWRcCkO4d3tCIPYJQXIJxUJpguRCTKOBwZCqHcGVlF5CTgkAQmXI5kIOWORCH46SQmh1gsAiJPBCOFTXwajijEFC3AxCMu2+QSzL6MKQ+rvBmsXRQhDpEEJgQpNA3lGNQmprP8IATAlDl3zOQeQpx8FqqCxCUMBlwZLDLkJEZARDZuaswkDdwEB44KpBtnoQQgAKXMFUIg5CnKugQaO7r0IE6WFCnoLVQvoYKEMzdQ7CcnHAQvMYG0P8lyrCjivtQkva5EKo30RBfOUTQvC9cEEcvwVBhAvpQrBhdELUlUVCKk+GQTkRW8FGr55BvNYEQhifUEFwf0FCcCC2Qta/BkKUCv1CwDAfP4TjEsJYBEtBoIYYQCeXiEJotPpBM8kaQ0alqUExTLxCPmY1wrB/08A+4NlC5g+GwcDr6kDD9aJCbAmvQYAya0BgYeZAEDQNwKr3CkMnr0JCo+k4QnP++kGw5PRBql98QmLEGcIeZ0tCIEoaQtAnF0GHGKFC2laHwkxv38FD0hdDlF0LwkQDpEJUJIBCI8yUwVgU2kC0OE1C86+eQjHfqsL47fZCYGeIQpiECcI4FwNDAnwNQ4DeJEEUQkPCl2OOQpxCA0Kf35LBrPMTQhjPPkJx1rpC9CDsQuBt5ECsLG5BgePQQphUhcGv+gXCqCP5QNDRFEGw++lB++AbQmKlC0IzOWxCQAyrQjjzEEFKFOFC4PvYwCYofEJs72pCfK5ewQgLucCsuZlB+EGGQagypUKwr1RB9CqrQgD2sECID71BWuD9Qph9EUGrc0LCkBvhwOtOg8IMCZ3BPYszQkSk7MEnZK1C2B+JQOD/SUGLd9JCgmyUwgAO90Gpk25Cp+/dQjpsV0JMpkvCBF6BQthEv0KqXrZBGWN3QkDxqsGoyJTAR7GIQuDKmUIgbH3BdJq9QlZdMEKOYC5CL+GdQsHXnEIcp7lBctGbQmDpOEBgVi5BFqZGwePvz0KoiDjCpVreQpL62cF4a6RBbEIuQgQav8KYABtCoOAJQ3hgw0EmjbXC9BNiQhL7yEI8G1RCrI2SwSNDisJes1ZC3ux6QracSkKL40ZCwjICQxorakICS4FCrIQkQaTImcEEiYzCpkXVQjCISMEQI3XC5NKDQsR+OkKTUorCqLPUQuBOJULg3NJCgBxCQSPXmEJuIorAnVXIQvD4EEHCHRBCKn4DQ7TjMEIYeVvCC/SlQmfGi8LQbMFBwOxTQUqrFUOdWZ5C1MCuQnCTIMIgkCzAaPU6wkwFw0G8fDVCxgLgQYYaHsI9sS5C8KunQK6CM0JbOJZCFvnQQpAaOUIo4PVCAJRPQXZpHkKH3G5CKgQ+Qp4BgcLQ8YtBMuSBQuBVzEKMYzdCkJzZQp7lqkLgksRAHhIbQvaNDcEcQc5BHq2cQuD9jL9w3mPBoBofQf7PCkKz+k1C71gdQ/SeKsL8n9tBIpMOQkIbxcIu8zfB6WJpQhzEgsESgJ5BgJSfwpTBU0LvgqhCp2PzQsrPskJUT2xCCe3VQnAAH0L74q3C3OxcQhBbq8LCriJCABHzQBemuUJShYdCHSmdwjw+YUGYtKFB1H+cwWkf0ULa/Q1CnjxtQmJaHEKDRIJCIaXvQmR0X0I45UXBJH7sQiCH5ME2e2PC9iEawiGNaUJds2FC4CdBQnjy9EFSN9XBmeamQrCWZMGjXZpCpHiIQgcmikIgKo5BWA3YQUA+r0BInLVCMD6HQngkPULCpDZCcm5aQjQ2RkE=",
          "dtype": "f4"
         }
        },
        {
         "marker": {
          "color": "#636EFA",
          "line": {
           "color": "black",
           "width": 0.5
          },
          "size": 6,
          "symbol": "diamond"
         },
         "mode": "markers+text",
         "name": "Cluster 0",
         "text": [
          "C0"
         ],
         "textposition": "top center",
         "type": "scatter3d",
         "x": {
          "bdata": "+yObwg==",
          "dtype": "f4"
         },
         "y": {
          "bdata": "DLQtQw==",
          "dtype": "f4"
         },
         "z": {
          "bdata": "cHsdQg==",
          "dtype": "f4"
         }
        },
        {
         "marker": {
          "color": "#EF553B",
          "opacity": 1,
          "size": 4
         },
         "mode": "markers",
         "name": "C1",
         "showlegend": false,
         "type": "scatter3d",
         "x": {
          "bdata": "DGsfw5RmVcHPgBrDuAZKw6ujdEKgaaZBohbBwvB4Q8K24pxCYBjhQiCP2cCeQLLCjIJswqXrfsJWUk7CESNwwjqqtMI2jAfC2C20QJlrckL7agrDYCUQwDTM+0EQUMfAH+ULw0qy5kL7MJ3C22aBw9iVz8LU+m1C9DvXwiz6ukKoWoXCO3WJQqfAfMMG4oLDn9uBwlJjrULMeHrCE4Uaw9JV/UE58aTCA26AwxlOCMPwuvTACXoBw/D598IQBVjCcDlJw4l3LMK61OFBT53owjkPD8NUUBBDMr3/QiXofsNG9lzDJmeMwspS2MIbRXZCiJGewMqPjEIyD8fBc/mRwlOCDsNaj4JCBlpFQgvhD8Nlj3HDfue+wpwSHsIoUonBVoJmQlrS/0G+r5dBvXUOw9L28cH3zgdC4rapQlAX9UA8SyBDRK4WwcA6PsEoZDPB0WMsw/LEtULJ2IzCfj4Qw9zFdMH9RMzCkGz7QjpAk8IslfvCGicBw/VoKMPuLlrCHPZtwmtyGUIhHxLD0zk/w/yfocI9d3rCAN2mvwAV0r7cyi3DDAKPw1xUqkJq6pdBImZeQiPCa8Jc3mbD8qshQsd7FUMrpQfCen/+wuJylkKA/AXDLB4QwkyI2UKgsYJCAGS/wLFoJ0Kk3AvDTuFww4yVXUEb+0FC5WANQ4WugcPdmCVCfCBnw+HSIsNczKXChSwPw1aeiMJK5mvC4c9VQgkGysJzFWjD1kMVw5jSV8JeFUjCmoIzw8gYrkGT81lCXyrYwgAS40B8P8JCc7oHwzF5U8PjUF3C+vETw5PfCkLwEaJCIPMsQExiGMHtWGjC9FhQwxDhQUIEU99CEJn4QYr7YcKOw0XDjMcJw0ucQ8OgxzFB70syw2C+y8Idxw7DR3I5w+ZbR8O65bzCwSwhw9THUcIyBIdCVMGXQiOLAkNVwtjCwEDiQOwbEsKCMFnDSVHmwfMYRsNou0ZC54gJwxxmHcNXRKBCOoVLw1mEBMIDtpnB5GQjwxcBqMGIJrnC/m6GwkDrrcAyVf9B4RMEw8dsncFAdtrCI6sawx2YJsNg26/CrLpbw5FCY0LQW0TCSN6/wJdOfEJO03jCVc0ow01vD8McbejCVaDcwdMYE8N6kJ3CPUKtwRO6P8Nr7h1CWsirwrLQBEN4Wo1CvPOOQVUQDsOXsQtCnqkzwuOWFsMWp7/C4Gs/wReiasPjZLdCYC1BQXRXlkJACr3AmsT0wowQL8MB1zFCUwcIw9m+SELyVdnCkDfJwbEHmMKRDMvCkCL0wI7yxsGccj/CDtASw0CvVMNATY7AYjC8QogqQMI3CV1Cra/vwj2eg8Iq49pB7ssvw1JkOUJyV9XCq+hBw3be4EKeEvHCXaWmQqA4kEHp/x9CMES3wEriosK469ZCx+JrQjddKMMt5arCQvcawnuhEMJw1zXCEJAIwX6Iw8LGuYDD8l7HwoCeA8NPFTdC4CA3wyflQEIqF7VBSrBywyWmVULR+6jCYMocwN7siMKFDkbCpJc1wvoL48L8IP9B+pyLwRjBscLAaRs/ivDwwm1OPkKibxTD56G+wW4EuMLafsZCJJHCwuoZ00FZSn/DnGjEQvmZ8MLSuWfDz85Hw2FnIcOSJZdBLY28QgTlK8GWhkXDNiCSQVsOYMNujhbCEmgMwlAumEJwRqhC+j0fwyAN78KAOUFBnH31wrQ1KcNkEwDDAmHBwoJUlEFMAUvCh11Yw+IUDUPYYvXBbwNgwvS/v8LcfgXDcj2owh6Q9UH2Z5bBalF2wrE/EcPgKOtA3NL5wpnYBsPVtbHCOdaHwTSIikKk5oZCC0r0wSKiLsLKCYHCoTMwwxTlm8GdxzpC/3SQw/jeCMI=",
          "dtype": "f4"
         },
         "y": {
          "bdata": "Ho2tQqt8j0L77T5DHoj3QgfHakMiQrpCypcHQ1MdUkL90xZDuTtYQyNz9kJIRShDCpPgQhy1QkMu3d1CjAXFQivBjkI/NcZC3jE2Q23JJ0M77CtDHpXFQoQdGUOMFgtDuJ+zQunryULkQdFCEiROQqpQU0KLchBDW/QGQ1cFWEMy2C9DDJ+kQhjJu0KMl3tCAMhEQj9ltEI9+1hDjGivQm4TQEMXx1xDMvIvQ+RgOkMr1RhDkwECQ9bgxEIkamZCNEgrQ1vegEOlQitDPOC8QrpYDUOoWSZD7GH0Ql8x0EKLDh5DdtKeQuDrX0PriRlDzLxCQ5cDCUOWGexC+I/lQukSLUO0E2dDxikrQpw6B0O5Dy9DSOG8Qk16KEI8cw5DEnS0Qn7QxEL+GjRDR7VDQz1bmkLjBDtDBBh1Q7zCD0JtMO1CgUvIQsqMxkLfJ+VC6+sxQwyV8UI/W4BCBqi4Qv5hLkMiKpdCBGvaQud6hkP9iNRCYZk/QqOnokKdJDZDcszhQubS80LgGP1CvHUsQ1BXdULdRbhCHgDkQtksZUKxe8BCDt5nQrXUpEIIiN9CufSWQq1lzkK1zKtCpqK8QmZH/kKjsYJDaNZVQ5jPBkOAJZBCgH9xQpbPc0O/SR9D/DAnQ5kXZEMHVwNDEynfQvEY2EJ2lndDenX3Qt4pukJ4Ke5Cus6BQgR2CEPcS15C0atrQx7Ko0JmLt9Coh0ZQ8huOUKCX+NCNLzzQjXWmELKB8FCbNmIQk4/6kKgmORCNDeCQkmqeULPEUxD6EWFQ5CQRUP7fs1CGhQYQyd4vEImTx1DZPmIQ+0pH0PnsYtCBGcLQ+j53ELzkBZDnI6XQlRAKUOIZ21Cc6eWQiJXEENObLJCSkTxQlY/DkOrP99CTYnhQlN9SkIpHVpDYM9BQ1UR5UIwIgVDlrJBQopwq0IR6UVDl1SVQgo8DEN0vBVDj3VjQhIvZUIPFBtDvoxvQ+hGcUNu2ZdCkGeNQhAelkKepiBDVHKtQrBGPUI02zxDQMONQl1A5UJYRv9CjMsNQ6naMkOwrGVClfslQ47KD0NkxsJCDG3bQgHcFENaelVDeE2vQnufR0PUpFlCPJ4fQ7JZhULWBIhC5Q8iQzbREEO8b/1CU5iNQig870JQFF1DMzA0Q5jNSkN6XLpC92TUQhbZ70Kh13xC1MVUQmT8NEL6J4lC7Op0Qpt/MkJqBaxCHDBEQ2Bu/kJmKtBCYu/BQqKWRUMu6tVCrBH1QhhE20I78jVDJtOWQj0p9kIkfC5CxX1cQpM+l0KlUrRCkza3Qte2wULc7MhCAHeGQj+OC0Prvr5CrDVUQjwveUIslrtCjzycQsqdqEIo8k9CMvALQ0t7OkOyC6dCeJTAQkzHmELz4hRDwoG4QtRiJELA5/BCNK1HQ2HLLUN6QQRD4Dy4QqrnHkKwswpCL9rjQvicCkKxoN9CWv8MQ0x0S0PlQUFDs9AJQ5oW10I9f3FD3uQAQ2wpNEMUV3FCIcEYQ17flUL+N/FCynvsQvZo9UJ09rxCti8JQyHZD0N0LM1CM4gNQy/OPEOMUStCcbAyQw/nf0MOYhdDx/EtQ4lnBENkIK1CaKAnQ1ImwUIgpqtCZNC0QkJI80LKmj1DhfKoQkwS7UJDIcFCovm9QuKzoEJJOi1DcO5JQgImJUMHd8RCHO9xQpwHA0P6gq5CWdOBQhzkzUJKxMRCeV5OQj1hcEObl29CaDwCQ4YE30IgnM5C45uTQtYmNEKJJiZDgZJLQ0C3K0MoGW5D5+2FQxcJGkP1ujBDrt20QqBEZ0Jc6j5Chp/7Qp8BSkOwGV1Dt5L2QoRwmEI9TKhCFgGuQrdHHkM2ZTVD9YnpQi7rS0M=",
          "dtype": "f4"
         },
         "z": {
          "bdata": "kP4KQ/qrEkNiVXFDEnWHQwtbTkOPDwBDftsQQ8h1mUJ0OIhDw9IpQzskAENK4EJDUhpxQzVRS0PjM/5CzlTHQlofHENzGB5DbvVxQ9tGSUOyrlJDZuoJQy73FENa0jND+6Y8Q5ZbMEOIezRDQDoMQ8zm4UL/dRJDR4sbQ792YEOeexBDJAnAQinxHEPYqf5CIoLAQhn4BUPIv1xD2qcDQ5bEh0NdkVpDcEc0Q64XY0O8O5ND8NBzQ8yygUMTKgVD9pJtQ4GFRkMqrRpDkFUuQxCBL0NDhDxDJfg6QzSuWEOKESFDONyzQneVeENlKapDx9+JQ6WI5ELgJelCfF0vQx2vNkPW1itD9iu2Qu9iakMdeytDqWX6QtSYlEL/mThDaA0xQwdTvkJ90Y5D2qpKQ2SEDUPYP3BDIO1NQyCTk0I5t0BDaM8BQyNzXkNQCN9C7Pl1QydYJUNA8I1Cb3lkQ1R/gUNkJg9DDrgnQ0/nTUPdPBxDjJe4QjL/z0JTEIlDV/LwQkBpV0NK4YRDoGFiQ+HwrkLtrcJC3tCKQz7C20Kf0CVDZ54EQ7qPCUPEhXpDl7cnQ0YlRUM8MrpCksTwQiQ1gkNkKHxDnOosQ+lMREP91aJCtLYXQ0XLQkNb3hFDdsQzQ8TkeUOzQQpDDNz/Qh2kR0PjHTxDhuo1Q+PtOUNHIVtDxqnWQl+8LENQKcpC02IxQ27P9EIwVS1D2chsQ3wx7EIX4jxDOsinQ3NOLEPVi71CDeeoQgC290JS2pRDuzj8QkLTAkNRoBpDU7ZcQ7+gZEMM+cFCSVJnQ5TV0EKPlZ5DeRlvQ2zjjkOwZTNDrFtoQxdqAkPALJtDeiPRQtD3TEN2frVCIJzvQiKUjkPQNtNCyngXQ355pkOFOFFDFhQTQ9gmvkLLJXhDdL6TQ1Q2y0K5/zRDGSDMQl0ySEM2QaFDFlbsQts2BUMtewBDs8nNQuBXC0OTshVDrT6FQwsahUNelQRDHig4Q/qprUKezhFD6GkaQ5KT10JaQpdDKgH2QoK5AkPgX5JD3U86QwKuNkMabJpCFPyNQ6oehEMZtiFDlkBgQ0wuCUPa02lDMNxIQ583hEMMPtJCPK1ZQ0+p9kI2GSZDqy5NQ2ylb0OWHFVDGaPTQvyYoEP/fjNDNP2LQ/RjRkPdVEJD4JgOQ+CPG0NNwphCSK+3QrJuzULSZBxDwQ/0QpbF4EISBkBDcaOlQ8CImkMT4vhCimYmQzVTXkMmSTBD9GD6QjJJ7kIJW1BD3H8OQ+ZmAEMky5lCfEnWQunvNUMRqa5CPLHxQqJpB0NoM4RDvggDQy0sFENGzQVDnkC4Qro900LAlBpDRozlQgpaNUMmeoVCKlL7QmTIXEPi5tJCR5MAQ6fANENmHHlDeJ0IQ4VlakJzFhxDTjxfQ/ryDkPMbAZDjKgCQ2illkLr91FC1gsaQ4J+i0JQvQtDHw0bQydHfUMMuaFDGSN+Q7g5OEM04YtDNeo/Q50NjUN0cq5CJNudQ74YJ0OwZS5DclHvQgKmUEOGOMlCCB4EQ9x5K0ODsPNCth8lQ1IcjkOPcqRC1Eo3Q3xpgkPnoKJDRKKgQ5KWXkNlT0BDVAw1Q3SjH0NQ0ylDVkn5Qr6p70KU/E1DFooIQ5OqPEOuDfdCMm3dQhEtGEMTrC9Dw1GwQvQSE0O+eFZD/6sKQ8bYEkPG80tDcIMEQ4yu+EIM3hJDgr7xQmdTb0OYFhVDKpcyQ+4ifUPYrShDji3YQo5lyUJSVK5DltklQzqgRkMZ1YxDRYWBQ0KXBUP+g5ZDXD3KQmJrGEMxem1CFi73Qq+BlkOLl2dDwsHjQlRbREMOqiVDh+UpQ5A8uEPqk4NDftHMQiHiJEM=",
          "dtype": "f4"
         }
        },
        {
         "marker": {
          "color": "#EF553B",
          "line": {
           "color": "black",
           "width": 0.5
          },
          "size": 6,
          "symbol": "diamond"
         },
         "mode": "markers+text",
         "name": "Cluster 1",
         "text": [
          "C1"
         ],
         "textposition": "top center",
         "type": "scatter3d",
         "x": {
          "bdata": "ivRowg==",
          "dtype": "f4"
         },
         "y": {
          "bdata": "d4H+Qg==",
          "dtype": "f4"
         },
         "z": {
          "bdata": "hjMvQw==",
          "dtype": "f4"
         }
        },
        {
         "marker": {
          "color": "#00CC96",
          "opacity": 1,
          "size": 4
         },
         "mode": "markers",
         "name": "C2",
         "showlegend": false,
         "type": "scatter3d",
         "x": {
          "bdata": "+1DGwfGlWMMsuqfCWIlVw/p3ocLst0rDfkJ/wiw9MUIFv6nB/lcKwyaCgMISkgLCFE7cQftVPMPtyJLB4arAQh4VjkEApT5AVtKlQnmFkMJCCq7CHsxswgwgiUFgDKRC53OywWXOJcNCZJHCSMSrwrYeRMIZEDPCIP2IQIh+gsMB6Q7D3I9Zw4G2LMMAk+7A0NkBw4F8MMKC0/XC4WfMwlBriMNLDxxCfR9nQmz+jkLE41TCp14KwwAMj8JGdfDCLWDYwYJkoMIvLx7DlIDLQgxtG8GVPljC/OFQw7pwh0LCDojDaPaews7CikG0HqbCRYcww8gJwMIhUdhCqu3Own9YJUKQ003D0o1PwvRt30JMJDvDWdJ1QjgsQsKWhpdBcKMAwxY6ScI7hiHDxj8Awu7gysL1iT1CsgV1w4LQQMO2I/tBBkm6wkRKo8G4DhfCkdDswha1B8JuddfBMI8hwOTBZcEZQPFCGNV4wi59IMMMRErCZrXqwU8nCMOuR7XC2Gn2QNzQhcHfn1vDnByLQiTn8ULNjiJCSgORQSYMq8KPmETDUJBVwWb0H8EUpBjDzZcBwy9QAkLDyHtC8s3pQUEDQcIdx5lCoCYLQltjAEJHJZ/CQrtCQszFHkLupozCy8otwlTiC8P20I7Cyh7hwksd28JwjEZBkNcEwxRcCcOOOdDBQCnwwmT+H0KiWeLCkrkqwy12yMGYmaXBYzuAQljQLUFk2eTCacxkwxy378I0MjvC4rQvwpDXBcK2OeTCbk4QQtS4ikJIBoBBLmcowgoJzcI2PzTDXhyMwnTRxMLgFdfBkBXNQtZujsJ224NB0egtwve7EcOkhgzDWrMdw2wzNMMkBZbCBaUdwphx8cFcyhDDDlv7wpWfhsI4QUnDpP2AQjaticKLPHnCzaiHQgfSJMNAA/dAnSB9QviC1sCQFtfBLapFw6vmP0IUK1DDNDUCwoQugsL0p+bCxXoXw0iwHsMgO2HC4uroQtpB/0J3KlrCW108wrv0HcLppovBe/sHQqMeh8JrL4fC5GAoQQBDML80n+nC1OX1wj6nRcNQxhXCjIUVwohZDEGxECfDNWNxQn49rcIQoFlAcHWPQdm0ZsIPnj7DrqHUwggtE8K42wNCLnyOwgcAdMI/pWlC5NcZw9X+5cImAx/D/S4nwsr7q8LsZJnCrMRtQUTd18LUNtvCvOemQtCslUALZZfCF8uQwsLEgkLiTTnDn3rawjHjEsJwf2BB2A4awbGBPMO+BznCsSPFQqx3osHM6qXBRO9Zw8jOL8MgpmDDE52VwnjO0MLXpmHDy+qnwghEGsMB4gRCatiHQegveEHmo+lB3Dgpw4wgy8LcelfDawAgQj7OlcEuy7ZB7I3UwoqZ3MKI+THCjRMhwxidZsNzHlBCMBdBwX/ShEJeLNPC/Ltywm5omEEBFmjDZ0aXwQ+HE0IY2j7CGEWwwF+vI8KATpE/YqvQQYpDhMHHHZXBf8kPw0/IA8M2ICTCiNpmQlJodMKEWK5CkQ9+wwZU88IUNe5CJOWkwn8CgMJjC0LBWZ93w60/PMLpEM7Cu+gCQ8BpusLur6RCD9wow4Ac+D/oVQrDCGcmw49PM0NoLghCIPW2QtSEMcOUE6HCUMM0wjzaP8PcFvtC+/YwQhXhEMNjCBrDAaOeQtiY10H4OqjAGSIew10qEcHFwL5Cfkp9wWExPsMQVolA438iw2Ue1ULJMYPCLtsgw9Jbl8JkhxvDGvDmQt3aMMJtbwbDbmsFw47AjkHYqU9BDAM+wtnCu8IG71hCpwfcwrxeh0JqO4vCiAqbQRj4P8IW0fpCXxPNQljdBsPczpHCmjBbwlJPz0FfHMJCiiyoQtxCOsM=",
          "dtype": "f4"
         },
         "y": {
          "bdata": "CEnUQswoF0IgsHDBEfZmwlj6TMEk/aZB3An0wfgsjEIVdWZCgBX+QdoJQEIcbXlCYM/QwVk9FUIt9IFCwG7dvz+vV8LadaFByCckQghmwEAkyZJCL6QcwsgVOUGjehzCCCgYQio0tcK4PlvBXDB/QUBsTr8AJxq/vR1fQnAlpsG64J9CdbkOwuTADULtGeZBAA9cQIi1skEY9fxBPB1UQpB3T0KMnoJC4jcYwtR3zcGNbBTCMVlsQgC0w0GKXsrCytJOQkB+e0EE5BZCZwCyQhYCTEKwApBAuK8WwjtIAsJcqOBBmz0BwqLgRkL9GDxCgKzbvjBYsUFgGnrBfGDNwVo16EEAUBQ95qoAQp9VUkJmihdCQLWJQeDFK8CwfYxBVzdOQnrLP8L3cLhCj34DwgD75D/gCurAwHWQwoFOMcJQ8/vAsOISQaXxHcLK5yxCUIUiwdTjU8LwU1NBINStQB97YcIc9rHBdjsswtW7X0IF6tJBjFVvwiC5YkIe9QRDpf10QjDOP8Ev3gFCoIIAwo4OuEJODxZC4PvmQAi+J0FcbPpBnOK6wQBj8b8eU4vCLF0fws5JNELYmBlC+Wr0QayAx0GEie/B2+YSQmz200FsFYVB2N30weAHGEJgxCRB6hkqwricVsHlsVpCNBnzwX6ri8J+iypCdrG+wSBbwkFCIJzBGoylQqAE9EF7kkLCwa2fQhLtk8LwinVByDeIQkAbrsD4NDNBBq1tQgUkNUL8tdtCPvbRwaBJ18HA+g6/kKPaQNBMl0IEjpDCVjP2wU2IGMJHBx1CkHWqQQAwMMFgA0lB5UOPQoDaUj8U7NPBrm7OwRgA1cH2+ppCwJgFvx7GicGAj3lAlG+RQuH5AsGCCYdC3tfeQkL7GkLm8YxB0GeewUItBcL4aWlC8JHlQazh3UH+WITBtMMZQnfGfcJoXKjBOiGjwsarpkKUEWxC3+6YQtAGy0KI5iVB7ACrwThFD0Gm1jjCCJzAwXU5RsIwPCRBXyoEwqTz+kH6+ZfBCm9QQhpG68Cg3cXAePGaQWo8hULqTpfCOFHCwjwZWkH2vohCZNF7weiOOkKgcn5CH9g2wuKursK3AzpCGjR7wrhbC0F3zQ9C6sGlQcFAIEL4GX9CoPIOQvV2p0HYXeRA0eZtwmCeEsLaG8bBnMuhQbBmzcFUkpnBQpSRQmCd1cGiMcvB8JdCQKj9f0JRKmBCU4xAQvFpDsLYIk5B/SU9QjY/TkIYEazBqkGKQpReh0IgSDZBQCeGwWYVYkKQ4jdBAGG7v662qcHy6BRC6IWUwZXBYMJ43MJAFJtEQmCUs79wmOnAJC+pwthnrUHbfFdCOpYRwvD6UsHWW6vBK61fQuLMVMIMKF7B17RBwtHPBsKOvxlCdESCwUxMDcJA98RCW+EWwrBuXEF9uxnCsnt/QgB65j/AdH/BGw6OQkW/G8I04eBBB3sKwhj+DEFER8xBRKGVQQDQHb3AtFVCjLZUQkpJoMIEqZfBuLGbQUAoWUJfmTVCVKIqQty888HIzLtAqLXoQIALpr9otlbBYOjwQIBXDcAEzOrBkARbQewhz0EYQKtCa5QhwlA/tEEMmS7CHAAhwreGrUJMXAVCfNOyQhRMgEL5tbVBxmOKQpTPA0JOrKXBhFyDQsDgGb8k+WpC1LhFQkDQRUBakMVCQMKMP2AR4UEwuXBCIJw/QF6D8cFSVgBCWdQLwsP0pcLYEexAc4xIwujv+0CIvnNBAIvQQqLCxcKYFrhBSPpPwSVoVELbwZNC1XUnwniPx0EgWRVAVrPOwWjLvEJ/FRVCqJNPwcAEN8KUePJB3WlUwjhMcMJoFBbC/AGUQUDU1T+Acvy/RC0gQkg+qEE=",
          "dtype": "f4"
         },
         "z": {
          "bdata": "ddepQ6ItVkNqPDxDpMhEQyN2v0ISnzpD6jdAQ3pGPENYG3RDqRXGQjnwVkMZMHxDxK8OQx+KmUMXyqFDIRoVQ+y6UkMjl4VDZmIlQ14bSEOUor9DrvCWQyYbU0KP0I9DTrTpQjgdjEP274RC0yqwQiNtx0OGLqBC54AeQz6tIEOiTWhDJJxeQ2z61ELSW+NCfd2MQ7/mnEL6xKVD9HNlQ/TqZUOSYXVDOV9ZQ2Rr+0LEWpVDSFgjQ3EOYkOdh51D/DwkQ1V3JUOY+S1Dm2dvQz+i/UKooF9DaCdoQ17dEkOZ5glDCIziQvuut0MDyRFDwGIMQ4y9I0PEB2JDLEXXQvo3jkOaGXRDrjb8QhLPc0NnefpCZDe0QlaG7ULiiYtCYKFiQ8DsCEMk0ZtDJE1KQ9YDpULMn5pD1KpjQ4wlRUNuSWdDbGyLQ8CErkNeCBhD6JjAQlXjJEM3nkpD88rWQiWBh0MsRThDC0NjQ6WOM0M/V59D6Lp8QzHlhUOUhcJDfuMcQ9/JbEPS/nZDeU2DQ4orj0MXDB5DwIeDQ2pqCkMw2GhD9IMYQ4+XOkMw4FFDeqQCQ3lWjkNEjm5DGJIZQ3qJCkN8CCdD1tqmQmKDw0IBh5JCdU//QmizIUMGo6dCFs+WQ9AGw0K8Il9DdQxMQ/3bPEOoW5BDdiWcQ5HD6kLldMRD/oOiQ04Ms0J+mUFDQomWQ+B4gEOhPahDpXkrQ2B4mEK6TYhCenExQ+l/J0P0c5VDhqgxQ+EKokLUdrFCMzgsQ5Q/QUPNmK1Drn0sQ3QlUEMCTaZDB/ojQx4xOEOVkQZDmo9IQ0R6IUMSyh5D+E2SQ1QSE0OURGlDv6cNQzIR/0IqURhDnh56QxxRT0L6N31Dyj6ZQ9HLE0NzXwhDQOMkQ3rH20J3/ZRDcO3JQmL/CkPwZMFDFskcQ3Tnt0PkSwxD0rxOQ0ONtUN82JlDwB1kQwaUukNawc1C0VIUQ+Q1GUNzLKBD/ojlQm41TkO7kgJDKMqMQ1uCE0MspaxDiuEFQ1Kq4kKavjlD7+NGQzXWRUOSDn5DroSPQ+sZQ0MFSkJDoLpFQwxdh0MuZbNDZGo/Q6oDkUPwiS9DFJdMQ8Zq7EKY7W1DvSdWQ54FGUNGXIFDdjUKQzDQkkKg+Y5DP8mLQ6P7A0MFaJND1faKQoaR60I9HT1DJ8l0Q9H8D0NA1mtDSro1Qx7cxkMUIEFDW1H/QsheokOXStpCcHG5Q/tMikOc2tVCtCahQ1LrdUON6GdDNNfkQuZzYUNLTTtCOQybQ1KXcEOd31lD8NeBQ0afd0OKiCtDq6UBQ4pnR0P4pE5D/LibQ4QwLUMvZiJDXijVQuEtJ0N6cUtDhcZOQ+FeOENxZCpDTIJcQ9zfKEMgNBpDmsEaQ5RkIkOkmqdDyjt3Q1M5bEMfTT9DIMksQ7qZgEMC6R5DMjGxQ5sdmEPvt+VChf6MQyicTENOcphCiIdxQpvCBEPFKmND0S9AQ5lul0Ob29tCsh8VQxp/pEP/r1hDxURUQ65iykI+/nlDwEFVQ872tkKgC+BCIIpaQ0UoO0OiwcBCbHMkQ+pN5kInYo5DVumcQzDFFUPxXWJD8VtvQ5oofkOtsGpDjoR5QzLno0MU/uxCmS1BQwvxOkPivB1D22aaQ89EHkMdTThDjlHmQue3YELELoZDMeQCQxY/i0JJFx9Dhrd9QmV2DkP/OB5DIdcIQ82rhUM51VND3UgXQx9rVkPOyMtCeFaOQ8dCrEN4kL5DFmI6Q3X4P0Ms4JJDBtmTQ5IskkKq8ZxCpWVhQ2gknEO4oy9DMNUWQ58pAkOLqSBDjcyFQ8T9PENFHQRDCs0aQ5M5E0O60QNDCNpHQ9KnG0M=",
          "dtype": "f4"
         }
        },
        {
         "marker": {
          "color": "#00CC96",
          "line": {
           "color": "black",
           "width": 0.5
          },
          "size": 6,
          "symbol": "diamond"
         },
         "mode": "markers+text",
         "name": "Cluster 2",
         "text": [
          "C2"
         ],
         "textposition": "top center",
         "type": "scatter3d",
         "x": {
          "bdata": "YEFBwg==",
          "dtype": "f4"
         },
         "y": {
          "bdata": "TfnWQA==",
          "dtype": "f4"
         },
         "z": {
          "bdata": "y4pGQw==",
          "dtype": "f4"
         }
        },
        {
         "marker": {
          "color": "#AB63FA",
          "opacity": 1,
          "size": 4
         },
         "mode": "markers",
         "name": "C3",
         "showlegend": false,
         "type": "scatter3d",
         "x": {
          "bdata": "yHquQfHT1MIj9gHBODtCwpSoS8M2mXJC3VEUwhCRMsGQKQNDqNIeQ6m77cIwMjrDcpwmwv8gKEIVbJZCkDbBQZurK0OonF3Czgo7wsAp60I/oIVCmeAxQtvCwcJEcSVDqMUKQgUmBkLKKkpCP8UNQ0YLGMPqwirDAIuEviD8IkK4aRRDIAUzwjaLCkJmopRCnmXIwjgK8sKpGazBhJgPQtCv1kEkoAlCOh6OQs8b9sKoDA/BLoUXQk/wPsJEuirCWe7kQqSBb0INhQ1CAxMMw8Aq7b8rAArC/GAVQ57TPULWahlCTRTKwYlXaMIiH/LBFEDKQJAzpcFc1g7DEHKqwv+pjMFvkB5DzPuOQiwQjUEokBdBTikHQ4ZG2EIywarC1PNpQmaLdUKU4p3CenocQz8z8MJ1gDlDiTS8wiC5lUL1c55C+DLKQeQdB0M+oXDBuMJNwMsGAkPAeC5AgDedwUQKhcEMGNbCUMVRQUyxLkKpC8ZCgD1jwfuJe8IUYavCAPvvQdIJmsLZxSDCnwyvQilS2cLkSFJCwEqPQdjAfEIG2izBsJgmQiBd28GAditCAApwPghnHUGA3Ne/ANhnPQoclcKefV5C9Aj2wEduBcKIfRPDnagWQ77kv8GpRyzDAieiQkcLHkIAVBfB7jYeQ7fKYcIAp8q/5B88QhaFJ8EIs2lCxBhGQv5NlkH8qhjCq27twqCLhEKaN7LB7j8mQ6YXCkO2y5BCumPQwdRXRcNm7sPCEACVQpLhfsLHUAJDfVyywr7nbkIPNH1CgDTHv0v40cJKsRnDz7Opwk2josIA09U+YBw5wVYNcEJ7ievB1GaRQZxuf8LEYw1CcPpHQXKRf8LgA0tA7loBw3GxxELXE7pCsUkfw7JBlUEoXd1CpAeDQmjC5EDUAInBws0LQ+T+J8JAgYG/cDhqQgX3xEK4hnrCxhIowm49K8LwkUfCyJOWQRTze8J/JRNCUuSswk0hHEN8cdhBx1pJw7BVW0BMhvhCpt2RQQSUQ8IFanXCDq9HQ9klCEIgd+rBcF41QVQO8kGqSZlB/hA2wlRI+0D+dutCbAwdQan4IUJANcO/XMWqwq447kEJPWtCjA62QT5Pw8GFeQFDoJDvQSW52cJoH7zAQIO0voUNrUJdXFPBbjGvQWiK6kG61KXC1IXKQUYLnUKEGErDxsqSwtK6rkJlG0nCEJnPQiI6Z8HKLxTB7bFHwXTcksIe1i1DYYioQqKDvEI+QrBB8k2UwijULcI26onBiOJQQSKnE0O436DB4A4Ywqx/vkI+p7BCOAdaQm9bo8FqthhDlIOVwhoNO8JmaXFCpGPsQRcOi8I4euDAMxotwdMl2MLA5s6+QCfTPkAMQ8IQkK5ABDlMw6ygl0HOKRNCYzAUwsVYTUMaihnCGu0JwxiN+UGOi7VCYYn0QkbOk8EhZkHCzWxMQztdVcLevxvCpDN+wtxqnsLgWHnA9ng6Qs5CbsIDPBzDgJgZQ/I6BELJonHCVCB5QTTAOEINldNCwJ6fwcBfb0CSs/FBVtjgQrp1jsKWGR9CvhHMwbgOG8FiHcbB5mM1wRDIPUD4sRXCRAwuQcwQCsL07vHBvMeiQQRnXUKxz9jC2P8yQnfOK8KAHxpDlBDlQZLDxEHgKILCaLv6QJTwocFU6hZDUlFjw7PygkIqCYHCFlSAwoAQYsI2IHxCAAhEQCDsK0KYJiVDBk3WQrY9OEKIe7lBHEh+wrZxu0Fsf8jC2hBZQjjJ/UGGoQDDgiGNQjDaicEP2xdCAA7aPoBCyUHUkHhBfkcyQlhRcULnd0jCLi8PQ1D+mEBCcSHCGvmUwuA3TEKOdNHB/SgTw6B/XEIcTJfC1JN8QqrussI=",
          "dtype": "f4"
         },
         "y": {
          "bdata": "liZJw/KBAMMviUbDZQIXw7gzYMMiO5fDojmPw34qh8JAyebCN2XqwmicJ8NOJHrDC7D7wsCum8MC4TXDuy2jwtz0dMMQ7QHDjTlgw/oHi8ML5BjDPJbZwl5cHsPEmlbD1azRwm+pD8N4aF/CBXtYw4rEqcP+hy/DsXWGwwRWpMK8K2fD3h4hw2c/XcNFfNbC4/9vw7KunMOKq0rDmDagwhihT8PaaVLDph8rwwEVcsNkcR7CytOlw9JrJMNc72bDLYTdwuujAMM2S67DlqVmw2TLV8P0GhPDSI0vw3NbnMKE1aLCwKqnw/FoOsO+7mDDHt1Xw8EKRMPANnnDZxY8w6IEH8O/cRLDjkbHwsbo08Ldv47CN/YlwxZjtMI0NZDDXz6Uw01VLsN8FKzCVNM/wyNLJ8MrPC3Db+Nuw8TJmsMa2TfD0D03w3esSsOElUPDyPwIwr4dY8PndhPDfMOSwlM5rsMwNVHD/VebwlJFjcPclT7Dz+21wm2WCcMKHOjCDcQWw18F48JT9vbCmR2KwzXX9cKwWGHDEXB3wkCVV8Mp7vnCku+ewxx0dsMtp6TCGWc4w3Qu4MIh0sHC7fOfwujEOsN8ssPCuunmwslpgsK15x7D32IKwwxf5cIaE4HDYuk2wzhnAsPdIQ3DkJ9NwzgsgsPoDBjDPV/0wsA0JcPj3DLDuTDUwkRBHcP/pdfChVENw5tmEMOuw8fChygYwwoKHcNYGJHClYtkw0E4ZcNs/UnD+LwswzBQccNesMHCmxk0w8jlJMOaxczCnN8Ew2PIQsNcB2PDL1QRw954H8MoPtXCtCk7w0gdmsOADebCLM4swt/WMsP17mvDV0tiwyGdw8LH8ArDxpyfw9QkosLSzI/D3typw3D9hcLCMxHD3bPPwugFm8MYbFjCuVSywhCNFcOOkLrD0c2Ow4xXOcPu0Y/DWXk0wwr6L8NulDjDA82+wo2x+sLYUlvDcXUzwzKgU8PAIcTCqeRAw9oP4sKak4LD3sa0woLiz8JKWH3D4z8xw7fBAcPb7enCaE2jwmTU4cJyaAPDnMkHw5UWTMMUcaDDTA4Aw2xvz8KCa6DCLv6zw3CFjMO4qf/CA86Lw7XhQ8P8Qn3D6nhbw9I4b8OHX1rDL2sOw606H8Opr/fCWEuWwwy7icPO5eTCUituwuxOg8N0CkPDNIIzwwyMKcNHyV3DXq5bw7xIDsNy8nLD4HWVw6pw6cLS/CHD9Q5xw0YAKcMohZ7DK+Fyw0cXRMN+MaHDUxYfw3IYGsMsuorCxL6NwpMALMPWoIjDYu5ww5wTUcM48yXD+BGiwwwlwsLHT0XDNpmHw5C1TsMS0dnCIIMnw/wXM8PwLkjDN2IVwxGvi8JPjJ3CRK2Cw5GqhcOKvNTCq54qw5q7W8NmfgrD0vGUw+n2F8PgtLPCbv1owzSMBcPLXK7ConFSw8BIq8PAtJjCqnHcwganh8O9ZwrDZRkgw7k6/sIRAFPDcPwnw8iUJsPD5hTDverewu6U3sKJRB7DyZEVw94NocI72NfCaheKwhWmGsNHnmXDKMIKw1Z6ksO3pg7CdOFFw32DecP1mlrCjloPw9oGNMNw/g3DdtU4w5s8LMN4kTvDst4Dw7Syb8OGiSPDdCYUw4G2v8K0rgDDt+wjw8oVN8JGCwTDRqCEw/uYY8PcP3rDMPYbwz47T8NK2T7Df+Kjwhvs08LSrj/DLBN3w05xWsP7K9PCyR2OwzXWPMK6FDPDpIsvwxvtR8OzJJzD1YEhw6TdE8MNiH7DkRIMw+jSM8MSbyrC9NQNwyChmcKKQ6PCvttLw2XKv8Ior4jDbJewwlpXhcNnWpbDVe5Hw+LaCMM99+LCbo+rwtxxCsM=",
          "dtype": "f4"
         },
         "z": {
          "bdata": "uxguQoqGU8LXDxPDwPKdQUZLysEIjhTDKpcNwxrml8Eo5AtCV9KSwejkPEDJzNjB6v6FwuARxD8VUAPCwGbUwY2dccJel9fBMO5dQXIC08L+kwPD0JQTQkLa68IRdIjCqAiGQc3ZDEI294BBTD8zwzBB3sCIceJBK+1vQva56sIAQ+jBXCtdwhijSEHkuEXCZeZQQnUKkMLu0ApBV4Gowoaix8JPx5FC2xNBw+Sg/cK+jgfBstuMwioZ5cFAwkDDKHjVwSA3OcL4kgDDKKZnwb8QKcPs0fbBwQ6uQo00O8KKyRXBLpwjw1zKpsKmx0DC1BH6whID2cKWQijDtnP6wqdEvMHARq2+Ce2DwdnZ1MG0rAXCAKBHwYI/nMJA+IDC6MTfwTbc+8KgCPJAm3cmw1mLKMIfVAHD5rGqwlah3UIWTJFCjImHwswsNMOIe73CCMuSQHYNs0LI//XBjwabwhicF0EMFmDCGO2OwspYK8IgehLAXp7VwibG3sIsNJHCqjTiwpiuy8KABPPApAqWwZ3CL8KqE0PDeKqPQfDWyEDgaTbCzhXHQojfP8JafANCYnD3wsijocHIF8hB1MBaQUrT+8FgYu7C4iutwpaAJ0GYTjLAG+mBwiw3ikGW3tnCbGAmwkoG/cEHd4DC9JEnQoL+SMOMDcnCnDC4wiBDRkHY5gXD+DRpQd+U88F+mnrCEFEpQfAm9ME+TufCvNk4QuAqX8Dw64tB0NlPwgAxvMCgjm7CawOhwtoQ6MJ6dOHCEiKcQTjQXkJZi9/CxsLswSazBsMSFL7CADv1wECdo8EYt6LCiGA5wVq8qsIa6MjCCPciQTrk3MLl1DlCtEgVw/yRmMIECa7CJFbewaC/fcFYmBdB5hLrwUDNc0AuorHCGAn1wUo/yEKITd1Adec8Qo/vO8J8G+xBEAN4QfgkUkHAAnlAOsDLwqCfWUBpX4/BsAVzwlyJB8L4twfAKcbswuCZz8LRf8bCwO89QNSVhEGAW7VCgJmqP3jNs8HYF/XCMIKUQoAzxD+gB7pBsqmBwqaAysDQS37CIMKfQbRLDMM/3WDBMFUJwZoGGUHqZfTBNwBUQr4CrsKCWg9CZioAQipwAEJmiPnCoLFQv88yCsNYSvDC65SawmSoeMIK6ErBjnlHwtOQj0IL8BLCA/atwVg3t8J8zZNBFpO0wlxom0H4REjDAfAmwwSuvcK9F5xCpLoIQrj3Q8I+DhTCUtiLQlr4g0I9Rg7DfKbUQQHY3MIsA//B2pZNQi4HmML4y5hA0JEvwb5OLcNQ4hFCQEPcwAkkAsKQ29dB4y8fw7AABEHyrCpCc5JWQq5P7cIgIyC/wPY7wFac7kFAhTI/JgQkwvz5hUHgoty/2GfDQCoXikKW5jTC1PLWwTYShcIyP9rCEMyUQQqG1EE4xvjCPcShQtzPnkH8j1dBoLLKwXqGBMMjXAXCQKubwjvpVMPa0KPCNNSDwYxi58Kc147CoPtmQcwlvMHr6gfDtjoRw2TIukHo4v9BntnkwRII7MGaWEvB5QElQpa5x8KbXHnCgJXrQCWjUEJA5b2/qH/3QSyd0sIgbsfB4v4+wcDIqEBUqpzBZN0JQlEhYsPEVQ7DTJR7QSVooMG4YJFBNuuEwtQms8CzQpHBwqZ/wcwYTUF5gRbDlsbmQf9IgMJwCOq/CP+Kwn36t8GsKArCYMXiPzMzk8IJgJhC5RZ6wvCWjkJ0ZatBAufTwoREFcIK4dvCnZMUw4nraMN9+JnBdIBvQcAgK0CC2DfCEKgPQWz0y8GoZ+NAdTA0QuARFz8wsV7BRg6VQpxhycHtQ45C0mW1wPS3ucKA1UvC1qBIwlj2SsEAVHa+RHR1QcB09EA=",
          "dtype": "f4"
         }
        },
        {
         "marker": {
          "color": "#AB63FA",
          "line": {
           "color": "black",
           "width": 0.5
          },
          "size": 6,
          "symbol": "diamond"
         },
         "mode": "markers+text",
         "name": "Cluster 3",
         "text": [
          "C3"
         ],
         "textposition": "top center",
         "type": "scatter3d",
         "x": {
          "bdata": "Ak0bwA==",
          "dtype": "f4"
         },
         "y": {
          "bdata": "Ew0zww==",
          "dtype": "f4"
         },
         "z": {
          "bdata": "kuAawg==",
          "dtype": "f4"
         }
        },
        {
         "marker": {
          "color": "#FFA15A",
          "opacity": 1,
          "size": 4
         },
         "mode": "markers",
         "name": "C4",
         "showlegend": false,
         "type": "scatter3d",
         "x": {
          "bdata": "PKjPwpmklcJFmlvDQYPdwkJrEsPWtnzDjC9pwyVdeMMDWUvDxGtkw7JzD8MCmIDC2KLCw6Z+bMPE2CzDZOv6wvt7FMMan2HDLJ5Qw39cP8N7ITvDI7eYw25YOMMmpGvDevVhwy9jg8KGZ7rDLMuSwqPOe8OKDwTC7k8Ow+jeqcIwOAPDEdZ/wk68JsM6ExHDsJ77whiwK8OEGJ7CPy2Vwpeb6MJ6XGDD0rOjwhwmW8O3gyvDMoeuwhjDG8MTrXnCBLYnwz/3a8Pc5SHDTKSEwlRRq8MyjBzDxn4Nwo3BMcPCZKbDC+sgw2oLAcNjBS/DVsCzwgjqvcLWnnXDPf4ewxcSyMIRBMHCfq43wug66cIQ3kLDb3OSw+5jGcO4w4LD+D5Tw+xOT8NKJe/Csi9pw+q09MKgotLC5ZzswvbqAsPwi6/C48AJwzQ9R8MZrPjCrl9dw7kFMMN8wmbDObw/w1S2XsM2UILDDl4vw27MdcPS3/HCpTcdw9a3lsLBaoPC/ysaw+ROMsOFckjCo/YFwzTAgcGAlRDDH1qFw6TR4MI5RpLDBfYGw0RdpMMHTq7CjIpOwnkYPMM5pbHCoOYmw+1wXcMo43TCQLoiw7SOBcP59ULClkUIwxSDMcOgda3C4LBHw8iK88JoEYrCYXU0wybfUcOJX1jDGKcew7KJwcKFF1TDaYoxwyghV8NdGXjCyRJcwq5+OMNaMtzChSUOw7xlvcLsdqjDLso1wzc/A8NeLZfDPSscw+XKiMPNmhbDr2Njw5hNgcMyU5XDzgLhwkPYkMMp+iXDhPIgw1C+vsJf5eHCl0bXwoXYH8NnJoLD9WYTw6aB8MFuQ6fDgSIXw4pdhcJHtSDDiTGmwlAi+cJibGzD0SZTwhDglcKyL3bDQ/r5wkEflsLkYw7D94mFwzrvC8MVjA/D2p22wkw0XsPPJ8/C79xTw57N+cIsY1nDZKs8wmx7WsIxdyPDKb30wql1psISAD3DfgjKwrW4isOgtg7DjAS/w7KK3sLoi5LDVohUw1ZousKiCYjD2NQyw8qlXMNzm07DhG15wm+yW8OwBlHDrlaUwuykWMMITdrCbHM7wzyeo8L5TbXCyBdLw4J2NcOe0DPDqqMZwxdiPsOI8ybD5Ptnw9eLY8MO8TfDBl/bwW6Xn8MUt0HDCDA4wx66OMPr1IzC0v2Mw5rj0cKAysPC0SfKwnCVbMOS/JjDUnm7wsNIGMNmJx7DHUvlwtQnqMPiTEjDvlyBwx1rGcIQwlbDfj9rwysev8MAHivDQTGbw0GZesKZFV/DSqj8wr64mML1JwrD2rbYwkT5EcPgyaDDIgqowgKkK8PHHJ/Dhu2aw675A8MOSBPD+sZBw1RhPcLGEqbDPXkxw01UTMOc1wPC5kJRw09qisMiAKTDWWyHwovsCcO2AYLCGFRow1xHz8KJjhjDRDsxwyQmnsNMKtPCbT1fwzYZnsOlq9fCTbKLwhoHf8I7XTPDrOYCw5CEjcNuQX/CzWRSw//gvMIA5JvCjmZEw8SrzMKDTb3CkfIywxQIBMOJJo3DIsdsw/hI8cI+RCjDmGJYw8w6X8N0m9HCWCqSw8zGB8NmiWLDkr/qwgDxpcKgCITDdkEPw7khG8NVOljCJPFTwx/ZH8Ma03jDgkFvw29ILMNBoiLDhB36wsU748LAVk7DPqA9w3dQQsPOelvCbLBNw5enpsP4tG7CtOn+wkQ7aMLv7l7DXIYsw61UOcOVLjLC+gt+w3uPQ8M+CBvDGcy5wrx348KCmETD2MPhwqIN3MLV2QPDHEihwwNhLMPCcobDG7fqwmK08MIypofCuXZZw+WTF8OYALTCxHcQwyljDMMbDzvDKSJ2wyinCMM=",
          "dtype": "f4"
         },
         "y": {
          "bdata": "wA/oweIE08Fg+WPCUpk+Qplto0JeQhvDGyrRwodWkcGNHKnCZwMmw/j+p8EbInHCANNcP/XBCMEw2ppBiOh4QgjLdcFPYsbCC/aJwgDkEcJoF53B5cWAwqsaM8MOk7nAnecEwoiDn8ITqE/CzkaewnDb3cFUkUPCwHb9wV/ddMJaNgzCAAAVwthtzsF4pjLCCpBowmcyW0GmykfBKAMdwgU2GkKGUQrC5Xw5QvgDesEf3QXD4AphQgrBjMIJx+nBWjTdwQ/KRMOEU+/CGCn7wRcQXsHTS5PCKoVvwufc00I/SrvC+FJnQd5Xs8I5Wi5C1ph+wpk9V0KmgrZCJGnxwnYsVkEQVkJB3gJbwhbUAEJ8OivDJEs9QkwGsMLROT7DqAQjwgjFiUIRlqhCCCsbw067GkKAtEc/2Cx+QdNXdUJAaDnBRgviQuH1x8LgnUPCIxwNw9AQ+MGgVMjCUnUQw9cSWUJkg9zBJoKKwgdAxcIyot3CdJoUQlHMrMFWO4bCxEk4wmD0rcH4gN9AVk4Fwwjk5sF/IqDCUbGJwsg9oUK2wRXC78fiQVK/08LATwlBSq9vwhZj0kKA+XVC7x60woLwBsPk9oDCzFdvQFqQTcIhNFzCdCn0wdDGr0GsMrHCNTv3wQFTgEL+jF7CYE+jQJz+I8LDr4xBBz0Gww1IpcLkhK3C6ZL3wi4xR0LutknCuPtqwduq5MLi1YXCzflmwrMzQkLxy9FBm5jkwq51oUGNFyHCxMKfQWTcHENecc9BZqpHw8SJGEL8SynDWg4uQr4DcUJgB0lCCca9QvGOcsINLdDCoPdmQRqnDMPHTx/D6JqVwSCzEcAc68hBZfA1w8hw1MEfXPDC4wV5wpZAU8KariXD3IvyQWT0AULO8JbCQIiQQBiGtcGSpapCfTbMwl7rb8IdusdCH7QlQqBAFEIdS9DC1fs+w5x2hcJOrDtC0PMuwTh+gkH5WpbCSKwRw2zm18GRr/3CnynNwpDQJ8M7zUbCl5pfwsT8yEFQV+RAsdLUwo/IyEHuUoVCdnGiwo4888LePgDCxLqpwXS+gMI1yUjDCWyVwsnOMcKAPW3A34VtwTA/S8IGEC7CRfUxwtomDMLyahPDezR8QgiRjcKEiD5CDDqWQhYpLkJtwu1BqPP3wRlSKsJt7CvDaxvjwdT8dUIcRbrBxWymwmk0CsIEHorCpLUKQls4NcPBo45Ciq+Dwt9U3kJzTwXDQx8owidNF0LN8LRBqkxLQewvdcLhUcbCBRo/w6p6kMCgiRTCuKyBv+CCccJVPIRCrM/DQmTaHEItzaZCYHC/Qc6XisIuCgPCeHORQSqmw8JGgFdCwCkjQO49SELN9THCTooCw1RPLMAD+23Bga8lwzKDzMEUThTCU8IfwmrzL8O0VDXBkE6kQSdzW8LYbnJB1XL5wp3ge8LR0PTCy7Yjwl2B2sLS2yzCbVcNw5oLksJqq17C5FYcQuy0mMGPBS3CnAndwrzvoUKuT3fCYOYNQo0t/0GqBHnC8oYmQlKFTcKcATxAWpGEQY4ExMIYKUHDSIcQwi9OlMLco9nCVyI0Qn4AaMOny4RCzMUsQNZCL0Ij5ynDXpjxQbCHYcF2AC/DD24hwsI9xEJYbrhBoqdew6YuVcLkY9bBUcW6Qj8q1sKn57DC9EEYQsRhi8LHUh/CiAIHwk0omkKYOW5BGTTmwnISE8HAr4xBz4HAwRxnkUEYKQ/DjEdHQnDincJgXJ3B5xu2ws1gIMNqRpXCIJJdQdF5W8JSaT9BSfruwjXfpML6LhJCWgrJwuDGsMEqNbzC9PnBwuJrrMJAhCTByuj9wjHTEcOhdrvCya6OwjCa0D86WSnCA4ggwz3KAMI=",
          "dtype": "f4"
         },
         "z": {
          "bdata": "XHfDwshsc8KiIajC77qewloUx8KK1VrCUPZLwigMrMKNVojCOb1cwuCj1cII3K7BRP0Nw2GeocJAlrbC4bmtwv4UX8IYNPDCPEeBwiCIvcKv87jCG7fPwveNuMK6qunC9ZuBwtsEoMItgO/CWQvMwpp/9MInGpjC1IvIwjhXLML6bb7CPqeHwhbDmsJxSb/Cgi9wwnQXcsIEbHDC166OwvLYp8L0seDCw556wow2g8L+Ue7CAktfwvBNtMKQfMDCTL+lwh1dp8LgP2rCjE8GwoAg+cI811/CsEe4wqZhpcK7cdjCRH+jwrcK28KOhozCZumswoZ6lcKGV8LCbIGlwu0qr8LMR3DCnMSBwmLCiMJ8M/DBBeYAw6IVXMKgwcnC/uTkwrVYsMKn04XC6KgmwiIebsIo8LPCjgCNwlKlacLIn1fC8YWTwqD8IsI4wpjCVkqJwjCtvsI8ggLDKkrhwu6D6sKrGunCWidtwir7f8J4QZvCJwemwgprJsJhggvCMH+qwkJD58IuFTDCgO6CwgI+OMKl4cPCN7SswqRXtcKHkbbCIBFewk6++MLMQr7CLO6YwkmmzMKb+YnCUiaWwvISsMKAdpvCe3aCwurTycKIuBbCgmK6wmDBk8JWUlrC6E2uwhr3t8I4/p7C7rnawhDD5cKlv43CUwuwwrx0w8IKQHHCfu6/wnktusJ9a3XC0hw/wlobScJWUkrCcvUvwoTtfsK+8N3CkkKEwlI4YcKWDAHDUZi8wqBt6MIALmDCrGb0wi9ytMI6jO7CdOupwqBMvsIUkqTCmePKwhC6zsKIRHTCjCeowv/rWsJjIlvCNsXDwqAEFMKcE93Coij6wk6GXcIg9cDC7QXBwrr1tMJkya3CHBsUwm7jdMKwUfPC81RRwofFFcJD/6bCXOzEwjU2VcKTmp/CPvKkwtIT7sKym9fChGPIwrinecLloKPC5yKYwiy3qsLcwt7C8I69wpVoesJvEDjC9PVawpBpCsOzJSzCFN22woQ5QMJoqcrCKNGiwoAGQMJQb7vCASOPwjO4lsIf2IfCkA6/wvbe18JyuA3CICi1wgi4XMLO8UXCgtbIwgIDQMJKqrLCrwGowtjMhcJcDO/ConmiwqJbs8IKucnC0dSxwuUgpMKDdpPCxveiwUnpwcJi+CvC81bmwiCsncK6MbDCxz7AwngwcMKg2tXBtcerwpzq6cKESeDCBF2+wifvssJsrmDC3KF1woqW9ML3nsDCcluiwq72YMLuJ8LCpAiVwvsz78In95nCEAnRwtim2sFq/c3C4EWgwoPbisIVLbzCyDBCwqfmqMKrXwzDvueQwnbNl8JYksfCW4+6wmXCjsL411nClU+NwklBE8KCBQbDJCoDwkgR68I2I7/BPH7xwuQ168JTOfXCpoiAwst5O8JEZofC7BC5whr8DcLmPdHCah3UwsTF98LEjg/CuGepwjRqu8IA8xLCoMA9wtAgQcLWAYXCxpEYwoy+0sIyEsjBPsncwimCgcJaVKTCbi+pwqaztMK0psHCARu4wtwsgMJGiibCC2/mwvTGp8Ka5ffB703Bwl4v/8KzE8LCKMvJwtI9lMLQ3KPCi12SwvaARMLQ2DXCKiqQwrfqwsIK/l/CQjT3wiBk18JAUsrCeCjOwqbfvsKQTMXCD2DFwl41nMKoIHrC0l7jwu+dqMI8lU7CU+/iwsT34cLocZDCXourwuY/scLTZBDCSh2LwnA0zMLA9+/B/7uawjS7pcJKNLXCrqOIwtAUtsLk5djCsMV3wpjaY8K9jZfClkoCw38HbsKRovbCFo9ewnjptMJ2O2fC+T6gwoDDp8JMtZzBCru+wqfIbcIHs8DCuwFowrxoZcI=",
          "dtype": "f4"
         }
        },
        {
         "marker": {
          "color": "#FFA15A",
          "line": {
           "color": "black",
           "width": 0.5
          },
          "size": 6,
          "symbol": "diamond"
         },
         "mode": "markers+text",
         "name": "Cluster 4",
         "text": [
          "C4"
         ],
         "textposition": "top center",
         "type": "scatter3d",
         "x": {
          "bdata": "ueQiww==",
          "dtype": "f4"
         },
         "y": {
          "bdata": "Bjsnwg==",
          "dtype": "f4"
         },
         "z": {
          "bdata": "3v2ewg==",
          "dtype": "f4"
         }
        },
        {
         "marker": {
          "color": "#19D3F3",
          "opacity": 1,
          "size": 4
         },
         "mode": "markers",
         "name": "C5",
         "showlegend": false,
         "type": "scatter3d",
         "x": {
          "bdata": "7r6Gw6InP8K+s1LD2J0Sw987SMP35xfDPbB+w7f1R8NTYW3DvyGLwjRYpMPyaNrCNCH+whyAYMOq5k/DFDIzw3lzWMOGl1vDBi1lw0bCL8Pyq/3Cumuww+F/P8M5KgzDJFd8w2gPusMEZl/DsOQ/w/zCpcMy6mrDAAWFw5YJYcNpfiDDfK6Nwy61acOvHHzD7x1WwwzopsMpMVPDfEYOwwSuYcMYLJDBO+HBwl+rbcNt5H/D+YcYw3s6Z8MsyCjDaE82wwStecPN5VTDGRltw/cXGMO2EgDDHjdTw6ygJcMD76fDOLqLwvp5TcPPhofDMn7Cw38YSMMuUlHD1TFdw9mHSMNP13vDt2A2w5VaesMslvrCNDaxw+GeZsOs4E7D0GVMwyMDMcNWylTDssFUw0SUjMPyJC3D9LY0w1k7e8Mw1iPDZDcOw25cI8M+5I3DcOiPwtDMFcOGvR3D+FRPw3YrHcO8KzzDwPHuwnwnVcPsIQ7C7Nedw/IVGsO080XDb38Zw0rJFsP96OTCIMmnw2WkbcNClkvDwcdQwxRyt8KjFxvD+zGJwydZzsI+1s/CKAS6wtyUgsIrVTfDOIoewz4608JftoLDdPakw35SXsNZzyXDEcC+w453B8P+Q4/DuiV6wwgDhcORgB7DF7hIw1TTpsLyR3vDlUGJw1shkcOntwfDx0wPwzryMMPsqE7DJKxbwy/7gsN7RAPDk3Lqwt+7tcMTjhnDKv0Dw0q7kcMfwgrDLuVvw2smKsO25JTCYNUkw1uz2cIKuTfDFMAjw0FHV8OgOQ3D0oUAwzre3sJg7R/D1p/uwurNKsOohl7DXLzKwTugC8NYR4zDbQMyw16iP8NA1AXDzNyEw7s2rcKmmr/DBcGEw1VzfMIVYb3CnIrowhJlDcMUNXXD4HMgw3mYAMPOSZfD9wZfwwPuFsPWyKbD74UMwxhTRsPEem7DutaJw+L5M8M800LDOCylw7z8gMN/VTrDxZWBwyw6D8OAFdXCiq6LwzBnVsOeGYLD05dvw3ZwR8OU5SHDzqtjwzYyT8N2odfCSPqKw8jWaMOEpJPDJRSMwiOzb8P//anDZCKAw2cXDcNoGHzCFpIzw84kKcMhWEbD064aw79/vcI1hULCD9uWwlzXJsOmFrPCbDmcwgQODsMyCIjDNrCWwhG5NcMhESHDhMCzwtypYcNyj6bCBwyQwzS8F8PSEQ/DBGkFwxBxOMO6T6LDwjvIwgZpO8NyfTXDSV0wwoQJdMNpWOPC5qNbwxZp7cKaovDCGrmSwjZqSMN5KUjDm9Rbw0JmccPnEBbDDn1yw9qDk8PjqVDDx7uIw3/gKsNFTjXD4x92w4WwT8P8/wfDbGwPw2qHOcO/lLfCiHUjwxUCH8ME0JnDDVVcwzDkNcNUEVTDWS5FwwtqKMPMPgLDGhQVw2LK+cL2TGLDSOg/w9Syu8K24xXDfrtnwzQOwMKI8TvDvPkLw+TOkMNEBzTDdJZCwwp4+MJXXkvDR5Mrw5r3ocMcMBnD8mTowj7xWcNRF6zDJHkJwwackMMeVQrDtxE9w15Aw8Mn6ojDxDYAw7euhcPJcTjDgUSMw5CaCcPEeY7DR8FOw7PZCsMIuELDTjLywpophcLFJinDfmtbw/7Ok8MkNorDcx6TwjbGjcInTRLDmsmew3adNMOewmjDXVgpw/C/LcMukmbD0MP3wf6FVcMwABfDrTYqw7Z34cLikU3DOjadw18qQ8PAM1jDswRBwwDVMsNLgoHD9CsMw8RERcOukXnDhOf4ws2cNsMhXrPDmU9qwwqmtsMYF2HDEpmQw7GUBcN2IS7Dt88aw83S98LYnT/DUPS8wjK6U8PPgxDDiuH1wqwONsM=",
          "dtype": "f4"
         },
         "y": {
          "bdata": "SwmzQggqMkJyA6NCkJqfQlYBtsJx68dBiPUJQ2n1icK1NgtBLeFAws4pqULltDvBlIPywZYkpMK57kzBxMrRQTotGkH+lnzCHy2lwXWkccJhND7C+pLWwo1eBsLLUfJBqCAYQ/apAkF2mNNAvM9LQoFUnsICsR5CuZchw+SlzMEgfKHAf+6uQp34MMNMXQXDMJFrQPi6pcIFTHPCyM9dwRQrH8IA4FXAFIoswph6wEJoV1LBHtOuQqZguUIW1yjC+uiowq9hQsIlMEbDLObHwYzv8cHgwGhBcKQJQ8AGv7+6Pw9DRLlEQnPq78LiYLvC84xowoC+xEAKAHFCgcoLQojvl8LS3jpCNJzwQYQcz8GAyqBCKIFyQoBlTsHO+ZNCvg4lQtB7pkL+CILCVSilwqpzZkHCncvCo/1ewmzXNUJ5RtlCWqrMQarehMK6KR1DrAXPweKUMMI87PtB9VUFw38BWcKT+czCcMjhQShn58KAAL6/FkQ4QqB63cEwaLzCsMR1weCxi8L0JwtBa+r0QisGs0J+SgTCVDbdQuw4gUJe1ZxCSpsuQwBxDkGBloXCtbh2wjBcY8FVGGVCtYsuwjnusMJvnOVCg4jVwsZiQcPVVR/CPZ5swt+RkELLlwDDQOl+QSOYNcNSeIBC94yJQsZw+cGU+dBBnKR9Qo/YH8M8gibCZPyaQaDTPkARdnNC2Gs9wweQ7sIA5kvAfIbsQcJN2kJvu6RCJTqzwlgywcL9/95BVqoxQ4NQD0HYCV1Bs4nNwtqBpEIw2knCW/eMwsh9CsNwLl2/SeKuwnINoMLEpIzC34VBQkxgtUBTqIvChIgXwPHGi8IOnwbB+Rghw85mIMIcXhZCpLKPwRM8hsJXCHhCI5R1wfwKMsK9z8RBzMU7wIGO4cLBAIBCQmTeQRTcW0II8k5DuyoGw/imL0LWRafCChZ9wp6t1UKIQ6LCO+LGwswvBMOZsA5CdkiJQDWUFkPGEg3Daft/wjgu0UFv3gpByrP4QRc9EcPcaQ5DQKHZQdnUCkFQEHlAqqhAwyke90LrA2xB+CC7wV6eTsOAR9I98G2Fwn09SEIrUV1CmwPiQv6NNcJ4AeRBXp7LQAC8xD8ok8NCiuBMwmu4cMIekkrCpcWkQYE9osLADThB2w9gwmCq68KBl1VCmLn0QalrxULg5GNB8TboQS06w0IArLe+8G0NwnbGksKK9YTCnyPLwrHgdsI5D2nCDYGIwjmoccJa/7PAYBtPwDQ0AsOCDAvCB37vwsO8WcL+ClNC/eklwm3TrcKASpBBZPwwQ64j8EJ3VELC/vadwdAANUOmG5JCBJnYwkXnvkJeG49C8id7QhKjjEIA6gW+Yn2xwb7P3MKgI2RBOmkuQs6HCsK3AOzCYOrFQCc3pUFWmEDC9rCNQpyvhkK5XNbCqJulQRKM7sERm3LCOiV+QpYeg0IoB4PBVA+AwtdLuUEudkjC/zIewjENFcMpYynDyIsdwb5LgUIe1xfDwGCbQH2o6MIkbmZB0FO1wb1teMLbW+vC2SSCQcoYS0Hgql5CHEMhQeann0INie7CcK2BwSSuGkL6HQ9DtQPjwhAVr0LTx/BC6//3wvIaBkIPgYZCua1ZwlC6hkFMBDlCK78Jwxqao0BnBtlC8RxJwuRSaEIuuhPCoRVuQofR80JMle5BwSMQQSF5zUJ29ZbBNBuFwaJdpMCbkI1C2GaFwmo7mkKyrNNCqZGvQps77cL/JqlCgANiQoXfhkLeaCbDYADhQED5RUHUcuJCIQxqwivRiEJLX3xBHRY2w9oVsMEI6k/BTGTKwtLoQ0JKFBDCsl26QJs1aUKIrpdBBBANwsVBucLQhGhBjQKOQvSvW8I=",
          "dtype": "f4"
         },
         "z": {
          "bdata": "oFCuwUDipcFkDB1C2HDnwUArq0LAreNAgUqIwme7ZELu4QPCADoswcB6DUKgaDfBEoWnQs/9BEK7XF3CL4o6wmjzSEJu7UPCqKSuwYTQo0FA38HAZBhhwobmjkJQ6FhBtsq9wok8TsIEJ85CE49wQgpy38EqqXrCkMFzQdoP90IlZTjCMMgRwbApy8Hwqi3CcJckQcaP58EAGStCelmgQrxHisFo8StBrnqzweDq0UBMjTJCZMgswti8xcGwPl9BfDUHwvAMUcCARr4+sMiwwPDFFkKYH35BCoCmwjDqJkJY1FnCGF4AwrzUmEEd5EPCXuDVwVQ2GsLA4wpCosWmQtrTMMHgTdFAmBIrwryiAUNAX7TANGq4QVgkTsGPxRtCkGXeQQixz8HKsjzCVX9QQkIwesL2tJXB5G2mwQ1TkML6eUvCmC+twAAXVsCRbobCDKFBwRZOukKQXzfCcDinwdRCt0GAB8c/NKINwgS8BUJBKtFBSEecQtBY18AKvG9CDi7IQRhQEELoj4lBIPvTQcCoAMG/rI1C0ARgQZAO9MHkXhfC9sIbwrXQCMIALbtADvikwfHBDUIEuCTCjqB0QtCKc8G6rl5CINo5QMxOskEKojVCt1V3wtunKcKY7qJB7FkSwUMVP0K2w+7BYPz5QRRFMUIws5tAYsvkQghuJkFod8rBT4fiQSDP7cEU9hFBdt/0QcDaDcG0tTBCeCf/wBdfpMKgCLfBQIx9QUjHzcFeKh9ChOumwpE6WsKU6pvBiFIUQaCww8HU/tVC3PSLQJ8uAEK0r/vB2C4mQjIjlkG0iFpCWF6gQTBN+0FQpi5BAH/nvyBgwcAevJHCwDWywEAwDEFAuzjB8kjcwRYk6kEw7FVBmELaQRBeQ8FA9I7AAATFQWAVKEEs2IvCr/pEwuBexr/MtWTC3S5cQqRQGMLAAdhBvFb+wUBhhMESF79CvjKTQhyQ1MDuqIHC2B+iQUBBpMIIpdFBaupzQvEjO8JAMVDBLEufQQJaHEJwuG/BwBfSQLjnaEFARBDB4PweQD7t9MGsJwVC3jxawvTFrsH4mt5C8NGHQH+Lu0L27YnBsBIqwlhdz8Eizt/BLDcGwuo7tUJk5/FBpqSrQoCz+z+AEzDBAIk1wF13SEJAZM9BYNN9wJbE+0GQiapATBWaQZ7SAsJ+okdCYNIYwlhZvcAoWQLCkBJSwucWDUIkhexBlmQMQi79zMFM+plCYLnCwGCId8CcUOfB8KuuQPCOocDswaVBlMYGQkABfMEEJUPC6HPMQYx2J0JHjz5CNQa3wtSIm8FwszdCIG7cQSy648ErKyvCGqHFQaIEmsEAYI09wH11wqxlg8Ls08lB1D8Fwoa2jULwe+1B8I68QJAYhEGGUibC9Ag4QSA2GcJgzKNC7FO2wVo9GEJEZ3dBJmuiQUC+psGkVhTBsD2FwYyeIsJ8HpbBt2ONQoAgN0KGB59CaCV/QQbyD8IgPYzBVFQlQsTWJMEDShlCslZvQth3BsIgFshB/GQTQrZqmUIvd4TCoBEjQUSylcKwRyjCLABXwcqmgcLGNnJCb6pQQvhal8HCSI7COYiwQoKgLsJ4XMPCsNC6wP6DNEIwixNBfgMTQtA3XkGwYSNCUNC1QPh+yMH6tqDBMJGbwLki88GoRuFAwMyjwjrwVMJsRAbCuJ4eQXBCA8J4YnXByC97QSpJLUJSKjrCcJ0wQSI3vMGoko3BZGN4wnScR8G1I03CNP3nQVRx80FAMtW/wM8pwCB7QsKhkJPCGANxQWDjvcGkd/TBGGmcQQY1HEIMUwdCWj+NwWBI4MHU0CNCAGSpQSBSHsH0eOrBxi/UQchpCEHAtb7AcCVJwVyuh0I=",
          "dtype": "f4"
         }
        },
        {
         "marker": {
          "color": "#19D3F3",
          "line": {
           "color": "black",
           "width": 0.5
          },
          "size": 6,
          "symbol": "diamond"
         },
         "mode": "markers+text",
         "name": "Cluster 5",
         "text": [
          "C5"
         ],
         "textposition": "top center",
         "type": "scatter3d",
         "x": {
          "bdata": "Gf8/ww==",
          "dtype": "f4"
         },
         "y": {
          "bdata": "F4XDwA==",
          "dtype": "f4"
         },
         "z": {
          "bdata": "nhHlQA==",
          "dtype": "f4"
         }
        },
        {
         "marker": {
          "color": "#FF6692",
          "opacity": 1,
          "size": 4
         },
         "mode": "markers",
         "name": "C6",
         "showlegend": false,
         "type": "scatter3d",
         "x": {
          "bdata": "nleSwoQKG8O2DsbCEgOBwtu5EMJwEozAhriWQjrUPsL0Q1HDKDw6wu0ilcIe4B7CjkNMwz4sPcOAOulBfZwNw6gGWcPdmdBCRKf7wji7z0JMtaBC1eOEwvrFAsPlXh/D5M8yQbM5j0KMj8jBERj3wa7MHMJ1twHD/Wx6wvYSmMLGXUTD5h3EwYIXT8PoOr7Bog4lQqCLN8K4QM9Bvo0Ew1A9CcN4sXbDdL6MwhUae8F+CVnDz7POwoSP40FQR+TAcor0wcPYIsOTQeFCTwzWwkOUFsJQsaHB4M+5vySvAcP+9BJDjTYTQ3Dh2sFQzRPDAGE1wBbfMEKoaAbDOxiZQmnKyMLAXp5BrWzAwjzWj8G+aV7CqbgyQ0tevcKQS5bB2I2pQL6YBMOwYkjDpAVfwgV9LsJ+bOPC2eTPwoOv2MLgzJlCkgogws5MSsIkkElDh6jRwl5MUMNdUkvDJHOBwiKv0sFpkt3C7jSxwjDt/cET67VCuhzBwgD65cJIMdnCzuoQQlU3xcFQpRhD4rsOw/GsIcJw7TDAMfUIw1TYCMJe3xtDTP0gwxIcGcISUlLDvn71QRGdvEIad7dBBFOBwqOmFkIWSs1CKXsrQu09HcOK/AbDZhX1QvKK8EL28RjDaFtNwyBYF0M+Kf7Cq7zUwjwiQ8EMynvCxgqEwiACh8JfJ/vCvNRbQfYFvUFY9nRCngsgQZTW78H2MghC2pKJQXYhy0IXnLnCMjdUwvGQI0Jd/6NCI/fxwhy5i0HXJovC5odbwrCxZEJAwTHDi5vwwnYjDUPw457C97CIwdtsssH+HlnD3pVFw8ZloMLwm7ZAJ5BAwqJ4D8Nen/3BZEUfwn4ZB0LDAMzBHOcaQtHztcFQHFjD+3ARwySPisKO1C3DcgENwxfc1cJRUMFCwNMxv1quN8OIbvXBt26lwlQASsNv7srBPq0LwhxqDMNmAoBB6oJJwhK4X8PZu0nD1Ps7wk81zsHJtebCQCwYwEvhkMKg0inDWM0jwrnfKMNXlF9CqOfgQAIRSsNK3tfBpLKcwqT4KUNAPLU/Cnw4QxQqJMOT77PCJjuEQve8EcNzDzjCJKaMwpjDL8OSA4FCHsQXwfATXkE4nrrCREoFwy+2D8Mi3BrD11QBwmRd10GkVYPCHNJzQSWz6kL6jk/CfuMmQ/8e3kJ8Pi7C4qAGw3+n+EKC2y/CqKI5QeEqtsEuB7fC/kyIQtmFm8LO8N7C+oT/wqQPasOeEbbCcLOTQNYYiMGADMVCgiXZQpF9zsIyXFTDuJBjw8yfz8ISzJRCgWI2Q6T44MK0/KXCok9Rw6hvmMBtRA3DNIM0Q9iy+kGk81LDXQEiwimRR0I7uonCs0/sQsFdcUJsDlDCQpqrQXzS/8JypX/Cd5scwuRLN8NCPkrDzN4TwXRS0sGsAlnCQE9/wIQvosHEdZVCVK+wwjun9MJrbPRCqMIWQhwQgsKp1xdDuFTtwQ1UG8JJOt3C0PYwQyyz+EE6MUHD2m7Sws1v18Lnt9dCW1CVQjmFvEKn3tBCJI2fwHXV4cHW5RNDMI4uw8ziIMMtCtdCIHpBw7xGk8LeL09CRzi8wrtE0sHtV0fD8k8OQyhNREHwZi3CAFrJwlQBXcJiBSXCvejIQpq2K0IuXIdBROKwwf8k08KeW4/CK7dGw0TNY0GP+pDCNBgQQYCBQL8DhjXChJFxwx7crEFRf1bDfvQGQ+xlLMIm0BDD2uO3QXb+h0I0lG7C1RctQ14BE8N4GqBCrFJHQoUMiELV1CnCK07IwojoHUElmb3CUuWfwRYPF0MHojrCWv7Ywaz7QsJ3f+vCeg4tw7bqEEO843LCCGjRQSceMcO+jglDWGbDwR4GUcI=",
          "dtype": "f4"
         },
         "y": {
          "bdata": "dIf4wgNgB8PHHdHC5/B8wpSxb8IkQ0XC5qzEwgfkT8KwF3zD7ULKwsSqM8JjZPbCDvG9wpwmDcOOZJzCj7n8wv+lOcM0y8vCjL+mwj4AuMJd0ijCHN6twnjuRsMQWuHCwnHxwmAzisJoMgXD2Zcdwu+RyMINRgnDqLMAw66WusKKgyXDySy0wlguc8Pr8e7CGGRGwodcmsMIcWfC2Kghw26YV8LL4UbDwHMGw4miRcOahm3DjYDDwiTJfsMA8ZLD21hAw+mPHsOhoJPCsGRZwwfPDMPHcSDCeK1Cw7PX48LfhzHDPluFwuyvhMJKMk3DN6Exw616TMNI37nCnEEzw7fbgsNk9/HC9+zswtnUncIpzN7CZ5szwq45EMPzT+XCpogBw5eMtcLiJ0fDTAoYw5pwm8KHa3LCfFO3wmaQqsKoKOjB5EKJwzLgq8IE09nCJXKDw/Nr5cLz+6DCmkvmwleAFMOcoh7DcPKIw6gMLMJmfonClpIFw/HyNcP+NPTCEDhUw+M1pcJ+aoLCYmbAwvzUJcJKsBDCTJX1wg/uNMP+qtLCHMX9wkLa+cKhGW3Dtxlpwk5cicOY8OTBRNmHworAT8KiwxDD1BTwwsYDBMMGpHnDI2ilwraTo8IMQV3DCk4Gw7JXucKny+HC3CFdw2H13sKVXyfDlFPAwqT1CcOvCzzDNBnhwYHDMsMkbyzCItGfwh8rCcKu3ujCFravwovLlMJKthbDgAY1w6N5EMN+khzD3krGwlz9m8JNKqDCyKODw7bRssI2Z0LDwP13w2llOsPaETbDzkNUw/gNH8NsaijDo9mFw0xsd8LBbP7CYMMPw63Db8MM3WjDy5obw8/jjcIeoIPCCKOSwhdu/sLwOCzDVI6pwlAqEMMbhETDhUf+wr+07sJ2OAzDtD4Ew8gosMINN4nD/nwBw/SYJcOFk/vCWmqCwpSzGMOQ8gXDW0EzwrpE68JZXtvC2nbSwv5FxsJz/xnD2ZLIws0usMKJdHjDGIncwqZQyMKsxgnD1BOYw1LuyMJ4AZLDvMCqw3SBNcNzeArDKm8uww1ojsLJmKjCpa5sw2DDGsP4r0rDF3XWwkQgjcPEgbHCMg9Ww7h1BMMqOiXCphSMwhIN6cI5aTDDjo6Qw/oIKMNJpSzDGzeywisnZMLqFp3Cj86nwlBLDMMoPCHDPKSAw1VDicKDPeLC57Ufw7ioucKTEhPD7MSWw0M4rMK8sOnCchMUw7EEXMM4EBLDTBI3w2bmCMJSXTvCuQDcwmRSB8PRA6HCohhfwylWTcOsljjDlKXuwkGHGMMGHV/DuuMZw0zXecOnpB7DiDAaw/RVOsPW4/nCcm+awh4rmMLRW/DC/FE5wwzW5cFv+ZDCHKdJw7/y7sILfCvDtbC8wnIE3sJqSFjDkIbGwrWVH8K+sSPDbUVjwlSoTMNgwFPDRrGcwhlpYsJOH5rCkPg2w5OqbMIVkXrCWBd+wxAjGsNk3fXCiIvxwiiLQMHW1pLDDuVQwwRRusKQoSrDpvmKwgzXgcKwJd7BGl1Ow14WlMMFrHPCVTOkwuw/W8N1z2/DNJrmwuFyz8JWonrD6bYqw9abW8JCFaTC+j2HwgZrZMJFSDzD0r4Rw8v4l8IhndDCHu3xwrrPfMPQgAbDCwOVw55vMsNstfPCmhuCw3IjFcLZSx7DgrURwzP6W8I7RCbDsAruwkJxHsPEgmTD52B0wiD138KUbXjDOfIFwggcccIrMFjD6hASw214FsOXZ6HCwO4Vw6kDZsP/lNPCmO8Bw6r4hMN5AtvC9G+swpAdG8NuGkzDtV0Kw45pmcLdheTC/eX/wpwPa8M5LUfCkGJDwjoZkcJ0G8PCz7MKwwkx8MI=",
          "dtype": "f4"
         },
         "z": {
          "bdata": "4xZsQ5B1QULm/R9CZBpuQuKW8EJghdtBdmqFQ4YGlkIiD71CHLbzQhyZxkJozhJCERItQxZy5kLKEahCUrVIQmpUOEOaVkZDXHX3QsHoL0OIHeFCR48gQyz8k0PQzn9Dm6gVQ/D5YUImiX9DWoNEQtsg2kKCLKNC+tU9QkLvHUNLYfBCkkMhQzy/GkMGkqFCSm+xQrvDMUNezi5D1qA5QyLe+0JX+uJCkEL6Qpan1ULa+xBDqjmBQsIvFkNsGy5DZeKFQjT5S0MGbwZDOKQqQ1+D60JqwolC7RstQ5JzL0KUYbJCfjBWQ+Z3KUOCI7ZC+nzVQggxyEIyrAtD2IPXQjpP4EKpnwhDrvRAQ6pm1UImAytD0tciQ6cmXEL2gO9CRjKjQ8FPEENS2ThDErZeQpSH4kEztJdCN5Y6QlyG70IPKINCHVQkQ7R5+kF0oxNDy6cvQ0wJ5kJuzOdCwo04Q31/rkISxSJCZMTQQmgXckL9WU5CwexWQ20xTEOStCdDliHEQpcGO0Jg4j1DiENiQv4S0EKetq9B4SjJQjPXA0O8yKdCIh8zQ9d2u0IYgyJD4rRLQsvjHEPuGZ5CoJPpQh1cU0KXZSVDGg1gQ6IbZ0PAy4FD+mi9QqUlYULOFlhDHHxPQ+TJFEMiYNhCZxkKQx7RbUNPiyhDInPQQq8XDkOB7oNDVE2EQlsPFkMcr+dB6HQRQoq7pkKDgKBCdjntQsRv0EJUmBVDGou9Qo9vJ0PUNAhDE8INQrA3B0PO+xNDkikdQ6u/lUILjUxCf1xcQxUFFUOi7flC6IMMQ7yACkOkCKJCOxUHQ3mDDEM0crZC1nacQ8RQx0IY7qNC9gH7QtSgpUKkJ+hBEqebQkluAUMeXk1DtpkuQ9YjOUMEeXFCH/hfQjlpb0POsjhDglNkQ6jkMUOOkb9C685qQwp55kIGFSpDlZOnQqxRX0JsfpZDpcqRQpw0dUP8QPNCuu2IQ+krIUNXKjtC+xb0Qk+OFUNdvTBD/DgfQ1KVKkP+DzhDmpI4Q3r3HEO6wGxDVSIHQ6jNF0MXHUxCCk0nQx4lHkOid91CZz4MQ3a3/EJzcWJD76HFQtIHPkNurFJC48CsQjNBRkIlY85CLX8HQyZcmUMpMYRDjC8jQ5guNUPpgi9D8VkCQ2BnOkPMOxZC8GQHQ4M9kkL/OURDtzgUQ5/tYEMutIxCoA4GQxuJJENxnFFC/NQxQ46bC0LewB9C8lmHQmoTEkPEVhRC9rPVQnwLZkG209ZC49UxQ/mIY0M4NSZDNG4ZQr5fiEJMm0dD+FOtQi6bVUOeq89CJjP0Qjb1HEMGMVJCF+23Qo9bK0NrUipDqfGqQqwnQEKr4UNCSOMjQ46uwELvyAJCk7VcQxje7EE8YN5C3zfpQi5LakNJqBxDXC0zQ9AxdEIk7vVC4G8NQiz7RkNKp8VCz/AdQxPpnkIgSRpD8nJVQxrSnkIO9DhDRbSJQ1m7HUMAUMlCKUALQxtuRELuBZ9CKyYgQ+Qik0LSjudCgYuPQuzU+UI8LM5C021OQytGFkMeGClDSiYsQ9IbokKYxDtDoStaQ5hc20FuU2JDQFdXQ6hh6EK+Ti1DdsuqQtzEDEKvvPRCGuE4Q2KSPkNT/6xCItWBQsTnPUOSwH5D/EofQ8uMMkMQ4/tCR9J6Qn//P0IiJ+BCVCGQQ9IWD0O8XxJD3LEbQzHW7ELke8BCl4IsQ857Z0IFu+BCngEqQhrdk0KoFINDLE3KQqVjFEINT8tCGNx9Q/r7F0NDkKBCAPx9QiUXvkIYRWxC5AlcQy6nD0OW8nZCVGiUQlqbxkI0d6xBWs4WQ+Bh6UIKzSlCfvADQrgq0UIoxa9C0oQ9QsU1L0M=",
          "dtype": "f4"
         }
        },
        {
         "marker": {
          "color": "#FF6692",
          "line": {
           "color": "black",
           "width": 0.5
          },
          "size": 6,
          "symbol": "diamond"
         },
         "mode": "markers+text",
         "name": "Cluster 6",
         "text": [
          "C6"
         ],
         "textposition": "top center",
         "type": "scatter3d",
         "x": {
          "bdata": "F/4Wwg==",
          "dtype": "f4"
         },
         "y": {
          "bdata": "plIGww==",
          "dtype": "f4"
         },
         "z": {
          "bdata": "nSMBQw==",
          "dtype": "f4"
         }
        },
        {
         "marker": {
          "color": "#B6E880",
          "opacity": 1,
          "size": 4
         },
         "mode": "markers",
         "name": "C7",
         "showlegend": false,
         "type": "scatter3d",
         "x": {
          "bdata": "wVHvQijHuULZOpdD0oKGQiN9B0MUn6NCG5kFQ1zcQkPIhZFDwDG9Qnpl3UG/nCpDDQM5QzPapUJunpJDUC5rQyhbyUI+lPRCfmUQQ5EnlELd+Q9D6nPTQaYiQkNUrttCUOFYQxui5ELigvFC5L/3QvnT8kKqnQ5D3nmsQ1v6XkM6wCJDwIRXQnxwk0NdVGlDBzpjQ77D3UGozwJCElaRQryRFEOp9BVD3oIuQ4PRiUKDijBDDC5HQ8rdqUHdfGtCfx4AQ7P5+0IGLIZDJsAlQxgWoUM7pkFDBi8JQ2wW5UKq5pBDPCiqQqBWcUIa1OlC4GmKQyKWBkOybg9Dwg2jQtAu30Imq5ZD+MN1QUxUlkNnvjBDVMQtQy/eE0MTnMxCGok+QwGNGUOzXBJDx79nQ+4AE0NmjW1DuSQVQxp2EUPuhf5CZOP5QqY5UkPcqMpCcTYFQ8Fl/EJ33w1Dv94DQmw5jEPJe0BCxBzQQraG8EKgiMBC0/OmQt4Q50INlE1CFetwQoRneEPeJi1CDMeeQ0g4OkNqIZhCbi7VQslGRENxVk1DMj3MQu1rYELkhCNDIvRNQySIlEKQb5hCQKHKQjycNkPiv0RDYqeEQgf3KkJo9vdBvi3qQt46sEK8B3JDzA9oQ7qxyUIkFmZDRjwbQ1jplELfP9FCfpMNQ3Q6RkNYOm1DZcUpQoyeYUMq5yNDjBO8QoxZL0MMQAZDcHw5QxRefkMNhBJDFNLAQmayXEPq70hDXOp2Q7+4u0LgnDBD4SwGQ1qCqkMowYNCcgGaQoE3MENcp6ZCjJhXQSyOR0NzOEdC1kwrQ5YA40L6GjtDU7QQQ2yKFUPe3fJCeCskQ9m5bUIxf85CciylQhbfbkMl7wlD4jn6QiZw3UI4ZxlDSaQjQ8neVkNuA3tD+M2lQq3eoEJKQR5DB/ESQ+sy8UK/FWBD9iyMQtZXekOW4nhDrUR+QvzGSkJTBMdCDNW9QoYBpEK7qYpCOoqmQobavkHynE9DApxaQ5xQyEHRqStDEzE6QogtlEJRy3FCr1vNQtm0cEN06YRD9XQJQzpx9kJz0yJDHC01QrWD+0J1xSlCQIpQQy7XnkM/SjlCj2MBQkQ+4EKfU3dDNC7tQsbOuUKoWGZDjfcPQx3DekPqJ5BCE/+jQ0zXJEOQvDFDRiVmQ7aBK0Oi6G1DkL1MQzZJ2EJwg+BCj90PQ9rkCkMrjaxC4Cm7Qu0EukJRnHBChpx5QxC1JUO1L8BCzEGyQpoQBEJvvRJDarfoQlyq3EJawIxBNgO6QXaLbUL4zTBDsjuaQmxRvULqGqND/mkxQwGBFUNY+EBDx/YcQ3utwkJiTaRCVOLlQgABLkPJlVFDFamyQphv5ELBKnhDu/IPQ1YPiEO2uKxDIU1tQiWvcEPe9WpDWgvUQuotuELUmyxDMtSuQ340kkKwRYtDm54jQ352GUNaRQxCNZstQwlGCUPmsq5Bogz2QgV2AkNhaCFD8uy6QljxoUNzJL9CeVA5Qs52TkO9GrVCctoBQl/JDENphh9DGLGOQ0rrQkM4mfZC4OJMQ5DHREPMNyNDifYVQ/lyU0Ns9p1CYqiXQ6DDoUHQd25DOX56QqAkj0Lo7hhC2Ww+Qiir8kLdOl9D8yeaQqOxM0PrASNDefExQxQw+kIG2RFDRCCLQptsC0NqOEhDfwWZQiM5HEMeJBNDKbRzQyNDCkMb0AdD7AbLQnoWGEOCKQVDhkmhQ06c2EF+W+dCk6tXQ/Z9CUMda1xCpi40Q+xqdEPUq5dCUiEyQ0q/oEMWcgRDKYfXQqwohEKC989CM9rAQtjcgEJspQ9Dx/iYQg1tCEMUWItDoQSpQv1CY0PqKTZD1vngQkvTE0M=",
          "dtype": "f4"
         },
         "y": {
          "bdata": "QLL8QIDQPkNoScRBOo38Qjh3a0Mo/c5BFPGOQzxkPMKgrnNBKWTFQjLTgkPoCB3B4MO9wCtvyUIJ5wBDE+fdQm0hDEP49IHAyuKUQhf8ekOSvaJCIWo4Q378ssL+6ptCuDcrwbSIkMFGvSVDoPpFQ0BNAUM7cUNDE/bKQoz3OUM4ynrBUIRuQxHPJEOGZ41DJaniQprQh0OxWNZCzAmRQW5TskLhOHBDAMgzwfSd/0HTOSZDsAteQ8qx0kIiQTZCNhklQdShGEOoRPrByFiewcDQ+EK0WpBDkPqOQ05hokEmUvdC5LW6wczlXUIDffhCRoLdQgDO7cAV6thCeRqYQnodDcFWVWRDY3qbQeTAKkMxc/dC/NvSweqCFMKkCNNCNqFyQ2i0EsJF5KtCqXtCQld9KkNSiW9Dz+NwQ8poQ0NAogdD97zbQt1e+kLgMOdAwQ0ZQxQdNUIQlaLBEucoQvx4m0G0ZohBcJD5QNBHdUP4aXZDKmugQo9djELAmgtD8sWWQ9B8r8C4VqxCDjE0Q6VbpMKANpLAObipQgJ/n0MIKflB8DKMQrXDWUK703VCT+6YQvy4s0IcuovBleWMQ+JgC0KKM6LCVCXbwRYkk8Hozs8/hwusQbBedUMA1AlDYbQsQ2SXt0JmDktDmYeNQ3ImhUN/EUdCMSIlwjYSgkN/FCBD2tijQjBYUEPLbQ1D8v+AQ8eRGkPAdo1D11ALQ4LMU0M8INVCd+TlQqwOhUEFNDJDxFFOQ9R8CsJ4OJbBnaAtQ+S5NUI4GVjBHAaWQ9iEG0OS7CrCJWGNQn7yv0JoLk9D+K2SQSNa5UKQj5BB7MO8Qlxq+UIwTo7B8GdOQSIhFUPgmaNDaGwYQoQinUMvS2hDbX42Q8E2bUPnIkrCfHpeQ9i3o0OapD1DurqmQjjuXsFEZo1Dbv6sQyeMwkIk+xBDjl64wSGaMUNoRaTBjTDDQjSIX0OpNuVC7L8AQ/Wo3kIRfjxCREqsQhsVDEMEqCnCaXsmQ4x25kKggkVCzRNkQ67MKkMy5PlCDpknQ9g73sGGFDFC/ZtpQ1MupULi011DGWxOQmhu58F7PmpDOFirwSXYcUOyT59CCG4fQhhD40K4slfC4hb/QjRQPEPtUuFCB1C3QtywMcLSHaxDbgUSQ1Tcg8L8/8dCPnI+Q0MrCEOZwY1C1D7oQnA2Z8JRx0JDYLOTQvBSzsHsCopCcMUdQdLmh0LuhjNCpKkcQ04BjEPrONFC1sEFwk6CiEKsgUtDUIK5QKhmVsLAAs9AiB21Qh5/oUIYjSlDH04IQ8MefkIRJk9DiMA5QqT5xELv7I9Cv610Q5h/vcFQe2hDgMaSQWoGgEP6sV1DAGh9P/kRJ0Nka0xD4DdfwS7AV0MRrERC4DIbQ84OMkOICA9D/JwHQ+yPQEJY/i9DhNKwQmBK+sC0ccNC4ugBQupGEEKvhtpCROYHQ5oGMkMWr+JCnD2EQyoHj0MiX0FDAUfeQmRkZkLCkItCVNU+Q51XPEPaVRpCAA4MP2FExUK7Nv1Cs7HbQiKDiEII3q/BgA3RwkC/kcG4YPlB2tusQhriIkKkJrpB5Mm7QWxIV0PG2XNCcxOXQyLrJUMdW+5CQEkYwOByeUMGrLPCKNGTQ3hPNkNfLOZCgH2YQjSN40Iy8dNCmg3SwYDGx0K4ZUTBpGkVQsS4WEOnr8VCdBERQ4gIx8DSaMZCZVAyQ2FvRcJLK4bC9C5vQo3Y30EaOArCMRCXQp4YPkNNEgNDoEu3wVCcncF+k8NCqPPGQjDVDUNo3mPC3LggQwjGQEOQ7kjCBK8wQ9jpmsFEYjLCY+8GQwi+FENbeiZDsciUQzyNJ0MorOjBiMS9QXY1QUM=",
          "dtype": "f4"
         },
         "z": {
          "bdata": "bc8kwmYKa8I8lY7C8BL/QA36KUOmBCvCN96QwfEqpUJ8zXJBEH+PwvBOvcIigAJDz1m9wudUEsLzJS7DFsUewWCz1UKoThdCeBQ4Qh5GAcEAuDi+qHaMwWT04UFU05fCchqNQh40mkJ8KuhCPv+Zwvl+TML6511Ce+TmwsCkoj8UfSdContcwrpIecHg0KnCv64rQwkBhMLk0ntB6hVwwc5WLcLSaJnCuEAvQlgpfEIgCxZBLIo4w3RTdEEJuiXCngeJwsCXCELuxiHDyP06wiqoNcIPgFTC8bg4w2AF9MD4NZTBCBv8wXycysH25UrBIE3FQVg890BwYlnBi9alQnDR4sGUschBKMj9QSj/tsIQH3HAMKqBQBI4MsJ11JhClIMVQkBvtD4vWgJDs1dKw1A0vMBejwXDAFU6w9NtmcIYajTCxJinQteNOEPMR6dChwCowgPWE8IDMadCbEvEQbw3QMNU0SFCsAOUwHbqc0KhPpBC5gmjwSxezcLQVFpCbMOFws1eGcPgpozBPiQZwiWlh0Ks/ifCc3PTwn7bBsOgl3jABDMsQiSlpUGCQArCFp8dQvSfScIAAHK69cLgwu9rKcO4N8bAFGnDwcBaqMBIniVBFPWXwjhWMMFQGbVCuE3LQRaeo0I9uIzCiqmtwso0E8GY0rrCvq6PwiKSEMI7aaZCDi5EQrKJiMJebw7CSrqLwrqxKcEyqFLBr1Iww6/OUcPOwejBhm/0wSA6HcPyLVPDIAr9Qm4KqkHlrgzCsiJ4QrncNsJgMV3ApqGOwfCBskCoHyrBILhmwLSPb8Kg6bzCqK9jwqLLIsIMrXZCYIUSQQ5bpELMLsfB2nv5QtAs1EDWKMfCnJOuwbAytcLOLaPCpyaRQnFoiULJuIFCipgCQq/3HsIUtkNCHrDbQtOvQ8EKIchB0IIOwCadqUIEqlxCwoENQomiRMN0243CQqMZwhQbjsKwqb1Ackm/wZzLE8HwsURC030Dwtgjm0Ay+fPCIDj9Pz7/o8FfyBZDBq0CwpAXKEHAcWFCA6CNQnPGg0JKZNXCwnyDQuKCBcKQN7bCZGOZQa3gTEIET7nCul0MQ9JQQcKAb0tAiI1UQSokV0L4Z6pCDPsrQu5olEJiXMjCSi48wk5uukJjvOXBjf/SwsbuZMHsqhFCnrf8wr8HscKw/STDrY70wvOMCMFvPQbDG1AnwssIpUJYd0JCRK+yQkS++EHQoQVCCzZ6whBkE0GKnRlCNhk2QsA6gECs4BTCK8CJwuTDWUHYYtdBRB6gQd9kbMKA4AG/OKxMwozbY0LvxffBJZyDQgnkC0MMc7rCfTlRw8uJH8JaLIZCqHBiwEyutkEg5MzC5vsFwkARlkKgMEjApnOpQlwkGcN4OXTCXnh1wigg8kA8+lRChgPuQnbxEMJ6UxTDqBFxwdYAEEJ8EMRCkLJKQOq1tMIM1OVBvPF4QhziM0GQbnrBZWjbQlaAXEKNyQtDqjvYwsgg+ECfMYtC/HrMQTSAmMLwtCxCtLPYQbZfUsKCZ+XCdk8bw1SolEH2BJxC3q4NQmKoGkMZ9+7BdJjhQrC1GEH+OgdCmGPSQX0rLcIAC0BB0EdywZbvmsI89RxCsGFJQAxhoUIAj63CLqeMwnafnUGNHw1DPSIPQ32jg8IKDlJCoFadQRC9x0KoO4nAor8QQq9CR8O9gy3CkNDsQWitvkEJ9YPCvEAhwv2N3kLcK+XBXfSKQgDGNL+umxpCDNS2wjg9vEKG6UjCLfEgwuqfm0GUUDbCULSGQLbixsJ8N9jBDBDfQu6XlcKiIZpBNa3cwtzZmUF/Lq1CZLztwXyUmcLnxMLCauILQpjFVMMObcdBromzQdYFoMI=",
          "dtype": "f4"
         }
        },
        {
         "marker": {
          "color": "#B6E880",
          "line": {
           "color": "black",
           "width": 0.5
          },
          "size": 6,
          "symbol": "diamond"
         },
         "mode": "markers+text",
         "name": "Cluster 7",
         "text": [
          "C7"
         ],
         "textposition": "top center",
         "type": "scatter3d",
         "x": {
          "bdata": "xVMUQw==",
          "dtype": "f4"
         },
         "y": {
          "bdata": "afTWQg==",
          "dtype": "f4"
         },
         "z": {
          "bdata": "B0MLwQ==",
          "dtype": "f4"
         }
        },
        {
         "marker": {
          "color": "#FF97FF",
          "opacity": 1,
          "size": 4
         },
         "mode": "markers",
         "name": "C8",
         "showlegend": false,
         "type": "scatter3d",
         "x": {
          "bdata": "Zg4zwmBgn0AwjJZBAHOkwXCeNENwVvxAwNHfP4xVH8L4hj7BMMhsQuhJmcIMwMNBqOJLQgD2dsC0WyDC9Py+QTYFBcKAoSLCAO0MwQLC9kIIv75CZR87QmjrzcFomGZCHDmHQfLNLEIcbWhBPPmdQhC8Y0CwhQZD8OxzwWjzF8LooAvCNG6Fwc88CUOUkJtCKBNHQUDG0798+ptCRzFaQiCiIcIpjrhCY9UTwqajoMJw683CjOfIQaAsh0DQ7gHBNAqWQsQDkEEOdyBCuqjqQVhzXULkyE5C4HMEQng2SUE4rwJCaO4vwbLXrEK00mTCaAKZwYAQS8HaOpFBlISFwlwSt0G4OVpCCSVWwiC8FMFmrOxBAWyEwcTigELArfk/UOl0wYB2Yb+hiwFDVjSyQrYRFMLgdSbBPfHowmaEjUK0yZlCLKL3QkSDSMJJkgVCtmk/QlhUQUH0Ti5CyFcKQgMprkJ67tpCxHOOwuDAwUAmFldCkAeCQhsNIUKA8mdBxPIjwlhg78KJjiBChHwAwtyWaEFiBSRCBPAFQ5lU2UJ0dBhDLMGlQkg2AkMNCfbB6aDWQkitQEFekLxCwBfUwKYtgMLB6KrCQMjsP7bglUJ4+WRCUB97QuS5pcIA+Ag+QYiDQjiCV8GYmBxB6PWbwURbU0IA0Q6/cM0eQihG6kGAx8lCsHwqQcCjAMA0ZW5CsDWuQXSZnkGcWGJCja+tQiRbMUG0cbdBEFrHwCwVlMKwbmlBKB+5wmjNA0JGGItCPK7SQpw/40H0K+JCqJLoQkjJo0IA8kZBkB0BQqBdwkFQB1DB2I+8wkqP/EJYxO3BMwVkwmi6N0J44yLBUJOrwShfuUKEYXhBQJTxwKrNMUIlrbJCrqEnwmDAWMHsCJ9CHSDxQtiF/0Jw/e5CIpJuQniUVcGAuFPCaA3twUSB8kKcPHDCuE9NwjDIMsKcGcZCkC8wQjAcKEGfHQ5DTttBwUozdMJeHsJCviRqwmol/ULKjtJCVjaGQpxoD8FcKwfCY2CnQny7HkJW8uRCnksLQ+Y1AMMgeu/A5DaDQgcylcJp4s1CsJaNwCiqxMFe0iRC/LKBwNx6KsIi26pCEDxuQK43DUKUdtTBLZGkwmZR0ELkTQ5CUg2HwWjegkGkRmlC6PaNwgAl4D5ks0dD9GVFwi3YZcIgzkFCSxhBwtA0lULw0QpBlmAMQu8v98KWbZdCmbl0QiQ0xkGMoydC7MVCQloOTkJMLUXCwA/LwZTt2EKYUqZB8ASHQSDjhEJ1ykXC9sGnwnrKjcLc+I5C1sTowSYaksL7ub7CwGEPwLitFcIW1LjCBM1FwttiAMLgHcfAH2xEQuW7CEKw1wZCCILUQgn9N8LZuy7CUBRcQkRl/MHetj3CeAJzwtCXkkGZV9BCsa8oQ0jQbcFKenXC4vKdQnr7lkJUC3FCqEN1whAiKcBwGhvAP0llwsBnNUK0PqNCipuHQg6ZOEOqj+7CmFJ2QvAjO0EY0MdBlK1XwjxeuMIgDdw/cKu5QEzdxEHiJjFCJHGGQrMxKcLKEMFBvf6IQhjGp8KILw9D/HdZwnCKPMHqUGnCwE7LwVp5HEIQ7x3CCBwQwjiB0UGeIcpBsOGQQZzpFsEw2nTBiNyewZBZh0JcwwzCeqg8Qvi5TcKUUy7CXM41QpKyoULbjpvCvkXTQb5Up0H0IYBCNhn1whu/ckJXtWVCYM60wd4uPEMK8QTCUGEHwfJb7EL44wvCT8xjQtiRusGBjmrC0HJywcgI8MG3z8nBfLsEwoAa8kEs9GbBkFNtwJiATEFgAGlBPLIgwly4B0OXo8RCvDqswSDpakDAjtvAOCprQZnV9EKRu7HC9EjEQUbv4kE=",
          "dtype": "f4"
         },
         "y": {
          "bdata": "2rgOQ6CfUELyN9bALNwXQ+tv4cIMQW5CIY/wQlYifUM7u+5CapuwwtciEUMwua5BgN3BP7Re7EKk291CgGZYwhDuzUKYqmBDclVHQlRJesJ6rOvB2MRlQ2GCMkMLhQXC5IQBQ48k4ELwx+lA+tCEQuhllkAuwyhCbAn1wQqRTELPOgtDYODqv6gBlsJdd7dCkFM0QM1LAEMw9YZCfHIcwhAhZ0NADHfB6GRAQ4M55EIpTSND+axLQyGFJEN2ZhRDrEAMQuL5SkJk/RRCfrFgwsCAqEKd4e5Ct/8hQ8mXKcGAlVzBuMtMweLVZ0IM8VNDNO2GwYoxTUMA9AZAfPISQxaEWUPTN9RCG+n6Qh/S2EFAKA9BkOLlwOiMrEHk37RB8GAOQ0HkIUPK+ojCkqLRQYBnIz4knQHBRf4nQ8BVv0IJk2pCSDQlQ39LTkIAwGG8oPdLwbPgaEN0UOjBJxmeQeAaWsA4DrFCm3H6QjDcBkJ/uoBCVY7XQgqUrEKSJTtDDVkIQ1vzYUPmvZfBBaIjQzLAA8KYU4VB8YyBwqJrwEITjFND80cjQ+SmH0IoJbZCrO9rQ8BFdsEQdxnBaxQHQzbBGkNsYdRCnqK3QqmP1MGVXy7Cd4RdQkxDFEPmGDhCwKNBQnIIuULn205DSr4zQhdEJUPX/+1CoGBDPwCOFD8sMetAGGnDQVRSwELTPPdCxLYjQ1w4EELIDH3AEI+6wtrJT0PgslrBikdLQxrOWUNv1ptCTag4QztSOkNAwAHACH3FwRCe10JggvRBr+xYQyLJAkOwPDTBVBxYwSTjikN30L1CVXD4Qsh+G0IIhnZCDfUvQwAViUJAUwDCX7xgQzQ0iUJII7VCCfIEwk5eXcJkOf5BiO3FQVYOykIWgW9CMfw/Qn2PlUEIRIpCqgqFwsHDLEOUhGBDmtnbQpOHMcJX0gBDGurJQjCuPUJrMLdBnoJwQTumQ0NQz5LBMHwbQXg3aUKMmpFCwIU/Q/a5RsKYMyZDlCv9QapBbEPqzFdC6HCwQdQwGUIAOr9AGOeoQpDjUUPulhJCgCHbQX+UqkLsSTHCriArQyoMQkIijFTCUGYGwtKv1EL+VDnBeKCiQGBVQEHOnfBC/WomQ0Cvwr/k+e5C4JR1QfW0SkI2I0NBU0k5Q8A9uT90oxjCLf9RQktb6kI0jqJCZ8quQhDg78D0YgRCFAMvwmynZUMIMZJDMXB6QrBkQUH4Fn1DNhKJQiAkz8GbNGtDgQGhQkAt7MEVI91CIh5GQ0yUCEPFE0NDpJNMQ0BGdUIOa5VCnDhbQkg110LKDiJDohbqQtCgG0KWSyZDU/0eQ+hF0EF2TstCAkkOwryS7kEhA05CYOk6Q/+2B0Nnc/5CHMINQocXIkM8YtJCHbroQnUIlULgtbrCFIOqQW2R6EK+GLxC8EmIQoSM2kLO/phCDEuDQr9skEKnr+RCrfs7QyYEt0LhMT5CQrQCQixgYsJM+SBDTr0UQlDIikJRMT9Czdg9Q72PQ0MAmEW+2MDTQkqukkI44IHB1FtmQqnk5EGQl/3BfD35wUvVI0M4AT7C5CACQ9UemkIGwcVCWKsrQwC7Qb9K6gtDFKwWQYgio8H0WoBDB0uhQgURKkOEP2JDalFtQ+ronkJsodVBFHQiQv5XS0OqX2xDSvdEwqtCE0Nqp2NDPsolwskXZULGacLBmIUwQ2V4DEPgiezAXiVHQ9ATGcKSaAJBnnRCQTuXQUNh5kNDHFOGwWJyDUNqs4NCqN9vQ2kRNkNJrx5D5AcnQ/DU9EKCMdtCIFokQSgj48Ht2P5CrcUJQyy7scKMAfFC/DMdQfrWBEN8v5xCaH19QvZddUJmbjJDgDpOQq4bLUM=",
          "dtype": "f4"
         },
         "z": {
          "bdata": "6k7Cwmn+OsMdnirCLeCIw5iJIcPAmwLD8PEcwxTn8sJcQCjDDDEmw2kXA8MwY7jCv4I2wwc7+MKiXZLCKDkFwwc2RcMICA7DnPUOw72TScM4CDfDAcLdwg7Q18J2KuPCCGwNw6v5wcJYydDCvcHPwsDIskAxMg3D3ivQwqXbysL7PHLDgyPuwpCBH8NcfuLCOBj1wlhmP8OWmg7DktRaw9xMz8Kww4TC7nkaw3rTF8PtzB3DGlQQwwWNGMKgfI/DJtOMwyUAH8KIivfCFibTwnIKeMKil0HDDKRHw8AWjkD84jvCh9oiwrSPj8OZHQbDxuRiwrx4/8KqXALC4XUHw6cjIcMA8AfDKNlQwz6PmcIGXnXCthfswurODcNye9fCHXKMwpxVB8MuQyfDA8Ttwnv5mcIkf5TCFC3IwnwOIsOMlYPDDJg8w8F0xMJVj1DC2rntwsQvrMJpizDDMQQkwyxRisLQ903DxskPwzAQMsHMkr/CuMZ6wxgfocIoGQrD9ORywq0bBcPwrT7BUZUVw/Qs9MKkW8zBVWBDwzTb/8LvdIHDf1UIwy7uAMPsmHbCQ053wwC00cFSEYnClBxxwgov7MLyXfbC6oIUwq34scKAP7LCAr73wrNLE8OW59fBUPOYwqWgNsNc5F/DCLimwUlb8cILC6XCNWbwwoZXRMNvk4nDGSaywmZMC8N4WobDOReCw4CaFsJfSoDD0xctw9BYs8LOHq/Bse4mw6ZWvMI+51PCGdwcw9PYWMOq6UnD1IoWw+/2JMO2CAnDick+w98fcsPPWJnCmk/twoDsQ8NW2inCzhCxwuilCMOKtcLCpZSpwmG9j8Lo/9HCkmCPwp1Y9cIsreLBOjSbwvjVLsPkmA3DMf13wt5JAsP13WfDFg/ywmC+G8Ppo3vDKK3Ywm1qiMNBRD3DXbCHwgL/7MJJDwDD9HGywpOkCsPik77CsfrAwovji8I6vgvDJjmHwcAnQ8KYP/bC2CrXwierBcOq81nDUL3qwqT1mcICFaTBDPYBw/w2K8LHdtvCXARBw4WeEsMufkTDobQxw5/Ls8L3H0jDQl43w9bq88Jc7pzCyjeOwtuVGcNIgc/CMGl9wsIxyMIv3UjDsw1Bwxte48INcV/D5vedwjOOh8JuzXDC+XM2wwigCMK9DU3D1ffiwmLotMKbzivDOyoMw9q2ucJ55knDrmMkw1oiNsPYnz3DOkD9wvBxOMPyMAjDYxs5w/xGN8PsVtTCepyDwvpFqMKxDQTD1K0UwxEP9sIyOTLD+uX0wh4BgMJR9sXCECOSwjD5/8KrWRrDAY0hw4U4/cIap+nC3augwlyHcsKI/h7DTI7ywS3lgMKLXlnDqjpywwvCCMM67Q7DCLWdwmq4h8KuffLCePsbw/S/icIXnTHD4hoxw7ouQ8O0kVrCt1NYw2A2UcMxBY3DwFymwiTOA8JsxgXDVDznwrSVaMJmXQfD9OXQwq5NLsN0avPCvA/gwtJEJsO+4+DCuMwzwwk3A8PEm6rB1jwawx5pBMN+mxjCXvhrw1hY/cFYBGzC3nhFwogJHsNgIlXDMRwGw2a/UMMsLGnCOC7nwmkTPsMgrLTCopdSwvo8JMN4UbvCCtf/wioaJMNU4FnDck9Aw1y3qcIeTWTCNUyCwuxWzsJuMzLDln8PwwiCW8Oe+iPDmFeawvCVpcGCQhDDtGELw6YkT8P6MW/CmwMcw88kT8PdnkTCv1oHw7tiTMOUZIHDBIbqwY1aWcP8FFfCbocIw1IPAsNHPB3DA18LwxVtK8M0ZRvCUC0+waylV8JOswrClC8Jw9o0HMN4Kh7D8APmwvzKFsO6pBzCMwh6w3AKK8OlTB/D8yGbwVJu+cI=",
          "dtype": "f4"
         }
        },
        {
         "marker": {
          "color": "#FF97FF",
          "line": {
           "color": "black",
           "width": 0.5
          },
          "size": 6,
          "symbol": "diamond"
         },
         "mode": "markers+text",
         "name": "Cluster 8",
         "text": [
          "C8"
         ],
         "textposition": "top center",
         "type": "scatter3d",
         "x": {
          "bdata": "zpqwQQ==",
          "dtype": "f4"
         },
         "y": {
          "bdata": "LzqbQg==",
          "dtype": "f4"
         },
         "z": {
          "bdata": "nRMBww==",
          "dtype": "f4"
         }
        },
        {
         "marker": {
          "color": "#FECB52",
          "opacity": 1,
          "size": 4
         },
         "mode": "markers",
         "name": "C9",
         "showlegend": false,
         "type": "scatter3d",
         "x": {
          "bdata": "XPjzwhbxkcPuzg7DEwqQwuLZv8LKGDLD0OKWwd7ALsPg/W9B0gV+w5XZK8KIZUzD+oi4wlGzl8JQel/DRrgvwz4maMNUoxDDdD8Vw2AHJcKmTNbC9rUqwnEvzsJdr6HCjPjNwhwuTEIVpAPDFKeaQThNXMFiYy/C2erCwh4ekMJi0UHD6EQowgjoAMPLrBrDNvYuw2Zj28Kob0zDulQIw9VnocIM4aDCbZFyw1yPCkIcTxXD26EFw9A8XMMcVzPDtRXTwpjNksOuAovDpq4Iw/6xS8OURAfD0BORwSCSn0GMUjXDJ39Aw4BWpcKJD8PCV5k3wziNecEAHye/E5ZEwx44psIGWUXCcFYqwPNMUcIm8EzC6otWwvZ4C8PvWmfCmEnzQQA3Tz+AfDrDGJwcwzhyM0HgZhfDadErw+UnPcKmgmPDr2wgwj52M8JgOG7By/9Bw/kX9MLOtYzCr5gTwg7+LMNQme7CeFoQw5DWREGNq3jCyov2whQWpcMkNEvDfqSXwqxm58J8mU5CUMXGwvaXIMOO2xDDvQChw535t8JbJAjCbAvKwopsA8Ns4YvDQ32dwlM6Z8OdGTfDr2+bwmoeQcOvsfrCWH2Lw/QlIcMHLQnDVHVQw/jZCsLKp4TCvsYuwwCf07/UXavCjK+JQmHCusIk4ErDrV0PwwB1jUJC/uLCcsmYQro11cIAy3VAI0HZwt9qtcK2d4jC/Tsiwjlpb8PRHyfDKNVLQXwAfMIrJ3fDx+6vwkcKW8OAx4DDSstfwzTFI0HfugPDbGbZwqHJ3sIXV5DCqsY9w3yQi8P3amfD2KqPw5WXNMK0ZTpBqGHhwpMdTMJP7YPCEPF0wwTLnEK2zV3D+pzWwlG3ZMNLEwTDDwR2w/cJ+8LObTzDaTDlwivRHcPU68jCzId+w1rIysKQDerBjUJew7f/G8PYoTfD1CtuwsVgAcPmqzLDhAIDwwxqFkLErOPC4zhFwyrgVcPj5Z7BJtC6Qmset8La/L7CpY/bwfv0I8LphdfC/LjwwuF8L8PdMbbCa3kkw/d9tsMAkhLBY+caw7eTOMMuppTC6ISqQexS08F0JTfCriG4wg6hl8IyxWDDS1o4wtpWe8Jz+CPD2W8Cw5ZQo0IgWifD5hiFw4jzpcIVaczCgRfYwgqLBsPfW1/CQtKowmKeCsOdwibDxYcMwwxIYMP2XdzCVnwXw/57dsPAgOzBOGoKw3hTkcJAavzC8sjawkBohEGiKADDeLkCwxasLcO6W/rCY0TzwnD6j0EESITC8nLMwvw46MJ4lPbCpautwjYdN8N2m4bCo+62wsCG+L/ybLfCP55ew1/qqMMGbNTCsnlxw8p5AcJKegLDbSwDwyngosKhMsPCv0vGwkxalcLIlzbBQO9nwoRkusHYaaDDqpRNw7R5s8IIPFHDXmKnwcgimsJ8kyXC9bX1wpzb+MKdDSLDNA5ewmZHZMOxxIvCaJJfQUrMGsMtIcbCEYjRwthBrsI9pDLDstADw2DHbcODjKLCmBNZwYqi/cIg99vB+o+Kw3KEdMPh+OjCRqYdw1iLHsNoq4vCCDbEwdfXFcMQqJbC6riQw3pTfMKQ0BLDPmkmwiASjsLNSEjCs1/fwqiRzcJMNvHCpwbtwqDm+8IsltfCwYEyw9dyG8Nazz7DAEM6w55pM8O3xhXDkgQ5wy0hS8KuswPCMGoEw5AgPMMak1bDOrsuw1qShsNqQ/rCuFeHwQbdTMMwh+/Bp7sQw/F0z8Logj5BD6wrwnaYf8OxkwnD3gHVwlbJ4MLWep7CodGvwvl1TsNcwVFCg3DRwgActsIOngjCkhvHwrXXCcO8dw7DFo9EwlTSssLdgqLCTTUnwzD/zUE=",
          "dtype": "f4"
         },
         "y": {
          "bdata": "JDYVwgOoGsKmHBNDU2gDwwn7ykGFBjdBbJJvwhHYHkIixw9CuB7qwGA56kCvlqjCoaJywlDxKEBXNehCLKZRQwCSUMKR5FHDgq77wUZvMEJ4fErClXQGwzgcCECcwUvCgIJoQo4DLcPIg83Cka2fwldawELUjw5CVHiAQszvuEKDNOVC+k6FwqjN58EazWvCofHOQlA/+sGC22LCff7mQXeKBMPgROlBdgY/QlfnPcLedqzCZkwLQwhapEKJk3JB5BDtwXPmVcLlsrNCYWn6wqrbasPIxApD3He0wt4ursKLXcJCp4iuQvBoOcLonElAfovXwW97hEGZJcXCRIeGwpNwYMGYnNlBizfhwpEB58IyoUvC+DsjQXAAq0IJHCTDMEnAwlFXOMLvuLhCPCpMwkSWCcHSB6NBkJkxQXH7s8HAiQdA2iuAwpZRIMJhbBHD/DIyQTTaNUJ40gLD+/ePQULPLcNr361CHn8XQnm3EMEyjrjCQQmsQubjMcKDcQpD0lo9Qp6mS8IZbAjCiOqtwdJtn8G/phrBYfuzQuAdBUGetQvCdF+wwV811EJaGJbCXgAgQpy9t8GVqKHCkQ3ywqFhCcMHwgXDHgarQookV0J/l7vBAlBYw2quOUK2hVdCjV/uQsbNU0I8Qd3CYNZWwgVjvUFI9mRARAh7Qt9h3MKGlKTCtNbqwraht0IaXwhCKJ/QwpnBz0LO4wxDWRPEwgShRELsu49CuqpawwXy0MKIcBzC0GdjwQRZmMJEk8jCqNC4wRUez8KP+5FCSNOuwRsnSMN+UnHD+JBDw6qayUEhxM3CnkqOwNNhQcJxtzDClF41w8UVvkJ5bAbD45WAwh5g1cLu4S7CrGZjQn/Jr8LJi7DCasBpQhoiWEG7ggHDWlD2wZ7jRMLseTzDBvprQmzzREIgVj3CDjEQwwe7T8LuiwnDWMcyQr8EMcO6UQVDpQMDQxrBh8I6JKNBw7WYQh3YukIwQdtAlu24whDIuMDbsApCvBH/wbatDEMcrbfBSaEbwtYxKEPQ8fxAgPzCv69JPMJe5qrCs2qAQWw6d8OKmyvCX6UYwRsozEHF/ifB/MiZwhxAdMJtz/lBa6Kuwkcr4EEygJdCeSoJQ6Wt2sJTmwLDClqzwQgHMkEO2pTCjBKmQqtcWsJ4nXHCZbAXwqtiBMPQb5DCaPKewYopdUGkk1BDIb3SwnYZocGTVBZCyyTuQTeqaEGlEBbCr2fpwijhCMPImM9B3LiqQmelvkI+PmPCj8mJwlD/CsIASl2+nKz2wQDa6L/Q8AhD723PwWPKE0MPURjDf3kYwkokh8JOVQfDSKLWQC3zBEJR6TRDrgKVQtbNLMKsh29BlK0wwqY7U0Jm4otA1z9bw9xFE0MEiwnDYEDkwPfc2cIVfzzBSJNfQpbjTcKq7CZDuLQywmcc1UKcwIjCdLAZQaWmtMK4DkrCeSLEQZy+B0MorsDCup95wps5k0FJ8LVB3FebQDTQWUI0m0PDQ4wQw3231kKfACHD+Jn1wmp5DsMeptpBnsq1Qp+RH0OMhZVCCFTdwS9+rUJqbzVCqfvqQnGRQMPwazLD9SiHwvs6hUKDOlHDU8IVw+qr4MFFBZfCoEBKws4KtMGTeENBtImYQqRb0cE9EhnDeN8kwrnsHMMIBLRCKsGKwjN7o0GIXiRDyhoUwn8m2UFwfQlC0Yohwwo8hsKDPepBjFJZwGU4tUItzQzD95vAwuAPTEOWbINA6/1Uwm9ZpsHI7DHDQ+g/wipL5kLx7yFCiTKMQeCXJcPg2BlC1wOtQVB8RMPAzPPCPVGmwiX25kJx90/CrSzHQjreg0JbrwVDJlaJQZGCAMOOfODB1Bktw4+I5ME=",
          "dtype": "f4"
         },
         "z": {
          "bdata": "dgZ6w+DnjcPkaczC+ccWw3uILsNddwLDWPLEwtLQL8MsC5rD7vw1w55qZsPzkDrDGywQw8iJB8P+Bj7DANhpw6pYssMmSYXDVp6Bw2fZPMN/hx/DPMJVwz55NMOurUDDRQQzw8HWg8Nvl4TDuB1Ywzb9s8NxwDPDnap/w5jjs8PUrnDD5w/lwvh0IsNu6bLDcgoGw7TGdsNRXCjDGtLDw95aXMPY5vfCxmE3wzCmn8PA3fTCHTNBw9oQOcPM1IHDXmAWw5zAHcP8VirD0BUQw24uJcP6vFjDa54Bw2ondsNwAQfDqr1Mw0cmZcOLezPDHIxGw9ZHs8MgYCzDN3kzw3Q+l8Ngsi7DLuFRw5o+fsMkeyjDifkFw1jar8OvyCjDrjaUw/JJHMNE2KjDH/8Ew67pr8PQEwrDld/iwtdcG8NihFHDrkPwwtKG4cL1RE/D3I1Hwz3fEMP+c5rDI3gWwxnro8NQ/5nDSUsiw/6eS8OHEAPDdFVKw6xpG8NNzh3DkEOFw+0ho8P//Y/DFtpyw0LAGsMeG1bDc5ccw2S9DsOcYcDCWb1bwyeihMP30xnDS7ggw5A8GcNMy5HDLsSiw5biE8Op7VjD8ZMDwzFsasMzGCTDnzNZw7N9QsM3TIvD0rH+wn3vhcMwPqbD1TKNw9gCHcMpkw3DVD8Hw2bnVcMcZT7DaEdyw8bwiMMhjXzDpPGpw00UJ8PSn5vDr6Ejw/aPWsOQZjrDQLB5w65uMMP80wPDzKRWw/dlKcOW1CLDEHh2w3AmUcMkWYTDmjhRw2M7IcMVc1zDcTAiw45kAsOMdBfDkb5Yw/GMFsMhbg7DJH9Tw8AegMOSiCDDAA9hw2znk8NoJ4DD2wFPw8k/qsMhsgXD1oqmw6QdicMYXoTDsnWhw2V4E8MuyTnDN+Mrw1NXFsOkDtPCZO0iw/CJ6sIgNxrDT3hIw3HVIMOUAOzCAg83w8wYh8M8gTbDVed9wxiuL8MBLRXDUsd5wyORhMNGLsjCWsERw+m3gMMaH/PCGsBBwymmaMPgQNTCdp/kwsbaM8O6yPzC1sCTwzfXNMOMuGLDTKVYw5jTnMM/PnTDQ7gAw54aa8OyOpnDgOiDw5RhxMO7RP3CKHpzwybWZsPZpKjDPZCtw0lNK8O6R+PCwcSkw6FSRcNYCvzCBqAnw0ISS8P+1e7CNIUOw/7PE8O02VTDbkMCwxoQg8M4tofDLPeAwyCZ98IwOwfDhWg9wyNgRMOVviDDPEZOwwurBsM7iETDzhcCw+21XMM8ICLD6jr7wriU3sJJ4QDDjA0Ww97KkMNvCILDgoYfw+U8hcOucCbDynanwzBLL8OapmXDqOVQw5St28KlXWzDVPF9w1I4RcNmdhHDEklow44ZhcPVmErD5FzVwloSVMNXNSrD6OZZw7OzEMOn4S7DE7VIw4QftcPkoyDDhEKlwzyRf8NUX7jDRvyxw57SBMPEbYHDImJSw2BwBcM8E+3CP5plw+CQ5MJKPhbDEH2yw27vK8M+f0zDanOnw/A1WcMIDTXDxFNMw17xAsMTeljD2VkXw1CaEMOeGwjDAt+Ww42LE8NA7CPDrJImw7JPhsPKYDrDDC5rw4BqgsOjkg7D6sPzwrX0GMMSHEbDPB+Aww6A88IIGyDD2JX5whcWRMOBen3DIWViw8EjUsNLNBPDCZ6Tw2K4FsMDJ2zDVfOow8CX9MIy4jfD0Akyw+KMDsM0pxTD5r6Zwyy58MJtYTfDzSkew5YIKcOyW5HD2RYVw3ioHsO4eBnDGCwSw3WvOMNsOZLDWkW2w7c3JsOEJm7Dzt8sw3P0MsNrwMzCnjCYw7C1gMM2eWXDKkJawwmsAcNF3yDDuYWfw+3dp8M=",
          "dtype": "f4"
         }
        },
        {
         "marker": {
          "color": "#FECB52",
          "line": {
           "color": "black",
           "width": 0.5
          },
          "size": 6,
          "symbol": "diamond"
         },
         "mode": "markers+text",
         "name": "Cluster 9",
         "text": [
          "C9"
         ],
         "textposition": "top center",
         "type": "scatter3d",
         "x": {
          "bdata": "EQn+wg==",
          "dtype": "f4"
         },
         "y": {
          "bdata": "owOLwQ==",
          "dtype": "f4"
         },
         "z": {
          "bdata": "lk1Oww==",
          "dtype": "f4"
         }
        }
       ],
       "frames": [
        {
         "data": [
          {
           "marker": {
            "color": "#636EFA",
            "opacity": 1,
            "size": 4
           },
           "mode": "markers",
           "showlegend": false,
           "type": "scatter3d",
           "x": {
            "bdata": "pOa6woA8xEBQGi3DyFCnwVqHQsKgnwdAVJsFwkamrUFKxJ3C5zl1wurHAMNWTqfCPEzXwl5Ti8NY6QtBeN/UwrgzZsFcG6DBY+CIwywLicP0FbpBk3kkwjZVv0IwOCjCjmMYwsiWg8OI6DbCEOtow5bvLMLPNBHBslPOwgYT+sEtsMpCB8VJw7fUzMI6XILCOKkYwWlXbsKI70LDFRVUwmY3YcNmfh/CMV0lQs4rm8Ia5L3BT4ACwnAYU8IbgX9C6B1Iw/zELMOLMkdCAEdqv2FHf8JnvX5CGJT9woyTYMOoezpBEEm2wkRMrsIdM6/CwKp/wSLqjMIT+bHBJjxEw4LZ6sIEw9DCNiT+wihA1sKUXyFBqVljw5JtpkHtRIHDYH/+wfY7VsLcsa7CdNM6w+As3UA0KQrCWTtVwn2lP8JQj5FAnEU7QQXxTsJ1swNC2XxKw/eWRcJJoKDCRoa4wnzDCcN4H19BmOmEwmAN1z9najnC3FlBwu2DfcNi7obC8HzmwNSW88KMmpZCIIx/weiHU8I0PwzDIDOewg0TEcLw2dPCojEUwsSjuMFOQyzCosTGwhCyycKm5k7DmQ+9wUi7N8LmZorCC5B9wiwLEMOepzPDbPWBwnhCqMJwUujBZDMiw0zIV8JvBEXCAK82wQiQv8JndlnDKMS7wWhZcMGpwMbC2L1FwgF6XsKujMzCbne7QlDE8sAGKePBet6hwhC6VcPIQS9ButLmwlhi1sHCrKbCNowbw7SUy8KBkkDCSWJSw4y77MI0qg/C5iK0wkatN8NsNBrBUXqOwl8El8JrRvvBmRu5QmFnJ0IyixPDFFbawnrXmsJQWYzBRAEZQjqFgsNoLd5BjJQww2AABkBSWazCQKEUQgGQBcMqAa7ClvqqQUXgE8PyGTLD7l1uwhFtk8JBFwrD6oA0wubUc8NOXpFBiIvMwSA6SMIH6HxCEIO/wuR7D8Pg+z3CnSYcw9T1CUFT+Z7BBcduw4+gsUIsM/hBamtUw8meM8Ms1xHCjJRdwvT48sJiqL3CODKDwioONMOnc4TCvMeIwm5chUEDzFLD2e48QuSIBcPAbyBC/vqfwsDOhsA80WzB+ISrwJ9opsKwkIHCIgTgwiwTUMOgq73C3BUCwyQ5ncJ1o6jC2xHEwtgjtMHznPnBrOYQwlPV3cIuUgLCTmBIwsgFX8Mgjj9A8qqswiitvcCgRq5BDphiwopKB8PvIxHDEp5lw9yQBsEEBljDJJB7w8ISp8LresrCviYUw8AbzsE5PjtC9ewPwt592kGpmWXCfQQXw4KczsLFqAbDzbR9Qj0HhMLW+0LCsH45Qgp358ImnwfD9zdKw9CCX0JBeyTDklTsQeRfh8I+8NrCWCOAwmzLaMKg+DlBPdUvwkmbr8H4muVA1hXzwvA/nUEEz+LCtZxEwyySqsLKQ5ZC0Jo9wXZMKcP8tvTCgJwFw5cqH8NT8YnCpPsTwqwtiMLlowrDdj5Tw7UtdMPqr2LCYCqSQHi5EkE4j0bDjK9awuAWC8Kmbl3DLnPAwgIhi8JUqDTCjs/KQqo7nMKKWfPCq91Iwmx8acJEKeXCxh6zQeXIO8IK7oHCzMbhwgDbEcPFNF7DoQe7wq4yQsPfnGTDz4AKQsUSm8KJ//LCoAO2QHZ9KsLaN7nBe3/swdwxeMJzU4XDGoTXwhyqLsLWz6DCSmmlwjGGJsLg/sdByRcYw0jOF0FnYF3CwOoCwehRmcBwrdPC+wEdw2FzicK3pgPD/4YAwzZlksKbda3C0vrGQVBGS8EayzfDUExbQaw/0MJ7aTTDKpgbw5aHCsIvAB/DKg5LwuSSxsHF9KLCzo10wsDBzsFSuUHDrqm7wjf0pcI=",
            "dtype": "f4"
           },
           "y": {
            "bdata": "rQ4TQ2+rrkK+oCZDVJVRQphlbkOpJ5BD/dGuQ7gpdkNIyolCUqSmQvXB5kKD/qhCseDnQg4+KUNLw25C31GZQgDbjEP8O0BDs8sPQyCcL0PB6RZDQB2QQgKLVkOCOZFCBEveQqmrG0OGuW1DTzpMQ6juE0PkScdCKZMvQzQ+MkM9KmJD3PIVQ0yHKkMvmiZDszWDQ4VzGkM7xCVDxK3kQq0WZkPY/dxC4jwaQyASRkLwT4ZCsu2MQvbXSUPCcTVD0vIRQ+jyPkNbdzhDXGSZQzcwIkPWcpBDiE6QQ4W9GEOwEL9C53QwQ9CimkLBIqlCSh1hQg4f60K8RPtCLdNMQ04zk0PGMxhDrPhaQyjmiEMC41tDlKQkQxziRkOd+xZDiA6kQ0hjf0INU3lCDiVqQ35G40J1JJ9De3kmQ4gTQEJOFoRDEnOAQ4KDXEOATztDIdHkQpr4/ULwM4tDTT1sQ69zXUNy5gJDRPOhQtmdj0Nsa61CNKh3Q0DTEEPqfjVDbouaQ2f29kKH6oZDtLfYQuj36kIfhIVDVIa8Qn8uvUL+VFhDFGGHQxIQgEPW5YVCSstgQvZkAEMSBSJD4sCwQtkmGENsSKRCOlcPQ37UEEPGkfJCWAJKQ8htmkPpdIBDUsl3Q3jW10LQZ9FCprSGQ5g4mELXhMZCxArnQluBkkMUZkBD7fypQlJ7BEPzu1ZDm1c4QzZbakNrdp1DASNFQwqEO0OgqjpDyVXMQsTDiEIOAW9Ds3aLQ7giAEP6OINCbFomQ673lkNAVSxDbiE9Q7nCCUNgcTFC7Bt1QgpXkEO+wWBDzOiIQ1Q1ikNUuYJDHsaoQkjWrkJykY9Dl+2sQw9bL0MwFDZDfujnQpgMkkPmtV5DsCH1QrhGR0O8hTZCyphvQyJP9UKl1HJD2JNuQx0GLUOlh5lDxtQDQ9IVW0M5cBtDU1qgQz03mEIO42lD1iRRQ3lVIEMiDeJCbMFUQz7VPEMwQp5DT1gIQ73ma0MfgidDY4kNQ6TUHEOZQHdCxawBQ51rQkPmd5RCdrw9Q9wOekN4IKNCjcMEQx5KkEOdLvNCUDSGQ1rOdENZdaBDvoedQjbhqEM4dV5DlPs+Q9r+ukJxdn5CBbAKQ4SgOUM2dmhDremRQzQGkEKAMY1DIXyLQ/x7NkODZfpCzr3YQtSjjUPOyvNCMa+tQ5ovHkNQl1VC21ucQ6OSM0O5re1C0VM7Qp9GJEOiiB5DEB4NQw7b9EKmN2tDFyLvQtS8WkN2IDlDOKQ4Q14RwEIwSI9Dkb69QgKm2kJaobxCGM01Q/4krkPDPAtDhv1LQ3rqaUPadktDvEvaQi/IG0NaOb1Ct+oMQz4dWUN5zoFDPewKQzAc7kKrZnlDtetlQ8ByHEM9WBZDTJWIQxJ5GkMxNxBD8XcYQxwvx0KQ11pDl4MVQ9NU90JEFTRDfmqfQ1JHEkPQuYVD1fOSQpF4E0My4sJCVv9FQ1T4jkM0DmdDf8tkQ5r3+EKJKmdDnFJ7QhO1jUNNqDJDLMoDQ/xWkEMLODpDhdQRQ4z9+0LR/P5C7umBQ3IfgkNeXJZCAnXnQqXXi0M0xKhCZUjRQuxVk0LhdSVDfyJXQ1UbikKsmSlD+BGQQ1JEi0Py3clCDraIQ2ajQENd1hZD71GAQ4vxikPqaYZCE4EhQ77TTENaHSNDDDo5Q3T0Y0OEQSNDWgtYQ2tpfENVx8NCNjXpQjSjGkPiLwBDtxOoQ0Lf5UKmGnpDiKMyQ9vIS0NoiR1D7PQxQxbrm0JVsY1DoqCCQqdjP0PM4CxDpURFQyodq0OaAUxDUqH3QhbCQUOWjkJDQC0VQhSyQUIdudxCXwIgQzf1OkPyhSVD7V0GQ7qDA0M=",
            "dtype": "f4"
           },
           "z": {
            "bdata": "zrTKQSCB20DCtJRCuFNTQqoZv0KyrhTBJuPcQtvogEKwDw5BvG8tQaoLVMJEpSBC97ycwT9pg0J9zWpCwDXLQRRFJ0Ff+55CZPhzQoDM1cAgNu9CKMYMQWRcCkO4d3tCIPYJQXIJxUJpguRCTKOBwZCqHcGVlF5CTgkAQmXI5kIOWORCH46SQmh1gsAiJPBCOFTXwajijEFC3AxCMu2+QSzL6MKQ+rvBmsXRQhDpEEJgQpNA3lGNQmprP8IATAlDl3zOQeQpx8FqqCxCUMBlwZLDLkJEZARDZuaswkDdwEB44KpBtnoQQgAKXMFUIg5CnKugQaO7r0IE6WFCnoLVQvoYKEMzdQ7CcnHAQvMYG0P8lyrCjivtQkva5EKo30RBfOUTQvC9cEEcvwVBhAvpQrBhdELUlUVCKk+GQTkRW8FGr55BvNYEQhifUEFwf0FCcCC2Qta/BkKUCv1CwDAfP4TjEsJYBEtBoIYYQCeXiEJotPpBM8kaQ0alqUExTLxCPmY1wrB/08A+4NlC5g+GwcDr6kDD9aJCbAmvQYAya0BgYeZAEDQNwKr3CkMnr0JCo+k4QnP++kGw5PRBql98QmLEGcIeZ0tCIEoaQtAnF0GHGKFC2laHwkxv38FD0hdDlF0LwkQDpEJUJIBCI8yUwVgU2kC0OE1C86+eQjHfqsL47fZCYGeIQpiECcI4FwNDAnwNQ4DeJEEUQkPCl2OOQpxCA0Kf35LBrPMTQhjPPkJx1rpC9CDsQuBt5ECsLG5BgePQQphUhcGv+gXCqCP5QNDRFEGw++lB++AbQmKlC0IzOWxCQAyrQjjzEEFKFOFC4PvYwCYofEJs72pCfK5ewQgLucCsuZlB+EGGQagypUKwr1RB9CqrQgD2sECID71BWuD9Qph9EUGrc0LCkBvhwOtOg8IMCZ3BPYszQkSk7MEnZK1C2B+JQOD/SUGLd9JCgmyUwgAO90Gpk25Cp+/dQjpsV0JMpkvCBF6BQthEv0KqXrZBGWN3QkDxqsGoyJTAR7GIQuDKmUIgbH3BdJq9QlZdMEKOYC5CL+GdQsHXnEIcp7lBctGbQmDpOEBgVi5BFqZGwePvz0KoiDjCpVreQpL62cF4a6RBbEIuQgQav8KYABtCoOAJQ3hgw0EmjbXC9BNiQhL7yEI8G1RCrI2SwSNDisJes1ZC3ux6QracSkKL40ZCwjICQxorakICS4FCrIQkQaTImcEEiYzCpkXVQjCISMEQI3XC5NKDQsR+OkKTUorCqLPUQuBOJULg3NJCgBxCQSPXmEJuIorAnVXIQvD4EEHCHRBCKn4DQ7TjMEIYeVvCC/SlQmfGi8LQbMFBwOxTQUqrFUOdWZ5C1MCuQnCTIMIgkCzAaPU6wkwFw0G8fDVCxgLgQYYaHsI9sS5C8KunQK6CM0JbOJZCFvnQQpAaOUIo4PVCAJRPQXZpHkKH3G5CKgQ+Qp4BgcLQ8YtBMuSBQuBVzEKMYzdCkJzZQp7lqkLgksRAHhIbQvaNDcEcQc5BHq2cQuD9jL9w3mPBoBofQf7PCkKz+k1C71gdQ/SeKsL8n9tBIpMOQkIbxcIu8zfB6WJpQhzEgsESgJ5BgJSfwpTBU0LvgqhCp2PzQsrPskJUT2xCCe3VQnAAH0L74q3C3OxcQhBbq8LCriJCABHzQBemuUJShYdCHSmdwjw+YUGYtKFB1H+cwWkf0ULa/Q1CnjxtQmJaHEKDRIJCIaXvQmR0X0I45UXBJH7sQiCH5ME2e2PC9iEawiGNaUJds2FC4CdBQnjy9EFSN9XBmeamQrCWZMGjXZpCpHiIQgcmikIgKo5BWA3YQUA+r0BInLVCMD6HQngkPULCpDZCcm5aQjQ2RkE=",
            "dtype": "f4"
           }
          },
          {
           "marker": {
            "color": "#636EFA",
            "line": {
             "color": "black",
             "width": 0.5
            },
            "size": 6,
            "symbol": "diamond"
           },
           "mode": "markers+text",
           "name": "Cluster 0",
           "text": [
            "C0"
           ],
           "textposition": "top center",
           "type": "scatter3d",
           "x": {
            "bdata": "+yObwg==",
            "dtype": "f4"
           },
           "y": {
            "bdata": "DLQtQw==",
            "dtype": "f4"
           },
           "z": {
            "bdata": "cHsdQg==",
            "dtype": "f4"
           }
          },
          {
           "marker": {
            "color": "#EF553B",
            "opacity": 1,
            "size": 4
           },
           "mode": "markers",
           "showlegend": false,
           "type": "scatter3d",
           "x": {
            "bdata": "DGsfw5RmVcHPgBrDuAZKw6ujdEKgaaZBohbBwvB4Q8K24pxCYBjhQiCP2cCeQLLCjIJswqXrfsJWUk7CESNwwjqqtMI2jAfC2C20QJlrckL7agrDYCUQwDTM+0EQUMfAH+ULw0qy5kL7MJ3C22aBw9iVz8LU+m1C9DvXwiz6ukKoWoXCO3WJQqfAfMMG4oLDn9uBwlJjrULMeHrCE4Uaw9JV/UE58aTCA26AwxlOCMPwuvTACXoBw/D598IQBVjCcDlJw4l3LMK61OFBT53owjkPD8NUUBBDMr3/QiXofsNG9lzDJmeMwspS2MIbRXZCiJGewMqPjEIyD8fBc/mRwlOCDsNaj4JCBlpFQgvhD8Nlj3HDfue+wpwSHsIoUonBVoJmQlrS/0G+r5dBvXUOw9L28cH3zgdC4rapQlAX9UA8SyBDRK4WwcA6PsEoZDPB0WMsw/LEtULJ2IzCfj4Qw9zFdMH9RMzCkGz7QjpAk8IslfvCGicBw/VoKMPuLlrCHPZtwmtyGUIhHxLD0zk/w/yfocI9d3rCAN2mvwAV0r7cyi3DDAKPw1xUqkJq6pdBImZeQiPCa8Jc3mbD8qshQsd7FUMrpQfCen/+wuJylkKA/AXDLB4QwkyI2UKgsYJCAGS/wLFoJ0Kk3AvDTuFww4yVXUEb+0FC5WANQ4WugcPdmCVCfCBnw+HSIsNczKXChSwPw1aeiMJK5mvC4c9VQgkGysJzFWjD1kMVw5jSV8JeFUjCmoIzw8gYrkGT81lCXyrYwgAS40B8P8JCc7oHwzF5U8PjUF3C+vETw5PfCkLwEaJCIPMsQExiGMHtWGjC9FhQwxDhQUIEU99CEJn4QYr7YcKOw0XDjMcJw0ucQ8OgxzFB70syw2C+y8Idxw7DR3I5w+ZbR8O65bzCwSwhw9THUcIyBIdCVMGXQiOLAkNVwtjCwEDiQOwbEsKCMFnDSVHmwfMYRsNou0ZC54gJwxxmHcNXRKBCOoVLw1mEBMIDtpnB5GQjwxcBqMGIJrnC/m6GwkDrrcAyVf9B4RMEw8dsncFAdtrCI6sawx2YJsNg26/CrLpbw5FCY0LQW0TCSN6/wJdOfEJO03jCVc0ow01vD8McbejCVaDcwdMYE8N6kJ3CPUKtwRO6P8Nr7h1CWsirwrLQBEN4Wo1CvPOOQVUQDsOXsQtCnqkzwuOWFsMWp7/C4Gs/wReiasPjZLdCYC1BQXRXlkJACr3AmsT0wowQL8MB1zFCUwcIw9m+SELyVdnCkDfJwbEHmMKRDMvCkCL0wI7yxsGccj/CDtASw0CvVMNATY7AYjC8QogqQMI3CV1Cra/vwj2eg8Iq49pB7ssvw1JkOUJyV9XCq+hBw3be4EKeEvHCXaWmQqA4kEHp/x9CMES3wEriosK469ZCx+JrQjddKMMt5arCQvcawnuhEMJw1zXCEJAIwX6Iw8LGuYDD8l7HwoCeA8NPFTdC4CA3wyflQEIqF7VBSrBywyWmVULR+6jCYMocwN7siMKFDkbCpJc1wvoL48L8IP9B+pyLwRjBscLAaRs/ivDwwm1OPkKibxTD56G+wW4EuMLafsZCJJHCwuoZ00FZSn/DnGjEQvmZ8MLSuWfDz85Hw2FnIcOSJZdBLY28QgTlK8GWhkXDNiCSQVsOYMNujhbCEmgMwlAumEJwRqhC+j0fwyAN78KAOUFBnH31wrQ1KcNkEwDDAmHBwoJUlEFMAUvCh11Yw+IUDUPYYvXBbwNgwvS/v8LcfgXDcj2owh6Q9UH2Z5bBalF2wrE/EcPgKOtA3NL5wpnYBsPVtbHCOdaHwTSIikKk5oZCC0r0wSKiLsLKCYHCoTMwwxTlm8GdxzpC/3SQw/jeCMI=",
            "dtype": "f4"
           },
           "y": {
            "bdata": "Ho2tQqt8j0L77T5DHoj3QgfHakMiQrpCypcHQ1MdUkL90xZDuTtYQyNz9kJIRShDCpPgQhy1QkMu3d1CjAXFQivBjkI/NcZC3jE2Q23JJ0M77CtDHpXFQoQdGUOMFgtDuJ+zQunryULkQdFCEiROQqpQU0KLchBDW/QGQ1cFWEMy2C9DDJ+kQhjJu0KMl3tCAMhEQj9ltEI9+1hDjGivQm4TQEMXx1xDMvIvQ+RgOkMr1RhDkwECQ9bgxEIkamZCNEgrQ1vegEOlQitDPOC8QrpYDUOoWSZD7GH0Ql8x0EKLDh5DdtKeQuDrX0PriRlDzLxCQ5cDCUOWGexC+I/lQukSLUO0E2dDxikrQpw6B0O5Dy9DSOG8Qk16KEI8cw5DEnS0Qn7QxEL+GjRDR7VDQz1bmkLjBDtDBBh1Q7zCD0JtMO1CgUvIQsqMxkLfJ+VC6+sxQwyV8UI/W4BCBqi4Qv5hLkMiKpdCBGvaQud6hkP9iNRCYZk/QqOnokKdJDZDcszhQubS80LgGP1CvHUsQ1BXdULdRbhCHgDkQtksZUKxe8BCDt5nQrXUpEIIiN9CufSWQq1lzkK1zKtCpqK8QmZH/kKjsYJDaNZVQ5jPBkOAJZBCgH9xQpbPc0O/SR9D/DAnQ5kXZEMHVwNDEynfQvEY2EJ2lndDenX3Qt4pukJ4Ke5Cus6BQgR2CEPcS15C0atrQx7Ko0JmLt9Coh0ZQ8huOUKCX+NCNLzzQjXWmELKB8FCbNmIQk4/6kKgmORCNDeCQkmqeULPEUxD6EWFQ5CQRUP7fs1CGhQYQyd4vEImTx1DZPmIQ+0pH0PnsYtCBGcLQ+j53ELzkBZDnI6XQlRAKUOIZ21Cc6eWQiJXEENObLJCSkTxQlY/DkOrP99CTYnhQlN9SkIpHVpDYM9BQ1UR5UIwIgVDlrJBQopwq0IR6UVDl1SVQgo8DEN0vBVDj3VjQhIvZUIPFBtDvoxvQ+hGcUNu2ZdCkGeNQhAelkKepiBDVHKtQrBGPUI02zxDQMONQl1A5UJYRv9CjMsNQ6naMkOwrGVClfslQ47KD0NkxsJCDG3bQgHcFENaelVDeE2vQnufR0PUpFlCPJ4fQ7JZhULWBIhC5Q8iQzbREEO8b/1CU5iNQig870JQFF1DMzA0Q5jNSkN6XLpC92TUQhbZ70Kh13xC1MVUQmT8NEL6J4lC7Op0Qpt/MkJqBaxCHDBEQ2Bu/kJmKtBCYu/BQqKWRUMu6tVCrBH1QhhE20I78jVDJtOWQj0p9kIkfC5CxX1cQpM+l0KlUrRCkza3Qte2wULc7MhCAHeGQj+OC0Prvr5CrDVUQjwveUIslrtCjzycQsqdqEIo8k9CMvALQ0t7OkOyC6dCeJTAQkzHmELz4hRDwoG4QtRiJELA5/BCNK1HQ2HLLUN6QQRD4Dy4QqrnHkKwswpCL9rjQvicCkKxoN9CWv8MQ0x0S0PlQUFDs9AJQ5oW10I9f3FD3uQAQ2wpNEMUV3FCIcEYQ17flUL+N/FCynvsQvZo9UJ09rxCti8JQyHZD0N0LM1CM4gNQy/OPEOMUStCcbAyQw/nf0MOYhdDx/EtQ4lnBENkIK1CaKAnQ1ImwUIgpqtCZNC0QkJI80LKmj1DhfKoQkwS7UJDIcFCovm9QuKzoEJJOi1DcO5JQgImJUMHd8RCHO9xQpwHA0P6gq5CWdOBQhzkzUJKxMRCeV5OQj1hcEObl29CaDwCQ4YE30IgnM5C45uTQtYmNEKJJiZDgZJLQ0C3K0MoGW5D5+2FQxcJGkP1ujBDrt20QqBEZ0Jc6j5Chp/7Qp8BSkOwGV1Dt5L2QoRwmEI9TKhCFgGuQrdHHkM2ZTVD9YnpQi7rS0M=",
            "dtype": "f4"
           },
           "z": {
            "bdata": "kP4KQ/qrEkNiVXFDEnWHQwtbTkOPDwBDftsQQ8h1mUJ0OIhDw9IpQzskAENK4EJDUhpxQzVRS0PjM/5CzlTHQlofHENzGB5DbvVxQ9tGSUOyrlJDZuoJQy73FENa0jND+6Y8Q5ZbMEOIezRDQDoMQ8zm4UL/dRJDR4sbQ792YEOeexBDJAnAQinxHEPYqf5CIoLAQhn4BUPIv1xD2qcDQ5bEh0NdkVpDcEc0Q64XY0O8O5ND8NBzQ8yygUMTKgVD9pJtQ4GFRkMqrRpDkFUuQxCBL0NDhDxDJfg6QzSuWEOKESFDONyzQneVeENlKapDx9+JQ6WI5ELgJelCfF0vQx2vNkPW1itD9iu2Qu9iakMdeytDqWX6QtSYlEL/mThDaA0xQwdTvkJ90Y5D2qpKQ2SEDUPYP3BDIO1NQyCTk0I5t0BDaM8BQyNzXkNQCN9C7Pl1QydYJUNA8I1Cb3lkQ1R/gUNkJg9DDrgnQ0/nTUPdPBxDjJe4QjL/z0JTEIlDV/LwQkBpV0NK4YRDoGFiQ+HwrkLtrcJC3tCKQz7C20Kf0CVDZ54EQ7qPCUPEhXpDl7cnQ0YlRUM8MrpCksTwQiQ1gkNkKHxDnOosQ+lMREP91aJCtLYXQ0XLQkNb3hFDdsQzQ8TkeUOzQQpDDNz/Qh2kR0PjHTxDhuo1Q+PtOUNHIVtDxqnWQl+8LENQKcpC02IxQ27P9EIwVS1D2chsQ3wx7EIX4jxDOsinQ3NOLEPVi71CDeeoQgC290JS2pRDuzj8QkLTAkNRoBpDU7ZcQ7+gZEMM+cFCSVJnQ5TV0EKPlZ5DeRlvQ2zjjkOwZTNDrFtoQxdqAkPALJtDeiPRQtD3TEN2frVCIJzvQiKUjkPQNtNCyngXQ355pkOFOFFDFhQTQ9gmvkLLJXhDdL6TQ1Q2y0K5/zRDGSDMQl0ySEM2QaFDFlbsQts2BUMtewBDs8nNQuBXC0OTshVDrT6FQwsahUNelQRDHig4Q/qprUKezhFD6GkaQ5KT10JaQpdDKgH2QoK5AkPgX5JD3U86QwKuNkMabJpCFPyNQ6oehEMZtiFDlkBgQ0wuCUPa02lDMNxIQ583hEMMPtJCPK1ZQ0+p9kI2GSZDqy5NQ2ylb0OWHFVDGaPTQvyYoEP/fjNDNP2LQ/RjRkPdVEJD4JgOQ+CPG0NNwphCSK+3QrJuzULSZBxDwQ/0QpbF4EISBkBDcaOlQ8CImkMT4vhCimYmQzVTXkMmSTBD9GD6QjJJ7kIJW1BD3H8OQ+ZmAEMky5lCfEnWQunvNUMRqa5CPLHxQqJpB0NoM4RDvggDQy0sFENGzQVDnkC4Qro900LAlBpDRozlQgpaNUMmeoVCKlL7QmTIXEPi5tJCR5MAQ6fANENmHHlDeJ0IQ4VlakJzFhxDTjxfQ/ryDkPMbAZDjKgCQ2illkLr91FC1gsaQ4J+i0JQvQtDHw0bQydHfUMMuaFDGSN+Q7g5OEM04YtDNeo/Q50NjUN0cq5CJNudQ74YJ0OwZS5DclHvQgKmUEOGOMlCCB4EQ9x5K0ODsPNCth8lQ1IcjkOPcqRC1Eo3Q3xpgkPnoKJDRKKgQ5KWXkNlT0BDVAw1Q3SjH0NQ0ylDVkn5Qr6p70KU/E1DFooIQ5OqPEOuDfdCMm3dQhEtGEMTrC9Dw1GwQvQSE0O+eFZD/6sKQ8bYEkPG80tDcIMEQ4yu+EIM3hJDgr7xQmdTb0OYFhVDKpcyQ+4ifUPYrShDji3YQo5lyUJSVK5DltklQzqgRkMZ1YxDRYWBQ0KXBUP+g5ZDXD3KQmJrGEMxem1CFi73Qq+BlkOLl2dDwsHjQlRbREMOqiVDh+UpQ5A8uEPqk4NDftHMQiHiJEM=",
            "dtype": "f4"
           }
          },
          {
           "marker": {
            "color": "#EF553B",
            "line": {
             "color": "black",
             "width": 0.5
            },
            "size": 6,
            "symbol": "diamond"
           },
           "mode": "markers+text",
           "name": "Cluster 1",
           "text": [
            "C1"
           ],
           "textposition": "top center",
           "type": "scatter3d",
           "x": {
            "bdata": "ivRowg==",
            "dtype": "f4"
           },
           "y": {
            "bdata": "d4H+Qg==",
            "dtype": "f4"
           },
           "z": {
            "bdata": "hjMvQw==",
            "dtype": "f4"
           }
          },
          {
           "marker": {
            "color": "#00CC96",
            "opacity": 1,
            "size": 4
           },
           "mode": "markers",
           "showlegend": false,
           "type": "scatter3d",
           "x": {
            "bdata": "+1DGwfGlWMMsuqfCWIlVw/p3ocLst0rDfkJ/wiw9MUIFv6nB/lcKwyaCgMISkgLCFE7cQftVPMPtyJLB4arAQh4VjkEApT5AVtKlQnmFkMJCCq7CHsxswgwgiUFgDKRC53OywWXOJcNCZJHCSMSrwrYeRMIZEDPCIP2IQIh+gsMB6Q7D3I9Zw4G2LMMAk+7A0NkBw4F8MMKC0/XC4WfMwlBriMNLDxxCfR9nQmz+jkLE41TCp14KwwAMj8JGdfDCLWDYwYJkoMIvLx7DlIDLQgxtG8GVPljC/OFQw7pwh0LCDojDaPaews7CikG0HqbCRYcww8gJwMIhUdhCqu3Own9YJUKQ003D0o1PwvRt30JMJDvDWdJ1QjgsQsKWhpdBcKMAwxY6ScI7hiHDxj8Awu7gysL1iT1CsgV1w4LQQMO2I/tBBkm6wkRKo8G4DhfCkdDswha1B8JuddfBMI8hwOTBZcEZQPFCGNV4wi59IMMMRErCZrXqwU8nCMOuR7XC2Gn2QNzQhcHfn1vDnByLQiTn8ULNjiJCSgORQSYMq8KPmETDUJBVwWb0H8EUpBjDzZcBwy9QAkLDyHtC8s3pQUEDQcIdx5lCoCYLQltjAEJHJZ/CQrtCQszFHkLupozCy8otwlTiC8P20I7Cyh7hwksd28JwjEZBkNcEwxRcCcOOOdDBQCnwwmT+H0KiWeLCkrkqwy12yMGYmaXBYzuAQljQLUFk2eTCacxkwxy378I0MjvC4rQvwpDXBcK2OeTCbk4QQtS4ikJIBoBBLmcowgoJzcI2PzTDXhyMwnTRxMLgFdfBkBXNQtZujsJ224NB0egtwve7EcOkhgzDWrMdw2wzNMMkBZbCBaUdwphx8cFcyhDDDlv7wpWfhsI4QUnDpP2AQjaticKLPHnCzaiHQgfSJMNAA/dAnSB9QviC1sCQFtfBLapFw6vmP0IUK1DDNDUCwoQugsL0p+bCxXoXw0iwHsMgO2HC4uroQtpB/0J3KlrCW108wrv0HcLppovBe/sHQqMeh8JrL4fC5GAoQQBDML80n+nC1OX1wj6nRcNQxhXCjIUVwohZDEGxECfDNWNxQn49rcIQoFlAcHWPQdm0ZsIPnj7DrqHUwggtE8K42wNCLnyOwgcAdMI/pWlC5NcZw9X+5cImAx/D/S4nwsr7q8LsZJnCrMRtQUTd18LUNtvCvOemQtCslUALZZfCF8uQwsLEgkLiTTnDn3rawjHjEsJwf2BB2A4awbGBPMO+BznCsSPFQqx3osHM6qXBRO9Zw8jOL8MgpmDDE52VwnjO0MLXpmHDy+qnwghEGsMB4gRCatiHQegveEHmo+lB3Dgpw4wgy8LcelfDawAgQj7OlcEuy7ZB7I3UwoqZ3MKI+THCjRMhwxidZsNzHlBCMBdBwX/ShEJeLNPC/Ltywm5omEEBFmjDZ0aXwQ+HE0IY2j7CGEWwwF+vI8KATpE/YqvQQYpDhMHHHZXBf8kPw0/IA8M2ICTCiNpmQlJodMKEWK5CkQ9+wwZU88IUNe5CJOWkwn8CgMJjC0LBWZ93w60/PMLpEM7Cu+gCQ8BpusLur6RCD9wow4Ac+D/oVQrDCGcmw49PM0NoLghCIPW2QtSEMcOUE6HCUMM0wjzaP8PcFvtC+/YwQhXhEMNjCBrDAaOeQtiY10H4OqjAGSIew10qEcHFwL5Cfkp9wWExPsMQVolA438iw2Ue1ULJMYPCLtsgw9Jbl8JkhxvDGvDmQt3aMMJtbwbDbmsFw47AjkHYqU9BDAM+wtnCu8IG71hCpwfcwrxeh0JqO4vCiAqbQRj4P8IW0fpCXxPNQljdBsPczpHCmjBbwlJPz0FfHMJCiiyoQtxCOsM=",
            "dtype": "f4"
           },
           "y": {
            "bdata": "CEnUQswoF0IgsHDBEfZmwlj6TMEk/aZB3An0wfgsjEIVdWZCgBX+QdoJQEIcbXlCYM/QwVk9FUIt9IFCwG7dvz+vV8LadaFByCckQghmwEAkyZJCL6QcwsgVOUGjehzCCCgYQio0tcK4PlvBXDB/QUBsTr8AJxq/vR1fQnAlpsG64J9CdbkOwuTADULtGeZBAA9cQIi1skEY9fxBPB1UQpB3T0KMnoJC4jcYwtR3zcGNbBTCMVlsQgC0w0GKXsrCytJOQkB+e0EE5BZCZwCyQhYCTEKwApBAuK8WwjtIAsJcqOBBmz0BwqLgRkL9GDxCgKzbvjBYsUFgGnrBfGDNwVo16EEAUBQ95qoAQp9VUkJmihdCQLWJQeDFK8CwfYxBVzdOQnrLP8L3cLhCj34DwgD75D/gCurAwHWQwoFOMcJQ8/vAsOISQaXxHcLK5yxCUIUiwdTjU8LwU1NBINStQB97YcIc9rHBdjsswtW7X0IF6tJBjFVvwiC5YkIe9QRDpf10QjDOP8Ev3gFCoIIAwo4OuEJODxZC4PvmQAi+J0FcbPpBnOK6wQBj8b8eU4vCLF0fws5JNELYmBlC+Wr0QayAx0GEie/B2+YSQmz200FsFYVB2N30weAHGEJgxCRB6hkqwricVsHlsVpCNBnzwX6ri8J+iypCdrG+wSBbwkFCIJzBGoylQqAE9EF7kkLCwa2fQhLtk8LwinVByDeIQkAbrsD4NDNBBq1tQgUkNUL8tdtCPvbRwaBJ18HA+g6/kKPaQNBMl0IEjpDCVjP2wU2IGMJHBx1CkHWqQQAwMMFgA0lB5UOPQoDaUj8U7NPBrm7OwRgA1cH2+ppCwJgFvx7GicGAj3lAlG+RQuH5AsGCCYdC3tfeQkL7GkLm8YxB0GeewUItBcL4aWlC8JHlQazh3UH+WITBtMMZQnfGfcJoXKjBOiGjwsarpkKUEWxC3+6YQtAGy0KI5iVB7ACrwThFD0Gm1jjCCJzAwXU5RsIwPCRBXyoEwqTz+kH6+ZfBCm9QQhpG68Cg3cXAePGaQWo8hULqTpfCOFHCwjwZWkH2vohCZNF7weiOOkKgcn5CH9g2wuKursK3AzpCGjR7wrhbC0F3zQ9C6sGlQcFAIEL4GX9CoPIOQvV2p0HYXeRA0eZtwmCeEsLaG8bBnMuhQbBmzcFUkpnBQpSRQmCd1cGiMcvB8JdCQKj9f0JRKmBCU4xAQvFpDsLYIk5B/SU9QjY/TkIYEazBqkGKQpReh0IgSDZBQCeGwWYVYkKQ4jdBAGG7v662qcHy6BRC6IWUwZXBYMJ43MJAFJtEQmCUs79wmOnAJC+pwthnrUHbfFdCOpYRwvD6UsHWW6vBK61fQuLMVMIMKF7B17RBwtHPBsKOvxlCdESCwUxMDcJA98RCW+EWwrBuXEF9uxnCsnt/QgB65j/AdH/BGw6OQkW/G8I04eBBB3sKwhj+DEFER8xBRKGVQQDQHb3AtFVCjLZUQkpJoMIEqZfBuLGbQUAoWUJfmTVCVKIqQty888HIzLtAqLXoQIALpr9otlbBYOjwQIBXDcAEzOrBkARbQewhz0EYQKtCa5QhwlA/tEEMmS7CHAAhwreGrUJMXAVCfNOyQhRMgEL5tbVBxmOKQpTPA0JOrKXBhFyDQsDgGb8k+WpC1LhFQkDQRUBakMVCQMKMP2AR4UEwuXBCIJw/QF6D8cFSVgBCWdQLwsP0pcLYEexAc4xIwujv+0CIvnNBAIvQQqLCxcKYFrhBSPpPwSVoVELbwZNC1XUnwniPx0EgWRVAVrPOwWjLvEJ/FRVCqJNPwcAEN8KUePJB3WlUwjhMcMJoFBbC/AGUQUDU1T+Acvy/RC0gQkg+qEE=",
            "dtype": "f4"
           },
           "z": {
            "bdata": "ddepQ6ItVkNqPDxDpMhEQyN2v0ISnzpD6jdAQ3pGPENYG3RDqRXGQjnwVkMZMHxDxK8OQx+KmUMXyqFDIRoVQ+y6UkMjl4VDZmIlQ14bSEOUor9DrvCWQyYbU0KP0I9DTrTpQjgdjEP274RC0yqwQiNtx0OGLqBC54AeQz6tIEOiTWhDJJxeQ2z61ELSW+NCfd2MQ7/mnEL6xKVD9HNlQ/TqZUOSYXVDOV9ZQ2Rr+0LEWpVDSFgjQ3EOYkOdh51D/DwkQ1V3JUOY+S1Dm2dvQz+i/UKooF9DaCdoQ17dEkOZ5glDCIziQvuut0MDyRFDwGIMQ4y9I0PEB2JDLEXXQvo3jkOaGXRDrjb8QhLPc0NnefpCZDe0QlaG7ULiiYtCYKFiQ8DsCEMk0ZtDJE1KQ9YDpULMn5pD1KpjQ4wlRUNuSWdDbGyLQ8CErkNeCBhD6JjAQlXjJEM3nkpD88rWQiWBh0MsRThDC0NjQ6WOM0M/V59D6Lp8QzHlhUOUhcJDfuMcQ9/JbEPS/nZDeU2DQ4orj0MXDB5DwIeDQ2pqCkMw2GhD9IMYQ4+XOkMw4FFDeqQCQ3lWjkNEjm5DGJIZQ3qJCkN8CCdD1tqmQmKDw0IBh5JCdU//QmizIUMGo6dCFs+WQ9AGw0K8Il9DdQxMQ/3bPEOoW5BDdiWcQ5HD6kLldMRD/oOiQ04Ms0J+mUFDQomWQ+B4gEOhPahDpXkrQ2B4mEK6TYhCenExQ+l/J0P0c5VDhqgxQ+EKokLUdrFCMzgsQ5Q/QUPNmK1Drn0sQ3QlUEMCTaZDB/ojQx4xOEOVkQZDmo9IQ0R6IUMSyh5D+E2SQ1QSE0OURGlDv6cNQzIR/0IqURhDnh56QxxRT0L6N31Dyj6ZQ9HLE0NzXwhDQOMkQ3rH20J3/ZRDcO3JQmL/CkPwZMFDFskcQ3Tnt0PkSwxD0rxOQ0ONtUN82JlDwB1kQwaUukNawc1C0VIUQ+Q1GUNzLKBD/ojlQm41TkO7kgJDKMqMQ1uCE0MspaxDiuEFQ1Kq4kKavjlD7+NGQzXWRUOSDn5DroSPQ+sZQ0MFSkJDoLpFQwxdh0MuZbNDZGo/Q6oDkUPwiS9DFJdMQ8Zq7EKY7W1DvSdWQ54FGUNGXIFDdjUKQzDQkkKg+Y5DP8mLQ6P7A0MFaJND1faKQoaR60I9HT1DJ8l0Q9H8D0NA1mtDSro1Qx7cxkMUIEFDW1H/QsheokOXStpCcHG5Q/tMikOc2tVCtCahQ1LrdUON6GdDNNfkQuZzYUNLTTtCOQybQ1KXcEOd31lD8NeBQ0afd0OKiCtDq6UBQ4pnR0P4pE5D/LibQ4QwLUMvZiJDXijVQuEtJ0N6cUtDhcZOQ+FeOENxZCpDTIJcQ9zfKEMgNBpDmsEaQ5RkIkOkmqdDyjt3Q1M5bEMfTT9DIMksQ7qZgEMC6R5DMjGxQ5sdmEPvt+VChf6MQyicTENOcphCiIdxQpvCBEPFKmND0S9AQ5lul0Ob29tCsh8VQxp/pEP/r1hDxURUQ65iykI+/nlDwEFVQ872tkKgC+BCIIpaQ0UoO0OiwcBCbHMkQ+pN5kInYo5DVumcQzDFFUPxXWJD8VtvQ5oofkOtsGpDjoR5QzLno0MU/uxCmS1BQwvxOkPivB1D22aaQ89EHkMdTThDjlHmQue3YELELoZDMeQCQxY/i0JJFx9Dhrd9QmV2DkP/OB5DIdcIQ82rhUM51VND3UgXQx9rVkPOyMtCeFaOQ8dCrEN4kL5DFmI6Q3X4P0Ms4JJDBtmTQ5IskkKq8ZxCpWVhQ2gknEO4oy9DMNUWQ58pAkOLqSBDjcyFQ8T9PENFHQRDCs0aQ5M5E0O60QNDCNpHQ9KnG0M=",
            "dtype": "f4"
           }
          },
          {
           "marker": {
            "color": "#00CC96",
            "line": {
             "color": "black",
             "width": 0.5
            },
            "size": 6,
            "symbol": "diamond"
           },
           "mode": "markers+text",
           "name": "Cluster 2",
           "text": [
            "C2"
           ],
           "textposition": "top center",
           "type": "scatter3d",
           "x": {
            "bdata": "YEFBwg==",
            "dtype": "f4"
           },
           "y": {
            "bdata": "TfnWQA==",
            "dtype": "f4"
           },
           "z": {
            "bdata": "y4pGQw==",
            "dtype": "f4"
           }
          },
          {
           "marker": {
            "color": "#AB63FA",
            "opacity": 1,
            "size": 4
           },
           "mode": "markers",
           "showlegend": false,
           "type": "scatter3d",
           "x": {
            "bdata": "yHquQfHT1MIj9gHBODtCwpSoS8M2mXJC3VEUwhCRMsGQKQNDqNIeQ6m77cIwMjrDcpwmwv8gKEIVbJZCkDbBQZurK0OonF3Czgo7wsAp60I/oIVCmeAxQtvCwcJEcSVDqMUKQgUmBkLKKkpCP8UNQ0YLGMPqwirDAIuEviD8IkK4aRRDIAUzwjaLCkJmopRCnmXIwjgK8sKpGazBhJgPQtCv1kEkoAlCOh6OQs8b9sKoDA/BLoUXQk/wPsJEuirCWe7kQqSBb0INhQ1CAxMMw8Aq7b8rAArC/GAVQ57TPULWahlCTRTKwYlXaMIiH/LBFEDKQJAzpcFc1g7DEHKqwv+pjMFvkB5DzPuOQiwQjUEokBdBTikHQ4ZG2EIywarC1PNpQmaLdUKU4p3CenocQz8z8MJ1gDlDiTS8wiC5lUL1c55C+DLKQeQdB0M+oXDBuMJNwMsGAkPAeC5AgDedwUQKhcEMGNbCUMVRQUyxLkKpC8ZCgD1jwfuJe8IUYavCAPvvQdIJmsLZxSDCnwyvQilS2cLkSFJCwEqPQdjAfEIG2izBsJgmQiBd28GAditCAApwPghnHUGA3Ne/ANhnPQoclcKefV5C9Aj2wEduBcKIfRPDnagWQ77kv8GpRyzDAieiQkcLHkIAVBfB7jYeQ7fKYcIAp8q/5B88QhaFJ8EIs2lCxBhGQv5NlkH8qhjCq27twqCLhEKaN7LB7j8mQ6YXCkO2y5BCumPQwdRXRcNm7sPCEACVQpLhfsLHUAJDfVyywr7nbkIPNH1CgDTHv0v40cJKsRnDz7Opwk2josIA09U+YBw5wVYNcEJ7ievB1GaRQZxuf8LEYw1CcPpHQXKRf8LgA0tA7loBw3GxxELXE7pCsUkfw7JBlUEoXd1CpAeDQmjC5EDUAInBws0LQ+T+J8JAgYG/cDhqQgX3xEK4hnrCxhIowm49K8LwkUfCyJOWQRTze8J/JRNCUuSswk0hHEN8cdhBx1pJw7BVW0BMhvhCpt2RQQSUQ8IFanXCDq9HQ9klCEIgd+rBcF41QVQO8kGqSZlB/hA2wlRI+0D+dutCbAwdQan4IUJANcO/XMWqwq447kEJPWtCjA62QT5Pw8GFeQFDoJDvQSW52cJoH7zAQIO0voUNrUJdXFPBbjGvQWiK6kG61KXC1IXKQUYLnUKEGErDxsqSwtK6rkJlG0nCEJnPQiI6Z8HKLxTB7bFHwXTcksIe1i1DYYioQqKDvEI+QrBB8k2UwijULcI26onBiOJQQSKnE0O436DB4A4Ywqx/vkI+p7BCOAdaQm9bo8FqthhDlIOVwhoNO8JmaXFCpGPsQRcOi8I4euDAMxotwdMl2MLA5s6+QCfTPkAMQ8IQkK5ABDlMw6ygl0HOKRNCYzAUwsVYTUMaihnCGu0JwxiN+UGOi7VCYYn0QkbOk8EhZkHCzWxMQztdVcLevxvCpDN+wtxqnsLgWHnA9ng6Qs5CbsIDPBzDgJgZQ/I6BELJonHCVCB5QTTAOEINldNCwJ6fwcBfb0CSs/FBVtjgQrp1jsKWGR9CvhHMwbgOG8FiHcbB5mM1wRDIPUD4sRXCRAwuQcwQCsL07vHBvMeiQQRnXUKxz9jC2P8yQnfOK8KAHxpDlBDlQZLDxEHgKILCaLv6QJTwocFU6hZDUlFjw7PygkIqCYHCFlSAwoAQYsI2IHxCAAhEQCDsK0KYJiVDBk3WQrY9OEKIe7lBHEh+wrZxu0Fsf8jC2hBZQjjJ/UGGoQDDgiGNQjDaicEP2xdCAA7aPoBCyUHUkHhBfkcyQlhRcULnd0jCLi8PQ1D+mEBCcSHCGvmUwuA3TEKOdNHB/SgTw6B/XEIcTJfC1JN8QqrussI=",
            "dtype": "f4"
           },
           "y": {
            "bdata": "liZJw/KBAMMviUbDZQIXw7gzYMMiO5fDojmPw34qh8JAyebCN2XqwmicJ8NOJHrDC7D7wsCum8MC4TXDuy2jwtz0dMMQ7QHDjTlgw/oHi8ML5BjDPJbZwl5cHsPEmlbD1azRwm+pD8N4aF/CBXtYw4rEqcP+hy/DsXWGwwRWpMK8K2fD3h4hw2c/XcNFfNbC4/9vw7KunMOKq0rDmDagwhihT8PaaVLDph8rwwEVcsNkcR7CytOlw9JrJMNc72bDLYTdwuujAMM2S67DlqVmw2TLV8P0GhPDSI0vw3NbnMKE1aLCwKqnw/FoOsO+7mDDHt1Xw8EKRMPANnnDZxY8w6IEH8O/cRLDjkbHwsbo08Ldv47CN/YlwxZjtMI0NZDDXz6Uw01VLsN8FKzCVNM/wyNLJ8MrPC3Db+Nuw8TJmsMa2TfD0D03w3esSsOElUPDyPwIwr4dY8PndhPDfMOSwlM5rsMwNVHD/VebwlJFjcPclT7Dz+21wm2WCcMKHOjCDcQWw18F48JT9vbCmR2KwzXX9cKwWGHDEXB3wkCVV8Mp7vnCku+ewxx0dsMtp6TCGWc4w3Qu4MIh0sHC7fOfwujEOsN8ssPCuunmwslpgsK15x7D32IKwwxf5cIaE4HDYuk2wzhnAsPdIQ3DkJ9NwzgsgsPoDBjDPV/0wsA0JcPj3DLDuTDUwkRBHcP/pdfChVENw5tmEMOuw8fChygYwwoKHcNYGJHClYtkw0E4ZcNs/UnD+LwswzBQccNesMHCmxk0w8jlJMOaxczCnN8Ew2PIQsNcB2PDL1QRw954H8MoPtXCtCk7w0gdmsOADebCLM4swt/WMsP17mvDV0tiwyGdw8LH8ArDxpyfw9QkosLSzI/D3typw3D9hcLCMxHD3bPPwugFm8MYbFjCuVSywhCNFcOOkLrD0c2Ow4xXOcPu0Y/DWXk0wwr6L8NulDjDA82+wo2x+sLYUlvDcXUzwzKgU8PAIcTCqeRAw9oP4sKak4LD3sa0woLiz8JKWH3D4z8xw7fBAcPb7enCaE2jwmTU4cJyaAPDnMkHw5UWTMMUcaDDTA4Aw2xvz8KCa6DCLv6zw3CFjMO4qf/CA86Lw7XhQ8P8Qn3D6nhbw9I4b8OHX1rDL2sOw606H8Opr/fCWEuWwwy7icPO5eTCUituwuxOg8N0CkPDNIIzwwyMKcNHyV3DXq5bw7xIDsNy8nLD4HWVw6pw6cLS/CHD9Q5xw0YAKcMohZ7DK+Fyw0cXRMN+MaHDUxYfw3IYGsMsuorCxL6NwpMALMPWoIjDYu5ww5wTUcM48yXD+BGiwwwlwsLHT0XDNpmHw5C1TsMS0dnCIIMnw/wXM8PwLkjDN2IVwxGvi8JPjJ3CRK2Cw5GqhcOKvNTCq54qw5q7W8NmfgrD0vGUw+n2F8PgtLPCbv1owzSMBcPLXK7ConFSw8BIq8PAtJjCqnHcwganh8O9ZwrDZRkgw7k6/sIRAFPDcPwnw8iUJsPD5hTDverewu6U3sKJRB7DyZEVw94NocI72NfCaheKwhWmGsNHnmXDKMIKw1Z6ksO3pg7CdOFFw32DecP1mlrCjloPw9oGNMNw/g3DdtU4w5s8LMN4kTvDst4Dw7Syb8OGiSPDdCYUw4G2v8K0rgDDt+wjw8oVN8JGCwTDRqCEw/uYY8PcP3rDMPYbwz47T8NK2T7Df+Kjwhvs08LSrj/DLBN3w05xWsP7K9PCyR2OwzXWPMK6FDPDpIsvwxvtR8OzJJzD1YEhw6TdE8MNiH7DkRIMw+jSM8MSbyrC9NQNwyChmcKKQ6PCvttLw2XKv8Ior4jDbJewwlpXhcNnWpbDVe5Hw+LaCMM99+LCbo+rwtxxCsM=",
            "dtype": "f4"
           },
           "z": {
            "bdata": "uxguQoqGU8LXDxPDwPKdQUZLysEIjhTDKpcNwxrml8Eo5AtCV9KSwejkPEDJzNjB6v6FwuARxD8VUAPCwGbUwY2dccJel9fBMO5dQXIC08L+kwPD0JQTQkLa68IRdIjCqAiGQc3ZDEI294BBTD8zwzBB3sCIceJBK+1vQva56sIAQ+jBXCtdwhijSEHkuEXCZeZQQnUKkMLu0ApBV4Gowoaix8JPx5FC2xNBw+Sg/cK+jgfBstuMwioZ5cFAwkDDKHjVwSA3OcL4kgDDKKZnwb8QKcPs0fbBwQ6uQo00O8KKyRXBLpwjw1zKpsKmx0DC1BH6whID2cKWQijDtnP6wqdEvMHARq2+Ce2DwdnZ1MG0rAXCAKBHwYI/nMJA+IDC6MTfwTbc+8KgCPJAm3cmw1mLKMIfVAHD5rGqwlah3UIWTJFCjImHwswsNMOIe73CCMuSQHYNs0LI//XBjwabwhicF0EMFmDCGO2OwspYK8IgehLAXp7VwibG3sIsNJHCqjTiwpiuy8KABPPApAqWwZ3CL8KqE0PDeKqPQfDWyEDgaTbCzhXHQojfP8JafANCYnD3wsijocHIF8hB1MBaQUrT+8FgYu7C4iutwpaAJ0GYTjLAG+mBwiw3ikGW3tnCbGAmwkoG/cEHd4DC9JEnQoL+SMOMDcnCnDC4wiBDRkHY5gXD+DRpQd+U88F+mnrCEFEpQfAm9ME+TufCvNk4QuAqX8Dw64tB0NlPwgAxvMCgjm7CawOhwtoQ6MJ6dOHCEiKcQTjQXkJZi9/CxsLswSazBsMSFL7CADv1wECdo8EYt6LCiGA5wVq8qsIa6MjCCPciQTrk3MLl1DlCtEgVw/yRmMIECa7CJFbewaC/fcFYmBdB5hLrwUDNc0AuorHCGAn1wUo/yEKITd1Adec8Qo/vO8J8G+xBEAN4QfgkUkHAAnlAOsDLwqCfWUBpX4/BsAVzwlyJB8L4twfAKcbswuCZz8LRf8bCwO89QNSVhEGAW7VCgJmqP3jNs8HYF/XCMIKUQoAzxD+gB7pBsqmBwqaAysDQS37CIMKfQbRLDMM/3WDBMFUJwZoGGUHqZfTBNwBUQr4CrsKCWg9CZioAQipwAEJmiPnCoLFQv88yCsNYSvDC65SawmSoeMIK6ErBjnlHwtOQj0IL8BLCA/atwVg3t8J8zZNBFpO0wlxom0H4REjDAfAmwwSuvcK9F5xCpLoIQrj3Q8I+DhTCUtiLQlr4g0I9Rg7DfKbUQQHY3MIsA//B2pZNQi4HmML4y5hA0JEvwb5OLcNQ4hFCQEPcwAkkAsKQ29dB4y8fw7AABEHyrCpCc5JWQq5P7cIgIyC/wPY7wFac7kFAhTI/JgQkwvz5hUHgoty/2GfDQCoXikKW5jTC1PLWwTYShcIyP9rCEMyUQQqG1EE4xvjCPcShQtzPnkH8j1dBoLLKwXqGBMMjXAXCQKubwjvpVMPa0KPCNNSDwYxi58Kc147CoPtmQcwlvMHr6gfDtjoRw2TIukHo4v9BntnkwRII7MGaWEvB5QElQpa5x8KbXHnCgJXrQCWjUEJA5b2/qH/3QSyd0sIgbsfB4v4+wcDIqEBUqpzBZN0JQlEhYsPEVQ7DTJR7QSVooMG4YJFBNuuEwtQms8CzQpHBwqZ/wcwYTUF5gRbDlsbmQf9IgMJwCOq/CP+Kwn36t8GsKArCYMXiPzMzk8IJgJhC5RZ6wvCWjkJ0ZatBAufTwoREFcIK4dvCnZMUw4nraMN9+JnBdIBvQcAgK0CC2DfCEKgPQWz0y8GoZ+NAdTA0QuARFz8wsV7BRg6VQpxhycHtQ45C0mW1wPS3ucKA1UvC1qBIwlj2SsEAVHa+RHR1QcB09EA=",
            "dtype": "f4"
           }
          },
          {
           "marker": {
            "color": "#AB63FA",
            "line": {
             "color": "black",
             "width": 0.5
            },
            "size": 6,
            "symbol": "diamond"
           },
           "mode": "markers+text",
           "name": "Cluster 3",
           "text": [
            "C3"
           ],
           "textposition": "top center",
           "type": "scatter3d",
           "x": {
            "bdata": "Ak0bwA==",
            "dtype": "f4"
           },
           "y": {
            "bdata": "Ew0zww==",
            "dtype": "f4"
           },
           "z": {
            "bdata": "kuAawg==",
            "dtype": "f4"
           }
          },
          {
           "marker": {
            "color": "#FFA15A",
            "opacity": 1,
            "size": 4
           },
           "mode": "markers",
           "showlegend": false,
           "type": "scatter3d",
           "x": {
            "bdata": "PKjPwpmklcJFmlvDQYPdwkJrEsPWtnzDjC9pwyVdeMMDWUvDxGtkw7JzD8MCmIDC2KLCw6Z+bMPE2CzDZOv6wvt7FMMan2HDLJ5Qw39cP8N7ITvDI7eYw25YOMMmpGvDevVhwy9jg8KGZ7rDLMuSwqPOe8OKDwTC7k8Ow+jeqcIwOAPDEdZ/wk68JsM6ExHDsJ77whiwK8OEGJ7CPy2Vwpeb6MJ6XGDD0rOjwhwmW8O3gyvDMoeuwhjDG8MTrXnCBLYnwz/3a8Pc5SHDTKSEwlRRq8MyjBzDxn4Nwo3BMcPCZKbDC+sgw2oLAcNjBS/DVsCzwgjqvcLWnnXDPf4ewxcSyMIRBMHCfq43wug66cIQ3kLDb3OSw+5jGcO4w4LD+D5Tw+xOT8NKJe/Csi9pw+q09MKgotLC5ZzswvbqAsPwi6/C48AJwzQ9R8MZrPjCrl9dw7kFMMN8wmbDObw/w1S2XsM2UILDDl4vw27MdcPS3/HCpTcdw9a3lsLBaoPC/ysaw+ROMsOFckjCo/YFwzTAgcGAlRDDH1qFw6TR4MI5RpLDBfYGw0RdpMMHTq7CjIpOwnkYPMM5pbHCoOYmw+1wXcMo43TCQLoiw7SOBcP59ULClkUIwxSDMcOgda3C4LBHw8iK88JoEYrCYXU0wybfUcOJX1jDGKcew7KJwcKFF1TDaYoxwyghV8NdGXjCyRJcwq5+OMNaMtzChSUOw7xlvcLsdqjDLso1wzc/A8NeLZfDPSscw+XKiMPNmhbDr2Njw5hNgcMyU5XDzgLhwkPYkMMp+iXDhPIgw1C+vsJf5eHCl0bXwoXYH8NnJoLD9WYTw6aB8MFuQ6fDgSIXw4pdhcJHtSDDiTGmwlAi+cJibGzD0SZTwhDglcKyL3bDQ/r5wkEflsLkYw7D94mFwzrvC8MVjA/D2p22wkw0XsPPJ8/C79xTw57N+cIsY1nDZKs8wmx7WsIxdyPDKb30wql1psISAD3DfgjKwrW4isOgtg7DjAS/w7KK3sLoi5LDVohUw1ZousKiCYjD2NQyw8qlXMNzm07DhG15wm+yW8OwBlHDrlaUwuykWMMITdrCbHM7wzyeo8L5TbXCyBdLw4J2NcOe0DPDqqMZwxdiPsOI8ybD5Ptnw9eLY8MO8TfDBl/bwW6Xn8MUt0HDCDA4wx66OMPr1IzC0v2Mw5rj0cKAysPC0SfKwnCVbMOS/JjDUnm7wsNIGMNmJx7DHUvlwtQnqMPiTEjDvlyBwx1rGcIQwlbDfj9rwysev8MAHivDQTGbw0GZesKZFV/DSqj8wr64mML1JwrD2rbYwkT5EcPgyaDDIgqowgKkK8PHHJ/Dhu2aw675A8MOSBPD+sZBw1RhPcLGEqbDPXkxw01UTMOc1wPC5kJRw09qisMiAKTDWWyHwovsCcO2AYLCGFRow1xHz8KJjhjDRDsxwyQmnsNMKtPCbT1fwzYZnsOlq9fCTbKLwhoHf8I7XTPDrOYCw5CEjcNuQX/CzWRSw//gvMIA5JvCjmZEw8SrzMKDTb3CkfIywxQIBMOJJo3DIsdsw/hI8cI+RCjDmGJYw8w6X8N0m9HCWCqSw8zGB8NmiWLDkr/qwgDxpcKgCITDdkEPw7khG8NVOljCJPFTwx/ZH8Ma03jDgkFvw29ILMNBoiLDhB36wsU748LAVk7DPqA9w3dQQsPOelvCbLBNw5enpsP4tG7CtOn+wkQ7aMLv7l7DXIYsw61UOcOVLjLC+gt+w3uPQ8M+CBvDGcy5wrx348KCmETD2MPhwqIN3MLV2QPDHEihwwNhLMPCcobDG7fqwmK08MIypofCuXZZw+WTF8OYALTCxHcQwyljDMMbDzvDKSJ2wyinCMM=",
            "dtype": "f4"
           },
           "y": {
            "bdata": "wA/oweIE08Fg+WPCUpk+Qplto0JeQhvDGyrRwodWkcGNHKnCZwMmw/j+p8EbInHCANNcP/XBCMEw2ppBiOh4QgjLdcFPYsbCC/aJwgDkEcJoF53B5cWAwqsaM8MOk7nAnecEwoiDn8ITqE/CzkaewnDb3cFUkUPCwHb9wV/ddMJaNgzCAAAVwthtzsF4pjLCCpBowmcyW0GmykfBKAMdwgU2GkKGUQrC5Xw5QvgDesEf3QXD4AphQgrBjMIJx+nBWjTdwQ/KRMOEU+/CGCn7wRcQXsHTS5PCKoVvwufc00I/SrvC+FJnQd5Xs8I5Wi5C1ph+wpk9V0KmgrZCJGnxwnYsVkEQVkJB3gJbwhbUAEJ8OivDJEs9QkwGsMLROT7DqAQjwgjFiUIRlqhCCCsbw067GkKAtEc/2Cx+QdNXdUJAaDnBRgviQuH1x8LgnUPCIxwNw9AQ+MGgVMjCUnUQw9cSWUJkg9zBJoKKwgdAxcIyot3CdJoUQlHMrMFWO4bCxEk4wmD0rcH4gN9AVk4Fwwjk5sF/IqDCUbGJwsg9oUK2wRXC78fiQVK/08LATwlBSq9vwhZj0kKA+XVC7x60woLwBsPk9oDCzFdvQFqQTcIhNFzCdCn0wdDGr0GsMrHCNTv3wQFTgEL+jF7CYE+jQJz+I8LDr4xBBz0Gww1IpcLkhK3C6ZL3wi4xR0LutknCuPtqwduq5MLi1YXCzflmwrMzQkLxy9FBm5jkwq51oUGNFyHCxMKfQWTcHENecc9BZqpHw8SJGEL8SynDWg4uQr4DcUJgB0lCCca9QvGOcsINLdDCoPdmQRqnDMPHTx/D6JqVwSCzEcAc68hBZfA1w8hw1MEfXPDC4wV5wpZAU8KariXD3IvyQWT0AULO8JbCQIiQQBiGtcGSpapCfTbMwl7rb8IdusdCH7QlQqBAFEIdS9DC1fs+w5x2hcJOrDtC0PMuwTh+gkH5WpbCSKwRw2zm18GRr/3CnynNwpDQJ8M7zUbCl5pfwsT8yEFQV+RAsdLUwo/IyEHuUoVCdnGiwo4888LePgDCxLqpwXS+gMI1yUjDCWyVwsnOMcKAPW3A34VtwTA/S8IGEC7CRfUxwtomDMLyahPDezR8QgiRjcKEiD5CDDqWQhYpLkJtwu1BqPP3wRlSKsJt7CvDaxvjwdT8dUIcRbrBxWymwmk0CsIEHorCpLUKQls4NcPBo45Ciq+Dwt9U3kJzTwXDQx8owidNF0LN8LRBqkxLQewvdcLhUcbCBRo/w6p6kMCgiRTCuKyBv+CCccJVPIRCrM/DQmTaHEItzaZCYHC/Qc6XisIuCgPCeHORQSqmw8JGgFdCwCkjQO49SELN9THCTooCw1RPLMAD+23Bga8lwzKDzMEUThTCU8IfwmrzL8O0VDXBkE6kQSdzW8LYbnJB1XL5wp3ge8LR0PTCy7Yjwl2B2sLS2yzCbVcNw5oLksJqq17C5FYcQuy0mMGPBS3CnAndwrzvoUKuT3fCYOYNQo0t/0GqBHnC8oYmQlKFTcKcATxAWpGEQY4ExMIYKUHDSIcQwi9OlMLco9nCVyI0Qn4AaMOny4RCzMUsQNZCL0Ij5ynDXpjxQbCHYcF2AC/DD24hwsI9xEJYbrhBoqdew6YuVcLkY9bBUcW6Qj8q1sKn57DC9EEYQsRhi8LHUh/CiAIHwk0omkKYOW5BGTTmwnISE8HAr4xBz4HAwRxnkUEYKQ/DjEdHQnDincJgXJ3B5xu2ws1gIMNqRpXCIJJdQdF5W8JSaT9BSfruwjXfpML6LhJCWgrJwuDGsMEqNbzC9PnBwuJrrMJAhCTByuj9wjHTEcOhdrvCya6OwjCa0D86WSnCA4ggwz3KAMI=",
            "dtype": "f4"
           },
           "z": {
            "bdata": "XHfDwshsc8KiIajC77qewloUx8KK1VrCUPZLwigMrMKNVojCOb1cwuCj1cII3K7BRP0Nw2GeocJAlrbC4bmtwv4UX8IYNPDCPEeBwiCIvcKv87jCG7fPwveNuMK6qunC9ZuBwtsEoMItgO/CWQvMwpp/9MInGpjC1IvIwjhXLML6bb7CPqeHwhbDmsJxSb/Cgi9wwnQXcsIEbHDC166OwvLYp8L0seDCw556wow2g8L+Ue7CAktfwvBNtMKQfMDCTL+lwh1dp8LgP2rCjE8GwoAg+cI811/CsEe4wqZhpcK7cdjCRH+jwrcK28KOhozCZumswoZ6lcKGV8LCbIGlwu0qr8LMR3DCnMSBwmLCiMJ8M/DBBeYAw6IVXMKgwcnC/uTkwrVYsMKn04XC6KgmwiIebsIo8LPCjgCNwlKlacLIn1fC8YWTwqD8IsI4wpjCVkqJwjCtvsI8ggLDKkrhwu6D6sKrGunCWidtwir7f8J4QZvCJwemwgprJsJhggvCMH+qwkJD58IuFTDCgO6CwgI+OMKl4cPCN7SswqRXtcKHkbbCIBFewk6++MLMQr7CLO6YwkmmzMKb+YnCUiaWwvISsMKAdpvCe3aCwurTycKIuBbCgmK6wmDBk8JWUlrC6E2uwhr3t8I4/p7C7rnawhDD5cKlv43CUwuwwrx0w8IKQHHCfu6/wnktusJ9a3XC0hw/wlobScJWUkrCcvUvwoTtfsK+8N3CkkKEwlI4YcKWDAHDUZi8wqBt6MIALmDCrGb0wi9ytMI6jO7CdOupwqBMvsIUkqTCmePKwhC6zsKIRHTCjCeowv/rWsJjIlvCNsXDwqAEFMKcE93Coij6wk6GXcIg9cDC7QXBwrr1tMJkya3CHBsUwm7jdMKwUfPC81RRwofFFcJD/6bCXOzEwjU2VcKTmp/CPvKkwtIT7sKym9fChGPIwrinecLloKPC5yKYwiy3qsLcwt7C8I69wpVoesJvEDjC9PVawpBpCsOzJSzCFN22woQ5QMJoqcrCKNGiwoAGQMJQb7vCASOPwjO4lsIf2IfCkA6/wvbe18JyuA3CICi1wgi4XMLO8UXCgtbIwgIDQMJKqrLCrwGowtjMhcJcDO/ConmiwqJbs8IKucnC0dSxwuUgpMKDdpPCxveiwUnpwcJi+CvC81bmwiCsncK6MbDCxz7AwngwcMKg2tXBtcerwpzq6cKESeDCBF2+wifvssJsrmDC3KF1woqW9ML3nsDCcluiwq72YMLuJ8LCpAiVwvsz78In95nCEAnRwtim2sFq/c3C4EWgwoPbisIVLbzCyDBCwqfmqMKrXwzDvueQwnbNl8JYksfCW4+6wmXCjsL411nClU+NwklBE8KCBQbDJCoDwkgR68I2I7/BPH7xwuQ168JTOfXCpoiAwst5O8JEZofC7BC5whr8DcLmPdHCah3UwsTF98LEjg/CuGepwjRqu8IA8xLCoMA9wtAgQcLWAYXCxpEYwoy+0sIyEsjBPsncwimCgcJaVKTCbi+pwqaztMK0psHCARu4wtwsgMJGiibCC2/mwvTGp8Ka5ffB703Bwl4v/8KzE8LCKMvJwtI9lMLQ3KPCi12SwvaARMLQ2DXCKiqQwrfqwsIK/l/CQjT3wiBk18JAUsrCeCjOwqbfvsKQTMXCD2DFwl41nMKoIHrC0l7jwu+dqMI8lU7CU+/iwsT34cLocZDCXourwuY/scLTZBDCSh2LwnA0zMLA9+/B/7uawjS7pcJKNLXCrqOIwtAUtsLk5djCsMV3wpjaY8K9jZfClkoCw38HbsKRovbCFo9ewnjptMJ2O2fC+T6gwoDDp8JMtZzBCru+wqfIbcIHs8DCuwFowrxoZcI=",
            "dtype": "f4"
           }
          },
          {
           "marker": {
            "color": "#FFA15A",
            "line": {
             "color": "black",
             "width": 0.5
            },
            "size": 6,
            "symbol": "diamond"
           },
           "mode": "markers+text",
           "name": "Cluster 4",
           "text": [
            "C4"
           ],
           "textposition": "top center",
           "type": "scatter3d",
           "x": {
            "bdata": "ueQiww==",
            "dtype": "f4"
           },
           "y": {
            "bdata": "Bjsnwg==",
            "dtype": "f4"
           },
           "z": {
            "bdata": "3v2ewg==",
            "dtype": "f4"
           }
          },
          {
           "marker": {
            "color": "#19D3F3",
            "opacity": 1,
            "size": 4
           },
           "mode": "markers",
           "showlegend": false,
           "type": "scatter3d",
           "x": {
            "bdata": "7r6Gw6InP8K+s1LD2J0Sw987SMP35xfDPbB+w7f1R8NTYW3DvyGLwjRYpMPyaNrCNCH+whyAYMOq5k/DFDIzw3lzWMOGl1vDBi1lw0bCL8Pyq/3Cumuww+F/P8M5KgzDJFd8w2gPusMEZl/DsOQ/w/zCpcMy6mrDAAWFw5YJYcNpfiDDfK6Nwy61acOvHHzD7x1WwwzopsMpMVPDfEYOwwSuYcMYLJDBO+HBwl+rbcNt5H/D+YcYw3s6Z8MsyCjDaE82wwStecPN5VTDGRltw/cXGMO2EgDDHjdTw6ygJcMD76fDOLqLwvp5TcPPhofDMn7Cw38YSMMuUlHD1TFdw9mHSMNP13vDt2A2w5VaesMslvrCNDaxw+GeZsOs4E7D0GVMwyMDMcNWylTDssFUw0SUjMPyJC3D9LY0w1k7e8Mw1iPDZDcOw25cI8M+5I3DcOiPwtDMFcOGvR3D+FRPw3YrHcO8KzzDwPHuwnwnVcPsIQ7C7Nedw/IVGsO080XDb38Zw0rJFsP96OTCIMmnw2WkbcNClkvDwcdQwxRyt8KjFxvD+zGJwydZzsI+1s/CKAS6wtyUgsIrVTfDOIoewz4608JftoLDdPakw35SXsNZzyXDEcC+w453B8P+Q4/DuiV6wwgDhcORgB7DF7hIw1TTpsLyR3vDlUGJw1shkcOntwfDx0wPwzryMMPsqE7DJKxbwy/7gsN7RAPDk3Lqwt+7tcMTjhnDKv0Dw0q7kcMfwgrDLuVvw2smKsO25JTCYNUkw1uz2cIKuTfDFMAjw0FHV8OgOQ3D0oUAwzre3sJg7R/D1p/uwurNKsOohl7DXLzKwTugC8NYR4zDbQMyw16iP8NA1AXDzNyEw7s2rcKmmr/DBcGEw1VzfMIVYb3CnIrowhJlDcMUNXXD4HMgw3mYAMPOSZfD9wZfwwPuFsPWyKbD74UMwxhTRsPEem7DutaJw+L5M8M800LDOCylw7z8gMN/VTrDxZWBwyw6D8OAFdXCiq6LwzBnVsOeGYLD05dvw3ZwR8OU5SHDzqtjwzYyT8N2odfCSPqKw8jWaMOEpJPDJRSMwiOzb8P//anDZCKAw2cXDcNoGHzCFpIzw84kKcMhWEbD064aw79/vcI1hULCD9uWwlzXJsOmFrPCbDmcwgQODsMyCIjDNrCWwhG5NcMhESHDhMCzwtypYcNyj6bCBwyQwzS8F8PSEQ/DBGkFwxBxOMO6T6LDwjvIwgZpO8NyfTXDSV0wwoQJdMNpWOPC5qNbwxZp7cKaovDCGrmSwjZqSMN5KUjDm9Rbw0JmccPnEBbDDn1yw9qDk8PjqVDDx7uIw3/gKsNFTjXD4x92w4WwT8P8/wfDbGwPw2qHOcO/lLfCiHUjwxUCH8ME0JnDDVVcwzDkNcNUEVTDWS5FwwtqKMPMPgLDGhQVw2LK+cL2TGLDSOg/w9Syu8K24xXDfrtnwzQOwMKI8TvDvPkLw+TOkMNEBzTDdJZCwwp4+MJXXkvDR5Mrw5r3ocMcMBnD8mTowj7xWcNRF6zDJHkJwwackMMeVQrDtxE9w15Aw8Mn6ojDxDYAw7euhcPJcTjDgUSMw5CaCcPEeY7DR8FOw7PZCsMIuELDTjLywpophcLFJinDfmtbw/7Ok8MkNorDcx6TwjbGjcInTRLDmsmew3adNMOewmjDXVgpw/C/LcMukmbD0MP3wf6FVcMwABfDrTYqw7Z34cLikU3DOjadw18qQ8PAM1jDswRBwwDVMsNLgoHD9CsMw8RERcOukXnDhOf4ws2cNsMhXrPDmU9qwwqmtsMYF2HDEpmQw7GUBcN2IS7Dt88aw83S98LYnT/DUPS8wjK6U8PPgxDDiuH1wqwONsM=",
            "dtype": "f4"
           },
           "y": {
            "bdata": "SwmzQggqMkJyA6NCkJqfQlYBtsJx68dBiPUJQ2n1icK1NgtBLeFAws4pqULltDvBlIPywZYkpMK57kzBxMrRQTotGkH+lnzCHy2lwXWkccJhND7C+pLWwo1eBsLLUfJBqCAYQ/apAkF2mNNAvM9LQoFUnsICsR5CuZchw+SlzMEgfKHAf+6uQp34MMNMXQXDMJFrQPi6pcIFTHPCyM9dwRQrH8IA4FXAFIoswph6wEJoV1LBHtOuQqZguUIW1yjC+uiowq9hQsIlMEbDLObHwYzv8cHgwGhBcKQJQ8AGv7+6Pw9DRLlEQnPq78LiYLvC84xowoC+xEAKAHFCgcoLQojvl8LS3jpCNJzwQYQcz8GAyqBCKIFyQoBlTsHO+ZNCvg4lQtB7pkL+CILCVSilwqpzZkHCncvCo/1ewmzXNUJ5RtlCWqrMQarehMK6KR1DrAXPweKUMMI87PtB9VUFw38BWcKT+czCcMjhQShn58KAAL6/FkQ4QqB63cEwaLzCsMR1weCxi8L0JwtBa+r0QisGs0J+SgTCVDbdQuw4gUJe1ZxCSpsuQwBxDkGBloXCtbh2wjBcY8FVGGVCtYsuwjnusMJvnOVCg4jVwsZiQcPVVR/CPZ5swt+RkELLlwDDQOl+QSOYNcNSeIBC94yJQsZw+cGU+dBBnKR9Qo/YH8M8gibCZPyaQaDTPkARdnNC2Gs9wweQ7sIA5kvAfIbsQcJN2kJvu6RCJTqzwlgywcL9/95BVqoxQ4NQD0HYCV1Bs4nNwtqBpEIw2knCW/eMwsh9CsNwLl2/SeKuwnINoMLEpIzC34VBQkxgtUBTqIvChIgXwPHGi8IOnwbB+Rghw85mIMIcXhZCpLKPwRM8hsJXCHhCI5R1wfwKMsK9z8RBzMU7wIGO4cLBAIBCQmTeQRTcW0II8k5DuyoGw/imL0LWRafCChZ9wp6t1UKIQ6LCO+LGwswvBMOZsA5CdkiJQDWUFkPGEg3Daft/wjgu0UFv3gpByrP4QRc9EcPcaQ5DQKHZQdnUCkFQEHlAqqhAwyke90LrA2xB+CC7wV6eTsOAR9I98G2Fwn09SEIrUV1CmwPiQv6NNcJ4AeRBXp7LQAC8xD8ok8NCiuBMwmu4cMIekkrCpcWkQYE9osLADThB2w9gwmCq68KBl1VCmLn0QalrxULg5GNB8TboQS06w0IArLe+8G0NwnbGksKK9YTCnyPLwrHgdsI5D2nCDYGIwjmoccJa/7PAYBtPwDQ0AsOCDAvCB37vwsO8WcL+ClNC/eklwm3TrcKASpBBZPwwQ64j8EJ3VELC/vadwdAANUOmG5JCBJnYwkXnvkJeG49C8id7QhKjjEIA6gW+Yn2xwb7P3MKgI2RBOmkuQs6HCsK3AOzCYOrFQCc3pUFWmEDC9rCNQpyvhkK5XNbCqJulQRKM7sERm3LCOiV+QpYeg0IoB4PBVA+AwtdLuUEudkjC/zIewjENFcMpYynDyIsdwb5LgUIe1xfDwGCbQH2o6MIkbmZB0FO1wb1teMLbW+vC2SSCQcoYS0Hgql5CHEMhQeann0INie7CcK2BwSSuGkL6HQ9DtQPjwhAVr0LTx/BC6//3wvIaBkIPgYZCua1ZwlC6hkFMBDlCK78Jwxqao0BnBtlC8RxJwuRSaEIuuhPCoRVuQofR80JMle5BwSMQQSF5zUJ29ZbBNBuFwaJdpMCbkI1C2GaFwmo7mkKyrNNCqZGvQps77cL/JqlCgANiQoXfhkLeaCbDYADhQED5RUHUcuJCIQxqwivRiEJLX3xBHRY2w9oVsMEI6k/BTGTKwtLoQ0JKFBDCsl26QJs1aUKIrpdBBBANwsVBucLQhGhBjQKOQvSvW8I=",
            "dtype": "f4"
           },
           "z": {
            "bdata": "oFCuwUDipcFkDB1C2HDnwUArq0LAreNAgUqIwme7ZELu4QPCADoswcB6DUKgaDfBEoWnQs/9BEK7XF3CL4o6wmjzSEJu7UPCqKSuwYTQo0FA38HAZBhhwobmjkJQ6FhBtsq9wok8TsIEJ85CE49wQgpy38EqqXrCkMFzQdoP90IlZTjCMMgRwbApy8Hwqi3CcJckQcaP58EAGStCelmgQrxHisFo8StBrnqzweDq0UBMjTJCZMgswti8xcGwPl9BfDUHwvAMUcCARr4+sMiwwPDFFkKYH35BCoCmwjDqJkJY1FnCGF4AwrzUmEEd5EPCXuDVwVQ2GsLA4wpCosWmQtrTMMHgTdFAmBIrwryiAUNAX7TANGq4QVgkTsGPxRtCkGXeQQixz8HKsjzCVX9QQkIwesL2tJXB5G2mwQ1TkML6eUvCmC+twAAXVsCRbobCDKFBwRZOukKQXzfCcDinwdRCt0GAB8c/NKINwgS8BUJBKtFBSEecQtBY18AKvG9CDi7IQRhQEELoj4lBIPvTQcCoAMG/rI1C0ARgQZAO9MHkXhfC9sIbwrXQCMIALbtADvikwfHBDUIEuCTCjqB0QtCKc8G6rl5CINo5QMxOskEKojVCt1V3wtunKcKY7qJB7FkSwUMVP0K2w+7BYPz5QRRFMUIws5tAYsvkQghuJkFod8rBT4fiQSDP7cEU9hFBdt/0QcDaDcG0tTBCeCf/wBdfpMKgCLfBQIx9QUjHzcFeKh9ChOumwpE6WsKU6pvBiFIUQaCww8HU/tVC3PSLQJ8uAEK0r/vB2C4mQjIjlkG0iFpCWF6gQTBN+0FQpi5BAH/nvyBgwcAevJHCwDWywEAwDEFAuzjB8kjcwRYk6kEw7FVBmELaQRBeQ8FA9I7AAATFQWAVKEEs2IvCr/pEwuBexr/MtWTC3S5cQqRQGMLAAdhBvFb+wUBhhMESF79CvjKTQhyQ1MDuqIHC2B+iQUBBpMIIpdFBaupzQvEjO8JAMVDBLEufQQJaHEJwuG/BwBfSQLjnaEFARBDB4PweQD7t9MGsJwVC3jxawvTFrsH4mt5C8NGHQH+Lu0L27YnBsBIqwlhdz8Eizt/BLDcGwuo7tUJk5/FBpqSrQoCz+z+AEzDBAIk1wF13SEJAZM9BYNN9wJbE+0GQiapATBWaQZ7SAsJ+okdCYNIYwlhZvcAoWQLCkBJSwucWDUIkhexBlmQMQi79zMFM+plCYLnCwGCId8CcUOfB8KuuQPCOocDswaVBlMYGQkABfMEEJUPC6HPMQYx2J0JHjz5CNQa3wtSIm8FwszdCIG7cQSy648ErKyvCGqHFQaIEmsEAYI09wH11wqxlg8Ls08lB1D8Fwoa2jULwe+1B8I68QJAYhEGGUibC9Ag4QSA2GcJgzKNC7FO2wVo9GEJEZ3dBJmuiQUC+psGkVhTBsD2FwYyeIsJ8HpbBt2ONQoAgN0KGB59CaCV/QQbyD8IgPYzBVFQlQsTWJMEDShlCslZvQth3BsIgFshB/GQTQrZqmUIvd4TCoBEjQUSylcKwRyjCLABXwcqmgcLGNnJCb6pQQvhal8HCSI7COYiwQoKgLsJ4XMPCsNC6wP6DNEIwixNBfgMTQtA3XkGwYSNCUNC1QPh+yMH6tqDBMJGbwLki88GoRuFAwMyjwjrwVMJsRAbCuJ4eQXBCA8J4YnXByC97QSpJLUJSKjrCcJ0wQSI3vMGoko3BZGN4wnScR8G1I03CNP3nQVRx80FAMtW/wM8pwCB7QsKhkJPCGANxQWDjvcGkd/TBGGmcQQY1HEIMUwdCWj+NwWBI4MHU0CNCAGSpQSBSHsH0eOrBxi/UQchpCEHAtb7AcCVJwVyuh0I=",
            "dtype": "f4"
           }
          },
          {
           "marker": {
            "color": "#19D3F3",
            "line": {
             "color": "black",
             "width": 0.5
            },
            "size": 6,
            "symbol": "diamond"
           },
           "mode": "markers+text",
           "name": "Cluster 5",
           "text": [
            "C5"
           ],
           "textposition": "top center",
           "type": "scatter3d",
           "x": {
            "bdata": "Gf8/ww==",
            "dtype": "f4"
           },
           "y": {
            "bdata": "F4XDwA==",
            "dtype": "f4"
           },
           "z": {
            "bdata": "nhHlQA==",
            "dtype": "f4"
           }
          },
          {
           "marker": {
            "color": "#FF6692",
            "opacity": 1,
            "size": 4
           },
           "mode": "markers",
           "showlegend": false,
           "type": "scatter3d",
           "x": {
            "bdata": "nleSwoQKG8O2DsbCEgOBwtu5EMJwEozAhriWQjrUPsL0Q1HDKDw6wu0ilcIe4B7CjkNMwz4sPcOAOulBfZwNw6gGWcPdmdBCRKf7wji7z0JMtaBC1eOEwvrFAsPlXh/D5M8yQbM5j0KMj8jBERj3wa7MHMJ1twHD/Wx6wvYSmMLGXUTD5h3EwYIXT8PoOr7Bog4lQqCLN8K4QM9Bvo0Ew1A9CcN4sXbDdL6MwhUae8F+CVnDz7POwoSP40FQR+TAcor0wcPYIsOTQeFCTwzWwkOUFsJQsaHB4M+5vySvAcP+9BJDjTYTQ3Dh2sFQzRPDAGE1wBbfMEKoaAbDOxiZQmnKyMLAXp5BrWzAwjzWj8G+aV7CqbgyQ0tevcKQS5bB2I2pQL6YBMOwYkjDpAVfwgV9LsJ+bOPC2eTPwoOv2MLgzJlCkgogws5MSsIkkElDh6jRwl5MUMNdUkvDJHOBwiKv0sFpkt3C7jSxwjDt/cET67VCuhzBwgD65cJIMdnCzuoQQlU3xcFQpRhD4rsOw/GsIcJw7TDAMfUIw1TYCMJe3xtDTP0gwxIcGcISUlLDvn71QRGdvEIad7dBBFOBwqOmFkIWSs1CKXsrQu09HcOK/AbDZhX1QvKK8EL28RjDaFtNwyBYF0M+Kf7Cq7zUwjwiQ8EMynvCxgqEwiACh8JfJ/vCvNRbQfYFvUFY9nRCngsgQZTW78H2MghC2pKJQXYhy0IXnLnCMjdUwvGQI0Jd/6NCI/fxwhy5i0HXJovC5odbwrCxZEJAwTHDi5vwwnYjDUPw457C97CIwdtsssH+HlnD3pVFw8ZloMLwm7ZAJ5BAwqJ4D8Nen/3BZEUfwn4ZB0LDAMzBHOcaQtHztcFQHFjD+3ARwySPisKO1C3DcgENwxfc1cJRUMFCwNMxv1quN8OIbvXBt26lwlQASsNv7srBPq0LwhxqDMNmAoBB6oJJwhK4X8PZu0nD1Ps7wk81zsHJtebCQCwYwEvhkMKg0inDWM0jwrnfKMNXlF9CqOfgQAIRSsNK3tfBpLKcwqT4KUNAPLU/Cnw4QxQqJMOT77PCJjuEQve8EcNzDzjCJKaMwpjDL8OSA4FCHsQXwfATXkE4nrrCREoFwy+2D8Mi3BrD11QBwmRd10GkVYPCHNJzQSWz6kL6jk/CfuMmQ/8e3kJ8Pi7C4qAGw3+n+EKC2y/CqKI5QeEqtsEuB7fC/kyIQtmFm8LO8N7C+oT/wqQPasOeEbbCcLOTQNYYiMGADMVCgiXZQpF9zsIyXFTDuJBjw8yfz8ISzJRCgWI2Q6T44MK0/KXCok9Rw6hvmMBtRA3DNIM0Q9iy+kGk81LDXQEiwimRR0I7uonCs0/sQsFdcUJsDlDCQpqrQXzS/8JypX/Cd5scwuRLN8NCPkrDzN4TwXRS0sGsAlnCQE9/wIQvosHEdZVCVK+wwjun9MJrbPRCqMIWQhwQgsKp1xdDuFTtwQ1UG8JJOt3C0PYwQyyz+EE6MUHD2m7Sws1v18Lnt9dCW1CVQjmFvEKn3tBCJI2fwHXV4cHW5RNDMI4uw8ziIMMtCtdCIHpBw7xGk8LeL09CRzi8wrtE0sHtV0fD8k8OQyhNREHwZi3CAFrJwlQBXcJiBSXCvejIQpq2K0IuXIdBROKwwf8k08KeW4/CK7dGw0TNY0GP+pDCNBgQQYCBQL8DhjXChJFxwx7crEFRf1bDfvQGQ+xlLMIm0BDD2uO3QXb+h0I0lG7C1RctQ14BE8N4GqBCrFJHQoUMiELV1CnCK07IwojoHUElmb3CUuWfwRYPF0MHojrCWv7Ywaz7QsJ3f+vCeg4tw7bqEEO843LCCGjRQSceMcO+jglDWGbDwR4GUcI=",
            "dtype": "f4"
           },
           "y": {
            "bdata": "dIf4wgNgB8PHHdHC5/B8wpSxb8IkQ0XC5qzEwgfkT8KwF3zD7ULKwsSqM8JjZPbCDvG9wpwmDcOOZJzCj7n8wv+lOcM0y8vCjL+mwj4AuMJd0ijCHN6twnjuRsMQWuHCwnHxwmAzisJoMgXD2Zcdwu+RyMINRgnDqLMAw66WusKKgyXDySy0wlguc8Pr8e7CGGRGwodcmsMIcWfC2Kghw26YV8LL4UbDwHMGw4miRcOahm3DjYDDwiTJfsMA8ZLD21hAw+mPHsOhoJPCsGRZwwfPDMPHcSDCeK1Cw7PX48LfhzHDPluFwuyvhMJKMk3DN6Exw616TMNI37nCnEEzw7fbgsNk9/HC9+zswtnUncIpzN7CZ5szwq45EMPzT+XCpogBw5eMtcLiJ0fDTAoYw5pwm8KHa3LCfFO3wmaQqsKoKOjB5EKJwzLgq8IE09nCJXKDw/Nr5cLz+6DCmkvmwleAFMOcoh7DcPKIw6gMLMJmfonClpIFw/HyNcP+NPTCEDhUw+M1pcJ+aoLCYmbAwvzUJcJKsBDCTJX1wg/uNMP+qtLCHMX9wkLa+cKhGW3Dtxlpwk5cicOY8OTBRNmHworAT8KiwxDD1BTwwsYDBMMGpHnDI2ilwraTo8IMQV3DCk4Gw7JXucKny+HC3CFdw2H13sKVXyfDlFPAwqT1CcOvCzzDNBnhwYHDMsMkbyzCItGfwh8rCcKu3ujCFravwovLlMJKthbDgAY1w6N5EMN+khzD3krGwlz9m8JNKqDCyKODw7bRssI2Z0LDwP13w2llOsPaETbDzkNUw/gNH8NsaijDo9mFw0xsd8LBbP7CYMMPw63Db8MM3WjDy5obw8/jjcIeoIPCCKOSwhdu/sLwOCzDVI6pwlAqEMMbhETDhUf+wr+07sJ2OAzDtD4Ew8gosMINN4nD/nwBw/SYJcOFk/vCWmqCwpSzGMOQ8gXDW0EzwrpE68JZXtvC2nbSwv5FxsJz/xnD2ZLIws0usMKJdHjDGIncwqZQyMKsxgnD1BOYw1LuyMJ4AZLDvMCqw3SBNcNzeArDKm8uww1ojsLJmKjCpa5sw2DDGsP4r0rDF3XWwkQgjcPEgbHCMg9Ww7h1BMMqOiXCphSMwhIN6cI5aTDDjo6Qw/oIKMNJpSzDGzeywisnZMLqFp3Cj86nwlBLDMMoPCHDPKSAw1VDicKDPeLC57Ufw7ioucKTEhPD7MSWw0M4rMK8sOnCchMUw7EEXMM4EBLDTBI3w2bmCMJSXTvCuQDcwmRSB8PRA6HCohhfwylWTcOsljjDlKXuwkGHGMMGHV/DuuMZw0zXecOnpB7DiDAaw/RVOsPW4/nCcm+awh4rmMLRW/DC/FE5wwzW5cFv+ZDCHKdJw7/y7sILfCvDtbC8wnIE3sJqSFjDkIbGwrWVH8K+sSPDbUVjwlSoTMNgwFPDRrGcwhlpYsJOH5rCkPg2w5OqbMIVkXrCWBd+wxAjGsNk3fXCiIvxwiiLQMHW1pLDDuVQwwRRusKQoSrDpvmKwgzXgcKwJd7BGl1Ow14WlMMFrHPCVTOkwuw/W8N1z2/DNJrmwuFyz8JWonrD6bYqw9abW8JCFaTC+j2HwgZrZMJFSDzD0r4Rw8v4l8IhndDCHu3xwrrPfMPQgAbDCwOVw55vMsNstfPCmhuCw3IjFcLZSx7DgrURwzP6W8I7RCbDsAruwkJxHsPEgmTD52B0wiD138KUbXjDOfIFwggcccIrMFjD6hASw214FsOXZ6HCwO4Vw6kDZsP/lNPCmO8Bw6r4hMN5AtvC9G+swpAdG8NuGkzDtV0Kw45pmcLdheTC/eX/wpwPa8M5LUfCkGJDwjoZkcJ0G8PCz7MKwwkx8MI=",
            "dtype": "f4"
           },
           "z": {
            "bdata": "4xZsQ5B1QULm/R9CZBpuQuKW8EJghdtBdmqFQ4YGlkIiD71CHLbzQhyZxkJozhJCERItQxZy5kLKEahCUrVIQmpUOEOaVkZDXHX3QsHoL0OIHeFCR48gQyz8k0PQzn9Dm6gVQ/D5YUImiX9DWoNEQtsg2kKCLKNC+tU9QkLvHUNLYfBCkkMhQzy/GkMGkqFCSm+xQrvDMUNezi5D1qA5QyLe+0JX+uJCkEL6Qpan1ULa+xBDqjmBQsIvFkNsGy5DZeKFQjT5S0MGbwZDOKQqQ1+D60JqwolC7RstQ5JzL0KUYbJCfjBWQ+Z3KUOCI7ZC+nzVQggxyEIyrAtD2IPXQjpP4EKpnwhDrvRAQ6pm1UImAytD0tciQ6cmXEL2gO9CRjKjQ8FPEENS2ThDErZeQpSH4kEztJdCN5Y6QlyG70IPKINCHVQkQ7R5+kF0oxNDy6cvQ0wJ5kJuzOdCwo04Q31/rkISxSJCZMTQQmgXckL9WU5CwexWQ20xTEOStCdDliHEQpcGO0Jg4j1DiENiQv4S0EKetq9B4SjJQjPXA0O8yKdCIh8zQ9d2u0IYgyJD4rRLQsvjHEPuGZ5CoJPpQh1cU0KXZSVDGg1gQ6IbZ0PAy4FD+mi9QqUlYULOFlhDHHxPQ+TJFEMiYNhCZxkKQx7RbUNPiyhDInPQQq8XDkOB7oNDVE2EQlsPFkMcr+dB6HQRQoq7pkKDgKBCdjntQsRv0EJUmBVDGou9Qo9vJ0PUNAhDE8INQrA3B0PO+xNDkikdQ6u/lUILjUxCf1xcQxUFFUOi7flC6IMMQ7yACkOkCKJCOxUHQ3mDDEM0crZC1nacQ8RQx0IY7qNC9gH7QtSgpUKkJ+hBEqebQkluAUMeXk1DtpkuQ9YjOUMEeXFCH/hfQjlpb0POsjhDglNkQ6jkMUOOkb9C685qQwp55kIGFSpDlZOnQqxRX0JsfpZDpcqRQpw0dUP8QPNCuu2IQ+krIUNXKjtC+xb0Qk+OFUNdvTBD/DgfQ1KVKkP+DzhDmpI4Q3r3HEO6wGxDVSIHQ6jNF0MXHUxCCk0nQx4lHkOid91CZz4MQ3a3/EJzcWJD76HFQtIHPkNurFJC48CsQjNBRkIlY85CLX8HQyZcmUMpMYRDjC8jQ5guNUPpgi9D8VkCQ2BnOkPMOxZC8GQHQ4M9kkL/OURDtzgUQ5/tYEMutIxCoA4GQxuJJENxnFFC/NQxQ46bC0LewB9C8lmHQmoTEkPEVhRC9rPVQnwLZkG209ZC49UxQ/mIY0M4NSZDNG4ZQr5fiEJMm0dD+FOtQi6bVUOeq89CJjP0Qjb1HEMGMVJCF+23Qo9bK0NrUipDqfGqQqwnQEKr4UNCSOMjQ46uwELvyAJCk7VcQxje7EE8YN5C3zfpQi5LakNJqBxDXC0zQ9AxdEIk7vVC4G8NQiz7RkNKp8VCz/AdQxPpnkIgSRpD8nJVQxrSnkIO9DhDRbSJQ1m7HUMAUMlCKUALQxtuRELuBZ9CKyYgQ+Qik0LSjudCgYuPQuzU+UI8LM5C021OQytGFkMeGClDSiYsQ9IbokKYxDtDoStaQ5hc20FuU2JDQFdXQ6hh6EK+Ti1DdsuqQtzEDEKvvPRCGuE4Q2KSPkNT/6xCItWBQsTnPUOSwH5D/EofQ8uMMkMQ4/tCR9J6Qn//P0IiJ+BCVCGQQ9IWD0O8XxJD3LEbQzHW7ELke8BCl4IsQ857Z0IFu+BCngEqQhrdk0KoFINDLE3KQqVjFEINT8tCGNx9Q/r7F0NDkKBCAPx9QiUXvkIYRWxC5AlcQy6nD0OW8nZCVGiUQlqbxkI0d6xBWs4WQ+Bh6UIKzSlCfvADQrgq0UIoxa9C0oQ9QsU1L0M=",
            "dtype": "f4"
           }
          },
          {
           "marker": {
            "color": "#FF6692",
            "line": {
             "color": "black",
             "width": 0.5
            },
            "size": 6,
            "symbol": "diamond"
           },
           "mode": "markers+text",
           "name": "Cluster 6",
           "text": [
            "C6"
           ],
           "textposition": "top center",
           "type": "scatter3d",
           "x": {
            "bdata": "F/4Wwg==",
            "dtype": "f4"
           },
           "y": {
            "bdata": "plIGww==",
            "dtype": "f4"
           },
           "z": {
            "bdata": "nSMBQw==",
            "dtype": "f4"
           }
          },
          {
           "marker": {
            "color": "#B6E880",
            "opacity": 1,
            "size": 4
           },
           "mode": "markers",
           "showlegend": false,
           "type": "scatter3d",
           "x": {
            "bdata": "wVHvQijHuULZOpdD0oKGQiN9B0MUn6NCG5kFQ1zcQkPIhZFDwDG9Qnpl3UG/nCpDDQM5QzPapUJunpJDUC5rQyhbyUI+lPRCfmUQQ5EnlELd+Q9D6nPTQaYiQkNUrttCUOFYQxui5ELigvFC5L/3QvnT8kKqnQ5D3nmsQ1v6XkM6wCJDwIRXQnxwk0NdVGlDBzpjQ77D3UGozwJCElaRQryRFEOp9BVD3oIuQ4PRiUKDijBDDC5HQ8rdqUHdfGtCfx4AQ7P5+0IGLIZDJsAlQxgWoUM7pkFDBi8JQ2wW5UKq5pBDPCiqQqBWcUIa1OlC4GmKQyKWBkOybg9Dwg2jQtAu30Imq5ZD+MN1QUxUlkNnvjBDVMQtQy/eE0MTnMxCGok+QwGNGUOzXBJDx79nQ+4AE0NmjW1DuSQVQxp2EUPuhf5CZOP5QqY5UkPcqMpCcTYFQ8Fl/EJ33w1Dv94DQmw5jEPJe0BCxBzQQraG8EKgiMBC0/OmQt4Q50INlE1CFetwQoRneEPeJi1CDMeeQ0g4OkNqIZhCbi7VQslGRENxVk1DMj3MQu1rYELkhCNDIvRNQySIlEKQb5hCQKHKQjycNkPiv0RDYqeEQgf3KkJo9vdBvi3qQt46sEK8B3JDzA9oQ7qxyUIkFmZDRjwbQ1jplELfP9FCfpMNQ3Q6RkNYOm1DZcUpQoyeYUMq5yNDjBO8QoxZL0MMQAZDcHw5QxRefkMNhBJDFNLAQmayXEPq70hDXOp2Q7+4u0LgnDBD4SwGQ1qCqkMowYNCcgGaQoE3MENcp6ZCjJhXQSyOR0NzOEdC1kwrQ5YA40L6GjtDU7QQQ2yKFUPe3fJCeCskQ9m5bUIxf85CciylQhbfbkMl7wlD4jn6QiZw3UI4ZxlDSaQjQ8neVkNuA3tD+M2lQq3eoEJKQR5DB/ESQ+sy8UK/FWBD9iyMQtZXekOW4nhDrUR+QvzGSkJTBMdCDNW9QoYBpEK7qYpCOoqmQobavkHynE9DApxaQ5xQyEHRqStDEzE6QogtlEJRy3FCr1vNQtm0cEN06YRD9XQJQzpx9kJz0yJDHC01QrWD+0J1xSlCQIpQQy7XnkM/SjlCj2MBQkQ+4EKfU3dDNC7tQsbOuUKoWGZDjfcPQx3DekPqJ5BCE/+jQ0zXJEOQvDFDRiVmQ7aBK0Oi6G1DkL1MQzZJ2EJwg+BCj90PQ9rkCkMrjaxC4Cm7Qu0EukJRnHBChpx5QxC1JUO1L8BCzEGyQpoQBEJvvRJDarfoQlyq3EJawIxBNgO6QXaLbUL4zTBDsjuaQmxRvULqGqND/mkxQwGBFUNY+EBDx/YcQ3utwkJiTaRCVOLlQgABLkPJlVFDFamyQphv5ELBKnhDu/IPQ1YPiEO2uKxDIU1tQiWvcEPe9WpDWgvUQuotuELUmyxDMtSuQ340kkKwRYtDm54jQ352GUNaRQxCNZstQwlGCUPmsq5Bogz2QgV2AkNhaCFD8uy6QljxoUNzJL9CeVA5Qs52TkO9GrVCctoBQl/JDENphh9DGLGOQ0rrQkM4mfZC4OJMQ5DHREPMNyNDifYVQ/lyU0Ns9p1CYqiXQ6DDoUHQd25DOX56QqAkj0Lo7hhC2Ww+Qiir8kLdOl9D8yeaQqOxM0PrASNDefExQxQw+kIG2RFDRCCLQptsC0NqOEhDfwWZQiM5HEMeJBNDKbRzQyNDCkMb0AdD7AbLQnoWGEOCKQVDhkmhQ06c2EF+W+dCk6tXQ/Z9CUMda1xCpi40Q+xqdEPUq5dCUiEyQ0q/oEMWcgRDKYfXQqwohEKC989CM9rAQtjcgEJspQ9Dx/iYQg1tCEMUWItDoQSpQv1CY0PqKTZD1vngQkvTE0M=",
            "dtype": "f4"
           },
           "y": {
            "bdata": "QLL8QIDQPkNoScRBOo38Qjh3a0Mo/c5BFPGOQzxkPMKgrnNBKWTFQjLTgkPoCB3B4MO9wCtvyUIJ5wBDE+fdQm0hDEP49IHAyuKUQhf8ekOSvaJCIWo4Q378ssL+6ptCuDcrwbSIkMFGvSVDoPpFQ0BNAUM7cUNDE/bKQoz3OUM4ynrBUIRuQxHPJEOGZ41DJaniQprQh0OxWNZCzAmRQW5TskLhOHBDAMgzwfSd/0HTOSZDsAteQ8qx0kIiQTZCNhklQdShGEOoRPrByFiewcDQ+EK0WpBDkPqOQ05hokEmUvdC5LW6wczlXUIDffhCRoLdQgDO7cAV6thCeRqYQnodDcFWVWRDY3qbQeTAKkMxc/dC/NvSweqCFMKkCNNCNqFyQ2i0EsJF5KtCqXtCQld9KkNSiW9Dz+NwQ8poQ0NAogdD97zbQt1e+kLgMOdAwQ0ZQxQdNUIQlaLBEucoQvx4m0G0ZohBcJD5QNBHdUP4aXZDKmugQo9djELAmgtD8sWWQ9B8r8C4VqxCDjE0Q6VbpMKANpLAObipQgJ/n0MIKflB8DKMQrXDWUK703VCT+6YQvy4s0IcuovBleWMQ+JgC0KKM6LCVCXbwRYkk8Hozs8/hwusQbBedUMA1AlDYbQsQ2SXt0JmDktDmYeNQ3ImhUN/EUdCMSIlwjYSgkN/FCBD2tijQjBYUEPLbQ1D8v+AQ8eRGkPAdo1D11ALQ4LMU0M8INVCd+TlQqwOhUEFNDJDxFFOQ9R8CsJ4OJbBnaAtQ+S5NUI4GVjBHAaWQ9iEG0OS7CrCJWGNQn7yv0JoLk9D+K2SQSNa5UKQj5BB7MO8Qlxq+UIwTo7B8GdOQSIhFUPgmaNDaGwYQoQinUMvS2hDbX42Q8E2bUPnIkrCfHpeQ9i3o0OapD1DurqmQjjuXsFEZo1Dbv6sQyeMwkIk+xBDjl64wSGaMUNoRaTBjTDDQjSIX0OpNuVC7L8AQ/Wo3kIRfjxCREqsQhsVDEMEqCnCaXsmQ4x25kKggkVCzRNkQ67MKkMy5PlCDpknQ9g73sGGFDFC/ZtpQ1MupULi011DGWxOQmhu58F7PmpDOFirwSXYcUOyT59CCG4fQhhD40K4slfC4hb/QjRQPEPtUuFCB1C3QtywMcLSHaxDbgUSQ1Tcg8L8/8dCPnI+Q0MrCEOZwY1C1D7oQnA2Z8JRx0JDYLOTQvBSzsHsCopCcMUdQdLmh0LuhjNCpKkcQ04BjEPrONFC1sEFwk6CiEKsgUtDUIK5QKhmVsLAAs9AiB21Qh5/oUIYjSlDH04IQ8MefkIRJk9DiMA5QqT5xELv7I9Cv610Q5h/vcFQe2hDgMaSQWoGgEP6sV1DAGh9P/kRJ0Nka0xD4DdfwS7AV0MRrERC4DIbQ84OMkOICA9D/JwHQ+yPQEJY/i9DhNKwQmBK+sC0ccNC4ugBQupGEEKvhtpCROYHQ5oGMkMWr+JCnD2EQyoHj0MiX0FDAUfeQmRkZkLCkItCVNU+Q51XPEPaVRpCAA4MP2FExUK7Nv1Cs7HbQiKDiEII3q/BgA3RwkC/kcG4YPlB2tusQhriIkKkJrpB5Mm7QWxIV0PG2XNCcxOXQyLrJUMdW+5CQEkYwOByeUMGrLPCKNGTQ3hPNkNfLOZCgH2YQjSN40Iy8dNCmg3SwYDGx0K4ZUTBpGkVQsS4WEOnr8VCdBERQ4gIx8DSaMZCZVAyQ2FvRcJLK4bC9C5vQo3Y30EaOArCMRCXQp4YPkNNEgNDoEu3wVCcncF+k8NCqPPGQjDVDUNo3mPC3LggQwjGQEOQ7kjCBK8wQ9jpmsFEYjLCY+8GQwi+FENbeiZDsciUQzyNJ0MorOjBiMS9QXY1QUM=",
            "dtype": "f4"
           },
           "z": {
            "bdata": "bc8kwmYKa8I8lY7C8BL/QA36KUOmBCvCN96QwfEqpUJ8zXJBEH+PwvBOvcIigAJDz1m9wudUEsLzJS7DFsUewWCz1UKoThdCeBQ4Qh5GAcEAuDi+qHaMwWT04UFU05fCchqNQh40mkJ8KuhCPv+Zwvl+TML6511Ce+TmwsCkoj8UfSdContcwrpIecHg0KnCv64rQwkBhMLk0ntB6hVwwc5WLcLSaJnCuEAvQlgpfEIgCxZBLIo4w3RTdEEJuiXCngeJwsCXCELuxiHDyP06wiqoNcIPgFTC8bg4w2AF9MD4NZTBCBv8wXycysH25UrBIE3FQVg890BwYlnBi9alQnDR4sGUschBKMj9QSj/tsIQH3HAMKqBQBI4MsJ11JhClIMVQkBvtD4vWgJDs1dKw1A0vMBejwXDAFU6w9NtmcIYajTCxJinQteNOEPMR6dChwCowgPWE8IDMadCbEvEQbw3QMNU0SFCsAOUwHbqc0KhPpBC5gmjwSxezcLQVFpCbMOFws1eGcPgpozBPiQZwiWlh0Ks/ifCc3PTwn7bBsOgl3jABDMsQiSlpUGCQArCFp8dQvSfScIAAHK69cLgwu9rKcO4N8bAFGnDwcBaqMBIniVBFPWXwjhWMMFQGbVCuE3LQRaeo0I9uIzCiqmtwso0E8GY0rrCvq6PwiKSEMI7aaZCDi5EQrKJiMJebw7CSrqLwrqxKcEyqFLBr1Iww6/OUcPOwejBhm/0wSA6HcPyLVPDIAr9Qm4KqkHlrgzCsiJ4QrncNsJgMV3ApqGOwfCBskCoHyrBILhmwLSPb8Kg6bzCqK9jwqLLIsIMrXZCYIUSQQ5bpELMLsfB2nv5QtAs1EDWKMfCnJOuwbAytcLOLaPCpyaRQnFoiULJuIFCipgCQq/3HsIUtkNCHrDbQtOvQ8EKIchB0IIOwCadqUIEqlxCwoENQomiRMN0243CQqMZwhQbjsKwqb1Ackm/wZzLE8HwsURC030Dwtgjm0Ay+fPCIDj9Pz7/o8FfyBZDBq0CwpAXKEHAcWFCA6CNQnPGg0JKZNXCwnyDQuKCBcKQN7bCZGOZQa3gTEIET7nCul0MQ9JQQcKAb0tAiI1UQSokV0L4Z6pCDPsrQu5olEJiXMjCSi48wk5uukJjvOXBjf/SwsbuZMHsqhFCnrf8wr8HscKw/STDrY70wvOMCMFvPQbDG1AnwssIpUJYd0JCRK+yQkS++EHQoQVCCzZ6whBkE0GKnRlCNhk2QsA6gECs4BTCK8CJwuTDWUHYYtdBRB6gQd9kbMKA4AG/OKxMwozbY0LvxffBJZyDQgnkC0MMc7rCfTlRw8uJH8JaLIZCqHBiwEyutkEg5MzC5vsFwkARlkKgMEjApnOpQlwkGcN4OXTCXnh1wigg8kA8+lRChgPuQnbxEMJ6UxTDqBFxwdYAEEJ8EMRCkLJKQOq1tMIM1OVBvPF4QhziM0GQbnrBZWjbQlaAXEKNyQtDqjvYwsgg+ECfMYtC/HrMQTSAmMLwtCxCtLPYQbZfUsKCZ+XCdk8bw1SolEH2BJxC3q4NQmKoGkMZ9+7BdJjhQrC1GEH+OgdCmGPSQX0rLcIAC0BB0EdywZbvmsI89RxCsGFJQAxhoUIAj63CLqeMwnafnUGNHw1DPSIPQ32jg8IKDlJCoFadQRC9x0KoO4nAor8QQq9CR8O9gy3CkNDsQWitvkEJ9YPCvEAhwv2N3kLcK+XBXfSKQgDGNL+umxpCDNS2wjg9vEKG6UjCLfEgwuqfm0GUUDbCULSGQLbixsJ8N9jBDBDfQu6XlcKiIZpBNa3cwtzZmUF/Lq1CZLztwXyUmcLnxMLCauILQpjFVMMObcdBromzQdYFoMI=",
            "dtype": "f4"
           }
          },
          {
           "marker": {
            "color": "#B6E880",
            "line": {
             "color": "black",
             "width": 0.5
            },
            "size": 6,
            "symbol": "diamond"
           },
           "mode": "markers+text",
           "name": "Cluster 7",
           "text": [
            "C7"
           ],
           "textposition": "top center",
           "type": "scatter3d",
           "x": {
            "bdata": "xVMUQw==",
            "dtype": "f4"
           },
           "y": {
            "bdata": "afTWQg==",
            "dtype": "f4"
           },
           "z": {
            "bdata": "B0MLwQ==",
            "dtype": "f4"
           }
          },
          {
           "marker": {
            "color": "#FF97FF",
            "opacity": 1,
            "size": 4
           },
           "mode": "markers",
           "showlegend": false,
           "type": "scatter3d",
           "x": {
            "bdata": "Zg4zwmBgn0AwjJZBAHOkwXCeNENwVvxAwNHfP4xVH8L4hj7BMMhsQuhJmcIMwMNBqOJLQgD2dsC0WyDC9Py+QTYFBcKAoSLCAO0MwQLC9kIIv75CZR87QmjrzcFomGZCHDmHQfLNLEIcbWhBPPmdQhC8Y0CwhQZD8OxzwWjzF8LooAvCNG6Fwc88CUOUkJtCKBNHQUDG0798+ptCRzFaQiCiIcIpjrhCY9UTwqajoMJw683CjOfIQaAsh0DQ7gHBNAqWQsQDkEEOdyBCuqjqQVhzXULkyE5C4HMEQng2SUE4rwJCaO4vwbLXrEK00mTCaAKZwYAQS8HaOpFBlISFwlwSt0G4OVpCCSVWwiC8FMFmrOxBAWyEwcTigELArfk/UOl0wYB2Yb+hiwFDVjSyQrYRFMLgdSbBPfHowmaEjUK0yZlCLKL3QkSDSMJJkgVCtmk/QlhUQUH0Ti5CyFcKQgMprkJ67tpCxHOOwuDAwUAmFldCkAeCQhsNIUKA8mdBxPIjwlhg78KJjiBChHwAwtyWaEFiBSRCBPAFQ5lU2UJ0dBhDLMGlQkg2AkMNCfbB6aDWQkitQEFekLxCwBfUwKYtgMLB6KrCQMjsP7bglUJ4+WRCUB97QuS5pcIA+Ag+QYiDQjiCV8GYmBxB6PWbwURbU0IA0Q6/cM0eQihG6kGAx8lCsHwqQcCjAMA0ZW5CsDWuQXSZnkGcWGJCja+tQiRbMUG0cbdBEFrHwCwVlMKwbmlBKB+5wmjNA0JGGItCPK7SQpw/40H0K+JCqJLoQkjJo0IA8kZBkB0BQqBdwkFQB1DB2I+8wkqP/EJYxO3BMwVkwmi6N0J44yLBUJOrwShfuUKEYXhBQJTxwKrNMUIlrbJCrqEnwmDAWMHsCJ9CHSDxQtiF/0Jw/e5CIpJuQniUVcGAuFPCaA3twUSB8kKcPHDCuE9NwjDIMsKcGcZCkC8wQjAcKEGfHQ5DTttBwUozdMJeHsJCviRqwmol/ULKjtJCVjaGQpxoD8FcKwfCY2CnQny7HkJW8uRCnksLQ+Y1AMMgeu/A5DaDQgcylcJp4s1CsJaNwCiqxMFe0iRC/LKBwNx6KsIi26pCEDxuQK43DUKUdtTBLZGkwmZR0ELkTQ5CUg2HwWjegkGkRmlC6PaNwgAl4D5ks0dD9GVFwi3YZcIgzkFCSxhBwtA0lULw0QpBlmAMQu8v98KWbZdCmbl0QiQ0xkGMoydC7MVCQloOTkJMLUXCwA/LwZTt2EKYUqZB8ASHQSDjhEJ1ykXC9sGnwnrKjcLc+I5C1sTowSYaksL7ub7CwGEPwLitFcIW1LjCBM1FwttiAMLgHcfAH2xEQuW7CEKw1wZCCILUQgn9N8LZuy7CUBRcQkRl/MHetj3CeAJzwtCXkkGZV9BCsa8oQ0jQbcFKenXC4vKdQnr7lkJUC3FCqEN1whAiKcBwGhvAP0llwsBnNUK0PqNCipuHQg6ZOEOqj+7CmFJ2QvAjO0EY0MdBlK1XwjxeuMIgDdw/cKu5QEzdxEHiJjFCJHGGQrMxKcLKEMFBvf6IQhjGp8KILw9D/HdZwnCKPMHqUGnCwE7LwVp5HEIQ7x3CCBwQwjiB0UGeIcpBsOGQQZzpFsEw2nTBiNyewZBZh0JcwwzCeqg8Qvi5TcKUUy7CXM41QpKyoULbjpvCvkXTQb5Up0H0IYBCNhn1whu/ckJXtWVCYM60wd4uPEMK8QTCUGEHwfJb7EL44wvCT8xjQtiRusGBjmrC0HJywcgI8MG3z8nBfLsEwoAa8kEs9GbBkFNtwJiATEFgAGlBPLIgwly4B0OXo8RCvDqswSDpakDAjtvAOCprQZnV9EKRu7HC9EjEQUbv4kE=",
            "dtype": "f4"
           },
           "y": {
            "bdata": "2rgOQ6CfUELyN9bALNwXQ+tv4cIMQW5CIY/wQlYifUM7u+5CapuwwtciEUMwua5BgN3BP7Re7EKk291CgGZYwhDuzUKYqmBDclVHQlRJesJ6rOvB2MRlQ2GCMkMLhQXC5IQBQ48k4ELwx+lA+tCEQuhllkAuwyhCbAn1wQqRTELPOgtDYODqv6gBlsJdd7dCkFM0QM1LAEMw9YZCfHIcwhAhZ0NADHfB6GRAQ4M55EIpTSND+axLQyGFJEN2ZhRDrEAMQuL5SkJk/RRCfrFgwsCAqEKd4e5Ct/8hQ8mXKcGAlVzBuMtMweLVZ0IM8VNDNO2GwYoxTUMA9AZAfPISQxaEWUPTN9RCG+n6Qh/S2EFAKA9BkOLlwOiMrEHk37RB8GAOQ0HkIUPK+ojCkqLRQYBnIz4knQHBRf4nQ8BVv0IJk2pCSDQlQ39LTkIAwGG8oPdLwbPgaEN0UOjBJxmeQeAaWsA4DrFCm3H6QjDcBkJ/uoBCVY7XQgqUrEKSJTtDDVkIQ1vzYUPmvZfBBaIjQzLAA8KYU4VB8YyBwqJrwEITjFND80cjQ+SmH0IoJbZCrO9rQ8BFdsEQdxnBaxQHQzbBGkNsYdRCnqK3QqmP1MGVXy7Cd4RdQkxDFEPmGDhCwKNBQnIIuULn205DSr4zQhdEJUPX/+1CoGBDPwCOFD8sMetAGGnDQVRSwELTPPdCxLYjQ1w4EELIDH3AEI+6wtrJT0PgslrBikdLQxrOWUNv1ptCTag4QztSOkNAwAHACH3FwRCe10JggvRBr+xYQyLJAkOwPDTBVBxYwSTjikN30L1CVXD4Qsh+G0IIhnZCDfUvQwAViUJAUwDCX7xgQzQ0iUJII7VCCfIEwk5eXcJkOf5BiO3FQVYOykIWgW9CMfw/Qn2PlUEIRIpCqgqFwsHDLEOUhGBDmtnbQpOHMcJX0gBDGurJQjCuPUJrMLdBnoJwQTumQ0NQz5LBMHwbQXg3aUKMmpFCwIU/Q/a5RsKYMyZDlCv9QapBbEPqzFdC6HCwQdQwGUIAOr9AGOeoQpDjUUPulhJCgCHbQX+UqkLsSTHCriArQyoMQkIijFTCUGYGwtKv1EL+VDnBeKCiQGBVQEHOnfBC/WomQ0Cvwr/k+e5C4JR1QfW0SkI2I0NBU0k5Q8A9uT90oxjCLf9RQktb6kI0jqJCZ8quQhDg78D0YgRCFAMvwmynZUMIMZJDMXB6QrBkQUH4Fn1DNhKJQiAkz8GbNGtDgQGhQkAt7MEVI91CIh5GQ0yUCEPFE0NDpJNMQ0BGdUIOa5VCnDhbQkg110LKDiJDohbqQtCgG0KWSyZDU/0eQ+hF0EF2TstCAkkOwryS7kEhA05CYOk6Q/+2B0Nnc/5CHMINQocXIkM8YtJCHbroQnUIlULgtbrCFIOqQW2R6EK+GLxC8EmIQoSM2kLO/phCDEuDQr9skEKnr+RCrfs7QyYEt0LhMT5CQrQCQixgYsJM+SBDTr0UQlDIikJRMT9Czdg9Q72PQ0MAmEW+2MDTQkqukkI44IHB1FtmQqnk5EGQl/3BfD35wUvVI0M4AT7C5CACQ9UemkIGwcVCWKsrQwC7Qb9K6gtDFKwWQYgio8H0WoBDB0uhQgURKkOEP2JDalFtQ+ronkJsodVBFHQiQv5XS0OqX2xDSvdEwqtCE0Nqp2NDPsolwskXZULGacLBmIUwQ2V4DEPgiezAXiVHQ9ATGcKSaAJBnnRCQTuXQUNh5kNDHFOGwWJyDUNqs4NCqN9vQ2kRNkNJrx5D5AcnQ/DU9EKCMdtCIFokQSgj48Ht2P5CrcUJQyy7scKMAfFC/DMdQfrWBEN8v5xCaH19QvZddUJmbjJDgDpOQq4bLUM=",
            "dtype": "f4"
           },
           "z": {
            "bdata": "6k7Cwmn+OsMdnirCLeCIw5iJIcPAmwLD8PEcwxTn8sJcQCjDDDEmw2kXA8MwY7jCv4I2wwc7+MKiXZLCKDkFwwc2RcMICA7DnPUOw72TScM4CDfDAcLdwg7Q18J2KuPCCGwNw6v5wcJYydDCvcHPwsDIskAxMg3D3ivQwqXbysL7PHLDgyPuwpCBH8NcfuLCOBj1wlhmP8OWmg7DktRaw9xMz8Kww4TC7nkaw3rTF8PtzB3DGlQQwwWNGMKgfI/DJtOMwyUAH8KIivfCFibTwnIKeMKil0HDDKRHw8AWjkD84jvCh9oiwrSPj8OZHQbDxuRiwrx4/8KqXALC4XUHw6cjIcMA8AfDKNlQwz6PmcIGXnXCthfswurODcNye9fCHXKMwpxVB8MuQyfDA8Ttwnv5mcIkf5TCFC3IwnwOIsOMlYPDDJg8w8F0xMJVj1DC2rntwsQvrMJpizDDMQQkwyxRisLQ903DxskPwzAQMsHMkr/CuMZ6wxgfocIoGQrD9ORywq0bBcPwrT7BUZUVw/Qs9MKkW8zBVWBDwzTb/8LvdIHDf1UIwy7uAMPsmHbCQ053wwC00cFSEYnClBxxwgov7MLyXfbC6oIUwq34scKAP7LCAr73wrNLE8OW59fBUPOYwqWgNsNc5F/DCLimwUlb8cILC6XCNWbwwoZXRMNvk4nDGSaywmZMC8N4WobDOReCw4CaFsJfSoDD0xctw9BYs8LOHq/Bse4mw6ZWvMI+51PCGdwcw9PYWMOq6UnD1IoWw+/2JMO2CAnDick+w98fcsPPWJnCmk/twoDsQ8NW2inCzhCxwuilCMOKtcLCpZSpwmG9j8Lo/9HCkmCPwp1Y9cIsreLBOjSbwvjVLsPkmA3DMf13wt5JAsP13WfDFg/ywmC+G8Ppo3vDKK3Ywm1qiMNBRD3DXbCHwgL/7MJJDwDD9HGywpOkCsPik77CsfrAwovji8I6vgvDJjmHwcAnQ8KYP/bC2CrXwierBcOq81nDUL3qwqT1mcICFaTBDPYBw/w2K8LHdtvCXARBw4WeEsMufkTDobQxw5/Ls8L3H0jDQl43w9bq88Jc7pzCyjeOwtuVGcNIgc/CMGl9wsIxyMIv3UjDsw1Bwxte48INcV/D5vedwjOOh8JuzXDC+XM2wwigCMK9DU3D1ffiwmLotMKbzivDOyoMw9q2ucJ55knDrmMkw1oiNsPYnz3DOkD9wvBxOMPyMAjDYxs5w/xGN8PsVtTCepyDwvpFqMKxDQTD1K0UwxEP9sIyOTLD+uX0wh4BgMJR9sXCECOSwjD5/8KrWRrDAY0hw4U4/cIap+nC3augwlyHcsKI/h7DTI7ywS3lgMKLXlnDqjpywwvCCMM67Q7DCLWdwmq4h8KuffLCePsbw/S/icIXnTHD4hoxw7ouQ8O0kVrCt1NYw2A2UcMxBY3DwFymwiTOA8JsxgXDVDznwrSVaMJmXQfD9OXQwq5NLsN0avPCvA/gwtJEJsO+4+DCuMwzwwk3A8PEm6rB1jwawx5pBMN+mxjCXvhrw1hY/cFYBGzC3nhFwogJHsNgIlXDMRwGw2a/UMMsLGnCOC7nwmkTPsMgrLTCopdSwvo8JMN4UbvCCtf/wioaJMNU4FnDck9Aw1y3qcIeTWTCNUyCwuxWzsJuMzLDln8PwwiCW8Oe+iPDmFeawvCVpcGCQhDDtGELw6YkT8P6MW/CmwMcw88kT8PdnkTCv1oHw7tiTMOUZIHDBIbqwY1aWcP8FFfCbocIw1IPAsNHPB3DA18LwxVtK8M0ZRvCUC0+waylV8JOswrClC8Jw9o0HMN4Kh7D8APmwvzKFsO6pBzCMwh6w3AKK8OlTB/D8yGbwVJu+cI=",
            "dtype": "f4"
           }
          },
          {
           "marker": {
            "color": "#FF97FF",
            "line": {
             "color": "black",
             "width": 0.5
            },
            "size": 6,
            "symbol": "diamond"
           },
           "mode": "markers+text",
           "name": "Cluster 8",
           "text": [
            "C8"
           ],
           "textposition": "top center",
           "type": "scatter3d",
           "x": {
            "bdata": "zpqwQQ==",
            "dtype": "f4"
           },
           "y": {
            "bdata": "LzqbQg==",
            "dtype": "f4"
           },
           "z": {
            "bdata": "nRMBww==",
            "dtype": "f4"
           }
          },
          {
           "marker": {
            "color": "#FECB52",
            "opacity": 1,
            "size": 4
           },
           "mode": "markers",
           "showlegend": false,
           "type": "scatter3d",
           "x": {
            "bdata": "XPjzwhbxkcPuzg7DEwqQwuLZv8LKGDLD0OKWwd7ALsPg/W9B0gV+w5XZK8KIZUzD+oi4wlGzl8JQel/DRrgvwz4maMNUoxDDdD8Vw2AHJcKmTNbC9rUqwnEvzsJdr6HCjPjNwhwuTEIVpAPDFKeaQThNXMFiYy/C2erCwh4ekMJi0UHD6EQowgjoAMPLrBrDNvYuw2Zj28Kob0zDulQIw9VnocIM4aDCbZFyw1yPCkIcTxXD26EFw9A8XMMcVzPDtRXTwpjNksOuAovDpq4Iw/6xS8OURAfD0BORwSCSn0GMUjXDJ39Aw4BWpcKJD8PCV5k3wziNecEAHye/E5ZEwx44psIGWUXCcFYqwPNMUcIm8EzC6otWwvZ4C8PvWmfCmEnzQQA3Tz+AfDrDGJwcwzhyM0HgZhfDadErw+UnPcKmgmPDr2wgwj52M8JgOG7By/9Bw/kX9MLOtYzCr5gTwg7+LMNQme7CeFoQw5DWREGNq3jCyov2whQWpcMkNEvDfqSXwqxm58J8mU5CUMXGwvaXIMOO2xDDvQChw535t8JbJAjCbAvKwopsA8Ns4YvDQ32dwlM6Z8OdGTfDr2+bwmoeQcOvsfrCWH2Lw/QlIcMHLQnDVHVQw/jZCsLKp4TCvsYuwwCf07/UXavCjK+JQmHCusIk4ErDrV0PwwB1jUJC/uLCcsmYQro11cIAy3VAI0HZwt9qtcK2d4jC/Tsiwjlpb8PRHyfDKNVLQXwAfMIrJ3fDx+6vwkcKW8OAx4DDSstfwzTFI0HfugPDbGbZwqHJ3sIXV5DCqsY9w3yQi8P3amfD2KqPw5WXNMK0ZTpBqGHhwpMdTMJP7YPCEPF0wwTLnEK2zV3D+pzWwlG3ZMNLEwTDDwR2w/cJ+8LObTzDaTDlwivRHcPU68jCzId+w1rIysKQDerBjUJew7f/G8PYoTfD1CtuwsVgAcPmqzLDhAIDwwxqFkLErOPC4zhFwyrgVcPj5Z7BJtC6Qmset8La/L7CpY/bwfv0I8LphdfC/LjwwuF8L8PdMbbCa3kkw/d9tsMAkhLBY+caw7eTOMMuppTC6ISqQexS08F0JTfCriG4wg6hl8IyxWDDS1o4wtpWe8Jz+CPD2W8Cw5ZQo0IgWifD5hiFw4jzpcIVaczCgRfYwgqLBsPfW1/CQtKowmKeCsOdwibDxYcMwwxIYMP2XdzCVnwXw/57dsPAgOzBOGoKw3hTkcJAavzC8sjawkBohEGiKADDeLkCwxasLcO6W/rCY0TzwnD6j0EESITC8nLMwvw46MJ4lPbCpautwjYdN8N2m4bCo+62wsCG+L/ybLfCP55ew1/qqMMGbNTCsnlxw8p5AcJKegLDbSwDwyngosKhMsPCv0vGwkxalcLIlzbBQO9nwoRkusHYaaDDqpRNw7R5s8IIPFHDXmKnwcgimsJ8kyXC9bX1wpzb+MKdDSLDNA5ewmZHZMOxxIvCaJJfQUrMGsMtIcbCEYjRwthBrsI9pDLDstADw2DHbcODjKLCmBNZwYqi/cIg99vB+o+Kw3KEdMPh+OjCRqYdw1iLHsNoq4vCCDbEwdfXFcMQqJbC6riQw3pTfMKQ0BLDPmkmwiASjsLNSEjCs1/fwqiRzcJMNvHCpwbtwqDm+8IsltfCwYEyw9dyG8Nazz7DAEM6w55pM8O3xhXDkgQ5wy0hS8KuswPCMGoEw5AgPMMak1bDOrsuw1qShsNqQ/rCuFeHwQbdTMMwh+/Bp7sQw/F0z8Logj5BD6wrwnaYf8OxkwnD3gHVwlbJ4MLWep7CodGvwvl1TsNcwVFCg3DRwgActsIOngjCkhvHwrXXCcO8dw7DFo9EwlTSssLdgqLCTTUnwzD/zUE=",
            "dtype": "f4"
           },
           "y": {
            "bdata": "JDYVwgOoGsKmHBNDU2gDwwn7ykGFBjdBbJJvwhHYHkIixw9CuB7qwGA56kCvlqjCoaJywlDxKEBXNehCLKZRQwCSUMKR5FHDgq77wUZvMEJ4fErClXQGwzgcCECcwUvCgIJoQo4DLcPIg83Cka2fwldawELUjw5CVHiAQszvuEKDNOVC+k6FwqjN58EazWvCofHOQlA/+sGC22LCff7mQXeKBMPgROlBdgY/QlfnPcLedqzCZkwLQwhapEKJk3JB5BDtwXPmVcLlsrNCYWn6wqrbasPIxApD3He0wt4ursKLXcJCp4iuQvBoOcLonElAfovXwW97hEGZJcXCRIeGwpNwYMGYnNlBizfhwpEB58IyoUvC+DsjQXAAq0IJHCTDMEnAwlFXOMLvuLhCPCpMwkSWCcHSB6NBkJkxQXH7s8HAiQdA2iuAwpZRIMJhbBHD/DIyQTTaNUJ40gLD+/ePQULPLcNr361CHn8XQnm3EMEyjrjCQQmsQubjMcKDcQpD0lo9Qp6mS8IZbAjCiOqtwdJtn8G/phrBYfuzQuAdBUGetQvCdF+wwV811EJaGJbCXgAgQpy9t8GVqKHCkQ3ywqFhCcMHwgXDHgarQookV0J/l7vBAlBYw2quOUK2hVdCjV/uQsbNU0I8Qd3CYNZWwgVjvUFI9mRARAh7Qt9h3MKGlKTCtNbqwraht0IaXwhCKJ/QwpnBz0LO4wxDWRPEwgShRELsu49CuqpawwXy0MKIcBzC0GdjwQRZmMJEk8jCqNC4wRUez8KP+5FCSNOuwRsnSMN+UnHD+JBDw6qayUEhxM3CnkqOwNNhQcJxtzDClF41w8UVvkJ5bAbD45WAwh5g1cLu4S7CrGZjQn/Jr8LJi7DCasBpQhoiWEG7ggHDWlD2wZ7jRMLseTzDBvprQmzzREIgVj3CDjEQwwe7T8LuiwnDWMcyQr8EMcO6UQVDpQMDQxrBh8I6JKNBw7WYQh3YukIwQdtAlu24whDIuMDbsApCvBH/wbatDEMcrbfBSaEbwtYxKEPQ8fxAgPzCv69JPMJe5qrCs2qAQWw6d8OKmyvCX6UYwRsozEHF/ifB/MiZwhxAdMJtz/lBa6Kuwkcr4EEygJdCeSoJQ6Wt2sJTmwLDClqzwQgHMkEO2pTCjBKmQqtcWsJ4nXHCZbAXwqtiBMPQb5DCaPKewYopdUGkk1BDIb3SwnYZocGTVBZCyyTuQTeqaEGlEBbCr2fpwijhCMPImM9B3LiqQmelvkI+PmPCj8mJwlD/CsIASl2+nKz2wQDa6L/Q8AhD723PwWPKE0MPURjDf3kYwkokh8JOVQfDSKLWQC3zBEJR6TRDrgKVQtbNLMKsh29BlK0wwqY7U0Jm4otA1z9bw9xFE0MEiwnDYEDkwPfc2cIVfzzBSJNfQpbjTcKq7CZDuLQywmcc1UKcwIjCdLAZQaWmtMK4DkrCeSLEQZy+B0MorsDCup95wps5k0FJ8LVB3FebQDTQWUI0m0PDQ4wQw3231kKfACHD+Jn1wmp5DsMeptpBnsq1Qp+RH0OMhZVCCFTdwS9+rUJqbzVCqfvqQnGRQMPwazLD9SiHwvs6hUKDOlHDU8IVw+qr4MFFBZfCoEBKws4KtMGTeENBtImYQqRb0cE9EhnDeN8kwrnsHMMIBLRCKsGKwjN7o0GIXiRDyhoUwn8m2UFwfQlC0Yohwwo8hsKDPepBjFJZwGU4tUItzQzD95vAwuAPTEOWbINA6/1Uwm9ZpsHI7DHDQ+g/wipL5kLx7yFCiTKMQeCXJcPg2BlC1wOtQVB8RMPAzPPCPVGmwiX25kJx90/CrSzHQjreg0JbrwVDJlaJQZGCAMOOfODB1Bktw4+I5ME=",
            "dtype": "f4"
           },
           "z": {
            "bdata": "dgZ6w+DnjcPkaczC+ccWw3uILsNddwLDWPLEwtLQL8MsC5rD7vw1w55qZsPzkDrDGywQw8iJB8P+Bj7DANhpw6pYssMmSYXDVp6Bw2fZPMN/hx/DPMJVwz55NMOurUDDRQQzw8HWg8Nvl4TDuB1Ywzb9s8NxwDPDnap/w5jjs8PUrnDD5w/lwvh0IsNu6bLDcgoGw7TGdsNRXCjDGtLDw95aXMPY5vfCxmE3wzCmn8PA3fTCHTNBw9oQOcPM1IHDXmAWw5zAHcP8VirD0BUQw24uJcP6vFjDa54Bw2ondsNwAQfDqr1Mw0cmZcOLezPDHIxGw9ZHs8MgYCzDN3kzw3Q+l8Ngsi7DLuFRw5o+fsMkeyjDifkFw1jar8OvyCjDrjaUw/JJHMNE2KjDH/8Ew67pr8PQEwrDld/iwtdcG8NihFHDrkPwwtKG4cL1RE/D3I1Hwz3fEMP+c5rDI3gWwxnro8NQ/5nDSUsiw/6eS8OHEAPDdFVKw6xpG8NNzh3DkEOFw+0ho8P//Y/DFtpyw0LAGsMeG1bDc5ccw2S9DsOcYcDCWb1bwyeihMP30xnDS7ggw5A8GcNMy5HDLsSiw5biE8Op7VjD8ZMDwzFsasMzGCTDnzNZw7N9QsM3TIvD0rH+wn3vhcMwPqbD1TKNw9gCHcMpkw3DVD8Hw2bnVcMcZT7DaEdyw8bwiMMhjXzDpPGpw00UJ8PSn5vDr6Ejw/aPWsOQZjrDQLB5w65uMMP80wPDzKRWw/dlKcOW1CLDEHh2w3AmUcMkWYTDmjhRw2M7IcMVc1zDcTAiw45kAsOMdBfDkb5Yw/GMFsMhbg7DJH9Tw8AegMOSiCDDAA9hw2znk8NoJ4DD2wFPw8k/qsMhsgXD1oqmw6QdicMYXoTDsnWhw2V4E8MuyTnDN+Mrw1NXFsOkDtPCZO0iw/CJ6sIgNxrDT3hIw3HVIMOUAOzCAg83w8wYh8M8gTbDVed9wxiuL8MBLRXDUsd5wyORhMNGLsjCWsERw+m3gMMaH/PCGsBBwymmaMPgQNTCdp/kwsbaM8O6yPzC1sCTwzfXNMOMuGLDTKVYw5jTnMM/PnTDQ7gAw54aa8OyOpnDgOiDw5RhxMO7RP3CKHpzwybWZsPZpKjDPZCtw0lNK8O6R+PCwcSkw6FSRcNYCvzCBqAnw0ISS8P+1e7CNIUOw/7PE8O02VTDbkMCwxoQg8M4tofDLPeAwyCZ98IwOwfDhWg9wyNgRMOVviDDPEZOwwurBsM7iETDzhcCw+21XMM8ICLD6jr7wriU3sJJ4QDDjA0Ww97KkMNvCILDgoYfw+U8hcOucCbDynanwzBLL8OapmXDqOVQw5St28KlXWzDVPF9w1I4RcNmdhHDEklow44ZhcPVmErD5FzVwloSVMNXNSrD6OZZw7OzEMOn4S7DE7VIw4QftcPkoyDDhEKlwzyRf8NUX7jDRvyxw57SBMPEbYHDImJSw2BwBcM8E+3CP5plw+CQ5MJKPhbDEH2yw27vK8M+f0zDanOnw/A1WcMIDTXDxFNMw17xAsMTeljD2VkXw1CaEMOeGwjDAt+Ww42LE8NA7CPDrJImw7JPhsPKYDrDDC5rw4BqgsOjkg7D6sPzwrX0GMMSHEbDPB+Aww6A88IIGyDD2JX5whcWRMOBen3DIWViw8EjUsNLNBPDCZ6Tw2K4FsMDJ2zDVfOow8CX9MIy4jfD0Akyw+KMDsM0pxTD5r6Zwyy58MJtYTfDzSkew5YIKcOyW5HD2RYVw3ioHsO4eBnDGCwSw3WvOMNsOZLDWkW2w7c3JsOEJm7Dzt8sw3P0MsNrwMzCnjCYw7C1gMM2eWXDKkJawwmsAcNF3yDDuYWfw+3dp8M=",
            "dtype": "f4"
           }
          },
          {
           "marker": {
            "color": "#FECB52",
            "line": {
             "color": "black",
             "width": 0.5
            },
            "size": 6,
            "symbol": "diamond"
           },
           "mode": "markers+text",
           "name": "Cluster 9",
           "text": [
            "C9"
           ],
           "textposition": "top center",
           "type": "scatter3d",
           "x": {
            "bdata": "EQn+wg==",
            "dtype": "f4"
           },
           "y": {
            "bdata": "owOLwQ==",
            "dtype": "f4"
           },
           "z": {
            "bdata": "lk1Oww==",
            "dtype": "f4"
           }
          }
         ],
         "name": "frame0"
        },
        {
         "data": [
          {
           "marker": {
            "color": "#636EFA",
            "opacity": 1,
            "size": 4
           },
           "mode": "markers",
           "showlegend": false,
           "type": "scatter3d",
           "x": {
            "bdata": "KILBwoDj5cKs8+/Cs51yw4YTFcPCgz/DS8QIwuY1AMPKnNlBO/j6wcC+wUAOGN7CGY0qwzjFDMH7eKLCKCeQwDIeMMOpb9fBCt0sQphX0sBUxiPDd8rWwviiukD21YJBRCZ/wfdixsJfapLCx81GwyKbj8I55vzBxTRew6a9QsNZfg3CxjFcwqBdycDFqAbDt4Uzw39YI8JKPYhCGrDmQTDMecM1EUzCXHAFwoMmV8IxQoDBDjrQwq4QdcNGn7rCkve6ws4HqsIZS13CmLgyQWZ+H8IJg0bD+AKOwDwloMKqCwbDZGWjQSDtasH8nB3Br9GuwsBuY8OHOADDDN/9wgB0csHUO27B0L0swwi8uMLIuCbCoLKFwYWgPcN0VivDaEdXwrUlusLoif/BgtgXwzZ4AMJXxKrCRWi5wpXbJcPwr1nCLhb9whYbz8KgNo5CR29dwgBeVkDRuxhCsJcRwmn3F8PCdPLCaIKIwQdyHcMgqj5BBAZYw8LWjcGcU1jCvmawwpiO+8HYPCvD8qMHQbsGLcKFGQhC5xwvw9CCKMO7DWfDE/TEwdCT7MK+/O1BmpnmwmAnesJWCoXB2L1FwhEFPcNp+CvCa+KMwvNxjcIpTGvDuIDIwrb+J8LYn9tA6iSZwqZ0V8PV6jJCIC/cPwDbtMF7f+zBiTIowpBOQcOo8HDDc44Mw6XHwMJdhZzC0gf7wviOUcL/CALDELFywpYi48KFalfDP14aQviGDsOohanCe0E5woj5RMLv3cnCZJdawv8wOcNv3xpCWKA9whWNSMMb3VjDTe6hwdwtZ8ILEILCuBFgQRyoi8Eg3VHCJLoYw6TM0cI415DBzP+VwVcvHMNNRArDKGkOwzpDPcORNgdCvJ0ow38vMcLeNebCeeGEwhZHe0IwwQBAoJWWwOo+lMJGVa1CtIO0wk1MSkJ+LWbCQhzCQVSEh0EGDj3Cs+dEwhi+F8OxK9nCoN0LwMTOeMMpONTCjBTHwqjeIMIrEDTDJ6nzwQlmRsPJjnvDDd8Gw4EcJ8J754HDInrjQUhRUMJGGxrCC8v/wnT7psL8LRrCG+I6w4vL2cJ3uPfC35clw36VOsMewgzDEhl0wmIuEsLB6qvCkptww+1gF8IeP5vCCfTkwp2TIsPTOjHDQIOUP7Opg0IE3//C8EIwQfialsDsbG7DIgm2wnyugkHENyXD0a8cwtpO8MI77hLCQIqJPzX/jcL4gPrB8auRwemnLsP0EKjCIJBwwH6zvsK60ubC3O21wgyV3sLodlXDt9n3wRjGqMJBL8LCtaxNQg4Ro8Fc0qnCfMxjwnTvZsO0IpdB0bB7w4C4g8BgutDBQkEUw2nT1cLBcAzC3CiJQjLjksKpfU3CSZYWwuZf+cKi7MHCJKQgwzquFsKIQ+7CvUISwwKPSsMYPZzCprRNw0l7FsMN+3zC4hsDwriPZsKJYLXC+D+DwvnYcsMC8pbCqiVpwqoF6cJpcDPCMWVRw+Ae47+gNbnCgObIP/ICxcKMo9TCm8zfwtixpMJCiX3DFJv0wuJhvcIHtzrCTeSgwciIg8GQEi7DGhhdwnr3r0FOQyzCBJ04wQ8NGMMRB1TCEjjywoivV8JSMI/B7l1uwmC3hsIE2lbDzKR+wwpA/8HLwsZCtqbmQaioKMKA2mrDTEu9QboNUcJgKnVAj8qcwheR1MIiz67CzIqEwwmnrsEz8QvDaKCQQHy7NMO4UKfCv20swjoCLUJ/FUXDsh5xQoMUKcMv0InC4xMLw9xWfsJais/CNaVaw2T+0sJYRI1AqGOXwfI8wMKQcpfBp99OQqCGM8M4e77ADCKJwtGQQ8KGiPnBUGRtw1VO38EFFyPCDAp/wnh7YMI=",
            "dtype": "f4"
           },
           "y": {
            "bdata": "3BK3Qka9a0OtEtxCOZRnQ7ZsCUMmNFhDGwNZQ5DjUUPb/05Df1VIQ/WKCUPqXeVCbDpRQ+wXMEM1IzBDadPSQSAQOEOpXNhCshV4Q3iHNEIolTxDhc4KQ59JNEMkpHJDlsUXQomjCUNCXO5CGa80Q9TXhUOqQY9CrJkpQw/KUkPuDn5D7RimQiNOlUPDPAtD2FlyQ8epRkNYn55DFln8QtU3MkNRB0dDBSk+Q/xffUK6m85C2FWaQuSjU0PwXjpDR9UsQ3DTsUMDBiVDMv//Qtj93EKfKEVD+JVgQyVM0kJGfM1CV9AXQzckx0IUqsVCV0I1Q+w7PkMoFyFD5jVJQyoFf0MSB5BD2oiTQwhjGUP56ZJDw0KQQzQkSUOa4gJDxKN9Q847l0NUXlpDKhUrQ+w7T0OAdNtC/k+eQrbaOUN6SF9Dyi9rQySkt0KhPJpDZPw6QlXo7kI/lX1DUUXYQuLQSkONihBDTkcmQyWvSUOaGTNDpjdrQ9uQ1UKrcnlDtGx/QzVMiEP4GBxDQCeNQluEckNGmyxDmig+Q9LR2UJ3fSpDLMxnQ8BA30LiNm1D5XF9QwNJQUJl50tD7fypQhwOGUM9HZRCZLpuQhRWYEPqtyRDKBtKQ/D7L0O3WZBD3GM/Q15cRkPCmIFD9dERQ8CAVEMTgSFDPsEbQmJgFUP20mBDSQ3GQhTyukJEwMVC64EvQ363V0N62IVDqrluQsVVT0PjU0NDyTahQ3zn6kLKbT1DWKHpQldpZ0Ic+QtDvp//QmKbUUPpE2JD1V2HQ9iwEEPQC3hDHr0wQ0Q5CUM4/t1CFph5QsWOiEJOeZZCuaGFQ/T92kLyBaVCjWxaQ4ddkUPaPv5CmmSjQybxBkPESwZDZSMkQyBVvkIUUWRDNOy3Qtd6m0P9IQZDn5+zQiHv2UJGQaxDwH2yQueth0PjwyNDeBnrQgEadUOuYQtCvZiDQ6bp0ELOpeJCiLREQ17tIUPt36VC5OIfQzfVzUKZ0gtDrr8eQ/C9MkM40ElDihDQQh6iPEPw9yZDriSYQwIVIEKziGhDyw1XQ8QFcEN9TG9DcU1TQ+pyB0OT4xVDByfsQnKkc0OKw09D5pUhQtWMD0NISaRDmlA1Q928mELOuGVDMztdQwaeHUNRZxxDz6CbQrKJgUMoFihDd+w9Q0EoZEO6NVNDtJoMQxowkUO2qFdD1W+iQ1quBUPBbLZCGUcLQ2nJdkIvQkFDLYdLQ/VJCEOMGD9DeuF7Q6gFmkPJVcxCfpzSQm7PvEI+xARDMlxSQjoQM0MOsEtDxdCnQzjqSUJyW7JCfQc2QyeCOEOuHItDcahZQ8u4NkK2G2dD9kcdQ5JREEPd3oxDG9yvQ6wrwkL0PoND1lTGQgSbNUMT2GZD4tEmQ711B0OccBFD86hEQ8zVIENY0kFDgMUIQ7NNF0OVzIhDsLomQ4mfDkO5uxVDxJuQQjQYREMw2aJD3o/4QkkHCEM0R11Dcf9EQ9/srENePVBDledqQg6kT0MwPcFCt9OUQnqLZUNQHUhDbJhKQ1FIZkNLXARDNegaQ2tjrkIUtmVD3wBbQxakdUPW5YVC0MfDQlfX3kLA9mVCkOIRQ5oaBkOsBvVC2JNuQ+Kfx0LSASlDshpNQ3wYCkOclptDJd0LQ0Lr7kLf4iNDDKmiQ/ZPYkOxLzdDrq5TQ75ArEJ0BpJDaVoaQ+zBgkOy6qxCb6oaQ4OME0OcjsNC9YiiQuZ8oENi1wlD5/KqQ35/80Ig7+JC/G5xQ+4RIUPyDKRDCmMrQxBkU0NC/KlCDJMcQ0kTY0NyoWRD/NI7Qzep8kKsIYBCrbxEQ1basUIy7zBCCOk5Q0rwrUK77npCQXLIQmKyEkM=",
            "dtype": "f4"
           },
           "z": {
            "bdata": "1I0qwnTz/MKW7CnCk6PNQoymZMKyIgBDqIXWQYWeEsODBJ5CazZTQtCOasAm459CkuRNwngq9cFs04HCejYfQrlgk8IC0ZFC4IDeQc9lBkKcObZBFgmgwnw8MEJ43phCvZozQvx5VsELj5FCCKmTwoEiUcL5lRVC74KoQq5C0EHM33hCOITUQS5BLELCHRBCvpq5wqvsM0KIn2nBCixBQuwhnkHRFaPCN3QOwjiu3kFAfMNAYlANQis9z8LCo8NB4iVPQsYmgkKSrIxCwEzHQZD6u8H+Gs1CDgNvwiToe8FLDadCwFntP5RJF0JsMgBCOH0BQsh+g0FQvm/Bgi4EQug4c0GQJApCXPqWQgiZb8IcOsTB378FQ7elDUM5aoTCWrqYwrAinUIYyWRB3JVVwu7S8ELWLp9BeOoAQL3Ns8IgAKxBqx6DQuJbjkJ0aRDCb28mQrTzn0LU1/NCyFedQvrc1UIEJ9rCp9DkwR7HFsLC6Z5BECN1wqgVmkFxyYvCYEINwQZIo8JsbNxChAwAQbKGSUInRmZCzAIfwmCzqUKnC6ZC7R5+Qm6HOELqdKtBr2YlwtD6MEKGbaVBYGeIQsAOzELUWA5CGG4LwVIS3cKOHY1BmycBQ9J2GUIAxOJC/1Q7QihikEHCVKJCEpg6QjqvQUIAEfNATqFNQjSZqsLKRDnCrKbSwUATGkAsUh1CWP6SwHps6kKVn51C071ZQqCYicElkMlCVCsLQ5qyQUJ4Z/jBIetlQrhxG8GEf0nCcgVxQpboSELgeRNBRVeCQgp71UIo2yvBqS+OQoiYt0GEs1rCqDQiQjDRB0KQgEFC6PvZQG5ZN8JFMoVCnLuhwvpErELCJqtCz9OoQuRXpsFNaKdCLOaMQSWhWULM7z9BnEKswWLq/MFb6SZCEFNSQkaanUEUkepBruleQreJKEL/B5xCXaecQupSG8LkgFpCavSOwpyO+0GYbzjCND/gQsAtc0DC+olCtn9DwQ1MgULAanrAYnQbwk8a+kILn2tCm+uiQqYpw0I4jQZD1nFJwgbQDULaTIzCUOA3wDM0AsPZmC/CUqH5QsQkvUKgY+5B+lJwQhCejcEAXTlATI9XQrQCQsJqFQZDxKa7QgTdBkHd5R3C4rUKwpCaZ8IEXG5CQBmPQIDf1EATZw7CFB7kwCMtgMJgq2XCsqVvQj7JLUJAeRHDfp4OQvIubULa0yZCfCa1QpSV9MFIasxBXhCWQnIMgsJN4k3CmCNeQngkK8Gs8xNCsD6zQoM7vEK2CqpCJGc8QiBWb8IpNc1Bzr4cQuirgUHQMFhBnnJVQp5kjMEAQm5AXOMUQ/DqA0JInL3A0DcowMjckEKQwg1DELJpwfAiaMFCr3BCuTSkQkwK6sLcvOfCAu5HQm4bL0Ka6LTCkHH9wlQQ/sIYta1BcM6GwYBAoEIi58LCkFC8wVDrUcIAYPU8yVZlQlKSn0J9ND1CfBwswsCGn8E84QPCPHPuQjXMyUKdYu1C+8VOQoit8MIthZZCAUNWQuzb78LrYSBCSOfdQtIrREJ8LrlCAIyhQWy6j0Gst9pBSGuMQSOyakInr0JC5fQ7QkIyp0KgFLPAOaHBQhIJjEGwKRLCkBvhwFYZm0ICwXRCRKYrQuDnXcEIt6tCArcoQjaxEMEqjWvCC37PwhxfnUIU/2fBiN/kwQCYl8GME1pC8pTDQu4YesIBX7tCNEu6wfANaUKKvvvAIIRuQfxF60GUFqhC9EQYQfJYP0JAV9NB1uULw/DCm8Cv6nlCgi+PwZJOIkKcMrBB2PohwjPvwMIORShCwtt9QlsS8EHQ9mJBkLn8QTjopEEqlcdBXEeFwl66Q8HU/CFCQHMXQGzQWEE=",
            "dtype": "f4"
           }
          },
          {
           "marker": {
            "color": "#636EFA",
            "line": {
             "color": "black",
             "width": 0.5
            },
            "size": 6,
            "symbol": "diamond"
           },
           "mode": "markers+text",
           "name": "Cluster 0",
           "text": [
            "C0"
           ],
           "textposition": "top center",
           "type": "scatter3d",
           "x": {
            "bdata": "XoOewg==",
            "dtype": "f4"
           },
           "y": {
            "bdata": "1eMvQw==",
            "dtype": "f4"
           },
           "z": {
            "bdata": "g/qeQQ==",
            "dtype": "f4"
           }
          },
          {
           "marker": {
            "color": "#EF553B",
            "opacity": 1,
            "size": 4
           },
           "mode": "markers",
           "showlegend": false,
           "type": "scatter3d",
           "x": {
            "bdata": "oC4KQRjDKcNKPULB0uLawcC2pz9GWwfCJEY4wx8xAsKy0ARDUd1awm6OFsLm6MZCLIi0wlxlQ8FP2DzDKEmRQvy/BcNCtrTCbiqPQWO3IMMuFZtCsQeYwophB8MQAt7CC/Y4wre/TcIejo9CyNaUwcrpvEER1nnCvhgJQgUEE8PZhGpCk1JUw1tDO8P67YRB7FDlwkyZT8IoDsXBRMpXwfnDnEI6O87CydZ7Quaj8kHTvqNCJObBwog8/MKa213CKm/XQVii0ELxY9hCCX+4wVJomUF3my/DdKLWwsaR6cIkb7fCy5R1wlKevsHOLqtB+8ohw+vntcHm0g9D80EhwoGvPcKwD83CsO4vw7twMcJYcQ7C3P0Dw1y5PcNfNO7B9OgIw162jEIwZaxCtKnWwjKWSsMYoDbD95mWwrDns8LwzItATK/pwodXB0LMjFvDoD+TwJ9AjMLPbs3BGvJGwlJXA8NwpnnCyaQDw2TQrMGpFdDC+FurwiPzZ8LQVnVB+r2eQgiGj0LHFxbDrkqTwiT7NsMjzlLDQNYaQZ7wO8O6uMLC1lmvQjOXsMI0K2/D/i3twXw/wkL/Y4LCUDCVwswXHcPCiq/CiNP+QUiL78L2x7FBKXoMw5tkP8KZ2AbDPDIEwZBOs0KNNnpCMQZiwojHlsCHyrHCiHSiwkzWK8O8G2fDQGDYv4f9b0JoqebADKyDQgrxccMQkqpAG905w5suI8OuA4vCWL70whL8rMI0Pp7CQKY9PxriDMM61MrCYNuvwneVT8OMQR3Djv2rwfSSBMJq64FCQp5rw2f4K0LcNY9CQOItwpi8+cLui+FCYSZYw3Cs+0BmapnBcCCuwMYO0kLIRTrCmseMwviSxkKAGVI/oM6cwtqJacIA+0A/WCnTQqIM28KYWYFCbB/owuRkI8NNxgbDZZQ/wmVitMHtCRTDIMnsv8f7t8LUU1XDp7qEwnRTDcNs+brCho6ZQY0vYcLAV6ZB7TUOwkucQ8OStvJBTRDkwgxcm0GOnNDCBOUrwUDrrcAdk0XDnHHAwvqrmUEsWENBktgXw2x8NcFW4OFByrqfQlrYocIASUO/Ajgpw+C4D8MhygDCHMfswiXzaMIsn1XBGDsUwodiAsNk1kDDbIs1wklZ58F22aBCQePzwcC6HMNmhx7DjTVJwnpl68JPYzZCMlX/QdH7qMKPf+vBAJGVv1hruEE/gKnCVkWpwnZOEULwtvTCWnLHQUsMTsNm6bJCMbKYwgDZK0KqZaNCoLFmwNC2iMBwDa3C03wsQt/vG0L9n3hCC+Jaw/YD7kEocj5BxhDqwn67PMJAiZ8/oTMww+kcI0LqygfBTlCoQU6ztcJOMgbDngUOw7EXL8PE5shBZp0fw8Z3+0HGYvLB3MBHw5iRvsKqnj3CnNUDwoYg9UEJIU9CgtJhwjWcEcJkmedCbHquwtdGgsOOzcZBFonLQaQYKcJiezLD2AXQQXBIDMNoMtPCsKATwuAbOsO8CdPCwJl/QGC6qMLOqsVCFQ5mwireDMIA7yNAHGYdwxqFskG6PszC7zJ5QtwssMLGF4dCpQtawxophMIx/JfCgeY8Qhgwf8EsDxXCik+gQn1DLsOpJz3C3+lKQjGeksJ+0otCzdDPwXGtOcMKqAfD8lXZwos/lMJKJ7JBGvDmQmJUukICAeHC9DvXwqL4ZsIpFj9CeVgBQocs4MKC2erCtExVQvUeBcPRFWbC2raJwlPTAEL1YghCdqsTwy4WLEL3zgdCDrmWQTdJZ8NZAQFCOtjXQci3TMHvWEPDA26Aw8QYlUKppzrDCv0ew4gU9sGws2jALe2AwipJAcNNWDDCjBAvw6jyCcMu5Q3D3ni8QXgZscE=",
            "dtype": "f4"
           },
           "y": {
            "bdata": "t+9VQ0TDXkPgsk5Cs/8XQzf2AUP0vAFDqSPlQnh/VEOYzUpDMnnsQkk6LUNUMSpDFitKQ6SFfEMw89JCmDdUQ+5CxUIqJYpCM5BJQ+wAREND9DBDPSn2Qm49w0K8M7hCUtoDQwOwfkLAy9JCkRKeQ/iXP0O7J2ZDiEnHQpZTMUOCPy9DaE3IQoUsBkPC9+JCi2PIQsiMMUPEuPlCKGNCQ8WlU0MEGpxCC0lrQ4ae10J1pgRDpn+hQhSTvkIEVcNCJRvvQkzSiENxRgRDTqvfQiwXXEO63I5CVlB5Q2qBWkMaz39CYIBRQoEi2EJeM0JDpFQyQ1cKxEIw+d5C5jOxQuICsUL6Me9CVsk8Qx/RTEMoBSlDxDuiQgzU50L2NiBDctmBQ2muk0MzMyZDDOxWQ94oRENrugRDwGhJQibQjkJJggBDaDA8QyjNIkM7wiFDMFvgQidMNEOjGAJDoEdxQ+aVqELMDoRD+uVVQ1o4iELEQrpC4ZQsQ2YikkIIaqRCoMEwQyT+BUPDSQZDHhhOQ9DzXEO4BDhDfnFyQ8JaEEOJchRDt7lMQ97lwEKiStNCFmroQs8RTEP7SuZCbIWeQpBkUEMEtU9DYPgvQ3ROt0KGaFJDNpsqQ+5jSUOgRGdCZBjnQhK0R0NKY8ZCPLxIQ+eH3kKyHHpDb04rQzSZfUPmz4VC9LZFQ4nqiUOS31pDNR4JQ926AUOBLAtDnIyHQnUxFUNqTopCtgtPQ3LtHEManMxC39MtQxXv20IiU+5CZMbCQhID3UJoLVdD8KMoQyRYXUJ8XShD/d9KQzVuaEMAZudCxm3mQqKc1kLOJrlCcJgxQ5Ck90IpmYZDQa1EQ4dzBENiPSZDpKk9QxqIWkOK8AVD9m37QtrOdULMyj9DOibnQmc/SEP/VBVDqKkvQ1RyrUI6yO1CIv8DQ2RkYULPGwpDFUaIQkhaJUM6ZBFDc1CTQy46kkJ6oydDigqtQjRXD0N2XmhCXniNQyJXEENA/GdD6xdsQi/mKEN362pDTBLtQl1A5UJKrCtDrF3eQi1oQUOExPxC2rObQndnj0OqDXZDrSUHQxAA4ELrJ8VCPnqMQgAVCkMgoblCuBJ1QySl6ULCLT5D+q4mQ5fzSUNMuoFCXdXtQo5rDUMXNxdDRb9+QuKn+0LctSFDOpkfQ+zi/ELIfOJCWEb/QhRXcUKW4YBCO2FfQ4pfxEJf4JZCa69VQvKHrEL0ohBDYEH4Qj1Qk0KBzhtDk4sLQ+pvj0LwFiBDueMbQzfJrEKgcVJDMB44Q6qkBEM7CDtDDpz0QsF2r0KZiJpCbX0YQ7KfXkM1tgJDFgGuQs2FEEM077xCEnxPQ8zjWkITkiNDAxQ/QsDlF0MeTMVCRHXGQqkNX0PcTXlDU1ojQ6Rzi0MHJJVC8+MpQ8ZrAUMMDWlD4C+GQ/x700IpLc9ClbqcQvz6ukKlvwtDll0eQ+l51EKPlWVDmlp0Q7X5dEPowc9CGGIZQ7ol+kIorF1CVubfQtH8DkPL4SdD7GZ/Qgae5kJ8kpBD6EZxQ5coxEJIKN9CzRGcQohH0kJkVRpDruuSQoY4yELOZeVCoZd6Q4i/i0J6S5xChhlOQ+BJ2EJSwbxCMj8HQwZOm0K5v0NDtStaQkt7D0OnDAVDO/I1Q/zu7EKrvqNCAIvQQo8/QkMULp9CW/QGQwy8x0L4JexCzICjQlQ2fkJOM5ND4o9lQzXpSUOw2sRCdPBVQxDNNUO5eRNDYqB1QwcEt0LjBDtD5vUyQzAK3UI1No1CfTnMQjicT0OReRdDMvIvQ8MYzUL0/AhDcuuxQntCBUOB35BCODeuQgtmvkKq+n1CopZFQ+jzhkLmO/tCi6aDQygWJUM=",
            "dtype": "f4"
           },
           "z": {
            "bdata": "hd4OQ+lpXEMzSIhC/ey0Q9YB00LkTvpCMkg+Q0QpIUP0Y0ZDmACfQxOsL0O3QkZDR/BQQ5xuMENv5BxD/ZAFQ3y6AUMAQSZDUCYaQzvDbkNtEj5D5mYAQ/7sBkMam4VDfdnXQv5fFUOfj1pDxOg7Q4F+SkNv6YhDTngGQ3CPJUNMlzRDYhqIQ0BxD0NCAZRDsAzsQnw68UI5mBpDwGV8Q3oZKkO5y0NDJgsgQ1CNDEOhECVDDsavQsDzUEO4BYlDjn3fQpxsDEN8ikpDkq7eQmruTUNSCwFDCudFQ1TbC0N+u9xCEHi6Qt5CEENr5VlD9B4eQxeoOUMtqU1DysYCQ/a8xkKftRhDEvdMQ/sBFkNSHfxCPB15Q54/ZkM4OxFD5FkkQ1gzCkPQ82RDaW1ZQ/5DbUOy3zpDdrObQv9Up0Lct9lCJ2M7QwJ8ZUPq6VhDDsKTQ+NEDENEfvNCej0bQwwFyUIwpBlD99qcQ7P6D0NZVxNDwA15Q+/YKENXGxBD82U8Q9on6ELZvpZDbMkxQ5T+V0PDqV1DGvYuQ18bn0ONDEZDYckwQx4UoENg4oBD2hpyQ1GgGkNg1EtDPA3QQlMSaUPf7ohDvH0QQ22gQkNSOwdDKQY6QwAWpkNiaxhDHLN6Q1/uVEO6cRhDZgmOQ7ROyEKSODVDjEM8Q6JVKENpsjhDRuAUQ6Z6DUMSEJZDo+KoQ/ijAkPvmS9DqCQgQxTzLUMk6ftClDiCQ5RtlUMnbxtDBunsQr4WI0PR6ftCGbYhQ4NJIkMYWBlD4+KhQ0ZY6EI1jSVDyv5DQwHlIkPIkCpD+wIOQyg2rUPOwkdDZntxQ5Nm1EKsXWJDM7AjQwF0QkOwrBhD+4BFQ/UvRkPoMSVDpTArQ+oNtkIUomND440pQ1WnW0OU/PhC96UJQ+hpGkOlUJtDtPX7Qri4sUKFjulCnn0qQ8pFZUNqD5lDGNIcQ3YwBUPUlolDootBQ96eKkMIHbVC/BJDQyKUjkOpR1hDorHoQsgh3EJUFZhDk6o8Q4K5AkOqQwtDj/Y9Qw5yrUNCFLhCyUhYQyK0I0Pgc0BDfZoEQxWkH0NKdxtDmmQqQ16ee0MGm8FC4Z9kQ9jrekPUlLJDzrKVQ5KwNUO1ChFDfhUHQzEvKEO0pBVDNnGtQrYwTkOElQxDZ5oyQyJ4f0PX/SxD4F+SQ3RyrkJgthFDUjujQ4hTCUMQKsZCFpy4QoaQEUNV/0tDKwB4Q4rzV0NdnV1D6nlIQ6AZwEL62HhDvx1RQ/B1Y0NeOktDTCxPQ5Ta80JuFlFDiNstQ9CWfkOTfihDxFYnQ4r/eEMSTQdDh+UpQ7/CBkPFiclCh/pgQwouzUIOfJBDikDoQsLMWEPV1e5CPu6EQ35jLEOgYmFDQp2PQ1QAKkPAU0FDY30FQ+jlOUNb+h5DXpRgQ8UQF0PuZjdDkru1QuYVOkPslelCXIsyQxYN2EKuoSdDq5MGQ8dIakMcgyFDkF/wQkeur0N4WNxC+DdlQ4hIfUNjGDpDvPoiQ7rMxULBNhxDCxqFQ4buEUPFQudCawkzQ+mFZENWnxJDlttrQwzyjkNZjJxDtbgaQ6RDCUP+9r9CTSEdQ4v5TEPE2hlDeHW2Q+NCzUJirU1DgaC7QvuYG0PyUGRDCVtQQ+7Tj0P/TS5DeFaOQ79SGUM7DxBDR4sbQyxIZ0NBX0NDTlpWQwTOCUP6GChD/HQLQ28bbkO5sf9CHHMjQ7/iXkNay6lDKvluQ5T+9kLYP3BDEKISQ+s7gUMoeedCTkXKQqZR+ULxH2tDcEc0Q09VHEM7RgNDddtsQ9ma3EJue+NCBHjqQsqVn0OSIehCNVNeQ7qvyUJ9nhlD0E5VQ+hs9UI=",
            "dtype": "f4"
           }
          },
          {
           "marker": {
            "color": "#EF553B",
            "line": {
             "color": "black",
             "width": 0.5
            },
            "size": 6,
            "symbol": "diamond"
           },
           "mode": "markers+text",
           "name": "Cluster 1",
           "text": [
            "C1"
           ],
           "textposition": "top center",
           "type": "scatter3d",
           "x": {
            "bdata": "MMxLwg==",
            "dtype": "f4"
           },
           "y": {
            "bdata": "SwsOQw==",
            "dtype": "f4"
           },
           "z": {
            "bdata": "RvY5Qw==",
            "dtype": "f4"
           }
          },
          {
           "marker": {
            "color": "#00CC96",
            "opacity": 1,
            "size": 4
           },
           "mode": "markers",
           "showlegend": false,
           "type": "scatter3d",
           "x": {
            "bdata": "4ZEawh21kMLPMInCUHAfwB4IIMNWxx/DKOCkwuJBIELSZSDDcMNYwujuQ8NK+e7CtvG1wlrHicKBPHHCvvCkwgIcD8J39jTC1jmuQti9x8I0p67CakTtwpQTocJ4VPVBsSPFQiqb2kGA4ri/FIlOQYCTAcAWvK5BOAFuQbyg2sKRYU3C2SrcwlQiZMINcSNCTZ5Tw4SZhsFfvj3CLQ4Iw1DQ4cCZIX/C8DTbwkqAn8JYEzNC6EUCwxXNkMISfOXBEqf9wpBJQkB9sJTB70VowiveG8MaTIFBn7g3QoPewsHg0GrA+jq9QaBJJMAQAazCbQOCwprcM8NQ4SBBYlPfwgZ8GcNzCAvDcIJPQbyyBsPmhwlByvgnw6JM0sLyzelBiX2Dw6g0gsKmtDLCCaCVQlMcfEL2nBbCdne3QoiUM8GKRTTCcFwtwTyPeMIWq7lCRk3vQewDFsIY1XjCDCCJQcYLYME+3z3C9BHewoAPjsAki5nCKAq5wDSfCMNP4GZCj08zQxc8iMJLP3VC/kzWQbeBjUK9lxdC7qaMwr5qG8KIWYrA+5aOwh74ZsJQPxzBPnY2wjLgi8LCoaFC2ILDQsX7/sFAWgPC4ugKw4BDEMO1YxtDhIo2wlLH30EKh6fCnm2OQeD/FcHCRD7D/O+wQUM3PkJ80gbDPKT2QZTuLsLJbctCbHo5wyYGaUIk6BfDMpCjQdjGM8MJik3CP3ijwpTgU8O8PipC1OX1wmiVSEH5iNrC9rbqwtrNusLwEinCmpW6QpJ+u8LxIqPCzIyfwoL3bsJgUqTAjqsdw2MjYUJL81RCG2cGwxcJRkKv0HTC5nwIwtpLoEKMwrZC5Ah5QTcEHEL2pGHCMtedwo+/M8MummTBI3+fwtVq/sJJgx/D4WfMwm1+BMOwR7XCjCNtQcjnM8G8UnxBHMieQuZjAcJIKzXBMWhHwhYadUJ0YuLCbkPRQXoY9UGROG7C2bCowgGiYkKIJ9DC35mswtBcpsAVeudCC64SwsBG40GKkvDC0sHkwrBHokCo4YnCLM1qwhjjr8I6RtJBmQN0QsOxYcJorEzCWUCjQozlm8Ke71zCi59Yw3jMiEJCPO1B0tC3wr7XL0OfLuvCxaJRwkLAwkHEIthC3IahwWfXnUIMsLlBS/nowdI+hkLwQKzAxKtxQYRdC8N+A03Ck/YWQgHiBEJgMu5CBMLJQrQmyMJBRXfC3dowwt4ojsJe/qPB3D4Dw/IJP8IdiJNCA3qHwgYLt8FcyhDDMvsvwoWn+sKam9tBtyWjwmx4yUHczpHComwDw5pvxcFulVrDsnIgwzLAwsIwyRLCWTzYws6KEcM1Y3FC1B/DQZKo1cHqZMlBYwpSw5uXmsGAIB+/qKRiwmT7PcO2eezCLnyOwpx5GcGitlVC9qAnw1VjosLGi7FC3hcAQ1l3AsPUWg3DHIYEw5aGl0F+x+3CJW4IwzQuK8PAUdm/HjQpw1UoscIYaq3ADNcHQTfyVcO6thLDzdOIwgqNWMLGzRzD4n/3wicXCEIPPpzC1d/PwhmH0cJyqWPDlX5NwtpB/0KMPqvBC5NXwo9ETMIPxw3CTveDwoR+wkHHpkNCcO/ewszXt8IYnA7BkhoTwxNLbEKwgIdAz0UeQii3D8MaM8rCcOWhwgCkOr8+MEVCcFtMwiBNBUJ7Mh3DB0kYwj/JD8NAl9u/2EBpwj9MFcMxOUjCCY7dwj//P0J3qmXDHa/dwTs+cMMmXEDD8GU0wzvj7sFO7/7CaGXdQDC3EkHwdqhBZgj9wuIRscJwieFAytlDwV2wF0IZggLCbhQbwm1Z/sJxvubCauTeQjTwD0LTxGDCcDFmwRXhEMNmbfFBYdgcww4fI0M=",
            "dtype": "f4"
           },
           "y": {
            "bdata": "GO97wb4ApUGQhBdCJDEeQhzLDMJEX5FB/JgdwohGjUF+qEDCnw2gQsY2k8GMjqHCKqoMQgoG+8EUgl9CUn+MwXyjVcI0Ff/BkGVXwRgf+MHtjnfCyO62wPm1tUE4iTdCQCeGwX4WhMLOH81ATy7yQSD6oMAtScxBLX/SQTpI/8F2oDtCsrvTQHhoAsE9XDLCMJwYwL5IOEJdWmRCENSBwjr9jsLcpx7BA6S9Qdwn4UEtzSnCfBl8wmxEjcGgUpZBHIROQnjyTELwU4TCvKLkwsVFS8KI5ULBxhwwQklvZ0JsK1xBc0BYQnDhN0EqWPfB7OW+wX6M2EF8kIrC6p+FQdBLDkGEQ9rCQzN7wtgF3UGwhVRBTOYoQSCsnEH5avRB7QFFQgXMW8GAP6E+BDuIwW/5g0KxhyrC/PWxwhJW38E6EqjCPr3JwTgibEF/rsdBFkSEwXAPfcF2OyzCyBU5QcgEgUHAdUZB6kAvwlQHW0G+IOPBqGFjQnuoacI2rJfCt4atQgjzLkEqyqvCpZ41Qs1qVsIAwVW/YMQkQR0rmcLYLydBfjjFQlubOsLr0nTCwcyTQgCqlr0oWyRCgPMEP3sueUL7qXDCwCXvQC91IcIJK4xBVWxdQu6hhsJmHDFB+yjAwuIid0LDIUNCQLgSQmAqyMBck91BCD4WQtFzoUKAUUpC0KJeQYBXJcDk7JrBViuuwQASKD9wHj7BPBMFQkczwMKgRWVCOFHCwqh278FAk9m/FqlqQvTkN0HklcPBIMdwQXAYRcCoHZnBKZXHwsQ6lcGgGHHA3A9QQmBfkz/BqaVCfL7HwUCcJEA2tLXCzHoIQn+WDUKsE/9BcBgCQqNDL8ICa5vCo5j+QQhxxED4YRvBtpqqwdsdkMLHAQHCPB1UQuge00DGkQvCgfXsQSiuq8IgczRCyhr3wXjTokElBHfCX8yHwiRoaEIKtXxCLBrqQdAU9EGv6WBCyuDjwWLgdEKJ0kRCDiyEwssS/kHkk2XCCPC2QFiTL8GVrQ1CztTmwUAKO0H1lzZCNdFXwgydE0Iqw45CvIQAQW5XREI4pNTBoMg1QqCFqkGucYhCZTEcwpDSQMCgq71AebdAQiAbGMBAyFfB/mMXwr2WUsKgZRzAyqFtQthHdUGZQljC1sUwwrS9DEIQqF5AHM61wWBy1sG0Cr/BkIg9QnCY6cBqc19CKnNEQoDE+8JIGBFBosLFwhNA3UEqLObBctzawQ89TMLkZLbBRtdDQv7mqcGCCYdCLD8jwSj2McLNrJFCh+s+wsA8TEFoFBbC/QuTwsbPrcFRoj7C8m7QQVCyPMGynlRCqZxNwtMqjcIf2DbCYKXgwF1Kw0Feu7NCoHuJP9GsD0L/ZUpCW+oZwfwpV0KAfPpAoPIOQkA5FUCQydrBC79kwhDUHEIexoVC1EmJQv7sAMLO76XCOK4mQrB9jEEIpZlAKMktwf76gUFOporCfWzNQRS808EE+mxCoNGJwZyDiUFgCmBB9JI3QdhdCcLUePTCwtc8Qtrfc0I+k8PCq+30wsBBD0HcZ3JC96ifQXU5RsL0apLBBCkDwsLA3MLwCeJBRHldQrz7BsLEPYNBcBUQwTyPt8HBkxLCo9HFQbhHOEKI11NCJTNnwm1pAcIgey1CTSxKwoQwZkJQjI7CwNP+v2BNXUJJ3I9CIB8rv00TLkIYrRTBorKlwhAPoMJw0ohBXekvQh9DTUI2FbfBuSNzQleVWUJhHl9CUq6EwqujU8LYhy1CYDd+QVXeVUKN/KJBkGy6wED07MHUJbnBRc+pwkCclz+xhW1CyMEmwUUZTsKAyGRAbhoRQhtbfkGhYlTCcCkiwcDgGb/MV3NBwB2UQeTaS8I=",
            "dtype": "f4"
           },
           "z": {
            "bdata": "xgpEQ77MEUOCkFVDEjZsQ+DiFkPY+xlD2rY7Q6a5akP0Hg1DYcekQ8Z0QkMSjl1DQFOiQxzl4EJYnDtDokVgQwUnLEPcUvtC30dRQ1AsvUIx0aVD9NhzQxT+7ELlu9JCNNfkQia5rENELIxC/udnQ1CVD0PgZwpDXPw/Q3rN2ULYdTZD+jTlQr1rTUOA639D+IlRQ39siUKaiDpDFVAzQxvxlEN2r3xDncayQxxNFkMkyQtDgD0sQxZmBkPWUBRD+tafQwh4S0OnIThDhWuKQ3Ibr0O2By5Dn2WGQ1aJD0NOimxDaqlnQxQ2U0OSSZhDkS9eQ91tL0PPdk9DEFVLQz/nTkPphnhD7E6TQyhqKkPzZCtDhQsLQ3wnRkMYkhlDErlTQ5SoAUNGVDZDzycBQy7+C0N+7wFDYuxxQ8wgoEOWwY1D/SAFQwxBoEKFkZhDBi2xQyAClUILQ2NDJhtTQs8huUJ0rGdCqJLwQtZ2kkNi4jdDoI0MQ85pnkNd/oBDmih+Q4Fz6kIY9JBDKf9bQ9oKLUNql9pCBqOnQr8glUNQ1CNDLWO6QzkXQkOOzZFDEk2GQwBfIENY2I5DL8QZQzOHPkM8IVxDd9F4Q4YzC0O6ZYhD1RcmQ1zTRENmdqtCbBuCQzbATUMJ/UxDutloQ6XWFEPWFIdDPtnXQv6YlkO4ClRDEgl5Q+CupUJOZCBDjitfQ6rGhEMC3j5D5fjnQhXWbUP3toJDroSPQwDXi0N/hmZDhvitQ7RguUPk7LlC+sPwQmKla0MQ90NDuvqBQ8hvAEOJiIxCJ34pQ5OerUMiB4pDxh9EQ55ujkOyP1xDXht4QhB/ekMx8lJDraqMQtSvqEOjYH9D/vcsQ0smq0PedJ1CQRKKQ+YvQUMqhVVD9HNlQ6pYOkO2+OVC5FFYQ9TPgUOyj59Dj7CNQ0PK+kICQXFDQ+dqQzbH6UJ4hEpDjQBAQwiH8ELKfB9D060BQ+qx9EJrGhlD6GudQ96HB0Py2WFDoOo/Q3pUt0KVtyNDxtTmQq1yMkNOjgFDoTphQ2KogkP6OGdDPt73Qi4VLEO/VjBD2/QtQ+DHkkMpc0RDqoBLQ6z0YUMtEIRCQK0OQ3ezV0OsiBRDJKECQ09BbUNMXU9D9k6DQ+zNAEPETIxDIgEiQ7BrNkPz5DxDIAJIQ93oBUOSantDqFW2Q/ikTkORw0lDSGZnQ2DOm0Nuj0dDx0KsQz5RG0P4gDVDlDYeQ95wj0PYKk1Dy2sTQ6WSiUP6N31DrPaDQuCSFkNOl0lDssy6Q5K/ikJFHQRDQRWNQ4tWNEOFrDdDZHgNQx+uAUMMp6hD/BiVQ5qBaENkaj9DIY+XQnyU6UIl2sBDONJRQyBhKEPCZpZDpsWiQnY2mkOcb+5CdjUKQyYVDUOQ0Q5D4vGOQ9LKV0OEgw1DEFpAQ7LgS0OIG0BDnvwJQ+KJi0Iu+1VD+LlRQ25UHUMke1pDBdqqQ/zKd0MzBHxD8dZwQ3DvW0MU6TVDzWUNQ0b0PEMUCotDknURQ2YQa0NkQWRDLLKhQwyD70LWHpRD4e8WQ241TkM+UkFD5iMwQ/pSlUMe0JBCIC1HQzT+4kJXOBZDTrBxQ8lHQ0NWH3BDQDiXQzbnMUNwtFdDjq+IQzqkUUMEBeNCzmFVQ0uve0MLqWNDBPuJQxgsvkIR65lDbqegQgrMo0NhpNNCAERJQ8aYj0NcBkZDmD7YQojKL0MjvkhDpGIcQzbYj0Nia2ND7ahmQ2tCH0NlDy1DhINfQ/Z8GUN6x7VCTRJWQzBMx0Jt/AtDsYx0QxoYGUMG2DpDJLU1Q4jEhEPoTiFDnDBRQ/ooq0I2lJBD6GmzQs9EHkOWA6dDck2RQwaSK0M=",
            "dtype": "f4"
           }
          },
          {
           "marker": {
            "color": "#00CC96",
            "line": {
             "color": "black",
             "width": 0.5
            },
            "size": 6,
            "symbol": "diamond"
           },
           "mode": "markers+text",
           "name": "Cluster 2",
           "text": [
            "C2"
           ],
           "textposition": "top center",
           "type": "scatter3d",
           "x": {
            "bdata": "grYWwg==",
            "dtype": "f4"
           },
           "y": {
            "bdata": "+Dh0vg==",
            "dtype": "f4"
           },
           "z": {
            "bdata": "SoJJQw==",
            "dtype": "f4"
           }
          },
          {
           "marker": {
            "color": "#AB63FA",
            "opacity": 1,
            "size": 4
           },
           "mode": "markers",
           "showlegend": false,
           "type": "scatter3d",
           "x": {
            "bdata": "GIwLQ+TVlsJ8ePvBIucVwrhhFMM/KTPCh9dmwi0s3sLXTsRChIDCQIHfgsIBGwDDPhxLQjLBqsLPDUDC5SakQtuDicKA9Li+vYrqQvH52cJFeTFCQ3OtwgwW8cEUF8HBKgKgwtoF+0IC0sFCZqwtwlzIQkJ5wkjCno/WQT6DNsLQnxzDEkGCwmABXUCA9PBBcBS/QvZ4OkI49mlCk6u9Qg4pDsNEuirCzszFwn6KkkI0V2HB5IRLQkC09MI4ZELCEYBowlPf28JwXjVB1jtmwgBS/r+/L7xCq1qTwm6CW8LQmKTCXqcmQxpkvcLoNiPCzu4mQsA43cIYyMDCRszhQTL7xELs059CIUKhQh1rGcJQpmVBerFYwnojqkJenxtDvp6tQf0oE8Pq/vVBYppewsZEUMNlwdvBNMxwwtCtR0HEAhnDz+C8QqgMD8GYXH7AgBjIwmXGVcIa7QnD4AyNwH+lHkNk9sXBqjsnQgC7mkDOQZXBWt+UQvpiP8OQp1zB64bewU21HMN/9BRCgH7qwWC3m8K0je3AM2GLwnJwokJ5DAFD5Y/+QrIbG8K4suNBmW6NwQkJFMKgFAtAKDoIwrwNM0McUkfCEBwvQXyl5MLwfi5AuC/BQTzXxkK0b4zC8Ds7Q/wKWMLymkbCwpUnwvLRxkJiNRBCy6u9wfUu7MKYuFpDAIuEviTYm0GZ4DFCmfcMQ1h1nEAJ9qzC04oNQ0iMssKYZ9lBYJk0QQlAb8LosHlBVg4gwypfrcJLIcxCQLYyPx7+BkO+7R5BbN2EQuu638KfoYBC7J5wwoK2nEFYiEdBZtp/wRUctMLIVAtDejxQwtBG+ME3Es9CulUbwzoC50KNAR3CfBbRwY74KkJeXg5C75RQw0S/eEI2qSXD0W5ZwisdhsE2dgNBZLylQohdHMP52QjC5B0Cw4h3YEIAggY/2P8yQmAfPkC0QstCIskSw25pf0LGYinCunySwZBVW0EQLZDCkHDWQmR+1kEER0HC3PHCwmDh9D+2/VZC0jmEQrxnPcOAmBlDmCYlQyCIsUEgasrAQTTHwhD2EUO3zptCzE2KQjJblUGxSR/DdxSKwhRmK0LSfzNCPmmdwqGbesHwrIjCyDu/QQtzUEL4FyhBSDWNQebbMsPOrY1CFv4rQlFXIcLwM7rAoxLhwjXfGkKGbIvBHEh+wigPe0GI4AtA1fxEwthAf8HYlXjCq5rjwle4q0L29wtD8kGbwuL258DGJZTBvEKlwhAPEcOgP15Com+rQubq9sIOIDLDj096wmAhg0F2yOLCzDqRQcqaGEPhXhpDGZJiwvTA9cKAYdW/8U7OwkSYscJon4VByp0eQ0D0K0DkSFJCs4wkwhAAEsI4LUJCQUCMQjKQYsI6rTBDlMGvQAhr0MLEwtVBT5gpwwGZFsL2BwLBZJa2wpVbkcEQBPo/tAoQw8Du+cGK63xCNoorwjxXd0L8TBpC/sr+wowOtkGonF3CQQZrwqaP30LkUABDDO0Hwv5QZMGwHCHC7gHRQuBp6MD4sRXC+FAbQfNRbMLjZgTDwwQEQ1XRCsLuOEpCvtynQu7ehcLAiTbBdpMOwkOC18EN6idD+Gq0QXxG1UFJiRbBllCjQrbgnUFmwE9CHLNsQphEyEFw1KhAzDuTQmhflsKsPStCDtGuQaKrj8Kg5j1DM4FrwouXysKs8lPBPk/DwXZOhEI0gNxClBDlQUjavsGAg0XDWvkzQgeJGkNR5EhDGO/CQgCYDsA2R8zBtTg9wwaW8cL2nyPChfCJwa+vtUI8vlHCbk2OwjX7D0NQH/tBxBhGQiWOSsJf68BCjgl9QgDT1T4eCBBCcoTIQWONT8LMeAbDqT6EwqBaikI=",
            "dtype": "f4"
           },
           "y": {
            "bdata": "EFsAw46Zq8IbjOrC2sV7wqXWZsMRhqbDBnY/w1MuGMOwiKzC9xgnw5dX+MLsoi7DQMBGwjQ1kMNKDLXCO+eAw2o7pMN03IXDPQi9wkaBgsPrS4HC7XJrw++2y8KiLT7DTlftwvSrecNotdbCJuY2w5QynMKCnoPDNg6ewsDUw8INlXvD6ffmwqlT78JFksvCI2tnw2UZIMP++bjCBMFgwwzhRMNc72bDmnFfw4afLsORZ5jClYDKwq+absO30wDDy/+Gw8kVqMNoTaPCqq+Fw3tl1MKeXVDDZsx6w7j6GMMEbzHDhtipwkXGlMPtFxPDsGUZwqLId8NiviXDBwoyw8QxbcMZqQPDcLnawuwvdcLnElXDUfAtw6JULMPMgLnCUD+Sw1XuR8OhNa/CIiHfwuBld8MnQxfDyozJwlkJp8KyNEbD7zEWw2RxHsIfhsXCUGASw+oeXcPS8ZTDB1Xqwv9if8PPtwfD+mNfwzeAR8PfsevCUMaIwqkkhsPQZyvD0zM2w1IFW8O6fIPCC4j/wgvy0MLc5gbD6W/6wsDmn8N654TD9Ammwr7Ri8IENPjCX6mAwgWjucOWgtLCPLmTw3ylQsOblMXCIALKwmI/KsMA7p3DKOtYw4bEzcK954jDUBa7wj7UKcM5guTCQ22LwgJT8sLMlyLDsPZGw4eIYcOkxSnDsXWGw0ULFcM8ltnCwByCw1i9VsO61yrDpMO9wtDIicMDuZHDyt2KwmjuI8N4XaXDTb1fw9RrZcNVWtnC+cjFwrEuW8NmxJjDFE/GwmKomcM50IjDXzIgw2K2LcMDAK/DzI4gwywEJsOjnmbDQg9ow5qilcIUnKXD+GNrw4iExsKZySPDaLD5whhBncNmranCTGCIw6TPA8OCK2/DSOqiwteTOsPqmqLC2Ptzw041ZMMM06vCDyFCw6UHt8IVp2XCst4Dw/pBDsOnbonCDzejw39mr8LBCSDDzL5Qw97accI8WF/DfOfowuT6E8OGDYrCIE91w/RwEsNMqLPCdIctw5D8acNw/CfD0q4/w9OtIMMuzJbD6riSwyJoEcMqK9jCeywzw4jYqcLe3KnD+n0Dw6xZx8IgTyjCBCw4w6JiIcNCeq7D9Jhlw6XeBcPcDmnCRhdOw1AbVcMVbbjCb6Nkw5fTFcNVjYHCwDpTw90IpMJZpAbDyR2Ow06XtcNuNYXDplOSw7YXdcKaIRvD0/udw86jqMJomKzCtbNLwyjPvsKKTBPCHRfFwgXPfsMni4zCh1Rzwy3RRsOWOVPDLpxjwz0misPCk0/DXJwEwlUJC8Pk/ujC+E39wg3DQ8Oew6rCNchcw0qKCMMUVp7DWF4pw5nIAMOwWGHDsG8BwzhIksOMCEzDItr2whOKocJlzoDD5/iWw/VOUcNu6ILDVGJnwyQVJsMoUEvDyWlAw94bCMPARhfD/Dd+w0PqBsMQmkHD1ckjw4oAa8PIj7PBElt/wwPOi8MQ7QHDsvaLw9zda8PtKWfDS3SrwmcmCMOjqDrDdae1wqy+isL1mlrCGClOwzzChsM9YXjD18rUwuP9vMKYVW7D82fFwqTYzcLMKnTCjpacw3i/EsMnj7TCR7oKwwffFcPxAd/Cpa3awrA3yMLEQ5HDSw7MwokIGsPS60rDVGKHw3vzcsOsNqvCZkKawsU9hcM80N3CVHExw+95psMyZgPDteFDw7bVOsLGLyvDdCYUw/YSxsIYQo/Dp5eDw3oUlsLKNUzDPM0Hw2gyksJUNt3C/xSAw3J0psOlIwTDPsgkwzKZNcOZxenCeCY7w5J/38J0UZDCuTDUwmtrF8M+AdjC/j8Swyg+1cId857D5hJ5w0NehsIWZKvD/11fw+BDCMM=",
            "dtype": "f4"
           },
           "z": {
            "bdata": "ZtBNQkiCZEG68hbDJ79QwhgZDsLTIHnC8l2YwtnxgcLEvGTCnvzjwrzamEGQ8U/CcKeIwkD4gMKkMxDCIdYgwwgalEJa9JjBIPxVQOoBhsLMIYDCDp0WQnyzEcLyCPFBoCOPQMCkq8LlEv7C4PALwz0rFsNNcjHDVXy1wTSUTMKg+PzBJtCiwACD/cLoX/7CePIBwDTUg8EAWxLAOPtaQnwd1EFAwkDDJIuXwtXla8NiEIlBYLCjwUg7VECw85ZBoMC3QdSHvcKyqYHCRlSuwbxl68LIHFXD9rNWw2Ay7UGCZIbCG6qpwkCD17/SXerCQGfJQMh+v8IIzR1BqFReQLlMO8NyGffCk/c1w672YMIavLDCoAWEwsZIE8OWFbTAeVeKQtagSML2h3LCcEYxQXL4VMHa4jNBisxdwpzmm8IeMgbCOGxFwr6OB8EeQ0DBpZuXwVPeGUIQzJRBuCgaw/aAG0Km7E7BHh/vQTrrpEH85R/CULQAweD5Xz9hpSXCEE0eQj5pysIAxu8+cte0wRyZ6cFYac7CEmYRwhIwyUKF6z1CFTAdQswz3cG829XCqA2Bwmg1qsI0FEzBxhgZw9iGZkBeqobClMjpwv5JxsIX7HRC5AxrQT9TH8M0jenC00RrwlBhCcOg/A1BAQWLwiSP/8JwTQnBlt7cwm88v8JEjw7CK+1vQjBBP8PQlBNCpEMBQfh1gEJDslrCoJTZwvxCTsJARRvDALCMP6a7BEJMWO7B6N4+wrDijL/0KIbCk23ZQahKtkDtO8LBzxoywwqS7EGWS0XDDEG4QUfze8MQfgHCmq3Vwuxr0MKqv27CfMNHwgr6hcIGE6nCtKoOwmYAFMJYq5xBQOL/QAjyx0JIKtDCfh6ZwsgEXMO8NPfCKDRpQWqdwsIIMtzCA330wfzye8KgtOHCeJ/ZwuBk+8AwtNNATJR7QY6lF8LiL+PAzhjmwiDA6EFUAHnBG+stQrZmqcIxElHDrO0kw2GtAcGsoFrCeE8Bw4gfYEGQQ6fA8EeQwsD9k8Cg+2ZBCYCYQpzrMcLsNIVBQE+Cv5xTmUHChixCCnV3w3igW8LmEuvB7BncQZBsakEg53tAnFb4wvpwncKICqjCcMx2QLi1VULkFubBkeYJQoBni0FQzupANi9BwyJx6MHCPZ/C6P7KwZSUzsGI78bBAufTwi9JTUIT2R/D8CYYQRga5MLEUlzCmgsKw3wBdMLuJTFBWLjOwfZWpcLEw9rBirAxQbwTvMJ40STC4/BlQmQy4kGIfHJBYAo9wB1CDMMee8dBYDIiQPaajEKwHzZCVPMlwuJDBUEksafCAMutPmA0b0FGS/jCIj/eQYQTB8OqE0PDIugMwmpMPcJEgqvCS9KXwowJHcL52wBCU3MNw9TJ4cKYeYBC1LWnwi0HE0K8OUpBfHy/wgVWi8EAjBzCityPwvwEVMFeZTbCj7kFw1z86cL8g2NBYBWWwmYqAEJel9fBmNVXwyScv8IAd4xBjMjcwrgAH8LwURTBaBiaQdAeRUEgbsfBt+Zlw7TQKsIoVV1B5r0nw0pxmUH3FFDDr74tw1iVjEHwcGPCqNAJwmKG28LQAuTAa6LKwiTlRsLC3NdBJtZmw1yqDUJ2zbzBLgZFw0gdOULBfjbClIIiwvHEQMOMiCbCpNDOwtlbEsLhCuPCnk0dw5LTqEEAPTNAKnAAQrEGNcK6d1LDNuuEwkhHGcNMSjHC1n0Ew1KcisJN/GRCvBjmwqCDCEGc39jCoNoDQLRhdkEhNGPBPr9QwcbBz8J895XBcCaSQLexNMOInrrC+DRpQctlssL7JgLDfDDCQRi3osI45GJAwI5TwoT4I0ElYKPCvMDrwixnEME=",
            "dtype": "f4"
           }
          },
          {
           "marker": {
            "color": "#AB63FA",
            "line": {
             "color": "black",
             "width": 0.5
            },
            "size": 6,
            "symbol": "diamond"
           },
           "mode": "markers+text",
           "name": "Cluster 3",
           "text": [
            "C3"
           ],
           "textposition": "top center",
           "type": "scatter3d",
           "x": {
            "bdata": "w/CvQA==",
            "dtype": "f4"
           },
           "y": {
            "bdata": "56Quww==",
            "dtype": "f4"
           },
           "z": {
            "bdata": "yKg8wg==",
            "dtype": "f4"
           }
          },
          {
           "marker": {
            "color": "#FFA15A",
            "opacity": 1,
            "size": 4
           },
           "mode": "markers",
           "showlegend": false,
           "type": "scatter3d",
           "x": {
            "bdata": "uVYUwp+tmcO821bDLGA5w//mzcKGAcnCbdAxwyKsKcIX05DDN2Mow+izBMM23N3CXc8nwww9LsP4QTXCUh3KwjpYHMLlw3bD+ZQ3w9rVHcPA/QnDyQRewrhvi8Pr74vCZa1YwxAGl8PsqzPDz9z4wrNE8sIidH3D5Ou1wmhlZcMaXrPClE1jw1w8X8LAFF/DLDoPw9L++8JwvOfCC5uBw6B/5sIKGCPDgMYSw10JIsOvY2PDh0yZwpL0rMKt4krDViQBw26ORMPY5wfDL2ODwiHMVcNVUk7DmbkVwzalNsMgFY7Cph99wzpkuML0+LzCWiXtwh4RQcMHNlnD/4RNwzDuFMMCkUrDlYnYwgwgUcJw50PDluynwrYaAsP5V2LDi4J+w8J398LOtxzDvh7+wq8xosJMVxHDM1FrwxQUAcKvZ4rDKLsjwzyg4MJHtSDD3JNUw6fEDMOHwRfDxCFxwmPSzsL/qFbDmEr6wgT8X8P02v3CUR+3wpQr+MIdJ4bDVerxwvSaEsNhwU3DyqI9w3RuSMPa9zzDxjM/ws/m3sL7fVHDGNRqw4jhIMMuDI7CnOLvwjXoDcN+xy/DYNV1wwiAQsM0+6/CEMilwuKAtsLx09TCg3BRw4BOp8NLEwTDJydKwyqchMMTBQ7DnTPpwgAQEsOq0Y/DPgxvwzT0ycJEmwrDKE2Kw20we8PaI5jDsJuzw7KcIsMaXovDA6LwwiCvQ8N6VB/DSRBXw5qCicPFr5TDWOAMw1Dwn8JvNWfDy2znwj+eSsNsqRTD0po6w4oDo8Ni5KzDZODUwhDCVsPgDerCa9Nqw6/H6cJ+CMrCvnLAwl4tl8NG94nCBpnjwlBvC8MD8ErDSTjJwtYYQcNEBzTDQtSrw6xN+sK/lDTDuYFWw1p7a8JU7W/DWrs6w2rHM8K+AmDDcAILw3vfL8OU/PjCy387w3HmucLqAgnDZGlgw4BGEMOtSdvCo1oCw82QMsPqWSLDcBEIw2SYjcPGFXjDXGWKwrkFMMNOFGTCPSBLw2cXDcO5Kt3CYvEUwzA4A8O22irDnj2nw1YS+MJcc/fCck45w5ut/8IM2wnDKEzTwtImNcJtk3bDIFYvwgxxYMP9hgvDRoo4w1wfdMOqfWDDMogIw+9Od8O6h47D7E5Pw5k9g8LSmpLDKSFGw9il5MKLzA3DJ4TSwu7RUsOHGfjCDqBIw48Rk8IEI7LCBRwGwwHkNcPTngXDZyB/wwSVHsJYKpLDlAwuw7b/NsNxTp/DN34tw/gYscMkLqfCu9lxwkHQGcMWJYzD12hZwyghV8PopUrDwLOIwx0Oa8OGVCTD1KScw2XyFMPTvIfDEPi0wkOgf8N7YbbCMMAtw3Mek8LHezzDGJwcwxhUaMMgbTrCpOwtw6alpMPrk1TD05LMwjpbhMIeHUTDkLYQw5SMJ8MUt0HDcdURw4+C28JZmkLDnTw1w2yopsP5pEzDr+FZw1Nt3MJGBjPDgJriwhtHbsMpInbDh46UwzJgtMJpPDPDstkrw25UvMJt+Y7DiLEww5kyGsPYhdXBxYAkw4DRmcJ4BXzDNQjywoYKWMNoGRnDlp9hw7ReicP/KxrDlFoCw2fdP8ONRtnC5Nujw/B7WcOUR5HDQekEwxybtcLuaaTCCYLXwtbs0sJySZLCVC64wkGMrMKMtWXC3R0jwr7EdsMU0hPD5b9Cw/p5X8JU/HfDND1Hw/ZcYMMYpx7D/iNGw0rTQ8M9pDLDTacNwxbjVMNvxpvDtpAXw1qqa8PxHFvChoLOwvNercJc8BTD2kpww9qGQsOfiyLD/hEvw6VnGMNVV0bCpKpdw0qFP8NG04bDNNHEwmgt98I8mRXD5u5nw63ZZ8M=",
            "dtype": "f4"
           },
           "y": {
            "bdata": "CGn5wUou68JXE0HDOue6QtC678IqiwRC6+gvwijLGMJnYgvDSUadwsCcCz/YVTHByvuOwsskTsPmKGvC5HiKwdben8GEBlPCNFIOwgD0GsPYdZbBz7yLwnZEicLvGk3CmgZSwxTsmcKzFrXC/BWFwgx6D8MA08/CbnXzwp1MQsMUPEdCTH4lw/lutMIvqDvDOC7RQVotJ8LYfOC/O6zmwvgcScIiRsjC8G8Rwz5/KMNmqkfDetEvwlPbJEKG8ZLCsFEQwxAu7j8MR7DBiIOfwpRH80FNKQrCm3MdwsrrTsPJTfJAiYkiw2BETUKwVaq/ULmhwGU/6MJMi+fBXkiywN/KB8NyZybD8l40QtTUx8GsBwLD/EHNwed0/sKsYZzCoxwsw+kiCsNET07AQFqQPy0PpsFxGUHDRl4mwwQLH8JkKAnC1rS1wpfo5sIfXPDCJJbXwWOVOMKHJ6PC7nWowZm6EsNkrkPDrxB/wrXN18LOirrCAOYswV3C08IvaRnBw92Dwoy7YsFlOgLDfntOw3WPvsKD8sfC/bmHwrwc3cKz6y3DGXcDw/DVV8NsIcfCLdGHQkDqIkLy5TrCiM7/wZBMOMMlk93Cb0qwwRylKULygQDDePkLw1iCt8HJi7DCw5cIw0GX8EL5QzZCdOQcw/6A7sLUQRHDwrmnwX+7usJj78/CPPYJw6EN5cIK9SBC+VKdwvqC58K6OyHCbljGQsIpQsPQMSDDwaBbQoCoBb6hDQ7D8d1lQXxclsJWBALDsmYNQSmoNcPfMg7DwMMXw50VhEJJbQLBSGONwuFRxsIGyDVBYG2vwuguJkKfKc3CcHPWQI0XIcIIhQHCPh+UQoiFW8FevIzChJ0RQUmTuMIpYynD37KJwpF6FcJqHXbCoKsvw9wnvkBoCBlBnkC2whs2TMHVa1fD0FgiQHPPQ8ObNuVBMaaCwhRQAkLqctFBp2Xwwv4ttMLjt/3CxGdQQBs8WcP26TPDRGjewnl5AML8vf1CYNQNwtAQ+ME/N1HCMubsQf6NNcKuXZrCbKXZwlo2DMKnCDDDnOaiwrV9hcK6YMZCa6ZKwgj2hsLijYhChHRFQvbqAsLKH67CcJySwVU6U8MqviRC9t4fw4scOcOeZkHCAIgbPoZ5o8F5tuHCCMWJQnywBcJxvRLDJHrnwsPikkJ0AjDD1G+1wqCp8sEZ48nCmNkfw90B6cKajRxCiXDpwq25VsN04ZzBVF/kwemqLMHMxSxARpkWw/cWYsOFyAhCIlHWQYnt/cLu06rCmFMBQQwMMsO4h/bCp+kZwy4xR0I3UyTDhqhYwkHnX8Es607DO5DZQcTaC0LUqBXDVqWiwnwNwsLrzabCNUWeQfEcScIgWBXDPCpMwtVy+cIATVjCTvD0wJfbUsJwMWFCcL3FQSBUfMGkBxPDgFduQMtM7sJt7CvDYWH6wnD5aMIR/GjDNmNDwxvhyMKQW6bCcB/Mwcms+cKcnolBTYYCwzEY4kIDiCDDOt7OQAMhXULRVELCNgoCw6Jnd0I98pZBOkMtwz1onMJuFDbCbN/NwYJM9cHUHzfDYAQkQg6gXsJyW+jCvKrgQLxzJsLESTjCObuIQaaq3MIuOYPAC1CCwhvnRsKgd4zCvj2fwhRvisK28UTCHLSYwpoXzcFvUw5CJJPowny9tcJGMZZA85lywQKvPsMqNftBUC+0QcBn/7+n1XDB4fXHwgYBiMIHPQbDB20fw+tZL8M0m0PDQCY7v+PTTcOULObBf+vWwjAMvcIYAZxAU9zKwpvYIMEgLcs/7NFHwpRRJsJqZWNCDxAhQSRYdsBiGAjCiXR2wprNHcOxMr7CCnEZQiczK8NKsSzCKjOGQtakD8M=",
            "dtype": "f4"
           },
           "z": {
            "bdata": "9HSUwnGj78LtJC7CoMK4wlNOCcP6KBrC1DUFw/iDFML7tpzCDO3kwTQ2jMKQnLXBKnfqwv5RF8OsTMzC4A2GwrT/RMLAAonCNpLFwpBLA8LjJtbBNhPPwhYqw8IS6KTB3zOVwg49esJYhLnBaPA6weQ/98LIegzDggbywstJRMMkH5DCvC4+wgC97MIfPw/C8SM7wuB49sHIhVfCQpeEwoO9iMI49wDCuC85wp4NHMOsZvTCAGiqPuK3rcIiq/7CAEMKwhSswsJeorbC2wSgwnJDo8KYz63CUAUzwm2GfMKVRGDC1q4RwgCIgsJAzMLByBbowjpygMKM3ubC8/S8wn3TacKc2YzCKOuYwqKN+cEWQUfCJnR0wnaLzsKiyMXCNqaowii+pcLOHnHCOOlSwo6w6MKb9S3Df/ALw9i9p8Jd+MbC9oMtwjvZE8Mg9cDCWJT8wpz/B8MQlN/AyFR0wspdC8P4qVRBooEPwzibG8Og0F/Bdm3RwlggAkGfsbrCcFCgwZQjKMI49dbCMpetwhQc7cLi5yLD1KfRwpo8GcIq/U3CtfufwUYo2sLWB7PCPBeQwnlj+cK0DcbCoqLtwsDBuj8CaUHCy3vywt+BnMKKhlPCwpIIw7J4FMMhsgXDdXMDw9Z3EcOcxtPCdfUXwzokEMOleQ7DoCv7wthtO0FkHAfDrFrswion/MKc1ivDEanCwkURVMIGGQ3DUKGwwgTUH8MYzh5B1qvXwsYy2sIUYwPD5DpnwlZCusCSjR7C8TTuwu6JMsOcYpLCtscwwsHCCcPcaSDDluiHwu4nwsLmzUjCqLcdwlQ0RsL09VrCvHb4wZYMAcMoS7HAABK2wlY0jMKmJdrC+M72wWBuFcMgPYzBOeQZw3boCcNwATrCJPetwlXRmcIlqgfD7QV5wh/plcLAO6Q/bAlbwnJOqsIf9qnCZl29woFeU8KdcaHCZ2urwrCyUMHYHyTCOJ80wii3wcIABuA+AlUWwxrPrMJQ6wTDt+o6wjCtvsLAcIw/OWuZwlhdz8HiDn/CryGwwvptvsIz7wXDYhsnw4Cgir8jyLnCYHKDwmbQ8MLI+M/ChObhwrCROMHaYjbDXM4/wmiEn8B3UInCwXKewhxAJMNUHALD9oyDwvDqxMKWgabCtViwwgDBMr9udvXBXlEdwsodtcIUyrrCAOnEv6PgnMKQBn7CtH91wpI77cIeuczCKNH4wqzDI8MG88XBqd4Mwx37Q8Ioy8nC+qrHwrpPLMO8EPXCLNXzwj9NiMIAQGM8kHIXwpUAKsJHY7XCvMu+wnktusIAo+0/AMnhwrh10MJpjRbDMAYCw+j0Z8K/6hrCACrJwoICLsMEEQDDlqmfwjCRm8BIYN3BH/8Ew+wQucIo/bvCqobawiRdvMLedwXDa3tfwgTHMMLIpqfC1rgiwopeB8Ni+CvCGE8VwdCHm8K34ULD9SIbwx7uNsMI7OHCCIaVwknqs8III4zCdlWDwnde8cK7AWjCRvAuw+wcqMIKvv7CqSoaw+C+jcJsGO3C9NvhQOrLJMJWA7HChnDHwvBaC8GMONHCvqWfwvbr88JT/hHDjbEHw+aWMcMwf6rCFYCQwjkvl8FfxabC9BcSw2uPgMJzlibDVDHCwjal18KA3urCPqvswhPJo8L6eOTBlCqywnusl8IkzlvCAHAeviMrAsPc9KTCNGx2whzcvcKLTsfCoPwiwm5IqcJTC7DC+e4WwnCrhUFKPhbD4klowjy+ncGoD+LCAFSYPw3NKcPGCo3CAF3fwqmNv8LvMSPCiF/XwigXk8JGF4/CuNQOw17XFcLg3YTBtRubwtDDY8IJh67CLCIjwpi4BsPoerPCWMv2wo6d9sI=",
            "dtype": "f4"
           }
          },
          {
           "marker": {
            "color": "#FFA15A",
            "line": {
             "color": "black",
             "width": 0.5
            },
            "size": 6,
            "symbol": "diamond"
           },
           "mode": "markers+text",
           "name": "Cluster 4",
           "text": [
            "C4"
           ],
           "textposition": "top center",
           "type": "scatter3d",
           "x": {
            "bdata": "GbAmww==",
            "dtype": "f4"
           },
           "y": {
            "bdata": "C91owg==",
            "dtype": "f4"
           },
           "z": {
            "bdata": "+Eaowg==",
            "dtype": "f4"
           }
          },
          {
           "marker": {
            "color": "#19D3F3",
            "opacity": 1,
            "size": 4
           },
           "mode": "markers",
           "showlegend": false,
           "type": "scatter3d",
           "x": {
            "bdata": "oesjw8t5usNI6knDHeIkw6m4OsN8JpjDHW0yw11/VcMERFfCPhXRwt+7tcNLgoHDaizmwtbtXMOsArHCi7hAw0jBRcPLAIPDn0Aew6hHJcP5liHDQDkaw++ELsOgiGvDaCI4w8e2d8Mipr/C9k7gwjDWI8PYW6jCLQAQwxES3sKaC6fDHv2Pw6zSWMNadw7D+v0sw5B0eMNah4HDRtBIw/5fPMNpKkXD8tqawqTsksOQwWbD3gAkw4bPx8IPf0PDmIuBwx2EEsM42DzDEw8cw/pLecOO6SHDUtEiwze5RsOxtQXDh1+Tw1zeZsNGfw3D2J0Sw8aNWcOQYaDDsZ0ow0zUOcOU5SHDUl0pwxvHg8Jg13jDbFaPwzrCZcOOPGbDC20Vw1eaO8PCaDDDCAz1wqt9fMOc/0bDHFeGw2gdk8OqkQPD+nC0w/wq6cI0bCPDZhASw1ZUp8NlG4DDgp1yw2EpJMOmmFnDiChAw+dSWsNaGSzDn+MSw9KnmsPyA6vCAzNJw7AtJsLfmCnDDLx9w2auT8M2UpDDXPOJw9WeisMVClvD5qIqw9u+28KuaSrDEb4hw4fhTcOTcurCWuclw4jpM8PsOI3Dbup3wwQ2gMPzhYbDnJByw+KSNcK2ZQbD/EnuwhrhLMNW9Z7Cxn84w5Z4UMPS6YDDDlpBw/4lhsPZkBXDUtpUw3USb8MVAh/DhCRcw/vefMOQI2bDFthAwzciCsM5oh/DdphowxIfYsPyq/3CnQgywxI6G8OOiTLDxxEkwxLHWMMG+YfDoS3lwuB5T8PunzDDPRKBw9Sij8Mo9BzDxcBVwxNcUMOCVmzDENI+w9DgXcNmf0TD3lWGw5YjuMJSMI7DrHF3wgy7TcL9owTDevxxw4TAhsM0TXTDbAIEwylzbMM//RrD7gaBw6fkhsN6J3LDf9Aiw2ATNsMuWFrDXrt6w6IJiMNz+lTD83w7wzfyTsNmXIzDWioww96jU8N6DjzD6F8RwxDKusPsSQvDN1kdw0D+W8NeOybDLDlyw3q/McOmSIPDiqGCwwgzesMbePzC0zEuwwVxjcNpHWbD+OBpw4ELgcPqNSfDErvVwnU7bcOObGrDENWqw6zEJcN5pRrDhAobwwQrkcNwQBTDJvfxwpU2JsNomrnCiJpMwzRI7cK9Z4rDJaZOw/zhO8OQNpzD1ll7w9aTEMOcDV3DFTtCw/WFGcMY88fCUoTpwh64CsNG5ATDABfMwgLKNcMHXqjDpmOHw+11UcMnXPzCqkOtw+oGhcMCYG3DfeaPw+wskMNmHd7CpgZswwqmtsM+M4zC0jVBw7SpssFxHqjDDdpXw81xK8MUEDbDtGgew4OJasO9bi3DJFaRwxMAL8MUqxHDbDmXw7JfLMPE7yHD9WyHwzlbvMJQeZfCRrSCw5rvVMNf54LDtCGZw6shccO080XDbPuSwwL8qcP5llPDdjoZw4ujjMOzlwPDVi2Bw4Nz3sL2nfXClD61w5GOK8PIySHDBPAew2/eGcMomDfDzwllwz6BMMNZuC7DlMJkw8r4f8P2IXDDj6Saww4LM8NEXi7DkfAjw6VOTcNCTi3D3q2Ww44TB8PmsAzDIJdPwyw9D8N+EwjD0hINw+OO+cJKDP/C/bOKw/bG/8Jw03DDQyGIw2CpfcPUDHnCqeu1wnK17sLc9WTDnFE1w0xRUsM0HPLCOjwHw2TUbMNcDvvCrjmzwrV25MI+/3fD48Y/wxXWZMM4J6nDXoIgw/C/esM0wgLDhbJyw+p2RMNEtoTDuCeawuvCHsM7L2/DvQz/woS3ccPcqWHDVA5WwyzjPMPYkYLCQmZxw6zFecNztoLDpdVbw5itlMMedZHD1xXHwpZtjMM=",
            "dtype": "f4"
           },
           "y": {
            "bdata": "wjLdwqH42kJMgxtCoGkYwCjfHkJF+bhCuagCw7MiokJsl5bBwp6AQsJN2kLeaCbDpo2swmB4G0JA94BASMQJwrD42MGwWetBsKrnQJ2MiEIippXBrtkrQo00BEIQQ/tCfTKNQkg+90A+1t3BNHLLwXlG2UJGei3CZgNhQnz1AcIlsfNClhkGwxeyFUPSTzHCwxM5wviE+EHA3g5DXcNlwmCDHMAcoxtC4JgrwrvrwsJSEgjD7DF2QpY1TcIaPqBCCtG5QhqwMsL+uMdCwMMeQMaMPkHG5dXCbdCzwqzplELCgA1CGmIcwrXMq0JA8txBkJqfQmiL60I1l1hC6mgaQrA3ssBQEHlA5NjGQWBWbsG8+2BC2aNuQoD+7kK+ymrCUpOUQqYpA8I8pJHC+cvOQbzojsIsWu/CxOU4wq+w/ELIVmxCc4WfQU41j8LCP9VCR/d7Qi4zBsLgbwXDYRtUwllIr0LjBYZCZk7lwpu6JsGmk83BoTRgwsmCycLQGCDBwo5LQm7XrEE6MKxCOz5hQkz+VELWKttCbYmZQpiT0UK05h3BUUHBwkCL2sG8FkbBEM+MQnEoFcJ8huxBeZSEQQDy8MAQAf1BpGd2wjQ8DEKPRi3CNmKjQjAS6MDOA9TB4u95QlMaw0Ie1g9Cm+CSQqofC0ISoLjC69WtQsCZ4cKSFahCoB0lwcAx9ULOhwrCaGH6QYAOzkK2J+7CLEdZQjnT38LqemVC455MQjBmdEJhND7CUBPHQbJaw8LpiG7B8JFSwgcB2EJa0AFDdNuWQv6LbMIrv/VCCmxGQpbnMEL0BcDBW7ThQgKZ7UFgTSPCfsKwwXZ6YUIIMOZBb3qjQkGbG8KfSsPC0BKSwV/mFcEJkPRBKd9Ew483ucLcNz7DdpewwfHQZ8L43rlCJxrHQmh0J8OtvlDCdAqQQKDhjz+AUzW/fjYjQ+5ShUI8iU9CDn+kQfDGkUEhGR1DdFOAwbsX9EEKfDTCCkyXwsp8msFw7DRCWlnjwcz9rkG4/fVBSBIMwgL8RkKl2jHCbCHsQnz69EGzM/hBVFMVwh4nV8J98G7C/9OfQjUyXsJ5v67CgPkvwR/D6kJV5gHDMt0GQeTdyMFZPMJCA2AHw/r9ykJasilBuMWKwUXJkUJOAMnBgE1/wJSZAkKnewjCgjGWQpDhZEHvgLvCJO4Lwz1Fe0LZRFjCeNf9Qi1KWkLo2uDAnfifQfLQ2cJYPZXBoou7wq58UUKRDvXCZVsNQyYfFELnlxFCqTdNwcutPEIQk2FCxBtfQf17kEIJY43CddY2QtoVsMFQKTJBFMOEwUCpzT/9OkPCTtcFQiAXEEHldLXCCqfBQg1Z50Hj9slCUbD5QutT70KAqlxCg/NOQpeJ4kKgRBfBass+Q1j5ikF0fkPCQIl+QN1UIMONqPhB9YwzQ6Lo6UEwaLzCHvcHQxGb2MJUNARD3CHNwnpas0LYK+7BBQClQYBN7UAQrChCCk9XQaUIHMK8mlJB92pZwXfI10E27LxCftS5wji9kUF4XeXCyKsYQtYGvMJDgKbCiq9mQfXzH0Jlg6VCjFOmwQA1OEAc1S1C0m45Q0UDg0JEYA9CECBLQYyyjsISOwjCj9EwwgggZMLTj+VBHpyfwvTabkL63/ZCXUsJQ264i8H8cWxB8J/NQN7DHcIkp5HCu5ZAwgIGzUIwVLzAPuQxQpULIsP8LNbBgFbxQNhqbEGWLanB/BZVwvkH+ELxpR9Dq/uWwowdxULYxYhBaM+WwuBDQEBHoQjDVk0WQlOFOMLuBI1CvhRNwjqknEItOsNCSrWtwnvv1kLMQYdBriPwQi1kRMLWmC3D4HDLwm/oLUNkiy3CJHVkQsyOykI=",
            "dtype": "f4"
           },
           "z": {
            "bdata": "i3eQQucEBMO4ZLTB6/HSQghmgsKUE7LCnKNNQtDWlkIDmwhCsHnLwRdfpMJAMtW/ZHm2QdpLF0ImIZZBGg6ZQrAwP8HZ4KvCsLzNQQp0o8G41iTBsNC5waSF6EIcqP5B5flEwnigG0OEcuhBtIZNwfp5S8JMeCZBZm/XQoBYGcD1cAXDerWBQoc2zcL2lblCqG1Dwd/Se0LsQJdCoE+SQslBCkJoZGXCoEXOQPJsrMHAYIvAgPw5wijZukHANyu/wHauwYRWjEKa/NlCLGP0wXQViMFmiIlBAGsDQqMcjMJs2jfBiAtEQTwyukIEkxDC2HDnwecLikKAqEVCUAjEQeSuYUJARBDB3OqPQUDZwj8QBOZCAHhqvxvk9UKW0sFCAMxiwgLSsUJQUxXAVnSpQmCZ48Gojm5CCA8IQ2xKhMHYMEzCQAnHQMjCG0L/CY3CFK79wS2cSMJwaENCSPAtQuIuIMJ89FrCgZmbQobe80L6tglDJA1XQqhWrELA65E+aEwiQtB4JEGAJD7BNXwJwluErELDTYBC+HwoQ1RPF0MwNTNBpjmmQRLIqkL7MNBCbPbrwdAiPMF4J//ARJgLQmgmAEOCRkJCBbZmQvyk70ILvWvCGphZwvKSCUJXWoBCwF8uQegyRsFEYh5CusywQlplZkLYxo5CJ8cGwh4770EYKO5BAIvwQtoS7UKQGIRB7dyqQnAM9ULCsXlClRvTQtj2ikGyIjNCNQ8mQwh20UFA38HAF7TkQv/GW0KIn4FCfrPfQp4NkEJgU6pB1OIIwnHTBEOM2kPCYSCgQjETocLKEl9C46MSwoePt0KQy+LBbkOxwcLlj8KglT7C5L40wiuLiUIoXsFCYm8kQsA9UEG40chB4j56QghxrMGYqoFBQIOOQLILUULAoGRA+CMQQcTzaEI3XQhD6K7cweCLDkEcfY/BYGUqwlBvu8LgXsvAEOwdQWgdm8EAm0E/3CW9QjCDt0EIJLJAUJcyQW06mMJk0KNBGAHxQnDxeMIFDEXCwMkpwn5GvkISn61CfKh3wbJGmUKo+9vBoM4VwSQU5UK7nsZCQql0QhBAIMGahMhCoAMoQsKXjUE+6iBC1FLiwaqw30JooKnAkHVBQkSB30HgM0zBSGbHQZh3e0KoU2VC7BUdQnUJLEKArxZAOAj0QpQoVMIOzUlCqL1RQTMVAsIo05bBWha4wjy7LMLAPYLA6tWTQtz7wkGAj06/pBuwQZR35ELDkybCOk7IQk4jDUOspJ9CNK1swdwKT0M+xiVDVBDqQglIhsIEoORANlDiQgY1HEIs+ixCRAe2QXaypkGu3HzCKADhQvgLqUE0IpNC32JEwphNDUOYP07ChgwIwr4Zl8JlkYNCuo2EQva9JMK0G9BBNqADwzAFmEJ+dvpBPw55wr4SqUKmqIrC0BpLwedvf8IKvG9CWrsCQgD+vz6AXwdB4DbRQbg4q8KAtIE/8gbRwe4tbEJYq4dCRYLYwrRo4EJo1KFBjADSQlSaFsKYMXZB6EvIQjDapkKLUqJC0rSYwpafRUMonVPBk46TwraVoEJ09hfCYO6BQlsJdUKWQYxCcSi9wnKqMcKw/7bBhndzwoQIlUJQ4kTBBFmKQUxJFEJTjolCtl9dQlC5XcHghilCu85VwkA9LsGIOatBKX5JQjTOX0GgBJ9AOgrTQjW+h8Jb6DBCEFMcwTfnlUJqBSxC+L9MQlpYo0JArNQ/QaiHwSjG1sHCzBPD9l7XQhap4ULznlFCihLqQkDXkz9zlA9CIDjewFxzUsGwIV3CBh1NQnLGp0JYWb3AzBA2QgyCD8JAyOpA1IibwcIRMkNInQdDFn9ZwZUH+sIQ/6VC3iwhwlySLEI=",
            "dtype": "f4"
           }
          },
          {
           "marker": {
            "color": "#19D3F3",
            "line": {
             "color": "black",
             "width": 0.5
            },
            "size": 6,
            "symbol": "diamond"
           },
           "mode": "markers+text",
           "name": "Cluster 5",
           "text": [
            "C5"
           ],
           "textposition": "top center",
           "type": "scatter3d",
           "x": {
            "bdata": "aotIww==",
            "dtype": "f4"
           },
           "y": {
            "bdata": "RZm9QA==",
            "dtype": "f4"
           },
           "z": {
            "bdata": "ysDiQQ==",
            "dtype": "f4"
           }
          },
          {
           "marker": {
            "color": "#FF6692",
            "opacity": 1,
            "size": 4
           },
           "mode": "markers",
           "showlegend": false,
           "type": "scatter3d",
           "x": {
            "bdata": "2nZYw64k1cGw7GzCrAD1wBrBJMLabtLC4Sq2wSRPIcMiiCFDfkXewkbuj0E3neRCPDuoQVAiZsHkgkNBlJBYQcTuAMJ4O89B2OsuwljaskLIAoDC4+TqQs6920FyOXpCbAUewrunDMP5QFjCbHiVQux3KsO8YADCh4IowjllFcNnw/nCsAtwQTiGjUKsoADDGnYWQ1TgKcNjfF7CQpOfwvRlNEHwKALDu8m+wmwjZ8FI+RjDDPeWwKPbTcKUkbbCi1OeQnazsUJATdxBOEunwUokYELzU93CSBEGwox4yMIOHbLBzHrpwtICBENi0gPDAuxEwoQn48IejcLB52BlQiO6C8P2hQtDqnSpwoNLxcGhIoPBVCgvwn1vD0LrzUPC5BnywbyjN0KTmrLC4GCiQagLXUGHyIzChBFHQns40sLdzdhCgsePwSwGB8IwawrCJNK8wazO7sI7ourC3NeJwgt3r8F6OTtC6oXtwpKTlMIhc4HBrHRQQYRO28LVt0ZCmkXTwbVaGEIAIYlC8X9rwrekz8LA2nVA5g4Hw6w2BUNo1tJB8VkNw/IZBMP+g9bCUQ0QQyD+wkKBRpTCjh89wuA0KcAASzc/38kpQtPAKcO2x+rC8QMFw1ilE8NYJZ3ChZa6QjySOcKQ4DHBCjoQw0lw28KwKOlBaITqwkjuokAI0DBCewWHwVxt9sGaXejBQM8Jw8IME0NpPxXCXxUXw+TUr8L/M4fC7qf0wVyViMIWYjnCJHqNQc5U5cKAqXTAivwGw3RdS0FWFrdC6i9Kwph4hcA20VbDLCl2wv6FIsICGztCpMoWwzLmNMPUTAzC20+nwvxZzMLqgFhC3IoHw1wEpEK+F5bCE7ldwnW2p0LMC6XC0M9kwKoNosKIc45C8yxwQvubh0I0GBBBjRGuQrwfQEJl+rbClkdkw/u8FsOERvvC6qKawbLNkcIKfDhDMkLawYUqn8KSnvbBIPOUwrDs5sGsAlnClheFQh2d7MKAOMRA/GAVQ93vm8J4AdRBBBFwQVA/RcNWBqvBooikwuT0J0GUf9xBJt7Dwrx3GsLj2HDC+PMKwWqk+MJht9zCNOI7w0xlOUGUYoHChqCXQqn3F8P6hP/C2nHFQVvY70KioAxBLulnwsbsqcLWtvtC/Ow9w+q4BMNFW6xC5AdPwzjYcMIDNBrC/44SQj5iPMFYtErCw1pkQtYEiMIgckdBrpvqwp0vDEIgZspBJk1Xw9DeP0CuIMBBUM0Tw5ErhkLg5H9AUJQ7wzt4EcNg8SJAdrGSQrY4j0KuR9LB+Jb5Qc7v2sLG+w1DrgQfw1QLkcDuJa1CXL8mwyyz+EFwvu1CBHoxwgbBDMOAWUHClQ2jwpwG+0K20alBkm5iw54sRcMyja7C3IJhwqznHcOko+pBgLHCwh5z7kKSNKjCOvBoQmqTg8K7JblCo/fgQpiB3kHQVzLCmWWkQjYrocJW25fCqmd6wToxQcOcvFbBEJQ8wAl0b0KGaUHCSbYYw97DdEJ2J7XCpCUvwzjj/8LF2IbBRDTSQWhDu8HAcCDAXgtGw80YLcNx3KpCgqMxwx5wc8K6q5vBg8bwwRt+j0JLaxxDb3fOwk4xxEGX75HC/NbyQTF/2cK/ihPDGDz7whQTHkE3ZK3BuOnYwX+sD8Jq/c3B+RoywsEb+8H1SgHCwAabwOySlsKQVenAXCbUQbC+q8Cp73dCmHHxwYShfML+qf9CU3sDwltRuEJbHc9CMiKpwjbRWMIog+LCgZD2wV3/o0IOI3PBcu2rQlF1w8JTHdZCESLcwlTV88J8hGFBSL3ewfL6N8Nv8o5CfIgHwoqcJELsx/HB9tLtQkBDtEHQHGFAtPfBQdj5ykI=",
            "dtype": "f4"
           },
           "y": {
            "bdata": "UdwTw8rC+sIcWebCw6Eiwrw8k8IO5VDDuKi5wjaOXMPBlArDO1HzwuI1UMPSIc/CYOc4w/FFT8M5QyjD2UqrwtmXG8PUWmDDnEWWwtDM2MKe6MDCsBRuwsR/g8O6ggfDXShGwyMGAcMHbCzDKbRpw3NzAsNugXHDAWi3ws+YD8NadRPDdY8Lw85aFsJ/pkjDJDC2wpinScOm+qrChdFCw+Tq88IGDCLD+EVKwxjQOcNk1sjCmtcmwxc2ysLjcAvD+s1fw/u9hcLEXVHDKTfTwsDHJMJgZYDDT0kJwnzqrMLOFvfCnWyCwzqbrsK+tjjDINKWwvQZM8M0GVHDExFpwkK5GMMjhhbDOBB+w0zlt8KeaWnDeiKawyw/4sGpVvfC5VLewqhjgsIQHDPDemuMw1ZI/cK1uIDDNrruwjpTXMN+x0rDccRMwin+GMNbz5/CdH5jw3nmZ8NxD13D2Lafw0g6jsPaiMTCbJenwrNzo8JkJA7DtEBXwqNs8sK8TNfBZKSwwXonm8Ic9UDCkM8Ew3rzIcOM/CDCWp/7wpQEFcMM2Y7DE+WMwjoVLcMgg8TC6FBHw/DtZsLyDjzDKCsqwyoUe8PnhkLCRgi4waokC8NJyA/D02AGw2TLNcOI6UDDVBiGwjD/JcNWsvrBXXkhw3TQxMJZS/LCWnqFw5peH8NexhXDjR0rw2YSm8N55vXCxscMwwFf8sLdd4bCaGNuw+tLpcLu4b7CKqsgw3W07cLF2cTCDgIHwzhFSMOGxknDBqR5wxCoIMHkbBbDX695wpoqS8PuH9/C0tYmw5hORMM1AJvCV2Frw4stJsNrGCnCmKUxw/oR1sJzPWzDcKTGwulIw8LPTYDDBcL6wsiyVsMLpinDAG2HwEr8usJwTprClp6lwWi9I8OCtRHD5YnmwpQ278IDoMXCzzh0wzQjasM1kFvCn18Rw/epicMqby7DcgLhwomf98KIetzCMTl6w/B14sG+sSPDMIXXwreAHcMQv9vCSI0vw4ZCXMJlmFfDlBr2wqf4JMPWGgLDxijLwpEDesPM4MXCq7yPw9YqwMLoOvLCeV0Uw2BFE8OPcZ7CHMtRw2z1OsOJWRXDP2BLw6sFqcJyExTDNJYRw3jGFcMm8YXDB/gqw1tagcMkOhfDTSNPwwkdbcMV9zHDAcV8wx9+gMPYkHbCmOE/w3DO3MIaCiLDdbAwwlS/AMJCgXfDLLobwwwP4MEpalPCy+ZJw7NGwsLMsfjCSjJNw35wTcPiNZjDst5pwwN4sML6bBDD/ITcwlc5XMOmVoTDaMQawyYvScN7sljDHbYkwxOUR8MwfB3DzqYvwyiLQMFGS6fC/cMYwsL7NcNqDbvCjmA2wrb37cJJfHvCnZz/wugnMsMSxM7CieDCwr5CLcMf2/7Cz8SvwqqjrsIHBnrC3JC7wm7GkMJpXcXCZBDGwkS2R8PSgsrCa+X6wvxhd8MPLQLDfAuxwtbWksMpiiHDKJ9awnxK0cLFm2XDYLsfw22B1sJeSjrDp2srw29CJsMXdxLDxVbzwn5ZHsOLVkDDx1N6w7ILYMOUD0/DHuGYwyGOO8M/6pDDidfKwnXz88KeMznDoP07wzA0I8KA85/CfDaBwzDuKcNFpS/DUaEuw47hlsOmkCjCPihvwrw4L8Ox6BPDTraYwrSK9sFBgX3D4cldwwtMksKL/xzD8ms9w1qLT8LYhZ7C4fkCwdTFoMGWep3CnwnkwiLBTcM4ctbCChjVwvj7G8OB4QLDzrc4w36SHMPU8LvCVjVjwvKaf8NSrfHCXXkswyqrH8MCLCXDc93dwtDjb8PMZanCoA2rwlxNPsKZEgXDrt6uwmjnB8IkISrDBldfwo6Np8I=",
            "dtype": "f4"
           },
           "z": {
            "bdata": "VpUEQ8fXekPwN95CNa7AQgo0hUIrJiBDG4kkQ3Y63EIIlKNCRvzrQhztIEPiHoJCyfhWQxa/qkKumz5DgrkhQ7QnykIkCjhDQHAoQxNZRUMykjRDuf+MQoxoOEObhyVDgqmXQxndIEN/fy1DGPTAQvYY4kJuwYdDnCuUQtICYUNC2CRDXLAiQ27we0I0FjJDcYw5Q6U4GEN/9/ZCsFcbQ5FhRUMvsdJCJMJaQ8Q6lkPaYt1CMALVQupUrEL8mUVCYFdPQ9+EREIRq1NDWX4eQ6W8fEKQoktDYGC6QvNid0JSANpC+39nQ3SjMEPmjRdDnT6KQpGhckLpyk9DWcfdQkSKREOLRGRDRMuSQh5xD0Nm2chC4nAQQ27l2EHNZ1BDu8loQwSCg0LmDcNC4/FqQ6gOEUMmJD9D5N0kQ0J8H0OfBSBDdnPJQt6ubUJgqrxBFRpvQw/QD0MC0YNDNxnvQspDKEPUfsFCyG/dQgiVNEN6d3hDyR6SQlrRBEPIBf1BHpt0QsUOOEPg1k9C9EydQtrSLUN49rBBbPhxQ4wuH0OTXgNDjCH6QqNIF0NqMUFD3vPYQrZx50Kql5BDtVPDQk75EUO+0q9CmptGQuTJzUIrKpFDWwscQ9HgB0LWo9ZCHBYwQyqkUULKknxCEZsVQymV80IgeKZC8gFIQ/cQ50IwC1RDlXFPQxeIykJ97zhDBv1rQn+KtUIo+f9B+FyDQjTeFEO7WLBCz1WBQvgPEEP+bo1CHr+xQkn0ZUP0LptDwMuBQ5ZVeULtTDFDHz6FQuCJmUKgQGpDZ5VkQ8x7EkMsR5xCGHc/QwhT7UKVvYxChhKtQj4Fv0KxMDdDPqs2Q5oigUIxGcJCqkraQsQwskLqoIRDgGPpQUmWhEJw9EZDhrKaQlV2akNUIZBDPKGdQq9FdkJibAFDf+7GQrCEjkJ07PNC8Jk+Q4zf50IKTSdDJBc4Q/607EIOTUdCbWxrQ9TWokIk7vVCGCkvQyRMMELtoxNDwQ6uQoLavUInJOJCbjzLQg8wI0PodAdDMX4rQsbkrUIQbG9CeIEaQ4l1skIBQkRCSLFiQkR4R0OZUmhCdoYTQrxRqULnYVZCZj5DQwQ3A0PyWYdCtA0NQ2nnEEO+bBNDS1TYQr559EJ0jg1DxvveQdJbGkNYd8tCWun/Qbqu2UKAcOJB8ESKQprf8kK0N55CC4uMQuOTg0LFDgdDj6EnQ7p4MUJlnYtCL2SuQvsE/kLX1jxDgiO2QlqKJkNQg+RCqmDxQsSB4kI0w7pCpDGDQ5SpSUNQzhVDS3OEQ8aPiEO4h01DylQPQptnfUIEIlRDADvWQhtuRELQbdlC3mu/Qp/gCkPgkqlCVJmiQrc7JUPxp7JCEpIuQxQSCUMeMVdDks2fQv+8cENqVx5DuG/mQXQtUkNYYkJCoxsXQyLlIEN+5+ZC7sgrQxHBSUNXURFC3VGTQ0tgRUMlTaFCnzmAQu4Fn0I9cN1CZQFVQisb+0IJnhFDVlbvQpIlRkJvgjhDBS0sQ5B740HmH4BCQgthQvDt10IFUz9DnPhEQz6iy0L4lQ1DmwHLQm2Yo0KHZQBD7pW0Qo5YLkMFMAVDAauMQn15PULO3q9CCgxlQ7thPEPVBQBDLrIYQxGHK0Mi1MJCIWYEQ8qgUkMRaLxCGLC6QsZ900EJmsZCeqWEQuJ97kK1SfNCRElJQ7Z28UIZVQlDHFFPQsy8X0JlwnVCZZoUQ4QP8kLgBR5DxFhyQjthN0NGFMJCJPgCQ9Q0CEP2gI5C7M7rQiSELUMT+l5D4GcqQ/DWT0NjGnpDFDqOQtrbWUOTyxBDUDrlQWgq6UGWjN1CbK/NQoE/j0LhzF5C7etYQl4RNUM=",
            "dtype": "f4"
           }
          },
          {
           "marker": {
            "color": "#FF6692",
            "line": {
             "color": "black",
             "width": 0.5
            },
            "size": 6,
            "symbol": "diamond"
           },
           "mode": "markers+text",
           "name": "Cluster 6",
           "text": [
            "C6"
           ],
           "textposition": "top center",
           "type": "scatter3d",
           "x": {
            "bdata": "5Tz9wQ==",
            "dtype": "f4"
           },
           "y": {
            "bdata": "DAQLww==",
            "dtype": "f4"
           },
           "z": {
            "bdata": "aoj4Qg==",
            "dtype": "f4"
           }
          },
          {
           "marker": {
            "color": "#B6E880",
            "opacity": 1,
            "size": 4
           },
           "mode": "markers",
           "showlegend": false,
           "type": "scatter3d",
           "x": {
            "bdata": "+G8XQ/FQEkMYZiRC3CQrQxfgDEPvdQlDF7qHQr6EjUNkmsNCsWklQzZzD0PLVn1DkigBQwen20JzREhDEBajQ5udyELh+W9Dpgi4QgRsgUM1fyJDYScrQxTNhEMUBZRCggIRQxmJIEPl1a5CegvwQg7KSUPs5lhD4imMQj5rgEKtAfJCepVTQyDDuUIi0i1DC+UnQ/aPIUM1NcxCnzycQ9B/4UKji91C4n+KQ+qEbENzPG9Cy4FhQozdk0Joy1VDZC7MQjiZ9kIRanNDikL1Qpb350Ixy9NCQ3fQQrTsjkOqKHNDDMPwQjIPgkMbHe9C8OnrQv1tpkNMO7FCPO/WQomBLENUUJxDmNNcQzb/4kLITitDVrQIQ9BLNkJkWzJDqieiQ+gH0EJQr55CwkiSQ8CZZUKp+AlDn2R5Q6eAkUKrHoFDVSs1Q7fo/0Iem6pCRp4yQ+S/90L7CA9D/C0WQ2YIQEMhELFCqmuJQ/wvQUMOGhBDbk1kQ+b3kkLWMehBI6I9QoOQHkOomtZCs6h4Q/Q0gkO37g9DYIq+QjqPBEPooO9C9hErQ0eLwELg05dCTMgTQyZdk0JIW7VCjtLZQrgCiEPkQ5pDEqiYQUAEwEJ7i55Cb70SQ/JcmEMJRglDR64WQ0TGmkOgfhFDrHIYQm68DUOfKwRDLJojQ0KOkUNsFuVCCmuTQ7lPREPWjGJCAucUQ5Dr/EKiJgNDUaigQ5D1LkP+WWRDS0poQzYCG0Pm8CND7i/+QrCILkNQC6VCAt7xQWb8F0MXdlJCImOgQq1wu0Lkh/pCzqdlQxP/o0PvmQ5Dwu8JQ6ZHGUM+pI5DvnRIQ3pDHUIQhGtDIcD7QmtloUMEH5RCCNjVQqtREkNMrAJDpAyZQuRvjEPCAstCmrHAQZHIakKCTs9CHgxCQ3LtKkPjTPRCpH/mQoRUY0NKJAhD6K0EQ77i7EKsdv1CdCm5QocAN0OEUsZCJvInQpZo/0JzC9tC6eQWQ6sqNEMTvQxDBiyGQyQZ/0K2h1xDUuGrQu4vc0PskbxCEa4DQ0XYcENmhB5D9633Qk8cEkMMsDVDlDqKQnPrE0Pd19pCy5IzQ0HiDEPkurxChg4GQ0DtgkPta2BCesd2QgZcdkMH/l9DagJGQ6bZM0PTWxJDXkSZQtCSfEM65SxDsCAlQ6RlBkNZIAlDhmYBQw4xHUNiTaRCDbx1Q6T0tULn4CdDweUiQ9aPB0OOhcFC0GcPQ94mLUJ5ojtDer9gQ/76ZUO8GNpCfqCWQ5s1mUNBDx5D4qlNQ5Xv5kKCcq1CUCeKQ/4ILEOCPVFDNQgOQ4SlCUN/sL5CrpFYQ2BHSkKmZBNDluJ4Q4jwO0PlEpxDmJ0BQxzQY0NQF0pDvDD4Quo2M0MkDWxDmPN4QiJ7zELiv0RDUwTHQkY2k0IOZitDTFSWQ3pfLkNePjtD4JuYQ0UzhUNiKSdDmGGZQrBAn0LohVhDi6suQ3LaAULGsm5CiDA3Q+9CXkKVwZBDAsWrQt4yo0L47E9D5l3yQuIROkP0klhCxKHfQk8RgUL5tMdCWpZIQ7KfV0NuTINDOFdDQyvVmUOEL95CoF1nQ61ms0Id3cNCLv8AQ6INfkM45XFC899WQ0P/CkO8wkpDMAY5Q/6h0kJ1P/tCA/EMQzgRSUJsyzhDArJcQ+E7q0JXbR5CdETSQub9nEN802dDKelBQ/vpG0OvZLhCWBuUQl1EEkOHFnZDI04tQ8B92kIZ/BFCeHioQdBuJENLt3NDPnCiQ/50J0Owk/RCLsFcQxHdeENBkgpDz095Q0/NyUK/vtVC8BUOQxWaREPtNwdDw30uQ47IAUNCuZBDCP4sQ6KiNUOK58lCEuuDQwYGCkM=",
            "dtype": "f4"
           },
           "y": {
            "bdata": "KKOdQpGcv0IIV4RBWBHIQS9+hUK4jLpBZlo5Q6g5mUISV11DDGk5wpplHkOACyBCIEKJwNV6QkMRXn1DZgZwQiyTJ0JRIh9DgI/QwZ6xkkIH55xCQGxxQif6f0KGxXVCkICVQ+mm/ELK1YFC7FEeQ+xkYULMTX9DvOCwQqDWQkMsFSxD+q0oQ1Qt9ULMW5PCaUGAQ7SXDUPEnwpCKc0dQxDpz0GCJUxDaHSUQm3MAUPOj15DE/UiQ4DcI0PQCoJDpMyaQgjer8G4Kw3BnUlGQ7ag0EKEBs5BMcIqQ2+fHkNwoVLCkA8BwRhtuEH3quNC4F0PwGZ8NEJekfdCUAlPQ7sVb0MAaGBA+tlMQ+r5GkMjRlRDzWMPQ7KMlEIwPy5DwC5/QL1AQsJWKoBDcYEpQ2B4b0JlixdDYVrjQtCV+kHesZRDag2mQsYaBkOeJwNDjqdPQ6D6RUN4VX7BvoEHQ+bYLUIKHjrCS9EOQ/sgMkPLyKJCXDZnQ0rSSUNDOINCBdOkQm7FzcEqnxtCeMemwdhplUNkMEhDFQd2Q2gROkP1pyRD7oUXwmTmjEFw9ztDoAidQ2cj8UIgO9dBVJX5QjgpWEMaZ9VCfka/QX5hNUNCkMBCrIFLQ62CQkKaBjJDNBOyQeLDMEPAeAbACWZlQba0IkNchttCSFcawkfUEkNOYaJBgIcFQ8TJesKeOxpDti2tQtsookM31/JC1BQzQ6bJakOA2bU/xIWEQ+aykkGMMNhBBtmJQ05Om0MpLYpDUNYtQRwyskKh1GZCIM22Qkm6Q0OyQhND8pE5Q24FEkNF32pDhua3QiDlQkPeuWpDmsccQ5Jx6UKMTmhC/D61wXEQFkM676VC6hiGQly0PkJU3ttC3IiDQYHD8ULitTtCCL2sQgvWmUIznfdCrsVTQoeT+0IavApDwFE5QTh2jELQ6kTBLrvsQsgY2EIA1hTCBIdyQ92unEOs31xDBBKXQdf+5UIwFW/Cg2OYQnbhjkJbbDNDqET6wXDNxcD4vLfCejRdQ0DVu0IyZk5DIgaCQ0SsaMKdfflCQRIMQw71tkLay7xCbhSXwfkoYEK2kjlCMmwPQxITO0KJR15DkKDBQEXiq0K1w1lCwMYfwPpqGUI9Q91CmQRNQ8mYckOYrVjByju+QpEoL0MgTItAW1sBQ9Z6dkO0dYtCxngCQ4iwasFQe2hD9eghQ1Kcl0KuqRlDfFYAwjDbXsG2Tz5DwMtlQLhWrEIQbPzA/nBwQlgavMGt+IJCVyMbQ4NBjEJAI4jCgMVAQ8R9NUOQNjdDAvIJQ8QqTUJOaaRDXdzsQiqwgUKskJtC35ykQso/KUKevhRDaEWkwTi7gUMADRdDHneAQ4iHYUO4jaPCE9FaQk5QZ0NoTAzCUA5VQW4mqEOKM6LCqTblQlGMu0InHQxD5MAqQ6pJkELgZuLA6Im8QjxyKkNyMFlCjjvXQrDmrEGq05/CAS8QQwAODD/6aalCvEWGQohjdUGQeOjBTz3bQsPtnkJ6kZlCdncrQpFie0PrHatCbNasQumlJUOA+xlCsyGcQ6K3n8I6CxVCZ+tiQ6AuEkIQ/pRAdDdbQr431EJq1j1DUPHDQr5LhcIsBAjAbF0jwv/o8UKJPJhDKIlmQkC7scBCiJpC8CQiwS/1XEJu6hpC5F4DQwZOEEMoZd9CEL9oQwydmEJOJSRDeCw2Ql6o0UIu/55CZt2VQibb10LkT41DtIdxQgDvvL/ywglDD8IcQtveb0Mqz5HCCPuSQhDd2sEAHY9D1SjxQqdPYkOwAP5C3JvTQYOQcEKMBchCKn+4Qo57nMJ+NihDMMcgQ3r7HUO0OULCqmUUQ5AErMJoFltD2jSMQ+x/GkM=",
            "dtype": "f4"
           },
           "z": {
            "bdata": "hFm1QnuCVcLAKEy/UGw4QTQG0EHcrB1Bpr0iwt7UZkLa+3HCeHEAQ7QJNkFOYLfCRcM0wtWGg8KkArdC18Lgwh44l0LGAXXCKmSEQb92i8KKuMBCqE8rQ/aSPkIAvZLBgPQZwjoQlsKgWRFBSPOSQpl0iEJVF37CgLzSQEwP3MHMzajCpLAYw1pRn8JofVxCOWEYQzCdPUENHuXB7x/LwfjMikJ8Bb7CbvrwQqEmgsL0n3nCgLPjv8poxUHmJbLC6rWtQvYEnEIsRiXB4pCGwtODIsJnBARDraE9wuiH70FJ8tjC+ELpQsJ5pcLTH5jBgLhHQNyHm0E05kTCaMJPwWhzkEE0NxrCsRVXwyjUEkJQO7HAgLBXvxRtdUJfvitC6Hi5whCPnUEQS0hCFpW7QQ5Df0K1wKjCuTYFQwpeLkIyoLLC7HoXQriYGkNWFCBCn3zkwj7/mcJbzDfCCMBLQc7HLEJSLhtB0FtpQpSxnkJ7TRDCL3+XwgzI9EFfMEtCrDwUQvxs9EL0PH1BTpOfQZB/2kBQvJJAsaGbQtZUPsLGWqhCKCHKwTloV8KeGDHCWr4+wkK9zMHNyijCKOuQQo/BLsL2AT3DLIwsQvIGacJHRxpCrOAUwiPWfMIc4jNBKmuwQldiBcMEGfPAuDx6QpqcWsKp8R1DgnJqQnVGJcNgBfTA8CUTQfgS7UIA/zQ/FB4swSCm28HekLVCC4vXwjQD4kEwUghD9V/Ywf4NBUOrKuzCACHEQqY28sHkWF3C1FISQm5WNEOjy7JCY2SUQpBnxUCoD8VBvrVJw43/0sLgi73Blq36QsJZtMIiQgjDEkYMw0DMr0CENBDDLLVIQtifF8PoOhjChxecQgOKo8K9lkDC5h4QwqgkycLCNgTCRCCaQWNctUIxg4PCHinAwsT/iUIfMLzCh2CBwgE9OMMELIBBmH2PQHx0XMKgBmw/3juKQZDC1cH2iY1CQJrKPzbCFsJUbbZB0g38wrXkn0Kuob9C7sYhw3xw5kKOm9RBUKvKQsbOsEJuNi3CfPBcQhrhEcNV6T1DXbKWwsAbUUJsbdrCgKX3v7BUvsDgalVBIsnKQUZZ68FMdIbBcOseQkQyHsEkpaVBDPH9QTiC4EDTiQBDrlCOQpWV58EgUqpCnLSnwcK2FULyyB1DOAzZQes1lMIitI1CHN18wfgSF0FaLIZCAfBewwD10MAwgRHDIO8CQ9Rj8EJkLsRCEO5GweCmjMGtJ+LBeL4qwfZj+UKgO/dAalkGw9rfpUFe345CxQuewkaM1MHQr5bBPpaawjRkEUPsNMjBfA20QtCFdMDW3nXCsHNxwhAqjEFLsY9CdNuNwpzY/MLwiBLDhVDXwmJsiMIdyEBCrysdwgoF8cLWtHtC/BudwboaiMK4N8bAsKm9QBh0CcJ4/HxCKP+2wmqJQkMpIiTCmv9qQszgrMJjlgNDSw62QuDljUFqf+TBMKMrQ7Sz2EEgzIhBpdrBQlAsdUIw4LvCoBE/wfhlNcIWb+3C7KB1wvvrI8IS9AJCiWslQh+fgMHwikFCHkwVwbw+QMKPNiDDHZ8NwxhvjMCLW7NCf8h3wvKtIcKg+9RCedsGQwgMj8JoK65BlFNzwVZ8M8JmJ6jB3ngSQ2TKvUK+soXCKbsSQ9TYs0F8SodBOKcDQpuvGcIgBSZAkEhYwa46N8IL0MjCahb3wZSrhEJo7wdDFikuQgYOpkHWg4dB4muTQg2hekKIP9VAaFqwQfrpK8MMUixC2TedQqeDecLkutpCwFD3QuRWYEECkb/BgBpywY7RN8JY4fLBFX+HwgCXycJ4k51CJMgJQ+pSsMEQfcrCAvvfwtmBN0KdaA1C5TwuwkqcuUE=",
            "dtype": "f4"
           }
          },
          {
           "marker": {
            "color": "#B6E880",
            "line": {
             "color": "black",
             "width": 0.5
            },
            "size": 6,
            "symbol": "diamond"
           },
           "mode": "markers+text",
           "name": "Cluster 7",
           "text": [
            "C7"
           ],
           "textposition": "top center",
           "type": "scatter3d",
           "x": {
            "bdata": "zr4aQw==",
            "dtype": "f4"
           },
           "y": {
            "bdata": "KgLSQg==",
            "dtype": "f4"
           },
           "z": {
            "bdata": "SsRBQA==",
            "dtype": "f4"
           }
          },
          {
           "marker": {
            "color": "#FF97FF",
            "opacity": 1,
            "size": 4
           },
           "mode": "markers",
           "showlegend": false,
           "type": "scatter3d",
           "x": {
            "bdata": "XdsgwlYYQMIk+EZClIQtwp/cwcF5FbbB8BrPwaMzfkKW9YhCU4vewiuLc0IwHVhCINc9wq1Uh8J0fZZCAADVP3CbQcH8Po1CkFlawcCYpcFQjaHCc5+HwkWrKsIoR5BCylydQjqqucLgZk9CnxWWQiTm00EXulPC44cmQzwaJ0JyD+dCyhDBQXj3GcJAukpBB5EOwuCAy0EoysNBoPRewdlNeEJoeFRB8n5cwjdhjkLypdNBhGlhQi/Q98HY7BdDtP/LQgS8rsKnuu5CgN/hv/DRCkESuhjCKDMVwSDgbsLQ95jBxAwsQ/AAccEQSrpBgCf9QRRtv8GgseLBoEc2QTZ/MUPmiZFCeCm+QgDxwcH5g5jCeNwMQaA2IUDAg7dChQBZQmBvf8KKxG5CDO7vQtuJ5UJ7Ix7CmlKdQi3YZcLYFs1BKcKJQuyXI0PgYZ1AL88EQ2s4HUP8redBDbkkwqSWJUHAg5BBUpOiwryzoUGp+AzC5DaDQkjAiMK6A9lCIOlqQGBdhcBAQDdB2M8IQqAG1T+MzlzBFh5QwjghiUL53KjCkOuOQvgZSkHosa3BFGheQg2vysEMiAHCJDGWwTRCEEHq4xJDaM0DQntFSEOwQeTBaO4vwWAHJcJgo5vBssEFwpLStkLgqwrBxtabwngwyMF4zNxAQCGgwuBvxcKUv7pCmJgcQW/p4ELUTFjCiF46wmAd+kG0OEHCKAJRwigYksHX96xCWNZUwb5YOUMIAdfB9E4uQsTmG8L4/YpBBBU9wgnKPEJgX29AACNXQjAQu0GHgz1C9vcSQ1A43kCyRpDB0By8wv/EVUIgVDhAbnJawpZriEJmRATCFIAHQliQdEH4K4FC3MwOwWkKAsO+mVDBEO2iQlxC0EFoa3tBQO6HQUDkrsEKBbFCXMy4QuxwCcLZ/7/ByK25wcnxlMIxRItCwHRZQuDFYkHxeYTCCtTVQUY3K8JC5ehC1k2zQjj4DkF1ykXCqF4rQlhMCsE4jbVC+LQGwpKNaULSn7tB6HJlQeloTcKgk5PBCGZWwgVHCkMEiVjCSMsSQyTQ1EJr88dCNgkIQ2jrzcGUNAbCicZswuamcsIIFsRBoFQMQsQ6LUITOifCvmQCQhrgLsKCaI7CenvZQXkEEEK615/CEGjFwQNKVkL8KjDBPBYkQw20D0LgaYbAdwqaQvTYGMIwNaZCGq4nQuHr9ELUorbB1i4BwxCIJsAiarjCZCUwQaBTfEAYaQlCjGFfQqR/bkKMlTlChDiLQUJhzUJcOpbCEjTrQTiA9MAOZ2PC6mglwl+hEcLIAsdC1KO7QkpXG0M/8vdCAWyEwTQ1ZMI484hBQED3QEB9ncEMr9NCKmUPwo46dEI+QONBxG8swhQty0JQxuPAYAAxQKzRU0KVeGFCQXr7wdDn8EFGvaVCaMxDQePlnsGccrfCdG5vwoPCAkMar63B0uOEQcj5hsGKm4dC4DzGwECpLkDjPspCXHLzwSp0xMJw8z1BwO87QjtyDEOJ5/XBEhW/QfzME8JCWbnC0FgzwXAdmEDcuqfBQ/pcQkh1y8CVHFLCGOBQQS0hS8KUhIXCWdhMwvyygcAEoJ7Cj4FtQui8YsEOJzlDlG1pQjkh40KIR/5BCEAgwsue60I07BtCML8OQgDURz208HtBOLuCwVKDZsJAq8bAjGUgwq7czUIIQoVCgVc2QkoSi0L88gBCAGOgPuC0AMGwlW3BZi41wusyVEI7XaBCNG6FwUJcD8JE14VBWm/oQb4stULnFrNCFHpQwoq/d0JqSstCIo4aQ1wLakJ66GNCEIPmQSjp7EIw/iXCXP37wfh3A8J/E8bCgFaAwmjJpsENc+1C8Nt9wujUpcE=",
            "dtype": "f4"
           },
           "y": {
            "bdata": "G2daQ+iFfEK7avFC3l/DQihGvEGCuYbBSpAPQ/C/BENZK2HCFm0SQx7HKkJ6bo9DYMVJQ20T9EIKXUVC/0sswe3XAMFuE3FDQSNUQki9jcEjyW1CQsJFQ7pvw0IQT/zAFFNpQQErrEInnx1DwFpSQ0Asn0LLg8FC8sjQQvC4xkKL0W1DkJf9wWi8Y8G66VdCDAZYQkwxr0LawYnCh2oRQ+D5QMGD9cxB2KMSQ1KGjUPwlkBB7Bgwwk5cE0NDVHxCbENEQwwGREPUSWHCrR0YwfRiBEI5aSNDyHnKQsAtzEJZC91CX9uLQihH8ELQJKdABeXUQnxevEK+G4xC76uBQrgLwMHXgBBD3lrhQc/LSkK80txCddKeQvWTmUF8ljNDb5f8QizAOkOgwPTBAJ4pvzbmBEMMgqxC0L5rwUtb6kKcg7FCgA7AwIipNcLFRMDBopYLQ9OJzUL7T1RCHYLmQmi2wEFusQfCosbHQt7+MsIoXW9BgCHbQYqAQUOQCeJC+tYEQxIahUKHSMFCeGGLwUAB80Gnpz5DzUjqQAHYKEPqm85CxOP5QaoUIEP3MXBCFYCtQsCmPkD4ZX1BusgSwkZNJkKOcr7CO1I6Q0xLskFnx3pCuMtMwUZvMELBBYRCYcjyQs9xLUMgK9/BgjkQQzpZAcIsvilCR2V2QvHBEkMKcoxC59tOQ0GSh0O6tgNDstHFQpMJlkKcfTzBurT0QSiJ/0Lm0WJD6LlTweCLvEILOQ1DdFDowVqhwELf/CJDDN4dQnksFkO2aQFD+pkiwstScEMytTRDzi8nwpQBLUKw0pFArJebQixP/UFyARJCJlEtQigkAEMg0T5DAEg7PsLzAUPkjlFCijMOwoMl5kKAm+JBcH4GQSw0xkDePwBC3FkcQQVmA0IET9tBVGKewbaUHEOokSpDjbMQwetxKUKWzydDO2bqQuB860CYXdFCFQQ1Qm/9FkOYKCBBXJFpwmAjpELFE0NDOKw3QjpPPcLIKQNC3o54QhLRH0Kh59JBSYmiQVNAuUL0azlDDNJGQ56Q28FBAidCcN+XQVCQbEFY5NbBQ7qAwtD1zEKG9qBCjSjCQgUBQkLgkA5CTIeJQvi0jkEKT7JCJ6jwQig6q0KcTsNC1HYRQwDeEEA9IuFCJ/QRQz4uGUMYYCHBaMVmQ1QKvUL4kz1BkF5cQjLiGEKKiS9D1Ks6Qru83ELzPe9COt1dQ1rNSkJJMKxCUJFBQ8BZPcD3pfZCsBOaQ42n4cGYTSJBLdw5Q5JdLEMbgv1C9i4EQmaPVEMUDDNC8JkRQ+Q8pUAWiyfCAjOTwnGwLkPlzuVCkOLlwInIK0M6rCND+6jMQkP2uUIWQVBD4uJRQxaODENRDCND8YYYwVpIO8IsYkPCxEwIQjobhMJIX4dDu7EWQ2GsoULVLuZCMhYmQzBB20DKqDhDzLAQQ8UOBEOrGSRD0KqqQc2YNUNCtAJCooicQgSU0MFg9HJBYOLgQg8mLkMWCvtBGJYPQtitnML+iYxCJJd8QkL6mEFUnbpCzUXqQgShx0JeDEJCqNddwktqBUNAwApDrZ3oQn8m2UF88hJDvtZmQlBmBsLmOyFDLoubwUOkPUPhHZvCGIKawcTCBMIQ4wpDz0WHQrRxpEImmv/BNTHFQeuZ90IaVUZCUemqQuODMkPl8fJC4KEAQjkMCcJsRoTC2OVUQvzdEcKwr0XCAGGjPiBMrMGIl6lCAk6rQg0O10JLrgBDYODqv0xoa0KEKlpCV9W5QoBbN0LgwBnBIIg0Q3BBpcFgazpDk+3PQshNiUMkTRRD1y8+Q7TTm0MY8F1AuAW9waz0BkL/NgVDU7LbQvLoDENG5TJDDgB9QsA0278=",
            "dtype": "f4"
           },
           "z": {
            "bdata": "fjYewwdlOsNhb7vC5r+owsDKB8DAJ0PCh4Btw+h/38K73rnC7XgHwxUYE8IjjBDDI4gRwzJXWsP7vH/C1XQmw0jUeMGwkgHDDkhPwpRGNML0VoTC8MuDw6raM8Khx0/C2MNjwwQcm8KDrlfDdDwCw3Qp/MJsmTzDAO8vw+ZVjcIj/GvDWARswrKRlcI8lE7Df1GmwjMKMML1USzDcmSzwpiH2MLNHe3C2h4bw7r8H8P+xzDDShzywvbAFMMO8xvDjksIw4iIGsPA/rLCY9t9wnnmScMMhPvCVuXGwrvohcItpwfDaEVlwwhBb8LHPSHD37/OwpDEsMKQUMTBOelUwzA3HMPvtEjD1vegwuFqT8OM8YTCF6V7w/zz88KE3U/DDMnLwkAg3cInSfHCG+EswzIpBsMFEyvDVHRbw2LotMIueI7C33ImwzP7GcP5A6DCEwkXw/5QUMPWbiLDtUgaw5UwjcIpxiTDM/gYwxV+I8PwO53BobQxwxXIC8PjRQ7D/MoWwwxAyMFMpnnC6cY/w1xBrcG2y9bCqSmMwoIGm8ITbyTDFUGJwtBzoMLyJVzC1sFYw2+xdML4WiDDWiL3wnSQKcLUs0DD09hYw0r0RcPUxTjDh9oiwmfZPMOLKXPC1PeQw49lNcO6ryDDY65Hw9553cIkV/TC9KalwoJP1sL4wgLDXORfwwzxKsNOpCjDhTlaw5FZZcOcUPLCqMDtwkX6a8J5rlrDRiytwWlYNMMVNmzDaYsww7wpusK9MVvC3AyOwmwiv8IAu7XCjBjXwmx8HcPi4tPC920Xw9TL3MGosARBptoFw3TT1cK4NqrCaz4Jw+iqh8LnVHTDHimiwkUX38HNEaDCkMbiwjE388JUJtDB3MGgwnkRCMNgxKpAZrfxwqAdTkDswY3CIvuQwiujEsPi4NHCcC9NwlT1C8NONtHCsFi4wtC7yUBFNA/DrNNtwko338JcKLbCFKCRw0n1Z8MyOTLDkgxDw6Qr9cIZw2LDxDhlwxBzgsPwiXPB1KdrwyKEKMKCdznDkYM+w+ZrEcPkhB3C6gMgw4Z/qcLGzFDDQyYLw3l/hcIQ2rnCoP2Twr4jgMJ0zPnCTgR6w7WIKcGE2cPCuPB2wzXgdML2vTfDRjV6wrD3fMKoMcvCLpIlw/bIfsJ+FCLCRaxrw7YOA8LYwYbALIHewi9IHMIUvdbC/dBawzWQFsNqQpfDwAtlw8Br8cG+yhLDGrfVwg6+gML72ozDrGkMw3ia0MFSY4/DyIntwix7dsO//0HDYJSVwVQ/s8LbmhXD6VAKw+y/bMIdcCjDu1kNw2Lgb8PzGJDDthfswnCEM8OogGPCkDhBwwLnxMLaeDrDoi4Yw7DXmsKMKdzCcMnRwoJmJMOA8wzD4DFjwrowI8N0zB/DJ/SCwt71osJYeg/DuZu4wgEtFcNKCiLDrQzfwkYoC8PS2y/D5A7YwlCD+ML05dDCugHCwtrLPcMl0BbD5k1yw0MCDsPYrWXDK/1Cw5WTN8P4+WTCbwAbw44pm8Kv3YnCtDWDwygKDcPvna3CFeYOw7ieAcP5e5XCjYiCw2K4FsPhdQfDIh8uw8o3jsJJig/DiL6NwWfIo8I+7gXDmH0Fw2GcZ8P0BAzDG0Uww687c8OsDJTCYNeAwTaa4sLQkdBAb4TMwkOVCMNEU9zC6wp/wqRAJMOknwjDiMAIwtxJt8JYuSTDiIqpwZtZG8MfN4XChEjrwmgpTsOgZYrDgyPuwo6h88KsUkfAlAUowtC9HsMReA7Dg4MQw89nwcIhhE7DsKF/w3RsDcPyN83CKrK9wu7ROsPHRaTCZuLWwq74v8K95UDDMoanwqjoxcIIGBLD3OwRwlQHjMI=",
            "dtype": "f4"
           }
          },
          {
           "marker": {
            "color": "#FF97FF",
            "line": {
             "color": "black",
             "width": 0.5
            },
            "size": 6,
            "symbol": "diamond"
           },
           "mode": "markers+text",
           "name": "Cluster 8",
           "text": [
            "C8"
           ],
           "textposition": "top center",
           "type": "scatter3d",
           "x": {
            "bdata": "wsqsQQ==",
            "dtype": "f4"
           },
           "y": {
            "bdata": "itCQQg==",
            "dtype": "f4"
           },
           "z": {
            "bdata": "XFcCww==",
            "dtype": "f4"
           }
          },
          {
           "marker": {
            "color": "#FECB52",
            "opacity": 1,
            "size": 4
           },
           "mode": "markers",
           "showlegend": false,
           "type": "scatter3d",
           "x": {
            "bdata": "GpsXw/BgPMFQUOHC0l6Ew4hh6MFbZ83CVDkMwqVFxMLm9oLD1Kg9w+DQhcKob0zDGxk8wt4KFcPIUJvBGDEFw7/IWMKWhy7D+EWywgQZo8LoIp7C8sjawm9UBsPpHpjCWt+Bwxby6sJjrKvD9u13w4C0G8M4hzTCTVSlwlizksEkNEvDBuMJw8gNCsKFEQLD1J4hw/nEx8IEZ2bCIIskwoFha8PybLfCzylnwjLB5MLrMCvDqKBXwRHN9ML6PorDxuwXwwuQZcNSvA3D7nVTwvQT4MKiYWXD9N0rwlLh7MIGqCDDSK4JQQhyxsJ2X1fCXHAMwyS24sIxXRLD0vgswyX+p8LhcUrCdNO/wk6rscLVpmnDyqWswkBk+8JwOtbApIJbw7Zhd8NE7BPDaTDlwjBFQsNErwnDEPu8QPgZtcIRRKbCcB8Ew86Gn8JA6SjDstgUw9TDMcIXSA/DR382w7DCnsJ1iXnCgBLdwGT5U8OAirs/87BywlXxAMMyOAnDUS4PwzAZg8PNyALDKnNnwyYac8OhCgXDavcbwwB/BsNfGa3CUNGDw0ZcVcIi2ADDS46Qw3gWrsHQ5xHDwbYQw1EwxcKAcMbAufqXwwxwLcO2PBbDpEYaw7DEGsMwB2VBjatwwjDfMMFRaRzDvOUrw50qUcOGPnXDXPjzwgmFjMNnV2zDUwunwghSXMN/XLLCOOcjQsQ6hcNtepHCO+RTw76desOWcyvD4DHjwaFpUcPeJCDC44d0w8/TjcLq4ibC3j5vw46ZEcMaUC/DhZQyw5Ym0sKUtsPCQ6OuwubC+sK0s/XCGJY3QqQLQcM1D5bCTZXqwgoFIcM4H4DCa1hwwhj0msPvR0jCgdStwnuQ28GbC2TDuveNwmvs5MJOxUTDjsivwjWa9sKnZ0bCsS2ow68uJsPY7XjDJT2Ew6ji6cJ8kyXC0FB3w+nutMLr4ijDSuEjw2TIicJaTDXDuh1Fwyb6AMICUbHCKE+Ew6K9uMIsIxbDtxsUw3YMPsMOy8rC/DS7wjYJm8OoEd5BJyVuw8sCF8OTPtHCEAxbw61qAMPWLKLDBoKiwjUvzcJkL53CgNjHPxA0WML2tSrCFqwtw6TpesOyvgjDo+8awyMLU8NIkkrC9LrMweb4MsM5xS/DLqoIw1iCZcOxRj7DcmIEwzPeEsOyD4TD1u6qwiCHw8AYOtvByov2wvF1LsO+iELDEVEOw+4LZ8PmGIXD3lmtwiie+MLouSlBCkPQwoRkusEJTM3C79oQw/w9ksORgwTDnEk0wyMjZMOioGDDUC1xwqBDesPJwl/Chj7AwkWIzcI+MuTCgGJIw+g9YcPH4O3CMCTNwtgKUcHyQvHClJ0bw8CT8r9wcmLDPJIcwvrREcN0fCLD+Rf0wvkVHsPVrSPDU8JUwza/kMMynoTDAbiIwvj5WcNuHsHC4g2jwk8RisObH6HDJo76wq6MLcMuDOzCHH1Zw0D7oMK5HTDDpthSwyF+x8LAR69BssDiwSTiJMNy+yPDwNoFwAJIRMN8GnLDKD8Cw0OYKcLLc9LCOI/Wwsw35sEHkUfCq24Gw27u4cKqQIrD78uZwho5AcMP2BvDkwUSw8kwB8M80XfDAlBGw3LMosIuDwPDBJwww8AhhMPWLa/C+tWXw8zf7cKePqLCmxEzwuzDIMPkRgXD2iKGwp1mw8KipljDzl4wwyYLFMKEFVDD9bX1wsP3bsJfwJLDYksAw/Y368LQcyrDjCpTwnfpAsMdU9HCcDOVw5z5isPuclbDG7SJwrjcgMPiSwLDvGjRwjjjbsN0LYjDWSCEwwJtgsNQfP7CAK7KwDl5QcNVBkbDXhmdwr7cOMLgesTBMUc+wzUSccM=",
            "dtype": "f4"
           },
           "y": {
            "bdata": "u2yxQkBHor7nOq3B3l8VQqVEu0FR8O7CaCpZQbU++8IwDBlD5pLdQgTIjkGC22LCmL5bwnQdXMMy+YXCcPXLwWY7fcL8OjRDK3fPQkhlfEKfqUrCr2fpwqH+gsJK5DZBkgiawfjQlkHV78JB7EvCwgRiHUKcbSrCxjjawUe/ecKDcQpDKvx0Qdb0FMJIIqlAfg0HQwCjysIXwrZCtB4zw6FJ18JOVQfDeTncQvMkDcFc95RCLLhfwmh/qsIZjApDtNoDQt/+AUNV78JCgoK+wnh9T0ACvXxCk9U9wv7778F33QlDyzuRQdD5SEKVTJLBHf9Vw9tP5UHMHZJCPOxqQlBHH0L5CLBBcsoNwUyTTUG/KKhCbGn7weY4qMFTyDrDEFoIQyqEcUJqDmfCWlD2wUZFo8F/4LrBuh8fwoTrD8PzpRjDzwonQ4DG9z7PCgtDofP2Qu/iyEHGzoxCImkBQ9gAXkI477jBqRjZQQF2C8P54pzCDsoXwxiYG0KN4thCjuEOQjMCmcJkLyzDSJUCw/4+FUG9O7TCy/bNQRlGfMHYlyFB5o6QwSCY7UHBnRDDm+KGwhEJlUHtDA7DbdfWwtIwrsDIzIPC5Uv8wr7hNkGd2b3Cimp9wiMA60EALGq9wBOlQIghWMKpc6xC+N60Qm8rDEMaeArCJDYVwmD/EUJ6TJPCpKxLQKMMwkJIk0RAD0PVwvu5wML1p6VB8aWOQsGqmUKPwUtCFFM6QhICL0IFIpVBNBYnwwFjwkFzReFBM7+uwbcJlEK0Fn9CoF2UwhtdsMHNQqbCHZgww1fPDsLdLhxDij7xwY9o7cLgu4VAtN1QwtwkoUJtJ5HCKkJxQgKrx8DsQPXC050HQuBkIsMo4EdCZNEzw1sEBMM1OrRCP3O8QTJdcEGfXyXDC6hCQvn44EIAZx5DlrbXQk5Kv8KcwIjC/zucwdpAyUI41yVDPbekwlJbpsLsqT1DPjOlQOfV20FYajRAneHaQmj4IkHA31lCv0LrQkBnhcFfPvzCrN5GQBBslEKObIjCLL2WwFTiosJ2O5PBXFhRw03DwEKiC0hBXb4LQvJf70FmE47CWisDwqADVcCVdAbDZ6W+QnXaKkK6Uz5CaGWqQKvdvcLCjr/CO+wQw/gZ2kIcc+TC7pgLw13zvsJSUsZCQjTOQkh0gEItcpNC8Ug0w6JGFcNHVGjCQQmsQjDLscEOU1lC4yZUQYQJ5UIKWrPBASIsQVwaIcN+8fnBYGw9Qffc2cLAoWm/4DAlQ8QCvkC+ml3Cm5zHwdBrDULbUw/DX9sowxgijsCldKDCBDtgQUvjqEEU7afApIyZQmEY9EF+1APD/B0WwyZxJcKICiZAecvFQo37A8OaBoZCk+HJwkzpFEP4g+/BNNo1QhzzBUPnQWDCiETPwqIftMI0PM9BiunqQo1nTsKyfAnCB2ALQ7Bp28F4GcPC9PyowlYAy0LjvzBC6oDSwHCgxcKoNBxD1GdiwfYyzsD3gdnCpKOCwZND9EK3a1XD5z6FwtklmcIPpa9CiPG4QSiAxMELdZ9CrjMQQj7sycJNSdTBvkVkw48Z0UJi38TCVJ0UwoLqF8K8+ZXCBU2hwth1O8IFK33COtdoQT5UWcNLyCxDD4MMw1dwB0PeEZLCeP0NQ7SUtcI6vw7DQQnjQTQd7cJSLPBC3PpRQpFb7cLcjyFCTqkhQ+qmxsERgSXCdLAZQVhLGUKm3wLBVdNUw0XRwUKCXLXA0PuLQRDTm0IWpaRCHPzJwWHL2sLxsULDF1NkwWuN18I3GDBDvlBmQgHqHMGYci1DmhXWwoPizkI5RQXCO6+Jwro9UMLKvQ9DOCoPwthtEcKPFwvDDsKmwqIB7EI=",
            "dtype": "f4"
           },
           "z": {
            "bdata": "nbEEw0r2nsOMZRbDn5xQw3cOqsOnbzbDYQxOwwhQZsPKHmnD3N5aw3g1WMNRXCjDSfsXw0kwlMOwiBHD+P1Mw3y/FMOgeHrDfsmEw4Ziw8P+Y4/DhWg9w+LYeMN0VJzDfBdEw+ljS8PGcUXD79VYw4skY8PQOAnDlRJFw6gXT8NNzh3DDA5nwxo6g8MPYiTD6Bsrw9OmVcOEnYfDZq1pw35sXsOucCbDPLmEw6YpPMNCXZbDXjo0wyEcK8PS/xXDmETGw+bskcO7zoLDBxFjwxpwN8PwQVfDDkSEw4yQpcOO42LD+Gqfwws2VsMJsznDQkGWw6b3EMOQ2GLDYJiDw/AwDcMxaYLDDnQdw1vuPsPvylfD1GtCw0+Oi8MyGYLDe+0nw6gdLMPoeI/DsnWhwxnJbMNZ0HbDhStqw7XCTMMILaTDU4acw8qCSsNElPHCbyUHw7XPccMGdZPD7RoZw5IjGcNMiPHCjAqMw7sbe8NCnyvD59Zcw0TLHsP88IPDh2Qmw3R5VcPZ22nDU4Ngw1KiZsN69RjDYtKsw/oUF8MpAYnDiglHwxIELsMlfDDDsQlAw5p1uMO7a1HDu7yFw/+aF8PIal7DCJZWw9CYtcPdr47DI/Avw6rZtMO0P53DRD2jw/68HMNPV7LDujBLw8S0X8OeLHvDdgZ6w60uNsMYdZjDB5QMw7COEsNttRPDlGmWwySRf8M6dAjDIqczwz/8TsPkrBLD2Ii/wzzNX8PsuILDRb+Lw6SHicMN6E7DYpCIw7sqEMOSQ6bDmH0xw7GIwcNg913DNsxow5jndsNeo4LD2iChw3HldcPPPBPDUuSUw9veisOuuRXDrYmRw+pLecNyLpfDBIkpw9w5V8OksmjDv3FJwzQrX8PixITDelQRw+ispsOGo6XDP8FMw2haLMMtGEjDOb1Kw0Yfk8PkoyDDHXMtw9zBjMNyNTDDumeJw4oelsPibHLDH+gZw/5Uh8OlWzXDrA2Sw8iY9sLKTWPDjNGDwyo9NsMMfCDDRnmVwxhhXsNQE47D+D2gw17qMMPx4z3Da9Bww9xpM8PlclrDfkVAw6kqTcNenznDoSuDw1HOO8M8wlXDC6sGw4T+KMMrgy/DWA27w8a6Q8NitjTDuGphw8IZcMMqUTLD9H5sw1oeosOy22TDYLmuw5uiTcM3LofDAYFjwzwuq8O+1RzDdFVKw+iJGsNGSEbDMJaMw1RtM8M9kK3D6HwXw+C9U8OWNabDqqIVw1oSVMP+HFHDzCIew6/pNsOqjBLDclp8w1j5Z8MegKfDzq2Iw8L7r8PMJznDqyttw+rwYMPiacrDXCGMwzMwksM+EyPDLMhRw1jPkMNH8Q/DeHEww35BjMPZfh3DuNlywxJjHcOS9FjDPd8Qw4HdIsPONJjDggpbw/tmX8PpAWfDwtuBwyY1ZMM8gSDDPLiLw/JpiMMHt1/D7tCaw4x7DsMrqk7DlH4owznHJcOr7znDuqhow7oLLMOhf4HDwwEtw4S/DsO8JlXDttBgw4TaW8OdCF/Dxacfw/iiEMNsizXDEMU8w+DuK8Mlq1rDhYJNw8B6NMP8GX3DYzIAw0uxGsNCbD7Difgrw9z3OsNYZ0bD6P9bw9J3acP8qVfDsIx9w5zve8M71RXDaEEzw9KnIsMu5DfDmvyrwzFERMM5kHrDyL9HwyYZUcM8NH7D+1sOw/RvKcMaloDDhEKlw2w6N8OCEY3D1SVXwywNUcOAg2HDnoxCw5H0XcMNFWbD0d6Iw2FqYsMjxXnD0VcEw8zqjsNmcZLDf4FPw7cbVMNMXyHDMO5Jw5j5HcM/UE7DYY2Fwx5tL8MvX2nDftpvw+5brMMzxEjD6DGrwxFSScM=",
            "dtype": "f4"
           }
          },
          {
           "marker": {
            "color": "#FECB52",
            "line": {
             "color": "black",
             "width": 0.5
            },
            "size": 6,
            "symbol": "diamond"
           },
           "mode": "markers+text",
           "name": "Cluster 9",
           "text": [
            "C9"
           ],
           "textposition": "top center",
           "type": "scatter3d",
           "x": {
            "bdata": "d5kBww==",
            "dtype": "f4"
           },
           "y": {
            "bdata": "TYBxwQ==",
            "dtype": "f4"
           },
           "z": {
            "bdata": "LDJiww==",
            "dtype": "f4"
           }
          }
         ],
         "name": "frame1"
        },
        {
         "data": [
          {
           "marker": {
            "color": "#636EFA",
            "opacity": 1,
            "size": 4
           },
           "mode": "markers",
           "showlegend": false,
           "type": "scatter3d",
           "x": {
            "bdata": "pAdDwexwXcOsAbLCWB87wvB85sDQjPvCDiUowqU2osI4aTfCe9Kvwijg7MAhrPrCELpVw8BG2sI4VrrA4KvkwYiUksK8RwrCBw3FwmBYIcGATbfC6B1CwglmRsO3277CsAd5w8eblsIyonvCeBXVwjjoBUHtZUvCdNyuwkryw8KIoffChVJZQni/HcINwRXCcyNiwqhN8sKghHLCNDUuw1p52sHQpLPB3Rcrwl5I8cJAJtHA1LYGwtJKOMM9Mx1CtgxFw5q+lsJ6Hh/DrJOBwYiBRMM3TBVCO+4SwtR3k8LHHqXC9tLFwg460MJGzAzDP7UQw0ZE2MKi5qPCGr8yw6oF6cLFAVjD0AK1wVS/UsLmf67B6tTmwrRuw8K238LB8NkkwUzIV8JmcvzCp99OQhRUBULxOQfD4/Uew2hKrMIyRTrCKTjUwh2cWcMIzYjCsjdhw2NeZ0LsjaPCVKN/w175HML5UTPDa9oLw1WKoMKBaZLCHN+pweoduML0PHvDrSL8wZVLy8IYMc3Crz0xwgsTK8O9QhLDWpehQZ3RosJq/NDC9N+RwXQaH8P6ugnDCu6Bwk+kP8PDQ8PCXOvRwsUSm8JqofjCAALSvtkjv8LgtKa/cHvLwRlLXcIEiXXCwKRRwVkQUcM+UAfCRnTgwvA7AMH4P4PCZNatwnJVoMLQmj3BOFBWwuW8J8Kw/q3Cv20swo2TEsLmG4vCZeNKw2b2FsOm23DDpqMzw4bavkEMlsPC7ElvwuBYTkGD2sjCe0e9wolEH8IggbBAMpLSwgDcPsIAQ2rD5tPsQdhv5UGMz1RBXH2Dwtr1hcMADlbB1MqOwiAYiUG+8wDDtlS3wo7XTsN1o6jChZlUwrSHfcL7FKjChDzlQZStccIA7kDBzwQKw17RiMIYLb3CRl03wpw9xMKqARTDVEEGw+2/Y8JjMIjCdme3QRjv5sJ+MJbC1qE8wlDzPEF6ehzCRBCwQkh9f8IAOlLDiCFnwpI3MUJSD4jCOG08w+2He8OYBRfBIic0wgASGr5PCzLCANQUw4UFWkLA5BQ/xPIjwh4DkUGErrnBQ3PvwXnjuML8NFnCVxdcwlLMSMLf1xTDI8MmQoLdzUFYNBPCWBY+wwdmZMNhbQbBaZBVwwiOf0EIw3VBmGURwwmPFUIo7kLCSO93wwD0mkELaHnC/m+2woBJoD6nc4TCIhSawpaF48K0IpdBMDENw0OcQ8I0OUDCrIpewbJXlsI4NHFBQbO8wrCdtMGTzs7Cas0wwvaXFMMJQm3DznkywvqN28KLy9nCRMIrwz34bMOX13/CkpfCQUC6NcKcS4vCdpLRwsKspsKUd/7CZDYkw/+GAMPQ7XbB75cNww5F1kHoRXPD+AkUw/C7fcJuXIVBnDVjw1gH9cLGmjFCPNFswTJjuMJ4uZbCwaWVwnV7JsMA2bvBQCZpwcp3x0HjVgzDoHsYQUamrUGJyV3DAn6SwiaekcJk+VrCdCmGwWyTnEElM4rC5nonw5yRp8JhGJbCy/RDw2MPDMOyk4vCHhIwwnX1fkLVtCpC5t/swiA9S8MgGHjAPAqEwhKeEsItWxvDRYh3wuonLMPbiyhCS9VzwxwPG8M+xd3CCqatwmigkEAOZBnDdcRvwyw7jMI06xjDX3Jpw3AXVEDpv03DqW/XwYFNJMOya1vDXkXcwgKxncKPLD1CII4/QCVQH0JOW0DDjYBwwlrHCsPIf4zA1n8QwuQgc8K3dLPCNAhww6DvQ8EArpjBsJCBws2od8M+XN1B+3iiwuov7kGQXzbBBMlJQTuvu8FMDyfCiKvcwZ437MKge95AkcgzwrIMt8JtCj7Clyofw+0YZEKRZ3pCaG7fwoZ+qcI=",
            "dtype": "f4"
           },
           "y": {
            "bdata": "N4MVQ4xxbkNY565CqB4sQ26LmkNUlp1C+B68QpFjvEJ4PjpDICuOQu6c3EIM5gRDCoQ7Q24iYUP+ggpDbAEJQzUKIEO6EYNDBGs3Q0EvzUI3lmRDYuMPQ/C9MkOZb+JCRq5zQ7yuqkKgmyFD2J8DQ7P8OEMu0ZhD7PMrQ5o380IU1g1DKFSXQ1haOUNc5LJCun30Qj4rXUO3wxFDGk1XQxqwQUMfrhtDjBELQ/JyvEId55ZDfJqWQpH7S0OIoGND/MUiQ8fSGUOEmwxDMKzOQpsqAEO88vxCwWy2QrpgqUKDJ+RC0fHsQthVmkK3KMVCngcYQ77yo0MiualCEo38QkkHCEMO2HJDY/rUQkU1i0OBBwtDJfAVQwIwpkKYsahDDmE2Q3jW10I2dyVD/NI7Q6jaIEMg+AtDVSqFQ9ekCUPVFh1D7d+lQhYrKkNfritD4byDQye0oEMdFWxDtmMzQ5KfKUNEPotDy/IjQ84HEEPUfz5CbQVtQ4ZkGEO7eUpDlnkPQ3b8T0OyATtDiEkUQ789h0PzqERDik14Q4YN20LqFpFCkPCsQ7ABWkMGKdtC4XUlQ05PB0NMzH9CTfrZQmajQEM64w1D4FT3Qpuo/ULp2ZdDRIQzQwMGJUOl1wxDvqEaQ3uZD0NYqpFCqzCRQrAajELEm5BCGWoVQ3czA0N+ap9DNxjqQnWws0JB2ohD9YiiQmCI1kJfPNhCn8gmQ5OHGUO5v1FDXD4nQxsVDEPxyz5DA5/mQtRyMUOk9tVC6l+XQ6oagkOWgRtDcG5RQ59NsUL1Z0hDXHeQQxaMY0MoOYxD9i94QgBmQ0NwjLFCaLppQx3akUN5pU9DAeo3Q/CqCkOAMY1Du97mQlaLBkP0NKZCyj0pQ/he1ULox5NDzMMLQwyfZ0MrlIVDuQx9Q1Q1akNdTZ9Dxa7ZQla0zUL1Cb5C6nohQ6VIAEOLtElDXPsSQ3Z3n0N85vhCurqiQ4lABUPSAI5DP5YyQ+ytnUMkcVxD4fc6Q+5tTUMchoVDvZMyQxqdgULwzT9DDbJKQ9p6d0PDWslCDVkIQ9WDSEOGbpZCQwDgQmoem0OdiBJD/qSeQnOjikJsYFVDzVKQQ6xjK0MZhlFD2st+QwY+eUOUtqVC1M5LQ+xckEOW36FDye1MQ/8mJ0MmriRD9NxhQ3j6vkIzJDZCVF5lQ7QsqkJ4IKNCvswnQ5vsM0OuHItD4QnJQppomkPQc/JCoDa9Qkjxm0JoWiFDsFDDQkhsjENqnfhC/DtDQzGuBEPkO4dD6ENxQ1KRrULqcgdDIjj3Qg74UkMAvuhCSt81Qzj7D0Om3kFDYGu2Qg4Bb0OInG1DJ73fQuz0MUM2CqBCeGU9Q2UhN0OYxzlDPyD5QgdPQkMeSpBD95IXQ7PIKEO+nXxDOHVeQ74KrEJeGUBDP6OOQ5ICe0OCxzpDkK/4QoQeEEOyzsJC1GceQ7gpdkPSDn9DhpekQxoERUOgyJpClqoHQyAQSEMvBi1DdSYBQ56uR0NfTchCdrMaQ05eiUNXhw1DJeWFQ7DNaEOgKHxDBzo7Q7bSQEPN6H9DkMGpQ2/UBkOwJG9DTTvQQoWxWUM+xChDWR5HQ/9DLEPB+e1Cr5eKQ2+qGkOkPxRDrjwtQ0B4hkPQdzdDbso2Q/p3OkMrRBtDqVzYQvgPM0MRphVDJAzgQpYaH0OmbDpDUJdVQu4LmEOfh0VD7j2ZQgwGsUKTbFFDeAsGQ4JYh0KQa89CBhJvQ3BhW0OrOaBCcXZ+QsaRX0PjUflCNSMwQxxu4EIb3i1D2IdzQ93DFkPgJOJBRrD0QvDqREMoCE9DdnHAQs8vOUMGHcxCkXgTQ+zGiEPdI6NDxR0XQ66Rj0I=",
            "dtype": "f4"
           },
           "z": {
            "bdata": "AGO+QJMbokKGa25CdEJuwj5mNcLgc/rB4m1pQiykd0K/F4bCNmVdwgA0XsBYYJnBnEIDQt1WCMNwagRCKDKpQQZ6FMILIv/BW8ulQpAH0kGz8/FCsMvqQU8a+kKMMKbCzwbKQiDa/UGEiNJBQLgwQGyMBUJckb9B4OU2QvZjI0Jqop9B+H9LwqxWcsIQ1kRCyJiOwMJny0LcfvfBcCjyQIyviELUWeFBSlokQljUgMCoVbtCZhC7QYwWrMIw6rRC+pRAQv6clkLUldPClioQQlTL5sKvQYdC2tMmQkDb+8AseCPCZOsBQmJQDUKQJJ3CYMurwZ30BUJJM3BCwA00QcCGn8FYorZCWBLrwcSmsUEgXidAgAXAQmeCREI9BVhCXpppwkQDpEIJqQrDwtt9QghzHsGm4RVCqNRvQQrqX0LRJodCwvqJQuqJScJOzIBB04Q/QmkNPULK4lhCry6vQoBsiMBlopZCoNGdwngIgkI8lVNC+F6KQQxP+8FI2wTBHtMFQs4/OkKclkJCLBEeQqDKir+Qcf3CyJ19QpjltcHKDr1BSAC6QZJxFcM4cLtCEoCeQTfugsKIGY3B6UTwQXAAH0J06UtCHNCTQpY6EULx5oJCwhOcQZKsjEJw7MbBDrAywfw4osKXTBRCUCDqQUFTPULJVmVCOi2PQvbimMIAlE9B/PsBQeT2bkLK0eXCIIRuQXaYd0I7a7RCBL/gQgJ2okLnSXTCEgg4wtgjm0Dg8S3BcVxsQsCoHsFAaO/BDRIIQwmO7kHAyArCQLoUP+TgqEKNqJfCNA23whtqr8LpDLhCkCEewQgzKcHo1KhBQBP3wpjlsUF2ftNCvdSawqrRp8ImjbXC+KlcQn4JikI4IRBBgKvPQSTXRcK0x9ZBZOuPwjB0GcLVvANCvxutQj4vF8MwqrNAGyVbwlzkH0Jw4n1B4oMAQmR3EMLgi69ATSyEwoil70LE6ZjBcGfHwAhjlsL/kwhDFggUwUvMrUJ4wVrCSH+3wVhpRsEGzRdCBomgwbE8JkKyq7NCgO2yQnO0gUKpwY5C9ORywhCb7kCMxFtC3md5QrjUgcJM2QBBEBhqQdApa0Is4R1CQ9VrQm/C2kHW6mJCGG6/QVwUrMGGTo5BhFPTwuiik0J1e4rCDFVwQcxBCEIsTlHBNJTxwQCUgUJgxZ9AEP5bwRjob0GOYC5ChKYewlQL4sEAQm5AYMqLwbpC4UJ4U+tBcN3tQKiKAsItWuDBeEL1wVzUoUFgpJHACNWwQjqFBsK3AIhC9kiXwiTLOsHEJL1CN4+Vwtnl50JOFyNCDM9HwqRJW0F8X8HCwF5nQHHWukIAjH3AWI2AwfYhGsIibFPBKIkaw1CCsUI6anhCSAdLwaTRdcLB15xCkI92wQSZMcEovcrBqIg4wkBLtkBENX1CAKQGPzZqesLEJI3BAFtvQBRQJELH/QbCMHZQwNvogEIAUlo/rDOrQoY5OMJgtrdAw5iLQmqmK0LOesLCnBGTwjQL90HwRgRBPFv9wglxaEKAs5fCUKn6wQptiUL+JSPCmHnwQdxgAsKIGAFC7TpdQs4ptUJmCVvCttNIQpjTtMH/8+FBDNE2wjCqGcGCxHvCjtdtwjRLusEo87VCtP6QQlbh6kJuuwLCoPHIQVYap0Ee8rpCAtGRQnfkJ8IVn3RCMmDEwrjboUK4SjBBi+NGQkShT8JBBYFCXEn5QWD4AMEuorFCLDnXwS+njkJk+M5Bwjgdwlz5pcFue7dBeGukQStAykI8NRJCbNOBwhgDakK4coZCRLsSQixHgUJIJhJCkI1iwICWXj86FRNCItUUQhweuUEv9pZCngGBwriCmcK/iFFCgTyRQlVxFEI=",
            "dtype": "f4"
           }
          },
          {
           "marker": {
            "color": "#636EFA",
            "line": {
             "color": "black",
             "width": 0.5
            },
            "size": 6,
            "symbol": "diamond"
           },
           "mode": "markers+text",
           "name": "Cluster 0",
           "text": [
            "C0"
           ],
           "textposition": "top center",
           "type": "scatter3d",
           "x": {
            "bdata": "gdKcwg==",
            "dtype": "f4"
           },
           "y": {
            "bdata": "ilstQw==",
            "dtype": "f4"
           },
           "z": {
            "bdata": "u93iQA==",
            "dtype": "f4"
           }
          },
          {
           "marker": {
            "color": "#EF553B",
            "opacity": 1,
            "size": 4
           },
           "mode": "markers",
           "showlegend": false,
           "type": "scatter3d",
           "x": {
            "bdata": "jr75QtCCX0JofVrClqV2wkgbo0K+jsvC5ZeGwp+qckJZ+wPCE8pOw6E2HcM6OuNBrY8IQ8OlJ8NQ0WTCyjIDQ0D4zUJibaTBGsf3wsiPSMOgoo9BogO3wtLSC8MWVttBBmiswjormkE4x7JC+bTPwlgp00LAzj1Aj6KPwk31icKKeoXCLB9nw4wQL8NqjVDDkEJ1wgJrrMJHdSPDQPySwmip5sBqNTTDpHz1wjpAbcKl7DrDr255w3lYAUKKwGjCz0gMQhSCPsGmp5TCcFwVwdoKl0GqeZlBviwiwuLLscKfksHBIR8Sw3JlHMMGvMZCVpYCwyN6dEIyD8fBktoWwjEkgcJQq+BCNyB1QlQZ7MGPcB7CCIaPQkuZVELbWSbDYIiFwkyZT8JLyY/C49YbwzIEh0L+f7/C7Vhowl76KMOEswXCjqjhwsvkR0JRvFzCuXXewgQD3sLLTrrCfguLQWXuTMKO+PpBACFlvtG7GEL16A7DKsPIQrJDIkI+bYnCGimEwgwAJcLabp3CWtM6wtHDg8EwDNjCod0Gwwgav8JEDwJBSweiwj0tEcLUhINCglSUQeJYBcMZkxXCsLNowPqci8Ew2/zCGFvfwuRbBEEzphtC6wCMwqtym8IWp7/CONmbwbpzWsLwOrHCMjSOQRekVcPOvKdBFP8YwoDqbsMMIh3DFqAywhhJokKiHcfCVoJmQjCEOUBwB8RCIHMIQVio1MIXBxVCFbgyw3aREcOpPRPDGhq5wj/BicF79TjDkigFwvYHkMKIiMbAX+FpQsd7FUP6q5lBgOmzwCcI28IG671Cus+MQfXRI8NwWuRA8fwawx8wlMIV/A/DeX0Nw6QGhsLafsZC/DQ2wn0ZD0JiiobB1GD4wsq6n0K0qdbCVsGPwUZYB0MmiYvCJchCwmkKgMMpfsfC2CO0wYpIDsKkDXlBkFgzQvhHK8Il82jCVdJJwu1pI0LlWEHCgBcrQg3aHcMGv2TDxDrQwfQ718Jgy+nCXGAGw96ijcLO6/bCsNM6wmIkq0I2hrBC8UsBw1PTAEJW+BvDlAPSwuAKNkGRzITBnxlDwofBosKcnkpB/IKqwewbEsKRTzfDcxA4QoCeA8ORxVzC50QSQrAsF0G+hgDCj/WZwnhpEMPtOUPDMvrSQrsEu0JykvJB8HE2w0puoMK4kJLAmCiPwFzkw8LDVQFC7ka4QrAPzcKWuRjCLIRdwjluHUL2K9xCwE3rv89HFsOQzvBAWBsKwUZCCkMboSnDQJ0uQNCMTsB2xCbCJu3fwiyJVsLkdDXDHhIDw7vFFELerSrDC4FVQvexpMIThRrD54gJwxXsjMK9dQ7DrWVUw7SQ2cJu5wjDnbsPw5hvjMKuLnvDMAIAwtyKU8PC1NXCJj2JQnClRsJtXQbD25w7wkkjWcN+4d5CYg12whAIosIN8AzDgS2pQoJtNcPYGH7BhqOwQmXwaMLwL47BhmmXQvC29MLzJn7C0xgTw3bTOMPKGqVB4QsCwx6WVMKNGjXDXraMQgYT+sGABRHB4hwHwv40m8JzfJXCoE2hwLC3K8LxM4bB6SYpwqg/2cLXGCtCcnrhwi5AMcNb1NPBlteBwr1MfEIe7YtCnOZlQRIsgsP/a37DEMoUwFgmx8H0FbpB6PocwZfzj8LUAw7D7M6OwlO6YcJs1WlBXTNTQpK28kFAmlpAUIcBwn60k0LoSqjCeBmmQsAV7MB8vLVCO1FAwxBQx8BAsljCsJL2wcT0lkLRFWbCdEe2Qm8cB8I8+uDCNPlSwebtZcK6CbVCy7ACw4frZELw0RzDSrLmQo/R3sLyK53Ca2A7QuKZUMPyJNVBSgiZwRRP68KIeBnD3UkRw9IlDsM=",
            "dtype": "f4"
           },
           "y": {
            "bdata": "pRI7Qz4dWUNDIYVDIieGQ8WZOUNjzCZDRHxOQyptE0ORhMxCHMQWQ2kMbUNw1+FCk4YeQ9ieB0OfSPVCHEYsQ6Zw4kK3SBJD6sQ5Q1wsIUND9p5CgDJmQ6l0P0PE1NhClkkYQx5MbUM/dHhDHiqSQjom50LGPVZDezNrQ/yni0LX+oRCRbysQqKWRUNakXNDgrY0Q/z3ikLpygVDZvgFQ5LfWkMtsD5DFpcAQ5ylaENsP3JDFD8OQ8yAo0KiW/pCkjdAQwwlCUPGjgFDZhbuQs4Nb0OVvUZDQhzeQs1ZNEOyxchC4Bj9QsByqEIdaFlDfVpeQ9UTMEOWGexCvmkHQ5pUAEOuTPVC0eOPQ88DtkJIYxNDJP4FQ7oHz0LBQAhDWjFBQ8iMMUMuxURDs+otQzAiBUMcb6FD57GLQgKJkUJUn4dCtEEIQ8RvSEOPReJC5F+MQpT5HUMH6YpCSJmcQiTZ5EKDJC1D1OFkQz+VfUOKfbdCCmNwQ+BXhEMoFyFDhjjIQjoqqUJ6uixDfmmMQssQQkN97INDi898Q8mHZkPTFI9DDoIHQ6wc3EIeKLRCPWFwQys5tEKsROxCgd+QQrYvCUMQJrpCFcUiQwCv10Jim6hCIHOXQu8xVUP6J4lCoqMlQ3X0gUP4F0dDhqVnQwKI2EJTk0dD6eA2Q+d6mkI+JB1DxFICQ+8qLEPoD/xCEnS0QggTEUP4OYpDYtL2QuyGlELTJ1tDmey3QqAfi0Oax9VC1S1aQ9gykEMnCrRCFSt2Q0cnoEJgxINDkttVQ2ZH/kItaEFDS4gKQzp6yULhlodDFCCHQoXSYUPgxyxDyChyQws9E0PWPw5DDAPPQk5D2UIOYhdDYgrfQs++IUOgWIRDo+17Q60lB0MM7FZDUT/TQsjn/0KpmdxCBN6EQpy+LUPZxddC/Hs2Q8I5nUPOA0BD9uGyQl4qA0MkpelCRNwwQ4FtDENHBChDInHhQhSWCUMBeiZD3L6zQlv0BkO0R+JClidgQ8Db6EJsFLlCiZZTQ+KNckOIvI5Dow5lQxDNNUNskztDOrXzQkPHnULgyTZDzHYaQ53MqUKiiJpCmaktQwo8DEM8tGNDSFzlQkx0S0NQV6BCKhkMQ2zthkKYJENDoAqGQzt2J0N3Zz5D5JX/Qt6HNkNQJgNDhgxbQwWVm0JQ7KlCGsDuQlyxD0OYQfJCjTgSQ/ox70KVZYpCTKiJQvjKsEKOrh5DGN0NQ4Ks/UKB/VVDtoEVQ0UVB0MNM1hDBG7fQtIKL0Pq/aFCYfcRQw27GENzOIBC4+iIQ4COrkLojwRDfyQJQ9ONJEOMaK9CvoxvQ3qSlUJHtUNDisGSQmLS7UKapWNDtEY1Q5V4AEMpv9hCh0zTQhpQAkNkAchCzMxVQ5zeTUNz6BFDMFaQQ7xz50LegPBC5tjKQgDyIUObuBtDVD62QtjDGENkkD5DK4U+Q5xVqkLMBKlCe/kCQ/SiEEP60PRCNtEQQ2ROskLBy7JCORhLQ3TBM0MvjFdDaa6TQzQ+MkNG2HhD1mkPQ7ABJkPIRQ5DBUQcQ8pL3ULCz3dDBgx8Q3snG0Php4pDVpEGQysCU0NgorRCWWACQzwe0UI1KCZDy3gZQyI7UEPYKy1Dp7bPQtS4HEPB6RZDpkj0QkBem0IYktBCJ8gEQxLf0UIo0yZDl5VcQ0D8Z0PzUktDklspQygfk0ODPxZDhh1YQ7wzF0MgtS1DHto0Q4wWC0MohBRDTL7fQlS80EKw2sRCTIggQ1JRpEJPZxNDUAMEQ9Uxv0J64j5DIuPPQkmYSUNotzRD6evJQgrRwUJUW6NDmkdIQwUzMkNNkrFCyTK/QlaF8kK7MEFDaI+qQsvhD0M=",
            "dtype": "f4"
           },
           "z": {
            "bdata": "WthHQ0qrFUOSgVZDqwdQQ0euNkMstgdD4oR4Q0R8FUMppbZDjSdKQ7sYM0O5NgNDHFp+Q4MYNkPKIN1CYYhRQ1odKkNERYdDXEh4Q6O2SkN0kRJDut4fQ0xzgkOaYqFCZ9mJQwj82ELAffhCoGbjQuONKUMHnnpD+fIsQ31/90Lu5AhDNs5HQzVTXkOxjTxDsPBpQ943w0KF8ZVDSfKDQxIQlkPSoCRDRIU0Q+jJO0NM+TZDVhaGQ05aVkO30Y5D8C7gQnXzLEOzpF1DVKZXQ4RMFEMscRtDlHIfQ2jackMQN9pCSuGEQ/qWHENKh0RDTz2EQ02oaUPgJelC806EQ5/hA0McEYZDiT74QngMzkI+//RC2ifoQrxe20JrCUpD/SyGQ3w68UIgpChDaGygQ7n/NEP6NipDsGUzQ05/KkMUa/NCDC5jQzhlwEK64jxDSLPqQvsFA0NnACNDI8ewQtCq9EJ+FixDQU16Q9TX80ILWKBD6G86Q+2hA0P3Bz9DDPKOQ78E+EJSvyhDjc0MQ75fcEOmqR5D7OVvQ2+jOkM8kFFDTDMMQ5A6uEJ1cylDZ1NvQ2wsDkOIXPpCbnvjQggeBEMY979DltlYQ9EX+0KXsx1DAuLCQiBAmEPSZBxD1sbwQu1+j0PW0hFDp18UQ563jUN8bQJDZqQAQ6x9gUNWsoRDSLNlQ7RiDENuASpDaA0xQwl/tUIYHe5C5iWrQ3gcJ0Mziz5D1+w7Q6UFHUPVSQJDcqcrQ3HELENq3VtDROd4Q32j/UKsZhNDkxUrQyQ1gkMOcq1D0hC5Qsdv+UL0QAJDtg6nQsaQa0PsFPZCflQIQ80CKEPL/ABDcr/TQmRkgUPnoKJDIprtQvqC2kKPvnBDq6NNQ32aBENpbVlDfizVQjxhaUMkz0ZDyr0LQwGPJEOPwB1DEvvIQpfGOENYXcxCSq5DQ23aFkPY63pD2Kk/Q5SMDEOOxgdDBvY+Q5I1sEOK+z9DbeMSQ0eLG0MavD5DYhA1QyS5u0PAvYFD6g4JQ2aQIEOCG+VCGN4rQ7/iXkNtqyFDfGkhQ2aS1kKiWKtDJkMTQwz5OUPkX6lCJq6AQ9s2BUPebT1DwaMfQydHfUNCbvZCkkN3Q55WtkL8iCJD496BQ7iFnkMUSmFD/qCnQ0cGF0Pe7TNDWnBbQ/Lg3kJWOzVDPa+LQ4wa9UJi91tDnAcfQ5+1GEMLMxtDd1IkQwaLFENKyZJDzAcEQ/+zjENiU5dDSncrQymtS0PjzCpDYwiqQpe9S0Mlg7lCOjGgQ/zK10KTxFRDeKIuQ/hkyEJCpD1DuKeHQ47UQEPapwNDrT6FQ+UaF0PaqkpD8SyWQwnzlkN9bjBDWsMjQ2hHi0P7I4ZDwsjwQsOYTEP9dFRD3p/IQsoyMUPxH1NDQrxNQwLTNkNudD9DenFCQ5JijkNMH+dCXgwvQzvZVEO1JeVCyxn9QscLL0POiB1D7lERQ1X/S0PsGJBDbKVvQ/AYZUMqSZdDa1wXQ3iLTkPBrEJDWDMKQ2XI5kJVYeZC7BcNQ747SkOjEj5DZAiOQyYwrUNjg4tDiDwOQ+5A60Jv9ipD2G1yQ/DmJ0NLcw5D3t/OQsip+UJtWwpD6KEaQ7g4F0PlHzRDJYdLQyG0DUMgNu9CvPGAQ257JENhDzRD0mTIQvQ7yEIABKFDoSUTQ6lHWENnd2RDRhEGQ3bo7EIqLURDMzA1QyY5E0M45RhD5SUWQ1rSM0NirRRDeOP3QreOGUO5sf9CU88oQxycWUPBqYdD5vdsQ0EbdUMG9iVDhsfsQpLZFkM4BidDllswQ2BpK0M+qwtDSLkCQ2iiD0O8MmlDPihYQyscoENgPVJDbsAUQ4jYekM=",
            "dtype": "f4"
           }
          },
          {
           "marker": {
            "color": "#EF553B",
            "line": {
             "color": "black",
             "width": 0.5
            },
            "size": 6,
            "symbol": "diamond"
           },
           "mode": "markers+text",
           "name": "Cluster 1",
           "text": [
            "C1"
           ],
           "textposition": "top center",
           "type": "scatter3d",
           "x": {
            "bdata": "S6o/wg==",
            "dtype": "f4"
           },
           "y": {
            "bdata": "ET4XQw==",
            "dtype": "f4"
           },
           "z": {
            "bdata": "Vs48Qw==",
            "dtype": "f4"
           }
          },
          {
           "marker": {
            "color": "#00CC96",
            "opacity": 1,
            "size": 4
           },
           "mode": "markers",
           "showlegend": false,
           "type": "scatter3d",
           "x": {
            "bdata": "SpvOwmxliEK/EX3C7vU2QlC8dcN0YuLCxvXQwhz8hEKy3wTCOqaBQhDAL8M4MULCxECzwk8nCMNcz47CpL/Twrv0HcIda2BCLjWAQtChg8L+QvFCMsDCwpiQqEGAzBTCN71iwq81uMEAijc/fkp9wQZgVML0zfhC4Ee4QuaVZMEV4RDDj3/rwfW988E85G1B6mKfwk1z1sKKKnnCCKWQQm4hPsJ2JH5CJOfxQhY1JsIzoWBCCf1lQstRdEKgSsXBIqzswpqxIULGzPjCwu8bwmS3GsN2bd9BFIYWQw0taEJEKWLCaxucwmSEGMMSfOXBIEgHQZjtkcBFbu9CnBIewvGWBcKTb0ZC52hmQryVE8LpJkBCmDJjQr8TVMJAXHLC6Oe5wg9hJ0LckM3CktudwcXbcEJrACBCxkgpwngZncGEL87C7B0bwqVO3cLA3FPAHbWQwh3vXkJnVe5Cn+qxwsoe4cL2cy/DCiMEQpIqrsL2sqDCgmUSQqJZ4sIW0AHDEEp0weYMt8KgIwNDmvWlQq+PlsK5XGFCBiWNwoK4zkFOOqDC8gk/wnUmocFk+z3DJ9oGw4xNnULMYpLCgLc8wcb/MsLepvtCXxzCQsR3IsN2I5xBjOUxwrDkQMM2NFLCg1FcwkksHcI+RMXCtnqIwoI0nsHgt+BAx9XKwgwDB8OOf6xCuTkywqJTLMLMQU/D/y7FwdX7L8MO0kLDN6EEQ5LhRsJ8PKZCNvfzwUmKfkKRkJTBmjBbwr4p30IB7BtC+nuxwlCQVcFToe7BHHLywRTGuUI8w9fCgADvP61JfkKGIbbCWAYIw1ACBEEcxKNC9c40QvQhVMG9xj7DECEJQYjgt8BJtT5CSgORQRuASMI+p0XDRLaCQpo5nkH2T+hBvE2VwucdeMGxECfDJ8EmQnoTC0NKCrrC594mw/Ltu0H2qC7DinXhwgDpMMHffYNCfsjxwhUTM0K+RffCeTrcwuweh0IYn9RCERNoQoJj2UI5ASvC4MP1Qq4RzsHSreHCHa/dwYOzXUIMCizDqMXHQnbpIMP84VDD1bLYwfW1M0JtfgTD9RlTwlKJnsFUHwTDyWkrw3KIr8JZSGvCvNUxwkxPrMJiq9BBJ7FSQmYI/cKUa47CPK6awqJmVUKEjKJCUVu8wW4axkJmWLrChNzjQUidSsLx0ezB2Lmawl+vI8KxHCtC6jUIw4c2h8JIRu/B600Vwt6WEkIe/AZDs9gRw33jlMLG9vLC7q+kQuPNNMMRzzHDIrbJwc5DN8Nam6NCGPwTwhY2zkGDaZjCMAfxwcxrUMJitgDDVla1QkBbm79QHF5AHIcMwTsvicFgZJHCwjzHwthPHsMEzTfDAKb9wnRBi8Hcf61CwCvDwVrJSsJYuatCedhcwgiY9cCh0M9CBu9YQoKSWUIUxi7B/UkiQjR03cLknp9CIO1BwlKhO8LeKI7Ca9W0wTIX/UJCXHDC/1BGwpPUJcN6rghCIC//v1uklMJjZr1CrakjwyAQgsDo0zjDVrT9wh7MbMKGyCPDHaN5QpDnncATnYZCEPjJQfx2lMLGOUjC0k/FQjcEHELKoSdDQAQuQCeQQMLEGpvCuenhwuQ+mMG4wEXBQITbQh7K58KCfNfCoEGZPwaSdsJodInCtvG1wnDh2sF2UYRBTxqDwvBaycLjcnNC50A+w2zr/UKPHnLDinNRwwZhqUHre07D7VCRwpJQosLwHVPBu17kwrvRcULN0OtCKpuCwmYBOcKu/4jCX6i2wth0PUFkrBjD6FzoQhWeoMKKW4tCEJbzQHXTksKZy8PCQK/mP6b8KMOsodPBObfeQidhEULAWC3D+VKBQooIU8OkZRXDwFemQYpoB8M=",
            "dtype": "f4"
           },
           "y": {
            "bdata": "MBpcQaCp4MF4LzpBoGePwZWROkIKtXxC5MMkQUDnTULEFhTBSMcZwkS4CkLAtFHBCdxZQiC5YkKElLPBkCPWQaTz+kFwnxXAPUtkwh9/LMIumiPCULI8wc4mBsJB8WxC4HblQQBkBb4gl2nAIJw/QDXgekIA/gxC4KcxwZAkDMHA4Bm/luGAQqfYnEGW7VvCMBhQQvg2hkAYXXrBmJMpwd6JhELEWSJCjg64QrL4p8KTIoLCQlIuws74j0JoHxJCYihIwgxqf8LDR2zC2CiXwWQP6EEqsINBCP58wRAJG0AmNYRCfj00QlKensKgUpZBLeNZQWBwmkBg6ITCTXooQq4gO0JwU0dBGL1CwXru7cBG64nB2HgwwohBLMHA8ss/0kEQwxZpFsKy7GBCwPUPwDxVeUIrrV9CEGzawTQXb0J4ue3CYPuQv0zZjkH+QYBCvgClQeo5iUIMvd/B0a5RwjQZ88EsrYbCuYYpwoo5rMLIkoXBFMOHwXuSQsLqEB7COsYnQp9itMLG0yJCIRaoQX+DmcLXZo3CuZcPwnwl58EgHHZCDz1MwlRjWkH8KVdCyEaWQXxsgcGAhaQ/3SFMQqZpQ8IzDzPCgHL8vzDHgECdDR5Cdv3swYBRmz/or0JBsPIBwIBEcT8k8KPBMrlZQliMz0DGYdbCYNDVwvxLAMF4Th/B4ksEQuDFlsDg+rnCYgUGwtgQpcI6QLPB1KHwQb4kH8J2nIVC+LNUQVCnOMFmTI/B/AGUQXDHrkKAPpm/xjwDwpziusHhR25CmLpXQvQShUGINrbB3Fv/QSAgz0AqECVCANj6vTDYjsFGLZzCY44JwhAu5EE0RoTChowlQfJdEEJARNg/4PvmQLhB6cI8GVpB7UxwQseCPUIAGgPAsGV9QBjKYkKgcn5CXhO5wbhQNsGEnOzB9oujwrT0YEIz76lBDaLhQSwFtsIAMIFA0wA+wqAe9r/wzFlC5f5WQgcFKMLjCSzCj3ZVwnQQ80GYr8HBNht6QmoCSkLDzSzBuSNzQiIFocHnlbPC+yp5Qsn2d8K4rxbCCj/gwnIFjcHoHtNAHjyKQciH6cFIvS1CQLE9wXCB+kDcxYFBMnk3Qt96RsJEoZVBeAO8QpBsusCoEoJBdNiRQSgvSEFxaopCO3+dQkCcT8BW3PXCuJ7FwbgN0MAglFrAjjPbwRj+DEHk+53CLn0Bw/aem8GsbP9B+JUGwZZtEcKQvoJB3GyhwTXv6UHwXX9CGECrQkZF18GMhiTB6HHUwkbt1cIBn1HCkJ4ZQpb7Y0K+9TJC23fpQRxCksKgBnNBmMG9QdDbBUJ6e+FBSPGhQipWxcFY34/C2KxsQtQ9WsLcIeNB1rSwQZQXJEJ42b9BWB87QVywMkJfruJB+07vQaJ5ekL6YFXCIFkVQFBfh8A8VmVCdhafQZpsVMJmMWlCCyBPQhAEEcITQN1BnSaMQgrugUJYokbBo6lDQtRRccFoNxpCaNXRwPQyOUIQFM3B4ActQCCuVEDFctrCaJl1Qi+kHMJcJcPB92ieQsRliEHoSZzCwLidQYrU1cEQmlDBCsnqQaNDL8Ky3JDBsovSwGDDD8O8G4bCdj9VwkakiMJM3B1CbvODQqjvysEgmSNCwBErwQCtZMDt0q9BKqoMQuyvhMIJjoTCKqx1wrRHskHwWFHBWwc0whyp1EHx2qVB885EwhdwOEI4KJhBWL8cwioFjsIoq4jASsGLQmITA0LAoqrBZmorQhjYAEGt4UHBsCnpQNgsR0EE2r3BAQEfwoBFfEBYHblAg5ldwudEbEI9QzPCsM+AQYqRDULQUGlCpB0hQoRIAkHWlczCqImXwd+ubMIwWwtBdl5oQkifDcI=",
            "dtype": "f4"
           },
           "z": {
            "bdata": "NpgrQ+Fkj0MAuI1CB9+KQ/ptdkN4hEpDsWApQyDlc0NZzpdCXp8yQxB7KkOtvD1DnwgtQzHlhUOZHaVC0F6HQ1uCE0PbAp9D7tQWQ07VdkNpnAJDH64BQwOc3kKAQf5CASfqQmppCEPtkNhChrd9QoSDeUO9LjJDpW8UQyuVYELPRB5DYLYRQ1IfsUKCM0pDgVANQxqtjkN2l7VCOsFzQ3BsN0OYl19DiiuPQ2GjnUNqbiVDGnYEQ5iqq0PWrLlCzgQZQ/zSOEOYyixDuq5IQ65JFkP47jFDB2UlQxwGjUNq/kBDZKkCQ1PNeUPWUBRDyjSnQl62BEMl9lpD1JiUQq5wCEPE2qNCbwsXQwAUhkK6UlpDyBx9Q1psK0MXfkZDGhmVQ6UPPkMSmgVDOpMSQ4qah0OFxk5DRjYFQw7c3EL2D5pD4SYJQ2yxM0MUxW5DvswRQ/6+BkOAgSFDS6ISQ3UMTEMscIhDrkVrQ7nQSENnXdJCT5uPQ36ZQUNGrUxDpZxKQ0hkhkPEfzRD0zMVQz3OM0N5EjpDLBXIQmZbykJPk3dD3nCPQ1mZG0N2NppDUlwyQ/atK0Nz5VhDfjbKQt+UNENQWYpDutEDQ4h2okMwnn1CzOAUQ64rOUNaUTRDYjRPQ6b3OEPAbSFDUV8fQyqnmEO+kJdDfEyfQxwDIUN4Vk1DPG2jQrblzEJCtoFD9N0dQ6QVZEOTT4pDzZY5Q8cNaEN+2QlDxaRcQyDp8ULMy31DCs0aQ+TmaUPDH2ND/OwUQ/SDGENoLh5DbIggQ1R4G0N1QwZDSihMQhNuEkPGuNdCCCpqQyLelUNg1FlDheClQ6TDskPY0EBDDD6wQiksJ0OuLxZDwIeDQ1RCgkPrGUNDcqBtQyt8KEOQQJRD08AcQ63UC0MuZbNDkinNQnz7NENINDRD+wB2Q2ZOwUJAI4VDJgcNQzZjo0NY3VVDjlSRQx3YW0PsEMJDz7iGQzVxiEMr/jtDFOQ1Q6XCQEOk+ytDFi1GQ4etXkOaQhFDpGIcQyuhr0MWCEBDxyAWQwEFMUNoJ2hDxK6qQ4ohkEOqWDpDoRErQ2JSukKmlB1DQDxKQ+fzQkOn4WtC9gEaQ7PXQEOIh3FCoj64Q00SVkNOzI5Dm2mJQzz4UkPYrzRDdfSWQ5REEkN+VIBD8+sCQylYAEPSbLpCElIFQyicTEN5s5RDMqeNQwI6YENUhKdCQttZQzcxKUOwS21DxglOQx6pEENyYm1DJ2KOQ+IlT0OFXrBDecalQ+YFiUNoZhtDWqADQ8t8UUMLeXNDmA9rQhY+TkPOKjBDof4dQ4n/SEPm0xVDDNiEQ5KITEPam6JDkb9wQ2rPUUPoTHhDxX8uQ4Ef0UKANkND5jCPQlkfZ0O09qNDF+CyQ26ukkMdfR5DqvGcQn4yqUKKdbVD1sWGQwIZFkPiRCtDJ6w5QxH8hkM+URtDC2o0Q+tPhEPc8D1DZlV2QxpZkUO2BTxDNZwXQ4EoUUN0swlDuqmqQ76qp0Iz4XpDRAxQQ67wlkMwKYpDA4tfQ0ShGkNywVRDdJsRQzrNKkOVZSdD7i6FQ9SvqENACF1Dxr+zQtZ2nEPez2hDOP0oQ/FsMEOtI4lCbHYoQ8yc30IJY1VDQbZ2QsDxbUPy66lCQFOiQ+Z3KUPPamVDjoQSQ7WmdUPcv45C1rdVQ1fzN0NaympDgjN9Q9D5f0IS6lBDCuboQln0pUOnDjpDaX15Q7KJCUMdfzJDeh3lQhNGHUNqW5FCpMQVQ6uLuUK47GhDYckxQxhFR0POeQFDJt6yQ41ONEP4iU1DrLxKQ0cbNEMqm9dCPHM5Q++XqUO711xDDCwFQ2hPUkNyjFtDCB21QmCCi0M=",
            "dtype": "f4"
           }
          },
          {
           "marker": {
            "color": "#00CC96",
            "line": {
             "color": "black",
             "width": 0.5
            },
            "size": 6,
            "symbol": "diamond"
           },
           "mode": "markers+text",
           "name": "Cluster 2",
           "text": [
            "C2"
           ],
           "textposition": "top center",
           "type": "scatter3d",
           "x": {
            "bdata": "igT0wQ==",
            "dtype": "f4"
           },
           "y": {
            "bdata": "Zn0uwA==",
            "dtype": "f4"
           },
           "z": {
            "bdata": "tjBHQw==",
            "dtype": "f4"
           }
          },
          {
           "marker": {
            "color": "#AB63FA",
            "opacity": 1,
            "size": 4
           },
           "mode": "markers",
           "showlegend": false,
           "type": "scatter3d",
           "x": {
            "bdata": "DHaPwWhflsLtBMDCkrPxQR4ZJsKonxbC6oWMwkDIkEBYgtdCqLJJQJ8B8cFx/6XB/XYQw9aM1EIwkmFBFxuLwQpvB8MYjAtDcOrUQUyf0MKqvhnDwNEjwhSqX0JoLYlCai4RQ8g7v0GS+7vCGOQ6Q8BN+UHUal/BAKfKv+cMGULSCA1D4HgnwqZ0KkIDrYrClo8uwkQCY0IWDBtCqp6nwnhr1sGkOQXDcs34wrCBlUBbthRCTteLweXJt8ESVcvClKiWQTg6Z8HWj6tBEJuZwsw7k0LsVDVBbjVWQn+mZ8IW1wpDwDVtP7DDIcHmzBlCFOJNQsBnG79i6GtCII/ywO50tUKIoIpCaPLxQbYQgMLYw47BApy1wtDFpkJEnt7CcJbJQcLai0IQ7HPBEFBJQyxMLcLIeq5BjGYEwuAKOkG9iupCiAKcQgjrb0D0ro7CVG7zQBKnsUJkMDVC43TOQnZQpkJAOkE/uT6rwu6FBUHsyPfBeejFQtCL0EL4QE9BYCGDQeqt/MH+WVlClp6HQqk+hMKCPc1CwRCWwh1rGcLaLMTCuxifQj/y/sJALPRAczZgwlYRRkIiualB9iCoQit5o8LoGFBDwcLcwnDB8MF7uRhCIP4pQXzV8ELPGAtDLd3nwrjugUI0ZtpCMNNvQH2k2EIfyrBCrnz/Qn2HAsEA+U/BqvYkQ+DXLkBmrC3C4HsNwkjLasJQpPNC67rfwlSOx0FX3CnC9D5jwjSX1cFQZptCrpWqwgJVGsHjZgTDYg1jwqhwK0Ksj6vAWMIbwvCHakH4hhVCZy62QmEA1MFih7fCh8QGw3T2GkJhJ/BCnORTQnLGIMJeZVFCiB65wL0TKEOKKf3AfR+Hwt9aocI8HxJCgJgZQ0/dA0Ndrh5DWOtkwsQ2/cFQR5ZCYymmwmtn7sKsa3DBufrYwSIf8sE4KOnB6fmLwkhy5UKvL7LBRAqFwUPaJEKoHoZC0JiSQUqH3UKSnMXCejKnwrAbN0HOulXC8XcBQ5BJI8M+mflC7Sv5Qo5ydkLEwfRCfx6TQoTmQkL0anBCD3G8wsSEicFnlwpD4xJfwsRw8MKgkO9BtQUbQ3hzkkKk8r1BLD62wop3okJI0vdCEe4twnhw1MLSuq5CcPbwQQZf28E+GQPCGhX+Qcm+ecKAEYG/2pntwQK5Y8LOQZXBjjNWQkwuxEGQJzxB7bEGQ+AqF8IoDmZB2ndfQkcPscIAC0lCaF8Gwr2OGEM8trzBXL+0QT/oPMMvt3DCYHVmwDSSpMFF9itD2NNtQtQZQULUpupBuGEUw8dL2EIknVdCNZYswmfnsEJ8lMTClGY8QsTftEHu8ObCnlm/wg9IWcLq3p7CFXaAwl0gvsI2SdhCJRmrQkeem8ICSVrCEK/4wZJ+AsHQN6/BWvAHQkoTzkEceRlDqoaGQowreEIl5KFCZB9RQjcHisLucDpC4HrEwZ2Mi0KSoZDC/M8ewvQSOkHc+1lCtIkwQbhZmsKMFgZCdwxFwl8NbcIdwSTCAIAuQur5ukHevxvCCDCIwiSwGkNyEqBCMfmoQlbBQUJzTxZDk7qQwfzOLcEcgS3CrjuZwrzIgMHBMBdCTP60wW7OpEHQnwHDgXhTwtk3NkOUXJlCn8ucwfA5JUEHyihDgJ/pv+jMSkFGXjbBPpkAQmW4NMI0XCZDerONQtDilsFgt5vCZjE4wrjbIcLYr6LBgnRiQv7VjsIoanRC28IiwgnOF8ONTaHC4Ht5wAX3xEKEMLPBFxZtwVwzhcJH7w9CNncuQzuT00JS6eHCmhMMQ6lDiMJIyWJCqC6uQewpl8LQgVpCTRTKwQlOEULCoapBLEUXQ/B8/7+DinvCJTyQwsrR28E=",
            "dtype": "f4"
           },
           "y": {
            "bdata": "qTFMw3vzcsMog3/DO9jXwv4tj8N29WPD5IUCwxy+wcIuzZrDvHMsw6QT5sKDFprCg9Z7w1F2lMMLTszCqHc3w2TYWMMQWwDD0n1Vw2b4fsNz+WrDFervwnmKdsNWrtvCUJ0pw/SYZcO5mjvDVq81w4VnXcIagmTC6AwYw8bxTMKbKEfD/F6ewgIfocMwtpjDOkSHw5AcJ8MWw2vDyGFjwy+n+MK5NoDDIQAkw2MVO8PVpurC2mjzwnHIHcM8MpzDBeacw0JLNMOW33jDGIdGw1Rih8Nyql7Dd+qnwmBU6sI8aZXCEbyJwhMszcKSiI3CyakAw4CmCsNQ9bXDJCImw2YTicMsApLD/v9Dw/bRBcPm+OjCEudww/pGXcMq4BbDQjapwmSJRcOSAFfCITlXwxbHVMOWJknDWmKywvrmHsM9CL3CNrU5w9AaT8PIYqXDKbyIwn/IcsOtxQ7DvIW1wl7IhsJsh6rC+YQpwyPRlsJJEBzDfAJvwxQQ88JjDR3DPSaKwzNUE8P2eFPD7zyNwv9dX8PsnMHC425ew+wvdcL1qj7D7OqGw76SNMOOvNHCFcXFwjz7JMOgCBDDyvpjw+ElPsP0Y1HDkmY7w3eVocJUyfXBnUh3wlB0isJqZEPDNxm0w7U6UsONb7nCaasQwl5ocsPwgpnDWAhkw6IV5sLticTC3D0ww2m3ycIm5jbDao9cwzmi9MIGdbLCYqiZw0lK+8I4BnfCPOUyw/KmosKxJ8jC9l6kw9mnh8I9YXjDfnjCwg7CEcP6XozCGK49wxRPPcPM2xvCy+ouw4yjhMMPSJrDDRBXw6HvqMIyN1PDHoY0wwMzSsNCnlnDyWGpwvD9hcO/D3vDbWrhwr4gTcNdK93BcPwnw4NJz8KqZsrCFv2qwh44LMMWKFPDsKkbwzBbq8OfX1vD+T4pw77uYMMQaf3BzLxjw7Ab4MLwAjfDUzmuw6G+PMM2uDXD8vCJw4y9S8ORCwvD0qGPw2Nl+8I+o43Dvmitwo6JjcOYqyrD8iiGwwWTuMLNkxTDunkgw+asWcPhbsPC/Aoow/p9ScNgM0LDembswmI/UcPqeFvDaHtww0oVNMKCmLDCHIupw0ZKn8OLx47Dp/aRwt0WfsMMjCnDGR/Qwqjz98EKSp7CS32Dw0YmZsMYgfTCbvEhwstt9cLfsevCnHypwsghiMOWcI/DYHFawwTN88IT5y3DLuWUw6hIXcNs9h/DsBOGw476FsP25JHDWImMwvBkk8NC357Cg1yowcRKA8NbbCfDWpiqwnZzScPKW2/DpdZmw5CKsMIBTpzCGOQEw7sfXsOeaI7D7uylwg1py8JPj1rDfbSBw7/efsMVjgvDFav4whibR8NwNmfCA1kPwyC9WcMp1ebCqKMFw9UTiMLbnNzCvvKYw7xn48EEtGTDQcJ+wlJ9m8NkST/D46MVw/2W9sLglk7DjxcLw4BQVsOI7KXDMpSZws++acIEmqDD0IDawtjJV8M2qiPD9CtQw+ztjcOH/g3DTg+Vw+8omsLAtJjCoEhQwxYjPcPam4vDj2UXw/R5pcNVKgXDSKyNwrDRPsNbVaPCrF+Bw2hBo8Jq6lXDgU7vwlbz58J6oXjDRLq8wqq+L8NaKY/DkU+bwo5ODcNYXOfC+8SWwhlq7sIhHxzDcSEkw/6LlMPJ347DGMxGw2ySb8IL8tDCpuB7w2QFD8KGJR3DjLd+w/wBGcP8bgzDgBtjwwbiksOq/zbDEugMwoxXOcPy0aXDCx+Ow+RJqMP7LKbC3spOw6bwdMIzXSjDBmlSw2pF38KmTyzDH48Kw5dfIsM+SjjCwKqnw3AgoMM45XnDOu2cwmH2j8NJ2pfDoylEwyIqF8M=",
            "dtype": "f4"
           },
           "z": {
            "bdata": "/0A4w/HEQMNVTJvBmlhLwdMQEUKIADjBwI5rQMfFscIY77vChdg2wcCg98KcnldBUEgZw5yHccI6/iPCi3luw5DnRkBm0E1CFoV1w9iaB8JaI5PCkT9lwrJ8yEGs8yRCtrLdwnDMdkD2C+fCEJNyQkQVUMKmFRfCjA3JwpDDK0E8GzXCLo+Awnp7psKgL+bCsFwKwQ7tm8KqTt9BB+EBwzTx5cEUBjDCUGOBwGOQN8P+MNTCvf+fwQDvmr8ErfBBWZiEQtC2tcJgSmbBkWOdwpSCIsLQdEVAqvSXQbxYtcKOD/HCDIOuwSRr6cJszjXC1Soww55JAcMszX7A6wxFwqJej0IGqvLCDnORwkCTUsLMWhPC+hRwwqQhhsKYAPXBkFn9QZq2OMOg5bDCdgHCwuwAJUK7GC5CG1rLwmgZDUEg/FVAqGgnwXLWxsEelvRB8BdTwSB2BkIAgLjBAAwyPQAvjcCCTIDCw0EOw9zZwMKpsqfC3dKZwoUljcIgtKnAHUIMwwFCRMMmRtnCYFr0P7zA68Le6LLCSRoxw672YMIY7XPCHhhOQqg0bkEhIt/Cgb8YwXIsQcLvhgVCPaIbw1j+LkHVyRJCgGpAwHQTD8OciJDBcKLpQPjjRsGX1W9C1Kq4QVGDcMMAe9I/sMGuwchFHcJNValCEG2BQF82GsPQCtRA8HThwDwQI8Pg8AvDQJwQw870kMDgQBLDCpLsQcGB1cLQOx7C0N2DwhuzqcLUU4TCZy8jQqLbgcIoVV1BFumAwcDF5L7Qf7bC0Hk2wWqf5MIMH4pBXhnDwhDqScEU0WFBs/uzwuyKX8Lcg1/CgHhxwpbHxcKyywHDeJNXwYb5hELQEULDM1TVwkptr8IAqkzBoPtmQVDFlj9E0JNBj5gBwtLAIcP6UgpCHNGywm6z2cEWCQvDTrEBwabHQMLSDibBICEhw/or2cIuWqjCGJwXQa4mt8I34XFCYtMXwf++F8GF8QPCZAtSwgJgcMLODk5C7oNewsA30z91+BzDCIODQrKD+sKHyo7CEdUBQoR5h8EASyrCBGBNwvA6DkIAVcLCID45QRQ52cKgsVC/Gk8Cw8A3YUEHw8DCOK6Mwsc2VsKMqfJBWgqywlbRxsJcaJtBxDbPwsb3osGc6rrCJJX6wv04OcMohLlB8OAswIJjDsL85R/CkWshwiCvYcJGHK7C9rO+wvNBmcInUT5CXOJSwIBqNMMNTgHDCC4tQsg7CcKRwHhCBsq6wopx0MLoVtTBgOo0QQKvl8FRjSjDNOMjw6yNI8NRXy/DGBkOwiILB8IKhePBkvPWwt4jh8CgP8rC0EATwYjVnEHFlZLCs2Erw53bQ8Nou59BMlsnwhrB8MHzjAjBkLNywxDtb8JIZZfBL0UzwqqBg8KgOQRBVbeVwmBG0cDjygbC8gOtwejA1UEMqznB0DJJwhquDcKeio7BM8RIw1z+0cIlsjjCAK5lQfyOzMEsNxzDsDN9wvqwqMLgBHtBWBhow/LEBsIg1HDBxckMwtCmcEEjXAXCXk3/whlAaUIWdmXCnMzUwZq1o0L2D9PC1XJSwiitS8KQnX/BgDsRw4DO+r9YTLzCCZsNw6Kdg8KJtA/BqiggwvzFnELxrFlCnlCOwjEUFsN6HqpBEFSYwKQ+L8Jjd37CEGj3v6govEA+ZEnCJOBwwljyxMIcmenBJiINQbCDRUDsUpHCaAS5wptoE8OkBKPC4IYdwnAWIEHGAALDAGZBwfgkUkFefQ/CCnOEwpvVCcPGlRvCSDqSwjhhF0EM8CDCeJYNwqhvQkGnMyTDmBAcwjEVm8L89hfCLpwjwzujT8LzZlHDqDtrwZJnNEG0AjfCgHeFwbL1ykE=",
            "dtype": "f4"
           }
          },
          {
           "marker": {
            "color": "#AB63FA",
            "line": {
             "color": "black",
             "width": 0.5
            },
            "size": 6,
            "symbol": "diamond"
           },
           "mode": "markers+text",
           "name": "Cluster 3",
           "text": [
            "C3"
           ],
           "textposition": "top center",
           "type": "scatter3d",
           "x": {
            "bdata": "bnYyQQ==",
            "dtype": "f4"
           },
           "y": {
            "bdata": "F7Aqww==",
            "dtype": "f4"
           },
           "z": {
            "bdata": "cZlVwg==",
            "dtype": "f4"
           }
          },
          {
           "marker": {
            "color": "#FFA15A",
            "opacity": 1,
            "size": 4
           },
           "mode": "markers",
           "showlegend": false,
           "type": "scatter3d",
           "x": {
            "bdata": "JYqHw8J398K9kDHDzrexwllCXcObJJLClGZiwxhHlsPF6LzCWu4ewxgrOsMhlQfDgbY2w9bNLMO612vDRgoLw0DN7sIwTI3C4Mmgw57bqcKqFZnDCEYUw30rQcPAeqTC+mtSw/TJw8Ln+8LCroACw8CC7MLEJKvDSHlKwwq3scJiSEzDInHfwsy258KT/ELDFBGjw97PqMKwts/C53Eaw8yFEsO4N5XDBn71wq8mCsNUV1bDvfMVw2gRisK61zvDigZaw2QzPcNDeajCfNMDw4c308Lr74vCbLjBwv7IlMOVYonDHOhUw2cCMMMtqerC1KGUwiJRCcOC1PjCIaRQw0DF+cJfTXfDUw5+w13PJ8O5b6DCksyBw7iEucJWiFTDtkwSw59x2MKntwfDyTxhwiR+vMIZrPjCSluiw/mv9sJ2Y7PC5wBVwyRIQ8NhhS/DmKsNw2FBCsPg1srC9kERw+BMKsMaB3/Cdt1fwzhLOMNWfBfD0N3HwiR+4sJGFqLDTgERw/713cJ9kA7DLhpow/lXYsNxRJPDD147w5LiAMOoWgDDOwQ0wyUFRcM4vgvDTKqQw8aIQcOMDCXDaqH0wvruAsPk9XzDFIIcwxTSE8OGJATDcF4QwyTh6sLqNDbDg3BRwywDCcNUPxnDmvcMwxJe08K1MDjDzAFnw7SslsM7x/jCwzBhw/y0BcNrYRTCCmegwoQm+cIEu4vCNNHEwvAoEsPJCj/DDxshw3EXMsPIRY7CNQAlw64QVcOEYV7D3sJOw/uiRMO09o/DACtjw1IFOsPUJ6jDM7oQw1eqKMPB42rDrCspw9SUC8P0W77CJSkWw7Jii8K88irDZyB/w2uY7MJhms7CGfhNwmvggMNg1STDfucTw6MxssIG0BzDpElDw5X9o8O8lwjDPk9DwzwJGcN/5C/DS8Q4wxV4ZMIFfB7Dr8fpwsWSp8JsczvDklBWw4056MI3aELD50VgwxLd18KW7KfCY02Ow1zZRsP6cajDFR+4wsUp+8IyvjbDY3uLw5bKN8P/hE3DdeUkw7ghocJvxpvDrMpZw5KijsOIOnjDWFgpw0YJrcIqIDDDAxD1wikhRsOSDSjD9bCXwgEdhMKEn1TDkdQkwxCraMMB9tHCu9lxwrAficMa7QrDJFYSw+HgEsNtbTjDVxYew242wMLg3LLCQ7klw8rV8MIu/QXDqv4Iw3g4BsOK5KTDRjs6w8YPXsNk+krDxCFxwgf3u8JYMUbDDb1jw6MrvcL3Ce/C8DQfwwqlSMMcZkXDtOn+wvgm7MJk8u7ChkH7wjaYeMPfNEDDAvupwkI65cLh2i3DWjoJw2oLAcMEFMHCcJVpwiNvEsO3DwTDocwCw0YDl8ONq3jCOYAIw91XIsOOObjDB9SNwyxvTMMvIDPDthBbwy627sJEHL/CTCrTwrxxVcPLbOfCIEIvwxoBPcO0s3rDYrTwwoDv2cKCI9HC0KMMw/F8iMIne5vCsNlJw5UKA8OA/kHDot1Cwxx9jsPe8/PCThRkwgDkm8Ks5kHDrRK8wuWc7MJmaRDDcBdmw5m1TMNxVMrCpY9fw4IjLsPu0VLDuMzQws5aksMEW7vCYnAIw2jVUMIgRVXDnUoWw6SbUMP9lgvDWZ0bw3awKcPSSiLCn0Fkwzo7HsNOdLzC4ik5w8iDkcPCO8jC+2uvwqxIJMPbS9LCw0tYw7NWacO6a7DDmoKJw/6qBMNj0s7Ci7z7wjRniMMmNFnDDPOIw5Qr+MLzW7jCPpytwkr5z8JsbA/Du55tw7wTWMNML1TDtJs6w3ZCvsIl/q3CfgjKwkaQGsMNySTDRupHw3+rGcMO8SLDWjLcwrIOvMID7tjCPjrTwmeJ48I=",
            "dtype": "f4"
           },
           "y": {
            "bdata": "GAEDw+kiCsO34CfDHBamwiifrEKgtoXAcw5LwjbAC8MKEknCBCwNQu1bScMcbYvBJhQHw/OCl8LwoA5Cj6UqwzAMd8EARP6/LgoDwnkvncKwtCHCPPcdQvvlxsL95ZvCLSFSw+AbMMIPXxrDmDoFQUkjU8HdFKxCwzQuw49IrMKaDJRCRzmiwika80GASt9A/fT9wlx9jcKUbQrDc8SLwVgWTMPgs4VA7RlrwhZy9MFWIY/CQyoXwv6MXsKjn0LDXuYSwwpU9cL33yLBZi+RwSyKKsPvGk3C4HxBQnTvgcJ2lMPB1DMPwyEaQsM1z9TCDPt9wg83r8I8DvvB7GXewmQ/H8Mxq0HCLG3hwcr7jsKqsJbCXaqwQqYqfMKx0tTC3Er4waAKssI8gibCunRKwqD5kEDgnUPC6hm4wvYu4sLlmqDCnBlBw92V9cJaitPCL6UBw4I/q8KB1urC+Q2jwrVS+MLstJjBDclAw6w0SMIhvdLC6ZcDwYkFYcEcThbCrBOswN2ficLEmhPD2GKhwaxhnMJ6rh5CDH6VwrNaUMJT6dRBjzL+wtwTTMPJX8XC0MyMwsJ6QMPjoPXCbFfCQRKOOMKAVlVALMYIwio1+0ExZznCaCTuwpBgFsPqhJDBePkLwwAQ+7/wK1JCYp+5wgiKMEJ8NATC3xA1wkfCucKrqhTD0yziwsBIJMJHpBfCtmMSwkDRvsJof6rCCnEZQnPTgsLdc0vD5GzpwrZsI8MUqbfBoBpjQjOuZ8PYfhfDMW4zwnA4G0Jb51bCC/0fw7ffdcInTRdCd7Eawp76JcNTF6DC3uSCwpA+j8GCb3TCPtEtw6RIYML1gp/CVF/kwfM5lsJD4YHBgOjPv0SoXMCzic3CWI3DwgBgKcHIcQnCDIx7QRyx18Jlpn/CLrc5wydex8I8SkXAFgjdwcQWucEMz1XC6C4mQsiE5MDfhW3B+5V0wiQ/EsMcWKXC2/qSwqeq7kH8Qc3BB7mQwl7i+cKInmfC75u0wrskDcO1s/fCpxYuw+ZDb8NeSLLAI6qJwpij5sGULObBim6/QPbRyMFg+izD6qKwwB+zr8LizBTDFrKqwSR658LWFyXDJGbRwkcxCcKCCJnCyXOKQs+OYMIjbiDDmFMBQY7348Is9DzDZv0JwzaxjsKgNQPD1HxMw/Pw/cLkKPfBqKJPw2UwaELLtq7CXq+twlSd88J32qnCHcMuw87cM8Mrim/D7nWowX53AsN2vAXDvJRjwvoIsMLr1PXC1OEiwNZZVsIM1lbDz4HAwUBvHcJcGz/DFrsDw9ghVsN5XaNBqugCQmTLvsE+CvRBi3DlQd5Xs8Klt77C3FAQwrIlU8KX7BfDIyunwo918sIyjrjCficLwi5DocJTCBlCX1lEwsBZOMNQPAXDM8TlwRwKLELIKJXC0tsswrV7skGyZg1BhU4DwztnWsM/pfvC4muswhBjXUAsZofB9hZfwlDSL7+jkZHC2Kf3wsBEw8KJRFHBPW3XwoFOOsMcG9HBPzdRwqoEecK8ZqlCYcXnwtgsfkHmmuvCg3QWweWTTcMAOJw9AWnJQkOKMsOgqfLBsAmBwFvQNMO95gXDgSFTwuzzgMIfpULBhlzUwjSANsPd1TnCEg9GwzJXMMLovGPCEPzcP+o3TkKUN+TBiU4sw6Jmw8INgYjClRAQwkHSUEIwkHPBsmdAw2KgM8P6ktbCgKgFvm0yMcOZuhLDYimZwt4z7cIVpi/DJwBHwl3C08J1mqvC0EfcQYT/1sJifbHByw7FwkreJsNsAJBCCChaw7wf80F0a1LCnynNwuALGcOjOfvCmMxCw+aEw8IovBNC4tWFwn0o0cJrSppBOe6wwgxsl0A=",
            "dtype": "f4"
           },
           "z": {
            "bdata": "gCA7wyi+pcLwGxvB+N5RwrVs9MI8YEHCG16Fwv6mmcLufuzC0kCKwtRXE8O0VCHCdTQSw6jYFcO/mqDCWDQawq1ADMPsHtzBq18MwwAUk8Aq8UHDP2OLwgyNKcHiXMzCILgqQXRTFMJaleXCnHkLwtMMiMIWbhbDqM5Rwf6cDcNQf77CuNS9QTWDo8LqgrPCRsoWw0CynEDaK6jCbi3zwjHhBMMt8hnDhM/RwUzX2cIoBhDC9W62wjj+nsLFUwfDCtsuwnpXEsKUGKrBbCdAwnZuB8MS6KTBnS9Dwp+SQsMSVePCoNDiwKb59MLW/2jCMDOowrTg0cIWkRLCStnQwkTJAcKMw3LCIN2gwip36sIGOcjCgXwGw3XhEMMo0aLCLPQswqBcpMBod8rBIPX8wv4VosI4wpjC3Us3w4y/n0F0HQnCOp+rQUYq58EJTFLCJIfAwr0gIsMQheTB4Cs/wDh7OMHQIEHCLccBw1wuHsJuQwLD2a20wmfatcIwfOLCEol3wkQyVsJM0oDCLaR0wqLIxcJm4QHDYj0EwwIc98JPHsLCvGb9waHzG8OknATBeNuuwkAkXcL4iBXDrCSfwpikE8NYvevCSEg3wtz0pMJgkDDCDHOOwi2ZCMNAGS/CwpIIw4wZBMOuWZnC5VERw7u8x8IsmBbDCzh2wtUf3cKWZvXCuDmawjzAlsLgqxPC4PbowdU9tsKGPBrCLCIjwvngFcMizcRBGAi5QYip7kHkClHC/ljrwrggVMMwTDLBkII+wszdA8M0HB/DOeWiwkh4/MGKlvTC63UawzKE70FM6gvCet2jwgAUP8JYQqHAhQqJwoAbH8Jgj6rCqd4Mw+6E68ItVgXDaG/JwYqLu8KIUhRB/LLjwoQH08JtpADDagfNwiTlF8MQv4vC/hcnwpAbvsKksy/CSgD8wuCDuED+9xvDVDRGwvj6ysKC1sjCrHkswgRcNcI4qgnDMumewvWHqMImdHTCBK6hwjzoJEF2GUnDuGWIwfvCscKHorPCcPsDw6CaDsPz9LzCFGYmwjDx88KoD+LCWrn9wnZ2FMMHjFjDeNR1wtWABcMCgQDCXTOnwl5RHcKz7ANCBmanwrC87MLlEyXDiLytwrj6YMIG8fLCkHIXwtcLUMOlNLvC2BGowvoZ2cIgNJ3CXjvpwndrdMIcA+bCjLwXwmKLaMK0L57BIs4wwshtuEHwSODCR2wFwlNCTMN+lzfDyFR0wih9r8IoLcnChDLSwmzYCMNkKAvCoskmwpykvcHAUue/Xourwoso2cHa6RnDMHJ8wDOYH0Lqca/CqtaYwoqyg8Jx2qHCpE+PwrcK28I4TMPBTFCuwSDYoMI25/nCve6gwq3f/cKHEAPDcD2ewWD1ukDE/QTD/QY8w275RcPo4KzB1bwnw9qvyMIisQbCxI4PwmCf6sLxNO7CkIAQQQxHMMIE+uTBeOm0wrho1MGJc0rChY8Zw5D43cEuzd7CQEZuwSiEnEHIEcHC+DDtQCxBoMKodlzBwHCMP1pUpML7yfzCCTN1wo4AjcL4HrDBEXkTw/02DsO8gI/CWbkBw0g3BMCj4JzC3GsFw4ZW+8LaPRrDkHd8wdiYbsL1fxbDt7MVw/BqtcFPHd3CwNMuwOI2HcJ4cMTCqnfPwuL92cJqDQTDuGLlwUKxW8JgucLAF0Z+wsyY/sKQQ4LCbminQdNFC8NkGGHCxjLawn8lBcPKXQvDoDGTwuZD7sIoQl3CpEXCwlggAkHoZgLCnJkswnIopcDUPwXC7nQOw8phBEL4ZcnCrQEMwtr2DcIrN+zB9PVawkvSksF+Cc/BbDvRwdcC1sJceKvCVlJKwi7nNMIMOrfC0IpzwcBq1cI=",
            "dtype": "f4"
           }
          },
          {
           "marker": {
            "color": "#FFA15A",
            "line": {
             "color": "black",
             "width": 0.5
            },
            "size": 6,
            "symbol": "diamond"
           },
           "mode": "markers+text",
           "name": "Cluster 4",
           "text": [
            "C4"
           ],
           "textposition": "top center",
           "type": "scatter3d",
           "x": {
            "bdata": "+Tcqww==",
            "dtype": "f4"
           },
           "y": {
            "bdata": "pp+Pwg==",
            "dtype": "f4"
           },
           "z": {
            "bdata": "lnilwg==",
            "dtype": "f4"
           }
          },
          {
           "marker": {
            "color": "#19D3F3",
            "opacity": 1,
            "size": 4
           },
           "mode": "markers",
           "showlegend": false,
           "type": "scatter3d",
           "x": {
            "bdata": "BVygwkawXMO2OWXDJD5Fw8t5usPPBGXDGJ1mw+KMjMOMPIrDMQMTw8wOXMMl3d7C4kOCw2A1csPtjRXDktVJw4wa/8KSdDPDsEFIwxaoRsPjQDvDcn0VwwQmdsM0NrHDFCJiw1aEAsPgpV/D4J2/wi5FlsO2OeTCbocCw5B0eMNuqIDDasUMw7vCQ8OmTWHDQl+/wkx3qMPgcYDDE8Qbw2GTjMO+/F3D1UcYwx0PZ8Mq0urCwj0ow4cf7cLodlXDaheTw6m8kcNouZDDNwY5w8/OR8N63Y7D8wQkw3B8acOox7TDElWFw263b8MgaS/DgPh8w15y3MJb1EvD5pZAw4oDX8Ou/pzDlo88w9W1I8NCLI3DeHiDwzdHQMMMY4PC64Yhw8WDEMORO2fD85t3wxyVKsM6PAfDgts9w0HXs8OJSFjDkuVdw+h7g8NGAFrDqQCEw3kgRMOUg3rDfCBnw7XrP8PCw7TDWh83w0fBh8O9MivDftmSw20ntsJ2mHjDFsqKwppXEcOOQ0zD1j/NwujYAMO+oo3DqqKyw1WdVcNscEHD4tY7wwgEV8O+6wTDmNRXw9/xVsP+UCnD2ur3wjYJI8OY8FPDejMvw3wDjcMd+x3DtnMkw+E/TcO0ll/Dnm86w5jlWsPjSjvD/R4Uwzq5kMPLmU3DkmmQwylo4sK9Tq3Cakdqw4hQocNXC6jDh1Bjw0SkocPk2QjDRscWw4goQMPSXD3D9k+ewzrYksPpY1bDhpglw2yzEcPm6wDDCfaAw2qnHMNlYYDDeHd7w05QMcMRy5fDbCzKwkxbgsPVVTfDbuESwzWA4sJllxHDuQ9mw0mbicOkq2PDKtCXwzcYscIi/IPDZt0ww5sYPsOciJPDxcoMw0owQcPuhh7DiquYwurUGsJl8pPDZAmCwoZNAsMD76fDmSMgw5Lre8OFgUTD+EZ9w6I7hMMsC4nDcO1RwxZLFMMmoA/DaA7WwqVjTMNbMCfDd0hbw0g3fcMIpPzCNeskw8XYncKsDjbDyfZ4w7Sam8OO5XPDhq8Iw15XmsPtrH7DzZaqwpwMScMFxYLD5Wkww3CXQMO0WEDDyiVWwz3zM8O6UcbDY6qhwtm/8sJ2RXLC5Cppww5YvMM2+jvDQDkaw9MxLsOjPZDDfMZPw1Z2FMNWEHfDZQUCwxekCcNjhq3DekMGw3Y6GcNSqrLCnxkXwzRZN8NqNoPDatBnw6JaVMP2ojXDyY2iwwhRNMOGeibDYSkkw0o5QsPgczHDAPtbw5U2JsMd6pnC9E+dw5fZQ8MmWTLDuhb8wjwsO8NrI4PDmPthw71nisNFlQPDrJddwxBHb8MLS6nDLiNpwygHdcPiz4DDcNNww0a6kcJckybDQmZxwz0dYMMekjDDpKPRwvbsAMNHRVLDgmnzwlPjSsOTa2vDhA+Qw9EYJMOYi4HD6O9Ew1pzM8P8wqXDcAvGwh79j8NQmnPDFsZow6WkLcNzKgjDWM5lw4thjMNiN5bDbr4Rw3gTRcMIuELD3jHtwp73zsLsMYfD0rmjwyO4n8K2s1TD3FUpw26SV8P8uz7DRyWfwqMTYcMAayDDRC8dw7HNNcPh2oDDSVOLw1ZuIMP5ZELDCE6nw5QeAcOU2FvD3F4pw1Ay4MKOMJzCdWkgw+7LL8OQ+WjDlCpqw+k5hcOU6ybDo+MCw5CCeMOl+sTCqAQPw2U6WsN9/ULDD1Ekw5Z4UMPYvvzCXIGsw/zp4sI1snjDGvIBw6jCXcOjiwfCWNRJw/Rpw8IaFmzDgLd8w8wOlsN8NRDDKTFTwxDrrcK43zrDh+wWwxC1McOxg5DCwbsYw/+3SMPYd1XDDZQyw4ujjMOA2yfCGVIkw6gEn8M=",
            "dtype": "f4"
           },
           "y": {
            "bdata": "ABC0wJLf28KvK9bCfUQRw6H42kI35qVCTEwNwkH918LrS27BqxVkwnQqHEJwiAJBgHPHwanh8MLaXqDCooHVQoiXlUJDzGPCxhvzwTjshb+Fzr/C6JuQQdjc2cAogXJCcPP4wACkO8FPWuzCdyE/wb+hykLA+g6/hAYnQviE+EH2dMJCTgvdwhMNHMJ4rszBENqOQReqvkFtMRxDSpkkQWWRuUHm+KtC9bh3wiBOuEBASRlBFOXawRiqVUI+xARDE6unQuw3T0KlqGNCz+RawmTQtEI+rAND3JbnwuGgFkNSsp1CHnrhQhfS00I01JZCHF0JQ2ol60FWC+dCIRM9wkFHlEK8fCBB5aetQmpzp0JAWfVCUPJgQlKTmUIwyOnARqwtwnzGCcAHWhxDjcFPwvsYk0I+5DFCgnumwW2+ckII/EFB+nzYQkNFzELSq7HBzEqzQlmc/EIg6+vAus6BQoCWpkGdl+5ClGkGQtgmAkOVu6nCi7exwjQgH8Ap+Z5CTCqdQcgMF8EO8b3Cklk7Qpq3ycFeB8RBL+Chwi4+6cH4gjDCqox6wpwm30K5coJCv2p5wtQd/sFCf7bCSOduQVOXjMI8L+JCCylJwXd2SMKgr45AkNAMwncxnEJ5WjLCNBCawRhk1MGwBIbARPOXQqrYjsI8OeNBIgteQtNmacIoCp1B4JBxwFBSTELH4FLCwEKhvxlb/0L6ABhCRgK6QmZO5cKCS9LB+065wkMmA0OimGvCS+s7Qi1wHUJc1xRCVvGcQonyt8Jzpg3CBs2fwt3CuEKp621CIIOfQHDtqkL65anBMaCGQmDWb0IF7UvCHrXiQoVt/ULyRHJC0vsWQgRuTUIgUOJCblRdQjIN4cLJAzBCLsgNQtMTy0I5TJxCwJH1QFCE9sAw1pxCoEcfQTVAFMG6Pw9DKelGwmgMp0GUGS1BfrwgQqJ5rsEgnC9DQG9oQr+rwUI0trBAkz8WwjDhDkEeXyLCWH2XQBT6cULefRDC0MEjQhQQCUL0r1vCwF8BQ89JtELbSjzCkheRQqvrS8FAYLFCxpg6woqmm8Gcah9DFkffQTrs5sFEv7XCPxuIQuKRkkL48ENCJywLwcC1aULsL6fBVbSmwscrxkKCWBFCrtkrQlRTFcIbj75C8L2NwXcxu0GRwRVDaL6yQfKMAMLj3QfCTpFQwtwhzcIseQNCYU9PQjLArcI7MXjCOp5dQvpIvsLQvGPAbqU/QcJh0UIZDjPCWUivQlPoA0KL9ZHCcjPAQkXJkUK0fipBg3+KQnIizULR7GJCSJKRwhynpUJalhRDOqG2wad7CMLPMK5BZZxKQtwtnkIM219A+WVywkzTzcJkKiFD+t/2Qm+xIsJfvNhCriPwQpzvZkIMxahCwDjOQFkGhkIQ9ZvCcOhewVudhMLs4QpBhIXKQmgXH0IK0blCABS/v3ed9UKBVJ7CYGeXwZYZBsPH4hFDAVLuQiZeLEHqDBdCDuk1wl614EGzeANDlHaCwvjp00EPgYZCPapDQgAwAD65ppdCnLSEQghDzUF3iT5CQPiIQgzCx8KjZNDCbBWFQQr8rcEwCrLCWAF2QkxrbMG+fgRC+H0pQ7ZbD8JsicNC+UkaQgKWIcJ4GZFCfEEvwkhBIcEMKKrBljW6wo88nELCSgpDujTwQiRqEkM07djBdqMWwuprcEJg9shBoOmsQrocbUJ1f27CN27BQqofC0LczklCfX1NwgFZXcLMBcPBdEUUQqjGa0GApmLAAt5eQpDztMD5JdlBgcGjQlf8LkMIpatCBUxzwnAAAkJEjgZCftkqQoCQ6sGYWuM/xizxQWcYlcIAcZ9AqCq+wXpas0JwUutAJCKjwWFN6cI=",
            "dtype": "f4"
           },
           "z": {
            "bdata": "aDDLQURWI0KuB6hC5ANEQucEBMN67OBClGQiQ7yaQEIqSrFCcMqJQVixA0JwDlHBMLpUQVgIh0K2x51CYaoJQ5Bu88Dv2BtDcLAYQ0DIF0KwmYxCjCmUQlR9dEI0arhBKkNCQxmfd0LSeNVCePpkQvTDuMLUdrFCMLWrQd/Se0LIswpBwGYsQsBjSEIwfZXBTHIdQn7Xk8JenBtD1KwIwu6j4kId6o5CPC/GQeRLAUP69tPByAKFQl99vUK2CqpCCJK5wGkEjcLBLw9DKHHaQVZJ+UIC461CrG8PQpQKoMFi6ZPBb4q/wnhPa8GQCABDXmOUQvvqzUKQkhnBKpPZQhj30cGAF0/CYHqNQaDYI0FgpT9DKO98QmZLXUI2RhRC8MRfQQBmbkDSN3NC4P/OQV1Zh8IQUxzBxhjKQh4rlMLUbhVDRCHWwkqsWEKwtCNDwCsOQCoE2cFKzwhDxqnWQqogWcGmJxzD5hYpQgqNwcK1pwlDoE+MQtA6ucAP3nrCgKd6QCjS0EIREi1D6J2ewZAt50LUSC9CpZYdwl60dULAlIvBe3RYQgs+C0MATwdC34wrQ9hwo8GqFJJCAzTqQgRhsUHIk27CoES5QTDWsUF8iJRCjXUNQ/TSKsHw6fxBzEnIQV7vwEIvPmRC8273QiBBkUJguvpCHEByQnpnh0LZzotCfBQaQ9gNj0IACdpBWyM6Q8D3PkGwB6pAuH1qwoGZm0Js5OpB0t4fQjj1kcBmEP5C2g9UwjTOHMJN2HpCPogBQ8Cdp0E0ScBCui5OQ9K4BcLs8OzBbpReQmGchML88iFCXF+xQlAlqMErURFCIHKlQcvM4kKA1W3B6++ywoNMTEKku5NC9NBhQlRh+EFmcYzCwK9JQbD648HAHpzBOKP1QURQqUEHd9fCqIbXQXzc0UJY1FnCNM2xQpk1FkJaIh1Cf4GUQuXn1EKAzNXAokpHwmkblEKAh6rBbolkQmk0k0J9BRFDWFSAQmhoEEGFQYlCwBM0wRQxwEFcrodC5yCCwjlbhsLRmANCrUG7weoAyUKGxZpCvtWkQWzi5UKIYH3BvM4nwUv+EkPsbCFDmAQtQVx4psJ+GqzCvKB/QlAMysHo3odBCytZQtX/aMJ65p/BsNC5waDOFcGAYZHCYnTSQgDgeL76OfBCmNFmQZZZtsBiGixC8P4DQuA20UHQpsTAXKgDQ/DeLEJc1C5DdPmbwkbHTELuUMFC7G6ywgJxyMJkegND4i4gwppKX0I9TSNDwGLMQZh3e0KwOSFBav3xwvrM40LgEMI/bk1AQqLZeUJ0UALDgLQjQ4CvFkBis5ZCGbp+whPtW8Ls3kzCKFe7QuwL90DQV4zA4IYpQj4rA0IQFKRB1IibwRQF2UJg/9hAIgoaQrp6PELflpxCYOSzQkzB9EJ4zqVBwN8zv+MNHUPAdq7BMT3VQua/zEIKct/B6HYuQnq1gUJg5sjAjIKHQgCFLMJ820LC8ImZwZg7x0LmJWXCY/yhQlqo4sEwixNBibBmQkNhjcG0wS5Cz0+xwgzzl8GAkwO/MzgsQkLI7kK1LwNDAYeSQqBC8MBoUexCeFdewcJRd0JwFD/ApDywwcrM1UK4zurBENtlQnmtP0JQ+cxBQN4YQBCT40HJGzlCOLrvQUaM5ULNNVlCIiRewoYekEKoO05CTdBeQvl6t8IAxuQ/zCJ8wtQfH0K8+oJC3MddwlplZkIEvTjC5Je/QcQRV0IlxKRCPl49wrh5+sFIUH5BIOlbwGhJCEFD7HTCepX+Qsicz0GYwVvBABkrQmZLTUJ+n8FC/LQcQmUaGkMgIcy/2vE5wl1hkkLPKkFDST4ZQ7g4q8LwH6dBjgm6wQTW0EE=",
            "dtype": "f4"
           }
          },
          {
           "marker": {
            "color": "#19D3F3",
            "line": {
             "color": "black",
             "width": 0.5
            },
            "size": 6,
            "symbol": "diamond"
           },
           "mode": "markers+text",
           "name": "Cluster 5",
           "text": [
            "C5"
           ],
           "textposition": "top center",
           "type": "scatter3d",
           "x": {
            "bdata": "eyVIww==",
            "dtype": "f4"
           },
           "y": {
            "bdata": "CL91QQ==",
            "dtype": "f4"
           },
           "z": {
            "bdata": "EvogQg==",
            "dtype": "f4"
           }
          },
          {
           "marker": {
            "color": "#FF6692",
            "opacity": 1,
            "size": 4
           },
           "mode": "markers",
           "showlegend": false,
           "type": "scatter3d",
           "x": {
            "bdata": "F9+xQs21HcN446fCZIBGQty7YMMWBXBC4FDHQByRKcM8CY7CGPAaQQAavb2OcePBFtpBQ0k5nULui2PBuZTXwjbHfMLEjWLB61CpwuwZDMMj5hHC6TI4wvzhVMNwWY7BPwJmwrCOAcIGvEZCw7+BwkI7B8PefgbDCmjbwjDfmsHMeqvAlDaaQmYryUFOfcrAt6TPwp8VB8KjADbCMFtqwuB5c8C4XoJBTD0Kw8DgOcPpxZNCUIEPw6RvOMKzfkHCIM7hwdd9MMIWg77CYoMGQxxBrEJjKItCTwzWwt2Z0EIB7uvBBXrWwkr/fkIq8OTCrFlYQgCI4EE8sZHBvVexQsKIxsJQCl9CAGE1wDSAw0J4AdRBcJmbwQuBgsKsdFBBzqykwmRP88JexwBB7oSpwkBeQMNAVofCqsCAQrAVqkK4REBAfjIpw3xKKcPgXevAwjSewYGTt8J07AtDAlO+wszC58J+uqHBJJoYwT9kwsLqEPDCtJHBwuBdQcLMn8/CxDJ8wogM+sJU4CnDsKuBQZUyT8LGZxPDxtSSwbNUvMLAHvRBTscoQnHcqkIXa57CelG2wsCil8IG4bDBn0WzwiF73sLGYYRCjFOIwb4MkkEgeYVCjq2Awmp3icLg5H9AHwTnwlgsRkGS7uZCqPHVwPF8IcJAU01A/P3EwkOgn0KoOl9CoElfwmDUyEF+OAFCDPR+wY9Rt0Kwc7fCquykwnZ9ucIgWBdDbUQNw8L738ISt7jCgRQAwVB5c0LKTinDI1X1wu5gSMMg+ujBYuI8QtglBkKAJoHB5qEGwvNT3cItHf7Buy0mw3CjGsMu/dhCpPjgwl301MLOvdtBnvYaw7wZSMI0lG7CuW9zQsGwkUJErLjBO7gSw+a1bsLe/AHD7yq6wvIZBMM2cjXCTv0wwwDDVcDthqLCgBbsvjgutcK82+ZCZMuTQS46AsPkGfLB/ILxQQN4DcPgVpLCwr15wvpSLUJcwgDDnJE5w8piB8ONuCRCRlRxQvpV2ELrq4jC/EaCwvh8N8OxCLvCR6u3QjrUPsJQRjTDnlMPQn4ZCcIz8WfCBDn1wUQWwsHkvfzCsrBtQp2ebUJUyE9BwNnWQHQYWcIwL7TCMFUlQPlEHMJO23nC7Kcswyc+BcOQ3D9BiCtCQtifSsJG7L9BzW/XwlC9NcEXthvC2DC+wCAIisIY1q3CGeoQQ5A7FEDKzptBHtysQeKKyMHiGpBCrij2wiFPQMOAXWLCQOa4Qtar9kKtDI/CJl1NQgDFbr9mFfVCEECGwTVZO0LglV1B8k06wge9wcLMmsNBHc3/wh7EF8GY+v/CMFABwLp26cJkP6dCIGafwl5BgMJ2IRNCwckRw5CuHkJLkAXDygglQh9Z2ULfc+zC/sDKwpzWs0KcbJvCzOIgw8LXukJ+rWzC6F7mQtZq70JiJRhC7AXFQQ4MdEIgTRNDfgiCQovHi8ICypNBfijYwsB3lkEA+fo+wgnjQdqsfsIAQnbC3qkOQ4w9NsM5d5FCZTvHwdSqkcLKsoXCzIsew4vey8JIVh5BwRi8wvBKkEL5kOfC0PYwQ/xPtUEFgPFCkzSNQhq44sLYh5NAtdYJwtg4Y8Fo6WfCgyXGwqUbH8I8Y+bC7f+Cwuo7scInifPCuBiHwkuetsHKLxTBqAaswjqiHELyuTJCNrsQw1zPrUGYnBHDqb8Rwk7S6UETbJjB8YHPwmq/wULRs/JCGHD3wo5TQcK79PfBqKI5QYhLKsMzSwRCWMNRwiY7hEKjzJbByRUpQq4kPUKQCJRCipwkQgDOOL4guZVCNnKTQRwBk8BQFS7CqgP7wlKGTcP8tJ3BfqhfQj5eE0HAeVzDwHizQUbm0kE=",
            "dtype": "f4"
           },
           "y": {
            "bdata": "kwSswsQudsMn/BvDaGwcw/d+GsN8GIDD3MAfw+dcHsOMDLzCEBIswwonB8N//7HCpBvGwvxoMsO+vznDYhgIw77Ro8LO9KTD7iz7wtUpgMNefVDC4s5lwx3AKMOz1rjC9O36wbBum8Oi7HrDzqCFwuqzPsNbs9bC5agZw0wQcMKHSo7CpxIpw4zMp8GsL8HCevMhwwwEjcIeAALDCh1ZwjhiGMMMv+XCb1lQwygxR8MTsx3DuFG4wlsZ28KYKmrCQhuSwkUTEsK0IbfCtmdgw07B2cLoB5/BsGRZwzTLy8LIXf7Cmb8Ew6RDUsPINFvDJKuAwuS8JcNIzh7DBnAvw6no2sIY2YnDN6Exw4PHisJlmFfDXnvEwgm868K0QFfCiMD0wu9CkMKxiiPDuOphwxsghcPddbzCsbx9wkzQxsEQl4nDsAGTwzref8Ozm4bCANTuv+F30cJnzDbD/oPjwqrUHMOo6j/BRPkuw1MsncI6857CgpTHwibV4sIpVk3D+CYfw1EQycKYp0nDkPNew0hcNcOa4F3Dpmz4wsIkb8JWCZrCoYURw5QPT8Me7b3C97/Ewrb7P8MhbxTDK4bBwj2qD8PG9RPDnEEnwvTVscLceRXDBiQCw1x9QsPiNZjDGsEvw+3qkcPcNerC4y1Rwo703MLgj/nAxnl3wys8xMKafPLCY2kpwu4tlcOAJBvDiFegwRLkaMMKQATDvEmnwovE4MKyV7nCp6Qew8KSkcNECYDD/vWXwjQ7JMMA5UPDVZGvwpRQUMNcMoDCBMibwyyml8OAZIzD3d2VwmBlgMNtgKbCicMew5HCh8MCghHDQYcYwzd1DcPEf4PDUqUwwyvFEMMrMFjDv+prwru7fMPIA37Db2f3wjVSrMOeH3DDy7QMwzoVLcOWjijD7siHw7i/mMKkgeTC7vqMw2m958J3YwXDuKIKwxZA38LlUt7CmsZnw2rTpsLhfxjC2Z+cwvyOEsMgYYjCoLYfw2I2+cLmuQTCrpZIw2xhYsMCpybDEcU2w/ft18JxCqbCQPsFwwfkT8J8123DWOSUwlHG28KLK5XCaFaHw1bJ6MIv/+jCZpo2woHDFMN8gVXDlBMdwttgjcK4vU/DVF8Nw7ab58LU0zDCwRtDw8ysA8N8bpbCrcxbwkRXgcM5TCjDBFG6wnFLicJVminDfMlmw1AqE8NmMnTCm89qw5bn98JBS9bCQnEewyl+ysIiNX3DBulCw67TM8OinInCrh/ewtAhP8PR1gLDitQ1w4YIJ8MjaKXCGJGcwlb01cK15HPDsd7jwsBbocLO2m3DcKlmwjIPVsPMbvrCGe+rwpAR4MKYeJXDvHCxwz1YMMMyhGDDsrzRwkdlCcNy/B7DinBXw6X448Lg9bTCU+H7wrNHFsMtvt7C7D9bw43jWMJKjhbD17PTwou3JcIGiy/DFX77wqLFGsOoFqHCWucFw8xwQcPRSGbDft7awogvycKAWZrDtoHDwuKn8MKCmULDyKtrw5KqHsPbVaLDTw0Iwy6aBMNL5QXDMxJnwyVTzMKeuQTD2q83w9ITIcPctjnDiIvxwsg+OsI5KvDCSOY6w9OnlcPtM3bDv1U5wmLuk8O1m7fCx2cZwyCdi8JgUDrDGh6wwvBV/cKhxzzD010IwzPb8sJy8nLDxizdwhpc2sLVaHHDuo9ew2KefMK7ig3DziE3wzDHLsOVpB/CZ9Vnw24JCMP9LbTC5UEyw0JEkcKhUwXD57Ufw9G8YcN/vifC//PxwqWubMNOvAHDwvjvwvpzG8JYOMrCXE0+wtklF8PEyZrD67hBwtlWAcM4KqHCKlnNwtzrgsO1GVrCT1Fiw65RdcNj5gXDZrwyw9qPTsI=",
            "dtype": "f4"
           },
           "z": {
            "bdata": "4tYTQ/jo/EH03ihDEjJTQ1fkNkMJX7FCPFJBQ6wDqkLocKZBpOt/QxdQMEP1U71C59f/QrfejkJUuxlD+AiEQnYJCEORFu9CAjojQ0YezULDU9xBSFy+QmPJ00Lr1+pCmnWBQlJR1UJg/QNDaAVHQordX0MWT0BD94+XQnBuZUK0Kq5CtqKKQsstG0J+lPRB2tItQ+m9uEJMUmJDZkmKQnC0ikI0NjdDCBsaQs1XDkPyOERDNDHMQujjCUJZ835CMAJ7QqCM8UG2EO5Cva8UQ53QGUPs4J5COKQqQ5pWRkPRhC9DThemQuo3tEI+cz1DRDncQkK2Z0O0d1ZDq6hdQw13zkIjpFBD+nzVQjAtBUMnJOJCKKkeQ5HWOELJHpJCF7NxQ07SGUPdKkdCU/6bQkQc0UJoBNlCoGZvQv9etUKSprpCKn4hQqo7z0HErJpC5ngMQnMMdUJDxltDosvaQjPPWEJTpzxCcHq5QnhHi0KzYAZDbOjAQq/HQkO+X4hCuhtRQ/n9zUKlOBhDx7y3QjQni0N8kY5CkT9nQzT2uUL9I5BChrv4QviVDUNOV79BLJWPQWQuj0J48J5CbEJJQtpvL0LIAolDbIY4Qt4yOkNc2QdDbsufQhKC+EJQg+RCqHiBQ9poP0P1UghDQfT+QpbrpELIfSVCOk0SQx/VkUInp+RCHhOeQhScBENm+ItCX6diQg6OK0O2u6hCUF56QvbBD0PkyRRDBjFSQp9HA0OyjrFCTE2bQktuHUMO/oZD+PPvQvrkZ0Ig5WNC/A8wQ0AwDEMVBw9DKmPmQpCiS0N42KtCecFeQhiP20I5AyNDLptVQzT1AUOMaDhD115BQ+/4aEOoFIND/mIIQ8UCLkN+1jZDnWsvQ44SvELqWslC3N13Q6NIF0NyhwpCrO+sQgCX7UHdpRFDAYpnQyKiKELYEDhDpx9bQ417uUK7yWhD9/gzQ1ViEkNcWlBCGTthQjwOK0NCKBJD8O5+QywOskJzksNCvGj9Qsp0u0K0YUxDwlqwQk6CHUOaCShD8fl1Q4YGlkIRdzBCQOYmQz5j30ImEOtC3i0hQ6bZjUIMYHBCIM2GQriwD0MvDn1DmuHRQjzIfEI8xMFCZ8tsQl2Qy0IIactCCPlrQnsluEIwb61CPvLLQtqoCkP7AclC5CKTQmTupkIg67pC0rQSQ3iDxEH912BCyAW/QjLHQ0Mufj1DMdbsQtvgAkPo+gJDTmyTQ5KglEI+9htChFIhQzLh/EL2I8VC3AZAQw5mb0P6aL1C4BKCQquPXEMhX+pChEbBQrTroELei7BC99gBQ+PArEJWczBCqB0CQ38aXEMbPQZDHB2LQmSKSkPAUFVDhMIXQ5+h30IKYipDEnw8Q2rWUkPK2y1DsNw+Q4Q8t0I4YQRC0huiQsAZzEJF/gtCstYMQ9o07kI1yARDalhIQ3G/nEKeuKVCzG1cQz4jSUNzbyVDVz14QtRuPUJEVuJCYsNYQ86nI0L6pIJDtEEmQ/BLzkJufM1CUpYVQg+o70IgGtFC4iB0Q/AFrEHCPOlC6wQLQ3YPvEJODB9DKUALQ0be40JqSR9DDFufQgSa2EJVqbhCE8q+Qp7m+UKkEYlCaB6eQr5rfkI2ZIdDHjMkQ9Y1e0PHCpFCmme2QmrcwkK9F5xChCYZQwcLNkJ7gt1CQSFdQn5F+0LeGzZDziGGQgEGXEIA+MFCmzU+Q6cMKkPk46VCgGxOQ3QHhELWAxdDoA4GQ3Q0GkPw2TJCauaeQmc+DENUb3FDuI3cQnRRtUI6kvhCaCrpQXrglkJWod1CeImsQiISD0JHwihDOxkkQ2gWBEPz6sNC19pBQ7ozPUPBWmlD5JpVQsrrAkM=",
            "dtype": "f4"
           }
          },
          {
           "marker": {
            "color": "#FF6692",
            "line": {
             "color": "black",
             "width": 0.5
            },
            "size": 6,
            "symbol": "diamond"
           },
           "mode": "markers+text",
           "name": "Cluster 6",
           "text": [
            "C6"
           ],
           "textposition": "top center",
           "type": "scatter3d",
           "x": {
            "bdata": "3034wQ==",
            "dtype": "f4"
           },
           "y": {
            "bdata": "bZMQww==",
            "dtype": "f4"
           },
           "z": {
            "bdata": "CIDsQg==",
            "dtype": "f4"
           }
          },
          {
           "marker": {
            "color": "#B6E880",
            "opacity": 1,
            "size": 4
           },
           "mode": "markers",
           "showlegend": false,
           "type": "scatter3d",
           "x": {
            "bdata": "+DMbQ+vXVEKKnsVBByJ9Q7Son0KHTuFCQBOkQmxxxkLws0hDu5BwQyiRUEOfPJxDVrQIQxSAv0JtDYlDgkkZQ4zQrkPFbUdDvBjaQk9QMUJfyQxDpk8GQy7/AEOM5HZDMcvTQnCTiUMSbchCjxDQQl4vBUPXHHFCi5oZQ9LKNkMpU91Cu8gYQxDX8EKnNU9Dfl9sQ+TJEUNuYQJDj6aKQ8elVENHoCZDoiEYQxldAkMe+ftCXWuGQ8NVCkMCC0FDxpyTQpWjskKIUzRDo/M8QxLfBEO5xyJD9MOHQ9iyLUN5uoBDPXU4Q3rO6EJkCwtDijgbQ110AEMQgmVDwwIgQ1RlIUNyLKVC+CrDQgBDEEMGSvpCNC7tQh0Z0ELuPZ1CKDfiQgOsLEMES8dC4mebQkQQRkOIjJ5CuKulQylBCkPKQrRCvnacQ4Rf10JT2EJDFZvHQuLwJUNeBttCypDCQoIIhkJcZtNCps9cQ8dmK0PZ7ChD/OT+Qpb0RUMgC7pC314+QyCQMULkjF9DB6f1QsUPtELUAyBDYvTEQkNKtkIPhQ1DQyyCQ4A2N0OK58lC4qUHQ/xofULeMaFDv+VOQmklM0PUtjtDC/YRQwqRn0PreflCXHWJQ3ItrUKFfO1CGDbhQtaMYkK1wJlDW/peQ1raVUKIQbRCj5x/Qv7Oo0I18BdD9of4QgD9QEOonbVCcFS2QryRFENKA51DHNBjQ6xCPENUrttCTqCcQst33ULH3AhDCoDkQoAPjkHo7hhCa/BdQ1cVJkNNs3JCTya0QlYHqkJszj1DfINYQ0GKFEM7Um5CtCe4QpzlK0OIsPZBmJ0BQxj4M0M/EQZDcsINQzXjEUJl8FxCBzubQ6IZ1EIYsFFDCkY3Q0CQgEIksqlCVHTbQvzvBUNNTbtCApwQQwfGZUM2LwFDGPTDQjDmzEKy/hVDwSUnQuqqLUPZEXVD5If6QrGRHkNS4atC0P4dQ4RSxkJwpvZCURqtQ/vEkENQr55CLF8/Q8optUIehv1CjFkvQ14yTEM4VpZCeAsoQ7E9iUO8LcJCEBIQQzgRSUKKsvVCAsW2Qk5jD0P/LA1DZNTlQoU3BUOQ1zhDVuZIQww3D0N7/fxCY6AXQ/CBx0KjEpxDdiDjQu7faUM1CA5DZ187Q3rKDkNDHzNDtL5hQxrpikPOyoZDLKccQ3bBRUOwtUZDMWs3QuguL0MIdZlCEPL4QtK+cULMYGZDNFA8QxsAfkJ1cxNDQ9awQrwHckMmJ7pCBUQJQxQFlEK8YZJDJkwCQ0ycpEJjGP9CaXSDQ9iot0JqL5hCebvDQj/YKkNiUURDajhIQ5YIDEP3ZlRDPjbfQtiBJ0OHzgFDVdczQ+DH6EJk5sBCiyr8QuA3n0Ic3W9DLIORQw6KbUOTrH1DOMfaQv+5kEMBivFCCguJQhDl10L4C+pCfjH9Qp3/p0KBagtDoKpnQ4ZePEOTUKhCpueXQ1CsP0OmyI1CpdQpQ/OlhkNZIAlDsu8iQ1AR50KGIAFCVPuZQ/CrBUNOKwpDYIXYQtd1I0OILZRCWm4NQ1cNAUO0ikRDmshTQ1N5e0KQ//VCxqWCQ8odYkP05BZDMJW3QoZhP0MBhAZDrXQSQzvNIUN0b2tCltn1Qtx+CkPYZylDxtnyQgoYoULsXQ1DehYYQ3ZlekMke8lCkBY+Q1Ni9EJWejNDUR4ZQ+xvW0ImJBRDfUokQ8xT30Jy30lDUKMgQ3xQREPW1BpDpjglQwDVjULsa0lDw8cyQ9RsgkOSYiNC2ccqQmkNXkIwqzFDASvxQsHtLEOV54BDwv7iQtKQcUNRgJpDQKWUQ4c63EKOSwRDCO6UQ6Rp4EIjQy9Dq+UUQ1RQnEM=",
            "dtype": "f4"
           },
           "y": {
            "bdata": "XBf9QsKFwUEIK/xAMbq6Qh6iDkIzZ5JDzY4/Q3Crj0OUqI5BgP1HQCIcDEMpzR1DzWMPQ/PjSkPZ0z9DB0kBQ+bBtEKeYdpCrfiCQnjGaUFhRMVCsGUkQlDxw0KGt1FDhAbOQT8r3kImJGRDalmEQ6CrakBioyZDqoHYQsD/1kBoD5JCohljQ97awsHsVRlDRVNKQ/YQyUIUtwhDVpxtQ9eIxsJYCoDBz5WvQj/yfkMPbThDEYgUQ0hZBEKYrxVBUCs3Q/BGakJf25dCIVJ9Q/hj90GO/kLCGHYdQVbxc0IO72FDZimNQ7FcQUNoq4zBTcR8wnQEcEOgglxAwMPhP4jjMcJobBhCwBmYQzeSB8IAJLw+4hb/QoiFYEG8vBdDJolAQ5B4LEPqtgRDWk2HQvTvhsI0IARD6NOlQkr0R0MM+B9Dk9IMQy6yC0I0QcRC1BEFQ8IoO0NIjrJBx221Qnhu70K7Lg1DAJgUQ0C3FEEoqHND1slXQi9U80L9yQBDoLEdQ5Cm1UIpRtZCsNaRQ8zJHkNIrCnBiEK/Qcy3LUK48FpBwrCMQ0gNpENoFltDr4FWQ6b6CUNA02BDmB2TQpJY1kL23YJD+IOhQkys10JSeJxDrDR6QoCT8EIAH78/RCI3Q547GkN4SABDjPc5Q/CpeUK6qnRDpss8QtLMDkKIluRA8SJEQ/ame0LMkQlDG8PbQW5TskJkR8BCiIdhQx/ujUP+6ptClHKXQgCQe0IX3b9CatPUQhAnSUIdW+5CgO1hQ9jzUUH8DFJC4M8xQKruR0P4LUjCwKc9Q+p5SkP0ITJDLLo0Q4DjtUGQanxBHneAQ0SeJMJWfVRCMD+AwI0f5kIY3EFDyKK8QghkLcKvIXRDy4QnQ3smWEMiLP9B10+FQ1JPVENsBI1BKa2zQm0LVUOG9w9CzmEyQzjsv0KBAUBCX4ANQyDOkcJoLdBCskITQwiU7EF6NF1DoSj+QqzfXEMQsvJC/8g0Q5iY00JWKoBDvGMlQ84DFEN4XWPBx5EaQ3Gvp8L8DXJCABiQQgjtfsHeKZlCR6SHQy/1XEKoHQZDJdkkwlLAR0Pl3BFCRqDuQovvlkOZJ6lDgclOQ4wTsUHQET5DKT5FQ3g7QkPt7vFClE+UQ5SkF0Nd3OxCgL9cQJgvXMFBgnpDpVX5QkoJi8IvFDBDImGYQ7B5tUH4cjLCVtPfQsMSuEJHBltDUi9mQ2SKwEInhw9D5DeFQ0zWdUKUQWpC6rM1QgDUCUMiWKTBoKICQ4bFdULH1jFD42KMQ8RdMUN4quvBi88bQzb5O0OfYshCAmr8QuTQoUNsQelBuGVEwfxlCkIkACFD7w6NQyAG4UKLhCFDl5YDQyBWIUOA3THCrwKAQ3j7T8GhtdJCM3hXQ2QVHEMAGW7CBo2DQjjKq0HPLrtCLUFcQmRtjEL8NQBCNQaqQoQ9lEIFaI5DIJ07wC7DosJkkeRCBI8HwuZRgsK+gBhDhKt5Q6+h7UK0dYtCUJmNwFdNrEMgGaFBan0FQhdcU0JLAOVCS6eMQ8IQEUOuzCpDghH6Qli88kGgtn9CI2nOQhrahkJYHxZDA0eOQjAtZEPDlb5C+2hGQztqykLl4O9C0nxDQ+fKEUKAvfdB8jGSQl3Hg0IOYotCANa6Pl1wGENem51CYW9Fwmj7ksKyYCdDwg+DQ6S3NkIVlwZD/r9UQ/yhk0L0qbhBK9NYQteJg0MY8MDBQOFrQQAkakEuE4VCbjIRQ+4Of0LJUypD9WK/QSiqYEMsZ91B0ZR7QiFZ4kLziptDucq9Qi+Re0NXo2JDTnoRwsKrjUO6YxBD3owJQ7YkwEJQVQNDgBOJQysqGEMKFJRCfmDsQgBoYEA=",
            "dtype": "f4"
           },
           "z": {
            "bdata": "9XJCQyB2nkJAHB9Ckb4JwsAGvEGGsblCTFBPwjxBtsL6Ao1BZjEIQ+jFg0HvH8vBgLBXv8qdvELuEybBdEpEQ8AP+UCIcu1CoDv3QNuNSUK2X1LCdgvRQXnbBkPWbhTDZwQEQz5tjMKolstBUnpHwdYSm0Jv/LBC0r8CQ/xDK8GQnwtDEKMsQM4vw0J6hxVDFSEQQ65tncJ2gBdDMO1KwoDOAsJawr5C/yQPQ1B6zsJWgIjC5lbowiq960EOWhdC1q+IwuvQy0IMfRFD9rcJw37z50I2MpvCDseVQaGgBcPQ6fRByowcwxNiqUIYwQ7BLyRwQgx01UII5hbDaBXWQf5MJcGck67BStojQkj3yUJAVNs/DPsrQk5y5EF0T+hC7Y9fwhzoqcLgLn3BXExzQgxpZUIw4Q7CBCkMQpR+h8JqJZTCcrPnwvLWJMIhFx5De+LEwfPbLULAasvBDl9bwbKA2kKSnjhCq4soQ808CkNw5InCfLU9QiPfiEI+FWJCf3Q7Q6CbTULNkI3BqOe3QdYkOsEgAN5CeUj0QZaGzkEvfn7C7Bp7QUD2A8KdaA1Ca+qqwVG/rEIi8LrCzMewQgzjzEIqX6FCFikCQugEo8CKxBRCRqg4wyhr9kA4zT5BD3VlQgD/ND9JmqpCwKSiP4VYCkI0u7NCNDmRwTB3uUEeezVCvkCBQoaofML6/q9BEwiFQs5WLcInLjfCYmyIwuDy5kJU05fCn2GFwa4/EcKQgA9DTvgSQ5DaoEE89RxCLvxBwTAN+cBkuEBCILBQwSjgMcIFcuvCtkTZQgHqCsMQ36jB8DGzQsQbAkPEi5tBhVDXwgCZrEE/DbZCVEUPQ5iO+EAg2orA6eoyw5DqJMJwjFDCIQMRw6I/LUL4bh3C5QXLQhKQ18IUAEBCnncBQx7LPEKTdxRDrMsdQnTGBkM2x7HCSP/OQVhUqcJLsAHDqA/FQX2RN0NQq8pCfu8QwfaJjULwmAzCpICiwmimOEIQS0hC6OPLQmy+3kJk/k5CurEpwSSDrkIwiJhCgAUiPy5w1cJwm/g/OHWMwtTYs0Fsx9HBAE5yv6JPCsK2drRCtENIwpDtX8CqIWDCQzfIwm3tdEIMPSFDuOSNwYDPQkFLSNfClrpnQiS61kF8DbRCK+6pwUTTXEISTC7CkFvBQThmJsKA4Z6/2o8Ewap/hkK+YgHD5AOxQhkf3sI+q19Chyb/QnAgwMEIX/tCMBKCQug1gcEDHYfCipqpQlAZtUKAfZFAdNcGQgC9ksEaWwzBRPhLQhjMr0IkKBLCWiMtwzwUtkJgyFFCGvD5wWa+kMKWLIdBqDuJwDyaiUIXkDJDWHNFQaCCk0IUwjhBc3o8whSb70GCEahBSB/1wvwybkIoWzVB3pGjQe/RgcIG61NCxqLtwdGnHMJIXTTBk0xDQs8wLsISEl3CgpFwwl9gCENkuS1CWLqfwoGuZcLMdOZCMF4WwFDrD0JU7T9CzHQFQvzIIsMitI1CCAavwhCmF8Ch6ydCVknZwjO7FkPoYY3B/grkQpOvoUKQFyhBBlbVQiJPIsKAVtbAyrR7wpBZ/cHsMgJDbhYCw0wo4UJYo8dChGYzwiBJQsCekAXBoJNGwEOCvkL4u6tBbDHEQgz+UkJTgDpDoKS7v5je1MHmHx5D/Y3eQoD1YD9dy6LBkfcGQ4RAC0PUyStC0knywS4McEIsEO3BjE4ewcS1nsIuSxXDGNQ0QfIXR8L8nQ9Bu95NQ+mYtUICrbJCbJ9EQ6j/k8A08o9BZ1ONQvUfUkJQkYZB9boVwtKXusLAH8JCcHvHwWB58kHM8jDDMkC2wvhUOUKG9yZDj16WwVislkIwyw5C5tUBQzQ3GsI=",
            "dtype": "f4"
           }
          },
          {
           "marker": {
            "color": "#B6E880",
            "line": {
             "color": "black",
             "width": 0.5
            },
            "size": 6,
            "symbol": "diamond"
           },
           "mode": "markers+text",
           "name": "Cluster 7",
           "text": [
            "C7"
           ],
           "textposition": "top center",
           "type": "scatter3d",
           "x": {
            "bdata": "OBAcQw==",
            "dtype": "f4"
           },
           "y": {
            "bdata": "OiHSQg==",
            "dtype": "f4"
           },
           "z": {
            "bdata": "7ULfQA==",
            "dtype": "f4"
           }
          },
          {
           "marker": {
            "color": "#FF97FF",
            "opacity": 1,
            "size": 4
           },
           "mode": "markers",
           "showlegend": false,
           "type": "scatter3d",
           "x": {
            "bdata": "OKSEQSrrxsF1mtJCALyRQYDf4b+wtYXAzJw5QkPoNsEQ7G7B7D8mQWzGs8HfbA9DjJ1MQjRVuUHg4tRAxLKVwoC+mMEIwuLBGWbtQj7zYkIA6ca/5HnqQXWw7UJNsovCQHHjP1yXqkJskATCASW2QsCBf0G5JBVDVOKkwdb5nEI+UxBDsBuOQgu9c0Ko18HA4FXiQAsOqsI4dLzB7cUDQ5PsfEI6oTbCNn8xQ5V4YUJeHsJCMJODQhQ6gMDEhb1BdDtGQ26XOEOD/B1D8oqEwuq840Iu47zCEMOoQsCBiMG31XxCaqYyQrCoGEB81aTCZgBZQnBdmsEvbeTCEP44Qdj/qMGSjWlCWcjhQoTRFULMR+hBm74qwgBloD9IavhBWFikwDU8gUJcwQ5BIIavQuzJFEJAml9BWARZQXYRHcKAaq4/YL16QfYPN0LGgmjCFqi2QbBVJsLEDCxDyAFqwdRu40Lak2NCgC4qQEAAwkDg3GfBgaa8QiSULkIUn6NCdBDiwsVjO0JcStZB4MDBQNQOgsEsN3vCgOHhQNphukINc+1C9OIOwuihF8GzmPxC3MwOwXFrn0Jsyh/C/TDPwr6EGkN1cw5DTsYQwv8P60Lgh+TB6gbowdAXrEHg3+JA5Ao0Q6SYkMEgyY7ASTCVwmi84cFnh77BIuUOwnBliUHegANDqD5jwsX0McIEPuFBkDGSwQC1j78+D9VBcBOvQU7bQcFnV+tC1wSnQrKzHEP/uNpCElm6QqZXskJKBNFB1K7NQijKw0EtdjxCloQgwvM6aUKcrBxCoJOTwUqZjUJiwATCLKL3QncKmkKX5RpC6EmZwjTypcGAGeRATY6mQpSED0M4+ljCdAI6woCix8BwdKxCFA+UQgifx0FcT3/CFG2/wXhLV0HQTLpC0D5twXkVtsFcLAJDAIc/QUArgUD6Eg5CUPjsQKLMKUJQNU/CBzKVwjQKlkLAE11ChO1ZQnaLbULwb11APJYWQ1is3sGQfZLA8jfBQnz1gMFEH5dCcAwFwlb/GcL2yYlCGC+twTA9WUMRvxJCmvG1QuBzBEJ5n0FD351HQiPnKEIA7Z7BwKm0v6q6F0Nq2tBCXVYKQgyAGkMSiTZDPAgxQjHt40KED0PCOqONQkwpNEPNfwVD34wzwky/h0G6mcPCRj6iwgG5ekIGT53CWHNdQoCoI8JwfRFBmm5uwuL0n0KIu/PBoCV6QjCav8F8N7pBqFG+QhDvHcLVPkZCyCVlwsBfisB8H8BClzQsQnAaG8DwANzB4F4bQQAE1z4pc8xCXOfdwXRfBkLyGsVC8s0sQmwIIsJIYJdBuJH3QbVRi0JEy15Bf298QgehAMIAoBK9IRS4QnAdmECSdLZCYB36QdD0WsJOiTbCOHEQwBLVMEJbEGtC9rqGQmiDhELwZdRBbnJawmDOtMEyLifCQGcOwUD/sMBALuZB7nQLQ4geUELYHoFCGFbLQdR0XEKUWiJDo0BuQuxwgcIgUM9ALE9IQo6LlUI+R6bCYBbgQhvT5EIAjOZAWN5cQYzeYEJAVY1BAM6Sv8N1JELuLPRBAnVNwhZE/UFBDB1CKABAwXQt7UIIpC1CeNezwg5W7MJ28yvCqkH/QYxPEsK3dNzC8zANQjQDSkJs6i9CGpgfwqYtgMLg3cLBQC0cQcNdI0LqccVCW1qbQqQqMUI44plCoKhVwCL1H8K2TPBBbGlIQuAMxEIm0LpCwEiRQuVKnMKQbaBC+QjTQukiLsKFUYrCuVYUwnBAPMJyv/DBIjSlwuRBVsLAc7TA3MFUQY+BbUJRVo1CsNIowkCVrkI+GtvCuGuhQDaiXkIU2JtCtJYNQvQIWMLgE+BBRoTUQlSB50I=",
            "dtype": "f4"
           },
           "y": {
            "bdata": "IJQSwtxtmkJLbW1DbZF9Q60dGMF/FpdCQkhYQuTvscEQYHNC+rA8Q2XExMHo+VnBG6KgQp6hHMJqZsRCJ68XQteiJMGkpcPB9DiuQcQvKkLNpZDB0FnfwcnXZULkVhxCICWHwO0670KA5UpCivsAwoUzx0LP43BDEeeawcDbCb9uaQ1Cj8HEQji3g0HYnDRBkE9qQLmt5UJcp8pBxgqdwrmAgkPv38pCuAvAwUhfh0OMmpFCVnwzQgCOvD6TVDVDpjwIQ7ilpEHDgl9CutNjQsDjLUAYYgFDltyfQnpqsUEoHp/BnKbxQvb47kLit7NC9IZAQpDE9MDQqrBCmMOiQXY3KEMS0R9C7qdsQ/EGDEMIcvhC9m7aQqIbTMHfA7FChkvUQiCRk8Hgr1PAaZjGQiBKS0KOI9tCaKSLvyeTFkK67IrBEOXbQTa3K0OXQahCPh27QnLdbEJf24tCRsRsQk2aJUP4kg5D1GyeQhtFJkNOL6xCiHvtQtqeU0Io/c5BWAgqQw7phUPQxpNCMNwGQmDbf0EysgpD1SaaQt9gTEJG5TJDKKF9QvDdC0NK3IZCijMOwgTeWEOidMhCW4g0QwbPY8Lafy3CqRmZQkjaW0HH47xCPP+HQhdSx0Kf+gFDkI3JQRhyskEkJZNCks6mQmkWA0NY+l7BSC7awVoEI0Nw9hJDtBkSQvTOl0J/vAVD5G0VQ9/KkkFUn7fB5SgGwjB8G0FaAEFCtAS8Qej//sHYuy1Bk6zmQsq58EK+q31CYdOGQ9rBicLIJjLBMGIuQUAUEEMeSA9D9Gs5QzZ6AMJwS5FCSDQlQ5BeXEJObsxC1yIRQ59WCkN2ltBCIFI/wcThc0IAy4E+6M5UQ4rgIkLAIHpBUbdSwgCcwj1+BBRDfF68QsELoEI5aeNBw0yKwYK5hsGeMX1DmmcMQ8CNysCQOXxD84TiQgihnUGu9HFCf5SqQqxADEJlW/5CCOhtwh5/oUJo+nPBeBYAQ+4+BUHi8CpCVDZPQ1gsiUER+3lC3s2+wUYptECuGARCzdzqQtCe90GfZxpDINa6wLf/IUNQV4rCVvMHQx6rpUIgH4pC1auMQRDMFkIGminCvBYmQmtH4EIJAaVC0B6kQmcpcENoqsFCCDElwTR/kUHqM2jCEMwMQoC9r0J6+KtCmnebQlYPaUNVF/dCwICoQspJV0P0eBBDadCAQjlPKkP3rO9Cf+eQwuwzNEKCHwtBT5DzQkrqC0NyZtFCoGi+QnRVsEJcXMhB6lVvQ6ev5EKgvBPB5JFiwdBrY8CEODND9fT4wX7qYUM3FZxCjyTgQkCZkkD0QIPBigUNQ+IEh0KgWQhBzIuaQlz/OkLGnwtCwAlvQAShx0KoZhVDkwmWQpgWhkIgGNFAgDzVwWxsssFhfUBDTAEQwhwr5EFxLZbCJlEtQl4lR0Oo0S5DuVpQQ19sJEOJG8TBjltwwqW/9kEtnILCXNWgQohfnELTma1CkFAAQxhNV0M+UCVDd+f1Qmtdn0Ku2BNDcxGlQtFJnUJ6ZFBBkJFIQZa+nEIgVsNAhZFYQ7mGY0IS/QxDGtJqQnyHPULxS1pCDUQNQ6CHOUMopqXBbDoMQ23QHkN2gp9BGNQZQ0z6w0LHY2NDVkaUQlIs9sHgrAm/LrQbQTbBGkNSGixCgpYLQog2HUHhAQNDjjeSQ3qfhULfkyRBTES/QqM4m0KAAB1DmmYVQoLMGMKW7bjCwOwXQ+xADkIJarJCQPqPwANfUEK2G3xCCGn5wXhtxUEADMVCwUUsQxSHmEIa6hRBiFAMQy6Lm8EM7eBCsN4LQ/CaCUNHzzhDbDuIQYBv3r8WKh9DztxFQwoDD0MqZzNC1aAsQ3ZnE0I=",
            "dtype": "f4"
           },
           "z": {
            "bdata": "VVSLwnBe7sGEVBnDM0bqwmPbfcLAQ4nCUsrwwmuwocLyUdbCBp3CwoMhysL88Q7D67qCw7uzd8KEzgPDZqwUwmZvD8PQFBbDb3tqw2ZfCcMADp2+ldaWwsc1WcOgwD3CHIxDwop5GMOQdV/C8vHvwnGdpMMAVTrDhdcnw6vFvsJxSw/DLqvBwkR6r8JxwBjDsOemQdLjH8Oyx8vBM9owwy4MwMLGSvrCMDccw3TMH8OYP/bCLLdow+ZPB8IqEd3C6MGBw+BURcP1MXrDU9sXwy7fVcOCTybDdQKNwnqNCsPKh1LCjyXXwhyuMsL0atPCFFkVwlbKr8JEM/vCWRiLwj1m0MIQc4LDWrZ7wzLy2sJSMEvD/CzGwrEw+sIQPonCMfX9weZa8sJac4TC2qxxw1TyBsNnTqXCuDJ1wqNxOsM3n5vCWKCUwrYdE8OmsSLDYL+hwO5kI8JoRWXDeHIOwwnqR8MJI17DFDyhwbD5g8IwZVrDUJSmwgmoN8KmBCvC9eNAw+bBA8NYwZnBMBAywVile0GIWwPDokNmwzQ9CMMIGBLDSIOnwn7E+cKSThPDkMbiwkvSNsP85k3CcgUxw/y0J8POX0/DRUYkw+TcFcPIc3zDMokKwobeI8NVRDjDw/kXw0T1ycF0eF7C4tQyw6b8rMIASBQ+SCxkwhkPbMMF/ojDwPpSwjjSLsLZfKTCvygpw0hqbcLQSZ/BgucowiY5h8GKrgvDg5cLw4/X6sL0Va7Cpq3XwrH86cLwZlZATTtKw/VRLMPcou3ClPNgwrncG8PEr2TCgnc5wwvy+sHe7abCDJg8wyyB3sKsm6PBaRcDw55+QsO0xILDvKunwqc1A8OGB+rCxs82wwRCWsNO5j7C6LvRwgBOvz8CLCXDkMSwwqLzwcJbEF7DTD8HwsAnQ8JG+hjDcDQnw1C3yUBXwPHCj2qBw5wjKsMwHPbBn8uzwibTjMO8emPDlGcWw99kbMLu4CzCTEMww/Qhr8LQuF/DxKkYw1wCM8I2s9jChNQZw2TJ/MJGqoDDUBvAwnCIdcOK1YLCkKGiwgykR8P+2SPD4qgDw/ijAcL4A43CUBxLQfpicMPI197CqHZXwsOVbMPEnCHDVtqawiNtWMOiCN/CtiFnwj6VecMVED7DIRMcwx8ehMKKnQvDVM3mwjATCMMbqkrDcgp4wolR/8ICaVfCSuD7wnRXG8O2cezCcUBRw5wcvMImlibDOwhfwyCstMK0QhPDcXSEwg76bcN+cFzDxrvZwmzGBcN6/IzC5KFmwx6DAMMRvgrDjphtwtSTAcO6jpvCq/nBwnp4j8JZ42bCmYwtwshvjMLSRcPB6oqxwqidNcEGt41Bkd4YwygKDcMYNubCkVllwy19jMJnWqbCXHgXwwg5C0DhkKfChPCUw8wKUMIqpj3Daz4Jw5sDHMMMmdvCJn/Lwrw7F8MiuDHChg0Hw2ZA08L8OX7DLjVJw/TaDcLpNTvDoqdswstoRcMKJuPC2b8dwxsDuMKI0l7DOnREw9HNSMPMGy7DchCGwnwDocJUlEPDJfQGw7BsGsK2NqTCkOBAwh4K6MIidI7C38tbw7XPFcMUa+jCuuUqw2z9EMM3Eh/DItWYwly+qMKz5zzD1ZwOwtRPg8Ig1XvDhjYYwwov7MLSKSPC/z0jwzCrz8AyTfjCIownw2yTGsL/Tw7DiAdiwh6prMLmmnPCO1qWwpR0YsJSx3nDOOXlwjJFuMJUL5HC1r6Ewvp2mcLulCjC9HSUwiZDjsLUO4rCZ8YUw+x4LsNPlBnDrJDtwoi+jcGw9IDD03Mcw9mKKMPVsVPDjOFawjS+p8K8NprCFzjNwojFGMM4/orDVJJlw5KZ+cI=",
            "dtype": "f4"
           }
          },
          {
           "marker": {
            "color": "#FF97FF",
            "line": {
             "color": "black",
             "width": 0.5
            },
            "size": 6,
            "symbol": "diamond"
           },
           "mode": "markers+text",
           "name": "Cluster 8",
           "text": [
            "C8"
           ],
           "textposition": "top center",
           "type": "scatter3d",
           "x": {
            "bdata": "I7u8QQ==",
            "dtype": "f4"
           },
           "y": {
            "bdata": "vwWHQg==",
            "dtype": "f4"
           },
           "z": {
            "bdata": "fLkAww==",
            "dtype": "f4"
           }
          },
          {
           "marker": {
            "color": "#FECB52",
            "opacity": 1,
            "size": 4
           },
           "mode": "markers",
           "showlegend": false,
           "type": "scatter3d",
           "x": {
            "bdata": "F1JHwr1lhcLstZ3BifBjw2IluML8sczCf8Qbw270M8M/iRjD+1JowyzcVcNFpCPDyJSowib6AMIM24rDUnmtw9TwEsNus6HDTlWywvFcHMNYixDCYDRFwxLpU8PX657D6Q4Pw9L/38IApcDCQxjjwvbewsLE1HzCqQAXw/yUKsNv0BLDBD0aww51a8IAvZNA1kwbwysUL8ISnk/D3ATIQRhTnsFanjDD+NRUw/Lvp8JJwAvDL5/Swpqe0MJEbUfDngmRwzCb+EEx/EnDKeXhwvRAfMN8AHzCjEjCwrUGDsPYwXzDHQE2w/cfAMOe3AvDBCggwwSPwMFqdTXDiEKGwhqTVsPLYHvDYjOhwtrfbsP+KkXDAr5iwu61UcIh7hbDpkc8wkPGMcIQH4jAD9gbw/pd1sL8rx3D2zkGw/BkicEqQF/DExaDwx2nJcOqz5bCtVyBw6NzZsPLDFzDzBmOwxri2cI83wfCdSepwmhgxsLsBOHCv50Nw2cLjMIUloXCAOpEwrCME8KF3pDD1CtuwhuSSMOe+1PDKYEywzqIgMLhYS7DjPjNwr6df8J43mdBipvSwuBxy8IQ4GXDOB+AwtTam8P+5Q/DQvBdwiyzWML28SXDUsxvwvWahMMulxrDwIEHw8oIA8NAI7PA4TSnwgAOTMHehR/CkgNBw9snK8O09zLD2g19wo4Hq8LSTV3CoER3w/DNkcJ0qTLD1aZpw+8Vk8OCRjDDz3ELw0IKLsOF6c/CsOxewyKFL8MO6VLDJDh3w6cB4sK2zlrDOk7lwtDiLsG70b7CIEbSwgDwk0GAPC7CkNG1wnXYSMKabOLCjMmvwjDvDcPYJR/BfqSXwmxmSMOUnRvDcUk+w4AzHcKmqpTCUBAjQSc+x8IuDwPDn3gTwzM2hMLiB2nDICpEw2LcjsPpgALDuMP4QZSE3sKxI7PCwLr7QDkPCcOhL1DC/OF4w3Dq+MECzEnDqPkCQTtRLcM/NRLDAIeWwro5GMI+sXTDynRnw84mDcKagh7DLv1ow+dRHcNwk2XC//Ixw2ztJUIsEQbC9Aoaw753AsM4WYfB2immwkQ0LMOui+LCnqXiwq8ha8Ol5BLCrcqVwvSXd8N8k+DCKNpiw02qc8Mg9cPBjIiZwq9/7cKabRrDqHhTwRnQPMKJQa/CcCeZw/5OMMJ/ix7D3qlFw5SDJMPE/37CO+RTw5PbgsMgZi/DfIzXwoof68LbslLDV7pOwnS1ScN16w3D9K5kwsjsxUGrjw7D+pOowgz218GQKs3CGZGnwirgVcM0UezCbeeIw1kDrsLM3y3DXicPwhgnWMPOhp/CGlAvw2nB0cLcuQvDOCBWww0wCcNQx8XCiQ0/wyPWc8LssWHDoxsfw2bqSsNk5gvCvD9rw89QSMNASVzDMgzWwuh6JMM89gLDOHOpwUjfIEIUXrrC82/6wgUzY8JIVvvCdD23we9i6MKyBkjDHGxKwyvKj8NA+6DCL4mywmXuE8NoxQfDxuwXw74XMcJaXQXDrK+mw/BINcNYsdDCmNGXw5ClacFndjLDW0iwwoDZ+EDCpITDsvwUwr4lWcPD+xzDodGvwnA8rkCJJh3DODJTwzyvHELgbnrBDetewjLdD8JZjl3DGE8Zw8wcdMP6j4rDujGDwwKphMMgDx3DMkUqw8IwaMLwgPPCcsyiwkW+3MJakObCNErTwssbksN8qOXCwCGEw2df5sIL+rHCTWwHw6eadsMaDJPCmBzpwu5GgcMAs1nBcqkpw4zsCMMo97nCzylnwmSEycI6uy7DRK8Jw97jUcLcDerBf73vwiiWgcMyXRfDtsYIw3n4kMJ36QLDk40Nw4fcgsIQ8XTDpC6ew/nnS8M=",
            "dtype": "f4"
           },
           "y": {
            "bdata": "Xq0DwuDwOkKPb8tBVp5/wk7HBMOwayhDmrcPw6952kL9obZCqEYfQYie3MKA9onCe50sw+fV20EsXzJDuh/CwT82lcHE+UJCUE5GQCNK/sJDaSnDvDtWw00a6sLJI0NCHY28QgaG9sI4WONCGMElQX33z0Hv6+JBd4nKQpfZt8LcnWVAx+YtQ2TY88D8IUdCstEuw8YC4cL8DL/CyQW+wfchlsI8+QpDW0yZwjVttcKUCZFCTI4pw/rOAcGB8epC/BxXQjcwDMHs9vfCRor5ws9Sv0EF8tDCD7r0wp22skHX/JbC0cCBQVbsAkKfIhzCMD2ewniFeMJ3CwfCd2H/woM96kHamn7CKLJkQjhVKENDYp9CVthEwpnFB8N4aIXCqwfgwnh6jcLi0bnCvPmVwsi39cFElkZCpJmPwrWYKsJWs8BCIsMDwwaqqMK7urZBVFAwQnJljkLChaVC+mOnwm/uUMGef6LCa8+gwso4csIFqwVDr2MIQ09zgMIkjhjDJVOiwrLLtcJkNhXDWMcyQlW0rUKy/AdDvJuhQv6n98EmAjNBgIJoQsglPMK717jC0OmnQacvosGhse1CbSeRwrjys0KC68TC9mkawYloAMOkDF1B4IoswPrfqEIr1irBSWqVwoApysK64HvC9+/FQRjEyMBHSCbD5ga5QuCAwkJGnmjCIsvnwUjMMEKOZxnCh9a3QehgT0ECeAvCvyioQtBzGUNGIkFC0LiiwrzhWUOPDodC442LQvfLb0L+Q7/ChrzVQsxV3MIB8rNB656TQdw5ocIekivCNfTpQQxey8KzfKnC1qY4wwKjTcJkxWrCe/2gQaEOYcECLLnC0lo9QhecH8J5y8VC+sqyQs/kocLSPHNCt9I8wky/R8JLyCxDOiISwY8PDcPY8pJCJ6yhQbzF2ULizmXC9l03wkgGg0IAwmU/G1xpwhpkDcKRPuFCg+7+QpSWMELGWujACTO3wuHU6MH3yR/DAFUowAj78sJghd8+ZwjKQtTtMUIsZs9CSyC/wpESrUHWDlJCS7rOwsDAncKpIP7CwNGXvnqntkDtqJJCEMDAQfTNEsA3kTLDJaPQQpTrxEJk8vXC+tGZwnSdMsArTuZBEYnuQZukKkMc8FxBCFeMQQdgdUI6QhLCKzmAQSZUrsLqMKzCt43jQjF9kcLomhRCelXQwY4+f8L/uBtC8aWOQgt2cMIxS1nCvoiawqfxlUEP5N1CLPMGQlZeGEJGhVTCFuzbwdDCiMJDf/nCG2K/wkXA6cLBRFHDwGIHQh3YukKkyZDCIKFaQD6EnEII7olCxJlAwj0LgcGAxvc+tBZ/QiiMCEIAqL08eJrwQjljMUOAtmDB8/QEQ/QIJMID1PBCG4Vnw5ckB0LuUFXB3sI/QprRtEIolADD4LoSw/KNUcIwNTfBKbqkwpDVHUIcsAPCPWM+wrqpkcHMntHCgCURQQV8q0FA1XA/q+Qtw2mSoUFwoMXCYZiCQXgY0cKjSk7BtNoDQnSNIsHZZghCXy+4Qmy2kEK4hAXDRgdGQupV2cLkjlrCPyMkQ6uFFMOOW/NCvtB6wvBmbUKaNJDC1wOtQZp4GELlIN1CmskEQ3qi8sGIqY3C2DDqwVoKDEKmVPBCM1ofwyYcV0OeyrVCcfqeQUDVfEKc4YJCakL6QkG4LsMibbxCPlRZw6g8IEGTe51C7Q1AQvHpJMEKJAhCV3AHQ1k5BkMpvKhBcKRBwow0AMFFI65Bm3MXQ+L6sELs3qHA1MvOwk49DsLslj/BeTncQsfXAMOMUlnAf+C6wdQWpkGcYpnBgaeGws2MBEK946jCKLh6Ql5rDMIQ05tCYf74Qg9KhMLjlYDCbN2mQhxhIUE=",
            "dtype": "f4"
           },
           "z": {
            "bdata": "Zk9sw0bRYcM6oZPDUvpnw8RTZMM4WYnDGAWow37YN8P8txHDbKljw4C5X8O+m4fDURtFw/5Uh8No4xjDVE1Qw0BvMsOUUmbDXB4sw0NEUsMQcmrDXrB2w6qUg8OJ7jHD1fNjw0bwasNGT3LD9PVsw+I6EMPUgJfDrIJtw/0LX8P8BTvDX8Zrw3GsC8Pox6LDLUlZw9pRvsMqWl/DrKOhwyv8XsNQ0JLDFUlBwyBhasNNZirDcX6nw3lnm8MFfaTDjsdnw0gjksNCeaLDQjFOwz4EqMOubjDDMaZvw2l3ZsMm86XDjoQkw5EkPMN/j3jDLGekw55HLsPuW47Dcoa3wzLiN8Nl6K7DWcRCwzS5TMOOhR3DbxkMwwiGhMPNpFXD/9dDwzMmTcOOkaHDQmw+w3sPLsNi0WXDnBPDw+60NsOs/FTDwBtmw4R/McMGjxTD582Jw5r/kMPRbGbDYiWAwytHFsOX3yrDusxMw9iTX8OmPI/DwVggwwAvUsNDvaHDw4g+w8pzdsNuaXrDT3hIw/HjJcMAbxLDCHBMw8VVhsNjuEnDRQQzw6PoG8Mz/0zDVeAcw0ySE8OXDifDrrkVw/b1aMMXt4LD0G5pw8oypsPkH4HDfclNw8TOgsNqnSXDu2rEw/5BoMPWbbjDdiwrw0oqmMN0V2/DeGUSw7TjXsOAtmDDdoRIw7lqRsOm74jD1sYtw3iTZsMr2IDD78pXw0ZKNcPohmzD+5NpwwoTScPGVZLDZPxsw7BPR8POMHDDlBtPw7jnr8OwribDZBEowwxCK8PpP3bDCdphw/OuhMP0WyHDNsh3w/jMKcO5QiLDH4Ffwzi2r8PVBIvDkEOFw8NyKsN4cTDDk1Nmw9KTL8NUB5vDYB2qw5wYLMP8qVfD1kSxw+QqWMPPSjbD5uJjw9IfZsOUtI/D2ip/wzC+D8MYEjDD4ntLwypwPsO6lKrDzBlAw0d0c8MqpofDokphw+15RcPUr6rDBpg2w7yQvcN4lmvDvS4sw7iOssPOrVzD+J9uww4ObsMe+q7DTGFpw6YIs8OkvHzDic8dwzHiEsPaApzD5Soiw4pYb8PIO1DD4ZRGwyCob8MEBIHDCCRkw4eCSsNrzYTDs+NWw0yZQcN48YfDlYQIw8BBEcNwyoTDpEpsw1TEEsOMI4fDl29Dw3/HVsNvEHbDPoqYw0aHwcNy73/DIqczw0RQb8PbRkPDsLk6w0KHDcNlnmTDdL2xwz4rJcN69nfDYIWAw4caYcOb/l3Du6kuwwP+hcNlRFPDMRexwxiuL8NJYYPDtdZpw3qcP8Nlf5fDEtSZw0aOfcPKgkrDkkOmw40AJ8PlKFbDMVhEw3s/P8NOPSDDTW1SwwZWjMOmPDzDmGRnwypcjsPVQDrD9AGzw2kFcsP9j2bDpHk7w1ZDMsPjYBfDXvmWw2vXq8NJ7SfDhqMZw/xRJcPN+WHDOGS4w1RXIsOX0F/DeCFew5ZlL8M5xyXDYF+NwwU9TcPSKCHDmETGw9AbYMPJZFnD4nFCw73kc8MaZUrDAkR7w1dBmcNK/YDDKgCSw9A+e8MxtTbDqyEawwpRlcMtE2nDWkW2w5HYncNXwWfDZXuGw654tsNi4EzDnJO/w8DWhcMkpBTDtVpjwznENcPEU0zDHAukw8qKicOFUEvDVY82w8TWcsMlXhPD0ndpw4J1VsMqOC/DOL+Vw3quXMMj8BbDnO97w9tMlMOw30/D/cMdw2jFW8MY76TDr0FHw8sJJsMkErjDcAuBw7+tSsNbAyXDPLmEw2g8eMPQCTLDWdB2w2DOTcPpHYDDkxFpw5D+fMMYal/DpPKAw1W7CcOR9F3DZjSjw+CqucMAD2HDEeotw+QjPcM=",
            "dtype": "f4"
           }
          },
          {
           "marker": {
            "color": "#FECB52",
            "line": {
             "color": "black",
             "width": 0.5
            },
            "size": 6,
            "symbol": "diamond"
           },
           "mode": "markers+text",
           "name": "Cluster 9",
           "text": [
            "C9"
           ],
           "textposition": "top center",
           "type": "scatter3d",
           "x": {
            "bdata": "+VADww==",
            "dtype": "f4"
           },
           "y": {
            "bdata": "70USwQ==",
            "dtype": "f4"
           },
           "z": {
            "bdata": "IPZoww==",
            "dtype": "f4"
           }
          }
         ],
         "name": "frame2"
        },
        {
         "data": [
          {
           "marker": {
            "color": "#636EFA",
            "opacity": 1,
            "size": 4
           },
           "mode": "markers",
           "showlegend": false,
           "type": "scatter3d",
           "x": {
            "bdata": "WzYsw15zLcPbEcTCRN8hwlCa+cBkmanCMRAVw4uz/cHPWObC1Bpnwl9RacKgu8/BQEp2wjJVi0HWvVrCWTUNwsbrs8Lkf5tBP7UQw/KxOcL2BhTD7WHkwqY0AsMZS13CxvUCw9qscMIaQYjDdEAzw1k2JcJSWazC5M3awfrtqcKAcR5BjjTBwvb8DcJIfX/CIKIhwvOc+cH8gpzCUPbJwrAIPcEUw+1BQKD1wqRFm8Is1dnCGBX1wV75HMIQhD/CTSbRwfiSqcJKvKfClWsow0muHMP+J6rBik2hwoZP1EGHUwbDa4WNwljSCsO4oZFB9GvsQdgUzsK0kNbCHBZMwoVqV8NIi1RBgP3CwoWGscJg8PfCp60WwxLFksLKLQDDXb1twvOQN8JKke/Cv60Fw8LscMOldAbDIqecwi6OB0GO+fxB+B60wiahp8EHDcXCqPINQRYbz8Iqw4rCKRuAwkx8ysHQcEPCwFQhQAA0oz8v5R/CMzChwgbLE8M2nb5BkNuAQkBnDsF8KldBAZAFwzBzncICuAJC1waMwzvmU8NEW7HC+KK6QL47IMI0ZwTCBC+Qwvy6WcHiVdLCUjCPwXI4iUGuMkLDSBq0woC5tMKZmi1Cll+JwjRxMcNXHVvDBh1ywjBuRcOIPgbD7p8ww6pOgMF49Q7DniwOwprbmcKghHLCe5qews/pMsMZNJnCouzBwpj1mcIMqJLC6zMVwydqkEIT6gfDhKGRwkafusKCMyTCGHJqQexYbMJ6ehzCeq8ww+gBXMK2hQ3Dts4yw1t4usL1hErDjKPUwspyFMOgkwzC7FCawjZQgcKUvTPC1O0Yw+iWUMG5QTPCFh8Gw0vTGcJGEKDCcIkbwT7FZ8NbnuLCcLzFwut6ysJVTQvDRJYuwnVuYEIQ3zzDYhUMw+iBv8H8Ca/B8Bf7wbfUzMJBPprCcfZbQtN2X0JkUnLCDNVFwqy65sJcbwHD3bysQoL/nUF/DGvCwGXxwdtLjsLEvZnCIC/cP1+lH8J7bpPCpJOiQeqxnsIE2lbDRoa4wrOdcsMdnFnDnXFQQq7E4MG+ZrDCnl+jwiymVUF6bIHBgJy3wKkZQkLgqt7ArrqewoCkQUCyV5bC1C9+wnDPp8Bww1HC8P2KwpKqo8Ki/8PCFA78wmywdkHqJJnCEKYmwxrLN8O24M7CEbTCwsDbkcF4o/LCgEmLQqyl2cHPoKTCRt9Nw4Bfzr9QM1jClu1SwtBycsHC1PPBkgrYwrD+rcLa5u3ClHH3wZB+mcBAMiRAYC6dwpws0EHYGrLChATBwWVyF8MAupjB+P2KQcBaPUHeUvnCWEoAws0eOMN5dHTDrWKTwncpxcJYGuPBeMvbwvjLgULwHsdAV7+ewmGRa8LuXuHCiSTkwme5CcMEojbD93e0wram5kEmwzbCzOhzwtEBOUJm1IjCJFsxQWbftcJblo3ChKtxw0OvAsM8VOrBE5LVwcYnPcJ83dHCAFK2QIKczsLclLbCkAymwnrXmsJAnO7CchVQwmCPJMMUtunC4DNbwsMOwsGZCurCfQQXw5N+H8PvOyfD/LkEwwAC0r7/rITClvQ9wuKfwcKeyeFBNowbw0y6KcOcjG7CcK3TwgbhDcIh9EjDTk6UwufdZEIw2DHDZsQDwmxuUcFKJvTCgtgXw+B0uMIA6jvBjFUfwkiIP8NyfxrDoUaBwjRPSMNwKOPB5IUiwyuspsJ0Pl/CEQU9w3h7YMIaVQvDRCZ/wR54V8JukTDDFHK3wtAyw8Jgl9bAKqWeweouNsLa9YXDknBdw18gPULgAwzCUn6tQZ+sBsL7fS7Dh29yw2I3pcGq6kvDNnJZw1mBBMPQjPvCVgbwQZUcUsI=",
            "dtype": "f4"
           },
           "y": {
            "bdata": "In+GQzmT30IhfItDwBhNQ/Z0ZUNUy+1CULEnQwngzEJjJqpCGVhfQo+y1UI0jVhD6uAVQnVQJkP0dp5C3k11Q/hNg0Pq2ZNDngcYQ+LKIkNOZhpDd73NQjAgF0MDBiVDoHnjQn4xj0K90UJDHgVAQ0mAT0LmtV5D6OCXQiPhBkOil4NDnAFFQ+AJ1UKJQAVDECFnQ4Nl+kI0sfdCZtSyQlxFYEOfZYRD9ARWQ7HUF0Nk4TRDwpSJQ5KfKUNP1hlDOqAwQ0FAlkMc+AxDFpgLQ+n07kJ6bC9CgrtXQo07E0OtSBpDW1jRQtx9a0MepndDSM6kQ1xCkUL4SxRD0mzHQuNTQ0OQdktDlj2/QmuAr0LrNjtD4e/nQinyk0Iq3a5Cr4baQh6AEkNqyc9CrkIPQ+cPNUObbuFCQQ8PQ/BxJkK0JVVDps0PQ4qcmkMEazdDRlwvQySkt0JYaIFD4tk8Qvf2pUIN3/FCns2KQirJd0PCbq9C/4uVQ3hw0kKrn5hDUJqXQ7laUEO/lTNDuEZHQ764GkNI9JBDnItUQ1j+GUOKgAxDn0k0Q1WzXUP/q2FDuBDbQhnD00IyVOVCrAb1QoInMENSRItDejVTQxjt1EJt81FDslPrQkO9S0MC011DxTNNQ98hhEPTzB5DK7/1Qv4y7UKIZGZDVoRaQ+rAnUK3wxFDVgx8QxxRMUM1VORCE9hmQ+IeMkMwLwdDBGh6QzxIkUNGtpVDiQ44QvBeOkNqxLRC7Qw+Q16tbUN85vhCPeFdQ0735kLysMFC0rVPQ5C6NENjSE1DMD3BQvra/0L9ZONBtI1KQoRGREMXYi1Dv9EUQ3yLhEOydgNDUpY7Q8gnoUOo9o1Cw+kLQ50rYkOmEO5CxXybQnYgOUMAXhRD0IbgQlpqXEMWtg9DKk6fQ5K/nEMiBCFDz5FNQ0yHKkMJHwRDJx6RQyAaU0MubFBDK2g9QijkQkPF3StD1GqpQ0sKkEOkYyVCsGGaQ/8clEMmdd1C9dERQ54ckkItDcJCRWQAQzMzvULSASlDTT1sQzmUZ0MWKypDehw5Q+AJykK0bH9Dyb3KQpQ+3kIogbJC2Id+Qye/YkPZbxJDoMZnQ7gwrkJI8ZtCHsZiQ/nKzUI3TQpD0pNRQwWjq0IlO7NCJugsQ7DgRkPcYz9DoytnQ8zgLEP84ytDrfpaQwqtUkNVf4BDGPCGQ7w8+UL0fm5DOAcnQwpOaEJGsRJDGx4YQqjfb0PhCOZCGBtyQ0HaiENHumxD7wqiQx5/l0J0RSdDwughQ6b6ZUPUA4pDBxfBQfoJOUO2ov5C3/wiQ14awEJxzohCQgBAQ4HOmEOcSlFDDp9sQ6TWwULUliNDgDQ1Qx5sgUPStjlDrrupQoovOUOSwoZCSuPTQsrMUkPQJRdDCC1iQyXdC0OzTSJDCgoBQ/GAlkOM1JFD2slPQ5Ks8UJq4L9CRKlDQ+NZqEJAPmhDyGr0QfYs9kIIB4BD32eKQ/4krkNbdEND1Gd9Q0jWrkLot7pCiGYrQkoAdEP/zxVD9p34QlvaFkPG4PZCGM01Q+6mXUO8aR9DKbw5Q+BU90ISu65CLmysQlkXwEKwopZDs3aLQ/HeN0OiyMdCphp6Q4AtoEHdy0lDwqGqQluSpUMklD5Df4XgQv4/EEPdLF9DKhUrQ1DSc0Ngu1VDViJ9Q/KKGUOeFVNDUGyZQkZRaEMq3QJDKY1wQ4QMXUOxugVDHA4ZQ2KyEkP9twFDlsUXQqXnWEPpYQVD7DiBQs/qT0MpSZpCOjgKQ5r2CEMAZkNDVE1AQ+jqpkMAHO5BRB0MQ0Z3iUPLISlDaZAdQ6RBcUIAaIZDHJJ4Q7AGYUNUlp1C1sEHQ0DACkM=",
            "dtype": "f4"
           },
           "z": {
            "bdata": "8tWUQWGTusL0E2JCA/mawqD14j+2OnxCYeuOwkxIa0IoOVdCgHFPQZ6cR8LwyUJCxrKaQahzi0CKDYLBp9WBwmI8+0F6fxfDYMurwR2kiUKcY9nC3oKtwbEes8KSrIxCmEX8wPDDGkC4hlTCTrU8woq2YkKwr1RBIFHcQAATUr80V0JCSRWUQlBR5cEIY5bC3EzPwjwbVELPfptCiqqdQm99EcI6DbnConIkQuxwAEJUeZ/B1nvOwoBsiMDQnE7BnbtQQrGz6UIgBvy/QBu8QLDlfcLU0EZBfEDNwYxXI8KoggnCvPuHwgnni8Lw6G5CUGTrQTTBzUFamAXD6AkZQiWQyUJxHqhCB4nEwf5sJ8JQYTTB8GWxwkBvKUJstTLBaO1aQi2KhkInUJJCKN6DwZoGjsLfTwHDmMyMQvjDHkKYN4nB3iyZwVBAiMFby6VCg5ylQuJbjkISFzFCoJM9QvjsocHUgAXBAHj5PyigicLoYQVCYPfOQUAIqkB6qb1BlJE3wiZ/y8LSgTvCAPawQCjTekKainlCzOzwwuAX2EHsaX3CfDwwQvDgg8IAKZbAIpX3QfCkIcC7JR/CsCkSwrBW18HKz7JCdSlxwiBaOEKosIVCUMAcwUrqBEJ/ozHDlp1WwkSzy0IqBopCjNpDwjT/nEKUYbVCR3kCw4huCELcfvfB9iPMQlcm20KEvSJC3LznwhjbAMM4r+FB5Arxwk5XosK4WcpCsMDLwMKjw0GA/L9AIK8ZQq9rS8LE6ZjBUFt+Qh7JCULGtqvCuNaBQbErFEJuCBjDLYWWQkwo/UGgb5lBfILtwTtKvMIVOqVCOJWYQswHfEEYuXHCbFbWwbrLasLiIolCoBrcQCCL4MKYUkpBkw1yQpNSisKLepnCroBCQjpOZ0IAuAC/7NsFQgviEMJYLCbB+D9YQWh1gsD8S1rCyOxAwrDBuUB7B/rCIi+TwTQiP8K+f0nCdUCtwSiEdUHe4wJCyIZUQTBXl8H+cT/CEpg6QurQyEHd9bZCgLBUwLRiCcICwXRCwDAfP5OjzULqiUnCMGkQQDh+cMFgQg3BVzKBwmYWBUIqLN9BvKEvQUBqoMKIz5pConuewR6Fl0KoigLCWIIWw+IhdELXAnZCFrJJQmwLLcIfs4LCwGSoP9i/DsH/VDtCuC/0QlI31cEUDx3D3RIlw4N0mULoL7FBGLwPweDJg8Ds2/7BGBYRQRa0IUJMF4XCuJi6QW6HCMOo6JPBfGWmwsrR5cK3dBLD3C35QTBEokCP+4ZCeMvowbrBwsGIR53A6JvCQcvSpEIQElnAvTFbwuYqNEISm1HCEDMnwh6umkIctdBCiF+YQV6XWEJwEKnC4BUUQRHEDsKBBGDCw4yNwin51sIWCTzC9wZaQkW6DMPA+jtA6zI3wwK3KEI4/yHCaFWawgCsPkGmr5vC0FizwhBIY8FwsCRBkTCQQvDwQsFi0VpCSAknQqLmsEJrdJlC92+sQvD4EEHpkgTDYdiIQiYofELos6JAmGpRQtTxAEEyMUZCYDTRwBBsA0LRjb9CnVXIQodKJMN/tJVCOjjAwhzQk0K7mp1C665GQlCsRMGYZTxB9CDsQqbnzcLKZhlCOOVFwbjd2kGotvBC9BVvwpgncUJya8bCrwueQijTVMHWq4xC3JVVwoDFHEDiFdDBFOfywpr12sJW3sJCh0VDwtsPjMK+a5RBHh1lQtZ8wcJS0IfCwA7MQmzQWEGOvVdCvZozQqYTusKeLe7CkA70wdcmn8JQC1xBNVIeQttttUIIMynBUEyEwiwmd8I2qQBC8HBaQaLLo8Jq8gzChGfQwhRa9kFoevZCfLjlQn5kLkLgc/rBCO3bQfl7lcI=",
            "dtype": "f4"
           }
          },
          {
           "marker": {
            "color": "#636EFA",
            "line": {
             "color": "black",
             "width": 0.5
            },
            "size": 6,
            "symbol": "diamond"
           },
           "mode": "markers+text",
           "name": "Cluster 0",
           "text": [
            "C0"
           ],
           "textposition": "top center",
           "type": "scatter3d",
           "x": {
            "bdata": "2U+Zwg==",
            "dtype": "f4"
           },
           "y": {
            "bdata": "uSMrQw==",
            "dtype": "f4"
           },
           "z": {
            "bdata": "Wp8lwA==",
            "dtype": "f4"
           }
          },
          {
           "marker": {
            "color": "#EF553B",
            "opacity": 1,
            "size": 4
           },
           "mode": "markers",
           "showlegend": false,
           "type": "scatter3d",
           "x": {
            "bdata": "NLNqw/cBF8IybDrCHHWfwjPVIcIyNI5BSbMpwu01DsLAQefAfscXw/+ZMMMw+j9AdImmwjIPx8HgCjZB4vxgwt3cqMLrLG7CT8hiQszJykICz/vB4LO7P3ChQsN76ADDDmZXwtzKLcPtoR/DrPipQh8xAsIRBCvD1s3Qwj1vIMNT9TtCnxBkw2PRNsKhTSnDSgPFworw8MITKj9CpG6MwZsuI8O4xGLClqV2wjqs4sJXo7zB4NIewyrbXcKcYefC3HYRw5yeuEKQDqtCxGJbwVwBjEFQLphC8GRgwgQD3sKRNgdCwCbVQKg73sCHJpXC8J/awt5b5sKksavC8sifQdZZr0Kro3RC7cIzwpXd2MEAM+7COtLQwuCCzMI5SgPDdpERw9ucO8JcYAbDjNG0QkKqJEJWme3BU7phwv0PBMMAgHw97nd/QoBTsECLzkbCSiYywgg3jECg36RAXLD7wu5dvEJr7h1C3M1MQRRiY8EEXbrCMKQ/QBg7FMI/xxzD+/w8woYXvcIPUndChM7LwiRMkcKlWyZCFAgOwznxMsJRU8jCClULw64360EAEKK89nC/QbVEY8JFyxTD8JKzwkrI7EJKWP1B080/wkAEzUASLMPBX0VpQqeqmcHKUtjCdDAJwQLptEIMrINCWn8rwzTE8EIGHd7Ct1tuwjs2eEIsDxXCznt6w1Gr4cIit0HDygmBwsOlJ8Oy7kHCnESFwi+Up8Lf6UpCw1UBQnQO/cI68BjC8Qp/QnQedsKAl06/T0yvwXwu5sLHFxbDIBPSwgI9s0Jv90jDsb1kw2bzd8KAWaI+ah+awpt0Y0IUgj7BGLqgwGi2pMCgsVjCEiYDwiBkPECOVujCtOsUw/ydeMK4QsnCND6ewmTn78JMOLrCncc6QqSUAkGzDj3C9HdZwnbjrMIYKu9A9uGawdgYfsF+KhfDlKQlww+QBEJoFG3BUNa4wdci28LCt5LCMm7/wdoM38JgySXD2hUEw2Z2EMNi6iXD3KnOwoCclz4eW3LDsK8pwBZp/MJxOjxCRA4HQ9O+o0KNxC9CfNHpwriAyMJVwP3BLh+vwh3BJULOj3XCbZZGwu9NSsOhsGHDNn2XQnP6B0NnDMpCjqjhwm4docJVwtjCmjtMwrBTwsJB2GFCPXd6wpBKi8ETowzDuXssQr7cYkK//SjDIA+rwrL9XMNY4ILC3IB7wmPXqsHIy+3C364OQpeGgcJou0ZCmyM8wktxccK+l97CMXtlwjTGSUGl7DrD0JWeQgAFBsP4RyvCHmsbwo2o1kL1HgXDT/ZMw3TLg0JrImfCWP4qw3TWjkJo3cbCZNpgwpDPlUGfQIzCGoSqQVmEBMLGMZHCuHirQBInnsIR3GJC5Noow11Hn8GF4GDDsk8pQvniV8IW+qxCYK9AwnZmCkLO+ApD4+PZwihchsKFoTrC3NIGw+IivUEOqbDCQp5rw1zhUcP6C+PCREeGQZklFMM64aHBh+tkQnV9B8LPSAxCmBg8wzddKMPkxh3DAN2mv3R0VMKp36rBOBNdw/K1GEKAlg3DFlbbQcSjuMH2YcLC8lKQQbdsX0LpHCNCY/gkw4HvY0IPqzrDINjpv7RRwcKNL2HCVvrYwcZi8sFLnEPDNsvewnpe9UFidbhB4I2XP49gJsKqPLXCQKJrQTT+bUGYVxfCwG3LwtDbs0I2apXCOtTKwpCiQ8EigOrCHuzcwth6+EGjBXNCEPY6wznPPUKaOsFBOBMjwnpsb8J22aBCK2R8wthi9cHsRpnC7Kszw/MH0sFMikZCFGTvQdQ+IsIOkfxB7r3pwm5wokFx6w/DVS4yw55AssLlI0PD5PEOwh4HBsMgVj3D+8Eiw4CeA8M=",
            "dtype": "f4"
           },
           "y": {
            "bdata": "GD/bQhb8I0NPV4dD3V8iQ/sbDUOGpWdD5y0BQ154jUPqmqBCnVwjQ/s0PUNC3cNCZKOmQpYZ7EJDx51ClqYrQ1lzI0MS+8FCYwgDQ8UOTEN5pC9DCTgHQ+tBK0MkF65CIiR9Q7F7wELtDxtDeEnUQnh/VENx6m1DwGxmQ7TCKkPEwRtD7F7cQsqStkIku/9CSFeaQjOIDUMyIBpDlaQrQ3UxFUMN52VDIieGQzVofEOPaVFDcfh3Q37Fq0LfIdxCI8Y4Q22ojUPI4AdD7tbOQineGkMCJiVD0GidQpT5HUPESwZDU+oCQ1Dvt0I0euJCQgefQ9+EgEMOymRDke8HQ7e5TEMHx2pDDL82Q+0iFkNhmLhCuq4GQ0Uj5EJc/v5CoB+LQzBWkEOWJ2BDcZq/QoNd0UKtcolDEt/RQpBeW0MysSVDYn3DQpjlR0NLQKdC800uQ3oTHEPst55C728RQ9C/QENQFF1DYu1UQ3hi00LHJzdD1sMKQ/quJkNwSKRCw66UQrTOM0N7GyNDkBEtQ6ZYEEMSr7xCCg3DQvC3TkPy/sBCX2rMQpa0fkPumGBDXDKOQ0Ze6EIvXURDNMWTQpxcEkOZySJD918yQ3bC1UKHnEFDxfgnQ97KwELg619DcIXlQjQ9GkM1HglDUD2RQrr5GUNiFTNDRPrYQgRA1kJ6S5xCUsZjQ/0D4EK+n79CPUyoQtieB0McKGdDWC2/QgAlRkMyPwdDmEHyQm5fC0OBJINDg7R/Q7/jq0L4tblCliXEQnh3SUPDSQZDah0jQ1i6EEPzfhdDrGzPQog9i0NLm2xD9BWOQjAeVEMMJQlDMRTPQqSLDUOAO4lDk5BRQwRl+0Jggr1CkoAlQ7Ax8UJuDgVDGpzMQozen0IAyKRCNmU1Q+RZuUJLPadC4FykQhieK0PWEohDjpM6Q2SQPkMeW95CP5F6Q/pGNUNKefZCySoKQ18b8EJ/3YZDuhFuQ+wxjUJCBVRDNcWNQmoeF0O1doJD+B4ZQ0IC/kK2mz5DSkMuQ56TVkPetlhDK7kfQ3WmBEOQq7BCtx/OQigbSkMoFfJCzBZfQ0RCt0KyXgxDykZ1QzjTH0PCAy1DZi+AQ6wpVEOm5VhDtEEIQz/T4UIR6UVD25qnQnXnE0Oi6MBC3UW4QvnQjkP8hCBDpHyGQ7dIE0MFgvdCuCUTQx1VUUN7UiRDAoHcQq79SENSRsNCI+duQ2QS9EIPFBtDODqCQ4S0AkMSc6JCyz8IQ3ysIkNsP3JD//ISQ5BgnkNeKgNDFqZjQ0QvO0M16UlDx0keQwqaQEPwavxCSIyHQi/djEMwQr1CvNGWQoh7l0InTDRD7E2MQxAelkKEdLBCd+GUQ5yMgUO4M8xCbFowQ8d29kJXPkhDHPIoQ/hlkUL0TcVCqxi/QtgRGEMjyutCgtanQnZb50LW5E1DKm3xQuAmsUJEHBBD/d9KQwg4LkP2aPVCrphkQ3GpXENRvQ9DSZhJQzQJoUKSN0BDawczQ2HLLUMHnwtDHgDkQobZkUJcXTRDEvIXQ9SpqEJw3opCxNTYQhIQgENn0YBDAG7wQthYYkPNhRBDqkkDQ0rpv0IafzxDpqPrQuAnekM0Vw9DQARXQ9xNeUMiVxBDXgufQ5Sh8EKk/R5Dhqv/QoFhi0Ne/lBDmjtKQyPxH0N3TZ1C4sGnQhij8EIKftZCIlPuQk5zxkILVGlD23ZUQ0jxr0LWLHND1nIQQxp0EkP0d4hDyKKtQojo5EIXNxdDb2A1QyCczkK0KxpDmD5uQ418GkN69LRCsnQJQ8/IckOSZW1DU6jmQl72T0Mb/GNDxc8dQ0hFKENE4XZCaXkEQ/3EmkIFhXRCy4yGQ0x0S0M=",
            "dtype": "f4"
           },
           "z": {
            "bdata": "EpBwQ+xJIEMFI19DPssfQ7Aaj0OnXxRDAMRbQ/wSQ0OGJsVCvPVnQyeMNUOpbE5DOeoxQ+Al6UJmktZC2hCpQ+EBBUNXKIRDFPbnQjZITENPTntD40ozQ41vP0OGySFD779GQ5/QJUPtOKRDm3I9Q0QpIUNsnR5DSmwlQ8LYbEOGBIhD1/93Q2if0EK9XA1DRtiiQ7YfJUNucVNDew0zQxTzLUMuQIFDqwdQQ3lviEMlmaFDVHUCQ1ICAEMpiY1Dn/cTQ/syEENBN2RDbpHYQu22KEP0EhNDkJBnQ/sFA0NNaKdCyNEFQw4z0kK+AmFDpaEYQ0hY70L7zyxDmAhlQ2HJMEMLW05DfBoFQzl2vULWZk9DazeAQ1iO1ELEXgdDpQUdQ0K8TUNiEDVDnC4hQzPEGkOBZglD9DvIQkaXckMmpf5CwPAwQzJCEkOmA+VCI2E8QySXYkPNcjRDlPGLQwxIQkP/fjNDBDZEQ04pv0KVn6pD+IOrQs6ylUPnZmhDb3cNQ10WkUM50CtDnt8kQ4ZB80KKIytDJzpDQ+LxF0P9B8JCAYMmQ97zzEJhywpDUU9BQ3qjt0P7YB5D9HbPQrXNRkMmGOpCOKnLQmyvlkNyKF1DnpFhQy4tuEN3lXhDpDYLQ4TgYUOj4qhDN9CaQ6qzM0OYRWpDlMsEQwh7iEP+9r9CTEYPQ9aJA0MaezVDDqolQ4MYNkOA6JFDhA4AQ/tiS0N4dbZDYvdbQyBfhUP4tw9DWBnrQvc/QEMHKBVD9xpcQ+Qx80LZvpZDL2oRQ2sMFUP4ah9D0p6KQ2jIbUMat0FDrLLLQnQwK0N18yxD+priQqtDX0OrbQ9DlQtCQ+40L0MQ8TFD9GdRQ55L1EL2kJtDJ28bQ0OhaUMNxIZD6pODQ1lMi0NCI89CKAntQr58m0P+lt1CdomwQ7Ul5UKMLoFD7wwIQ/kiDUOQXwlDpzTRQgyTVUMJ9mlDGjSbQ/puPENeiQBDWnqRQ0ObbUNX0Q9DAhFsQ2BEHUOidEdDn+k0Q+7i5kL2YBlDcjNuQ6EQJUMKhyxDMAZSQ5snAUN08bZC5AwIQyBLJkOI5o5DI9huQ6ZPUEP2TB9DZm0EQw6wREO9vS1DDC5jQ3D+cUM2QaFDVIONQ2HCG0PEcgJD7a3CQp5wCUMsnqlD4jLyQp/1H0MR/0tDh7kDQ9M8RUMVQI1DrhLeQjCF+0Iy67NDtHowQ3JhH0OTshVDgNpSQ3bOvEIY8BFDW096QzMb+kJM+TZDBOB/Q0SmEkNt2hZDMh1bQ8BpQENvG25DyyojQ3aI00KYVb5D4nU3Q0IpGkOYSChD5LM9Qwj13kLjRAxDsoUAQ/qprUISrddCf88wQ8ypLUO1ATpDqWMvQ5499UJaXQpDUpq5QkGzDUNZ3G5D/iyUQ6Dau0JOSVlDxCw/Q+I5REMODKlDGm1FQ0TxiUPRp3NDyv5DQ+ZBOUMCplBDcXEBQzFnD0MJaX1DktkWQ8ZoJ0PwLuBCCkcjQ/ryDkPcdoVD3tCKQ6ohHEOC8htDuqVFQw45NkNyrBhDmmKhQqr3CkM1cWxDvlaPQ3giYkO/wgZDf8QcQ9L3GkOkhTBDsarMQrsKGEPenipDEC+jQ6BiYUMilI5DyVgPQ4AgW0MeDQtD4su6Qko/CkMVtDRDmpkEQ+r9g0MM57NCM6xDQ9DmHUNy8/BC0en7QrNx9EIcqh5DUIo8Q9zaAUP+aIVDsR4GQ5kPM0MtmjtD1DQgQx4bLEO0pBVDXYIWQ9itKEMN2mBDmctdQ5aevkJ8vy9DN1ivQvGi/EI5vchCihYsQ4KGzkICuoFDwCcvQ0rgQkOAPWVDmW9fQ4Dmi0MRKlZDkT86QydHfUM=",
            "dtype": "f4"
           }
          },
          {
           "marker": {
            "color": "#EF553B",
            "line": {
             "color": "black",
             "width": 0.5
            },
            "size": 6,
            "symbol": "diamond"
           },
           "mode": "markers+text",
           "name": "Cluster 1",
           "text": [
            "C1"
           ],
           "textposition": "top center",
           "type": "scatter3d",
           "x": {
            "bdata": "/Jw+wg==",
            "dtype": "f4"
           },
           "y": {
            "bdata": "UqUdQw==",
            "dtype": "f4"
           },
           "z": {
            "bdata": "XMY8Qw==",
            "dtype": "f4"
           }
          },
          {
           "marker": {
            "color": "#00CC96",
            "opacity": 1,
            "size": 4
           },
           "mode": "markers",
           "showlegend": false,
           "type": "scatter3d",
           "x": {
            "bdata": "EKZcQsIDF0I9y8XCoMOLP1zfBkMZQPFCCt33QRhZlMEAIK1CcBNMQTIrtkKCF5LCQWo+woCbrT/HR81CgNdmwkGBE0I20VbD7fI+wlDhIEF9oQBDddOSwhLqsUJSLHbCDHzrwWj2nsIQFGVAlX5NwoOay0KM5ZvCVIkuwVQQZsHSRo9Czhm7Qrlv/MH94bDCvmVVQis/EcLFUsbCB/2LwU4njMHWpN/CGIueQjIStML0IVTB7VhowtrXPsK+5WBCWA8owfo6vUHj6MDCLoBrQrWIS8J6SgPDnhUMwni5UMJuDIHCK+UOwuzMbMHmY5tBwKCrQBnHm8HbYobC3iP3QfTX6cJlHtVC0gkNQ90x1MLboonCsF7SQPAERkBg4/hBFFEfweDLG8E6Wi7CKJJIwQTCyUJnpTdCDQyfQoSKNsLR3e9CQAqwP4MtBkIV4RDD6mjXwXFK3cIWOknCYAhwwT1OJMJ/p/hCIApOw3UIjsEiI2vDfkyOwoCLV78r6w1CVMYEw9m0ZsL0ZMfCuDA0w1EPrcFfaTtCGOGKwnEFnsJI9MXCypfawuTDaUFbmx7DuvIIwqdRg8Guzd7CQePzwSf7xsKUpgHBuI8FQ1ufO8O9DZHCUMM0wtw+A8P9wjTDOBoKwsK0/kGY8rJC4AOrP5smM0IQgeJBI/Y0Qup5BMO8673BeDdwwYYEmUIgWItClnLMQULAwkGGGcFBsa1pQplFBcOgSo7CkvpZw64FkEIdUyVDnPx8QhLomEGUZnHCgO7fwqLGUsKELTpC1LEQQ34xF8Oe2MVCdttowoC5nsCI4LfAimaBwTD//cJwImtBlIDLQpTifsK+6QHCEnzlwdN3GsIM1wdBF8EUQtf4L0JApSLB3p8aw7oxf8LbzZbCGNKVQnUmocGOliPCTv/cwRQP+kKzOl7CIP+MwvXONEKSmFtCmAcxw+TDKsMnwATDgTkSwyKBnsLoL3hBaxucwhQxe8FtFQzC354NwwjSe8K28bXCgMwUwi+9qsF80gbDkNNNw/hqbEGsrKFBKtqlQXaY0sIxbYrC7wwqQkLY0kGLlajB1Sbgwq81uMHx0ezB2KDtQfZIPcL9OGLDIHZTQlyaAENMsQrCUmsjwyAm/8Jt5BLCajuLwg62+sJkHYjBRCcUwbb4hMJ7xBjDQL1VQcDiOkGB0TbDQC8Qw/CH+8GQkJjCf1DTwqBjncFeNZzCWqzWQSTWXMLX5pvC6EUCw7DRZsI4Ia1BmudNwxhFsMAx2/7BXPvVwTHL00LRMK5C6dgRQpRrjsKLiubBTLGbQgHwv0IkbsdBn3rawnA+usCsNEnBb87IwqBmPcBe5JtCLQEiQkTPQMJCOKDCMxpuQqqQScMUowPDp2ivwUy+scJUo/3Cnqn6wWBfckCckzzDRt4ewpKTlMLoLlNCdym/wai1p8JaN6FCVBEJwpGQlMFeFLLCIi3owvhWJ8GYkKhBgtBAw1l3AsO5Cg9CPCrjwoDjb8KABkc/m5eawSI850KYY9PB+8bCwgX/mcG8hNbC2s26wuYMt8ICviHCC2oFw1suEUMYXI1CkDCiQqa0MsKBPHHCCXYLw5Rr/UH6O53CVlThQeYhrcImbiHCaLYhQ8pzqUIJnTbCAOeCwo4dGsIMC+vCqr2Lwp0XE0JxH8FCKrudQbBSaUGQQdXBjJEDQ1j95cA27ZhCHfnpQtD1l8L08GTBvWbLwoj09EBIFudAppMIw4wc58ILZZfCPI94wjaZpcJoKX1CkuFGwlR5EMFiWwdDgBsTQIvMDkJQBpNBuLj9QTy0XMFQHF5ABAKLwkAbuUKMrBJCOHbYQP3Q7cHs57HBzY4iQkU5o0L1FTFC7ciSwUqsJUI=",
            "dtype": "f4"
           },
           "y": {
            "bdata": "7Hc+QvjSH0Kxf2LCHApfQmvENEIc9rHBgDMLQsD3SkHuV7RCyJNwQYAbJEIAQ6i/Ko45QtCbpUFaYy3CIFVoQsj9pELuH9/CJH8fQnyQisL1r3bC50RsQrtjlUKRgoZCJYjXQZs9AcKYjGNC96ifQcCrzUCghapB8ox+QplnB8JBOg1CGL20wefVZsJwaWxC8HBQQbZAtsJsVTJB8pfowShFIUFpZjFC5FWQwiTcz0EQLuRB57GLQtroFUJjTRXD0wKJQnNAWEIn8nhCdMF+Ql4TzEHcgz9BlKfYwUAvPcEEgt1B8UHWQVrrAML3nZhCcAKbQIAE1UGwTO7A5XQYwjZOM8LD9KXCIrLfwTDr3UBQ0UnCWEOQwcZRN0JwzB/BSFk8QojjpsDdrKbCTAYpQipzREJw8utAokuFQlVsXUJBXUPCsI2mQSLQB8LA4Bm/Q9Q8wjIPDEJ6yz/CwL0ZQnZn+sJVQ4nCmzpVQsyzVcFRbUhC71WqwvkzSELc0Z3BqFtowbhbC0HI8HxBkHo7QCBZk0CnLFjCItLnwSLu0cLWaFVCMLKaQYDlZb8K67hBmPDIPz1ZNcLYt9hBRb9+QkbX7MGoRQNBP0y/wrbyxsK+HtHBxmOKQnLc2sGkA69B0W31QBhhVsH+mgTClrW+wf67AkJgJjPAy7A9Qsm3OcJsqiLBhNFYQazHVUKOh2LCOqMjwr2WUsIOQqLBBNDNQR1GfML67TvC/I1rwrm2GMJH5RxCb6hyQjSSjUIAXDm9+BXXQUA5zb/dGsvCmll4whrI/cGDQTPC0NdoQlbfD0LyXRBC9oG/wdeaKMEQG31BZwCyQjw1HEGR0knCoFKWQQF6V0Kg0YnBQtAFQoKip0ITbBvC2E61QTaxYULWgY9C3lgrwlRjWkFsYBxCQJ3KwH9vOsIgSpHBAK5APmOOCcIAEdW/oJrWQRQvrMEDaz9Cu6ETwtxGOcLYZ61Bfj00QjlwK8IIa4HC/g0FwjQ8g0IqqgxCQfFsQls+bcJck91BAFAUPXDbpcCAQKRBaijKwZjRMEKS8ovCSOuLwpLPfsK0RJhBlh6FQgBkBb4glFrAdDIDwoev6EHb2lDCmDHWQXLU1sFAGFFBKrdVwhY31MHGO9rBfxUVQkDm9MCsyZtBjDW/wQBIO7+gZ+K/zPrIQUJGIMKAje++rRdmwmCZbsEAYE+8+9KEwsbX3kGVuplByEuIQfSvlcFRG1/CfBl8wpR13UHQTkZCXPLBwgd7CsLCqRZCEOGFwIQGzkGU91NC5VhkQqgSgkFSTExCINtVQAQlHsLAO9HA/SU9QqggM0FqyJdC7ScaQpj0pUGY4YnCVZohwuiF1cGyta/CojH1wbjyC0L3Z/JB6PyPQfoQoEEBxzJCdrULwgjVtEBW/6zBAARBPrNzo8JYQrpBbrWmwugJbkLYiZpBALYfQGZMj8Hi76fBtPykwkx8A0LOJgbCgU4xwv7sAMJs6bHBCHYLwjZkg0KrcWHC0awPQpADakFZLo7C6RYnQvvoHMLFhJNC9OQ3QZ9itMK0hEZCl8Ccwgmom0GgqilBBiCfwoA/oT4Ugl9CXDebwrx1mEJ2J7HBoE0IwFhEBMHAIRZC3GDeweQKIULg6e6/gHH+weDqjEEOpS5CYCSGQNrN/sH0FurCIO64QIbkjsKGRoZC+EnGwivju8KNPMJBqiMBwnr9N8KAlsXCd7szQsDCRELm7hZCgVsgwgBhq8BRKmBCOCJsQVCSzMFBv5DCviQfwhYhksLAqR/B8PgQwD7xlsL4KZlBGO5eQnyVG0J6e+FBxnI8Qr7UCMJQSUHBiPuEwY/MJsIOkihCTg8WQgB6z79n4ahCLfSBQiJmZcI=",
            "dtype": "f4"
           },
           "z": {
            "bdata": "2BpKQyaqQEN8bFtDsyG4Qi6qN0MsRThD6iRlQwjM9EJUq7JDbe2+QqJ4XUNG5zdD8jgRQ14EtUPLg05D3B4YQ/lsv0OgQGpD3H1LQ892T0PACjRDjU40Qyg5bEO4OSxDllc4QgiM4kKRlZpC4e8WQ/JgP0Pgx5JDCGSAQ8g770KmB6VDvosjQ7xCUkNaaZFDsg/1QgL7oEOk9ihDZsMiQymPTEPgGVhD8f1CQ3aeg0Okw7JDsGUzQ9hk6kJIXZZDZOPYQmqpZ0PO3V9DuP1MQ+LtwkLL4QxD3gsHQ34V0kLGEkxDIzvvQq3SBUNEeGhDOzzfQgKZA0NIPqpCe8kdQ6Zs7ULNq4VD4AxxQ9ZjNEMUSxZDWCrfQuz+AUPCsQdD3WF7Q7gtrkOqeZpDCoGNQkhmZ0OJrVRDiBEmQ9UXJkMyeUBDFjCHQ6hyFUPPRB5DDv19Q1uwVEPA7AhDWD84Qy4SiEOf7WBDVL53Q58igUJ8unxDqa9SQ1q/vkJ9zj9DinWCQ8Zq7EKPoXJDPStEQ7H8nkONlZJDDZCIQwS7Y0P+cnNDLZ2QQ2Q7kkPE4YJD8p7mQg3ZU0NcEUZDNnGtQibgzkJk1SZCusBXQysPiEPsnKVDmS1BQ5Q2HkP6KaRDCp8hQqgQo0NFv8BCpuCTQ3IG3UJmQ0VDzFJxQ+Lrb0PNPodDCjKMQ0FYEEOWNTJDRc/XQk9BbUMcKFZDnVBCQ3PODUMXy0pD4A54QwcTOENeR45D0IrvQq7vk0MybwFDtsUdQ5YpVkNwBnxDOvkNQz+vQ0NSXe9C0PozQ2EXbUIpLCdDBKaeQyS9FUMOlplCm2dvQ+nnlUJAQ2ND1lAUQ8dIJEPx1nBDTFCCQ+ODRkPuYkZDZqxnQxHNMkPdq1xDbJsTQ1mZG0O0GfFCgyHKQoB4M0MyP05DfDeEQ4XgpUPI/INCD9FUQ7eifEM0iIJDKhyOQyptokOEMC1DZKkCQyY0KUN9yCNDDCR8Q8KFSkNAU6JDgEH+QvzdvEPWFIdDmhl0Q6btk0JqmGVCkx25QrzDgkMDCbtDXO9MQ+wOIkNCGQdDGRlQQ2ppCEPSbLpCDe05Q3a2kkPdLWhDin60QtSsjEMiCsRCsD4nQyEfJkPvaLxCuKMvQ8x3XUMCSIFCWpqZQkKakUNJVCNDj2oBQ3K+XEOfjq5DcKxiQ57tMkNCei5DCxIWQwBd4kI4/J5D6l4GQ/9QY0OJhZRDgD0sQ/PmAENPHqNCAqhWQ4X+jEPnt3dDlglBQ2cEBENoWQ5D+O+DQ07MjkNLFQpDJE2+QkKT+kJORlFDcHG5Q7je3UJiq1dD0bQXQ1I8RkNYLJFD58+FQ8pz1kJO84FDlMVmQ35AZEOE941DmzOvQmipK0N+rjFDzFMIQ2wifEIsmEtDcWJnQgiVNEN65YxDcq+xQ0ZFFUO10xtD2qP/QszLfUNRkUFD4IY0Q8HTE0MDnN5CjCVFQ7LgS0PzLpJCYiOGQ/7C70KY0GFDIGEoQ/4GnUNcVUdDJSOPQzFUL0Ob46JDtGC5Q0hkhkPA7RdDzdpHQ5Cfm0OhwgFDXoczQ0ZUNkNYnDtDdjhPQ7vjQ0Muq0hDRNeGQ3L2vkJMqYlDlFkeQ9fD+kJKxHpDhamAQxxp7kJtTY5DIv+SQsL+qUMas4FDKy14QuZ3iEOm+cdCXYJhQyCsc0Nns1BD0ANBQ6H8R0O6xl9D21otQ1oFi0P/eRZDvrSLQ6nCk0MUIEFDDEGgQgJ6GkPIHYFDxw1oQxQjM0O86UxDMzWYQhh5kEOOa45C/u0FQzg00kLm0xVDjFWVQ/z9zkI1IVJCOrF7Q+YRmEOTfDJDFwweQ9xJiEMZ4YpDF8qhQ3WVJkM=",
            "dtype": "f4"
           }
          },
          {
           "marker": {
            "color": "#00CC96",
            "line": {
             "color": "black",
             "width": 0.5
            },
            "size": 6,
            "symbol": "diamond"
           },
           "mode": "markers+text",
           "name": "Cluster 2",
           "text": [
            "C2"
           ],
           "textposition": "top center",
           "type": "scatter3d",
           "x": {
            "bdata": "mNnAwQ==",
            "dtype": "f4"
           },
           "y": {
            "bdata": "G8ptwA==",
            "dtype": "f4"
           },
           "z": {
            "bdata": "BbFDQw==",
            "dtype": "f4"
           }
          },
          {
           "marker": {
            "color": "#AB63FA",
            "opacity": 1,
            "size": 4
           },
           "mode": "markers",
           "showlegend": false,
           "type": "scatter3d",
           "x": {
            "bdata": "dRPYQr2K6kKaEshCcEm9QS3YPUOPT3rC6WsCQ3TdjUKozJvBqhFJQ+IWh8EJZalCI90cwkQraUJUQwtCAuDgwUyW3EIM+29C/jrhwZIRlUFhANTB6vm6QQx+7EFZ7vbC7KwoQQuTJML0loHAXp3PwhhIGMJA1ZbAKNuCQm3ijcKO43jBaMCewdGtV8LGnCVDCl+HQWbBJsI4hR3BWqGmQRhqDkLUp/LCGBhLQpBWncKgVEXBW0EVQ/A7O0PuqBHBuN+gwRhCi0IPf9rBngGHQhAZWMEjJq5CgCVUwtlf30Iw/gRBlnBQwrnuDcGqmhFDrjbcwR9VDcGvmhDCgNzXvzKiskKOtOlCAGzRPkyCI8KP3u1CohnUQp59XkJ+h9fCVDZYQtuuE8KPgHzCXsyKQShpaMJin3BCsubyQrUFG0PMqmjCyIS0wiCtzkAeh3dCkuF+wriIFkFIQYRCV1cDwUDIkECqQfRBQ3n0QsUpUMLQsIvA/hZnwkrWJsIdbaTBlM4PQ4BsSUG8KBlCsTdWQ8QnCsJjMBTCkgbZQVuBDMHnwrJCThHqQuB6xMHARBXCsjfUQjoFVUPFqJvCANPVPpyEb8JyhMhBrB3lwSBkh8ISi4NCiLBOQZZXgMFMsS5CU/9MwkiGo8EU1NfBUvsEweALt8KkayJCDFjfwUBGJMOkURpCSigYws7uJkI0bYFAiamIQhBq7EBNo6LCwMaTwm/rHcLudLVCJLdDQpDsq8IkjIFBLGi8wszGoUIYOiLBguhDQmLABUHcaXFCTxobQjmAx8HbSzbCypZfQh+N2cKRRaJCAJh1wXD6R0Gc1wPCoFyPQZqrxcHwM7rABMHiQQREgMAdX4VCY2QKw7RiJ8MzIIZCaKsdQXkyO8IECURCkMiCwf53QUPII45ABUOnQhof7cE9Rs1CeSC1Qmb5tcLxdwFDgnwrQ/8eBcKv9rtC+R4CQ0GppsKRC+LBjnTRwX/r00LnH8NC0FLWQaiPl0LWjfFCNflUwkjb3ELymkbCgf5hwmUoJMFgvdXBUfbawu1MmcG85gdCAF6PQSvKkEJBNMfCJu8swuTUO8IeCBBCcD42wUMu/sGmPYJCAm2mwm8Ji0KAwYfCPdu2QrSOQkJf1UxDVw0GQ4/ircIOXJXCVA/hwZB9qkKKM4bCNDlRQpzH88Fi6AVCyCNCwl5Jf0Jos4fCgIj2v998O8KVYN7CucRBQ6Ib/MH6R/HBHGynQsAqg8LA0BJALrdJQjzErkL7LZrCAFw4P/oP+sH+R5LCLkiRwgb7eUJ+P+5BlJoKQjIzHcJgzirBrHPwQhc4I8LxXmnC36t1wl58ncJClSRD3CEHQyznhMJc3/JCiPYGQixFF0M4CvLCqgNnQkBlBkMUHVZCDOCmwi54QkIiguxCQKl7wHg2l8Ho+EjC67cJQt+k50InO63CQcTqwdSGuUIai7xC7Pk8wriCn0E11GdC3r8bwoFzUMIVbJZC5yeWwvw1jMG2FEnCkDhywc4HUEIQ4lhAAlUawaBkgEJ68V9CDmzXQq25o0L/OhnCVPDcwcMyF0K9Yh/DoMdCP6hK6EEa7iJDEt7ZQnykL0Mut1RCYrXQQiSab0Il1zRDsJXZQeSIjUDE0nzCnBa8woe8EsH39pDC1Kj5QXKzx8Jgmo3A1LweQWDh9D8MlIhCkZpmwrr710J0vvhBrEVaQhC+/MEYqyfCLAYBQY03dcFH333C4JBPwsAvaUJir3FC7KrTwatak8JEyiBCcM0NQb7dYcISzj1Dhr4bwo2TB0LgsYjBAJgOwHD9f8Fk63TC0zKqwjoC50ITsTPCcF41QcQiuELwEUpCtgOWQXyRw8IYR9RBFpSiQR1DB0M=",
            "dtype": "f4"
           },
           "y": {
            "bdata": "49gQwz0IvcKiA4LDruA5wij0McMunGPDy61Ew0QK1cKEpRXDhCsPw6bV3MKo4YjDQmSvw+EqysJfGrPDjwWBw9p4fsOvK1nCvLKOw24uKsOMo4TD7yiawruEXMMmq4zDd9bkwn+OYcMARIjDJgdgw+CxbcP/vzHDjQLPwjIHJ8N95LzDLsr3wqLcQsMIJ6nCZc/owvo+J8MHMUPDaupxwsGmf8MC5kXDw8IwwxnrWcNlflnC/NKiwlAWu8LIbBHCLLqKwnFvlcKmYQfD96DowiOToMLo1aPDWGQewzr4w8LNcWzCnCOJw3TXHMNwj6nC9O4Uw5wxr8OvFMHCIdLBwr4cdMKW9LDCHdypwzh0f8KauEHDCGQtwnyyw8Ia4z/DHjs2w5f3asJMFk3DFLMfwyi6JsMwdLjCuZorw2h7cMMMCwTDf4IKw4EyQcPUuQ7DMFBxwwylEMISMKfCz1Uvwxy+wcLlC5jCfTbewo8QMMPuS9PCi9fAwjMZ88Lj6wHDbb5nw9902sIhPyXDaGDuwmrhs8KrnirDAQ1mwwi8r8MwJS7Dezwbw48XC8NyrkzD8ib0wmoGxsJ2NNvCKD7VwvImCcPmEnnD8KPgwhSzP8Nl7GfDDXPcwuA/HsNSRY3DFqQUw66Tl8KNRirDVH79wuipZMNcgx7CP+oBw2Mql8P8AVPCydZTw7BlGcKT1APD8FOGwghBmcPeeB/DipULw1TeIsNmE4nDscA0w6voF8Ngj0TDiXU2w2pW3MKKsEvDMu8Cw57YH8KXnYzD1upBw+4dS8OkQhnDk3N4w2j5n8Piio3DoT33wldLYsMUThTCqoCyw1RfvcJVjYHC76SQw8AYgcMEhnLDg9iKw2hFksPsvbrC+1VOw9c/CcNx057DPbpMw85e9cKpWe7CIC8Mw7OTgcIuSJHDpvkHw27DLMO+aK3Cci8/w7anjMKHrzvDWhWZw6RKisPKfQDDZ1qWw4hTXMLCHr/C+AbdwsATWMIzYhrDl/wUw8hj/sI5guTCLKGFw4boEsO9YkrDQPBjw9VJPcMqhEfDZGP9wmkdBcPquJLDFzuFwl1418Id857DeJgTw2IyecML2rbCTuhJw/uX6sKrpRjDfCFFwybOQsMIS/jCfxCBw64AU8Nz1G7DY9BywkQHIcKstPnCujQmw9yKpMPvY5TDlcgbw0joPsOCrL7CPWPswjD6EMN0ykfDrAtcwzF/7MKFR53C3YTlwkhlHsOijkrDRq5ow+Y+tMImPwXDM1LNwhIH8cL0+1vD/5lvwwZMUcNC/ALDbFW2wzXeacMjwzbDoEzFwknIo8MdevjC3bnXwluWM8N2TiPDQcWawqlD+8IIz4PDJLeawjrtnMKyrpzDvpKows41MMMomGrCHc8gw+yfnMM8GrfCSusxw5zrW8LX3AzDYKO4wXVICcM3zp/DeivIwi/0nMIiLunCLHqFwlvk7sLfugjCwLSYwnO3gMMC4TXDhi5Nwyx+TsL+bzvDfSinwuxKDcNVa/fC2aeHwi5Zt8LuFRXDUOSZwsR7QcPPTRvDHvBcwrtmDMP6Ro3DWz9bw6HXEMPcI+HCmiADw9ah28KIx43DdsFgwzNIZcNUAgbDMO8Iw6KqB8O9wXDD1sKjw9jBacMqsIjDVDUew3IaWsMD1qnC2QuuwvRwEsNT7GTCumQPwwTRhMIFT6zDFktvwghF1cJH5iTDQFQrw0RzpsPwSYbDUmt/w367b8O9Ft7Cu+v9wmbMesOnQojDe4TtwkUuEMNsjR/DiY/bwmqKp8PQtoXCaDKSwkhpqMJu2wHDbiaMw4iExsKZHzTDaE2jwvZbL8M8NSfChtHawguDIsMloADDDKBIw8i5uMI=",
            "dtype": "f4"
           },
           "z": {
            "bdata": "EL4vQSD8VUCUwHzAyyZpwoRSqsJgCj3Afc87w1z240EImEVBYadlwtLs0MLuNpNBgApqwliIUUGPoInCmFA/QC5R6MIwc2BBANPdwJmoYcIQ6knB0KZwQWFDB0IexkxB8ZKqweaVlsJWIH7CwA5CwxfoEcPEIaLCmFzxQV5PjUEqT5ZB0qRFwbDU3sKSyZ7CjI4cwqcdPcMHsDTDLDihwv3eVEKwL0DCadFJw2YkwUHAoYvAiJIpwtNEa8JgLBnC+MuYQOiwD8IaVwbCv14Vw6K0w8H7OUVCoNJIwnaVm8LtOk3CyKXtQWAlK8Io7FBBkrSIQZ3oVUIuHhLDyBfIQZzFYEGyvcPCVQlTwnhSE8IMLNPBkOokwmBi7sIwJv/APjvTwnB5f8EKkR/D1BNuwvpAD8JWnpLAoxBRwhpPAsOYg57BMAjTQAYN3kFDSRfD2hDowhqJ9cFwQUfC2CvawMfFscLMN01BUGo5wpi56MHgas/CiA1CwVi3UMG+8GTCnQkTw2Ay1z+2AG3DApFpwnwE08HU8tbBQHUlw2vFT0LQ/P1ARP2swjPESMPm7DdBS4r0wrycH8LAfwXCGLeiwmTCwsLAjlPCQMOrwgC6DMPzjwpC/FGxQfJLasLKWCvCyjg8w/mQDcNfeEfD1G4pwywGUcK4gWbBLNLUwmboM8GWB6vCIHTJQUBnyUD1WCHD+IgswuDqCsBAnaPBbtzCwfCQucKiXo9CKqKmQdSAoMKR5erClt/rwqBc5sLTpW7DzuHawmnhBsGuJ7LCRPn9wrJYQ8Kmp/zCLLciwkAn/MACKFrCkSIKw7RIFcM2I7/BKzo4QnAwQkHCPZ/CHiQ7wx6mxMKHkC3D8BWawYD0X7/lkQvD9mcxQqgVOkGs+WDCgTE+wxlQlEKJWArDLJmoQRrud8LFW1BCuI7rwaQP98Lug17C0FmzQGC6zMKulrrCJt2ewnFGJcNqVyFBgNVLwjB0xD+m7PPCQFtUwuAc/kBmXYTC8CiDwTiaK8Kg/A1Baq1Vw8Jv2sIAhLTBAFWiv5htnsJjKZXC3NVTwlBt0cFAT4K/85EYwiytFsM45GJAmmFKwtb4L8MiOtzCYCJYv17eqEHqTfHCRw4pw7J2mMIJNA7CORobw/D/h0GUQUPC1ETJwmC4TsEsxgXC+B43weDW0EBnXjFC29o7wyaKaMM6UBnCJHqhwk4qycJi+DPCQdQrwvB4wb+8dW7CkE4Ew0y9hMEl/gbDHu2UwjgTpEEepsrCBufXwrjBk0E4rntBzMxowrj2tsIgE10/GjnywQeD58J2BfvC84agwqSWBkLgIb/CJqpQwlwtwcKyDeXCSBlQwkIDOcJevq3CYmGzwqg7a8F1CpDCGKcYwltiGkJ0aNbCKoMBw9IkzsLUdB1CRo8YwnAMXcKAE5rCIAKDQVQpy8E7aATDxvYlw0XLn8K+lzzC2FZxwjZx0cKIRapBI1wFws7n98IVUAPCQJDYwkhHzMFoJqDCBC+LQbCz5sIiJuDCotuBwgSZusK+eLHCGmUHwvAdsUHkZH9BwB8oQRyAFcFw59nBXJOwwvn6M8PgNI1A5KhGw2gf2cAmOXvBxdMPw2Quo8KS6uFBDuROwrD6HkA4av9BTOr1woa4s0GAqJjBIqPuwkTDncJIRfnB0H+CwogfYEHQnrnB8JOLwYQybcLFgALDMLTWwb8UBsKewg/CytuawJfUE8ElqmfCAEFbwJLdnsKyhTbDN6eQwvazVsPO4o3CSKPYQdAraUHANStCOxyUwojFlcKmMNTCoIMIQV8k88JQcyvAyIV7QWYAFMLACDPAsqmBwjc9XEIMjEHC4IFFQXh0c0DnbBTDphivwr5Ls8I=",
            "dtype": "f4"
           }
          },
          {
           "marker": {
            "color": "#AB63FA",
            "line": {
             "color": "black",
             "width": 0.5
            },
            "size": 6,
            "symbol": "diamond"
           },
           "mode": "markers+text",
           "name": "Cluster 3",
           "text": [
            "C3"
           ],
           "textposition": "top center",
           "type": "scatter3d",
           "x": {
            "bdata": "Ak6DQQ==",
            "dtype": "f4"
           },
           "y": {
            "bdata": "UE4nww==",
            "dtype": "f4"
           },
           "z": {
            "bdata": "qY1nwg==",
            "dtype": "f4"
           }
          },
          {
           "marker": {
            "color": "#FFA15A",
            "opacity": 1,
            "size": 4
           },
           "mode": "markers",
           "showlegend": false,
           "type": "scatter3d",
           "x": {
            "bdata": "7mmkwmfIL8PY/IHDYvIxw0I65cJJMi7DHXidw/6MZcPA4+nCUgU6w7IvacNGyxDD0k+8wsk2xcKuO0PDWrs6w5JFT8NQpWvDa9NqwyvRHcOrgw3DBzZZw7mVy8IIIDzDu55twxE5fcNsJADDG+1FwzRJC8OleQXD2vMdw2LqWsN0dwbDgphEwzGnpcNQiinD4qY6w2yruMJI+orDKPZpwwQm78JQqxDDNy5kw5v2EsOegyTDYdyywjL2LMPv7l7D3iL4woa3GMP6xkHDgqoQw2zQSMOoGUTDdtTuwlEft8LNXRvDgpoxw03u6sKs9kLD/ospw9iN68LvUJLClKPlwvQFi8MDPBzDn3HYwjLUjsPiDovCGNHywuX/EcOQULzDajVWw23hrMJlYz7C05LMwhbnEMPU5VXD7053w/gOTMPUiOXCic30wqeB5MIcIzTDogjDwvJ0UcMhehfDHaclw7elHMMqVfbCnDQnw1MOfsOzpD3D68zwwlJd08KGZ7rD/4RNw7BIp8KbQqrD6vzBwupwMsOak2zDEys7wwzyG8MOSBDDNE10wzUMusJOFGTC9fUWw0zYxcLwxjPD3oaYw980QMM8QhbDMgkiw2pGasOMudzCvZAxw2LPFsMg07LC+llmw8gXS8O9UX/CxR5Mw7USQcNOJz7DxOSSwzClJsN+kufCXhbmwtTWjMJG6kfDswUgw5zFoMIKwdXCsso4w4p+UcN4jJLDlIyZwoUeB8NQmCjDQgMJw17UbsNn3T/D1v1Mw5CtTMPUPSLDE8fGwqv/AMO2whLD45EGw5czRMPCqLjCcXEQwwa46sI8oODCfmtbw40cX8ORjIDCTj+Cw7Ws4MLOtlXD5623woTAhsME4hDDSvnPwoBHMcM/cFTDdmOzwo6fTMOQ64rDRvyCw86gX8NuSk7Dye5vw7xdjsKvbCDC1HzVwqldX8I8CRnDxO0Aw0z87MIolInDER0kw6Wr18L4rK7CBvc1wyVrlMIbIh/DigZaw1WS28IplgzDdYl5wkq4BcOOPTDDJocpw/ZMYsMeXDzDS/BlwzA4A8M5w/LCZvQyw6XVW8NMwUvD8WvdwlN7KcNKAi7DDOsaw0qe0sKkcevCsUEdw2cmgsOLtXrD+2uvwsaKbMP0DwfDgOsawwa288LG6kLDzbhBw5jMk8MJgtfCuLE1w/tvcsOgotLC7532wk4G8sK61KXCdXhUw7ZsgsLoLCjD7W2QwxC51sJU7W/DaDU8w+Xf58KV1gHDUZfkwsCXcMNkWKrCdt1fw8rv6sIunUXDxohBwxgtn8LtcF3DcEZLw29Hi8Mf2R/DZDTKwruTL8PLbOfC9GOfwvQjSMMR+8zCrA0eww6WM8Nuir7CFV0+wzrMRsOcCejCOhMRw++vG8ORltjCpNjBwsBLb8Pjg4DDuYsfw4RMeMOK5KTDp2IUw1nZi8MwSGPDibr8wkivLcOcZhXDR/j1who2B8MZUyPD1rxowiSzL8N1vZHCXfHIwqNePcOv9ujC5M6Qw+T1fMOfnA/D2Bg3wynqIsO2GgLDnekFw8ikj8OIg7rCSI/5wv04ccLncRrD92pnw7Kvc8P3yoDDmvbSwuyBFcN/vn/DItgAw8uqQMPFkqfC4iOkwokEk8PxB1vDbhcew0kbVcPSggrD6vI6w1eqKMMrR4TD0jVIw9jpKcPCd/fC8qMDwz4CucOfvlzDRgYzw511uMNyvNfCsngWw2quOcPzcZfD/qoEw4g6eMM9gQrDBtjbwvZO4MI1aT3C28LBwvztssMEu4vCR8FOwwQ5TMOa49HCw6ssw1O8IcMibgXDWO/fwgHdI8OuUTPDGMz0wu8ERsNOUiHD8Id1wxehKsM=",
            "dtype": "f4"
           },
           "y": {
            "bdata": "tvFEwucFGsPiUcjCEtiNQmTLvsGwNupBOAC1wtNpRMMHOkLCt991wggrG8NEOg7DUzlgwjXlC8L/3FrDnkC2wk5R3EC4K0/DYG2vwp7jRMJbSOXCTIvnwYh3k8L+7i7Cyw7Fwn4rHEIt8L7CNp1uw3yReEICEeDC4yqTwomCjcIAf0tCUmk/QZAYVUHEUbzCgvFzw4MZWcL4ILvBqZ1/wlORGMNDEQvD5iYawjbJrMIAxJC8ijGtwpbWkMIYKQ/DOS76wko+MMNOigLD2qW4whr2GcPPWgvDBATwwQDmLMEOWj3DDD5cwz3/lMLOOc/C7DEZQSaUS8JyjSDCNEzkQSdIykERAFPDoAqywsyqscLA+6XCvSPLwuYwX8PGdUdCkw5VwhJ838LIg0rCcL3FQdKwc8K8oTbDhnmjwQtJM8OF5dbC2ma5wtBtFsOrFU7DuIgKwPoO68FfE/fCBqqowhTShcOeVxBC5ZxRwyxt4cHODBLDQm/DwvACiMITqE/CXkiywJ49QcJimgFC9+cLQgs9vcJps+TC6pmSwnokg8KuyVbD3Dc+wzEQgsI/N1HCAi7fwgs/EMPzVrHCJaj8wnldo0GdX/TCfeGVwi1fy8Ks7wpCt+Anw8GZO8OWWVbCdBI6QkX1McIdy0vBeCAZwyM2jMP4A4LC2WMPwzUK/8JC5f3CorR8QehqEcKYzELDIetTwxrGhsKE2BjDxclqw+ZeVcNLO5RBlElFwt7etcGPM/TCpVIUwx6Ud8OmqtzCxv0bw69uLsO3RR7DJUqpwnSbRsNK6YbC4oiOwtqWGsOUGZfCY8RFwzavA8OX6ObCK78Jw5jVGcOVUn7CTL/jQa6ah8LzpQLDn+kGw483ucLERwrAhP/WwvyHFMKOo1jD5ZqgwjFr/sKOQlfCrtfRwsfjT8Nk0rfCdDEVw+Cd5sHaK4DCODxBwjR3fsInXsfCArX9wuYOjcI8mHZAy/eywWqrXsLwnhTDl8ERwss+b8K8ukXDXuYSw7arEUJWV2nCOO+4wWcUH8N7qhjC6ZApwxGbcsLufLrB4DkPw1o2DMI4IrjBIIEmwuBwy8KAVApBO08Rw6M/BcOCMZ/CXvBJQrz3NsOrcHXCPIowwMdPH8OoTIZAlRAQwkMDQMPgNrBBA6/cQUM3p8JqHpdAdl9UwgZhysIctJjC24+Hw2kPUcOAtEc/F9DIwkS8rcLO5eTCuBWFv4yircLFhnXDcfYcwiQiCMNoCBlBMEfuwbbUqMJKYjJBjFMcwnOC7sKlB8DCDclAwwxDucF7TkjDwnpAw6ESIMKC8AbDs4OKwmxgKMOmLlXC0HfewbINiEGyZg1BUMEiQVvWKMPj0gbB9G+2wBQEgcLrGG3CUj4MwvBRW8MN/QvDeKYywo479sLJwvzCwE+DQTQYEMOoqi7Cen9bw5n8XMJ32qnC2g6vwvDCt8L3I4NCdZYnwqg3GkIUN9LBLhKTwlhCzcEeNajCIR6BwnhY+0EQofvBwKu5wjuRuUGHYBnDMQ0Vw4BWVUAIN0zD0Jg9wn25OsPndP7C+o8AQV2Lc8LG3YfCRhLswbv5rsJzxIvBIcTNwsuEYMF8dbDCinnwQb6jacOmjFDDwZ0Qw1K6rsLIhOTAkBibQJDdQMJWaWjCS5Ekwl6DR8N2sy7Ch/EIw576JcPMqhdCHIucwoZFs8HpIgrDYOwLw8ARlT7m17bCnJ6JQSKgwsLTZOfCVhliw7Qp/MJlK+DCbTIxw2D6LMOzDQ5ClTcQwzRyy8G/jinCXlwew9Ftr8Jof6rC6//3wkStgsNpNArCcBOtwtCLScNrmMfCsJxnwXKPW0HGHFTDwAgfQJLgvMIkRXLCw0Ebw2STB8M=",
            "dtype": "f4"
           },
           "z": {
            "bdata": "gN7qwrUNb8IO9qHCDm+5woqyg8LfJfjCRjEPw4C7PD+cSOXCSHj8weioJsKzDwnD3HlPwjCkBsFJqPzC7QV5wlQsgsI6sa3CqLcdwmV4E8Pd6AxCjN7mwlCi3UEYkovC7nQOwxzRz8LAhTrADWElw6P9tcJY05HCYtafwlUFNcN2yuPC5OXYwhfuL8PYHO7BRsatwgBY4T3ePFrCjnTHwlt7FMOaVbXC0/IWw/DNHUGeojDCGzDqwoouFMPTZBDCXDlCwtOyIcOVT43Cij80wVabuMKYse1BKGn3wnZt0cIcgJDCcFz5weq5S8E1dg7DJvpDwgAS38HsfrvBSpXCwphPrcKc147CoFykwKCtPcO0mczC8NfJwsIKlcKdIQ/D6GNKwn9Z/sIMdczCa3tfwl/DG8PQgIHC8OrEwpliSkKcItnCYk9cwryxt8F43w/DGyG5wswuBcOMDwTDhH8xw7BE5MI3gFPCDv+HwiDdoMJ6QA3DgiauwqCkvcAtgO/C8/S8wqCLisJO+NfC8WlkwsAnJ8H0Q0TB8U8jw/osGMOALX6+mKqBQUw/tsLAcIw/ZL7NwkD+o8JKB9vCddmuwupxr8KC0C3DsKUdweSdKcIKzdPC8Bsbwbp9PcPAwfDBULPQwq8BqMJQNhbBytNWw/ba9sLvArzCTsxFwyQiZsIELhPDip8swmAph8JsO9HBQiw4w8ZbssJGp6bCwJFJQcjn8MFmXLrCf3mZwfzipcEIUHrCHC7nwox8tkA5L5fBUGyrwnAL2MCLZyDDRCO9QVSGwsLAiLfCZwHlwujvGEEWB+3Cw7Y0wwlu9sI72RPDUNC1QEYUR0JU1+rCZyitwuCW9kAY+ZLCddm5wghxrMF6/NrCciilwIzCFsMCRovCdB0Jwm6PAcJSbs7CsMM9wSjmXEGF3JXC+08Jw/DMJcCuQ/DCxqTswhReosKQG77Ckg/jwijFKUGZxbbCcx4YwwDzEsL8ahbDOP6VwkzZQMFtqhbDCtsuwo8ldMJf/gbDTIjxwnYRSMJdkhXDTl+SwaRWFMEwMnfC8F0lw/ptvsK3OavCanAcwhZ/WcEYjJvCnUapwgDAU0JQXofCuWjfwpo8IsPwxmzB3AULw2MiW8LQ04TCF0Z+wmzPIkHl4a3CCaaHwtxkh8EuBFnCgO73wmBVKsM+q+zCuU6kwRD4MsAo8LPCWwPZwnyyy0EL8BLCcwoIwwKTAcMiRMnBYBwjwzNjscElqgfDr6+QwhqdlMLjhfXCVid7wr13QsMGh1bCLccBw7O5CcJ07/xBQCRdwsCVBkDyErDCIHaSvxSHRcIgZNfCpKltwo4LpsLxNO7C1A0jwliaDMO3EW/CtBP0wiwtLcKomglBuoWowtJmIULEo+PBcUm/wo8BOcMawR/DcWhdwgCs8b82sjHDADM1QEJbGsLwSODCgM6/wp8WLcNKY+vCTPuOwsE0o8L6qG3CPkSAwn4yzMLvuyTBQjzqwZBNisJ8IhrCaMaKwni8zMKsCo1ABvIPwli968LgidXCQrEBw17KjcF2i87CIlDvwgYfRcMAgybBf6RNwlT55MJuLfPCjHQXwwcM+sJk68XCP/3bwoIZnsKajujBJXwwwwjo/sL4+srCQELywjujJsNpinvCBHUbw3D8qEHwxcbCmCbgwDKE70Fmvf7CAOTTP45d18IovqXCNDCswcRi/MLfQU3CCCOMwvDdicHQinNBFPVcw/7HYMKmXczCfyUFwweMWMMzkJHCIcDowrSGTcGU6tDBQtrrwpZHqcKGPBrCsNC6wNhnw0B4MHDCAgLYwsT3BsK0tfDCVAvpwWKktsJJSFvDLoNuwmb36cIeNffCXDUHw8JzV0I=",
            "dtype": "f4"
           }
          },
          {
           "marker": {
            "color": "#FFA15A",
            "line": {
             "color": "black",
             "width": 0.5
            },
            "size": 6,
            "symbol": "diamond"
           },
           "mode": "markers+text",
           "name": "Cluster 4",
           "text": [
            "C4"
           ],
           "textposition": "top center",
           "type": "scatter3d",
           "x": {
            "bdata": "la4sww==",
            "dtype": "f4"
           },
           "y": {
            "bdata": "yHmlwg==",
            "dtype": "f4"
           },
           "z": {
            "bdata": "jjCgwg==",
            "dtype": "f4"
           }
          },
          {
           "marker": {
            "color": "#19D3F3",
            "opacity": 1,
            "size": 4
           },
           "mode": "markers",
           "showlegend": false,
           "type": "scatter3d",
           "x": {
            "bdata": "mXU2w3brcsNp9QDDRWQzw+AhxcJPayHDQmSRwh1WAMNDFk/DQA0qw1D8Z8POAvrChk0Cw532AsOqXgrD0MYJw9qcTcM+BD3D+ekEw6KGLMNNGoLDDEYtwwsWicNafjTDxkh9w/X/PcPhinzDgNsnwoAZA8NgMk7D7AotwwFtgcOm8VvDYqppwywYlcMEDAvDzkWww6z3JMOG4CPD9kh5wwjPcsPsSQvDcp6Nw1Q4XcM3LkTD6pWIw5rTR8MuYi3DMLCOwy8+ysKY1DjDocYQw6kAhMPDqzXD/AuKw/y+QcOmM1rDu8JDw7qzscNA+YHDyeMhw4G2LMMYD1XDVlGww9VHGMMS44PDzMSHwx8aNMMeaXnDjxcUw9vaRsOiC1TDgZ/MwjRZN8P4GsnCjx5ywx1LpsPyqCrD85t3w1/eU8ME+fLCejMvw02vlMMLNJLDwrVpw5whXcM4OiTDsAOAw1gkUMO/iTbDHIBgw0bETsPczEvD2QCiwjycg8NymKDDAPByww3TNcN07njDX7aCw/pjaMPw53bDPruQw5zoR8Mxl13DYM62whAraMMFx27DVj0Fw8RfK8Nsn1/DlBxkwx1OAMPC9k/DctMtww4NNsNQFcTC7wzJwtjgI8MU+ELDjNIpwxAMG8O8JPHCbqYBw6hrLcMBMlTDl+uFwhy8S8MlB0fD/cTJwmd2WcMKS1fDgmnzwpQqasMLaijD9ALBwyANssOwD0rDdIiNwwqmtsOe9qzDeC9rw4IE38Iurh3DrRc4wwupU8NmUqDClMovw4GIH8OXC27Dxdidwl/ngsM4gvnCSyN2wxeiasM2X4bDnpxGw6Hxe8N4BmrDoOWwwx5EQsN9/ULD4Kguw0TVh8M0CkvDQKAAw7S1fcPqd0nD9UFCw0kvNsM+g3HD35clw74HFcN4faTDpmt2wyoaH8PsqE7D8KEsw/wq6cIORnDD5LXowpMSN8M48LnDlEwaw/ewtcMfyH3DwIk/w4AV1cJXB43DhIHCw8Z8hMOEjyrDBkRBwyoBrsImRLPC4DCfw56nYMLULXPDBOAiw+hPXsNx8n7C6MOmwmo2g8O8NAHDjXEEw0oM/8JbAV/DnFE1w6j3HcNCdazCTARNwzDQCMPVtbHClnkxwwreYcNoFJ/DQb5Fw8OHGcOTqDnDsWhkwxP9S8Ms6kzDgkcrwxy7nMMUImLDtFhAwx95ccNyF4/COGOFw+4GgcPys4DDiOp9w+LPbcN09qTDsTZQw0KpUMNwQBTDiChAw8BCdsMJQ9PC4Mh7w4O0RsOOdwfDg+IQw29zF8MQi07Ctx4VwzVba8PWjUjDtuySww87GcO8b0rDyqadw6ICS8PUu2fDMX1ow/QtRcMDozjD3p8Rw5B7JcN4IL7DOlI7w8Vyh8P/XKLD1XqtwztfhsIghyrDJx5Xw61fb8PWOpjDzEKIw280zcIBfivDprIVw2I3lsNwl0DDBYjgwpTdJ8PFehfDJHw2w1tYYcMeToTD+HNfw0gSZcONRDrD/deOw4ycmcOGpe3CkISNwy2OKsNckybDplrswgvLScOOQWTDMjuTw+7t68J0vCTDmOIlw/HzB8MItfbCG3j8wjryMMMjAzHDXIsNwxTIVMMERFfCR7TGwk/RTsMZPYDDBFJJw2AnisMk3ErD2r3Gw5JpFcMJjt3CMkoHwy57NcOtdUXDWTt7wzaWXMPum4PDE44ZwyI9KMNucoLDfNKIw9GpHcPEWdDCwbNaw36EE8MttKjDJOMLw/4y+8J295vCYkIxw9H7qMIOS2PD9icew7zydsM2VbnC4HE1wyspBMO9r4nDtuXXwvC/LcO2qvLC8YIfw377WcN8A43DHLs7w+iVAsM=",
            "dtype": "f4"
           },
           "y": {
            "bdata": "Rv69QQBCfED4p4xC5L/CQlwNScJsIN9BuD5bwQcvhkGKPoNC+MsUQskMEMI/4hHCNUAUwZ66N0Jy+QfCoPHpQdrnD0LAyspCDD0GQpkmnEK7y1hCgDngQif2f0J8gnjC83vhQoAHi0HuAZ7BcFLrQE+ZtkIBAmpC0DmEwNK7+UKGXEBCHiEDwy/aBkMCfYjBJ7WDwjB9L8CqpbTCTvVzwn3MkUJw7DRCjZRawSxAV8L4jKlBTmusQkTrecAUX65BkNhwwVAEjsAm1ozCygm4wcxKs0L/wqFBgpdeQsQnoEKFH81CEw0cwpSWrkLm5cJCBE0XQuTADULKj95C7HKrQvW4d8KQcqJBJ3PyQth+4UFUItrCuB+GQgQum8F1mpFCsBKjwTLArcIrUiVC8dqlQWEQY8JPf59CjcFPwqkxpELD7DdCCylJwamA8UJs8h1D2IwKw/NvB0O/25pCA9LAQmD8B8FzAwNDliSkwqm8BUPhCplCrLjSQfmZoUIdVyZCrc/3QiRTSMLMITHDb5zlQnpLdkLkURFDoBCZQmVYX0GNaQNC5J5lQhp3pcJPWAhDwiBZwpKPLsLke2BBFEISwSTxkUL1zoFCOpKHwQ9W3kKgTTlCF9YMQrt6WsLWIVdCUEz2wACJK0A2hgjC+wBOwlucn8L8J9DCSJ0GwnWqGkI8RgtDcn+jwNeExkJ3QnBCcOhewbo08EKcr4ZC2CkoQLDQbELvBExCMP4kQ9oVsMESEbTB8nDlQmM4XUL9o8JB0GmSwFZGm0Kgb8nBQ/fnQNSipcE4Nf7BFBAJQo2o+EGrd4HCAEfMQpt/MkKKcpzBANRuQk7l10JpwBdCzvwAQxbWLEJ1f27CzKFbQvpPtkFKhnRC+ExCQn5BiMLE8WdCJlTFQo/8KULeANFCByfsQqWJx8IxIPdCEIgoQYqPy0IRdnNCOPKcQk41j8Lw9i7DYuYjQtTeO0LMzy3CbEcVQkc2s0JYpM1Cm9tqQW/eCkGpVRpD6kNyQlEkPEKUxv/BXN6twryFNkICGoDBlZBZQstwpEHX4M5CNnkkQqyaRMKYQ5VBAGjJvjsxeMI01dzBWb9jQtOP5UHBO8pCu5ZAwpm+s8JAkEtBzR+fQiPgfEJc6j5C9xA5wt/lg8E17YRBJM2FQpaVl0IfcopCbtAmwpg4KEIoo9xBRav9Qqha+sFw8/jARL+1wtRrjcKo9jZCNFYOQycax0LEkwJCsL7NQjh6/UKDiNXChWryQcBXZ8FasilBZk7lwm1lS8H4IEhC5rQMQxC1EULfkZBCpKDKQvielUKIL/BBHDPVwWWhaUJpDwtD8ke7wQcpskLuplfCjtnLwi5LjMI6NEnCClCFwkgheUI4G5VBZOZbwWxQP0IbhINBKeanQXqoIENafxRCoTbkwqBHKUAGTw1CTMyYwjfVy0KrNJ5C/6aowi93dULsg8tCznZQwrN4A0M67ObBgPZ8P8x39MHsAKvBCCJNQjBWncIvsdlC/AlpQts1UELkmHBA9NzMQnTGikLmD4RCvO+hQhNsiUJfvNhCAJqcQWgsBkP+QjXCY+YCQ6ZcCcJeIYLCKE6HwpHIR0JEIKfBszP4QaDTPkDQe6ZCZtrXwZ+qBENsl5bBkCMnQX3y70JrQg7DkoTdQcHT5EKwovBCxmyJQXgkgcJd6S9CRUSIQlpzucLe7HnCbNc1Qubnh0KFDgNDb7ukQkgW9EFO0KpCNYUew4xKycGUhXdCuA4NQv8xJEK4CyFDAPKmQrYVIkJQEi5CRZudQhRXcULOOg1DWBZ9wlJ160Eg38XB6II2wdCluECaxpRCMD2WwSF5zUKbDQ9CpOShwWpe+UF3dkjCzZbjQmthn8I=",
            "dtype": "f4"
           },
           "z": {
            "bdata": "gKfPwM3gJkI2kOdC/VuHwnBogUJbbpdC9u+EQgivDEKihDJCS+TIQqyNu8EYxcRBfNzRQlp8QcLSNuZCjO/wQgTltcF8OOxCJJzuQn2PgMJcNWdCesySQsKOAkMAwWRBTxgLQ4nhB8FT0IFD8B+nQVytSkLAU6nCtv7KQUCy7sHwNQlApJtFQ+iZysAQQrpBCI/jwQC1z79DCl5COEgjQ6NHvMJk0KNBvlu0QsBiL8Dnt3NCnNnpQtskF8IINnRBaFC2wag+QcEc3OxCUImAwMArDkBiw/VCvoajwgg4Z0JSKhzCwGNIQqByrEB4N69C8GbTwWz61EKi/1HCkPNGwDwvxkHhkd5Cs+anwiZDS8IkBtFCE2yYwnCRy0JQDIbCHoK5QvDeLEIANds/WspqQ2LGgMHjkfVC4P/OQTi0QEK3weJBoES5QYBu+UFUSelBfgG4QsCZ2cCgZpVATe6lwvSOEUEsp8ZCz/0EQpqK1UKTHAJD2H33weY01cKVbUXC9AMLQ2UOZ0L+WQdDuq5eQsQ2h8EotgnCHS45Q8yb78FPIHjCKHMCQgNECEIEXoFCXCrvQjq+jUHS4R1DdzNLQwBn/z91eyZDADEXP1jdz0IaRqhC1Jy3weSYn0Keo2TCFJyyQoqNlkJiHkRCqVExQrEeJ0NApANDqATEQeOhUcLIbidCwAN7QrQ4TUIX3FxDYOSzQiIkXsJaPRhCKm0lwpAro0Gm549CgNIwQQY1HELwkG1BIMdDQ1j7A8EPiA1DcLzVwUEopcLgb7hAeEgXwoBv2z9A6+0+FDHAQaaoisJ/7J9CoOsDQpbF4EKqudtCMG4IwZSd90E60gxDEM6CwfCkF0C8+oJCPLFVQbT6sEIo8aXBFLHXQja0iEJQCb/ApdkEwpisEMKaAJdC+lJwQr6VnkLgE+bBm+hGQ4wD8kIU9hFBpV2jQsjCG0L4b8RC5HtPQvaHzUKcGlPB/wUWQ+jt/sJYkrZC2PJuQkAxUMFA5sNCFKguwhQ/Q8JiSi5DkoGdQogPvUHAroPAEIzbwgDG/D7ACiVCjrExQsBFCkAvRXxCUL0xwVzULkMP4LVC+infQlOOiUJs9zxDOgrTQriFckKo6MxA3HtpwaBX2sExem1CEe8hQ8C1YMBA9YK/h8sHQ4AIsT8kzTHCesUNQ+0CC0MoEhDBWHXMQuDD6cEqQ0JD7GwhQ0vNN0OLcTlC0EI4wvgjEEGgGV9ANKGjQQrG10Ig2jlApoHWQu9iDMLgM0zBgZmbQqiBykHAWWhCMgcpwrKL60LbpynChBqlQkKCP8L1eUpC/+hRQvyptkJGLtpBpshLwusNc0JUCixDzkUjQhiYLENrpa5CbqLpQuKIcEIOICxDMNCVQXutJEP4bITAAMJIwXR5nsGdnofCOGBYQZhap0DCCDdCrAeKQuZzDkIAIZrCYCabQlUwgEIuUPtC0KfhQOYlZcJL/hJDBYyuQgS6xEHRUhRD3OSjQUGZaEJ3+AfC/i4NQ5Y2L0MjLBpDGOAhQ3X6G8JDAM1CjL7SwvDXmsAQFKRB8ICoQGicV0IAMQO++FkCw5ZQ4UH876VC4tfjQgoTT0JQHQhCqPvbwSDP7cEIsc/BgDA5PzBgKEEDmwhC0MtUQbDyF8B0ix5D2FP7QbxXmsEtfQBDfOExwoxTiUKYPthC8PwGwT4F80IQ/xVDDVOQwizsTcINx7DCoAi3wSIim8CYjQ5DNOv4QpAzP8EAX4i/QpgFQ0CM8kJnyxDDVqAeQa43BUI6sj1CgBewv3RyrkIgfZDCREYyQqDjekIwjiVBEsl1QiVbr0IP/qdCsIikQnBCA8LGy6NC/5J9QhLlO0Mw1rFBgEe6QG4+ckI=",
            "dtype": "f4"
           }
          },
          {
           "marker": {
            "color": "#19D3F3",
            "line": {
             "color": "black",
             "width": 0.5
            },
            "size": 6,
            "symbol": "diamond"
           },
           "mode": "markers+text",
           "name": "Cluster 5",
           "text": [
            "C5"
           ],
           "textposition": "top center",
           "type": "scatter3d",
           "x": {
            "bdata": "9MVFww==",
            "dtype": "f4"
           },
           "y": {
            "bdata": "5LewQQ==",
            "dtype": "f4"
           },
           "z": {
            "bdata": "sFk6Qg==",
            "dtype": "f4"
           }
          },
          {
           "marker": {
            "color": "#FF6692",
            "opacity": 1,
            "size": 4
           },
           "mode": "markers",
           "showlegend": false,
           "type": "scatter3d",
           "x": {
            "bdata": "HIJ7wn54fkLgch5AFfjHwjP6hcLc9LDCpnUQQv6F+sJtrvjCTjG1QSbWncLkm5bCOLWbQgKyUsI6La3CYpCTwqKlhEHM6S3DPdKrQgi67UGm2YnCoBZjQACvjsK+LKbCAKcJPkZUycIgFmfC6NvFwhmUo8IyvcrCKPALQ/ff28I6L3rCilWaQnAAqkDOBjTDIFgXQ4RG+8L8WcBCpPjgwrtE0sGSnvbBSSLTwvJfGUJ5pSpC7PEKw+XaA0IQFJVBft4dw7Te6sENldvCRccfwks4ZsJy/lJCsMo5wEA+G8NipNdCc/CtwvOCjsEHk89CtuxXQtmFm8JMvMLCdbL0Qsb1g8KJ4AHCENF5wuSvvMEOa9fBZ4ZiwxYHFMEUBvPCrK+CwtoHtEH+Ju9CM+FewsT3OENfJ/vCzMLnws4cksLSsUbCf15BwqDHr0Ic6DBBYPEiQBsPFsOwHhbDI1BwwvZ1D0MkfatCOICLwiilv0C+525CeloDQ/acfMIwVSVAqXzRwlbd2UFoH0jCuZTXwgByxcHoXuZClA+GwrvJvsIkTyHDO7HNwYL2/MK3cvvBoa1OwixYqsA8fxXCOlJXwoIR20G4oJdC1hoeQsyMd0I0LD3DDrqNQgz3lsCw5OvBAIjgQQQnxsKAnqbCQFOUQaAcV8GU2wBByLIvwuyDnMLoZ+vCbFFPQcRkzUL4BXzCW1G4QhKtlMK3q9PBhsiuQa/Hy0I03UnBGuwjw/dTXsLZV+tCyMYbwzxHK8FgeCDCuleMQofa4MHwoAVDF3KxwvyFL0Ert0bDt511Qno5O0KhIoPBuTrZQlT1mMIbRxRDqiUrQk5ficK3fMlCuYnTwpBXzEIEwgBDCSfMwuMeicKoegxDf0nFwo60EcNAYFhCfglZw3CZm8EuOgLDO1k8wioMlMKopRjBUQ0QQ5AIFcMYTTbBisOlws5ooELOj7bCq4jKwmp3icJ8oD1CVBNzwqSxUsFsksDClZdMwjpwA0M+YcbC2hbbwp7JgkFdyJVCoc3nQgvuy8EISlLBxKwiwpzj4MHXVAHCvpgEwwT0LEKo141ARy+vwuAw58BerMzC+zHhwVD7AkDGUsnCs5uMwfJ3NsMluNHBrhEwQhivu8Jj+YBCUhsfw+SgIcJl+rbCMSoCwziGjUI6axPCst/Rwjj8TcIY0xfDn9g1wkjQH8Ow9BhBnuWFwl6vGMOhL83CwvgDwyA4hUEANG89216JwtSyqsK/rcDBMF2tQVyBpsLi1cnCCy4Hw14BicKUKodBFebXQpGyncLGR5DCsLCownHXfsLC2WbCrhKowv80YcLDv4HCBiOrws7FBEM5d5FCa7LQwqdFLcMltRNCeg+FQsa/AMMVj67B3opvQvDUPMEgveDCj8ONQiyz+EH3TIxCWHX0QfBtqMLyE5jCiNmQQOIYXsFqTw1CBU7uwlLoT8J0uL7C+ApYQm5vOcIkPwnDmIHeQezjDsMi1GlCzHrpwkEjr0LAoF5AMLcvQDnT9sIOWYvCID7pQQ/oesJIDB7DbUQNw3GRxMH8syXDgCWgQXLtq0JOa4RC8XwhwjhsacLnuwTC5MUNQtyw6UEImSxCwslCQsTYhcJ6fjnCcgMbwwD65cJ0lYxC+xsswjk3tkLAQ6LAgA5Qv2aBC0PXw6vB8DhBwuxO2cHZHRxDsRhLQuLvh8L2ME3D2jGiwleh3MKig7xCE330wW5lEsKA21VATPuXwpr+ssLqVQDB4NvIwiBogcJkbmNBVha3QpT4CEL4phBC24WIwSwXhsLs4/HCdBhZwuH9jcJHZ2rCwCOmwMgqfsLaVqjB1bdGQsfSDcN/OFjCWMFhwjhqxcK8fDfDkRqPwl28ZMI=",
            "dtype": "f4"
           },
           "y": {
            "bdata": "sGeXwxAyhsIiDTPDCkL5wm6wG8M5IqfCefZAwx7mNsOWug3DIhdFw/iqN8NgCC/D+tEvwyDVc8PJsnjDf/fTwkXqUcLGpNrCyP4pw+VeGsOypQTDUgqOwTiqWsMHCBPDntQxwrDOdcO65uvCWpSGw5pNgcKYrp3CJwAKw6YTTsOIxEPDWfOBw5K/zcHecibDsle5wjWQW8IscujCQYcYw9abW8KIetzCGdi9wsz+eMKJ2hrDwiIiwwRK2MIoXY/Doxhuwwv/JMNxNRzDWM6VwwQEgcNoMS3DKNqMwt2B4cJYDIHC1Z0bw3BhWcMGqD7CpS1Ew0M4rMJWa4bDy9eqwrYc+MK/gAbDD6rEwlsqDcOSDf3CMlltw0T6isPaacbCyO6vwnxGmMPaYqXCwO25wvRi9cKvCzzDqtQcw67wQsNqQYbCyDiXwm7u2MIaElrD+mwQw1KPB8NYX4DD6lwYw47wWMM4TqXC1o35wh0nmMLI5STDdDHLwqxECsNUXw3DvZHNwnKbz8Lo9rzCYhgIw1L6jcPXs9PClj+2wvhFSsM2jlzDtUstw0fr/cIguX7Dlw0Ew5Z/k8KT5znDqt6fw6vPlMImUlXDjMxIw5SjjsPSupfDPYFbwprXJsNtGhrD5Lwlw2gjJ8OV6wfD0+dYw6Rcg8LCSDfDheIVwrTK+cK6whjDPxeDw0SB5cKGFYbCIsFNw76NJcP8WK3CZgYlw7oUZcNtXH/D3Hofw3SKBcM6WOPCRClSwzYwFMJ+tz/DDSoGw3JoXcOOprPCY+3Xwj5/fcOaG4LDWL25wtqIxMKeaWnD+FRdwyvfusI4MxbDb37uwtML7sJkAGLDZtoBwzDE/8IanDvD8L8Pw1b3CcPXB2nD5q+wwqw1/cKfcTjDmoZtw157xMIWQN/CzCaFwxOTVMPj3G3C6FBHw/2rwMKrSbnC5F4fwzHPCMPmFn/DHo4Sw1x9QsNKPqDC4lpJwldVLsNWY5rDFE9Dwj9eBMMWX3fDLZ0Swy11iMLyXwbDNY+Awx7gyMIwKs/CaA4pw9r+ScOOjpDDl4y1wlPDlsM/rhzDRDS3worY3sDT6IPCMUOiwpJvb8MuLDPDXPoRw2gccMODCozD7fPqwgEOsMI6GETDELEzw77/QsMDoMXCUXJtw85aFsLIaqDCqO6ew4wy58IHx0XD5yklw1t0BMNOO9rCp+8Jw+Doj8PZoOXC1ceNwwTrG8NmeYLDIHK/wplJrMIQWnfD3Q0Sw/ALFMPGsrPCD5+dwu4+/cJaLJTDzkv4whtPucI8z3zCAyc/w8SGGsMhtvnCegSDw2Vwf8POoIXCXRCLw7jSZsPbVaLDl0lFw+DJEsPD7xXDoA0Sw9YL+8IPwM/CY2vZwsua1MJGHU/DQK3NwiiLQMH0317DNX6gw0IgQ8PaVJnDvg+Xwu/eJMMxQnXDtihSw7TAi8NajRbDMM7Wwb4uSMPyqz7DRLZHw48kFMP7xDPDnWyCw0hvf8OkPu7CpdiCw/Y2nsNWinTCCNSlwkJ0IcJp1iTDp6Qew7yNqMG+civDKgLEwVY1Y8JhF0/CjvTcwgVszcLPCt/CJKSaw2xXi8M5MhXDH8MGw5rXZ8OyEv3C10xzw/HyNcNlgEzCnMaqwrNaw8JnuWTDsKoJwthhK8OgKQnDZUPcwrInD8P6g+TCFGRGwvxficJw/CrDqNdrwjf8wsJGACnDqduawyWr3sLrO5rClFJCwxinPcPw06fDGnkEwz4s9sIl60PD5GwWw1Lu+cJEh0HDMc65wow48sKqgSjD22CNwgpGrsJRo67CYtk6wgU6ysIqV3nDvEzXwYG3IcPitpvCcm89wy67AsMMNNTC659Dw4YrHMI=",
            "dtype": "f4"
           },
           "z": {
            "bdata": "qggmQ1auqEI++otDJ45zQpT3AEM8BxRCGvPsQrBllEMnZxlD/UEIQyIcEkMMNJRDkCgOQ7XZVkKD3SRCrZSdQrIFv0Ii5w5DNeQfQ61EikIyPppCjDlHQqgLwUIRuqpCd7OrQrTM30LiQMlCO09ZQ9gMrkKIhsZC9oLxQoiHQUMQZ+pCDmzKQmaJk0L2BYRD5MkUQ3Ts80K8+3pCLptVQ6hh6EIOTUdC5Cw8QmK48ELILP5CwjrpQbs4T0PF4m1DmhcMQyJfC0OUCApDB9OvQg/LYkJgrJdCprzEQl7yj0I7I9dCB7IIQ4yFokJWZ7BCeBuUQo6bC0KEkqJC9EgJQ5RWjUImpTdD1UbPQkhfzELbgVtDNN6IQgb/w0JfycFCRn+cQpGMHkNllwFDfuCOQvTy+EKB7oNDM89YQr4+C0Pwv8FBnuDOQe7o8UL3GCxDNMO6QsDsQ0LHHrpC1rK1QkCA0ULSs0RCCpytQnTz8kI40F5CPOzfQupRgUNny2xCkP0FQ1PrE0M4VVlB+AiEQphXDkOy1gxDQQkhQyTCWkN2OtxC42wkQ4f+aEJqj/hCFvfZQrcXFkL/ELdCKQUXQ7l87EJ+kndDvM6HQzlHA0P/4E9C+OqNQjAC1UJ0swxDQrZnQ6U2gEK46ANDgg8rQ7Jgw0JZ7HRDQP1PQVV65kJ8MtlCLrmDQjNMD0PrluJChA/yQuRiEUMfviNDGibNQim8EUPIB1RCYFt5QiOVEEMSo3JC0t8AQ/hFKEJH/xNCCgniQvQcJUMamx9D450aQlTH2EJH0npCXFB1QtR+wUJm2chCL7AzQ/v/pEJgv7pC8nPkQqjd1UEcNQ1Da0aAQijGk0K9g59CVh7jQnAEvEJo8dhCaLfjQhbHzUI8f3lC2vsQQyipHkONe7lCphN0Q6pfV0NU0s9C3vPYQvS+IEPA/ixCrSVZQ4ENlkJQBZVCsmQOQhKC+ELb3jZCMzZ0QtIEIUO8N1JDdLI+QgJho0KmQbNC0GaIQT6RH0LEuf9C1EAIQ7x4oEHzxbZCOboIQ6z5W0OMLyNDwU8QQ+fVAkNuzidDkHGBQbjd9UHAd4NCR2vBQv56HEMe5UdCqDjLQgOCq0J4TZJC/LM5Q7i8/0IA/FND9mRJQ3bo70JibAFDJJpeQm7we0KFdPNChjEvQ6nskkKFYp5CypWZQ456GkMVZk9DDMHPQkGGE0KOeTtDaIS4QgIzvkJsja5CN0sSQqxR5kId2jtDsmnoQiihT0MAq81BMiflQm8FREKFb2RDFPG3QmbxyELw5jFCmqXJQoYJu0HGH7BCENcDQwIUy0JoBUdCoELxQkD6/EJufM1CIN+HQwxMg0KtUBxDkYF/QoTOMkNeqqVCl7hFQoq4JUL8wZlCCQJrQhtuREL6ablCXDrQQmYjC0NGYw5D5asfQ0N+KULcZPZC5IGFQzr0AUMKdi1DjSooQhk9k0O4LxJDEcFJQwkknUJ40rFC+39nQ45v+ULj9ixDKvLbQjRpvEJdM0FCpNHSQqg6YULWMtJCBjFSQpjbJEI0tmhDPAUrQuzO60JAYMRCluukQrZ7+0IS0ctBpre+QnDEvEIcctxCgo9LQ5RpqELschNDR2IXQm0xTEPxg7pC/CT3Qh8hn0KI05lCQ4GLQjP1vkIG9kZCanEiQzrph0NabghDMPYRQvh7x0JR0aBCxCZmQirZqUJa+INCbswVQ6WZEkOgA1BCxhY6Qh1bYEO0m6JCZp6XQrnLUkKimAND7UwxQ0waj0KaDpBD6FQRQ1txvEKkrwFDPMh8QjlTFkMPnhlCXHa4QnjTJUOqVP1CyAX9QWD+n0IQIIJC3RxYQ+BJUENx9h1DKt+zQqeNE0I=",
            "dtype": "f4"
           }
          },
          {
           "marker": {
            "color": "#FF6692",
            "line": {
             "color": "black",
             "width": 0.5
            },
            "size": 6,
            "symbol": "diamond"
           },
           "mode": "markers+text",
           "name": "Cluster 6",
           "text": [
            "C6"
           ],
           "textposition": "top center",
           "type": "scatter3d",
           "x": {
            "bdata": "PRgDwg==",
            "dtype": "f4"
           },
           "y": {
            "bdata": "RGYVww==",
            "dtype": "f4"
           },
           "z": {
            "bdata": "DYPkQg==",
            "dtype": "f4"
           }
          },
          {
           "marker": {
            "color": "#B6E880",
            "opacity": 1,
            "size": 4
           },
           "mode": "markers",
           "showlegend": false,
           "type": "scatter3d",
           "x": {
            "bdata": "YNUZQ7a1yULY8JBCz9AjQ4+gsUIR4eVCd2UpQ5GJ40Ii/0tDtirEQud+dkNkdY1CEGD0QlD/KEOiy/pCSWkwQyK+tEKGYT9Ds6h4Q9rawUIQgmVDz7hGQywubUMqou5CGWm9Qn5fbEPnguJCoSOxQkrgNkO6IbxC6+yEQ8U4HENCYi9DTFqVQ7K3lkLIUgpDlpzTQoRaTEPGU6lCnjYSQ/qn0kJhFfNCUqcDQ2yqOEMlsy1Dj69fQrqxyUKuHxtDJYFJQo42J0M8PthCyPf5QtiYvEJk8dxCZgJTQ4N4kkOxvBpDnLzRQrKfV0Mq5ThDmiiPQojK6kEecIhD3pgLQ05lDENaADpDfFxKQx0ye0MR6JBDUtqeQh/hmUIGc6tDHj8xQ3Yyq0JYQ1NDbFt7Q1MEx0In1SFDGsndQnHF2UIP54lD7C6tQmRgM0NQiJ5DGwpMQkq7EUMCojtDgKTcQm8ND0P4ckZDL/3QQiaIcEILbQBDuyyMQwmroEIkRqhCr2ndQl1VAEMujZFDbGC2QoPADUNabg1DOn6uQpmlYULZestC+dPyQjhSPkMWepxD+hBxQ+a4m0NAyJBD6G5dQ+q4oEKEwWpD8iFeQzSLOkOu6RVDdzfYQszpykE0FT1D4GL7Qq0NOUOQ9S5DUdPkQuondkMg8btCxniyQi+yL0PGivVB1eFxQzocoUM8fJhDLIdIQtFwbkMgB41CGM1pQw18s0JJTjVDXsYFQ54LlEOUj4lCjCggQ7iWkEJ6kPlCslA8Qxzka0MmpShD7F0NQwBGqEJfV6tC4NOXQmrdiEONVdRC2lOgQ1JUFUMyj5JD1mEuQ8hyiUJE8MZCU4tyQpM0nkJ0RNJCM3cRQ3a9h0OvW81CRg1NQ+SPp0JmuFhDOupRQ7uQcEMctBNDRjwbQwZgnEJlbSJDhqDfQvJefUMbAH5CxJssQk6aokNIEwFDDPxEQ0xSWkO+dEhDpMj9Qt2SBkOUVK1D/sBXQu4+l0MCkVZD+moiQ0Hdq0La/CtDwBJUQ31ObUO4/Y1D/ZcqQ0NKtkKbryNCfjWOQiqarkJB86FClOwmQ1iwZEP8XLxCS+VGQpwx30K2S2lDEBIQQ1FWR0NY55BCJ1CBQxg24UKsNA1DE6LSQgoLiUIg1hRDWHsgQwE+S0Mk99RCsj82Q2UTOkOSQZRC/h3zQoblrkKCwENDASPHQjVRaUK5vY9D7al6Q9I0ckMMPDdD6jYzQ/ERR0NdCgVDRPUCQ54X+kL4J4dC1eInQygbKEMtpldDvnM3QxSssEK2HJpCauKmQ+YCc0IfHIBDefHMQmyzX0MmwCVDYI5HQ5gXb0PrCG9CANWNQhpxOEOEU4VD2PRbQ0P/CkPoy1RDr10gQ9WH8kJXPgpDdDeBQuVgDUO63gNDki5ZQ8hwVUF8sxFDHW1eQy+9ckNkGJlDPpT0QuiLPkOtf4pDPHi0Ql14F0M6iqZCSCf+QvjXFkMpN3hDAJdGQwRvHENT5hZDsJP0Qp5kAUPxDn1DFvCeQ3y9gUOI0aJCRBbOQgTWJkMqLAxDGfwMQ0isikKf+ftCsIkBQ9PyHENAnChDcGvNQgfxEkNuPgdDq1D4Qv1Ah0P89mdDql+7QiVsGENVxEBDyKTUQhrymENMlOFCrm0aQ3yUJkP8cBhDh4CfQ7JOHkOVOktDQO2CQxaVg0MjWQVD+VIzQ3sSEkMevgRDxAaPQ6TrIkPvT2xDaC8gQ+z1IEPwWjhDaPhyQ3BkB0M0h6ZCgidgQsL+4kKE3alDgnRAQ3q210KmvYhCcJhNQywqBkNzAB9CNxsrQ8WEBEO4KU1DMtSuQ/Q7hkLmT6RCUKMgQxiac0NrnwZDMplnQ7qSbEM=",
            "dtype": "f4"
           },
           "y": {
            "bdata": "RpGKQjTfdEMewWpDXP9YQ73ma0Nn1PFCZQfhQgHOA0PqMhFDhi+nQntFiUIaqS9CIPzZwZh3mUPbgppCAGJ+wEJnhkI7aspCeMemwXFyQ0OgglxAPMxrwgiB6UE2twhDBLM+QkVTSkOA4qhCBJ6IQvhnC8IAyGM9OGnFQt4BC0MYmgZDqLTNwUw1E0OQmyxBgOwdQpClPEPY/adC6KhQQ5yrHkPIlvdB6GogQ5jlb8IUvZ9DzsM9Q2SXt0LGqkRDXFwEQXrX70KoAT5DLMeKQlwHKEMFw4pDu2/BQjRbLUMMQFDCdgwyQ6K3n8LIqTdC2y+IQtxTckIwkBrCKOACQtAwFkIA3/M/Ai5xQ+BUK8L05cBBUpqDQwlmCkPWRJtCpIseQigAlsAQUI5DpZKWQqk25UKATF1BAG71QKuJDkNDa21DB04JQzmHPULKYTBDVdsCQ0oNL0MJQNBCzu8fQ2lgF0PUz5pDsDDewHT+ncGbemFDqYwYQz3170Kf6jRDLPI9Q6YG0ELfFSNDKlIOQ5qiCkOCEfpC/qEjQ2ZWvUJi55tCQE0BQ/qRgUMdLytDkAQLQSTUIUIA6Eq+UAg6QgS6s0KUnb1CHvKlwuCEcUMvMHdDcJXdQJlXrUJANanChhFHQ6PXpEKmyWpD6yatQ80qa0P2CytCYv6fQrjJnUMErAFCedtKQ6KqoUISphFDYMBGQpl7YkOcfKNCyKR3Q8ZaREOjg/hCtMnXQR7gakNQPSxBwCgzQgA7wb8KrT9DxHKbQmUy9kKzK2zCXpudQksGGkPLpwRDcPc7Q9phaUMvPttCgMd9QeeJ20K3qwVD9XlpQvTApULaMwNDYU0TQ8TenUIQv2hDr26oQqOd4kIOmSdDkBIbQ34IPEOxoXlDaCD8QoD9R0DYcwVCmYeNQ3JeP0OicFpDcx9RQksnNUNM1nVCgF0TQRbuHEN+abtCftAywjCnK0OaxxxDr+xaQ9r/yUJWLBRD5qr/Qh/OGUP6gRpDhuBbQ2yOvUL9h0bCuvsbQ72AGEMa4SBDwKD+Qsy3LUJIqrZCPpyaQnIlzULs4hpCMvfHQnJJjEJOdM7Bmv33QmDefEHgWuBBR6SHQy4nXUOqVLJC1CyBQUQiN0Nys1FDbEuFQy1BXEI1qoxCllAcQqS420JAhYtAXsI1Q44T6UJIOjBB8HrHQRYOH0Oq4mBDzieUQvGyqUIiDTxDyDQjQkYcHkNwa5JDTlBnQ/hyHMJ4Ws5BqCeCQXIKL0Px/DRDUATRQqitd0EIGfNBJoEmQhrwP0NU0wZCtA6sQrxhx0Ja06RCPngXQ8BXYkPIWJ7B0LuvQqKiocLOaxdC7g5/QgBRVz8gLOhCwKzdP//o8UJkyM9ChqLYQvp70EI5iaVCUbPXQnp190IZFN1CeRLJQnn0tEHbpBtDSOMhQ/Mg20J3PApD+PSBwJ3xyULkPmnCPjD6Qtp8VkNESqxC4hurQ0jzGEJAiu5AwASPQIiThULncRrCAB2PQ4ANscA0Nl9D0g5FQ8k0NEOmJfBCPFiyQZStr0PY4aTBHoJtQyBshUFIyohC+6FFwg2tNEN9IBdDgPLaQW7+rENQAvhAhTWDQyb5KENAylxC1ksBQr726EIGg6jCBL5hQyqTBENE8BFCVWqaQ2blTkPfatNCylXuQpIYZEPGih1DReKrQucEkkKnh0pC4+ZuQnKnsEJE6pJDR8ggQzH6HkPD5E5DGsnLQqOv1EJAsizCixx3Q5LJHsIMPDRDDKGyQk56EcI2PzdDM5kcQ/76wsFdWNlCiY6UQiC2wELKQOJC0AWEQLe2T0IggAfChNKwQjj/MUKQgJnBQOFrQY8Pp0I+/FrC4zznQryMFUI=",
            "dtype": "f4"
           },
           "z": {
            "bdata": "H1EAQ5D/SMKjfZhCmIjIQthEv0L8MQ3CIY6PQi8EkMKv36vCDXvQQlQ068J2whJCWPDGQGAmUECsvQBBxfb0wa0Wy0IgSULATpOfQYouxUII5hbDVPlQwuwgN8O8NiDCG3PvQhUhEEPgGuBC/aIHQ5aBBcGwqdTB04BCwhQb3kKR9InBsa39wvQLa8Kt0o3CGb41wqRxE8NtoflCNgktwljN/kKYu+hAZgkZQjWOD8KyTAvDtDkTQhaeo0JkZEHBGBEBQhwkA0OaXtZCyAtwwbIOUsIgT4ZAisCkwQRbGkLjXIzCNKyWwrw+QMJudr9B4GyYQi9yUkKunChCZh8aQmpLh0FSvXrBaypswgjLKkJGKYdBFoSEwjbdmkKoDMLCgG8FwhY0fkJSPhNCmQqvQrCpvUAGT+PBSiwgQu5cm8JIR9LCaKpAQaQCTUMKtAzD0IBqQlTzh8KdqjrC9jmtQj5UIcJTHkzCTbImQsEaREJ3JhxDBJAWwsMGPsLc1rFBsrupwsRVncFunbHCgkGOwpEagcIGVtVCvA88QRgu6kBBFq5C+X5MwkvkzsFY1SHD/pKZwvb+p8KIUmjCjOX1wnuvAEOHkqJC7ousws5kp0LxPFHCKrG6Qlg2DELYQAlBabzfwsmexsE0A+JBQB1/waaR+cJkS1JBCCT5QXJlMUKoCFBC3MBLw4A3Br/OOzDDeA7TQbjjj8A7NNZCcrslwvpHcEJ+Z6/Cc96dQkaUKkJ05BtBnESMQU7RbkK4D8lC4guxwiLDKUL+c79C5h8eQzrOOsEwCSFAnhgxwrCemMDMvSXC3PmAweKdsUJ9UhPCH57QwgPlokJ4u+VAmIShwWCHFsKQSFjByqLJQhaU1EIDoI1Cet40Qlzym0KZgLPCPu2vwWYxCEM1xgJDiqmtwsFCuUILoiZD36QKwiIMQMLoNYHBCOrZQdCaosAnnCfCDYcbQuRcTsESRgzDWwkCQ0ccPEOjd4zCzD4WQa/8qsJoK89C8Mu7wQWICsLgirBBTNQCw0o6uMJUuGfCFNOkQZaGzkGGjnFCvgrBQl6dTEIO8HRCaqW+QQgnUsGA331CsKlmQTQ0oUJCuk7COHWMwsBThMLcuzHCKB3UwA91ZUKMGs5BlM3BwpNMQ0ID3pxCsFvnQTwwDsEIc/lB7G8Aw2+BPUP4vspAai3NQnINkEHgFI0/AbgIwqvWoELwJm3B4n0mw6a3m8JJk4/CCgXxwprEusGvH4zCh00AQ4eWK0Jk4ZtCQG7+P2MMjEKJCDDC2AaHwSDUqUFGCaVCkhnDwlDQo8Foq//C/NgVQYKJkUHI/TrCAFprvjC0t8KynTBC6Zi1QrGWpcGmSRXCFPa4wlZ8M8IOoivDfk+AQRWs9MEKHhRDWsecQobqNUNJKTVD7RT8wkh0CkIQtUfABFXGwSTZDcPqY+rBqE4XQhEzz0IQajHCAhERwnRuFULTfQPCcAeuwSrmFEOelrFCwKyZwORPlMFkRV1C5LraQuhw1UFeI4/CPFQMw9jrFsNiQPNBQLNjP7HiRcIc3AVDdoACQyvzTMFddJdCAAV0QqAyesGj8RhDCL3FQtCCDsDrTMFCCPSYQtCjV8IAQutCZPodQu5A8MLijrhBZUCBwggc/kFQa3vBxmANw20NvMJ4fhBD1gJbwlUF6sLknYfCRDIewfu0gcKq/MRCJAC0wWLJosLWap3CdvPbQmNys8IaXxVD5KA2QxKAycITChlC6ETcQk+zqkKL7QPCBrBqQnB7x8GwFhPBwGFmQfArLkKoCrrBFvUFwzgqG8GAVE5AuPijQGYzYcLubQXBqBFxwUDQIcBMiHNCGNQ0QcW6+8IYXDRCHIuYwjgbn0A=",
            "dtype": "f4"
           }
          },
          {
           "marker": {
            "color": "#B6E880",
            "line": {
             "color": "black",
             "width": 0.5
            },
            "size": 6,
            "symbol": "diamond"
           },
           "mode": "markers+text",
           "name": "Cluster 7",
           "text": [
            "C7"
           ],
           "textposition": "top center",
           "type": "scatter3d",
           "x": {
            "bdata": "v04dQw==",
            "dtype": "f4"
           },
           "y": {
            "bdata": "aS7WQg==",
            "dtype": "f4"
           },
           "z": {
            "bdata": "7s//QA==",
            "dtype": "f4"
           }
          },
          {
           "marker": {
            "color": "#FF97FF",
            "opacity": 1,
            "size": 4
           },
           "mode": "markers",
           "showlegend": false,
           "type": "scatter3d",
           "x": {
            "bdata": "Nc4oQqjsaEFVem3CCMcFwl9xr8LYzwhCaBzqQMCO28BCztlCBDtIwhj7AcFMbwDB4nmnQlTelsEmoMRC4mWQQmPVE8JkxwbCpJYlQQSIlEHzS7lCAJsgQABFnUI+cZxCUD6cQjdnBEPaKq5CNqNswhx0IUJA5YlArMUCwkBMuUC+JqNB3KmjQj/s10Jiu/xCSh2uQkCZCUAsawHCDf+FwnDY8UDADbfAr7pJQhNqmkIUG/fAOIHRQdAIa8EC8y/BoCdEwTLBA0JQ4/fBVXaAwgBB1T5QdAHBwB9Cwvr2g0LAiIpCxgl0wrC9CULX+JRCQMjsP5JWyUKsFonCLPONQTWKm0Jdd6/CxDaBQqybzEI4v2nBCGZWwmuWQEIqZQ/CiMlwQjIWM8IXAJ/CkLUfQ2jMQ0GG7u9CoLItQNzrR0IgkQlAgMLvwHg22UFWvqVCpqM6Q8TmG8JEFxFCXpeuQrypbsJJSnxC/HdZwpsAmEICZ+FCzOJWwkCrxsAMUphCkbuxwhE12UIFUwBCwn6HQqbUh0KpdBdD/NWNwpTREcIUUxLCL/N8QtyHkUF8l5dB+EvnQch7tMLwUABBgNbFwfg5O8EASLy+mV84wuzFQkKfHQ5DHPL+wW1oHEKaWqvCmh78QnT6DcKsfGJCUvK4QjPIpEIQ9SzA+i3BQoCKDb8gzWLAVUnFQjhUO8EudRJCZwYOwjiVvsHgxWJBnEbtQcCEmL8EmCZCskiBQoaFFUMFYOxCSBG7QrBJqsCAzXXAEKFHQG465MIUrfNCkw3VQom6YkKHXwlDHKkZQlTfv0LA+tjBiBZawJm5dEKoeoBCE/iEwgDNY79MEpHBtqIrQ8jZCULI45vBjGPyQeRQcUIC+6nCIgs1QnzNjUHID8LBce7NQsLKa0K85kZDSniMQi5UqsKm+7JCkNuIQgTQSsLUrtnCQX3Hwvo6n0JO4ZRCcAgJwghmB0Jks5dCsPuQQZRMZkEA9QFAwLr7QFecjsI4/l1CYN/7QTxV1sHgoi1CFCsGQty6p8FoApnBjEv5QnSTisGcH7xBKsDGQng4vkLgsuVBvO+qQvrlosJowxfCimsJwoDh4UBMTcXBCG6eQQBOlL4gK+pANM6nQoxZCMIkuw3BmDuCwUhjH0G40ZlCPJwTwj4nNcLsCJ9CoE8/wHDIEkMYuwlCQyGiwnWw7UJWSvDBiKNMQcWO10IYTwfC8uy6Qr820UIQldpAiGCbQskN0kJYIr5BQEA3QYFXNkKN9Q1DnFDIQQAoKEJoF1pCzLAjQ0jVnMFjs4bCp6gTQuhNDcLIplXBO4m3QlrJx0KsvLtBFqh6QtXE6cLUrs1CHBDyQlweVUIjwjdCy3+9QuRhsELm2/tBWcjhQlrJgUIbND7CYgPMQt+B3sHuCHFD2OqpQojjZEKwZbNBoKGLQbx7uEIiwsJBX3SgQvtjVUIQSrpBcDfswMQzpkAZZu1CRu/iQdx6KsJouAFCALy9QdiDN0FwWMpCAFgtvbJC50I8p8BCQAOLQJ7oyUKPTppCAC8iQrCgQ0GMmFdBqZWXwtgd5cEfLj1CesXFwr4stULlBmhDbn5vwgehAMLo/y1CxYV0QoA2acBcUhNCcHWeQoAQS8HAQZRBeluDQq/EwMI4WG/CFNibQk78KMIVvcBCqHKFwmAxwcH5Gw9CdGwoQucgq8KBS5FCPxk9wnnYeMLAC4tC6tyuQlSALsFyf0RCQH4ZwZDWREFOU+VCOENQwSXaI0IYaQlCeF/IQsQLgsF1uAtDtJrXQiyeYcLYuGlClzQsQtA+p8EIuQBBUbeTQsBk7kFY3DNBfLYdQxRa5MKAuFPCwBfUwM62GkPY7BdDJmRSQoXkvEI=",
            "dtype": "f4"
           },
           "y": {
            "bdata": "I6a4Qdosv0LRJL1BIuujQkYbQUJ4YYvBsI6TQny/nEJgRCLCXsP/QvGjukHgAEhD7LGjwSADcECyPcVCpFKIQ+hkQENYkyJBaLbAQXq7IMKQGQPBaGKcQuhCekNPCMdCopssQo1MyEEw3ztDmStAQvBqKcLIKVzBz+KtQvvjJUHSvklCikcRwvSpWUMa3kRDAkLnQfKTVULt+sJCLPO1QX87x0Fiv/JCnRZbQ2U9hEIw5f9BiCKjwdCwNMLAeYq/ZGuJQtyT/MG8X5tBEkmwQgCxysCo8W1DLoSTQiowB8LeDD7CvNvxQWAGYMDIqtFBnqK3QrKVCUMQjFpBY5vhQQAecj4EM1pCUuMUQ/TLtkG8FQHCDNJGQ2aMgELi4lFD6PXHQm+3fsFSb9xCYkyYwjIWJkM5CspBvXYYwt6FAcI6bYRCYNlZQBLuUEIkbaFBaAyrwVqhwEIM27FAElOfQ9dtQUPAR39B5CACQ4woqkLSU4pCJWcBQ+Xx8kIcB9/BZm4yQ8rlQ0PaCwtCWqEBQparh0MAPQfAmik+QvtfeEKX5SVCYc5UQyDnp8I47bnBTOMPQuabqUJruTRDKxkXQ0yyQMJ4IQtDvbavQjYSiUJQz5LB2IKPQXaU9kISLSlC8YwJQ7ShzMEulkhCZLt0wjTZt0Ls625DzDEQQizt9EK+3YrBG8QTQ/A99sCq6XjCjhaPQoFhJUPgfOtAeIfJwVgz1cEszkJCO12eQqh4JkNvCJFCfDo7Q2brqkKXCQxDLIh1QnPMBUNEKVRCupGLQhzxpsEQOMHAhPAdQoAInL+1CIFCOCrBwTFwekJPENNCFr8sQX0wCkNmxbNCzDWGwdRKkULLmiND9FWIQQiMH0Gq6AJCTGBBQ3pqCENZDFpD0K+VQQV18EILHFND9NYRQ9ARJkMUUDTCoTEsQrSOAENO4odCmjPFQsAoqUEI4PjBrXbDQvbOiUI4yFBDAP8iQniEpUGA4sHBG1xpwtTU3EJSAA1DaiCLQ8wqo0LA/tBB4CSjP14MQkI07YbBoeWgwoAIIEGFia9CrlyhQtZnU0GSJd5CIH5MQoRcr0JUm8NC4Mvgv9UmmkIydGdCt2dQwnL200BewDFCw7BIQ/URu0LFUuFCYCv9QGIiU0Nw8gJCV/JLQ5rmpkIWgW9C9ZzjQqKlh0NWHyPCuTmrQcnXZUL4zOtB+id+QwILkUOAd4VAAUfeQoA5CsI0DuhBq2sgQ3SLysEKc6BCh0jBQtjlVEJsLYlCjHbmQkNY3UEkf0rC2llOwpA9i0Dm+tdCO3k3Q7Cu00CAGSjAsMqEQf5AvkLW1xBCmlgHQjhsDkNh04ZD0Dy3QHQGE0KvMehClwxOQny1jUG2ODXC7qdsQ3l6GUODNl5CvV9/Q5BYJMJA/XhAD4owQ5qqA0Ka+i7C2pp8QqhEucJsEYVCBhv1Qrr7zsHQJKdAbOWZQniAzMH0OK5BrhstQ9Kv1EJIshtBtGO6QZF0TUPWyKlC8+qtQnak30Lv4RFDOQZEwga1C8L6hRpDs37eQlwbj0IlYY1Cja5eQvuZuEJggxjARbYeQ4BbN0KArKrB3hMCQlz/OkJr9btC5HS1QQLEHULG+hxCYl8iQooxTUNJqrpCGFtkwWVlsEI95/hCFiofQ15pS0IQ57PBuqVIQlNpD0KogRNBWMJMQ8U0lkLxGZNDvVPcQhI4CsEi3BrBAvrLQnxuGUJ+pyRDt/nRwXm3EMFsHJFCVigqQ+BYqD/3pfZC6OkEQnlJ60IE8hHA1deaQgDS5EIsZcJC6lVvQylPEUPAfE1CcGXYwH8lDEOpGtNC8ECIQzR/4kKUhGBDaxQHQygljEJDVHxCxJ2nwSDtKEI=",
            "dtype": "f4"
           },
           "z": {
            "bdata": "yBfGwWkCw8IAdfHCOvlXw/moccLpxj/DkKBLwbqkHMKWB17COCIKw7CPKMGsGwHDfYVaw3WgKcMzggLDjDgIw+55GsMgFLZAlTCNwo9lUcMiOofCZo+Iwyiu3MLMSQTDgME0whSfQsMo6ebC1MSDwhoMKsO+pgLDHA2GwnTLfcNop4zC0ZEMw2NkKMP4lSnDVphewjh2L8No3SvDFqywwoOYfsNsAKLCfK0Xw6xSHMPAaLnB+jwkw+g4+MJgjitB5Qj9wri/mMJnIcjB9gkDw5RHT8DCthnDPbYQw+/lMsPTV1XD0OrnwQARmsI8bQjD6oIUwibRysIQfa/Cb3i5wn51+cLVn/nCBoOGwlBWy8LfEmfCkYM+w/dPW8OiLhjDErWCw6p+0sK4vLnCm0wxw7mbuMJWeTvDSB3zwlQaL8JAC+PA5I7GwlnFncNelezCYcD+wrwpusKkH2rDFMkiwyKbJ8Nw1/jBMRwGwyI9nMLHxx/DHc1iw0RT3MJAX8/CpUwfw0lwdsNAsSnCtiubw6WQWMNRwUjDzZogw9eaUcO8j5jCAj8cw5GTQ8N/qhvDSBESwwn9qMLAfvTCsFItw+Y/r8IGsYDCAGDSwmMbOcM6vgvDIEkuQbkLBsN90ALDYuTmwuQc78FhOpXDxLeMw8BNCsOYIg/DzEh+wsBVT8Ls5FTDTCDZwrAGz8HyzPvCXgKawtRQFsPQu8lAI0hUww4U+8KgDpHDQFctw+ZFJcP6EYDDRBfvwjYOAcNwhGfDABFDwQ6fCMMrfazCkS+Hw+gCV8FSpxnDyiBLwxq2r8I6Pb7B9K/dwjpA/cKXBYLCXE/0wq3sbMMS/DDDcJ5owxxzJMPrDMLCIH4BQSL6h8Oq1pjCmA8Ow9t5csKK2DPDbBInwyKlesPfHWTDTRvfwhIYF8Pw+unC/PEiwzZTJMPws73CfH8Lw3hvQcKwqCTDhm+zwpZKBsPsXEjDLlOPw9tYHsNsux3D4ntLw4UADcPD6YnD2jkuw6RXNcK7Mk/Cau1Nwu+drcLG5GLCM3Qlwy4qUcLFqjfCNHYSw4pZk8LQjVLB2Gk/wlOELsMccP3CoF8PQaJDZsOJpQ3DPk8Ww/qORsON8RjDz8snwxHE2sJ0sqTCS50Jw5SnE8P/ZQPDw60swwalRMP13WfDfSC2whT1YsODVUTDEpWrwsc1WcM8GtDBJnIhwxuQM8MwM1hBqjvYwgxTAsOUXKvBga1sw05F2sJlTaXBTKZ5wojACMJE9TDDPv+jwfiB9cJV8i/D+nofw27ccMLZ+TTDCDrYwp2KN8Pg5zo/oME3wrlZQsNODH7Dg5dQw+Q/IcNNO0rDbFOewrdHicOmXivCWJdWwzQXfsIbfBTDWrZ7w5QTaMLHRTDD7r5QwzTeDcMZz0PDyrLBwlPPosK081zDr1tOw1Rse8MKHKbCyQYKwwCqRcLHPSHDAKS0wjikV8Nve2rDUm75wtuVGcNQvxXDhWpTw3TWFsMmK6DCTmIAwskiY8PTrYrDLmAMw+LJdcP2KiPDh+Mdw+5Dy8IguGbAvsGpwuuAcMPMOzzCjIYTw9C9HsN+AkTDStkUw6idNcFuBzXDWIeywspSisIjUIDDyh0Yw7x4/8J7mqfCq4QFwnCj6cLaGuvCvDaawsGBVcMtXgrDtSHhwiLlzcHwfc7AY85aw8Gap8J2SB/DhMcXw48VBMMnegXDcgHBwkQH3ML4fRfD+b63wv6eS8O/QIXDrvDJwgDmfcD72ozD8vEGwytCgMPcDEzDioT1wrI/2cI7xmnDxrvZwn4+L8P+PHfDvkLGwsg+zMInskvD+7VIw07y9cJBRD3DlBxxws4C+8IO8xvD0oqowhyitcI=",
            "dtype": "f4"
           }
          },
          {
           "marker": {
            "color": "#FF97FF",
            "line": {
             "color": "black",
             "width": 0.5
            },
            "size": 6,
            "symbol": "diamond"
           },
           "mode": "markers+text",
           "name": "Cluster 8",
           "text": [
            "C8"
           ],
           "textposition": "top center",
           "type": "scatter3d",
           "x": {
            "bdata": "Gi/RQQ==",
            "dtype": "f4"
           },
           "y": {
            "bdata": "PEp5Qg==",
            "dtype": "f4"
           },
           "z": {
            "bdata": "Fnv/wg==",
            "dtype": "f4"
           }
          },
          {
           "marker": {
            "color": "#FECB52",
            "opacity": 1,
            "size": 4
           },
           "mode": "markers",
           "showlegend": false,
           "type": "scatter3d",
           "x": {
            "bdata": "1FBlQm9hSsPQcyrDieURw+iD+8JC5wnDkzt9wvB3Z8PnrcjC6EJLwgb1mMMfVPXCcGH7whPHkcIFXl/DVROzwhMWg8P9LaXCMj8lw4GgP8MxiWTDzlDTwuzDb8IF9SDDBI/AwUp7l8PofFbDoLzdwESFD8N5rL7CvbSUw8T/fsKWY13DNpsQwn10L8Nq1yPDbf0kwz4maMM2YpXDSnivwgcKGcOocIbBf7QHw4x9M0I/ejfDyYdTw3puXcMCCIDDKxQvwvavBsPe6jDDi/9gw01UpcIT6THDqpRNw5h2P8FQ/WTD4j7IwvTB5MK73pPDkKtuwz/SFcOSC5DCqveIwoQVUMM4cjNBHbwiw9guYMPkDxXDqgI2w/m5hMMyncrCrmsjw7z51cFoePrBSeqYw89mksNpoa3C8rD2wuDtaMH0QHzD0b7/wn5fmMKXjobCpPvlwqJe28L6eOjCzGICw3geiMK/BnbDCrlJwor/QsK0s/XCMp4dw3vIHsOeM4jCFVlHwmY7A8OUbQlCjmAKw4wIPsOcIofDp8sFw9o7a8M1okrDa86Fw9HqCMPcyQvDLBEGwkC9IMNwWkrDhl2iwgApDMNLtNrCgCpZw4dfVMMCvmLC4kaLwnBWKsAeVnbD2wyiw0IdesNwdDnDLNqRwsxNHsOOOabCZmIrw+oFA8P05gTDsMQawz8fJcMgZi/D929KwkDpb0LmYeHCESj/wgBqtD8BznnDnhqmwyD6P8OvCxXCYgIow+kk/8KME7nCWfvbwlORJMJ6pB/DoNUlw/mGdsMc5bfBkO2BQK6lI8MnyGPDmI0NwaTvP8NgivLCsmsQw9DYUMJRFkXDTTUnwwqwgsP6Id7Ctr2Xw4oEPsMyY1zC1Kg9w9dRzcJa34HDtklxw/diOsOi1QPDx1bOwh9eAsPiy1TDViF7w3RI9MLA+9PBndeCwu6RNMPCyCPDvuwMw0wlusIekMLCSstfw8zQ9sI4JSTDaGpWwhBnCcOuG0TDIInywK7u6cJhtmPDpBUPw9+KIsNNeprCZMiJwthc+cFoU9LCKpyEw5h7ZcMM2EjDj+NVwsxSc8MXZ+7CF3lTwsxBYMP5rR/DDkEmwyT/gsPyLrrCIPoOw3OsGMMkM6bDTAjZwSStpcKBMJfCxm5kwrFa18Jw4XPDMp6EwyctLMPLHnLDZrOUwqDyssJaxOHCYqgLwy+JssLudynD0PxywxFiksNSTTnDPeQzwkrVG8OyB3HDmAuKw10rR8OsTyrDMVW4wl1HBcNSNBDDIpqUwxyF5sLk+i/DQMcZw/Zyz8LrH3/DWHeFQbq118JE8o/CTzbLwjWa9sJYAPjCFJUbw39cssJs1UvDR+MkwhjKOMNv0BLDohx1w3SDT8P4EhXCJBqSwd16Q8NLBm/CpPVww+Ci1cAau9HC5yf5wlHp2sKnZ0bCjxm2wqXELMOmO5PCsAG5wt7i4sKWevbCxKzawnvnLMOKm13D2X/AwgzDHEITJa/CaOgUw0dqMMK4YS3CefiQwmJPJcMGi8PCEL1Xwxe3msJyU1LDFvGRwzYi/8LstQbDLHwuw7ZPi0Ll+BvDeUBVwvG/GMMyXRfDWfVdwuFxSsIk1llCOhcawxBolcLjUdjCo2tKw5z6EsPWjsrCGtpiwhbbNcJbQRLDEulTw1AEacNMB7LCy+hvw8w1v8LIDQrCV1Ygw85qjMPoEx3Bi2Lgwknw0sJis87CQp0Ew3R1lkF2loDDGp+BwqSpPkKyKybDSMEPwz5028J8Kj9CyM67wW1tpcIm8EzCe+WBwui5KUHE4vbCQd/VwsoxD8PEfyjDwpRCw8b5TsPWhO/CCbVQwwQzTUL7UmjDTiVTw9g4uME=",
            "dtype": "f4"
           },
           "y": {
            "bdata": "suSmwrQlZUGCXLXA2T8zwcY1nsEMxRlB33gDw92F0UJ4O2bBX5+6wsyRAMI9/BXDDuB2Qjff2sKRZB3CHJIJQSLDA8Nwkf7B6Qz1QTFj1kJ0sn5C8M3+wt/vBcM8cCbBeIV4wnTx7kKEiipCgM5uPrMsCEKAXkvCaJY5QP+4G0JTUYnBvtgzwyhEKEJCmjrBNQOYwQCSUMIFxuhCZ4tuQeXUJEM6s4XCkvwvQhEduUGOnQPDPUN1QstQM0M8/AlDxgLhwtS4ucH9Fv3BomTZQMY42sEwVGO/SJNfQqQWNsPy3DlC7gJFw6vm7kI0EBFBrM9lQRz0nEBM1qjCyOzEvxGBJcJElgnBj99dQp946EJzbhFDKQInw4g6a0L9TZxCWh0AQc70vMKtqYLCYACrQCtUiUJTgwLDLu1oQr71N8LPUr9BYG3bwHA3ssJmZbzCpF6FweUj9UGAOy9C4BNiwrAfhcBVC5pCHMjwwibIN8LdLhxDfhKSQvLTrsEeDS1CKAGYwQHf7MJ18KDCVDnxwoA93UByznrCC5JPQ7RWA0LTOrRCA7DDwlicgUFL8snCqSD+wmBSdUBM1bdCAoepQjjPkkLowrLCORv7wr0+DUNW2ETChKAyw4s34cIGNgJDgxz+Qkooi0IHpSfBqmBiQuSIisLQDeFAjC20wbJRm8GWdyDDIwDrQd7Mr8IxS1nC6mBHQogg8r+JbQVDXLNDQkcDd8JzmP7C3tMWwgRDE0KZGK5CzfsdwlUWrsLI+UnC+o2HQkOWqUHO3wTDjBU6QqfVBENwqKJChKiGwI9T/cKqmN5CyZyNwumrtsEFRKrChdj+QgkyBMIQoqJC1Bktw34sHkNkzUlB4r+UQToNL0IuwEVC5pLdQgBp9cGSCJrBgsq+wJw4x8H6PDnCBnGHwS4QbMLankzCoO6twMlzI0MPBjrCnukawjCjlD+cPY5CjJjRQCVEhUEuQFlCqNC4wcxMNsL7EUFC3mS7wsQ3RUH/aP9Cw+3vwibRMEJIj7TCk+7lQgDpysLMpJLCUlumwiY8oMKUY4pCQZfwQggEHcOvTWhBZRQmw1VFC0NSrOXCwSSFwmhI6cGA6CNAadZZwwz61kC7XrdBtxNHw+NOScLxalFCJEfAwuUOYsE8JJJC4SGUQc0dm0Eozh9DNDzPQbDGL0IssBVCQFxjwGrxc8Jgs4RCZL0NQmGYgkHsFf7CW/AMQ/0+r8KKM7lCAZnawVWHBsMabVdBV1UlQi9VBEOUJBZC4/qPwoZJlcLd3b9BP+dEQg3HskLPF75BXnbkwWSpuUKm1SZCjoe4whm8mcKl85LCqEEMwTJdcEHsxBZBuGd1QkiTREDKHiFDsxxRw3pDUcLcnWVA+ZMWQz9gL0NgYz3DUq5iwvw44EJRgS5DyREGQ+3+vEGn3QvBxMBWwn5T70GfXyXDNjuGQgeam0Lqz9/BxK4Gw/95FcIWk4NCyAoNwljkYkLnthpD2E9KwUT6HcOPFAzDYSePQlwxC8OoSJnCXmsMwnXytEKcmafBFgglwmsgdsJIRtBCA6gawgN3vkIax4lC2BRIQzHozsK+8bzCnJ8Aw4MwGkK946jCeCghwfkIsEFiAhnCjoEHQRYvB0K/GCjCcRl0wqjyUEH+gnrCKPqUwoj93MH9HJNBTRrqwu5ZxkInyaFC4IPKQqrqW8LW9BTCyIO/wcVR5kGunFzCUHE3wUfEFcKM8wzDO6ETQ7QzdcJ1WRHCGhgHwcF9i0G89IlAAtIiwdrM+sHga9PCtV2qwsj/tcAyoUvC4oY8wn7x+cH4KkLCnm2PQqR1NEGzsvvC+plfQqJjqMD0gZpCFceSwrQ638KoRh9Bz8iGQgDrDcI=",
            "dtype": "f4"
           },
           "z": {
            "bdata": "GQCow4nUS8OAg2HDaUxfw8J4LMPBCyjD8PuFw/TsYsPViB7D7tVMw/lBb8N0n0vD/Egvwyz2dsPSJ3bDF7Onw8AbZsN3MwzD6GtzwxZcmMP7ag7DEKCLwzJpN8ME5qvDnkcuw+QLZMNfHybD7bZwwwS1A8ONH1TDFgqFw3Lvf8N3RUjDnCiNw4Hgf8NUCKjD7NYaw6pYssNVvEnD4XeUw6vtbMNQIIXDlgslw2QgpsNMhLHDGPZww8LqYsOtiVjD2lG+w6kzV8PwuWXDhWAmw5USRcMOPlHD6OZZw4wRjsP9mIfDf7eCw3KLO8MmC3DD3tCNw+TgucPGmy7D23xkwxqWgMOu6a/DP4hewxVVLMNAV13DXklmw1gVG8PED43Did6FwxxbhsMzBybDoNY8w96JMcNqiFLD28pNwz7AlcM+BKjDnrMrwwqyf8OIEVzDzMXFw9f7R8OAMVzDDOA1w08nO8MginnDdIVaw2g5NMNeo4LD7P0sw81DM8NG/o7DOssrw+qjgMM/+pnDvJaDwycShcMOmqDDckd2w0QwTMOqxxbDnLBawyE0TMOS1p7DpLx8w1GyOcNpoJPDn752wyr/jcMEvY/DpGR+w72+ccNvGQzDnF+Qwy7hUcNwqjPDLBIyw4LINMP8JD7DbB+dw2FBgcN2UBfDC+VYw6PnJcN3SKLDqtm0w5TXR8PbRkPDtimqw6IgqcO4XVDD6bsTw3OGVsPNmV7DX7JwwwRVYsPcW5bDWiCOwyN5h8N6qivD0A2SwyI9VsMqFaHDv4OBwzLnPMNl8qbDgGGHwyhbkMPI7xvDpAF9w29te8M80H7Dozyyw34CYcMQLUzDuYWfw2igXcPGDDHDTy8uwzaCYMO2dbzD3N5awx4qVMN8F0TDmTFMwyQYh8N4fobDMjBPw4+hdsOiGDfDhb+Iw7xKnMMyhGDDPX42w7CXcMNwogDDEiSnwy41lsNriTjDEHh2w6+0IsM0rQzDZW2/wxduMcPwxIrD/YxkwxgICMPBzl3DvDQJwxUdYcNnJSbDih6WwwPxR8NgTiLD1ncRw45IdcPlDGXDgLRew9AcRsNaQVvDAuWPw8aqN8N1FB7DwxiBw54sjsPNQyLDsdmFw/RpNcN7IFHDPtaUw8ZsXcObl4LDGF9Bw+T+RMOaKFDD6QFnwwLjusN8F0HD0PIDw8tpQ8OnHnXDvu4Jw2BfjcOMkYfDd3sIw/qVdMP0gyvDWhBCw50xTMNNY47Dpndtw4rdCMN9CTrDifwcw19yisNczzfDsUtxw4EeasP+k2rD9MaDwzJqb8MXnHrDpuJhw1q7J8PlkjPDk1k8w+ispsPM4BzDWJp8w221E8MOQJDD45+LwzRjv8P8BTvDayRUw9PPMsOwN5PDWlW0w3u/YcP6RJ3D4McPwzz5fcN3P2vDGrI/w3j0N8OGo6XDAIt0w0xljMP8tZ3DSqqOwzMZdMOa5i7DncRRwzRRkcN033XDvL05w+pSksNEdJnD1xXlwqv+b8OTpVnDVbsJwxYVDMMNR0vDvC2qw/6fecMcyXDD4OeNw/b5EcMkVZXDlv5Pw8JLiMMDuWjDIg9Bw6VJAMMYal/D0JKHwzFpgsODbavDDDePw/dPMMNTqILDBSp0w7SJpMM35jDDGC+Aw5QTScNkoqfDqpSDw/hnBcOquVzD1uCYwyIUa8MaOoPDh5Ajwyy9ocPH1DrDd6a1w75LjMP5pX/Daus7w8xClcPAHIDDsuc9wySAqsN3aEfDRjeNw4kfJsMVD6rDiDxHw3rcU8MkeyjDfo2Jw5Y1psNktJ/Dmkqsw7qMOsOOylPDh241wwwmJMN5rTfDaviPwxA7mcNsqWPDWDWBwylPO8M=",
            "dtype": "f4"
           }
          },
          {
           "marker": {
            "color": "#FECB52",
            "line": {
             "color": "black",
             "width": 0.5
            },
            "size": 6,
            "symbol": "diamond"
           },
           "mode": "markers+text",
           "name": "Cluster 9",
           "text": [
            "C9"
           ],
           "textposition": "top center",
           "type": "scatter3d",
           "x": {
            "bdata": "ZPkFww==",
            "dtype": "f4"
           },
           "y": {
            "bdata": "4XhSwA==",
            "dtype": "f4"
           },
           "z": {
            "bdata": "9U5oww==",
            "dtype": "f4"
           }
          }
         ],
         "name": "frame3"
        }
       ],
       "layout": {
        "margin": {
         "b": 0,
         "l": 0,
         "r": 0,
         "t": 40
        },
        "scene": {
         "bgcolor": "white",
         "xaxis": {
          "title": {
           "text": "UMAP-1"
          }
         },
         "yaxis": {
          "title": {
           "text": "UMAP-2"
          }
         },
         "zaxis": {
          "title": {
           "text": "UMAP-3"
          }
         }
        },
        "sliders": [
         {
          "len": 0.6,
          "steps": [
           {
            "args": [
             [
              "frame0"
             ]
            ],
            "label": "0",
            "method": "animate"
           },
           {
            "args": [
             [
              "frame1"
             ]
            ],
            "label": "1",
            "method": "animate"
           },
           {
            "args": [
             [
              "frame2"
             ]
            ],
            "label": "2",
            "method": "animate"
           },
           {
            "args": [
             [
              "frame3"
             ]
            ],
            "label": "3",
            "method": "animate"
           }
          ],
          "transition": {
           "duration": 0
          },
          "x": 0.156,
          "y": 0
         }
        ],
        "template": {
         "data": {
          "bar": [
           {
            "error_x": {
             "color": "#2a3f5f"
            },
            "error_y": {
             "color": "#2a3f5f"
            },
            "marker": {
             "line": {
              "color": "#E5ECF6",
              "width": 0.5
             },
             "pattern": {
              "fillmode": "overlay",
              "size": 10,
              "solidity": 0.2
             }
            },
            "type": "bar"
           }
          ],
          "barpolar": [
           {
            "marker": {
             "line": {
              "color": "#E5ECF6",
              "width": 0.5
             },
             "pattern": {
              "fillmode": "overlay",
              "size": 10,
              "solidity": 0.2
             }
            },
            "type": "barpolar"
           }
          ],
          "carpet": [
           {
            "aaxis": {
             "endlinecolor": "#2a3f5f",
             "gridcolor": "white",
             "linecolor": "white",
             "minorgridcolor": "white",
             "startlinecolor": "#2a3f5f"
            },
            "baxis": {
             "endlinecolor": "#2a3f5f",
             "gridcolor": "white",
             "linecolor": "white",
             "minorgridcolor": "white",
             "startlinecolor": "#2a3f5f"
            },
            "type": "carpet"
           }
          ],
          "choropleth": [
           {
            "colorbar": {
             "outlinewidth": 0,
             "ticks": ""
            },
            "type": "choropleth"
           }
          ],
          "contour": [
           {
            "colorbar": {
             "outlinewidth": 0,
             "ticks": ""
            },
            "colorscale": [
             [
              0,
              "#0d0887"
             ],
             [
              0.1111111111111111,
              "#46039f"
             ],
             [
              0.2222222222222222,
              "#7201a8"
             ],
             [
              0.3333333333333333,
              "#9c179e"
             ],
             [
              0.4444444444444444,
              "#bd3786"
             ],
             [
              0.5555555555555556,
              "#d8576b"
             ],
             [
              0.6666666666666666,
              "#ed7953"
             ],
             [
              0.7777777777777778,
              "#fb9f3a"
             ],
             [
              0.8888888888888888,
              "#fdca26"
             ],
             [
              1,
              "#f0f921"
             ]
            ],
            "type": "contour"
           }
          ],
          "contourcarpet": [
           {
            "colorbar": {
             "outlinewidth": 0,
             "ticks": ""
            },
            "type": "contourcarpet"
           }
          ],
          "heatmap": [
           {
            "colorbar": {
             "outlinewidth": 0,
             "ticks": ""
            },
            "colorscale": [
             [
              0,
              "#0d0887"
             ],
             [
              0.1111111111111111,
              "#46039f"
             ],
             [
              0.2222222222222222,
              "#7201a8"
             ],
             [
              0.3333333333333333,
              "#9c179e"
             ],
             [
              0.4444444444444444,
              "#bd3786"
             ],
             [
              0.5555555555555556,
              "#d8576b"
             ],
             [
              0.6666666666666666,
              "#ed7953"
             ],
             [
              0.7777777777777778,
              "#fb9f3a"
             ],
             [
              0.8888888888888888,
              "#fdca26"
             ],
             [
              1,
              "#f0f921"
             ]
            ],
            "type": "heatmap"
           }
          ],
          "histogram": [
           {
            "marker": {
             "pattern": {
              "fillmode": "overlay",
              "size": 10,
              "solidity": 0.2
             }
            },
            "type": "histogram"
           }
          ],
          "histogram2d": [
           {
            "colorbar": {
             "outlinewidth": 0,
             "ticks": ""
            },
            "colorscale": [
             [
              0,
              "#0d0887"
             ],
             [
              0.1111111111111111,
              "#46039f"
             ],
             [
              0.2222222222222222,
              "#7201a8"
             ],
             [
              0.3333333333333333,
              "#9c179e"
             ],
             [
              0.4444444444444444,
              "#bd3786"
             ],
             [
              0.5555555555555556,
              "#d8576b"
             ],
             [
              0.6666666666666666,
              "#ed7953"
             ],
             [
              0.7777777777777778,
              "#fb9f3a"
             ],
             [
              0.8888888888888888,
              "#fdca26"
             ],
             [
              1,
              "#f0f921"
             ]
            ],
            "type": "histogram2d"
           }
          ],
          "histogram2dcontour": [
           {
            "colorbar": {
             "outlinewidth": 0,
             "ticks": ""
            },
            "colorscale": [
             [
              0,
              "#0d0887"
             ],
             [
              0.1111111111111111,
              "#46039f"
             ],
             [
              0.2222222222222222,
              "#7201a8"
             ],
             [
              0.3333333333333333,
              "#9c179e"
             ],
             [
              0.4444444444444444,
              "#bd3786"
             ],
             [
              0.5555555555555556,
              "#d8576b"
             ],
             [
              0.6666666666666666,
              "#ed7953"
             ],
             [
              0.7777777777777778,
              "#fb9f3a"
             ],
             [
              0.8888888888888888,
              "#fdca26"
             ],
             [
              1,
              "#f0f921"
             ]
            ],
            "type": "histogram2dcontour"
           }
          ],
          "mesh3d": [
           {
            "colorbar": {
             "outlinewidth": 0,
             "ticks": ""
            },
            "type": "mesh3d"
           }
          ],
          "parcoords": [
           {
            "line": {
             "colorbar": {
              "outlinewidth": 0,
              "ticks": ""
             }
            },
            "type": "parcoords"
           }
          ],
          "pie": [
           {
            "automargin": true,
            "type": "pie"
           }
          ],
          "scatter": [
           {
            "fillpattern": {
             "fillmode": "overlay",
             "size": 10,
             "solidity": 0.2
            },
            "type": "scatter"
           }
          ],
          "scatter3d": [
           {
            "line": {
             "colorbar": {
              "outlinewidth": 0,
              "ticks": ""
             }
            },
            "marker": {
             "colorbar": {
              "outlinewidth": 0,
              "ticks": ""
             }
            },
            "type": "scatter3d"
           }
          ],
          "scattercarpet": [
           {
            "marker": {
             "colorbar": {
              "outlinewidth": 0,
              "ticks": ""
             }
            },
            "type": "scattercarpet"
           }
          ],
          "scattergeo": [
           {
            "marker": {
             "colorbar": {
              "outlinewidth": 0,
              "ticks": ""
             }
            },
            "type": "scattergeo"
           }
          ],
          "scattergl": [
           {
            "marker": {
             "colorbar": {
              "outlinewidth": 0,
              "ticks": ""
             }
            },
            "type": "scattergl"
           }
          ],
          "scattermap": [
           {
            "marker": {
             "colorbar": {
              "outlinewidth": 0,
              "ticks": ""
             }
            },
            "type": "scattermap"
           }
          ],
          "scattermapbox": [
           {
            "marker": {
             "colorbar": {
              "outlinewidth": 0,
              "ticks": ""
             }
            },
            "type": "scattermapbox"
           }
          ],
          "scatterpolar": [
           {
            "marker": {
             "colorbar": {
              "outlinewidth": 0,
              "ticks": ""
             }
            },
            "type": "scatterpolar"
           }
          ],
          "scatterpolargl": [
           {
            "marker": {
             "colorbar": {
              "outlinewidth": 0,
              "ticks": ""
             }
            },
            "type": "scatterpolargl"
           }
          ],
          "scatterternary": [
           {
            "marker": {
             "colorbar": {
              "outlinewidth": 0,
              "ticks": ""
             }
            },
            "type": "scatterternary"
           }
          ],
          "surface": [
           {
            "colorbar": {
             "outlinewidth": 0,
             "ticks": ""
            },
            "colorscale": [
             [
              0,
              "#0d0887"
             ],
             [
              0.1111111111111111,
              "#46039f"
             ],
             [
              0.2222222222222222,
              "#7201a8"
             ],
             [
              0.3333333333333333,
              "#9c179e"
             ],
             [
              0.4444444444444444,
              "#bd3786"
             ],
             [
              0.5555555555555556,
              "#d8576b"
             ],
             [
              0.6666666666666666,
              "#ed7953"
             ],
             [
              0.7777777777777778,
              "#fb9f3a"
             ],
             [
              0.8888888888888888,
              "#fdca26"
             ],
             [
              1,
              "#f0f921"
             ]
            ],
            "type": "surface"
           }
          ],
          "table": [
           {
            "cells": {
             "fill": {
              "color": "#EBF0F8"
             },
             "line": {
              "color": "white"
             }
            },
            "header": {
             "fill": {
              "color": "#C8D4E3"
             },
             "line": {
              "color": "white"
             }
            },
            "type": "table"
           }
          ]
         },
         "layout": {
          "annotationdefaults": {
           "arrowcolor": "#2a3f5f",
           "arrowhead": 0,
           "arrowwidth": 1
          },
          "autotypenumbers": "strict",
          "coloraxis": {
           "colorbar": {
            "outlinewidth": 0,
            "ticks": ""
           }
          },
          "colorscale": {
           "diverging": [
            [
             0,
             "#8e0152"
            ],
            [
             0.1,
             "#c51b7d"
            ],
            [
             0.2,
             "#de77ae"
            ],
            [
             0.3,
             "#f1b6da"
            ],
            [
             0.4,
             "#fde0ef"
            ],
            [
             0.5,
             "#f7f7f7"
            ],
            [
             0.6,
             "#e6f5d0"
            ],
            [
             0.7,
             "#b8e186"
            ],
            [
             0.8,
             "#7fbc41"
            ],
            [
             0.9,
             "#4d9221"
            ],
            [
             1,
             "#276419"
            ]
           ],
           "sequential": [
            [
             0,
             "#0d0887"
            ],
            [
             0.1111111111111111,
             "#46039f"
            ],
            [
             0.2222222222222222,
             "#7201a8"
            ],
            [
             0.3333333333333333,
             "#9c179e"
            ],
            [
             0.4444444444444444,
             "#bd3786"
            ],
            [
             0.5555555555555556,
             "#d8576b"
            ],
            [
             0.6666666666666666,
             "#ed7953"
            ],
            [
             0.7777777777777778,
             "#fb9f3a"
            ],
            [
             0.8888888888888888,
             "#fdca26"
            ],
            [
             1,
             "#f0f921"
            ]
           ],
           "sequentialminus": [
            [
             0,
             "#0d0887"
            ],
            [
             0.1111111111111111,
             "#46039f"
            ],
            [
             0.2222222222222222,
             "#7201a8"
            ],
            [
             0.3333333333333333,
             "#9c179e"
            ],
            [
             0.4444444444444444,
             "#bd3786"
            ],
            [
             0.5555555555555556,
             "#d8576b"
            ],
            [
             0.6666666666666666,
             "#ed7953"
            ],
            [
             0.7777777777777778,
             "#fb9f3a"
            ],
            [
             0.8888888888888888,
             "#fdca26"
            ],
            [
             1,
             "#f0f921"
            ]
           ]
          },
          "colorway": [
           "#636efa",
           "#EF553B",
           "#00cc96",
           "#ab63fa",
           "#FFA15A",
           "#19d3f3",
           "#FF6692",
           "#B6E880",
           "#FF97FF",
           "#FECB52"
          ],
          "font": {
           "color": "#2a3f5f"
          },
          "geo": {
           "bgcolor": "white",
           "lakecolor": "white",
           "landcolor": "#E5ECF6",
           "showlakes": true,
           "showland": true,
           "subunitcolor": "white"
          },
          "hoverlabel": {
           "align": "left"
          },
          "hovermode": "closest",
          "mapbox": {
           "style": "light"
          },
          "paper_bgcolor": "white",
          "plot_bgcolor": "#E5ECF6",
          "polar": {
           "angularaxis": {
            "gridcolor": "white",
            "linecolor": "white",
            "ticks": ""
           },
           "bgcolor": "#E5ECF6",
           "radialaxis": {
            "gridcolor": "white",
            "linecolor": "white",
            "ticks": ""
           }
          },
          "scene": {
           "xaxis": {
            "backgroundcolor": "#E5ECF6",
            "gridcolor": "white",
            "gridwidth": 2,
            "linecolor": "white",
            "showbackground": true,
            "ticks": "",
            "zerolinecolor": "white"
           },
           "yaxis": {
            "backgroundcolor": "#E5ECF6",
            "gridcolor": "white",
            "gridwidth": 2,
            "linecolor": "white",
            "showbackground": true,
            "ticks": "",
            "zerolinecolor": "white"
           },
           "zaxis": {
            "backgroundcolor": "#E5ECF6",
            "gridcolor": "white",
            "gridwidth": 2,
            "linecolor": "white",
            "showbackground": true,
            "ticks": "",
            "zerolinecolor": "white"
           }
          },
          "shapedefaults": {
           "line": {
            "color": "#2a3f5f"
           }
          },
          "ternary": {
           "aaxis": {
            "gridcolor": "white",
            "linecolor": "white",
            "ticks": ""
           },
           "baxis": {
            "gridcolor": "white",
            "linecolor": "white",
            "ticks": ""
           },
           "bgcolor": "#E5ECF6",
           "caxis": {
            "gridcolor": "white",
            "linecolor": "white",
            "ticks": ""
           }
          },
          "title": {
           "x": 0.05
          },
          "xaxis": {
           "automargin": true,
           "gridcolor": "white",
           "linecolor": "white",
           "ticks": "",
           "title": {
            "standoff": 15
           },
           "zerolinecolor": "white",
           "zerolinewidth": 2
          },
          "yaxis": {
           "automargin": true,
           "gridcolor": "white",
           "linecolor": "white",
           "ticks": "",
           "title": {
            "standoff": 15
           },
           "zerolinecolor": "white",
           "zerolinewidth": 2
          }
         }
        },
        "title": {
         "text": "🌌 UMAP 3D K-Means Iterations"
        },
        "updatemenus": [
         {
          "buttons": [
           {
            "args": [
             null
            ],
            "label": "Play",
            "method": "animate"
           }
          ],
          "showactive": false,
          "type": "buttons"
         }
        ]
       }
      }
     },
     "metadata": {},
     "output_type": "display_data"
    }
   ],
   "source": [
    "# Bernat: any setting <1 will cause sorting order artifacts because of\n",
    "# the rendering engine's static sorting order on transparents.\n",
    "point_opacity = 1\n",
    "\n",
    "colors = px.colors.qualitative.Plotly\n",
    "\n",
    "# Static layout\n",
    "layout = go.Layout(\n",
    "    title=\"🌌 UMAP 3D K-Means Iterations\",\n",
    "    margin=dict(l=0, r=0, b=0, t=40),\n",
    "    scene=dict(\n",
    "        xaxis_title='UMAP-1',\n",
    "        yaxis_title='UMAP-2',\n",
    "        zaxis_title='UMAP-3',\n",
    "        bgcolor='white'\n",
    "    ),\n",
    "    updatemenus=[dict(\n",
    "        type='buttons',\n",
    "        showactive=False,\n",
    "        buttons=[dict(label='Play', method='animate', args=[None])]\n",
    "    )],\n",
    "    sliders=[dict(\n",
    "        steps=[dict(method='animate', args=[[f'frame{k}']], label=str(k)) for k in range(len(iterations))],\n",
    "        transition=dict(duration=0),\n",
    "        x=0.156, y=0, len=0.6\n",
    "    )]\n",
    ")\n",
    "\n",
    "# Initial empty figure\n",
    "fig = go.Figure(layout=layout)\n",
    "\n",
    "# Initial data for frame 0\n",
    "iter0 = iteration_meta[0]\n",
    "cmap = {cid: colors[i % len(colors)] for i, cid in enumerate(np.unique(iter0['centroid_ids']))}\n",
    "\n",
    "for cid in cmap:\n",
    "    mask = iter0['point_cluster_ids'] == cid\n",
    "    fig.add_trace(go.Scatter3d(\n",
    "        x=points_3d_per_iter[0][mask, 0],\n",
    "        y=points_3d_per_iter[0][mask, 1],\n",
    "        z=points_3d_per_iter[0][mask, 2],\n",
    "        mode='markers',\n",
    "        marker=dict(size=4, color=cmap[cid], opacity=point_opacity),\n",
    "        showlegend=False,\n",
    "        name = 'C' + str(cid)\n",
    "    ))\n",
    "    mask = iter0['centroid_ids'] == cid\n",
    "    fig.add_trace(go.Scatter3d(\n",
    "        x=centroids_3d_per_iter[0][mask, 0],\n",
    "        y=centroids_3d_per_iter[0][mask, 1],\n",
    "        z=centroids_3d_per_iter[0][mask, 2],\n",
    "        mode='markers+text',\n",
    "        marker=dict(size=6, symbol='diamond', color=cmap[cid], line=dict(width=0.5, color='black')),\n",
    "        name=f'Cluster {cid}',\n",
    "        text=[f\"C{cid}\"] * np.sum(mask),\n",
    "        textposition=\"top center\"\n",
    "    ))\n",
    "\n",
    "# Add frames\n",
    "frames = []\n",
    "for k, meta in enumerate(iteration_meta):\n",
    "    frame_data = []\n",
    "    cmap = {cid: colors[i % len(colors)] for i, cid in enumerate(np.unique(meta['centroid_ids']))}\n",
    "\n",
    "    for cid in cmap:\n",
    "        mask_p = meta['point_cluster_ids'] == cid\n",
    "        mask_c = meta['centroid_ids'] == cid\n",
    "\n",
    "        frame_data.append(go.Scatter3d(\n",
    "            x=points_3d_per_iter[k][mask_p, 0],\n",
    "            y=points_3d_per_iter[k][mask_p, 1],\n",
    "            z=points_3d_per_iter[k][mask_p, 2],\n",
    "            mode='markers',\n",
    "            marker=dict(size=4, color=cmap[cid], opacity=point_opacity),\n",
    "            showlegend=False\n",
    "        ))\n",
    "        frame_data.append(go.Scatter3d(\n",
    "            x=centroids_3d_per_iter[k][mask_c, 0],\n",
    "            y=centroids_3d_per_iter[k][mask_c, 1],\n",
    "            z=centroids_3d_per_iter[k][mask_c, 2],\n",
    "            mode='markers+text',\n",
    "            marker=dict(size=6, symbol='diamond', color=cmap[cid], line=dict(width=0.5, color='black')),\n",
    "            name=f'Cluster {cid}',\n",
    "            text=[f\"C{cid}\"] * np.sum(mask_c),\n",
    "            textposition=\"top center\"\n",
    "        ))\n",
    "\n",
    "    frames.append(go.Frame(data=frame_data, name=f\"frame{k}\"))\n",
    "\n",
    "fig.frames = frames\n",
    "fig.show()\n"
   ]
  }
 ],
 "metadata": {
  "kernelspec": {
   "display_name": ".venv",
   "language": "python",
   "name": "python3"
  },
  "language_info": {
   "codemirror_mode": {
    "name": "ipython",
    "version": 3
   },
   "file_extension": ".py",
   "mimetype": "text/x-python",
   "name": "python",
   "nbconvert_exporter": "python",
   "pygments_lexer": "ipython3",
   "version": "3.11.2"
  }
 },
 "nbformat": 4,
 "nbformat_minor": 5
}
