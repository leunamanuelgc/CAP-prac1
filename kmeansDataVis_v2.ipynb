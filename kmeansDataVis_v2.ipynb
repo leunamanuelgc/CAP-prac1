{
 "cells": [
  {
   "cell_type": "code",
   "execution_count": 25,
   "id": "136a0079",
   "metadata": {},
   "outputs": [],
   "source": [
    "import struct\n",
    "import numpy as np\n",
    "import umap\n",
    "import plotly.graph_objects as go\n",
    "import plotly.express as px"
   ]
  },
  {
   "cell_type": "code",
   "execution_count": 26,
   "id": "0db8952f",
   "metadata": {},
   "outputs": [],
   "source": [
    "def read_all_iterations(filename):\n",
    "    iterations = []\n",
    "\n",
    "    with open(filename, \"rb\") as f:\n",
    "        # Read header once\n",
    "        n_clusters = struct.unpack(\"I\", f.read(4))[0]\n",
    "        n_points = struct.unpack(\"I\", f.read(4))[0]\n",
    "        n_dim = struct.unpack(\"I\", f.read(4))[0]\n",
    "\n",
    "        # Determine how many bytes one iteration takes\n",
    "        bytes_per_centroid = (4 * n_dim) + 4  # centroid values + id\n",
    "        bytes_per_point = (4 * n_dim) + 4     # point values + cluster_id\n",
    "        bytes_per_iteration = n_clusters * bytes_per_centroid + n_points * bytes_per_point\n",
    "\n",
    "        file_data = f.read()\n",
    "        total_bytes = len(file_data)\n",
    "        n_iterations = total_bytes // bytes_per_iteration\n",
    "\n",
    "        print(f\"📦 Detected {n_iterations} iterations\")\n",
    "\n",
    "        offset = 0\n",
    "        for iter_idx in range(n_iterations):\n",
    "            # --- Read centroids ---\n",
    "            centroid_data = np.zeros((n_clusters, n_dim), dtype=np.float32)\n",
    "            centroid_ids = np.zeros(n_clusters, dtype=np.int32)\n",
    "            for i in range(n_clusters):\n",
    "                start = offset\n",
    "                centroid_data[i] = np.frombuffer(file_data[start:start + 4 * n_dim], dtype=np.float32)\n",
    "                offset += 4 * n_dim\n",
    "                centroid_ids[i] = struct.unpack(\"i\", file_data[offset:offset + 4])[0]\n",
    "                offset += 4\n",
    "\n",
    "            # --- Read points ---\n",
    "            point_data = np.zeros((n_points, n_dim), dtype=np.float32)\n",
    "            point_cluster_ids = np.zeros(n_points, dtype=np.int32)\n",
    "            for i in range(n_points):\n",
    "                start = offset\n",
    "                point_data[i] = np.frombuffer(file_data[start:start + 4 * n_dim], dtype=np.float32)\n",
    "                offset += 4 * n_dim\n",
    "                point_cluster_ids[i] = struct.unpack(\"i\", file_data[offset:offset + 4])[0]\n",
    "                offset += 4\n",
    "\n",
    "            iterations.append({\n",
    "                'points': point_data,\n",
    "                'point_cluster_ids': point_cluster_ids,\n",
    "                'centroids': centroid_data,\n",
    "                'centroid_ids': centroid_ids,\n",
    "                'n_points': n_points,\n",
    "                'n_centroids': n_clusters\n",
    "            })\n",
    "\n",
    "    return n_clusters, n_points, n_dim, iterations"
   ]
  },
  {
   "cell_type": "code",
   "execution_count": 27,
   "id": "4d29fe23",
   "metadata": {},
   "outputs": [
    {
     "name": "stdout",
     "output_type": "stream",
     "text": [
      "📦 Detected 10 iterations\n"
     ]
    }
   ],
   "source": [
    "filename = \"./build/data/cluster_data\"\n",
    "n_clusters, n_points, n_dim, iterations = read_all_iterations(filename)"
   ]
  },
  {
   "cell_type": "code",
   "execution_count": 28,
   "id": "a9035409",
   "metadata": {},
   "outputs": [
    {
     "name": "stdout",
     "output_type": "stream",
     "text": [
      "✅ First iteration summary:\n",
      "Centroids:\n",
      " [[ 186.8906   ]\n",
      " [  87.09044  ]\n",
      " [  65.93164  ]\n",
      " [ -26.194336 ]\n",
      " [  -1.4538269]\n",
      " [-154.16461  ]\n",
      " [  13.540939 ]\n",
      " [  46.56109  ]\n",
      " [  57.317913 ]\n",
      " [  31.976303 ]]\n",
      "Points shape: (70, 1)\n",
      "Unique cluster IDs: [0 1 2 3 4 5 6 7 8 9]\n"
     ]
    }
   ],
   "source": [
    "print(\"✅ First iteration summary:\")\n",
    "print(\"Centroids:\\n\", iterations[0]['centroids'])\n",
    "print(\"Points shape:\", iterations[0]['points'].shape)\n",
    "print(\"Unique cluster IDs:\", np.unique(iterations[0]['centroid_ids']))\n"
   ]
  },
  {
   "cell_type": "code",
   "execution_count": 29,
   "id": "666168cf",
   "metadata": {},
   "outputs": [],
   "source": [
    "all_points = []\n",
    "all_centroids = []\n",
    "all_point_ids = []\n",
    "iteration_meta = []\n",
    "\n",
    "for i, it in enumerate(iterations):\n",
    "    all_points.append(it['points'])\n",
    "    all_centroids.append(it['centroids'])\n",
    "    all_point_ids.append(it['point_cluster_ids'])\n",
    "\n",
    "    iteration_meta.append({\n",
    "        'n_points': len(it['points']),\n",
    "        'n_centroids': len(it['centroids']),\n",
    "        'point_cluster_ids': it['point_cluster_ids'],\n",
    "        'centroid_ids': it['centroid_ids'],\n",
    "    })\n",
    "\n",
    "# Stack all points for reduction\n",
    "points_concat = np.vstack(all_points)\n",
    "centroids_concat = np.vstack(all_centroids)\n",
    "\n",
    "if points_concat.shape[1] > 3:\n",
    "    reducer = umap.UMAP(\n",
    "        n_components=3,\n",
    "        n_neighbors=50,\n",
    "        min_dist=1,\n",
    "        metric='euclidean',\n",
    "        low_memory=True,\n",
    "    )\n",
    "    points_umap = reducer.fit_transform(points_concat)\n",
    "    centroids_umap = reducer.transform(centroids_concat)\n",
    "elif points_concat.shape[1] < 3:\n",
    "    padding = ((0, 0), (0, 3 - points_concat.shape[1]))\n",
    "    points_umap = np.pad(points_concat, padding, mode='constant', constant_values=0)\n",
    "    centroids_umap = np.pad(centroids_concat, padding, mode='constant', constant_values=0)\n",
    "else:\n",
    "    points_umap = points_concat\n",
    "    centroids_umap = centroids_concat\n"
   ]
  },
  {
   "cell_type": "code",
   "execution_count": 30,
   "id": "ceb7bc70",
   "metadata": {},
   "outputs": [],
   "source": [
    "points_3d_per_iter = []\n",
    "centroids_3d_per_iter = []\n",
    "\n",
    "p_idx, c_idx = 0, 0\n",
    "for meta in iteration_meta:\n",
    "    np_ = meta['n_points']\n",
    "    nc_ = meta['n_centroids']\n",
    "    points_3d_per_iter.append(points_umap[p_idx:p_idx+np_])\n",
    "    centroids_3d_per_iter.append(centroids_umap[c_idx:c_idx+nc_])\n",
    "    p_idx += np_\n",
    "    c_idx += nc_\n"
   ]
  },
  {
   "cell_type": "code",
   "execution_count": 31,
   "id": "2994bde6",
   "metadata": {},
   "outputs": [],
   "source": [
    "def voxel_downsample(points, cluster_ids, voxel_size=0.1, max_points=10_000):\n",
    "    max_points = int(max_points)\n",
    "    down_points, down_ids = [], []\n",
    "    for cid in np.unique(cluster_ids):\n",
    "        pts = points[cluster_ids == cid]\n",
    "        if len(pts) == 0:\n",
    "            continue\n",
    "        vox = np.floor(pts / voxel_size).astype(int)\n",
    "        _, idx = np.unique(vox, axis=0, return_index=True)\n",
    "        reduced = pts[idx]\n",
    "        if len(reduced) > max_points:\n",
    "            reduced = reduced[np.random.choice(len(reduced), max_points, replace=False)]\n",
    "        down_points.append(reduced)\n",
    "        down_ids.append(np.full(len(reduced), cid, dtype=np.int32))\n",
    "    return np.vstack(down_points), np.concatenate(down_ids)\n",
    "\n",
    "reduced_points_3d_per_iter = []\n",
    "reduced_cluster_ids_per_iter = []\n",
    "max_points_per_iter = 3500\n",
    "\n",
    "for i, (pts3d, meta) in enumerate(zip(points_3d_per_iter, iteration_meta)):\n",
    "    if len(pts3d) > max_points_per_iter:\n",
    "        reduced_pts, reduced_ids = voxel_downsample(pts3d, meta['point_cluster_ids'], max_points=max_points_per_iter/n_clusters)\n",
    "        reduced_points_3d_per_iter.append(reduced_pts)\n",
    "        reduced_cluster_ids_per_iter.append(reduced_ids)\n",
    "    else:\n",
    "        reduced_points_3d_per_iter.append(pts3d)\n",
    "        reduced_cluster_ids_per_iter.append(meta['point_cluster_ids'])\n",
    "\n",
    "# Replace old lists with reduced versions\n",
    "points_3d_per_iter = reduced_points_3d_per_iter\n",
    "for i in range(len(iteration_meta)):\n",
    "    iteration_meta[i]['point_cluster_ids'] = reduced_cluster_ids_per_iter[i]\n"
   ]
  },
  {
   "cell_type": "code",
   "execution_count": 32,
   "id": "e1e0f2ae",
   "metadata": {},
   "outputs": [
    {
     "data": {
      "application/vnd.plotly.v1+json": {
       "config": {
        "plotlyServerURL": "https://plot.ly"
       },
       "data": [
        {
         "marker": {
          "color": "#636EFA",
          "opacity": 1,
          "size": 4
         },
         "mode": "markers",
         "name": "C0",
         "showlegend": false,
         "type": "scatter3d",
         "x": {
          "bdata": "zqfvQpuWjENjFC5D7/mkQ/W5ZkPWeY9DJg/eQgK9CkN3fBFDupAqQzO9GUNz3jVDWjvkQv8eV0P28TRDBCINQ0CpIEPdqDJDFmdLQ7qR4kKjhnFD2G1JQ/7CdUNh50VDqWBGQ4AFQkP4aDlDG6xYQwqF1kI=",
          "dtype": "f4"
         },
         "y": {
          "bdata": "AAAAAAAAAAAAAAAAAAAAAAAAAAAAAAAAAAAAAAAAAAAAAAAAAAAAAAAAAAAAAAAAAAAAAAAAAAAAAAAAAAAAAAAAAAAAAAAAAAAAAAAAAAAAAAAAAAAAAAAAAAAAAAAAAAAAAAAAAAAAAAAAAAAAAAAAAAA=",
          "dtype": "f4"
         },
         "z": {
          "bdata": "AAAAAAAAAAAAAAAAAAAAAAAAAAAAAAAAAAAAAAAAAAAAAAAAAAAAAAAAAAAAAAAAAAAAAAAAAAAAAAAAAAAAAAAAAAAAAAAAAAAAAAAAAAAAAAAAAAAAAAAAAAAAAAAAAAAAAAAAAAAAAAAAAAAAAAAAAAA=",
          "dtype": "f4"
         }
        },
        {
         "marker": {
          "color": "#636EFA",
          "line": {
           "color": "black",
           "width": 0.5
          },
          "size": 6,
          "symbol": "diamond"
         },
         "mode": "markers+text",
         "name": "Cluster 0",
         "text": [
          "C0"
         ],
         "textposition": "top center",
         "type": "scatter3d",
         "x": {
          "bdata": "/uM6Qw==",
          "dtype": "f4"
         },
         "y": {
          "bdata": "AAAAAA==",
          "dtype": "f4"
         },
         "z": {
          "bdata": "AAAAAA==",
          "dtype": "f4"
         }
        },
        {
         "marker": {
          "color": "#EF553B",
          "opacity": 1,
          "size": 4
         },
         "mode": "markers",
         "name": "C1",
         "showlegend": false,
         "type": "scatter3d",
         "x": {
          "bdata": "oozGQogZsUJbaJdCtaqpQg==",
          "dtype": "f4"
         },
         "y": {
          "bdata": "AAAAAAAAAAAAAAAAAAAAAA==",
          "dtype": "f4"
         },
         "z": {
          "bdata": "AAAAAAAAAAAAAAAAAAAAAA==",
          "dtype": "f4"
         }
        },
        {
         "marker": {
          "color": "#EF553B",
          "line": {
           "color": "black",
           "width": 0.5
          },
          "size": 6,
          "symbol": "diamond"
         },
         "mode": "markers+text",
         "name": "Cluster 1",
         "text": [
          "C1"
         ],
         "textposition": "top center",
         "type": "scatter3d",
         "x": {
          "bdata": "Ti6uQg==",
          "dtype": "f4"
         },
         "y": {
          "bdata": "AAAAAA==",
          "dtype": "f4"
         },
         "z": {
          "bdata": "AAAAAA==",
          "dtype": "f4"
         }
        },
        {
         "marker": {
          "color": "#00CC96",
          "opacity": 1,
          "size": 4
         },
         "mode": "markers",
         "name": "C2",
         "showlegend": false,
         "type": "scatter3d",
         "x": {
          "bdata": "Ad2DQg==",
          "dtype": "f4"
         },
         "y": {
          "bdata": "AAAAAA==",
          "dtype": "f4"
         },
         "z": {
          "bdata": "AAAAAA==",
          "dtype": "f4"
         }
        },
        {
         "marker": {
          "color": "#00CC96",
          "line": {
           "color": "black",
           "width": 0.5
          },
          "size": 6,
          "symbol": "diamond"
         },
         "mode": "markers+text",
         "name": "Cluster 2",
         "text": [
          "C2"
         ],
         "textposition": "top center",
         "type": "scatter3d",
         "x": {
          "bdata": "AN2DQg==",
          "dtype": "f4"
         },
         "y": {
          "bdata": "AAAAAA==",
          "dtype": "f4"
         },
         "z": {
          "bdata": "AAAAAA==",
          "dtype": "f4"
         }
        },
        {
         "marker": {
          "color": "#AB63FA",
          "opacity": 1,
          "size": 4
         },
         "mode": "markers",
         "name": "C3",
         "showlegend": false,
         "type": "scatter3d",
         "x": {
          "bdata": "zIcJwuIpu8Gcq47B7lLpwQ==",
          "dtype": "f4"
         },
         "y": {
          "bdata": "AAAAAAAAAAAAAAAAAAAAAA==",
          "dtype": "f4"
         },
         "z": {
          "bdata": "AAAAAAAAAAAAAAAAAAAAAA==",
          "dtype": "f4"
         }
        },
        {
         "marker": {
          "color": "#AB63FA",
          "line": {
           "color": "black",
           "width": 0.5
          },
          "size": 6,
          "symbol": "diamond"
         },
         "mode": "markers+text",
         "name": "Cluster 3",
         "text": [
          "C3"
         ],
         "textposition": "top center",
         "type": "scatter3d",
         "x": {
          "bdata": "AI7RwQ==",
          "dtype": "f4"
         },
         "y": {
          "bdata": "AAAAAA==",
          "dtype": "f4"
         },
         "z": {
          "bdata": "AAAAAA==",
          "dtype": "f4"
         }
        },
        {
         "marker": {
          "color": "#FFA15A",
          "opacity": 1,
          "size": 4
         },
         "mode": "markers",
         "name": "C4",
         "showlegend": false,
         "type": "scatter3d",
         "x": {
          "bdata": "wBa6vw==",
          "dtype": "f4"
         },
         "y": {
          "bdata": "AAAAAA==",
          "dtype": "f4"
         },
         "z": {
          "bdata": "AAAAAA==",
          "dtype": "f4"
         }
        },
        {
         "marker": {
          "color": "#FFA15A",
          "line": {
           "color": "black",
           "width": 0.5
          },
          "size": 6,
          "symbol": "diamond"
         },
         "mode": "markers+text",
         "name": "Cluster 4",
         "text": [
          "C4"
         ],
         "textposition": "top center",
         "type": "scatter3d",
         "x": {
          "bdata": "ABe6vw==",
          "dtype": "f4"
         },
         "y": {
          "bdata": "AAAAAA==",
          "dtype": "f4"
         },
         "z": {
          "bdata": "AAAAAA==",
          "dtype": "f4"
         }
        },
        {
         "marker": {
          "color": "#19D3F3",
          "opacity": 1,
          "size": 4
         },
         "mode": "markers",
         "name": "C5",
         "showlegend": false,
         "type": "scatter3d",
         "x": {
          "bdata": "r1R9w5tkS8IWVz/CZJ6Xwo6/zMLOChvC+B8nw9eukcMBG3/DO12Gw4G9FcN9ytLCqB/jwjwg+sLYPOXC35gMww42aMPrlxDD2ZU5wwmWQ8Kj8WnDCRQyw9M3XsM=",
          "dtype": "f4"
         },
         "y": {
          "bdata": "AAAAAAAAAAAAAAAAAAAAAAAAAAAAAAAAAAAAAAAAAAAAAAAAAAAAAAAAAAAAAAAAAAAAAAAAAAAAAAAAAAAAAAAAAAAAAAAAAAAAAAAAAAAAAAAAAAAAAAAAAAA=",
          "dtype": "f4"
         },
         "z": {
          "bdata": "AAAAAAAAAAAAAAAAAAAAAAAAAAAAAAAAAAAAAAAAAAAAAAAAAAAAAAAAAAAAAAAAAAAAAAAAAAAAAAAAAAAAAAAAAAAAAAAAAAAAAAAAAAAAAAAAAAAAAAAAAAA=",
          "dtype": "f4"
         }
        },
        {
         "marker": {
          "color": "#19D3F3",
          "line": {
           "color": "black",
           "width": 0.5
          },
          "size": 6,
          "symbol": "diamond"
         },
         "mode": "markers+text",
         "name": "Cluster 5",
         "text": [
          "C5"
         ],
         "textposition": "top center",
         "type": "scatter3d",
         "x": {
          "bdata": "JCoaww==",
          "dtype": "f4"
         },
         "y": {
          "bdata": "AAAAAA==",
          "dtype": "f4"
         },
         "z": {
          "bdata": "AAAAAA==",
          "dtype": "f4"
         }
        },
        {
         "marker": {
          "color": "#FF6692",
          "opacity": 1,
          "size": 4
         },
         "mode": "markers",
         "name": "C6",
         "showlegend": false,
         "type": "scatter3d",
         "x": {
          "bdata": "uESEQRiGDUGL53NB",
          "dtype": "f4"
         },
         "y": {
          "bdata": "AAAAAAAAAAAAAAAA",
          "dtype": "f4"
         },
         "z": {
          "bdata": "AAAAAAAAAAAAAAAA",
          "dtype": "f4"
         }
        },
        {
         "marker": {
          "color": "#FF6692",
          "line": {
           "color": "black",
           "width": 0.5
          },
          "size": 6,
          "symbol": "diamond"
         },
         "mode": "markers+text",
         "name": "Cluster 6",
         "text": [
          "C6"
         ],
         "textposition": "top center",
         "type": "scatter3d",
         "x": {
          "bdata": "sKdYQQ==",
          "dtype": "f4"
         },
         "y": {
          "bdata": "AAAAAA==",
          "dtype": "f4"
         },
         "z": {
          "bdata": "AAAAAA==",
          "dtype": "f4"
         }
        },
        {
         "marker": {
          "color": "#B6E880",
          "opacity": 1,
          "size": 4
         },
         "mode": "markers",
         "name": "C7",
         "showlegend": false,
         "type": "scatter3d",
         "x": [],
         "y": [],
         "z": []
        },
        {
         "marker": {
          "color": "#B6E880",
          "line": {
           "color": "black",
           "width": 0.5
          },
          "size": 6,
          "symbol": "diamond"
         },
         "mode": "markers+text",
         "name": "Cluster 7",
         "text": [
          "C7"
         ],
         "textposition": "top center",
         "type": "scatter3d",
         "x": {
          "bdata": "jj46Qg==",
          "dtype": "f4"
         },
         "y": {
          "bdata": "AAAAAA==",
          "dtype": "f4"
         },
         "z": {
          "bdata": "AAAAAA==",
          "dtype": "f4"
         }
        },
        {
         "marker": {
          "color": "#FF97FF",
          "opacity": 1,
          "size": 4
         },
         "mode": "markers",
         "name": "C8",
         "showlegend": false,
         "type": "scatter3d",
         "x": {
          "bdata": "qNZbQl2ZYEKWYHNC",
          "dtype": "f4"
         },
         "y": {
          "bdata": "AAAAAAAAAAAAAAAA",
          "dtype": "f4"
         },
         "z": {
          "bdata": "AAAAAAAAAAAAAAAA",
          "dtype": "f4"
         }
        },
        {
         "marker": {
          "color": "#FF97FF",
          "line": {
           "color": "black",
           "width": 0.5
          },
          "size": 6,
          "symbol": "diamond"
         },
         "mode": "markers+text",
         "name": "Cluster 8",
         "text": [
          "C8"
         ],
         "textposition": "top center",
         "type": "scatter3d",
         "x": {
          "bdata": "i0VlQg==",
          "dtype": "f4"
         },
         "y": {
          "bdata": "AAAAAA==",
          "dtype": "f4"
         },
         "z": {
          "bdata": "AAAAAA==",
          "dtype": "f4"
         }
        },
        {
         "marker": {
          "color": "#FECB52",
          "opacity": 1,
          "size": 4
         },
         "mode": "markers",
         "name": "C9",
         "showlegend": false,
         "type": "scatter3d",
         "x": {
          "bdata": "2CPwQYq9B0I=",
          "dtype": "f4"
         },
         "y": {
          "bdata": "AAAAAAAAAAA=",
          "dtype": "f4"
         },
         "z": {
          "bdata": "AAAAAAAAAAA=",
          "dtype": "f4"
         }
        },
        {
         "marker": {
          "color": "#FECB52",
          "line": {
           "color": "black",
           "width": 0.5
          },
          "size": 6,
          "symbol": "diamond"
         },
         "mode": "markers+text",
         "name": "Cluster 9",
         "text": [
          "C9"
         ],
         "textposition": "top center",
         "type": "scatter3d",
         "x": {
          "bdata": "eM//QQ==",
          "dtype": "f4"
         },
         "y": {
          "bdata": "AAAAAA==",
          "dtype": "f4"
         },
         "z": {
          "bdata": "AAAAAA==",
          "dtype": "f4"
         }
        }
       ],
       "frames": [
        {
         "data": [
          {
           "marker": {
            "color": "#636EFA",
            "opacity": 1,
            "size": 4
           },
           "mode": "markers",
           "showlegend": false,
           "type": "scatter3d",
           "x": {
            "bdata": "zqfvQpuWjENjFC5D7/mkQ/W5ZkPWeY9DJg/eQgK9CkN3fBFDupAqQzO9GUNz3jVDWjvkQv8eV0P28TRDBCINQ0CpIEPdqDJDFmdLQ7qR4kKjhnFD2G1JQ/7CdUNh50VDqWBGQ4AFQkP4aDlDG6xYQwqF1kI=",
            "dtype": "f4"
           },
           "y": {
            "bdata": "AAAAAAAAAAAAAAAAAAAAAAAAAAAAAAAAAAAAAAAAAAAAAAAAAAAAAAAAAAAAAAAAAAAAAAAAAAAAAAAAAAAAAAAAAAAAAAAAAAAAAAAAAAAAAAAAAAAAAAAAAAAAAAAAAAAAAAAAAAAAAAAAAAAAAAAAAAA=",
            "dtype": "f4"
           },
           "z": {
            "bdata": "AAAAAAAAAAAAAAAAAAAAAAAAAAAAAAAAAAAAAAAAAAAAAAAAAAAAAAAAAAAAAAAAAAAAAAAAAAAAAAAAAAAAAAAAAAAAAAAAAAAAAAAAAAAAAAAAAAAAAAAAAAAAAAAAAAAAAAAAAAAAAAAAAAAAAAAAAAA=",
            "dtype": "f4"
           }
          },
          {
           "marker": {
            "color": "#636EFA",
            "line": {
             "color": "black",
             "width": 0.5
            },
            "size": 6,
            "symbol": "diamond"
           },
           "mode": "markers+text",
           "name": "Cluster 0",
           "text": [
            "C0"
           ],
           "textposition": "top center",
           "type": "scatter3d",
           "x": {
            "bdata": "/uM6Qw==",
            "dtype": "f4"
           },
           "y": {
            "bdata": "AAAAAA==",
            "dtype": "f4"
           },
           "z": {
            "bdata": "AAAAAA==",
            "dtype": "f4"
           }
          },
          {
           "marker": {
            "color": "#EF553B",
            "opacity": 1,
            "size": 4
           },
           "mode": "markers",
           "showlegend": false,
           "type": "scatter3d",
           "x": {
            "bdata": "oozGQogZsUJbaJdCtaqpQg==",
            "dtype": "f4"
           },
           "y": {
            "bdata": "AAAAAAAAAAAAAAAAAAAAAA==",
            "dtype": "f4"
           },
           "z": {
            "bdata": "AAAAAAAAAAAAAAAAAAAAAA==",
            "dtype": "f4"
           }
          },
          {
           "marker": {
            "color": "#EF553B",
            "line": {
             "color": "black",
             "width": 0.5
            },
            "size": 6,
            "symbol": "diamond"
           },
           "mode": "markers+text",
           "name": "Cluster 1",
           "text": [
            "C1"
           ],
           "textposition": "top center",
           "type": "scatter3d",
           "x": {
            "bdata": "Ti6uQg==",
            "dtype": "f4"
           },
           "y": {
            "bdata": "AAAAAA==",
            "dtype": "f4"
           },
           "z": {
            "bdata": "AAAAAA==",
            "dtype": "f4"
           }
          },
          {
           "marker": {
            "color": "#00CC96",
            "opacity": 1,
            "size": 4
           },
           "mode": "markers",
           "showlegend": false,
           "type": "scatter3d",
           "x": {
            "bdata": "Ad2DQg==",
            "dtype": "f4"
           },
           "y": {
            "bdata": "AAAAAA==",
            "dtype": "f4"
           },
           "z": {
            "bdata": "AAAAAA==",
            "dtype": "f4"
           }
          },
          {
           "marker": {
            "color": "#00CC96",
            "line": {
             "color": "black",
             "width": 0.5
            },
            "size": 6,
            "symbol": "diamond"
           },
           "mode": "markers+text",
           "name": "Cluster 2",
           "text": [
            "C2"
           ],
           "textposition": "top center",
           "type": "scatter3d",
           "x": {
            "bdata": "AN2DQg==",
            "dtype": "f4"
           },
           "y": {
            "bdata": "AAAAAA==",
            "dtype": "f4"
           },
           "z": {
            "bdata": "AAAAAA==",
            "dtype": "f4"
           }
          },
          {
           "marker": {
            "color": "#AB63FA",
            "opacity": 1,
            "size": 4
           },
           "mode": "markers",
           "showlegend": false,
           "type": "scatter3d",
           "x": {
            "bdata": "zIcJwuIpu8Gcq47B7lLpwQ==",
            "dtype": "f4"
           },
           "y": {
            "bdata": "AAAAAAAAAAAAAAAAAAAAAA==",
            "dtype": "f4"
           },
           "z": {
            "bdata": "AAAAAAAAAAAAAAAAAAAAAA==",
            "dtype": "f4"
           }
          },
          {
           "marker": {
            "color": "#AB63FA",
            "line": {
             "color": "black",
             "width": 0.5
            },
            "size": 6,
            "symbol": "diamond"
           },
           "mode": "markers+text",
           "name": "Cluster 3",
           "text": [
            "C3"
           ],
           "textposition": "top center",
           "type": "scatter3d",
           "x": {
            "bdata": "AI7RwQ==",
            "dtype": "f4"
           },
           "y": {
            "bdata": "AAAAAA==",
            "dtype": "f4"
           },
           "z": {
            "bdata": "AAAAAA==",
            "dtype": "f4"
           }
          },
          {
           "marker": {
            "color": "#FFA15A",
            "opacity": 1,
            "size": 4
           },
           "mode": "markers",
           "showlegend": false,
           "type": "scatter3d",
           "x": {
            "bdata": "wBa6vw==",
            "dtype": "f4"
           },
           "y": {
            "bdata": "AAAAAA==",
            "dtype": "f4"
           },
           "z": {
            "bdata": "AAAAAA==",
            "dtype": "f4"
           }
          },
          {
           "marker": {
            "color": "#FFA15A",
            "line": {
             "color": "black",
             "width": 0.5
            },
            "size": 6,
            "symbol": "diamond"
           },
           "mode": "markers+text",
           "name": "Cluster 4",
           "text": [
            "C4"
           ],
           "textposition": "top center",
           "type": "scatter3d",
           "x": {
            "bdata": "ABe6vw==",
            "dtype": "f4"
           },
           "y": {
            "bdata": "AAAAAA==",
            "dtype": "f4"
           },
           "z": {
            "bdata": "AAAAAA==",
            "dtype": "f4"
           }
          },
          {
           "marker": {
            "color": "#19D3F3",
            "opacity": 1,
            "size": 4
           },
           "mode": "markers",
           "showlegend": false,
           "type": "scatter3d",
           "x": {
            "bdata": "r1R9w5tkS8IWVz/CZJ6Xwo6/zMLOChvC+B8nw9eukcMBG3/DO12Gw4G9FcN9ytLCqB/jwjwg+sLYPOXC35gMww42aMPrlxDD2ZU5wwmWQ8Kj8WnDCRQyw9M3XsM=",
            "dtype": "f4"
           },
           "y": {
            "bdata": "AAAAAAAAAAAAAAAAAAAAAAAAAAAAAAAAAAAAAAAAAAAAAAAAAAAAAAAAAAAAAAAAAAAAAAAAAAAAAAAAAAAAAAAAAAAAAAAAAAAAAAAAAAAAAAAAAAAAAAAAAAA=",
            "dtype": "f4"
           },
           "z": {
            "bdata": "AAAAAAAAAAAAAAAAAAAAAAAAAAAAAAAAAAAAAAAAAAAAAAAAAAAAAAAAAAAAAAAAAAAAAAAAAAAAAAAAAAAAAAAAAAAAAAAAAAAAAAAAAAAAAAAAAAAAAAAAAAA=",
            "dtype": "f4"
           }
          },
          {
           "marker": {
            "color": "#19D3F3",
            "line": {
             "color": "black",
             "width": 0.5
            },
            "size": 6,
            "symbol": "diamond"
           },
           "mode": "markers+text",
           "name": "Cluster 5",
           "text": [
            "C5"
           ],
           "textposition": "top center",
           "type": "scatter3d",
           "x": {
            "bdata": "JCoaww==",
            "dtype": "f4"
           },
           "y": {
            "bdata": "AAAAAA==",
            "dtype": "f4"
           },
           "z": {
            "bdata": "AAAAAA==",
            "dtype": "f4"
           }
          },
          {
           "marker": {
            "color": "#FF6692",
            "opacity": 1,
            "size": 4
           },
           "mode": "markers",
           "showlegend": false,
           "type": "scatter3d",
           "x": {
            "bdata": "uESEQRiGDUGL53NB",
            "dtype": "f4"
           },
           "y": {
            "bdata": "AAAAAAAAAAAAAAAA",
            "dtype": "f4"
           },
           "z": {
            "bdata": "AAAAAAAAAAAAAAAA",
            "dtype": "f4"
           }
          },
          {
           "marker": {
            "color": "#FF6692",
            "line": {
             "color": "black",
             "width": 0.5
            },
            "size": 6,
            "symbol": "diamond"
           },
           "mode": "markers+text",
           "name": "Cluster 6",
           "text": [
            "C6"
           ],
           "textposition": "top center",
           "type": "scatter3d",
           "x": {
            "bdata": "sKdYQQ==",
            "dtype": "f4"
           },
           "y": {
            "bdata": "AAAAAA==",
            "dtype": "f4"
           },
           "z": {
            "bdata": "AAAAAA==",
            "dtype": "f4"
           }
          },
          {
           "marker": {
            "color": "#B6E880",
            "opacity": 1,
            "size": 4
           },
           "mode": "markers",
           "showlegend": false,
           "type": "scatter3d",
           "x": [],
           "y": [],
           "z": []
          },
          {
           "marker": {
            "color": "#B6E880",
            "line": {
             "color": "black",
             "width": 0.5
            },
            "size": 6,
            "symbol": "diamond"
           },
           "mode": "markers+text",
           "name": "Cluster 7",
           "text": [
            "C7"
           ],
           "textposition": "top center",
           "type": "scatter3d",
           "x": {
            "bdata": "jj46Qg==",
            "dtype": "f4"
           },
           "y": {
            "bdata": "AAAAAA==",
            "dtype": "f4"
           },
           "z": {
            "bdata": "AAAAAA==",
            "dtype": "f4"
           }
          },
          {
           "marker": {
            "color": "#FF97FF",
            "opacity": 1,
            "size": 4
           },
           "mode": "markers",
           "showlegend": false,
           "type": "scatter3d",
           "x": {
            "bdata": "qNZbQl2ZYEKWYHNC",
            "dtype": "f4"
           },
           "y": {
            "bdata": "AAAAAAAAAAAAAAAA",
            "dtype": "f4"
           },
           "z": {
            "bdata": "AAAAAAAAAAAAAAAA",
            "dtype": "f4"
           }
          },
          {
           "marker": {
            "color": "#FF97FF",
            "line": {
             "color": "black",
             "width": 0.5
            },
            "size": 6,
            "symbol": "diamond"
           },
           "mode": "markers+text",
           "name": "Cluster 8",
           "text": [
            "C8"
           ],
           "textposition": "top center",
           "type": "scatter3d",
           "x": {
            "bdata": "i0VlQg==",
            "dtype": "f4"
           },
           "y": {
            "bdata": "AAAAAA==",
            "dtype": "f4"
           },
           "z": {
            "bdata": "AAAAAA==",
            "dtype": "f4"
           }
          },
          {
           "marker": {
            "color": "#FECB52",
            "opacity": 1,
            "size": 4
           },
           "mode": "markers",
           "showlegend": false,
           "type": "scatter3d",
           "x": {
            "bdata": "2CPwQYq9B0I=",
            "dtype": "f4"
           },
           "y": {
            "bdata": "AAAAAAAAAAA=",
            "dtype": "f4"
           },
           "z": {
            "bdata": "AAAAAAAAAAA=",
            "dtype": "f4"
           }
          },
          {
           "marker": {
            "color": "#FECB52",
            "line": {
             "color": "black",
             "width": 0.5
            },
            "size": 6,
            "symbol": "diamond"
           },
           "mode": "markers+text",
           "name": "Cluster 9",
           "text": [
            "C9"
           ],
           "textposition": "top center",
           "type": "scatter3d",
           "x": {
            "bdata": "eM//QQ==",
            "dtype": "f4"
           },
           "y": {
            "bdata": "AAAAAA==",
            "dtype": "f4"
           },
           "z": {
            "bdata": "AAAAAA==",
            "dtype": "f4"
           }
          }
         ],
         "name": "frame0"
        },
        {
         "data": [
          {
           "marker": {
            "color": "#636EFA",
            "opacity": 1,
            "size": 4
           },
           "mode": "markers",
           "showlegend": false,
           "type": "scatter3d",
           "x": {
            "bdata": "m5aMQ2MULkPv+aRD9blmQ9Z5j0MCvQpDd3wRQ7qQKkMzvRlDc941Q/8eV0P28TRDBCINQ0CpIEPdqDJDFmdLQ6OGcUPYbUlD/sJ1Q2HnRUOpYEZDgAVCQ/hoOUMbrFhD",
            "dtype": "f4"
           },
           "y": {
            "bdata": "AAAAAAAAAAAAAAAAAAAAAAAAAAAAAAAAAAAAAAAAAAAAAAAAAAAAAAAAAAAAAAAAAAAAAAAAAAAAAAAAAAAAAAAAAAAAAAAAAAAAAAAAAAAAAAAAAAAAAAAAAAAAAAAA",
            "dtype": "f4"
           },
           "z": {
            "bdata": "AAAAAAAAAAAAAAAAAAAAAAAAAAAAAAAAAAAAAAAAAAAAAAAAAAAAAAAAAAAAAAAAAAAAAAAAAAAAAAAAAAAAAAAAAAAAAAAAAAAAAAAAAAAAAAAAAAAAAAAAAAAAAAAA",
            "dtype": "f4"
           }
          },
          {
           "marker": {
            "color": "#636EFA",
            "line": {
             "color": "black",
             "width": 0.5
            },
            "size": 6,
            "symbol": "diamond"
           },
           "mode": "markers+text",
           "name": "Cluster 0",
           "text": [
            "C0"
           ],
           "textposition": "top center",
           "type": "scatter3d",
           "x": {
            "bdata": "TUNKQw==",
            "dtype": "f4"
           },
           "y": {
            "bdata": "AAAAAA==",
            "dtype": "f4"
           },
           "z": {
            "bdata": "AAAAAA==",
            "dtype": "f4"
           }
          },
          {
           "marker": {
            "color": "#EF553B",
            "opacity": 1,
            "size": 4
           },
           "mode": "markers",
           "showlegend": false,
           "type": "scatter3d",
           "x": {
            "bdata": "zqfvQiYP3kKijMZCWjvkQogZsUK1qqlCupHiQgqF1kI=",
            "dtype": "f4"
           },
           "y": {
            "bdata": "AAAAAAAAAAAAAAAAAAAAAAAAAAAAAAAAAAAAAAAAAAA=",
            "dtype": "f4"
           },
           "z": {
            "bdata": "AAAAAAAAAAAAAAAAAAAAAAAAAAAAAAAAAAAAAAAAAAA=",
            "dtype": "f4"
           }
          },
          {
           "marker": {
            "color": "#EF553B",
            "line": {
             "color": "black",
             "width": 0.5
            },
            "size": 6,
            "symbol": "diamond"
           },
           "mode": "markers+text",
           "name": "Cluster 1",
           "text": [
            "C1"
           ],
           "textposition": "top center",
           "type": "scatter3d",
           "x": {
            "bdata": "PovRQg==",
            "dtype": "f4"
           },
           "y": {
            "bdata": "AAAAAA==",
            "dtype": "f4"
           },
           "z": {
            "bdata": "AAAAAA==",
            "dtype": "f4"
           }
          },
          {
           "marker": {
            "color": "#00CC96",
            "opacity": 1,
            "size": 4
           },
           "mode": "markers",
           "showlegend": false,
           "type": "scatter3d",
           "x": {
            "bdata": "W2iXQgHdg0I=",
            "dtype": "f4"
           },
           "y": {
            "bdata": "AAAAAAAAAAA=",
            "dtype": "f4"
           },
           "z": {
            "bdata": "AAAAAAAAAAA=",
            "dtype": "f4"
           }
          },
          {
           "marker": {
            "color": "#00CC96",
            "line": {
             "color": "black",
             "width": 0.5
            },
            "size": 6,
            "symbol": "diamond"
           },
           "mode": "markers+text",
           "name": "Cluster 2",
           "text": [
            "C2"
           ],
           "textposition": "top center",
           "type": "scatter3d",
           "x": {
            "bdata": "rqKNQg==",
            "dtype": "f4"
           },
           "y": {
            "bdata": "AAAAAA==",
            "dtype": "f4"
           },
           "z": {
            "bdata": "AAAAAA==",
            "dtype": "f4"
           }
          },
          {
           "marker": {
            "color": "#AB63FA",
            "opacity": 1,
            "size": 4
           },
           "mode": "markers",
           "showlegend": false,
           "type": "scatter3d",
           "x": {
            "bdata": "zIcJwptkS8IWVz/C4im7wWSel8LOChvCCZZDwpyrjsHuUunB",
            "dtype": "f4"
           },
           "y": {
            "bdata": "AAAAAAAAAAAAAAAAAAAAAAAAAAAAAAAAAAAAAAAAAAAAAAAA",
            "dtype": "f4"
           },
           "z": {
            "bdata": "AAAAAAAAAAAAAAAAAAAAAAAAAAAAAAAAAAAAAAAAAAAAAAAA",
            "dtype": "f4"
           }
          },
          {
           "marker": {
            "color": "#AB63FA",
            "line": {
             "color": "black",
             "width": 0.5
            },
            "size": 6,
            "symbol": "diamond"
           },
           "mode": "markers+text",
           "name": "Cluster 3",
           "text": [
            "C3"
           ],
           "textposition": "top center",
           "type": "scatter3d",
           "x": {
            "bdata": "JRQjwg==",
            "dtype": "f4"
           },
           "y": {
            "bdata": "AAAAAA==",
            "dtype": "f4"
           },
           "z": {
            "bdata": "AAAAAA==",
            "dtype": "f4"
           }
          },
          {
           "marker": {
            "color": "#FFA15A",
            "opacity": 1,
            "size": 4
           },
           "mode": "markers",
           "showlegend": false,
           "type": "scatter3d",
           "x": {
            "bdata": "wBa6vw==",
            "dtype": "f4"
           },
           "y": {
            "bdata": "AAAAAA==",
            "dtype": "f4"
           },
           "z": {
            "bdata": "AAAAAA==",
            "dtype": "f4"
           }
          },
          {
           "marker": {
            "color": "#FFA15A",
            "line": {
             "color": "black",
             "width": 0.5
            },
            "size": 6,
            "symbol": "diamond"
           },
           "mode": "markers+text",
           "name": "Cluster 4",
           "text": [
            "C4"
           ],
           "textposition": "top center",
           "type": "scatter3d",
           "x": {
            "bdata": "ABe6vw==",
            "dtype": "f4"
           },
           "y": {
            "bdata": "AAAAAA==",
            "dtype": "f4"
           },
           "z": {
            "bdata": "AAAAAA==",
            "dtype": "f4"
           }
          },
          {
           "marker": {
            "color": "#19D3F3",
            "opacity": 1,
            "size": 4
           },
           "mode": "markers",
           "showlegend": false,
           "type": "scatter3d",
           "x": {
            "bdata": "r1R9w46/zML4HyfD166RwwEbf8M7XYbDgb0Vw33K0sKoH+PCPCD6wtg85cLfmAzDDjZow+uXEMPZlTnDo/FpwwkUMsPTN17D",
            "dtype": "f4"
           },
           "y": {
            "bdata": "AAAAAAAAAAAAAAAAAAAAAAAAAAAAAAAAAAAAAAAAAAAAAAAAAAAAAAAAAAAAAAAAAAAAAAAAAAAAAAAAAAAAAAAAAAAAAAAA",
            "dtype": "f4"
           },
           "z": {
            "bdata": "AAAAAAAAAAAAAAAAAAAAAAAAAAAAAAAAAAAAAAAAAAAAAAAAAAAAAAAAAAAAAAAAAAAAAAAAAAAAAAAAAAAAAAAAAAAAAAAA",
            "dtype": "f4"
           }
          },
          {
           "marker": {
            "color": "#19D3F3",
            "line": {
             "color": "black",
             "width": 0.5
            },
            "size": 6,
            "symbol": "diamond"
           },
           "mode": "markers+text",
           "name": "Cluster 5",
           "text": [
            "C5"
           ],
           "textposition": "top center",
           "type": "scatter3d",
           "x": {
            "bdata": "nGw2ww==",
            "dtype": "f4"
           },
           "y": {
            "bdata": "AAAAAA==",
            "dtype": "f4"
           },
           "z": {
            "bdata": "AAAAAA==",
            "dtype": "f4"
           }
          },
          {
           "marker": {
            "color": "#FF6692",
            "opacity": 1,
            "size": 4
           },
           "mode": "markers",
           "showlegend": false,
           "type": "scatter3d",
           "x": {
            "bdata": "uESEQRiGDUGL53NB",
            "dtype": "f4"
           },
           "y": {
            "bdata": "AAAAAAAAAAAAAAAA",
            "dtype": "f4"
           },
           "z": {
            "bdata": "AAAAAAAAAAAAAAAA",
            "dtype": "f4"
           }
          },
          {
           "marker": {
            "color": "#FF6692",
            "line": {
             "color": "black",
             "width": 0.5
            },
            "size": 6,
            "symbol": "diamond"
           },
           "mode": "markers+text",
           "name": "Cluster 6",
           "text": [
            "C6"
           ],
           "textposition": "top center",
           "type": "scatter3d",
           "x": {
            "bdata": "sKdYQQ==",
            "dtype": "f4"
           },
           "y": {
            "bdata": "AAAAAA==",
            "dtype": "f4"
           },
           "z": {
            "bdata": "AAAAAA==",
            "dtype": "f4"
           }
          },
          {
           "marker": {
            "color": "#B6E880",
            "opacity": 1,
            "size": 4
           },
           "mode": "markers",
           "showlegend": false,
           "type": "scatter3d",
           "x": [],
           "y": [],
           "z": []
          },
          {
           "marker": {
            "color": "#B6E880",
            "line": {
             "color": "black",
             "width": 0.5
            },
            "size": 6,
            "symbol": "diamond"
           },
           "mode": "markers+text",
           "name": "Cluster 7",
           "text": [
            "C7"
           ],
           "textposition": "top center",
           "type": "scatter3d",
           "x": {
            "bdata": "jj46Qg==",
            "dtype": "f4"
           },
           "y": {
            "bdata": "AAAAAA==",
            "dtype": "f4"
           },
           "z": {
            "bdata": "AAAAAA==",
            "dtype": "f4"
           }
          },
          {
           "marker": {
            "color": "#FF97FF",
            "opacity": 1,
            "size": 4
           },
           "mode": "markers",
           "showlegend": false,
           "type": "scatter3d",
           "x": {
            "bdata": "qNZbQl2ZYEKWYHNC",
            "dtype": "f4"
           },
           "y": {
            "bdata": "AAAAAAAAAAAAAAAA",
            "dtype": "f4"
           },
           "z": {
            "bdata": "AAAAAAAAAAAAAAAA",
            "dtype": "f4"
           }
          },
          {
           "marker": {
            "color": "#FF97FF",
            "line": {
             "color": "black",
             "width": 0.5
            },
            "size": 6,
            "symbol": "diamond"
           },
           "mode": "markers+text",
           "name": "Cluster 8",
           "text": [
            "C8"
           ],
           "textposition": "top center",
           "type": "scatter3d",
           "x": {
            "bdata": "i0VlQg==",
            "dtype": "f4"
           },
           "y": {
            "bdata": "AAAAAA==",
            "dtype": "f4"
           },
           "z": {
            "bdata": "AAAAAA==",
            "dtype": "f4"
           }
          },
          {
           "marker": {
            "color": "#FECB52",
            "opacity": 1,
            "size": 4
           },
           "mode": "markers",
           "showlegend": false,
           "type": "scatter3d",
           "x": {
            "bdata": "2CPwQYq9B0I=",
            "dtype": "f4"
           },
           "y": {
            "bdata": "AAAAAAAAAAA=",
            "dtype": "f4"
           },
           "z": {
            "bdata": "AAAAAAAAAAA=",
            "dtype": "f4"
           }
          },
          {
           "marker": {
            "color": "#FECB52",
            "line": {
             "color": "black",
             "width": 0.5
            },
            "size": 6,
            "symbol": "diamond"
           },
           "mode": "markers+text",
           "name": "Cluster 9",
           "text": [
            "C9"
           ],
           "textposition": "top center",
           "type": "scatter3d",
           "x": {
            "bdata": "eM//QQ==",
            "dtype": "f4"
           },
           "y": {
            "bdata": "AAAAAA==",
            "dtype": "f4"
           },
           "z": {
            "bdata": "AAAAAA==",
            "dtype": "f4"
           }
          }
         ],
         "name": "frame1"
        },
        {
         "data": [
          {
           "marker": {
            "color": "#636EFA",
            "opacity": 1,
            "size": 4
           },
           "mode": "markers",
           "showlegend": false,
           "type": "scatter3d",
           "x": {
            "bdata": "m5aMQ2MULkPv+aRD9blmQ9Z5j0O6kCpDM70ZQ3PeNUP/HldD9vE0Q0CpIEPdqDJDFmdLQ6OGcUPYbUlD/sJ1Q2HnRUOpYEZDgAVCQ/hoOUMbrFhD",
            "dtype": "f4"
           },
           "y": {
            "bdata": "AAAAAAAAAAAAAAAAAAAAAAAAAAAAAAAAAAAAAAAAAAAAAAAAAAAAAAAAAAAAAAAAAAAAAAAAAAAAAAAAAAAAAAAAAAAAAAAAAAAAAAAAAAAAAAAA",
            "dtype": "f4"
           },
           "z": {
            "bdata": "AAAAAAAAAAAAAAAAAAAAAAAAAAAAAAAAAAAAAAAAAAAAAAAAAAAAAAAAAAAAAAAAAAAAAAAAAAAAAAAAAAAAAAAAAAAAAAAAAAAAAAAAAAAAAAAA",
            "dtype": "f4"
           }
          },
          {
           "marker": {
            "color": "#636EFA",
            "line": {
             "color": "black",
             "width": 0.5
            },
            "size": 6,
            "symbol": "diamond"
           },
           "mode": "markers+text",
           "name": "Cluster 0",
           "text": [
            "C0"
           ],
           "textposition": "top center",
           "type": "scatter3d",
           "x": {
            "bdata": "CedSQw==",
            "dtype": "f4"
           },
           "y": {
            "bdata": "AAAAAA==",
            "dtype": "f4"
           },
           "z": {
            "bdata": "AAAAAA==",
            "dtype": "f4"
           }
          },
          {
           "marker": {
            "color": "#EF553B",
            "opacity": 1,
            "size": 4
           },
           "mode": "markers",
           "showlegend": false,
           "type": "scatter3d",
           "x": {
            "bdata": "zqfvQiYP3kKijMZCAr0KQ3d8EUNaO+RCiBmxQgQiDUO6keJCCoXWQg==",
            "dtype": "f4"
           },
           "y": {
            "bdata": "AAAAAAAAAAAAAAAAAAAAAAAAAAAAAAAAAAAAAAAAAAAAAAAAAAAAAA==",
            "dtype": "f4"
           },
           "z": {
            "bdata": "AAAAAAAAAAAAAAAAAAAAAAAAAAAAAAAAAAAAAAAAAAAAAAAAAAAAAA==",
            "dtype": "f4"
           }
          },
          {
           "marker": {
            "color": "#EF553B",
            "line": {
             "color": "black",
             "width": 0.5
            },
            "size": 6,
            "symbol": "diamond"
           },
           "mode": "markers+text",
           "name": "Cluster 1",
           "text": [
            "C1"
           ],
           "textposition": "top center",
           "type": "scatter3d",
           "x": {
            "bdata": "a73rQg==",
            "dtype": "f4"
           },
           "y": {
            "bdata": "AAAAAA==",
            "dtype": "f4"
           },
           "z": {
            "bdata": "AAAAAA==",
            "dtype": "f4"
           }
          },
          {
           "marker": {
            "color": "#00CC96",
            "opacity": 1,
            "size": 4
           },
           "mode": "markers",
           "showlegend": false,
           "type": "scatter3d",
           "x": {
            "bdata": "W2iXQrWqqUIB3YNC",
            "dtype": "f4"
           },
           "y": {
            "bdata": "AAAAAAAAAAAAAAAA",
            "dtype": "f4"
           },
           "z": {
            "bdata": "AAAAAAAAAAAAAAAA",
            "dtype": "f4"
           }
          },
          {
           "marker": {
            "color": "#00CC96",
            "line": {
             "color": "black",
             "width": 0.5
            },
            "size": 6,
            "symbol": "diamond"
           },
           "mode": "markers+text",
           "name": "Cluster 2",
           "text": [
            "C2"
           ],
           "textposition": "top center",
           "type": "scatter3d",
           "x": {
            "bdata": "sPqWQg==",
            "dtype": "f4"
           },
           "y": {
            "bdata": "AAAAAA==",
            "dtype": "f4"
           },
           "z": {
            "bdata": "AAAAAA==",
            "dtype": "f4"
           }
          },
          {
           "marker": {
            "color": "#AB63FA",
            "opacity": 1,
            "size": 4
           },
           "mode": "markers",
           "showlegend": false,
           "type": "scatter3d",
           "x": {
            "bdata": "zIcJwptkS8IWVz/C4im7wWSel8KOv8zCzgobwn3K0sIJlkPC7lLpwQ==",
            "dtype": "f4"
           },
           "y": {
            "bdata": "AAAAAAAAAAAAAAAAAAAAAAAAAAAAAAAAAAAAAAAAAAAAAAAAAAAAAA==",
            "dtype": "f4"
           },
           "z": {
            "bdata": "AAAAAAAAAAAAAAAAAAAAAAAAAAAAAAAAAAAAAAAAAAAAAAAAAAAAAA==",
            "dtype": "f4"
           }
          },
          {
           "marker": {
            "color": "#AB63FA",
            "line": {
             "color": "black",
             "width": 0.5
            },
            "size": 6,
            "symbol": "diamond"
           },
           "mode": "markers+text",
           "name": "Cluster 3",
           "text": [
            "C3"
           ],
           "textposition": "top center",
           "type": "scatter3d",
           "x": {
            "bdata": "wr5ewg==",
            "dtype": "f4"
           },
           "y": {
            "bdata": "AAAAAA==",
            "dtype": "f4"
           },
           "z": {
            "bdata": "AAAAAA==",
            "dtype": "f4"
           }
          },
          {
           "marker": {
            "color": "#FFA15A",
            "opacity": 1,
            "size": 4
           },
           "mode": "markers",
           "showlegend": false,
           "type": "scatter3d",
           "x": {
            "bdata": "wBa6v5yrjsE=",
            "dtype": "f4"
           },
           "y": {
            "bdata": "AAAAAAAAAAA=",
            "dtype": "f4"
           },
           "z": {
            "bdata": "AAAAAAAAAAA=",
            "dtype": "f4"
           }
          },
          {
           "marker": {
            "color": "#FFA15A",
            "line": {
             "color": "black",
             "width": 0.5
            },
            "size": 6,
            "symbol": "diamond"
           },
           "mode": "markers+text",
           "name": "Cluster 4",
           "text": [
            "C4"
           ],
           "textposition": "top center",
           "type": "scatter3d",
           "x": {
            "bdata": "DE0awQ==",
            "dtype": "f4"
           },
           "y": {
            "bdata": "AAAAAA==",
            "dtype": "f4"
           },
           "z": {
            "bdata": "AAAAAA==",
            "dtype": "f4"
           }
          },
          {
           "marker": {
            "color": "#19D3F3",
            "opacity": 1,
            "size": 4
           },
           "mode": "markers",
           "showlegend": false,
           "type": "scatter3d",
           "x": {
            "bdata": "r1R9w/gfJ8PXrpHDARt/wztdhsOBvRXDqB/jwjwg+sLYPOXC35gMww42aMPrlxDD2ZU5w6PxacMJFDLD0zdeww==",
            "dtype": "f4"
           },
           "y": {
            "bdata": "AAAAAAAAAAAAAAAAAAAAAAAAAAAAAAAAAAAAAAAAAAAAAAAAAAAAAAAAAAAAAAAAAAAAAAAAAAAAAAAAAAAAAA==",
            "dtype": "f4"
           },
           "z": {
            "bdata": "AAAAAAAAAAAAAAAAAAAAAAAAAAAAAAAAAAAAAAAAAAAAAAAAAAAAAAAAAAAAAAAAAAAAAAAAAAAAAAAAAAAAAA==",
            "dtype": "f4"
           }
          },
          {
           "marker": {
            "color": "#19D3F3",
            "line": {
             "color": "black",
             "width": 0.5
            },
            "size": 6,
            "symbol": "diamond"
           },
           "mode": "markers+text",
           "name": "Cluster 5",
           "text": [
            "C5"
           ],
           "textposition": "top center",
           "type": "scatter3d",
           "x": {
            "bdata": "4D1Aww==",
            "dtype": "f4"
           },
           "y": {
            "bdata": "AAAAAA==",
            "dtype": "f4"
           },
           "z": {
            "bdata": "AAAAAA==",
            "dtype": "f4"
           }
          },
          {
           "marker": {
            "color": "#FF6692",
            "opacity": 1,
            "size": 4
           },
           "mode": "markers",
           "showlegend": false,
           "type": "scatter3d",
           "x": {
            "bdata": "uESEQRiGDUGL53NB",
            "dtype": "f4"
           },
           "y": {
            "bdata": "AAAAAAAAAAAAAAAA",
            "dtype": "f4"
           },
           "z": {
            "bdata": "AAAAAAAAAAAAAAAA",
            "dtype": "f4"
           }
          },
          {
           "marker": {
            "color": "#FF6692",
            "line": {
             "color": "black",
             "width": 0.5
            },
            "size": 6,
            "symbol": "diamond"
           },
           "mode": "markers+text",
           "name": "Cluster 6",
           "text": [
            "C6"
           ],
           "textposition": "top center",
           "type": "scatter3d",
           "x": {
            "bdata": "sKdYQQ==",
            "dtype": "f4"
           },
           "y": {
            "bdata": "AAAAAA==",
            "dtype": "f4"
           },
           "z": {
            "bdata": "AAAAAA==",
            "dtype": "f4"
           }
          },
          {
           "marker": {
            "color": "#B6E880",
            "opacity": 1,
            "size": 4
           },
           "mode": "markers",
           "showlegend": false,
           "type": "scatter3d",
           "x": [],
           "y": [],
           "z": []
          },
          {
           "marker": {
            "color": "#B6E880",
            "line": {
             "color": "black",
             "width": 0.5
            },
            "size": 6,
            "symbol": "diamond"
           },
           "mode": "markers+text",
           "name": "Cluster 7",
           "text": [
            "C7"
           ],
           "textposition": "top center",
           "type": "scatter3d",
           "x": {
            "bdata": "jj46Qg==",
            "dtype": "f4"
           },
           "y": {
            "bdata": "AAAAAA==",
            "dtype": "f4"
           },
           "z": {
            "bdata": "AAAAAA==",
            "dtype": "f4"
           }
          },
          {
           "marker": {
            "color": "#FF97FF",
            "opacity": 1,
            "size": 4
           },
           "mode": "markers",
           "showlegend": false,
           "type": "scatter3d",
           "x": {
            "bdata": "qNZbQl2ZYEKWYHNC",
            "dtype": "f4"
           },
           "y": {
            "bdata": "AAAAAAAAAAAAAAAA",
            "dtype": "f4"
           },
           "z": {
            "bdata": "AAAAAAAAAAAAAAAA",
            "dtype": "f4"
           }
          },
          {
           "marker": {
            "color": "#FF97FF",
            "line": {
             "color": "black",
             "width": 0.5
            },
            "size": 6,
            "symbol": "diamond"
           },
           "mode": "markers+text",
           "name": "Cluster 8",
           "text": [
            "C8"
           ],
           "textposition": "top center",
           "type": "scatter3d",
           "x": {
            "bdata": "i0VlQg==",
            "dtype": "f4"
           },
           "y": {
            "bdata": "AAAAAA==",
            "dtype": "f4"
           },
           "z": {
            "bdata": "AAAAAA==",
            "dtype": "f4"
           }
          },
          {
           "marker": {
            "color": "#FECB52",
            "opacity": 1,
            "size": 4
           },
           "mode": "markers",
           "showlegend": false,
           "type": "scatter3d",
           "x": {
            "bdata": "2CPwQYq9B0I=",
            "dtype": "f4"
           },
           "y": {
            "bdata": "AAAAAAAAAAA=",
            "dtype": "f4"
           },
           "z": {
            "bdata": "AAAAAAAAAAA=",
            "dtype": "f4"
           }
          },
          {
           "marker": {
            "color": "#FECB52",
            "line": {
             "color": "black",
             "width": 0.5
            },
            "size": 6,
            "symbol": "diamond"
           },
           "mode": "markers+text",
           "name": "Cluster 9",
           "text": [
            "C9"
           ],
           "textposition": "top center",
           "type": "scatter3d",
           "x": {
            "bdata": "eM//QQ==",
            "dtype": "f4"
           },
           "y": {
            "bdata": "AAAAAA==",
            "dtype": "f4"
           },
           "z": {
            "bdata": "AAAAAA==",
            "dtype": "f4"
           }
          }
         ],
         "name": "frame2"
        },
        {
         "data": [
          {
           "marker": {
            "color": "#636EFA",
            "opacity": 1,
            "size": 4
           },
           "mode": "markers",
           "showlegend": false,
           "type": "scatter3d",
           "x": {
            "bdata": "m5aMQ2MULkPv+aRD9blmQ9Z5j0O6kCpDc941Q/8eV0P28TRD3agyQxZnS0OjhnFD2G1JQ/7CdUNh50VDqWBGQ4AFQkP4aDlDG6xYQw==",
            "dtype": "f4"
           },
           "y": {
            "bdata": "AAAAAAAAAAAAAAAAAAAAAAAAAAAAAAAAAAAAAAAAAAAAAAAAAAAAAAAAAAAAAAAAAAAAAAAAAAAAAAAAAAAAAAAAAAAAAAAAAAAAAA==",
            "dtype": "f4"
           },
           "z": {
            "bdata": "AAAAAAAAAAAAAAAAAAAAAAAAAAAAAAAAAAAAAAAAAAAAAAAAAAAAAAAAAAAAAAAAAAAAAAAAAAAAAAAAAAAAAAAAAAAAAAAAAAAAAA==",
            "dtype": "f4"
           }
          },
          {
           "marker": {
            "color": "#636EFA",
            "line": {
             "color": "black",
             "width": 0.5
            },
            "size": 6,
            "symbol": "diamond"
           },
           "mode": "markers+text",
           "name": "Cluster 0",
           "text": [
            "C0"
           ],
           "textposition": "top center",
           "type": "scatter3d",
           "x": {
            "bdata": "LI5YQw==",
            "dtype": "f4"
           },
           "y": {
            "bdata": "AAAAAA==",
            "dtype": "f4"
           },
           "z": {
            "bdata": "AAAAAA==",
            "dtype": "f4"
           }
          },
          {
           "marker": {
            "color": "#EF553B",
            "opacity": 1,
            "size": 4
           },
           "mode": "markers",
           "showlegend": false,
           "type": "scatter3d",
           "x": {
            "bdata": "zqfvQiYP3kKijMZCAr0KQ3d8EUMzvRlDWjvkQgQiDUNAqSBDupHiQgqF1kI=",
            "dtype": "f4"
           },
           "y": {
            "bdata": "AAAAAAAAAAAAAAAAAAAAAAAAAAAAAAAAAAAAAAAAAAAAAAAAAAAAAAAAAAA=",
            "dtype": "f4"
           },
           "z": {
            "bdata": "AAAAAAAAAAAAAAAAAAAAAAAAAAAAAAAAAAAAAAAAAAAAAAAAAAAAAAAAAAA=",
            "dtype": "f4"
           }
          },
          {
           "marker": {
            "color": "#EF553B",
            "line": {
             "color": "black",
             "width": 0.5
            },
            "size": 6,
            "symbol": "diamond"
           },
           "mode": "markers+text",
           "name": "Cluster 1",
           "text": [
            "C1"
           ],
           "textposition": "top center",
           "type": "scatter3d",
           "x": {
            "bdata": "bF//Qg==",
            "dtype": "f4"
           },
           "y": {
            "bdata": "AAAAAA==",
            "dtype": "f4"
           },
           "z": {
            "bdata": "AAAAAA==",
            "dtype": "f4"
           }
          },
          {
           "marker": {
            "color": "#00CC96",
            "opacity": 1,
            "size": 4
           },
           "mode": "markers",
           "showlegend": false,
           "type": "scatter3d",
           "x": {
            "bdata": "iBmxQltol0K1qqlC",
            "dtype": "f4"
           },
           "y": {
            "bdata": "AAAAAAAAAAAAAAAA",
            "dtype": "f4"
           },
           "z": {
            "bdata": "AAAAAAAAAAAAAAAA",
            "dtype": "f4"
           }
          },
          {
           "marker": {
            "color": "#00CC96",
            "line": {
             "color": "black",
             "width": 0.5
            },
            "size": 6,
            "symbol": "diamond"
           },
           "mode": "markers+text",
           "name": "Cluster 2",
           "text": [
            "C2"
           ],
           "textposition": "top center",
           "type": "scatter3d",
           "x": {
            "bdata": "3Q6mQg==",
            "dtype": "f4"
           },
           "y": {
            "bdata": "AAAAAA==",
            "dtype": "f4"
           },
           "z": {
            "bdata": "AAAAAA==",
            "dtype": "f4"
           }
          },
          {
           "marker": {
            "color": "#AB63FA",
            "opacity": 1,
            "size": 4
           },
           "mode": "markers",
           "showlegend": false,
           "type": "scatter3d",
           "x": {
            "bdata": "zIcJwptkS8IWVz/CZJ6Xwo6/zMLOChvCfcrSwqgf48LYPOXCCZZDwg==",
            "dtype": "f4"
           },
           "y": {
            "bdata": "AAAAAAAAAAAAAAAAAAAAAAAAAAAAAAAAAAAAAAAAAAAAAAAAAAAAAA==",
            "dtype": "f4"
           },
           "z": {
            "bdata": "AAAAAAAAAAAAAAAAAAAAAAAAAAAAAAAAAAAAAAAAAAAAAAAAAAAAAA==",
            "dtype": "f4"
           }
          },
          {
           "marker": {
            "color": "#AB63FA",
            "line": {
             "color": "black",
             "width": 0.5
            },
            "size": 6,
            "symbol": "diamond"
           },
           "mode": "markers+text",
           "name": "Cluster 3",
           "text": [
            "C3"
           ],
           "textposition": "top center",
           "type": "scatter3d",
           "x": {
            "bdata": "G3+Swg==",
            "dtype": "f4"
           },
           "y": {
            "bdata": "AAAAAA==",
            "dtype": "f4"
           },
           "z": {
            "bdata": "AAAAAA==",
            "dtype": "f4"
           }
          },
          {
           "marker": {
            "color": "#FFA15A",
            "opacity": 1,
            "size": 4
           },
           "mode": "markers",
           "showlegend": false,
           "type": "scatter3d",
           "x": {
            "bdata": "4im7wcAWur+cq47B7lLpwQ==",
            "dtype": "f4"
           },
           "y": {
            "bdata": "AAAAAAAAAAAAAAAAAAAAAA==",
            "dtype": "f4"
           },
           "z": {
            "bdata": "AAAAAAAAAAAAAAAAAAAAAA==",
            "dtype": "f4"
           }
          },
          {
           "marker": {
            "color": "#FFA15A",
            "line": {
             "color": "black",
             "width": 0.5
            },
            "size": 6,
            "symbol": "diamond"
           },
           "mode": "markers+text",
           "name": "Cluster 4",
           "text": [
            "C4"
           ],
           "textposition": "top center",
           "type": "scatter3d",
           "x": {
            "bdata": "d7KPwQ==",
            "dtype": "f4"
           },
           "y": {
            "bdata": "AAAAAA==",
            "dtype": "f4"
           },
           "z": {
            "bdata": "AAAAAA==",
            "dtype": "f4"
           }
          },
          {
           "marker": {
            "color": "#19D3F3",
            "opacity": 1,
            "size": 4
           },
           "mode": "markers",
           "showlegend": false,
           "type": "scatter3d",
           "x": {
            "bdata": "r1R9w/gfJ8PXrpHDARt/wztdhsOBvRXDPCD6wt+YDMMONmjD65cQw9mVOcOj8WnDCRQyw9M3XsM=",
            "dtype": "f4"
           },
           "y": {
            "bdata": "AAAAAAAAAAAAAAAAAAAAAAAAAAAAAAAAAAAAAAAAAAAAAAAAAAAAAAAAAAAAAAAAAAAAAAAAAAA=",
            "dtype": "f4"
           },
           "z": {
            "bdata": "AAAAAAAAAAAAAAAAAAAAAAAAAAAAAAAAAAAAAAAAAAAAAAAAAAAAAAAAAAAAAAAAAAAAAAAAAAA=",
            "dtype": "f4"
           }
          },
          {
           "marker": {
            "color": "#19D3F3",
            "line": {
             "color": "black",
             "width": 0.5
            },
            "size": 6,
            "symbol": "diamond"
           },
           "mode": "markers+text",
           "name": "Cluster 5",
           "text": [
            "C5"
           ],
           "textposition": "top center",
           "type": "scatter3d",
           "x": {
            "bdata": "+2dLww==",
            "dtype": "f4"
           },
           "y": {
            "bdata": "AAAAAA==",
            "dtype": "f4"
           },
           "z": {
            "bdata": "AAAAAA==",
            "dtype": "f4"
           }
          },
          {
           "marker": {
            "color": "#FF6692",
            "opacity": 1,
            "size": 4
           },
           "mode": "markers",
           "showlegend": false,
           "type": "scatter3d",
           "x": {
            "bdata": "uESEQRiGDUGL53NB",
            "dtype": "f4"
           },
           "y": {
            "bdata": "AAAAAAAAAAAAAAAA",
            "dtype": "f4"
           },
           "z": {
            "bdata": "AAAAAAAAAAAAAAAA",
            "dtype": "f4"
           }
          },
          {
           "marker": {
            "color": "#FF6692",
            "line": {
             "color": "black",
             "width": 0.5
            },
            "size": 6,
            "symbol": "diamond"
           },
           "mode": "markers+text",
           "name": "Cluster 6",
           "text": [
            "C6"
           ],
           "textposition": "top center",
           "type": "scatter3d",
           "x": {
            "bdata": "sKdYQQ==",
            "dtype": "f4"
           },
           "y": {
            "bdata": "AAAAAA==",
            "dtype": "f4"
           },
           "z": {
            "bdata": "AAAAAA==",
            "dtype": "f4"
           }
          },
          {
           "marker": {
            "color": "#B6E880",
            "opacity": 1,
            "size": 4
           },
           "mode": "markers",
           "showlegend": false,
           "type": "scatter3d",
           "x": [],
           "y": [],
           "z": []
          },
          {
           "marker": {
            "color": "#B6E880",
            "line": {
             "color": "black",
             "width": 0.5
            },
            "size": 6,
            "symbol": "diamond"
           },
           "mode": "markers+text",
           "name": "Cluster 7",
           "text": [
            "C7"
           ],
           "textposition": "top center",
           "type": "scatter3d",
           "x": {
            "bdata": "jj46Qg==",
            "dtype": "f4"
           },
           "y": {
            "bdata": "AAAAAA==",
            "dtype": "f4"
           },
           "z": {
            "bdata": "AAAAAA==",
            "dtype": "f4"
           }
          },
          {
           "marker": {
            "color": "#FF97FF",
            "opacity": 1,
            "size": 4
           },
           "mode": "markers",
           "showlegend": false,
           "type": "scatter3d",
           "x": {
            "bdata": "qNZbQl2ZYEKWYHNCAd2DQg==",
            "dtype": "f4"
           },
           "y": {
            "bdata": "AAAAAAAAAAAAAAAAAAAAAA==",
            "dtype": "f4"
           },
           "z": {
            "bdata": "AAAAAAAAAAAAAAAAAAAAAA==",
            "dtype": "f4"
           }
          },
          {
           "marker": {
            "color": "#FF97FF",
            "line": {
             "color": "black",
             "width": 0.5
            },
            "size": 6,
            "symbol": "diamond"
           },
           "mode": "markers+text",
           "name": "Cluster 8",
           "text": [
            "C8"
           ],
           "textposition": "top center",
           "type": "scatter3d",
           "x": {
            "bdata": "qOJtQg==",
            "dtype": "f4"
           },
           "y": {
            "bdata": "AAAAAA==",
            "dtype": "f4"
           },
           "z": {
            "bdata": "AAAAAA==",
            "dtype": "f4"
           }
          },
          {
           "marker": {
            "color": "#FECB52",
            "opacity": 1,
            "size": 4
           },
           "mode": "markers",
           "showlegend": false,
           "type": "scatter3d",
           "x": {
            "bdata": "2CPwQYq9B0I=",
            "dtype": "f4"
           },
           "y": {
            "bdata": "AAAAAAAAAAA=",
            "dtype": "f4"
           },
           "z": {
            "bdata": "AAAAAAAAAAA=",
            "dtype": "f4"
           }
          },
          {
           "marker": {
            "color": "#FECB52",
            "line": {
             "color": "black",
             "width": 0.5
            },
            "size": 6,
            "symbol": "diamond"
           },
           "mode": "markers+text",
           "name": "Cluster 9",
           "text": [
            "C9"
           ],
           "textposition": "top center",
           "type": "scatter3d",
           "x": {
            "bdata": "eM//QQ==",
            "dtype": "f4"
           },
           "y": {
            "bdata": "AAAAAA==",
            "dtype": "f4"
           },
           "z": {
            "bdata": "AAAAAA==",
            "dtype": "f4"
           }
          }
         ],
         "name": "frame3"
        },
        {
         "data": [
          {
           "marker": {
            "color": "#636EFA",
            "opacity": 1,
            "size": 4
           },
           "mode": "markers",
           "showlegend": false,
           "type": "scatter3d",
           "x": {
            "bdata": "m5aMQ2MULkPv+aRD9blmQ9Z5j0Nz3jVD/x5XQ/bxNEPdqDJDFmdLQ6OGcUPYbUlD/sJ1Q2HnRUOpYEZDgAVCQ/hoOUMbrFhD",
            "dtype": "f4"
           },
           "y": {
            "bdata": "AAAAAAAAAAAAAAAAAAAAAAAAAAAAAAAAAAAAAAAAAAAAAAAAAAAAAAAAAAAAAAAAAAAAAAAAAAAAAAAAAAAAAAAAAAAAAAAA",
            "dtype": "f4"
           },
           "z": {
            "bdata": "AAAAAAAAAAAAAAAAAAAAAAAAAAAAAAAAAAAAAAAAAAAAAAAAAAAAAAAAAAAAAAAAAAAAAAAAAAAAAAAAAAAAAAAAAAAAAAAA",
            "dtype": "f4"
           }
          },
          {
           "marker": {
            "color": "#636EFA",
            "line": {
             "color": "black",
             "width": 0.5
            },
            "size": 6,
            "symbol": "diamond"
           },
           "mode": "markers+text",
           "name": "Cluster 0",
           "text": [
            "C0"
           ],
           "textposition": "top center",
           "type": "scatter3d",
           "x": {
            "bdata": "QBxbQw==",
            "dtype": "f4"
           },
           "y": {
            "bdata": "AAAAAA==",
            "dtype": "f4"
           },
           "z": {
            "bdata": "AAAAAA==",
            "dtype": "f4"
           }
          },
          {
           "marker": {
            "color": "#EF553B",
            "opacity": 1,
            "size": 4
           },
           "mode": "markers",
           "showlegend": false,
           "type": "scatter3d",
           "x": {
            "bdata": "zqfvQiYP3kICvQpDd3wRQ7qQKkMzvRlDWjvkQgQiDUNAqSBDupHiQgqF1kI=",
            "dtype": "f4"
           },
           "y": {
            "bdata": "AAAAAAAAAAAAAAAAAAAAAAAAAAAAAAAAAAAAAAAAAAAAAAAAAAAAAAAAAAA=",
            "dtype": "f4"
           },
           "z": {
            "bdata": "AAAAAAAAAAAAAAAAAAAAAAAAAAAAAAAAAAAAAAAAAAAAAAAAAAAAAAAAAAA=",
            "dtype": "f4"
           }
          },
          {
           "marker": {
            "color": "#EF553B",
            "line": {
             "color": "black",
             "width": 0.5
            },
            "size": 6,
            "symbol": "diamond"
           },
           "mode": "markers+text",
           "name": "Cluster 1",
           "text": [
            "C1"
           ],
           "textposition": "top center",
           "type": "scatter3d",
           "x": {
            "bdata": "1yoGQw==",
            "dtype": "f4"
           },
           "y": {
            "bdata": "AAAAAA==",
            "dtype": "f4"
           },
           "z": {
            "bdata": "AAAAAA==",
            "dtype": "f4"
           }
          },
          {
           "marker": {
            "color": "#00CC96",
            "opacity": 1,
            "size": 4
           },
           "mode": "markers",
           "showlegend": false,
           "type": "scatter3d",
           "x": {
            "bdata": "oozGQogZsUJbaJdCtaqpQg==",
            "dtype": "f4"
           },
           "y": {
            "bdata": "AAAAAAAAAAAAAAAAAAAAAA==",
            "dtype": "f4"
           },
           "z": {
            "bdata": "AAAAAAAAAAAAAAAAAAAAAA==",
            "dtype": "f4"
           }
          },
          {
           "marker": {
            "color": "#00CC96",
            "line": {
             "color": "black",
             "width": 0.5
            },
            "size": 6,
            "symbol": "diamond"
           },
           "mode": "markers+text",
           "name": "Cluster 2",
           "text": [
            "C2"
           ],
           "textposition": "top center",
           "type": "scatter3d",
           "x": {
            "bdata": "Ti6uQg==",
            "dtype": "f4"
           },
           "y": {
            "bdata": "AAAAAA==",
            "dtype": "f4"
           },
           "z": {
            "bdata": "AAAAAA==",
            "dtype": "f4"
           }
          },
          {
           "marker": {
            "color": "#AB63FA",
            "opacity": 1,
            "size": 4
           },
           "mode": "markers",
           "showlegend": false,
           "type": "scatter3d",
           "x": {
            "bdata": "m2RLwhZXP8JknpfCjr/Mwn3K0sKoH+PCPCD6wtg85cIJlkPC",
            "dtype": "f4"
           },
           "y": {
            "bdata": "AAAAAAAAAAAAAAAAAAAAAAAAAAAAAAAAAAAAAAAAAAAAAAAA",
            "dtype": "f4"
           },
           "z": {
            "bdata": "AAAAAAAAAAAAAAAAAAAAAAAAAAAAAAAAAAAAAAAAAAAAAAAA",
            "dtype": "f4"
           }
          },
          {
           "marker": {
            "color": "#AB63FA",
            "line": {
             "color": "black",
             "width": 0.5
            },
            "size": 6,
            "symbol": "diamond"
           },
           "mode": "markers+text",
           "name": "Cluster 3",
           "text": [
            "C3"
           ],
           "textposition": "top center",
           "type": "scatter3d",
           "x": {
            "bdata": "x0+uwg==",
            "dtype": "f4"
           },
           "y": {
            "bdata": "AAAAAA==",
            "dtype": "f4"
           },
           "z": {
            "bdata": "AAAAAA==",
            "dtype": "f4"
           }
          },
          {
           "marker": {
            "color": "#FFA15A",
            "opacity": 1,
            "size": 4
           },
           "mode": "markers",
           "showlegend": false,
           "type": "scatter3d",
           "x": {
            "bdata": "zIcJwuIpu8HOChvCnKuOwe5S6cE=",
            "dtype": "f4"
           },
           "y": {
            "bdata": "AAAAAAAAAAAAAAAAAAAAAAAAAAA=",
            "dtype": "f4"
           },
           "z": {
            "bdata": "AAAAAAAAAAAAAAAAAAAAAAAAAAA=",
            "dtype": "f4"
           }
          },
          {
           "marker": {
            "color": "#FFA15A",
            "line": {
             "color": "black",
             "width": 0.5
            },
            "size": 6,
            "symbol": "diamond"
           },
           "mode": "markers+text",
           "name": "Cluster 4",
           "text": [
            "C4"
           ],
           "textposition": "top center",
           "type": "scatter3d",
           "x": {
            "bdata": "IKnlwQ==",
            "dtype": "f4"
           },
           "y": {
            "bdata": "AAAAAA==",
            "dtype": "f4"
           },
           "z": {
            "bdata": "AAAAAA==",
            "dtype": "f4"
           }
          },
          {
           "marker": {
            "color": "#19D3F3",
            "opacity": 1,
            "size": 4
           },
           "mode": "markers",
           "showlegend": false,
           "type": "scatter3d",
           "x": {
            "bdata": "r1R9w/gfJ8PXrpHDARt/wztdhsOBvRXD35gMww42aMPrlxDD2ZU5w6PxacMJFDLD0zdeww==",
            "dtype": "f4"
           },
           "y": {
            "bdata": "AAAAAAAAAAAAAAAAAAAAAAAAAAAAAAAAAAAAAAAAAAAAAAAAAAAAAAAAAAAAAAAAAAAAAA==",
            "dtype": "f4"
           },
           "z": {
            "bdata": "AAAAAAAAAAAAAAAAAAAAAAAAAAAAAAAAAAAAAAAAAAAAAAAAAAAAAAAAAAAAAAAAAAAAAA==",
            "dtype": "f4"
           }
          },
          {
           "marker": {
            "color": "#19D3F3",
            "line": {
             "color": "black",
             "width": 0.5
            },
            "size": 6,
            "symbol": "diamond"
           },
           "mode": "markers+text",
           "name": "Cluster 5",
           "text": [
            "C5"
           ],
           "textposition": "top center",
           "type": "scatter3d",
           "x": {
            "bdata": "vm5Rww==",
            "dtype": "f4"
           },
           "y": {
            "bdata": "AAAAAA==",
            "dtype": "f4"
           },
           "z": {
            "bdata": "AAAAAA==",
            "dtype": "f4"
           }
          },
          {
           "marker": {
            "color": "#FF6692",
            "opacity": 1,
            "size": 4
           },
           "mode": "markers",
           "showlegend": false,
           "type": "scatter3d",
           "x": {
            "bdata": "uESEQRiGDUHAFrq/i+dzQQ==",
            "dtype": "f4"
           },
           "y": {
            "bdata": "AAAAAAAAAAAAAAAAAAAAAA==",
            "dtype": "f4"
           },
           "z": {
            "bdata": "AAAAAAAAAAAAAAAAAAAAAA==",
            "dtype": "f4"
           }
          },
          {
           "marker": {
            "color": "#FF6692",
            "line": {
             "color": "black",
             "width": 0.5
            },
            "size": 6,
            "symbol": "diamond"
           },
           "mode": "markers+text",
           "name": "Cluster 6",
           "text": [
            "C6"
           ],
           "textposition": "top center",
           "type": "scatter3d",
           "x": {
            "bdata": "Dq0cQQ==",
            "dtype": "f4"
           },
           "y": {
            "bdata": "AAAAAA==",
            "dtype": "f4"
           },
           "z": {
            "bdata": "AAAAAA==",
            "dtype": "f4"
           }
          },
          {
           "marker": {
            "color": "#B6E880",
            "opacity": 1,
            "size": 4
           },
           "mode": "markers",
           "showlegend": false,
           "type": "scatter3d",
           "x": [],
           "y": [],
           "z": []
          },
          {
           "marker": {
            "color": "#B6E880",
            "line": {
             "color": "black",
             "width": 0.5
            },
            "size": 6,
            "symbol": "diamond"
           },
           "mode": "markers+text",
           "name": "Cluster 7",
           "text": [
            "C7"
           ],
           "textposition": "top center",
           "type": "scatter3d",
           "x": {
            "bdata": "jj46Qg==",
            "dtype": "f4"
           },
           "y": {
            "bdata": "AAAAAA==",
            "dtype": "f4"
           },
           "z": {
            "bdata": "AAAAAA==",
            "dtype": "f4"
           }
          },
          {
           "marker": {
            "color": "#FF97FF",
            "opacity": 1,
            "size": 4
           },
           "mode": "markers",
           "showlegend": false,
           "type": "scatter3d",
           "x": {
            "bdata": "qNZbQl2ZYEKWYHNCAd2DQg==",
            "dtype": "f4"
           },
           "y": {
            "bdata": "AAAAAAAAAAAAAAAAAAAAAA==",
            "dtype": "f4"
           },
           "z": {
            "bdata": "AAAAAAAAAAAAAAAAAAAAAA==",
            "dtype": "f4"
           }
          },
          {
           "marker": {
            "color": "#FF97FF",
            "line": {
             "color": "black",
             "width": 0.5
            },
            "size": 6,
            "symbol": "diamond"
           },
           "mode": "markers+text",
           "name": "Cluster 8",
           "text": [
            "C8"
           ],
           "textposition": "top center",
           "type": "scatter3d",
           "x": {
            "bdata": "qOJtQg==",
            "dtype": "f4"
           },
           "y": {
            "bdata": "AAAAAA==",
            "dtype": "f4"
           },
           "z": {
            "bdata": "AAAAAA==",
            "dtype": "f4"
           }
          },
          {
           "marker": {
            "color": "#FECB52",
            "opacity": 1,
            "size": 4
           },
           "mode": "markers",
           "showlegend": false,
           "type": "scatter3d",
           "x": {
            "bdata": "2CPwQYq9B0I=",
            "dtype": "f4"
           },
           "y": {
            "bdata": "AAAAAAAAAAA=",
            "dtype": "f4"
           },
           "z": {
            "bdata": "AAAAAAAAAAA=",
            "dtype": "f4"
           }
          },
          {
           "marker": {
            "color": "#FECB52",
            "line": {
             "color": "black",
             "width": 0.5
            },
            "size": 6,
            "symbol": "diamond"
           },
           "mode": "markers+text",
           "name": "Cluster 9",
           "text": [
            "C9"
           ],
           "textposition": "top center",
           "type": "scatter3d",
           "x": {
            "bdata": "eM//QQ==",
            "dtype": "f4"
           },
           "y": {
            "bdata": "AAAAAA==",
            "dtype": "f4"
           },
           "z": {
            "bdata": "AAAAAA==",
            "dtype": "f4"
           }
          }
         ],
         "name": "frame4"
        },
        {
         "data": [
          {
           "marker": {
            "color": "#636EFA",
            "opacity": 1,
            "size": 4
           },
           "mode": "markers",
           "showlegend": false,
           "type": "scatter3d",
           "x": {
            "bdata": "m5aMQ+/5pEP1uWZD1nmPQ3PeNUP/HldD9vE0Q92oMkMWZ0tDo4ZxQ9htSUP+wnVDYedFQ6lgRkOABUJD+Gg5QxusWEM=",
            "dtype": "f4"
           },
           "y": {
            "bdata": "AAAAAAAAAAAAAAAAAAAAAAAAAAAAAAAAAAAAAAAAAAAAAAAAAAAAAAAAAAAAAAAAAAAAAAAAAAAAAAAAAAAAAAAAAAA=",
            "dtype": "f4"
           },
           "z": {
            "bdata": "AAAAAAAAAAAAAAAAAAAAAAAAAAAAAAAAAAAAAAAAAAAAAAAAAAAAAAAAAAAAAAAAAAAAAAAAAAAAAAAAAAAAAAAAAAA=",
            "dtype": "f4"
           }
          },
          {
           "marker": {
            "color": "#636EFA",
            "line": {
             "color": "black",
             "width": 0.5
            },
            "size": 6,
            "symbol": "diamond"
           },
           "mode": "markers+text",
           "name": "Cluster 0",
           "text": [
            "C0"
           ],
           "textposition": "top center",
           "type": "scatter3d",
           "x": {
            "bdata": "XMJdQw==",
            "dtype": "f4"
           },
           "y": {
            "bdata": "AAAAAA==",
            "dtype": "f4"
           },
           "z": {
            "bdata": "AAAAAA==",
            "dtype": "f4"
           }
          },
          {
           "marker": {
            "color": "#EF553B",
            "opacity": 1,
            "size": 4
           },
           "mode": "markers",
           "showlegend": false,
           "type": "scatter3d",
           "x": {
            "bdata": "zqfvQmMULkMmD95CAr0KQ3d8EUO6kCpDM70ZQ1o75EIEIg1DQKkgQ7qR4kI=",
            "dtype": "f4"
           },
           "y": {
            "bdata": "AAAAAAAAAAAAAAAAAAAAAAAAAAAAAAAAAAAAAAAAAAAAAAAAAAAAAAAAAAA=",
            "dtype": "f4"
           },
           "z": {
            "bdata": "AAAAAAAAAAAAAAAAAAAAAAAAAAAAAAAAAAAAAAAAAAAAAAAAAAAAAAAAAAA=",
            "dtype": "f4"
           }
          },
          {
           "marker": {
            "color": "#EF553B",
            "line": {
             "color": "black",
             "width": 0.5
            },
            "size": 6,
            "symbol": "diamond"
           },
           "mode": "markers+text",
           "name": "Cluster 1",
           "text": [
            "C1"
           ],
           "textposition": "top center",
           "type": "scatter3d",
           "x": {
            "bdata": "6z0MQw==",
            "dtype": "f4"
           },
           "y": {
            "bdata": "AAAAAA==",
            "dtype": "f4"
           },
           "z": {
            "bdata": "AAAAAA==",
            "dtype": "f4"
           }
          },
          {
           "marker": {
            "color": "#00CC96",
            "opacity": 1,
            "size": 4
           },
           "mode": "markers",
           "showlegend": false,
           "type": "scatter3d",
           "x": {
            "bdata": "oozGQogZsUJbaJdCtaqpQgqF1kI=",
            "dtype": "f4"
           },
           "y": {
            "bdata": "AAAAAAAAAAAAAAAAAAAAAAAAAAA=",
            "dtype": "f4"
           },
           "z": {
            "bdata": "AAAAAAAAAAAAAAAAAAAAAAAAAAA=",
            "dtype": "f4"
           }
          },
          {
           "marker": {
            "color": "#00CC96",
            "line": {
             "color": "black",
             "width": 0.5
            },
            "size": 6,
            "symbol": "diamond"
           },
           "mode": "markers+text",
           "name": "Cluster 2",
           "text": [
            "C2"
           ],
           "textposition": "top center",
           "type": "scatter3d",
           "x": {
            "bdata": "pj+2Qg==",
            "dtype": "f4"
           },
           "y": {
            "bdata": "AAAAAA==",
            "dtype": "f4"
           },
           "z": {
            "bdata": "AAAAAA==",
            "dtype": "f4"
           }
          },
          {
           "marker": {
            "color": "#AB63FA",
            "opacity": 1,
            "size": 4
           },
           "mode": "markers",
           "showlegend": false,
           "type": "scatter3d",
           "x": {
            "bdata": "ZJ6Xwo6/zMJ9ytLCqB/jwjwg+sLYPOXC35gMw+uXEMM=",
            "dtype": "f4"
           },
           "y": {
            "bdata": "AAAAAAAAAAAAAAAAAAAAAAAAAAAAAAAAAAAAAAAAAAA=",
            "dtype": "f4"
           },
           "z": {
            "bdata": "AAAAAAAAAAAAAAAAAAAAAAAAAAAAAAAAAAAAAAAAAAA=",
            "dtype": "f4"
           }
          },
          {
           "marker": {
            "color": "#AB63FA",
            "line": {
             "color": "black",
             "width": 0.5
            },
            "size": 6,
            "symbol": "diamond"
           },
           "mode": "markers+text",
           "name": "Cluster 3",
           "text": [
            "C3"
           ],
           "textposition": "top center",
           "type": "scatter3d",
           "x": {
            "bdata": "1oDmwg==",
            "dtype": "f4"
           },
           "y": {
            "bdata": "AAAAAA==",
            "dtype": "f4"
           },
           "z": {
            "bdata": "AAAAAA==",
            "dtype": "f4"
           }
          },
          {
           "marker": {
            "color": "#FFA15A",
            "opacity": 1,
            "size": 4
           },
           "mode": "markers",
           "showlegend": false,
           "type": "scatter3d",
           "x": {
            "bdata": "zIcJwptkS8IWVz/C4im7wc4KG8IJlkPCnKuOwe5S6cE=",
            "dtype": "f4"
           },
           "y": {
            "bdata": "AAAAAAAAAAAAAAAAAAAAAAAAAAAAAAAAAAAAAAAAAAA=",
            "dtype": "f4"
           },
           "z": {
            "bdata": "AAAAAAAAAAAAAAAAAAAAAAAAAAAAAAAAAAAAAAAAAAA=",
            "dtype": "f4"
           }
          },
          {
           "marker": {
            "color": "#FFA15A",
            "line": {
             "color": "black",
             "width": 0.5
            },
            "size": 6,
            "symbol": "diamond"
           },
           "mode": "markers+text",
           "name": "Cluster 4",
           "text": [
            "C4"
           ],
           "textposition": "top center",
           "type": "scatter3d",
           "x": {
            "bdata": "EY8Rwg==",
            "dtype": "f4"
           },
           "y": {
            "bdata": "AAAAAA==",
            "dtype": "f4"
           },
           "z": {
            "bdata": "AAAAAA==",
            "dtype": "f4"
           }
          },
          {
           "marker": {
            "color": "#19D3F3",
            "opacity": 1,
            "size": 4
           },
           "mode": "markers",
           "showlegend": false,
           "type": "scatter3d",
           "x": {
            "bdata": "r1R9w/gfJ8PXrpHDARt/wztdhsOBvRXDDjZow9mVOcOj8WnDCRQyw9M3XsM=",
            "dtype": "f4"
           },
           "y": {
            "bdata": "AAAAAAAAAAAAAAAAAAAAAAAAAAAAAAAAAAAAAAAAAAAAAAAAAAAAAAAAAAA=",
            "dtype": "f4"
           },
           "z": {
            "bdata": "AAAAAAAAAAAAAAAAAAAAAAAAAAAAAAAAAAAAAAAAAAAAAAAAAAAAAAAAAAA=",
            "dtype": "f4"
           }
          },
          {
           "marker": {
            "color": "#19D3F3",
            "line": {
             "color": "black",
             "width": 0.5
            },
            "size": 6,
            "symbol": "diamond"
           },
           "mode": "markers+text",
           "name": "Cluster 5",
           "text": [
            "C5"
           ],
           "textposition": "top center",
           "type": "scatter3d",
           "x": {
            "bdata": "tpVdww==",
            "dtype": "f4"
           },
           "y": {
            "bdata": "AAAAAA==",
            "dtype": "f4"
           },
           "z": {
            "bdata": "AAAAAA==",
            "dtype": "f4"
           }
          },
          {
           "marker": {
            "color": "#FF6692",
            "opacity": 1,
            "size": 4
           },
           "mode": "markers",
           "showlegend": false,
           "type": "scatter3d",
           "x": {
            "bdata": "uESEQRiGDUHAFrq/i+dzQQ==",
            "dtype": "f4"
           },
           "y": {
            "bdata": "AAAAAAAAAAAAAAAAAAAAAA==",
            "dtype": "f4"
           },
           "z": {
            "bdata": "AAAAAAAAAAAAAAAAAAAAAA==",
            "dtype": "f4"
           }
          },
          {
           "marker": {
            "color": "#FF6692",
            "line": {
             "color": "black",
             "width": 0.5
            },
            "size": 6,
            "symbol": "diamond"
           },
           "mode": "markers+text",
           "name": "Cluster 6",
           "text": [
            "C6"
           ],
           "textposition": "top center",
           "type": "scatter3d",
           "x": {
            "bdata": "Dq0cQQ==",
            "dtype": "f4"
           },
           "y": {
            "bdata": "AAAAAA==",
            "dtype": "f4"
           },
           "z": {
            "bdata": "AAAAAA==",
            "dtype": "f4"
           }
          },
          {
           "marker": {
            "color": "#B6E880",
            "opacity": 1,
            "size": 4
           },
           "mode": "markers",
           "showlegend": false,
           "type": "scatter3d",
           "x": [],
           "y": [],
           "z": []
          },
          {
           "marker": {
            "color": "#B6E880",
            "line": {
             "color": "black",
             "width": 0.5
            },
            "size": 6,
            "symbol": "diamond"
           },
           "mode": "markers+text",
           "name": "Cluster 7",
           "text": [
            "C7"
           ],
           "textposition": "top center",
           "type": "scatter3d",
           "x": {
            "bdata": "jj46Qg==",
            "dtype": "f4"
           },
           "y": {
            "bdata": "AAAAAA==",
            "dtype": "f4"
           },
           "z": {
            "bdata": "AAAAAA==",
            "dtype": "f4"
           }
          },
          {
           "marker": {
            "color": "#FF97FF",
            "opacity": 1,
            "size": 4
           },
           "mode": "markers",
           "showlegend": false,
           "type": "scatter3d",
           "x": {
            "bdata": "qNZbQl2ZYEKWYHNCAd2DQg==",
            "dtype": "f4"
           },
           "y": {
            "bdata": "AAAAAAAAAAAAAAAAAAAAAA==",
            "dtype": "f4"
           },
           "z": {
            "bdata": "AAAAAAAAAAAAAAAAAAAAAA==",
            "dtype": "f4"
           }
          },
          {
           "marker": {
            "color": "#FF97FF",
            "line": {
             "color": "black",
             "width": 0.5
            },
            "size": 6,
            "symbol": "diamond"
           },
           "mode": "markers+text",
           "name": "Cluster 8",
           "text": [
            "C8"
           ],
           "textposition": "top center",
           "type": "scatter3d",
           "x": {
            "bdata": "qOJtQg==",
            "dtype": "f4"
           },
           "y": {
            "bdata": "AAAAAA==",
            "dtype": "f4"
           },
           "z": {
            "bdata": "AAAAAA==",
            "dtype": "f4"
           }
          },
          {
           "marker": {
            "color": "#FECB52",
            "opacity": 1,
            "size": 4
           },
           "mode": "markers",
           "showlegend": false,
           "type": "scatter3d",
           "x": {
            "bdata": "2CPwQYq9B0I=",
            "dtype": "f4"
           },
           "y": {
            "bdata": "AAAAAAAAAAA=",
            "dtype": "f4"
           },
           "z": {
            "bdata": "AAAAAAAAAAA=",
            "dtype": "f4"
           }
          },
          {
           "marker": {
            "color": "#FECB52",
            "line": {
             "color": "black",
             "width": 0.5
            },
            "size": 6,
            "symbol": "diamond"
           },
           "mode": "markers+text",
           "name": "Cluster 9",
           "text": [
            "C9"
           ],
           "textposition": "top center",
           "type": "scatter3d",
           "x": {
            "bdata": "eM//QQ==",
            "dtype": "f4"
           },
           "y": {
            "bdata": "AAAAAA==",
            "dtype": "f4"
           },
           "z": {
            "bdata": "AAAAAA==",
            "dtype": "f4"
           }
          }
         ],
         "name": "frame5"
        },
        {
         "data": [
          {
           "marker": {
            "color": "#636EFA",
            "opacity": 1,
            "size": 4
           },
           "mode": "markers",
           "showlegend": false,
           "type": "scatter3d",
           "x": {
            "bdata": "m5aMQ+/5pEP1uWZD1nmPQ3PeNUP/HldDFmdLQ6OGcUPYbUlD/sJ1Q2HnRUOpYEZDgAVCQ/hoOUMbrFhD",
            "dtype": "f4"
           },
           "y": {
            "bdata": "AAAAAAAAAAAAAAAAAAAAAAAAAAAAAAAAAAAAAAAAAAAAAAAAAAAAAAAAAAAAAAAAAAAAAAAAAAAAAAAA",
            "dtype": "f4"
           },
           "z": {
            "bdata": "AAAAAAAAAAAAAAAAAAAAAAAAAAAAAAAAAAAAAAAAAAAAAAAAAAAAAAAAAAAAAAAAAAAAAAAAAAAAAAAA",
            "dtype": "f4"
           }
          },
          {
           "marker": {
            "color": "#636EFA",
            "line": {
             "color": "black",
             "width": 0.5
            },
            "size": 6,
            "symbol": "diamond"
           },
           "mode": "markers+text",
           "name": "Cluster 0",
           "text": [
            "C0"
           ],
           "textposition": "top center",
           "type": "scatter3d",
           "x": {
            "bdata": "fVpjQw==",
            "dtype": "f4"
           },
           "y": {
            "bdata": "AAAAAA==",
            "dtype": "f4"
           },
           "z": {
            "bdata": "AAAAAA==",
            "dtype": "f4"
           }
          },
          {
           "marker": {
            "color": "#EF553B",
            "opacity": 1,
            "size": 4
           },
           "mode": "markers",
           "showlegend": false,
           "type": "scatter3d",
           "x": {
            "bdata": "zqfvQmMULkMCvQpDd3wRQ7qQKkMzvRlD9vE0QwQiDUNAqSBD3agyQw==",
            "dtype": "f4"
           },
           "y": {
            "bdata": "AAAAAAAAAAAAAAAAAAAAAAAAAAAAAAAAAAAAAAAAAAAAAAAAAAAAAA==",
            "dtype": "f4"
           },
           "z": {
            "bdata": "AAAAAAAAAAAAAAAAAAAAAAAAAAAAAAAAAAAAAAAAAAAAAAAAAAAAAA==",
            "dtype": "f4"
           }
          },
          {
           "marker": {
            "color": "#EF553B",
            "line": {
             "color": "black",
             "width": 0.5
            },
            "size": 6,
            "symbol": "diamond"
           },
           "mode": "markers+text",
           "name": "Cluster 1",
           "text": [
            "C1"
           ],
           "textposition": "top center",
           "type": "scatter3d",
           "x": {
            "bdata": "LmIcQw==",
            "dtype": "f4"
           },
           "y": {
            "bdata": "AAAAAA==",
            "dtype": "f4"
           },
           "z": {
            "bdata": "AAAAAA==",
            "dtype": "f4"
           }
          },
          {
           "marker": {
            "color": "#00CC96",
            "opacity": 1,
            "size": 4
           },
           "mode": "markers",
           "showlegend": false,
           "type": "scatter3d",
           "x": {
            "bdata": "Jg/eQqKMxkJaO+RCiBmxQltol0K1qqlCupHiQgqF1kI=",
            "dtype": "f4"
           },
           "y": {
            "bdata": "AAAAAAAAAAAAAAAAAAAAAAAAAAAAAAAAAAAAAAAAAAA=",
            "dtype": "f4"
           },
           "z": {
            "bdata": "AAAAAAAAAAAAAAAAAAAAAAAAAAAAAAAAAAAAAAAAAAA=",
            "dtype": "f4"
           }
          },
          {
           "marker": {
            "color": "#00CC96",
            "line": {
             "color": "black",
             "width": 0.5
            },
            "size": 6,
            "symbol": "diamond"
           },
           "mode": "markers+text",
           "name": "Cluster 2",
           "text": [
            "C2"
           ],
           "textposition": "top center",
           "type": "scatter3d",
           "x": {
            "bdata": "T4PGQg==",
            "dtype": "f4"
           },
           "y": {
            "bdata": "AAAAAA==",
            "dtype": "f4"
           },
           "z": {
            "bdata": "AAAAAA==",
            "dtype": "f4"
           }
          },
          {
           "marker": {
            "color": "#AB63FA",
            "opacity": 1,
            "size": 4
           },
           "mode": "markers",
           "showlegend": false,
           "type": "scatter3d",
           "x": {
            "bdata": "jr/MwvgfJ8OBvRXDfcrSwqgf48I8IPrC2Dzlwt+YDMPrlxDD",
            "dtype": "f4"
           },
           "y": {
            "bdata": "AAAAAAAAAAAAAAAAAAAAAAAAAAAAAAAAAAAAAAAAAAAAAAAA",
            "dtype": "f4"
           },
           "z": {
            "bdata": "AAAAAAAAAAAAAAAAAAAAAAAAAAAAAAAAAAAAAAAAAAAAAAAA",
            "dtype": "f4"
           }
          },
          {
           "marker": {
            "color": "#AB63FA",
            "line": {
             "color": "black",
             "width": 0.5
            },
            "size": 6,
            "symbol": "diamond"
           },
           "mode": "markers+text",
           "name": "Cluster 3",
           "text": [
            "C3"
           ],
           "textposition": "top center",
           "type": "scatter3d",
           "x": {
            "bdata": "2ToBww==",
            "dtype": "f4"
           },
           "y": {
            "bdata": "AAAAAA==",
            "dtype": "f4"
           },
           "z": {
            "bdata": "AAAAAA==",
            "dtype": "f4"
           }
          },
          {
           "marker": {
            "color": "#FFA15A",
            "opacity": 1,
            "size": 4
           },
           "mode": "markers",
           "showlegend": false,
           "type": "scatter3d",
           "x": {
            "bdata": "zIcJwptkS8IWVz/C4im7wWSel8LOChvCCZZDwpyrjsHuUunB",
            "dtype": "f4"
           },
           "y": {
            "bdata": "AAAAAAAAAAAAAAAAAAAAAAAAAAAAAAAAAAAAAAAAAAAAAAAA",
            "dtype": "f4"
           },
           "z": {
            "bdata": "AAAAAAAAAAAAAAAAAAAAAAAAAAAAAAAAAAAAAAAAAAAAAAAA",
            "dtype": "f4"
           }
          },
          {
           "marker": {
            "color": "#FFA15A",
            "line": {
             "color": "black",
             "width": 0.5
            },
            "size": 6,
            "symbol": "diamond"
           },
           "mode": "markers+text",
           "name": "Cluster 4",
           "text": [
            "C4"
           ],
           "textposition": "top center",
           "type": "scatter3d",
           "x": {
            "bdata": "JRQjwg==",
            "dtype": "f4"
           },
           "y": {
            "bdata": "AAAAAA==",
            "dtype": "f4"
           },
           "z": {
            "bdata": "AAAAAA==",
            "dtype": "f4"
           }
          },
          {
           "marker": {
            "color": "#19D3F3",
            "opacity": 1,
            "size": 4
           },
           "mode": "markers",
           "showlegend": false,
           "type": "scatter3d",
           "x": {
            "bdata": "r1R9w9eukcMBG3/DO12Gww42aMPZlTnDo/FpwwkUMsPTN17D",
            "dtype": "f4"
           },
           "y": {
            "bdata": "AAAAAAAAAAAAAAAAAAAAAAAAAAAAAAAAAAAAAAAAAAAAAAAA",
            "dtype": "f4"
           },
           "z": {
            "bdata": "AAAAAAAAAAAAAAAAAAAAAAAAAAAAAAAAAAAAAAAAAAAAAAAA",
            "dtype": "f4"
           }
          },
          {
           "marker": {
            "color": "#19D3F3",
            "line": {
             "color": "black",
             "width": 0.5
            },
            "size": 6,
            "symbol": "diamond"
           },
           "mode": "markers+text",
           "name": "Cluster 5",
           "text": [
            "C5"
           ],
           "textposition": "top center",
           "type": "scatter3d",
           "x": {
            "bdata": "YJ5rww==",
            "dtype": "f4"
           },
           "y": {
            "bdata": "AAAAAA==",
            "dtype": "f4"
           },
           "z": {
            "bdata": "AAAAAA==",
            "dtype": "f4"
           }
          },
          {
           "marker": {
            "color": "#FF6692",
            "opacity": 1,
            "size": 4
           },
           "mode": "markers",
           "showlegend": false,
           "type": "scatter3d",
           "x": {
            "bdata": "uESEQRiGDUHAFrq/i+dzQQ==",
            "dtype": "f4"
           },
           "y": {
            "bdata": "AAAAAAAAAAAAAAAAAAAAAA==",
            "dtype": "f4"
           },
           "z": {
            "bdata": "AAAAAAAAAAAAAAAAAAAAAA==",
            "dtype": "f4"
           }
          },
          {
           "marker": {
            "color": "#FF6692",
            "line": {
             "color": "black",
             "width": 0.5
            },
            "size": 6,
            "symbol": "diamond"
           },
           "mode": "markers+text",
           "name": "Cluster 6",
           "text": [
            "C6"
           ],
           "textposition": "top center",
           "type": "scatter3d",
           "x": {
            "bdata": "Dq0cQQ==",
            "dtype": "f4"
           },
           "y": {
            "bdata": "AAAAAA==",
            "dtype": "f4"
           },
           "z": {
            "bdata": "AAAAAA==",
            "dtype": "f4"
           }
          },
          {
           "marker": {
            "color": "#B6E880",
            "opacity": 1,
            "size": 4
           },
           "mode": "markers",
           "showlegend": false,
           "type": "scatter3d",
           "x": [],
           "y": [],
           "z": []
          },
          {
           "marker": {
            "color": "#B6E880",
            "line": {
             "color": "black",
             "width": 0.5
            },
            "size": 6,
            "symbol": "diamond"
           },
           "mode": "markers+text",
           "name": "Cluster 7",
           "text": [
            "C7"
           ],
           "textposition": "top center",
           "type": "scatter3d",
           "x": {
            "bdata": "jj46Qg==",
            "dtype": "f4"
           },
           "y": {
            "bdata": "AAAAAA==",
            "dtype": "f4"
           },
           "z": {
            "bdata": "AAAAAA==",
            "dtype": "f4"
           }
          },
          {
           "marker": {
            "color": "#FF97FF",
            "opacity": 1,
            "size": 4
           },
           "mode": "markers",
           "showlegend": false,
           "type": "scatter3d",
           "x": {
            "bdata": "qNZbQl2ZYEKWYHNCAd2DQg==",
            "dtype": "f4"
           },
           "y": {
            "bdata": "AAAAAAAAAAAAAAAAAAAAAA==",
            "dtype": "f4"
           },
           "z": {
            "bdata": "AAAAAAAAAAAAAAAAAAAAAA==",
            "dtype": "f4"
           }
          },
          {
           "marker": {
            "color": "#FF97FF",
            "line": {
             "color": "black",
             "width": 0.5
            },
            "size": 6,
            "symbol": "diamond"
           },
           "mode": "markers+text",
           "name": "Cluster 8",
           "text": [
            "C8"
           ],
           "textposition": "top center",
           "type": "scatter3d",
           "x": {
            "bdata": "qOJtQg==",
            "dtype": "f4"
           },
           "y": {
            "bdata": "AAAAAA==",
            "dtype": "f4"
           },
           "z": {
            "bdata": "AAAAAA==",
            "dtype": "f4"
           }
          },
          {
           "marker": {
            "color": "#FECB52",
            "opacity": 1,
            "size": 4
           },
           "mode": "markers",
           "showlegend": false,
           "type": "scatter3d",
           "x": {
            "bdata": "2CPwQYq9B0I=",
            "dtype": "f4"
           },
           "y": {
            "bdata": "AAAAAAAAAAA=",
            "dtype": "f4"
           },
           "z": {
            "bdata": "AAAAAAAAAAA=",
            "dtype": "f4"
           }
          },
          {
           "marker": {
            "color": "#FECB52",
            "line": {
             "color": "black",
             "width": 0.5
            },
            "size": 6,
            "symbol": "diamond"
           },
           "mode": "markers+text",
           "name": "Cluster 9",
           "text": [
            "C9"
           ],
           "textposition": "top center",
           "type": "scatter3d",
           "x": {
            "bdata": "eM//QQ==",
            "dtype": "f4"
           },
           "y": {
            "bdata": "AAAAAA==",
            "dtype": "f4"
           },
           "z": {
            "bdata": "AAAAAA==",
            "dtype": "f4"
           }
          }
         ],
         "name": "frame6"
        },
        {
         "data": [
          {
           "marker": {
            "color": "#636EFA",
            "opacity": 1,
            "size": 4
           },
           "mode": "markers",
           "showlegend": false,
           "type": "scatter3d",
           "x": {
            "bdata": "m5aMQ+/5pEP1uWZD1nmPQ/8eV0MWZ0tDo4ZxQ9htSUP+wnVDYedFQ6lgRkOABUJDG6xYQw==",
            "dtype": "f4"
           },
           "y": {
            "bdata": "AAAAAAAAAAAAAAAAAAAAAAAAAAAAAAAAAAAAAAAAAAAAAAAAAAAAAAAAAAAAAAAAAAAAAA==",
            "dtype": "f4"
           },
           "z": {
            "bdata": "AAAAAAAAAAAAAAAAAAAAAAAAAAAAAAAAAAAAAAAAAAAAAAAAAAAAAAAAAAAAAAAAAAAAAA==",
            "dtype": "f4"
           }
          },
          {
           "marker": {
            "color": "#636EFA",
            "line": {
             "color": "black",
             "width": 0.5
            },
            "size": 6,
            "symbol": "diamond"
           },
           "mode": "markers+text",
           "name": "Cluster 0",
           "text": [
            "C0"
           ],
           "textposition": "top center",
           "type": "scatter3d",
           "x": {
            "bdata": "JRRqQw==",
            "dtype": "f4"
           },
           "y": {
            "bdata": "AAAAAA==",
            "dtype": "f4"
           },
           "z": {
            "bdata": "AAAAAA==",
            "dtype": "f4"
           }
          },
          {
           "marker": {
            "color": "#EF553B",
            "opacity": 1,
            "size": 4
           },
           "mode": "markers",
           "showlegend": false,
           "type": "scatter3d",
           "x": {
            "bdata": "YxQuQwK9CkN3fBFDupAqQzO9GUNz3jVD9vE0QwQiDUNAqSBD3agyQ/hoOUM=",
            "dtype": "f4"
           },
           "y": {
            "bdata": "AAAAAAAAAAAAAAAAAAAAAAAAAAAAAAAAAAAAAAAAAAAAAAAAAAAAAAAAAAA=",
            "dtype": "f4"
           },
           "z": {
            "bdata": "AAAAAAAAAAAAAAAAAAAAAAAAAAAAAAAAAAAAAAAAAAAAAAAAAAAAAAAAAAA=",
            "dtype": "f4"
           }
          },
          {
           "marker": {
            "color": "#EF553B",
            "line": {
             "color": "black",
             "width": 0.5
            },
            "size": 6,
            "symbol": "diamond"
           },
           "mode": "markers+text",
           "name": "Cluster 1",
           "text": [
            "C1"
           ],
           "textposition": "top center",
           "type": "scatter3d",
           "x": {
            "bdata": "lKkkQw==",
            "dtype": "f4"
           },
           "y": {
            "bdata": "AAAAAA==",
            "dtype": "f4"
           },
           "z": {
            "bdata": "AAAAAA==",
            "dtype": "f4"
           }
          },
          {
           "marker": {
            "color": "#00CC96",
            "opacity": 1,
            "size": 4
           },
           "mode": "markers",
           "showlegend": false,
           "type": "scatter3d",
           "x": {
            "bdata": "zqfvQiYP3kKijMZCWjvkQogZsUK1qqlCupHiQgqF1kI=",
            "dtype": "f4"
           },
           "y": {
            "bdata": "AAAAAAAAAAAAAAAAAAAAAAAAAAAAAAAAAAAAAAAAAAA=",
            "dtype": "f4"
           },
           "z": {
            "bdata": "AAAAAAAAAAAAAAAAAAAAAAAAAAAAAAAAAAAAAAAAAAA=",
            "dtype": "f4"
           }
          },
          {
           "marker": {
            "color": "#00CC96",
            "line": {
             "color": "black",
             "width": 0.5
            },
            "size": 6,
            "symbol": "diamond"
           },
           "mode": "markers+text",
           "name": "Cluster 2",
           "text": [
            "C2"
           ],
           "textposition": "top center",
           "type": "scatter3d",
           "x": {
            "bdata": "PovRQg==",
            "dtype": "f4"
           },
           "y": {
            "bdata": "AAAAAA==",
            "dtype": "f4"
           },
           "z": {
            "bdata": "AAAAAA==",
            "dtype": "f4"
           }
          },
          {
           "marker": {
            "color": "#AB63FA",
            "opacity": 1,
            "size": 4
           },
           "mode": "markers",
           "showlegend": false,
           "type": "scatter3d",
           "x": {
            "bdata": "jr/MwvgfJ8OBvRXDfcrSwqgf48I8IPrC2Dzlwt+YDMPrlxDDCRQyww==",
            "dtype": "f4"
           },
           "y": {
            "bdata": "AAAAAAAAAAAAAAAAAAAAAAAAAAAAAAAAAAAAAAAAAAAAAAAAAAAAAA==",
            "dtype": "f4"
           },
           "z": {
            "bdata": "AAAAAAAAAAAAAAAAAAAAAAAAAAAAAAAAAAAAAAAAAAAAAAAAAAAAAA==",
            "dtype": "f4"
           }
          },
          {
           "marker": {
            "color": "#AB63FA",
            "line": {
             "color": "black",
             "width": 0.5
            },
            "size": 6,
            "symbol": "diamond"
           },
           "mode": "markers+text",
           "name": "Cluster 3",
           "text": [
            "C3"
           ],
           "textposition": "top center",
           "type": "scatter3d",
           "x": {
            "bdata": "Xh0Gww==",
            "dtype": "f4"
           },
           "y": {
            "bdata": "AAAAAA==",
            "dtype": "f4"
           },
           "z": {
            "bdata": "AAAAAA==",
            "dtype": "f4"
           }
          },
          {
           "marker": {
            "color": "#FFA15A",
            "opacity": 1,
            "size": 4
           },
           "mode": "markers",
           "showlegend": false,
           "type": "scatter3d",
           "x": {
            "bdata": "zIcJwptkS8IWVz/C4im7wWSel8LOChvCCZZDwpyrjsHuUunB",
            "dtype": "f4"
           },
           "y": {
            "bdata": "AAAAAAAAAAAAAAAAAAAAAAAAAAAAAAAAAAAAAAAAAAAAAAAA",
            "dtype": "f4"
           },
           "z": {
            "bdata": "AAAAAAAAAAAAAAAAAAAAAAAAAAAAAAAAAAAAAAAAAAAAAAAA",
            "dtype": "f4"
           }
          },
          {
           "marker": {
            "color": "#FFA15A",
            "line": {
             "color": "black",
             "width": 0.5
            },
            "size": 6,
            "symbol": "diamond"
           },
           "mode": "markers+text",
           "name": "Cluster 4",
           "text": [
            "C4"
           ],
           "textposition": "top center",
           "type": "scatter3d",
           "x": {
            "bdata": "JRQjwg==",
            "dtype": "f4"
           },
           "y": {
            "bdata": "AAAAAA==",
            "dtype": "f4"
           },
           "z": {
            "bdata": "AAAAAA==",
            "dtype": "f4"
           }
          },
          {
           "marker": {
            "color": "#19D3F3",
            "opacity": 1,
            "size": 4
           },
           "mode": "markers",
           "showlegend": false,
           "type": "scatter3d",
           "x": {
            "bdata": "r1R9w9eukcMBG3/DO12Gww42aMPZlTnDo/Fpw9M3XsM=",
            "dtype": "f4"
           },
           "y": {
            "bdata": "AAAAAAAAAAAAAAAAAAAAAAAAAAAAAAAAAAAAAAAAAAA=",
            "dtype": "f4"
           },
           "z": {
            "bdata": "AAAAAAAAAAAAAAAAAAAAAAAAAAAAAAAAAAAAAAAAAAA=",
            "dtype": "f4"
           }
          },
          {
           "marker": {
            "color": "#19D3F3",
            "line": {
             "color": "black",
             "width": 0.5
            },
            "size": 6,
            "symbol": "diamond"
           },
           "mode": "markers+text",
           "name": "Cluster 5",
           "text": [
            "C5"
           ],
           "textposition": "top center",
           "type": "scatter3d",
           "x": {
            "bdata": "q89yww==",
            "dtype": "f4"
           },
           "y": {
            "bdata": "AAAAAA==",
            "dtype": "f4"
           },
           "z": {
            "bdata": "AAAAAA==",
            "dtype": "f4"
           }
          },
          {
           "marker": {
            "color": "#FF6692",
            "opacity": 1,
            "size": 4
           },
           "mode": "markers",
           "showlegend": false,
           "type": "scatter3d",
           "x": {
            "bdata": "uESEQRiGDUHAFrq/i+dzQQ==",
            "dtype": "f4"
           },
           "y": {
            "bdata": "AAAAAAAAAAAAAAAAAAAAAA==",
            "dtype": "f4"
           },
           "z": {
            "bdata": "AAAAAAAAAAAAAAAAAAAAAA==",
            "dtype": "f4"
           }
          },
          {
           "marker": {
            "color": "#FF6692",
            "line": {
             "color": "black",
             "width": 0.5
            },
            "size": 6,
            "symbol": "diamond"
           },
           "mode": "markers+text",
           "name": "Cluster 6",
           "text": [
            "C6"
           ],
           "textposition": "top center",
           "type": "scatter3d",
           "x": {
            "bdata": "Dq0cQQ==",
            "dtype": "f4"
           },
           "y": {
            "bdata": "AAAAAA==",
            "dtype": "f4"
           },
           "z": {
            "bdata": "AAAAAA==",
            "dtype": "f4"
           }
          },
          {
           "marker": {
            "color": "#B6E880",
            "opacity": 1,
            "size": 4
           },
           "mode": "markers",
           "showlegend": false,
           "type": "scatter3d",
           "x": [],
           "y": [],
           "z": []
          },
          {
           "marker": {
            "color": "#B6E880",
            "line": {
             "color": "black",
             "width": 0.5
            },
            "size": 6,
            "symbol": "diamond"
           },
           "mode": "markers+text",
           "name": "Cluster 7",
           "text": [
            "C7"
           ],
           "textposition": "top center",
           "type": "scatter3d",
           "x": {
            "bdata": "jj46Qg==",
            "dtype": "f4"
           },
           "y": {
            "bdata": "AAAAAA==",
            "dtype": "f4"
           },
           "z": {
            "bdata": "AAAAAA==",
            "dtype": "f4"
           }
          },
          {
           "marker": {
            "color": "#FF97FF",
            "opacity": 1,
            "size": 4
           },
           "mode": "markers",
           "showlegend": false,
           "type": "scatter3d",
           "x": {
            "bdata": "qNZbQl2ZYEKWYHNCW2iXQgHdg0I=",
            "dtype": "f4"
           },
           "y": {
            "bdata": "AAAAAAAAAAAAAAAAAAAAAAAAAAA=",
            "dtype": "f4"
           },
           "z": {
            "bdata": "AAAAAAAAAAAAAAAAAAAAAAAAAAA=",
            "dtype": "f4"
           }
          },
          {
           "marker": {
            "color": "#FF97FF",
            "line": {
             "color": "black",
             "width": 0.5
            },
            "size": 6,
            "symbol": "diamond"
           },
           "mode": "markers+text",
           "name": "Cluster 8",
           "text": [
            "C8"
           ],
           "textposition": "top center",
           "type": "scatter3d",
           "x": {
            "bdata": "Et96Qg==",
            "dtype": "f4"
           },
           "y": {
            "bdata": "AAAAAA==",
            "dtype": "f4"
           },
           "z": {
            "bdata": "AAAAAA==",
            "dtype": "f4"
           }
          },
          {
           "marker": {
            "color": "#FECB52",
            "opacity": 1,
            "size": 4
           },
           "mode": "markers",
           "showlegend": false,
           "type": "scatter3d",
           "x": {
            "bdata": "2CPwQYq9B0I=",
            "dtype": "f4"
           },
           "y": {
            "bdata": "AAAAAAAAAAA=",
            "dtype": "f4"
           },
           "z": {
            "bdata": "AAAAAAAAAAA=",
            "dtype": "f4"
           }
          },
          {
           "marker": {
            "color": "#FECB52",
            "line": {
             "color": "black",
             "width": 0.5
            },
            "size": 6,
            "symbol": "diamond"
           },
           "mode": "markers+text",
           "name": "Cluster 9",
           "text": [
            "C9"
           ],
           "textposition": "top center",
           "type": "scatter3d",
           "x": {
            "bdata": "eM//QQ==",
            "dtype": "f4"
           },
           "y": {
            "bdata": "AAAAAA==",
            "dtype": "f4"
           },
           "z": {
            "bdata": "AAAAAA==",
            "dtype": "f4"
           }
          }
         ],
         "name": "frame7"
        },
        {
         "data": [
          {
           "marker": {
            "color": "#636EFA",
            "opacity": 1,
            "size": 4
           },
           "mode": "markers",
           "showlegend": false,
           "type": "scatter3d",
           "x": {
            "bdata": "m5aMQ+/5pEP1uWZD1nmPQ/8eV0MWZ0tDo4ZxQ9htSUP+wnVDG6xYQw==",
            "dtype": "f4"
           },
           "y": {
            "bdata": "AAAAAAAAAAAAAAAAAAAAAAAAAAAAAAAAAAAAAAAAAAAAAAAAAAAAAA==",
            "dtype": "f4"
           },
           "z": {
            "bdata": "AAAAAAAAAAAAAAAAAAAAAAAAAAAAAAAAAAAAAAAAAAAAAAAAAAAAAA==",
            "dtype": "f4"
           }
          },
          {
           "marker": {
            "color": "#636EFA",
            "line": {
             "color": "black",
             "width": 0.5
            },
            "size": 6,
            "symbol": "diamond"
           },
           "mode": "markers+text",
           "name": "Cluster 0",
           "text": [
            "C0"
           ],
           "textposition": "top center",
           "type": "scatter3d",
           "x": {
            "bdata": "o0V1Qw==",
            "dtype": "f4"
           },
           "y": {
            "bdata": "AAAAAA==",
            "dtype": "f4"
           },
           "z": {
            "bdata": "AAAAAA==",
            "dtype": "f4"
           }
          },
          {
           "marker": {
            "color": "#EF553B",
            "opacity": 1,
            "size": 4
           },
           "mode": "markers",
           "showlegend": false,
           "type": "scatter3d",
           "x": {
            "bdata": "YxQuQwK9CkN3fBFDupAqQzO9GUNz3jVD9vE0QwQiDUNAqSBD3agyQ2HnRUOpYEZDgAVCQ/hoOUM=",
            "dtype": "f4"
           },
           "y": {
            "bdata": "AAAAAAAAAAAAAAAAAAAAAAAAAAAAAAAAAAAAAAAAAAAAAAAAAAAAAAAAAAAAAAAAAAAAAAAAAAA=",
            "dtype": "f4"
           },
           "z": {
            "bdata": "AAAAAAAAAAAAAAAAAAAAAAAAAAAAAAAAAAAAAAAAAAAAAAAAAAAAAAAAAAAAAAAAAAAAAAAAAAA=",
            "dtype": "f4"
           }
          },
          {
           "marker": {
            "color": "#EF553B",
            "line": {
             "color": "black",
             "width": 0.5
            },
            "size": 6,
            "symbol": "diamond"
           },
           "mode": "markers+text",
           "name": "Cluster 1",
           "text": [
            "C1"
           ],
           "textposition": "top center",
           "type": "scatter3d",
           "x": {
            "bdata": "x4orQw==",
            "dtype": "f4"
           },
           "y": {
            "bdata": "AAAAAA==",
            "dtype": "f4"
           },
           "z": {
            "bdata": "AAAAAA==",
            "dtype": "f4"
           }
          },
          {
           "marker": {
            "color": "#00CC96",
            "opacity": 1,
            "size": 4
           },
           "mode": "markers",
           "showlegend": false,
           "type": "scatter3d",
           "x": {
            "bdata": "zqfvQiYP3kKijMZCWjvkQogZsUK1qqlCupHiQgqF1kI=",
            "dtype": "f4"
           },
           "y": {
            "bdata": "AAAAAAAAAAAAAAAAAAAAAAAAAAAAAAAAAAAAAAAAAAA=",
            "dtype": "f4"
           },
           "z": {
            "bdata": "AAAAAAAAAAAAAAAAAAAAAAAAAAAAAAAAAAAAAAAAAAA=",
            "dtype": "f4"
           }
          },
          {
           "marker": {
            "color": "#00CC96",
            "line": {
             "color": "black",
             "width": 0.5
            },
            "size": 6,
            "symbol": "diamond"
           },
           "mode": "markers+text",
           "name": "Cluster 2",
           "text": [
            "C2"
           ],
           "textposition": "top center",
           "type": "scatter3d",
           "x": {
            "bdata": "PovRQg==",
            "dtype": "f4"
           },
           "y": {
            "bdata": "AAAAAA==",
            "dtype": "f4"
           },
           "z": {
            "bdata": "AAAAAA==",
            "dtype": "f4"
           }
          },
          {
           "marker": {
            "color": "#AB63FA",
            "opacity": 1,
            "size": 4
           },
           "mode": "markers",
           "showlegend": false,
           "type": "scatter3d",
           "x": {
            "bdata": "jr/MwvgfJ8OBvRXDfcrSwqgf48I8IPrC2Dzlwt+YDMPrlxDD2ZU5wwkUMsM=",
            "dtype": "f4"
           },
           "y": {
            "bdata": "AAAAAAAAAAAAAAAAAAAAAAAAAAAAAAAAAAAAAAAAAAAAAAAAAAAAAAAAAAA=",
            "dtype": "f4"
           },
           "z": {
            "bdata": "AAAAAAAAAAAAAAAAAAAAAAAAAAAAAAAAAAAAAAAAAAAAAAAAAAAAAAAAAAA=",
            "dtype": "f4"
           }
          },
          {
           "marker": {
            "color": "#AB63FA",
            "line": {
             "color": "black",
             "width": 0.5
            },
            "size": 6,
            "symbol": "diamond"
           },
           "mode": "markers+text",
           "name": "Cluster 3",
           "text": [
            "C3"
           ],
           "textposition": "top center",
           "type": "scatter3d",
           "x": {
            "bdata": "O8sKww==",
            "dtype": "f4"
           },
           "y": {
            "bdata": "AAAAAA==",
            "dtype": "f4"
           },
           "z": {
            "bdata": "AAAAAA==",
            "dtype": "f4"
           }
          },
          {
           "marker": {
            "color": "#FFA15A",
            "opacity": 1,
            "size": 4
           },
           "mode": "markers",
           "showlegend": false,
           "type": "scatter3d",
           "x": {
            "bdata": "zIcJwptkS8IWVz/C4im7wWSel8LOChvCCZZDwpyrjsHuUunB",
            "dtype": "f4"
           },
           "y": {
            "bdata": "AAAAAAAAAAAAAAAAAAAAAAAAAAAAAAAAAAAAAAAAAAAAAAAA",
            "dtype": "f4"
           },
           "z": {
            "bdata": "AAAAAAAAAAAAAAAAAAAAAAAAAAAAAAAAAAAAAAAAAAAAAAAA",
            "dtype": "f4"
           }
          },
          {
           "marker": {
            "color": "#FFA15A",
            "line": {
             "color": "black",
             "width": 0.5
            },
            "size": 6,
            "symbol": "diamond"
           },
           "mode": "markers+text",
           "name": "Cluster 4",
           "text": [
            "C4"
           ],
           "textposition": "top center",
           "type": "scatter3d",
           "x": {
            "bdata": "JRQjwg==",
            "dtype": "f4"
           },
           "y": {
            "bdata": "AAAAAA==",
            "dtype": "f4"
           },
           "z": {
            "bdata": "AAAAAA==",
            "dtype": "f4"
           }
          },
          {
           "marker": {
            "color": "#19D3F3",
            "opacity": 1,
            "size": 4
           },
           "mode": "markers",
           "showlegend": false,
           "type": "scatter3d",
           "x": {
            "bdata": "r1R9w9eukcMBG3/DO12Gww42aMOj8WnD0zdeww==",
            "dtype": "f4"
           },
           "y": {
            "bdata": "AAAAAAAAAAAAAAAAAAAAAAAAAAAAAAAAAAAAAA==",
            "dtype": "f4"
           },
           "z": {
            "bdata": "AAAAAAAAAAAAAAAAAAAAAAAAAAAAAAAAAAAAAA==",
            "dtype": "f4"
           }
          },
          {
           "marker": {
            "color": "#19D3F3",
            "line": {
             "color": "black",
             "width": 0.5
            },
            "size": 6,
            "symbol": "diamond"
           },
           "mode": "markers+text",
           "name": "Cluster 5",
           "text": [
            "C5"
           ],
           "textposition": "top center",
           "type": "scatter3d",
           "x": {
            "bdata": "gPx6ww==",
            "dtype": "f4"
           },
           "y": {
            "bdata": "AAAAAA==",
            "dtype": "f4"
           },
           "z": {
            "bdata": "AAAAAA==",
            "dtype": "f4"
           }
          },
          {
           "marker": {
            "color": "#FF6692",
            "opacity": 1,
            "size": 4
           },
           "mode": "markers",
           "showlegend": false,
           "type": "scatter3d",
           "x": {
            "bdata": "uESEQRiGDUHAFrq/i+dzQQ==",
            "dtype": "f4"
           },
           "y": {
            "bdata": "AAAAAAAAAAAAAAAAAAAAAA==",
            "dtype": "f4"
           },
           "z": {
            "bdata": "AAAAAAAAAAAAAAAAAAAAAA==",
            "dtype": "f4"
           }
          },
          {
           "marker": {
            "color": "#FF6692",
            "line": {
             "color": "black",
             "width": 0.5
            },
            "size": 6,
            "symbol": "diamond"
           },
           "mode": "markers+text",
           "name": "Cluster 6",
           "text": [
            "C6"
           ],
           "textposition": "top center",
           "type": "scatter3d",
           "x": {
            "bdata": "Dq0cQQ==",
            "dtype": "f4"
           },
           "y": {
            "bdata": "AAAAAA==",
            "dtype": "f4"
           },
           "z": {
            "bdata": "AAAAAA==",
            "dtype": "f4"
           }
          },
          {
           "marker": {
            "color": "#B6E880",
            "opacity": 1,
            "size": 4
           },
           "mode": "markers",
           "showlegend": false,
           "type": "scatter3d",
           "x": [],
           "y": [],
           "z": []
          },
          {
           "marker": {
            "color": "#B6E880",
            "line": {
             "color": "black",
             "width": 0.5
            },
            "size": 6,
            "symbol": "diamond"
           },
           "mode": "markers+text",
           "name": "Cluster 7",
           "text": [
            "C7"
           ],
           "textposition": "top center",
           "type": "scatter3d",
           "x": {
            "bdata": "jj46Qg==",
            "dtype": "f4"
           },
           "y": {
            "bdata": "AAAAAA==",
            "dtype": "f4"
           },
           "z": {
            "bdata": "AAAAAA==",
            "dtype": "f4"
           }
          },
          {
           "marker": {
            "color": "#FF97FF",
            "opacity": 1,
            "size": 4
           },
           "mode": "markers",
           "showlegend": false,
           "type": "scatter3d",
           "x": {
            "bdata": "qNZbQl2ZYEKWYHNCW2iXQgHdg0I=",
            "dtype": "f4"
           },
           "y": {
            "bdata": "AAAAAAAAAAAAAAAAAAAAAAAAAAA=",
            "dtype": "f4"
           },
           "z": {
            "bdata": "AAAAAAAAAAAAAAAAAAAAAAAAAAA=",
            "dtype": "f4"
           }
          },
          {
           "marker": {
            "color": "#FF97FF",
            "line": {
             "color": "black",
             "width": 0.5
            },
            "size": 6,
            "symbol": "diamond"
           },
           "mode": "markers+text",
           "name": "Cluster 8",
           "text": [
            "C8"
           ],
           "textposition": "top center",
           "type": "scatter3d",
           "x": {
            "bdata": "Et96Qg==",
            "dtype": "f4"
           },
           "y": {
            "bdata": "AAAAAA==",
            "dtype": "f4"
           },
           "z": {
            "bdata": "AAAAAA==",
            "dtype": "f4"
           }
          },
          {
           "marker": {
            "color": "#FECB52",
            "opacity": 1,
            "size": 4
           },
           "mode": "markers",
           "showlegend": false,
           "type": "scatter3d",
           "x": {
            "bdata": "2CPwQYq9B0I=",
            "dtype": "f4"
           },
           "y": {
            "bdata": "AAAAAAAAAAA=",
            "dtype": "f4"
           },
           "z": {
            "bdata": "AAAAAAAAAAA=",
            "dtype": "f4"
           }
          },
          {
           "marker": {
            "color": "#FECB52",
            "line": {
             "color": "black",
             "width": 0.5
            },
            "size": 6,
            "symbol": "diamond"
           },
           "mode": "markers+text",
           "name": "Cluster 9",
           "text": [
            "C9"
           ],
           "textposition": "top center",
           "type": "scatter3d",
           "x": {
            "bdata": "eM//QQ==",
            "dtype": "f4"
           },
           "y": {
            "bdata": "AAAAAA==",
            "dtype": "f4"
           },
           "z": {
            "bdata": "AAAAAA==",
            "dtype": "f4"
           }
          }
         ],
         "name": "frame8"
        },
        {
         "data": [
          {
           "marker": {
            "color": "#636EFA",
            "opacity": 1,
            "size": 4
           },
           "mode": "markers",
           "showlegend": false,
           "type": "scatter3d",
           "x": {
            "bdata": "m5aMQ+/5pEP1uWZD1nmPQ/8eV0OjhnFD/sJ1QxusWEM=",
            "dtype": "f4"
           },
           "y": {
            "bdata": "AAAAAAAAAAAAAAAAAAAAAAAAAAAAAAAAAAAAAAAAAAA=",
            "dtype": "f4"
           },
           "z": {
            "bdata": "AAAAAAAAAAAAAAAAAAAAAAAAAAAAAAAAAAAAAAAAAAA=",
            "dtype": "f4"
           }
          },
          {
           "marker": {
            "color": "#636EFA",
            "line": {
             "color": "black",
             "width": 0.5
            },
            "size": 6,
            "symbol": "diamond"
           },
           "mode": "markers+text",
           "name": "Cluster 0",
           "text": [
            "C0"
           ],
           "textposition": "top center",
           "type": "scatter3d",
           "x": {
            "bdata": "bvx/Qw==",
            "dtype": "f4"
           },
           "y": {
            "bdata": "AAAAAA==",
            "dtype": "f4"
           },
           "z": {
            "bdata": "AAAAAA==",
            "dtype": "f4"
           }
          },
          {
           "marker": {
            "color": "#EF553B",
            "opacity": 1,
            "size": 4
           },
           "mode": "markers",
           "showlegend": false,
           "type": "scatter3d",
           "x": {
            "bdata": "YxQuQwK9CkN3fBFDupAqQzO9GUNz3jVD9vE0QwQiDUNAqSBD3agyQxZnS0PYbUlDYedFQ6lgRkOABUJD+Gg5Qw==",
            "dtype": "f4"
           },
           "y": {
            "bdata": "AAAAAAAAAAAAAAAAAAAAAAAAAAAAAAAAAAAAAAAAAAAAAAAAAAAAAAAAAAAAAAAAAAAAAAAAAAAAAAAAAAAAAA==",
            "dtype": "f4"
           },
           "z": {
            "bdata": "AAAAAAAAAAAAAAAAAAAAAAAAAAAAAAAAAAAAAAAAAAAAAAAAAAAAAAAAAAAAAAAAAAAAAAAAAAAAAAAAAAAAAA==",
            "dtype": "f4"
           }
          },
          {
           "marker": {
            "color": "#EF553B",
            "line": {
             "color": "black",
             "width": 0.5
            },
            "size": 6,
            "symbol": "diamond"
           },
           "mode": "markers+text",
           "name": "Cluster 1",
           "text": [
            "C1"
           ],
           "textposition": "top center",
           "type": "scatter3d",
           "x": {
            "bdata": "vWYvQw==",
            "dtype": "f4"
           },
           "y": {
            "bdata": "AAAAAA==",
            "dtype": "f4"
           },
           "z": {
            "bdata": "AAAAAA==",
            "dtype": "f4"
           }
          },
          {
           "marker": {
            "color": "#00CC96",
            "opacity": 1,
            "size": 4
           },
           "mode": "markers",
           "showlegend": false,
           "type": "scatter3d",
           "x": {
            "bdata": "zqfvQiYP3kKijMZCWjvkQogZsUK1qqlCupHiQgqF1kI=",
            "dtype": "f4"
           },
           "y": {
            "bdata": "AAAAAAAAAAAAAAAAAAAAAAAAAAAAAAAAAAAAAAAAAAA=",
            "dtype": "f4"
           },
           "z": {
            "bdata": "AAAAAAAAAAAAAAAAAAAAAAAAAAAAAAAAAAAAAAAAAAA=",
            "dtype": "f4"
           }
          },
          {
           "marker": {
            "color": "#00CC96",
            "line": {
             "color": "black",
             "width": 0.5
            },
            "size": 6,
            "symbol": "diamond"
           },
           "mode": "markers+text",
           "name": "Cluster 2",
           "text": [
            "C2"
           ],
           "textposition": "top center",
           "type": "scatter3d",
           "x": {
            "bdata": "PovRQg==",
            "dtype": "f4"
           },
           "y": {
            "bdata": "AAAAAA==",
            "dtype": "f4"
           },
           "z": {
            "bdata": "AAAAAA==",
            "dtype": "f4"
           }
          },
          {
           "marker": {
            "color": "#AB63FA",
            "opacity": 1,
            "size": 4
           },
           "mode": "markers",
           "showlegend": false,
           "type": "scatter3d",
           "x": {
            "bdata": "jr/MwvgfJ8OBvRXDfcrSwqgf48I8IPrC2Dzlwt+YDMPrlxDD2ZU5wwkUMsM=",
            "dtype": "f4"
           },
           "y": {
            "bdata": "AAAAAAAAAAAAAAAAAAAAAAAAAAAAAAAAAAAAAAAAAAAAAAAAAAAAAAAAAAA=",
            "dtype": "f4"
           },
           "z": {
            "bdata": "AAAAAAAAAAAAAAAAAAAAAAAAAAAAAAAAAAAAAAAAAAAAAAAAAAAAAAAAAAA=",
            "dtype": "f4"
           }
          },
          {
           "marker": {
            "color": "#AB63FA",
            "line": {
             "color": "black",
             "width": 0.5
            },
            "size": 6,
            "symbol": "diamond"
           },
           "mode": "markers+text",
           "name": "Cluster 3",
           "text": [
            "C3"
           ],
           "textposition": "top center",
           "type": "scatter3d",
           "x": {
            "bdata": "O8sKww==",
            "dtype": "f4"
           },
           "y": {
            "bdata": "AAAAAA==",
            "dtype": "f4"
           },
           "z": {
            "bdata": "AAAAAA==",
            "dtype": "f4"
           }
          },
          {
           "marker": {
            "color": "#FFA15A",
            "opacity": 1,
            "size": 4
           },
           "mode": "markers",
           "showlegend": false,
           "type": "scatter3d",
           "x": {
            "bdata": "zIcJwptkS8IWVz/C4im7wWSel8LOChvCCZZDwpyrjsHuUunB",
            "dtype": "f4"
           },
           "y": {
            "bdata": "AAAAAAAAAAAAAAAAAAAAAAAAAAAAAAAAAAAAAAAAAAAAAAAA",
            "dtype": "f4"
           },
           "z": {
            "bdata": "AAAAAAAAAAAAAAAAAAAAAAAAAAAAAAAAAAAAAAAAAAAAAAAA",
            "dtype": "f4"
           }
          },
          {
           "marker": {
            "color": "#FFA15A",
            "line": {
             "color": "black",
             "width": 0.5
            },
            "size": 6,
            "symbol": "diamond"
           },
           "mode": "markers+text",
           "name": "Cluster 4",
           "text": [
            "C4"
           ],
           "textposition": "top center",
           "type": "scatter3d",
           "x": {
            "bdata": "JRQjwg==",
            "dtype": "f4"
           },
           "y": {
            "bdata": "AAAAAA==",
            "dtype": "f4"
           },
           "z": {
            "bdata": "AAAAAA==",
            "dtype": "f4"
           }
          },
          {
           "marker": {
            "color": "#19D3F3",
            "opacity": 1,
            "size": 4
           },
           "mode": "markers",
           "showlegend": false,
           "type": "scatter3d",
           "x": {
            "bdata": "r1R9w9eukcMBG3/DO12Gww42aMOj8WnD0zdeww==",
            "dtype": "f4"
           },
           "y": {
            "bdata": "AAAAAAAAAAAAAAAAAAAAAAAAAAAAAAAAAAAAAA==",
            "dtype": "f4"
           },
           "z": {
            "bdata": "AAAAAAAAAAAAAAAAAAAAAAAAAAAAAAAAAAAAAA==",
            "dtype": "f4"
           }
          },
          {
           "marker": {
            "color": "#19D3F3",
            "line": {
             "color": "black",
             "width": 0.5
            },
            "size": 6,
            "symbol": "diamond"
           },
           "mode": "markers+text",
           "name": "Cluster 5",
           "text": [
            "C5"
           ],
           "textposition": "top center",
           "type": "scatter3d",
           "x": {
            "bdata": "gPx6ww==",
            "dtype": "f4"
           },
           "y": {
            "bdata": "AAAAAA==",
            "dtype": "f4"
           },
           "z": {
            "bdata": "AAAAAA==",
            "dtype": "f4"
           }
          },
          {
           "marker": {
            "color": "#FF6692",
            "opacity": 1,
            "size": 4
           },
           "mode": "markers",
           "showlegend": false,
           "type": "scatter3d",
           "x": {
            "bdata": "uESEQRiGDUHAFrq/i+dzQQ==",
            "dtype": "f4"
           },
           "y": {
            "bdata": "AAAAAAAAAAAAAAAAAAAAAA==",
            "dtype": "f4"
           },
           "z": {
            "bdata": "AAAAAAAAAAAAAAAAAAAAAA==",
            "dtype": "f4"
           }
          },
          {
           "marker": {
            "color": "#FF6692",
            "line": {
             "color": "black",
             "width": 0.5
            },
            "size": 6,
            "symbol": "diamond"
           },
           "mode": "markers+text",
           "name": "Cluster 6",
           "text": [
            "C6"
           ],
           "textposition": "top center",
           "type": "scatter3d",
           "x": {
            "bdata": "Dq0cQQ==",
            "dtype": "f4"
           },
           "y": {
            "bdata": "AAAAAA==",
            "dtype": "f4"
           },
           "z": {
            "bdata": "AAAAAA==",
            "dtype": "f4"
           }
          },
          {
           "marker": {
            "color": "#B6E880",
            "opacity": 1,
            "size": 4
           },
           "mode": "markers",
           "showlegend": false,
           "type": "scatter3d",
           "x": [],
           "y": [],
           "z": []
          },
          {
           "marker": {
            "color": "#B6E880",
            "line": {
             "color": "black",
             "width": 0.5
            },
            "size": 6,
            "symbol": "diamond"
           },
           "mode": "markers+text",
           "name": "Cluster 7",
           "text": [
            "C7"
           ],
           "textposition": "top center",
           "type": "scatter3d",
           "x": {
            "bdata": "jj46Qg==",
            "dtype": "f4"
           },
           "y": {
            "bdata": "AAAAAA==",
            "dtype": "f4"
           },
           "z": {
            "bdata": "AAAAAA==",
            "dtype": "f4"
           }
          },
          {
           "marker": {
            "color": "#FF97FF",
            "opacity": 1,
            "size": 4
           },
           "mode": "markers",
           "showlegend": false,
           "type": "scatter3d",
           "x": {
            "bdata": "qNZbQl2ZYEKWYHNCW2iXQgHdg0I=",
            "dtype": "f4"
           },
           "y": {
            "bdata": "AAAAAAAAAAAAAAAAAAAAAAAAAAA=",
            "dtype": "f4"
           },
           "z": {
            "bdata": "AAAAAAAAAAAAAAAAAAAAAAAAAAA=",
            "dtype": "f4"
           }
          },
          {
           "marker": {
            "color": "#FF97FF",
            "line": {
             "color": "black",
             "width": 0.5
            },
            "size": 6,
            "symbol": "diamond"
           },
           "mode": "markers+text",
           "name": "Cluster 8",
           "text": [
            "C8"
           ],
           "textposition": "top center",
           "type": "scatter3d",
           "x": {
            "bdata": "Et96Qg==",
            "dtype": "f4"
           },
           "y": {
            "bdata": "AAAAAA==",
            "dtype": "f4"
           },
           "z": {
            "bdata": "AAAAAA==",
            "dtype": "f4"
           }
          },
          {
           "marker": {
            "color": "#FECB52",
            "opacity": 1,
            "size": 4
           },
           "mode": "markers",
           "showlegend": false,
           "type": "scatter3d",
           "x": {
            "bdata": "2CPwQYq9B0I=",
            "dtype": "f4"
           },
           "y": {
            "bdata": "AAAAAAAAAAA=",
            "dtype": "f4"
           },
           "z": {
            "bdata": "AAAAAAAAAAA=",
            "dtype": "f4"
           }
          },
          {
           "marker": {
            "color": "#FECB52",
            "line": {
             "color": "black",
             "width": 0.5
            },
            "size": 6,
            "symbol": "diamond"
           },
           "mode": "markers+text",
           "name": "Cluster 9",
           "text": [
            "C9"
           ],
           "textposition": "top center",
           "type": "scatter3d",
           "x": {
            "bdata": "eM//QQ==",
            "dtype": "f4"
           },
           "y": {
            "bdata": "AAAAAA==",
            "dtype": "f4"
           },
           "z": {
            "bdata": "AAAAAA==",
            "dtype": "f4"
           }
          }
         ],
         "name": "frame9"
        }
       ],
       "layout": {
        "margin": {
         "b": 0,
         "l": 0,
         "r": 0,
         "t": 40
        },
        "scene": {
         "bgcolor": "white",
         "xaxis": {
          "title": {
           "text": "UMAP-1"
          }
         },
         "yaxis": {
          "title": {
           "text": "UMAP-2"
          }
         },
         "zaxis": {
          "title": {
           "text": "UMAP-3"
          }
         }
        },
        "sliders": [
         {
          "len": 0.6,
          "steps": [
           {
            "args": [
             [
              "frame0"
             ]
            ],
            "label": "0",
            "method": "animate"
           },
           {
            "args": [
             [
              "frame1"
             ]
            ],
            "label": "1",
            "method": "animate"
           },
           {
            "args": [
             [
              "frame2"
             ]
            ],
            "label": "2",
            "method": "animate"
           },
           {
            "args": [
             [
              "frame3"
             ]
            ],
            "label": "3",
            "method": "animate"
           },
           {
            "args": [
             [
              "frame4"
             ]
            ],
            "label": "4",
            "method": "animate"
           },
           {
            "args": [
             [
              "frame5"
             ]
            ],
            "label": "5",
            "method": "animate"
           },
           {
            "args": [
             [
              "frame6"
             ]
            ],
            "label": "6",
            "method": "animate"
           },
           {
            "args": [
             [
              "frame7"
             ]
            ],
            "label": "7",
            "method": "animate"
           },
           {
            "args": [
             [
              "frame8"
             ]
            ],
            "label": "8",
            "method": "animate"
           },
           {
            "args": [
             [
              "frame9"
             ]
            ],
            "label": "9",
            "method": "animate"
           }
          ],
          "transition": {
           "duration": 0
          },
          "x": 0.156,
          "y": 0
         }
        ],
        "template": {
         "data": {
          "bar": [
           {
            "error_x": {
             "color": "#2a3f5f"
            },
            "error_y": {
             "color": "#2a3f5f"
            },
            "marker": {
             "line": {
              "color": "#E5ECF6",
              "width": 0.5
             },
             "pattern": {
              "fillmode": "overlay",
              "size": 10,
              "solidity": 0.2
             }
            },
            "type": "bar"
           }
          ],
          "barpolar": [
           {
            "marker": {
             "line": {
              "color": "#E5ECF6",
              "width": 0.5
             },
             "pattern": {
              "fillmode": "overlay",
              "size": 10,
              "solidity": 0.2
             }
            },
            "type": "barpolar"
           }
          ],
          "carpet": [
           {
            "aaxis": {
             "endlinecolor": "#2a3f5f",
             "gridcolor": "white",
             "linecolor": "white",
             "minorgridcolor": "white",
             "startlinecolor": "#2a3f5f"
            },
            "baxis": {
             "endlinecolor": "#2a3f5f",
             "gridcolor": "white",
             "linecolor": "white",
             "minorgridcolor": "white",
             "startlinecolor": "#2a3f5f"
            },
            "type": "carpet"
           }
          ],
          "choropleth": [
           {
            "colorbar": {
             "outlinewidth": 0,
             "ticks": ""
            },
            "type": "choropleth"
           }
          ],
          "contour": [
           {
            "colorbar": {
             "outlinewidth": 0,
             "ticks": ""
            },
            "colorscale": [
             [
              0,
              "#0d0887"
             ],
             [
              0.1111111111111111,
              "#46039f"
             ],
             [
              0.2222222222222222,
              "#7201a8"
             ],
             [
              0.3333333333333333,
              "#9c179e"
             ],
             [
              0.4444444444444444,
              "#bd3786"
             ],
             [
              0.5555555555555556,
              "#d8576b"
             ],
             [
              0.6666666666666666,
              "#ed7953"
             ],
             [
              0.7777777777777778,
              "#fb9f3a"
             ],
             [
              0.8888888888888888,
              "#fdca26"
             ],
             [
              1,
              "#f0f921"
             ]
            ],
            "type": "contour"
           }
          ],
          "contourcarpet": [
           {
            "colorbar": {
             "outlinewidth": 0,
             "ticks": ""
            },
            "type": "contourcarpet"
           }
          ],
          "heatmap": [
           {
            "colorbar": {
             "outlinewidth": 0,
             "ticks": ""
            },
            "colorscale": [
             [
              0,
              "#0d0887"
             ],
             [
              0.1111111111111111,
              "#46039f"
             ],
             [
              0.2222222222222222,
              "#7201a8"
             ],
             [
              0.3333333333333333,
              "#9c179e"
             ],
             [
              0.4444444444444444,
              "#bd3786"
             ],
             [
              0.5555555555555556,
              "#d8576b"
             ],
             [
              0.6666666666666666,
              "#ed7953"
             ],
             [
              0.7777777777777778,
              "#fb9f3a"
             ],
             [
              0.8888888888888888,
              "#fdca26"
             ],
             [
              1,
              "#f0f921"
             ]
            ],
            "type": "heatmap"
           }
          ],
          "histogram": [
           {
            "marker": {
             "pattern": {
              "fillmode": "overlay",
              "size": 10,
              "solidity": 0.2
             }
            },
            "type": "histogram"
           }
          ],
          "histogram2d": [
           {
            "colorbar": {
             "outlinewidth": 0,
             "ticks": ""
            },
            "colorscale": [
             [
              0,
              "#0d0887"
             ],
             [
              0.1111111111111111,
              "#46039f"
             ],
             [
              0.2222222222222222,
              "#7201a8"
             ],
             [
              0.3333333333333333,
              "#9c179e"
             ],
             [
              0.4444444444444444,
              "#bd3786"
             ],
             [
              0.5555555555555556,
              "#d8576b"
             ],
             [
              0.6666666666666666,
              "#ed7953"
             ],
             [
              0.7777777777777778,
              "#fb9f3a"
             ],
             [
              0.8888888888888888,
              "#fdca26"
             ],
             [
              1,
              "#f0f921"
             ]
            ],
            "type": "histogram2d"
           }
          ],
          "histogram2dcontour": [
           {
            "colorbar": {
             "outlinewidth": 0,
             "ticks": ""
            },
            "colorscale": [
             [
              0,
              "#0d0887"
             ],
             [
              0.1111111111111111,
              "#46039f"
             ],
             [
              0.2222222222222222,
              "#7201a8"
             ],
             [
              0.3333333333333333,
              "#9c179e"
             ],
             [
              0.4444444444444444,
              "#bd3786"
             ],
             [
              0.5555555555555556,
              "#d8576b"
             ],
             [
              0.6666666666666666,
              "#ed7953"
             ],
             [
              0.7777777777777778,
              "#fb9f3a"
             ],
             [
              0.8888888888888888,
              "#fdca26"
             ],
             [
              1,
              "#f0f921"
             ]
            ],
            "type": "histogram2dcontour"
           }
          ],
          "mesh3d": [
           {
            "colorbar": {
             "outlinewidth": 0,
             "ticks": ""
            },
            "type": "mesh3d"
           }
          ],
          "parcoords": [
           {
            "line": {
             "colorbar": {
              "outlinewidth": 0,
              "ticks": ""
             }
            },
            "type": "parcoords"
           }
          ],
          "pie": [
           {
            "automargin": true,
            "type": "pie"
           }
          ],
          "scatter": [
           {
            "fillpattern": {
             "fillmode": "overlay",
             "size": 10,
             "solidity": 0.2
            },
            "type": "scatter"
           }
          ],
          "scatter3d": [
           {
            "line": {
             "colorbar": {
              "outlinewidth": 0,
              "ticks": ""
             }
            },
            "marker": {
             "colorbar": {
              "outlinewidth": 0,
              "ticks": ""
             }
            },
            "type": "scatter3d"
           }
          ],
          "scattercarpet": [
           {
            "marker": {
             "colorbar": {
              "outlinewidth": 0,
              "ticks": ""
             }
            },
            "type": "scattercarpet"
           }
          ],
          "scattergeo": [
           {
            "marker": {
             "colorbar": {
              "outlinewidth": 0,
              "ticks": ""
             }
            },
            "type": "scattergeo"
           }
          ],
          "scattergl": [
           {
            "marker": {
             "colorbar": {
              "outlinewidth": 0,
              "ticks": ""
             }
            },
            "type": "scattergl"
           }
          ],
          "scattermap": [
           {
            "marker": {
             "colorbar": {
              "outlinewidth": 0,
              "ticks": ""
             }
            },
            "type": "scattermap"
           }
          ],
          "scattermapbox": [
           {
            "marker": {
             "colorbar": {
              "outlinewidth": 0,
              "ticks": ""
             }
            },
            "type": "scattermapbox"
           }
          ],
          "scatterpolar": [
           {
            "marker": {
             "colorbar": {
              "outlinewidth": 0,
              "ticks": ""
             }
            },
            "type": "scatterpolar"
           }
          ],
          "scatterpolargl": [
           {
            "marker": {
             "colorbar": {
              "outlinewidth": 0,
              "ticks": ""
             }
            },
            "type": "scatterpolargl"
           }
          ],
          "scatterternary": [
           {
            "marker": {
             "colorbar": {
              "outlinewidth": 0,
              "ticks": ""
             }
            },
            "type": "scatterternary"
           }
          ],
          "surface": [
           {
            "colorbar": {
             "outlinewidth": 0,
             "ticks": ""
            },
            "colorscale": [
             [
              0,
              "#0d0887"
             ],
             [
              0.1111111111111111,
              "#46039f"
             ],
             [
              0.2222222222222222,
              "#7201a8"
             ],
             [
              0.3333333333333333,
              "#9c179e"
             ],
             [
              0.4444444444444444,
              "#bd3786"
             ],
             [
              0.5555555555555556,
              "#d8576b"
             ],
             [
              0.6666666666666666,
              "#ed7953"
             ],
             [
              0.7777777777777778,
              "#fb9f3a"
             ],
             [
              0.8888888888888888,
              "#fdca26"
             ],
             [
              1,
              "#f0f921"
             ]
            ],
            "type": "surface"
           }
          ],
          "table": [
           {
            "cells": {
             "fill": {
              "color": "#EBF0F8"
             },
             "line": {
              "color": "white"
             }
            },
            "header": {
             "fill": {
              "color": "#C8D4E3"
             },
             "line": {
              "color": "white"
             }
            },
            "type": "table"
           }
          ]
         },
         "layout": {
          "annotationdefaults": {
           "arrowcolor": "#2a3f5f",
           "arrowhead": 0,
           "arrowwidth": 1
          },
          "autotypenumbers": "strict",
          "coloraxis": {
           "colorbar": {
            "outlinewidth": 0,
            "ticks": ""
           }
          },
          "colorscale": {
           "diverging": [
            [
             0,
             "#8e0152"
            ],
            [
             0.1,
             "#c51b7d"
            ],
            [
             0.2,
             "#de77ae"
            ],
            [
             0.3,
             "#f1b6da"
            ],
            [
             0.4,
             "#fde0ef"
            ],
            [
             0.5,
             "#f7f7f7"
            ],
            [
             0.6,
             "#e6f5d0"
            ],
            [
             0.7,
             "#b8e186"
            ],
            [
             0.8,
             "#7fbc41"
            ],
            [
             0.9,
             "#4d9221"
            ],
            [
             1,
             "#276419"
            ]
           ],
           "sequential": [
            [
             0,
             "#0d0887"
            ],
            [
             0.1111111111111111,
             "#46039f"
            ],
            [
             0.2222222222222222,
             "#7201a8"
            ],
            [
             0.3333333333333333,
             "#9c179e"
            ],
            [
             0.4444444444444444,
             "#bd3786"
            ],
            [
             0.5555555555555556,
             "#d8576b"
            ],
            [
             0.6666666666666666,
             "#ed7953"
            ],
            [
             0.7777777777777778,
             "#fb9f3a"
            ],
            [
             0.8888888888888888,
             "#fdca26"
            ],
            [
             1,
             "#f0f921"
            ]
           ],
           "sequentialminus": [
            [
             0,
             "#0d0887"
            ],
            [
             0.1111111111111111,
             "#46039f"
            ],
            [
             0.2222222222222222,
             "#7201a8"
            ],
            [
             0.3333333333333333,
             "#9c179e"
            ],
            [
             0.4444444444444444,
             "#bd3786"
            ],
            [
             0.5555555555555556,
             "#d8576b"
            ],
            [
             0.6666666666666666,
             "#ed7953"
            ],
            [
             0.7777777777777778,
             "#fb9f3a"
            ],
            [
             0.8888888888888888,
             "#fdca26"
            ],
            [
             1,
             "#f0f921"
            ]
           ]
          },
          "colorway": [
           "#636efa",
           "#EF553B",
           "#00cc96",
           "#ab63fa",
           "#FFA15A",
           "#19d3f3",
           "#FF6692",
           "#B6E880",
           "#FF97FF",
           "#FECB52"
          ],
          "font": {
           "color": "#2a3f5f"
          },
          "geo": {
           "bgcolor": "white",
           "lakecolor": "white",
           "landcolor": "#E5ECF6",
           "showlakes": true,
           "showland": true,
           "subunitcolor": "white"
          },
          "hoverlabel": {
           "align": "left"
          },
          "hovermode": "closest",
          "mapbox": {
           "style": "light"
          },
          "paper_bgcolor": "white",
          "plot_bgcolor": "#E5ECF6",
          "polar": {
           "angularaxis": {
            "gridcolor": "white",
            "linecolor": "white",
            "ticks": ""
           },
           "bgcolor": "#E5ECF6",
           "radialaxis": {
            "gridcolor": "white",
            "linecolor": "white",
            "ticks": ""
           }
          },
          "scene": {
           "xaxis": {
            "backgroundcolor": "#E5ECF6",
            "gridcolor": "white",
            "gridwidth": 2,
            "linecolor": "white",
            "showbackground": true,
            "ticks": "",
            "zerolinecolor": "white"
           },
           "yaxis": {
            "backgroundcolor": "#E5ECF6",
            "gridcolor": "white",
            "gridwidth": 2,
            "linecolor": "white",
            "showbackground": true,
            "ticks": "",
            "zerolinecolor": "white"
           },
           "zaxis": {
            "backgroundcolor": "#E5ECF6",
            "gridcolor": "white",
            "gridwidth": 2,
            "linecolor": "white",
            "showbackground": true,
            "ticks": "",
            "zerolinecolor": "white"
           }
          },
          "shapedefaults": {
           "line": {
            "color": "#2a3f5f"
           }
          },
          "ternary": {
           "aaxis": {
            "gridcolor": "white",
            "linecolor": "white",
            "ticks": ""
           },
           "baxis": {
            "gridcolor": "white",
            "linecolor": "white",
            "ticks": ""
           },
           "bgcolor": "#E5ECF6",
           "caxis": {
            "gridcolor": "white",
            "linecolor": "white",
            "ticks": ""
           }
          },
          "title": {
           "x": 0.05
          },
          "xaxis": {
           "automargin": true,
           "gridcolor": "white",
           "linecolor": "white",
           "ticks": "",
           "title": {
            "standoff": 15
           },
           "zerolinecolor": "white",
           "zerolinewidth": 2
          },
          "yaxis": {
           "automargin": true,
           "gridcolor": "white",
           "linecolor": "white",
           "ticks": "",
           "title": {
            "standoff": 15
           },
           "zerolinecolor": "white",
           "zerolinewidth": 2
          }
         }
        },
        "title": {
         "text": "🌌 UMAP 3D K-Means Iterations"
        },
        "updatemenus": [
         {
          "buttons": [
           {
            "args": [
             null
            ],
            "label": "Play",
            "method": "animate"
           }
          ],
          "showactive": false,
          "type": "buttons"
         }
        ]
       }
      }
     },
     "metadata": {},
     "output_type": "display_data"
    }
   ],
   "source": [
    "# Bernat: any setting <1 will cause sorting order artifacts because of\n",
    "# the rendering engine's static sorting order on transparents.\n",
    "point_opacity = 1\n",
    "\n",
    "colors = px.colors.qualitative.Plotly\n",
    "\n",
    "# Static layout\n",
    "layout = go.Layout(\n",
    "    title=\"🌌 UMAP 3D K-Means Iterations\",\n",
    "    margin=dict(l=0, r=0, b=0, t=40),\n",
    "    scene=dict(\n",
    "        xaxis_title='UMAP-1',\n",
    "        yaxis_title='UMAP-2',\n",
    "        zaxis_title='UMAP-3',\n",
    "        bgcolor='white'\n",
    "    ),\n",
    "    updatemenus=[dict(\n",
    "        type='buttons',\n",
    "        showactive=False,\n",
    "        buttons=[dict(label='Play', method='animate', args=[None])]\n",
    "    )],\n",
    "    sliders=[dict(\n",
    "        steps=[dict(method='animate', args=[[f'frame{k}']], label=str(k)) for k in range(len(iterations))],\n",
    "        transition=dict(duration=0),\n",
    "        x=0.156, y=0, len=0.6\n",
    "    )]\n",
    ")\n",
    "\n",
    "# Initial empty figure\n",
    "fig = go.Figure(layout=layout)\n",
    "\n",
    "# Initial data for frame 0\n",
    "iter0 = iteration_meta[0]\n",
    "cmap = {cid: colors[i % len(colors)] for i, cid in enumerate(np.unique(iter0['centroid_ids']))}\n",
    "\n",
    "for cid in cmap:\n",
    "    mask = iter0['point_cluster_ids'] == cid\n",
    "    fig.add_trace(go.Scatter3d(\n",
    "        x=points_3d_per_iter[0][mask, 0],\n",
    "        y=points_3d_per_iter[0][mask, 1],\n",
    "        z=points_3d_per_iter[0][mask, 2],\n",
    "        mode='markers',\n",
    "        marker=dict(size=4, color=cmap[cid], opacity=point_opacity),\n",
    "        showlegend=False,\n",
    "        name = 'C' + str(cid)\n",
    "    ))\n",
    "    mask = iter0['centroid_ids'] == cid\n",
    "    fig.add_trace(go.Scatter3d(\n",
    "        x=centroids_3d_per_iter[0][mask, 0],\n",
    "        y=centroids_3d_per_iter[0][mask, 1],\n",
    "        z=centroids_3d_per_iter[0][mask, 2],\n",
    "        mode='markers+text',\n",
    "        marker=dict(size=6, symbol='diamond', color=cmap[cid], line=dict(width=0.5, color='black')),\n",
    "        name=f'Cluster {cid}',\n",
    "        text=[f\"C{cid}\"] * np.sum(mask),\n",
    "        textposition=\"top center\"\n",
    "    ))\n",
    "\n",
    "# Add frames\n",
    "frames = []\n",
    "for k, meta in enumerate(iteration_meta):\n",
    "    frame_data = []\n",
    "    cmap = {cid: colors[i % len(colors)] for i, cid in enumerate(np.unique(meta['centroid_ids']))}\n",
    "\n",
    "    for cid in cmap:\n",
    "        mask_p = meta['point_cluster_ids'] == cid\n",
    "        mask_c = meta['centroid_ids'] == cid\n",
    "\n",
    "        frame_data.append(go.Scatter3d(\n",
    "            x=points_3d_per_iter[k][mask_p, 0],\n",
    "            y=points_3d_per_iter[k][mask_p, 1],\n",
    "            z=points_3d_per_iter[k][mask_p, 2],\n",
    "            mode='markers',\n",
    "            marker=dict(size=4, color=cmap[cid], opacity=point_opacity),\n",
    "            showlegend=False\n",
    "        ))\n",
    "        frame_data.append(go.Scatter3d(\n",
    "            x=centroids_3d_per_iter[k][mask_c, 0],\n",
    "            y=centroids_3d_per_iter[k][mask_c, 1],\n",
    "            z=centroids_3d_per_iter[k][mask_c, 2],\n",
    "            mode='markers+text',\n",
    "            marker=dict(size=6, symbol='diamond', color=cmap[cid], line=dict(width=0.5, color='black')),\n",
    "            name=f'Cluster {cid}',\n",
    "            text=[f\"C{cid}\"] * np.sum(mask_c),\n",
    "            textposition=\"top center\"\n",
    "        ))\n",
    "\n",
    "    frames.append(go.Frame(data=frame_data, name=f\"frame{k}\"))\n",
    "\n",
    "fig.frames = frames\n",
    "fig.show()\n"
   ]
  }
 ],
 "metadata": {
  "kernelspec": {
   "display_name": ".venv",
   "language": "python",
   "name": "python3"
  },
  "language_info": {
   "codemirror_mode": {
    "name": "ipython",
    "version": 3
   },
   "file_extension": ".py",
   "mimetype": "text/x-python",
   "name": "python",
   "nbconvert_exporter": "python",
   "pygments_lexer": "ipython3",
   "version": "3.11.2"
  }
 },
 "nbformat": 4,
 "nbformat_minor": 5
}
