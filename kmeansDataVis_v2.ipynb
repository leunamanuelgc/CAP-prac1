{
 "cells": [
  {
   "cell_type": "code",
   "execution_count": 50,
   "id": "136a0079",
   "metadata": {},
   "outputs": [],
   "source": [
    "import struct\n",
    "import numpy as np\n",
    "import umap\n",
    "import plotly.graph_objects as go\n",
    "import plotly.express as px"
   ]
  },
  {
   "cell_type": "code",
   "execution_count": 51,
   "id": "0db8952f",
   "metadata": {},
   "outputs": [],
   "source": [
    "def read_all_iterations(filename):\n",
    "    iterations = []\n",
    "\n",
    "    with open(filename, \"rb\") as f:\n",
    "        # Read header once\n",
    "        n_clusters = struct.unpack(\"I\", f.read(4))[0]\n",
    "        n_points = struct.unpack(\"I\", f.read(4))[0]\n",
    "        n_dim = struct.unpack(\"I\", f.read(4))[0]\n",
    "\n",
    "        # Determine how many bytes one iteration takes\n",
    "        bytes_per_centroid = (4 * n_dim) + 4  # centroid values + id\n",
    "        bytes_per_point = (4 * n_dim) + 4     # point values + cluster_id\n",
    "        bytes_per_iteration = n_clusters * bytes_per_centroid + n_points * bytes_per_point\n",
    "\n",
    "        file_data = f.read()\n",
    "        total_bytes = len(file_data)\n",
    "        n_iterations = total_bytes // bytes_per_iteration\n",
    "\n",
    "        print(f\"📦 Detected {n_iterations} iterations\")\n",
    "\n",
    "        offset = 0\n",
    "        for iter_idx in range(n_iterations):\n",
    "            # --- Read centroids ---\n",
    "            centroid_data = np.zeros((n_clusters, n_dim), dtype=np.float32)\n",
    "            centroid_ids = np.zeros(n_clusters, dtype=np.int32)\n",
    "            for i in range(n_clusters):\n",
    "                start = offset\n",
    "                centroid_data[i] = np.frombuffer(file_data[start:start + 4 * n_dim], dtype=np.float32)\n",
    "                offset += 4 * n_dim\n",
    "                centroid_ids[i] = struct.unpack(\"i\", file_data[offset:offset + 4])[0]\n",
    "                offset += 4\n",
    "\n",
    "            # --- Read points ---\n",
    "            point_data = np.zeros((n_points, n_dim), dtype=np.float32)\n",
    "            point_cluster_ids = np.zeros(n_points, dtype=np.int32)\n",
    "            for i in range(n_points):\n",
    "                start = offset\n",
    "                point_data[i] = np.frombuffer(file_data[start:start + 4 * n_dim], dtype=np.float32)\n",
    "                offset += 4 * n_dim\n",
    "                point_cluster_ids[i] = struct.unpack(\"i\", file_data[offset:offset + 4])[0]\n",
    "                offset += 4\n",
    "\n",
    "            iterations.append({\n",
    "                'points': point_data,\n",
    "                'point_cluster_ids': point_cluster_ids,\n",
    "                'centroids': centroid_data,\n",
    "                'centroid_ids': centroid_ids,\n",
    "                'n_points': n_points,\n",
    "                'n_centroids': n_clusters\n",
    "            })\n",
    "\n",
    "    return n_clusters, n_points, n_dim, iterations"
   ]
  },
  {
   "cell_type": "code",
   "execution_count": 52,
   "id": "4d29fe23",
   "metadata": {},
   "outputs": [
    {
     "ename": "error",
     "evalue": "unpack requires a buffer of 4 bytes",
     "output_type": "error",
     "traceback": [
      "\u001b[31m---------------------------------------------------------------------------\u001b[39m",
      "\u001b[31merror\u001b[39m                                     Traceback (most recent call last)",
      "\u001b[36mCell\u001b[39m\u001b[36m \u001b[39m\u001b[32mIn[52]\u001b[39m\u001b[32m, line 2\u001b[39m\n\u001b[32m      1\u001b[39m filename = \u001b[33m\"\u001b[39m\u001b[33m./build/data/cluster_data\u001b[39m\u001b[33m\"\u001b[39m\n\u001b[32m----> \u001b[39m\u001b[32m2\u001b[39m n_clusters, n_points, n_dim, iterations = \u001b[43mread_all_iterations\u001b[49m\u001b[43m(\u001b[49m\u001b[43mfilename\u001b[49m\u001b[43m)\u001b[49m\n",
      "\u001b[36mCell\u001b[39m\u001b[36m \u001b[39m\u001b[32mIn[51]\u001b[39m\u001b[32m, line 6\u001b[39m, in \u001b[36mread_all_iterations\u001b[39m\u001b[34m(filename)\u001b[39m\n\u001b[32m      2\u001b[39m iterations = []\n\u001b[32m      4\u001b[39m \u001b[38;5;28;01mwith\u001b[39;00m \u001b[38;5;28mopen\u001b[39m(filename, \u001b[33m\"\u001b[39m\u001b[33mrb\u001b[39m\u001b[33m\"\u001b[39m) \u001b[38;5;28;01mas\u001b[39;00m f:\n\u001b[32m      5\u001b[39m     \u001b[38;5;66;03m# Read header once\u001b[39;00m\n\u001b[32m----> \u001b[39m\u001b[32m6\u001b[39m     n_clusters = \u001b[43mstruct\u001b[49m\u001b[43m.\u001b[49m\u001b[43munpack\u001b[49m\u001b[43m(\u001b[49m\u001b[33;43m\"\u001b[39;49m\u001b[33;43mI\u001b[39;49m\u001b[33;43m\"\u001b[39;49m\u001b[43m,\u001b[49m\u001b[43m \u001b[49m\u001b[43mf\u001b[49m\u001b[43m.\u001b[49m\u001b[43mread\u001b[49m\u001b[43m(\u001b[49m\u001b[32;43m4\u001b[39;49m\u001b[43m)\u001b[49m\u001b[43m)\u001b[49m[\u001b[32m0\u001b[39m]\n\u001b[32m      7\u001b[39m     n_points = struct.unpack(\u001b[33m\"\u001b[39m\u001b[33mI\u001b[39m\u001b[33m\"\u001b[39m, f.read(\u001b[32m4\u001b[39m))[\u001b[32m0\u001b[39m]\n\u001b[32m      8\u001b[39m     n_dim = struct.unpack(\u001b[33m\"\u001b[39m\u001b[33mI\u001b[39m\u001b[33m\"\u001b[39m, f.read(\u001b[32m4\u001b[39m))[\u001b[32m0\u001b[39m]\n",
      "\u001b[31merror\u001b[39m: unpack requires a buffer of 4 bytes"
     ]
    }
   ],
   "source": [
    "filename = \"./build/data/cluster_data\"\n",
    "n_clusters, n_points, n_dim, iterations = read_all_iterations(filename)"
   ]
  },
  {
   "cell_type": "code",
   "execution_count": null,
   "id": "a9035409",
   "metadata": {},
   "outputs": [
    {
     "name": "stdout",
     "output_type": "stream",
     "text": [
      "✅ First iteration summary:\n",
      "Centroids:\n",
      " [[ 2.0217542e-25 -7.8974731e+01 -5.3109726e+01]\n",
      " [ 5.5064896e+01 -8.0157089e+01 -4.5518066e+01]\n",
      " [-1.5846139e+01 -3.6252670e+01 -9.2040916e+01]\n",
      " [-1.2736460e+00  1.4580990e+01 -4.3198547e+01]\n",
      " [ 0.0000000e+00  0.0000000e+00  0.0000000e+00]\n",
      " [ 0.0000000e+00  0.0000000e+00  0.0000000e+00]\n",
      " [ 0.0000000e+00  0.0000000e+00  0.0000000e+00]\n",
      " [ 0.0000000e+00  0.0000000e+00  0.0000000e+00]\n",
      " [ 0.0000000e+00  0.0000000e+00  0.0000000e+00]\n",
      " [ 0.0000000e+00  0.0000000e+00  0.0000000e+00]]\n",
      "Points shape: (2000, 3)\n",
      "Unique cluster IDs: [0 1 2 3 4 5 6 7 8 9]\n"
     ]
    }
   ],
   "source": [
    "print(\"✅ First iteration summary:\")\n",
    "print(\"Centroids:\\n\", iterations[0]['centroids'])\n",
    "print(\"Points shape:\", iterations[0]['points'].shape)\n",
    "print(\"Unique cluster IDs:\", np.unique(iterations[0]['centroid_ids']))\n"
   ]
  },
  {
   "cell_type": "code",
   "execution_count": null,
   "id": "666168cf",
   "metadata": {},
   "outputs": [],
   "source": [
    "all_points = []\n",
    "all_centroids = []\n",
    "all_point_ids = []\n",
    "iteration_meta = []\n",
    "\n",
    "for i, it in enumerate(iterations):\n",
    "    all_points.append(it['points'])\n",
    "    all_centroids.append(it['centroids'])\n",
    "    all_point_ids.append(it['point_cluster_ids'])\n",
    "\n",
    "    iteration_meta.append({\n",
    "        'n_points': len(it['points']),\n",
    "        'n_centroids': len(it['centroids']),\n",
    "        'point_cluster_ids': it['point_cluster_ids'],\n",
    "        'centroid_ids': it['centroid_ids'],\n",
    "    })\n",
    "\n",
    "# Stack all points for reduction\n",
    "points_concat = np.vstack(all_points)\n",
    "centroids_concat = np.vstack(all_centroids)\n",
    "\n",
    "if points_concat.shape[1] > 3:\n",
    "    reducer = umap.UMAP(\n",
    "        n_components=3,\n",
    "        n_neighbors=50,\n",
    "        min_dist=1,\n",
    "        metric='euclidean',\n",
    "        low_memory=True,\n",
    "    )\n",
    "    points_umap = reducer.fit_transform(points_concat)\n",
    "    centroids_umap = reducer.transform(centroids_concat)\n",
    "elif points_concat.shape[1] < 3:\n",
    "    padding = ((0, 0), (0, 3 - points_concat.shape[1]))\n",
    "    points_umap = np.pad(points_concat, padding, mode='constant', constant_values=0)\n",
    "    centroids_umap = np.pad(centroids_concat, padding, mode='constant', constant_values=0)\n",
    "else:\n",
    "    points_umap = points_concat\n",
    "    centroids_umap = centroids_concat\n"
   ]
  },
  {
   "cell_type": "code",
   "execution_count": null,
   "id": "ceb7bc70",
   "metadata": {},
   "outputs": [],
   "source": [
    "points_3d_per_iter = []\n",
    "centroids_3d_per_iter = []\n",
    "\n",
    "p_idx, c_idx = 0, 0\n",
    "for meta in iteration_meta:\n",
    "    np_ = meta['n_points']\n",
    "    nc_ = meta['n_centroids']\n",
    "    points_3d_per_iter.append(points_umap[p_idx:p_idx+np_])\n",
    "    centroids_3d_per_iter.append(centroids_umap[c_idx:c_idx+nc_])\n",
    "    p_idx += np_\n",
    "    c_idx += nc_\n"
   ]
  },
  {
   "cell_type": "code",
   "execution_count": null,
   "id": "2994bde6",
   "metadata": {},
   "outputs": [],
   "source": [
    "def voxel_downsample(points, cluster_ids, voxel_size=0.1, max_points=10_000):\n",
    "    max_points = int(max_points)\n",
    "    down_points, down_ids = [], []\n",
    "    for cid in np.unique(cluster_ids):\n",
    "        pts = points[cluster_ids == cid]\n",
    "        if len(pts) == 0:\n",
    "            continue\n",
    "        vox = np.floor(pts / voxel_size).astype(int)\n",
    "        _, idx = np.unique(vox, axis=0, return_index=True)\n",
    "        reduced = pts[idx]\n",
    "        if len(reduced) > max_points:\n",
    "            reduced = reduced[np.random.choice(len(reduced), max_points, replace=False)]\n",
    "        down_points.append(reduced)\n",
    "        down_ids.append(np.full(len(reduced), cid, dtype=np.int32))\n",
    "    return np.vstack(down_points), np.concatenate(down_ids)\n",
    "\n",
    "reduced_points_3d_per_iter = []\n",
    "reduced_cluster_ids_per_iter = []\n",
    "max_points_per_iter = 3500\n",
    "\n",
    "for i, (pts3d, meta) in enumerate(zip(points_3d_per_iter, iteration_meta)):\n",
    "    if len(pts3d) > max_points_per_iter:\n",
    "        reduced_pts, reduced_ids = voxel_downsample(pts3d, meta['point_cluster_ids'], max_points=max_points_per_iter/n_clusters)\n",
    "        reduced_points_3d_per_iter.append(reduced_pts)\n",
    "        reduced_cluster_ids_per_iter.append(reduced_ids)\n",
    "    else:\n",
    "        reduced_points_3d_per_iter.append(pts3d)\n",
    "        reduced_cluster_ids_per_iter.append(meta['point_cluster_ids'])\n",
    "\n",
    "# Replace old lists with reduced versions\n",
    "points_3d_per_iter = reduced_points_3d_per_iter\n",
    "for i in range(len(iteration_meta)):\n",
    "    iteration_meta[i]['point_cluster_ids'] = reduced_cluster_ids_per_iter[i]\n"
   ]
  },
  {
   "cell_type": "code",
   "execution_count": null,
   "id": "e1e0f2ae",
   "metadata": {},
   "outputs": [
    {
     "data": {
      "application/vnd.plotly.v1+json": {
       "config": {
        "plotlyServerURL": "https://plot.ly"
       },
       "data": [
        {
         "marker": {
          "color": "#636EFA",
          "opacity": 1,
          "size": 4
         },
         "mode": "markers",
         "showlegend": false,
         "type": "scatter3d",
         "x": {
          "bdata": "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",
          "dtype": "f4"
         },
         "y": {
          "bdata": "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",
          "dtype": "f4"
         },
         "z": {
          "bdata": "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",
          "dtype": "f4"
         }
        },
        {
         "marker": {
          "color": "#636EFA",
          "line": {
           "color": "black",
           "width": 0.5
          },
          "size": 6,
          "symbol": "diamond"
         },
         "mode": "markers+text",
         "name": "Cluster 0",
         "text": [
          "C0"
         ],
         "textposition": "top center",
         "type": "scatter3d",
         "x": {
          "bdata": "80d6Fg==",
          "dtype": "f4"
         },
         "y": {
          "bdata": "EPOdwg==",
          "dtype": "f4"
         },
         "z": {
          "bdata": "XHBUwg==",
          "dtype": "f4"
         }
        },
        {
         "marker": {
          "color": "#EF553B",
          "opacity": 1,
          "size": 4
         },
         "mode": "markers",
         "showlegend": false,
         "type": "scatter3d",
         "x": {
          "bdata": "pgOKQZzZaUHwsxtA8PWsQS+SlEGGH4ZBOK09QSrIv0BNjoBB0GVEQd/dhkG6iz9BSbrEQdgk+EBmJehBHp2uQZYkn0F25s1BVqHCQYQGe0Ha04tBOn3CQXhLzkFibEZBye6YQZavoUGZYLxBQCzWQPXNm0EO0c5Bko3XQbJmOkFowKxBYvLjQQh5X0FmJo1AbGcvQdREqkFelQJBYw6pQeH3ikH2crhBw21TQdRUkkEeu4RBRkCnQSnyrUF0Et5B38ySQeNDZkHggzpBRQlgQW6cpUEkmaZBNzGuQV/hSUHdqQRCfu9vQZoSiEGHFwdCHoAKQQXynEEK0WxBMqbYQCsln0Fe0UdBiNHPQf+sH0ECqYFBazupQRfYIEGgmbtA/uYtQYwxe0FAYktBAC3OQYosekE2/+xBh4yzQWO+iUG6U8hASDvfP1jSRkEUNI9Bmy2vQcYM1UG4G8lBcomPQWcXg0Hx1IpBDGu5QW7OsUH1X4BBFlQpQTx8EUBMYVFBW36NQWtSq0GytM9BlB81Qeg9jEHcDFpBUoCYQX3Gq0ECVZtBmAx7QfsLt0FgPKtB3vmlQZG/eUF6A4ZBXluBQfvzTUHb2pJBOO1aQH9up0FhO41BYOYjv0vHsUHbkWlBFG5YQZlUdEGbJp9BZeECQRq6h0EI68JAJsgkQclVgEGsLhVBigEFQVyvTEB4gIJB6K+pQbmjgkENg4pBq1NMQdTar0DR7rdBKHOnQfoqGkEWuUlBRmjFQXqtHkENIFRBzn2EQeI8X0HX5lNBdSzPQReBOEEk2uhA9gyVQR5PiEHJcrpBC4GHQWmGhkGAVxE/Fz9XQdFvvEElcUZB0N+HP5DA9T+slLNBROMJQXMohkGuSPtAka6aQQo9k0FZMp5B3wmWQZXIwkFAk5o+YuetQfQUO0HQBRRBaH2LPwrufEFArS5BhZRqQff3lkEktCtBEaIpQfopPUFGTmhBl8oTQaUkj0Fp701BQCLGPnEqgUH6tjhBIDyrQevv2kGxJlVBpa+pQbCvtz/gqC5BiPTTQcqYJkHA/o5B55OAQWMsikFF32dCxoduQmadUEJt6D5CD1J2QnEzXUKbWUhC6WBuQpJAW0L+XWlCqrxiQj2pS0IDmGdCYCZXQoOMVUIG5mZCpatgQlqQTUIDGnJCOBNNQq2zXkKyi2VCJupXQvDRZUIXDm9CJQ5SQrVQVUIfOkZCnh1JQoLrVkKzlGFC",
          "dtype": "f4"
         },
         "y": {
          "bdata": "f6Hjwd7K38F7UNvBSWPSwcx8AcI+teHBC7GhwXDldMFm/4rBoHXQwcQhJcKOzAjCXtsOwkopFsL0T8LBbAIGwgX8+sFa/lvB79TiwfKv4MHu2rXBUA8WwstlpMF3x/rB1W3ZwQ546cE4HunB/EspwpLnDMJsVpvBJfXqwUsVCMLBrvfB6Iaxwfhy38Ec6+TBBI3LwQXr3MH3vurB4QHuwcbb8cFQyQLC2OLrwQfIA8KWvDfCbaLDwd+fE8K+5fjB1Gr3wQaez8Gms/rB7h8bwulIc8EG6dbBFikqwg2AdsHQds3BgP/NwSXA4sHeC6HBYKL+wddN+8EIgMbBS3sXwqt6zMEX89DBYTrcwSPzJsLSDZPB5WWOwadjzMFl3snBJAymwVEM4MFW65fBWXP6wT2GB8ISeo3Bmz3bwVww1sEu6KzB5Q3ywdsQBMJVpwbCpMUiwsJ9hMG+SKTBueegwbmyxMEaB/LBSgilwUx3tMH7YdLB7B/lwQcEi8H7gELBCO63wdYMnsHk9abBcsLkwRaKCsLm0cXBgRYNwqx0gMGzib7B8A/gwXDkz8Gq4JDBeQH7weFo38EmJOHBbwXfwQo0ksHwtxvBpPPywYT8mMGZe9nBXHnnwbCBTcEsivDBaIS0wb0yCcL2oZ3B/v34wfij4MEW6fDBm8r5wdS64sHtsQzCJEzYwYbN5sEOmL/Bwz3CwaY918E8BoHBITUQwneUCcK8Fe/BU+z4wa6bpMHWZbzBeoTQwRsmFsJIYo7B13fMweUJAcImBSTBjv3wwRYv48E349LBEiQAwlgV68GrKCTCSMO3wbik3cEEc4zBl5OEwQhrD8LC6M3B3wkHwijmjsHzPsrB91YNwkMVDsL1iRDCtPPewWtVG8LTOt/BEX0FwlbdJcLkbMbBGk8Owk1+FcLDguHB0joQwiMAC8L6E+nBmMQVwU+uK8LW3C3CYJQzwtPhIsJuZhHCACEewkK7GsKCFNjB3Hj5waWJ/MENWeHBnxrPwcibrsE83QHCeAjUwXB1GcK81gzCTziqwYBi/8EjFvLB/7rdwdw9sMEEG5bCHsS4wixZkcJyd4PC1SmwwiXVkMIaJ67Calewws+KqsIsSaHCFW2pwu4Nj8KQKajCQPaUwmVwpcJ+fKPCixOXwhGWksKpfqnCpamkwhJXsMJn/57CqKygwtzjnsJS+KTC9o2jwjqNpMIMDq3CFWWawiwXkMLv3ZDC",
          "dtype": "f4"
         },
         "z": {
          "bdata": "RkoCQohu8EHpY9dBIe69Qetb50HswdlBTVgEQgXFEkJ1kslBb0wCQsWjl0FOk9xBAVIGQqaiFEJC6pJB5JAhQgFD5EGvi+5BkaJ8QZ6D/UGyqAdCy48HQmZsqEFHLQFC8DoRQrvfGkLpGhlCizYNQv6yLUJikydCKrbkQQ9hC0I/Qd9BUHbqQQjEA0LRpDNCTucMQhyDt0FJjwxCNh83QpT78EHSrgpCHT4EQq6Zl0F4KPxBvg3EQdSTwUHI6hpCiHsCQngw7EGgADFCjjIlQjX3FUIov8tBNsryQe4oC0L22bZBPZf/QT8G1kGdZeBB9JQeQuVhCEJm8JxB3ILjQdEx00FITwhCw1IIQjJcqkE1lsdBxig9Qvth8UEj2y5CNLvvQTwJAEIDohNCt6MGQsbO5UH3bbJBzby2QTwg3kGP5MpBs1AsQuCmK0KK+6tBMKn7QTg3J0LyPr1BBTYZQier7EFRwfhBqvJuQaDghEFXOQJCCpuHQUixGkJN8f5BQskVQuVh+kH5NA5CNnY8QpuRFkLM4t5Bwei9QWWwMkL1JR9Cj4j2QZoe80EeJ+JBojUQQu9EBEL75gZCjEoCQvznAkIIysJBUvvEQTZZmkEXgw1CP2wMQm0a+EF1w3tBWM8WQg8EGUKrvhFCLqQHQhnqA0LeMj1CjsvTQVCkA0JSluZBKV8MQtLp5UHi3wxC56n4Qc5z3kFEDeZBKnEEQlGdFkIevvtBaNDFQbI85EH2QS9CYN6OQRomlEFwPBNCxysDQtxckUFP7thBhOqPQW+XN0Ij8ClCnK++QYxgGkIwrJxB7m0NQpr1/EHeDb1BE/8MQmVEGEIx4QFCHOcfQiG2BkIhFXpBPTEmQkPKxEGqgBxCi8IBQpCDiUExAQhCAszcQcABrkHS8R9C/S0YQlhg80EE/x1CbDfiQVIMD0IrNexBPvnkQSocLkLxxuhBCQXlQaHz5UGYtctBKzTwQWptpUF4gr1BtkvcQXCl8EHjqvtB4X7hQSgoH0I51xBCtlo5Qk/0D0LxHiJCau2cQcb+EEJJhBBCdZ34QV8HCkJqagrCbyIvwpCUEsKUek3CRfUews32FsIGcUTCCuIawqtQUMLzRSnC9JQhwm+EIcKebFHCjMJcworGNcLppzzCMepGwuVPOsIL0TbCxWBTwoUaLcIpQCPCbSZXwsJgOMLM9TnC5lg8whUpTMIkUx/Cb2BLwqZwSsIsKx3C",
          "dtype": "f4"
         }
        },
        {
         "marker": {
          "color": "#EF553B",
          "line": {
           "color": "black",
           "width": 0.5
          },
          "size": 6,
          "symbol": "diamond"
         },
         "mode": "markers+text",
         "name": "Cluster 1",
         "text": [
          "C1"
         ],
         "textposition": "top center",
         "type": "scatter3d",
         "x": {
          "bdata": "dEJcQg==",
          "dtype": "f4"
         },
         "y": {
          "bdata": "blCgwg==",
          "dtype": "f4"
         },
         "z": {
          "bdata": "gBI2wg==",
          "dtype": "f4"
         }
        },
        {
         "marker": {
          "color": "#00CC96",
          "opacity": 1,
          "size": 4
         },
         "mode": "markers",
         "showlegend": false,
         "type": "scatter3d",
         "x": {
          "bdata": "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",
          "dtype": "f4"
         },
         "y": {
          "bdata": "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",
          "dtype": "f4"
         },
         "z": {
          "bdata": "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",
          "dtype": "f4"
         }
        },
        {
         "marker": {
          "color": "#00CC96",
          "line": {
           "color": "black",
           "width": 0.5
          },
          "size": 6,
          "symbol": "diamond"
         },
         "mode": "markers+text",
         "name": "Cluster 2",
         "text": [
          "C2"
         ],
         "textposition": "top center",
         "type": "scatter3d",
         "x": {
          "bdata": "yYl9wQ==",
          "dtype": "f4"
         },
         "y": {
          "bdata": "vAIRwg==",
          "dtype": "f4"
         },
         "z": {
          "bdata": "8xS4wg==",
          "dtype": "f4"
         }
        },
        {
         "marker": {
          "color": "#AB63FA",
          "opacity": 1,
          "size": 4
         },
         "mode": "markers",
         "showlegend": false,
         "type": "scatter3d",
         "x": {
          "bdata": "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",
          "dtype": "f4"
         },
         "y": {
          "bdata": "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",
          "dtype": "f4"
         },
         "z": {
          "bdata": "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",
          "dtype": "f4"
         }
        },
        {
         "marker": {
          "color": "#AB63FA",
          "line": {
           "color": "black",
           "width": 0.5
          },
          "size": 6,
          "symbol": "diamond"
         },
         "mode": "markers+text",
         "name": "Cluster 3",
         "text": [
          "C3"
         ],
         "textposition": "top center",
         "type": "scatter3d",
         "x": {
          "bdata": "1Qajvw==",
          "dtype": "f4"
         },
         "y": {
          "bdata": "vEtpQQ==",
          "dtype": "f4"
         },
         "z": {
          "bdata": "UMsswg==",
          "dtype": "f4"
         }
        },
        {
         "marker": {
          "color": "#FFA15A",
          "opacity": 1,
          "size": 4
         },
         "mode": "markers",
         "showlegend": false,
         "type": "scatter3d",
         "x": [],
         "y": [],
         "z": []
        },
        {
         "marker": {
          "color": "#FFA15A",
          "line": {
           "color": "black",
           "width": 0.5
          },
          "size": 6,
          "symbol": "diamond"
         },
         "mode": "markers+text",
         "name": "Cluster 4",
         "text": [
          "C4"
         ],
         "textposition": "top center",
         "type": "scatter3d",
         "x": {
          "bdata": "AAAAAA==",
          "dtype": "f4"
         },
         "y": {
          "bdata": "AAAAAA==",
          "dtype": "f4"
         },
         "z": {
          "bdata": "AAAAAA==",
          "dtype": "f4"
         }
        },
        {
         "marker": {
          "color": "#19D3F3",
          "opacity": 1,
          "size": 4
         },
         "mode": "markers",
         "showlegend": false,
         "type": "scatter3d",
         "x": [],
         "y": [],
         "z": []
        },
        {
         "marker": {
          "color": "#19D3F3",
          "line": {
           "color": "black",
           "width": 0.5
          },
          "size": 6,
          "symbol": "diamond"
         },
         "mode": "markers+text",
         "name": "Cluster 5",
         "text": [
          "C5"
         ],
         "textposition": "top center",
         "type": "scatter3d",
         "x": {
          "bdata": "AAAAAA==",
          "dtype": "f4"
         },
         "y": {
          "bdata": "AAAAAA==",
          "dtype": "f4"
         },
         "z": {
          "bdata": "AAAAAA==",
          "dtype": "f4"
         }
        },
        {
         "marker": {
          "color": "#FF6692",
          "opacity": 1,
          "size": 4
         },
         "mode": "markers",
         "showlegend": false,
         "type": "scatter3d",
         "x": [],
         "y": [],
         "z": []
        },
        {
         "marker": {
          "color": "#FF6692",
          "line": {
           "color": "black",
           "width": 0.5
          },
          "size": 6,
          "symbol": "diamond"
         },
         "mode": "markers+text",
         "name": "Cluster 6",
         "text": [
          "C6"
         ],
         "textposition": "top center",
         "type": "scatter3d",
         "x": {
          "bdata": "AAAAAA==",
          "dtype": "f4"
         },
         "y": {
          "bdata": "AAAAAA==",
          "dtype": "f4"
         },
         "z": {
          "bdata": "AAAAAA==",
          "dtype": "f4"
         }
        },
        {
         "marker": {
          "color": "#B6E880",
          "opacity": 1,
          "size": 4
         },
         "mode": "markers",
         "showlegend": false,
         "type": "scatter3d",
         "x": [],
         "y": [],
         "z": []
        },
        {
         "marker": {
          "color": "#B6E880",
          "line": {
           "color": "black",
           "width": 0.5
          },
          "size": 6,
          "symbol": "diamond"
         },
         "mode": "markers+text",
         "name": "Cluster 7",
         "text": [
          "C7"
         ],
         "textposition": "top center",
         "type": "scatter3d",
         "x": {
          "bdata": "AAAAAA==",
          "dtype": "f4"
         },
         "y": {
          "bdata": "AAAAAA==",
          "dtype": "f4"
         },
         "z": {
          "bdata": "AAAAAA==",
          "dtype": "f4"
         }
        },
        {
         "marker": {
          "color": "#FF97FF",
          "opacity": 1,
          "size": 4
         },
         "mode": "markers",
         "showlegend": false,
         "type": "scatter3d",
         "x": [],
         "y": [],
         "z": []
        },
        {
         "marker": {
          "color": "#FF97FF",
          "line": {
           "color": "black",
           "width": 0.5
          },
          "size": 6,
          "symbol": "diamond"
         },
         "mode": "markers+text",
         "name": "Cluster 8",
         "text": [
          "C8"
         ],
         "textposition": "top center",
         "type": "scatter3d",
         "x": {
          "bdata": "AAAAAA==",
          "dtype": "f4"
         },
         "y": {
          "bdata": "AAAAAA==",
          "dtype": "f4"
         },
         "z": {
          "bdata": "AAAAAA==",
          "dtype": "f4"
         }
        },
        {
         "marker": {
          "color": "#FECB52",
          "opacity": 1,
          "size": 4
         },
         "mode": "markers",
         "showlegend": false,
         "type": "scatter3d",
         "x": [],
         "y": [],
         "z": []
        },
        {
         "marker": {
          "color": "#FECB52",
          "line": {
           "color": "black",
           "width": 0.5
          },
          "size": 6,
          "symbol": "diamond"
         },
         "mode": "markers+text",
         "name": "Cluster 9",
         "text": [
          "C9"
         ],
         "textposition": "top center",
         "type": "scatter3d",
         "x": {
          "bdata": "AAAAAA==",
          "dtype": "f4"
         },
         "y": {
          "bdata": "AAAAAA==",
          "dtype": "f4"
         },
         "z": {
          "bdata": "AAAAAA==",
          "dtype": "f4"
         }
        }
       ],
       "frames": [
        {
         "data": [
          {
           "marker": {
            "color": "#636EFA",
            "opacity": 1,
            "size": 4
           },
           "mode": "markers",
           "showlegend": false,
           "type": "scatter3d",
           "x": {
            "bdata": "MmfYQsxs1EJX5NVCYmrgQga5y0KP9cpCd1zXQnxQy0J8579C+EfHQsWk0EJFBM1CaszVQhR+ykJ5wdNCTazPQkMn50IS9+hCCCXuQs9w2ELSUrdCkF32QjiTsUI8/NFC9qLSQjgMz0ITatJCeje4Qj4twEJaY9RC0I/hQk/b3UI8BrpCxPLIQnt03ULBmM9C5GrfQoHi60I0ztRCKu7YQu7AvkLnDtVCyprKQho23EJxjM5CzpbjQuUE10JLmdNCRajmQjDC3EL43dJC4JzpQsaq0EK8yNlCFFLNQgW30EJA9tpCMinTQmL37kKuWsRCwHnXQu9830InpdNC+hW9QoHQykK0UMBCNqC6QuA2uEKSPMpCctjPQuZzz0IbzttC8wm/Qr8I1UIR/s5CZy28QkZW0EIOecdCYQvLQpFtx0KlaslCOvm/QiqnskLQUcpCUfbKQn5s70KsG8JCkUHWQgRxwkJsrMNCNZraQpZn6UJ7XtpCQQbMQsJs4kIcgNRCrerjQrZBwkKYHsRCerXtQobU1UJQYbxCAdvQQoky1ELqz7dC8NG7QujQ3kJj3c1CoeHNQu9P00IoRtRCjvnmQnlZzUIDOspChPrHQoV20EK5rNxCv1jGQr6p0ELB6ddCwPLyQmi8y0JHFvFCShDQQjOl00ISo9BCqAS5QiTe2kKwOutCcYvJQozkzkLA5NxC8TG8Qq9bsEIgPdBC49e5Qixl9kLPwspC7ljaQpabz0KO29FC4QzQQiWa2ELFd8dCUlfEQr1B50LPgOpCoADlQj+bx0IOuuBC1hvQQrS2ykLhR8ZCtX/VQsFWwUL3uNlCWgTVQh2A0EKZ4s1C9CHqQhJZ4EKQ/OVC3F6/QmAo30JUcM5CJ2TPQkrVy0LOBdZCtkfIQtdS20JAqMJCLsy1Qq88y0LuQ8JCVmrMQoXV5UKcd7lCI7PiQmOQzkJYGsxCRNvVQtoqykLFANhCK33aQsrkykIUVuVC8MLcQuvJykKJN+FCVPrWQtlZ1kKPUbhCDIjGQjvO0kJriOFCNAblQhb00kJ1dNNCZbzLQnpO20IZx9JCFY7oQjGk2kK2b+RCmHa+Qoao3UJJadFCvo29Qpa7wUKV0b5CDjbfQh6Z0kIdHs5C/aPSQm0PwkINT+hCV0DhQsdS2UIQB+hCUWXMQsn50UKbXb1CUN/SQsJG6ULJp7pCFizbQnHb30Laj9dCyZjWQiLyyEIfP9FCMODfQh92yEL+T8NCvIq+Qhwy2ELg7clCdC7TQvOj8kKp1NRCCXXNQuAF0kLDz8ZCH//CQlXH0UKt6r1CxvrdQtyxzEJ88NBCE9blQtBIx0L0zb9CDTLnQjUT2EJOr8RCLSDLQv3exUIKUrtCIp/LQvV830Jx1eNCzBTuQjlI0kLGwK5CYfXWQgiJwEI2FM5CyJTQQpuhy0JI8tBCIre5QsqQ50Ky/NZCwKvSQugWykI6IrRCZOmxQqYF0UIp1NxCq5a5Qi/1z0Ix9thCjCm/QlDS6kKc+NZCZ0/MQlrgy0L8YeFCUzneQlyGv0KIrcZCW5HXQix01EIO2r9Cmiu5QikG0ELts8pCP2rSQu/IyELA67NCE/7eQr0Kt0Lp7MdCfAnCQhn11EJ+me5CGIW8QggWx0IIyr9CyzTkQrqR00KlatdCmWLJQpXQ2UKZENhCFNDHQtShzEK/p+FC2mPSQutY00K3085CxgDgQqhI40IKUedCofjmQq0PzkIUAbpC8J7xQtRQ3ELjAc9CBXXQQk9Nz0It2cdCbza0QiJMukKg+9lCsHTFQvKpwUJG78NCkuvQQldyzkJNrOJCei/dQrSi30LIGNFCu0LNQr1WvEKWsL9C6GvIQpQk2kJjmsRCnWa9Qjl/4kLp6NpCfAW3Qn2rx0KcDcFC9ivJQkrkyEI1AO1CRte8Qi0D00IsYLdCPlHLQhAntkJs7NdCkhrHQqLQtUIAA9NC/M3LQkRO0ELcvNNCjf/NQpIx2EInAsBCdHvXQjaC5kIRbMpCSTW/Ql550EIwzcZC4RHbQpdv5EJo7stCiXLQQpKqyUL4z99CR9HCQs8s0kJoiLtCuJjOQuYl3UKz/dZCxXPYQtdT30LH1tJCyEe8Qvri0kKJat9CUxPJQjONRUKg7U5Cx785QskESUI+/DxC3UdEQtZUVkJgmExCElk9Qu0gSEJOKD9Cw+dHQmJjaUJA+0RCAEBCQvY9OkLOVk5CCMVWQmvRTkK47DpCcpFWQhYAP0IF9ExCTww8QmJZPULorzxCwK1WQkm4O0LTwzpCNSpTQvwNQkJ4GFVCtac5QrcdSUI9SzxCqEBGQijKYEJeCDdCtklXQk5TR0IohEFCKLpNQnKBO0IXWWBCu402QsTSPUJ4e0BCzmnnQs7aykIkG+ZC1PjRQk1HrkKWxsRCeB7OQkFF2UKbdMpCB565QhdR3EJn/NxCd1PoQnqQzEKW2MtCHM3PQkc/zkIN5dFCWQDSQqRBy0KIM9lCfKPeQlYXy0ICec5CZQqxQiUS1UJ8wMRCL5PmQsZ9yEI4OdVCngXYQhG430JNNuRCcC3gQjSqzkKov8pCVxLAQiNKxULJ6ddCGPK6Qjpv0kImb9RC+nfSQjV51kJc48ZC72DQQtbVxEKl2c5C7grFQq7f0EIB/OBCT7nTQnkC1kLnlt1CR/a5Qko42EKDvMVCwe3GQqgv30KUWrhC+nm4Qv8p10JG98NCHMPNQjqf00L7au5C17bOQjIi4ELfJr5CI6vUQng340ITdc9C7tO/QhJpxULYe8ZC6FTbQom11ULgq9RCoKfiQmoa20LFh89CdiPsQhkB1kLgZrtCpw/IQo650kIGwdxCAH/NQvzV10JlQbBCLkjqQmpb1UJC+NxCaLPRQtgSzEJo/u5Ccm3FQmzIx0Liu8tC2Sq2QggTvEJogMRCXR7sQmewz0Is6OBCUg3PQsAC00LpitFCGV69QqJMwkJVhNVCyknRQpea4kKXt9dCv9q4QsKo5EIFtNZCzprvQgphwEK+5tFCy97gQkMSyEKmUdJCnjvHQkem4UKLTdRCVfDxQvH8skI999VCGZDSQnMQ1kIujddC69nUQkQQwELiy8RC0C3UQk/E2UIlRM9C8jzJQkWA20IatLdCaNW0QqduvUK0iOlC2QnZQg6bvkLsAdtCYKK7Qu9Y6UIqe7lCYjfWQufYz0IoespC8vrTQvCJzEL9qtJC+frgQu5r6EIgbfRCIvfQQlyGykLpTMdC0bLQQhpF1UIUBMZCsEXlQrwbwUL4pthC3KHKQpzB40KaZ9RCbq7XQpZG00KQ799Cfwu8Qhgr9UIqNd5C3T3WQhrrr0L5stNCZPm/QiqhyULPhPFC3k33QtDhyUJKuNRCZ2zVQscPz0JXlcNCPA/WQptJ1EItfdJCJ/jMQgWP1ULqScpCkJvqQuN44EKbJtRCUnewQuqFvkLuXHpC+xKSQkGhfkJYzGpCy9yLQgvLg0IqB4lChEyJQlvaaUKejY9Cr4Z5Qqi/a0JEu3JC4LeRQnt3gkI8lplCwAhwQgXwaUKEbG5CTCtpQrd9aULLJY1CugdtQolbb0K73WhCpomGQuSegkL27YJCHOuQQjxud0JKTGZCRmRtQrMsfUKstoVCPbeKQpSba0LetX1Ce1qNQgsFckKfm29CNJ1wQgzrc0JmcGpCJD58Qpski0LCnHNClvlwQteCe0L6cGFCShWUQgJ4e0IZGGtC5SeJQmtDgUL7kYBChuiaQgvojkLTvGlCkGWVQkdCcELs7oBCUPFwQvnwc0Imz2tCaYl5QoXdgULuC4BCqxuHQqEhgkLSGHZCIjCKQmHZbEKNUIdCNDWUQksFikJciGhCdcFwQmTnb0Ku839C/OuDQq38f0JYL4xCgNR7QhPlY0K2Ul9CFCh8QlKLbEI3dXBCX3eAQuU4jkLEaI1C8eSDQkoHgUKK2IFC/s2OQqIQckJCsHhCJLeDQun3c0JKj5BCDK6LQo8MikKJ35VCuLp+QiuYmEKcs31CkfRtQkC+hkIdy3lCFWZ8QjecXUIWk3VCcOCTQk2wkULrZHBCpK+AQkMTiELJImpC8F2CQmIockJqCY1Ch8hqQl9BgkL8xXBCo9SPQjwlgEIsW2lC5LVzQoUmgELM8ohCTgV9QriacUKXEY5CaT95Qj+qjEI=",
            "dtype": "f4"
           },
           "y": {
            "bdata": "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",
            "dtype": "f4"
           },
           "z": {
            "bdata": "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",
            "dtype": "f4"
           }
          },
          {
           "marker": {
            "color": "#636EFA",
            "line": {
             "color": "black",
             "width": 0.5
            },
            "size": 6,
            "symbol": "diamond"
           },
           "mode": "markers+text",
           "name": "Cluster 0",
           "text": [
            "C0"
           ],
           "textposition": "top center",
           "type": "scatter3d",
           "x": {
            "bdata": "80d6Fg==",
            "dtype": "f4"
           },
           "y": {
            "bdata": "EPOdwg==",
            "dtype": "f4"
           },
           "z": {
            "bdata": "XHBUwg==",
            "dtype": "f4"
           }
          },
          {
           "marker": {
            "color": "#EF553B",
            "opacity": 1,
            "size": 4
           },
           "mode": "markers",
           "showlegend": false,
           "type": "scatter3d",
           "x": {
            "bdata": "pgOKQZzZaUHwsxtA8PWsQS+SlEGGH4ZBOK09QSrIv0BNjoBB0GVEQd/dhkG6iz9BSbrEQdgk+EBmJehBHp2uQZYkn0F25s1BVqHCQYQGe0Ha04tBOn3CQXhLzkFibEZBye6YQZavoUGZYLxBQCzWQPXNm0EO0c5Bko3XQbJmOkFowKxBYvLjQQh5X0FmJo1AbGcvQdREqkFelQJBYw6pQeH3ikH2crhBw21TQdRUkkEeu4RBRkCnQSnyrUF0Et5B38ySQeNDZkHggzpBRQlgQW6cpUEkmaZBNzGuQV/hSUHdqQRCfu9vQZoSiEGHFwdCHoAKQQXynEEK0WxBMqbYQCsln0Fe0UdBiNHPQf+sH0ECqYFBazupQRfYIEGgmbtA/uYtQYwxe0FAYktBAC3OQYosekE2/+xBh4yzQWO+iUG6U8hASDvfP1jSRkEUNI9Bmy2vQcYM1UG4G8lBcomPQWcXg0Hx1IpBDGu5QW7OsUH1X4BBFlQpQTx8EUBMYVFBW36NQWtSq0GytM9BlB81Qeg9jEHcDFpBUoCYQX3Gq0ECVZtBmAx7QfsLt0FgPKtB3vmlQZG/eUF6A4ZBXluBQfvzTUHb2pJBOO1aQH9up0FhO41BYOYjv0vHsUHbkWlBFG5YQZlUdEGbJp9BZeECQRq6h0EI68JAJsgkQclVgEGsLhVBigEFQVyvTEB4gIJB6K+pQbmjgkENg4pBq1NMQdTar0DR7rdBKHOnQfoqGkEWuUlBRmjFQXqtHkENIFRBzn2EQeI8X0HX5lNBdSzPQReBOEEk2uhA9gyVQR5PiEHJcrpBC4GHQWmGhkGAVxE/Fz9XQdFvvEElcUZB0N+HP5DA9T+slLNBROMJQXMohkGuSPtAka6aQQo9k0FZMp5B3wmWQZXIwkFAk5o+YuetQfQUO0HQBRRBaH2LPwrufEFArS5BhZRqQff3lkEktCtBEaIpQfopPUFGTmhBl8oTQaUkj0Fp701BQCLGPnEqgUH6tjhBIDyrQevv2kGxJlVBpa+pQbCvtz/gqC5BiPTTQcqYJkHA/o5B55OAQWMsikFF32dCxoduQmadUEJt6D5CD1J2QnEzXUKbWUhC6WBuQpJAW0L+XWlCqrxiQj2pS0IDmGdCYCZXQoOMVUIG5mZCpatgQlqQTUIDGnJCOBNNQq2zXkKyi2VCJupXQvDRZUIXDm9CJQ5SQrVQVUIfOkZCnh1JQoLrVkKzlGFC",
            "dtype": "f4"
           },
           "y": {
            "bdata": "f6Hjwd7K38F7UNvBSWPSwcx8AcI+teHBC7GhwXDldMFm/4rBoHXQwcQhJcKOzAjCXtsOwkopFsL0T8LBbAIGwgX8+sFa/lvB79TiwfKv4MHu2rXBUA8WwstlpMF3x/rB1W3ZwQ546cE4HunB/EspwpLnDMJsVpvBJfXqwUsVCMLBrvfB6Iaxwfhy38Ec6+TBBI3LwQXr3MH3vurB4QHuwcbb8cFQyQLC2OLrwQfIA8KWvDfCbaLDwd+fE8K+5fjB1Gr3wQaez8Gms/rB7h8bwulIc8EG6dbBFikqwg2AdsHQds3BgP/NwSXA4sHeC6HBYKL+wddN+8EIgMbBS3sXwqt6zMEX89DBYTrcwSPzJsLSDZPB5WWOwadjzMFl3snBJAymwVEM4MFW65fBWXP6wT2GB8ISeo3Bmz3bwVww1sEu6KzB5Q3ywdsQBMJVpwbCpMUiwsJ9hMG+SKTBueegwbmyxMEaB/LBSgilwUx3tMH7YdLB7B/lwQcEi8H7gELBCO63wdYMnsHk9abBcsLkwRaKCsLm0cXBgRYNwqx0gMGzib7B8A/gwXDkz8Gq4JDBeQH7weFo38EmJOHBbwXfwQo0ksHwtxvBpPPywYT8mMGZe9nBXHnnwbCBTcEsivDBaIS0wb0yCcL2oZ3B/v34wfij4MEW6fDBm8r5wdS64sHtsQzCJEzYwYbN5sEOmL/Bwz3CwaY918E8BoHBITUQwneUCcK8Fe/BU+z4wa6bpMHWZbzBeoTQwRsmFsJIYo7B13fMweUJAcImBSTBjv3wwRYv48E349LBEiQAwlgV68GrKCTCSMO3wbik3cEEc4zBl5OEwQhrD8LC6M3B3wkHwijmjsHzPsrB91YNwkMVDsL1iRDCtPPewWtVG8LTOt/BEX0FwlbdJcLkbMbBGk8Owk1+FcLDguHB0joQwiMAC8L6E+nBmMQVwU+uK8LW3C3CYJQzwtPhIsJuZhHCACEewkK7GsKCFNjB3Hj5waWJ/MENWeHBnxrPwcibrsE83QHCeAjUwXB1GcK81gzCTziqwYBi/8EjFvLB/7rdwdw9sMEEG5bCHsS4wixZkcJyd4PC1SmwwiXVkMIaJ67Calewws+KqsIsSaHCFW2pwu4Nj8KQKajCQPaUwmVwpcJ+fKPCixOXwhGWksKpfqnCpamkwhJXsMJn/57CqKygwtzjnsJS+KTC9o2jwjqNpMIMDq3CFWWawiwXkMLv3ZDC",
            "dtype": "f4"
           },
           "z": {
            "bdata": "RkoCQohu8EHpY9dBIe69Qetb50HswdlBTVgEQgXFEkJ1kslBb0wCQsWjl0FOk9xBAVIGQqaiFEJC6pJB5JAhQgFD5EGvi+5BkaJ8QZ6D/UGyqAdCy48HQmZsqEFHLQFC8DoRQrvfGkLpGhlCizYNQv6yLUJikydCKrbkQQ9hC0I/Qd9BUHbqQQjEA0LRpDNCTucMQhyDt0FJjwxCNh83QpT78EHSrgpCHT4EQq6Zl0F4KPxBvg3EQdSTwUHI6hpCiHsCQngw7EGgADFCjjIlQjX3FUIov8tBNsryQe4oC0L22bZBPZf/QT8G1kGdZeBB9JQeQuVhCEJm8JxB3ILjQdEx00FITwhCw1IIQjJcqkE1lsdBxig9Qvth8UEj2y5CNLvvQTwJAEIDohNCt6MGQsbO5UH3bbJBzby2QTwg3kGP5MpBs1AsQuCmK0KK+6tBMKn7QTg3J0LyPr1BBTYZQier7EFRwfhBqvJuQaDghEFXOQJCCpuHQUixGkJN8f5BQskVQuVh+kH5NA5CNnY8QpuRFkLM4t5Bwei9QWWwMkL1JR9Cj4j2QZoe80EeJ+JBojUQQu9EBEL75gZCjEoCQvznAkIIysJBUvvEQTZZmkEXgw1CP2wMQm0a+EF1w3tBWM8WQg8EGUKrvhFCLqQHQhnqA0LeMj1CjsvTQVCkA0JSluZBKV8MQtLp5UHi3wxC56n4Qc5z3kFEDeZBKnEEQlGdFkIevvtBaNDFQbI85EH2QS9CYN6OQRomlEFwPBNCxysDQtxckUFP7thBhOqPQW+XN0Ij8ClCnK++QYxgGkIwrJxB7m0NQpr1/EHeDb1BE/8MQmVEGEIx4QFCHOcfQiG2BkIhFXpBPTEmQkPKxEGqgBxCi8IBQpCDiUExAQhCAszcQcABrkHS8R9C/S0YQlhg80EE/x1CbDfiQVIMD0IrNexBPvnkQSocLkLxxuhBCQXlQaHz5UGYtctBKzTwQWptpUF4gr1BtkvcQXCl8EHjqvtB4X7hQSgoH0I51xBCtlo5Qk/0D0LxHiJCau2cQcb+EEJJhBBCdZ34QV8HCkJqagrCbyIvwpCUEsKUek3CRfUews32FsIGcUTCCuIawqtQUMLzRSnC9JQhwm+EIcKebFHCjMJcworGNcLppzzCMepGwuVPOsIL0TbCxWBTwoUaLcIpQCPCbSZXwsJgOMLM9TnC5lg8whUpTMIkUx/Cb2BLwqZwSsIsKx3C",
            "dtype": "f4"
           }
          },
          {
           "marker": {
            "color": "#EF553B",
            "line": {
             "color": "black",
             "width": 0.5
            },
            "size": 6,
            "symbol": "diamond"
           },
           "mode": "markers+text",
           "name": "Cluster 1",
           "text": [
            "C1"
           ],
           "textposition": "top center",
           "type": "scatter3d",
           "x": {
            "bdata": "dEJcQg==",
            "dtype": "f4"
           },
           "y": {
            "bdata": "blCgwg==",
            "dtype": "f4"
           },
           "z": {
            "bdata": "gBI2wg==",
            "dtype": "f4"
           }
          },
          {
           "marker": {
            "color": "#00CC96",
            "opacity": 1,
            "size": 4
           },
           "mode": "markers",
           "showlegend": false,
           "type": "scatter3d",
           "x": {
            "bdata": "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",
            "dtype": "f4"
           },
           "y": {
            "bdata": "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",
            "dtype": "f4"
           },
           "z": {
            "bdata": "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",
            "dtype": "f4"
           }
          },
          {
           "marker": {
            "color": "#00CC96",
            "line": {
             "color": "black",
             "width": 0.5
            },
            "size": 6,
            "symbol": "diamond"
           },
           "mode": "markers+text",
           "name": "Cluster 2",
           "text": [
            "C2"
           ],
           "textposition": "top center",
           "type": "scatter3d",
           "x": {
            "bdata": "yYl9wQ==",
            "dtype": "f4"
           },
           "y": {
            "bdata": "vAIRwg==",
            "dtype": "f4"
           },
           "z": {
            "bdata": "8xS4wg==",
            "dtype": "f4"
           }
          },
          {
           "marker": {
            "color": "#AB63FA",
            "opacity": 1,
            "size": 4
           },
           "mode": "markers",
           "showlegend": false,
           "type": "scatter3d",
           "x": {
            "bdata": "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",
            "dtype": "f4"
           },
           "y": {
            "bdata": "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",
            "dtype": "f4"
           },
           "z": {
            "bdata": "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",
            "dtype": "f4"
           }
          },
          {
           "marker": {
            "color": "#AB63FA",
            "line": {
             "color": "black",
             "width": 0.5
            },
            "size": 6,
            "symbol": "diamond"
           },
           "mode": "markers+text",
           "name": "Cluster 3",
           "text": [
            "C3"
           ],
           "textposition": "top center",
           "type": "scatter3d",
           "x": {
            "bdata": "1Qajvw==",
            "dtype": "f4"
           },
           "y": {
            "bdata": "vEtpQQ==",
            "dtype": "f4"
           },
           "z": {
            "bdata": "UMsswg==",
            "dtype": "f4"
           }
          },
          {
           "marker": {
            "color": "#FFA15A",
            "opacity": 1,
            "size": 4
           },
           "mode": "markers",
           "showlegend": false,
           "type": "scatter3d",
           "x": [],
           "y": [],
           "z": []
          },
          {
           "marker": {
            "color": "#FFA15A",
            "line": {
             "color": "black",
             "width": 0.5
            },
            "size": 6,
            "symbol": "diamond"
           },
           "mode": "markers+text",
           "name": "Cluster 4",
           "text": [
            "C4"
           ],
           "textposition": "top center",
           "type": "scatter3d",
           "x": {
            "bdata": "AAAAAA==",
            "dtype": "f4"
           },
           "y": {
            "bdata": "AAAAAA==",
            "dtype": "f4"
           },
           "z": {
            "bdata": "AAAAAA==",
            "dtype": "f4"
           }
          },
          {
           "marker": {
            "color": "#19D3F3",
            "opacity": 1,
            "size": 4
           },
           "mode": "markers",
           "showlegend": false,
           "type": "scatter3d",
           "x": [],
           "y": [],
           "z": []
          },
          {
           "marker": {
            "color": "#19D3F3",
            "line": {
             "color": "black",
             "width": 0.5
            },
            "size": 6,
            "symbol": "diamond"
           },
           "mode": "markers+text",
           "name": "Cluster 5",
           "text": [
            "C5"
           ],
           "textposition": "top center",
           "type": "scatter3d",
           "x": {
            "bdata": "AAAAAA==",
            "dtype": "f4"
           },
           "y": {
            "bdata": "AAAAAA==",
            "dtype": "f4"
           },
           "z": {
            "bdata": "AAAAAA==",
            "dtype": "f4"
           }
          },
          {
           "marker": {
            "color": "#FF6692",
            "opacity": 1,
            "size": 4
           },
           "mode": "markers",
           "showlegend": false,
           "type": "scatter3d",
           "x": [],
           "y": [],
           "z": []
          },
          {
           "marker": {
            "color": "#FF6692",
            "line": {
             "color": "black",
             "width": 0.5
            },
            "size": 6,
            "symbol": "diamond"
           },
           "mode": "markers+text",
           "name": "Cluster 6",
           "text": [
            "C6"
           ],
           "textposition": "top center",
           "type": "scatter3d",
           "x": {
            "bdata": "AAAAAA==",
            "dtype": "f4"
           },
           "y": {
            "bdata": "AAAAAA==",
            "dtype": "f4"
           },
           "z": {
            "bdata": "AAAAAA==",
            "dtype": "f4"
           }
          },
          {
           "marker": {
            "color": "#B6E880",
            "opacity": 1,
            "size": 4
           },
           "mode": "markers",
           "showlegend": false,
           "type": "scatter3d",
           "x": [],
           "y": [],
           "z": []
          },
          {
           "marker": {
            "color": "#B6E880",
            "line": {
             "color": "black",
             "width": 0.5
            },
            "size": 6,
            "symbol": "diamond"
           },
           "mode": "markers+text",
           "name": "Cluster 7",
           "text": [
            "C7"
           ],
           "textposition": "top center",
           "type": "scatter3d",
           "x": {
            "bdata": "AAAAAA==",
            "dtype": "f4"
           },
           "y": {
            "bdata": "AAAAAA==",
            "dtype": "f4"
           },
           "z": {
            "bdata": "AAAAAA==",
            "dtype": "f4"
           }
          },
          {
           "marker": {
            "color": "#FF97FF",
            "opacity": 1,
            "size": 4
           },
           "mode": "markers",
           "showlegend": false,
           "type": "scatter3d",
           "x": [],
           "y": [],
           "z": []
          },
          {
           "marker": {
            "color": "#FF97FF",
            "line": {
             "color": "black",
             "width": 0.5
            },
            "size": 6,
            "symbol": "diamond"
           },
           "mode": "markers+text",
           "name": "Cluster 8",
           "text": [
            "C8"
           ],
           "textposition": "top center",
           "type": "scatter3d",
           "x": {
            "bdata": "AAAAAA==",
            "dtype": "f4"
           },
           "y": {
            "bdata": "AAAAAA==",
            "dtype": "f4"
           },
           "z": {
            "bdata": "AAAAAA==",
            "dtype": "f4"
           }
          },
          {
           "marker": {
            "color": "#FECB52",
            "opacity": 1,
            "size": 4
           },
           "mode": "markers",
           "showlegend": false,
           "type": "scatter3d",
           "x": [],
           "y": [],
           "z": []
          },
          {
           "marker": {
            "color": "#FECB52",
            "line": {
             "color": "black",
             "width": 0.5
            },
            "size": 6,
            "symbol": "diamond"
           },
           "mode": "markers+text",
           "name": "Cluster 9",
           "text": [
            "C9"
           ],
           "textposition": "top center",
           "type": "scatter3d",
           "x": {
            "bdata": "AAAAAA==",
            "dtype": "f4"
           },
           "y": {
            "bdata": "AAAAAA==",
            "dtype": "f4"
           },
           "z": {
            "bdata": "AAAAAA==",
            "dtype": "f4"
           }
          }
         ],
         "name": "frame0"
        },
        {
         "data": [
          {
           "marker": {
            "color": "#636EFA",
            "opacity": 1,
            "size": 4
           },
           "mode": "markers",
           "showlegend": false,
           "type": "scatter3d",
           "x": {
            "bdata": "RBlXwuF+HMKb/yHC4jw3wrZfTcI=",
            "dtype": "f4"
           },
           "y": {
            "bdata": "mjB/wksvf8KcG3rCLwZpwrSphcI=",
            "dtype": "f4"
           },
           "z": {
            "bdata": "xAFmwsyug8I0THvCqnhmwjxpfcI=",
            "dtype": "f4"
           }
          },
          {
           "marker": {
            "color": "#636EFA",
            "line": {
             "color": "black",
             "width": 0.5
            },
            "size": 6,
            "symbol": "diamond"
           },
           "mode": "markers+text",
           "name": "Cluster 0",
           "text": [
            "C0"
           ],
           "textposition": "top center",
           "type": "scatter3d",
           "x": {
            "bdata": "AACAfw==",
            "dtype": "f4"
           },
           "y": {
            "bdata": "AACA/w==",
            "dtype": "f4"
           },
           "z": {
            "bdata": "AACA/w==",
            "dtype": "f4"
           }
          },
          {
           "marker": {
            "color": "#EF553B",
            "opacity": 1,
            "size": 4
           },
           "mode": "markers",
           "showlegend": false,
           "type": "scatter3d",
           "x": {
            "bdata": "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",
            "dtype": "f4"
           },
           "y": {
            "bdata": "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",
            "dtype": "f4"
           },
           "z": {
            "bdata": "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",
            "dtype": "f4"
           }
          },
          {
           "marker": {
            "color": "#EF553B",
            "line": {
             "color": "black",
             "width": 0.5
            },
            "size": 6,
            "symbol": "diamond"
           },
           "mode": "markers+text",
           "name": "Cluster 1",
           "text": [
            "C1"
           ],
           "textposition": "top center",
           "type": "scatter3d",
           "x": {
            "bdata": "YE5yQg==",
            "dtype": "f4"
           },
           "y": {
            "bdata": "T3+fwg==",
            "dtype": "f4"
           },
           "z": {
            "bdata": "RshTwg==",
            "dtype": "f4"
           }
          },
          {
           "marker": {
            "color": "#00CC96",
            "opacity": 1,
            "size": 4
           },
           "mode": "markers",
           "showlegend": false,
           "type": "scatter3d",
           "x": {
            "bdata": "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",
            "dtype": "f4"
           },
           "y": {
            "bdata": "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",
            "dtype": "f4"
           },
           "z": {
            "bdata": "wwmHwnb8m8I1OafCvgaUwvKFg8KNVo7CGRCQwlqGmsJNzqTC0nGBwoSZhcL3PYXCRDWCwkgrb8JCwY/C8vGgwij2msJgKrTCPKWtwuYbgMJtApTCET6XwodiosJYB4vCN0KmwhpWfsKQ+aXCMeuPwicDcsIMjqLCKxShwn4gaMK02ITCkYuewj3PjsJBHpHCrdKQwte8dMLC5JDCnACtwv1DlcKykJHCN7eMwh1zh8KaIpbCBwqMwtQYkcLjpY3CY7alwhfdosIIDILC35CPwg3/k8IZXZHCEneXwpjaicK3FKzCsSCMwky2fsLjFofC9MR+wtpmjMJ5HJzCpKaAwsSVksLE7KXC19yPwlwOjcJL6I3CEHyawu9RkcK0sLXCaF6Zwkn7jMJsNIjCFkuZwqs3m8K9+4PCjy6Ewpq8p8LwqIjCcS6JwsmMjcJo/qHCHVGKws/6oMJp24fCZ6uXwkmpkMIPMIzCsUmawo5cjcLQsHvC6uWhwuc5hMILcY/CrrWCwmhgrMJViZjC/6hiwv3dmMKQYYLCq5CBwnC9k8LqB2/ClQyTwgaTncI7XKPC/hGhwgE2i8JNMJjCfrORwhOhj8IfTZLChYmNwrVAkMIozI/CfnCVwtxxjMLp8ZHCV4WEws9ogsKLb5PCpyKbwhlQlMIAYajC2SSWwkiLtMKuzYjC6o1/wvCJpsJPGIjCYk+Tws61l8JZOKrC1taAwpogasKhNq/CMnmowkgTlMIbiYTCmeGQwmqWnMJFM5LC27CAwkYqm8JAu6PC/zmEwvqdnMINfI7CkziqwuAFmML4zZDCLiSJwoj6mMIZk2TCO6yEwk0Mk8K3OKHCKV6iwqk8tMLDi4rCVxmUwl9ik8LvCZ/CAR57wpscs8JBlpPCoISWwo8voMJO8qPCxmyMwrFHmsJE/KvC0uSZwse+osJACpvCXh2RwpCNbsIamYzCTyGQwqzHhcImBZLCzHduwonmbsLLQJnCwbKQwmDtlcJZbIvCTtSDwjTFecIUkofC/O6PwrLHosLQsYjCsaeuwmbGv8Lmb8/CbvvjwugH2MJansXCAQO0wkuPysLJi8DC3CDFwnGL1cIGxq3CzPmmwrZcycJcaMbCQzzQwrcJtsIjJNDC9a3ewup/0cI/yNXClPXDwqrBu8JglcvCjenFwsKNxMIjIcDCPfm/woh0vsIa8sHClwbHwlr2vsJYCMbCj9q0wvqtxMKwq7/C4ejFwrmox8K2ZLTCYOzXwsNfwcIs3sHCfzCywphIxMLOqrPC/IXYwr05rMIl7s/CRBLDwsnBwcIaSMvCji6/wu/7z8JEqsXCtVDBwoM+uMIKEcfCtF7Jwlu7wMLAzsPCnDLEwq/c3cK7KcTC0i7AwiMyy8JC+8bCAE7Gwmcqv8JrmcLCR9nEwhDgosLHqNHCvEvEwot4t8L6477CW1zEwrIMuMJWbLvCIae4wp44ycKw1bTCGb3PwnRs1MKQ18XCuEDMwkkR1cJAUMvC97WpwhCorMJmyqTCRIjhwtnrv8K8U9DCo9/KwgDjz8KmhM/C9vq8wv2Qu8J+0MvCHS23woKv1sIWV7vCwVeywihez8Kos8DCo42/wt4CwMIQOszCytPDwvzRusJM4cvCHcTEwtsSt8Ldbr3CZSy3wrmt4sJkc8rCvkHJwiNAu8J5Ks/CFgXCwlwws8K8kcDCkfmuwiDmysLeHcjCXpzTwkwAtsLNr7nCphCswj7KvsLIyMbCsoq8wutHxsLCDKXCoAi2wkaHysLyW8zCgdy/winEr8JUWsnCJtXRwr4upcK9AqrCniTAwiaGw8IL7dDCh43EwtRA08IlaNfCUsTCwiqFwcJKNODCkYPFwm5qyMLOcrTCwQe/wlQAu8KqkqzCA0bGwvedvMK1XMDC+I7NwlQvvsK+BLvCoGG0wsO4tsJ+acDCG8+8wpV0ucK/kMTChZO1wkYV18JJocTC4PKswuAfsMK/G9HCAk62wovAxcJLptnCtKrDwnRtscK/kMjCbx+mwpxyw8LkrqnCZ33gwiLwwcKxo+XCrdrNwm2hu8I+ML/Ci/G6wljHx8J40cbCVXvFwqURzcKN18bCrtLDwiCXyMI=",
            "dtype": "f4"
           }
          },
          {
           "marker": {
            "color": "#00CC96",
            "line": {
             "color": "black",
             "width": 0.5
            },
            "size": 6,
            "symbol": "diamond"
           },
           "mode": "markers+text",
           "name": "Cluster 2",
           "text": [
            "C2"
           ],
           "textposition": "top center",
           "type": "scatter3d",
           "x": {
            "bdata": "zsDMwQ==",
            "dtype": "f4"
           },
           "y": {
            "bdata": "+u3zwQ==",
            "dtype": "f4"
           },
           "z": {
            "bdata": "x7nFwg==",
            "dtype": "f4"
           }
          },
          {
           "marker": {
            "color": "#AB63FA",
            "opacity": 1,
            "size": 4
           },
           "mode": "markers",
           "showlegend": false,
           "type": "scatter3d",
           "x": {
            "bdata": "IJ16wk5kNsKxuAHCqpBawuqbPcKi41jCEBQzwtB2YcLKcVzCHr0UwuKeXsJxE2nCKX9uwgPRUcLPEUTCR7NCwnaBSMJnoWHC6dViwnfeX8IqOSnCQrhRwjY6ScLabkHC5pFPwnlPV8KMyzXCLf1hwkggTsKTNETCB4RfwtlPQsKkxjTCKOVYwrCWVMIVHDvCaptNwqXbMMLTe0jCqsBFwucjQsLqA1TCjT4lwn+BgcLM+QnCSe1awthrXsJkZknCdkM1wqNqE8LsBgTCaSQbwjqcGcJj3DbCvrVmwiYBg8JuShzCqN4pwo3dFsIx4kvCueZCwikiR8KG4ArCadxMwok1UcKazkXCAulewthLGMLqiCHCKfU6wjBsV8JGt0nCr8RRwnI5KsK4NVnCMoQtwo6uRcKTiULCIIEYwvKXTMJqnF3Cl9A4wkAKRcLY1yDCiVBPwpv/Y8LyuEzCbSV+wslARsINK2zCzI9awrMEPMK4uDjCQ1FDwt6XPsL06UrCNkFAwg2CKMKuuDvCqh0nwoA6W8Le9WDCa91FwqIZS8LUMFDC9RYjwoxmS8JCFhDCf6lPwnLIDsIfQVTCVQ87wmUlE8I5OUDCEkAvwheGc8J76EjCils7woDJSsIoI1HCLhdtwkKUScIeC0PC7Z8UwvnsUsLN+yzCNkpXwmLmVMJ9O2DCD5A3wueSGsJnLzrCJuxAwmXVTsL6kEPC2S9GwghqSMIi3SzCWQI7ws80RMIL9DDClJRMwsWgLMIMV0nCD61/wvzJcMKM/WzC3EZuwmhDXsI/Yh/Ctzgzwq1vgcI47jHCCRxOwgpmR8KYuE/C27k+wnTVR8IDHVbCHetTwmYtacL9nGLCIupHwt3aU8I2mknC89pPwoTXN8J10UnCtvMfwu0AXMK/WlnCsIZEwm8GVcKqZyjCbbA5wvx2H8IyWjrCiqAWwhkMWcIBzSDC11FuwuKJLcIhumfC88hLwqFNMsIblj/CIN1Cwq/MXsJnBHzColAzwrhlSsLI0lPCVxk2wh20UMJ+1EHCXniEwliIX8LIp0LC90IIwiAWPsJ04S9CyO0dQnTnI0KWt9BBqm3fQdgNA0L+nCVCM41FQrGvJkLZSxdCtBoZQqDtTkKdQCJCx785QhAWI0IGEb5ByQRJQqiSKEKM9SdCnqvIQUd1B0Jz981BPgzeQXx7AUK5Pw5CZpYSQuwkFkJMx/tBPvw8QgS7KkLdR0RC1lRWQmCYTEJf9iZC/1gRQpv0FkJQ/QJChs8eQkM9JkIFhBxCElk9QiS/7EHtIEhCpWkjQmT8F0KmeBtC40wYQnFuFELbHglCIlUsQno6GkLl/QlClX40QsLDIkLdCjJCTig/QsPnR0JiY2lCGuUjQsaWG0K54CVCbeErQkD7REJJLSVCjSQuQs6XNkIHeSBCabYVQkTzGEIAQEJCGoqwQa9+MULyHARCULrxQfY9OkKqFQJC5I/LQc5WTkIIxVZCa9FOQu+FD0K47DpCQzs2QsMPM0KL1QZCmuYnQlgXKEIWRitCcpFWQpUjEUL+nR1C85MgQhYAP0IF9ExCmD/zQRRtGkLVnhZCW9ECQtX7G0JDAjJCiLQJQn7tGkLkIwJCTww8QmJZPUJAe8hBpgsRQuivPELArVZCSbg7QjL8H0KxFhJCoAEOQox24kHacrhBSibaQVFlEkJs0gJCBATMQXM8GELTwzpCIjMrQqtqEEJVvChC+HbzQQheF0IsEABCJ2oHQpIoF0I1KlNCRBD4QfQOJUJE8P5B/SYSQua1HEL8DUJCBvEfQmQJDULz9SBCWDwMQngYVUK1vx5CsxQgQmXAG0JakCFCJfYOQgIj0EGa4iRCtac5QmpXMEIb3gZCA1UaQhoCv0G3HUlCPUs8QqhARkJZ9CJC5GbBQWHLBULlTAVCQobkQSjKYEJeCDdCqh8oQjjbMkK2SVdCkgcqQsIdHEIhaSlCTlNHQiiEQULNE8NBKLpNQubqIEIy7SVCcoE7QiBLIUI7tTBCvbGlQYSD5EH/5RxCxoTNQXFhBkK7vRtCxAu/QdmeK0I2dhFCxUglQrGtJ0K3QNpBpFIkQlxkJUIXWWBCu402QsTSPUL8FOxBaNkSQsEaKUIYRPRBeHtAQrHEXkBDRZ/AzpqJv4DKijwIHMc/gKCmP4UPTEA8bFPAX6VMQMxthsAoNrdA0hBVv6uxD8FXZvS/hZKDQSzbU8GU7qjA6hk5wXSxjcBdv5jBZk+HQO7eqL/0Be6+OIlqvydHPUA+OrZA5IpDwHoH0kBSuyTBcz0bQO//lsDBmC5A5lcTQWmVJkBhdTLBX9h/QcIxgb8IB+4/3yUiQDjdRsDLx13BANRiwVR28T9JE1hAoj6ovxXHV0DxZhfBmu+zwP6LpcAVDyZA4iK5vyDd+j3ilCrBAKuiPOQy1EDp8La/sRM6wRw1wsDPOmVAdIbNwFMsq8CI5ErA6EIpwMOOE0F1Xi5AWZwFQHiYpkA4R4DBsHF3wSv2AsFslBDB7lIkwNYG/sA1TyPAka5MwdTMskCftWRAoZW9wIoviL/iTIHBJMEEwRz6O8FSUZJADga6wBYIg8HmIg3ACQN4wPUTHsGoM6hA8HN1v2xiAL8BGGLBBCjAP19+R8FmTWzA1uKqP9f4ir+9jQhAPladwZITPsDsmrm+1PwLP2BHd8BCjLLAvz8AwdAqMsDjfpvAwqzMQBpQ6cDmGt8/LBhFv2czd0AIFbXAICqDwUUkXUB+AxTBIxoeQSKmyMBUq0PBx1UewW42DcGpo0NAcVMRwFRyUEFRkgzB4vWOwFiGmcAO41LBx6M7wUiRdL422aBAfgObwBm5q79TPvm/T4AuQYjNtkDhhIRBIifTQJT6acFQWWTAZmvMv/tnOkFpb2jBZB79QG2QWEELMxdB8vYTwAX6UUARAUZAeF+2QNTX3MDZ3lxA4xVzQADOnrtgh9tAcLybwXyOI8AXwUpBUGCbQFx9EMEmIK6/6e0lwbIjhMC0oWvBYpltwF2SicEAh489dAiWwNmLG0BxailBZKS+v/YiVcCs6Ei/yDLewDw+9cDuHwhBkpiCwMUETEBBaZTB5nHFQFmiBsFBYjvBSNrKv735JcFe0aBATUJcQMDMWsGEuHG/gtnSQGgRJcEF/l9A8WhJQHyyHz9uNhNBgy9jwQay70BH9hfB8knKwHvadEBDgCjB",
            "dtype": "f4"
           },
           "y": {
            "bdata": "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",
            "dtype": "f4"
           },
           "z": {
            "bdata": "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",
            "dtype": "f4"
           }
          },
          {
           "marker": {
            "color": "#AB63FA",
            "line": {
             "color": "black",
             "width": 0.5
            },
            "size": 6,
            "symbol": "diamond"
           },
           "mode": "markers+text",
           "name": "Cluster 3",
           "text": [
            "C3"
           ],
           "textposition": "top center",
           "type": "scatter3d",
           "x": {
            "bdata": "mMHlvw==",
            "dtype": "f4"
           },
           "y": {
            "bdata": "v0J2QQ==",
            "dtype": "f4"
           },
           "z": {
            "bdata": "Di0swg==",
            "dtype": "f4"
           }
          },
          {
           "marker": {
            "color": "#FFA15A",
            "opacity": 1,
            "size": 4
           },
           "mode": "markers",
           "showlegend": false,
           "type": "scatter3d",
           "x": {
            "bdata": "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",
            "dtype": "f4"
           },
           "y": {
            "bdata": "4AHtQOKp6kD21QRBZL3PQISyxUCA+d69xBqZQDAB6r/WiPM/uEr7QEactb8wFAZBthWtQM6MlUAjcHJAuz4iQGbkwb/Sis4/kpKXP6KlrkDQFBlBLoupQLUgZ0DiC/M/lhaMQDzRQD+KYdBAKfwYQcngEkEjtOrAt/dbQP+uaEBDgUdAlBBaQQZHD0FPvS9A/baswEnAQUDgz8RA6W8TQQDgk7wWvlRBfj63v1haoD7apb1APENiP17tvUCnSi1BOhKzQNMZLkD8jtJA5wMTQKwpbj89Ih5Bf6Hjwd7K38F7UNvBSWPSwcx8AcI+teHBC7GhwXDldMFm/4rBoHXQwcQhJcKOzAjCXtsOwkopFsL0T8LBbAIGwgX8+sFa/lvB79TiwfKv4MHu2rXBUA8WwstlpMF3x/rB1W3ZwQ546cE4HunB/EspwpLnDMJsVpvBJfXqwUsVCMLBrvfB6Iaxwfhy38Ec6+TBBI3LwQXr3MH3vurB4QHuwcbb8cFQyQLC2OLrwQfIA8KWvDfCbaLDwd+fE8K+5fjB1Gr3wQaez8Gms/rB7h8bwulIc8EG6dbBFikqwg2AdsHQds3BgP/NwSXA4sHeC6HBYKL+wddN+8EIgMbBS3sXwqt6zMEX89DBYTrcwSPzJsLSDZPB5WWOwadjzMFl3snBJAymwVEM4MFW65fBWXP6wT2GB8ISeo3Bmz3bwVww1sEu6KzB5Q3ywdsQBMJVpwbCpMUiwsJ9hMG+SKTBueegwbmyxMEaB/LBSgilwUx3tMH7YdLB7B/lwQcEi8H7gELBCO63wdYMnsHk9abBcsLkwRaKCsLm0cXBgRYNwqx0gMGzib7B8A/gwXDkz8Gq4JDBeQH7weFo38EmJOHBbwXfwQo0ksHwtxvBpPPywYT8mMGZe9nBXHnnwbCBTcEsivDBaIS0wb0yCcL2oZ3B/v34wfij4MEW6fDBm8r5wdS64sHtsQzCJEzYwYbN5sEOmL/Bwz3CwaY918E8BoHBITUQwneUCcK8Fe/BU+z4wa6bpMHWZbzBeoTQwRsmFsJIYo7B13fMweUJAcImBSTBjv3wwRYv48E349LBEiQAwlgV68GrKCTCSMO3wbik3cEEc4zBl5OEwQhrD8LC6M3B3wkHwijmjsHzPsrB91YNwkMVDsL1iRDCtPPewWtVG8LTOt/BEX0FwlbdJcLkbMbBGk8Owk1+FcLDguHB0joQwiMAC8L6E+nBmMQVwU+uK8LW3C3CYJQzwtPhIsJuZhHCACEewkK7GsKCFNjB3Hj5waWJ/MENWeHBnxrPwcibrsE83QHCeAjUwXB1GcK81gzCTziqwYBi/8EjFvLB/7rdwdw9sMGmU4tC8O6iQoWqgUIihINCBoGEQiQ6jUIfjJhC9t6OQhe6h0IRfJBCqT6YQgVwlEKbgYNCftZ5QlKnbUK8u35CE0V1QhJMfULWRYFC1RCDQgtUlkIV/4ZCZ6yCQjblpkJGhJNCePiLQtx0kEKSz1pCsHeIQlJipEK+uIBC14iHQoJOl0I8KKJC9qCCQnPkV0Lqr5xC9GZ5QhRGh0KC+3xCibiHQo/wiELPl4JC7FaPQrNKd0LDBYZCwq6PQsSji0IgO5dCgaWUQsnJXkIm8YxC2biFQi4tbkIs+XJCVCeUQkRCXELVuIlCusJpQpJahkIyno1CBitJQtj+ikItGGJC+ieKQviphUIcwIhC4imCQnZIb0L1c4hCK/SHQv1SiEICTYlCzpOAQvn8kkIJypJC5KJ1Qjpjh0J6yZNCfheDQhlwbELPsqRCmEWaQn8TakKmtUxCKVZ/QgzFpULojoJCua+TQpNCiEKA1npC05uJQi4HiUIq51RCEtyCQrSQiEKXeIlCwEunQoTlhUImooJCqySIQtH1nEKxhH9C9CKIQjt4l0LvVJpCbKuSQnLzk0LaD5BCr9SnQsOkikKTqKBCZh2bQgATkUIkwmxC5NCGQlsqikIrzJNCQi5zQsqbikIpiIFCozOCQg+9iELBqqZCSj9vQqbJnULy4phC13mUQn+5iULar5VChyaIQkINhkJuBpVCD9qVQvkPgkIVGIdC1tqZQiyxa0JW55ZCXHOdQuZrkEI4O45COuh0Qkf1gELbF5xC8Y6WQkO5qEIn82BCZOGVQn3Hi0JSw5hCuVF3QsqugkJW7JBCWnSKQhxvj0KurWFC5vCkQkumfEKYJY9CGuVpQu8Xj0LXq5FCOvGhQiF8kEInEIBCVMaCQidTiUJT34dCNvCUQhfXiULk24dCEceIQmglW0LWQ3tCAm6MQmEncEL7z4VC7oiEQtnKi0I6e5JCAiZzQgTrjUKbGYtC74KcQuunhUK796hCfjeKQrljZULYQHVCLl6GQpjIgkI1e3BC9CCIQiPjmUKIf2xCILdLQkRzkUIQSoZCEQiTQg==",
            "dtype": "f4"
           },
           "z": {
            "bdata": "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",
            "dtype": "f4"
           }
          },
          {
           "marker": {
            "color": "#FFA15A",
            "line": {
             "color": "black",
             "width": 0.5
            },
            "size": 6,
            "symbol": "diamond"
           },
           "mode": "markers+text",
           "name": "Cluster 4",
           "text": [
            "C4"
           ],
           "textposition": "top center",
           "type": "scatter3d",
           "x": {
            "bdata": "AAAAAA==",
            "dtype": "f4"
           },
           "y": {
            "bdata": "AAAAAA==",
            "dtype": "f4"
           },
           "z": {
            "bdata": "AAAAAA==",
            "dtype": "f4"
           }
          },
          {
           "marker": {
            "color": "#19D3F3",
            "opacity": 1,
            "size": 4
           },
           "mode": "markers",
           "showlegend": false,
           "type": "scatter3d",
           "x": [],
           "y": [],
           "z": []
          },
          {
           "marker": {
            "color": "#19D3F3",
            "line": {
             "color": "black",
             "width": 0.5
            },
            "size": 6,
            "symbol": "diamond"
           },
           "mode": "markers+text",
           "name": "Cluster 5",
           "text": [
            "C5"
           ],
           "textposition": "top center",
           "type": "scatter3d",
           "x": {
            "bdata": "AAAAAA==",
            "dtype": "f4"
           },
           "y": {
            "bdata": "AAAAAA==",
            "dtype": "f4"
           },
           "z": {
            "bdata": "AAAAAA==",
            "dtype": "f4"
           }
          },
          {
           "marker": {
            "color": "#FF6692",
            "opacity": 1,
            "size": 4
           },
           "mode": "markers",
           "showlegend": false,
           "type": "scatter3d",
           "x": [],
           "y": [],
           "z": []
          },
          {
           "marker": {
            "color": "#FF6692",
            "line": {
             "color": "black",
             "width": 0.5
            },
            "size": 6,
            "symbol": "diamond"
           },
           "mode": "markers+text",
           "name": "Cluster 6",
           "text": [
            "C6"
           ],
           "textposition": "top center",
           "type": "scatter3d",
           "x": {
            "bdata": "AAAAAA==",
            "dtype": "f4"
           },
           "y": {
            "bdata": "AAAAAA==",
            "dtype": "f4"
           },
           "z": {
            "bdata": "AAAAAA==",
            "dtype": "f4"
           }
          },
          {
           "marker": {
            "color": "#B6E880",
            "opacity": 1,
            "size": 4
           },
           "mode": "markers",
           "showlegend": false,
           "type": "scatter3d",
           "x": [],
           "y": [],
           "z": []
          },
          {
           "marker": {
            "color": "#B6E880",
            "line": {
             "color": "black",
             "width": 0.5
            },
            "size": 6,
            "symbol": "diamond"
           },
           "mode": "markers+text",
           "name": "Cluster 7",
           "text": [
            "C7"
           ],
           "textposition": "top center",
           "type": "scatter3d",
           "x": {
            "bdata": "AAAAAA==",
            "dtype": "f4"
           },
           "y": {
            "bdata": "AAAAAA==",
            "dtype": "f4"
           },
           "z": {
            "bdata": "AAAAAA==",
            "dtype": "f4"
           }
          },
          {
           "marker": {
            "color": "#FF97FF",
            "opacity": 1,
            "size": 4
           },
           "mode": "markers",
           "showlegend": false,
           "type": "scatter3d",
           "x": [],
           "y": [],
           "z": []
          },
          {
           "marker": {
            "color": "#FF97FF",
            "line": {
             "color": "black",
             "width": 0.5
            },
            "size": 6,
            "symbol": "diamond"
           },
           "mode": "markers+text",
           "name": "Cluster 8",
           "text": [
            "C8"
           ],
           "textposition": "top center",
           "type": "scatter3d",
           "x": {
            "bdata": "AAAAAA==",
            "dtype": "f4"
           },
           "y": {
            "bdata": "AAAAAA==",
            "dtype": "f4"
           },
           "z": {
            "bdata": "AAAAAA==",
            "dtype": "f4"
           }
          },
          {
           "marker": {
            "color": "#FECB52",
            "opacity": 1,
            "size": 4
           },
           "mode": "markers",
           "showlegend": false,
           "type": "scatter3d",
           "x": [],
           "y": [],
           "z": []
          },
          {
           "marker": {
            "color": "#FECB52",
            "line": {
             "color": "black",
             "width": 0.5
            },
            "size": 6,
            "symbol": "diamond"
           },
           "mode": "markers+text",
           "name": "Cluster 9",
           "text": [
            "C9"
           ],
           "textposition": "top center",
           "type": "scatter3d",
           "x": {
            "bdata": "AAAAAA==",
            "dtype": "f4"
           },
           "y": {
            "bdata": "AAAAAA==",
            "dtype": "f4"
           },
           "z": {
            "bdata": "AAAAAA==",
            "dtype": "f4"
           }
          }
         ],
         "name": "frame1"
        },
        {
         "data": [
          {
           "marker": {
            "color": "#636EFA",
            "opacity": 1,
            "size": 4
           },
           "mode": "markers",
           "showlegend": false,
           "type": "scatter3d",
           "x": [],
           "y": [],
           "z": []
          },
          {
           "marker": {
            "color": "#636EFA",
            "line": {
             "color": "black",
             "width": 0.5
            },
            "size": 6,
            "symbol": "diamond"
           },
           "mode": "markers+text",
           "name": "Cluster 0",
           "text": [
            "C0"
           ],
           "textposition": "top center",
           "type": "scatter3d",
           "x": {
            "bdata": "AACAfw==",
            "dtype": "f4"
           },
           "y": {
            "bdata": "AACA/w==",
            "dtype": "f4"
           },
           "z": {
            "bdata": "AACA/w==",
            "dtype": "f4"
           }
          },
          {
           "marker": {
            "color": "#EF553B",
            "opacity": 1,
            "size": 4
           },
           "mode": "markers",
           "showlegend": false,
           "type": "scatter3d",
           "x": {
            "bdata": "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",
            "dtype": "f4"
           },
           "y": {
            "bdata": "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",
            "dtype": "f4"
           },
           "z": {
            "bdata": "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",
            "dtype": "f4"
           }
          },
          {
           "marker": {
            "color": "#EF553B",
            "line": {
             "color": "black",
             "width": 0.5
            },
            "size": 6,
            "symbol": "diamond"
           },
           "mode": "markers+text",
           "name": "Cluster 1",
           "text": [
            "C1"
           ],
           "textposition": "top center",
           "type": "scatter3d",
           "x": {
            "bdata": "YE5yQg==",
            "dtype": "f4"
           },
           "y": {
            "bdata": "T3+fwg==",
            "dtype": "f4"
           },
           "z": {
            "bdata": "RshTwg==",
            "dtype": "f4"
           }
          },
          {
           "marker": {
            "color": "#00CC96",
            "opacity": 1,
            "size": 4
           },
           "mode": "markers",
           "showlegend": false,
           "type": "scatter3d",
           "x": {
            "bdata": "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",
            "dtype": "f4"
           },
           "y": {
            "bdata": "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",
            "dtype": "f4"
           },
           "z": {
            "bdata": "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",
            "dtype": "f4"
           }
          },
          {
           "marker": {
            "color": "#00CC96",
            "line": {
             "color": "black",
             "width": 0.5
            },
            "size": 6,
            "symbol": "diamond"
           },
           "mode": "markers+text",
           "name": "Cluster 2",
           "text": [
            "C2"
           ],
           "textposition": "top center",
           "type": "scatter3d",
           "x": {
            "bdata": "zsDMwQ==",
            "dtype": "f4"
           },
           "y": {
            "bdata": "+u3zwQ==",
            "dtype": "f4"
           },
           "z": {
            "bdata": "x7nFwg==",
            "dtype": "f4"
           }
          },
          {
           "marker": {
            "color": "#AB63FA",
            "opacity": 1,
            "size": 4
           },
           "mode": "markers",
           "showlegend": false,
           "type": "scatter3d",
           "x": {
            "bdata": "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",
            "dtype": "f4"
           },
           "y": {
            "bdata": "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",
            "dtype": "f4"
           },
           "z": {
            "bdata": "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",
            "dtype": "f4"
           }
          },
          {
           "marker": {
            "color": "#AB63FA",
            "line": {
             "color": "black",
             "width": 0.5
            },
            "size": 6,
            "symbol": "diamond"
           },
           "mode": "markers+text",
           "name": "Cluster 3",
           "text": [
            "C3"
           ],
           "textposition": "top center",
           "type": "scatter3d",
           "x": {
            "bdata": "mMHlvw==",
            "dtype": "f4"
           },
           "y": {
            "bdata": "v0J2QQ==",
            "dtype": "f4"
           },
           "z": {
            "bdata": "Di0swg==",
            "dtype": "f4"
           }
          },
          {
           "marker": {
            "color": "#FFA15A",
            "opacity": 1,
            "size": 4
           },
           "mode": "markers",
           "showlegend": false,
           "type": "scatter3d",
           "x": {
            "bdata": "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",
            "dtype": "f4"
           },
           "y": {
            "bdata": "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",
            "dtype": "f4"
           },
           "z": {
            "bdata": "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",
            "dtype": "f4"
           }
          },
          {
           "marker": {
            "color": "#FFA15A",
            "line": {
             "color": "black",
             "width": 0.5
            },
            "size": 6,
            "symbol": "diamond"
           },
           "mode": "markers+text",
           "name": "Cluster 4",
           "text": [
            "C4"
           ],
           "textposition": "top center",
           "type": "scatter3d",
           "x": {
            "bdata": "AAAAAA==",
            "dtype": "f4"
           },
           "y": {
            "bdata": "AAAAAA==",
            "dtype": "f4"
           },
           "z": {
            "bdata": "AAAAAA==",
            "dtype": "f4"
           }
          },
          {
           "marker": {
            "color": "#19D3F3",
            "opacity": 1,
            "size": 4
           },
           "mode": "markers",
           "showlegend": false,
           "type": "scatter3d",
           "x": [],
           "y": [],
           "z": []
          },
          {
           "marker": {
            "color": "#19D3F3",
            "line": {
             "color": "black",
             "width": 0.5
            },
            "size": 6,
            "symbol": "diamond"
           },
           "mode": "markers+text",
           "name": "Cluster 5",
           "text": [
            "C5"
           ],
           "textposition": "top center",
           "type": "scatter3d",
           "x": {
            "bdata": "AAAAAA==",
            "dtype": "f4"
           },
           "y": {
            "bdata": "AAAAAA==",
            "dtype": "f4"
           },
           "z": {
            "bdata": "AAAAAA==",
            "dtype": "f4"
           }
          },
          {
           "marker": {
            "color": "#FF6692",
            "opacity": 1,
            "size": 4
           },
           "mode": "markers",
           "showlegend": false,
           "type": "scatter3d",
           "x": [],
           "y": [],
           "z": []
          },
          {
           "marker": {
            "color": "#FF6692",
            "line": {
             "color": "black",
             "width": 0.5
            },
            "size": 6,
            "symbol": "diamond"
           },
           "mode": "markers+text",
           "name": "Cluster 6",
           "text": [
            "C6"
           ],
           "textposition": "top center",
           "type": "scatter3d",
           "x": {
            "bdata": "AAAAAA==",
            "dtype": "f4"
           },
           "y": {
            "bdata": "AAAAAA==",
            "dtype": "f4"
           },
           "z": {
            "bdata": "AAAAAA==",
            "dtype": "f4"
           }
          },
          {
           "marker": {
            "color": "#B6E880",
            "opacity": 1,
            "size": 4
           },
           "mode": "markers",
           "showlegend": false,
           "type": "scatter3d",
           "x": [],
           "y": [],
           "z": []
          },
          {
           "marker": {
            "color": "#B6E880",
            "line": {
             "color": "black",
             "width": 0.5
            },
            "size": 6,
            "symbol": "diamond"
           },
           "mode": "markers+text",
           "name": "Cluster 7",
           "text": [
            "C7"
           ],
           "textposition": "top center",
           "type": "scatter3d",
           "x": {
            "bdata": "AAAAAA==",
            "dtype": "f4"
           },
           "y": {
            "bdata": "AAAAAA==",
            "dtype": "f4"
           },
           "z": {
            "bdata": "AAAAAA==",
            "dtype": "f4"
           }
          },
          {
           "marker": {
            "color": "#FF97FF",
            "opacity": 1,
            "size": 4
           },
           "mode": "markers",
           "showlegend": false,
           "type": "scatter3d",
           "x": [],
           "y": [],
           "z": []
          },
          {
           "marker": {
            "color": "#FF97FF",
            "line": {
             "color": "black",
             "width": 0.5
            },
            "size": 6,
            "symbol": "diamond"
           },
           "mode": "markers+text",
           "name": "Cluster 8",
           "text": [
            "C8"
           ],
           "textposition": "top center",
           "type": "scatter3d",
           "x": {
            "bdata": "AAAAAA==",
            "dtype": "f4"
           },
           "y": {
            "bdata": "AAAAAA==",
            "dtype": "f4"
           },
           "z": {
            "bdata": "AAAAAA==",
            "dtype": "f4"
           }
          },
          {
           "marker": {
            "color": "#FECB52",
            "opacity": 1,
            "size": 4
           },
           "mode": "markers",
           "showlegend": false,
           "type": "scatter3d",
           "x": [],
           "y": [],
           "z": []
          },
          {
           "marker": {
            "color": "#FECB52",
            "line": {
             "color": "black",
             "width": 0.5
            },
            "size": 6,
            "symbol": "diamond"
           },
           "mode": "markers+text",
           "name": "Cluster 9",
           "text": [
            "C9"
           ],
           "textposition": "top center",
           "type": "scatter3d",
           "x": {
            "bdata": "AAAAAA==",
            "dtype": "f4"
           },
           "y": {
            "bdata": "AAAAAA==",
            "dtype": "f4"
           },
           "z": {
            "bdata": "AAAAAA==",
            "dtype": "f4"
           }
          }
         ],
         "name": "frame2"
        }
       ],
       "layout": {
        "margin": {
         "b": 0,
         "l": 0,
         "r": 0,
         "t": 40
        },
        "scene": {
         "bgcolor": "white",
         "xaxis": {
          "title": {
           "text": "UMAP-1"
          }
         },
         "yaxis": {
          "title": {
           "text": "UMAP-2"
          }
         },
         "zaxis": {
          "title": {
           "text": "UMAP-3"
          }
         }
        },
        "sliders": [
         {
          "len": 0.6,
          "steps": [
           {
            "args": [
             [
              "frame0"
             ]
            ],
            "label": "0",
            "method": "animate"
           },
           {
            "args": [
             [
              "frame1"
             ]
            ],
            "label": "1",
            "method": "animate"
           },
           {
            "args": [
             [
              "frame2"
             ]
            ],
            "label": "2",
            "method": "animate"
           }
          ],
          "transition": {
           "duration": 0
          },
          "x": 0.156,
          "y": 0
         }
        ],
        "template": {
         "data": {
          "bar": [
           {
            "error_x": {
             "color": "#2a3f5f"
            },
            "error_y": {
             "color": "#2a3f5f"
            },
            "marker": {
             "line": {
              "color": "#E5ECF6",
              "width": 0.5
             },
             "pattern": {
              "fillmode": "overlay",
              "size": 10,
              "solidity": 0.2
             }
            },
            "type": "bar"
           }
          ],
          "barpolar": [
           {
            "marker": {
             "line": {
              "color": "#E5ECF6",
              "width": 0.5
             },
             "pattern": {
              "fillmode": "overlay",
              "size": 10,
              "solidity": 0.2
             }
            },
            "type": "barpolar"
           }
          ],
          "carpet": [
           {
            "aaxis": {
             "endlinecolor": "#2a3f5f",
             "gridcolor": "white",
             "linecolor": "white",
             "minorgridcolor": "white",
             "startlinecolor": "#2a3f5f"
            },
            "baxis": {
             "endlinecolor": "#2a3f5f",
             "gridcolor": "white",
             "linecolor": "white",
             "minorgridcolor": "white",
             "startlinecolor": "#2a3f5f"
            },
            "type": "carpet"
           }
          ],
          "choropleth": [
           {
            "colorbar": {
             "outlinewidth": 0,
             "ticks": ""
            },
            "type": "choropleth"
           }
          ],
          "contour": [
           {
            "colorbar": {
             "outlinewidth": 0,
             "ticks": ""
            },
            "colorscale": [
             [
              0,
              "#0d0887"
             ],
             [
              0.1111111111111111,
              "#46039f"
             ],
             [
              0.2222222222222222,
              "#7201a8"
             ],
             [
              0.3333333333333333,
              "#9c179e"
             ],
             [
              0.4444444444444444,
              "#bd3786"
             ],
             [
              0.5555555555555556,
              "#d8576b"
             ],
             [
              0.6666666666666666,
              "#ed7953"
             ],
             [
              0.7777777777777778,
              "#fb9f3a"
             ],
             [
              0.8888888888888888,
              "#fdca26"
             ],
             [
              1,
              "#f0f921"
             ]
            ],
            "type": "contour"
           }
          ],
          "contourcarpet": [
           {
            "colorbar": {
             "outlinewidth": 0,
             "ticks": ""
            },
            "type": "contourcarpet"
           }
          ],
          "heatmap": [
           {
            "colorbar": {
             "outlinewidth": 0,
             "ticks": ""
            },
            "colorscale": [
             [
              0,
              "#0d0887"
             ],
             [
              0.1111111111111111,
              "#46039f"
             ],
             [
              0.2222222222222222,
              "#7201a8"
             ],
             [
              0.3333333333333333,
              "#9c179e"
             ],
             [
              0.4444444444444444,
              "#bd3786"
             ],
             [
              0.5555555555555556,
              "#d8576b"
             ],
             [
              0.6666666666666666,
              "#ed7953"
             ],
             [
              0.7777777777777778,
              "#fb9f3a"
             ],
             [
              0.8888888888888888,
              "#fdca26"
             ],
             [
              1,
              "#f0f921"
             ]
            ],
            "type": "heatmap"
           }
          ],
          "histogram": [
           {
            "marker": {
             "pattern": {
              "fillmode": "overlay",
              "size": 10,
              "solidity": 0.2
             }
            },
            "type": "histogram"
           }
          ],
          "histogram2d": [
           {
            "colorbar": {
             "outlinewidth": 0,
             "ticks": ""
            },
            "colorscale": [
             [
              0,
              "#0d0887"
             ],
             [
              0.1111111111111111,
              "#46039f"
             ],
             [
              0.2222222222222222,
              "#7201a8"
             ],
             [
              0.3333333333333333,
              "#9c179e"
             ],
             [
              0.4444444444444444,
              "#bd3786"
             ],
             [
              0.5555555555555556,
              "#d8576b"
             ],
             [
              0.6666666666666666,
              "#ed7953"
             ],
             [
              0.7777777777777778,
              "#fb9f3a"
             ],
             [
              0.8888888888888888,
              "#fdca26"
             ],
             [
              1,
              "#f0f921"
             ]
            ],
            "type": "histogram2d"
           }
          ],
          "histogram2dcontour": [
           {
            "colorbar": {
             "outlinewidth": 0,
             "ticks": ""
            },
            "colorscale": [
             [
              0,
              "#0d0887"
             ],
             [
              0.1111111111111111,
              "#46039f"
             ],
             [
              0.2222222222222222,
              "#7201a8"
             ],
             [
              0.3333333333333333,
              "#9c179e"
             ],
             [
              0.4444444444444444,
              "#bd3786"
             ],
             [
              0.5555555555555556,
              "#d8576b"
             ],
             [
              0.6666666666666666,
              "#ed7953"
             ],
             [
              0.7777777777777778,
              "#fb9f3a"
             ],
             [
              0.8888888888888888,
              "#fdca26"
             ],
             [
              1,
              "#f0f921"
             ]
            ],
            "type": "histogram2dcontour"
           }
          ],
          "mesh3d": [
           {
            "colorbar": {
             "outlinewidth": 0,
             "ticks": ""
            },
            "type": "mesh3d"
           }
          ],
          "parcoords": [
           {
            "line": {
             "colorbar": {
              "outlinewidth": 0,
              "ticks": ""
             }
            },
            "type": "parcoords"
           }
          ],
          "pie": [
           {
            "automargin": true,
            "type": "pie"
           }
          ],
          "scatter": [
           {
            "fillpattern": {
             "fillmode": "overlay",
             "size": 10,
             "solidity": 0.2
            },
            "type": "scatter"
           }
          ],
          "scatter3d": [
           {
            "line": {
             "colorbar": {
              "outlinewidth": 0,
              "ticks": ""
             }
            },
            "marker": {
             "colorbar": {
              "outlinewidth": 0,
              "ticks": ""
             }
            },
            "type": "scatter3d"
           }
          ],
          "scattercarpet": [
           {
            "marker": {
             "colorbar": {
              "outlinewidth": 0,
              "ticks": ""
             }
            },
            "type": "scattercarpet"
           }
          ],
          "scattergeo": [
           {
            "marker": {
             "colorbar": {
              "outlinewidth": 0,
              "ticks": ""
             }
            },
            "type": "scattergeo"
           }
          ],
          "scattergl": [
           {
            "marker": {
             "colorbar": {
              "outlinewidth": 0,
              "ticks": ""
             }
            },
            "type": "scattergl"
           }
          ],
          "scattermap": [
           {
            "marker": {
             "colorbar": {
              "outlinewidth": 0,
              "ticks": ""
             }
            },
            "type": "scattermap"
           }
          ],
          "scattermapbox": [
           {
            "marker": {
             "colorbar": {
              "outlinewidth": 0,
              "ticks": ""
             }
            },
            "type": "scattermapbox"
           }
          ],
          "scatterpolar": [
           {
            "marker": {
             "colorbar": {
              "outlinewidth": 0,
              "ticks": ""
             }
            },
            "type": "scatterpolar"
           }
          ],
          "scatterpolargl": [
           {
            "marker": {
             "colorbar": {
              "outlinewidth": 0,
              "ticks": ""
             }
            },
            "type": "scatterpolargl"
           }
          ],
          "scatterternary": [
           {
            "marker": {
             "colorbar": {
              "outlinewidth": 0,
              "ticks": ""
             }
            },
            "type": "scatterternary"
           }
          ],
          "surface": [
           {
            "colorbar": {
             "outlinewidth": 0,
             "ticks": ""
            },
            "colorscale": [
             [
              0,
              "#0d0887"
             ],
             [
              0.1111111111111111,
              "#46039f"
             ],
             [
              0.2222222222222222,
              "#7201a8"
             ],
             [
              0.3333333333333333,
              "#9c179e"
             ],
             [
              0.4444444444444444,
              "#bd3786"
             ],
             [
              0.5555555555555556,
              "#d8576b"
             ],
             [
              0.6666666666666666,
              "#ed7953"
             ],
             [
              0.7777777777777778,
              "#fb9f3a"
             ],
             [
              0.8888888888888888,
              "#fdca26"
             ],
             [
              1,
              "#f0f921"
             ]
            ],
            "type": "surface"
           }
          ],
          "table": [
           {
            "cells": {
             "fill": {
              "color": "#EBF0F8"
             },
             "line": {
              "color": "white"
             }
            },
            "header": {
             "fill": {
              "color": "#C8D4E3"
             },
             "line": {
              "color": "white"
             }
            },
            "type": "table"
           }
          ]
         },
         "layout": {
          "annotationdefaults": {
           "arrowcolor": "#2a3f5f",
           "arrowhead": 0,
           "arrowwidth": 1
          },
          "autotypenumbers": "strict",
          "coloraxis": {
           "colorbar": {
            "outlinewidth": 0,
            "ticks": ""
           }
          },
          "colorscale": {
           "diverging": [
            [
             0,
             "#8e0152"
            ],
            [
             0.1,
             "#c51b7d"
            ],
            [
             0.2,
             "#de77ae"
            ],
            [
             0.3,
             "#f1b6da"
            ],
            [
             0.4,
             "#fde0ef"
            ],
            [
             0.5,
             "#f7f7f7"
            ],
            [
             0.6,
             "#e6f5d0"
            ],
            [
             0.7,
             "#b8e186"
            ],
            [
             0.8,
             "#7fbc41"
            ],
            [
             0.9,
             "#4d9221"
            ],
            [
             1,
             "#276419"
            ]
           ],
           "sequential": [
            [
             0,
             "#0d0887"
            ],
            [
             0.1111111111111111,
             "#46039f"
            ],
            [
             0.2222222222222222,
             "#7201a8"
            ],
            [
             0.3333333333333333,
             "#9c179e"
            ],
            [
             0.4444444444444444,
             "#bd3786"
            ],
            [
             0.5555555555555556,
             "#d8576b"
            ],
            [
             0.6666666666666666,
             "#ed7953"
            ],
            [
             0.7777777777777778,
             "#fb9f3a"
            ],
            [
             0.8888888888888888,
             "#fdca26"
            ],
            [
             1,
             "#f0f921"
            ]
           ],
           "sequentialminus": [
            [
             0,
             "#0d0887"
            ],
            [
             0.1111111111111111,
             "#46039f"
            ],
            [
             0.2222222222222222,
             "#7201a8"
            ],
            [
             0.3333333333333333,
             "#9c179e"
            ],
            [
             0.4444444444444444,
             "#bd3786"
            ],
            [
             0.5555555555555556,
             "#d8576b"
            ],
            [
             0.6666666666666666,
             "#ed7953"
            ],
            [
             0.7777777777777778,
             "#fb9f3a"
            ],
            [
             0.8888888888888888,
             "#fdca26"
            ],
            [
             1,
             "#f0f921"
            ]
           ]
          },
          "colorway": [
           "#636efa",
           "#EF553B",
           "#00cc96",
           "#ab63fa",
           "#FFA15A",
           "#19d3f3",
           "#FF6692",
           "#B6E880",
           "#FF97FF",
           "#FECB52"
          ],
          "font": {
           "color": "#2a3f5f"
          },
          "geo": {
           "bgcolor": "white",
           "lakecolor": "white",
           "landcolor": "#E5ECF6",
           "showlakes": true,
           "showland": true,
           "subunitcolor": "white"
          },
          "hoverlabel": {
           "align": "left"
          },
          "hovermode": "closest",
          "mapbox": {
           "style": "light"
          },
          "paper_bgcolor": "white",
          "plot_bgcolor": "#E5ECF6",
          "polar": {
           "angularaxis": {
            "gridcolor": "white",
            "linecolor": "white",
            "ticks": ""
           },
           "bgcolor": "#E5ECF6",
           "radialaxis": {
            "gridcolor": "white",
            "linecolor": "white",
            "ticks": ""
           }
          },
          "scene": {
           "xaxis": {
            "backgroundcolor": "#E5ECF6",
            "gridcolor": "white",
            "gridwidth": 2,
            "linecolor": "white",
            "showbackground": true,
            "ticks": "",
            "zerolinecolor": "white"
           },
           "yaxis": {
            "backgroundcolor": "#E5ECF6",
            "gridcolor": "white",
            "gridwidth": 2,
            "linecolor": "white",
            "showbackground": true,
            "ticks": "",
            "zerolinecolor": "white"
           },
           "zaxis": {
            "backgroundcolor": "#E5ECF6",
            "gridcolor": "white",
            "gridwidth": 2,
            "linecolor": "white",
            "showbackground": true,
            "ticks": "",
            "zerolinecolor": "white"
           }
          },
          "shapedefaults": {
           "line": {
            "color": "#2a3f5f"
           }
          },
          "ternary": {
           "aaxis": {
            "gridcolor": "white",
            "linecolor": "white",
            "ticks": ""
           },
           "baxis": {
            "gridcolor": "white",
            "linecolor": "white",
            "ticks": ""
           },
           "bgcolor": "#E5ECF6",
           "caxis": {
            "gridcolor": "white",
            "linecolor": "white",
            "ticks": ""
           }
          },
          "title": {
           "x": 0.05
          },
          "xaxis": {
           "automargin": true,
           "gridcolor": "white",
           "linecolor": "white",
           "ticks": "",
           "title": {
            "standoff": 15
           },
           "zerolinecolor": "white",
           "zerolinewidth": 2
          },
          "yaxis": {
           "automargin": true,
           "gridcolor": "white",
           "linecolor": "white",
           "ticks": "",
           "title": {
            "standoff": 15
           },
           "zerolinecolor": "white",
           "zerolinewidth": 2
          }
         }
        },
        "title": {
         "text": "🌌 UMAP 3D K-Means Iterations"
        },
        "updatemenus": [
         {
          "buttons": [
           {
            "args": [
             null
            ],
            "label": "Play",
            "method": "animate"
           }
          ],
          "showactive": false,
          "type": "buttons"
         }
        ]
       }
      }
     },
     "metadata": {},
     "output_type": "display_data"
    }
   ],
   "source": [
    "# Bernat: any setting <1 will cause sorting order artifacts because of\n",
    "# the rendering engine's static sorting order on transparents.\n",
    "point_opacity = 1\n",
    "\n",
    "colors = px.colors.qualitative.Plotly\n",
    "\n",
    "# Static layout\n",
    "layout = go.Layout(\n",
    "    title=\"🌌 UMAP 3D K-Means Iterations\",\n",
    "    margin=dict(l=0, r=0, b=0, t=40),\n",
    "    scene=dict(\n",
    "        xaxis_title='UMAP-1',\n",
    "        yaxis_title='UMAP-2',\n",
    "        zaxis_title='UMAP-3',\n",
    "        bgcolor='white'\n",
    "    ),\n",
    "    updatemenus=[dict(\n",
    "        type='buttons',\n",
    "        showactive=False,\n",
    "        buttons=[dict(label='Play', method='animate', args=[None])]\n",
    "    )],\n",
    "    sliders=[dict(\n",
    "        steps=[dict(method='animate', args=[[f'frame{k}']], label=str(k)) for k in range(len(iterations))],\n",
    "        transition=dict(duration=0),\n",
    "        x=0.156, y=0, len=0.6\n",
    "    )]\n",
    ")\n",
    "\n",
    "# Initial empty figure\n",
    "fig = go.Figure(layout=layout)\n",
    "\n",
    "# Initial data for frame 0\n",
    "iter0 = iteration_meta[0]\n",
    "cmap = {cid: colors[i % len(colors)] for i, cid in enumerate(np.unique(iter0['centroid_ids']))}\n",
    "\n",
    "for cid in cmap:\n",
    "    mask = iter0['point_cluster_ids'] == cid\n",
    "    fig.add_trace(go.Scatter3d(\n",
    "        x=points_3d_per_iter[0][mask, 0],\n",
    "        y=points_3d_per_iter[0][mask, 1],\n",
    "        z=points_3d_per_iter[0][mask, 2],\n",
    "        mode='markers',\n",
    "        marker=dict(size=4, color=cmap[cid], opacity=point_opacity),\n",
    "        showlegend=False\n",
    "    ))\n",
    "    mask = iter0['centroid_ids'] == cid\n",
    "    fig.add_trace(go.Scatter3d(\n",
    "        x=centroids_3d_per_iter[0][mask, 0],\n",
    "        y=centroids_3d_per_iter[0][mask, 1],\n",
    "        z=centroids_3d_per_iter[0][mask, 2],\n",
    "        mode='markers+text',\n",
    "        marker=dict(size=6, symbol='diamond', color=cmap[cid], line=dict(width=0.5, color='black')),\n",
    "        name=f'Cluster {cid}',\n",
    "        text=[f\"C{cid}\"] * np.sum(mask),\n",
    "        textposition=\"top center\"\n",
    "    ))\n",
    "\n",
    "# Add frames\n",
    "frames = []\n",
    "for k, meta in enumerate(iteration_meta):\n",
    "    frame_data = []\n",
    "    cmap = {cid: colors[i % len(colors)] for i, cid in enumerate(np.unique(meta['centroid_ids']))}\n",
    "\n",
    "    for cid in cmap:\n",
    "        mask_p = meta['point_cluster_ids'] == cid\n",
    "        mask_c = meta['centroid_ids'] == cid\n",
    "\n",
    "        frame_data.append(go.Scatter3d(\n",
    "            x=points_3d_per_iter[k][mask_p, 0],\n",
    "            y=points_3d_per_iter[k][mask_p, 1],\n",
    "            z=points_3d_per_iter[k][mask_p, 2],\n",
    "            mode='markers',\n",
    "            marker=dict(size=4, color=cmap[cid], opacity=point_opacity),\n",
    "            showlegend=False\n",
    "        ))\n",
    "        frame_data.append(go.Scatter3d(\n",
    "            x=centroids_3d_per_iter[k][mask_c, 0],\n",
    "            y=centroids_3d_per_iter[k][mask_c, 1],\n",
    "            z=centroids_3d_per_iter[k][mask_c, 2],\n",
    "            mode='markers+text',\n",
    "            marker=dict(size=6, symbol='diamond', color=cmap[cid], line=dict(width=0.5, color='black')),\n",
    "            name=f'Cluster {cid}',\n",
    "            text=[f\"C{cid}\"] * np.sum(mask_c),\n",
    "            textposition=\"top center\"\n",
    "        ))\n",
    "\n",
    "    frames.append(go.Frame(data=frame_data, name=f\"frame{k}\"))\n",
    "\n",
    "fig.frames = frames\n",
    "fig.show()\n"
   ]
  }
 ],
 "metadata": {
  "kernelspec": {
   "display_name": ".venv",
   "language": "python",
   "name": "python3"
  },
  "language_info": {
   "codemirror_mode": {
    "name": "ipython",
    "version": 3
   },
   "file_extension": ".py",
   "mimetype": "text/x-python",
   "name": "python",
   "nbconvert_exporter": "python",
   "pygments_lexer": "ipython3",
   "version": "3.11.2"
  }
 },
 "nbformat": 4,
 "nbformat_minor": 5
}
