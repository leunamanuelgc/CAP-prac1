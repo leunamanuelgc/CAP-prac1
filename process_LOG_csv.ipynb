{
 "cells": [
  {
   "cell_type": "code",
   "execution_count": 73,
   "id": "bc13bea1",
   "metadata": {
    "slideshow": {
     "slide_type": "fragment"
    }
   },
   "outputs": [],
   "source": [
    "import pandas as pd\n",
    "import numpy as np\n",
    "\n",
    "def remove_outliers(df, column_idx):\n",
    "    Q1 = df.iloc[:,column_idx].quantile(0.25)\n",
    "    Q3 = df.iloc[:,column_idx].quantile(0.75)\n",
    "    IQR = Q3 - Q1\n",
    "    lower = Q1 - 1.5*IQR\n",
    "    upper = Q3 + 1.5*IQR\n",
    "    upper_arr = np.where(df.iloc[:,column_idx] >= upper)[0]\n",
    "    lower_arr = np.where(df.iloc[:,column_idx] <= lower)[0]\n",
    "    try:\n",
    "        df = df.drop(index=upper_arr)\n",
    "    except:\n",
    "        None\n",
    "    try:\n",
    "        df = df.drop(index=lower_arr)\n",
    "    except:\n",
    "        None\n",
    "        \n",
    "    return df\n",
    "\n",
    "def clean_data(df):\n",
    "    # Rename all columns and drop name columns\n",
    "    df = df.rename(columns={df.columns[0]: 'iteration'})\n",
    "    t = df.columns[1]\n",
    "    df = df.drop(t, axis=1)\n",
    "    df = df.rename(columns={df.columns[1]: t})\n",
    "    t = df.columns[2]\n",
    "    df = df.drop(t, axis=1)\n",
    "    df = df.rename(columns={df.columns[2]: t})\n",
    "\n",
    "    # Created column 'misc. T' from formula\n",
    "    df['misc. T'] = df.iloc[:,1]-df.iloc[:,2]\n",
    "\n",
    "    # Drop extreme results (outliers) from total iteration Time column (1)\n",
    "    df = remove_outliers(df, 1)\n",
    "    df = remove_outliers(df, 2)\n",
    "    df = remove_outliers(df, 3)\n",
    "\n",
    "    return df"
   ]
  },
  {
   "cell_type": "code",
   "execution_count": 74,
   "id": "a97e904a",
   "metadata": {},
   "outputs": [
    {
     "data": {
      "application/vnd.microsoft.datawrangler.viewer.v0+json": {
       "columns": [
        {
         "name": "index",
         "rawType": "int64",
         "type": "integer"
        },
        {
         "name": "iteration",
         "rawType": "object",
         "type": "string"
        },
        {
         "name": " it. T",
         "rawType": "float64",
         "type": "float"
        },
        {
         "name": " dist. T",
         "rawType": "float64",
         "type": "float"
        },
        {
         "name": "misc. T",
         "rawType": "float64",
         "type": "float"
        }
       ],
       "conversionMethod": "pd.DataFrame",
       "ref": "15ebb31f-7ef2-4e31-ae5c-1664b869d046",
       "rows": [
        [
         "2",
         "[3]",
         "0.465174",
         "0.133463",
         "0.331711"
        ],
        [
         "3",
         "[4]",
         "0.380041",
         "0.09101",
         "0.28903100000000004"
        ],
        [
         "4",
         "[5]",
         "0.391123",
         "0.098119",
         "0.293004"
        ],
        [
         "5",
         "[6]",
         "0.366473",
         "0.083472",
         "0.283001"
        ],
        [
         "6",
         "[0]",
         "0.34086",
         "0.076367",
         "0.264493"
        ]
       ],
       "shape": {
        "columns": 4,
        "rows": 5
       }
      },
      "text/html": [
       "<div>\n",
       "<style scoped>\n",
       "    .dataframe tbody tr th:only-of-type {\n",
       "        vertical-align: middle;\n",
       "    }\n",
       "\n",
       "    .dataframe tbody tr th {\n",
       "        vertical-align: top;\n",
       "    }\n",
       "\n",
       "    .dataframe thead th {\n",
       "        text-align: right;\n",
       "    }\n",
       "</style>\n",
       "<table border=\"1\" class=\"dataframe\">\n",
       "  <thead>\n",
       "    <tr style=\"text-align: right;\">\n",
       "      <th></th>\n",
       "      <th>iteration</th>\n",
       "      <th>it. T</th>\n",
       "      <th>dist. T</th>\n",
       "      <th>misc. T</th>\n",
       "    </tr>\n",
       "  </thead>\n",
       "  <tbody>\n",
       "    <tr>\n",
       "      <th>2</th>\n",
       "      <td>[3]</td>\n",
       "      <td>0.465174</td>\n",
       "      <td>0.133463</td>\n",
       "      <td>0.331711</td>\n",
       "    </tr>\n",
       "    <tr>\n",
       "      <th>3</th>\n",
       "      <td>[4]</td>\n",
       "      <td>0.380041</td>\n",
       "      <td>0.091010</td>\n",
       "      <td>0.289031</td>\n",
       "    </tr>\n",
       "    <tr>\n",
       "      <th>4</th>\n",
       "      <td>[5]</td>\n",
       "      <td>0.391123</td>\n",
       "      <td>0.098119</td>\n",
       "      <td>0.293004</td>\n",
       "    </tr>\n",
       "    <tr>\n",
       "      <th>5</th>\n",
       "      <td>[6]</td>\n",
       "      <td>0.366473</td>\n",
       "      <td>0.083472</td>\n",
       "      <td>0.283001</td>\n",
       "    </tr>\n",
       "    <tr>\n",
       "      <th>6</th>\n",
       "      <td>[0]</td>\n",
       "      <td>0.340860</td>\n",
       "      <td>0.076367</td>\n",
       "      <td>0.264493</td>\n",
       "    </tr>\n",
       "  </tbody>\n",
       "</table>\n",
       "</div>"
      ],
      "text/plain": [
       "  iteration     it. T   dist. T   misc. T\n",
       "2       [3]  0.465174  0.133463  0.331711\n",
       "3       [4]  0.380041  0.091010  0.289031\n",
       "4       [5]  0.391123  0.098119  0.293004\n",
       "5       [6]  0.366473  0.083472  0.283001\n",
       "6       [0]  0.340860  0.076367  0.264493"
      ]
     },
     "execution_count": 74,
     "metadata": {},
     "output_type": "execute_result"
    }
   ],
   "source": [
    "df = pd.read_csv(r'/home/bernat/Documents/CAP_Practica1/CAP-prac1/old_centroid.csv')\n",
    "\n",
    "df_old_clean = clean_data(df.copy())\n",
    "df_old_clean.head()"
   ]
  },
  {
   "cell_type": "code",
   "execution_count": 75,
   "id": "20bb5d0d",
   "metadata": {},
   "outputs": [
    {
     "data": {
      "application/vnd.microsoft.datawrangler.viewer.v0+json": {
       "columns": [
        {
         "name": "index",
         "rawType": "int64",
         "type": "integer"
        },
        {
         "name": "iteration",
         "rawType": "object",
         "type": "string"
        },
        {
         "name": " iter. T",
         "rawType": "float64",
         "type": "float"
        },
        {
         "name": " dist. T",
         "rawType": "float64",
         "type": "float"
        },
        {
         "name": "misc. T",
         "rawType": "float64",
         "type": "float"
        }
       ],
       "conversionMethod": "pd.DataFrame",
       "ref": "5ed24a1a-7741-433c-a033-8568df93a70b",
       "rows": [
        [
         "4",
         "[5]",
         "0.299003",
         "0.226503",
         "0.07250000000000001"
        ],
        [
         "5",
         "[6]",
         "0.175403",
         "0.118591",
         "0.056812"
        ],
        [
         "6",
         "[7]",
         "0.196325",
         "0.141882",
         "0.05444299999999999"
        ],
        [
         "7",
         "[8]",
         "0.183494",
         "0.135074",
         "0.04841999999999999"
        ],
        [
         "8",
         "[9]",
         "0.183923",
         "0.131778",
         "0.052145"
        ]
       ],
       "shape": {
        "columns": 4,
        "rows": 5
       }
      },
      "text/html": [
       "<div>\n",
       "<style scoped>\n",
       "    .dataframe tbody tr th:only-of-type {\n",
       "        vertical-align: middle;\n",
       "    }\n",
       "\n",
       "    .dataframe tbody tr th {\n",
       "        vertical-align: top;\n",
       "    }\n",
       "\n",
       "    .dataframe thead th {\n",
       "        text-align: right;\n",
       "    }\n",
       "</style>\n",
       "<table border=\"1\" class=\"dataframe\">\n",
       "  <thead>\n",
       "    <tr style=\"text-align: right;\">\n",
       "      <th></th>\n",
       "      <th>iteration</th>\n",
       "      <th>iter. T</th>\n",
       "      <th>dist. T</th>\n",
       "      <th>misc. T</th>\n",
       "    </tr>\n",
       "  </thead>\n",
       "  <tbody>\n",
       "    <tr>\n",
       "      <th>4</th>\n",
       "      <td>[5]</td>\n",
       "      <td>0.299003</td>\n",
       "      <td>0.226503</td>\n",
       "      <td>0.072500</td>\n",
       "    </tr>\n",
       "    <tr>\n",
       "      <th>5</th>\n",
       "      <td>[6]</td>\n",
       "      <td>0.175403</td>\n",
       "      <td>0.118591</td>\n",
       "      <td>0.056812</td>\n",
       "    </tr>\n",
       "    <tr>\n",
       "      <th>6</th>\n",
       "      <td>[7]</td>\n",
       "      <td>0.196325</td>\n",
       "      <td>0.141882</td>\n",
       "      <td>0.054443</td>\n",
       "    </tr>\n",
       "    <tr>\n",
       "      <th>7</th>\n",
       "      <td>[8]</td>\n",
       "      <td>0.183494</td>\n",
       "      <td>0.135074</td>\n",
       "      <td>0.048420</td>\n",
       "    </tr>\n",
       "    <tr>\n",
       "      <th>8</th>\n",
       "      <td>[9]</td>\n",
       "      <td>0.183923</td>\n",
       "      <td>0.131778</td>\n",
       "      <td>0.052145</td>\n",
       "    </tr>\n",
       "  </tbody>\n",
       "</table>\n",
       "</div>"
      ],
      "text/plain": [
       "  iteration   iter. T   dist. T   misc. T\n",
       "4       [5]  0.299003  0.226503  0.072500\n",
       "5       [6]  0.175403  0.118591  0.056812\n",
       "6       [7]  0.196325  0.141882  0.054443\n",
       "7       [8]  0.183494  0.135074  0.048420\n",
       "8       [9]  0.183923  0.131778  0.052145"
      ]
     },
     "execution_count": 75,
     "metadata": {},
     "output_type": "execute_result"
    }
   ],
   "source": [
    "df = pd.read_csv(r'/home/bernat/Documents/CAP_Practica1/CAP-prac1/new_centroid_diff.csv')\n",
    "\n",
    "df_new_clean = clean_data(df.copy())\n",
    "df_new_clean.head()"
   ]
  }
 ],
 "metadata": {
  "kernelspec": {
   "display_name": ".venv",
   "language": "python",
   "name": "python3"
  },
  "language_info": {
   "codemirror_mode": {
    "name": "ipython",
    "version": 3
   },
   "file_extension": ".py",
   "mimetype": "text/x-python",
   "name": "python",
   "nbconvert_exporter": "python",
   "pygments_lexer": "ipython3",
   "version": "3.11.2"
  }
 },
 "nbformat": 4,
 "nbformat_minor": 5
}
