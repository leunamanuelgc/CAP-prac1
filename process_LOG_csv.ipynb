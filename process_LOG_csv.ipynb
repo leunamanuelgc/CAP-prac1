{
 "cells": [
  {
   "cell_type": "code",
   "execution_count": 6,
   "id": "bc13bea1",
   "metadata": {
    "slideshow": {
     "slide_type": "fragment"
    }
   },
   "outputs": [],
   "source": [
    "import pandas as pd\n",
    "import numpy as np\n",
    "\n",
    "def remove_outliers(df, column_idx):\n",
    "    Q1 = df.iloc[:,column_idx].quantile(0.25)\n",
    "    Q3 = df.iloc[:,column_idx].quantile(0.75)\n",
    "    IQR = Q3 - Q1\n",
    "    lower = Q1 - 1.5*IQR\n",
    "    upper = Q3 + 1.5*IQR\n",
    "    upper_arr = np.where(df.iloc[:,column_idx] >= upper)[0]\n",
    "    lower_arr = np.where(df.iloc[:,column_idx] <= lower)[0]\n",
    "    try:\n",
    "        df = df.drop(index=upper_arr)\n",
    "    except:\n",
    "        None\n",
    "    try:\n",
    "        df = df.drop(index=lower_arr)\n",
    "    except:\n",
    "        None\n",
    "        \n",
    "    return df\n",
    "\n",
    "def clean_data(df):\n",
    "    # Rename all columns and drop name columns\n",
    "    df = df.rename(columns={df.columns[0]: 'iteration'})\n",
    "    t = df.columns[1]\n",
    "    df = df.drop(t, axis=1)\n",
    "    df = df.rename(columns={df.columns[1]: t})\n",
    "    t = df.columns[2]\n",
    "    df = df.drop(t, axis=1)\n",
    "    df = df.rename(columns={df.columns[2]: t})\n",
    "\n",
    "    # Created column 'misc. T' from formula\n",
    "    df['misc. T'] = df.iloc[:,1]-df.iloc[:,2]\n",
    "\n",
    "    # Drop extreme results (outliers) from total iteration Time column (1)\n",
    "    df = remove_outliers(df, 1)\n",
    "    df = remove_outliers(df, 2)\n",
    "    df = remove_outliers(df, 3)\n",
    "\n",
    "    return df"
   ]
  },
  {
   "cell_type": "code",
   "execution_count": 7,
   "id": "a97e904a",
   "metadata": {},
   "outputs": [
    {
     "data": {
      "application/vnd.microsoft.datawrangler.viewer.v0+json": {
       "columns": [
        {
         "name": "index",
         "rawType": "int64",
         "type": "integer"
        },
        {
         "name": "iteration",
         "rawType": "object",
         "type": "string"
        },
        {
         "name": " iter. T",
         "rawType": "float64",
         "type": "float"
        },
        {
         "name": " dist. T",
         "rawType": "float64",
         "type": "float"
        },
        {
         "name": "misc. T",
         "rawType": "float64",
         "type": "float"
        }
       ],
       "conversionMethod": "pd.DataFrame",
       "ref": "08a88755-6591-4858-b6f4-99346dda91fa",
       "rows": [
        [
         "0",
         "[1]",
         "0.456057",
         "0.223898",
         "0.23215899999999998"
        ],
        [
         "1",
         "[2]",
         "0.284742",
         "0.151862",
         "0.13288"
        ],
        [
         "2",
         "[3]",
         "0.284841",
         "0.184837",
         "0.10000400000000001"
        ],
        [
         "3",
         "[4]",
         "0.233205",
         "0.149304",
         "0.083901"
        ],
        [
         "4",
         "[5]",
         "0.223748",
         "0.152361",
         "0.071387"
        ]
       ],
       "shape": {
        "columns": 4,
        "rows": 5
       }
      },
      "text/html": [
       "<div>\n",
       "<style scoped>\n",
       "    .dataframe tbody tr th:only-of-type {\n",
       "        vertical-align: middle;\n",
       "    }\n",
       "\n",
       "    .dataframe tbody tr th {\n",
       "        vertical-align: top;\n",
       "    }\n",
       "\n",
       "    .dataframe thead th {\n",
       "        text-align: right;\n",
       "    }\n",
       "</style>\n",
       "<table border=\"1\" class=\"dataframe\">\n",
       "  <thead>\n",
       "    <tr style=\"text-align: right;\">\n",
       "      <th></th>\n",
       "      <th>iteration</th>\n",
       "      <th>iter. T</th>\n",
       "      <th>dist. T</th>\n",
       "      <th>misc. T</th>\n",
       "    </tr>\n",
       "  </thead>\n",
       "  <tbody>\n",
       "    <tr>\n",
       "      <th>0</th>\n",
       "      <td>[1]</td>\n",
       "      <td>0.456057</td>\n",
       "      <td>0.223898</td>\n",
       "      <td>0.232159</td>\n",
       "    </tr>\n",
       "    <tr>\n",
       "      <th>1</th>\n",
       "      <td>[2]</td>\n",
       "      <td>0.284742</td>\n",
       "      <td>0.151862</td>\n",
       "      <td>0.132880</td>\n",
       "    </tr>\n",
       "    <tr>\n",
       "      <th>2</th>\n",
       "      <td>[3]</td>\n",
       "      <td>0.284841</td>\n",
       "      <td>0.184837</td>\n",
       "      <td>0.100004</td>\n",
       "    </tr>\n",
       "    <tr>\n",
       "      <th>3</th>\n",
       "      <td>[4]</td>\n",
       "      <td>0.233205</td>\n",
       "      <td>0.149304</td>\n",
       "      <td>0.083901</td>\n",
       "    </tr>\n",
       "    <tr>\n",
       "      <th>4</th>\n",
       "      <td>[5]</td>\n",
       "      <td>0.223748</td>\n",
       "      <td>0.152361</td>\n",
       "      <td>0.071387</td>\n",
       "    </tr>\n",
       "  </tbody>\n",
       "</table>\n",
       "</div>"
      ],
      "text/plain": [
       "  iteration   iter. T   dist. T   misc. T\n",
       "0       [1]  0.456057  0.223898  0.232159\n",
       "1       [2]  0.284742  0.151862  0.132880\n",
       "2       [3]  0.284841  0.184837  0.100004\n",
       "3       [4]  0.233205  0.149304  0.083901\n",
       "4       [5]  0.223748  0.152361  0.071387"
      ]
     },
     "execution_count": 7,
     "metadata": {},
     "output_type": "execute_result"
    }
   ],
   "source": [
    "df = pd.read_csv(r'/home/bernat/Documents/CAP_Practica1/CAP-prac1/cmakever.csv')\n",
    "\n",
    "df_old_clean = clean_data(df.copy())\n",
    "df_old_clean.head()"
   ]
  },
  {
   "cell_type": "code",
   "execution_count": 8,
   "id": "20bb5d0d",
   "metadata": {},
   "outputs": [
    {
     "data": {
      "application/vnd.microsoft.datawrangler.viewer.v0+json": {
       "columns": [
        {
         "name": "index",
         "rawType": "int64",
         "type": "integer"
        },
        {
         "name": "iteration",
         "rawType": "object",
         "type": "string"
        },
        {
         "name": " iter. T",
         "rawType": "float64",
         "type": "float"
        },
        {
         "name": " dist. T",
         "rawType": "float64",
         "type": "float"
        },
        {
         "name": "misc. T",
         "rawType": "float64",
         "type": "float"
        }
       ],
       "conversionMethod": "pd.DataFrame",
       "ref": "f1dec7e2-d033-4d79-93f2-d51070088e4e",
       "rows": [
        [
         "1",
         "[2]",
         "0.365878",
         "0.221423",
         "0.14445499999999997"
        ],
        [
         "2",
         "[3]",
         "0.278487",
         "0.184509",
         "0.09397799999999998"
        ],
        [
         "3",
         "[4]",
         "0.270798",
         "0.187754",
         "0.08304399999999998"
        ],
        [
         "4",
         "[5]",
         "0.291172",
         "0.206543",
         "0.08462899999999998"
        ],
        [
         "5",
         "[6]",
         "0.237952",
         "0.181913",
         "0.056039000000000005"
        ]
       ],
       "shape": {
        "columns": 4,
        "rows": 5
       }
      },
      "text/html": [
       "<div>\n",
       "<style scoped>\n",
       "    .dataframe tbody tr th:only-of-type {\n",
       "        vertical-align: middle;\n",
       "    }\n",
       "\n",
       "    .dataframe tbody tr th {\n",
       "        vertical-align: top;\n",
       "    }\n",
       "\n",
       "    .dataframe thead th {\n",
       "        text-align: right;\n",
       "    }\n",
       "</style>\n",
       "<table border=\"1\" class=\"dataframe\">\n",
       "  <thead>\n",
       "    <tr style=\"text-align: right;\">\n",
       "      <th></th>\n",
       "      <th>iteration</th>\n",
       "      <th>iter. T</th>\n",
       "      <th>dist. T</th>\n",
       "      <th>misc. T</th>\n",
       "    </tr>\n",
       "  </thead>\n",
       "  <tbody>\n",
       "    <tr>\n",
       "      <th>1</th>\n",
       "      <td>[2]</td>\n",
       "      <td>0.365878</td>\n",
       "      <td>0.221423</td>\n",
       "      <td>0.144455</td>\n",
       "    </tr>\n",
       "    <tr>\n",
       "      <th>2</th>\n",
       "      <td>[3]</td>\n",
       "      <td>0.278487</td>\n",
       "      <td>0.184509</td>\n",
       "      <td>0.093978</td>\n",
       "    </tr>\n",
       "    <tr>\n",
       "      <th>3</th>\n",
       "      <td>[4]</td>\n",
       "      <td>0.270798</td>\n",
       "      <td>0.187754</td>\n",
       "      <td>0.083044</td>\n",
       "    </tr>\n",
       "    <tr>\n",
       "      <th>4</th>\n",
       "      <td>[5]</td>\n",
       "      <td>0.291172</td>\n",
       "      <td>0.206543</td>\n",
       "      <td>0.084629</td>\n",
       "    </tr>\n",
       "    <tr>\n",
       "      <th>5</th>\n",
       "      <td>[6]</td>\n",
       "      <td>0.237952</td>\n",
       "      <td>0.181913</td>\n",
       "      <td>0.056039</td>\n",
       "    </tr>\n",
       "  </tbody>\n",
       "</table>\n",
       "</div>"
      ],
      "text/plain": [
       "  iteration   iter. T   dist. T   misc. T\n",
       "1       [2]  0.365878  0.221423  0.144455\n",
       "2       [3]  0.278487  0.184509  0.093978\n",
       "3       [4]  0.270798  0.187754  0.083044\n",
       "4       [5]  0.291172  0.206543  0.084629\n",
       "5       [6]  0.237952  0.181913  0.056039"
      ]
     },
     "execution_count": 8,
     "metadata": {},
     "output_type": "execute_result"
    }
   ],
   "source": [
    "df = pd.read_csv(r'/home/bernat/Documents/CAP_Practica1/CAP-prac1/cmakever2.csv')\n",
    "\n",
    "df_new_clean = clean_data(df.copy())\n",
    "df_new_clean.head()"
   ]
  }
 ],
 "metadata": {
  "kernelspec": {
   "display_name": ".venv",
   "language": "python",
   "name": "python3"
  },
  "language_info": {
   "codemirror_mode": {
    "name": "ipython",
    "version": 3
   },
   "file_extension": ".py",
   "mimetype": "text/x-python",
   "name": "python",
   "nbconvert_exporter": "python",
   "pygments_lexer": "ipython3",
   "version": "3.11.2"
  }
 },
 "nbformat": 4,
 "nbformat_minor": 5
}
