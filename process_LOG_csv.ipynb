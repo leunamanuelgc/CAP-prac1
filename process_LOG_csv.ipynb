{
 "cells": [
  {
   "cell_type": "code",
   "execution_count": null,
   "id": "bc13bea1",
   "metadata": {},
   "outputs": [
    {
     "data": {
      "application/vnd.microsoft.datawrangler.viewer.v0+json": {
       "columns": [
        {
         "name": "index",
         "rawType": "int64",
         "type": "integer"
        },
        {
         "name": "iteration",
         "rawType": "object",
         "type": "string"
        },
        {
         "name": " it. T",
         "rawType": "float64",
         "type": "float"
        },
        {
         "name": " dist. T",
         "rawType": "float64",
         "type": "float"
        }
       ],
       "conversionMethod": "pd.DataFrame",
       "ref": "5593bd12-ac61-4337-8830-0b9098bae9b3",
       "rows": [
        [
         "0",
         "[1]",
         "1.323021",
         "0.794946"
        ],
        [
         "1",
         "[2]",
         "0.959026",
         "0.552414"
        ],
        [
         "2",
         "[3]",
         "0.465174",
         "0.133463"
        ],
        [
         "3",
         "[4]",
         "0.380041",
         "0.09101"
        ],
        [
         "4",
         "[5]",
         "0.391123",
         "0.098119"
        ]
       ],
       "shape": {
        "columns": 3,
        "rows": 5
       }
      },
      "text/html": [
       "<div>\n",
       "<style scoped>\n",
       "    .dataframe tbody tr th:only-of-type {\n",
       "        vertical-align: middle;\n",
       "    }\n",
       "\n",
       "    .dataframe tbody tr th {\n",
       "        vertical-align: top;\n",
       "    }\n",
       "\n",
       "    .dataframe thead th {\n",
       "        text-align: right;\n",
       "    }\n",
       "</style>\n",
       "<table border=\"1\" class=\"dataframe\">\n",
       "  <thead>\n",
       "    <tr style=\"text-align: right;\">\n",
       "      <th></th>\n",
       "      <th>iteration</th>\n",
       "      <th>it. T</th>\n",
       "      <th>dist. T</th>\n",
       "    </tr>\n",
       "  </thead>\n",
       "  <tbody>\n",
       "    <tr>\n",
       "      <th>0</th>\n",
       "      <td>[1]</td>\n",
       "      <td>1.323021</td>\n",
       "      <td>0.794946</td>\n",
       "    </tr>\n",
       "    <tr>\n",
       "      <th>1</th>\n",
       "      <td>[2]</td>\n",
       "      <td>0.959026</td>\n",
       "      <td>0.552414</td>\n",
       "    </tr>\n",
       "    <tr>\n",
       "      <th>2</th>\n",
       "      <td>[3]</td>\n",
       "      <td>0.465174</td>\n",
       "      <td>0.133463</td>\n",
       "    </tr>\n",
       "    <tr>\n",
       "      <th>3</th>\n",
       "      <td>[4]</td>\n",
       "      <td>0.380041</td>\n",
       "      <td>0.091010</td>\n",
       "    </tr>\n",
       "    <tr>\n",
       "      <th>4</th>\n",
       "      <td>[5]</td>\n",
       "      <td>0.391123</td>\n",
       "      <td>0.098119</td>\n",
       "    </tr>\n",
       "  </tbody>\n",
       "</table>\n",
       "</div>"
      ],
      "text/plain": [
       "  iteration     it. T   dist. T\n",
       "0       [1]  1.323021  0.794946\n",
       "1       [2]  0.959026  0.552414\n",
       "2       [3]  0.465174  0.133463\n",
       "3       [4]  0.380041  0.091010\n",
       "4       [5]  0.391123  0.098119"
      ]
     },
     "execution_count": 12,
     "metadata": {},
     "output_type": "execute_result"
    }
   ],
   "source": [
    "import pandas as pd\n",
    "import numpy as np\n",
    "\n",
    "def clean_data(df):\n",
    "    # Rename all columns and drop name columns\n",
    "    df = df.rename(columns={df.columns[0]: 'iteration'})\n",
    "    t = df.columns[1]\n",
    "    df = df.drop(t, axis=1)\n",
    "    df = df.rename(columns={df.columns[1]: t})\n",
    "    t = df.columns[2]\n",
    "    df = df.drop(t, axis=1)\n",
    "    df = df.rename(columns={df.columns[2]: t})\n",
    "    \n",
    "    # Drop extreme results (outliers) from total iteration Time column (1)\n",
    "    Q1 = df.iloc[:,1].quantile(0.25)\n",
    "    Q3 = df.iloc[:,1].quantile(0.75)\n",
    "    IQR = Q3 - Q1\n",
    "    lower = Q1 - 1.5*IQR\n",
    "    upper = Q3 + 1.5*IQR\n",
    "    upper_arr = np.where(df.iloc[:,1] >= upper)[0]\n",
    "    lower_arr = np.where(df.iloc[:,1] <= lower)[0]\n",
    "    df = df.drop(index=upper_arr)\n",
    "    df = df.drop(index=lower_arr)\n",
    "\n",
    "    # Created column 'misc. T' from formula\n",
    "    df['misc. T'] = df.iloc[:,1]-df.iloc[:,2]\n",
    "\n",
    "    return df\n",
    "\n",
    "# Loaded variable 'df' from URI: /home/bernat/Documents/CAP_Practica1/CAP-prac1/new_centroid_diff.csv\n",
    "df = pd.read_csv(r'/home/bernat/Documents/CAP_Practica1/CAP-prac1/old_centroid.csv')\n",
    "\n",
    "df_clean = clean_data(df.copy())\n",
    "df_clean.head()"
   ]
  }
 ],
 "metadata": {
  "kernelspec": {
   "display_name": ".venv",
   "language": "python",
   "name": "python3"
  },
  "language_info": {
   "codemirror_mode": {
    "name": "ipython",
    "version": 3
   },
   "file_extension": ".py",
   "mimetype": "text/x-python",
   "name": "python",
   "nbconvert_exporter": "python",
   "pygments_lexer": "ipython3",
   "version": "3.11.2"
  }
 },
 "nbformat": 4,
 "nbformat_minor": 5
}
